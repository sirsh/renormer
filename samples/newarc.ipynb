{
 "cells": [
  {
   "cell_type": "code",
   "execution_count": 3,
   "metadata": {},
   "outputs": [],
   "source": [
    "#session types\n",
    "class species(dict):\n",
    "    \"\"\"visual, symbol and propagator styles\"\"\"\n",
    "    def __init__(self, *args, **kwargs):\n",
    "        self.update(*args, **kwargs)\n",
    "            \n",
    "class session(dict):\n",
    "    def __init__(self, *args, **kwargs):\n",
    "        self.update(*args, **kwargs) \n",
    "    @property\n",
    "    def species(self): pass\n",
    "    @property\n",
    "    def graph_factory(self):pass\n",
    "    @property\n",
    "    def symbol_factory(self):pass\n",
    "    @property\n",
    "    def diagram_factory(self):pass\n",
    "    @property\n",
    "    def field_properties(self):pass\n",
    "    def log(self, message, mode=\"INFO\"):pass\n",
    "    \n",
    "class _graph_props(dict):\n",
    "    def __init__(self, *args, **kwargs):\n",
    "        self.update(*args, **kwargs)    \n",
    "    def is_1PI(self):pass\n",
    "    def loops(self):pass\n",
    "    \n",
    "#main wrapper type\n",
    "class graph(object):\n",
    "    def __init__(self, incidence, edge_prop_tensor, session_context=None):  pass\n",
    "    @property\n",
    "    def properties(self):pass\n",
    "    @property\n",
    "    def integral(self):pass\n",
    "    @property\n",
    "    def vertices(self):pass\n",
    "    @property\n",
    "    def residual_tensor(self):pass\n",
    "    @property\n",
    "    def loop_tensor(self):pass\n",
    "    @property\n",
    "    def graph_polynomials(self,return_one=None):pass\n",
    "    @property\n",
    "    def diagram(self):pass\n",
    "    @property\n",
    "    def differential_form(self):pass\n",
    "\n",
    "    def from_vertex_tensor(tensor):pass\n",
    "    \n",
    "    def display(self, mode=None):pass\n",
    "    def _merge_product(self, grade=None):pass\n",
    "    def _graft_product(self):pass\n",
    "    def _coproduct(self):pass\n",
    "    def _antipode(self):pass\n",
    "    def _decomposition(self):pass\n",
    "    \n",
    "    #my hash, my loop hash and my residual hash\n",
    "    \n",
    "#modules types\n",
    "class graph_integral(object):\n",
    "    #propgators and their integrals - forms will have terms such as quasi-mass\n",
    "    def __init__(self):pass\n",
    "    \n",
    "class graph_theory(object):\n",
    "    def __init__(self):pass\n",
    "\n",
    "class graph_algebra(object):\n",
    "    def __init__(self):pass\n",
    "    \n",
    "class graph_viz(object):\n",
    "    def __init__(self):pass\n",
    "    \n",
    "class graph_views(object):\n",
    "    def __init__(self):pass\n",
    "    \n",
    "class combinatorics(object):\n",
    "    def __init__(self):pass\n",
    "    \n",
    "class npx(object):pass\n",
    "\n",
    "class symx(object):pass\n"
   ]
  },
  {
   "cell_type": "code",
   "execution_count": 4,
   "metadata": {
    "collapsed": true
   },
   "outputs": [],
   "source": [
    "#The new graph product\n",
    "#permute dissolution of edges + residual (maybe residual is connected to infinity during permutation)\n",
    "#for any pair, compute symmetric compat. maybe safe to assume the multiplier is primitive or at least merge at residual level\n",
    "#at the incident level i can easily \"promote\" an edge to external residual and i can probably count its symmetries if I used metadata"
   ]
  },
  {
   "cell_type": "code",
   "execution_count": null,
   "metadata": {
    "collapsed": true
   },
   "outputs": [],
   "source": [
    "# The new integral pipeline"
   ]
  },
  {
   "cell_type": "code",
   "execution_count": 5,
   "metadata": {
    "collapsed": true
   },
   "outputs": [],
   "source": [
    "# Coalgebra items"
   ]
  },
  {
   "cell_type": "code",
   "execution_count": null,
   "metadata": {
    "collapsed": true
   },
   "outputs": [],
   "source": [
    "#list of concepts\n",
    "# edge logic "
   ]
  }
 ],
 "metadata": {
  "kernelspec": {
   "display_name": "Python 3",
   "language": "python",
   "name": "python3"
  },
  "language_info": {
   "codemirror_mode": {
    "name": "ipython",
    "version": 3
   },
   "file_extension": ".py",
   "mimetype": "text/x-python",
   "name": "python",
   "nbconvert_exporter": "python",
   "pygments_lexer": "ipython3",
   "version": "3.6.3"
  }
 },
 "nbformat": 4,
 "nbformat_minor": 2
}
