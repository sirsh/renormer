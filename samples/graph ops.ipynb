{
 "cells": [
  {
   "cell_type": "code",
   "execution_count": 1,
   "metadata": {},
   "outputs": [],
   "source": [
    "#show the merge product and its properties &\n",
    "#  possibly a graded partial merge which can product for example tree level and loop level graphs in a set which can then be filtered &&\n",
    "#show the graft product and its properties * (i think graft can only break one bond and then try to connect) - simply promote residuals but require some completely left-right connectivity\n",
    "#show | which undoes the & by splitting out a factor\n",
    "#show / which removes a grafted element and leaves the remainder\n",
    "#show the coproduct // which splits the graph in all possible ways\n",
    "#show the antipode ! of the graph via it's recusive defintion\n",
    "\n",
    "import sys\n",
    "sys.path.insert(0,'../')\n",
    "import rg\n",
    "from rg.diagrams import diagram, composition_diagram, diagram_set\n",
    "from rg.interaction import interaction as J \n",
    "from rg.interaction import interaction_identity\n",
    "from rg.interaction import interaction_system\n",
    "from rg.interaction import composite_interaction as G\n",
    "from rg.theory import ftheory\n",
    "from rg.graphs import composite_interaction_graph as fgraph\n",
    "from rg.propagator import cpropagator, kpropagator\n",
    "\n",
    "import numpy as np\n",
    "from sympy import init_printing\n",
    "init_printing()"
   ]
  },
  {
   "cell_type": "code",
   "execution_count": 28,
   "metadata": {},
   "outputs": [
    {
     "data": {
      "text/html": [
       "<svg xmlns=\"http://www.w3.org/2000/svg\" xmlns:xlink=\"http://www.w3.org/1999/xlink\" version=\"1.1\" x=\"0\" y=\"0\" width=\"240\" height=\"120\">\n",
       "      <g fill=\"none\" stroke=\"black\" stroke-width=\"1.6\" stroke-linecap=\"round\">\n",
       "         <line x1=\"0\" y1=\"0\" x2=\"40\" y2=\"0\" stroke=\"red\" stroke-dasharray=\"None\" stroke-width:2\" transform=\" translate(80,50) rotate(-30.0 0, 0 )\" />  <line x1=\"0\" y1=\"0\" x2=\"40\" y2=\"0\" stroke=\"red\" stroke-dasharray=\"None\" stroke-width:2\" transform=\" translate(80,50) rotate(30.0 0, 0 )\" />  <line x1=\"0\" y1=\"0\" x2=\"40\" y2=\"0\" stroke=\"red\" stroke-dasharray=\"None\" stroke-width:2\" transform=\" translate(80,50) rotate(-180.0 0, 0 )\" /> \n",
       "      </g>\n",
       "      <circle cx=\"80\" cy=\"50\" r=\"2\" stroke=\"black\" stroke-width=\"1\" fill=\"black\" />\n",
       "    </svg>"
      ],
      "text/plain": [
       "<svg xmlns=\"http://www.w3.org/2000/svg\" xmlns:xlink=\"http://www.w3.org/1999/xlink\" version=\"1.1\" x=\"0\" y=\"0\" width=\"240\" height=\"120\">\n",
       "      <g fill=\"none\" stroke=\"black\" stroke-width=\"1.6\" stroke-linecap=\"round\">\n",
       "         <line x1=\"0\" y1=\"0\" x2=\"40\" y2=\"0\" stroke=\"red\" stroke-dasharray=\"None\" stroke-width:2\" transform=\" translate(80,50) rotate(-30.0 0, 0 )\" />  <line x1=\"0\" y1=\"0\" x2=\"40\" y2=\"0\" stroke=\"red\" stroke-dasharray=\"None\" stroke-width:2\" transform=\" translate(80,50) rotate(30.0 0, 0 )\" />  <line x1=\"0\" y1=\"0\" x2=\"40\" y2=\"0\" stroke=\"red\" stroke-dasharray=\"None\" stroke-width:2\" transform=\" translate(80,50) rotate(-180.0 0, 0 )\" /> \n",
       "      </g>\n",
       "      <circle cx=\"80\" cy=\"50\" r=\"2\" stroke=\"black\" stroke-width=\"1\" fill=\"black\" />\n",
       "    </svg>"
      ]
     },
     "execution_count": 28,
     "metadata": {},
     "output_type": "execute_result"
    }
   ],
   "source": [
    "coagulation = J([[2,1],[0,0]])\n",
    "coagulation.diagram"
   ]
  },
  {
   "cell_type": "code",
   "execution_count": 3,
   "metadata": {},
   "outputs": [
    {
     "data": {
      "text/html": [
       "<svg xmlns=\"http://www.w3.org/2000/svg\" xmlns:xlink=\"http://www.w3.org/1999/xlink\" version=\"1.1\" x=\"0\" y=\"0\" width=\"240\" height=\"120\">\n",
       "      <g fill=\"none\" stroke=\"black\" stroke-width=\"1.6\" stroke-linecap=\"round\">\n",
       "         <line x1=\"0\" y1=\"0\" x2=\"40\" y2=\"0\" stroke=\"red\" stroke-dasharray=\"None\" stroke-width:2\" transform=\" translate(80,50) rotate(0.0 0, 0 )\" />  <line x1=\"0\" y1=\"0\" x2=\"40\" y2=\"0\" stroke=\"red\" stroke-dasharray=\"None\" stroke-width:2\" transform=\" translate(80,50) rotate(-210.0 0, 0 )\" />  <line x1=\"0\" y1=\"0\" x2=\"40\" y2=\"0\" stroke=\"red\" stroke-dasharray=\"None\" stroke-width:2\" transform=\" translate(80,50) rotate(-150.0 0, 0 )\" /> \n",
       "      </g>\n",
       "      <circle cx=\"80\" cy=\"50\" r=\"2\" stroke=\"black\" stroke-width=\"1\" fill=\"black\" />\n",
       "    </svg>"
      ],
      "text/plain": [
       "<svg xmlns=\"http://www.w3.org/2000/svg\" xmlns:xlink=\"http://www.w3.org/1999/xlink\" version=\"1.1\" x=\"0\" y=\"0\" width=\"240\" height=\"120\">\n",
       "      <g fill=\"none\" stroke=\"black\" stroke-width=\"1.6\" stroke-linecap=\"round\">\n",
       "         <line x1=\"0\" y1=\"0\" x2=\"40\" y2=\"0\" stroke=\"red\" stroke-dasharray=\"None\" stroke-width:2\" transform=\" translate(80,50) rotate(0.0 0, 0 )\" />  <line x1=\"0\" y1=\"0\" x2=\"40\" y2=\"0\" stroke=\"red\" stroke-dasharray=\"None\" stroke-width:2\" transform=\" translate(80,50) rotate(-210.0 0, 0 )\" />  <line x1=\"0\" y1=\"0\" x2=\"40\" y2=\"0\" stroke=\"red\" stroke-dasharray=\"None\" stroke-width:2\" transform=\" translate(80,50) rotate(-150.0 0, 0 )\" /> \n",
       "      </g>\n",
       "      <circle cx=\"80\" cy=\"50\" r=\"2\" stroke=\"black\" stroke-width=\"1\" fill=\"black\" />\n",
       "    </svg>"
      ]
     },
     "execution_count": 3,
     "metadata": {},
     "output_type": "execute_result"
    }
   ],
   "source": [
    "branching = J([[1,2],[0,0]])\n",
    "branching.diagram"
   ]
  },
  {
   "cell_type": "code",
   "execution_count": 4,
   "metadata": {},
   "outputs": [
    {
     "data": {
      "text/html": [
       "<svg xmlns=\"http://www.w3.org/2000/svg\" xmlns:xlink=\"http://www.w3.org/1999/xlink\" version=\"1.1\" x=\"0\" y=\"0\" width=\"240\" height=\"120\">\n",
       "      <g fill=\"none\" stroke=\"black\" stroke-width=\"1.6\" stroke-linecap=\"round\">\n",
       "         <line x1=\"0\" y1=\"0\" x2=\"40\" y2=\"0\" stroke=\"red\" stroke-dasharray=\"None\" stroke-width:2\" transform=\" translate(80,50) rotate(-30.0 0, 0 )\" />  <line x1=\"0\" y1=\"0\" x2=\"40\" y2=\"0\" stroke=\"red\" stroke-dasharray=\"None\" stroke-width:2\" transform=\" translate(80,50) rotate(30.0 0, 0 )\" />  <line x1=\"0\" y1=\"0\" x2=\"40\" y2=\"0\" stroke=\"red\" stroke-dasharray=\"None\" stroke-width:2\" transform=\" translate(80,50) rotate(-210.0 0, 0 )\" />  <line x1=\"0\" y1=\"0\" x2=\"40\" y2=\"0\" stroke=\"red\" stroke-dasharray=\"None\" stroke-width:2\" transform=\" translate(80,50) rotate(-150.0 0, 0 )\" /> \n",
       "      </g>\n",
       "      <circle cx=\"80\" cy=\"50\" r=\"2\" stroke=\"black\" stroke-width=\"1\" fill=\"black\" />\n",
       "    </svg>"
      ],
      "text/plain": [
       "<svg xmlns=\"http://www.w3.org/2000/svg\" xmlns:xlink=\"http://www.w3.org/1999/xlink\" version=\"1.1\" x=\"0\" y=\"0\" width=\"240\" height=\"120\">\n",
       "      <g fill=\"none\" stroke=\"black\" stroke-width=\"1.6\" stroke-linecap=\"round\">\n",
       "         <line x1=\"0\" y1=\"0\" x2=\"40\" y2=\"0\" stroke=\"red\" stroke-dasharray=\"None\" stroke-width:2\" transform=\" translate(80,50) rotate(-30.0 0, 0 )\" />  <line x1=\"0\" y1=\"0\" x2=\"40\" y2=\"0\" stroke=\"red\" stroke-dasharray=\"None\" stroke-width:2\" transform=\" translate(80,50) rotate(30.0 0, 0 )\" />  <line x1=\"0\" y1=\"0\" x2=\"40\" y2=\"0\" stroke=\"red\" stroke-dasharray=\"None\" stroke-width:2\" transform=\" translate(80,50) rotate(-210.0 0, 0 )\" />  <line x1=\"0\" y1=\"0\" x2=\"40\" y2=\"0\" stroke=\"red\" stroke-dasharray=\"None\" stroke-width:2\" transform=\" translate(80,50) rotate(-150.0 0, 0 )\" /> \n",
       "      </g>\n",
       "      <circle cx=\"80\" cy=\"50\" r=\"2\" stroke=\"black\" stroke-width=\"1\" fill=\"black\" />\n",
       "    </svg>"
      ]
     },
     "execution_count": 4,
     "metadata": {},
     "output_type": "execute_result"
    }
   ],
   "source": [
    "cross = J([[2,2],[0,0]])\n",
    "cross.diagram"
   ]
  },
  {
   "cell_type": "markdown",
   "metadata": {},
   "source": [
    "# Normal Merge\n",
    "In this case, there is one output i.e. the case where we burn through all possible pairings - contrast this with the graded merge"
   ]
  },
  {
   "cell_type": "code",
   "execution_count": 5,
   "metadata": {},
   "outputs": [
    {
     "name": "stdout",
     "output_type": "stream",
     "text": [
      "symmetry factor: 4\n"
     ]
    },
    {
     "data": {
      "text/html": [
       "<svg xmlns=\"http://www.w3.org/2000/svg\" xmlns:xlink=\"http://www.w3.org/1999/xlink\" version=\"1.1\" x=\"0\" y=\"0\" width=\"240\" height=\"120\">\n",
       "      <g fill=\"none\" stroke=\"black\" stroke-width=\"1.6\" stroke-linecap=\"round\">\n",
       "         <line x1=\"0\" y1=\"0\" x2=\"40\" y2=\"0\" stroke=\"red\" stroke-dasharray=\"None\" stroke-width:2\" transform=\" translate(80,50) rotate(0.0 0, 0 )\" />  <line x1=\"0\" y1=\"0\" x2=\"40\" y2=\"0\" stroke=\"red\" stroke-dasharray=\"None\" stroke-width:2\" transform=\" translate(80,50) rotate(-210.0 0, 0 )\" />  <line x1=\"0\" y1=\"0\" x2=\"40\" y2=\"0\" stroke=\"red\" stroke-dasharray=\"None\" stroke-width:2\" transform=\" translate(80,50) rotate(-150.0 0, 0 )\" /> \n",
       "      </g>\n",
       "      <circle cx=\"80\" cy=\"50\" r=\"2\" stroke=\"black\" stroke-width=\"1\" fill=\"black\" />\n",
       "    </svg>"
      ],
      "text/plain": [
       "<svg xmlns=\"http://www.w3.org/2000/svg\" xmlns:xlink=\"http://www.w3.org/1999/xlink\" version=\"1.1\" x=\"0\" y=\"0\" width=\"240\" height=\"120\">\n",
       "      <g fill=\"none\" stroke=\"black\" stroke-width=\"1.6\" stroke-linecap=\"round\">\n",
       "         <line x1=\"0\" y1=\"0\" x2=\"40\" y2=\"0\" stroke=\"red\" stroke-dasharray=\"None\" stroke-width:2\" transform=\" translate(80,50) rotate(0.0 0, 0 )\" />  <line x1=\"0\" y1=\"0\" x2=\"40\" y2=\"0\" stroke=\"red\" stroke-dasharray=\"None\" stroke-width:2\" transform=\" translate(80,50) rotate(-210.0 0, 0 )\" />  <line x1=\"0\" y1=\"0\" x2=\"40\" y2=\"0\" stroke=\"red\" stroke-dasharray=\"None\" stroke-width:2\" transform=\" translate(80,50) rotate(-150.0 0, 0 )\" /> \n",
       "      </g>\n",
       "      <circle cx=\"80\" cy=\"50\" r=\"2\" stroke=\"black\" stroke-width=\"1\" fill=\"black\" />\n",
       "    </svg>"
      ]
     },
     "execution_count": 5,
     "metadata": {},
     "output_type": "execute_result"
    }
   ],
   "source": [
    "(branching&cross).diagram"
   ]
  },
  {
   "cell_type": "code",
   "execution_count": 6,
   "metadata": {},
   "outputs": [
    {
     "data": {
      "text/html": [
       "<svg xmlns=\"http://www.w3.org/2000/svg\" xmlns:xlink=\"http://www.w3.org/1999/xlink\" version=\"1.1\" x=\"0\" y=\"0\" width=\"500\" height=\"120\">\n",
       "      <g fill=\"none\" stroke=\"black\" stroke-width=\"1.6\" stroke-linecap=\"round\"> <circle cx=\"70\" cy=\"50\" r=\"3\" stroke=\"black\" stroke-width=\"1\" fill=\"black\" /> <circle cx=\"20\" cy=\"50\" r=\"3\" stroke=\"black\" stroke-width=\"1\" fill=\"black\" /> <circle cx=\"52\" cy=\"41\" r=\"2\" stroke=\"green\" stroke-width=\"1\" fill='green' /> <circle cx=\"52\" cy=\"59\" r=\"2\" stroke=\"green\" stroke-width=\"1\" fill='green' /> <circle cx=\"88\" cy=\"50\" r=\"2\" stroke=\"green\" stroke-width=\"1\"  /> <circle cx=\"38\" cy=\"41\" r=\"2\" stroke=\"green\" stroke-width=\"1\"  /> <circle cx=\"38\" cy=\"59\" r=\"2\" stroke=\"green\" stroke-width=\"1\"  /> <circle cx=\"2\" cy=\"41\" r=\"2\" stroke=\"green\" stroke-width=\"1\" fill='green' /> <circle cx=\"2\" cy=\"59\" r=\"2\" stroke=\"green\" stroke-width=\"1\" fill='green' /> <line x1=\"52\" y1=\"41\" x2=\"70\" y2=\"50\" stroke=\"green\" stroke-width:2\"  stroke-dasharray='2,2' /><line x1=\"52\" y1=\"41\" x2=\"38\" y2=\"41\" stroke=\"green\" stroke-width:2\"  stroke-dasharray='2,2' /><line x1=\"38\" y1=\"41\" x2=\"20\" y2=\"50\" stroke=\"green\" stroke-width:2\"  stroke-dasharray='2,2' /><line x1=\"52\" y1=\"59\" x2=\"70\" y2=\"50\" stroke=\"green\" stroke-width:2\"  stroke-dasharray='2,2' /><line x1=\"52\" y1=\"59\" x2=\"38\" y2=\"59\" stroke=\"green\" stroke-width:2\"  stroke-dasharray='2,2' /><line x1=\"38\" y1=\"59\" x2=\"20\" y2=\"50\" stroke=\"green\" stroke-width:2\"  stroke-dasharray='2,2' /><line x1=\"88\" y1=\"50\" x2=\"70\" y2=\"50\" stroke=\"green\" stroke-width:2\"   /><line x1=\"2\" y1=\"41\" x2=\"20\" y2=\"50\" stroke=\"green\" stroke-width:2\"   /><line x1=\"2\" y1=\"59\" x2=\"20\" y2=\"50\" stroke=\"green\" stroke-width:2\"   />  </g> </svg>"
      ],
      "text/plain": [
       "<svg xmlns=\"http://www.w3.org/2000/svg\" xmlns:xlink=\"http://www.w3.org/1999/xlink\" version=\"1.1\" x=\"0\" y=\"0\" width=\"500\" height=\"120\">\n",
       "      <g fill=\"none\" stroke=\"black\" stroke-width=\"1.6\" stroke-linecap=\"round\"> <circle cx=\"70\" cy=\"50\" r=\"3\" stroke=\"black\" stroke-width=\"1\" fill=\"black\" /> <circle cx=\"20\" cy=\"50\" r=\"3\" stroke=\"black\" stroke-width=\"1\" fill=\"black\" /> <circle cx=\"52\" cy=\"41\" r=\"2\" stroke=\"green\" stroke-width=\"1\" fill='green' /> <circle cx=\"52\" cy=\"59\" r=\"2\" stroke=\"green\" stroke-width=\"1\" fill='green' /> <circle cx=\"88\" cy=\"50\" r=\"2\" stroke=\"green\" stroke-width=\"1\"  /> <circle cx=\"38\" cy=\"41\" r=\"2\" stroke=\"green\" stroke-width=\"1\"  /> <circle cx=\"38\" cy=\"59\" r=\"2\" stroke=\"green\" stroke-width=\"1\"  /> <circle cx=\"2\" cy=\"41\" r=\"2\" stroke=\"green\" stroke-width=\"1\" fill='green' /> <circle cx=\"2\" cy=\"59\" r=\"2\" stroke=\"green\" stroke-width=\"1\" fill='green' /> <line x1=\"52\" y1=\"41\" x2=\"70\" y2=\"50\" stroke=\"green\" stroke-width:2\"  stroke-dasharray='2,2' /><line x1=\"52\" y1=\"41\" x2=\"38\" y2=\"41\" stroke=\"green\" stroke-width:2\"  stroke-dasharray='2,2' /><line x1=\"38\" y1=\"41\" x2=\"20\" y2=\"50\" stroke=\"green\" stroke-width:2\"  stroke-dasharray='2,2' /><line x1=\"52\" y1=\"59\" x2=\"70\" y2=\"50\" stroke=\"green\" stroke-width:2\"  stroke-dasharray='2,2' /><line x1=\"52\" y1=\"59\" x2=\"38\" y2=\"59\" stroke=\"green\" stroke-width:2\"  stroke-dasharray='2,2' /><line x1=\"38\" y1=\"59\" x2=\"20\" y2=\"50\" stroke=\"green\" stroke-width:2\"  stroke-dasharray='2,2' /><line x1=\"88\" y1=\"50\" x2=\"70\" y2=\"50\" stroke=\"green\" stroke-width:2\"   /><line x1=\"2\" y1=\"41\" x2=\"20\" y2=\"50\" stroke=\"green\" stroke-width:2\"   /><line x1=\"2\" y1=\"59\" x2=\"20\" y2=\"50\" stroke=\"green\" stroke-width:2\"   />  </g> </svg>"
      ]
     },
     "execution_count": 6,
     "metadata": {},
     "output_type": "execute_result"
    }
   ],
   "source": [
    "#normal merge will always pair up everything\n",
    "G(branching)*(G(cross))"
   ]
  },
  {
   "cell_type": "markdown",
   "metadata": {},
   "source": [
    "# Graded Merge"
   ]
  },
  {
   "cell_type": "code",
   "execution_count": 7,
   "metadata": {},
   "outputs": [
    {
     "data": {
      "text/html": [
       "<svg xmlns=\"http://www.w3.org/2000/svg\" xmlns:xlink=\"http://www.w3.org/1999/xlink\" version=\"1.1\" x=\"0\" y=\"0\" width=\"500\" height=\"130\">['<svg xmlns=\"http://www.w3.org/2000/svg\" xmlns:xlink=\"http://www.w3.org/1999/xlink\" version=\"1.1\" x=\"0\" y=\"0\" width=\"500\" height=\"120\">\\n      <g fill=\"none\" stroke=\"black\" stroke-width=\"1.6\" stroke-linecap=\"round\"> <circle cx=\"70\" cy=\"50\" r=\"3\" stroke=\"black\" stroke-width=\"1\" fill=\"black\" /> <circle cx=\"20\" cy=\"50\" r=\"3\" stroke=\"black\" stroke-width=\"1\" fill=\"black\" /> <circle cx=\"52\" cy=\"41\" r=\"2\" stroke=\"green\" stroke-width=\"1\" fill=\\'green\\' /> <circle cx=\"52\" cy=\"59\" r=\"2\" stroke=\"green\" stroke-width=\"1\" fill=\\'green\\' /> <circle cx=\"88\" cy=\"50\" r=\"2\" stroke=\"green\" stroke-width=\"1\"  /> <circle cx=\"38\" cy=\"41\" r=\"2\" stroke=\"green\" stroke-width=\"1\"  /> <circle cx=\"38\" cy=\"59\" r=\"2\" stroke=\"green\" stroke-width=\"1\"  /> <circle cx=\"2\" cy=\"41\" r=\"2\" stroke=\"green\" stroke-width=\"1\" fill=\\'green\\' /> <circle cx=\"2\" cy=\"59\" r=\"2\" stroke=\"green\" stroke-width=\"1\" fill=\\'green\\' /> <line x1=\"52\" y1=\"41\" x2=\"70\" y2=\"50\" stroke=\"green\" stroke-width:2\"  stroke-dasharray=\\'2,2\\' /><line x1=\"52\" y1=\"41\" x2=\"38\" y2=\"41\" stroke=\"green\" stroke-width:2\"  stroke-dasharray=\\'2,2\\' /><line x1=\"38\" y1=\"41\" x2=\"20\" y2=\"50\" stroke=\"green\" stroke-width:2\"  stroke-dasharray=\\'2,2\\' /><line x1=\"52\" y1=\"59\" x2=\"70\" y2=\"50\" stroke=\"green\" stroke-width:2\"  stroke-dasharray=\\'2,2\\' /><line x1=\"52\" y1=\"59\" x2=\"38\" y2=\"59\" stroke=\"green\" stroke-width:2\"  stroke-dasharray=\\'2,2\\' /><line x1=\"38\" y1=\"59\" x2=\"20\" y2=\"50\" stroke=\"green\" stroke-width:2\"  stroke-dasharray=\\'2,2\\' /><line x1=\"88\" y1=\"50\" x2=\"70\" y2=\"50\" stroke=\"green\" stroke-width:2\"   /><line x1=\"2\" y1=\"41\" x2=\"20\" y2=\"50\" stroke=\"green\" stroke-width:2\"   /><line x1=\"2\" y1=\"59\" x2=\"20\" y2=\"50\" stroke=\"green\" stroke-width:2\"   />  </g> </svg>', '<svg xmlns=\"http://www.w3.org/2000/svg\" xmlns:xlink=\"http://www.w3.org/1999/xlink\" version=\"1.1\" x=\"0\" y=\"40\" width=\"500\" height=\"120\">\\n      <g fill=\"none\" stroke=\"black\" stroke-width=\"1.6\" stroke-linecap=\"round\"> <circle cx=\"70\" cy=\"50\" r=\"3\" stroke=\"black\" stroke-width=\"1\" fill=\"black\" /> <circle cx=\"20\" cy=\"50\" r=\"3\" stroke=\"black\" stroke-width=\"1\" fill=\"black\" /> <circle cx=\"52\" cy=\"41\" r=\"2\" stroke=\"green\" stroke-width=\"1\" fill=\\'green\\' /> <circle cx=\"52\" cy=\"59\" r=\"2\" stroke=\"green\" stroke-width=\"1\" fill=\\'green\\' /> <circle cx=\"88\" cy=\"50\" r=\"2\" stroke=\"green\" stroke-width=\"1\"  /> <circle cx=\"38\" cy=\"41\" r=\"2\" stroke=\"green\" stroke-width=\"1\"  /> <circle cx=\"2\" cy=\"41\" r=\"2\" stroke=\"green\" stroke-width=\"1\" fill=\\'green\\' /> <circle cx=\"2\" cy=\"59\" r=\"2\" stroke=\"green\" stroke-width=\"1\" fill=\\'green\\' /> <circle cx=\"38\" cy=\"59\" r=\"2\" stroke=\"green\" stroke-width=\"1\"  /> <line x1=\"52\" y1=\"41\" x2=\"70\" y2=\"50\" stroke=\"green\" stroke-width:2\"  stroke-dasharray=\\'2,2\\' /><line x1=\"52\" y1=\"41\" x2=\"38\" y2=\"41\" stroke=\"green\" stroke-width:2\"  stroke-dasharray=\\'2,2\\' /><line x1=\"38\" y1=\"41\" x2=\"20\" y2=\"50\" stroke=\"green\" stroke-width:2\"  stroke-dasharray=\\'2,2\\' /><line x1=\"52\" y1=\"59\" x2=\"70\" y2=\"50\" stroke=\"green\" stroke-width:2\"   /><line x1=\"88\" y1=\"50\" x2=\"70\" y2=\"50\" stroke=\"green\" stroke-width:2\"   /><line x1=\"2\" y1=\"41\" x2=\"20\" y2=\"50\" stroke=\"green\" stroke-width:2\"   /><line x1=\"2\" y1=\"59\" x2=\"20\" y2=\"50\" stroke=\"green\" stroke-width:2\"   /><line x1=\"38\" y1=\"59\" x2=\"20\" y2=\"50\" stroke=\"green\" stroke-width:2\"   />  </g> </svg>']</svg>"
      ],
      "text/plain": [
       "<svg xmlns=\"http://www.w3.org/2000/svg\" xmlns:xlink=\"http://www.w3.org/1999/xlink\" version=\"1.1\" x=\"0\" y=\"0\" width=\"500\" height=\"130\">['<svg xmlns=\"http://www.w3.org/2000/svg\" xmlns:xlink=\"http://www.w3.org/1999/xlink\" version=\"1.1\" x=\"0\" y=\"0\" width=\"500\" height=\"120\">\\n      <g fill=\"none\" stroke=\"black\" stroke-width=\"1.6\" stroke-linecap=\"round\"> <circle cx=\"70\" cy=\"50\" r=\"3\" stroke=\"black\" stroke-width=\"1\" fill=\"black\" /> <circle cx=\"20\" cy=\"50\" r=\"3\" stroke=\"black\" stroke-width=\"1\" fill=\"black\" /> <circle cx=\"52\" cy=\"41\" r=\"2\" stroke=\"green\" stroke-width=\"1\" fill=\\'green\\' /> <circle cx=\"52\" cy=\"59\" r=\"2\" stroke=\"green\" stroke-width=\"1\" fill=\\'green\\' /> <circle cx=\"88\" cy=\"50\" r=\"2\" stroke=\"green\" stroke-width=\"1\"  /> <circle cx=\"38\" cy=\"41\" r=\"2\" stroke=\"green\" stroke-width=\"1\"  /> <circle cx=\"38\" cy=\"59\" r=\"2\" stroke=\"green\" stroke-width=\"1\"  /> <circle cx=\"2\" cy=\"41\" r=\"2\" stroke=\"green\" stroke-width=\"1\" fill=\\'green\\' /> <circle cx=\"2\" cy=\"59\" r=\"2\" stroke=\"green\" stroke-width=\"1\" fill=\\'green\\' /> <line x1=\"52\" y1=\"41\" x2=\"70\" y2=\"50\" stroke=\"green\" stroke-width:2\"  stroke-dasharray=\\'2,2\\' /><line x1=\"52\" y1=\"41\" x2=\"38\" y2=\"41\" stroke=\"green\" stroke-width:2\"  stroke-dasharray=\\'2,2\\' /><line x1=\"38\" y1=\"41\" x2=\"20\" y2=\"50\" stroke=\"green\" stroke-width:2\"  stroke-dasharray=\\'2,2\\' /><line x1=\"52\" y1=\"59\" x2=\"70\" y2=\"50\" stroke=\"green\" stroke-width:2\"  stroke-dasharray=\\'2,2\\' /><line x1=\"52\" y1=\"59\" x2=\"38\" y2=\"59\" stroke=\"green\" stroke-width:2\"  stroke-dasharray=\\'2,2\\' /><line x1=\"38\" y1=\"59\" x2=\"20\" y2=\"50\" stroke=\"green\" stroke-width:2\"  stroke-dasharray=\\'2,2\\' /><line x1=\"88\" y1=\"50\" x2=\"70\" y2=\"50\" stroke=\"green\" stroke-width:2\"   /><line x1=\"2\" y1=\"41\" x2=\"20\" y2=\"50\" stroke=\"green\" stroke-width:2\"   /><line x1=\"2\" y1=\"59\" x2=\"20\" y2=\"50\" stroke=\"green\" stroke-width:2\"   />  </g> </svg>', '<svg xmlns=\"http://www.w3.org/2000/svg\" xmlns:xlink=\"http://www.w3.org/1999/xlink\" version=\"1.1\" x=\"0\" y=\"40\" width=\"500\" height=\"120\">\\n      <g fill=\"none\" stroke=\"black\" stroke-width=\"1.6\" stroke-linecap=\"round\"> <circle cx=\"70\" cy=\"50\" r=\"3\" stroke=\"black\" stroke-width=\"1\" fill=\"black\" /> <circle cx=\"20\" cy=\"50\" r=\"3\" stroke=\"black\" stroke-width=\"1\" fill=\"black\" /> <circle cx=\"52\" cy=\"41\" r=\"2\" stroke=\"green\" stroke-width=\"1\" fill=\\'green\\' /> <circle cx=\"52\" cy=\"59\" r=\"2\" stroke=\"green\" stroke-width=\"1\" fill=\\'green\\' /> <circle cx=\"88\" cy=\"50\" r=\"2\" stroke=\"green\" stroke-width=\"1\"  /> <circle cx=\"38\" cy=\"41\" r=\"2\" stroke=\"green\" stroke-width=\"1\"  /> <circle cx=\"2\" cy=\"41\" r=\"2\" stroke=\"green\" stroke-width=\"1\" fill=\\'green\\' /> <circle cx=\"2\" cy=\"59\" r=\"2\" stroke=\"green\" stroke-width=\"1\" fill=\\'green\\' /> <circle cx=\"38\" cy=\"59\" r=\"2\" stroke=\"green\" stroke-width=\"1\"  /> <line x1=\"52\" y1=\"41\" x2=\"70\" y2=\"50\" stroke=\"green\" stroke-width:2\"  stroke-dasharray=\\'2,2\\' /><line x1=\"52\" y1=\"41\" x2=\"38\" y2=\"41\" stroke=\"green\" stroke-width:2\"  stroke-dasharray=\\'2,2\\' /><line x1=\"38\" y1=\"41\" x2=\"20\" y2=\"50\" stroke=\"green\" stroke-width:2\"  stroke-dasharray=\\'2,2\\' /><line x1=\"52\" y1=\"59\" x2=\"70\" y2=\"50\" stroke=\"green\" stroke-width:2\"   /><line x1=\"88\" y1=\"50\" x2=\"70\" y2=\"50\" stroke=\"green\" stroke-width:2\"   /><line x1=\"2\" y1=\"41\" x2=\"20\" y2=\"50\" stroke=\"green\" stroke-width:2\"   /><line x1=\"2\" y1=\"59\" x2=\"20\" y2=\"50\" stroke=\"green\" stroke-width:2\"   /><line x1=\"38\" y1=\"59\" x2=\"20\" y2=\"50\" stroke=\"green\" stroke-width:2\"   />  </g> </svg>']</svg>"
      ]
     },
     "execution_count": 7,
     "metadata": {},
     "output_type": "execute_result"
    }
   ],
   "source": [
    "#but we can also generate a tree which has all possible \"partial\" to some order i.e. graded pairings\n",
    "def graded_merge_product(a,b):  return [a*b, a.product(b,1)] #return diagram_set([a*b, a.product(b,1)])\n",
    "\n",
    "diagram_set(graded_merge_product(G(branching),G(cross)))"
   ]
  },
  {
   "cell_type": "code",
   "execution_count": 8,
   "metadata": {},
   "outputs": [
    {
     "data": {
      "text/html": [
       "<svg xmlns=\"http://www.w3.org/2000/svg\" xmlns:xlink=\"http://www.w3.org/1999/xlink\" version=\"1.1\" x=\"0\" y=\"0\" width=\"240\" height=\"120\">\n",
       "      <g fill=\"none\" stroke=\"black\" stroke-width=\"1.6\" stroke-linecap=\"round\">\n",
       "         <line x1=\"0\" y1=\"0\" x2=\"40\" y2=\"0\" stroke=\"red\" stroke-dasharray=\"None\" stroke-width:2\" transform=\" translate(80,50) rotate(-30.0 0, 0 )\" />  <line x1=\"0\" y1=\"0\" x2=\"40\" y2=\"0\" stroke=\"red\" stroke-dasharray=\"None\" stroke-width:2\" transform=\" translate(80,50) rotate(30.0 0, 0 )\" />  <line x1=\"0\" y1=\"0\" x2=\"40\" y2=\"0\" stroke=\"red\" stroke-dasharray=\"None\" stroke-width:2\" transform=\" translate(80,50) rotate(-225.0 0, 0 )\" />  <line x1=\"0\" y1=\"0\" x2=\"40\" y2=\"0\" stroke=\"red\" stroke-dasharray=\"None\" stroke-width:2\" transform=\" translate(80,50) rotate(-180.0 0, 0 )\" />  <line x1=\"0\" y1=\"0\" x2=\"40\" y2=\"0\" stroke=\"red\" stroke-dasharray=\"None\" stroke-width:2\" transform=\" translate(80,50) rotate(-135.0 0, 0 )\" /> \n",
       "      </g>\n",
       "      <circle cx=\"80\" cy=\"50\" r=\"2\" stroke=\"black\" stroke-width=\"1\" fill=\"black\" />\n",
       "    </svg>"
      ],
      "text/plain": [
       "<svg xmlns=\"http://www.w3.org/2000/svg\" xmlns:xlink=\"http://www.w3.org/1999/xlink\" version=\"1.1\" x=\"0\" y=\"0\" width=\"240\" height=\"120\">\n",
       "      <g fill=\"none\" stroke=\"black\" stroke-width=\"1.6\" stroke-linecap=\"round\">\n",
       "         <line x1=\"0\" y1=\"0\" x2=\"40\" y2=\"0\" stroke=\"red\" stroke-dasharray=\"None\" stroke-width:2\" transform=\" translate(80,50) rotate(-30.0 0, 0 )\" />  <line x1=\"0\" y1=\"0\" x2=\"40\" y2=\"0\" stroke=\"red\" stroke-dasharray=\"None\" stroke-width:2\" transform=\" translate(80,50) rotate(30.0 0, 0 )\" />  <line x1=\"0\" y1=\"0\" x2=\"40\" y2=\"0\" stroke=\"red\" stroke-dasharray=\"None\" stroke-width:2\" transform=\" translate(80,50) rotate(-225.0 0, 0 )\" />  <line x1=\"0\" y1=\"0\" x2=\"40\" y2=\"0\" stroke=\"red\" stroke-dasharray=\"None\" stroke-width:2\" transform=\" translate(80,50) rotate(-180.0 0, 0 )\" />  <line x1=\"0\" y1=\"0\" x2=\"40\" y2=\"0\" stroke=\"red\" stroke-dasharray=\"None\" stroke-width:2\" transform=\" translate(80,50) rotate(-135.0 0, 0 )\" /> \n",
       "      </g>\n",
       "      <circle cx=\"80\" cy=\"50\" r=\"2\" stroke=\"black\" stroke-width=\"1\" fill=\"black\" />\n",
       "    </svg>"
      ]
     },
     "execution_count": 8,
     "metadata": {},
     "output_type": "execute_result"
    }
   ],
   "source": [
    "res= graded_merge_product(G(branching),G(cross))[1].residual_interaction\n",
    "res.diagram"
   ]
  },
  {
   "cell_type": "code",
   "execution_count": 9,
   "metadata": {},
   "outputs": [
    {
     "data": {
      "text/html": [
       "<svg xmlns=\"http://www.w3.org/2000/svg\" xmlns:xlink=\"http://www.w3.org/1999/xlink\" version=\"1.1\" x=\"0\" y=\"0\" width=\"500\" height=\"120\">\n",
       "      <g fill=\"none\" stroke=\"black\" stroke-width=\"1.6\" stroke-linecap=\"round\"> <circle cx=\"70\" cy=\"50\" r=\"3\" stroke=\"black\" stroke-width=\"1\" fill=\"black\" /> <circle cx=\"20\" cy=\"50\" r=\"3\" stroke=\"black\" stroke-width=\"1\" fill=\"black\" /> <circle cx=\"52\" cy=\"41\" r=\"2\" stroke=\"green\" stroke-width=\"1\" fill='green' /> <circle cx=\"52\" cy=\"59\" r=\"2\" stroke=\"green\" stroke-width=\"1\" fill='green' /> <circle cx=\"88\" cy=\"50\" r=\"2\" stroke=\"green\" stroke-width=\"1\"  /> <circle cx=\"38\" cy=\"41\" r=\"2\" stroke=\"green\" stroke-width=\"1\"  /> <circle cx=\"38\" cy=\"59\" r=\"2\" stroke=\"green\" stroke-width=\"1\"  /> <circle cx=\"2\" cy=\"41\" r=\"2\" stroke=\"green\" stroke-width=\"1\" fill='green' /> <circle cx=\"2\" cy=\"59\" r=\"2\" stroke=\"green\" stroke-width=\"1\" fill='green' /> <line x1=\"52\" y1=\"41\" x2=\"70\" y2=\"50\" stroke=\"green\" stroke-width:2\"  stroke-dasharray='2,2' /><line x1=\"52\" y1=\"41\" x2=\"38\" y2=\"41\" stroke=\"green\" stroke-width:2\"  stroke-dasharray='2,2' /><line x1=\"38\" y1=\"41\" x2=\"20\" y2=\"50\" stroke=\"green\" stroke-width:2\"  stroke-dasharray='2,2' /><line x1=\"52\" y1=\"59\" x2=\"70\" y2=\"50\" stroke=\"green\" stroke-width:2\"  stroke-dasharray='2,2' /><line x1=\"52\" y1=\"59\" x2=\"38\" y2=\"59\" stroke=\"green\" stroke-width:2\"  stroke-dasharray='2,2' /><line x1=\"38\" y1=\"59\" x2=\"20\" y2=\"50\" stroke=\"green\" stroke-width:2\"  stroke-dasharray='2,2' /><line x1=\"88\" y1=\"50\" x2=\"70\" y2=\"50\" stroke=\"green\" stroke-width:2\"   /><line x1=\"2\" y1=\"41\" x2=\"20\" y2=\"50\" stroke=\"green\" stroke-width:2\"   /><line x1=\"2\" y1=\"59\" x2=\"20\" y2=\"50\" stroke=\"green\" stroke-width:2\"   />  </g> </svg>"
      ],
      "text/plain": [
       "<svg xmlns=\"http://www.w3.org/2000/svg\" xmlns:xlink=\"http://www.w3.org/1999/xlink\" version=\"1.1\" x=\"0\" y=\"0\" width=\"500\" height=\"120\">\n",
       "      <g fill=\"none\" stroke=\"black\" stroke-width=\"1.6\" stroke-linecap=\"round\"> <circle cx=\"70\" cy=\"50\" r=\"3\" stroke=\"black\" stroke-width=\"1\" fill=\"black\" /> <circle cx=\"20\" cy=\"50\" r=\"3\" stroke=\"black\" stroke-width=\"1\" fill=\"black\" /> <circle cx=\"52\" cy=\"41\" r=\"2\" stroke=\"green\" stroke-width=\"1\" fill='green' /> <circle cx=\"52\" cy=\"59\" r=\"2\" stroke=\"green\" stroke-width=\"1\" fill='green' /> <circle cx=\"88\" cy=\"50\" r=\"2\" stroke=\"green\" stroke-width=\"1\"  /> <circle cx=\"38\" cy=\"41\" r=\"2\" stroke=\"green\" stroke-width=\"1\"  /> <circle cx=\"38\" cy=\"59\" r=\"2\" stroke=\"green\" stroke-width=\"1\"  /> <circle cx=\"2\" cy=\"41\" r=\"2\" stroke=\"green\" stroke-width=\"1\" fill='green' /> <circle cx=\"2\" cy=\"59\" r=\"2\" stroke=\"green\" stroke-width=\"1\" fill='green' /> <line x1=\"52\" y1=\"41\" x2=\"70\" y2=\"50\" stroke=\"green\" stroke-width:2\"  stroke-dasharray='2,2' /><line x1=\"52\" y1=\"41\" x2=\"38\" y2=\"41\" stroke=\"green\" stroke-width:2\"  stroke-dasharray='2,2' /><line x1=\"38\" y1=\"41\" x2=\"20\" y2=\"50\" stroke=\"green\" stroke-width:2\"  stroke-dasharray='2,2' /><line x1=\"52\" y1=\"59\" x2=\"70\" y2=\"50\" stroke=\"green\" stroke-width:2\"  stroke-dasharray='2,2' /><line x1=\"52\" y1=\"59\" x2=\"38\" y2=\"59\" stroke=\"green\" stroke-width:2\"  stroke-dasharray='2,2' /><line x1=\"38\" y1=\"59\" x2=\"20\" y2=\"50\" stroke=\"green\" stroke-width:2\"  stroke-dasharray='2,2' /><line x1=\"88\" y1=\"50\" x2=\"70\" y2=\"50\" stroke=\"green\" stroke-width:2\"   /><line x1=\"2\" y1=\"41\" x2=\"20\" y2=\"50\" stroke=\"green\" stroke-width:2\"   /><line x1=\"2\" y1=\"59\" x2=\"20\" y2=\"50\" stroke=\"green\" stroke-width:2\"   />  </g> </svg>"
      ]
     },
     "execution_count": 9,
     "metadata": {},
     "output_type": "execute_result"
    }
   ],
   "source": [
    "H = G(branching)*(G(cross))\n",
    "H"
   ]
  },
  {
   "cell_type": "markdown",
   "metadata": {},
   "source": [
    "# Graft"
   ]
  },
  {
   "cell_type": "code",
   "execution_count": 24,
   "metadata": {},
   "outputs": [
    {
     "data": {
      "text/html": [
       "<svg xmlns=\"http://www.w3.org/2000/svg\" xmlns:xlink=\"http://www.w3.org/1999/xlink\" version=\"1.1\" x=\"0\" y=\"0\" width=\"500\" height=\"120\">\n",
       "      <g fill=\"none\" stroke=\"black\" stroke-width=\"1.6\" stroke-linecap=\"round\"> <circle cx=\"70\" cy=\"50\" r=\"3\" stroke=\"black\" stroke-width=\"1\" fill=\"black\" /> <circle cx=\"20\" cy=\"50\" r=\"3\" stroke=\"black\" stroke-width=\"1\" fill=\"black\" /> <circle cx=\"52\" cy=\"41\" r=\"2\" stroke=\"green\" stroke-width=\"1\" fill='green' /> <circle cx=\"52\" cy=\"59\" r=\"2\" stroke=\"green\" stroke-width=\"1\" fill='green' /> <circle cx=\"88\" cy=\"50\" r=\"2\" stroke=\"green\" stroke-width=\"1\"  /> <circle cx=\"38\" cy=\"41\" r=\"2\" stroke=\"green\" stroke-width=\"1\"  /> <circle cx=\"2\" cy=\"41\" r=\"2\" stroke=\"green\" stroke-width=\"1\" fill='green' /> <circle cx=\"2\" cy=\"59\" r=\"2\" stroke=\"green\" stroke-width=\"1\" fill='green' /> <circle cx=\"38\" cy=\"59\" r=\"2\" stroke=\"green\" stroke-width=\"1\"  /> <line x1=\"52\" y1=\"41\" x2=\"70\" y2=\"50\" stroke=\"green\" stroke-width:2\"  stroke-dasharray='2,2' /><line x1=\"52\" y1=\"41\" x2=\"38\" y2=\"41\" stroke=\"green\" stroke-width:2\"  stroke-dasharray='2,2' /><line x1=\"38\" y1=\"41\" x2=\"20\" y2=\"50\" stroke=\"green\" stroke-width:2\"  stroke-dasharray='2,2' /><line x1=\"52\" y1=\"59\" x2=\"70\" y2=\"50\" stroke=\"green\" stroke-width:2\"   /><line x1=\"88\" y1=\"50\" x2=\"70\" y2=\"50\" stroke=\"green\" stroke-width:2\"   /><line x1=\"2\" y1=\"41\" x2=\"20\" y2=\"50\" stroke=\"green\" stroke-width:2\"   /><line x1=\"2\" y1=\"59\" x2=\"20\" y2=\"50\" stroke=\"green\" stroke-width:2\"   /><line x1=\"38\" y1=\"59\" x2=\"20\" y2=\"50\" stroke=\"green\" stroke-width:2\"   />  </g> </svg>"
      ],
      "text/plain": [
       "<svg xmlns=\"http://www.w3.org/2000/svg\" xmlns:xlink=\"http://www.w3.org/1999/xlink\" version=\"1.1\" x=\"0\" y=\"0\" width=\"500\" height=\"120\">\n",
       "      <g fill=\"none\" stroke=\"black\" stroke-width=\"1.6\" stroke-linecap=\"round\"> <circle cx=\"70\" cy=\"50\" r=\"3\" stroke=\"black\" stroke-width=\"1\" fill=\"black\" /> <circle cx=\"20\" cy=\"50\" r=\"3\" stroke=\"black\" stroke-width=\"1\" fill=\"black\" /> <circle cx=\"52\" cy=\"41\" r=\"2\" stroke=\"green\" stroke-width=\"1\" fill='green' /> <circle cx=\"52\" cy=\"59\" r=\"2\" stroke=\"green\" stroke-width=\"1\" fill='green' /> <circle cx=\"88\" cy=\"50\" r=\"2\" stroke=\"green\" stroke-width=\"1\"  /> <circle cx=\"38\" cy=\"41\" r=\"2\" stroke=\"green\" stroke-width=\"1\"  /> <circle cx=\"2\" cy=\"41\" r=\"2\" stroke=\"green\" stroke-width=\"1\" fill='green' /> <circle cx=\"2\" cy=\"59\" r=\"2\" stroke=\"green\" stroke-width=\"1\" fill='green' /> <circle cx=\"38\" cy=\"59\" r=\"2\" stroke=\"green\" stroke-width=\"1\"  /> <line x1=\"52\" y1=\"41\" x2=\"70\" y2=\"50\" stroke=\"green\" stroke-width:2\"  stroke-dasharray='2,2' /><line x1=\"52\" y1=\"41\" x2=\"38\" y2=\"41\" stroke=\"green\" stroke-width:2\"  stroke-dasharray='2,2' /><line x1=\"38\" y1=\"41\" x2=\"20\" y2=\"50\" stroke=\"green\" stroke-width:2\"  stroke-dasharray='2,2' /><line x1=\"52\" y1=\"59\" x2=\"70\" y2=\"50\" stroke=\"green\" stroke-width:2\"   /><line x1=\"88\" y1=\"50\" x2=\"70\" y2=\"50\" stroke=\"green\" stroke-width:2\"   /><line x1=\"2\" y1=\"41\" x2=\"20\" y2=\"50\" stroke=\"green\" stroke-width:2\"   /><line x1=\"2\" y1=\"59\" x2=\"20\" y2=\"50\" stroke=\"green\" stroke-width:2\"   /><line x1=\"38\" y1=\"59\" x2=\"20\" y2=\"50\" stroke=\"green\" stroke-width:2\"   />  </g> </svg>"
      ]
     },
     "execution_count": 24,
     "metadata": {},
     "output_type": "execute_result"
    }
   ],
   "source": [
    "IN_FIELD = 0\n",
    "OUT_FIELD = 1\n",
    "\n",
    "def melt_edge(G):\n",
    "    #move something from the internal tensor to the residual for one edge\n",
    "    last_edge = G.edges[-1]\n",
    "    G._pairing_maps = G._pairing_maps[:-1]\n",
    "    G._edges= G._edges[:-1]\n",
    "    edge = last_edge[\"edge\"]\n",
    "    spec = last_edge[\"edge_species\"]\n",
    "    G._tensor[edge[0]][spec][0] += 1\n",
    "    G._tensor[edge[1]][spec][1] += 1\n",
    "    \n",
    "    return G\n",
    "    \n",
    "    \n",
    "def shift_edges(ed,i,j):\n",
    "    def _replace(l): return [a if a != i else j for a in l ]\n",
    "    def _map(d): \n",
    "        d [\"edge\"] = _replace(d[\"edge\"])\n",
    "        return d\n",
    "    return [_map(e) for e in ed]\n",
    "\n",
    "def _connect(a,i,j,species=0):\n",
    "    a._tensor[i][species][OUT_FIELD]-= 1\n",
    "    a._tensor[j][species][IN_FIELD]-= 1\n",
    "    a._edges.append({\"edge\":[i,j], \"edge_species\": species})\n",
    "    \n",
    "def graft_product(a,b):\n",
    "    #expand tensor on composite a - assume b is vertex\n",
    "    #assume we now between which vertices the thing was melted\n",
    "    intermediate =  np.stack([a.tensor[0], b.tensor[0], a.tensor[-1]])\n",
    "    a._tensor = intermediate\n",
    "    a._edges = shift_edges(a._edges,1,2)\n",
    "    \n",
    "    #add new edges and burn the residuals\n",
    "    _connect(a,0,1)\n",
    "    _connect(a,1,2)\n",
    "    \n",
    "    return a\n",
    "\n",
    "H = G(branching)*(G(cross))    \n",
    "M = melt_edge(H)\n",
    "M"
   ]
  },
  {
   "cell_type": "code",
   "execution_count": 25,
   "metadata": {},
   "outputs": [
    {
     "data": {
      "text/html": [
       "<svg xmlns=\"http://www.w3.org/2000/svg\" xmlns:xlink=\"http://www.w3.org/1999/xlink\" version=\"1.1\" x=\"0\" y=\"0\" width=\"500\" height=\"120\">\n",
       "      <g fill=\"none\" stroke=\"black\" stroke-width=\"1.6\" stroke-linecap=\"round\"> <circle cx=\"120\" cy=\"50\" r=\"3\" stroke=\"black\" stroke-width=\"1\" fill=\"black\" /> <circle cx=\"70\" cy=\"50\" r=\"3\" stroke=\"black\" stroke-width=\"1\" fill=\"black\" /> <circle cx=\"20\" cy=\"50\" r=\"3\" stroke=\"black\" stroke-width=\"1\" fill=\"black\" /> <circle cx=\"102\" cy=\"41\" r=\"2\" stroke=\"green\" stroke-width=\"1\" fill='green' /> <circle cx=\"102\" cy=\"59\" r=\"2\" stroke=\"green\" stroke-width=\"1\" fill='green' /> <circle cx=\"138\" cy=\"50\" r=\"2\" stroke=\"green\" stroke-width=\"1\"  /> <circle cx=\"88\" cy=\"41\" r=\"2\" stroke=\"green\" stroke-width=\"1\"  /> <circle cx=\"52\" cy=\"41\" r=\"2\" stroke=\"green\" stroke-width=\"1\" fill='green' /> <circle cx=\"52\" cy=\"59\" r=\"2\" stroke=\"green\" stroke-width=\"1\" fill='green' /> <circle cx=\"88\" cy=\"59\" r=\"2\" stroke=\"green\" stroke-width=\"1\"  /> <circle cx=\"38\" cy=\"41\" r=\"2\" stroke=\"green\" stroke-width=\"1\"  /> <circle cx=\"38\" cy=\"59\" r=\"2\" stroke=\"green\" stroke-width=\"1\"  /> <circle cx=\"2\" cy=\"41\" r=\"2\" stroke=\"green\" stroke-width=\"1\" fill='green' /> <circle cx=\"2\" cy=\"59\" r=\"2\" stroke=\"green\" stroke-width=\"1\" fill='green' /> <line x1=\"102\" y1=\"41\" x2=\"120\" y2=\"50\" stroke=\"green\" stroke-width:2\"  stroke-dasharray='2,2' /><line x1=\"102\" y1=\"41\" x2=\"38\" y2=\"41\" stroke=\"green\" stroke-width:2\"  stroke-dasharray='2,2' /><line x1=\"38\" y1=\"41\" x2=\"20\" y2=\"50\" stroke=\"green\" stroke-width:2\"  stroke-dasharray='2,2' /><line x1=\"102\" y1=\"59\" x2=\"120\" y2=\"50\" stroke=\"green\" stroke-width:2\"  stroke-dasharray='2,2' /><line x1=\"102\" y1=\"59\" x2=\"88\" y2=\"41\" stroke=\"green\" stroke-width:2\"  stroke-dasharray='2,2' /><line x1=\"88\" y1=\"41\" x2=\"70\" y2=\"50\" stroke=\"green\" stroke-width:2\"  stroke-dasharray='2,2' /><line x1=\"52\" y1=\"41\" x2=\"70\" y2=\"50\" stroke=\"green\" stroke-width:2\"  stroke-dasharray='2,2' /><line x1=\"52\" y1=\"41\" x2=\"38\" y2=\"59\" stroke=\"green\" stroke-width:2\"  stroke-dasharray='2,2' /><line x1=\"38\" y1=\"59\" x2=\"20\" y2=\"50\" stroke=\"green\" stroke-width:2\"  stroke-dasharray='2,2' /><line x1=\"138\" y1=\"50\" x2=\"120\" y2=\"50\" stroke=\"green\" stroke-width:2\"   /><line x1=\"52\" y1=\"59\" x2=\"70\" y2=\"50\" stroke=\"green\" stroke-width:2\"   /><line x1=\"88\" y1=\"59\" x2=\"70\" y2=\"50\" stroke=\"green\" stroke-width:2\"   /><line x1=\"2\" y1=\"41\" x2=\"20\" y2=\"50\" stroke=\"green\" stroke-width:2\"   /><line x1=\"2\" y1=\"59\" x2=\"20\" y2=\"50\" stroke=\"green\" stroke-width:2\"   />  </g> </svg>"
      ],
      "text/plain": [
       "<svg xmlns=\"http://www.w3.org/2000/svg\" xmlns:xlink=\"http://www.w3.org/1999/xlink\" version=\"1.1\" x=\"0\" y=\"0\" width=\"500\" height=\"120\">\n",
       "      <g fill=\"none\" stroke=\"black\" stroke-width=\"1.6\" stroke-linecap=\"round\"> <circle cx=\"120\" cy=\"50\" r=\"3\" stroke=\"black\" stroke-width=\"1\" fill=\"black\" /> <circle cx=\"70\" cy=\"50\" r=\"3\" stroke=\"black\" stroke-width=\"1\" fill=\"black\" /> <circle cx=\"20\" cy=\"50\" r=\"3\" stroke=\"black\" stroke-width=\"1\" fill=\"black\" /> <circle cx=\"102\" cy=\"41\" r=\"2\" stroke=\"green\" stroke-width=\"1\" fill='green' /> <circle cx=\"102\" cy=\"59\" r=\"2\" stroke=\"green\" stroke-width=\"1\" fill='green' /> <circle cx=\"138\" cy=\"50\" r=\"2\" stroke=\"green\" stroke-width=\"1\"  /> <circle cx=\"88\" cy=\"41\" r=\"2\" stroke=\"green\" stroke-width=\"1\"  /> <circle cx=\"52\" cy=\"41\" r=\"2\" stroke=\"green\" stroke-width=\"1\" fill='green' /> <circle cx=\"52\" cy=\"59\" r=\"2\" stroke=\"green\" stroke-width=\"1\" fill='green' /> <circle cx=\"88\" cy=\"59\" r=\"2\" stroke=\"green\" stroke-width=\"1\"  /> <circle cx=\"38\" cy=\"41\" r=\"2\" stroke=\"green\" stroke-width=\"1\"  /> <circle cx=\"38\" cy=\"59\" r=\"2\" stroke=\"green\" stroke-width=\"1\"  /> <circle cx=\"2\" cy=\"41\" r=\"2\" stroke=\"green\" stroke-width=\"1\" fill='green' /> <circle cx=\"2\" cy=\"59\" r=\"2\" stroke=\"green\" stroke-width=\"1\" fill='green' /> <line x1=\"102\" y1=\"41\" x2=\"120\" y2=\"50\" stroke=\"green\" stroke-width:2\"  stroke-dasharray='2,2' /><line x1=\"102\" y1=\"41\" x2=\"38\" y2=\"41\" stroke=\"green\" stroke-width:2\"  stroke-dasharray='2,2' /><line x1=\"38\" y1=\"41\" x2=\"20\" y2=\"50\" stroke=\"green\" stroke-width:2\"  stroke-dasharray='2,2' /><line x1=\"102\" y1=\"59\" x2=\"120\" y2=\"50\" stroke=\"green\" stroke-width:2\"  stroke-dasharray='2,2' /><line x1=\"102\" y1=\"59\" x2=\"88\" y2=\"41\" stroke=\"green\" stroke-width:2\"  stroke-dasharray='2,2' /><line x1=\"88\" y1=\"41\" x2=\"70\" y2=\"50\" stroke=\"green\" stroke-width:2\"  stroke-dasharray='2,2' /><line x1=\"52\" y1=\"41\" x2=\"70\" y2=\"50\" stroke=\"green\" stroke-width:2\"  stroke-dasharray='2,2' /><line x1=\"52\" y1=\"41\" x2=\"38\" y2=\"59\" stroke=\"green\" stroke-width:2\"  stroke-dasharray='2,2' /><line x1=\"38\" y1=\"59\" x2=\"20\" y2=\"50\" stroke=\"green\" stroke-width:2\"  stroke-dasharray='2,2' /><line x1=\"138\" y1=\"50\" x2=\"120\" y2=\"50\" stroke=\"green\" stroke-width:2\"   /><line x1=\"52\" y1=\"59\" x2=\"70\" y2=\"50\" stroke=\"green\" stroke-width:2\"   /><line x1=\"88\" y1=\"59\" x2=\"70\" y2=\"50\" stroke=\"green\" stroke-width:2\"   /><line x1=\"2\" y1=\"41\" x2=\"20\" y2=\"50\" stroke=\"green\" stroke-width:2\"   /><line x1=\"2\" y1=\"59\" x2=\"20\" y2=\"50\" stroke=\"green\" stroke-width:2\"   />  </g> </svg>"
      ]
     },
     "execution_count": 25,
     "metadata": {},
     "output_type": "execute_result"
    }
   ],
   "source": [
    "H = G(branching)*(G(cross))    \n",
    "M = melt_edge(H)\n",
    "res = graft_product(M,G(cross))\n",
    "res"
   ]
  },
  {
   "cell_type": "code",
   "execution_count": 12,
   "metadata": {},
   "outputs": [
    {
     "data": {
      "text/html": [
       "<svg xmlns=\"http://www.w3.org/2000/svg\" xmlns:xlink=\"http://www.w3.org/1999/xlink\" version=\"1.1\" x=\"0\" y=\"0\" width=\"200\" height=\"180\">\n",
       "      <g fill=\"none\" stroke=\"black\" stroke-width=\"1.6\" stroke-linecap=\"round\"> <circle cx=\"150.0\" cy=\"100.0\" r=\"3\" stroke=\"black\" stroke-width=\"1\" fill=\"black\" /> <line x1=\"0\" y1=\"0\" x2=\"40\" y2=\"0\" stroke=\"green\" stroke-dasharray=\"None\" stroke-width:2\" transform=\" translate(150.0,100.0) rotate(0.0 0, 0 )\" /><circle cx=\"100.0\" cy=\"50.0\" r=\"3\" stroke=\"black\" stroke-width=\"1\" fill=\"black\" /> <line x1=\"0\" y1=\"0\" x2=\"40\" y2=\"0\" stroke=\"green\" stroke-dasharray=\"None\" stroke-width:2\" transform=\" translate(100.0,50.0) rotate(0.0 0, 0 )\" /><line x1=\"0\" y1=\"0\" x2=\"40\" y2=\"0\" stroke=\"green\" stroke-dasharray=\"None\" stroke-width:2\" transform=\" translate(100.0,50.0) rotate(-180.0 0, 0 )\" /><circle cx=\"50.0\" cy=\"100.0\" r=\"3\" stroke=\"black\" stroke-width=\"1\" fill=\"black\" /> <line x1=\"0\" y1=\"0\" x2=\"40\" y2=\"0\" stroke=\"green\" stroke-dasharray=\"None\" stroke-width:2\" transform=\" translate(50.0,100.0) rotate(-210.0 0, 0 )\" /><line x1=\"0\" y1=\"0\" x2=\"40\" y2=\"0\" stroke=\"green\" stroke-dasharray=\"None\" stroke-width:2\" transform=\" translate(50.0,100.0) rotate(-150.0 0, 0 )\" /><path d=\"M  150.0  100.0  A  50  50  0  0  0  50.0  100.0 \" stroke=\"green\"/><path d=\"M  150.0  100.0  A  50  50  0  0  0  100.0  50.0 \" stroke=\"green\"/><path d=\"M  50.0  100.0  A  50  50  0  1  0  100.0  50.0 \" stroke=\"green\"/>  </g> </svg>"
      ],
      "text/plain": [
       "<svg xmlns=\"http://www.w3.org/2000/svg\" xmlns:xlink=\"http://www.w3.org/1999/xlink\" version=\"1.1\" x=\"0\" y=\"0\" width=\"500\" height=\"120\">\n",
       "      <g fill=\"none\" stroke=\"black\" stroke-width=\"1.6\" stroke-linecap=\"round\"> <circle cx=\"120\" cy=\"50\" r=\"3\" stroke=\"black\" stroke-width=\"1\" fill=\"black\" /> <circle cx=\"70\" cy=\"50\" r=\"3\" stroke=\"black\" stroke-width=\"1\" fill=\"black\" /> <circle cx=\"20\" cy=\"50\" r=\"3\" stroke=\"black\" stroke-width=\"1\" fill=\"black\" /> <circle cx=\"102\" cy=\"41\" r=\"2\" stroke=\"green\" stroke-width=\"1\" fill='green' /> <circle cx=\"102\" cy=\"59\" r=\"2\" stroke=\"green\" stroke-width=\"1\" fill='green' /> <circle cx=\"138\" cy=\"50\" r=\"2\" stroke=\"green\" stroke-width=\"1\"  /> <circle cx=\"88\" cy=\"41\" r=\"2\" stroke=\"green\" stroke-width=\"1\"  /> <circle cx=\"52\" cy=\"41\" r=\"2\" stroke=\"green\" stroke-width=\"1\" fill='green' /> <circle cx=\"52\" cy=\"59\" r=\"2\" stroke=\"green\" stroke-width=\"1\" fill='green' /> <circle cx=\"88\" cy=\"59\" r=\"2\" stroke=\"green\" stroke-width=\"1\"  /> <circle cx=\"38\" cy=\"41\" r=\"2\" stroke=\"green\" stroke-width=\"1\"  /> <circle cx=\"38\" cy=\"59\" r=\"2\" stroke=\"green\" stroke-width=\"1\"  /> <circle cx=\"2\" cy=\"41\" r=\"2\" stroke=\"green\" stroke-width=\"1\" fill='green' /> <circle cx=\"2\" cy=\"59\" r=\"2\" stroke=\"green\" stroke-width=\"1\" fill='green' /> <line x1=\"102\" y1=\"41\" x2=\"120\" y2=\"50\" stroke=\"green\" stroke-width:2\"  stroke-dasharray='2,2' /><line x1=\"102\" y1=\"41\" x2=\"38\" y2=\"41\" stroke=\"green\" stroke-width:2\"  stroke-dasharray='2,2' /><line x1=\"38\" y1=\"41\" x2=\"20\" y2=\"50\" stroke=\"green\" stroke-width:2\"  stroke-dasharray='2,2' /><line x1=\"102\" y1=\"59\" x2=\"120\" y2=\"50\" stroke=\"green\" stroke-width:2\"  stroke-dasharray='2,2' /><line x1=\"102\" y1=\"59\" x2=\"88\" y2=\"41\" stroke=\"green\" stroke-width:2\"  stroke-dasharray='2,2' /><line x1=\"88\" y1=\"41\" x2=\"70\" y2=\"50\" stroke=\"green\" stroke-width:2\"  stroke-dasharray='2,2' /><line x1=\"52\" y1=\"41\" x2=\"70\" y2=\"50\" stroke=\"green\" stroke-width:2\"  stroke-dasharray='2,2' /><line x1=\"52\" y1=\"41\" x2=\"38\" y2=\"59\" stroke=\"green\" stroke-width:2\"  stroke-dasharray='2,2' /><line x1=\"38\" y1=\"59\" x2=\"20\" y2=\"50\" stroke=\"green\" stroke-width:2\"  stroke-dasharray='2,2' /><line x1=\"138\" y1=\"50\" x2=\"120\" y2=\"50\" stroke=\"green\" stroke-width:2\"   /><line x1=\"52\" y1=\"59\" x2=\"70\" y2=\"50\" stroke=\"green\" stroke-width:2\"   /><line x1=\"88\" y1=\"59\" x2=\"70\" y2=\"50\" stroke=\"green\" stroke-width:2\"   /><line x1=\"2\" y1=\"41\" x2=\"20\" y2=\"50\" stroke=\"green\" stroke-width:2\"   /><line x1=\"2\" y1=\"59\" x2=\"20\" y2=\"50\" stroke=\"green\" stroke-width:2\"   />  </g> </svg>"
      ]
     },
     "execution_count": 12,
     "metadata": {},
     "output_type": "execute_result"
    }
   ],
   "source": [
    "composition_diagram(res,compact=True)#.coords[1]"
   ]
  },
  {
   "cell_type": "markdown",
   "metadata": {},
   "source": [
    "# Shuffle Product"
   ]
  },
  {
   "cell_type": "code",
   "execution_count": null,
   "metadata": {
    "collapsed": true
   },
   "outputs": [],
   "source": [
    "#set of all words obtained by mixing in all possible ways letters of wi and w2 while preserving their order inside w1 and w2\n",
    "#its commutative and associative, product of two iterated integrals is the shuffle product\n",
    "\n",
    "#For any species, we should consider a word abc. \n",
    "#The decomposition into characters is something the species should support\n",
    "#In the case of graphs, this decomposition is over graded cuts on spanning trees and forests\n",
    "#there should be a coefficient for symmetric decompositions e.g. two edges of the same species that join the same two vertices - note the shuffle product is often thought of as s derivitive\n",
    "#The shuffle product will then combine all terms from one word with all terms from the other. In a simple example i assume left term is a primitive\n",
    "#This product is a binary operation that realizes all trees via an iterative algorithm\n",
    "#a sequence of filters is applied in practice 1PI filter, loop order filter and dimensional analysis determined validation function (which may be inquality based)\n",
    "#tree level are always 1PI maybe because we only consider residuals and the zero-loop (general statement is we only see loops and residuals)\n",
    "#graph equivalence is based on a hash of the loop(s) structure and the residuals\n",
    "#then we construct an iterative algorithm that permutes(n,k) with k=2, a binary operation, until we can no longer create new graphs based on the hash\n"
   ]
  },
  {
   "cell_type": "markdown",
   "metadata": {},
   "source": [
    "# Coproduct"
   ]
  },
  {
   "cell_type": "code",
   "execution_count": null,
   "metadata": {
    "collapsed": true
   },
   "outputs": [],
   "source": []
  },
  {
   "cell_type": "markdown",
   "metadata": {},
   "source": [
    "# Antipode"
   ]
  },
  {
   "cell_type": "code",
   "execution_count": null,
   "metadata": {
    "collapsed": true
   },
   "outputs": [],
   "source": []
  }
 ],
 "metadata": {
  "kernelspec": {
   "display_name": "Python 3",
   "language": "python",
   "name": "python3"
  },
  "language_info": {
   "codemirror_mode": {
    "name": "ipython",
    "version": 3
   },
   "file_extension": ".py",
   "mimetype": "text/x-python",
   "name": "python",
   "nbconvert_exporter": "python",
   "pygments_lexer": "ipython3",
   "version": "3.6.3"
  }
 },
 "nbformat": 4,
 "nbformat_minor": 2
}
