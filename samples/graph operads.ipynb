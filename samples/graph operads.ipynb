{
 "cells": [
  {
   "cell_type": "code",
   "execution_count": null,
   "metadata": {
    "collapsed": true
   },
   "outputs": [],
   "source": [
    "#show the merge product and its properties &\n",
    "#  possibly a graded partial merge which can product for example tree level and loop level graphs in a set which can then be filtered &&\n",
    "#show the graft product and its properties * (i think graft can only break one bond and then try to connect) - simply promote residuals but require some completely left-right connectivity\n",
    "#show | which undoes the & by splitting out a factor\n",
    "#show / which removes a grafted element and leaves the remainder\n",
    "#show the coproduct // which splits the graph in all possible ways\n",
    "#show the antipode ! of the graph via it's recusive defintion"
   ]
  }
 ],
 "metadata": {
  "kernelspec": {
   "display_name": "Python 3",
   "language": "python",
   "name": "python3"
  },
  "language_info": {
   "codemirror_mode": {
    "name": "ipython",
    "version": 3
   },
   "file_extension": ".py",
   "mimetype": "text/x-python",
   "name": "python",
   "nbconvert_exporter": "python",
   "pygments_lexer": "ipython3",
   "version": "3.6.3"
  }
 },
 "nbformat": 4,
 "nbformat_minor": 2
}
