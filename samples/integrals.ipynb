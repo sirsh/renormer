{
 "cells": [
  {
   "cell_type": "code",
   "execution_count": 1,
   "metadata": {},
   "outputs": [],
   "source": [
    "import sys\n",
    "sys.path.append(\"../\")\n",
    "import rg\n",
    "from rg.graph import incidence_matrix\n",
    "from rg.graph import ring_diagram ,show_spanning_trees\n",
    "from rg.graph import circuits, set_circuit_flow,set_source_sink_flow,apply_flow\n",
    "from rg.graph import scalar_propagator\n",
    "#for inline dev\n",
    "import numpy as np\n",
    "from sympy import *\n",
    "init_printing()"
   ]
  },
  {
   "cell_type": "markdown",
   "metadata": {},
   "source": [
    "# Tasks \n",
    " - (a) make sure the integral formula is solid and then should work for any order\n",
    " - (b) some clean up on the K polynomials should be done but not a show stopper\n",
    " - (c) some enumerations for finding patterns at one then two loop and S species "
   ]
  },
  {
   "cell_type": "markdown",
   "metadata": {},
   "source": [
    "# Some one loop examples of omega-integration"
   ]
  },
  {
   "cell_type": "markdown",
   "metadata": {},
   "source": [
    "# 1 \n",
    "This is one of the simplest examples"
   ]
  },
  {
   "cell_type": "code",
   "execution_count": 2,
   "metadata": {},
   "outputs": [
    {
     "data": {
      "text/latex": [
       "$\\frac{1}{\\left(D_{a} k_{1}^{2} + m_{a}^{2} + i \\omega_{1}\\right) \\left(D_{b} k_{1}^{2} + m_{b}^{2} - i \\omega_{1}\\right)}$"
      ],
      "text/plain": [
       "$\\frac{1}{\\left(D_{a} k_{1}^{2} + m_{a}^{2} + i \\omega_{1}\\right) \\left(D_{b} k_{1}^{2} + m_{b}^{2} - i \\omega_{1}\\right)}$"
      ]
     },
     "execution_count": 2,
     "metadata": {},
     "output_type": "execute_result"
    }
   ],
   "source": [
    "mat = [[0,-1,0,1,1,],\n",
    "       [0,1,0,0,0,1]]\n",
    "factors = scalar_propagator.from_basis_vector(mat,2)\n",
    "IG = rg.integral(factors)\n",
    "IG"
   ]
  },
  {
   "cell_type": "code",
   "execution_count": 3,
   "metadata": {},
   "outputs": [
    {
     "data": {
      "text/latex": [
       "$\\frac{1}{D_{a} k_{1}^{2} + D_{b} k_{1}^{2} + m_{a}^{2} + m_{b}^{2}}$"
      ],
      "text/plain": [
       "$\\frac{1}{D_{a} k_{1}^{2} + D_{b} k_{1}^{2} + m_{a}^{2} + m_{b}^{2}}$"
      ]
     },
     "execution_count": 3,
     "metadata": {},
     "output_type": "execute_result"
    }
   ],
   "source": [
    "IG.integrate()"
   ]
  },
  {
   "cell_type": "markdown",
   "metadata": {},
   "source": [
    "# 2 \n",
    "example pole order 2 with externa momentum (freq)"
   ]
  },
  {
   "cell_type": "code",
   "execution_count": 4,
   "metadata": {},
   "outputs": [
    {
     "data": {
      "text/latex": [
       "$\\frac{1}{\\left(D_{a} k_{1}^{2} + m_{a}^{2} - i \\omega_{1}\\right)^{2} \\left(D_{a} \\left(k'_{1} + k_{1}\\right)^{2} + i \\omega'_1 + m_{a}^{2} + i \\omega_{1}\\right)}$"
      ],
      "text/plain": [
       "$\\frac{1}{\\left(D_{a} k_{1}^{2} + m_{a}^{2} - i \\omega_{1}\\right)^{2} \\left(D_{a} \\left(k'_{1} + k_{1}\\right)^{2} + i \\omega'_1 + m_{a}^{2} + i \\omega_{1}\\right)}$"
      ]
     },
     "execution_count": 4,
     "metadata": {},
     "output_type": "execute_result"
    }
   ],
   "source": [
    "mat = [[0,1,0,1,0,1],\n",
    "       [0,-1,0,0,0,2]]\n",
    "factors = scalar_propagator.from_basis_vector(mat,2)\n",
    "IG = rg.integral(factors)\n",
    "IG"
   ]
  },
  {
   "cell_type": "code",
   "execution_count": 5,
   "metadata": {},
   "outputs": [
    {
     "data": {
      "text/latex": [
       "$\\frac{1}{\\left(D_{a} k_{1}^{2} + D_{a} \\left(k'_{1} + k_{1}\\right)^{2} + i \\omega'_1 + 2 m_{a}^{2}\\right)^{2}}$"
      ],
      "text/plain": [
       "$\\frac{1}{\\left(D_{a} k_{1}^{2} + D_{a} \\left(k'_{1} + k_{1}\\right)^{2} + i \\omega'_1 + 2 m_{a}^{2}\\right)^{2}}$"
      ]
     },
     "execution_count": 5,
     "metadata": {},
     "output_type": "execute_result"
    }
   ],
   "source": [
    "IG.integrate()"
   ]
  },
  {
   "cell_type": "markdown",
   "metadata": {},
   "source": [
    "# 3 \n",
    "\n",
    "Example poles of higher order"
   ]
  },
  {
   "cell_type": "code",
   "execution_count": 6,
   "metadata": {},
   "outputs": [
    {
     "data": {
      "text/latex": [
       "$\\frac{1}{12 \\left(D_{a} k_{1}^{2} + D_{a} \\left(k'_{1} + k_{1}\\right)^{2} + i \\omega'_1 + 2 m_{a}^{2}\\right)^{3}}$"
      ],
      "text/plain": [
       "$\\frac{1}{12 \\left(D_{a} k_{1}^{2} + D_{a} \\left(k'_{1} + k_{1}\\right)^{2} + i \\omega'_1 + 2 m_{a}^{2}\\right)^{3}}$"
      ]
     },
     "execution_count": 6,
     "metadata": {},
     "output_type": "execute_result"
    }
   ],
   "source": [
    "mat = [[0,-1,0,1,0,5],\n",
    "       [0,1,0,0,0,2]]\n",
    "factors = scalar_propagator.from_basis_vector(mat,2)\n",
    "IG = rg.integral(factors)\n",
    "IG.integrate()\n"
   ]
  },
  {
   "cell_type": "markdown",
   "metadata": {},
   "source": [
    "# 4 \n",
    "Example introducing new species"
   ]
  },
  {
   "cell_type": "code",
   "execution_count": 7,
   "metadata": {},
   "outputs": [
    {
     "data": {
      "text/latex": [
       "$\\frac{1}{\\left(D_{a} k_{1}^{2} + m_{a}^{2} + i \\omega_{1}\\right) \\left(D_{a} \\left(k'_{1} + k_{1}\\right)^{2} + i \\omega'_1 + m_{a}^{2} - i \\omega_{1}\\right) \\left(D_{b} \\left(k'_{1} + k_{1}\\right)^{2} + i \\omega'_1 + m_{b}^{2} + i \\omega_{1}\\right)}$"
      ],
      "text/plain": [
       "$\\frac{1}{\\left(D_{a} k_{1}^{2} + m_{a}^{2} + i \\omega_{1}\\right) \\left(D_{a} \\left(k'_{1} + k_{1}\\right)^{2} + i \\omega'_1 + m_{a}^{2} - i \\omega_{1}\\right) \\left(D_{b} \\left(k'_{1} + k_{1}\\right)^{2} + i \\omega'_1 + m_{b}^{2} + i \\omega_{1}\\right)}$"
      ]
     },
     "execution_count": 7,
     "metadata": {},
     "output_type": "execute_result"
    }
   ],
   "source": [
    "mat = [[0,-1,0,1,0,1],\n",
    "       [0,1,0,1,1,1],\n",
    "       [0,1,0,0,0,1]\n",
    "      ]\n",
    "factors = scalar_propagator.from_basis_vector(mat,2)\n",
    "IG = rg.integral(factors)\n",
    "IG"
   ]
  },
  {
   "cell_type": "code",
   "execution_count": 8,
   "metadata": {},
   "outputs": [
    {
     "data": {
      "text/latex": [
       "$\\frac{1}{\\left(D_{a} k_{1}^{2} + D_{a} \\left(k'_{1} + k_{1}\\right)^{2} + i \\omega'_1 + 2 m_{a}^{2}\\right) \\left(D_{a} \\left(k'_{1} + k_{1}\\right)^{2} + D_{b} \\left(k'_{1} + k_{1}\\right)^{2} + 2 i \\omega'_1 + m_{a}^{2} + m_{b}^{2}\\right)}$"
      ],
      "text/plain": [
       "$\\frac{1}{\\left(D_{a} k_{1}^{2} + D_{a} \\left(k'_{1} + k_{1}\\right)^{2} + i \\omega'_1 + 2 m_{a}^{2}\\right) \\left(D_{a} \\left(k'_{1} + k_{1}\\right)^{2} + D_{b} \\left(k'_{1} + k_{1}\\right)^{2} + 2 i \\omega'_1 + m_{a}^{2} + m_{b}^{2}\\right)}$"
      ]
     },
     "execution_count": 8,
     "metadata": {},
     "output_type": "execute_result"
    }
   ],
   "source": [
    "IG.integrate()"
   ]
  },
  {
   "cell_type": "markdown",
   "metadata": {},
   "source": [
    "# Some two loop examples of omega-integration"
   ]
  },
  {
   "cell_type": "code",
   "execution_count": 9,
   "metadata": {},
   "outputs": [
    {
     "data": {
      "text/html": [
       "<svg xmlns=\"http://www.w3.org/2000/svg\" xmlns:xlink=\"http://www.w3.org/1999/xlink\" version=\"1.1\" x=\"0\" y=\"0\" width=\"200\" height=\"200\">\n",
       "      <g fill=\"none\" stroke=\"black\" stroke-width=\"1.6\" stroke-linecap=\"round\" transform=\"rotate(90,100,100)\"> <defs><marker id=\"arrow\"  markerUnits=\"strokeWidth\" markerWidth='5' markerHeight='8' refX='0' refY='2' orient=\"auto\">\n",
       "                                      <path d=\"M0,0 V4 L2,2 Z\" style=\"fill: #000000;\" /> </marker></defs><circle cx=\"100\" cy=\"170\" r=\"3\" stroke=\"black\" stroke-width=\"1\" fill=\"black\" /> <circle cx=\"99\" cy=\"30\" r=\"3\" stroke=\"black\" stroke-width=\"1\" fill=\"black\" /> <path id='edge0' d=\"M  100  170  A  70  70  0  0  1  99  30 \" stroke=\"black\"  stroke-width=\"2px\"   /><path id='edge0' d=\"M  100  170  A  70  70  0  0  1  30  100 \" stroke=\"black\"  stroke-width=\"2px\" marker-end='url(#arrow)'  /><path id='edge1' d=\"M  100  30  A  70  70  0  0  1  100  170 \" stroke=\"black\"  stroke-width=\"2px\"   /><path id='edge1' d=\"M  100  30  A  70  70  0  0  1  170  100 \" stroke=\"black\"  stroke-width=\"2px\" marker-end='url(#arrow)'  /><path d=\"M100 170 L 99 30\" stroke=\"black\" stroke-width=\"2px\" id='edge2'   /> <line x1=\"100\" y1=\"170\" x2=\"99.5\" y2=\"100.0\" stroke=\"black\" stroke-width=\"2px\"  id='edge2'   marker-end='url(#arrow)' /><text x=\"10%\" style=\"fill: #000000;stroke: none; font-size: 14px;\" ><textPath xlink:href=\"#edge0\">e0</textPath></text><text x=\"10%\" style=\"fill: #000000;stroke: none; font-size: 14px;\" ><textPath xlink:href=\"#edge1\">e1</textPath></text><text x=\"10%\" style=\"fill: #000000;stroke: none; font-size: 14px;\" ><textPath xlink:href=\"#edge2\">e2</textPath></text>  </g> </svg>"
      ],
      "text/plain": [
       "<rg.graph.viz.ring_diagram at 0x2446ec9e588>"
      ]
     },
     "execution_count": 9,
     "metadata": {},
     "output_type": "execute_result"
    }
   ],
   "source": [
    "sunset = incidence_matrix(3,2,\n",
    "                       [ [0,1], [1,0], [0,1]  ],\n",
    "                       external_vertices=[0,1])\n",
    "ring_diagram(sunset,options={\"show_labels\"})"
   ]
  },
  {
   "cell_type": "code",
   "execution_count": 10,
   "metadata": {
    "collapsed": true
   },
   "outputs": [],
   "source": [
    "#if the loop integral has species colours, we have the option of the extended basis\n",
    "#we can colour the edges too - go to rg.colour_map"
   ]
  },
  {
   "cell_type": "code",
   "execution_count": 23,
   "metadata": {},
   "outputs": [
    {
     "data": {
      "text/latex": [
       "$\\frac{1}{\\left(D_{a} k_{0}^{2} + m_{a}^{2} + i \\omega_{0}\\right) \\left(D_{a} k_{1}^{2} + m_{a}^{2} + i \\omega_{1}\\right) \\left(D_{a} \\left(k_{0} + k_{1}\\right)^{2} + m_{a}^{2} + i \\omega_{0} + i \\omega_{1}\\right)^{2} \\left(D_{a} \\left(k'_{1} + k_{0} + k_{1}\\right)^{2} - i \\omega'_1 + m_{a}^{2} - i \\omega_{0} - i \\omega_{1}\\right)}$"
      ],
      "text/plain": [
       "$\\frac{1}{\\left(D_{a} k_{0}^{2} + m_{a}^{2} + i \\omega_{0}\\right) \\left(D_{a} k_{1}^{2} + m_{a}^{2} + i \\omega_{1}\\right) \\left(D_{a} \\left(k_{0} + k_{1}\\right)^{2} + m_{a}^{2} + i \\omega_{0} + i \\omega_{1}\\right)^{2} \\left(D_{a} \\left(k'_{1} + k_{0} + k_{1}\\right)^{2} - i \\omega'_1 + m_{a}^{2} - i \\omega_{0} - i \\omega_{1}\\right)}$"
      ]
     },
     "execution_count": 23,
     "metadata": {},
     "output_type": "execute_result"
    }
   ],
   "source": [
    "L = sunset.first_betti_number\n",
    "maps = sunset.edges_to_loop_basis()\n",
    "factor = rg._product_([scalar_propagator(maps[i][:L], maps[i][L:]).value for i in maps.keys()])\n",
    "IG = rg.integral(factor)\n",
    "IG"
   ]
  },
  {
   "cell_type": "code",
   "execution_count": 24,
   "metadata": {},
   "outputs": [
    {
     "data": {
      "image/png": "[encoded data removed]",
      "text/latex": [
       "$$\\frac{1^{2}}{\\left(D_{a} \\left(k_{0} + k_{1}\\right)^{2} + D_{a} \\left(k'_{1} + k_{0} + k_{1}\\right)^{2} - i \\omega'_1 + 2 m_{a}^{2}\\right)^{2} \\left(D_{a} k_{0}^{2} + D_{a} k_{1}^{2} + D_{a} \\left(k'_{1} + k_{0} + k_{1}\\right)^{2} - i \\omega'_1 + 3 m_{a}^{2}\\right)}$$"
      ],
      "text/plain": [
       "                                                            2                 \n",
       "                                                           1                  \n",
       "──────────────────────────────────────────────────────────────────────────────\n",
       "                                                          2                   \n",
       "⎛            2                     2                    2⎞  ⎛     2        2  \n",
       "⎝Dₐ⋅(k₀ + k₁)  + Dₐ⋅(k'₁ + k₀ + k₁)  - ⅈ⋅\\omega'₁ + 2⋅mₐ ⎠ ⋅⎝Dₐ⋅k₀  + Dₐ⋅k₁  +\n",
       "\n",
       "                                          \n",
       "                                          \n",
       "──────────────────────────────────────────\n",
       "                                          \n",
       "                   2                    2⎞\n",
       " Dₐ⋅(k'₁ + k₀ + k₁)  - ⅈ⋅\\omega'₁ + 3⋅mₐ ⎠"
      ]
     },
     "execution_count": 24,
     "metadata": {},
     "output_type": "execute_result"
    }
   ],
   "source": [
    "#this does not seem that believable unless the sunset is a special case for two-loop\n",
    "IG.integrate()"
   ]
  },
  {
   "cell_type": "code",
   "execution_count": 14,
   "metadata": {
    "collapsed": true
   },
   "outputs": [],
   "source": [
    "## more.... "
   ]
  },
  {
   "cell_type": "code",
   "execution_count": 19,
   "metadata": {},
   "outputs": [
    {
     "data": {
      "text/html": [
       "<svg xmlns=\"http://www.w3.org/2000/svg\" xmlns:xlink=\"http://www.w3.org/1999/xlink\" version=\"1.1\" x=\"0\" y=\"0\" width=\"200\" height=\"200\">\n",
       "      <g fill=\"none\" stroke=\"black\" stroke-width=\"1.6\" stroke-linecap=\"round\" transform=\"rotate(90,100,100)\"> <defs><marker id=\"arrow\"  markerUnits=\"strokeWidth\" markerWidth='5' markerHeight='8' refX='0' refY='2' orient=\"auto\">\n",
       "                                      <path d=\"M0,0 V4 L2,2 Z\" style=\"fill: #000000;\" /> </marker></defs><circle cx=\"100\" cy=\"170\" r=\"3\" stroke=\"black\" stroke-width=\"1\" fill=\"black\" /> <circle cx=\"99\" cy=\"30\" r=\"3\" stroke=\"black\" stroke-width=\"1\" fill=\"black\" /> <circle cx=\"100\" cy=\"150\" r=\"3\" stroke=\"black\" stroke-width=\"1\" fill=\"black\" /> <circle cx=\"99\" cy=\"50\" r=\"3\" stroke=\"black\" stroke-width=\"1\" fill=\"black\" /> <path id='edge0' d=\"M  100  170  A  70  70  0  0  1  99  30 \" stroke=\"black\"  stroke-width=\"2px\"   /><path id='edge0' d=\"M  100  170  A  70  70  0  0  1  30  100 \" stroke=\"black\"  stroke-width=\"2px\" marker-end='url(#arrow)'  /><path d=\"M100 150 L 100 170\" stroke=\"black\" stroke-width=\"2px\" id='edge2'   /> <line x1=\"100\" y1=\"150\" x2=\"100.0\" y2=\"160.0\" stroke=\"black\" stroke-width=\"2px\"  id='edge2'   marker-end='url(#arrow)' /><path d=\"M99 30 L 99 50\" stroke=\"black\" stroke-width=\"2px\" id='edge1'   /> <line x1=\"99\" y1=\"30\" x2=\"99.0\" y2=\"40.0\" stroke=\"black\" stroke-width=\"2px\"  id='edge1'   marker-end='url(#arrow)' /><path id='edge3' d=\"M  99  50  A  50  50  0  0  0  100  150 \" stroke=\"black\"  stroke-width=\"2px\"   /><path id='edge3' d=\"M  99  50  A  50  50  0  0  0  50  100 \" stroke=\"black\"  stroke-width=\"2px\" marker-end='url(#arrow)'  /><path id='edge4' d=\"M  100  150  A  50  50  0  0  0  100  50 \" stroke=\"black\"  stroke-width=\"2px\"   /><path id='edge4' d=\"M  100  150  A  50  50  0  0  0  150  100 \" stroke=\"black\"  stroke-width=\"2px\" marker-end='url(#arrow)'  /><text x=\"10%\" style=\"fill: #000000;stroke: none; font-size: 14px;\" ><textPath xlink:href=\"#edge0\">e0</textPath></text><text x=\"10%\" style=\"fill: #000000;stroke: none; font-size: 14px;\" ><textPath xlink:href=\"#edge1\">e1</textPath></text><text x=\"10%\" style=\"fill: #000000;stroke: none; font-size: 14px;\" ><textPath xlink:href=\"#edge2\">e2</textPath></text><text x=\"10%\" style=\"fill: #000000;stroke: none; font-size: 14px;\" ><textPath xlink:href=\"#edge3\">e3</textPath></text><text x=\"10%\" style=\"fill: #000000;stroke: none; font-size: 14px;\" ><textPath xlink:href=\"#edge4\">e4</textPath></text>  </g> </svg>"
      ],
      "text/plain": [
       "<rg.graph.viz.ring_diagram at 0x2446ed19400>"
      ]
     },
     "execution_count": 19,
     "metadata": {},
     "output_type": "execute_result"
    }
   ],
   "source": [
    "bobcut = incidence_matrix(5,4,\n",
    "                       [ [0,1], [1,3], [2,0], [3,2],[2,3] ],\n",
    "                       external_vertices=[0,1])\n",
    "ring_diagram(bobcut,options={\"show_labels\"})\n",
    "#i know why the drawing is trying to create e1 which i can easily fix but how are the pids lining up?"
   ]
  },
  {
   "cell_type": "code",
   "execution_count": 20,
   "metadata": {},
   "outputs": [
    {
     "data": {
      "text/latex": [
       "$\\frac{1}{\\left(D_{a} k_{0}^{2} + m_{a}^{2} + i \\omega_{0}\\right) \\left(D_{a} k_{1}^{2} + m_{a}^{2} + i \\omega_{1}\\right) \\left(D_{a} \\left(k_{0} + k_{1}\\right)^{2} + m_{a}^{2} + i \\omega_{0} + i \\omega_{1}\\right)^{2} \\left(D_{a} \\left(k'_{1} + k_{0} + k_{1}\\right)^{2} - i \\omega'_1 + m_{a}^{2} - i \\omega_{0} - i \\omega_{1}\\right)}$"
      ],
      "text/plain": [
       "$\\frac{1}{\\left(D_{a} k_{0}^{2} + m_{a}^{2} + i \\omega_{0}\\right) \\left(D_{a} k_{1}^{2} + m_{a}^{2} + i \\omega_{1}\\right) \\left(D_{a} \\left(k_{0} + k_{1}\\right)^{2} + m_{a}^{2} + i \\omega_{0} + i \\omega_{1}\\right)^{2} \\left(D_{a} \\left(k'_{1} + k_{0} + k_{1}\\right)^{2} - i \\omega'_1 + m_{a}^{2} - i \\omega_{0} - i \\omega_{1}\\right)}$"
      ]
     },
     "execution_count": 20,
     "metadata": {},
     "output_type": "execute_result"
    }
   ],
   "source": [
    "maps = bobcut.edges_to_loop_basis()\n",
    "factor = rg._product_([scalar_propagator(maps[i][:L], maps[i][L:]).value for i in maps.keys()])\n",
    "IG = rg.integral(factor)\n",
    "IG"
   ]
  },
  {
   "cell_type": "code",
   "execution_count": 21,
   "metadata": {},
   "outputs": [
    {
     "data": {
      "text/latex": [
       "$\\frac{1^{2}}{\\left(D_{a} \\left(k_{0} + k_{1}\\right)^{2} + D_{a} \\left(k'_{1} + k_{0} + k_{1}\\right)^{2} - i \\omega'_1 + 2 m_{a}^{2}\\right)^{2} \\left(D_{a} k_{0}^{2} + D_{a} k_{1}^{2} + D_{a} \\left(k'_{1} + k_{0} + k_{1}\\right)^{2} - i \\omega'_1 + 3 m_{a}^{2}\\right)}$"
      ],
      "text/plain": [
       "$\\frac{1^{2}}{\\left(D_{a} \\left(k_{0} + k_{1}\\right)^{2} + D_{a} \\left(k'_{1} + k_{0} + k_{1}\\right)^{2} - i \\omega'_1 + 2 m_{a}^{2}\\right)^{2} \\left(D_{a} k_{0}^{2} + D_{a} k_{1}^{2} + D_{a} \\left(k'_{1} + k_{0} + k_{1}\\right)^{2} - i \\omega'_1 + 3 m_{a}^{2}\\right)}$"
      ]
     },
     "execution_count": 21,
     "metadata": {},
     "output_type": "execute_result"
    }
   ],
   "source": [
    "IG.integrate()"
   ]
  },
  {
   "cell_type": "code",
   "execution_count": null,
   "metadata": {
    "collapsed": true
   },
   "outputs": [],
   "source": []
  }
 ],
 "metadata": {
  "kernelspec": {
   "display_name": "Python 3",
   "language": "python",
   "name": "python3"
  },
  "language_info": {
   "codemirror_mode": {
    "name": "ipython",
    "version": 3
   },
   "file_extension": ".py",
   "mimetype": "text/x-python",
   "name": "python",
   "nbconvert_exporter": "python",
   "pygments_lexer": "ipython3",
   "version": "3.6.3"
  }
 },
 "nbformat": 4,
 "nbformat_minor": 2
}
