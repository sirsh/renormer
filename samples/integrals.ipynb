{
 "cells": [
  {
   "cell_type": "code",
   "execution_count": 1,
   "metadata": {
    "collapsed": true
   },
   "outputs": [],
   "source": [
    "import sys\n",
    "sys.path.append(\"../\")\n",
    "import rg\n",
    "from rg.graph import incidence_matrix\n",
    "from rg.graph import ring_diagram ,show_spanning_trees\n",
    "from rg.graph import circuits, set_circuit_flow,set_source_sink_flow,apply_flow\n",
    "from rg.graph import scalar_propagator\n",
    "#for inline dev\n",
    "import numpy as np\n",
    "from sympy import *\n",
    "init_printing()"
   ]
  },
  {
   "cell_type": "markdown",
   "metadata": {},
   "source": [
    "# TODO\n",
    " - Create the beautiful delta operator for graphs - this is at the level of incidence matrix and completely algebraic\n",
    " - Produce the final graph polynomials for the equilibrium graphs after the delta operator\n",
    " - We still have to integrate the graph polynomials in k\n",
    " - Some drawing mods and finalise then example of the simple mess from end to end\n",
    " - Gamma function - epsilon expansions"
   ]
  },
  {
   "cell_type": "code",
   "execution_count": null,
   "metadata": {
    "collapsed": true
   },
   "outputs": [],
   "source": [
    "class expr(object):\n",
    "    def __init__(self, index = 0, sign=1, power=1, colour=1):\n",
    "        self.value = 1/((sign*I*Symbol(\"omega_\"+str(index)) + Symbol(\"C_\"+str(colour))))**power\n",
    "    \n",
    "def _factors(a): return a.as_ordered_factors()\n",
    "\n",
    "def _parts(f): \n",
    "    keys, values = zip(*f.as_powers_dict().items())\n",
    "    exp = keys[0]\n",
    "    value = f\n",
    "    omega_term = [t for t in exp.free_symbols if \"omega\" in str(t)][0]\n",
    "    sign = exp.coeff(I*omega_term)  \n",
    "    return {\"power\": abs(values[0]), \"exp\": exp, \"sign\": sign, \"omega\": omega_term, \"pole\": solve(exp,omega_term)[0], \"value\" : f } \n",
    "\n",
    "def residue(G,P):\n",
    "    r = G/P[\"value\"]\n",
    "    r = diff(r,P[\"omega\"],n=P[\"power\"]-1) if P[\"power\"] > 1 else r\n",
    "    r = r.subs({P[\"omega\"]: P[\"pole\"]})\n",
    "    #plane*-1*I**(order) ) * ( (-1*I) **(order-1) )\n",
    "    \n",
    "    if P[\"power\"] > 1:  r = r *  I**(P[\"power\"]*1) *-1*I\n",
    "    #if P[\"power\"] > 1:  r =  I**(P[\"power\"]) * (-1*I)**(P[\"power\"]-1)\n",
    "    r /= np.math.factorial(P[\"power\"]-1)\n",
    "    return r\n",
    "def group_half_plane_residues(exp):\n",
    "    terms = [_parts(f) for f in _factors(exp)]\n",
    "    hterms = [t for t in terms if t[\"sign\"]==-1] \n",
    "    d = {}\n",
    "    for t in hterms:\n",
    "        omega = t[\"omega\"]\n",
    "        if omega not in d:d[omega] = []\n",
    "        d[omega].append(t)\n",
    "    return d\n",
    "\n",
    "def make_deltas_from_factors(exp):\n",
    "    terms = [parts(f) for f in factors(exp)]\n",
    "    d = {}\n",
    "    for t in hterms:\n",
    "        omega = t[\"omega\"]\n",
    "        if omega not in d:d[omega] = []\n",
    "    for i, v in enumerate(terms): d[omega].append(v[\"sign\"]*Symbol(\"alpha_\"+str(i)))\n",
    "        \n",
    "    return d\n",
    "    #get distinct loops\n",
    "#groups = group_half_plane_residues(EG)"
   ]
  },
  {
   "cell_type": "code",
   "execution_count": 3,
   "metadata": {},
   "outputs": [
    {
     "data": {
      "text/html": [
       "<svg xmlns=\"http://www.w3.org/2000/svg\" xmlns:xlink=\"http://www.w3.org/1999/xlink\" version=\"1.1\" x=\"0\" y=\"0\" width=\"200\" height=\"200\">\n",
       "      <g fill=\"none\" stroke=\"black\" stroke-width=\"1.6\" stroke-linecap=\"round\" transform=\"rotate(90,100,100)\"> <defs><marker id=\"arrow\"  markerUnits=\"strokeWidth\" markerWidth='5' markerHeight='8' refX='0' refY='2' orient=\"auto\">\n",
       "                                      <path d=\"M0,0 V4 L2,2 Z\" style=\"fill: #000000;\" /> </marker></defs><circle cx=\"100\" cy=\"170\" r=\"3\" stroke=\"black\" stroke-width=\"1\" fill=\"black\" /> <circle cx=\"99\" cy=\"30\" r=\"3\" stroke=\"black\" stroke-width=\"1\" fill=\"black\" /> <circle cx=\"100\" cy=\"150\" r=\"3\" stroke=\"black\" stroke-width=\"1\" fill=\"black\" /> <circle cx=\"99\" cy=\"50\" r=\"3\" stroke=\"black\" stroke-width=\"1\" fill=\"black\" /> <path d=\"M100 170 L 100 150\" stroke=\"black\" stroke-width=\"2px\" id='edge0'   /> <line x1=\"100\" y1=\"170\" x2=\"100.0\" y2=\"160.0\" stroke=\"black\" stroke-width=\"2px\"  id='edge0'   marker-end='url(#arrow)' /><path d=\"M100 170 L 99 50\" stroke=\"black\" stroke-width=\"2px\" id='edge3'   /> <line x1=\"100\" y1=\"170\" x2=\"99.5\" y2=\"110.0\" stroke=\"black\" stroke-width=\"2px\"  id='edge3'   marker-end='url(#arrow)' /><path d=\"M99 30 L 99 50\" stroke=\"black\" stroke-width=\"2px\" id='edge2'   /> <line x1=\"99\" y1=\"30\" x2=\"99.0\" y2=\"40.0\" stroke=\"black\" stroke-width=\"2px\"  id='edge2'   marker-end='url(#arrow)' /><path d=\"M100 150 L 99 30\" stroke=\"black\" stroke-width=\"2px\" id='edge1'   /> <line x1=\"100\" y1=\"150\" x2=\"99.5\" y2=\"90.0\" stroke=\"black\" stroke-width=\"2px\"  id='edge1'   marker-end='url(#arrow)' /><text x=\"10%\" style=\"fill: #000000;stroke: none; font-size: 14px;\" ><textPath xlink:href=\"#edge0\">e0</textPath></text><text x=\"10%\" style=\"fill: #000000;stroke: none; font-size: 14px;\" ><textPath xlink:href=\"#edge1\">e1</textPath></text><text x=\"10%\" style=\"fill: #000000;stroke: none; font-size: 14px;\" ><textPath xlink:href=\"#edge2\">e2</textPath></text><text x=\"10%\" style=\"fill: #000000;stroke: none; font-size: 14px;\" ><textPath xlink:href=\"#edge3\">e3</textPath></text>  </g> </svg>"
      ],
      "text/plain": [
       "<rg.graph.viz.ring_diagram at 0x16a14de7ef0>"
      ]
     },
     "execution_count": 3,
     "metadata": {},
     "output_type": "execute_result"
    }
   ],
   "source": [
    "rainbow = incidence_matrix(4,4,\n",
    "                       [ [0,1], [1,2], [2,3], [0,3],   ],\n",
    "                       external_vertices=[0,2])\n",
    "#apply_flow(rainbow,set_source_sink_flow)\n",
    "ring_diagram(rainbow, options={\"show_labels\"})\n",
    "#todo better drawing o"
   ]
  },
  {
   "cell_type": "code",
   "execution_count": null,
   "metadata": {},
   "outputs": [],
   "source": [
    "maps = rainbow.edges_to_loop_basis()\n",
    "L = rainbow.first_betti_number\n",
    "species = [\"a\", \"a\", \"b\", \"c\"]\n",
    "factor = rg._product_([scalar_propagator(maps[i][:L], maps[i][L:],species= species[i] ).value for i in maps.keys()])\n",
    "factor\n",
    "#todo make the species differ here"
   ]
  },
  {
   "cell_type": "code",
   "execution_count": null,
   "metadata": {},
   "outputs": [],
   "source": [
    "#rainbow what are your delta functions\n",
    "Matrix(rainbow._internal_edge_set_.X)"
   ]
  },
  {
   "cell_type": "code",
   "execution_count": null,
   "metadata": {},
   "outputs": [],
   "source": [
    "list(rainbow._internal_edge_set_.X_delta)[0]\n",
    "#actually this does not know about the double pole - what happens if we naievly apply?"
   ]
  },
  {
   "cell_type": "code",
   "execution_count": null,
   "metadata": {},
   "outputs": [],
   "source": [
    "a,b=rainbow._symanzik_pols_(True,True,False,use_zero_mass=True)\n",
    "a_,b_=rainbow._symanzik_pols_(True,True,True,use_zero_mass=True)\n",
    "Matrix([simplify(a), simplify(a_),simplify(b),simplify(b_)])"
   ]
  },
  {
   "cell_type": "code",
   "execution_count": null,
   "metadata": {},
   "outputs": [],
   "source": [
    "mat = [[0,1,0,0,1,],\n",
    "       [0,1,0,1,1,],\n",
    "       [0,-1,0,0,2,2]\n",
    "      ]\n",
    "factors = scalar_propagator.from_basis_vector(mat,2)\n",
    "IG = rg.integral(factors)\n",
    "IG\n",
    "B = IG.integrate()\n",
    "B"
   ]
  },
  {
   "cell_type": "code",
   "execution_count": null,
   "metadata": {
    "collapsed": true
   },
   "outputs": [],
   "source": [
    "EG = expr(power=2).value*expr(sign=-1,colour=2).value#*expr(power=2).value\n",
    "EG"
   ]
  },
  {
   "cell_type": "code",
   "execution_count": null,
   "metadata": {
    "collapsed": true
   },
   "outputs": [],
   "source": [
    "EG = expr(sign=-1,power=2).value*expr(sign=1,colour=2).value*expr(power=1,colour=3).value\n",
    "EG"
   ]
  },
  {
   "cell_type": "code",
   "execution_count": null,
   "metadata": {
    "collapsed": true
   },
   "outputs": [],
   "source": []
  },
  {
   "cell_type": "markdown",
   "metadata": {},
   "source": [
    "## what does the derivative look like"
   ]
  },
  {
   "cell_type": "code",
   "execution_count": null,
   "metadata": {
    "collapsed": true
   },
   "outputs": [],
   "source": [
    "F = expr(sign=1,colour=2).value*expr(power=1,colour=2).value\n",
    "latex(diff(F, Symbol(\"omega_0\"),n=1))"
   ]
  },
  {
   "cell_type": "code",
   "execution_count": null,
   "metadata": {
    "collapsed": true
   },
   "outputs": [],
   "source": [
    "expr(sign=1,colour=2).value*expr(power=1,colour=3).value"
   ]
  },
  {
   "cell_type": "markdown",
   "metadata": {},
   "source": [
    "# What does this guys graph polynomial look like after sub\n",
    "\n",
    "because this is one of the simplest diagrams that does not given a mono-rational"
   ]
  },
  {
   "cell_type": "markdown",
   "metadata": {},
   "source": [
    "# integration"
   ]
  },
  {
   "cell_type": "code",
   "execution_count": null,
   "metadata": {
    "collapsed": true
   },
   "outputs": [],
   "source": [
    "groups = group_half_plane_residues(EG)\n",
    "loops = list(groups.keys())\n",
    "#for each loop perform an integration\n",
    "T = rg._sum_([ residue(EG,P) for P in groups[loops[0]]])\n",
    "latex(T)#simplify(T)"
   ]
  },
  {
   "cell_type": "code",
   "execution_count": null,
   "metadata": {
    "collapsed": true
   },
   "outputs": [],
   "source": []
  },
  {
   "cell_type": "code",
   "execution_count": null,
   "metadata": {
    "collapsed": true
   },
   "outputs": [],
   "source": []
  },
  {
   "cell_type": "code",
   "execution_count": null,
   "metadata": {
    "collapsed": true
   },
   "outputs": [],
   "source": [
    "apart(T,x=Symbol(\"C_1\"))"
   ]
  },
  {
   "cell_type": "markdown",
   "metadata": {},
   "source": [
    "# Schwinger integration\n",
    "\n",
    "Here we produce the integration pre-factor which causes an expansion >= 1 and determines the weight of propagators in the propagator basis for each term"
   ]
  },
  {
   "cell_type": "code",
   "execution_count": null,
   "metadata": {
    "collapsed": true
   },
   "outputs": [],
   "source": []
  },
  {
   "cell_type": "code",
   "execution_count": null,
   "metadata": {
    "collapsed": true
   },
   "outputs": [],
   "source": [
    "make_deltas_from_factors(EG)"
   ]
  },
  {
   "cell_type": "code",
   "execution_count": null,
   "metadata": {
    "collapsed": true
   },
   "outputs": [],
   "source": [
    "loops = list(groups.keys())\n",
    "loops[0]"
   ]
  },
  {
   "cell_type": "code",
   "execution_count": null,
   "metadata": {
    "collapsed": true
   },
   "outputs": [],
   "source": [
    "rg._sum_([ residue(EG,P) for P in groups[loops[0]]])"
   ]
  },
  {
   "cell_type": "code",
   "execution_count": null,
   "metadata": {
    "collapsed": true
   },
   "outputs": [],
   "source": [
    "EG = expr(power=2).value*expr(sign=-1,colour=2).value*expr(sign=-1,power=2,colour=3).value*expr(sign=1,power=1,colour=4).value\n",
    "EG"
   ]
  },
  {
   "cell_type": "code",
   "execution_count": null,
   "metadata": {
    "collapsed": true
   },
   "outputs": [],
   "source": [
    "rg._sum_([ residue(EG,P) for P in groups[loops[0]]])"
   ]
  },
  {
   "cell_type": "code",
   "execution_count": null,
   "metadata": {
    "collapsed": true
   },
   "outputs": [],
   "source": [
    "EG = expr(power=2).value*\\\n",
    "expr(sign=-1,colour=2).value*\\\n",
    "expr(sign=-1,power=1,colour=3).value*\\\n",
    "expr(sign=1,power=1,colour=4).value\n",
    "EG"
   ]
  },
  {
   "cell_type": "code",
   "execution_count": null,
   "metadata": {
    "collapsed": true
   },
   "outputs": [],
   "source": [
    "rg._sum_([ residue(EG,P) for P in groups[loops[0]]])"
   ]
  },
  {
   "cell_type": "code",
   "execution_count": null,
   "metadata": {
    "collapsed": true
   },
   "outputs": [],
   "source": []
  },
  {
   "cell_type": "code",
   "execution_count": null,
   "metadata": {
    "collapsed": true
   },
   "outputs": [],
   "source": [
    "sunmod = incidence_matrix(5,4,\n",
    "                       [ [0,2], [0,3], [2,1], [3,1], [2,3] ],\n",
    "                       external_vertices=[0,1])\n",
    "apply_flow(sunmod,set_source_sink_flow)\n",
    "ring_diagram(sunmod, options={\"show_labels\"})"
   ]
  },
  {
   "cell_type": "code",
   "execution_count": null,
   "metadata": {
    "collapsed": true
   },
   "outputs": [],
   "source": []
  },
  {
   "cell_type": "code",
   "execution_count": null,
   "metadata": {
    "collapsed": true
   },
   "outputs": [],
   "source": [
    "a,b=sunmod._symanzik_pols_(True,True,False)\n",
    "expand(a)"
   ]
  },
  {
   "cell_type": "code",
   "execution_count": null,
   "metadata": {
    "collapsed": true
   },
   "outputs": [],
   "source": [
    "b"
   ]
  },
  {
   "cell_type": "code",
   "execution_count": null,
   "metadata": {
    "collapsed": true
   },
   "outputs": [],
   "source": [
    "show_spanning_trees(sunmod)"
   ]
  },
  {
   "cell_type": "code",
   "execution_count": null,
   "metadata": {
    "collapsed": true
   },
   "outputs": [],
   "source": [
    "merc = incidence_matrix(6,4,\n",
    "                       [ [0,1], [1,2], [2,0], [0,3], [1,3], [2,3]  ],\n",
    "                       external_vertices=[0,1,2])\n",
    "apply_flow(merc,set_source_sink_flow)\n",
    "ring_diagram(merc, options={\"show_labels\"})"
   ]
  },
  {
   "cell_type": "code",
   "execution_count": null,
   "metadata": {
    "collapsed": true
   },
   "outputs": [],
   "source": [
    "# IS = merc[:-1,merc.spanning_trees.iloc[0].values]\n",
    "# np.matmul(np.linalg.pinv(IS) , IS )"
   ]
  },
  {
   "cell_type": "code",
   "execution_count": null,
   "metadata": {
    "collapsed": true
   },
   "outputs": [],
   "source": [
    "merc.constraint_system()"
   ]
  },
  {
   "cell_type": "code",
   "execution_count": null,
   "metadata": {
    "collapsed": true
   },
   "outputs": [],
   "source": [
    "merc.constraint_system(True)"
   ]
  },
  {
   "cell_type": "code",
   "execution_count": null,
   "metadata": {
    "collapsed": true
   },
   "outputs": [],
   "source": [
    "merc._internal_edge_set_.X"
   ]
  },
  {
   "cell_type": "code",
   "execution_count": null,
   "metadata": {
    "collapsed": true
   },
   "outputs": [],
   "source": [
    "list(merc._internal_edge_set_.X_delta)[0]"
   ]
  },
  {
   "cell_type": "code",
   "execution_count": null,
   "metadata": {
    "collapsed": true
   },
   "outputs": [],
   "source": [
    "list(merc._internal_edge_set_.X_delta)[1]"
   ]
  },
  {
   "cell_type": "code",
   "execution_count": null,
   "metadata": {
    "collapsed": true
   },
   "outputs": [],
   "source": [
    "list(merc._internal_edge_set_.X_delta)[2]"
   ]
  },
  {
   "cell_type": "code",
   "execution_count": null,
   "metadata": {
    "collapsed": true
   },
   "outputs": [],
   "source": [
    "len(list(merc._internal_edge_set_.X_delta))"
   ]
  },
  {
   "cell_type": "code",
   "execution_count": null,
   "metadata": {
    "collapsed": true
   },
   "outputs": [],
   "source": [
    "maps = merc.edges_to_loop_basis()\n",
    "L = merc.first_betti_number\n",
    "factor = rg._product_([scalar_propagator(maps[i][:L], maps[i][L:]).value for i in maps.keys()])\n",
    "factor"
   ]
  },
  {
   "cell_type": "code",
   "execution_count": null,
   "metadata": {
    "collapsed": true
   },
   "outputs": [],
   "source": [
    "IG = rg.integral(factor)\n",
    "IG.integrate()"
   ]
  },
  {
   "cell_type": "code",
   "execution_count": null,
   "metadata": {
    "collapsed": true
   },
   "outputs": [],
   "source": [
    "mat = [[0,-1,0,0,1,],\n",
    "       [0,1,0,0,0,1]]\n",
    "factors = scalar_propagator.from_basis_vector(mat,2)\n",
    "IG = rg.integral(factors)\n",
    "IG"
   ]
  },
  {
   "cell_type": "code",
   "execution_count": null,
   "metadata": {
    "collapsed": true
   },
   "outputs": [],
   "source": [
    "#IG.integrate()"
   ]
  },
  {
   "cell_type": "code",
   "execution_count": null,
   "metadata": {
    "collapsed": true
   },
   "outputs": [],
   "source": [
    "basic_loop = incidence_matrix(2,2,\n",
    "                       [ [0,1], [1,0],  ],\n",
    "                       external_vertices=[0,1])\n",
    "apply_flow(basic_loop,set_source_sink_flow)\n",
    "ring_diagram(basic_loop, options={\"show_labels\"})"
   ]
  },
  {
   "cell_type": "code",
   "execution_count": null,
   "metadata": {
    "collapsed": true
   },
   "outputs": [],
   "source": [
    "basic_loop.constraint_system()"
   ]
  },
  {
   "cell_type": "code",
   "execution_count": null,
   "metadata": {
    "collapsed": true
   },
   "outputs": [],
   "source": [
    "basic_loop.constraint_system(True)"
   ]
  },
  {
   "cell_type": "code",
   "execution_count": null,
   "metadata": {
    "collapsed": true
   },
   "outputs": [],
   "source": [
    "sunset_boost = incidence_matrix(4,3,\n",
    "                       [ [0,1], [1,0], [0,2], [2,1]  ],\n",
    "                       external_vertices=[0,1])\n",
    "apply_flow(sunset_boost,set_source_sink_flow)\n",
    "ring_diagram(sunset_boost, options={\"show_labels\"})"
   ]
  },
  {
   "cell_type": "code",
   "execution_count": null,
   "metadata": {
    "collapsed": true
   },
   "outputs": [],
   "source": [
    "a,b=sunset_boost._symanzik_pols_(True,True,True)\n",
    "a"
   ]
  },
  {
   "cell_type": "code",
   "execution_count": null,
   "metadata": {
    "collapsed": true
   },
   "outputs": [],
   "source": [
    "b"
   ]
  },
  {
   "cell_type": "code",
   "execution_count": null,
   "metadata": {
    "collapsed": true
   },
   "outputs": [],
   "source": [
    "ring_diagram(sunset_boost, options={\"show_labels\"})"
   ]
  },
  {
   "cell_type": "code",
   "execution_count": null,
   "metadata": {
    "collapsed": true
   },
   "outputs": [],
   "source": [
    "show_spanning_trees(sunset_boost)"
   ]
  },
  {
   "cell_type": "code",
   "execution_count": null,
   "metadata": {
    "collapsed": true
   },
   "outputs": [],
   "source": [
    "sunset = incidence_matrix(3,2,\n",
    "                       [ [0,1], [1,0], [0,1]  ],\n",
    "                       external_vertices=[0,1])\n",
    "apply_flow(sunset,set_source_sink_flow)\n",
    "ring_diagram(sunset, options={\"show_labels\"})"
   ]
  },
  {
   "cell_type": "code",
   "execution_count": null,
   "metadata": {
    "collapsed": true
   },
   "outputs": [],
   "source": [
    "sunset"
   ]
  },
  {
   "cell_type": "markdown",
   "metadata": {},
   "source": [
    "## How to make an integral from an incidence matrix"
   ]
  },
  {
   "cell_type": "code",
   "execution_count": null,
   "metadata": {
    "collapsed": true
   },
   "outputs": [],
   "source": [
    "maps = sunset.edges_to_loop_basis()\n",
    "L = sunset.first_betti_number\n",
    "factor = rg._product_([scalar_propagator(maps[i][:L], maps[i][L:]).value for i in maps.keys()])\n",
    "factor"
   ]
  },
  {
   "cell_type": "code",
   "execution_count": null,
   "metadata": {
    "collapsed": true
   },
   "outputs": [],
   "source": [
    "IG = rg.integral(factor)\n",
    "IG"
   ]
  },
  {
   "cell_type": "code",
   "execution_count": null,
   "metadata": {
    "collapsed": true
   },
   "outputs": [],
   "source": [
    "#IG.integrate([Symbol(\"omega_0\")])\n",
    "IG.integrate()\n"
   ]
  },
  {
   "cell_type": "code",
   "execution_count": null,
   "metadata": {
    "collapsed": true
   },
   "outputs": [],
   "source": [
    "\n",
    "k0,k1,kd1,D = symbols(\"k_0, k_1, k'_1 D\")\n",
    "exp = D*(kd1+k0+k1)**2\n",
    "H = expand(exp)\n",
    "H"
   ]
  },
  {
   "cell_type": "code",
   "execution_count": null,
   "metadata": {
    "collapsed": true
   },
   "outputs": [],
   "source": [
    "Poly(H)"
   ]
  },
  {
   "cell_type": "code",
   "execution_count": null,
   "metadata": {
    "collapsed": true
   },
   "outputs": [],
   "source": [
    "show_spanning_trees(sunset)"
   ]
  },
  {
   "cell_type": "code",
   "execution_count": null,
   "metadata": {
    "collapsed": true
   },
   "outputs": [],
   "source": [
    "sunset.constraint_system(True)"
   ]
  },
  {
   "cell_type": "code",
   "execution_count": null,
   "metadata": {
    "collapsed": true
   },
   "outputs": [],
   "source": [
    "a,b=_symanzik_pols_(sunset,True,True,False)\n",
    "a"
   ]
  },
  {
   "cell_type": "code",
   "execution_count": null,
   "metadata": {
    "collapsed": true
   },
   "outputs": [],
   "source": [
    "b"
   ]
  },
  {
   "cell_type": "code",
   "execution_count": null,
   "metadata": {
    "collapsed": true
   },
   "outputs": [],
   "source": [
    "a,b=_symanzik_pols_(sunset,True,True,True)\n",
    "a"
   ]
  },
  {
   "cell_type": "code",
   "execution_count": null,
   "metadata": {
    "collapsed": true
   },
   "outputs": [],
   "source": [
    "a,b=_symanzik_pols_(sunset,True,True,False)\n",
    "a"
   ]
  },
  {
   "cell_type": "code",
   "execution_count": null,
   "metadata": {
    "collapsed": true
   },
   "outputs": [],
   "source": [
    "a,b=_symanzik_pols_(sunset,True,True,True)\n",
    "a"
   ]
  },
  {
   "cell_type": "code",
   "execution_count": null,
   "metadata": {
    "collapsed": true
   },
   "outputs": [],
   "source": [
    "#now we need to fully integrate the sunset diagram to see what is going on \n",
    "#(later we can consider multiple poles and multiple species on other graphs)"
   ]
  },
  {
   "cell_type": "markdown",
   "metadata": {},
   "source": [
    "# Tasks \n",
    " - (a) make sure the integral formula is solid and then should work for any order\n",
    " - (b) some clean up on the K polynomials should be done but not a show stopper\n",
    " - (c) some enumerations for finding patterns at one then two loop and S species "
   ]
  },
  {
   "cell_type": "markdown",
   "metadata": {},
   "source": [
    "# Some one loop examples of omega-integration"
   ]
  },
  {
   "cell_type": "markdown",
   "metadata": {},
   "source": [
    "# 1 \n",
    "This is one of the simplest examples"
   ]
  },
  {
   "cell_type": "code",
   "execution_count": null,
   "metadata": {
    "collapsed": true
   },
   "outputs": [],
   "source": [
    "mat = [[0,-1,0,1,1,],\n",
    "       [0,1,0,0,0,1]]\n",
    "factors = scalar_propagator.from_basis_vector(mat,2)\n",
    "IG = rg.integral(factors)\n",
    "IG"
   ]
  },
  {
   "cell_type": "code",
   "execution_count": null,
   "metadata": {
    "collapsed": true
   },
   "outputs": [],
   "source": [
    "IG.integrate()"
   ]
  },
  {
   "cell_type": "markdown",
   "metadata": {},
   "source": [
    "# 2 \n",
    "example pole order 2 with externa momentum (freq)"
   ]
  },
  {
   "cell_type": "code",
   "execution_count": null,
   "metadata": {
    "collapsed": true
   },
   "outputs": [],
   "source": [
    "mat = [[0,1,0,1,0,1],\n",
    "       [0,-1,0,0,0,2]]\n",
    "factors = scalar_propagator.from_basis_vector(mat,2)\n",
    "IG = rg.integral(factors)\n",
    "IG"
   ]
  },
  {
   "cell_type": "code",
   "execution_count": null,
   "metadata": {
    "collapsed": true
   },
   "outputs": [],
   "source": [
    "IG.integrate()"
   ]
  },
  {
   "cell_type": "markdown",
   "metadata": {},
   "source": [
    "# 3 \n",
    "\n",
    "Example poles of higher order"
   ]
  },
  {
   "cell_type": "code",
   "execution_count": null,
   "metadata": {
    "collapsed": true
   },
   "outputs": [],
   "source": [
    "mat = [[0,-1,0,1,0,5],\n",
    "       [0,1,0,0,0,2]]\n",
    "factors = scalar_propagator.from_basis_vector(mat,2)\n",
    "IG = rg.integral(factors)\n",
    "IG.integrate()\n"
   ]
  },
  {
   "cell_type": "markdown",
   "metadata": {},
   "source": [
    "# 4 \n",
    "Example introducing new species"
   ]
  },
  {
   "cell_type": "code",
   "execution_count": null,
   "metadata": {
    "collapsed": true
   },
   "outputs": [],
   "source": [
    "mat = [[0,-1,0,1,0,1],\n",
    "       [0,1,0,1,1,1],\n",
    "       [0,1,0,0,0,1]\n",
    "      ]\n",
    "factors = scalar_propagator.from_basis_vector(mat,2)\n",
    "IG = rg.integral(factors)\n",
    "IG"
   ]
  },
  {
   "cell_type": "code",
   "execution_count": null,
   "metadata": {
    "collapsed": true
   },
   "outputs": [],
   "source": [
    "sunset.kirchhoff"
   ]
  },
  {
   "cell_type": "code",
   "execution_count": null,
   "metadata": {
    "collapsed": true
   },
   "outputs": [],
   "source": [
    "IG.integrate()"
   ]
  },
  {
   "cell_type": "markdown",
   "metadata": {},
   "source": [
    "# Some two loop examples of omega-integration"
   ]
  },
  {
   "cell_type": "code",
   "execution_count": null,
   "metadata": {
    "collapsed": true
   },
   "outputs": [],
   "source": [
    "sunset = incidence_matrix(3,2,\n",
    "                       [ [0,1], [1,0], [0,1]  ],\n",
    "                       external_vertices=[0,1])\n",
    "ring_diagram(sunset,options={\"show_labels\"})"
   ]
  },
  {
   "cell_type": "code",
   "execution_count": null,
   "metadata": {
    "collapsed": true
   },
   "outputs": [],
   "source": [
    "#if the loop integral has species colours, we have the option of the extended basis\n",
    "#we can colour the edges too - go to rg.colour_map"
   ]
  },
  {
   "cell_type": "code",
   "execution_count": null,
   "metadata": {
    "collapsed": true
   },
   "outputs": [],
   "source": [
    "L = sunset.first_betti_number\n",
    "maps = sunset.edges_to_loop_basis()\n",
    "factor = rg._product_([scalar_propagator(maps[i][:L], maps[i][L:]).value for i in maps.keys()])\n",
    "IG = rg.integral(factor)\n",
    "IG"
   ]
  },
  {
   "cell_type": "code",
   "execution_count": null,
   "metadata": {
    "collapsed": true
   },
   "outputs": [],
   "source": [
    "#this does not seem that believable unless the sunset is a special case for two-loop\n",
    "IG.integrate()"
   ]
  },
  {
   "cell_type": "code",
   "execution_count": null,
   "metadata": {
    "collapsed": true
   },
   "outputs": [],
   "source": [
    "## more.... "
   ]
  },
  {
   "cell_type": "code",
   "execution_count": null,
   "metadata": {
    "collapsed": true
   },
   "outputs": [],
   "source": [
    "bobcut = incidence_matrix(5,4,\n",
    "                       [ [0,1], [1,3], [2,0], [3,2],[2,3] ],\n",
    "                       external_vertices=[0,1])\n",
    "ring_diagram(bobcut,options={\"show_labels\"})\n",
    "#i know why the drawing is trying to create e1 which i can easily fix but how are the pids lining up?"
   ]
  },
  {
   "cell_type": "code",
   "execution_count": null,
   "metadata": {
    "collapsed": true
   },
   "outputs": [],
   "source": [
    "maps = bobcut.edges_to_loop_basis()\n",
    "factor = rg._product_([scalar_propagator(maps[i][:L], maps[i][L:]).value for i in maps.keys()])\n",
    "IG = rg.integral(factor)\n",
    "IG"
   ]
  },
  {
   "cell_type": "code",
   "execution_count": null,
   "metadata": {
    "collapsed": true
   },
   "outputs": [],
   "source": [
    "IG.integrate()"
   ]
  },
  {
   "cell_type": "markdown",
   "metadata": {
    "collapsed": true
   },
   "source": [
    "# Permute and integrate propagator combos\n",
    "#TODO - should be able to test this by using the schwinger route and making sure they are in agreement\n",
    "\n",
    "Then find a way to permute over propagators for S species, L loops, V external vertices - allow for vanishing integrals - create a table \n",
    "\n",
    "Look into leaving the fraction decomposition or finding it"
   ]
  },
  {
   "cell_type": "code",
   "execution_count": null,
   "metadata": {
    "collapsed": true
   },
   "outputs": [],
   "source": [
    "mat = [[0,-1,0,0,1,],\n",
    "       [0,1,0,0,0,1]]\n",
    "factors = scalar_propagator.from_basis_vector(mat,2)\n",
    "IG = rg.integral(factors)\n",
    "IG.integrate()"
   ]
  },
  {
   "cell_type": "code",
   "execution_count": null,
   "metadata": {
    "collapsed": true
   },
   "outputs": [],
   "source": [
    "mat = [[0,-1,0,0,2,],\n",
    "       [0,1,0,0,0,2]]\n",
    "factors = scalar_propagator.from_basis_vector(mat,2)\n",
    "IG = rg.integral(factors)\n",
    "IG.integrate()"
   ]
  },
  {
   "cell_type": "code",
   "execution_count": null,
   "metadata": {
    "collapsed": true
   },
   "outputs": [],
   "source": [
    "mat = [[0,-1,0,1,2,],\n",
    "       [0,1,0,0,0,2]]\n",
    "factors = scalar_propagator.from_basis_vector(mat,2)\n",
    "IG = rg.integral(factors)\n",
    "IG.integrate()"
   ]
  },
  {
   "cell_type": "code",
   "execution_count": null,
   "metadata": {
    "collapsed": true
   },
   "outputs": [],
   "source": [
    "mat = [[0,-1,1,1,2,],\n",
    "       [0,1,0,0,0,2]]\n",
    "factors = scalar_propagator.from_basis_vector(mat,2)\n",
    "IG = rg.integral(factors)\n",
    "IG.integrate()"
   ]
  },
  {
   "cell_type": "code",
   "execution_count": null,
   "metadata": {
    "collapsed": true
   },
   "outputs": [],
   "source": [
    "mat = [[0,-1,1,1,2,],\n",
    "       [1,1,0,0,0,2],\n",
    "       [-1,1,0,0,0,2]\n",
    "      ]\n",
    "factors = scalar_propagator.from_basis_vector(mat,2)\n",
    "IG = rg.integral(factors)\n",
    "IG.integrate()"
   ]
  },
  {
   "cell_type": "code",
   "execution_count": null,
   "metadata": {
    "collapsed": true
   },
   "outputs": [],
   "source": [
    "mat = [[0,1,1,1,1,],\n",
    "       [0,1,0,0,0,1],\n",
    "       [0,-1,0,0,1,2]\n",
    "      ]\n",
    "factors = scalar_propagator.from_basis_vector(mat,2)\n",
    "IG = rg.integral(factors)\n",
    "IG#.integrate()"
   ]
  },
  {
   "cell_type": "code",
   "execution_count": null,
   "metadata": {
    "collapsed": true
   },
   "outputs": [],
   "source": [
    "#clearly the sum of two residues, maybe its better to do the fraction decomposition\n",
    "#if this is possible from residues, how do we explain it with schwinger??? - remember the generliased schwinger rep\n",
    "IG.integrate()"
   ]
  },
  {
   "cell_type": "code",
   "execution_count": null,
   "metadata": {
    "collapsed": true
   },
   "outputs": [],
   "source": [
    "#add some of Tauber and Freys examples for agreement check\n",
    "#check for dealng with k momenta and then..\n",
    "#move on then to doing the MS and eps expansion of the gamma functions - recheck with Cardy"
   ]
  },
  {
   "cell_type": "code",
   "execution_count": null,
   "metadata": {
    "collapsed": true
   },
   "outputs": [],
   "source": [
    "mat = [[0,1,1,0,1,],\n",
    "       [0,-1,0,0,0,1]\n",
    "      ]\n",
    "factors = scalar_propagator.from_basis_vector(mat,2)\n",
    "IG = rg.integral(factors)\n",
    "A = IG.integrate()\n",
    "A"
   ]
  },
  {
   "cell_type": "code",
   "execution_count": null,
   "metadata": {
    "collapsed": true
   },
   "outputs": [],
   "source": [
    "mat = [[0,1,1,0,1,],\n",
    "       [0,1,0,1,1,],\n",
    "       [0,-1,0,0,0,1]\n",
    "      ]\n",
    "factors = scalar_propagator.from_basis_vector(mat,2)\n",
    "IG = rg.integral(factors)\n",
    "B = IG.integrate()\n",
    "B"
   ]
  },
  {
   "cell_type": "code",
   "execution_count": null,
   "metadata": {
    "collapsed": true
   },
   "outputs": [],
   "source": [
    "simplify( (A.value+B.value).subs({Symbol(\"m_a\"):0,Symbol(\"m_b\"):0,Symbol(\"D_a\"):Symbol(\"D\"),Symbol(\"D_b\"):Symbol(\"D\")}))"
   ]
  },
  {
   "cell_type": "code",
   "execution_count": null,
   "metadata": {
    "collapsed": true
   },
   "outputs": [],
   "source": []
  }
 ],
 "metadata": {
  "kernelspec": {
   "display_name": "Python 3",
   "language": "python",
   "name": "python3"
  },
  "language_info": {
   "codemirror_mode": {
    "name": "ipython",
    "version": 3
   },
   "file_extension": ".py",
   "mimetype": "text/x-python",
   "name": "python",
   "nbconvert_exporter": "python",
   "pygments_lexer": "ipython3",
   "version": "3.6.3"
  }
 },
 "nbformat": 4,
 "nbformat_minor": 2
}
