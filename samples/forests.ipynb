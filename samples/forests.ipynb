{
 "cells": [
  {
   "cell_type": "code",
   "execution_count": 1,
   "metadata": {
    "collapsed": true
   },
   "outputs": [],
   "source": [
    "import sys\n",
    "sys.path.insert(0,'../')\n",
    "import rg\n",
    "from rg.diagrams import diagram, composition_diagram, diagram_set\n",
    "from rg.interaction import interaction as J \n",
    "from rg.interaction import interaction_identity\n",
    "from rg.interaction import interaction_system\n",
    "from rg.interaction import composite_interaction as G\n",
    "from rg.theory import ftheory\n",
    "from rg.graphs import composite_interaction_graph as fgraph\n",
    "from rg.propagator import cpropagator, kpropagator\n",
    "\n",
    "import numpy as np\n",
    "from sympy import init_printing\n",
    "init_printing()"
   ]
  },
  {
   "cell_type": "code",
   "execution_count": 42,
   "metadata": {},
   "outputs": [
    {
     "data": {
      "text/html": [
       "<svg xmlns=\"http://www.w3.org/2000/svg\" xmlns:xlink=\"http://www.w3.org/1999/xlink\" version=\"1.1\" x=\"0\" y=\"0\" width=\"200\" height=\"180\">\n",
       "      <g fill=\"none\" stroke=\"black\" stroke-width=\"1.6\" stroke-linecap=\"round\"> <circle cx=\"150.0\" cy=\"100.0\" r=\"3\" stroke=\"black\" stroke-width=\"1\" fill=\"black\" /> <line x1=\"0\" y1=\"0\" x2=\"40\" y2=\"0\" stroke=\"green\" stroke-dasharray=\"None\" stroke-width:2\" transform=\" translate(150.0,100.0) rotate(0.0 0, 0 )\" /><circle cx=\"50.0\" cy=\"100.0\" r=\"3\" stroke=\"black\" stroke-width=\"1\" fill=\"black\" /> <line x1=\"0\" y1=\"0\" x2=\"40\" y2=\"0\" stroke=\"green\" stroke-dasharray=\"None\" stroke-width:2\" transform=\" translate(50.0,100.0) rotate(-180.0 0, 0 )\" /><path d=\"M  50.0  100.0  A  50  50  0  0  0  150.0  100.0 \" stroke=\"green\"/><path d=\"M  150.0  100.0  A  50  50  0  0  0  50.0  100.0 \" stroke=\"green\"/>  </g> </svg>"
      ],
      "text/plain": [
       "<svg xmlns=\"http://www.w3.org/2000/svg\" xmlns:xlink=\"http://www.w3.org/1999/xlink\" version=\"1.1\" x=\"0\" y=\"0\" width=\"500\" height=\"120\">\n",
       "      <g fill=\"none\" stroke=\"black\" stroke-width=\"1.6\" stroke-linecap=\"round\"> <circle cx=\"70\" cy=\"50\" r=\"3\" stroke=\"black\" stroke-width=\"1\" fill=\"black\" /> <circle cx=\"20\" cy=\"50\" r=\"3\" stroke=\"black\" stroke-width=\"1\" fill=\"black\" /> <circle cx=\"52\" cy=\"41\" r=\"2\" stroke=\"green\" stroke-width=\"1\" fill='green' /> <circle cx=\"52\" cy=\"59\" r=\"2\" stroke=\"green\" stroke-width=\"1\" fill='green' /> <circle cx=\"88\" cy=\"50\" r=\"2\" stroke=\"green\" stroke-width=\"1\"  /> <circle cx=\"38\" cy=\"41\" r=\"2\" stroke=\"green\" stroke-width=\"1\"  /> <circle cx=\"38\" cy=\"59\" r=\"2\" stroke=\"green\" stroke-width=\"1\"  /> <circle cx=\"2\" cy=\"50\" r=\"2\" stroke=\"green\" stroke-width=\"1\" fill='green' /> <line x1=\"52\" y1=\"41\" x2=\"70\" y2=\"50\" stroke=\"green\" stroke-width:2\"  stroke-dasharray='2,2' /><line x1=\"52\" y1=\"41\" x2=\"38\" y2=\"41\" stroke=\"green\" stroke-width:2\"  stroke-dasharray='2,2' /><line x1=\"38\" y1=\"41\" x2=\"20\" y2=\"50\" stroke=\"green\" stroke-width:2\"  stroke-dasharray='2,2' /><line x1=\"52\" y1=\"59\" x2=\"70\" y2=\"50\" stroke=\"green\" stroke-width:2\"  stroke-dasharray='2,2' /><line x1=\"52\" y1=\"59\" x2=\"38\" y2=\"59\" stroke=\"green\" stroke-width:2\"  stroke-dasharray='2,2' /><line x1=\"38\" y1=\"59\" x2=\"20\" y2=\"50\" stroke=\"green\" stroke-width:2\"  stroke-dasharray='2,2' /><line x1=\"88\" y1=\"50\" x2=\"70\" y2=\"50\" stroke=\"green\" stroke-width:2\"   /><line x1=\"2\" y1=\"50\" x2=\"20\" y2=\"50\" stroke=\"green\" stroke-width:2\"   />  </g> </svg>"
      ]
     },
     "execution_count": 42,
     "metadata": {},
     "output_type": "execute_result"
    }
   ],
   "source": [
    "coagulation = J([[2,1],[0,0]])\n",
    "branching = J([[1,2],[0,0]])\n",
    "cross = J([[1,1],[1,1]])\n",
    "U = G(branching)*G(coagulation)\n",
    "Gr=fgraph(U)\n",
    "composition_diagram(U,compact=True)"
   ]
  },
  {
   "cell_type": "code",
   "execution_count": 43,
   "metadata": {},
   "outputs": [
    {
     "data": {
      "image/png": "[encoded data removed]",
      "text/latex": [
       "$$\\left[\\begin{matrix}x_{1} + x_{2} + z & - x_{2} & - z\\\\- x_{2} & x_{1} + x_{2} + z & - z\\\\- z & - z & 2 z\\end{matrix}\\right]$$"
      ],
      "text/plain": [
       "⎡x₁ + x₂ + z      -x₂      -z ⎤\n",
       "⎢                             ⎥\n",
       "⎢    -x₂      x₁ + x₂ + z  -z ⎥\n",
       "⎢                             ⎥\n",
       "⎣    -z           -z       2⋅z⎦"
      ]
     },
     "execution_count": 43,
     "metadata": {},
     "output_type": "execute_result"
    }
   ],
   "source": [
    "Gr.symbol_laplacian()"
   ]
  },
  {
   "cell_type": "code",
   "execution_count": 44,
   "metadata": {},
   "outputs": [
    {
     "data": {
      "image/png": "[encoded data removed]",
      "text/latex": [
       "$$x_{1}^{2} + 2 x_{1} x_{2} + z^{2} + z \\left(2 x_{1} + 2 x_{2}\\right)$$"
      ],
      "text/plain": [
       "  2              2                  \n",
       "x₁  + 2⋅x₁⋅x₂ + z  + z⋅(2⋅x₁ + 2⋅x₂)"
      ]
     },
     "execution_count": 44,
     "metadata": {},
     "output_type": "execute_result"
    }
   ],
   "source": [
    "S_ = Gr.kirchhoff_poly()\n",
    "S_"
   ]
  },
  {
   "cell_type": "code",
   "execution_count": 45,
   "metadata": {},
   "outputs": [
    {
     "data": {
      "image/png": "[encoded data removed]",
      "text/latex": [
       "$$\\left ( x_{1} + x_{2}, \\quad x_{1} x_{2}, \\quad x_{1} x_{2} + \\left(x_{1} + x_{2}\\right)^{2}\\right )$$"
      ],
      "text/plain": [
       "⎛                                 2⎞\n",
       "⎝x₁ + x₂, x₁⋅x₂, x₁⋅x₂ + (x₁ + x₂) ⎠"
      ]
     },
     "execution_count": 45,
     "metadata": {},
     "output_type": "execute_result"
    }
   ],
   "source": [
    "polys = Gr.graph_polynomials()\n",
    "polys"
   ]
  },
  {
   "cell_type": "code",
   "execution_count": 46,
   "metadata": {},
   "outputs": [
    {
     "data": {
      "image/png": "[encoded data removed]",
      "text/latex": [
       "$$\\left [ 1, \\quad x_{2} \\left(- x_{2} + 1\\right), \\quad - x_{2} \\left(x_{2} - 1\\right) + 1\\right ]$$"
      ],
      "text/plain": [
       "[1, x₂⋅(-x₂ + 1), -x₂⋅(x₂ - 1) + 1]"
      ]
     },
     "execution_count": 46,
     "metadata": {},
     "output_type": "execute_result"
    }
   ],
   "source": [
    "from sympy import Symbol,simplify\n",
    "[simplify(p.subs(Symbol(\"x1\"), 1-Symbol(\"x2\"))) for p in polys]\n"
   ]
  },
  {
   "cell_type": "code",
   "execution_count": 61,
   "metadata": {},
   "outputs": [
    {
     "data": {
      "image/png": "[encoded data removed]",
      "text/latex": [
       "$$\\left ( x_{1} + x_{2}, \\quad p_{1} x_{1} x_{2}, \\quad p_{1} x_{1} x_{2} + \\left(x_{1} + x_{2}\\right) \\left(m_{1} x_{1} + m_{1} x_{2}\\right)\\right )$$"
      ],
      "text/plain": [
       "(x₁ + x₂, p₁⋅x₁⋅x₂, p₁⋅x₁⋅x₂ + (x₁ + x₂)⋅(m₁⋅x₁ + m₁⋅x₂))"
      ]
     },
     "execution_count": 61,
     "metadata": {},
     "output_type": "execute_result"
    }
   ],
   "source": [
    "U,F0,F = Gr.graph_polynomials(cut_momenta=[Symbol(\"p_1\")], masses=[Symbol(\"m_1\"), Symbol(\"m_1\")])\n",
    "U,F0,F"
   ]
  },
  {
   "cell_type": "code",
   "execution_count": 62,
   "metadata": {},
   "outputs": [
    {
     "data": {
      "image/png": "[encoded data removed]",
      "text/latex": [
       "$$m_{1} - p_{1} x_{2}^{2} + p_{1} x_{2}$$"
      ],
      "text/plain": [
       "          2        \n",
       "m₁ - p₁⋅x₂  + p₁⋅x₂"
      ]
     },
     "execution_count": 62,
     "metadata": {},
     "output_type": "execute_result"
    }
   ],
   "source": [
    "U = U.subs(Symbol(\"x1\"), 1-Symbol(\"x2\"))\n",
    "F = F.subs(Symbol(\"x1\"), 1-Symbol(\"x2\"))\n",
    "O=simplify(U/F)\n",
    "O = O.as_numer_denom()[1]\n",
    "O"
   ]
  },
  {
   "cell_type": "code",
   "execution_count": 63,
   "metadata": {},
   "outputs": [
    {
     "data": {
      "image/png": "[encoded data removed]",
      "text/latex": [
       "$$m_{1} + \\frac{p_{1}}{6}$$"
      ],
      "text/plain": [
       "     p₁\n",
       "m₁ + ──\n",
       "     6 "
      ]
     },
     "execution_count": 63,
     "metadata": {},
     "output_type": "execute_result"
    }
   ],
   "source": [
    "from sympy import integrate\n",
    "integrate(O, (Symbol(\"x2\"),0,1))"
   ]
  },
  {
   "cell_type": "code",
   "execution_count": 7,
   "metadata": {},
   "outputs": [
    {
     "data": {
      "text/html": [
       "<svg xmlns=\"http://www.w3.org/2000/svg\" xmlns:xlink=\"http://www.w3.org/1999/xlink\" version=\"1.1\" x=\"0\" y=\"0\" width=\"200\" height=\"180\">\n",
       "      <g fill=\"none\" stroke=\"black\" stroke-width=\"1.6\" stroke-linecap=\"round\"> <circle cx=\"150.0\" cy=\"100.0\" r=\"3\" stroke=\"black\" stroke-width=\"1\" fill=\"black\" /> <line x1=\"0\" y1=\"0\" x2=\"40\" y2=\"0\" stroke=\"green\" stroke-dasharray=\"None\" stroke-width:2\" transform=\" translate(150.0,100.0) rotate(0.0 0, 0 )\" /><circle cx=\"100.0\" cy=\"50.0\" r=\"3\" stroke=\"black\" stroke-width=\"1\" fill=\"black\" /> <line x1=\"0\" y1=\"0\" x2=\"40\" y2=\"0\" stroke=\"orange\" stroke-dasharray=\"None\" stroke-width:2\" transform=\" translate(100.0,50.0) rotate(0.0 0, 0 )\" /><line x1=\"0\" y1=\"0\" x2=\"40\" y2=\"0\" stroke=\"orange\" stroke-dasharray=\"None\" stroke-width:2\" transform=\" translate(100.0,50.0) rotate(-180.0 0, 0 )\" /><circle cx=\"50.0\" cy=\"100.0\" r=\"3\" stroke=\"black\" stroke-width=\"1\" fill=\"black\" /> <line x1=\"0\" y1=\"0\" x2=\"40\" y2=\"0\" stroke=\"green\" stroke-dasharray=\"None\" stroke-width:2\" transform=\" translate(50.0,100.0) rotate(-180.0 0, 0 )\" /><path d=\"M  150.0  100.0  A  50  50  0  0  0  100.0  50.0 \" stroke=\"green\"/><path d=\"M  50.0  100.0  A  50  50  0  0  0  150.0  100.0 \" stroke=\"green\"/><path d=\"M  100.0  50.0  A  50  50  0  0  0  50.0  100.0 \" stroke=\"green\"/>  </g> </svg>"
      ],
      "text/plain": [
       "<svg xmlns=\"http://www.w3.org/2000/svg\" xmlns:xlink=\"http://www.w3.org/1999/xlink\" version=\"1.1\" x=\"0\" y=\"0\" width=\"500\" height=\"120\">\n",
       "      <g fill=\"none\" stroke=\"black\" stroke-width=\"1.6\" stroke-linecap=\"round\"> <circle cx=\"120\" cy=\"50\" r=\"3\" stroke=\"black\" stroke-width=\"1\" fill=\"black\" /> <circle cx=\"70\" cy=\"50\" r=\"3\" stroke=\"black\" stroke-width=\"1\" fill=\"black\" /> <circle cx=\"20\" cy=\"50\" r=\"3\" stroke=\"black\" stroke-width=\"1\" fill=\"black\" /> <circle cx=\"102\" cy=\"41\" r=\"2\" stroke=\"green\" stroke-width=\"1\" fill='green' /> <circle cx=\"102\" cy=\"59\" r=\"2\" stroke=\"green\" stroke-width=\"1\" fill='green' /> <circle cx=\"138\" cy=\"50\" r=\"2\" stroke=\"green\" stroke-width=\"1\"  /> <circle cx=\"88\" cy=\"41\" r=\"2\" stroke=\"green\" stroke-width=\"1\"  /> <circle cx=\"52\" cy=\"41\" r=\"2\" stroke=\"green\" stroke-width=\"1\" fill='green' /> <circle cx=\"52\" cy=\"59\" r=\"2\" stroke=\"orange\" stroke-width=\"1\" fill='orange' /> <circle cx=\"88\" cy=\"59\" r=\"2\" stroke=\"orange\" stroke-width=\"1\"  /> <circle cx=\"38\" cy=\"41\" r=\"2\" stroke=\"green\" stroke-width=\"1\"  /> <circle cx=\"38\" cy=\"59\" r=\"2\" stroke=\"green\" stroke-width=\"1\"  /> <circle cx=\"2\" cy=\"50\" r=\"2\" stroke=\"green\" stroke-width=\"1\" fill='green' /> <line x1=\"102\" y1=\"41\" x2=\"120\" y2=\"50\" stroke=\"green\" stroke-width:2\"  stroke-dasharray='2,2' /><line x1=\"102\" y1=\"41\" x2=\"88\" y2=\"41\" stroke=\"green\" stroke-width:2\"  stroke-dasharray='2,2' /><line x1=\"88\" y1=\"41\" x2=\"70\" y2=\"50\" stroke=\"green\" stroke-width:2\"  stroke-dasharray='2,2' /><line x1=\"102\" y1=\"59\" x2=\"120\" y2=\"50\" stroke=\"green\" stroke-width:2\"  stroke-dasharray='2,2' /><line x1=\"102\" y1=\"59\" x2=\"38\" y2=\"41\" stroke=\"green\" stroke-width:2\"  stroke-dasharray='2,2' /><line x1=\"38\" y1=\"41\" x2=\"20\" y2=\"50\" stroke=\"green\" stroke-width:2\"  stroke-dasharray='2,2' /><line x1=\"52\" y1=\"41\" x2=\"70\" y2=\"50\" stroke=\"green\" stroke-width:2\"  stroke-dasharray='2,2' /><line x1=\"52\" y1=\"41\" x2=\"38\" y2=\"59\" stroke=\"green\" stroke-width:2\"  stroke-dasharray='2,2' /><line x1=\"38\" y1=\"59\" x2=\"20\" y2=\"50\" stroke=\"green\" stroke-width:2\"  stroke-dasharray='2,2' /><line x1=\"138\" y1=\"50\" x2=\"120\" y2=\"50\" stroke=\"green\" stroke-width:2\"   /><line x1=\"52\" y1=\"59\" x2=\"70\" y2=\"50\" stroke=\"orange\" stroke-width:2\"   /><line x1=\"88\" y1=\"59\" x2=\"70\" y2=\"50\" stroke=\"orange\" stroke-width:2\"   /><line x1=\"2\" y1=\"50\" x2=\"20\" y2=\"50\" stroke=\"green\" stroke-width:2\"   />  </g> </svg>"
      ]
     },
     "execution_count": 7,
     "metadata": {},
     "output_type": "execute_result"
    }
   ],
   "source": [
    "U = G(branching)*G(cross)*G(coagulation)\n",
    "composition_diagram(U,compact=True)"
   ]
  },
  {
   "cell_type": "code",
   "execution_count": 20,
   "metadata": {
    "collapsed": true
   },
   "outputs": [],
   "source": [
    "Gr=fgraph(U)"
   ]
  },
  {
   "cell_type": "code",
   "execution_count": 21,
   "metadata": {},
   "outputs": [
    {
     "data": {
      "image/png": "[encoded data removed]",
      "text/latex": [
       "$$\\left[\\begin{matrix}x_{1} + x_{2} + z & - x_{1} & - x_{2} & - z\\\\- x_{1} & x_{1} + x_{3} + 2 z & - x_{3} & - z\\\\- x_{2} & - x_{3} & x_{2} + x_{3} + z & - z\\\\- z & - z & - z & 4 z\\end{matrix}\\right]$$"
      ],
      "text/plain": [
       "⎡x₁ + x₂ + z       -x₁           -x₂      -z ⎤\n",
       "⎢                                            ⎥\n",
       "⎢    -x₁      x₁ + x₃ + 2⋅z      -x₃      -z ⎥\n",
       "⎢                                            ⎥\n",
       "⎢    -x₂           -x₃       x₂ + x₃ + z  -z ⎥\n",
       "⎢                                            ⎥\n",
       "⎣    -z            -z            -z       4⋅z⎦"
      ]
     },
     "execution_count": 21,
     "metadata": {},
     "output_type": "execute_result"
    }
   ],
   "source": [
    "Gr.symbol_laplacian()"
   ]
  },
  {
   "cell_type": "code",
   "execution_count": 22,
   "metadata": {},
   "outputs": [
    {
     "data": {
      "image/png": "[encoded data removed]",
      "text/latex": [
       "$$2 z^{3} + z^{2} \\left(3 x_{1} + 4 x_{2} + 3 x_{3}\\right) + z \\left(4 x_{1} x_{2} + 4 x_{1} x_{3} + 4 x_{2} x_{3}\\right)$$"
      ],
      "text/plain": [
       "   3    2                                                       \n",
       "2⋅z  + z ⋅(3⋅x₁ + 4⋅x₂ + 3⋅x₃) + z⋅(4⋅x₁⋅x₂ + 4⋅x₁⋅x₃ + 4⋅x₂⋅x₃)"
      ]
     },
     "execution_count": 22,
     "metadata": {},
     "output_type": "execute_result"
    }
   ],
   "source": [
    "Gr.kirchhoff_poly()"
   ]
  },
  {
   "cell_type": "code",
   "execution_count": 27,
   "metadata": {},
   "outputs": [
    {
     "data": {
      "image/png": "[encoded data removed]",
      "text/latex": [
       "$$\\left ( x_{1} + x_{2} + x_{3}, \\quad p_{1} x_{1} x_{2} + p_{1} x_{2} x_{3}, \\quad p_{1} x_{1} x_{2} + p_{1} x_{2} x_{3} + \\left(x_{1} + x_{2} + x_{3}\\right) \\left(m_{1} x_{1} + m_{1} x_{2} + m_{1} x_{3}\\right)\\right )$$"
      ],
      "text/plain": [
       "(x₁ + x₂ + x₃, p₁⋅x₁⋅x₂ + p₁⋅x₂⋅x₃, p₁⋅x₁⋅x₂ + p₁⋅x₂⋅x₃ + (x₁ + x₂ + x₃)⋅(m₁⋅x\n",
       "₁ + m₁⋅x₂ + m₁⋅x₃))"
      ]
     },
     "execution_count": 27,
     "metadata": {},
     "output_type": "execute_result"
    }
   ],
   "source": [
    "from sympy import Symbol\n",
    "#masses follow an ordered edge convention so no problem there\n",
    "#but then cut momenta need to be matched to the correct cuts\n",
    "U,F0,F = Gr.graph_polynomials(cut_momenta=[Symbol(\"p_1\"),0,Symbol(\"p_1\")], masses=[Symbol(\"m_1\"), Symbol(\"m_1\"), Symbol(\"m_1\")])\n",
    "U,F0,F"
   ]
  },
  {
   "cell_type": "code",
   "execution_count": 29,
   "metadata": {},
   "outputs": [
    {
     "data": {
      "image/png": "[encoded data removed]",
      "text/latex": [
       "$$\\frac{x_{1} + x_{2} + x_{3}}{m_{1} \\left(x_{1} + x_{2} + x_{3}\\right)^{2} + p_{1} x_{1} x_{2} + p_{1} x_{2} x_{3}}$$"
      ],
      "text/plain": [
       "              x₁ + x₂ + x₃              \n",
       "────────────────────────────────────────\n",
       "                 2                      \n",
       "m₁⋅(x₁ + x₂ + x₃)  + p₁⋅x₁⋅x₂ + p₁⋅x₂⋅x₃"
      ]
     },
     "execution_count": 29,
     "metadata": {},
     "output_type": "execute_result"
    }
   ],
   "source": [
    "from sympy import * \n",
    "A = simplify(U/F)\n",
    "A"
   ]
  },
  {
   "cell_type": "code",
   "execution_count": 6,
   "metadata": {},
   "outputs": [
    {
     "data": {
      "image/png": "[encoded data removed]",
      "text/latex": [
       "$$- \\frac{m_{1}}{2} + \\frac{3 m_{2}}{2}$$"
      ],
      "text/plain": [
       "  m₁   3⋅m₂\n",
       "- ── + ────\n",
       "  2     2  "
      ]
     },
     "execution_count": 6,
     "metadata": {},
     "output_type": "execute_result"
    }
   ],
   "source": [
    "from sympy import * \n",
    "init_printing()\n",
    "m1,m2,a1 = symbols(\"m1 m2 a1\")\n",
    "simplify(integrate(a1*(m2-m1)+m2, (a1,0,1)))"
   ]
  },
  {
   "cell_type": "code",
   "execution_count": 25,
   "metadata": {},
   "outputs": [
    {
     "data": {
      "image/png": "[encoded data removed]",
      "text/latex": [
       "$$\\left ( \\left [ \\left ( 1\\right ), \\quad \\left ( 2\\right ), \\quad \\left ( 3\\right )\\right ], \\quad \\left [ \\left ( 1, \\quad 2\\right ), \\quad \\left ( 1, \\quad 3\\right ), \\quad \\left ( 3, \\quad 2\\right )\\right ]\\right )$$"
      ],
      "text/plain": [
       "([(1,), (2,), (3,)], [(1, 2), (1, 3), (3, 2)])"
      ]
     },
     "execution_count": 25,
     "metadata": {},
     "output_type": "execute_result"
    }
   ],
   "source": [
    "Gr.graph_polynomials(as_tuple_index=True)"
   ]
  },
  {
   "cell_type": "code",
   "execution_count": null,
   "metadata": {
    "collapsed": true
   },
   "outputs": [],
   "source": [
    "##todo - draw graphs corresponding to polynomials - simply pass in the edges that we want to cut from the drawing and assume that external edges are dotted or removed"
   ]
  },
  {
   "cell_type": "markdown",
   "metadata": {},
   "source": [
    "# Schwinger parameterisation"
   ]
  },
  {
   "cell_type": "code",
   "execution_count": null,
   "metadata": {
    "collapsed": true
   },
   "outputs": [],
   "source": [
    "#assuming all propagators have power 1\n",
    "from sympy import *\n"
   ]
  },
  {
   "cell_type": "code",
   "execution_count": null,
   "metadata": {
    "collapsed": true
   },
   "outputs": [],
   "source": [
    "from IPython.display import display, Math, Latex\n",
    "display(Math(r'\\Omega=\\nu-lD/2'))\n",
    "display(Math(r'\\Gamma(\\Omega)\\int d^n\\alpha \\delta(1-\\sum_i \\alpha_i) \\prod_j d\\alpha_j \\Bigg(\\frac {\\psi}{\\phi}\\Bigg)^{\\Omega} \\psi^{-D/2}'))"
   ]
  },
  {
   "cell_type": "code",
   "execution_count": null,
   "metadata": {
    "collapsed": true
   },
   "outputs": [],
   "source": []
  },
  {
   "cell_type": "code",
   "execution_count": null,
   "metadata": {
    "collapsed": true
   },
   "outputs": [],
   "source": [
    "#asm simulator\n",
    "#numpy image wrapper to draw ASMs\n",
    "#use a shading for different heights in grey scale - maybe red for toppling\n",
    "#black for 3, grey for 2 and light grey for 1\n",
    "#fix dimensions and cell size - plot thin boundary lines\n",
    "#randomize"
   ]
  }
 ],
 "metadata": {
  "kernelspec": {
   "display_name": "Python 3",
   "language": "python",
   "name": "python3"
  },
  "language_info": {
   "codemirror_mode": {
    "name": "ipython",
    "version": 3
   },
   "file_extension": ".py",
   "mimetype": "text/x-python",
   "name": "python",
   "nbconvert_exporter": "python",
   "pygments_lexer": "ipython3",
   "version": "3.6.3"
  }
 },
 "nbformat": 4,
 "nbformat_minor": 2
}
