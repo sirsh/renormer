{
 "cells": [
  {
   "cell_type": "code",
   "execution_count": 23,
   "metadata": {
    "collapsed": true
   },
   "outputs": [],
   "source": [
    "import sys\n",
    "sys.path.append(\"../\")\n",
    "import rg\n",
    "from rg.graph import incidence_matrix\n",
    "from rg.graph import ring_diagram ,show_spanning_trees\n",
    "from rg.graph import circuits, set_circuit_flow,set_source_sink_flow,apply_flow\n",
    "from rg.graph import scalar_propagator\n",
    "from rg.graph import circuit as cir\n",
    "#for inline dev\n",
    "import numpy as np\n",
    "from sympy import * \n",
    "init_printing()"
   ]
  },
  {
   "cell_type": "code",
   "execution_count": 24,
   "metadata": {},
   "outputs": [],
   "source": [
    "import cairosvg"
   ]
  },
  {
   "cell_type": "code",
   "execution_count": 63,
   "metadata": {
    "collapsed": true
   },
   "outputs": [],
   "source": [
    "systems = {}\n",
    "systems[\"  r0\"] = lambda : incidence_matrix(edges = [ [0,1], [1,2], [2,0] ],external_vertices=[0,1])\n",
    "systems[\"  r1\"] = lambda :incidence_matrix(edges = [ [0,1], [0,2], [1,4], [2,3], [3,4], [4,5],[3,5] ],external_vertices=[0,1])\n",
    "systems[\"  r2\"] = lambda :incidence_matrix(edges = [ [0,2],[2,1],[0,3], [1,4], [3,5],[3,4],[4,5] ],external_vertices=[0,1])\n",
    "systems[\"  r3\"] = lambda :incidence_matrix(edges = [ [0,1],[0,2],[1,3], [3,4], [3,5],[2,4],[2,5] ], external_vertices=[0,1])\n",
    "systems[\"  r4\"] = lambda :incidence_matrix(edges = [ [0,1],[0,2],[2,3], [3,4], [4,1],[2,5],[5,3] ], external_vertices=[0,1])\n",
    "systems[\"  r5\"] = lambda :incidence_matrix(edges = [ [0,1],[0,2],[1,3], [2,3], [3,2] ], external_vertices=[0,1])\n",
    "systems[\"  r6\"] = lambda :incidence_matrix(edges = [ [0,2],[2,1],[0,3], [3,4], [1,5], [4,5], [5,4] ],  external_vertices=[0,1])\n",
    "systems[\"  r7\"] = lambda :incidence_matrix(edges = [ [0,2], [2,3], [3,1], [1,4], [4,5], [0,4], [5,3] ],  external_vertices=[0,1])\n",
    "systems[\"  r8\"] = lambda :incidence_matrix(edges = [ [0,2],[2,3],[3,1],[1,5],[5,4],[4,3],[4,0] ], external_vertices=[0,1])\n",
    "systems[\"  r9\"] = lambda :incidence_matrix(edges = [ [0,2],[2,3],[3,4],[4,1],[1,5],[5,3],[5,0] ], external_vertices=[0,1])\n",
    "systems[\"  r10\"]= lambda :incidence_matrix(edges = [ [0,2],[2,3],[3,1],[1,4],[4,5],[5,2],[4,0] ],  external_vertices=[0,1])\n",
    "systems[\"  r11\"]= lambda :incidence_matrix(edges = [ [0,2],[2,3],[3,1],[1,4],[4,3],[4,5],[5,0] ], external_vertices=[0,1])\n",
    "\n",
    "systems[\" c0\"] = lambda :incidence_matrix(edges = [ [0,2],[2,1],[0,3], [3,1] ], external_vertices=[0,1])\n",
    "systems[\" c1\"] = lambda :incidence_matrix(edges = [ [0,2],[2,1],[0,3], [4,1], [3,5], [3,6], [4,5], [4,6] ],  external_vertices=[0,1])\n",
    "systems[\" c2\"] = lambda :incidence_matrix(edges = [ [0,2],[2,1],[1,4], [4,5], [0,3], [5,3], [3,6], [5,6] ],  external_vertices=[0,1])\n",
    "systems[\" c3\"] = lambda :incidence_matrix(edges = [ [0,2],[2,1], [1,4], [3,5], [4,6], [6,5], [5,6],[0,3] ], external_vertices=[0,1])\n",
    "systems[\" c4\"] = lambda :incidence_matrix(edges = [ [0,2],[2,3], [1,4], [3,4], [1,5], [6,5], [6,3],[0,6] ], external_vertices=[0,1])\n",
    "systems[\" c5\"] = lambda :incidence_matrix(edges = [ [0,2],[2,3], [1,3], [1,4], [4,5], [6,5], [6,3],[0,5] ], external_vertices=[0,1])\n",
    "systems[\" c6\"] = lambda :incidence_matrix(edges = [ [0,2],[2,3], [1,3], [1,4], [4,5], [6,5], [6,2],[0,5] ],  external_vertices=[0,1])\n"
   ]
  },
  {
   "cell_type": "code",
   "execution_count": 64,
   "metadata": {
    "collapsed": true
   },
   "outputs": [],
   "source": [
    "\n",
    "systems[\"r0Andc0Compact\"] = lambda :incidence_matrix(edges = [ [0,1], [1,0] ],external_vertices=[0,1])\n",
    "systems[\"r1TOr6Andc1TOc3Compact\"] = lambda :incidence_matrix(edges = [ [0,1], [0,2], [1,3], [2,3], [3,2] ],external_vertices=[0,1])\n",
    "systems[\"r7TOr11Andc4TOc6Compact\"] = lambda :incidence_matrix(edges = [ [0,2],[2,3],[0,3],[1,2],[1,3]],  external_vertices=[0,1])"
   ]
  },
  {
   "cell_type": "code",
   "execution_count": 66,
   "metadata": {},
   "outputs": [
    {
     "name": "stdout",
     "output_type": "stream",
     "text": [
      "init exceptions [0, 1, 2, 5, 6]\n",
      "sourcify 0 along [0 2 5] except [0, 1, 2, 5, 6]\n",
      "sinkify 1 along [3 4 6] except [5, 6]\n",
      "sinkify 2 along [0 1 3] except [5, 6, 3, 4]\n",
      "sinkify 3 along [1 2 4] except [5, 6, 3, 4, 0, 1]\n"
     ]
    },
    {
     "data": {
      "text/html": [
       "<svg xmlns=\"http://www.w3.org/2000/svg\" xmlns:xlink=\"http://www.w3.org/1999/xlink\" version=\"1.1\" x=\"0\" y=\"0\" width=\"200\" height=\"200\">\n",
       "      <g fill=\"none\" stroke=\"black\" stroke-width=\"1.6\" stroke-linecap=\"round\" transform=\"rotate(90,100,100)\"> <defs><marker id=\"arrow\"  markerUnits=\"strokeWidth\" markerWidth='5' markerHeight='8' refX='0' refY='2' orient=\"auto\">\n",
       "                                      <path d=\"M0,0 V4 L2,2 Z\" style=\"fill: #000000;\" /> </marker></defs><circle cx=\"100\" cy=\"170\" r=\"3\" stroke=\"black\" stroke-width=\"1\" fill=\"black\" /> <circle cx=\"99\" cy=\"30\" r=\"3\" stroke=\"black\" stroke-width=\"1\" fill=\"black\" /> <circle cx=\"100\" cy=\"150\" r=\"3\" stroke=\"black\" stroke-width=\"1\" fill=\"black\" /> <circle cx=\"99\" cy=\"50\" r=\"3\" stroke=\"black\" stroke-width=\"1\" fill=\"black\" /> <path d=\"M100 170 L 100 150\" stroke=\"black\" stroke-width=\"2px\" id='edge0'   /> <line x1=\"100\" y1=\"170\" x2=\"100.0\" y2=\"160.0\" stroke=\"black\" stroke-width=\"2px\"  id='edge0'   marker-end='url(#arrow)' /><path d=\"M100 170 L 99 50\" stroke=\"black\" stroke-width=\"2px\" id='edge2'   /> <line x1=\"100\" y1=\"170\" x2=\"99.5\" y2=\"110.0\" stroke=\"black\" stroke-width=\"2px\"  id='edge2'   marker-end='url(#arrow)' /><path d=\"M100 150 L 99 30\" stroke=\"black\" stroke-width=\"2px\" id='edge3'   /> <line x1=\"100\" y1=\"150\" x2=\"99.5\" y2=\"90.0\" stroke=\"black\" stroke-width=\"2px\"  id='edge3'   marker-end='url(#arrow)' /><path d=\"M99 50 L 99 30\" stroke=\"black\" stroke-width=\"2px\" id='edge4'   /> <line x1=\"99\" y1=\"50\" x2=\"99.0\" y2=\"40.0\" stroke=\"black\" stroke-width=\"2px\"  id='edge4'   marker-end='url(#arrow)' /><path id='edge1' d=\"M  99  50  A  50  50  0  0  0  100  150 \" stroke=\"black\"  stroke-width=\"2px\"   /><path id='edge1' d=\"M  99  50  A  50  50  0  0  0  50  100 \" stroke=\"black\"  stroke-width=\"2px\" marker-end='url(#arrow)'  />  </g> </svg>"
      ],
      "text/plain": [
       "<rg.graph.viz.ring_diagram at 0x1c245b656d8>"
      ]
     },
     "execution_count": 66,
     "metadata": {},
     "output_type": "execute_result"
    }
   ],
   "source": [
    "r7 = incidence_matrix(edges = [ [0,2],[2,3],[0,3],[1,2],[1,3]],  external_vertices=[0,1])\n",
    "set_source_sink_flow(r7)\n",
    "#r7.flip_edges(1)\n",
    "ring_diagram(r7)"
   ]
  },
  {
   "cell_type": "code",
   "execution_count": 67,
   "metadata": {},
   "outputs": [
    {
     "data": {
      "text/plain": [
       "incidence_matrix([[ 1,  0,  1,  0,  0, -1,  0],\n",
       "                  [ 0,  0,  0, -1, -1,  0, -1],\n",
       "                  [-1, -1,  0,  1,  0,  0,  0],\n",
       "                  [ 0,  1, -1,  0,  1,  0,  0],\n",
       "                  [ 0,  0,  0,  0,  0,  1,  1]])"
      ]
     },
     "execution_count": 67,
     "metadata": {},
     "output_type": "execute_result"
    }
   ],
   "source": [
    "r7"
   ]
  },
  {
   "cell_type": "code",
   "execution_count": 68,
   "metadata": {},
   "outputs": [
    {
     "data": {
      "image/png": "[encoded data removed]",
      "text/latex": [
       "$$\\left[\\begin{matrix}\\alpha_{0} \\alpha_{1} + \\alpha_{0} \\alpha_{3} + \\alpha_{0} \\alpha_{4} + \\alpha_{1} \\alpha_{2} + \\alpha_{1} \\alpha_{3} + \\alpha_{1} \\alpha_{4} + \\alpha_{2} \\alpha_{3} + \\alpha_{2} \\alpha_{4} & 4 \\alpha_{0} \\alpha_{1} + 4 \\alpha_{0} \\alpha_{3} - \\alpha_{1}^{2}\\\\\\hat{p} \\left(\\alpha_{0} \\alpha_{1} \\alpha_{2} + \\alpha_{0} \\alpha_{1} \\alpha_{4} + \\alpha_{0} \\alpha_{2} \\alpha_{3} + \\alpha_{0} \\alpha_{2} \\alpha_{4} + \\alpha_{0} \\alpha_{3} \\alpha_{4} + \\alpha_{1} \\alpha_{2} \\alpha_{3} + \\alpha_{1} \\alpha_{3} \\alpha_{4} + \\alpha_{2} \\alpha_{3} \\alpha_{4}\\right) & \\hat{p} \\left(2 \\alpha_{0}^{2} \\alpha_{1} + 2 \\alpha_{0}^{2} \\alpha_{3} - \\alpha_{0} \\alpha_{1}^{2} + 2 \\alpha_{0} \\alpha_{1} \\alpha_{3} + 2 \\alpha_{0} \\alpha_{3}^{2} - \\alpha_{1}^{2} \\alpha_{3}\\right)\\end{matrix}\\right]$$"
      ],
      "text/plain": [
       "⎡                                                                             \n",
       "⎢                 α₀⋅α₁ + α₀⋅α₃ + α₀⋅α₄ + α₁⋅α₂ + α₁⋅α₃ + α₁⋅α₄ + α₂⋅α₃ + α₂⋅α\n",
       "⎢                                                                             \n",
       "⎢                                                                             \n",
       "⎣\\hat{p}⋅(α₀⋅α₁⋅α₂ + α₀⋅α₁⋅α₄ + α₀⋅α₂⋅α₃ + α₀⋅α₂⋅α₄ + α₀⋅α₃⋅α₄ + α₁⋅α₂⋅α₃ + α₁\n",
       "\n",
       "                                                                  2           \n",
       "₄                                           4⋅α₀⋅α₁ + 4⋅α₀⋅α₃ - α₁            \n",
       "                                                                              \n",
       "                            ⎛    2          2           2                     \n",
       "⋅α₃⋅α₄ + α₂⋅α₃⋅α₄)  \\hat{p}⋅⎝2⋅α₀ ⋅α₁ + 2⋅α₀ ⋅α₃ - α₀⋅α₁  + 2⋅α₀⋅α₁⋅α₃ + 2⋅α₀⋅\n",
       "\n",
       "             ⎤\n",
       "             ⎥\n",
       "             ⎥\n",
       "  2     2   ⎞⎥\n",
       "α₃  - α₁ ⋅α₃⎠⎦"
      ]
     },
     "execution_count": 68,
     "metadata": {},
     "output_type": "execute_result"
    }
   ],
   "source": [
    "a,b=r7._symanzik_pols_(True,True,False,use_zero_mass=True)\n",
    "a_,b_=r7._symanzik_pols_(True,True,True,use_zero_mass=True)\n",
    "Matrix([[simplify(a), simplify(a_)], [simplify(b),simplify(b_)]])"
   ]
  },
  {
   "cell_type": "code",
   "execution_count": null,
   "metadata": {
    "collapsed": true
   },
   "outputs": [],
   "source": []
  },
  {
   "cell_type": "code",
   "execution_count": 71,
   "metadata": {},
   "outputs": [
    {
     "name": "stdout",
     "output_type": "stream",
     "text": [
      "init exceptions [0, 1, 3, 4]\n",
      "sourcify 0 along [0 2 3] except [0, 1, 3, 4]\n",
      "sourcify 2 along [1 2] except [0, 1, 3, 4, 2]\n",
      "sourcify 2 along [1 2] except [0, 1, 3, 4, 2]\n",
      "sinkify 1 along [0 1 4] except [2, 3, 4]\n",
      "init exceptions [0, 1, 4, 7, 8]\n",
      "sourcify 0 along [0 1 7] except [0, 1, 4, 7, 8]\n",
      "sinkify 1 along [0 2 8] except [8, 7]\n",
      "sinkify 4 along [2 4 5] except [8, 7, 0, 2]\n",
      "sinkify 5 along [5 6] except [8, 7, 0, 2, 4, 5]\n",
      "sinkify 3 along [3 4 6] except [8, 7, 0, 2, 4, 5, 6]\n",
      "sinkify 2 along [1 3] except [8, 7, 0, 2, 4, 5, 6, 3]\n",
      "init exceptions [0, 1, 3, 7, 8]\n",
      "sourcify 0 along [0 6 7] except [0, 1, 3, 7, 8]\n",
      "sourcify 4 along [3 4 6] except [0, 1, 3, 7, 8, 6]\n",
      "sourcify 5 along [4 5] except [0, 1, 3, 7, 8, 6, 4]\n",
      "sourcify 2 along [0 1 5] except [0, 1, 3, 7, 8, 6, 4, 5]\n",
      "sourcify 5 along [4 5] except [0, 1, 3, 7, 8, 6, 4, 5]\n",
      "sourcify 4 along [3 4 6] except [0, 1, 3, 7, 8, 6, 4, 5]\n",
      "sinkify 1 along [2 3 8] except [4, 5, 6, 7, 8]\n",
      "sinkify 3 along [1 2] except [4, 5, 6, 7, 8, 2, 3]\n",
      "init exceptions [0, 2, 3, 7, 8]\n",
      "sourcify 0 along [0 6 7] except [0, 2, 3, 7, 8]\n",
      "sourcify 5 along [5 6] except [0, 2, 3, 7, 8, 6]\n",
      "sourcify 4 along [3 4 5] except [0, 2, 3, 7, 8, 6, 5]\n",
      "sourcify 3 along [1 2 4] except [0, 2, 3, 7, 8, 6, 5, 4]\n",
      "sourcify 2 along [0 1] except [0, 2, 3, 7, 8, 6, 5, 4, 1]\n",
      "sourcify 2 along [0 1] except [0, 2, 3, 7, 8, 6, 5, 4, 1]\n",
      "sourcify 2 along [0 1] except [0, 2, 3, 7, 8, 6, 5, 4, 1]\n",
      "sourcify 3 along [1 2 4] except [0, 2, 3, 7, 8, 6, 5, 4, 1]\n",
      "sourcify 4 along [3 4 5] except [0, 2, 3, 7, 8, 6, 5, 4, 1]\n",
      "sourcify 5 along [5 6] except [0, 2, 3, 7, 8, 6, 5, 4, 1]\n",
      "sinkify 1 along [2 3 8] except [1, 4, 5, 6, 7, 8]\n",
      "init exceptions [0, 2, 4, 7, 8]\n",
      "sourcify 0 along [0 2 7] except [0, 2, 4, 7, 8]\n",
      "sinkify 1 along [1 3 8] except [8, 7]\n",
      "sinkify 2 along [0 1] except [8, 7, 1, 3]\n",
      "sinkify 4 along [3 5 6] except [8, 7, 1, 3, 0]\n",
      "sinkify 3 along [2 4 5] except [8, 7, 1, 3, 0, 5, 6]\n",
      "sinkify 5 along [4 6] except [8, 7, 1, 3, 0, 5, 6, 2, 4]\n",
      "init exceptions [0, 1, 3, 7, 8]\n",
      "sourcify 0 along [0 1 7] except [0, 1, 3, 7, 8]\n",
      "sinkify 1 along [0 2 8] except [8, 7]\n",
      "sinkify 3 along [2 3 4] except [8, 7, 0, 2]\n",
      "sinkify 5 along [4 6] except [8, 7, 0, 2, 3, 4]\n",
      "sinkify 2 along [1 5 6] except [8, 7, 0, 2, 3, 4, 6]\n",
      "sinkify 4 along [3 5] except [8, 7, 0, 2, 3, 4, 6, 1, 5]\n",
      "init exceptions [0, 1, 2, 7, 8]\n",
      "sourcify 0 along [0 1 7] except [0, 1, 2, 7, 8]\n",
      "sinkify 1 along [0 4 8] except [8, 7]\n",
      "sinkify 4 along [3 4] except [8, 7, 0, 4]\n",
      "sinkify 3 along [2 3 6] except [8, 7, 0, 4, 3]\n",
      "sinkify 5 along [5 6] except [8, 7, 0, 4, 3, 2, 6]\n",
      "sinkify 2 along [1 2 5] except [8, 7, 0, 4, 3, 2, 6, 5]\n",
      "init exceptions [0, 1, 3, 5, 6]\n",
      "sourcify 0 along [0 1 5] except [0, 1, 3, 5, 6]\n",
      "sinkify 1 along [0 2 6] except [5, 6]\n",
      "sinkify 3 along [2 3 4] except [5, 6, 0, 2]\n",
      "sinkify 2 along [1 3 4] except [5, 6, 0, 2, 3, 4]\n",
      "init exceptions [0, 2, 5, 7, 8]\n",
      "sourcify 0 along [0 2 7] except [0, 2, 5, 7, 8]\n",
      "sinkify 1 along [1 4 8] except [8, 7]\n",
      "sinkify 2 along [0 1] except [8, 7, 1, 4]\n",
      "sinkify 5 along [4 5 6] except [8, 7, 1, 4, 0]\n",
      "sinkify 4 along [3 5 6] except [8, 7, 1, 4, 0, 5, 6]\n",
      "sinkify 3 along [2 3] except [8, 7, 1, 4, 0, 5, 6, 3]\n",
      "init exceptions [0, 2, 3, 7, 8]\n",
      "sourcify 0 along [0 5 7] except [0, 2, 3, 7, 8]\n",
      "sourcify 4 along [3 4 5] except [0, 2, 3, 7, 8, 5]\n",
      "sourcify 5 along [4 6] except [0, 2, 3, 7, 8, 5, 4]\n",
      "sourcify 3 along [1 2 6] except [0, 2, 3, 7, 8, 5, 4, 6]\n",
      "sourcify 2 along [0 1] except [0, 2, 3, 7, 8, 5, 4, 6, 1]\n",
      "sourcify 2 along [0 1] except [0, 2, 3, 7, 8, 5, 4, 6, 1]\n",
      "sourcify 2 along [0 1] except [0, 2, 3, 7, 8, 5, 4, 6, 1]\n",
      "sourcify 5 along [4 6] except [0, 2, 3, 7, 8, 5, 4, 6, 1]\n",
      "sourcify 4 along [3 4 5] except [0, 2, 3, 7, 8, 5, 4, 6, 1]\n",
      "sinkify 1 along [2 3 8] except [1, 4, 5, 6, 7, 8]\n",
      "init exceptions [0, 2, 3, 7, 8]\n",
      "sourcify 0 along [0 6 7] except [0, 2, 3, 7, 8]\n",
      "sourcify 4 along [4 5 6] except [0, 2, 3, 7, 8, 6]\n",
      "sourcify 5 along [3 4] except [0, 2, 3, 7, 8, 6, 4]\n",
      "sourcify 5 along [3 4] except [0, 2, 3, 7, 8, 6, 4, 5]\n",
      "sourcify 3 along [1 2 5] except [0, 2, 3, 7, 8, 6, 4, 5]\n",
      "sourcify 2 along [0 1] except [0, 2, 3, 7, 8, 6, 4, 5, 1]\n",
      "sourcify 2 along [0 1] except [0, 2, 3, 7, 8, 6, 4, 5, 1]\n",
      "sourcify 2 along [0 1] except [0, 2, 3, 7, 8, 6, 4, 5, 1]\n",
      "sourcify 5 along [3 4] except [0, 2, 3, 7, 8, 6, 4, 5, 1]\n",
      "sourcify 3 along [1 2 5] except [0, 2, 3, 7, 8, 6, 4, 5, 1]\n",
      "sourcify 4 along [4 5 6] except [0, 2, 3, 7, 8, 6, 4, 5, 1]\n",
      "sinkify 1 along [2 3 8] except [1, 4, 5, 6, 7, 8]\n",
      "init exceptions [0, 2, 4, 7, 8]\n",
      "sourcify 0 along [0 6 7] except [0, 2, 4, 7, 8]\n",
      "sourcify 5 along [4 5 6] except [0, 2, 4, 7, 8, 6]\n",
      "sourcify 3 along [1 2 5] except [0, 2, 4, 7, 8, 6, 5]\n",
      "sourcify 2 along [0 1] except [0, 2, 4, 7, 8, 6, 5, 1]\n",
      "sourcify 2 along [0 1] except [0, 2, 4, 7, 8, 6, 5, 1]\n",
      "sourcify 2 along [0 1] except [0, 2, 4, 7, 8, 6, 5, 1]\n",
      "sourcify 3 along [1 2 5] except [0, 2, 4, 7, 8, 6, 5, 1]\n",
      "sourcify 5 along [4 5 6] except [0, 2, 4, 7, 8, 6, 5, 1]\n",
      "sinkify 1 along [3 4 8] except [1, 5, 6, 7, 8]\n",
      "sinkify 4 along [2 3] except [1, 5, 6, 7, 8, 3, 4]\n",
      "init exceptions [0, 2, 4, 5]\n",
      "sourcify 0 along [0 2 4] except [0, 2, 4, 5]\n",
      "sinkify 1 along [1 3 5] except [4, 5]\n",
      "sinkify 2 along [0 1] except [4, 5, 1, 3]\n",
      "sinkify 3 along [2 3] except [4, 5, 1, 3, 0]\n",
      "init exceptions [0, 2, 4, 8, 9]\n",
      "sourcify 0 along [0 2 8] except [0, 2, 4, 8, 9]\n",
      "sinkify 1 along [1 3 9] except [8, 9]\n",
      "sinkify 2 along [0 1] except [8, 9, 1, 3]\n",
      "sinkify 4 along [3 6 7] except [8, 9, 1, 3, 0]\n",
      "sinkify 5 along [4 6] except [8, 9, 1, 3, 0, 6, 7]\n",
      "sinkify 6 along [5 7] except [8, 9, 1, 3, 0, 6, 7, 4]\n",
      "sinkify 3 along [2 4 5] except [8, 9, 1, 3, 0, 6, 7, 4, 5]\n",
      "init exceptions [0, 2, 5, 8, 9]\n",
      "sourcify 0 along [0 4 8] except [0, 2, 5, 8, 9]\n",
      "sourcify 3 along [4 5 6] except [0, 2, 5, 8, 9, 4]\n",
      "sourcify 6 along [6 7] except [0, 2, 5, 8, 9, 4, 6]\n",
      "sourcify 5 along [3 5 7] except [0, 2, 5, 8, 9, 4, 6, 7]\n",
      "sourcify 4 along [2 3] except [0, 2, 5, 8, 9, 4, 6, 7, 3]\n",
      "sourcify 4 along [2 3] except [0, 2, 5, 8, 9, 4, 6, 7, 3]\n",
      "sourcify 4 along [2 3] except [0, 2, 5, 8, 9, 4, 6, 7, 3]\n",
      "sourcify 3 along [4 5 6] except [0, 2, 5, 8, 9, 4, 6, 7, 3]\n",
      "sinkify 1 along [1 2 9] except [3, 4, 6, 7, 8, 9]\n",
      "sinkify 2 along [0 1] except [3, 4, 6, 7, 8, 9, 1, 2]\n",
      "init exceptions [0, 2, 5, 8, 9]\n",
      "sourcify 0 along [0 7 8] except [0, 2, 5, 8, 9]\n",
      "sourcify 3 along [3 7] except [0, 2, 5, 8, 9, 7]\n",
      "sourcify 5 along [3 5 6] except [0, 2, 5, 8, 9, 7, 3]\n",
      "sourcify 6 along [4 5 6] except [0, 2, 5, 8, 9, 7, 3, 6]\n",
      "sourcify 4 along [2 4] except [0, 2, 5, 8, 9, 7, 3, 6, 4]\n",
      "sourcify 4 along [2 4] except [0, 2, 5, 8, 9, 7, 3, 6, 4]\n",
      "sourcify 4 along [2 4] except [0, 2, 5, 8, 9, 7, 3, 6, 4]\n",
      "sourcify 5 along [3 5 6] except [0, 2, 5, 8, 9, 7, 3, 6, 4]\n",
      "sourcify 3 along [3 7] except [0, 2, 5, 8, 9, 7, 3, 6, 4]\n",
      "sinkify 1 along [1 2 9] except [3, 4, 6, 7, 8, 9]\n",
      "sinkify 2 along [0 1] except [3, 4, 6, 7, 8, 9, 1, 2]\n",
      "init exceptions [0, 2, 4, 8, 9]\n",
      "sourcify 0 along [0 7 8] except [0, 2, 4, 8, 9]\n",
      "sourcify 6 along [5 6 7] except [0, 2, 4, 8, 9, 7]\n",
      "sourcify 5 along [4 5] except [0, 2, 4, 8, 9, 7, 5]\n",
      "sourcify 5 along [4 5] except [0, 2, 4, 8, 9, 7, 5, 6]\n",
      "sourcify 3 along [1 3 6] except [0, 2, 4, 8, 9, 7, 5, 6]\n",
      "sourcify 2 along [0 1] except [0, 2, 4, 8, 9, 7, 5, 6, 1]\n",
      "sourcify 2 along [0 1] except [0, 2, 4, 8, 9, 7, 5, 6, 1, 3]\n",
      "sourcify 3 along [1 3 6] except [0, 2, 4, 8, 9, 7, 5, 6, 1, 3]\n",
      "sourcify 2 along [0 1] except [0, 2, 4, 8, 9, 7, 5, 6, 1, 3]\n",
      "sourcify 3 along [1 3 6] except [0, 2, 4, 8, 9, 7, 5, 6, 1, 3]\n",
      "sourcify 5 along [4 5] except [0, 2, 4, 8, 9, 7, 5, 6, 1, 3]\n",
      "sourcify 3 along [1 3 6] except [0, 2, 4, 8, 9, 7, 5, 6, 1, 3]\n",
      "sourcify 6 along [5 6 7] except [0, 2, 4, 8, 9, 7, 5, 6, 1, 3]\n",
      "sinkify 1 along [2 4 9] except [1, 3, 5, 6, 7, 8, 9]\n",
      "init exceptions [0, 2, 3, 8, 9]\n",
      "sourcify 0 along [0 7 8] except [0, 2, 3, 8, 9]\n",
      "sourcify 5 along [4 5 7] except [0, 2, 3, 8, 9, 7]\n",
      "sourcify 4 along [3 4] except [0, 2, 3, 8, 9, 7, 4]\n",
      "sourcify 4 along [3 4] except [0, 2, 3, 8, 9, 7, 4, 5]\n",
      "sourcify 5 along [4 5 7] except [0, 2, 3, 8, 9, 7, 4, 5]\n",
      "sourcify 4 along [3 4] except [0, 2, 3, 8, 9, 7, 4, 5]\n",
      "sourcify 5 along [4 5 7] except [0, 2, 3, 8, 9, 7, 4, 5]\n",
      "sourcify 5 along [4 5 7] except [0, 2, 3, 8, 9, 7, 4, 5]\n",
      "sinkify 1 along [2 3 9] except [4, 5, 7, 8, 9]\n",
      "init exceptions [0, 1, 3, 8, 9]\n",
      "sourcify 0 along [0 7 8] except [0, 1, 3, 8, 9]\n",
      "sourcify 5 along [4 5 7] except [0, 1, 3, 8, 9, 7]\n",
      "sourcify 4 along [3 4] except [0, 1, 3, 8, 9, 7, 4]\n",
      "sourcify 4 along [3 4] except [0, 1, 3, 8, 9, 7, 4, 5]\n",
      "sourcify 5 along [4 5 7] except [0, 1, 3, 8, 9, 7, 4, 5]\n",
      "sourcify 4 along [3 4] except [0, 1, 3, 8, 9, 7, 4, 5]\n",
      "sourcify 5 along [4 5 7] except [0, 1, 3, 8, 9, 7, 4, 5]\n",
      "sourcify 5 along [4 5 7] except [0, 1, 3, 8, 9, 7, 4, 5]\n",
      "sinkify 1 along [2 3 9] except [4, 5, 7, 8, 9]\n",
      "sinkify 3 along [1 2] except [4, 5, 7, 8, 9, 2, 3]\n"
     ]
    },
    {
     "name": "stdout",
     "output_type": "stream",
     "text": [
      "init exceptions [0, 1, 2, 3]\n",
      "sourcify 0 along [0 1 2] except [0, 1, 2, 3]\n",
      "sinkify 1 along [0 1 3] except [2, 3]\n",
      "init exceptions [0, 1, 3, 5, 6]\n",
      "sourcify 0 along [0 1 5] except [0, 1, 3, 5, 6]\n",
      "sinkify 1 along [0 2 6] except [5, 6]\n",
      "sinkify 3 along [2 3 4] except [5, 6, 0, 2]\n",
      "sinkify 2 along [1 3 4] except [5, 6, 0, 2, 3, 4]\n",
      "init exceptions [0, 1, 2, 5, 6]\n",
      "sourcify 0 along [0 2 5] except [0, 1, 2, 5, 6]\n",
      "sinkify 1 along [3 4 6] except [5, 6]\n",
      "sinkify 2 along [0 1 3] except [5, 6, 3, 4]\n",
      "sinkify 3 along [1 2 4] except [5, 6, 3, 4, 0, 1]\n"
     ]
    }
   ],
   "source": [
    "H = \"\"\"\\\\documentclass[]{article}\n",
    "\\\\usepackage[margin=0.5in]{geometry}\n",
    "\\\\usepackage{amsmath}\n",
    "\\\\usepackage{breqn}\n",
    "\\\\usepackage{graphics}\n",
    "\\\\usepackage{mathtools}\n",
    "\\\\begin{document}\"\"\"\n",
    "with open(\"systems.tex\", \"w\") as f:\n",
    "    f.write(H)\n",
    "    keys = sorted(list(systems.keys()))\n",
    "    for k in keys:\n",
    "        f.write(\"\\\\section{\"+k+\"}\")\n",
    "        S = systems[k]()\n",
    "        set_source_sink_flow(S)\n",
    "        \n",
    "        somesvg = ring_diagram(S, options={\"show_labels\"}).__display__()\n",
    "        cairosvg.svg2pdf(somesvg, write_to='./sample_data/{}.pdf'.format(k.strip()))\n",
    "\n",
    "        LHS = \"\"\"\\\\vcenter{\\\\hbox{\\\\includegraphics[scale=0.7]{sample_data/\"\"\"+k.strip()+\"\"\"}}}=\"\"\"\n",
    "        f.write( \"\\\\begin{dmath*} \"+ LHS+str(latex(Matrix(S))) +\"\\\\end{dmath*} \")\n",
    "        \n",
    "        a,b=S._symanzik_pols_(True,True,False,use_zero_mass=True)\n",
    "        a_,b_=S._symanzik_pols_(True,True,True,use_zero_mass=True)\n",
    "        \n",
    "        f.write( \"\\\\begin{dmath*} \\Psi= \"+ str(latex(simplify(a))) +\"\\\\end{dmath*} \")\n",
    "        f.write( \"\\\\begin{dmath*} \\Psi'= \"+ str(latex(simplify(a_))) +\"\\\\end{dmath*} \")\n",
    "        f.write( \"\\\\begin{dmath*} \\Phi=\"+ str(latex(simplify(b))) +\"\\\\end{dmath*} \")\n",
    "        f.write( \"\\\\begin{dmath*} \\Phi'=\"+ str(latex(simplify(b_))) +\"\\\\end{dmath*} \")\n",
    "\n",
    "    f.write(\"\"\"\\\\end{document}\"\"\")"
   ]
  },
  {
   "cell_type": "markdown",
   "metadata": {},
   "source": [
    "# r0"
   ]
  },
  {
   "cell_type": "code",
   "execution_count": 16,
   "metadata": {},
   "outputs": [
    {
     "name": "stdout",
     "output_type": "stream",
     "text": [
      "init exceptions [0, 1, 3, 4]\n",
      "sourcify 0 along [0 2 3] except [0, 1, 3, 4]\n",
      "sourcify 2 along [1 2] except [0, 1, 3, 4, 2]\n",
      "sourcify 2 along [1 2] except [0, 1, 3, 4, 2]\n",
      "sinkify 1 along [0 1 4] except [2, 3, 4]\n"
     ]
    },
    {
     "data": {
      "text/html": [
       "<svg xmlns=\"http://www.w3.org/2000/svg\" xmlns:xlink=\"http://www.w3.org/1999/xlink\" version=\"1.1\" x=\"0\" y=\"0\" width=\"200\" height=\"200\">\n",
       "      <g fill=\"none\" stroke=\"black\" stroke-width=\"1.6\" stroke-linecap=\"round\" transform=\"rotate(90,100,100)\"> <defs><marker id=\"arrow\"  markerUnits=\"strokeWidth\" markerWidth='5' markerHeight='8' refX='0' refY='2' orient=\"auto\">\n",
       "                                      <path d=\"M0,0 V4 L2,2 Z\" style=\"fill: #000000;\" /> </marker></defs><circle cx=\"100\" cy=\"170\" r=\"3\" stroke=\"black\" stroke-width=\"1\" fill=\"black\" /> <circle cx=\"99\" cy=\"30\" r=\"3\" stroke=\"black\" stroke-width=\"1\" fill=\"black\" /> <circle cx=\"100\" cy=\"100\" r=\"3\" stroke=\"black\" stroke-width=\"1\" fill=\"black\" /> <path id='edge0' d=\"M  100  170  A  70  70  0  0  1  99  30 \" stroke=\"black\"  stroke-width=\"2px\"   /><path id='edge0' d=\"M  100  170  A  70  70  0  0  1  30  100 \" stroke=\"black\"  stroke-width=\"2px\" marker-end='url(#arrow)'  /><path d=\"M100 170 L 100 100\" stroke=\"black\" stroke-width=\"2px\" id='edge2'   /> <line x1=\"100\" y1=\"170\" x2=\"100.0\" y2=\"135.0\" stroke=\"black\" stroke-width=\"2px\"  id='edge2'   marker-end='url(#arrow)' /><path d=\"M100 100 L 99 30\" stroke=\"black\" stroke-width=\"2px\" id='edge1'   /> <line x1=\"100\" y1=\"100\" x2=\"99.5\" y2=\"65.0\" stroke=\"black\" stroke-width=\"2px\"  id='edge1'   marker-end='url(#arrow)' /><text x=\"10%\" style=\"fill: #000000;stroke: none; font-size: 14px;\" ><textPath xlink:href=\"#edge0\">e0</textPath></text><text x=\"10%\" style=\"fill: #000000;stroke: none; font-size: 14px;\" ><textPath xlink:href=\"#edge1\">e1</textPath></text><text x=\"10%\" style=\"fill: #000000;stroke: none; font-size: 14px;\" ><textPath xlink:href=\"#edge2\">e2</textPath></text>  </g> </svg>"
      ],
      "text/plain": [
       "<rg.graph.viz.ring_diagram at 0x1c245b99400>"
      ]
     },
     "execution_count": 16,
     "metadata": {},
     "output_type": "execute_result"
    }
   ],
   "source": [
    "r0 = incidence_matrix(edges = [ [0,1], [1,2], [2,0] ],external_vertices=[0,1])\n",
    "set_source_sink_flow(r0)\n",
    "ring_diagram(r0, options={\"show_labels\"})\n",
    "#res"
   ]
  },
  {
   "cell_type": "code",
   "execution_count": 22,
   "metadata": {},
   "outputs": [],
   "source": [
    "with open(\"svgout.svg\",\"w\") as f:\n",
    "    f.write(ring_diagram(r0, options={\"show_labels\"}).__display__())"
   ]
  },
  {
   "cell_type": "code",
   "execution_count": 3,
   "metadata": {},
   "outputs": [
    {
     "data": {
      "image/png": "[encoded data removed]",
      "text/latex": [
       "$$\\left[\\begin{matrix}\\alpha_{0} + \\alpha_{1} + \\alpha_{2} & 2 \\alpha_{0}\\\\\\hat{p} \\alpha_{0} \\left(\\alpha_{1} + \\alpha_{2}\\right) & \\hat{p} \\alpha_{0}^{2}\\end{matrix}\\right]$$"
      ],
      "text/plain": [
       "⎡    α₀ + α₁ + α₂         2⋅α₀    ⎤\n",
       "⎢                                 ⎥\n",
       "⎢                                2⎥\n",
       "⎣\\hat{p}⋅α₀⋅(α₁ + α₂)  \\hat{p}⋅α₀ ⎦"
      ]
     },
     "execution_count": 3,
     "metadata": {},
     "output_type": "execute_result"
    }
   ],
   "source": [
    "a,b=r0._symanzik_pols_(True,True,False,use_zero_mass=True)\n",
    "a_,b_=r0._symanzik_pols_(True,True,True,use_zero_mass=True)\n",
    "Matrix([[simplify(a), simplify(a_)], [simplify(b),simplify(b_)]])"
   ]
  },
  {
   "cell_type": "markdown",
   "metadata": {},
   "source": [
    "## r1"
   ]
  },
  {
   "cell_type": "code",
   "execution_count": 4,
   "metadata": {},
   "outputs": [
    {
     "name": "stdout",
     "output_type": "stream",
     "text": [
      "init exceptions [0, 1, 4, 7, 8]\n",
      "sourcify 0 along [0 1 7] except [0, 1, 4, 7, 8]\n",
      "sinkify 1 along [0 2 8] except [8, 7]\n",
      "sinkify 4 along [2 4 5] except [8, 7, 0, 2]\n",
      "sinkify 5 along [5 6] except [8, 7, 0, 2, 4, 5]\n",
      "sinkify 3 along [3 4 6] except [8, 7, 0, 2, 4, 5, 6]\n",
      "sinkify 2 along [1 3] except [8, 7, 0, 2, 4, 5, 6, 3]\n"
     ]
    },
    {
     "data": {
      "text/html": [
       "<svg xmlns=\"http://www.w3.org/2000/svg\" xmlns:xlink=\"http://www.w3.org/1999/xlink\" version=\"1.1\" x=\"0\" y=\"0\" width=\"200\" height=\"200\">\n",
       "      <g fill=\"none\" stroke=\"black\" stroke-width=\"1.6\" stroke-linecap=\"round\" transform=\"rotate(90,100,100)\"> <defs><marker id=\"arrow\"  markerUnits=\"strokeWidth\" markerWidth='5' markerHeight='8' refX='0' refY='2' orient=\"auto\">\n",
       "                                      <path d=\"M0,0 V4 L2,2 Z\" style=\"fill: #000000;\" /> </marker></defs><circle cx=\"100\" cy=\"170\" r=\"3\" stroke=\"black\" stroke-width=\"1\" fill=\"black\" /> <circle cx=\"99\" cy=\"30\" r=\"3\" stroke=\"black\" stroke-width=\"1\" fill=\"black\" /> <circle cx=\"100\" cy=\"150\" r=\"3\" stroke=\"black\" stroke-width=\"1\" fill=\"black\" /> <circle cx=\"99\" cy=\"50\" r=\"3\" stroke=\"black\" stroke-width=\"1\" fill=\"black\" /> <circle cx=\"100\" cy=\"130\" r=\"3\" stroke=\"black\" stroke-width=\"1\" fill=\"black\" /> <circle cx=\"100\" cy=\"70\" r=\"3\" stroke=\"black\" stroke-width=\"1\" fill=\"black\" /> <path id='edge0' d=\"M  100  170  A  70  70  0  0  1  99  30 \" stroke=\"black\"  stroke-width=\"2px\"   /><path id='edge0' d=\"M  100  170  A  70  70  0  0  1  30  100 \" stroke=\"black\"  stroke-width=\"2px\" marker-end='url(#arrow)'  /><path d=\"M100 170 L 100 150\" stroke=\"black\" stroke-width=\"2px\" id='edge1'   /> <line x1=\"100\" y1=\"170\" x2=\"100.0\" y2=\"160.0\" stroke=\"black\" stroke-width=\"2px\"  id='edge1'   marker-end='url(#arrow)' /><path d=\"M99 50 L 99 30\" stroke=\"black\" stroke-width=\"2px\" id='edge2'   /> <line x1=\"99\" y1=\"50\" x2=\"99.0\" y2=\"40.0\" stroke=\"black\" stroke-width=\"2px\"  id='edge2'   marker-end='url(#arrow)' /><path d=\"M100 150 L 100 130\" stroke=\"black\" stroke-width=\"2px\" id='edge3'   /> <line x1=\"100\" y1=\"150\" x2=\"100.0\" y2=\"140.0\" stroke=\"black\" stroke-width=\"2px\"  id='edge3'   marker-end='url(#arrow)' /><path d=\"M100 70 L 99 50\" stroke=\"black\" stroke-width=\"2px\" id='edge5'   /> <line x1=\"100\" y1=\"70\" x2=\"99.5\" y2=\"60.0\" stroke=\"black\" stroke-width=\"2px\"  id='edge5'   marker-end='url(#arrow)' /><path d=\"M100 130 L 99 50\" stroke=\"black\" stroke-width=\"2px\" id='edge4'   /> <line x1=\"100\" y1=\"130\" x2=\"99.5\" y2=\"90.0\" stroke=\"black\" stroke-width=\"2px\"  id='edge4'   marker-end='url(#arrow)' /><path id='edge6' d=\"M  100  130  A  30  30  0  0  1  100  70 \" stroke=\"black\"  stroke-width=\"2px\"   /><path id='edge6' d=\"M  100  130  A  30  30  0  0  1  70  100 \" stroke=\"black\"  stroke-width=\"2px\" marker-end='url(#arrow)'  /><text x=\"10%\" style=\"fill: #000000;stroke: none; font-size: 14px;\" ><textPath xlink:href=\"#edge0\">e0</textPath></text><text x=\"10%\" style=\"fill: #000000;stroke: none; font-size: 14px;\" ><textPath xlink:href=\"#edge1\">e1</textPath></text><text x=\"10%\" style=\"fill: #000000;stroke: none; font-size: 14px;\" ><textPath xlink:href=\"#edge2\">e2</textPath></text><text x=\"10%\" style=\"fill: #000000;stroke: none; font-size: 14px;\" ><textPath xlink:href=\"#edge3\">e3</textPath></text><text x=\"10%\" style=\"fill: #000000;stroke: none; font-size: 14px;\" ><textPath xlink:href=\"#edge4\">e4</textPath></text><text x=\"10%\" style=\"fill: #000000;stroke: none; font-size: 14px;\" ><textPath xlink:href=\"#edge5\">e5</textPath></text><text x=\"10%\" style=\"fill: #000000;stroke: none; font-size: 14px;\" ><textPath xlink:href=\"#edge6\">e6</textPath></text>  </g> </svg>"
      ],
      "text/plain": [
       "<rg.graph.viz.ring_diagram at 0x24ae276ccc0>"
      ]
     },
     "execution_count": 4,
     "metadata": {},
     "output_type": "execute_result"
    }
   ],
   "source": [
    "r1 = incidence_matrix(edges = [ [0,1], [0,2], [1,4], [2,3], [3,4], [4,5],[3,5] ],external_vertices=[0,1])\n",
    "set_source_sink_flow(r1)\n",
    "ring_diagram(r1, options={\"show_labels\"})"
   ]
  },
  {
   "cell_type": "code",
   "execution_count": 5,
   "metadata": {
    "collapsed": true
   },
   "outputs": [],
   "source": [
    "#show_spanning_trees(r1)"
   ]
  },
  {
   "cell_type": "code",
   "execution_count": 6,
   "metadata": {},
   "outputs": [
    {
     "data": {
      "image/png": "[encoded data removed]",
      "text/latex": [
       "$$\\left[\\begin{matrix}\\alpha_{0} \\alpha_{4} + \\alpha_{0} \\alpha_{5} + \\alpha_{0} \\alpha_{6} + \\alpha_{1} \\alpha_{4} + \\alpha_{1} \\alpha_{5} + \\alpha_{1} \\alpha_{6} + \\alpha_{2} \\alpha_{4} + \\alpha_{2} \\alpha_{5} + \\alpha_{2} \\alpha_{6} + \\alpha_{3} \\alpha_{4} + \\alpha_{3} \\alpha_{5} + \\alpha_{3} \\alpha_{6} + \\alpha_{4} \\alpha_{5} + \\alpha_{4} \\alpha_{6}\\\\3 \\alpha_{0}^{2} - 2 \\alpha_{0} \\alpha_{1} - 2 \\alpha_{0} \\alpha_{2} - 2 \\alpha_{0} \\alpha_{3} - \\alpha_{1}^{2} - 2 \\alpha_{1} \\alpha_{2} - 2 \\alpha_{1} \\alpha_{3} - \\alpha_{2}^{2} - 2 \\alpha_{2} \\alpha_{3} - \\alpha_{3}^{2}\\\\\\hat{p} \\alpha_{0} \\left(\\alpha_{1} \\alpha_{4} + \\alpha_{1} \\alpha_{5} + \\alpha_{1} \\alpha_{6} + \\alpha_{2} \\alpha_{4} + \\alpha_{2} \\alpha_{5} + \\alpha_{2} \\alpha_{6} + \\alpha_{3} \\alpha_{4} + \\alpha_{3} \\alpha_{5} + \\alpha_{3} \\alpha_{6} + \\alpha_{4} \\alpha_{5} + \\alpha_{4} \\alpha_{6}\\right)\\\\\\hat{p} \\alpha_{0} \\left(\\alpha_{0}^{2} - \\alpha_{1}^{2} - 2 \\alpha_{1} \\alpha_{2} - 2 \\alpha_{1} \\alpha_{3} - \\alpha_{2}^{2} - 2 \\alpha_{2} \\alpha_{3} - \\alpha_{3}^{2}\\right)\\end{matrix}\\right]$$"
      ],
      "text/plain": [
       "⎡α₀⋅α₄ + α₀⋅α₅ + α₀⋅α₆ + α₁⋅α₄ + α₁⋅α₅ + α₁⋅α₆ + α₂⋅α₄ + α₂⋅α₅ + α₂⋅α₆ + α₃⋅α₄\n",
       "⎢                                                                             \n",
       "⎢                 2                                   2                       \n",
       "⎢             3⋅α₀  - 2⋅α₀⋅α₁ - 2⋅α₀⋅α₂ - 2⋅α₀⋅α₃ - α₁  - 2⋅α₁⋅α₂ - 2⋅α₁⋅α₃ - \n",
       "⎢                                                                             \n",
       "⎢     \\hat{p}⋅α₀⋅(α₁⋅α₄ + α₁⋅α₅ + α₁⋅α₆ + α₂⋅α₄ + α₂⋅α₅ + α₂⋅α₆ + α₃⋅α₄ + α₃⋅α\n",
       "⎢                                                                             \n",
       "⎢                                 ⎛  2     2                         2        \n",
       "⎣                      \\hat{p}⋅α₀⋅⎝α₀  - α₁  - 2⋅α₁⋅α₂ - 2⋅α₁⋅α₃ - α₂  - 2⋅α₂⋅\n",
       "\n",
       " + α₃⋅α₅ + α₃⋅α₆ + α₄⋅α₅ + α₄⋅α₆⎤\n",
       "                                ⎥\n",
       "  2               2             ⎥\n",
       "α₂  - 2⋅α₂⋅α₃ - α₃              ⎥\n",
       "                                ⎥\n",
       "₅ + α₃⋅α₆ + α₄⋅α₅ + α₄⋅α₆)      ⎥\n",
       "                                ⎥\n",
       "       2⎞                       ⎥\n",
       "α₃ - α₃ ⎠                       ⎦"
      ]
     },
     "execution_count": 6,
     "metadata": {},
     "output_type": "execute_result"
    }
   ],
   "source": [
    "a,b=r1._symanzik_pols_(True,True,False,use_zero_mass=True)\n",
    "a_,b_=r1._symanzik_pols_(True,True,True,use_zero_mass=True)\n",
    "Matrix([simplify(a), simplify(a_), simplify(b),simplify(b_)])"
   ]
  },
  {
   "cell_type": "markdown",
   "metadata": {},
   "source": [
    "## r2"
   ]
  },
  {
   "cell_type": "code",
   "execution_count": 7,
   "metadata": {},
   "outputs": [
    {
     "name": "stdout",
     "output_type": "stream",
     "text": [
      "init exceptions [0, 2, 4, 7, 8]\n",
      "sourcify 0 along [0 2 7] except [0, 2, 4, 7, 8]\n",
      "sinkify 1 along [1 3 8] except [8, 7]\n",
      "sinkify 2 along [0 1] except [8, 7, 1, 3]\n",
      "sinkify 4 along [3 5 6] except [8, 7, 1, 3, 0]\n",
      "sinkify 3 along [2 4 5] except [8, 7, 1, 3, 0, 5, 6]\n",
      "sinkify 5 along [4 6] except [8, 7, 1, 3, 0, 5, 6, 2, 4]\n"
     ]
    },
    {
     "data": {
      "text/html": [
       "<svg xmlns=\"http://www.w3.org/2000/svg\" xmlns:xlink=\"http://www.w3.org/1999/xlink\" version=\"1.1\" x=\"0\" y=\"0\" width=\"200\" height=\"200\">\n",
       "      <g fill=\"none\" stroke=\"black\" stroke-width=\"1.6\" stroke-linecap=\"round\" transform=\"rotate(90,100,100)\"> <defs><marker id=\"arrow\"  markerUnits=\"strokeWidth\" markerWidth='5' markerHeight='8' refX='0' refY='2' orient=\"auto\">\n",
       "                                      <path d=\"M0,0 V4 L2,2 Z\" style=\"fill: #000000;\" /> </marker></defs><circle cx=\"100\" cy=\"170\" r=\"3\" stroke=\"black\" stroke-width=\"1\" fill=\"black\" /> <circle cx=\"99\" cy=\"30\" r=\"3\" stroke=\"black\" stroke-width=\"1\" fill=\"black\" /> <circle cx=\"143\" cy=\"125\" r=\"3\" stroke=\"black\" stroke-width=\"1\" fill=\"black\" /> <circle cx=\"56\" cy=\"125\" r=\"3\" stroke=\"black\" stroke-width=\"1\" fill=\"black\" /> <circle cx=\"99\" cy=\"50\" r=\"3\" stroke=\"black\" stroke-width=\"1\" fill=\"black\" /> <circle cx=\"100\" cy=\"100\" r=\"3\" stroke=\"black\" stroke-width=\"1\" fill=\"black\" /> <path d=\"M100 170 L 143 125\" stroke=\"black\" stroke-width=\"2px\" id='edge0'   /> <line x1=\"100\" y1=\"170\" x2=\"121.5\" y2=\"147.5\" stroke=\"black\" stroke-width=\"2px\"  id='edge0'   marker-end='url(#arrow)' /><path d=\"M100 170 L 56 125\" stroke=\"black\" stroke-width=\"2px\" id='edge2'   /> <line x1=\"100\" y1=\"170\" x2=\"78.0\" y2=\"147.5\" stroke=\"black\" stroke-width=\"2px\"  id='edge2'   marker-end='url(#arrow)' /><path d=\"M143 125 L 99 30\" stroke=\"black\" stroke-width=\"2px\" id='edge1'   /> <line x1=\"143\" y1=\"125\" x2=\"121.0\" y2=\"77.5\" stroke=\"black\" stroke-width=\"2px\"  id='edge1'   marker-end='url(#arrow)' /><path d=\"M99 50 L 99 30\" stroke=\"black\" stroke-width=\"2px\" id='edge3'   /> <line x1=\"99\" y1=\"50\" x2=\"99.0\" y2=\"40.0\" stroke=\"black\" stroke-width=\"2px\"  id='edge3'   marker-end='url(#arrow)' /><path id='edge5' d=\"M  56  125  A  50  50  0  0  1  99  50 \" stroke=\"black\"  stroke-width=\"2px\"   /><path id='edge5' d=\"M  56  125  A  50  50  0  0  1  56  75 \" stroke=\"black\"  stroke-width=\"2px\" marker-end='url(#arrow)'  /><path d=\"M100 100 L 56 125\" stroke=\"black\" stroke-width=\"2px\" id='edge4'   /> <line x1=\"100\" y1=\"100\" x2=\"78.0\" y2=\"112.5\" stroke=\"black\" stroke-width=\"2px\"  id='edge4'   marker-end='url(#arrow)' /><path d=\"M100 100 L 99 50\" stroke=\"black\" stroke-width=\"2px\" id='edge6'   /> <line x1=\"100\" y1=\"100\" x2=\"99.5\" y2=\"75.0\" stroke=\"black\" stroke-width=\"2px\"  id='edge6'   marker-end='url(#arrow)' /><text x=\"10%\" style=\"fill: #000000;stroke: none; font-size: 14px;\" ><textPath xlink:href=\"#edge0\">e0</textPath></text><text x=\"10%\" style=\"fill: #000000;stroke: none; font-size: 14px;\" ><textPath xlink:href=\"#edge1\">e1</textPath></text><text x=\"10%\" style=\"fill: #000000;stroke: none; font-size: 14px;\" ><textPath xlink:href=\"#edge2\">e2</textPath></text><text x=\"10%\" style=\"fill: #000000;stroke: none; font-size: 14px;\" ><textPath xlink:href=\"#edge3\">e3</textPath></text><text x=\"10%\" style=\"fill: #000000;stroke: none; font-size: 14px;\" ><textPath xlink:href=\"#edge4\">e4</textPath></text><text x=\"10%\" style=\"fill: #000000;stroke: none; font-size: 14px;\" ><textPath xlink:href=\"#edge5\">e5</textPath></text><text x=\"10%\" style=\"fill: #000000;stroke: none; font-size: 14px;\" ><textPath xlink:href=\"#edge6\">e6</textPath></text>  </g> </svg>"
      ],
      "text/plain": [
       "<rg.graph.viz.ring_diagram at 0x24ae24bfb00>"
      ]
     },
     "execution_count": 7,
     "metadata": {},
     "output_type": "execute_result"
    }
   ],
   "source": [
    "r2 = incidence_matrix(edges = [ [0,2],[2,1],[0,3], [1,4], [3,5],[3,4],[4,5] ],external_vertices=[0,1])\n",
    "set_source_sink_flow(r2)\n",
    "ring_diagram(r2, options={\"show_labels\"})"
   ]
  },
  {
   "cell_type": "code",
   "execution_count": 8,
   "metadata": {
    "collapsed": true
   },
   "outputs": [],
   "source": [
    "#show_spanning_trees(r2)"
   ]
  },
  {
   "cell_type": "code",
   "execution_count": 9,
   "metadata": {},
   "outputs": [
    {
     "data": {
      "image/png": "[encoded data removed]",
      "text/latex": [
       "$$\\left[\\begin{matrix}\\alpha_{0} \\alpha_{4} + \\alpha_{0} \\alpha_{5} + \\alpha_{0} \\alpha_{6} + \\alpha_{1} \\alpha_{4} + \\alpha_{1} \\alpha_{5} + \\alpha_{1} \\alpha_{6} + \\alpha_{2} \\alpha_{4} + \\alpha_{2} \\alpha_{5} + \\alpha_{2} \\alpha_{6} + \\alpha_{3} \\alpha_{4} + \\alpha_{3} \\alpha_{5} + \\alpha_{3} \\alpha_{6} + \\alpha_{4} \\alpha_{5} + \\alpha_{5} \\alpha_{6} & 3 \\alpha_{0}^{2} + 6 \\alpha_{0} \\alpha_{1} - 2 \\alpha_{0} \\alpha_{2} - 2 \\alpha_{0} \\alpha_{3} + 4 \\alpha_{0} \\alpha_{4} + 3 \\alpha_{1}^{2} - 2 \\alpha_{1} \\alpha_{2} - 2 \\alpha_{1} \\alpha_{3} + 4 \\alpha_{1} \\alpha_{4} - \\alpha_{2}^{2} - 2 \\alpha_{2} \\alpha_{3} - \\alpha_{3}^{2}\\\\\\hat{p} \\left(\\alpha_{0} \\alpha_{2} \\alpha_{4} + \\alpha_{0} \\alpha_{2} \\alpha_{5} + \\alpha_{0} \\alpha_{2} \\alpha_{6} + \\alpha_{0} \\alpha_{3} \\alpha_{4} + \\alpha_{0} \\alpha_{3} \\alpha_{5} + \\alpha_{0} \\alpha_{3} \\alpha_{6} + \\alpha_{0} \\alpha_{4} \\alpha_{5} + \\alpha_{0} \\alpha_{5} \\alpha_{6} + \\alpha_{1} \\alpha_{2} \\alpha_{4} + \\alpha_{1} \\alpha_{2} \\alpha_{5} + \\alpha_{1} \\alpha_{2} \\alpha_{6} + \\alpha_{1} \\alpha_{3} \\alpha_{4} + \\alpha_{1} \\alpha_{3} \\alpha_{5} + \\alpha_{1} \\alpha_{3} \\alpha_{6} + \\alpha_{1} \\alpha_{4} \\alpha_{5} + \\alpha_{1} \\alpha_{5} \\alpha_{6}\\right) & \\hat{p} \\left(\\alpha_{0}^{3} + 3 \\alpha_{0}^{2} \\alpha_{1} + 2 \\alpha_{0}^{2} \\alpha_{4} + 3 \\alpha_{0} \\alpha_{1}^{2} + 4 \\alpha_{0} \\alpha_{1} \\alpha_{4} - \\alpha_{0} \\alpha_{2}^{2} - 2 \\alpha_{0} \\alpha_{2} \\alpha_{3} - \\alpha_{0} \\alpha_{3}^{2} + \\alpha_{1}^{3} + 2 \\alpha_{1}^{2} \\alpha_{4} - \\alpha_{1} \\alpha_{2}^{2} - 2 \\alpha_{1} \\alpha_{2} \\alpha_{3} - \\alpha_{1} \\alpha_{3}^{2}\\right)\\end{matrix}\\right]$$"
      ],
      "text/plain": [
       "⎡                                                                             \n",
       "⎢                                     α₀⋅α₄ + α₀⋅α₅ + α₀⋅α₆ + α₁⋅α₄ + α₁⋅α₅ + \n",
       "⎢                                                                             \n",
       "⎢                                                                             \n",
       "⎣\\hat{p}⋅(α₀⋅α₂⋅α₄ + α₀⋅α₂⋅α₅ + α₀⋅α₂⋅α₆ + α₀⋅α₃⋅α₄ + α₀⋅α₃⋅α₅ + α₀⋅α₃⋅α₆ + α₀\n",
       "\n",
       "                                                                              \n",
       "α₁⋅α₆ + α₂⋅α₄ + α₂⋅α₅ + α₂⋅α₆ + α₃⋅α₄ + α₃⋅α₅ + α₃⋅α₆ + α₄⋅α₅ + α₅⋅α₆         \n",
       "                                                                              \n",
       "                                                                              \n",
       "⋅α₄⋅α₅ + α₀⋅α₅⋅α₆ + α₁⋅α₂⋅α₄ + α₁⋅α₂⋅α₅ + α₁⋅α₂⋅α₆ + α₁⋅α₃⋅α₄ + α₁⋅α₃⋅α₅ + α₁⋅\n",
       "\n",
       "                                                  2                           \n",
       "                                              3⋅α₀  + 6⋅α₀⋅α₁ - 2⋅α₀⋅α₂ - 2⋅α₀\n",
       "                                                                              \n",
       "                                      ⎛  3       2          2             2   \n",
       "α₃⋅α₆ + α₁⋅α₄⋅α₅ + α₁⋅α₅⋅α₆)  \\hat{p}⋅⎝α₀  + 3⋅α₀ ⋅α₁ + 2⋅α₀ ⋅α₄ + 3⋅α₀⋅α₁  + \n",
       "\n",
       "                    2                                   2               2     \n",
       "⋅α₃ + 4⋅α₀⋅α₄ + 3⋅α₁  - 2⋅α₁⋅α₂ - 2⋅α₁⋅α₃ + 4⋅α₁⋅α₄ - α₂  - 2⋅α₂⋅α₃ - α₃      \n",
       "                                                                              \n",
       "                  2                     2     3       2           2           \n",
       "4⋅α₀⋅α₁⋅α₄ - α₀⋅α₂  - 2⋅α₀⋅α₂⋅α₃ - α₀⋅α₃  + α₁  + 2⋅α₁ ⋅α₄ - α₁⋅α₂  - 2⋅α₁⋅α₂⋅\n",
       "\n",
       "            ⎤\n",
       "            ⎥\n",
       "            ⎥\n",
       "          2⎞⎥\n",
       "α₃ - α₁⋅α₃ ⎠⎦"
      ]
     },
     "execution_count": 9,
     "metadata": {},
     "output_type": "execute_result"
    }
   ],
   "source": [
    "a,b=r2._symanzik_pols_(True,True,False,use_zero_mass=True)\n",
    "a_,b_=r2._symanzik_pols_(True,True,True,use_zero_mass=True)\n",
    "Matrix([[simplify(a), simplify(a_)], [simplify(b),simplify(b_)]])"
   ]
  },
  {
   "cell_type": "markdown",
   "metadata": {},
   "source": [
    "## r3"
   ]
  },
  {
   "cell_type": "code",
   "execution_count": 10,
   "metadata": {},
   "outputs": [
    {
     "name": "stdout",
     "output_type": "stream",
     "text": [
      "init exceptions [0, 1, 3, 7, 8]\n",
      "sourcify 0 along [0 1 7] except [0, 1, 3, 7, 8]\n",
      "sinkify 1 along [0 2 8] except [8, 7]\n",
      "sinkify 3 along [2 3 4] except [8, 7, 0, 2]\n",
      "sinkify 5 along [4 6] except [8, 7, 0, 2, 3, 4]\n",
      "sinkify 2 along [1 5 6] except [8, 7, 0, 2, 3, 4, 6]\n",
      "sinkify 4 along [3 5] except [8, 7, 0, 2, 3, 4, 6, 1, 5]\n"
     ]
    },
    {
     "data": {
      "text/html": [
       "<svg xmlns=\"http://www.w3.org/2000/svg\" xmlns:xlink=\"http://www.w3.org/1999/xlink\" version=\"1.1\" x=\"0\" y=\"0\" width=\"200\" height=\"200\">\n",
       "      <g fill=\"none\" stroke=\"black\" stroke-width=\"1.6\" stroke-linecap=\"round\" transform=\"rotate(90,100,100)\"> <defs><marker id=\"arrow\"  markerUnits=\"strokeWidth\" markerWidth='5' markerHeight='8' refX='0' refY='2' orient=\"auto\">\n",
       "                                      <path d=\"M0,0 V4 L2,2 Z\" style=\"fill: #000000;\" /> </marker></defs><circle cx=\"100\" cy=\"170\" r=\"3\" stroke=\"black\" stroke-width=\"1\" fill=\"black\" /> <circle cx=\"99\" cy=\"30\" r=\"3\" stroke=\"black\" stroke-width=\"1\" fill=\"black\" /> <circle cx=\"100\" cy=\"150\" r=\"3\" stroke=\"black\" stroke-width=\"1\" fill=\"black\" /> <circle cx=\"99\" cy=\"50\" r=\"3\" stroke=\"black\" stroke-width=\"1\" fill=\"black\" /> <circle cx=\"100\" cy=\"130\" r=\"3\" stroke=\"black\" stroke-width=\"1\" fill=\"black\" /> <circle cx=\"100\" cy=\"70\" r=\"3\" stroke=\"black\" stroke-width=\"1\" fill=\"black\" /> <path id='edge0' d=\"M  100  170  A  70  70  0  0  1  99  30 \" stroke=\"black\"  stroke-width=\"2px\"   /><path id='edge0' d=\"M  100  170  A  70  70  0  0  1  30  100 \" stroke=\"black\"  stroke-width=\"2px\" marker-end='url(#arrow)'  /><path d=\"M100 170 L 100 150\" stroke=\"black\" stroke-width=\"2px\" id='edge1'   /> <line x1=\"100\" y1=\"170\" x2=\"100.0\" y2=\"160.0\" stroke=\"black\" stroke-width=\"2px\"  id='edge1'   marker-end='url(#arrow)' /><path d=\"M99 50 L 99 30\" stroke=\"black\" stroke-width=\"2px\" id='edge2'   /> <line x1=\"99\" y1=\"50\" x2=\"99.0\" y2=\"40.0\" stroke=\"black\" stroke-width=\"2px\"  id='edge2'   marker-end='url(#arrow)' /><path d=\"M100 130 L 100 150\" stroke=\"black\" stroke-width=\"2px\" id='edge5'   /> <line x1=\"100\" y1=\"130\" x2=\"100.0\" y2=\"140.0\" stroke=\"black\" stroke-width=\"2px\"  id='edge5'   marker-end='url(#arrow)' /><path d=\"M100 150 L 100 70\" stroke=\"black\" stroke-width=\"2px\" id='edge6'   /> <line x1=\"100\" y1=\"150\" x2=\"100.0\" y2=\"110.0\" stroke=\"black\" stroke-width=\"2px\"  id='edge6'   marker-end='url(#arrow)' /><path d=\"M100 130 L 99 50\" stroke=\"black\" stroke-width=\"2px\" id='edge3'   /> <line x1=\"100\" y1=\"130\" x2=\"99.5\" y2=\"90.0\" stroke=\"black\" stroke-width=\"2px\"  id='edge3'   marker-end='url(#arrow)' /><path d=\"M100 70 L 99 50\" stroke=\"black\" stroke-width=\"2px\" id='edge4'   /> <line x1=\"100\" y1=\"70\" x2=\"99.5\" y2=\"60.0\" stroke=\"black\" stroke-width=\"2px\"  id='edge4'   marker-end='url(#arrow)' /><text x=\"10%\" style=\"fill: #000000;stroke: none; font-size: 14px;\" ><textPath xlink:href=\"#edge0\">e0</textPath></text><text x=\"10%\" style=\"fill: #000000;stroke: none; font-size: 14px;\" ><textPath xlink:href=\"#edge1\">e1</textPath></text><text x=\"10%\" style=\"fill: #000000;stroke: none; font-size: 14px;\" ><textPath xlink:href=\"#edge2\">e2</textPath></text><text x=\"10%\" style=\"fill: #000000;stroke: none; font-size: 14px;\" ><textPath xlink:href=\"#edge3\">e3</textPath></text><text x=\"10%\" style=\"fill: #000000;stroke: none; font-size: 14px;\" ><textPath xlink:href=\"#edge4\">e4</textPath></text><text x=\"10%\" style=\"fill: #000000;stroke: none; font-size: 14px;\" ><textPath xlink:href=\"#edge5\">e5</textPath></text><text x=\"10%\" style=\"fill: #000000;stroke: none; font-size: 14px;\" ><textPath xlink:href=\"#edge6\">e6</textPath></text>  </g> </svg>"
      ],
      "text/plain": [
       "<rg.graph.viz.ring_diagram at 0x24ae4819f98>"
      ]
     },
     "execution_count": 10,
     "metadata": {},
     "output_type": "execute_result"
    }
   ],
   "source": [
    "r3 = incidence_matrix(edges = [ [0,1],[0,2],[1,3], [3,4], [3,5],[2,4],[2,5] ],\n",
    "                      external_vertices=[0,1])\n",
    "set_source_sink_flow(r3)\n",
    "ring_diagram(r3, options={\"show_labels\"})"
   ]
  },
  {
   "cell_type": "code",
   "execution_count": 44,
   "metadata": {},
   "outputs": [
    {
     "data": {
      "text/plain": [
       "incidence_matrix([[ 1,  1,  0,  0,  0,  0,  0, -1,  0],\n",
       "                  [-1,  0, -1,  0,  0,  0,  0,  0, -1],\n",
       "                  [ 0, -1,  0,  0,  0, -1,  1,  0,  0],\n",
       "                  [ 0,  0,  1, -1, -1,  0,  0,  0,  0],\n",
       "                  [ 0,  0,  0,  1,  0,  1,  0,  0,  0],\n",
       "                  [ 0,  0,  0,  0,  1,  0, -1,  0,  0],\n",
       "                  [ 0,  0,  0,  0,  0,  0,  0,  1,  1]])"
      ]
     },
     "execution_count": 44,
     "metadata": {},
     "output_type": "execute_result"
    }
   ],
   "source": [
    "#show_spanning_trees(r3)\n",
    "r3"
   ]
  },
  {
   "cell_type": "code",
   "execution_count": 12,
   "metadata": {},
   "outputs": [
    {
     "data": {
      "image/png": "[encoded data removed]",
      "text/latex": [
       "$$\\left[\\begin{matrix}\\alpha_{0} \\alpha_{3} + \\alpha_{0} \\alpha_{4} + \\alpha_{0} \\alpha_{5} + \\alpha_{0} \\alpha_{6} + \\alpha_{1} \\alpha_{3} + \\alpha_{1} \\alpha_{4} + \\alpha_{1} \\alpha_{5} + \\alpha_{1} \\alpha_{6} + \\alpha_{2} \\alpha_{3} + \\alpha_{2} \\alpha_{4} + \\alpha_{2} \\alpha_{5} + \\alpha_{2} \\alpha_{6} + \\alpha_{3} \\alpha_{4} + \\alpha_{3} \\alpha_{6} + \\alpha_{4} \\alpha_{5} + \\alpha_{5} \\alpha_{6} & - \\alpha_{0}^{2} + 2 \\alpha_{0} \\alpha_{1} + 2 \\alpha_{0} \\alpha_{2} + 4 \\alpha_{0} \\alpha_{3} - \\alpha_{1}^{2} - 2 \\alpha_{1} \\alpha_{2} - \\alpha_{2}^{2}\\\\\\hat{p} \\alpha_{0} \\left(\\alpha_{1} \\alpha_{3} + \\alpha_{1} \\alpha_{4} + \\alpha_{1} \\alpha_{5} + \\alpha_{1} \\alpha_{6} + \\alpha_{2} \\alpha_{3} + \\alpha_{2} \\alpha_{4} + \\alpha_{2} \\alpha_{5} + \\alpha_{2} \\alpha_{6} + \\alpha_{3} \\alpha_{4} + \\alpha_{3} \\alpha_{6} + \\alpha_{4} \\alpha_{5} + \\alpha_{5} \\alpha_{6}\\right) & \\hat{p} \\alpha_{0} \\left(- \\alpha_{0}^{2} + 2 \\alpha_{0} \\alpha_{1} + 2 \\alpha_{0} \\alpha_{2} + 2 \\alpha_{0} \\alpha_{3} - \\alpha_{1}^{2} - 2 \\alpha_{1} \\alpha_{2} - \\alpha_{2}^{2}\\right)\\end{matrix}\\right]$$"
      ],
      "text/plain": [
       "⎡                                                                             \n",
       "⎢α₀⋅α₃ + α₀⋅α₄ + α₀⋅α₅ + α₀⋅α₆ + α₁⋅α₃ + α₁⋅α₄ + α₁⋅α₅ + α₁⋅α₆ + α₂⋅α₃ + α₂⋅α₄\n",
       "⎢                                                                             \n",
       "⎢                                                                             \n",
       "⎣         \\hat{p}⋅α₀⋅(α₁⋅α₃ + α₁⋅α₄ + α₁⋅α₅ + α₁⋅α₆ + α₂⋅α₃ + α₂⋅α₄ + α₂⋅α₅ + \n",
       "\n",
       "                                                            2                 \n",
       " + α₂⋅α₅ + α₂⋅α₆ + α₃⋅α₄ + α₃⋅α₆ + α₄⋅α₅ + α₅⋅α₆        - α₀  + 2⋅α₀⋅α₁ + 2⋅α₀\n",
       "                                                                              \n",
       "                                                             ⎛    2           \n",
       "α₂⋅α₆ + α₃⋅α₄ + α₃⋅α₆ + α₄⋅α₅ + α₅⋅α₆)            \\hat{p}⋅α₀⋅⎝- α₀  + 2⋅α₀⋅α₁ \n",
       "\n",
       "                  2               2       ⎤\n",
       "⋅α₂ + 4⋅α₀⋅α₃ - α₁  - 2⋅α₁⋅α₂ - α₂        ⎥\n",
       "                                          ⎥\n",
       "                        2               2⎞⎥\n",
       "+ 2⋅α₀⋅α₂ + 2⋅α₀⋅α₃ - α₁  - 2⋅α₁⋅α₂ - α₂ ⎠⎦"
      ]
     },
     "execution_count": 12,
     "metadata": {},
     "output_type": "execute_result"
    }
   ],
   "source": [
    "a,b=r3._symanzik_pols_(True,True,False,use_zero_mass=True)\n",
    "a_,b_=r3._symanzik_pols_(True,True,True,use_zero_mass=True)\n",
    "Matrix([[simplify(a), simplify(a_)], [simplify(b),simplify(b_)]])"
   ]
  },
  {
   "cell_type": "markdown",
   "metadata": {},
   "source": [
    "## r4"
   ]
  },
  {
   "cell_type": "code",
   "execution_count": 13,
   "metadata": {},
   "outputs": [
    {
     "name": "stdout",
     "output_type": "stream",
     "text": [
      "init exceptions [0, 1, 2, 7, 8]\n",
      "sourcify 0 along [0 1 7] except [0, 1, 2, 7, 8]\n",
      "sinkify 1 along [0 4 8] except [8, 7]\n",
      "sinkify 4 along [3 4] except [8, 7, 0, 4]\n",
      "sinkify 3 along [2 3 6] except [8, 7, 0, 4, 3]\n",
      "sinkify 5 along [5 6] except [8, 7, 0, 4, 3, 2, 6]\n",
      "sinkify 2 along [1 2 5] except [8, 7, 0, 4, 3, 2, 6, 5]\n"
     ]
    },
    {
     "data": {
      "text/html": [
       "<svg xmlns=\"http://www.w3.org/2000/svg\" xmlns:xlink=\"http://www.w3.org/1999/xlink\" version=\"1.1\" x=\"0\" y=\"0\" width=\"200\" height=\"200\">\n",
       "      <g fill=\"none\" stroke=\"black\" stroke-width=\"1.6\" stroke-linecap=\"round\" transform=\"rotate(90,100,100)\"> <defs><marker id=\"arrow\"  markerUnits=\"strokeWidth\" markerWidth='5' markerHeight='8' refX='0' refY='2' orient=\"auto\">\n",
       "                                      <path d=\"M0,0 V4 L2,2 Z\" style=\"fill: #000000;\" /> </marker></defs><circle cx=\"100\" cy=\"170\" r=\"3\" stroke=\"black\" stroke-width=\"1\" fill=\"black\" /> <circle cx=\"99\" cy=\"30\" r=\"3\" stroke=\"black\" stroke-width=\"1\" fill=\"black\" /> <circle cx=\"100\" cy=\"150\" r=\"3\" stroke=\"black\" stroke-width=\"1\" fill=\"black\" /> <circle cx=\"99\" cy=\"50\" r=\"3\" stroke=\"black\" stroke-width=\"1\" fill=\"black\" /> <circle cx=\"100\" cy=\"130\" r=\"3\" stroke=\"black\" stroke-width=\"1\" fill=\"black\" /> <circle cx=\"100\" cy=\"70\" r=\"3\" stroke=\"black\" stroke-width=\"1\" fill=\"black\" /> <path id='edge0' d=\"M  100  170  A  70  70  0  0  1  99  30 \" stroke=\"black\"  stroke-width=\"2px\"   /><path id='edge0' d=\"M  100  170  A  70  70  0  0  1  30  100 \" stroke=\"black\"  stroke-width=\"2px\" marker-end='url(#arrow)'  /><path d=\"M100 170 L 100 150\" stroke=\"black\" stroke-width=\"2px\" id='edge1'   /> <line x1=\"100\" y1=\"170\" x2=\"100.0\" y2=\"160.0\" stroke=\"black\" stroke-width=\"2px\"  id='edge1'   marker-end='url(#arrow)' /><path d=\"M99 50 L 99 30\" stroke=\"black\" stroke-width=\"2px\" id='edge4'   /> <line x1=\"99\" y1=\"50\" x2=\"99.0\" y2=\"40.0\" stroke=\"black\" stroke-width=\"2px\"  id='edge4'   marker-end='url(#arrow)' /><path d=\"M100 150 L 100 130\" stroke=\"black\" stroke-width=\"2px\" id='edge2'   /> <line x1=\"100\" y1=\"150\" x2=\"100.0\" y2=\"140.0\" stroke=\"black\" stroke-width=\"2px\"  id='edge2'   marker-end='url(#arrow)' /><path d=\"M100 150 L 100 70\" stroke=\"black\" stroke-width=\"2px\" id='edge5'   /> <line x1=\"100\" y1=\"150\" x2=\"100.0\" y2=\"110.0\" stroke=\"black\" stroke-width=\"2px\"  id='edge5'   marker-end='url(#arrow)' /><path d=\"M100 130 L 99 50\" stroke=\"black\" stroke-width=\"2px\" id='edge3'   /> <line x1=\"100\" y1=\"130\" x2=\"99.5\" y2=\"90.0\" stroke=\"black\" stroke-width=\"2px\"  id='edge3'   marker-end='url(#arrow)' /><path id='edge6' d=\"M  100  70  A  30  30  0  0  0  100  130 \" stroke=\"black\"  stroke-width=\"2px\"   /><path id='edge6' d=\"M  100  70  A  30  30  0  0  0  70  100 \" stroke=\"black\"  stroke-width=\"2px\" marker-end='url(#arrow)'  /><text x=\"10%\" style=\"fill: #000000;stroke: none; font-size: 14px;\" ><textPath xlink:href=\"#edge0\">e0</textPath></text><text x=\"10%\" style=\"fill: #000000;stroke: none; font-size: 14px;\" ><textPath xlink:href=\"#edge1\">e1</textPath></text><text x=\"10%\" style=\"fill: #000000;stroke: none; font-size: 14px;\" ><textPath xlink:href=\"#edge2\">e2</textPath></text><text x=\"10%\" style=\"fill: #000000;stroke: none; font-size: 14px;\" ><textPath xlink:href=\"#edge3\">e3</textPath></text><text x=\"10%\" style=\"fill: #000000;stroke: none; font-size: 14px;\" ><textPath xlink:href=\"#edge4\">e4</textPath></text><text x=\"10%\" style=\"fill: #000000;stroke: none; font-size: 14px;\" ><textPath xlink:href=\"#edge5\">e5</textPath></text><text x=\"10%\" style=\"fill: #000000;stroke: none; font-size: 14px;\" ><textPath xlink:href=\"#edge6\">e6</textPath></text>  </g> </svg>"
      ],
      "text/plain": [
       "<rg.graph.viz.ring_diagram at 0x24ae24e1d68>"
      ]
     },
     "execution_count": 13,
     "metadata": {},
     "output_type": "execute_result"
    }
   ],
   "source": [
    "r4= incidence_matrix(edges = [ [0,1],[0,2],[2,3], [3,4], [4,1],[2,5],[5,3] ],\n",
    "                      external_vertices=[0,1])\n",
    "set_source_sink_flow(r4)\n",
    "ring_diagram(r4, options={\"show_labels\"})"
   ]
  },
  {
   "cell_type": "code",
   "execution_count": 14,
   "metadata": {},
   "outputs": [
    {
     "data": {
      "image/png": "[encoded data removed]",
      "text/latex": [
       "$$\\left[\\begin{matrix}\\alpha_{0} \\alpha_{2} + \\alpha_{0} \\alpha_{5} + \\alpha_{0} \\alpha_{6} + \\alpha_{1} \\alpha_{2} + \\alpha_{1} \\alpha_{5} + \\alpha_{1} \\alpha_{6} + \\alpha_{2} \\alpha_{3} + \\alpha_{2} \\alpha_{4} + \\alpha_{2} \\alpha_{5} + \\alpha_{2} \\alpha_{6} + \\alpha_{3} \\alpha_{5} + \\alpha_{3} \\alpha_{6} + \\alpha_{4} \\alpha_{5} + \\alpha_{4} \\alpha_{6} & \\alpha_{2} \\left(4 \\alpha_{0} - \\alpha_{2}\\right)\\\\\\hat{p} \\alpha_{0} \\left(\\alpha_{1} \\alpha_{2} + \\alpha_{1} \\alpha_{5} + \\alpha_{1} \\alpha_{6} + \\alpha_{2} \\alpha_{3} + \\alpha_{2} \\alpha_{4} + \\alpha_{2} \\alpha_{5} + \\alpha_{2} \\alpha_{6} + \\alpha_{3} \\alpha_{5} + \\alpha_{3} \\alpha_{6} + \\alpha_{4} \\alpha_{5} + \\alpha_{4} \\alpha_{6}\\right) & \\hat{p} \\alpha_{0} \\alpha_{2} \\left(2 \\alpha_{0} - \\alpha_{2}\\right)\\end{matrix}\\right]$$"
      ],
      "text/plain": [
       "⎡α₀⋅α₂ + α₀⋅α₅ + α₀⋅α₆ + α₁⋅α₂ + α₁⋅α₅ + α₁⋅α₆ + α₂⋅α₃ + α₂⋅α₄ + α₂⋅α₅ + α₂⋅α₆\n",
       "⎢                                                                             \n",
       "⎣     \\hat{p}⋅α₀⋅(α₁⋅α₂ + α₁⋅α₅ + α₁⋅α₆ + α₂⋅α₃ + α₂⋅α₄ + α₂⋅α₅ + α₂⋅α₆ + α₃⋅α\n",
       "\n",
       " + α₃⋅α₅ + α₃⋅α₆ + α₄⋅α₅ + α₄⋅α₆       α₂⋅(4⋅α₀ - α₂)      ⎤\n",
       "                                                           ⎥\n",
       "₅ + α₃⋅α₆ + α₄⋅α₅ + α₄⋅α₆)        \\hat{p}⋅α₀⋅α₂⋅(2⋅α₀ - α₂)⎦"
      ]
     },
     "execution_count": 14,
     "metadata": {},
     "output_type": "execute_result"
    }
   ],
   "source": [
    "a,b=r4._symanzik_pols_(True,True,False,use_zero_mass=True)\n",
    "a_,b_=r4._symanzik_pols_(True,True,True,use_zero_mass=True)\n",
    "Matrix([[simplify(a), simplify(a_)], [simplify(b),simplify(b_)]])"
   ]
  },
  {
   "cell_type": "markdown",
   "metadata": {},
   "source": [
    "## r5"
   ]
  },
  {
   "cell_type": "code",
   "execution_count": 15,
   "metadata": {},
   "outputs": [
    {
     "name": "stdout",
     "output_type": "stream",
     "text": [
      "init exceptions [0, 1, 3, 5, 6]\n",
      "sourcify 0 along [0 1 5] except [0, 1, 3, 5, 6]\n",
      "sinkify 1 along [0 2 6] except [5, 6]\n",
      "sinkify 3 along [2 3 4] except [5, 6, 0, 2]\n",
      "sinkify 2 along [1 3 4] except [5, 6, 0, 2, 3, 4]\n"
     ]
    },
    {
     "data": {
      "text/html": [
       "<svg xmlns=\"http://www.w3.org/2000/svg\" xmlns:xlink=\"http://www.w3.org/1999/xlink\" version=\"1.1\" x=\"0\" y=\"0\" width=\"200\" height=\"200\">\n",
       "      <g fill=\"none\" stroke=\"black\" stroke-width=\"1.6\" stroke-linecap=\"round\" transform=\"rotate(90,100,100)\"> <defs><marker id=\"arrow\"  markerUnits=\"strokeWidth\" markerWidth='5' markerHeight='8' refX='0' refY='2' orient=\"auto\">\n",
       "                                      <path d=\"M0,0 V4 L2,2 Z\" style=\"fill: #000000;\" /> </marker></defs><circle cx=\"100\" cy=\"170\" r=\"3\" stroke=\"black\" stroke-width=\"1\" fill=\"black\" /> <circle cx=\"99\" cy=\"30\" r=\"3\" stroke=\"black\" stroke-width=\"1\" fill=\"black\" /> <circle cx=\"100\" cy=\"150\" r=\"3\" stroke=\"black\" stroke-width=\"1\" fill=\"black\" /> <circle cx=\"99\" cy=\"50\" r=\"3\" stroke=\"black\" stroke-width=\"1\" fill=\"black\" /> <path id='edge0' d=\"M  100  170  A  70  70  0  0  1  99  30 \" stroke=\"black\"  stroke-width=\"2px\"   /><path id='edge0' d=\"M  100  170  A  70  70  0  0  1  30  100 \" stroke=\"black\"  stroke-width=\"2px\" marker-end='url(#arrow)'  /><path d=\"M100 170 L 100 150\" stroke=\"black\" stroke-width=\"2px\" id='edge1'   /> <line x1=\"100\" y1=\"170\" x2=\"100.0\" y2=\"160.0\" stroke=\"black\" stroke-width=\"2px\"  id='edge1'   marker-end='url(#arrow)' /><path d=\"M99 50 L 99 30\" stroke=\"black\" stroke-width=\"2px\" id='edge2'   /> <line x1=\"99\" y1=\"50\" x2=\"99.0\" y2=\"40.0\" stroke=\"black\" stroke-width=\"2px\"  id='edge2'   marker-end='url(#arrow)' /><path id='edge3' d=\"M  100  150  A  50  50  0  0  1  99  50 \" stroke=\"black\"  stroke-width=\"2px\"   /><path id='edge3' d=\"M  100  150  A  50  50  0  0  1  50  100 \" stroke=\"black\"  stroke-width=\"2px\" marker-end='url(#arrow)'  /><path id='edge4' d=\"M  100  150  A  50  50  0  0  0  100  50 \" stroke=\"black\"  stroke-width=\"2px\"   /><path id='edge4' d=\"M  100  150  A  50  50  0  0  0  150  100 \" stroke=\"black\"  stroke-width=\"2px\" marker-end='url(#arrow)'  /><text x=\"10%\" style=\"fill: #000000;stroke: none; font-size: 14px;\" ><textPath xlink:href=\"#edge0\">e0</textPath></text><text x=\"10%\" style=\"fill: #000000;stroke: none; font-size: 14px;\" ><textPath xlink:href=\"#edge1\">e1</textPath></text><text x=\"10%\" style=\"fill: #000000;stroke: none; font-size: 14px;\" ><textPath xlink:href=\"#edge2\">e2</textPath></text><text x=\"10%\" style=\"fill: #000000;stroke: none; font-size: 14px;\" ><textPath xlink:href=\"#edge3\">e3</textPath></text><text x=\"10%\" style=\"fill: #000000;stroke: none; font-size: 14px;\" ><textPath xlink:href=\"#edge4\">e4</textPath></text>  </g> </svg>"
      ],
      "text/plain": [
       "<rg.graph.viz.ring_diagram at 0x24ae4887a20>"
      ]
     },
     "execution_count": 15,
     "metadata": {},
     "output_type": "execute_result"
    }
   ],
   "source": [
    "r5 = incidence_matrix(edges = [ [0,1],[0,2],[1,3], [2,3], [3,2] ],\n",
    "                      external_vertices=[0,1])\n",
    "set_source_sink_flow(r5)\n",
    "ring_diagram(r5, options={\"show_labels\"})"
   ]
  },
  {
   "cell_type": "code",
   "execution_count": 16,
   "metadata": {},
   "outputs": [
    {
     "data": {
      "image/png": "[encoded data removed]",
      "text/latex": [
       "$$\\left[\\begin{matrix}\\alpha_{0} \\alpha_{3} + \\alpha_{0} \\alpha_{4} + \\alpha_{1} \\alpha_{3} + \\alpha_{1} \\alpha_{4} + \\alpha_{2} \\alpha_{3} + \\alpha_{2} \\alpha_{4} + \\alpha_{3} \\alpha_{4} & - \\left(- \\alpha_{0} + \\alpha_{1} + \\alpha_{2}\\right) \\left(3 \\alpha_{0} + \\alpha_{1} + \\alpha_{2}\\right)\\\\\\hat{p} \\alpha_{0} \\left(\\alpha_{1} \\alpha_{3} + \\alpha_{1} \\alpha_{4} + \\alpha_{2} \\alpha_{3} + \\alpha_{2} \\alpha_{4} + \\alpha_{3} \\alpha_{4}\\right) & - \\hat{p} \\alpha_{0} \\left(- \\alpha_{0} + \\alpha_{1} + \\alpha_{2}\\right) \\left(\\alpha_{0} + \\alpha_{1} + \\alpha_{2}\\right)\\end{matrix}\\right]$$"
      ],
      "text/plain": [
       "⎡α₀⋅α₃ + α₀⋅α₄ + α₁⋅α₃ + α₁⋅α₄ + α₂⋅α₃ + α₂⋅α₄ + α₃⋅α₄      -(-α₀ + α₁ + α₂)⋅(\n",
       "⎢                                                                             \n",
       "⎣ \\hat{p}⋅α₀⋅(α₁⋅α₃ + α₁⋅α₄ + α₂⋅α₃ + α₂⋅α₄ + α₃⋅α₄)    -\\hat{p}⋅α₀⋅(-α₀ + α₁ \n",
       "\n",
       "3⋅α₀ + α₁ + α₂)     ⎤\n",
       "                    ⎥\n",
       "+ α₂)⋅(α₀ + α₁ + α₂)⎦"
      ]
     },
     "execution_count": 16,
     "metadata": {},
     "output_type": "execute_result"
    }
   ],
   "source": [
    "a,b=r5._symanzik_pols_(True,True,False,use_zero_mass=True)\n",
    "a_,b_=r5._symanzik_pols_(True,True,True,use_zero_mass=True)\n",
    "Matrix([[simplify(a), simplify(a_)], [simplify(b),simplify(b_)]])"
   ]
  },
  {
   "cell_type": "markdown",
   "metadata": {},
   "source": [
    "## r6"
   ]
  },
  {
   "cell_type": "code",
   "execution_count": 17,
   "metadata": {},
   "outputs": [
    {
     "name": "stdout",
     "output_type": "stream",
     "text": [
      "init exceptions [0, 2, 5, 7, 8]\n",
      "sourcify 0 along [0 2 7] except [0, 2, 5, 7, 8]\n",
      "sinkify 1 along [1 4 8] except [8, 7]\n",
      "sinkify 2 along [0 1] except [8, 7, 1, 4]\n",
      "sinkify 5 along [4 5 6] except [8, 7, 1, 4, 0]\n",
      "sinkify 4 along [3 5 6] except [8, 7, 1, 4, 0, 5, 6]\n",
      "sinkify 3 along [2 3] except [8, 7, 1, 4, 0, 5, 6, 3]\n"
     ]
    },
    {
     "data": {
      "text/html": [
       "<svg xmlns=\"http://www.w3.org/2000/svg\" xmlns:xlink=\"http://www.w3.org/1999/xlink\" version=\"1.1\" x=\"0\" y=\"0\" width=\"200\" height=\"200\">\n",
       "      <g fill=\"none\" stroke=\"black\" stroke-width=\"1.6\" stroke-linecap=\"round\" transform=\"rotate(90,100,100)\"> <defs><marker id=\"arrow\"  markerUnits=\"strokeWidth\" markerWidth='5' markerHeight='8' refX='0' refY='2' orient=\"auto\">\n",
       "                                      <path d=\"M0,0 V4 L2,2 Z\" style=\"fill: #000000;\" /> </marker></defs><circle cx=\"100\" cy=\"170\" r=\"3\" stroke=\"black\" stroke-width=\"1\" fill=\"black\" /> <circle cx=\"99\" cy=\"30\" r=\"3\" stroke=\"black\" stroke-width=\"1\" fill=\"black\" /> <circle cx=\"143\" cy=\"125\" r=\"3\" stroke=\"black\" stroke-width=\"1\" fill=\"black\" /> <circle cx=\"56\" cy=\"125\" r=\"3\" stroke=\"black\" stroke-width=\"1\" fill=\"black\" /> <circle cx=\"99\" cy=\"50\" r=\"3\" stroke=\"black\" stroke-width=\"1\" fill=\"black\" /> <circle cx=\"100\" cy=\"100\" r=\"3\" stroke=\"black\" stroke-width=\"1\" fill=\"black\" /> <path d=\"M100 170 L 143 125\" stroke=\"black\" stroke-width=\"2px\" id='edge0'   /> <line x1=\"100\" y1=\"170\" x2=\"121.5\" y2=\"147.5\" stroke=\"black\" stroke-width=\"2px\"  id='edge0'   marker-end='url(#arrow)' /><path d=\"M100 170 L 56 125\" stroke=\"black\" stroke-width=\"2px\" id='edge2'   /> <line x1=\"100\" y1=\"170\" x2=\"78.0\" y2=\"147.5\" stroke=\"black\" stroke-width=\"2px\"  id='edge2'   marker-end='url(#arrow)' /><path d=\"M143 125 L 99 30\" stroke=\"black\" stroke-width=\"2px\" id='edge1'   /> <line x1=\"143\" y1=\"125\" x2=\"121.0\" y2=\"77.5\" stroke=\"black\" stroke-width=\"2px\"  id='edge1'   marker-end='url(#arrow)' /><path d=\"M99 50 L 99 30\" stroke=\"black\" stroke-width=\"2px\" id='edge4'   /> <line x1=\"99\" y1=\"50\" x2=\"99.0\" y2=\"40.0\" stroke=\"black\" stroke-width=\"2px\"  id='edge4'   marker-end='url(#arrow)' /><path d=\"M56 125 L 100 100\" stroke=\"black\" stroke-width=\"2px\" id='edge3'   /> <line x1=\"56\" y1=\"125\" x2=\"78.0\" y2=\"112.5\" stroke=\"black\" stroke-width=\"2px\"  id='edge3'   marker-end='url(#arrow)' /><path d=\"M100 100 L 99 50\" stroke=\"black\" stroke-width=\"2px\" id='edge5'   /> <line x1=\"100\" y1=\"100\" x2=\"99.5\" y2=\"75.0\" stroke=\"black\" stroke-width=\"2px\"  id='edge5'   marker-end='url(#arrow)' /><path d=\"M100 100 L 99 50\" stroke=\"black\" stroke-width=\"2px\" id='edge6'   /> <line x1=\"100\" y1=\"100\" x2=\"99.5\" y2=\"75.0\" stroke=\"black\" stroke-width=\"2px\"  id='edge6'   marker-end='url(#arrow)' /><text x=\"10%\" style=\"fill: #000000;stroke: none; font-size: 14px;\" ><textPath xlink:href=\"#edge0\">e0</textPath></text><text x=\"10%\" style=\"fill: #000000;stroke: none; font-size: 14px;\" ><textPath xlink:href=\"#edge1\">e1</textPath></text><text x=\"10%\" style=\"fill: #000000;stroke: none; font-size: 14px;\" ><textPath xlink:href=\"#edge2\">e2</textPath></text><text x=\"10%\" style=\"fill: #000000;stroke: none; font-size: 14px;\" ><textPath xlink:href=\"#edge3\">e3</textPath></text><text x=\"10%\" style=\"fill: #000000;stroke: none; font-size: 14px;\" ><textPath xlink:href=\"#edge4\">e4</textPath></text><text x=\"10%\" style=\"fill: #000000;stroke: none; font-size: 14px;\" ><textPath xlink:href=\"#edge5\">e5</textPath></text><text x=\"10%\" style=\"fill: #000000;stroke: none; font-size: 14px;\" ><textPath xlink:href=\"#edge6\">e6</textPath></text>  </g> </svg>"
      ],
      "text/plain": [
       "<rg.graph.viz.ring_diagram at 0x24ae4927860>"
      ]
     },
     "execution_count": 17,
     "metadata": {},
     "output_type": "execute_result"
    }
   ],
   "source": [
    "r6 = incidence_matrix(edges = [ [0,2],[2,1],[0,3], [3,4], [1,5], [4,5], [5,4] ],\n",
    "                      external_vertices=[0,1])\n",
    "set_source_sink_flow(r6)\n",
    "ring_diagram(r6, options={\"show_labels\"})"
   ]
  },
  {
   "cell_type": "code",
   "execution_count": 18,
   "metadata": {},
   "outputs": [
    {
     "data": {
      "image/png": "[encoded data removed]",
      "text/latex": [
       "$$\\left[\\begin{matrix}\\alpha_{0} \\alpha_{5} + \\alpha_{0} \\alpha_{6} + \\alpha_{1} \\alpha_{5} + \\alpha_{1} \\alpha_{6} + \\alpha_{2} \\alpha_{5} + \\alpha_{2} \\alpha_{6} + \\alpha_{3} \\alpha_{5} + \\alpha_{3} \\alpha_{6} + \\alpha_{4} \\alpha_{5} + \\alpha_{4} \\alpha_{6} + \\alpha_{5} \\alpha_{6}\\\\- \\left(- \\alpha_{0} - \\alpha_{1} + \\alpha_{2} + \\alpha_{3} + \\alpha_{4}\\right) \\left(3 \\alpha_{0} + 3 \\alpha_{1} + \\alpha_{2} + \\alpha_{3} + \\alpha_{4}\\right)\\\\\\hat{p} \\left(\\alpha_{0} \\alpha_{2} \\alpha_{5} + \\alpha_{0} \\alpha_{2} \\alpha_{6} + \\alpha_{0} \\alpha_{3} \\alpha_{5} + \\alpha_{0} \\alpha_{3} \\alpha_{6} + \\alpha_{0} \\alpha_{4} \\alpha_{5} + \\alpha_{0} \\alpha_{4} \\alpha_{6} + \\alpha_{0} \\alpha_{5} \\alpha_{6} + \\alpha_{1} \\alpha_{2} \\alpha_{5} + \\alpha_{1} \\alpha_{2} \\alpha_{6} + \\alpha_{1} \\alpha_{3} \\alpha_{5} + \\alpha_{1} \\alpha_{3} \\alpha_{6} + \\alpha_{1} \\alpha_{4} \\alpha_{5} + \\alpha_{1} \\alpha_{4} \\alpha_{6} + \\alpha_{1} \\alpha_{5} \\alpha_{6}\\right)\\\\\\hat{p} \\left(- \\alpha_{0} - \\alpha_{1} + \\alpha_{2} + \\alpha_{3} + \\alpha_{4}\\right) \\left(- 2 \\alpha_{0} \\alpha_{2} - 2 \\alpha_{0} \\alpha_{3} - 2 \\alpha_{0} \\alpha_{4} + \\alpha_{0} \\left(- \\alpha_{0} - \\alpha_{1} + \\alpha_{2} + \\alpha_{3} + \\alpha_{4}\\right) - 2 \\alpha_{1} \\alpha_{2} - 2 \\alpha_{1} \\alpha_{3} - 2 \\alpha_{1} \\alpha_{4} + \\alpha_{1} \\left(- \\alpha_{0} - \\alpha_{1} + \\alpha_{2} + \\alpha_{3} + \\alpha_{4}\\right)\\right)\\end{matrix}\\right]$$"
      ],
      "text/plain": [
       "⎡                                      α₀⋅α₅ + α₀⋅α₆ + α₁⋅α₅ + α₁⋅α₆ + α₂⋅α₅ +\n",
       "⎢                                                                             \n",
       "⎢                                                     -(-α₀ - α₁ + α₂ + α₃ + α\n",
       "⎢                                                                             \n",
       "⎢\\hat{p}⋅(α₀⋅α₂⋅α₅ + α₀⋅α₂⋅α₆ + α₀⋅α₃⋅α₅ + α₀⋅α₃⋅α₆ + α₀⋅α₄⋅α₅ + α₀⋅α₄⋅α₆ + α₀\n",
       "⎢                                                                             \n",
       "⎣  \\hat{p}⋅(-α₀ - α₁ + α₂ + α₃ + α₄)⋅(-2⋅α₀⋅α₂ - 2⋅α₀⋅α₃ - 2⋅α₀⋅α₄ + α₀⋅(-α₀ -\n",
       "\n",
       " α₂⋅α₆ + α₃⋅α₅ + α₃⋅α₆ + α₄⋅α₅ + α₄⋅α₆ + α₅⋅α₆                                \n",
       "                                                                              \n",
       "₄)⋅(3⋅α₀ + 3⋅α₁ + α₂ + α₃ + α₄)                                               \n",
       "                                                                              \n",
       "⋅α₅⋅α₆ + α₁⋅α₂⋅α₅ + α₁⋅α₂⋅α₆ + α₁⋅α₃⋅α₅ + α₁⋅α₃⋅α₆ + α₁⋅α₄⋅α₅ + α₁⋅α₄⋅α₆ + α₁⋅\n",
       "                                                                              \n",
       " α₁ + α₂ + α₃ + α₄) - 2⋅α₁⋅α₂ - 2⋅α₁⋅α₃ - 2⋅α₁⋅α₄ + α₁⋅(-α₀ - α₁ + α₂ + α₃ + α\n",
       "\n",
       "      ⎤\n",
       "      ⎥\n",
       "      ⎥\n",
       "      ⎥\n",
       "α₅⋅α₆)⎥\n",
       "      ⎥\n",
       "₄))   ⎦"
      ]
     },
     "execution_count": 18,
     "metadata": {},
     "output_type": "execute_result"
    }
   ],
   "source": [
    "a,b=r6._symanzik_pols_(True,True,False,use_zero_mass=True)\n",
    "a_,b_=r6._symanzik_pols_(True,True,True,use_zero_mass=True)\n",
    "Matrix([simplify(a), simplify(a_),simplify(b),simplify(b_)])"
   ]
  },
  {
   "cell_type": "markdown",
   "metadata": {},
   "source": [
    "## r7"
   ]
  },
  {
   "cell_type": "code",
   "execution_count": 35,
   "metadata": {},
   "outputs": [
    {
     "name": "stdout",
     "output_type": "stream",
     "text": [
      "init exceptions [0, 2, 3, 7, 8]\n",
      "sourcify 0 along [0 5 7] except [0, 2, 3, 7, 8]\n",
      "sourcify 4 along [3 4 5] except [0, 2, 3, 7, 8, 5]\n",
      "sourcify 5 along [4 6] except [0, 2, 3, 7, 8, 5, 4]\n",
      "sourcify 3 along [1 2 6] except [0, 2, 3, 7, 8, 5, 4, 6]\n",
      "sourcify 2 along [0 1] except [0, 2, 3, 7, 8, 5, 4, 6, 1]\n",
      "sourcify 2 along [0 1] except [0, 2, 3, 7, 8, 5, 4, 6, 1]\n",
      "sourcify 2 along [0 1] except [0, 2, 3, 7, 8, 5, 4, 6, 1]\n",
      "sourcify 5 along [4 6] except [0, 2, 3, 7, 8, 5, 4, 6, 1]\n",
      "sourcify 4 along [3 4 5] except [0, 2, 3, 7, 8, 5, 4, 6, 1]\n",
      "sinkify 1 along [2 3 8] except [1, 4, 5, 6, 7, 8]\n"
     ]
    },
    {
     "data": {
      "text/html": [
       "<svg xmlns=\"http://www.w3.org/2000/svg\" xmlns:xlink=\"http://www.w3.org/1999/xlink\" version=\"1.1\" x=\"0\" y=\"0\" width=\"200\" height=\"200\">\n",
       "      <g fill=\"none\" stroke=\"black\" stroke-width=\"1.6\" stroke-linecap=\"round\" transform=\"rotate(90,100,100)\"> <defs><marker id=\"arrow\"  markerUnits=\"strokeWidth\" markerWidth='5' markerHeight='8' refX='0' refY='2' orient=\"auto\">\n",
       "                                      <path d=\"M0,0 V4 L2,2 Z\" style=\"fill: #000000;\" /> </marker></defs><circle cx=\"100\" cy=\"170\" r=\"3\" stroke=\"black\" stroke-width=\"1\" fill=\"black\" /> <circle cx=\"99\" cy=\"30\" r=\"3\" stroke=\"black\" stroke-width=\"1\" fill=\"black\" /> <circle cx=\"143\" cy=\"125\" r=\"3\" stroke=\"black\" stroke-width=\"1\" fill=\"black\" /> <circle cx=\"56\" cy=\"125\" r=\"3\" stroke=\"black\" stroke-width=\"1\" fill=\"black\" /> <circle cx=\"99\" cy=\"50\" r=\"3\" stroke=\"black\" stroke-width=\"1\" fill=\"black\" /> <circle cx=\"100\" cy=\"100\" r=\"3\" stroke=\"black\" stroke-width=\"1\" fill=\"black\" /> <path d=\"M100 170 L 143 125\" stroke=\"black\" stroke-width=\"2px\" id='edge0'   /> <line x1=\"100\" y1=\"170\" x2=\"121.5\" y2=\"147.5\" stroke=\"black\" stroke-width=\"2px\"  id='edge0'   marker-end='url(#arrow)' /><path d=\"M100 170 L 56 125\" stroke=\"black\" stroke-width=\"2px\" id='edge5'   /> <line x1=\"100\" y1=\"170\" x2=\"78.0\" y2=\"147.5\" stroke=\"black\" stroke-width=\"2px\"  id='edge5'   marker-end='url(#arrow)' /><path d=\"M56 125 L 99 30\" stroke=\"black\" stroke-width=\"2px\" id='edge3'   /> <line x1=\"56\" y1=\"125\" x2=\"77.5\" y2=\"77.5\" stroke=\"black\" stroke-width=\"2px\"  id='edge3'   marker-end='url(#arrow)' /><path d=\"M99 50 L 99 30\" stroke=\"black\" stroke-width=\"2px\" id='edge2'   /> <line x1=\"99\" y1=\"50\" x2=\"99.0\" y2=\"40.0\" stroke=\"black\" stroke-width=\"2px\"  id='edge2'   marker-end='url(#arrow)' /><path id='edge1' d=\"M  100  50  A  50  50  0  0  1  143  125 \" stroke=\"black\"  stroke-width=\"2px\"   /><path id='edge1' d=\"M  100  50  A  50  50  0  0  1  143  75 \" stroke=\"black\"  stroke-width=\"2px\" marker-end='url(#arrow)'  /><path d=\"M56 125 L 100 100\" stroke=\"black\" stroke-width=\"2px\" id='edge4'   /> <line x1=\"56\" y1=\"125\" x2=\"78.0\" y2=\"112.5\" stroke=\"black\" stroke-width=\"2px\"  id='edge4'   marker-end='url(#arrow)' /><path d=\"M100 100 L 99 50\" stroke=\"black\" stroke-width=\"2px\" id='edge6'   /> <line x1=\"100\" y1=\"100\" x2=\"99.5\" y2=\"75.0\" stroke=\"black\" stroke-width=\"2px\"  id='edge6'   marker-end='url(#arrow)' /><text x=\"10%\" style=\"fill: #000000;stroke: none; font-size: 14px;\" ><textPath xlink:href=\"#edge0\">e0</textPath></text><text x=\"10%\" style=\"fill: #000000;stroke: none; font-size: 14px;\" ><textPath xlink:href=\"#edge1\">e1</textPath></text><text x=\"10%\" style=\"fill: #000000;stroke: none; font-size: 14px;\" ><textPath xlink:href=\"#edge2\">e2</textPath></text><text x=\"10%\" style=\"fill: #000000;stroke: none; font-size: 14px;\" ><textPath xlink:href=\"#edge3\">e3</textPath></text><text x=\"10%\" style=\"fill: #000000;stroke: none; font-size: 14px;\" ><textPath xlink:href=\"#edge4\">e4</textPath></text><text x=\"10%\" style=\"fill: #000000;stroke: none; font-size: 14px;\" ><textPath xlink:href=\"#edge5\">e5</textPath></text><text x=\"10%\" style=\"fill: #000000;stroke: none; font-size: 14px;\" ><textPath xlink:href=\"#edge6\">e6</textPath></text>  </g> </svg>"
      ],
      "text/plain": [
       "<rg.graph.viz.ring_diagram at 0x1c24543def0>"
      ]
     },
     "execution_count": 35,
     "metadata": {},
     "output_type": "execute_result"
    }
   ],
   "source": [
    "r7 = incidence_matrix(edges = [ [0,2], [2,3], [3,1], [1,4], [4,5], [0,4], [5,3] ],  external_vertices=[0,1])\n",
    "set_source_sink_flow(r7)\n",
    "#r7.flip_edges(4)\n",
    "ring_diagram(r7, options={\"show_labels\"})\n"
   ]
  },
  {
   "cell_type": "code",
   "execution_count": 36,
   "metadata": {},
   "outputs": [
    {
     "data": {
      "image/png": "[encoded data removed]",
      "text/latex": [
       "$$\\hat{p} \\alpha_{0} \\alpha_{2} \\alpha_{3} + \\hat{p} \\alpha_{0} \\alpha_{2} \\alpha_{5} + \\hat{p} \\alpha_{0} \\alpha_{3} \\alpha_{4} + \\hat{p} \\alpha_{0} \\alpha_{3} \\alpha_{5} + \\hat{p} \\alpha_{0} \\alpha_{3} \\alpha_{6} + \\hat{p} \\alpha_{0} \\alpha_{4} \\alpha_{5} + \\hat{p} \\alpha_{0} \\alpha_{5} \\alpha_{6} + \\hat{p} \\alpha_{1} \\alpha_{2} \\alpha_{3} + \\hat{p} \\alpha_{1} \\alpha_{2} \\alpha_{5} + \\hat{p} \\alpha_{1} \\alpha_{3} \\alpha_{4} + \\hat{p} \\alpha_{1} \\alpha_{3} \\alpha_{5} + \\hat{p} \\alpha_{1} \\alpha_{3} \\alpha_{6} + \\hat{p} \\alpha_{1} \\alpha_{4} \\alpha_{5} + \\hat{p} \\alpha_{1} \\alpha_{5} \\alpha_{6} + \\hat{p} \\alpha_{2} \\alpha_{3} \\alpha_{4} + \\hat{p} \\alpha_{2} \\alpha_{3} \\alpha_{5} + \\hat{p} \\alpha_{2} \\alpha_{3} \\alpha_{6} + \\hat{p} \\alpha_{2} \\alpha_{4} \\alpha_{5} + \\hat{p} \\alpha_{2} \\alpha_{5} \\alpha_{6}$$"
      ],
      "text/plain": [
       "\\hat{p}⋅α₀⋅α₂⋅α₃ + \\hat{p}⋅α₀⋅α₂⋅α₅ + \\hat{p}⋅α₀⋅α₃⋅α₄ + \\hat{p}⋅α₀⋅α₃⋅α₅ + \\h\n",
       "at{p}⋅α₀⋅α₃⋅α₆ + \\hat{p}⋅α₀⋅α₄⋅α₅ + \\hat{p}⋅α₀⋅α₅⋅α₆ + \\hat{p}⋅α₁⋅α₂⋅α₃ + \\hat\n",
       "{p}⋅α₁⋅α₂⋅α₅ + \\hat{p}⋅α₁⋅α₃⋅α₄ + \\hat{p}⋅α₁⋅α₃⋅α₅ + \\hat{p}⋅α₁⋅α₃⋅α₆ + \\hat{p\n",
       "}⋅α₁⋅α₄⋅α₅ + \\hat{p}⋅α₁⋅α₅⋅α₆ + \\hat{p}⋅α₂⋅α₃⋅α₄ + \\hat{p}⋅α₂⋅α₃⋅α₅ + \\hat{p}⋅\n",
       "α₂⋅α₃⋅α₆ + \\hat{p}⋅α₂⋅α₄⋅α₅ + \\hat{p}⋅α₂⋅α₅⋅α₆"
      ]
     },
     "execution_count": 36,
     "metadata": {},
     "output_type": "execute_result"
    }
   ],
   "source": [
    "a,b=r7._symanzik_pols_(True,True,False,use_zero_mass=True)\n",
    "b"
   ]
  },
  {
   "cell_type": "code",
   "execution_count": 37,
   "metadata": {},
   "outputs": [
    {
     "data": {
      "image/png": "[encoded data removed]",
      "text/latex": [
       "$$\\left[\\begin{matrix}\\alpha_{0} \\alpha_{2} + \\alpha_{0} \\alpha_{3} + \\alpha_{0} \\alpha_{4} + \\alpha_{0} \\alpha_{6} + \\alpha_{1} \\alpha_{2} + \\alpha_{1} \\alpha_{3} + \\alpha_{1} \\alpha_{4} + \\alpha_{1} \\alpha_{6} + \\alpha_{2} \\alpha_{4} + \\alpha_{2} \\alpha_{5} + \\alpha_{2} \\alpha_{6} + \\alpha_{3} \\alpha_{4} + \\alpha_{3} \\alpha_{5} + \\alpha_{3} \\alpha_{6} + \\alpha_{4} \\alpha_{5} + \\alpha_{5} \\alpha_{6}\\\\4 \\alpha_{0} \\alpha_{3} - \\alpha_{2}^{2} + 2 \\alpha_{2} \\alpha_{3} - \\alpha_{3}^{2}\\\\\\hat{p} \\left(\\alpha_{0} \\alpha_{2} \\alpha_{3} + \\alpha_{0} \\alpha_{2} \\alpha_{5} + \\alpha_{0} \\alpha_{3} \\alpha_{4} + \\alpha_{0} \\alpha_{3} \\alpha_{5} + \\alpha_{0} \\alpha_{3} \\alpha_{6} + \\alpha_{0} \\alpha_{4} \\alpha_{5} + \\alpha_{0} \\alpha_{5} \\alpha_{6} + \\alpha_{1} \\alpha_{2} \\alpha_{3} + \\alpha_{1} \\alpha_{2} \\alpha_{5} + \\alpha_{1} \\alpha_{3} \\alpha_{4} + \\alpha_{1} \\alpha_{3} \\alpha_{5} + \\alpha_{1} \\alpha_{3} \\alpha_{6} + \\alpha_{1} \\alpha_{4} \\alpha_{5} + \\alpha_{1} \\alpha_{5} \\alpha_{6} + \\alpha_{2} \\alpha_{3} \\alpha_{4} + \\alpha_{2} \\alpha_{3} \\alpha_{5} + \\alpha_{2} \\alpha_{3} \\alpha_{6} + \\alpha_{2} \\alpha_{4} \\alpha_{5} + \\alpha_{2} \\alpha_{5} \\alpha_{6}\\right)\\\\\\hat{p} \\left(2 \\alpha_{0}^{2} \\alpha_{3} - \\alpha_{0} \\alpha_{2}^{2} + 4 \\alpha_{0} \\alpha_{2} \\alpha_{3} - \\alpha_{0} \\alpha_{3}^{2} - 2 \\alpha_{1}^{2} \\alpha_{3} + \\alpha_{1} \\alpha_{2}^{2} - \\alpha_{1} \\alpha_{3}^{2} - \\alpha_{2}^{3} + 2 \\alpha_{2}^{2} \\alpha_{3} - \\alpha_{2} \\alpha_{3}^{2}\\right)\\end{matrix}\\right]$$"
      ],
      "text/plain": [
       "⎡                                             α₀⋅α₂ + α₀⋅α₃ + α₀⋅α₄ + α₀⋅α₆ + \n",
       "⎢                                                                             \n",
       "⎢                                                                             \n",
       "⎢                                                                             \n",
       "⎢                                                                             \n",
       "⎢\\hat{p}⋅(α₀⋅α₂⋅α₃ + α₀⋅α₂⋅α₅ + α₀⋅α₃⋅α₄ + α₀⋅α₃⋅α₅ + α₀⋅α₃⋅α₆ + α₀⋅α₄⋅α₅ + α₀\n",
       "⎢                                                                             \n",
       "⎢                                                                ⎛    2       \n",
       "⎣                                                        \\hat{p}⋅⎝2⋅α₀ ⋅α₃ - α\n",
       "\n",
       "α₁⋅α₂ + α₁⋅α₃ + α₁⋅α₄ + α₁⋅α₆ + α₂⋅α₄ + α₂⋅α₅ + α₂⋅α₆ + α₃⋅α₄ + α₃⋅α₅ + α₃⋅α₆ \n",
       "                                                                              \n",
       "                            2               2                                 \n",
       "                4⋅α₀⋅α₃ - α₂  + 2⋅α₂⋅α₃ - α₃                                  \n",
       "                                                                              \n",
       "⋅α₅⋅α₆ + α₁⋅α₂⋅α₃ + α₁⋅α₂⋅α₅ + α₁⋅α₃⋅α₄ + α₁⋅α₃⋅α₅ + α₁⋅α₃⋅α₆ + α₁⋅α₄⋅α₅ + α₁⋅\n",
       "                                                                              \n",
       "    2                     2       2           2        2     3       2        \n",
       "₀⋅α₂  + 4⋅α₀⋅α₂⋅α₃ - α₀⋅α₃  - 2⋅α₁ ⋅α₃ + α₁⋅α₂  - α₁⋅α₃  - α₂  + 2⋅α₂ ⋅α₃ - α₂\n",
       "\n",
       "+ α₄⋅α₅ + α₅⋅α₆                                              ⎤\n",
       "                                                             ⎥\n",
       "                                                             ⎥\n",
       "                                                             ⎥\n",
       "                                                             ⎥\n",
       "α₅⋅α₆ + α₂⋅α₃⋅α₄ + α₂⋅α₃⋅α₅ + α₂⋅α₃⋅α₆ + α₂⋅α₄⋅α₅ + α₂⋅α₅⋅α₆)⎥\n",
       "                                                             ⎥\n",
       "   2⎞                                                        ⎥\n",
       "⋅α₃ ⎠                                                        ⎦"
      ]
     },
     "execution_count": 37,
     "metadata": {},
     "output_type": "execute_result"
    }
   ],
   "source": [
    "a,b=r7._symanzik_pols_(True,True,False,use_zero_mass=True)\n",
    "a_,b_=r7._symanzik_pols_(True,True,True,use_zero_mass=True)\n",
    "Matrix([simplify(a), simplify(a_),simplify(b),simplify(b_)])"
   ]
  },
  {
   "cell_type": "code",
   "execution_count": 22,
   "metadata": {},
   "outputs": [
    {
     "name": "stdout",
     "output_type": "stream",
     "text": [
      "init exceptions [0, 2, 3, 7, 8]\n",
      "sourcify 0 along [0 6 7] except [0, 2, 3, 7, 8]\n",
      "sourcify 4 along [4 5 6] except [0, 2, 3, 7, 8, 6]\n",
      "sourcify 5 along [3 4] except [0, 2, 3, 7, 8, 6, 4]\n",
      "sourcify 5 along [3 4] except [0, 2, 3, 7, 8, 6, 4, 5]\n",
      "sourcify 3 along [1 2 5] except [0, 2, 3, 7, 8, 6, 4, 5]\n",
      "sourcify 2 along [0 1] except [0, 2, 3, 7, 8, 6, 4, 5, 1]\n",
      "sourcify 2 along [0 1] except [0, 2, 3, 7, 8, 6, 4, 5, 1]\n",
      "sourcify 2 along [0 1] except [0, 2, 3, 7, 8, 6, 4, 5, 1]\n",
      "sourcify 5 along [3 4] except [0, 2, 3, 7, 8, 6, 4, 5, 1]\n",
      "sourcify 3 along [1 2 5] except [0, 2, 3, 7, 8, 6, 4, 5, 1]\n",
      "sourcify 4 along [4 5 6] except [0, 2, 3, 7, 8, 6, 4, 5, 1]\n",
      "sinkify 1 along [2 3 8] except [1, 4, 5, 6, 7, 8]\n"
     ]
    },
    {
     "data": {
      "text/html": [
       "<svg xmlns=\"http://www.w3.org/2000/svg\" xmlns:xlink=\"http://www.w3.org/1999/xlink\" version=\"1.1\" x=\"0\" y=\"0\" width=\"200\" height=\"200\">\n",
       "      <g fill=\"none\" stroke=\"black\" stroke-width=\"1.6\" stroke-linecap=\"round\" transform=\"rotate(90,100,100)\"> <defs><marker id=\"arrow\"  markerUnits=\"strokeWidth\" markerWidth='5' markerHeight='8' refX='0' refY='2' orient=\"auto\">\n",
       "                                      <path d=\"M0,0 V4 L2,2 Z\" style=\"fill: #000000;\" /> </marker></defs><circle cx=\"100\" cy=\"170\" r=\"3\" stroke=\"black\" stroke-width=\"1\" fill=\"black\" /> <circle cx=\"99\" cy=\"30\" r=\"3\" stroke=\"black\" stroke-width=\"1\" fill=\"black\" /> <circle cx=\"150\" cy=\"100\" r=\"3\" stroke=\"black\" stroke-width=\"1\" fill=\"black\" /> <circle cx=\"100\" cy=\"150\" r=\"3\" stroke=\"black\" stroke-width=\"1\" fill=\"black\" /> <circle cx=\"50\" cy=\"100\" r=\"3\" stroke=\"black\" stroke-width=\"1\" fill=\"black\" /> <circle cx=\"99\" cy=\"50\" r=\"3\" stroke=\"black\" stroke-width=\"1\" fill=\"black\" /> <path d=\"M100 170 L 150 100\" stroke=\"black\" stroke-width=\"2px\" id='edge0'   /> <line x1=\"100\" y1=\"170\" x2=\"125.0\" y2=\"135.0\" stroke=\"black\" stroke-width=\"2px\"  id='edge0'   marker-end='url(#arrow)' /><path d=\"M100 170 L 100 150\" stroke=\"black\" stroke-width=\"2px\" id='edge6'   /> <line x1=\"100\" y1=\"170\" x2=\"100.0\" y2=\"160.0\" stroke=\"black\" stroke-width=\"2px\"  id='edge6'   marker-end='url(#arrow)' /><path d=\"M50 100 L 99 30\" stroke=\"black\" stroke-width=\"2px\" id='edge2'   /> <line x1=\"50\" y1=\"100\" x2=\"74.5\" y2=\"65.0\" stroke=\"black\" stroke-width=\"2px\"  id='edge2'   marker-end='url(#arrow)' /><path d=\"M99 50 L 99 30\" stroke=\"black\" stroke-width=\"2px\" id='edge3'   /> <line x1=\"99\" y1=\"50\" x2=\"99.0\" y2=\"40.0\" stroke=\"black\" stroke-width=\"2px\"  id='edge3'   marker-end='url(#arrow)' /><path id='edge1' d=\"M  50  100  A  50  50  0  0  0  150  100 \" stroke=\"black\"  stroke-width=\"2px\"   /><path id='edge1' d=\"M  50  100  A  50  50  0  0  0  100  150 \" stroke=\"black\"  stroke-width=\"2px\" marker-end='url(#arrow)'  /><path id='edge4' d=\"M  100  150  A  50  50  0  0  1  99  50 \" stroke=\"black\"  stroke-width=\"2px\"   /><path id='edge4' d=\"M  100  150  A  50  50  0  0  1  50  100 \" stroke=\"black\"  stroke-width=\"2px\" marker-end='url(#arrow)'  /><path id='edge5' d=\"M  50  100  A  50  50  0  0  0  100  150 \" stroke=\"black\"  stroke-width=\"2px\"   /><path id='edge5' d=\"M  50  100  A  50  50  0  0  0  64  135 \" stroke=\"black\"  stroke-width=\"2px\" marker-end='url(#arrow)'  /><text x=\"10%\" style=\"fill: #000000;stroke: none; font-size: 14px;\" ><textPath xlink:href=\"#edge0\">e0</textPath></text><text x=\"10%\" style=\"fill: #000000;stroke: none; font-size: 14px;\" ><textPath xlink:href=\"#edge1\">e1</textPath></text><text x=\"10%\" style=\"fill: #000000;stroke: none; font-size: 14px;\" ><textPath xlink:href=\"#edge2\">e2</textPath></text><text x=\"10%\" style=\"fill: #000000;stroke: none; font-size: 14px;\" ><textPath xlink:href=\"#edge3\">e3</textPath></text><text x=\"10%\" style=\"fill: #000000;stroke: none; font-size: 14px;\" ><textPath xlink:href=\"#edge4\">e4</textPath></text><text x=\"10%\" style=\"fill: #000000;stroke: none; font-size: 14px;\" ><textPath xlink:href=\"#edge5\">e5</textPath></text><text x=\"10%\" style=\"fill: #000000;stroke: none; font-size: 14px;\" ><textPath xlink:href=\"#edge6\">e6</textPath></text>  </g> </svg>"
      ],
      "text/plain": [
       "<rg.graph.viz.ring_diagram at 0x24ae275bd68>"
      ]
     },
     "execution_count": 22,
     "metadata": {},
     "output_type": "execute_result"
    }
   ],
   "source": [
    "r8 = incidence_matrix(edges = [ [0,2],[2,3],[3,1],[1,5],[5,4],[4,3],[4,0] ], external_vertices=[0,1])\n",
    "set_source_sink_flow(r8)\n",
    "ring_diagram(r8, options={\"show_labels\"})"
   ]
  },
  {
   "cell_type": "code",
   "execution_count": 23,
   "metadata": {},
   "outputs": [
    {
     "data": {
      "image/png": "[encoded data removed]",
      "text/latex": [
       "$$\\left[\\begin{matrix}\\alpha_{0} \\alpha_{2} + \\alpha_{0} \\alpha_{3} + \\alpha_{0} \\alpha_{4} + \\alpha_{0} \\alpha_{5} + \\alpha_{1} \\alpha_{2} + \\alpha_{1} \\alpha_{3} + \\alpha_{1} \\alpha_{4} + \\alpha_{1} \\alpha_{5} + \\alpha_{2} \\alpha_{5} + \\alpha_{2} \\alpha_{6} + \\alpha_{3} \\alpha_{5} + \\alpha_{3} \\alpha_{6} + \\alpha_{4} \\alpha_{5} + \\alpha_{4} \\alpha_{6} + \\alpha_{5} \\alpha_{6}\\\\4 \\alpha_{0} \\alpha_{2} + 3 \\alpha_{2}^{2} - 2 \\alpha_{2} \\alpha_{3} - 2 \\alpha_{2} \\alpha_{4} - \\alpha_{3}^{2} - 2 \\alpha_{3} \\alpha_{4} - \\alpha_{4}^{2}\\\\\\hat{p} \\left(\\alpha_{0} \\alpha_{2} \\alpha_{3} + \\alpha_{0} \\alpha_{2} \\alpha_{4} + \\alpha_{0} \\alpha_{2} \\alpha_{6} + \\alpha_{0} \\alpha_{3} \\alpha_{5} + \\alpha_{0} \\alpha_{3} \\alpha_{6} + \\alpha_{0} \\alpha_{4} \\alpha_{5} + \\alpha_{0} \\alpha_{4} \\alpha_{6} + \\alpha_{0} \\alpha_{5} \\alpha_{6} + \\alpha_{1} \\alpha_{2} \\alpha_{3} + \\alpha_{1} \\alpha_{2} \\alpha_{4} + \\alpha_{1} \\alpha_{2} \\alpha_{6} + \\alpha_{1} \\alpha_{3} \\alpha_{5} + \\alpha_{1} \\alpha_{3} \\alpha_{6} + \\alpha_{1} \\alpha_{4} \\alpha_{5} + \\alpha_{1} \\alpha_{4} \\alpha_{6} + \\alpha_{1} \\alpha_{5} \\alpha_{6} + \\alpha_{2} \\alpha_{3} \\alpha_{5} + \\alpha_{2} \\alpha_{3} \\alpha_{6} + \\alpha_{2} \\alpha_{4} \\alpha_{5} + \\alpha_{2} \\alpha_{4} \\alpha_{6} + \\alpha_{2} \\alpha_{5} \\alpha_{6}\\right)\\\\\\hat{p} \\left(2 \\alpha_{0}^{2} \\alpha_{2} + 3 \\alpha_{0} \\alpha_{2}^{2} - \\alpha_{0} \\alpha_{3}^{2} - 2 \\alpha_{0} \\alpha_{3} \\alpha_{4} - \\alpha_{0} \\alpha_{4}^{2} - 2 \\alpha_{1}^{2} \\alpha_{2} + \\alpha_{1} \\alpha_{2}^{2} - \\alpha_{1} \\alpha_{3}^{2} - 2 \\alpha_{1} \\alpha_{3} \\alpha_{4} - \\alpha_{1} \\alpha_{4}^{2} + \\alpha_{2}^{3} - \\alpha_{2} \\alpha_{3}^{2} - 2 \\alpha_{2} \\alpha_{3} \\alpha_{4} - \\alpha_{2} \\alpha_{4}^{2}\\right)\\end{matrix}\\right]$$"
      ],
      "text/plain": [
       "⎡                                                            α₀⋅α₂ + α₀⋅α₃ + α\n",
       "⎢                                                                             \n",
       "⎢                                                                             \n",
       "⎢                                                                             \n",
       "⎢                                                                             \n",
       "⎢\\hat{p}⋅(α₀⋅α₂⋅α₃ + α₀⋅α₂⋅α₄ + α₀⋅α₂⋅α₆ + α₀⋅α₃⋅α₅ + α₀⋅α₃⋅α₆ + α₀⋅α₄⋅α₅ + α₀\n",
       "⎢                                                                             \n",
       "⎢                                                     ⎛    2             2    \n",
       "⎣                                             \\hat{p}⋅⎝2⋅α₀ ⋅α₂ + 3⋅α₀⋅α₂  - α\n",
       "\n",
       "₀⋅α₄ + α₀⋅α₅ + α₁⋅α₂ + α₁⋅α₃ + α₁⋅α₄ + α₁⋅α₅ + α₂⋅α₅ + α₂⋅α₆ + α₃⋅α₅ + α₃⋅α₆ +\n",
       "                                                                              \n",
       "                           2                         2               2        \n",
       "             4⋅α₀⋅α₂ + 3⋅α₂  - 2⋅α₂⋅α₃ - 2⋅α₂⋅α₄ - α₃  - 2⋅α₃⋅α₄ - α₄         \n",
       "                                                                              \n",
       "⋅α₄⋅α₆ + α₀⋅α₅⋅α₆ + α₁⋅α₂⋅α₃ + α₁⋅α₂⋅α₄ + α₁⋅α₂⋅α₆ + α₁⋅α₃⋅α₅ + α₁⋅α₃⋅α₆ + α₁⋅\n",
       "                                                                              \n",
       "    2                     2       2           2        2                     2\n",
       "₀⋅α₃  - 2⋅α₀⋅α₃⋅α₄ - α₀⋅α₄  - 2⋅α₁ ⋅α₂ + α₁⋅α₂  - α₁⋅α₃  - 2⋅α₁⋅α₃⋅α₄ - α₁⋅α₄ \n",
       "\n",
       " α₄⋅α₅ + α₄⋅α₆ + α₅⋅α₆                                                        \n",
       "                                                                              \n",
       "                                                                              \n",
       "                                                                              \n",
       "                                                                              \n",
       "α₄⋅α₅ + α₁⋅α₄⋅α₆ + α₁⋅α₅⋅α₆ + α₂⋅α₃⋅α₅ + α₂⋅α₃⋅α₆ + α₂⋅α₄⋅α₅ + α₂⋅α₄⋅α₆ + α₂⋅α\n",
       "                                                                              \n",
       "     3        2                     2⎞                                        \n",
       " + α₂  - α₂⋅α₃  - 2⋅α₂⋅α₃⋅α₄ - α₂⋅α₄ ⎠                                        \n",
       "\n",
       "     ⎤\n",
       "     ⎥\n",
       "     ⎥\n",
       "     ⎥\n",
       "     ⎥\n",
       "₅⋅α₆)⎥\n",
       "     ⎥\n",
       "     ⎥\n",
       "     ⎦"
      ]
     },
     "execution_count": 23,
     "metadata": {},
     "output_type": "execute_result"
    }
   ],
   "source": [
    "a,b=r8._symanzik_pols_(True,True,False,use_zero_mass=True)\n",
    "a_,b_=r8._symanzik_pols_(True,True,True,use_zero_mass=True)\n",
    "Matrix([simplify(a), simplify(a_),simplify(b),simplify(b_)])"
   ]
  },
  {
   "cell_type": "markdown",
   "metadata": {},
   "source": [
    "## r9"
   ]
  },
  {
   "cell_type": "code",
   "execution_count": 24,
   "metadata": {},
   "outputs": [
    {
     "name": "stdout",
     "output_type": "stream",
     "text": [
      "init exceptions [0, 2, 4, 7, 8]\n",
      "sourcify 0 along [0 6 7] except [0, 2, 4, 7, 8]\n",
      "sourcify 5 along [4 5 6] except [0, 2, 4, 7, 8, 6]\n",
      "sourcify 3 along [1 2 5] except [0, 2, 4, 7, 8, 6, 5]\n",
      "sourcify 2 along [0 1] except [0, 2, 4, 7, 8, 6, 5, 1]\n",
      "sourcify 2 along [0 1] except [0, 2, 4, 7, 8, 6, 5, 1]\n",
      "sourcify 2 along [0 1] except [0, 2, 4, 7, 8, 6, 5, 1]\n",
      "sourcify 3 along [1 2 5] except [0, 2, 4, 7, 8, 6, 5, 1]\n",
      "sourcify 5 along [4 5 6] except [0, 2, 4, 7, 8, 6, 5, 1]\n",
      "sinkify 1 along [3 4 8] except [1, 5, 6, 7, 8]\n",
      "sinkify 4 along [2 3] except [1, 5, 6, 7, 8, 3, 4]\n"
     ]
    },
    {
     "data": {
      "text/html": [
       "<svg xmlns=\"http://www.w3.org/2000/svg\" xmlns:xlink=\"http://www.w3.org/1999/xlink\" version=\"1.1\" x=\"0\" y=\"0\" width=\"200\" height=\"200\">\n",
       "      <g fill=\"none\" stroke=\"black\" stroke-width=\"1.6\" stroke-linecap=\"round\" transform=\"rotate(90,100,100)\"> <defs><marker id=\"arrow\"  markerUnits=\"strokeWidth\" markerWidth='5' markerHeight='8' refX='0' refY='2' orient=\"auto\">\n",
       "                                      <path d=\"M0,0 V4 L2,2 Z\" style=\"fill: #000000;\" /> </marker></defs><circle cx=\"100\" cy=\"170\" r=\"3\" stroke=\"black\" stroke-width=\"1\" fill=\"black\" /> <circle cx=\"99\" cy=\"30\" r=\"3\" stroke=\"black\" stroke-width=\"1\" fill=\"black\" /> <circle cx=\"143\" cy=\"125\" r=\"3\" stroke=\"black\" stroke-width=\"1\" fill=\"black\" /> <circle cx=\"56\" cy=\"125\" r=\"3\" stroke=\"black\" stroke-width=\"1\" fill=\"black\" /> <circle cx=\"99\" cy=\"50\" r=\"3\" stroke=\"black\" stroke-width=\"1\" fill=\"black\" /> <circle cx=\"100\" cy=\"100\" r=\"3\" stroke=\"black\" stroke-width=\"1\" fill=\"black\" /> <path d=\"M100 170 L 143 125\" stroke=\"black\" stroke-width=\"2px\" id='edge0'   /> <line x1=\"100\" y1=\"170\" x2=\"121.5\" y2=\"147.5\" stroke=\"black\" stroke-width=\"2px\"  id='edge0'   marker-end='url(#arrow)' /><path d=\"M100 170 L 56 125\" stroke=\"black\" stroke-width=\"2px\" id='edge6'   /> <line x1=\"100\" y1=\"170\" x2=\"78.0\" y2=\"147.5\" stroke=\"black\" stroke-width=\"2px\"  id='edge6'   marker-end='url(#arrow)' /><path d=\"M56 125 L 99 30\" stroke=\"black\" stroke-width=\"2px\" id='edge4'   /> <line x1=\"56\" y1=\"125\" x2=\"77.5\" y2=\"77.5\" stroke=\"black\" stroke-width=\"2px\"  id='edge4'   marker-end='url(#arrow)' /><path d=\"M99 50 L 99 30\" stroke=\"black\" stroke-width=\"2px\" id='edge3'   /> <line x1=\"99\" y1=\"50\" x2=\"99.0\" y2=\"40.0\" stroke=\"black\" stroke-width=\"2px\"  id='edge3'   marker-end='url(#arrow)' /><path d=\"M100 100 L 143 125\" stroke=\"black\" stroke-width=\"2px\" id='edge1'   /> <line x1=\"100\" y1=\"100\" x2=\"121.5\" y2=\"112.5\" stroke=\"black\" stroke-width=\"2px\"  id='edge1'   marker-end='url(#arrow)' /><path d=\"M56 125 L 100 100\" stroke=\"black\" stroke-width=\"2px\" id='edge5'   /> <line x1=\"56\" y1=\"125\" x2=\"78.0\" y2=\"112.5\" stroke=\"black\" stroke-width=\"2px\"  id='edge5'   marker-end='url(#arrow)' /><path d=\"M100 100 L 99 50\" stroke=\"black\" stroke-width=\"2px\" id='edge2'   /> <line x1=\"100\" y1=\"100\" x2=\"99.5\" y2=\"75.0\" stroke=\"black\" stroke-width=\"2px\"  id='edge2'   marker-end='url(#arrow)' /><text x=\"10%\" style=\"fill: #000000;stroke: none; font-size: 14px;\" ><textPath xlink:href=\"#edge0\">e0</textPath></text><text x=\"10%\" style=\"fill: #000000;stroke: none; font-size: 14px;\" ><textPath xlink:href=\"#edge1\">e1</textPath></text><text x=\"10%\" style=\"fill: #000000;stroke: none; font-size: 14px;\" ><textPath xlink:href=\"#edge2\">e2</textPath></text><text x=\"10%\" style=\"fill: #000000;stroke: none; font-size: 14px;\" ><textPath xlink:href=\"#edge3\">e3</textPath></text><text x=\"10%\" style=\"fill: #000000;stroke: none; font-size: 14px;\" ><textPath xlink:href=\"#edge4\">e4</textPath></text><text x=\"10%\" style=\"fill: #000000;stroke: none; font-size: 14px;\" ><textPath xlink:href=\"#edge5\">e5</textPath></text><text x=\"10%\" style=\"fill: #000000;stroke: none; font-size: 14px;\" ><textPath xlink:href=\"#edge6\">e6</textPath></text>  </g> </svg>"
      ],
      "text/plain": [
       "<rg.graph.viz.ring_diagram at 0x24ae49fb5f8>"
      ]
     },
     "execution_count": 24,
     "metadata": {},
     "output_type": "execute_result"
    }
   ],
   "source": [
    "r9 = incidence_matrix(edges = [ [0,2],[2,3],[3,4],[4,1],[1,5],[5,3],[5,0] ], external_vertices=[0,1])\n",
    "set_source_sink_flow(r9)\n",
    "ring_diagram(r9, options={\"show_labels\"})"
   ]
  },
  {
   "cell_type": "code",
   "execution_count": 48,
   "metadata": {},
   "outputs": [
    {
     "data": {
      "text/plain": [
       "'\\\\hat{p} \\\\left(\\\\alpha_{0} \\\\alpha_{2} \\\\alpha_{4} + \\\\alpha_{0} \\\\alpha_{2} \\\\alpha_{6} + \\\\alpha_{0} \\\\alpha_{3} \\\\alpha_{4} + \\\\alpha_{0} \\\\alpha_{3} \\\\alpha_{6} + \\\\alpha_{0} \\\\alpha_{4} \\\\alpha_{5} + \\\\alpha_{0} \\\\alpha_{4} \\\\alpha_{6} + \\\\alpha_{0} \\\\alpha_{5} \\\\alpha_{6} + \\\\alpha_{1} \\\\alpha_{2} \\\\alpha_{4} + \\\\alpha_{1} \\\\alpha_{2} \\\\alpha_{6} + \\\\alpha_{1} \\\\alpha_{3} \\\\alpha_{4} + \\\\alpha_{1} \\\\alpha_{3} \\\\alpha_{6} + \\\\alpha_{1} \\\\alpha_{4} \\\\alpha_{5} + \\\\alpha_{1} \\\\alpha_{4} \\\\alpha_{6} + \\\\alpha_{1} \\\\alpha_{5} \\\\alpha_{6} + \\\\alpha_{2} \\\\alpha_{4} \\\\alpha_{5} + \\\\alpha_{2} \\\\alpha_{4} \\\\alpha_{6} + \\\\alpha_{2} \\\\alpha_{5} \\\\alpha_{6} + \\\\alpha_{3} \\\\alpha_{4} \\\\alpha_{5} + \\\\alpha_{3} \\\\alpha_{4} \\\\alpha_{6} + \\\\alpha_{3} \\\\alpha_{5} \\\\alpha_{6}\\\\right)'"
      ]
     },
     "execution_count": 48,
     "metadata": {},
     "output_type": "execute_result"
    }
   ],
   "source": [
    "a,b=r9._symanzik_pols_(True,True,False,use_zero_mass=True)\n",
    "a_,b_=r9._symanzik_pols_(True,True,True,use_zero_mass=True)\n",
    "Matrix([simplify(a), simplify(a_),simplify(b),simplify(b_)])\n",
    "latex(simplify(b))"
   ]
  },
  {
   "cell_type": "markdown",
   "metadata": {},
   "source": [
    "## r10"
   ]
  },
  {
   "cell_type": "code",
   "execution_count": 26,
   "metadata": {},
   "outputs": [
    {
     "name": "stdout",
     "output_type": "stream",
     "text": [
      "init exceptions [0, 1, 3, 7, 8]\n",
      "sourcify 0 along [0 6 7] except [0, 1, 3, 7, 8]\n",
      "sourcify 4 along [3 4 6] except [0, 1, 3, 7, 8, 6]\n",
      "sourcify 5 along [4 5] except [0, 1, 3, 7, 8, 6, 4]\n",
      "sourcify 2 along [0 1 5] except [0, 1, 3, 7, 8, 6, 4, 5]\n",
      "sourcify 5 along [4 5] except [0, 1, 3, 7, 8, 6, 4, 5]\n",
      "sourcify 4 along [3 4 6] except [0, 1, 3, 7, 8, 6, 4, 5]\n",
      "sinkify 1 along [2 3 8] except [4, 5, 6, 7, 8]\n",
      "sinkify 3 along [1 2] except [4, 5, 6, 7, 8, 2, 3]\n"
     ]
    },
    {
     "data": {
      "text/html": [
       "<svg xmlns=\"http://www.w3.org/2000/svg\" xmlns:xlink=\"http://www.w3.org/1999/xlink\" version=\"1.1\" x=\"0\" y=\"0\" width=\"200\" height=\"200\">\n",
       "      <g fill=\"none\" stroke=\"black\" stroke-width=\"1.6\" stroke-linecap=\"round\" transform=\"rotate(90,100,100)\"> <defs><marker id=\"arrow\"  markerUnits=\"strokeWidth\" markerWidth='5' markerHeight='8' refX='0' refY='2' orient=\"auto\">\n",
       "                                      <path d=\"M0,0 V4 L2,2 Z\" style=\"fill: #000000;\" /> </marker></defs><circle cx=\"100\" cy=\"170\" r=\"3\" stroke=\"black\" stroke-width=\"1\" fill=\"black\" /> <circle cx=\"99\" cy=\"30\" r=\"3\" stroke=\"black\" stroke-width=\"1\" fill=\"black\" /> <circle cx=\"143\" cy=\"125\" r=\"3\" stroke=\"black\" stroke-width=\"1\" fill=\"black\" /> <circle cx=\"56\" cy=\"125\" r=\"3\" stroke=\"black\" stroke-width=\"1\" fill=\"black\" /> <circle cx=\"99\" cy=\"50\" r=\"3\" stroke=\"black\" stroke-width=\"1\" fill=\"black\" /> <circle cx=\"100\" cy=\"100\" r=\"3\" stroke=\"black\" stroke-width=\"1\" fill=\"black\" /> <path d=\"M100 170 L 143 125\" stroke=\"black\" stroke-width=\"2px\" id='edge0'   /> <line x1=\"100\" y1=\"170\" x2=\"121.5\" y2=\"147.5\" stroke=\"black\" stroke-width=\"2px\"  id='edge0'   marker-end='url(#arrow)' /><path d=\"M100 170 L 56 125\" stroke=\"black\" stroke-width=\"2px\" id='edge6'   /> <line x1=\"100\" y1=\"170\" x2=\"78.0\" y2=\"147.5\" stroke=\"black\" stroke-width=\"2px\"  id='edge6'   marker-end='url(#arrow)' /><path d=\"M56 125 L 99 30\" stroke=\"black\" stroke-width=\"2px\" id='edge3'   /> <line x1=\"56\" y1=\"125\" x2=\"77.5\" y2=\"77.5\" stroke=\"black\" stroke-width=\"2px\"  id='edge3'   marker-end='url(#arrow)' /><path d=\"M99 50 L 99 30\" stroke=\"black\" stroke-width=\"2px\" id='edge2'   /> <line x1=\"99\" y1=\"50\" x2=\"99.0\" y2=\"40.0\" stroke=\"black\" stroke-width=\"2px\"  id='edge2'   marker-end='url(#arrow)' /><path id='edge1' d=\"M  143  125  A  50  50  0  0  0  100  50 \" stroke=\"black\"  stroke-width=\"2px\"   /><path id='edge1' d=\"M  143  125  A  50  50  0  0  0  143  75 \" stroke=\"black\"  stroke-width=\"2px\" marker-end='url(#arrow)'  /><path d=\"M100 100 L 143 125\" stroke=\"black\" stroke-width=\"2px\" id='edge5'   /> <line x1=\"100\" y1=\"100\" x2=\"121.5\" y2=\"112.5\" stroke=\"black\" stroke-width=\"2px\"  id='edge5'   marker-end='url(#arrow)' /><path d=\"M56 125 L 100 100\" stroke=\"black\" stroke-width=\"2px\" id='edge4'   /> <line x1=\"56\" y1=\"125\" x2=\"78.0\" y2=\"112.5\" stroke=\"black\" stroke-width=\"2px\"  id='edge4'   marker-end='url(#arrow)' /><text x=\"10%\" style=\"fill: #000000;stroke: none; font-size: 14px;\" ><textPath xlink:href=\"#edge0\">e0</textPath></text><text x=\"10%\" style=\"fill: #000000;stroke: none; font-size: 14px;\" ><textPath xlink:href=\"#edge1\">e1</textPath></text><text x=\"10%\" style=\"fill: #000000;stroke: none; font-size: 14px;\" ><textPath xlink:href=\"#edge2\">e2</textPath></text><text x=\"10%\" style=\"fill: #000000;stroke: none; font-size: 14px;\" ><textPath xlink:href=\"#edge3\">e3</textPath></text><text x=\"10%\" style=\"fill: #000000;stroke: none; font-size: 14px;\" ><textPath xlink:href=\"#edge4\">e4</textPath></text><text x=\"10%\" style=\"fill: #000000;stroke: none; font-size: 14px;\" ><textPath xlink:href=\"#edge5\">e5</textPath></text><text x=\"10%\" style=\"fill: #000000;stroke: none; font-size: 14px;\" ><textPath xlink:href=\"#edge6\">e6</textPath></text>  </g> </svg>"
      ],
      "text/plain": [
       "<rg.graph.viz.ring_diagram at 0x24ae49fb978>"
      ]
     },
     "execution_count": 26,
     "metadata": {},
     "output_type": "execute_result"
    }
   ],
   "source": [
    "r10 = incidence_matrix(edges = [ [0,2],[2,3],[3,1],[1,4],[4,5],[5,2],[4,0] ],  external_vertices=[0,1])\n",
    "set_source_sink_flow(r10)\n",
    "ring_diagram(r10, options={\"show_labels\"})"
   ]
  },
  {
   "cell_type": "code",
   "execution_count": 27,
   "metadata": {},
   "outputs": [
    {
     "data": {
      "image/png": "[encoded data removed]",
      "text/latex": [
       "$$\\left[\\begin{matrix}\\alpha_{0} \\alpha_{1} + \\alpha_{0} \\alpha_{2} + \\alpha_{0} \\alpha_{3} + \\alpha_{0} \\alpha_{4} + \\alpha_{0} \\alpha_{5} + \\alpha_{1} \\alpha_{4} + \\alpha_{1} \\alpha_{5} + \\alpha_{1} \\alpha_{6} + \\alpha_{2} \\alpha_{4} + \\alpha_{2} \\alpha_{5} + \\alpha_{2} \\alpha_{6} + \\alpha_{3} \\alpha_{4} + \\alpha_{3} \\alpha_{5} + \\alpha_{3} \\alpha_{6} + \\alpha_{4} \\alpha_{6} + \\alpha_{5} \\alpha_{6}\\\\4 \\alpha_{0} \\alpha_{3} - \\alpha_{1}^{2} - 2 \\alpha_{1} \\alpha_{2} + 2 \\alpha_{1} \\alpha_{3} - \\alpha_{2}^{2} + 2 \\alpha_{2} \\alpha_{3} - \\alpha_{3}^{2}\\\\\\hat{p} \\left(\\alpha_{0} \\alpha_{1} \\alpha_{3} + \\alpha_{0} \\alpha_{1} \\alpha_{6} + \\alpha_{0} \\alpha_{2} \\alpha_{3} + \\alpha_{0} \\alpha_{2} \\alpha_{6} + \\alpha_{0} \\alpha_{3} \\alpha_{4} + \\alpha_{0} \\alpha_{3} \\alpha_{5} + \\alpha_{0} \\alpha_{3} \\alpha_{6} + \\alpha_{0} \\alpha_{4} \\alpha_{6} + \\alpha_{0} \\alpha_{5} \\alpha_{6} + \\alpha_{1} \\alpha_{3} \\alpha_{4} + \\alpha_{1} \\alpha_{3} \\alpha_{5} + \\alpha_{1} \\alpha_{3} \\alpha_{6} + \\alpha_{1} \\alpha_{4} \\alpha_{6} + \\alpha_{1} \\alpha_{5} \\alpha_{6} + \\alpha_{2} \\alpha_{3} \\alpha_{4} + \\alpha_{2} \\alpha_{3} \\alpha_{5} + \\alpha_{2} \\alpha_{3} \\alpha_{6} + \\alpha_{2} \\alpha_{4} \\alpha_{6} + \\alpha_{2} \\alpha_{5} \\alpha_{6}\\right)\\\\\\hat{p} \\left(2 \\alpha_{0}^{2} \\alpha_{3} - \\alpha_{0} \\alpha_{1}^{2} - 2 \\alpha_{0} \\alpha_{1} \\alpha_{2} + 4 \\alpha_{0} \\alpha_{1} \\alpha_{3} - \\alpha_{0} \\alpha_{2}^{2} + 4 \\alpha_{0} \\alpha_{2} \\alpha_{3} - \\alpha_{0} \\alpha_{3}^{2} - \\alpha_{1}^{3} - 3 \\alpha_{1}^{2} \\alpha_{2} + 2 \\alpha_{1}^{2} \\alpha_{3} - 3 \\alpha_{1} \\alpha_{2}^{2} + 4 \\alpha_{1} \\alpha_{2} \\alpha_{3} - \\alpha_{1} \\alpha_{3}^{2} - \\alpha_{2}^{3} + 2 \\alpha_{2}^{2} \\alpha_{3} - \\alpha_{2} \\alpha_{3}^{2}\\right)\\end{matrix}\\right]$$"
      ],
      "text/plain": [
       "⎡                                             α₀⋅α₁ + α₀⋅α₂ + α₀⋅α₃ + α₀⋅α₄ + \n",
       "⎢                                                                             \n",
       "⎢                                                                             \n",
       "⎢                                                                             \n",
       "⎢                                                                             \n",
       "⎢\\hat{p}⋅(α₀⋅α₁⋅α₃ + α₀⋅α₁⋅α₆ + α₀⋅α₂⋅α₃ + α₀⋅α₂⋅α₆ + α₀⋅α₃⋅α₄ + α₀⋅α₃⋅α₅ + α₀\n",
       "⎢                                                                             \n",
       "⎢                              ⎛    2           2                             \n",
       "⎣                      \\hat{p}⋅⎝2⋅α₀ ⋅α₃ - α₀⋅α₁  - 2⋅α₀⋅α₁⋅α₂ + 4⋅α₀⋅α₁⋅α₃ - \n",
       "\n",
       "α₀⋅α₅ + α₁⋅α₄ + α₁⋅α₅ + α₁⋅α₆ + α₂⋅α₄ + α₂⋅α₅ + α₂⋅α₆ + α₃⋅α₄ + α₃⋅α₅ + α₃⋅α₆ \n",
       "                                                                              \n",
       "               2                         2               2                    \n",
       "   4⋅α₀⋅α₃ - α₁  - 2⋅α₁⋅α₂ + 2⋅α₁⋅α₃ - α₂  + 2⋅α₂⋅α₃ - α₃                     \n",
       "                                                                              \n",
       "⋅α₃⋅α₆ + α₀⋅α₄⋅α₆ + α₀⋅α₅⋅α₆ + α₁⋅α₃⋅α₄ + α₁⋅α₃⋅α₅ + α₁⋅α₃⋅α₆ + α₁⋅α₄⋅α₆ + α₁⋅\n",
       "                                                                              \n",
       "     2                     2     3       2          2             2           \n",
       "α₀⋅α₂  + 4⋅α₀⋅α₂⋅α₃ - α₀⋅α₃  - α₁  - 3⋅α₁ ⋅α₂ + 2⋅α₁ ⋅α₃ - 3⋅α₁⋅α₂  + 4⋅α₁⋅α₂⋅\n",
       "\n",
       "+ α₄⋅α₆ + α₅⋅α₆                                              ⎤\n",
       "                                                             ⎥\n",
       "                                                             ⎥\n",
       "                                                             ⎥\n",
       "                                                             ⎥\n",
       "α₅⋅α₆ + α₂⋅α₃⋅α₄ + α₂⋅α₃⋅α₅ + α₂⋅α₃⋅α₆ + α₂⋅α₄⋅α₆ + α₂⋅α₅⋅α₆)⎥\n",
       "                                                             ⎥\n",
       "          2     3       2           2⎞                       ⎥\n",
       "α₃ - α₁⋅α₃  - α₂  + 2⋅α₂ ⋅α₃ - α₂⋅α₃ ⎠                       ⎦"
      ]
     },
     "execution_count": 27,
     "metadata": {},
     "output_type": "execute_result"
    }
   ],
   "source": [
    "a,b=r10._symanzik_pols_(True,True,False,use_zero_mass=True)\n",
    "a_,b_=r10._symanzik_pols_(True,True,True,use_zero_mass=True)\n",
    "Matrix([simplify(a), simplify(a_),simplify(b),simplify(b_)])"
   ]
  },
  {
   "cell_type": "markdown",
   "metadata": {},
   "source": [
    "## r11"
   ]
  },
  {
   "cell_type": "code",
   "execution_count": 28,
   "metadata": {},
   "outputs": [
    {
     "name": "stdout",
     "output_type": "stream",
     "text": [
      "init exceptions [0, 2, 3, 7, 8]\n",
      "sourcify 0 along [0 6 7] except [0, 2, 3, 7, 8]\n",
      "sourcify 5 along [5 6] except [0, 2, 3, 7, 8, 6]\n",
      "sourcify 4 along [3 4 5] except [0, 2, 3, 7, 8, 6, 5]\n",
      "sourcify 3 along [1 2 4] except [0, 2, 3, 7, 8, 6, 5, 4]\n",
      "sourcify 2 along [0 1] except [0, 2, 3, 7, 8, 6, 5, 4, 1]\n",
      "sourcify 2 along [0 1] except [0, 2, 3, 7, 8, 6, 5, 4, 1]\n",
      "sourcify 2 along [0 1] except [0, 2, 3, 7, 8, 6, 5, 4, 1]\n",
      "sourcify 3 along [1 2 4] except [0, 2, 3, 7, 8, 6, 5, 4, 1]\n",
      "sourcify 4 along [3 4 5] except [0, 2, 3, 7, 8, 6, 5, 4, 1]\n",
      "sourcify 5 along [5 6] except [0, 2, 3, 7, 8, 6, 5, 4, 1]\n",
      "sinkify 1 along [2 3 8] except [1, 4, 5, 6, 7, 8]\n"
     ]
    },
    {
     "data": {
      "text/html": [
       "<svg xmlns=\"http://www.w3.org/2000/svg\" xmlns:xlink=\"http://www.w3.org/1999/xlink\" version=\"1.1\" x=\"0\" y=\"0\" width=\"200\" height=\"200\">\n",
       "      <g fill=\"none\" stroke=\"black\" stroke-width=\"1.6\" stroke-linecap=\"round\" transform=\"rotate(90,100,100)\"> <defs><marker id=\"arrow\"  markerUnits=\"strokeWidth\" markerWidth='5' markerHeight='8' refX='0' refY='2' orient=\"auto\">\n",
       "                                      <path d=\"M0,0 V4 L2,2 Z\" style=\"fill: #000000;\" /> </marker></defs><circle cx=\"100\" cy=\"170\" r=\"3\" stroke=\"black\" stroke-width=\"1\" fill=\"black\" /> <circle cx=\"99\" cy=\"30\" r=\"3\" stroke=\"black\" stroke-width=\"1\" fill=\"black\" /> <circle cx=\"150\" cy=\"100\" r=\"3\" stroke=\"black\" stroke-width=\"1\" fill=\"black\" /> <circle cx=\"100\" cy=\"150\" r=\"3\" stroke=\"black\" stroke-width=\"1\" fill=\"black\" /> <circle cx=\"50\" cy=\"100\" r=\"3\" stroke=\"black\" stroke-width=\"1\" fill=\"black\" /> <circle cx=\"99\" cy=\"50\" r=\"3\" stroke=\"black\" stroke-width=\"1\" fill=\"black\" /> <path d=\"M100 170 L 150 100\" stroke=\"black\" stroke-width=\"2px\" id='edge0'   /> <line x1=\"100\" y1=\"170\" x2=\"125.0\" y2=\"135.0\" stroke=\"black\" stroke-width=\"2px\"  id='edge0'   marker-end='url(#arrow)' /><path d=\"M100 170 L 100 150\" stroke=\"black\" stroke-width=\"2px\" id='edge6'   /> <line x1=\"100\" y1=\"170\" x2=\"100.0\" y2=\"160.0\" stroke=\"black\" stroke-width=\"2px\"  id='edge6'   marker-end='url(#arrow)' /><path d=\"M50 100 L 99 30\" stroke=\"black\" stroke-width=\"2px\" id='edge2'   /> <line x1=\"50\" y1=\"100\" x2=\"74.5\" y2=\"65.0\" stroke=\"black\" stroke-width=\"2px\"  id='edge2'   marker-end='url(#arrow)' /><path d=\"M99 50 L 99 30\" stroke=\"black\" stroke-width=\"2px\" id='edge3'   /> <line x1=\"99\" y1=\"50\" x2=\"99.0\" y2=\"40.0\" stroke=\"black\" stroke-width=\"2px\"  id='edge3'   marker-end='url(#arrow)' /><path id='edge1' d=\"M  50  100  A  50  50  0  0  0  150  100 \" stroke=\"black\"  stroke-width=\"2px\"   /><path id='edge1' d=\"M  50  100  A  50  50  0  0  0  100  150 \" stroke=\"black\"  stroke-width=\"2px\" marker-end='url(#arrow)'  /><path id='edge4' d=\"M  99  50  A  50  50  0  0  0  50  100 \" stroke=\"black\"  stroke-width=\"2px\"   /><path id='edge4' d=\"M  99  50  A  50  50  0  0  0  64  64 \" stroke=\"black\"  stroke-width=\"2px\" marker-end='url(#arrow)'  /><path id='edge5' d=\"M  100  150  A  50  50  0  0  1  99  50 \" stroke=\"black\"  stroke-width=\"2px\"   /><path id='edge5' d=\"M  100  150  A  50  50  0  0  1  50  100 \" stroke=\"black\"  stroke-width=\"2px\" marker-end='url(#arrow)'  /><text x=\"10%\" style=\"fill: #000000;stroke: none; font-size: 14px;\" ><textPath xlink:href=\"#edge0\">e0</textPath></text><text x=\"10%\" style=\"fill: #000000;stroke: none; font-size: 14px;\" ><textPath xlink:href=\"#edge1\">e1</textPath></text><text x=\"10%\" style=\"fill: #000000;stroke: none; font-size: 14px;\" ><textPath xlink:href=\"#edge2\">e2</textPath></text><text x=\"10%\" style=\"fill: #000000;stroke: none; font-size: 14px;\" ><textPath xlink:href=\"#edge3\">e3</textPath></text><text x=\"10%\" style=\"fill: #000000;stroke: none; font-size: 14px;\" ><textPath xlink:href=\"#edge4\">e4</textPath></text><text x=\"10%\" style=\"fill: #000000;stroke: none; font-size: 14px;\" ><textPath xlink:href=\"#edge5\">e5</textPath></text><text x=\"10%\" style=\"fill: #000000;stroke: none; font-size: 14px;\" ><textPath xlink:href=\"#edge6\">e6</textPath></text>  </g> </svg>"
      ],
      "text/plain": [
       "<rg.graph.viz.ring_diagram at 0x24adec42550>"
      ]
     },
     "execution_count": 28,
     "metadata": {},
     "output_type": "execute_result"
    }
   ],
   "source": [
    "r11 = incidence_matrix(edges = [ [0,2],[2,3],[3,1],[1,4],[4,3],[4,5],[5,0] ], external_vertices=[0,1])\n",
    "set_source_sink_flow(r11)\n",
    "ring_diagram(r11, options={\"show_labels\"})"
   ]
  },
  {
   "cell_type": "code",
   "execution_count": 29,
   "metadata": {},
   "outputs": [
    {
     "data": {
      "image/png": "[encoded data removed]",
      "text/latex": [
       "$$\\left[\\begin{matrix}\\alpha_{0} \\alpha_{2} + \\alpha_{0} \\alpha_{3} + \\alpha_{0} \\alpha_{4} + \\alpha_{1} \\alpha_{2} + \\alpha_{1} \\alpha_{3} + \\alpha_{1} \\alpha_{4} + \\alpha_{2} \\alpha_{4} + \\alpha_{2} \\alpha_{5} + \\alpha_{2} \\alpha_{6} + \\alpha_{3} \\alpha_{4} + \\alpha_{3} \\alpha_{5} + \\alpha_{3} \\alpha_{6} + \\alpha_{4} \\alpha_{5} + \\alpha_{4} \\alpha_{6}\\\\4 \\alpha_{0} \\alpha_{3} - \\alpha_{2}^{2} + 2 \\alpha_{2} \\alpha_{3} - \\alpha_{3}^{2}\\\\\\hat{p} \\left(\\alpha_{0} \\alpha_{2} \\alpha_{3} + \\alpha_{0} \\alpha_{2} \\alpha_{5} + \\alpha_{0} \\alpha_{2} \\alpha_{6} + \\alpha_{0} \\alpha_{3} \\alpha_{4} + \\alpha_{0} \\alpha_{3} \\alpha_{5} + \\alpha_{0} \\alpha_{3} \\alpha_{6} + \\alpha_{0} \\alpha_{4} \\alpha_{5} + \\alpha_{0} \\alpha_{4} \\alpha_{6} + \\alpha_{1} \\alpha_{2} \\alpha_{3} + \\alpha_{1} \\alpha_{2} \\alpha_{5} + \\alpha_{1} \\alpha_{2} \\alpha_{6} + \\alpha_{1} \\alpha_{3} \\alpha_{4} + \\alpha_{1} \\alpha_{3} \\alpha_{5} + \\alpha_{1} \\alpha_{3} \\alpha_{6} + \\alpha_{1} \\alpha_{4} \\alpha_{5} + \\alpha_{1} \\alpha_{4} \\alpha_{6} + \\alpha_{2} \\alpha_{3} \\alpha_{4} + \\alpha_{2} \\alpha_{3} \\alpha_{5} + \\alpha_{2} \\alpha_{3} \\alpha_{6} + \\alpha_{2} \\alpha_{4} \\alpha_{5} + \\alpha_{2} \\alpha_{4} \\alpha_{6}\\right)\\\\\\hat{p} \\left(2 \\alpha_{0}^{2} \\alpha_{3} - \\alpha_{0} \\alpha_{2}^{2} + 4 \\alpha_{0} \\alpha_{2} \\alpha_{3} - \\alpha_{0} \\alpha_{3}^{2} - 2 \\alpha_{1}^{2} \\alpha_{3} + \\alpha_{1} \\alpha_{2}^{2} - \\alpha_{1} \\alpha_{3}^{2} - \\alpha_{2}^{3} + 2 \\alpha_{2}^{2} \\alpha_{3} - \\alpha_{2} \\alpha_{3}^{2}\\right)\\end{matrix}\\right]$$"
      ],
      "text/plain": [
       "⎡                                                                α₀⋅α₂ + α₀⋅α₃\n",
       "⎢                                                                             \n",
       "⎢                                                                             \n",
       "⎢                                                                             \n",
       "⎢                                                                             \n",
       "⎢\\hat{p}⋅(α₀⋅α₂⋅α₃ + α₀⋅α₂⋅α₅ + α₀⋅α₂⋅α₆ + α₀⋅α₃⋅α₄ + α₀⋅α₃⋅α₅ + α₀⋅α₃⋅α₆ + α₀\n",
       "⎢                                                                             \n",
       "⎢                                                                           ⎛ \n",
       "⎣                                                                   \\hat{p}⋅⎝2\n",
       "\n",
       " + α₀⋅α₄ + α₁⋅α₂ + α₁⋅α₃ + α₁⋅α₄ + α₂⋅α₄ + α₂⋅α₅ + α₂⋅α₆ + α₃⋅α₄ + α₃⋅α₅ + α₃⋅\n",
       "                                                                              \n",
       "                                       2               2                      \n",
       "                           4⋅α₀⋅α₃ - α₂  + 2⋅α₂⋅α₃ - α₃                       \n",
       "                                                                              \n",
       "⋅α₄⋅α₅ + α₀⋅α₄⋅α₆ + α₁⋅α₂⋅α₃ + α₁⋅α₂⋅α₅ + α₁⋅α₂⋅α₆ + α₁⋅α₃⋅α₄ + α₁⋅α₃⋅α₅ + α₁⋅\n",
       "                                                                              \n",
       "   2           2                     2       2           2        2     3     \n",
       "⋅α₀ ⋅α₃ - α₀⋅α₂  + 4⋅α₀⋅α₂⋅α₃ - α₀⋅α₃  - 2⋅α₁ ⋅α₃ + α₁⋅α₂  - α₁⋅α₃  - α₂  + 2⋅\n",
       "\n",
       "α₆ + α₄⋅α₅ + α₄⋅α₆                                                            \n",
       "                                                                              \n",
       "                                                                              \n",
       "                                                                              \n",
       "                                                                              \n",
       "α₃⋅α₆ + α₁⋅α₄⋅α₅ + α₁⋅α₄⋅α₆ + α₂⋅α₃⋅α₄ + α₂⋅α₃⋅α₅ + α₂⋅α₃⋅α₆ + α₂⋅α₄⋅α₅ + α₂⋅α\n",
       "                                                                              \n",
       "  2           2⎞                                                              \n",
       "α₂ ⋅α₃ - α₂⋅α₃ ⎠                                                              \n",
       "\n",
       "     ⎤\n",
       "     ⎥\n",
       "     ⎥\n",
       "     ⎥\n",
       "     ⎥\n",
       "₄⋅α₆)⎥\n",
       "     ⎥\n",
       "     ⎥\n",
       "     ⎦"
      ]
     },
     "execution_count": 29,
     "metadata": {},
     "output_type": "execute_result"
    }
   ],
   "source": [
    "a,b=r11._symanzik_pols_(True,True,False,use_zero_mass=True)\n",
    "a_,b_=r11._symanzik_pols_(True,True,True,use_zero_mass=True)\n",
    "Matrix([simplify(a), simplify(a_),simplify(b),simplify(b_)])"
   ]
  },
  {
   "cell_type": "markdown",
   "metadata": {},
   "source": [
    "# C"
   ]
  },
  {
   "cell_type": "markdown",
   "metadata": {},
   "source": [
    "## c0"
   ]
  },
  {
   "cell_type": "code",
   "execution_count": 30,
   "metadata": {},
   "outputs": [
    {
     "name": "stdout",
     "output_type": "stream",
     "text": [
      "init exceptions [0, 2, 4, 5]\n",
      "sourcify 0 along [0 2 4] except [0, 2, 4, 5]\n",
      "sinkify 1 along [1 3 5] except [4, 5]\n",
      "sinkify 2 along [0 1] except [4, 5, 1, 3]\n",
      "sinkify 3 along [2 3] except [4, 5, 1, 3, 0]\n"
     ]
    },
    {
     "data": {
      "text/html": [
       "<svg xmlns=\"http://www.w3.org/2000/svg\" xmlns:xlink=\"http://www.w3.org/1999/xlink\" version=\"1.1\" x=\"0\" y=\"0\" width=\"200\" height=\"200\">\n",
       "      <g fill=\"none\" stroke=\"black\" stroke-width=\"1.6\" stroke-linecap=\"round\" transform=\"rotate(90,100,100)\"> <defs><marker id=\"arrow\"  markerUnits=\"strokeWidth\" markerWidth='5' markerHeight='8' refX='0' refY='2' orient=\"auto\">\n",
       "                                      <path d=\"M0,0 V4 L2,2 Z\" style=\"fill: #000000;\" /> </marker></defs><circle cx=\"100\" cy=\"170\" r=\"3\" stroke=\"black\" stroke-width=\"1\" fill=\"black\" /> <circle cx=\"99\" cy=\"30\" r=\"3\" stroke=\"black\" stroke-width=\"1\" fill=\"black\" /> <circle cx=\"100\" cy=\"150\" r=\"3\" stroke=\"black\" stroke-width=\"1\" fill=\"black\" /> <circle cx=\"99\" cy=\"50\" r=\"3\" stroke=\"black\" stroke-width=\"1\" fill=\"black\" /> <path d=\"M100 170 L 100 150\" stroke=\"black\" stroke-width=\"2px\" id='edge0'   /> <line x1=\"100\" y1=\"170\" x2=\"100.0\" y2=\"160.0\" stroke=\"black\" stroke-width=\"2px\"  id='edge0'   marker-end='url(#arrow)' /><path d=\"M100 170 L 99 50\" stroke=\"black\" stroke-width=\"2px\" id='edge2'   /> <line x1=\"100\" y1=\"170\" x2=\"99.5\" y2=\"110.0\" stroke=\"black\" stroke-width=\"2px\"  id='edge2'   marker-end='url(#arrow)' /><path d=\"M100 150 L 99 30\" stroke=\"black\" stroke-width=\"2px\" id='edge1'   /> <line x1=\"100\" y1=\"150\" x2=\"99.5\" y2=\"90.0\" stroke=\"black\" stroke-width=\"2px\"  id='edge1'   marker-end='url(#arrow)' /><path d=\"M99 50 L 99 30\" stroke=\"black\" stroke-width=\"2px\" id='edge3'   /> <line x1=\"99\" y1=\"50\" x2=\"99.0\" y2=\"40.0\" stroke=\"black\" stroke-width=\"2px\"  id='edge3'   marker-end='url(#arrow)' /><text x=\"10%\" style=\"fill: #000000;stroke: none; font-size: 14px;\" ><textPath xlink:href=\"#edge0\">e0</textPath></text><text x=\"10%\" style=\"fill: #000000;stroke: none; font-size: 14px;\" ><textPath xlink:href=\"#edge1\">e1</textPath></text><text x=\"10%\" style=\"fill: #000000;stroke: none; font-size: 14px;\" ><textPath xlink:href=\"#edge2\">e2</textPath></text><text x=\"10%\" style=\"fill: #000000;stroke: none; font-size: 14px;\" ><textPath xlink:href=\"#edge3\">e3</textPath></text>  </g> </svg>"
      ],
      "text/plain": [
       "<rg.graph.viz.ring_diagram at 0x24ae274cba8>"
      ]
     },
     "execution_count": 30,
     "metadata": {},
     "output_type": "execute_result"
    }
   ],
   "source": [
    "c0 = incidence_matrix(edges = [ [0,2],[2,1],[0,3], [3,1] ], external_vertices=[0,1])\n",
    "set_source_sink_flow(c0)\n",
    "ring_diagram(c0, options={\"show_labels\"})"
   ]
  },
  {
   "cell_type": "code",
   "execution_count": 31,
   "metadata": {},
   "outputs": [
    {
     "data": {
      "image/png": "[encoded data removed]",
      "text/latex": [
       "$$\\left[\\begin{matrix}\\alpha_{0} + \\alpha_{1} + \\alpha_{2} + \\alpha_{3} & 2 \\alpha_{0} + 2 \\alpha_{1}\\\\\\hat{p} \\left(\\alpha_{0} \\alpha_{2} + \\alpha_{0} \\alpha_{3} + \\alpha_{1} \\alpha_{2} + \\alpha_{1} \\alpha_{3}\\right) & \\hat{p} \\left(\\alpha_{0}^{2} + 2 \\alpha_{0} \\alpha_{1} + \\alpha_{1}^{2}\\right)\\end{matrix}\\right]$$"
      ],
      "text/plain": [
       "⎡           α₀ + α₁ + α₂ + α₃                      2⋅α₀ + 2⋅α₁         ⎤\n",
       "⎢                                                                      ⎥\n",
       "⎢                                                 ⎛  2               2⎞⎥\n",
       "⎣\\hat{p}⋅(α₀⋅α₂ + α₀⋅α₃ + α₁⋅α₂ + α₁⋅α₃)  \\hat{p}⋅⎝α₀  + 2⋅α₀⋅α₁ + α₁ ⎠⎦"
      ]
     },
     "execution_count": 31,
     "metadata": {},
     "output_type": "execute_result"
    }
   ],
   "source": [
    "a,b=c0._symanzik_pols_(True,True,False,use_zero_mass=True)\n",
    "a_,b_=c0._symanzik_pols_(True,True,True,use_zero_mass=True)\n",
    "Matrix([[simplify(a), simplify(a_)], [simplify(b),simplify(b_)]])"
   ]
  },
  {
   "cell_type": "markdown",
   "metadata": {},
   "source": [
    "## c1"
   ]
  },
  {
   "cell_type": "code",
   "execution_count": 32,
   "metadata": {},
   "outputs": [
    {
     "name": "stdout",
     "output_type": "stream",
     "text": [
      "init exceptions [0, 2, 4, 8, 9]\n",
      "sourcify 0 along [0 2 8] except [0, 2, 4, 8, 9]\n",
      "sinkify 1 along [1 3 9] except [8, 9]\n",
      "sinkify 2 along [0 1] except [8, 9, 1, 3]\n",
      "sinkify 4 along [3 6 7] except [8, 9, 1, 3, 0]\n",
      "sinkify 5 along [4 6] except [8, 9, 1, 3, 0, 6, 7]\n",
      "sinkify 6 along [5 7] except [8, 9, 1, 3, 0, 6, 7, 4]\n",
      "sinkify 3 along [2 4 5] except [8, 9, 1, 3, 0, 6, 7, 4, 5]\n"
     ]
    },
    {
     "data": {
      "text/html": [
       "<svg xmlns=\"http://www.w3.org/2000/svg\" xmlns:xlink=\"http://www.w3.org/1999/xlink\" version=\"1.1\" x=\"0\" y=\"0\" width=\"200\" height=\"200\">\n",
       "      <g fill=\"none\" stroke=\"black\" stroke-width=\"1.6\" stroke-linecap=\"round\" transform=\"rotate(90,100,100)\"> <defs><marker id=\"arrow\"  markerUnits=\"strokeWidth\" markerWidth='5' markerHeight='8' refX='0' refY='2' orient=\"auto\">\n",
       "                                      <path d=\"M0,0 V4 L2,2 Z\" style=\"fill: #000000;\" /> </marker></defs><circle cx=\"100\" cy=\"170\" r=\"3\" stroke=\"black\" stroke-width=\"1\" fill=\"black\" /> <circle cx=\"99\" cy=\"30\" r=\"3\" stroke=\"black\" stroke-width=\"1\" fill=\"black\" /> <circle cx=\"143\" cy=\"125\" r=\"3\" stroke=\"black\" stroke-width=\"1\" fill=\"black\" /> <circle cx=\"56\" cy=\"125\" r=\"3\" stroke=\"black\" stroke-width=\"1\" fill=\"black\" /> <circle cx=\"99\" cy=\"50\" r=\"3\" stroke=\"black\" stroke-width=\"1\" fill=\"black\" /> <circle cx=\"100\" cy=\"130\" r=\"3\" stroke=\"black\" stroke-width=\"1\" fill=\"black\" /> <circle cx=\"100\" cy=\"70\" r=\"3\" stroke=\"black\" stroke-width=\"1\" fill=\"black\" /> <path d=\"M100 170 L 143 125\" stroke=\"black\" stroke-width=\"2px\" id='edge0'   /> <line x1=\"100\" y1=\"170\" x2=\"121.5\" y2=\"147.5\" stroke=\"black\" stroke-width=\"2px\"  id='edge0'   marker-end='url(#arrow)' /><path d=\"M100 170 L 56 125\" stroke=\"black\" stroke-width=\"2px\" id='edge2'   /> <line x1=\"100\" y1=\"170\" x2=\"78.0\" y2=\"147.5\" stroke=\"black\" stroke-width=\"2px\"  id='edge2'   marker-end='url(#arrow)' /><path d=\"M143 125 L 99 30\" stroke=\"black\" stroke-width=\"2px\" id='edge1'   /> <line x1=\"143\" y1=\"125\" x2=\"121.0\" y2=\"77.5\" stroke=\"black\" stroke-width=\"2px\"  id='edge1'   marker-end='url(#arrow)' /><path d=\"M99 50 L 99 30\" stroke=\"black\" stroke-width=\"2px\" id='edge3'   /> <line x1=\"99\" y1=\"50\" x2=\"99.0\" y2=\"40.0\" stroke=\"black\" stroke-width=\"2px\"  id='edge3'   marker-end='url(#arrow)' /><path d=\"M56 125 L 100 130\" stroke=\"black\" stroke-width=\"2px\" id='edge4'   /> <line x1=\"56\" y1=\"125\" x2=\"78.0\" y2=\"127.5\" stroke=\"black\" stroke-width=\"2px\"  id='edge4'   marker-end='url(#arrow)' /><path d=\"M56 125 L 100 70\" stroke=\"black\" stroke-width=\"2px\" id='edge5'   /> <line x1=\"56\" y1=\"125\" x2=\"78.0\" y2=\"97.5\" stroke=\"black\" stroke-width=\"2px\"  id='edge5'   marker-end='url(#arrow)' /><path d=\"M100 130 L 99 50\" stroke=\"black\" stroke-width=\"2px\" id='edge6'   /> <line x1=\"100\" y1=\"130\" x2=\"99.5\" y2=\"90.0\" stroke=\"black\" stroke-width=\"2px\"  id='edge6'   marker-end='url(#arrow)' /><path d=\"M100 70 L 99 50\" stroke=\"black\" stroke-width=\"2px\" id='edge7'   /> <line x1=\"100\" y1=\"70\" x2=\"99.5\" y2=\"60.0\" stroke=\"black\" stroke-width=\"2px\"  id='edge7'   marker-end='url(#arrow)' /><text x=\"10%\" style=\"fill: #000000;stroke: none; font-size: 14px;\" ><textPath xlink:href=\"#edge0\">e0</textPath></text><text x=\"10%\" style=\"fill: #000000;stroke: none; font-size: 14px;\" ><textPath xlink:href=\"#edge1\">e1</textPath></text><text x=\"10%\" style=\"fill: #000000;stroke: none; font-size: 14px;\" ><textPath xlink:href=\"#edge2\">e2</textPath></text><text x=\"10%\" style=\"fill: #000000;stroke: none; font-size: 14px;\" ><textPath xlink:href=\"#edge3\">e3</textPath></text><text x=\"10%\" style=\"fill: #000000;stroke: none; font-size: 14px;\" ><textPath xlink:href=\"#edge4\">e4</textPath></text><text x=\"10%\" style=\"fill: #000000;stroke: none; font-size: 14px;\" ><textPath xlink:href=\"#edge5\">e5</textPath></text><text x=\"10%\" style=\"fill: #000000;stroke: none; font-size: 14px;\" ><textPath xlink:href=\"#edge6\">e6</textPath></text><text x=\"10%\" style=\"fill: #000000;stroke: none; font-size: 14px;\" ><textPath xlink:href=\"#edge7\">e7</textPath></text>  </g> </svg>"
      ],
      "text/plain": [
       "<rg.graph.viz.ring_diagram at 0x24ae274c198>"
      ]
     },
     "execution_count": 32,
     "metadata": {},
     "output_type": "execute_result"
    }
   ],
   "source": [
    "c1 = incidence_matrix(edges = [ [0,2],[2,1],[0,3], [4,1], [3,5], [3,6], [4,5], [4,6] ],  external_vertices=[0,1])\n",
    "set_source_sink_flow(c1)\n",
    "ring_diagram(c1, options={\"show_labels\"})"
   ]
  },
  {
   "cell_type": "code",
   "execution_count": 33,
   "metadata": {},
   "outputs": [
    {
     "data": {
      "image/png": "[encoded data removed]",
      "text/latex": [
       "$$\\left[\\begin{matrix}\\alpha_{0} \\alpha_{4} + \\alpha_{0} \\alpha_{5} + \\alpha_{0} \\alpha_{6} + \\alpha_{0} \\alpha_{7} + \\alpha_{1} \\alpha_{4} + \\alpha_{1} \\alpha_{5} + \\alpha_{1} \\alpha_{6} + \\alpha_{1} \\alpha_{7} + \\alpha_{2} \\alpha_{4} + \\alpha_{2} \\alpha_{5} + \\alpha_{2} \\alpha_{6} + \\alpha_{2} \\alpha_{7} + \\alpha_{3} \\alpha_{4} + \\alpha_{3} \\alpha_{5} + \\alpha_{3} \\alpha_{6} + \\alpha_{3} \\alpha_{7} + \\alpha_{4} \\alpha_{5} + \\alpha_{4} \\alpha_{7} + \\alpha_{5} \\alpha_{6} + \\alpha_{6} \\alpha_{7}\\\\3 \\alpha_{0}^{2} + 6 \\alpha_{0} \\alpha_{1} - 2 \\alpha_{0} \\alpha_{2} - 2 \\alpha_{0} \\alpha_{3} + 3 \\alpha_{1}^{2} - 2 \\alpha_{1} \\alpha_{2} - 2 \\alpha_{1} \\alpha_{3} - \\alpha_{2}^{2} - 2 \\alpha_{2} \\alpha_{3} - \\alpha_{3}^{2}\\\\\\hat{p} \\left(\\alpha_{0} \\alpha_{2} \\alpha_{4} + \\alpha_{0} \\alpha_{2} \\alpha_{5} + \\alpha_{0} \\alpha_{2} \\alpha_{6} + \\alpha_{0} \\alpha_{2} \\alpha_{7} + \\alpha_{0} \\alpha_{3} \\alpha_{4} + \\alpha_{0} \\alpha_{3} \\alpha_{5} + \\alpha_{0} \\alpha_{3} \\alpha_{6} + \\alpha_{0} \\alpha_{3} \\alpha_{7} + \\alpha_{0} \\alpha_{4} \\alpha_{5} + \\alpha_{0} \\alpha_{4} \\alpha_{7} + \\alpha_{0} \\alpha_{5} \\alpha_{6} + \\alpha_{0} \\alpha_{6} \\alpha_{7} + \\alpha_{1} \\alpha_{2} \\alpha_{4} + \\alpha_{1} \\alpha_{2} \\alpha_{5} + \\alpha_{1} \\alpha_{2} \\alpha_{6} + \\alpha_{1} \\alpha_{2} \\alpha_{7} + \\alpha_{1} \\alpha_{3} \\alpha_{4} + \\alpha_{1} \\alpha_{3} \\alpha_{5} + \\alpha_{1} \\alpha_{3} \\alpha_{6} + \\alpha_{1} \\alpha_{3} \\alpha_{7} + \\alpha_{1} \\alpha_{4} \\alpha_{5} + \\alpha_{1} \\alpha_{4} \\alpha_{7} + \\alpha_{1} \\alpha_{5} \\alpha_{6} + \\alpha_{1} \\alpha_{6} \\alpha_{7}\\right)\\\\\\hat{p} \\left(\\alpha_{0}^{3} + 3 \\alpha_{0}^{2} \\alpha_{1} + 3 \\alpha_{0} \\alpha_{1}^{2} - \\alpha_{0} \\alpha_{2}^{2} - 2 \\alpha_{0} \\alpha_{2} \\alpha_{3} - \\alpha_{0} \\alpha_{3}^{2} + \\alpha_{1}^{3} - \\alpha_{1} \\alpha_{2}^{2} - 2 \\alpha_{1} \\alpha_{2} \\alpha_{3} - \\alpha_{1} \\alpha_{3}^{2}\\right)\\end{matrix}\\right]$$"
      ],
      "text/plain": [
       "⎡                                                         α₀⋅α₄ + α₀⋅α₅ + α₀⋅α\n",
       "⎢                                                                             \n",
       "⎢                                                                             \n",
       "⎢                                                                             \n",
       "⎢                                                                             \n",
       "⎢\\hat{p}⋅(α₀⋅α₂⋅α₄ + α₀⋅α₂⋅α₅ + α₀⋅α₂⋅α₆ + α₀⋅α₂⋅α₇ + α₀⋅α₃⋅α₄ + α₀⋅α₃⋅α₅ + α₀\n",
       "⎢                                                                             \n",
       "⎢                                                                             \n",
       "⎣                                                                             \n",
       "\n",
       "₆ + α₀⋅α₇ + α₁⋅α₄ + α₁⋅α₅ + α₁⋅α₆ + α₁⋅α₇ + α₂⋅α₄ + α₂⋅α₅ + α₂⋅α₆ + α₂⋅α₇ + α₃\n",
       "                                                                              \n",
       "                    2                                     2                   \n",
       "                3⋅α₀  + 6⋅α₀⋅α₁ - 2⋅α₀⋅α₂ - 2⋅α₀⋅α₃ + 3⋅α₁  - 2⋅α₁⋅α₂ - 2⋅α₁⋅α\n",
       "                                                                              \n",
       "⋅α₃⋅α₆ + α₀⋅α₃⋅α₇ + α₀⋅α₄⋅α₅ + α₀⋅α₄⋅α₇ + α₀⋅α₅⋅α₆ + α₀⋅α₆⋅α₇ + α₁⋅α₂⋅α₄ + α₁⋅\n",
       "                                                                              \n",
       "               ⎛  3       2             2        2                     2     3\n",
       "       \\hat{p}⋅⎝α₀  + 3⋅α₀ ⋅α₁ + 3⋅α₀⋅α₁  - α₀⋅α₂  - 2⋅α₀⋅α₂⋅α₃ - α₀⋅α₃  + α₁ \n",
       "\n",
       "⋅α₄ + α₃⋅α₅ + α₃⋅α₆ + α₃⋅α₇ + α₄⋅α₅ + α₄⋅α₇ + α₅⋅α₆ + α₆⋅α₇                   \n",
       "                                                                              \n",
       "      2               2                                                       \n",
       "₃ - α₂  - 2⋅α₂⋅α₃ - α₃                                                        \n",
       "                                                                              \n",
       "α₂⋅α₅ + α₁⋅α₂⋅α₆ + α₁⋅α₂⋅α₇ + α₁⋅α₃⋅α₄ + α₁⋅α₃⋅α₅ + α₁⋅α₃⋅α₆ + α₁⋅α₃⋅α₇ + α₁⋅α\n",
       "                                                                              \n",
       "        2                     2⎞                                              \n",
       " - α₁⋅α₂  - 2⋅α₁⋅α₂⋅α₃ - α₁⋅α₃ ⎠                                              \n",
       "\n",
       "                                      ⎤\n",
       "                                      ⎥\n",
       "                                      ⎥\n",
       "                                      ⎥\n",
       "                                      ⎥\n",
       "₄⋅α₅ + α₁⋅α₄⋅α₇ + α₁⋅α₅⋅α₆ + α₁⋅α₆⋅α₇)⎥\n",
       "                                      ⎥\n",
       "                                      ⎥\n",
       "                                      ⎦"
      ]
     },
     "execution_count": 33,
     "metadata": {},
     "output_type": "execute_result"
    }
   ],
   "source": [
    "a,b=c1._symanzik_pols_(True,True,False,use_zero_mass=True)\n",
    "a_,b_=c1._symanzik_pols_(True,True,True,use_zero_mass=True)\n",
    "Matrix([simplify(a), simplify(a_),simplify(b),simplify(b_)])"
   ]
  },
  {
   "cell_type": "code",
   "execution_count": null,
   "metadata": {
    "collapsed": true
   },
   "outputs": [],
   "source": []
  },
  {
   "cell_type": "markdown",
   "metadata": {},
   "source": [
    "## c2"
   ]
  },
  {
   "cell_type": "code",
   "execution_count": null,
   "metadata": {
    "collapsed": true
   },
   "outputs": [],
   "source": [
    "c2 = incidence_matrix(edges = [ [0,2],[2,1],[1,4], [4,5], [0,3], [5,3], [3,6], [5,6] ],  external_vertices=[0,1])\n",
    "set_source_sink_flow(c2)\n",
    "ring_diagram(c2, options={\"show_labels\"})"
   ]
  },
  {
   "cell_type": "code",
   "execution_count": null,
   "metadata": {
    "collapsed": true
   },
   "outputs": [],
   "source": [
    "a,b=c2._symanzik_pols_(True,True,False,use_zero_mass=True)\n",
    "a_,b_=c2._symanzik_pols_(True,True,True,use_zero_mass=True)\n",
    "Matrix([simplify(a), simplify(a_),simplify(b),simplify(b_)])"
   ]
  },
  {
   "cell_type": "markdown",
   "metadata": {},
   "source": [
    "## c3"
   ]
  },
  {
   "cell_type": "code",
   "execution_count": null,
   "metadata": {
    "collapsed": true
   },
   "outputs": [],
   "source": [
    "c3 = incidence_matrix(edges = [ [0,2],[2,1], [1,4], [3,5], [4,6], [6,5], [5,6],[0,3] ], external_vertices=[0,1])\n",
    "set_source_sink_flow(c3)\n",
    "ring_diagram(c3, options={\"show_labels\"})"
   ]
  },
  {
   "cell_type": "code",
   "execution_count": null,
   "metadata": {
    "collapsed": true
   },
   "outputs": [],
   "source": [
    "a,b=c3._symanzik_pols_(True,True,False,use_zero_mass=True)\n",
    "a_,b_=c3._symanzik_pols_(True,True,True,use_zero_mass=True)\n",
    "Matrix([simplify(a), simplify(a_),simplify(b),simplify(b_)])"
   ]
  },
  {
   "cell_type": "markdown",
   "metadata": {},
   "source": [
    "## c4"
   ]
  },
  {
   "cell_type": "code",
   "execution_count": null,
   "metadata": {
    "collapsed": true
   },
   "outputs": [],
   "source": [
    "c4 = incidence_matrix(edges = [ [0,2],[2,3], [1,4], [3,4], [1,5], [6,5], [6,3],[0,6] ], external_vertices=[0,1])\n",
    "set_source_sink_flow(c4)\n",
    "ring_diagram(c4, options={\"show_labels\"})"
   ]
  },
  {
   "cell_type": "code",
   "execution_count": null,
   "metadata": {
    "collapsed": true
   },
   "outputs": [],
   "source": [
    "a,b=c4._symanzik_pols_(True,True,False,use_zero_mass=True)\n",
    "a_,b_=c4._symanzik_pols_(True,True,True,use_zero_mass=True)\n",
    "Matrix([simplify(a), simplify(a_),simplify(b),simplify(b_)])"
   ]
  },
  {
   "cell_type": "markdown",
   "metadata": {},
   "source": [
    "## c5"
   ]
  },
  {
   "cell_type": "code",
   "execution_count": null,
   "metadata": {
    "collapsed": true
   },
   "outputs": [],
   "source": [
    "c5 = incidence_matrix(edges = [ [0,2],[2,3], [1,3], [1,4], [4,5], [6,5], [6,3],[0,5] ], external_vertices=[0,1])\n",
    "set_source_sink_flow(c5)\n",
    "ring_diagram(c5, options={\"show_labels\"})"
   ]
  },
  {
   "cell_type": "code",
   "execution_count": null,
   "metadata": {
    "collapsed": true
   },
   "outputs": [],
   "source": [
    "c5"
   ]
  },
  {
   "cell_type": "code",
   "execution_count": null,
   "metadata": {
    "collapsed": true
   },
   "outputs": [],
   "source": [
    "a,b=c5._symanzik_pols_(True,True,False,use_zero_mass=True)\n",
    "a_,b_=c5._symanzik_pols_(True,True,True,use_zero_mass=True)\n",
    "Matrix([simplify(a), simplify(a_),simplify(b),simplify(b_)])"
   ]
  },
  {
   "cell_type": "markdown",
   "metadata": {},
   "source": [
    "## c6"
   ]
  },
  {
   "cell_type": "code",
   "execution_count": null,
   "metadata": {
    "collapsed": true
   },
   "outputs": [],
   "source": [
    "c6 = incidence_matrix(edges = [ [0,2],[2,3], [1,3], [1,4], [4,5], [6,5], [6,2],[0,5] ],  external_vertices=[0,1])\n",
    "set_source_sink_flow(c6)\n",
    "ring_diagram(c6, options={\"show_labels\"})"
   ]
  },
  {
   "cell_type": "code",
   "execution_count": null,
   "metadata": {
    "collapsed": true
   },
   "outputs": [],
   "source": [
    "a,b=c6._symanzik_pols_(True,True,False,use_zero_mass=True)\n",
    "a_,b_=c6._symanzik_pols_(True,True,True,use_zero_mass=True)\n",
    "Matrix([simplify(a), simplify(a_),simplify(b),simplify(b_)])"
   ]
  },
  {
   "cell_type": "code",
   "execution_count": null,
   "metadata": {
    "collapsed": true
   },
   "outputs": [],
   "source": []
  },
  {
   "cell_type": "code",
   "execution_count": null,
   "metadata": {
    "collapsed": true
   },
   "outputs": [],
   "source": []
  }
 ],
 "metadata": {
  "kernelspec": {
   "display_name": "Python 3",
   "language": "python",
   "name": "python3"
  },
  "language_info": {
   "codemirror_mode": {
    "name": "ipython",
    "version": 3
   },
   "file_extension": ".py",
   "mimetype": "text/x-python",
   "name": "python",
   "nbconvert_exporter": "python",
   "pygments_lexer": "ipython3",
   "version": "3.6.3"
  }
 },
 "nbformat": 4,
 "nbformat_minor": 2
}
