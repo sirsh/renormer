{
 "cells": [
  {
   "cell_type": "code",
   "execution_count": 5,
   "metadata": {
    "collapsed": true
   },
   "outputs": [],
   "source": [
    "import sys\n",
    "sys.path.append(\"../\")\n",
    "import rg\n",
    "from rg.graph import incidence_matrix,_delta_\n",
    "from rg.graph import ring_diagram ,show_spanning_trees\n",
    "from rg.graph import circuits, set_circuit_flow,set_source_sink_flow,apply_flow\n",
    "from rg.graph import scalar_propagator\n",
    "from rg.graph import circuit as cir\n",
    "import numpy as np\n",
    "from sympy import * \n",
    "init_printing()"
   ]
  },
  {
   "cell_type": "code",
   "execution_count": 6,
   "metadata": {},
   "outputs": [
    {
     "name": "stdout",
     "output_type": "stream",
     "text": [
      "init exceptions [0, 1, 2, 5, 6]\n",
      "sourcify 0 along [0 2 5] except [0, 1, 2, 5, 6]\n",
      "sinkify 1 along [3 4 6] except [5, 6]\n",
      "sinkify 2 along [0 1 3] except [5, 6, 3, 4]\n",
      "sinkify 3 along [1 2 4] except [5, 6, 3, 4, 0, 1]\n"
     ]
    },
    {
     "data": {
      "text/html": [
       "<svg xmlns=\"http://www.w3.org/2000/svg\" xmlns:xlink=\"http://www.w3.org/1999/xlink\" version=\"1.1\" x=\"0\" y=\"0\" width=\"200\" height=\"200\">\n",
       "      <g fill=\"none\" stroke=\"black\" stroke-width=\"1.6\" stroke-linecap=\"round\" transform=\"rotate(90,100,100)\"> <defs><marker id=\"arrow\"  markerUnits=\"strokeWidth\" markerWidth='5' markerHeight='8' refX='0' refY='2' orient=\"auto\" stroke=\"black\" >\n",
       "                                      <path d=\"M0,0 V4 L2,2 Z\" style=\"fill: #000000;\" /> </marker>\n",
       "                                      <marker id=\"arrowgrey\"  markerUnits=\"strokeWidth\" markerWidth='5' markerHeight='8' refX='0' refY='2' orient=\"auto\" stroke=\"grey\" >\n",
       "                                      <path d=\"M0,0 V4 L2,2 Z\" style=\"fill: #000000;\" /> </marker>\n",
       "                                      <marker id=\"arroworange\"  markerUnits=\"strokeWidth\" markerWidth='5' markerHeight='8' refX='0' refY='2' orient=\"auto\" stroke=\"orange\" >\n",
       "                                      <path d=\"M0,0 V4 L2,2 Z\" style=\"fill: #000000;\" /> </marker>\n",
       "                                      </defs><circle cx=\"100\" cy=\"170\" r=\"3\" stroke=\"black\" stroke-width=\"1\" fill=\"black\"  /> <circle cx=\"99\" cy=\"30\" r=\"3\" stroke=\"black\" stroke-width=\"1\" fill=\"black\"  /> <circle cx=\"100\" cy=\"150\" r=\"3\" stroke=\"black\" stroke-width=\"1\" fill=\"black\"  /> <circle cx=\"99\" cy=\"50\" r=\"3\" stroke=\"black\" stroke-width=\"1\" fill=\"black\"  /> <path d=\"M100 150 L 100 170\" stroke=\"black\" stroke-width=\"2px\" id='edge0'   /> <line x1=\"100\" y1=\"150\" x2=\"100.0\" y2=\"160.0\" stroke=\"black\" stroke-width=\"2px\"  id='edge0'   marker-end='url(#arrow)' /><path d=\"M99 50 L 100 170\" stroke=\"black\" stroke-width=\"2px\" id='edge2'   /> <line x1=\"99\" y1=\"50\" x2=\"99.5\" y2=\"110.0\" stroke=\"black\" stroke-width=\"2px\"  id='edge2'   marker-end='url(#arrow)' /><path d=\"M99 30 L 100 150\" stroke=\"black\" stroke-width=\"2px\" id='edge3'   /> <line x1=\"99\" y1=\"30\" x2=\"99.5\" y2=\"90.0\" stroke=\"black\" stroke-width=\"2px\"  id='edge3'   marker-end='url(#arrow)' /><path d=\"M99 30 L 99 50\" stroke=\"black\" stroke-width=\"2px\" id='edge4'   /> <line x1=\"99\" y1=\"30\" x2=\"99.0\" y2=\"40.0\" stroke=\"black\" stroke-width=\"2px\"  id='edge4'   marker-end='url(#arrow)' /><path id='edge1' d=\"M  99  50  A  50  50  0  0  0  100  150 \" stroke=\"black\"  stroke-width=\"2px\"   /><path id='edge1' d=\"M  99  50  A  50  50  0  0  0  50  100 \" stroke=\"black\"  stroke-width=\"2px\" marker-end='url(#arrow)'  />  </g> </svg>"
      ],
      "text/plain": [
       "<rg.graph.viz.ring_diagram at 0x296137360f0>"
      ]
     },
     "execution_count": 6,
     "metadata": {},
     "output_type": "execute_result"
    }
   ],
   "source": [
    "inc = incidence_matrix(edges = [ [0,2],[2,3],[0,3],[1,2],[1,3]],  external_vertices=[0,1])\n",
    "set_source_sink_flow(inc)\n",
    "inc.flip_edges(1)\n",
    "ring_diagram(inc)"
   ]
  },
  {
   "cell_type": "code",
   "execution_count": 7,
   "metadata": {},
   "outputs": [
    {
     "name": "stdout",
     "output_type": "stream",
     "text": [
      "init exceptions [0, 1, 2, 5, 6]\n",
      "sourcify 0 along [0 2 5] except [0, 1, 2, 5, 6]\n",
      "sinkify 1 along [3 4 6] except [5, 6]\n",
      "sinkify 2 along [0 1 3] except [5, 6, 3, 4]\n",
      "sinkify 3 along [1 2 4] except [5, 6, 3, 4, 0, 1]\n",
      "init exceptions [0, 1, 2, 5, 6]\n",
      "sourcify 0 along [0 2 5] except [0, 1, 2, 5, 6]\n",
      "sinkify 1 along [3 4 6] except [5, 6]\n",
      "sinkify 2 along [0 1 3] except [5, 6, 3, 4]\n",
      "sinkify 3 along [1 2 4] except [5, 6, 3, 4, 0, 1]\n"
     ]
    },
    {
     "data": {
      "text/plain": [
       "{0: array([-1, -1,  0,  1]),\n",
       " 1: array([1, 0, 0, 0]),\n",
       " 2: array([ 1, -1,  0,  0]),\n",
       " 3: array([ 0, -1,  0,  1]),\n",
       " 4: array([0, 1, 0, 0])}"
      ]
     },
     "execution_count": 7,
     "metadata": {},
     "output_type": "execute_result"
    }
   ],
   "source": [
    "maps = inc.edges_to_loop_basis()\n",
    "maps[2][1] = -1\n",
    "maps"
   ]
  },
  {
   "cell_type": "code",
   "execution_count": 64,
   "metadata": {},
   "outputs": [
    {
     "data": {
      "text/latex": [
       "$\\delta_{1}{\\left (\\alpha_{1} - \\alpha_{3} + \\alpha_{4} \\right )}$"
      ],
      "text/plain": [
       "$\\delta_{1}{\\left (\\alpha_{1} - \\alpha_{3} + \\alpha_{4} \\right )}$"
      ]
     },
     "execution_count": 64,
     "metadata": {},
     "output_type": "execute_result"
    }
   ],
   "source": [
    "#schwiner representation with \n",
    "w0 = Symbol(\"omega_0\")\n",
    "w1 = Symbol(\"omega_1\")\n",
    "wdash0 = Symbol(\"omega'_0\")\n",
    "wdash1 = Symbol(\"omega'_0\")\n",
    "ws = [w0,w1,wdash0,wdash1]\n",
    "\n",
    "powers = [1,2,2,1,1]\n",
    "x = [\n",
    "    [1,0,0,0],\n",
    "    [0,1,0,0],\n",
    "    [-1,0,0,0],\n",
    "    [0,-1,0,0],\n",
    "    [1,-1,0,0]\n",
    "]\n",
    "\n",
    "deltas = [_delta_(\"alpha\", [0,2,4], [1,-1,-1]), _delta_(\"alpha\", [1,3,4], [1,-1,1])]\n",
    "deltas[1]"
   ]
  },
  {
   "cell_type": "code",
   "execution_count": 65,
   "metadata": {},
   "outputs": [
    {
     "data": {
      "text/latex": [
       "$\\delta_{0}{\\left (\\alpha_{0} - \\alpha_{2} - \\alpha_{4} \\right )}$"
      ],
      "text/plain": [
       "$\\delta_{0}{\\left (\\alpha_{0} - \\alpha_{2} - \\alpha_{4} \\right )}$"
      ]
     },
     "execution_count": 65,
     "metadata": {},
     "output_type": "execute_result"
    }
   ],
   "source": [
    "deltas[0]"
   ]
  },
  {
   "cell_type": "code",
   "execution_count": 66,
   "metadata": {},
   "outputs": [
    {
     "data": {
      "image/png": "[encoded data removed]",
      "text/latex": [
       "$$\\left [ \\frac{1}{i \\omega_{0} + p_{0}}, \\quad \\frac{1}{\\left(i \\omega_{1} + p_{1}\\right)^{2}}, \\quad \\frac{1}{\\left(- i \\omega_{0} + p_{2}\\right)^{2}}, \\quad \\frac{1}{- i \\omega_{1} + p_{3}}, \\quad \\frac{1}{i \\omega_{0} - i \\omega_{1} + p_{4}}\\right ]$$"
      ],
      "text/plain": [
       "⎡    1           1              1            1              1        ⎤\n",
       "⎢─────────, ────────────, ─────────────, ──────────, ────────────────⎥\n",
       "⎢ⅈ⋅ω₀ + p₀             2              2  -ⅈ⋅ω₁ + p₃  ⅈ⋅ω₀ - ⅈ⋅ω₁ + p₄⎥\n",
       "⎣           (ⅈ⋅ω₁ + p₁)   (-ⅈ⋅ω₀ + p₂)                               ⎦"
      ]
     },
     "execution_count": 66,
     "metadata": {},
     "output_type": "execute_result"
    }
   ],
   "source": [
    "make(x,powers)"
   ]
  },
  {
   "cell_type": "code",
   "execution_count": 67,
   "metadata": {},
   "outputs": [],
   "source": [
    "def make(x, powers):\n",
    "    props = []\n",
    "    for i, r in enumerate(x):\n",
    "        P = Symbol(\"p_\"+str(i))\n",
    "        for j, v in enumerate(ws):\n",
    "            if r[j] != 0: P +=  I*v*r[j] \n",
    "        props.append(1/P**powers[i])\n",
    "    #props = rg._product_(props)\n",
    "    return props\n",
    "\n",
    "def schwinger_rep(F): \n",
    "    #or try to get odered factors to be the correct size\n",
    "    factors = F if isinstance(F,list)  else F.as_ordered_factors()\n",
    "    terms = []\n",
    "    powers = []\n",
    "    for i,f in enumerate(factors):\n",
    "        keys, values = zip(*f.as_powers_dict().items())\n",
    "        powers.append(values[0])\n",
    "        terms.append(-1*Symbol(\"alpha_\"+str(i))*keys[0])\n",
    "    return rg._product_([Symbol(\"alpha_\"+str(i))**(abs(powers[i])-1) for i in range(len(powers))]) * exp(rg._sum_(terms))\n",
    "\n",
    "def _integrate_(F, deltas):\n",
    "    F = schwinger_rep(F)\n",
    "    #apply the deltas functions\n",
    "    for d in deltas: F = d.apply(F)\n",
    "    omegas = [I*a for a in F.free_symbols if str(a)[:6] == \"omega_\"]\n",
    "    omegas = dict(zip(omegas,[0 for i in range(len(omegas))]))\n",
    "    F =F.subs(omegas)  \n",
    "    \n",
    "    #partition terms\n",
    "    alpha_terms = []\n",
    "    exparg = None\n",
    "    for e in F.as_ordered_factors():\n",
    "        if isinstance(e, exp): exparg = expand(e.args[0])\n",
    "        else: alpha_terms.append(e)  \n",
    "           \n",
    "    alphas_map = {}\n",
    "    alphas = [a for a in exparg.free_symbols if str(a)[:5] == \"alpha\"]\n",
    "    for a in alphas: alphas_map[a] = -1*exparg.coeff(a)\n",
    "    \n",
    "    return expand(rg._product_(alpha_terms)), exparg, alphas_map, F\n",
    "\n",
    "def s_integrate_and_invert(F,deltas, sum_terms=True):\n",
    "    prefactor, _, prop_dash, _ = _integrate_(F,deltas)\n",
    "    #todo need to have a gamma function tool\n",
    "    terms = []\n",
    "    out_alphas = list(prop_dash.keys())\n",
    "    \n",
    "    for t in prefactor.as_ordered_terms():\n",
    "        #coefficient of the prefactor term\n",
    "        cf = list(t.as_coefficients_dict().values())[0]\n",
    "        powers = t.as_powers_dict()\n",
    "        #return the term (signed) and get all the kinematics associated with this edge\n",
    "        trm = cf*rg._product_(1/ (prop_dash[alpha] ** (powers[alpha]+1)) for alpha in out_alphas)\n",
    "        terms.append(trm)\n",
    "    \n",
    "    if sum_terms: terms = rg._sum_(terms)\n",
    "    return terms, out_alphas\n"
   ]
  },
  {
   "cell_type": "code",
   "execution_count": 68,
   "metadata": {},
   "outputs": [],
   "source": [
    "#s_integrate_and_invert(P,deltas)"
   ]
  },
  {
   "cell_type": "code",
   "execution_count": 69,
   "metadata": {},
   "outputs": [
    {
     "data": {
      "image/png": "[encoded data removed]",
      "text/latex": [
       "$$\\left[\\begin{matrix}\\left [ \\frac{1}{\\left(i \\omega_{0} + p_{0}\\right)^{2}}, \\quad \\frac{1}{i \\omega_{1} + p_{1}}, \\quad \\frac{1}{\\left(- i \\omega_{0} + p_{2}\\right)^{2}}, \\quad \\frac{1}{- i \\omega_{1} + p_{3}}, \\quad \\frac{1}{i \\omega_{0} - i \\omega_{1} + p_{4}}\\right ] & \\frac{1}{\\left(p_{0} + p_{2}\\right)^{2} \\left(p_{1} + p_{3}\\right) \\left(p_{0} - p_{1} + p_{4}\\right)^{2}} + \\frac{1}{\\left(p_{0} + p_{2}\\right)^{3} \\left(p_{1} + p_{3}\\right) \\left(p_{0} - p_{1} + p_{4}\\right)}\\\\\\left [ \\frac{1}{\\left(i \\omega_{0} + p_{0}\\right)^{2}}, \\quad \\frac{1}{i \\omega_{1} + p_{1}}, \\quad \\frac{1}{- i \\omega_{0} + p_{2}}, \\quad \\frac{1}{\\left(- i \\omega_{1} + p_{3}\\right)^{2}}, \\quad \\frac{1}{i \\omega_{0} - i \\omega_{1} + p_{4}}\\right ] & \\frac{1}{\\left(p_{0} + p_{2}\\right) \\left(p_{1} + p_{3}\\right)^{2} \\left(p_{0} - p_{1} + p_{4}\\right)^{2}} + \\frac{1}{\\left(p_{0} + p_{2}\\right)^{2} \\left(p_{1} + p_{3}\\right)^{2} \\left(p_{0} - p_{1} + p_{4}\\right)}\\\\\\left [ \\frac{1}{\\left(i \\omega_{0} + p_{0}\\right)^{2}}, \\quad \\frac{1}{i \\omega_{1} + p_{1}}, \\quad \\frac{1}{- i \\omega_{0} + p_{2}}, \\quad \\frac{1}{- i \\omega_{1} + p_{3}}, \\quad \\frac{1}{\\left(i \\omega_{0} - i \\omega_{1} + p_{4}\\right)^{2}}\\right ] & \\frac{1}{\\left(p_{0} + p_{2}\\right) \\left(p_{1} + p_{3}\\right) \\left(p_{0} - p_{1} + p_{4}\\right)^{3}} + \\frac{1}{\\left(p_{0} + p_{2}\\right)^{2} \\left(p_{1} + p_{3}\\right) \\left(p_{0} - p_{1} + p_{4}\\right)^{2}}\\\\\\left [ \\frac{1}{i \\omega_{0} + p_{0}}, \\quad \\frac{1}{\\left(i \\omega_{1} + p_{1}\\right)^{2}}, \\quad \\frac{1}{\\left(- i \\omega_{0} + p_{2}\\right)^{2}}, \\quad \\frac{1}{- i \\omega_{1} + p_{3}}, \\quad \\frac{1}{i \\omega_{0} - i \\omega_{1} + p_{4}}\\right ] & - \\frac{1}{\\left(p_{0} + p_{2}\\right)^{2} \\left(p_{1} + p_{3}\\right) \\left(p_{0} - p_{1} + p_{4}\\right)^{2}} + \\frac{1}{\\left(p_{0} + p_{2}\\right)^{2} \\left(p_{1} + p_{3}\\right)^{2} \\left(p_{0} - p_{1} + p_{4}\\right)}\\\\\\left [ \\frac{1}{i \\omega_{0} + p_{0}}, \\quad \\frac{1}{\\left(i \\omega_{1} + p_{1}\\right)^{2}}, \\quad \\frac{1}{- i \\omega_{0} + p_{2}}, \\quad \\frac{1}{\\left(- i \\omega_{1} + p_{3}\\right)^{2}}, \\quad \\frac{1}{i \\omega_{0} - i \\omega_{1} + p_{4}}\\right ] & - \\frac{1}{\\left(p_{0} + p_{2}\\right) \\left(p_{1} + p_{3}\\right)^{2} \\left(p_{0} - p_{1} + p_{4}\\right)^{2}} + \\frac{1}{\\left(p_{0} + p_{2}\\right) \\left(p_{1} + p_{3}\\right)^{3} \\left(p_{0} - p_{1} + p_{4}\\right)}\\\\\\left [ \\frac{1}{i \\omega_{0} + p_{0}}, \\quad \\frac{1}{\\left(i \\omega_{1} + p_{1}\\right)^{2}}, \\quad \\frac{1}{- i \\omega_{0} + p_{2}}, \\quad \\frac{1}{- i \\omega_{1} + p_{3}}, \\quad \\frac{1}{\\left(i \\omega_{0} - i \\omega_{1} + p_{4}\\right)^{2}}\\right ] & - \\frac{1}{\\left(p_{0} + p_{2}\\right) \\left(p_{1} + p_{3}\\right) \\left(p_{0} - p_{1} + p_{4}\\right)^{3}} + \\frac{1}{\\left(p_{0} + p_{2}\\right) \\left(p_{1} + p_{3}\\right)^{2} \\left(p_{0} - p_{1} + p_{4}\\right)^{2}}\\end{matrix}\\right]$$"
      ],
      "text/plain": [
       "⎡⎡     1            1            1            1              1        ⎤       \n",
       "⎢⎢────────────, ─────────, ─────────────, ──────────, ────────────────⎥   ────\n",
       "⎢⎢           2  ⅈ⋅ω₁ + p₁              2  -ⅈ⋅ω₁ + p₃  ⅈ⋅ω₀ - ⅈ⋅ω₁ + p₄⎥       \n",
       "⎢⎣(ⅈ⋅ω₀ + p₀)              (-ⅈ⋅ω₀ + p₂)                               ⎦   (p₀ \n",
       "⎢                                                                             \n",
       "⎢⎡     1            1          1             1               1        ⎤       \n",
       "⎢⎢────────────, ─────────, ──────────, ─────────────, ────────────────⎥   ────\n",
       "⎢⎢           2  ⅈ⋅ω₁ + p₁  -ⅈ⋅ω₀ + p₂              2  ⅈ⋅ω₀ - ⅈ⋅ω₁ + p₄⎥       \n",
       "⎢⎣(ⅈ⋅ω₀ + p₀)                          (-ⅈ⋅ω₁ + p₃)                   ⎦   (p₀ \n",
       "⎢                                                                             \n",
       "⎢⎡     1            1          1           1                1         ⎤       \n",
       "⎢⎢────────────, ─────────, ──────────, ──────────, ───────────────────⎥   ────\n",
       "⎢⎢           2  ⅈ⋅ω₁ + p₁  -ⅈ⋅ω₀ + p₂  -ⅈ⋅ω₁ + p₃                    2⎥       \n",
       "⎢⎣(ⅈ⋅ω₀ + p₀)                                      (ⅈ⋅ω₀ - ⅈ⋅ω₁ + p₄) ⎦   (p₀ \n",
       "⎢                                                                             \n",
       "⎢⎡    1           1              1            1              1        ⎤       \n",
       "⎢⎢─────────, ────────────, ─────────────, ──────────, ────────────────⎥  - ───\n",
       "⎢⎢ⅈ⋅ω₀ + p₀             2              2  -ⅈ⋅ω₁ + p₃  ⅈ⋅ω₀ - ⅈ⋅ω₁ + p₄⎥       \n",
       "⎢⎣           (ⅈ⋅ω₁ + p₁)   (-ⅈ⋅ω₀ + p₂)                               ⎦    (p₀\n",
       "⎢                                                                             \n",
       "⎢⎡    1           1            1             1               1        ⎤       \n",
       "⎢⎢─────────, ────────────, ──────────, ─────────────, ────────────────⎥  - ───\n",
       "⎢⎢ⅈ⋅ω₀ + p₀             2  -ⅈ⋅ω₀ + p₂              2  ⅈ⋅ω₀ - ⅈ⋅ω₁ + p₄⎥       \n",
       "⎢⎣           (ⅈ⋅ω₁ + p₁)               (-ⅈ⋅ω₁ + p₃)                   ⎦    (p₀\n",
       "⎢                                                                             \n",
       "⎢⎡    1           1            1           1                1         ⎤       \n",
       "⎢⎢─────────, ────────────, ──────────, ──────────, ───────────────────⎥  - ───\n",
       "⎢⎢ⅈ⋅ω₀ + p₀             2  -ⅈ⋅ω₀ + p₂  -ⅈ⋅ω₁ + p₃                    2⎥       \n",
       "⎣⎣           (ⅈ⋅ω₁ + p₁)                           (ⅈ⋅ω₀ - ⅈ⋅ω₁ + p₄) ⎦    (p₀\n",
       "\n",
       "             1                                      1                   ⎤\n",
       "──────────────────────────────── + ───────────────────────────────────  ⎥\n",
       "     2                         2            3                           ⎥\n",
       "+ p₂) ⋅(p₁ + p₃)⋅(p₀ - p₁ + p₄)    (p₀ + p₂) ⋅(p₁ + p₃)⋅(p₀ - p₁ + p₄)  ⎥\n",
       "                                                                        ⎥\n",
       "             1                                      1                   ⎥\n",
       "──────────────────────────────── + ──────────────────────────────────── ⎥\n",
       "               2               2            2          2                ⎥\n",
       "+ p₂)⋅(p₁ + p₃) ⋅(p₀ - p₁ + p₄)    (p₀ + p₂) ⋅(p₁ + p₃) ⋅(p₀ - p₁ + p₄) ⎥\n",
       "                                                                        ⎥\n",
       "             1                                     1                    ⎥\n",
       "─────────────────────────────── + ────────────────────────────────────  ⎥\n",
       "                              3            2                         2  ⎥\n",
       "+ p₂)⋅(p₁ + p₃)⋅(p₀ - p₁ + p₄)    (p₀ + p₂) ⋅(p₁ + p₃)⋅(p₀ - p₁ + p₄)   ⎥\n",
       "                                                                        ⎥\n",
       "              1                                      1                  ⎥\n",
       "───────────────────────────────── + ────────────────────────────────────⎥\n",
       "      2                         2            2          2               ⎥\n",
       " + p₂) ⋅(p₁ + p₃)⋅(p₀ - p₁ + p₄)    (p₀ + p₂) ⋅(p₁ + p₃) ⋅(p₀ - p₁ + p₄)⎥\n",
       "                                                                        ⎥\n",
       "              1                                      1                  ⎥\n",
       "───────────────────────────────── + ─────────────────────────────────── ⎥\n",
       "                2               2                      3                ⎥\n",
       " + p₂)⋅(p₁ + p₃) ⋅(p₀ - p₁ + p₄)    (p₀ + p₂)⋅(p₁ + p₃) ⋅(p₀ - p₁ + p₄) ⎥\n",
       "                                                                        ⎥\n",
       "              1                                     1                   ⎥\n",
       "──────────────────────────────── + ──────────────────────────────────── ⎥\n",
       "                               3                      2               2 ⎥\n",
       " + p₂)⋅(p₁ + p₃)⋅(p₀ - p₁ + p₄)    (p₀ + p₂)⋅(p₁ + p₃) ⋅(p₀ - p₁ + p₄)  ⎦"
      ]
     },
     "execution_count": 69,
     "metadata": {},
     "output_type": "execute_result"
    }
   ],
   "source": [
    "powers = [\n",
    "    [2,1,2,1,1],\n",
    "    [2,1,1,2,1],\n",
    "    [2,1,1,1,2],\n",
    "    \n",
    "    [1,2,2,1,1],\n",
    "    [1,2,1,2,1],\n",
    "    [1,2,1,1,2],\n",
    "]\n",
    "\n",
    "res = []\n",
    "for p in powers:\n",
    "    P = make(x, powers=p)\n",
    "    Q = s_integrate_and_invert(P,deltas)\n",
    "    res.append([P,Q[0], ])#simplify(Q[0])\n",
    "    \n",
    "MRES = Matrix(res)\n",
    "MRES"
   ]
  },
  {
   "cell_type": "code",
   "execution_count": 40,
   "metadata": {},
   "outputs": [
    {
     "data": {
      "image/png": "[encoded data removed]",
      "text/latex": [
       "$$\\left [ \\left [ 2, \\quad 1, \\quad 2, \\quad 1, \\quad 1\\right ], \\quad \\left [ 2, \\quad 1, \\quad 1, \\quad 2, \\quad 1\\right ], \\quad \\left [ 2, \\quad 1, \\quad 1, \\quad 1, \\quad 2\\right ], \\quad \\left [ 1, \\quad 2, \\quad 2, \\quad 1, \\quad 1\\right ], \\quad \\left [ 1, \\quad 2, \\quad 1, \\quad 2, \\quad 1\\right ], \\quad \\left [ 1, \\quad 2, \\quad 1, \\quad 1, \\quad 2\\right ]\\right ]$$"
      ],
      "text/plain": [
       "[[2, 1, 2, 1, 1], [2, 1, 1, 2, 1], [2, 1, 1, 1, 2], [1, 2, 2, 1, 1], [1, 2, 1,\n",
       " 2, 1], [1, 2, 1, 1, 2]]"
      ]
     },
     "execution_count": 40,
     "metadata": {},
     "output_type": "execute_result"
    }
   ],
   "source": [
    "powers\n"
   ]
  },
  {
   "cell_type": "code",
   "execution_count": 42,
   "metadata": {},
   "outputs": [
    {
     "data": {
      "image/png": "[encoded data removed]",
      "text/latex": [
       "$$\\frac{1}{\\left(p_{0} + p_{3}\\right) \\left(p_{1} + p_{2}\\right)^{2} \\left(- p_{0} + p_{1} + p_{4}\\right)^{2}} + \\frac{1}{\\left(p_{0} + p_{3}\\right) \\left(p_{1} + p_{2}\\right)^{3} \\left(- p_{0} + p_{1} + p_{4}\\right)} + \\frac{1}{\\left(p_{0} + p_{3}\\right)^{2} \\left(p_{1} + p_{2}\\right) \\left(- p_{0} + p_{1} + p_{4}\\right)^{2}} + \\frac{2}{\\left(p_{0} + p_{3}\\right)^{2} \\left(p_{1} + p_{2}\\right)^{2} \\left(- p_{0} + p_{1} + p_{4}\\right)} + \\frac{1}{\\left(p_{0} + p_{3}\\right)^{3} \\left(p_{1} + p_{2}\\right) \\left(- p_{0} + p_{1} + p_{4}\\right)}$$"
      ],
      "text/plain": [
       "                  1                                      1                    \n",
       "───────────────────────────────────── + ──────────────────────────────────── +\n",
       "                   2                2                      3                  \n",
       "(p₀ + p₃)⋅(p₁ + p₂) ⋅(-p₀ + p₁ + p₄)    (p₀ + p₃)⋅(p₁ + p₂) ⋅(-p₀ + p₁ + p₄)  \n",
       "\n",
       "                   1                                       2                  \n",
       " ───────────────────────────────────── + ─────────────────────────────────────\n",
       "          2                          2            2          2                \n",
       " (p₀ + p₃) ⋅(p₁ + p₂)⋅(-p₀ + p₁ + p₄)    (p₀ + p₃) ⋅(p₁ + p₂) ⋅(-p₀ + p₁ + p₄)\n",
       "\n",
       "                    1                  \n",
       " + ────────────────────────────────────\n",
       "            3                          \n",
       "   (p₀ + p₃) ⋅(p₁ + p₂)⋅(-p₀ + p₁ + p₄)"
      ]
     },
     "execution_count": 42,
     "metadata": {},
     "output_type": "execute_result"
    }
   ],
   "source": [
    "rg._sum_(MRES.col(1))"
   ]
  },
  {
   "cell_type": "code",
   "execution_count": null,
   "metadata": {
    "collapsed": true
   },
   "outputs": [],
   "source": []
  },
  {
   "cell_type": "code",
   "execution_count": 26,
   "metadata": {},
   "outputs": [
    {
     "data": {
      "image/png": "[encoded data removed]",
      "text/latex": [
       "$$\\frac{1}{\\left(p_{0} + p_{3}\\right)^{3} \\left(p_{1} + p_{2}\\right)^{3} \\left(- p_{0} + p_{1} + p_{4}\\right)^{3}} \\left(\\left(p_{0} + p_{3}\\right)^{2} \\left(p_{1} + p_{2}\\right) \\left(- p_{0} + 2 p_{1} + p_{2} + p_{4}\\right) + \\left(p_{0} + p_{3}\\right)^{2} \\left(- p_{0} + p_{1} + p_{4}\\right) \\left(- p_{0} + 2 p_{1} + p_{2} + p_{4}\\right) + \\left(p_{0} + p_{3}\\right) \\left(p_{1} + p_{2}\\right)^{2} \\left(- 2 p_{0} + p_{1} - p_{3} + p_{4}\\right) + \\left(p_{0} + p_{3}\\right) \\left(p_{1} + p_{2}\\right) \\left(- p_{0} + p_{1} + p_{4}\\right) \\left(- 2 p_{0} + p_{1} - p_{3} + p_{4}\\right) + \\left(p_{0} + p_{3}\\right) \\left(p_{1} + p_{2}\\right) \\left(- p_{0} + p_{1} + p_{4}\\right) \\left(- p_{0} + 2 p_{1} + p_{2} + p_{4}\\right) + \\left(p_{1} + p_{2}\\right)^{2} \\left(- p_{0} + p_{1} + p_{4}\\right) \\left(- 2 p_{0} + p_{1} - p_{3} + p_{4}\\right)\\right)$$"
      ],
      "text/plain": [
       "         2                                             2                      \n",
       "(p₀ + p₃) ⋅(p₁ + p₂)⋅(-p₀ + 2⋅p₁ + p₂ + p₄) + (p₀ + p₃) ⋅(-p₀ + p₁ + p₄)⋅(-p₀ \n",
       "──────────────────────────────────────────────────────────────────────────────\n",
       "                                                                              \n",
       "                                                                              \n",
       "\n",
       "                                       2                                      \n",
       "+ 2⋅p₁ + p₂ + p₄) + (p₀ + p₃)⋅(p₁ + p₂) ⋅(-2⋅p₀ + p₁ - p₃ + p₄) + (p₀ + p₃)⋅(p\n",
       "──────────────────────────────────────────────────────────────────────────────\n",
       "                                                                      3       \n",
       "                                                             (p₀ + p₃) ⋅(p₁ + \n",
       "\n",
       "                                                                              \n",
       "₁ + p₂)⋅(-p₀ + p₁ + p₄)⋅(-2⋅p₀ + p₁ - p₃ + p₄) + (p₀ + p₃)⋅(p₁ + p₂)⋅(-p₀ + p₁\n",
       "──────────────────────────────────────────────────────────────────────────────\n",
       "   3                3                                                         \n",
       "p₂) ⋅(-p₀ + p₁ + p₄)                                                          \n",
       "\n",
       "                                         2                                    \n",
       " + p₄)⋅(-p₀ + 2⋅p₁ + p₂ + p₄) + (p₁ + p₂) ⋅(-p₀ + p₁ + p₄)⋅(-2⋅p₀ + p₁ - p₃ + \n",
       "──────────────────────────────────────────────────────────────────────────────\n",
       "                                                                              \n",
       "                                                                              \n",
       "\n",
       "   \n",
       "p₄)\n",
       "───\n",
       "   \n",
       "   "
      ]
     },
     "execution_count": 26,
     "metadata": {},
     "output_type": "execute_result"
    }
   ],
   "source": [
    "full_thing = simplify(rg._sum_(MRES.col(2)))\n",
    "full_thing"
   ]
  },
  {
   "cell_type": "code",
   "execution_count": 29,
   "metadata": {},
   "outputs": [
    {
     "data": {
      "image/png": "[encoded data removed]",
      "text/latex": [
       "$$p_{0}^{4} - p_{0}^{3} p_{1} + p_{0}^{3} p_{2} + 2 p_{0}^{3} p_{3} - 2 p_{0}^{3} p_{4} - 2 p_{0}^{2} p_{1}^{2} - 3 p_{0}^{2} p_{1} p_{2} - 4 p_{0}^{2} p_{1} p_{3} - p_{0}^{2} p_{1} p_{4} - 3 p_{0}^{2} p_{2} p_{4} + p_{0}^{2} p_{3}^{2} - 4 p_{0}^{2} p_{3} p_{4} + p_{0}^{2} p_{4}^{2} + p_{0} p_{1}^{3} - p_{0} p_{1}^{2} p_{3} + 3 p_{0} p_{1}^{2} p_{4} - p_{0} p_{1} p_{2}^{2} - 4 p_{0} p_{1} p_{2} p_{3} + 2 p_{0} p_{1} p_{2} p_{4} - 3 p_{0} p_{1} p_{3}^{2} + 2 p_{0} p_{1} p_{3} p_{4} + 2 p_{0} p_{1} p_{4}^{2} - p_{0} p_{2}^{2} p_{3} - p_{0} p_{2}^{2} p_{4} - p_{0} p_{2} p_{3}^{2} - 2 p_{0} p_{2} p_{3} p_{4} + 2 p_{0} p_{2} p_{4}^{2} - 2 p_{0} p_{3}^{2} p_{4} + 2 p_{0} p_{3} p_{4}^{2} + p_{1}^{4} + 2 p_{1}^{3} p_{2} + 3 p_{1}^{3} p_{3} + 2 p_{1}^{3} p_{4} + p_{1}^{2} p_{2}^{2} + 4 p_{1}^{2} p_{2} p_{3} + 4 p_{1}^{2} p_{2} p_{4} + 2 p_{1}^{2} p_{3}^{2} + 5 p_{1}^{2} p_{3} p_{4} + p_{1}^{2} p_{4}^{2} + p_{1} p_{2}^{2} p_{3} + 2 p_{1} p_{2}^{2} p_{4} + p_{1} p_{2} p_{3}^{2} + 6 p_{1} p_{2} p_{3} p_{4} + 2 p_{1} p_{2} p_{4}^{2} + 3 p_{1} p_{3}^{2} p_{4} + 2 p_{1} p_{3} p_{4}^{2} + p_{2}^{2} p_{3} p_{4} + p_{2}^{2} p_{4}^{2} + p_{2} p_{3}^{2} p_{4} + 2 p_{2} p_{3} p_{4}^{2} + p_{3}^{2} p_{4}^{2}$$"
      ],
      "text/plain": [
       "  4     3        3          3          3          2   2       2             2 \n",
       "p₀  - p₀ ⋅p₁ + p₀ ⋅p₂ + 2⋅p₀ ⋅p₃ - 2⋅p₀ ⋅p₄ - 2⋅p₀ ⋅p₁  - 3⋅p₀ ⋅p₁⋅p₂ - 4⋅p₀ ⋅\n",
       "\n",
       "          2             2           2   2       2           2   2        3    \n",
       "p₁⋅p₃ - p₀ ⋅p₁⋅p₄ - 3⋅p₀ ⋅p₂⋅p₄ + p₀ ⋅p₃  - 4⋅p₀ ⋅p₃⋅p₄ + p₀ ⋅p₄  + p₀⋅p₁  - p\n",
       "\n",
       "    2             2              2                                            \n",
       "₀⋅p₁ ⋅p₃ + 3⋅p₀⋅p₁ ⋅p₄ - p₀⋅p₁⋅p₂  - 4⋅p₀⋅p₁⋅p₂⋅p₃ + 2⋅p₀⋅p₁⋅p₂⋅p₄ - 3⋅p₀⋅p₁⋅p\n",
       "\n",
       " 2                             2        2           2              2          \n",
       "₃  + 2⋅p₀⋅p₁⋅p₃⋅p₄ + 2⋅p₀⋅p₁⋅p₄  - p₀⋅p₂ ⋅p₃ - p₀⋅p₂ ⋅p₄ - p₀⋅p₂⋅p₃  - 2⋅p₀⋅p₂\n",
       "\n",
       "                   2          2                2     4       3          3     \n",
       "⋅p₃⋅p₄ + 2⋅p₀⋅p₂⋅p₄  - 2⋅p₀⋅p₃ ⋅p₄ + 2⋅p₀⋅p₃⋅p₄  + p₁  + 2⋅p₁ ⋅p₂ + 3⋅p₁ ⋅p₃ +\n",
       "\n",
       "     3        2   2       2             2             2   2       2           \n",
       " 2⋅p₁ ⋅p₄ + p₁ ⋅p₂  + 4⋅p₁ ⋅p₂⋅p₃ + 4⋅p₁ ⋅p₂⋅p₄ + 2⋅p₁ ⋅p₃  + 5⋅p₁ ⋅p₃⋅p₄ + p₁\n",
       "\n",
       "2   2        2             2              2                             2     \n",
       " ⋅p₄  + p₁⋅p₂ ⋅p₃ + 2⋅p₁⋅p₂ ⋅p₄ + p₁⋅p₂⋅p₃  + 6⋅p₁⋅p₂⋅p₃⋅p₄ + 2⋅p₁⋅p₂⋅p₄  + 3⋅\n",
       "\n",
       "     2                2     2           2   2        2                2     2 \n",
       "p₁⋅p₃ ⋅p₄ + 2⋅p₁⋅p₃⋅p₄  + p₂ ⋅p₃⋅p₄ + p₂ ⋅p₄  + p₂⋅p₃ ⋅p₄ + 2⋅p₂⋅p₃⋅p₄  + p₃ ⋅\n",
       "\n",
       "  2\n",
       "p₄ "
      ]
     },
     "execution_count": 29,
     "metadata": {},
     "output_type": "execute_result"
    }
   ],
   "source": [
    "num_ex = expand(full_thing.as_numer_denom()[0])\n",
    "num_ex"
   ]
  },
  {
   "cell_type": "code",
   "execution_count": 30,
   "metadata": {},
   "outputs": [
    {
     "data": {
      "image/png": "[encoded data removed]",
      "text/latex": [
       "$$p_{0}^{4} - p_{0}^{3} p_{1} + p_{0}^{3} p_{2} + 2 p_{0}^{3} p_{3} - 2 p_{0}^{3} p_{4} - 2 p_{0}^{2} p_{1}^{2} - 3 p_{0}^{2} p_{1} p_{2} - 4 p_{0}^{2} p_{1} p_{3} - p_{0}^{2} p_{1} p_{4} - 3 p_{0}^{2} p_{2} p_{4} + p_{0}^{2} p_{3}^{2} - 4 p_{0}^{2} p_{3} p_{4} + p_{0}^{2} p_{4}^{2} + p_{0} p_{1}^{3} - p_{0} p_{1}^{2} p_{3} + 3 p_{0} p_{1}^{2} p_{4} - p_{0} p_{1} p_{2}^{2} - 4 p_{0} p_{1} p_{2} p_{3} + 2 p_{0} p_{1} p_{2} p_{4} - 3 p_{0} p_{1} p_{3}^{2} + 2 p_{0} p_{1} p_{3} p_{4} + 2 p_{0} p_{1} p_{4}^{2} - p_{0} p_{2}^{2} p_{3} - p_{0} p_{2}^{2} p_{4} - p_{0} p_{2} p_{3}^{2} - 2 p_{0} p_{2} p_{3} p_{4} + 2 p_{0} p_{2} p_{4}^{2} - 2 p_{0} p_{3}^{2} p_{4} + 2 p_{0} p_{3} p_{4}^{2} + p_{1}^{4} + 2 p_{1}^{3} p_{2} + 3 p_{1}^{3} p_{3} + 2 p_{1}^{3} p_{4} + p_{1}^{2} p_{2}^{2} + 4 p_{1}^{2} p_{2} p_{3} + 4 p_{1}^{2} p_{2} p_{4} + 2 p_{1}^{2} p_{3}^{2} + 5 p_{1}^{2} p_{3} p_{4} + p_{1}^{2} p_{4}^{2} + p_{1} p_{2}^{2} p_{3} + 2 p_{1} p_{2}^{2} p_{4} + p_{1} p_{2} p_{3}^{2} + 6 p_{1} p_{2} p_{3} p_{4} + 2 p_{1} p_{2} p_{4}^{2} + 3 p_{1} p_{3}^{2} p_{4} + 2 p_{1} p_{3} p_{4}^{2} + p_{2}^{2} p_{3} p_{4} + p_{2}^{2} p_{4}^{2} + p_{2} p_{3}^{2} p_{4} + 2 p_{2} p_{3} p_{4}^{2} + p_{3}^{2} p_{4}^{2}$$"
      ],
      "text/plain": [
       "  4     3        3          3          3          2   2       2             2 \n",
       "p₀  - p₀ ⋅p₁ + p₀ ⋅p₂ + 2⋅p₀ ⋅p₃ - 2⋅p₀ ⋅p₄ - 2⋅p₀ ⋅p₁  - 3⋅p₀ ⋅p₁⋅p₂ - 4⋅p₀ ⋅\n",
       "\n",
       "          2             2           2   2       2           2   2        3    \n",
       "p₁⋅p₃ - p₀ ⋅p₁⋅p₄ - 3⋅p₀ ⋅p₂⋅p₄ + p₀ ⋅p₃  - 4⋅p₀ ⋅p₃⋅p₄ + p₀ ⋅p₄  + p₀⋅p₁  - p\n",
       "\n",
       "    2             2              2                                            \n",
       "₀⋅p₁ ⋅p₃ + 3⋅p₀⋅p₁ ⋅p₄ - p₀⋅p₁⋅p₂  - 4⋅p₀⋅p₁⋅p₂⋅p₃ + 2⋅p₀⋅p₁⋅p₂⋅p₄ - 3⋅p₀⋅p₁⋅p\n",
       "\n",
       " 2                             2        2           2              2          \n",
       "₃  + 2⋅p₀⋅p₁⋅p₃⋅p₄ + 2⋅p₀⋅p₁⋅p₄  - p₀⋅p₂ ⋅p₃ - p₀⋅p₂ ⋅p₄ - p₀⋅p₂⋅p₃  - 2⋅p₀⋅p₂\n",
       "\n",
       "                   2          2                2     4       3          3     \n",
       "⋅p₃⋅p₄ + 2⋅p₀⋅p₂⋅p₄  - 2⋅p₀⋅p₃ ⋅p₄ + 2⋅p₀⋅p₃⋅p₄  + p₁  + 2⋅p₁ ⋅p₂ + 3⋅p₁ ⋅p₃ +\n",
       "\n",
       "     3        2   2       2             2             2   2       2           \n",
       " 2⋅p₁ ⋅p₄ + p₁ ⋅p₂  + 4⋅p₁ ⋅p₂⋅p₃ + 4⋅p₁ ⋅p₂⋅p₄ + 2⋅p₁ ⋅p₃  + 5⋅p₁ ⋅p₃⋅p₄ + p₁\n",
       "\n",
       "2   2        2             2              2                             2     \n",
       " ⋅p₄  + p₁⋅p₂ ⋅p₃ + 2⋅p₁⋅p₂ ⋅p₄ + p₁⋅p₂⋅p₃  + 6⋅p₁⋅p₂⋅p₃⋅p₄ + 2⋅p₁⋅p₂⋅p₄  + 3⋅\n",
       "\n",
       "     2                2     2           2   2        2                2     2 \n",
       "p₁⋅p₃ ⋅p₄ + 2⋅p₁⋅p₃⋅p₄  + p₂ ⋅p₃⋅p₄ + p₂ ⋅p₄  + p₂⋅p₃ ⋅p₄ + 2⋅p₂⋅p₃⋅p₄  + p₃ ⋅\n",
       "\n",
       "  2\n",
       "p₄ "
      ]
     },
     "execution_count": 30,
     "metadata": {},
     "output_type": "execute_result"
    }
   ],
   "source": [
    "simplify(num_ex)"
   ]
  },
  {
   "cell_type": "code",
   "execution_count": null,
   "metadata": {
    "collapsed": true
   },
   "outputs": [],
   "source": []
  },
  {
   "cell_type": "code",
   "execution_count": null,
   "metadata": {},
   "outputs": [],
   "source": []
  },
  {
   "cell_type": "code",
   "execution_count": null,
   "metadata": {},
   "outputs": [],
   "source": [
    "def invert_schwinger_rep(F):  \n",
    "    def coeff_full(expr,x):\n",
    "        xterm = [t for t in expr.args if t.has(x)]\n",
    "        factors = []\n",
    "        for fac in xterm:  factors+= [t for t in fac.as_ordered_factors() if not t.has(x) and t != -1]      \n",
    "        return rg._sum_(factors)\n",
    "        #return factors\n",
    "    ex_args = {}\n",
    "    power_args = []\n",
    "    alpha_signs = {}\n",
    "    for f in F.as_ordered_factors():\n",
    "        if isinstance(f,exp):\n",
    "            f =  f.args[0]\n",
    "            alphas = [a for a in f.free_symbols if str(a)[:5] == \"alpha\"]\n",
    "            omegas = [a for a in f.free_symbols if str(a)[:6] == \"omega_\"]\n",
    "            \n",
    "            #alpha_pref = [v for v in f.as_ordered_terms()[-1].as_ordered_factors() if v.has( alphas[-1])][0]\n",
    "            #alpha_coeefs = alpha_pref.as_coefficients_dict()\n",
    "            \n",
    "            sub_om = dict(zip(omegas,[0 for i in range(len(omegas))]))\n",
    "            for a in alphas: ex_args[a] = coeff_full(f,a).subs(sub_om) \n",
    "        else: power_args.append(f)\n",
    "            \n",
    "    #get the pre-factor as a product for which we can determine the power\n",
    "    power_args = expand(rg._product_(power_args))\n",
    "\n",
    "    #todo gamma functions\n",
    "    \n",
    "    for t in power_args.as_ordered_terms():\n",
    "        powers = t.as_powers_dict()\n",
    "        props = []\n",
    "        for k in ex_args.keys():\n",
    "            prop = ex_args[k]**(powers[k]+1)\n",
    "            props.append(1/prop)\n",
    "        yield rg._product_(props)\n",
    "#list(invert_schwinger_rep(G))"
   ]
  },
  {
   "cell_type": "code",
   "execution_count": null,
   "metadata": {},
   "outputs": [],
   "source": [
    "def sintegrate(factor, delta_functs):\n",
    "    \n",
    "    g = schwinger_rep(factor)\n",
    "    #return [g]\n",
    "    for d in delta_functs: g = d.apply(g)\n",
    "    return [g]\n",
    "    #for res in invert_schwinger_rep(g):yield res\n"
   ]
  },
  {
   "cell_type": "code",
   "execution_count": 70,
   "metadata": {},
   "outputs": [
    {
     "data": {
      "text/latex": [
       "$\\frac{1}{\\left(D k_{0}^{2} + i \\omega_{0}\\right) \\left(D k_{1}^{2} + i \\omega_{1}\\right)^{2} \\left(D \\left(k'_{1} + k_{1}\\right)^{2} + i \\omega'_1 - i \\omega_{1}\\right) \\left(D \\left(k_{0} + k_{1}\\right)^{2} + i \\omega_{0} - i \\omega_{1}\\right) \\left(D \\left(k'_{1} + k_{0} + k_{1}\\right)^{2} + i \\omega'_1 - i \\omega_{0} - i \\omega_{1}\\right)^{2}}$"
      ],
      "text/plain": [
       "$\\frac{1}{\\left(D k_{0}^{2} + i \\omega_{0}\\right) \\left(D k_{1}^{2} + i \\omega_{1}\\right)^{2} \\left(D \\left(k'_{1} + k_{1}\\right)^{2} + i \\omega'_1 - i \\omega_{1}\\right) \\left(D \\left(k_{0} + k_{1}\\right)^{2} + i \\omega_{0} - i \\omega_{1}\\right) \\left(D \\left(k'_{1} + k_{0} + k_{1}\\right)^{2} + i \\omega'_1 - i \\omega_{0} - i \\omega_{1}\\right)^{2}}$"
      ]
     },
     "execution_count": 70,
     "metadata": {},
     "output_type": "execute_result"
    }
   ],
   "source": [
    "\n",
    "powermap = [2,1,1,1,2]\n",
    "\n",
    "L = inc.first_betti_number\n",
    "factor = rg._product_([scalar_propagator(maps[i][:L], maps[i][L:],species=None,power=powermap[i]).value for i in maps.keys()])\n",
    "IG = rg.integral(factor)\n",
    "IG"
   ]
  },
  {
   "cell_type": "code",
   "execution_count": 73,
   "metadata": {},
   "outputs": [
    {
     "data": {
      "image/png": "[encoded data removed]",
      "text/latex": [
       "$$\\left [ \\frac{1}{D k_{0}^{2} + i \\omega_{0}}, \\quad \\frac{1}{\\left(D k_{1}^{2} + i \\omega_{1}\\right)^{2}}, \\quad \\frac{1}{D \\left(k'_{1} + k_{1}\\right)^{2} + i \\omega'_1 - i \\omega_{1}}, \\quad \\frac{1}{D \\left(k_{0} + k_{1}\\right)^{2} + i \\omega_{0} - i \\omega_{1}}, \\quad \\frac{1}{\\left(D \\left(k'_{1} + k_{0} + k_{1}\\right)^{2} + i \\omega'_1 - i \\omega_{0} - i \\omega_{1}\\right)^{2}}\\right ]$$"
      ],
      "text/plain": [
       "⎡     1               1                         1                             \n",
       "⎢────────────, ───────────────, ─────────────────────────────────, ───────────\n",
       "⎢    2                       2              2                                 \n",
       "⎢D⋅k₀  + ⅈ⋅ω₀  ⎛    2       ⎞   D⋅(k'₁ + k₁)  + ⅈ⋅\\omega'₁ - ⅈ⋅ω₁  D⋅(k₀ + k₁)\n",
       "⎣              ⎝D⋅k₁  + ⅈ⋅ω₁⎠                                                 \n",
       "\n",
       " 1                                      1                        ⎤\n",
       "───────────────, ────────────────────────────────────────────────⎥\n",
       "2                                                               2⎥\n",
       "  + ⅈ⋅ω₀ - ⅈ⋅ω₁  ⎛                 2                           ⎞ ⎥\n",
       "                 ⎝D⋅(k'₁ + k₀ + k₁)  + ⅈ⋅\\omega'₁ - ⅈ⋅ω₀ - ⅈ⋅ω₁⎠ ⎦"
      ]
     },
     "execution_count": 73,
     "metadata": {},
     "output_type": "execute_result"
    }
   ],
   "source": [
    "factor.as_ordered_factors()"
   ]
  },
  {
   "cell_type": "code",
   "execution_count": null,
   "metadata": {},
   "outputs": [],
   "source": [
    "deltas = [_delta_(\"alpha\", [1,2,4], [1,-1,-1]), _delta_(\"alpha\", [0,3,4], [1,-1,1])]\n",
    "L=list(sintegrate(factor,deltas))\n",
    "L"
   ]
  },
  {
   "cell_type": "code",
   "execution_count": null,
   "metadata": {
    "collapsed": true
   },
   "outputs": [],
   "source": [
    "F= L\n",
    "def coeff_full(expr,x):\n",
    "        xterm = [t for t in expr.args if t.has(x)]\n",
    "        factors = []\n",
    "        for fac in xterm:  factors+= [t for t in fac.as_ordered_factors() if not t.has(x) and t != -1]      \n",
    "        return rg._sum_(factors)\n",
    "        #return factors\n",
    "    \n",
    "ex_args = {}\n",
    "power_args = []\n",
    "for f in F.as_ordered_factors():\n",
    "    if isinstance(f,exp):\n",
    "        f =  f.args[0]\n",
    "        alphas = [a for a in f.free_symbols if str(a)[:5] == \"alpha\"]\n",
    "        \n",
    "        alpha_pref = [v for v in f.as_ordered_terms()[-1].as_ordered_factors() if v.has( alphas[-1])][0]\n",
    "        alpha-coeefs = alpha_pref.as_coefficients_dict()\n",
    "        \n",
    "        omegas = [a for a in f.free_symbols if str(a)[:6] == \"omega_\"]\n",
    "\n",
    "        sub_om = dict(zip(omegas,[0 for i in range(len(omegas))]))\n",
    "        for a in alphas: ex_args[a] = coeff_full(f,a).subs(sub_om) \n",
    "    else: power_args.append(f)"
   ]
  },
  {
   "cell_type": "code",
   "execution_count": null,
   "metadata": {},
   "outputs": [],
   "source": [
    "f = L[0].as_ordered_factors()[-1].args[0]\n",
    "alphas = [a for a in f.free_symbols if str(a)[:5] == \"alpha\"]\n",
    "omegas = [a for a in f.free_symbols if str(a)[:6] == \"omega_\"]\n",
    "\n",
    "sub_om = dict(zip(omegas,[0 for i in range(len(omegas))]))\n",
    "alphas\n"
   ]
  },
  {
   "cell_type": "code",
   "execution_count": null,
   "metadata": {},
   "outputs": [],
   "source": [
    "f"
   ]
  },
  {
   "cell_type": "code",
   "execution_count": null,
   "metadata": {},
   "outputs": [],
   "source": [
    "alpha_pref = [v for v in f.as_ordered_terms()[-1].as_ordered_factors() if v.has( alphas[-1])][0]\n",
    "alpha_pref.as_coefficients_dict()"
   ]
  },
  {
   "cell_type": "code",
   "execution_count": null,
   "metadata": {},
   "outputs": [],
   "source": [
    "f.as_ordered_terms()[-3].as_ordered_factors()"
   ]
  },
  {
   "cell_type": "code",
   "execution_count": null,
   "metadata": {},
   "outputs": [],
   "source": [
    "coeff_full(f,alphas[-1])"
   ]
  },
  {
   "cell_type": "code",
   "execution_count": null,
   "metadata": {},
   "outputs": [],
   "source": [
    "LS = simplify(rg._sum_(L))\n",
    "LS"
   ]
  },
  {
   "cell_type": "code",
   "execution_count": null,
   "metadata": {},
   "outputs": [],
   "source": [
    "L =  list(sintegrate(factor,deltas))\n",
    "L"
   ]
  },
  {
   "cell_type": "code",
   "execution_count": null,
   "metadata": {},
   "outputs": [],
   "source": [
    "latex(LS)"
   ]
  },
  {
   "cell_type": "code",
   "execution_count": null,
   "metadata": {
    "collapsed": true
   },
   "outputs": [],
   "source": [
    "systems = {}\n",
    "systems[\"  r0\"] = lambda : incidence_matrix(edges =[ [0,1], [1,2], [2,0] ],external_vertices=[0,1])\n",
    "systems[\"  r1\"] = lambda :incidence_matrix(edges = [ [0,1], [0,2], [1,4], [2,3], [3,4], [4,5],[3,5] ],external_vertices=[0,1])\n",
    "systems[\"  r2\"] = lambda :incidence_matrix(edges = [ [0,2],[2,1],[0,3], [1,4], [3,5],[3,4],[4,5] ],external_vertices=[0,1])\n",
    "systems[\"  r3\"] = lambda :incidence_matrix(edges = [ [0,1],[0,2],[1,3], [3,4], [3,5],[2,4],[2,5] ], external_vertices=[0,1])\n",
    "systems[\"  r4\"] = lambda :incidence_matrix(edges = [ [0,1],[0,2],[2,3], [3,4], [4,1],[2,5],[5,3] ], external_vertices=[0,1])\n",
    "systems[\"  r5\"] = lambda :incidence_matrix(edges = [ [0,1],[0,2],[1,3], [2,3], [3,2] ], external_vertices=[0,1])\n",
    "systems[\"  r6\"] = lambda :incidence_matrix(edges = [ [0,2],[2,1],[0,3], [3,4], [1,5], [4,5], [5,4] ],  external_vertices=[0,1])\n",
    "systems[\"  r7\"] = lambda :incidence_matrix(edges = [ [0,2], [2,3], [3,1], [1,4], [4,5], [0,4], [5,3] ],  external_vertices=[0,1])\n",
    "systems[\"  r8\"] = lambda :incidence_matrix(edges = [ [0,2],[2,3],[3,1],[1,5],[5,4],[4,3],[4,0] ], external_vertices=[0,1])\n",
    "systems[\"  r9\"] = lambda :incidence_matrix(edges = [ [0,2],[2,3],[3,4],[4,1],[1,5],[5,3],[5,0] ], external_vertices=[0,1])\n",
    "systems[\"  r10\"]= lambda :incidence_matrix(edges = [ [0,2],[2,3],[3,1],[1,4],[4,5],[5,2],[4,0] ],  external_vertices=[0,1])\n",
    "systems[\"  r11\"]= lambda :incidence_matrix(edges = [ [0,2],[2,3],[3,1],[1,4],[4,3],[4,5],[5,0] ], external_vertices=[0,1])\n",
    "\n",
    "systems[\" c0\"] = lambda :incidence_matrix(edges = [ [0,2],[2,1],[0,3], [3,1] ], external_vertices=[0,1])\n",
    "systems[\" c1\"] = lambda :incidence_matrix(edges = [ [0,2],[2,1],[0,3], [4,1], [3,5], [3,6], [4,5], [4,6] ],  external_vertices=[0,1])\n",
    "systems[\" c2\"] = lambda :incidence_matrix(edges = [ [0,2],[2,1],[1,4], [4,5], [0,3], [5,3], [3,6], [5,6] ],  external_vertices=[0,1])\n",
    "systems[\" c3\"] = lambda :incidence_matrix(edges = [ [0,2],[2,1], [1,4], [3,5], [4,6], [6,5], [5,6],[0,3] ], external_vertices=[0,1])\n",
    "systems[\" c4\"] = lambda :incidence_matrix(edges = [ [0,2],[2,3], [1,4], [3,4], [1,5], [6,5], [6,3],[0,6] ], external_vertices=[0,1])\n",
    "systems[\" c5\"] = lambda :incidence_matrix(edges = [ [0,2],[2,3], [1,3], [1,4], [4,5], [6,5], [6,3],[0,5] ], external_vertices=[0,1])\n",
    "systems[\" c6\"] = lambda :incidence_matrix(edges = [ [0,2],[2,3], [1,3], [1,4], [4,5], [6,5], [6,2],[0,5] ],  external_vertices=[0,1])\n",
    "\n",
    "systems[\"r0Andc0Compact\"] = lambda :incidence_matrix(edges = [ [0,1], [1,0] ],external_vertices=[0,1])\n",
    "systems[\"r1TOr6Andc1TOc3Compact\"] = lambda :incidence_matrix(edges = [ [0,1], [0,2], [1,3], [2,3], [3,2] ],external_vertices=[0,1])\n",
    "systems[\"r7TOr11Andc4TOc6Compact\"] = lambda :incidence_matrix(edges = [ [0,2],[2,3],[0,3],[1,2],[1,3]],  external_vertices=[0,1])"
   ]
  },
  {
   "cell_type": "markdown",
   "metadata": {},
   "source": [
    "## write them to a file"
   ]
  },
  {
   "cell_type": "code",
   "execution_count": null,
   "metadata": {},
   "outputs": [],
   "source": [
    "import cairosvg\n",
    "\n",
    "H = \"\"\"\\\\documentclass[]{article}\n",
    "\\\\usepackage[margin=0.5in]{geometry}\n",
    "\\\\usepackage{amsmath}\n",
    "\\\\usepackage{breqn}\n",
    "\\\\usepackage{graphics}\n",
    "\\\\usepackage{mathtools}\n",
    "\\\\begin{document}\"\"\"\n",
    "with open(\"systems.tex\", \"w\") as f:\n",
    "    f.write(H)\n",
    "    keys = sorted(list(systems.keys()))\n",
    "    for k in keys:\n",
    "        f.write(\"\\\\section{\"+k+\"}\")\n",
    "        S = systems[k]()\n",
    "        set_source_sink_flow(S)\n",
    "        \n",
    "        somesvg = ring_diagram(S, options={\"show_labels\"}).__display__()\n",
    "        cairosvg.svg2pdf(somesvg, write_to='./sample_data/{}.pdf'.format(k.strip()))\n",
    "\n",
    "        LHS = \"\"\"\\\\vcenter{\\\\hbox{\\\\includegraphics[scale=0.7]{sample_data/\"\"\"+k.strip()+\"\"\"}}}=\"\"\"\n",
    "        f.write( \"\\\\begin{dmath*} \"+ LHS+str(latex(Matrix(S))) +\"\\\\end{dmath*} \")\n",
    "        \n",
    "        a,b=S._symanzik_pols_(True,True,False,use_zero_mass=True)\n",
    "        a_,b_=S._symanzik_pols_(True,True,True,use_zero_mass=True)\n",
    "        \n",
    "        f.write( \"\\\\begin{dmath*} \\Psi= \"+ str(latex(simplify(a))) +\"\\\\end{dmath*} \")\n",
    "        f.write( \"\\\\begin{dmath*} \\Psi'= \"+ str(latex(simplify(a_))) +\"\\\\end{dmath*} \")\n",
    "        f.write( \"\\\\begin{dmath*} \\Phi=\"+ str(latex(simplify(b))) +\"\\\\end{dmath*} \")\n",
    "        f.write( \"\\\\begin{dmath*} \\Phi'=\"+ str(latex(simplify(b_))) +\"\\\\end{dmath*} \")\n",
    "\n",
    "    f.write(\"\"\"\\\\end{document}\"\"\")"
   ]
  },
  {
   "cell_type": "code",
   "execution_count": null,
   "metadata": {
    "collapsed": true
   },
   "outputs": [],
   "source": []
  },
  {
   "cell_type": "code",
   "execution_count": null,
   "metadata": {
    "collapsed": true
   },
   "outputs": [],
   "source": []
  }
 ],
 "metadata": {
  "kernelspec": {
   "display_name": "Python 3",
   "language": "python",
   "name": "python3"
  }
 },
 "nbformat": 4,
 "nbformat_minor": 2
}
