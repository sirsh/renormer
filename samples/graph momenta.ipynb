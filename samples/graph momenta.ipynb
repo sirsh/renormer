{
 "cells": [
  {
   "cell_type": "code",
   "execution_count": 1,
   "metadata": {},
   "outputs": [],
   "source": [
    "import sys\n",
    "sys.path.insert(0,'../')\n",
    "import rg\n",
    "from rg.diagrams import diagram, composition_diagram, diagram_set\n",
    "from rg.interaction import interaction as J \n",
    "from rg.interaction import interaction_identity\n",
    "from rg.interaction import interaction_system\n",
    "from rg.interaction import composite_interaction as G\n",
    "from rg.theory import ftheory\n",
    "from rg.graphs import composite_interaction_graph as fgraph\n",
    "from rg.propagator import cpropagator, kpropagator\n",
    "\n",
    "import numpy as np\n",
    "from sympy import init_printing\n",
    "init_printing()"
   ]
  },
  {
   "cell_type": "markdown",
   "metadata": {},
   "source": [
    "# Create some sample primitives"
   ]
  },
  {
   "cell_type": "code",
   "execution_count": 2,
   "metadata": {},
   "outputs": [
    {
     "data": {
      "text/html": [
       "<svg xmlns=\"http://www.w3.org/2000/svg\" xmlns:xlink=\"http://www.w3.org/1999/xlink\" version=\"1.1\" x=\"0\" y=\"0\" width=\"240\" height=\"120\">\n",
       "      <g fill=\"none\" stroke=\"black\" stroke-width=\"1.6\" stroke-linecap=\"round\">\n",
       "         <line x1=\"0\" y1=\"0\" x2=\"40\" y2=\"0\" stroke=\"red\" stroke-dasharray=\"None\" stroke-width:2\" transform=\" translate(80,50) rotate(-30.0 0, 0 )\" />  <line x1=\"0\" y1=\"0\" x2=\"40\" y2=\"0\" stroke=\"red\" stroke-dasharray=\"None\" stroke-width:2\" transform=\" translate(80,50) rotate(30.0 0, 0 )\" />  <line x1=\"0\" y1=\"0\" x2=\"40\" y2=\"0\" stroke=\"red\" stroke-dasharray=\"None\" stroke-width:2\" transform=\" translate(80,50) rotate(-180.0 0, 0 )\" /> \n",
       "      </g>\n",
       "      <circle cx=\"80\" cy=\"50\" r=\"2\" stroke=\"black\" stroke-width=\"1\" fill=\"black\" />\n",
       "    </svg>"
      ],
      "text/plain": [
       "<svg xmlns=\"http://www.w3.org/2000/svg\" xmlns:xlink=\"http://www.w3.org/1999/xlink\" version=\"1.1\" x=\"0\" y=\"0\" width=\"240\" height=\"120\">\n",
       "      <g fill=\"none\" stroke=\"black\" stroke-width=\"1.6\" stroke-linecap=\"round\">\n",
       "         <line x1=\"0\" y1=\"0\" x2=\"40\" y2=\"0\" stroke=\"red\" stroke-dasharray=\"None\" stroke-width:2\" transform=\" translate(80,50) rotate(-30.0 0, 0 )\" />  <line x1=\"0\" y1=\"0\" x2=\"40\" y2=\"0\" stroke=\"red\" stroke-dasharray=\"None\" stroke-width:2\" transform=\" translate(80,50) rotate(30.0 0, 0 )\" />  <line x1=\"0\" y1=\"0\" x2=\"40\" y2=\"0\" stroke=\"red\" stroke-dasharray=\"None\" stroke-width:2\" transform=\" translate(80,50) rotate(-180.0 0, 0 )\" /> \n",
       "      </g>\n",
       "      <circle cx=\"80\" cy=\"50\" r=\"2\" stroke=\"black\" stroke-width=\"1\" fill=\"black\" />\n",
       "    </svg>"
      ]
     },
     "execution_count": 2,
     "metadata": {},
     "output_type": "execute_result"
    }
   ],
   "source": [
    "coagulation = J([[2,1],[0,0]])\n",
    "coagulation.diagram"
   ]
  },
  {
   "cell_type": "code",
   "execution_count": 3,
   "metadata": {},
   "outputs": [
    {
     "data": {
      "text/html": [
       "<svg xmlns=\"http://www.w3.org/2000/svg\" xmlns:xlink=\"http://www.w3.org/1999/xlink\" version=\"1.1\" x=\"0\" y=\"0\" width=\"240\" height=\"120\">\n",
       "      <g fill=\"none\" stroke=\"black\" stroke-width=\"1.6\" stroke-linecap=\"round\">\n",
       "         <line x1=\"0\" y1=\"0\" x2=\"40\" y2=\"0\" stroke=\"red\" stroke-dasharray=\"None\" stroke-width:2\" transform=\" translate(80,50) rotate(0.0 0, 0 )\" />  <line x1=\"0\" y1=\"0\" x2=\"40\" y2=\"0\" stroke=\"red\" stroke-dasharray=\"None\" stroke-width:2\" transform=\" translate(80,50) rotate(-210.0 0, 0 )\" />  <line x1=\"0\" y1=\"0\" x2=\"40\" y2=\"0\" stroke=\"red\" stroke-dasharray=\"None\" stroke-width:2\" transform=\" translate(80,50) rotate(-150.0 0, 0 )\" /> \n",
       "      </g>\n",
       "      <circle cx=\"80\" cy=\"50\" r=\"2\" stroke=\"black\" stroke-width=\"1\" fill=\"black\" />\n",
       "    </svg>"
      ],
      "text/plain": [
       "<svg xmlns=\"http://www.w3.org/2000/svg\" xmlns:xlink=\"http://www.w3.org/1999/xlink\" version=\"1.1\" x=\"0\" y=\"0\" width=\"240\" height=\"120\">\n",
       "      <g fill=\"none\" stroke=\"black\" stroke-width=\"1.6\" stroke-linecap=\"round\">\n",
       "         <line x1=\"0\" y1=\"0\" x2=\"40\" y2=\"0\" stroke=\"red\" stroke-dasharray=\"None\" stroke-width:2\" transform=\" translate(80,50) rotate(0.0 0, 0 )\" />  <line x1=\"0\" y1=\"0\" x2=\"40\" y2=\"0\" stroke=\"red\" stroke-dasharray=\"None\" stroke-width:2\" transform=\" translate(80,50) rotate(-210.0 0, 0 )\" />  <line x1=\"0\" y1=\"0\" x2=\"40\" y2=\"0\" stroke=\"red\" stroke-dasharray=\"None\" stroke-width:2\" transform=\" translate(80,50) rotate(-150.0 0, 0 )\" /> \n",
       "      </g>\n",
       "      <circle cx=\"80\" cy=\"50\" r=\"2\" stroke=\"black\" stroke-width=\"1\" fill=\"black\" />\n",
       "    </svg>"
      ]
     },
     "execution_count": 3,
     "metadata": {},
     "output_type": "execute_result"
    }
   ],
   "source": [
    "branching = J([[1,2],[0,0]])\n",
    "branching.diagram"
   ]
  },
  {
   "cell_type": "code",
   "execution_count": 4,
   "metadata": {},
   "outputs": [
    {
     "data": {
      "text/html": [
       "<svg xmlns=\"http://www.w3.org/2000/svg\" xmlns:xlink=\"http://www.w3.org/1999/xlink\" version=\"1.1\" x=\"0\" y=\"0\" width=\"240\" height=\"120\">\n",
       "      <g fill=\"none\" stroke=\"black\" stroke-width=\"1.6\" stroke-linecap=\"round\">\n",
       "         <line x1=\"0\" y1=\"0\" x2=\"40\" y2=\"0\" stroke=\"red\" stroke-dasharray=\"None\" stroke-width:2\" transform=\" translate(80,50) rotate(-30.0 0, 0 )\" />  <path d=\"M 0,0 C 2,-3.142 3,-5 5,-5 S 8,-3.142 10,0 S 13,5 15,5 S 18,3.142 20,0 C 22,-3.142 23,-5 25,-5 S 28,-3.142 30,0 S 33,5 35,5 S 38,3.142 40,0\" \n",
       "                       stroke=\"black\" stroke-dasharray=\"None\" stroke-width:2\" transform=\" translate(80,50) rotate(30.0 0, 0 )\" />  <line x1=\"0\" y1=\"0\" x2=\"40\" y2=\"0\" stroke=\"red\" stroke-dasharray=\"None\" stroke-width:2\" transform=\" translate(80,50) rotate(-210.0 0, 0 )\" />  <path d=\"M 0,0 C 2,-3.142 3,-5 5,-5 S 8,-3.142 10,0 S 13,5 15,5 S 18,3.142 20,0 C 22,-3.142 23,-5 25,-5 S 28,-3.142 30,0 S 33,5 35,5 S 38,3.142 40,0\" \n",
       "                       stroke=\"black\" stroke-dasharray=\"None\" stroke-width:2\" transform=\" translate(80,50) rotate(-150.0 0, 0 )\" /> \n",
       "      </g>\n",
       "      <circle cx=\"80\" cy=\"50\" r=\"2\" stroke=\"black\" stroke-width=\"1\" fill=\"black\" />\n",
       "    </svg>"
      ],
      "text/plain": [
       "<svg xmlns=\"http://www.w3.org/2000/svg\" xmlns:xlink=\"http://www.w3.org/1999/xlink\" version=\"1.1\" x=\"0\" y=\"0\" width=\"240\" height=\"120\">\n",
       "      <g fill=\"none\" stroke=\"black\" stroke-width=\"1.6\" stroke-linecap=\"round\">\n",
       "         <line x1=\"0\" y1=\"0\" x2=\"40\" y2=\"0\" stroke=\"red\" stroke-dasharray=\"None\" stroke-width:2\" transform=\" translate(80,50) rotate(-30.0 0, 0 )\" />  <path d=\"M 0,0 C 2,-3.142 3,-5 5,-5 S 8,-3.142 10,0 S 13,5 15,5 S 18,3.142 20,0 C 22,-3.142 23,-5 25,-5 S 28,-3.142 30,0 S 33,5 35,5 S 38,3.142 40,0\" \n",
       "                       stroke=\"black\" stroke-dasharray=\"None\" stroke-width:2\" transform=\" translate(80,50) rotate(30.0 0, 0 )\" />  <line x1=\"0\" y1=\"0\" x2=\"40\" y2=\"0\" stroke=\"red\" stroke-dasharray=\"None\" stroke-width:2\" transform=\" translate(80,50) rotate(-210.0 0, 0 )\" />  <path d=\"M 0,0 C 2,-3.142 3,-5 5,-5 S 8,-3.142 10,0 S 13,5 15,5 S 18,3.142 20,0 C 22,-3.142 23,-5 25,-5 S 28,-3.142 30,0 S 33,5 35,5 S 38,3.142 40,0\" \n",
       "                       stroke=\"black\" stroke-dasharray=\"None\" stroke-width:2\" transform=\" translate(80,50) rotate(-150.0 0, 0 )\" /> \n",
       "      </g>\n",
       "      <circle cx=\"80\" cy=\"50\" r=\"2\" stroke=\"black\" stroke-width=\"1\" fill=\"black\" />\n",
       "    </svg>"
      ]
     },
     "execution_count": 4,
     "metadata": {},
     "output_type": "execute_result"
    }
   ],
   "source": [
    "cross = J([[1,1],[1,1]])\n",
    "cross.diagram"
   ]
  },
  {
   "cell_type": "code",
   "execution_count": 5,
   "metadata": {},
   "outputs": [
    {
     "data": {
      "text/html": [
       "<svg xmlns=\"http://www.w3.org/2000/svg\" xmlns:xlink=\"http://www.w3.org/1999/xlink\" version=\"1.1\" x=\"0\" y=\"0\" width=\"240\" height=\"120\">\n",
       "      <g fill=\"none\" stroke=\"black\" stroke-width=\"1.6\" stroke-linecap=\"round\">\n",
       "         <line x1=\"0\" y1=\"0\" x2=\"40\" y2=\"0\" stroke=\"red\" stroke-dasharray=\"None\" stroke-width:2\" transform=\" translate(80,50) rotate(-30.0 0, 0 )\" />  <path d=\"M 0,0 C 2,-3.142 3,-5 5,-5 S 8,-3.142 10,0 S 13,5 15,5 S 18,3.142 20,0 C 22,-3.142 23,-5 25,-5 S 28,-3.142 30,0 S 33,5 35,5 S 38,3.142 40,0\" \n",
       "                       stroke=\"black\" stroke-dasharray=\"None\" stroke-width:2\" transform=\" translate(80,50) rotate(30.0 0, 0 )\" />  <line x1=\"0\" y1=\"0\" x2=\"40\" y2=\"0\" stroke=\"red\" stroke-dasharray=\"None\" stroke-width:2\" transform=\" translate(80,50) rotate(-180.0 0, 0 )\" /> \n",
       "      </g>\n",
       "      <circle cx=\"80\" cy=\"50\" r=\"2\" stroke=\"black\" stroke-width=\"1\" fill=\"black\" />\n",
       "    </svg>"
      ],
      "text/plain": [
       "<svg xmlns=\"http://www.w3.org/2000/svg\" xmlns:xlink=\"http://www.w3.org/1999/xlink\" version=\"1.1\" x=\"0\" y=\"0\" width=\"240\" height=\"120\">\n",
       "      <g fill=\"none\" stroke=\"black\" stroke-width=\"1.6\" stroke-linecap=\"round\">\n",
       "         <line x1=\"0\" y1=\"0\" x2=\"40\" y2=\"0\" stroke=\"red\" stroke-dasharray=\"None\" stroke-width:2\" transform=\" translate(80,50) rotate(-30.0 0, 0 )\" />  <path d=\"M 0,0 C 2,-3.142 3,-5 5,-5 S 8,-3.142 10,0 S 13,5 15,5 S 18,3.142 20,0 C 22,-3.142 23,-5 25,-5 S 28,-3.142 30,0 S 33,5 35,5 S 38,3.142 40,0\" \n",
       "                       stroke=\"black\" stroke-dasharray=\"None\" stroke-width:2\" transform=\" translate(80,50) rotate(30.0 0, 0 )\" />  <line x1=\"0\" y1=\"0\" x2=\"40\" y2=\"0\" stroke=\"red\" stroke-dasharray=\"None\" stroke-width:2\" transform=\" translate(80,50) rotate(-180.0 0, 0 )\" /> \n",
       "      </g>\n",
       "      <circle cx=\"80\" cy=\"50\" r=\"2\" stroke=\"black\" stroke-width=\"1\" fill=\"black\" />\n",
       "    </svg>"
      ]
     },
     "execution_count": 5,
     "metadata": {},
     "output_type": "execute_result"
    }
   ],
   "source": [
    "branching_alt = J([[1,1],[0,1]])\n",
    "coagulation_alt = J([[1,1],[1,0]])\n",
    "coagulation_alt.diagram"
   ]
  },
  {
   "cell_type": "markdown",
   "metadata": {},
   "source": [
    "# Work with two example graps"
   ]
  },
  {
   "cell_type": "code",
   "execution_count": 6,
   "metadata": {},
   "outputs": [
    {
     "data": {
      "text/html": [
       "<svg xmlns=\"http://www.w3.org/2000/svg\" xmlns:xlink=\"http://www.w3.org/1999/xlink\" version=\"1.1\" x=\"0\" y=\"0\" width=\"200\" height=\"180\">\n",
       "      <g fill=\"none\" stroke=\"black\" stroke-width=\"1.6\" stroke-linecap=\"round\"> <circle cx=\"150.0\" cy=\"100.0\" r=\"3\" stroke=\"black\" stroke-width=\"1\" fill=\"black\" /> <line x1=\"0\" y1=\"0\" x2=\"40\" y2=\"0\" stroke=\"green\" stroke-dasharray=\"None\" stroke-width:2\" transform=\" translate(150.0,100.0) rotate(0.0 0, 0 )\" /><circle cx=\"100.0\" cy=\"50.0\" r=\"3\" stroke=\"black\" stroke-width=\"1\" fill=\"black\" /> <line x1=\"0\" y1=\"0\" x2=\"40\" y2=\"0\" stroke=\"orange\" stroke-dasharray=\"None\" stroke-width:2\" transform=\" translate(100.0,50.0) rotate(0.0 0, 0 )\" /><line x1=\"0\" y1=\"0\" x2=\"40\" y2=\"0\" stroke=\"orange\" stroke-dasharray=\"None\" stroke-width:2\" transform=\" translate(100.0,50.0) rotate(-180.0 0, 0 )\" /><circle cx=\"50.0\" cy=\"100.0\" r=\"3\" stroke=\"black\" stroke-width=\"1\" fill=\"black\" /> <line x1=\"0\" y1=\"0\" x2=\"40\" y2=\"0\" stroke=\"green\" stroke-dasharray=\"None\" stroke-width:2\" transform=\" translate(50.0,100.0) rotate(-180.0 0, 0 )\" /><path d=\"M  150.0  100.0  A  50  50  0  0  0  100.0  50.0 \" stroke=\"green\"/><path d=\"M  50.0  100.0  A  50  50  0  0  0  150.0  100.0 \" stroke=\"green\"/><path d=\"M  100.0  50.0  A  50  50  0  0  0  50.0  100.0 \" stroke=\"green\"/>  </g> </svg>"
      ],
      "text/plain": [
       "<svg xmlns=\"http://www.w3.org/2000/svg\" xmlns:xlink=\"http://www.w3.org/1999/xlink\" version=\"1.1\" x=\"0\" y=\"0\" width=\"500\" height=\"120\">\n",
       "      <g fill=\"none\" stroke=\"black\" stroke-width=\"1.6\" stroke-linecap=\"round\"> <circle cx=\"120\" cy=\"50\" r=\"3\" stroke=\"black\" stroke-width=\"1\" fill=\"black\" /> <circle cx=\"70\" cy=\"50\" r=\"3\" stroke=\"black\" stroke-width=\"1\" fill=\"black\" /> <circle cx=\"20\" cy=\"50\" r=\"3\" stroke=\"black\" stroke-width=\"1\" fill=\"black\" /> <circle cx=\"102\" cy=\"41\" r=\"2\" stroke=\"green\" stroke-width=\"1\" fill='green' /> <circle cx=\"102\" cy=\"59\" r=\"2\" stroke=\"green\" stroke-width=\"1\" fill='green' /> <circle cx=\"138\" cy=\"50\" r=\"2\" stroke=\"green\" stroke-width=\"1\"  /> <circle cx=\"88\" cy=\"41\" r=\"2\" stroke=\"green\" stroke-width=\"1\"  /> <circle cx=\"52\" cy=\"41\" r=\"2\" stroke=\"green\" stroke-width=\"1\" fill='green' /> <circle cx=\"52\" cy=\"59\" r=\"2\" stroke=\"orange\" stroke-width=\"1\" fill='orange' /> <circle cx=\"88\" cy=\"59\" r=\"2\" stroke=\"orange\" stroke-width=\"1\"  /> <circle cx=\"38\" cy=\"41\" r=\"2\" stroke=\"green\" stroke-width=\"1\"  /> <circle cx=\"38\" cy=\"59\" r=\"2\" stroke=\"green\" stroke-width=\"1\"  /> <circle cx=\"2\" cy=\"50\" r=\"2\" stroke=\"green\" stroke-width=\"1\" fill='green' /> <line x1=\"102\" y1=\"41\" x2=\"120\" y2=\"50\" stroke=\"green\" stroke-width:2\"  stroke-dasharray='2,2' /><line x1=\"102\" y1=\"41\" x2=\"88\" y2=\"41\" stroke=\"green\" stroke-width:2\"  stroke-dasharray='2,2' /><line x1=\"88\" y1=\"41\" x2=\"70\" y2=\"50\" stroke=\"green\" stroke-width:2\"  stroke-dasharray='2,2' /><line x1=\"102\" y1=\"59\" x2=\"120\" y2=\"50\" stroke=\"green\" stroke-width:2\"  stroke-dasharray='2,2' /><line x1=\"102\" y1=\"59\" x2=\"38\" y2=\"41\" stroke=\"green\" stroke-width:2\"  stroke-dasharray='2,2' /><line x1=\"38\" y1=\"41\" x2=\"20\" y2=\"50\" stroke=\"green\" stroke-width:2\"  stroke-dasharray='2,2' /><line x1=\"52\" y1=\"41\" x2=\"70\" y2=\"50\" stroke=\"green\" stroke-width:2\"  stroke-dasharray='2,2' /><line x1=\"52\" y1=\"41\" x2=\"38\" y2=\"59\" stroke=\"green\" stroke-width:2\"  stroke-dasharray='2,2' /><line x1=\"38\" y1=\"59\" x2=\"20\" y2=\"50\" stroke=\"green\" stroke-width:2\"  stroke-dasharray='2,2' /><line x1=\"138\" y1=\"50\" x2=\"120\" y2=\"50\" stroke=\"green\" stroke-width:2\"   /><line x1=\"52\" y1=\"59\" x2=\"70\" y2=\"50\" stroke=\"orange\" stroke-width:2\"   /><line x1=\"88\" y1=\"59\" x2=\"70\" y2=\"50\" stroke=\"orange\" stroke-width:2\"   /><line x1=\"2\" y1=\"50\" x2=\"20\" y2=\"50\" stroke=\"green\" stroke-width:2\"   />  </g> </svg>"
      ]
     },
     "execution_count": 6,
     "metadata": {},
     "output_type": "execute_result"
    }
   ],
   "source": [
    "U = G(branching)*G(cross)*G(coagulation)\n",
    "composition_diagram(U,compact=True)"
   ]
  },
  {
   "cell_type": "code",
   "execution_count": 7,
   "metadata": {},
   "outputs": [],
   "source": [
    "#composition_diagram(T,compact=True)"
   ]
  },
  {
   "cell_type": "markdown",
   "metadata": {},
   "source": [
    "# The graph theory stuff is in fgraph - e.g. Incidence Matrix"
   ]
  },
  {
   "cell_type": "code",
   "execution_count": 8,
   "metadata": {},
   "outputs": [
    {
     "data": {
      "text/latex": [
       "$\\left[\\begin{smallmatrix}-1 & -1 & 0 & -1 & 0 & 0 & 0\\\\1 & 0 & 1 & 0 & -1 & -1 & 0\\\\0 & 1 & -1 & 0 & 0 & 0 & -1\\\\0 & 0 & 0 & 1 & 1 & 1 & 1\\end{smallmatrix}\\right]$"
      ],
      "text/plain": [
       "$\\left[\\begin{smallmatrix}-1 & -1 & 0 & -1 & 0 & 0 & 0\\\\1 & 0 & 1 & 0 & -1 & -1 & 0\\\\0 & 1 & -1 & 0 & 0 & 0 & -1\\\\0 & 0 & 0 & 1 & 1 & 1 & 1\\end{smallmatrix}\\right]$"
      ]
     },
     "execution_count": 8,
     "metadata": {},
     "output_type": "execute_result"
    }
   ],
   "source": [
    "GU = fgraph(U,True)\n",
    "GU"
   ]
  },
  {
   "cell_type": "code",
   "execution_count": 9,
   "metadata": {},
   "outputs": [],
   "source": [
    "#GU = fgraph(T,True)#.betti_number()\n",
    "#GU"
   ]
  },
  {
   "cell_type": "markdown",
   "metadata": {},
   "source": [
    "### Convention:\n",
    "\n",
    "While we could enforce more conventions earlier, here i assume a random edge ordering and now i want to enforce an ordering\n",
    "\n",
    "I choose to have all external momenta pointing out of the graph (where we connected to the infinity vertext) and start by assuming all flow is towards increasing vid (order of vertices added in construction)\n",
    "\n",
    "Then i choose the shortest path from the sink vertex (last vertex added) to the source vertex (first added) and i reverse the orientation on the path\n",
    "\n",
    "We already at this point have some convention- the first row of the inc matrix is the source, the second last is the sink and the last is the infinity vertex used to complete the graph\n",
    "\n",
    "This would be done for all loops in a general graph but for now we assume one loop"
   ]
  },
  {
   "cell_type": "code",
   "execution_count": 10,
   "metadata": {},
   "outputs": [
    {
     "data": {
      "text/latex": [
       "$$\\left ( \\left \\{ 0 : \\left [ 1, \\quad 2\\right ], \\quad 2 : \\left [ 1\\right ]\\right \\}, \\quad \\left [ \\left [ 0, \\quad 2\\right ]\\right ]\\right )$$"
      ],
      "text/plain": [
       "({0: [1, 2], 2: [1]}, [[0, 2]])"
      ]
     },
     "execution_count": 10,
     "metadata": {},
     "output_type": "execute_result"
    }
   ],
   "source": [
    "#choose all edges on the shortest path between source and sink as the \"backflow\" edges. one of these is the loop momentum\n",
    "g = fgraph.edges_to_adjaceny_dict(U.edges)\n",
    "walk = fgraph.shortest_path(g, 0,2)\n",
    "walk = list(fgraph.expand_path(walk))\n",
    "g,walk"
   ]
  },
  {
   "cell_type": "code",
   "execution_count": 11,
   "metadata": {},
   "outputs": [],
   "source": [
    "#SVG draw arrows on the compact rep, todo"
   ]
  },
  {
   "cell_type": "markdown",
   "metadata": {},
   "source": [
    "## observe different sign states on the incident matrix \n",
    "we start off seeking the standard form, externals point out, internals point \"forward\" - by default this is not how it looks so we change edge direction in the 2nd matrix\n",
    "\n",
    "then we invert the shortest path i.e. change the direction of any edge on the shortest path. now we have our standard form that we will generally assume\n",
    "\n",
    "in this case, in final matrix, column 1 (0-indexed) is the only one that goes from 1 to -1 reading from top to bottom - this is the \"backflow edge\" in the loop"
   ]
  },
  {
   "cell_type": "code",
   "execution_count": 12,
   "metadata": {},
   "outputs": [
    {
     "data": {
      "text/plain": [
       "array([[-1, -1,  0, -1,  0,  0,  0],\n",
       "       [ 1,  0,  1,  0, -1, -1,  0],\n",
       "       [ 0,  1, -1,  0,  0,  0, -1],\n",
       "       [ 0,  0,  0,  1,  1,  1,  1]])"
      ]
     },
     "execution_count": 12,
     "metadata": {},
     "output_type": "execute_result"
    }
   ],
   "source": [
    "inc = GU._inc \n",
    "inc"
   ]
  },
  {
   "cell_type": "code",
   "execution_count": 13,
   "metadata": {},
   "outputs": [
    {
     "data": {
      "text/plain": [
       "array([[-1, -1,  0, -1,  0,  0,  0],\n",
       "       [ 1,  0, -1,  0, -1, -1,  0],\n",
       "       [ 0,  1,  1,  0,  0,  0, -1],\n",
       "       [ 0,  0,  0,  1,  1,  1,  1]])"
      ]
     },
     "execution_count": 13,
     "metadata": {},
     "output_type": "execute_result"
    }
   ],
   "source": [
    "inc = fgraph.should_toggle_edge_columns(inc) * inc\n",
    "inc"
   ]
  },
  {
   "cell_type": "code",
   "execution_count": 14,
   "metadata": {},
   "outputs": [
    {
     "data": {
      "text/plain": [
       "array([[-1,  1,  0, -1,  0,  0,  0],\n",
       "       [ 1,  0, -1,  0, -1, -1,  0],\n",
       "       [ 0, -1,  1,  0,  0,  0, -1],\n",
       "       [ 0,  0,  0,  1,  1,  1,  1]])"
      ]
     },
     "execution_count": 14,
     "metadata": {},
     "output_type": "execute_result"
    }
   ],
   "source": [
    "inc_inv = fgraph.invert_path(inc, walk)\n",
    "inc_inv"
   ]
  },
  {
   "cell_type": "markdown",
   "metadata": {},
   "source": [
    "## evaluate the mometum equations\n",
    "\n",
    "this convention above makes the interpretation of the momentum equations less ambiguous. we now keep signs for the momentum as per the incidence matrix."
   ]
  },
  {
   "cell_type": "code",
   "execution_count": 15,
   "metadata": {},
   "outputs": [
    {
     "data": {
      "text/plain": [
       "([-p1 - q1 - q2, k - p2 - p3 + q1, -k - p4 + q2, p1 + p2 + p3 + p4],\n",
       " {p2: -p3 - p4 + q1 + q2, k: -p4 + q2, p1: -q1 - q2},\n",
       " {0: q1, 1: q2, 2: k, 3: p1, 4: p2, 5: p3, 6: p4})"
      ]
     },
     "execution_count": 15,
     "metadata": {},
     "output_type": "execute_result"
    }
   ],
   "source": [
    "GU.edge_system"
   ]
  },
  {
   "cell_type": "code",
   "execution_count": 16,
   "metadata": {
    "collapsed": true
   },
   "outputs": [],
   "source": [
    "#actually from the notes I am not sure about the following:\n",
    "#1 if the integrals are the same for any external leg structure, then momenta are based only on the number of vertices/propagators - however how do we resolve momenta\n",
    "#2 there are some trasmutation \"vertices\" in diags which supposedly have no local residuals and the loops have the same q structure as the 2-nodes - why is that\n",
    "#3 there are integrals with 3+ vertices that have no dependance on external momenta but that does not add up for me\n",
    "#fow now im going to do a hack because i cannot justify what we do in the notes; my rule is going to be for the 2-vertex loop I have one rule and for the 3 and above I have another rule\n",
    "#it seems without some argument, the same way we have casuality differences which must have momenta differences on certain edges"
   ]
  },
  {
   "cell_type": "markdown",
   "metadata": {},
   "source": [
    "## this leads to integration of graph momenta (consider simple case)..."
   ]
  },
  {
   "cell_type": "code",
   "execution_count": 17,
   "metadata": {},
   "outputs": [
    {
     "data": {
      "text/latex": [
       "$$\\left [ \\frac{1}{D_{0} k_{l}^{2} + i \\omega_l + m_{0}}, \\quad \\frac{1}{D_{0} \\left(k_{l} + k_{p}\\right)^{2} + m_{0} - i \\left(\\omega_l + \\omega_p\\right)}, \\quad \\frac{1}{D_{0} k_{l}^{2} + i \\omega_l + m_{0}}\\right ]$$"
      ],
      "text/plain": [
       "⎡           1                                 1                               \n",
       "⎢───────────────────────, ──────────────────────────────────────────, ────────\n",
       "⎢     2                               2                                    2  \n",
       "⎣D₀⋅kₗ  + ⅈ⋅\\omegaₗ + m₀  D₀⋅(kₗ + kₚ)  + m₀ - ⅈ⋅(\\omegaₗ + \\omegaₚ)  D₀⋅kₗ  +\n",
       "\n",
       "   1           ⎤\n",
       "───────────────⎥\n",
       "               ⎥\n",
       " ⅈ⋅\\omegaₗ + m₀⎦"
      ]
     },
     "execution_count": 17,
     "metadata": {},
     "output_type": "execute_result"
    }
   ],
   "source": [
    "# As i have not decided how k will be determined for sure, I leave it as a parameter here\n",
    "propagators = cpropagator.from_edges(U.edges,k_node_index=1)\n",
    "[p.display() for p in propagators]"
   ]
  },
  {
   "cell_type": "code",
   "execution_count": 18,
   "metadata": {},
   "outputs": [
    {
     "data": {
      "text/latex": [
       "$$- \\frac{i}{\\left(D_{0} k_{l}^{2} + m_{0} + i \\left(- i D_{0} \\left(k_{l} + k_{p}\\right)^{2} - \\omega_p - i m_{0}\\right)\\right)^{2}}$$"
      ],
      "text/plain": [
       "                          -ⅈ                           \n",
       "───────────────────────────────────────────────────────\n",
       "                                                      2\n",
       "⎛     2          ⎛                2                 ⎞⎞ \n",
       "⎝D₀⋅kₗ  + m₀ + ⅈ⋅⎝- ⅈ⋅D₀⋅(kₗ + kₚ)  - \\omegaₚ - ⅈ⋅m₀⎠⎠ "
      ]
     },
     "execution_count": 18,
     "metadata": {},
     "output_type": "execute_result"
    }
   ],
   "source": [
    "#this is just the first residue - in this case there is only one anyway\n",
    "cpropagator.residues(propagators)[0][\"value\"]"
   ]
  },
  {
   "cell_type": "code",
   "execution_count": 19,
   "metadata": {},
   "outputs": [
    {
     "data": {
      "text/latex": [
       "$$\\frac{1}{\\left(D_{0} k_{l}^{2} + D_{0} \\left(k_{l} + k_{p}\\right)^{2} - i \\omega_p + 2 m_{0}\\right)^{2}}$$"
      ],
      "text/plain": [
       "                     1                      \n",
       "────────────────────────────────────────────\n",
       "                                           2\n",
       "⎛     2               2                   ⎞ \n",
       "⎝D₀⋅kₗ  + D₀⋅(kₗ + kₚ)  - ⅈ⋅\\omegaₚ + 2⋅m₀⎠ "
      ]
     },
     "execution_count": 19,
     "metadata": {},
     "output_type": "execute_result"
    }
   ],
   "source": [
    "K = cpropagator.integrate(propagators)\n",
    "K"
   ]
  },
  {
   "cell_type": "code",
   "execution_count": 20,
   "metadata": {},
   "outputs": [
    {
     "data": {
      "text/latex": [
       "$\\frac{1}{\\left(D_{0} k_{l}^{2} + D_{0} \\left(k_{l} + k_{p}\\right)^{2} - i \\omega_p + 2 m_{0}\\right)^{2}}$"
      ],
      "text/plain": [
       "$\\frac{1}{\\left(D_{0} k_{l}^{2} + D_{0} \\left(k_{l} + k_{p}\\right)^{2} - i \\omega_p + 2 m_{0}\\right)^{2}}$"
      ]
     },
     "execution_count": 20,
     "metadata": {},
     "output_type": "execute_result"
    }
   ],
   "source": [
    "PI = kpropagator(K)\n",
    "PI"
   ]
  },
  {
   "cell_type": "code",
   "execution_count": 29,
   "metadata": {},
   "outputs": [
    {
     "data": {
      "text/latex": [
       "$$\\frac{1}{\\left(k_{l}^{2} + \\frac{k_{p}^{2}}{4} - \\frac{i \\omega_p}{2 D_{0}} + \\frac{m_{0}}{D_{0}}\\right)^{2}}$$"
      ],
      "text/plain": [
       "              1              \n",
       "─────────────────────────────\n",
       "                            2\n",
       "⎛        2                 ⎞ \n",
       "⎜  2   kₚ    ⅈ⋅\\omegaₚ   m₀⎟ \n",
       "⎜kₗ  + ─── - ───────── + ──⎟ \n",
       "⎝       4       2⋅D₀     D₀⎠ "
      ]
     },
     "execution_count": 29,
     "metadata": {},
     "output_type": "execute_result"
    }
   ],
   "source": [
    "PI.reduced_parametric_integral"
   ]
  },
  {
   "cell_type": "code",
   "execution_count": 30,
   "metadata": {},
   "outputs": [
    {
     "data": {
      "text/plain": [
       "False"
      ]
     },
     "execution_count": 30,
     "metadata": {},
     "output_type": "execute_result"
    }
   ],
   "source": [
    "PI.used_chung_wu"
   ]
  },
  {
   "cell_type": "code",
   "execution_count": 22,
   "metadata": {},
   "outputs": [
    {
     "data": {
      "text/latex": [
       "$$\\left ( \\frac{1}{4 D_{0}} \\left(D_{0} k_{p}^{2} - 2 i \\omega_p + 4 m_{0}\\right), \\quad 0, \\quad 2\\right )$$"
      ],
      "text/plain": [
       "⎛     2                           ⎞\n",
       "⎜D₀⋅kₚ  - 2⋅ⅈ⋅\\omegaₚ + 4⋅m₀      ⎟\n",
       "⎜───────────────────────────, 0, 2⎟\n",
       "⎝            4⋅D₀                 ⎠"
      ]
     },
     "execution_count": 22,
     "metadata": {},
     "output_type": "execute_result"
    }
   ],
   "source": [
    "terms = kpropagator.__reduced_terms__(PI.reduced_parametric_integral)\n",
    "terms[\"M\"],terms[\"r\"], terms[\"nu\"] "
   ]
  },
  {
   "cell_type": "code",
   "execution_count": 23,
   "metadata": {},
   "outputs": [
    {
     "data": {
      "text/latex": [
       "$$\\frac{2 \\pi^{d}}{\\Gamma{\\left (2 \\right )}} \\left(\\frac{1}{4 D_{0}} \\left(D_{0} k_{p}^{2} - 2 i \\omega_p + 4 m_{0}\\right)\\right)^{d - 1} \\Gamma{\\left (- d + 2 \\right )}$$"
      ],
      "text/plain": [
       "                                    d - 1               \n",
       "       ⎛     2                     ⎞                    \n",
       "     d ⎜D₀⋅kₚ  - 2⋅ⅈ⋅\\omegaₚ + 4⋅m₀⎟                    \n",
       "2⋅\\pi ⋅⎜───────────────────────────⎟     ⋅\\Gamma(-d + 2)\n",
       "       ⎝            4⋅D₀           ⎠                    \n",
       "────────────────────────────────────────────────────────\n",
       "                       \\Gamma(2)                        "
      ]
     },
     "execution_count": 23,
     "metadata": {},
     "output_type": "execute_result"
    }
   ],
   "source": [
    "PI.gamma_integral"
   ]
  },
  {
   "cell_type": "markdown",
   "metadata": {},
   "source": [
    "# Example with alpha parameters surfacing"
   ]
  },
  {
   "cell_type": "code",
   "execution_count": 24,
   "metadata": {},
   "outputs": [
    {
     "data": {
      "text/latex": [
       "$$\\left [ \\frac{1}{\\left(- k_{l} + k_{p}\\right)^{2} + \\frac{1}{D_{0}} \\left(- i \\omega_l + m_{1} + m_{2}\\right)}, \\quad \\frac{1}{k_{l}^{2} + \\left(- k_{l} + k_{p}\\right)^{2} + \\frac{1}{D_{0}} \\left(- i \\omega_l + 2 m_{1}\\right)}\\right ]$$"
      ],
      "text/plain": [
       "⎡                1                                     1                  ⎤\n",
       "⎢──────────────────────────────────, ─────────────────────────────────────⎥\n",
       "⎢          2   -ⅈ⋅\\omegaₗ + m₁ + m₂    2             2   -ⅈ⋅\\omegaₗ + 2⋅m₁⎥\n",
       "⎢(-kₗ + kₚ)  + ────────────────────  kₗ  + (-kₗ + kₚ)  + ─────────────────⎥\n",
       "⎣                       D₀                                       D₀       ⎦"
      ]
     },
     "execution_count": 24,
     "metadata": {},
     "output_type": "execute_result"
    }
   ],
   "source": [
    "from sympy import symbols,I\n",
    "k, p, m1, m2, w, D = symbols(  \"k_l, k_p, m_1, m_2, \\omega_l, D_0\")\n",
    "P1 =  (-k+p)**2 + (m1 + m2 -I*w )/D\n",
    "P2 =  k**2+ (-k+p)**2 + (2*m1-I*w)/D\n",
    "awkprops = list((1/P1,1/P2))\n",
    "awkprops"
   ]
  },
  {
   "cell_type": "code",
   "execution_count": 25,
   "metadata": {},
   "outputs": [
    {
     "data": {
      "text/latex": [
       "$$\\frac{1}{\\left(\\left(- k_{l} + k_{p}\\right)^{2} + \\frac{1}{D_{0}} \\left(- i \\omega_l + m_{1} + m_{2}\\right)\\right) \\left(k_{l}^{2} + \\left(- k_{l} + k_{p}\\right)^{2} + \\frac{1}{D_{0}} \\left(- i \\omega_l + 2 m_{1}\\right)\\right)}$$"
      ],
      "text/plain": [
       "                                     1                                      \n",
       "────────────────────────────────────────────────────────────────────────────\n",
       "⎛          2   -ⅈ⋅\\omegaₗ + m₁ + m₂⎞ ⎛  2             2   -ⅈ⋅\\omegaₗ + 2⋅m₁⎞\n",
       "⎜(-kₗ + kₚ)  + ────────────────────⎟⋅⎜kₗ  + (-kₗ + kₚ)  + ─────────────────⎟\n",
       "⎝                       D₀         ⎠ ⎝                            D₀       ⎠"
      ]
     },
     "execution_count": 25,
     "metadata": {},
     "output_type": "execute_result"
    }
   ],
   "source": [
    "P = awkprops[0] * awkprops[1]\n",
    "P"
   ]
  },
  {
   "cell_type": "code",
   "execution_count": 26,
   "metadata": {},
   "outputs": [
    {
     "data": {
      "text/latex": [
       "$$\\frac{D_{0}^{2}}{\\left(\\alpha_{1} \\left(D_{0} \\left(k_{l}^{2} + \\left(- k_{l} + k_{p}\\right)^{2}\\right) - i \\omega_l + 2 m_{1}\\right) + \\alpha_{2} \\left(D_{0} \\left(- k_{l} + k_{p}\\right)^{2} - i \\omega_l + m_{1} + m_{2}\\right)\\right)^{2}}$$"
      ],
      "text/plain": [
       "                                               2                              \n",
       "                                             D₀                               \n",
       "──────────────────────────────────────────────────────────────────────────────\n",
       "                                                                              \n",
       "⎛   ⎛   ⎛  2             2⎞                   ⎞      ⎛             2          \n",
       "⎝α₁⋅⎝D₀⋅⎝kₗ  + (-kₗ + kₚ) ⎠ - ⅈ⋅\\omegaₗ + 2⋅m₁⎠ + α₂⋅⎝D₀⋅(-kₗ + kₚ)  - ⅈ⋅\\omeg\n",
       "\n",
       "               \n",
       "               \n",
       "───────────────\n",
       "              2\n",
       "            ⎞⎞ \n",
       "aₗ + m₁ + m₂⎠⎠ "
      ]
     },
     "execution_count": 26,
     "metadata": {},
     "output_type": "execute_result"
    }
   ],
   "source": [
    "p2 = kpropagator(P)\n",
    "p2.parametric_integral"
   ]
  },
  {
   "cell_type": "code",
   "execution_count": 27,
   "metadata": {},
   "outputs": [
    {
     "data": {
      "text/latex": [
       "$$\\frac{D_{0}^{2}}{\\left(k_{l}^{2} - \\frac{i \\omega_l}{D_{0}} + \\frac{m_{1}}{D_{0}} + \\frac{m_{2}}{D_{0}}\\right)^{2}}$$"
      ],
      "text/plain": [
       "              2             \n",
       "            D₀              \n",
       "────────────────────────────\n",
       "                           2\n",
       "⎛  2   ⅈ⋅\\omegaₗ   m₁   m₂⎞ \n",
       "⎜kₗ  - ───────── + ── + ──⎟ \n",
       "⎝          D₀      D₀   D₀⎠ "
      ]
     },
     "execution_count": 27,
     "metadata": {},
     "output_type": "execute_result"
    }
   ],
   "source": [
    "p2.reduced_parametric_integral"
   ]
  },
  {
   "cell_type": "code",
   "execution_count": 28,
   "metadata": {},
   "outputs": [
    {
     "data": {
      "text/plain": [
       "True"
      ]
     },
     "execution_count": 28,
     "metadata": {},
     "output_type": "execute_result"
    }
   ],
   "source": [
    "p2.used_chung_wu"
   ]
  },
  {
   "cell_type": "code",
   "execution_count": null,
   "metadata": {
    "collapsed": true
   },
   "outputs": [],
   "source": []
  }
 ],
 "metadata": {
  "kernelspec": {
   "display_name": "Python 3",
   "language": "python",
   "name": "python3"
  },
  "language_info": {
   "codemirror_mode": {
    "name": "ipython",
    "version": 3
   },
   "file_extension": ".py",
   "mimetype": "text/x-python",
   "name": "python",
   "nbconvert_exporter": "python",
   "pygments_lexer": "ipython3",
   "version": "3.6.3"
  }
 },
 "nbformat": 4,
 "nbformat_minor": 2
}
