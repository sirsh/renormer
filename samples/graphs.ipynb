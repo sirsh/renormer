{
 "cells": [
  {
   "cell_type": "code",
   "execution_count": 1,
   "metadata": {},
   "outputs": [
    {
     "data": {
      "text/html": [
       "<svg xmlns=\"http://www.w3.org/2000/svg\" xmlns:xlink=\"http://www.w3.org/1999/xlink\" version=\"1.1\" x=\"0\" y=\"0\" width=\"500\" height=\"250\">\n",
       "      <g fill=\"none\" stroke=\"black\" stroke-width=\"1.6\" stroke-linecap=\"round\" transform=\"rotate(0,250.0,125.0) \"> <defs><marker id=\"arrow\"  markerUnits=\"strokeWidth\" markerWidth='5' markerHeight='8' refX='0' refY='2' orient=\"auto\" stroke=\"black\" >\n",
       "                                      <path d=\"M0,0 V4 L2,2 Z\" style=\"fill: #000000;\" /> </marker>\n",
       "                                      <marker id=\"arrowgrey\"  markerUnits=\"strokeWidth\" markerWidth='5' markerHeight='8' refX='0' refY='2' orient=\"auto\" stroke=\"grey\" >\n",
       "                                      <path d=\"M0,0 V4 L2,2 Z\" style=\"fill: #000000;\" /> </marker>\n",
       "                                      <marker id=\"arroworange\"  markerUnits=\"strokeWidth\" markerWidth='5' markerHeight='8' refX='0' refY='2' orient=\"auto\" stroke=\"orange\" >\n",
       "                                      <path d=\"M0,0 V4 L2,2 Z\" style=\"fill: #000000;\" /> </marker>\n",
       "                                      </defs><circle cx=\"100.0\" cy=\"30\" r=\"2.5\" stroke=\"grey\" stroke-width=\"2\" fill=\"black\" /> <circle cx=\"50.0\" cy=\"100\" r=\"2.5\" stroke=\"black\" stroke-width=\"2\" fill=\"black\" /> <path d=\"M85 100 L 50.0 100\" stroke=\"bkac\" stroke-width=\"2px\" id='edge1'   /> <line x1=\"85\" y1=\"100\" x2=\"67.5\" y2=\"100.0\" stroke=\"bkac\" stroke-width=\"2px\"  id='edge1'   marker-end='url(#arrow)' /><path d=\"M67 130 L 50.0 100\" stroke=\"bkac\" stroke-width=\"2px\" id='edge2'   /> <line x1=\"67\" y1=\"130\" x2=\"58.5\" y2=\"115.0\" stroke=\"bkac\" stroke-width=\"2px\"  id='edge2'   marker-end='url(#arrow)' /><path d=\"M50.0 100 L 15 100\" stroke=\"bkac\" stroke-width=\"2px\" id='edge0'   /> <line x1=\"50.0\" y1=\"100\" x2=\"32.5\" y2=\"100.0\" stroke=\"bkac\" stroke-width=\"2px\"  id='edge0'   marker-end='url(#arrow)' /><circle cx=\"150.0\" cy=\"100\" r=\"2.5\" stroke=\"black\" stroke-width=\"2\" fill=\"black\" /> <path d=\"M185 100 L 150.0 100\" stroke=\"bkac\" stroke-width=\"2px\" id='edge0'   /> <line x1=\"185\" y1=\"100\" x2=\"167.5\" y2=\"100.0\" stroke=\"bkac\" stroke-width=\"2px\"  id='edge0'   marker-end='url(#arrow)' /><path d=\"M167 130 L 150.0 100\" stroke=\"bkac\" stroke-width=\"2px\" id='edge3'   /> <line x1=\"167\" y1=\"130\" x2=\"158.5\" y2=\"115.0\" stroke=\"bkac\" stroke-width=\"2px\"  id='edge3'   marker-end='url(#arrow)' /><path d=\"M150.0 100 L 115 100\" stroke=\"bkac\" stroke-width=\"2px\" id='edge1'   /> <line x1=\"150.0\" y1=\"100\" x2=\"132.5\" y2=\"100.0\" stroke=\"bkac\" stroke-width=\"2px\"  id='edge1'   marker-end='url(#arrow)' /><path id='edge-1' d=\"M  15  100  A  50  50  0  0  0  185  100 \" stroke=\"grey\"  stroke-width=\"2px\" stroke-dasharray='1,5' /><path d=\"M115 100 L 85 100\" stroke=\"grey\" stroke-width=\"2px\"  stroke-dasharray='1,7'  /> <line x1=\"115\" y1=\"100\" x2=\"100.0\" y2=\"100.0\" stroke=\"grey\" stroke-width=\"2px\"   stroke-dasharray='1,7'  marker-end='url(#arrowgrey)' />  </g> </svg>"
      ],
      "text/plain": [
       "<rg.graph.viz.debug_graph at 0x1d1d170db70>"
      ]
     },
     "execution_count": 1,
     "metadata": {},
     "output_type": "execute_result"
    }
   ],
   "source": [
    "import sys\n",
    "sys.path.append(\"../\")\n",
    "import rg\n",
    "from rg.graph import incidence_matrix\n",
    "from rg.graph import ring_diagram ,show_spanning_trees, star,arc, debug_graph, tabulate_graphs\n",
    "from rg.graph import circuits, set_circuit_flow,set_source_sink_flow,apply_flow\n",
    "from rg.graph import scalar_propagator\n",
    "#for inline dev\n",
    "import numpy as np\n",
    "from sympy import *\n",
    "\n",
    "A = incidence_matrix(edges= [ [0,1],  [1,0]], external_vertices=[0,1])\n",
    "debug_graph(A)\n",
    "#this shows a backflow which we should not really have in the graph - good example"
   ]
  },
  {
   "cell_type": "code",
   "execution_count": 4,
   "metadata": {},
   "outputs": [],
   "source": [
    "#A.bridge_count, A.first_betti_number"
   ]
  },
  {
   "cell_type": "code",
   "execution_count": 5,
   "metadata": {},
   "outputs": [
    {
     "data": {
      "text/html": [
       "<table ><tr style='background:white'><td><svg xmlns=\"http://www.w3.org/2000/svg\" xmlns:xlink=\"http://www.w3.org/1999/xlink\" version=\"1.1\" x=\"0\" y=\"0\" width=\"300\" height=\"150\">\n",
       "      <g fill=\"none\" stroke=\"black\" stroke-width=\"1.6\" stroke-linecap=\"round\" transform=\"rotate(0,150.0,75.0) \"> <defs><marker id=\"arrow\"  markerUnits=\"strokeWidth\" markerWidth='5' markerHeight='8' refX='0' refY='2' orient=\"auto\" stroke=\"black\" >\n",
       "                                      <path d=\"M0,0 V4 L2,2 Z\" style=\"fill: #000000;\" /> </marker>\n",
       "                                      <marker id=\"arrowgrey\"  markerUnits=\"strokeWidth\" markerWidth='5' markerHeight='8' refX='0' refY='2' orient=\"auto\" stroke=\"grey\" >\n",
       "                                      <path d=\"M0,0 V4 L2,2 Z\" style=\"fill: #000000;\" /> </marker>\n",
       "                                      <marker id=\"arroworange\"  markerUnits=\"strokeWidth\" markerWidth='5' markerHeight='8' refX='0' refY='2' orient=\"auto\" stroke=\"orange\" >\n",
       "                                      <path d=\"M0,0 V4 L2,2 Z\" style=\"fill: #000000;\" /> </marker>\n",
       "                                      </defs><circle cx=\"50.0\" cy=\"100\" r=\"2.5\" stroke=\"black\" stroke-width=\"2\" fill=\"black\" /> <path d=\"M85 100 L 50.0 100\" stroke=\"bkac\" stroke-width=\"2px\" id='edge0'   /> <line x1=\"85\" y1=\"100\" x2=\"67.5\" y2=\"100.0\" stroke=\"bkac\" stroke-width=\"2px\"  id='edge0'   marker-end='url(#arrow)' /><path d=\"M50.0 100 L 15 100\" stroke=\"bkac\" stroke-width=\"2px\" id='edge1'   /> <line x1=\"50.0\" y1=\"100\" x2=\"32.5\" y2=\"100.0\" stroke=\"bkac\" stroke-width=\"2px\"  id='edge1'   marker-end='url(#arrow)' />  </g> </svg></td><td><svg xmlns=\"http://www.w3.org/2000/svg\" xmlns:xlink=\"http://www.w3.org/1999/xlink\" version=\"1.1\" x=\"0\" y=\"0\" width=\"300\" height=\"150\">\n",
       "      <g fill=\"none\" stroke=\"black\" stroke-width=\"1.6\" stroke-linecap=\"round\" transform=\"rotate(0,150.0,75.0) \"> <defs><marker id=\"arrow\"  markerUnits=\"strokeWidth\" markerWidth='5' markerHeight='8' refX='0' refY='2' orient=\"auto\" stroke=\"black\" >\n",
       "                                      <path d=\"M0,0 V4 L2,2 Z\" style=\"fill: #000000;\" /> </marker>\n",
       "                                      <marker id=\"arrowgrey\"  markerUnits=\"strokeWidth\" markerWidth='5' markerHeight='8' refX='0' refY='2' orient=\"auto\" stroke=\"grey\" >\n",
       "                                      <path d=\"M0,0 V4 L2,2 Z\" style=\"fill: #000000;\" /> </marker>\n",
       "                                      <marker id=\"arroworange\"  markerUnits=\"strokeWidth\" markerWidth='5' markerHeight='8' refX='0' refY='2' orient=\"auto\" stroke=\"orange\" >\n",
       "                                      <path d=\"M0,0 V4 L2,2 Z\" style=\"fill: #000000;\" /> </marker>\n",
       "                                      </defs><circle cx=\"50.0\" cy=\"100\" r=\"2.5\" stroke=\"black\" stroke-width=\"2\" fill=\"black\" /> <path d=\"M85 100 L 50.0 100\" stroke=\"orange\" stroke-width=\"2px\" id='edge0'   /> <line x1=\"85\" y1=\"100\" x2=\"67.5\" y2=\"100.0\" stroke=\"orange\" stroke-width=\"2px\"  id='edge0'   marker-end='url(#arroworange)' /><path d=\"M50.0 100 L 15 100\" stroke=\"orange\" stroke-width=\"2px\" id='edge1'   /> <line x1=\"50.0\" y1=\"100\" x2=\"32.5\" y2=\"100.0\" stroke=\"orange\" stroke-width=\"2px\"  id='edge1'   marker-end='url(#arroworange)' />  </g> </svg></td><td><svg xmlns=\"http://www.w3.org/2000/svg\" xmlns:xlink=\"http://www.w3.org/1999/xlink\" version=\"1.1\" x=\"0\" y=\"0\" width=\"300\" height=\"150\">\n",
       "      <g fill=\"none\" stroke=\"black\" stroke-width=\"1.6\" stroke-linecap=\"round\" transform=\"rotate(0,150.0,75.0) \"> <defs><marker id=\"arrow\"  markerUnits=\"strokeWidth\" markerWidth='5' markerHeight='8' refX='0' refY='2' orient=\"auto\" stroke=\"black\" >\n",
       "                                      <path d=\"M0,0 V4 L2,2 Z\" style=\"fill: #000000;\" /> </marker>\n",
       "                                      <marker id=\"arrowgrey\"  markerUnits=\"strokeWidth\" markerWidth='5' markerHeight='8' refX='0' refY='2' orient=\"auto\" stroke=\"grey\" >\n",
       "                                      <path d=\"M0,0 V4 L2,2 Z\" style=\"fill: #000000;\" /> </marker>\n",
       "                                      <marker id=\"arroworange\"  markerUnits=\"strokeWidth\" markerWidth='5' markerHeight='8' refX='0' refY='2' orient=\"auto\" stroke=\"orange\" >\n",
       "                                      <path d=\"M0,0 V4 L2,2 Z\" style=\"fill: #000000;\" /> </marker>\n",
       "                                      </defs><circle cx=\"50.0\" cy=\"100\" r=\"2.5\" stroke=\"black\" stroke-width=\"2\" fill=\"black\" /> <path d=\"M85 100 L 50.0 100\" stroke=\"bkac\" stroke-width=\"2px\" id='edge0'   /> <line x1=\"85\" y1=\"100\" x2=\"67.5\" y2=\"100.0\" stroke=\"bkac\" stroke-width=\"2px\"  id='edge0'   marker-end='url(#arrow)' /><path d=\"M50.0 100 L 15 100\" stroke=\"orange\" stroke-width=\"2px\" id='edge1'   /> <line x1=\"50.0\" y1=\"100\" x2=\"32.5\" y2=\"100.0\" stroke=\"orange\" stroke-width=\"2px\"  id='edge1'   marker-end='url(#arroworange)' />  </g> </svg></td><td><svg xmlns=\"http://www.w3.org/2000/svg\" xmlns:xlink=\"http://www.w3.org/1999/xlink\" version=\"1.1\" x=\"0\" y=\"0\" width=\"300\" height=\"150\">\n",
       "      <g fill=\"none\" stroke=\"black\" stroke-width=\"1.6\" stroke-linecap=\"round\" transform=\"rotate(0,150.0,75.0) \"> <defs><marker id=\"arrow\"  markerUnits=\"strokeWidth\" markerWidth='5' markerHeight='8' refX='0' refY='2' orient=\"auto\" stroke=\"black\" >\n",
       "                                      <path d=\"M0,0 V4 L2,2 Z\" style=\"fill: #000000;\" /> </marker>\n",
       "                                      <marker id=\"arrowgrey\"  markerUnits=\"strokeWidth\" markerWidth='5' markerHeight='8' refX='0' refY='2' orient=\"auto\" stroke=\"grey\" >\n",
       "                                      <path d=\"M0,0 V4 L2,2 Z\" style=\"fill: #000000;\" /> </marker>\n",
       "                                      <marker id=\"arroworange\"  markerUnits=\"strokeWidth\" markerWidth='5' markerHeight='8' refX='0' refY='2' orient=\"auto\" stroke=\"orange\" >\n",
       "                                      <path d=\"M0,0 V4 L2,2 Z\" style=\"fill: #000000;\" /> </marker>\n",
       "                                      </defs><circle cx=\"50.0\" cy=\"100\" r=\"2.5\" stroke=\"black\" stroke-width=\"2\" fill=\"black\" /> <path d=\"M85 100 L 50.0 100\" stroke=\"bkac\" stroke-width=\"2px\" id='edge0'   /> <line x1=\"85\" y1=\"100\" x2=\"67.5\" y2=\"100.0\" stroke=\"bkac\" stroke-width=\"2px\"  id='edge0'   marker-end='url(#arrow)' /><path d=\"M50.0 100 L 15 100\" stroke=\"bkac\" stroke-width=\"2px\" id='edge1'   /> <line x1=\"50.0\" y1=\"100\" x2=\"32.5\" y2=\"100.0\" stroke=\"bkac\" stroke-width=\"2px\"  id='edge1'   marker-end='url(#arrow)' /><path d=\"M50.0 100 L 32 69\" stroke=\"bkac\" stroke-width=\"2px\" id='edge2'   /> <line x1=\"50.0\" y1=\"100\" x2=\"41.0\" y2=\"84.5\" stroke=\"bkac\" stroke-width=\"2px\"  id='edge2'   marker-end='url(#arrow)' />  </g> </svg></td></tr><tr style='background:white'><td><svg xmlns=\"http://www.w3.org/2000/svg\" xmlns:xlink=\"http://www.w3.org/1999/xlink\" version=\"1.1\" x=\"0\" y=\"0\" width=\"300\" height=\"150\">\n",
       "      <g fill=\"none\" stroke=\"black\" stroke-width=\"1.6\" stroke-linecap=\"round\" transform=\"rotate(0,150.0,75.0) \"> <defs><marker id=\"arrow\"  markerUnits=\"strokeWidth\" markerWidth='5' markerHeight='8' refX='0' refY='2' orient=\"auto\" stroke=\"black\" >\n",
       "                                      <path d=\"M0,0 V4 L2,2 Z\" style=\"fill: #000000;\" /> </marker>\n",
       "                                      <marker id=\"arrowgrey\"  markerUnits=\"strokeWidth\" markerWidth='5' markerHeight='8' refX='0' refY='2' orient=\"auto\" stroke=\"grey\" >\n",
       "                                      <path d=\"M0,0 V4 L2,2 Z\" style=\"fill: #000000;\" /> </marker>\n",
       "                                      <marker id=\"arroworange\"  markerUnits=\"strokeWidth\" markerWidth='5' markerHeight='8' refX='0' refY='2' orient=\"auto\" stroke=\"orange\" >\n",
       "                                      <path d=\"M0,0 V4 L2,2 Z\" style=\"fill: #000000;\" /> </marker>\n",
       "                                      </defs><circle cx=\"50.0\" cy=\"100\" r=\"2.5\" stroke=\"black\" stroke-width=\"2\" fill=\"black\" /> <path d=\"M85 100 L 50.0 100\" stroke=\"bkac\" stroke-width=\"2px\" id='edge0'   /> <line x1=\"85\" y1=\"100\" x2=\"67.5\" y2=\"100.0\" stroke=\"bkac\" stroke-width=\"2px\"  id='edge0'   marker-end='url(#arrow)' /><path d=\"M50.0 100 L 15 100\" stroke=\"bkac\" stroke-width=\"2px\" id='edge1'   /> <line x1=\"50.0\" y1=\"100\" x2=\"32.5\" y2=\"100.0\" stroke=\"bkac\" stroke-width=\"2px\"  id='edge1'   marker-end='url(#arrow)' /><path d=\"M50.0 100 L 32 69\" stroke=\"orange\" stroke-width=\"2px\" id='edge2'   /> <line x1=\"50.0\" y1=\"100\" x2=\"41.0\" y2=\"84.5\" stroke=\"orange\" stroke-width=\"2px\"  id='edge2'   marker-end='url(#arroworange)' />  </g> </svg></td><td><svg xmlns=\"http://www.w3.org/2000/svg\" xmlns:xlink=\"http://www.w3.org/1999/xlink\" version=\"1.1\" x=\"0\" y=\"0\" width=\"300\" height=\"150\">\n",
       "      <g fill=\"none\" stroke=\"black\" stroke-width=\"1.6\" stroke-linecap=\"round\" transform=\"rotate(0,150.0,75.0) \"> <defs><marker id=\"arrow\"  markerUnits=\"strokeWidth\" markerWidth='5' markerHeight='8' refX='0' refY='2' orient=\"auto\" stroke=\"black\" >\n",
       "                                      <path d=\"M0,0 V4 L2,2 Z\" style=\"fill: #000000;\" /> </marker>\n",
       "                                      <marker id=\"arrowgrey\"  markerUnits=\"strokeWidth\" markerWidth='5' markerHeight='8' refX='0' refY='2' orient=\"auto\" stroke=\"grey\" >\n",
       "                                      <path d=\"M0,0 V4 L2,2 Z\" style=\"fill: #000000;\" /> </marker>\n",
       "                                      <marker id=\"arroworange\"  markerUnits=\"strokeWidth\" markerWidth='5' markerHeight='8' refX='0' refY='2' orient=\"auto\" stroke=\"orange\" >\n",
       "                                      <path d=\"M0,0 V4 L2,2 Z\" style=\"fill: #000000;\" /> </marker>\n",
       "                                      </defs><circle cx=\"50.0\" cy=\"100\" r=\"2.5\" stroke=\"black\" stroke-width=\"2\" fill=\"black\" /> <path d=\"M85 100 L 50.0 100\" stroke=\"bkac\" stroke-width=\"2px\" id='edge0'   /> <line x1=\"85\" y1=\"100\" x2=\"67.5\" y2=\"100.0\" stroke=\"bkac\" stroke-width=\"2px\"  id='edge0'   marker-end='url(#arrow)' /><path d=\"M67 130 L 50.0 100\" stroke=\"orange\" stroke-width=\"2px\" id='edge1'   /> <line x1=\"67\" y1=\"130\" x2=\"58.5\" y2=\"115.0\" stroke=\"orange\" stroke-width=\"2px\"  id='edge1'   marker-end='url(#arroworange)' /><path d=\"M50.0 100 L 15 100\" stroke=\"bkac\" stroke-width=\"2px\" id='edge2'   /> <line x1=\"50.0\" y1=\"100\" x2=\"32.5\" y2=\"100.0\" stroke=\"bkac\" stroke-width=\"2px\"  id='edge2'   marker-end='url(#arrow)' /><path d=\"M50.0 100 L 32 69\" stroke=\"orange\" stroke-width=\"2px\" id='edge3'   /> <line x1=\"50.0\" y1=\"100\" x2=\"41.0\" y2=\"84.5\" stroke=\"orange\" stroke-width=\"2px\"  id='edge3'   marker-end='url(#arroworange)' />  </g> </svg></td><td><svg xmlns=\"http://www.w3.org/2000/svg\" xmlns:xlink=\"http://www.w3.org/1999/xlink\" version=\"1.1\" x=\"0\" y=\"0\" width=\"300\" height=\"150\">\n",
       "      <g fill=\"none\" stroke=\"black\" stroke-width=\"1.6\" stroke-linecap=\"round\" transform=\"rotate(0,150.0,75.0) \"> <defs><marker id=\"arrow\"  markerUnits=\"strokeWidth\" markerWidth='5' markerHeight='8' refX='0' refY='2' orient=\"auto\" stroke=\"black\" >\n",
       "                                      <path d=\"M0,0 V4 L2,2 Z\" style=\"fill: #000000;\" /> </marker>\n",
       "                                      <marker id=\"arrowgrey\"  markerUnits=\"strokeWidth\" markerWidth='5' markerHeight='8' refX='0' refY='2' orient=\"auto\" stroke=\"grey\" >\n",
       "                                      <path d=\"M0,0 V4 L2,2 Z\" style=\"fill: #000000;\" /> </marker>\n",
       "                                      <marker id=\"arroworange\"  markerUnits=\"strokeWidth\" markerWidth='5' markerHeight='8' refX='0' refY='2' orient=\"auto\" stroke=\"orange\" >\n",
       "                                      <path d=\"M0,0 V4 L2,2 Z\" style=\"fill: #000000;\" /> </marker>\n",
       "                                      </defs><circle cx=\"50.0\" cy=\"100\" r=\"2.5\" stroke=\"black\" stroke-width=\"2\" fill=\"black\" /> <path d=\"M85 100 L 50.0 100\" stroke=\"orange\" stroke-width=\"2px\" id='edge0'   /> <line x1=\"85\" y1=\"100\" x2=\"67.5\" y2=\"100.0\" stroke=\"orange\" stroke-width=\"2px\"  id='edge0'   marker-end='url(#arroworange)' /><path d=\"M67 130 L 50.0 100\" stroke=\"bkac\" stroke-width=\"2px\" id='edge1'   /> <line x1=\"67\" y1=\"130\" x2=\"58.5\" y2=\"115.0\" stroke=\"bkac\" stroke-width=\"2px\"  id='edge1'   marker-end='url(#arrow)' /><path d=\"M50.0 100 L 15 100\" stroke=\"orange\" stroke-width=\"2px\" id='edge2'   /> <line x1=\"50.0\" y1=\"100\" x2=\"32.5\" y2=\"100.0\" stroke=\"orange\" stroke-width=\"2px\"  id='edge2'   marker-end='url(#arroworange)' />  </g> </svg></td><td><svg xmlns=\"http://www.w3.org/2000/svg\" xmlns:xlink=\"http://www.w3.org/1999/xlink\" version=\"1.1\" x=\"0\" y=\"0\" width=\"300\" height=\"150\">\n",
       "      <g fill=\"none\" stroke=\"black\" stroke-width=\"1.6\" stroke-linecap=\"round\" transform=\"rotate(0,150.0,75.0) \"> <defs><marker id=\"arrow\"  markerUnits=\"strokeWidth\" markerWidth='5' markerHeight='8' refX='0' refY='2' orient=\"auto\" stroke=\"black\" >\n",
       "                                      <path d=\"M0,0 V4 L2,2 Z\" style=\"fill: #000000;\" /> </marker>\n",
       "                                      <marker id=\"arrowgrey\"  markerUnits=\"strokeWidth\" markerWidth='5' markerHeight='8' refX='0' refY='2' orient=\"auto\" stroke=\"grey\" >\n",
       "                                      <path d=\"M0,0 V4 L2,2 Z\" style=\"fill: #000000;\" /> </marker>\n",
       "                                      <marker id=\"arroworange\"  markerUnits=\"strokeWidth\" markerWidth='5' markerHeight='8' refX='0' refY='2' orient=\"auto\" stroke=\"orange\" >\n",
       "                                      <path d=\"M0,0 V4 L2,2 Z\" style=\"fill: #000000;\" /> </marker>\n",
       "                                      </defs><circle cx=\"50.0\" cy=\"100\" r=\"2.5\" stroke=\"black\" stroke-width=\"2\" fill=\"black\" /> <path d=\"M85 100 L 50.0 100\" stroke=\"orange\" stroke-width=\"2px\" id='edge0'   /> <line x1=\"85\" y1=\"100\" x2=\"67.5\" y2=\"100.0\" stroke=\"orange\" stroke-width=\"2px\"  id='edge0'   marker-end='url(#arroworange)' /><path d=\"M67 130 L 50.0 100\" stroke=\"bkac\" stroke-width=\"2px\" id='edge1'   /> <line x1=\"67\" y1=\"130\" x2=\"58.5\" y2=\"115.0\" stroke=\"bkac\" stroke-width=\"2px\"  id='edge1'   marker-end='url(#arrow)' /><path d=\"M50.0 100 L 15 100\" stroke=\"orange\" stroke-width=\"2px\" id='edge2'   /> <line x1=\"50.0\" y1=\"100\" x2=\"32.5\" y2=\"100.0\" stroke=\"orange\" stroke-width=\"2px\"  id='edge2'   marker-end='url(#arroworange)' /><path d=\"M50.0 100 L 32 69\" stroke=\"orange\" stroke-width=\"2px\" id='edge3'   /> <line x1=\"50.0\" y1=\"100\" x2=\"41.0\" y2=\"84.5\" stroke=\"orange\" stroke-width=\"2px\"  id='edge3'   marker-end='url(#arroworange)' />  </g> </svg></td></tr><tr style='background:white'><td><svg xmlns=\"http://www.w3.org/2000/svg\" xmlns:xlink=\"http://www.w3.org/1999/xlink\" version=\"1.1\" x=\"0\" y=\"0\" width=\"300\" height=\"150\">\n",
       "      <g fill=\"none\" stroke=\"black\" stroke-width=\"1.6\" stroke-linecap=\"round\" transform=\"rotate(0,150.0,75.0) \"> <defs><marker id=\"arrow\"  markerUnits=\"strokeWidth\" markerWidth='5' markerHeight='8' refX='0' refY='2' orient=\"auto\" stroke=\"black\" >\n",
       "                                      <path d=\"M0,0 V4 L2,2 Z\" style=\"fill: #000000;\" /> </marker>\n",
       "                                      <marker id=\"arrowgrey\"  markerUnits=\"strokeWidth\" markerWidth='5' markerHeight='8' refX='0' refY='2' orient=\"auto\" stroke=\"grey\" >\n",
       "                                      <path d=\"M0,0 V4 L2,2 Z\" style=\"fill: #000000;\" /> </marker>\n",
       "                                      <marker id=\"arroworange\"  markerUnits=\"strokeWidth\" markerWidth='5' markerHeight='8' refX='0' refY='2' orient=\"auto\" stroke=\"orange\" >\n",
       "                                      <path d=\"M0,0 V4 L2,2 Z\" style=\"fill: #000000;\" /> </marker>\n",
       "                                      </defs><circle cx=\"50.0\" cy=\"100\" r=\"2.5\" stroke=\"black\" stroke-width=\"2\" fill=\"black\" /> <path d=\"M85 100 L 50.0 100\" stroke=\"orange\" stroke-width=\"2px\" id='edge0'   /> <line x1=\"85\" y1=\"100\" x2=\"67.5\" y2=\"100.0\" stroke=\"orange\" stroke-width=\"2px\"  id='edge0'   marker-end='url(#arroworange)' /><path d=\"M50.0 100 L 15 100\" stroke=\"orange\" stroke-width=\"2px\" id='edge1'   /> <line x1=\"50.0\" y1=\"100\" x2=\"32.5\" y2=\"100.0\" stroke=\"orange\" stroke-width=\"2px\"  id='edge1'   marker-end='url(#arroworange)' /><path d=\"M50.0 100 L 25 75\" stroke=\"bkac\" stroke-width=\"2px\" id='edge2'   /> <line x1=\"50.0\" y1=\"100\" x2=\"37.5\" y2=\"87.5\" stroke=\"bkac\" stroke-width=\"2px\"  id='edge2'   marker-end='url(#arrow)' /><path d=\"M50.0 100 L 49 65\" stroke=\"orange\" stroke-width=\"2px\" id='edge3'   /> <line x1=\"50.0\" y1=\"100\" x2=\"49.5\" y2=\"82.5\" stroke=\"orange\" stroke-width=\"2px\"  id='edge3'   marker-end='url(#arroworange)' />  </g> </svg></td><td><svg xmlns=\"http://www.w3.org/2000/svg\" xmlns:xlink=\"http://www.w3.org/1999/xlink\" version=\"1.1\" x=\"0\" y=\"0\" width=\"300\" height=\"150\">\n",
       "      <g fill=\"none\" stroke=\"black\" stroke-width=\"1.6\" stroke-linecap=\"round\" transform=\"rotate(0,150.0,75.0) \"> <defs><marker id=\"arrow\"  markerUnits=\"strokeWidth\" markerWidth='5' markerHeight='8' refX='0' refY='2' orient=\"auto\" stroke=\"black\" >\n",
       "                                      <path d=\"M0,0 V4 L2,2 Z\" style=\"fill: #000000;\" /> </marker>\n",
       "                                      <marker id=\"arrowgrey\"  markerUnits=\"strokeWidth\" markerWidth='5' markerHeight='8' refX='0' refY='2' orient=\"auto\" stroke=\"grey\" >\n",
       "                                      <path d=\"M0,0 V4 L2,2 Z\" style=\"fill: #000000;\" /> </marker>\n",
       "                                      <marker id=\"arroworange\"  markerUnits=\"strokeWidth\" markerWidth='5' markerHeight='8' refX='0' refY='2' orient=\"auto\" stroke=\"orange\" >\n",
       "                                      <path d=\"M0,0 V4 L2,2 Z\" style=\"fill: #000000;\" /> </marker>\n",
       "                                      </defs><circle cx=\"50.0\" cy=\"100\" r=\"2.5\" stroke=\"black\" stroke-width=\"2\" fill=\"black\" /> <path d=\"M85 100 L 50.0 100\" stroke=\"bkac\" stroke-width=\"2px\" id='edge0'   /> <line x1=\"85\" y1=\"100\" x2=\"67.5\" y2=\"100.0\" stroke=\"bkac\" stroke-width=\"2px\"  id='edge0'   marker-end='url(#arrow)' /><path d=\"M67 130 L 50.0 100\" stroke=\"orange\" stroke-width=\"2px\" id='edge1'   /> <line x1=\"67\" y1=\"130\" x2=\"58.5\" y2=\"115.0\" stroke=\"orange\" stroke-width=\"2px\"  id='edge1'   marker-end='url(#arroworange)' /><path d=\"M50.0 100 L 15 100\" stroke=\"bkac\" stroke-width=\"2px\" id='edge2'   /> <line x1=\"50.0\" y1=\"100\" x2=\"32.5\" y2=\"100.0\" stroke=\"bkac\" stroke-width=\"2px\"  id='edge2'   marker-end='url(#arrow)' /><path d=\"M50.0 100 L 25 75\" stroke=\"orange\" stroke-width=\"2px\" id='edge3'   /> <line x1=\"50.0\" y1=\"100\" x2=\"37.5\" y2=\"87.5\" stroke=\"orange\" stroke-width=\"2px\"  id='edge3'   marker-end='url(#arroworange)' /><path d=\"M50.0 100 L 49 65\" stroke=\"orange\" stroke-width=\"2px\" id='edge4'   /> <line x1=\"50.0\" y1=\"100\" x2=\"49.5\" y2=\"82.5\" stroke=\"orange\" stroke-width=\"2px\"  id='edge4'   marker-end='url(#arroworange)' />  </g> </svg></td></tr><tr style='background:white'></tr></table>"
      ],
      "text/plain": [
       "<rg.graph.viz.tabulate_graphs at 0x1d1e324dac8>"
      ]
     },
     "execution_count": 5,
     "metadata": {},
     "output_type": "execute_result"
    }
   ],
   "source": [
    "BWS = [\n",
    "    incidence_matrix(edges=[[-1,0],[0,-1]], species_vector=[0,0]), #prop\n",
    "    incidence_matrix(edges=[[-1,0],[0,-1]], species_vector=[1,1]), #prob B\n",
    "    incidence_matrix(edges=[[-1,0],[0,-1]], species_vector=[0,1]), #trans    \n",
    "    incidence_matrix(edges=[[-1,0],[0,-1],[0,-1]], species_vector=[0,0,0]), #single particle branching\n",
    "    incidence_matrix(edges=[[-1,0],[0,-1],[0,-1]], species_vector=[0,0,1]), #quasi particle branching\n",
    "    incidence_matrix(edges=[[-1,0],[-1,0],[0,-1],[0,-1]], species_vector=[0,1,0,1]), #single particle branching\n",
    "    incidence_matrix(edges=[[-1,0],[-1,0],[0,-1]], species_vector=[1,0,1]), #single particle branching\n",
    "    incidence_matrix(edges=[[-1,0],[-1,0],[0,-1],[0,-1]], species_vector=[1,0,1,1]), #single particle branching\n",
    "    incidence_matrix(edges=[[-1,0],[0,-1],[0,-1],[0,-1]], species_vector=[1,1,0,1]), #single particle branching\n",
    "    incidence_matrix(edges=[[-1,0],[-1,0],[0,-1],[0,-1],[0,-1]], species_vector=[0,1,0,1,1]), #single particle branching\n",
    "    #incidence_matrix(edges=[[-1,0],[0,-1],[0,-1],[0,-1]], species_vector=[0,0,1,1]), #single particle branching\n",
    "]\n",
    "\n",
    "    \n",
    "tabulate_graphs(BWS, options={\"size\": (300,150), \"hide_vinfty\": True})"
   ]
  },
  {
   "cell_type": "code",
   "execution_count": 38,
   "metadata": {},
   "outputs": [
    {
     "data": {
      "image/png": "[encoded data removed]",
      "text/latex": [
       "$$75$$"
      ],
      "text/plain": [
       "75"
      ]
     },
     "execution_count": 38,
     "metadata": {},
     "output_type": "execute_result"
    }
   ],
   "source": [
    "import itertools   \n",
    "def update_set(G=[], newguys = [], L=1):\n",
    "    \n",
    "    def graph_admissable(g, L):\n",
    "        loops = g.first_betti_number\n",
    "        if loops > L:return False\n",
    "        #allow brudges only at tree level\n",
    "        if loops > 0 and g.bridge_count  > 1: return False\n",
    "        return True\n",
    "    \n",
    "    def graph_exists(l,g):\n",
    "        for _g in l:\n",
    "            if _g.__mul_hash__() == g.__mul_hash__(): return True\n",
    "        return False\n",
    "\n",
    "    mulfodder= [tup for tup in list(itertools.permutations(G,2))]\n",
    "    for m in mulfodder:\n",
    "        for s in incidence_matrix.shuffle(*m):\n",
    "            if s != (0,0): #the null case     \n",
    "                g = m[0].dprod(m[1],species_chord_set=s)\n",
    "                if not graph_admissable(g,L=L):continue\n",
    "                if not graph_exists(newguys,g):newguys.append(g)\n",
    "    return newguys\n",
    "\n",
    "L = 1\n",
    "primitives = BWS[2:]    \n",
    "newguys = []\n",
    "newguys=update_set(primitives,newguys)\n",
    "\n",
    "# for p in primitives:\n",
    "#     for q in newguys:\n",
    "#         for s in incidence_matrix.shuffle(p,q):\n",
    "#             if s != (0,0): #the null case     \n",
    "#                 g = p.dprod(q,species_chord_set=s)\n",
    "#                 if not graph_admissable(g,L=L):continue\n",
    "#                 if not graph_exists(newguys,g):\n",
    "#                     newguys.append(g)\n",
    "#                     print(len(newguys))\n",
    "\n",
    "len(newguys)"
   ]
  },
  {
   "cell_type": "markdown",
   "metadata": {},
   "source": [
    "# TODO\n",
    "\n",
    "For BWS make sure we can produce all diagrams"
   ]
  },
  {
   "cell_type": "markdown",
   "metadata": {},
   "source": [
    "## Loop hash which does not care about residuals"
   ]
  },
  {
   "cell_type": "code",
   "execution_count": null,
   "metadata": {
    "collapsed": true
   },
   "outputs": [],
   "source": []
  },
  {
   "cell_type": "code",
   "execution_count": null,
   "metadata": {
    "collapsed": true
   },
   "outputs": [],
   "source": []
  },
  {
   "cell_type": "markdown",
   "metadata": {},
   "source": [
    "## Other option\n",
    "We can create all products of all *combinations* of 4 vertices which we know to suffice due to dimensional analysis - because "
   ]
  },
  {
   "cell_type": "code",
   "execution_count": null,
   "metadata": {
    "collapsed": true
   },
   "outputs": [],
   "source": [
    "#create all 4-sequences and do a fold-left reduction "
   ]
  },
  {
   "cell_type": "markdown",
   "metadata": {},
   "source": [
    "## Draw the loops"
   ]
  },
  {
   "cell_type": "code",
   "execution_count": null,
   "metadata": {
    "collapsed": true
   },
   "outputs": [],
   "source": []
  },
  {
   "cell_type": "code",
   "execution_count": 39,
   "metadata": {
    "scrolled": false
   },
   "outputs": [
    {
     "data": {
      "text/html": [
       "<table ><tr style='background:white'><td><svg xmlns=\"http://www.w3.org/2000/svg\" xmlns:xlink=\"http://www.w3.org/1999/xlink\" version=\"1.1\" x=\"0\" y=\"0\" width=\"300\" height=\"150\">\n",
       "      <g fill=\"none\" stroke=\"black\" stroke-width=\"1.6\" stroke-linecap=\"round\" transform=\"rotate(0,150.0,75.0) \"> <defs><marker id=\"arrow\"  markerUnits=\"strokeWidth\" markerWidth='5' markerHeight='8' refX='0' refY='2' orient=\"auto\" stroke=\"black\" >\n",
       "                                      <path d=\"M0,0 V4 L2,2 Z\" style=\"fill: #000000;\" /> </marker>\n",
       "                                      <marker id=\"arrowgrey\"  markerUnits=\"strokeWidth\" markerWidth='5' markerHeight='8' refX='0' refY='2' orient=\"auto\" stroke=\"grey\" >\n",
       "                                      <path d=\"M0,0 V4 L2,2 Z\" style=\"fill: #000000;\" /> </marker>\n",
       "                                      <marker id=\"arroworange\"  markerUnits=\"strokeWidth\" markerWidth='5' markerHeight='8' refX='0' refY='2' orient=\"auto\" stroke=\"orange\" >\n",
       "                                      <path d=\"M0,0 V4 L2,2 Z\" style=\"fill: #000000;\" /> </marker>\n",
       "                                      </defs><circle cx=\"50.0\" cy=\"100\" r=\"2.5\" stroke=\"black\" stroke-width=\"2\" fill=\"black\" /> <path d=\"M85 100 L 50.0 100\" stroke=\"bkac\" stroke-width=\"2px\" id='edge3'   /> <line x1=\"85\" y1=\"100\" x2=\"67.5\" y2=\"100.0\" stroke=\"bkac\" stroke-width=\"2px\"  id='edge3'   marker-end='url(#arrow)' /><path d=\"M67 130 L 50.0 100\" stroke=\"orange\" stroke-width=\"2px\" id='edge4'   /> <line x1=\"67\" y1=\"130\" x2=\"58.5\" y2=\"115.0\" stroke=\"orange\" stroke-width=\"2px\"  id='edge4'   marker-end='url(#arroworange)' /><path d=\"M50.0 100 L 15 100\" stroke=\"bkac\" stroke-width=\"2px\" id='edge0'   /> <line x1=\"50.0\" y1=\"100\" x2=\"32.5\" y2=\"100.0\" stroke=\"bkac\" stroke-width=\"2px\"  id='edge0'   marker-end='url(#arrow)' /><path d=\"M50.0 100 L 32 69\" stroke=\"orange\" stroke-width=\"2px\" id='edge1'   /> <line x1=\"50.0\" y1=\"100\" x2=\"41.0\" y2=\"84.5\" stroke=\"orange\" stroke-width=\"2px\"  id='edge1'   marker-end='url(#arroworange)' /><circle cx=\"150.0\" cy=\"100\" r=\"2.5\" stroke=\"black\" stroke-width=\"2\" fill=\"black\" /> <path d=\"M185 100 L 150.0 100\" stroke=\"bkac\" stroke-width=\"2px\" id='edge2'   /> <line x1=\"185\" y1=\"100\" x2=\"167.5\" y2=\"100.0\" stroke=\"bkac\" stroke-width=\"2px\"  id='edge2'   marker-end='url(#arrow)' /><path d=\"M150.0 100 L 115 100\" stroke=\"bkac\" stroke-width=\"2px\" id='edge3'   /> <line x1=\"150.0\" y1=\"100\" x2=\"132.5\" y2=\"100.0\" stroke=\"bkac\" stroke-width=\"2px\"  id='edge3'   marker-end='url(#arrow)' /><path d=\"M150.0 100 L 132 69\" stroke=\"orange\" stroke-width=\"2px\" id='edge4'   /> <line x1=\"150.0\" y1=\"100\" x2=\"141.0\" y2=\"84.5\" stroke=\"orange\" stroke-width=\"2px\"  id='edge4'   marker-end='url(#arroworange)' /><path d=\"M115 100 L 85 100\" stroke=\"grey\" stroke-width=\"2px\"  stroke-dasharray='1,7'  /> <line x1=\"115\" y1=\"100\" x2=\"100.0\" y2=\"100.0\" stroke=\"grey\" stroke-width=\"2px\"   stroke-dasharray='1,7'  marker-end='url(#arrowgrey)' /><path d=\"M132 69 L 67 130\" stroke=\"grey\" stroke-width=\"2px\"  stroke-dasharray='1,7'  /> <line x1=\"132\" y1=\"69\" x2=\"99.5\" y2=\"99.5\" stroke=\"grey\" stroke-width=\"2px\"   stroke-dasharray='1,7'  marker-end='url(#arrowgrey)' />  </g> </svg></td><td><svg xmlns=\"http://www.w3.org/2000/svg\" xmlns:xlink=\"http://www.w3.org/1999/xlink\" version=\"1.1\" x=\"0\" y=\"0\" width=\"300\" height=\"150\">\n",
       "      <g fill=\"none\" stroke=\"black\" stroke-width=\"1.6\" stroke-linecap=\"round\" transform=\"rotate(0,150.0,75.0) \"> <defs><marker id=\"arrow\"  markerUnits=\"strokeWidth\" markerWidth='5' markerHeight='8' refX='0' refY='2' orient=\"auto\" stroke=\"black\" >\n",
       "                                      <path d=\"M0,0 V4 L2,2 Z\" style=\"fill: #000000;\" /> </marker>\n",
       "                                      <marker id=\"arrowgrey\"  markerUnits=\"strokeWidth\" markerWidth='5' markerHeight='8' refX='0' refY='2' orient=\"auto\" stroke=\"grey\" >\n",
       "                                      <path d=\"M0,0 V4 L2,2 Z\" style=\"fill: #000000;\" /> </marker>\n",
       "                                      <marker id=\"arroworange\"  markerUnits=\"strokeWidth\" markerWidth='5' markerHeight='8' refX='0' refY='2' orient=\"auto\" stroke=\"orange\" >\n",
       "                                      <path d=\"M0,0 V4 L2,2 Z\" style=\"fill: #000000;\" /> </marker>\n",
       "                                      </defs><circle cx=\"50.0\" cy=\"100\" r=\"2.5\" stroke=\"black\" stroke-width=\"2\" fill=\"black\" /> <path d=\"M85 100 L 50.0 100\" stroke=\"bkac\" stroke-width=\"2px\" id='edge4'   /> <line x1=\"85\" y1=\"100\" x2=\"67.5\" y2=\"100.0\" stroke=\"bkac\" stroke-width=\"2px\"  id='edge4'   marker-end='url(#arrow)' /><path d=\"M67 130 L 50.0 100\" stroke=\"orange\" stroke-width=\"2px\" id='edge5'   /> <line x1=\"67\" y1=\"130\" x2=\"58.5\" y2=\"115.0\" stroke=\"orange\" stroke-width=\"2px\"  id='edge5'   marker-end='url(#arroworange)' /><path d=\"M50.0 100 L 15 100\" stroke=\"bkac\" stroke-width=\"2px\" id='edge0'   /> <line x1=\"50.0\" y1=\"100\" x2=\"32.5\" y2=\"100.0\" stroke=\"bkac\" stroke-width=\"2px\"  id='edge0'   marker-end='url(#arrow)' /><path d=\"M50.0 100 L 32 69\" stroke=\"orange\" stroke-width=\"2px\" id='edge1'   /> <line x1=\"50.0\" y1=\"100\" x2=\"41.0\" y2=\"84.5\" stroke=\"orange\" stroke-width=\"2px\"  id='edge1'   marker-end='url(#arroworange)' /><circle cx=\"150.0\" cy=\"100\" r=\"2.5\" stroke=\"black\" stroke-width=\"2\" fill=\"black\" /> <path d=\"M185 100 L 150.0 100\" stroke=\"orange\" stroke-width=\"2px\" id='edge2'   /> <line x1=\"185\" y1=\"100\" x2=\"167.5\" y2=\"100.0\" stroke=\"orange\" stroke-width=\"2px\"  id='edge2'   marker-end='url(#arroworange)' /><path d=\"M150.0 100 L 115 100\" stroke=\"orange\" stroke-width=\"2px\" id='edge3'   /> <line x1=\"150.0\" y1=\"100\" x2=\"132.5\" y2=\"100.0\" stroke=\"orange\" stroke-width=\"2px\"  id='edge3'   marker-end='url(#arroworange)' /><path d=\"M150.0 100 L 125 75\" stroke=\"bkac\" stroke-width=\"2px\" id='edge4'   /> <line x1=\"150.0\" y1=\"100\" x2=\"137.5\" y2=\"87.5\" stroke=\"bkac\" stroke-width=\"2px\"  id='edge4'   marker-end='url(#arrow)' /><path d=\"M150.0 100 L 150 65\" stroke=\"orange\" stroke-width=\"2px\" id='edge5'   /> <line x1=\"150.0\" y1=\"100\" x2=\"150.0\" y2=\"82.5\" stroke=\"orange\" stroke-width=\"2px\"  id='edge5'   marker-end='url(#arroworange)' /><path d=\"M125 75 L 85 100\" stroke=\"grey\" stroke-width=\"2px\"  stroke-dasharray='1,7'  /> <line x1=\"125\" y1=\"75\" x2=\"105.0\" y2=\"87.5\" stroke=\"grey\" stroke-width=\"2px\"   stroke-dasharray='1,7'  marker-end='url(#arrowgrey)' /><path d=\"M150 65 L 67 130\" stroke=\"grey\" stroke-width=\"2px\"  stroke-dasharray='1,7'  /> <line x1=\"150\" y1=\"65\" x2=\"108.5\" y2=\"97.5\" stroke=\"grey\" stroke-width=\"2px\"   stroke-dasharray='1,7'  marker-end='url(#arrowgrey)' />  </g> </svg></td><td><svg xmlns=\"http://www.w3.org/2000/svg\" xmlns:xlink=\"http://www.w3.org/1999/xlink\" version=\"1.1\" x=\"0\" y=\"0\" width=\"300\" height=\"150\">\n",
       "      <g fill=\"none\" stroke=\"black\" stroke-width=\"1.6\" stroke-linecap=\"round\" transform=\"rotate(0,150.0,75.0) \"> <defs><marker id=\"arrow\"  markerUnits=\"strokeWidth\" markerWidth='5' markerHeight='8' refX='0' refY='2' orient=\"auto\" stroke=\"black\" >\n",
       "                                      <path d=\"M0,0 V4 L2,2 Z\" style=\"fill: #000000;\" /> </marker>\n",
       "                                      <marker id=\"arrowgrey\"  markerUnits=\"strokeWidth\" markerWidth='5' markerHeight='8' refX='0' refY='2' orient=\"auto\" stroke=\"grey\" >\n",
       "                                      <path d=\"M0,0 V4 L2,2 Z\" style=\"fill: #000000;\" /> </marker>\n",
       "                                      <marker id=\"arroworange\"  markerUnits=\"strokeWidth\" markerWidth='5' markerHeight='8' refX='0' refY='2' orient=\"auto\" stroke=\"orange\" >\n",
       "                                      <path d=\"M0,0 V4 L2,2 Z\" style=\"fill: #000000;\" /> </marker>\n",
       "                                      </defs><circle cx=\"50.0\" cy=\"100\" r=\"2.5\" stroke=\"black\" stroke-width=\"2\" fill=\"black\" /> <path d=\"M85 100 L 50.0 100\" stroke=\"bkac\" stroke-width=\"2px\" id='edge5'   /> <line x1=\"85\" y1=\"100\" x2=\"67.5\" y2=\"100.0\" stroke=\"bkac\" stroke-width=\"2px\"  id='edge5'   marker-end='url(#arrow)' /><path d=\"M67 130 L 50.0 100\" stroke=\"orange\" stroke-width=\"2px\" id='edge6'   /> <line x1=\"67\" y1=\"130\" x2=\"58.5\" y2=\"115.0\" stroke=\"orange\" stroke-width=\"2px\"  id='edge6'   marker-end='url(#arroworange)' /><path d=\"M50.0 100 L 15 100\" stroke=\"bkac\" stroke-width=\"2px\" id='edge0'   /> <line x1=\"50.0\" y1=\"100\" x2=\"32.5\" y2=\"100.0\" stroke=\"bkac\" stroke-width=\"2px\"  id='edge0'   marker-end='url(#arrow)' /><path d=\"M50.0 100 L 32 69\" stroke=\"orange\" stroke-width=\"2px\" id='edge1'   /> <line x1=\"50.0\" y1=\"100\" x2=\"41.0\" y2=\"84.5\" stroke=\"orange\" stroke-width=\"2px\"  id='edge1'   marker-end='url(#arroworange)' /><circle cx=\"150.0\" cy=\"100\" r=\"2.5\" stroke=\"black\" stroke-width=\"2\" fill=\"black\" /> <path d=\"M185 100 L 150.0 100\" stroke=\"bkac\" stroke-width=\"2px\" id='edge2'   /> <line x1=\"185\" y1=\"100\" x2=\"167.5\" y2=\"100.0\" stroke=\"bkac\" stroke-width=\"2px\"  id='edge2'   marker-end='url(#arrow)' /><path d=\"M167 130 L 150.0 100\" stroke=\"orange\" stroke-width=\"2px\" id='edge3'   /> <line x1=\"167\" y1=\"130\" x2=\"158.5\" y2=\"115.0\" stroke=\"orange\" stroke-width=\"2px\"  id='edge3'   marker-end='url(#arroworange)' /><path d=\"M150.0 100 L 115 100\" stroke=\"orange\" stroke-width=\"2px\" id='edge4'   /> <line x1=\"150.0\" y1=\"100\" x2=\"132.5\" y2=\"100.0\" stroke=\"orange\" stroke-width=\"2px\"  id='edge4'   marker-end='url(#arroworange)' /><path d=\"M150.0 100 L 125 75\" stroke=\"bkac\" stroke-width=\"2px\" id='edge5'   /> <line x1=\"150.0\" y1=\"100\" x2=\"137.5\" y2=\"87.5\" stroke=\"bkac\" stroke-width=\"2px\"  id='edge5'   marker-end='url(#arrow)' /><path d=\"M150.0 100 L 150 65\" stroke=\"orange\" stroke-width=\"2px\" id='edge6'   /> <line x1=\"150.0\" y1=\"100\" x2=\"150.0\" y2=\"82.5\" stroke=\"orange\" stroke-width=\"2px\"  id='edge6'   marker-end='url(#arroworange)' /><path d=\"M125 75 L 85 100\" stroke=\"grey\" stroke-width=\"2px\"  stroke-dasharray='1,7'  /> <line x1=\"125\" y1=\"75\" x2=\"105.0\" y2=\"87.5\" stroke=\"grey\" stroke-width=\"2px\"   stroke-dasharray='1,7'  marker-end='url(#arrowgrey)' /><path d=\"M150 65 L 67 130\" stroke=\"grey\" stroke-width=\"2px\"  stroke-dasharray='1,7'  /> <line x1=\"150\" y1=\"65\" x2=\"108.5\" y2=\"97.5\" stroke=\"grey\" stroke-width=\"2px\"   stroke-dasharray='1,7'  marker-end='url(#arrowgrey)' />  </g> </svg></td><td><svg xmlns=\"http://www.w3.org/2000/svg\" xmlns:xlink=\"http://www.w3.org/1999/xlink\" version=\"1.1\" x=\"0\" y=\"0\" width=\"300\" height=\"150\">\n",
       "      <g fill=\"none\" stroke=\"black\" stroke-width=\"1.6\" stroke-linecap=\"round\" transform=\"rotate(0,150.0,75.0) \"> <defs><marker id=\"arrow\"  markerUnits=\"strokeWidth\" markerWidth='5' markerHeight='8' refX='0' refY='2' orient=\"auto\" stroke=\"black\" >\n",
       "                                      <path d=\"M0,0 V4 L2,2 Z\" style=\"fill: #000000;\" /> </marker>\n",
       "                                      <marker id=\"arrowgrey\"  markerUnits=\"strokeWidth\" markerWidth='5' markerHeight='8' refX='0' refY='2' orient=\"auto\" stroke=\"grey\" >\n",
       "                                      <path d=\"M0,0 V4 L2,2 Z\" style=\"fill: #000000;\" /> </marker>\n",
       "                                      <marker id=\"arroworange\"  markerUnits=\"strokeWidth\" markerWidth='5' markerHeight='8' refX='0' refY='2' orient=\"auto\" stroke=\"orange\" >\n",
       "                                      <path d=\"M0,0 V4 L2,2 Z\" style=\"fill: #000000;\" /> </marker>\n",
       "                                      </defs><circle cx=\"50.0\" cy=\"100\" r=\"2.5\" stroke=\"black\" stroke-width=\"2\" fill=\"black\" /> <path d=\"M85 100 L 50.0 100\" stroke=\"bkac\" stroke-width=\"2px\" id='edge3'   /> <line x1=\"85\" y1=\"100\" x2=\"67.5\" y2=\"100.0\" stroke=\"bkac\" stroke-width=\"2px\"  id='edge3'   marker-end='url(#arrow)' /><path d=\"M67 130 L 50.0 100\" stroke=\"orange\" stroke-width=\"2px\" id='edge4'   /> <line x1=\"67\" y1=\"130\" x2=\"58.5\" y2=\"115.0\" stroke=\"orange\" stroke-width=\"2px\"  id='edge4'   marker-end='url(#arroworange)' /><path d=\"M50.0 100 L 15 100\" stroke=\"orange\" stroke-width=\"2px\" id='edge0'   /> <line x1=\"50.0\" y1=\"100\" x2=\"32.5\" y2=\"100.0\" stroke=\"orange\" stroke-width=\"2px\"  id='edge0'   marker-end='url(#arroworange)' /><path d=\"M50.0 100 L 32 69\" stroke=\"orange\" stroke-width=\"2px\" id='edge1'   /> <line x1=\"50.0\" y1=\"100\" x2=\"41.0\" y2=\"84.5\" stroke=\"orange\" stroke-width=\"2px\"  id='edge1'   marker-end='url(#arroworange)' /><circle cx=\"150.0\" cy=\"100\" r=\"2.5\" stroke=\"black\" stroke-width=\"2\" fill=\"black\" /> <path d=\"M185 100 L 150.0 100\" stroke=\"bkac\" stroke-width=\"2px\" id='edge2'   /> <line x1=\"185\" y1=\"100\" x2=\"167.5\" y2=\"100.0\" stroke=\"bkac\" stroke-width=\"2px\"  id='edge2'   marker-end='url(#arrow)' /><path d=\"M150.0 100 L 115 100\" stroke=\"bkac\" stroke-width=\"2px\" id='edge3'   /> <line x1=\"150.0\" y1=\"100\" x2=\"132.5\" y2=\"100.0\" stroke=\"bkac\" stroke-width=\"2px\"  id='edge3'   marker-end='url(#arrow)' /><path d=\"M150.0 100 L 132 69\" stroke=\"orange\" stroke-width=\"2px\" id='edge4'   /> <line x1=\"150.0\" y1=\"100\" x2=\"141.0\" y2=\"84.5\" stroke=\"orange\" stroke-width=\"2px\"  id='edge4'   marker-end='url(#arroworange)' /><path d=\"M115 100 L 85 100\" stroke=\"grey\" stroke-width=\"2px\"  stroke-dasharray='1,7'  /> <line x1=\"115\" y1=\"100\" x2=\"100.0\" y2=\"100.0\" stroke=\"grey\" stroke-width=\"2px\"   stroke-dasharray='1,7'  marker-end='url(#arrowgrey)' /><path d=\"M132 69 L 67 130\" stroke=\"grey\" stroke-width=\"2px\"  stroke-dasharray='1,7'  /> <line x1=\"132\" y1=\"69\" x2=\"99.5\" y2=\"99.5\" stroke=\"grey\" stroke-width=\"2px\"   stroke-dasharray='1,7'  marker-end='url(#arrowgrey)' />  </g> </svg></td></tr><tr style='background:white'><td><svg xmlns=\"http://www.w3.org/2000/svg\" xmlns:xlink=\"http://www.w3.org/1999/xlink\" version=\"1.1\" x=\"0\" y=\"0\" width=\"300\" height=\"150\">\n",
       "      <g fill=\"none\" stroke=\"black\" stroke-width=\"1.6\" stroke-linecap=\"round\" transform=\"rotate(0,150.0,75.0) \"> <defs><marker id=\"arrow\"  markerUnits=\"strokeWidth\" markerWidth='5' markerHeight='8' refX='0' refY='2' orient=\"auto\" stroke=\"black\" >\n",
       "                                      <path d=\"M0,0 V4 L2,2 Z\" style=\"fill: #000000;\" /> </marker>\n",
       "                                      <marker id=\"arrowgrey\"  markerUnits=\"strokeWidth\" markerWidth='5' markerHeight='8' refX='0' refY='2' orient=\"auto\" stroke=\"grey\" >\n",
       "                                      <path d=\"M0,0 V4 L2,2 Z\" style=\"fill: #000000;\" /> </marker>\n",
       "                                      <marker id=\"arroworange\"  markerUnits=\"strokeWidth\" markerWidth='5' markerHeight='8' refX='0' refY='2' orient=\"auto\" stroke=\"orange\" >\n",
       "                                      <path d=\"M0,0 V4 L2,2 Z\" style=\"fill: #000000;\" /> </marker>\n",
       "                                      </defs><circle cx=\"50.0\" cy=\"100\" r=\"2.5\" stroke=\"black\" stroke-width=\"2\" fill=\"black\" /> <path d=\"M85 100 L 50.0 100\" stroke=\"bkac\" stroke-width=\"2px\" id='edge4'   /> <line x1=\"85\" y1=\"100\" x2=\"67.5\" y2=\"100.0\" stroke=\"bkac\" stroke-width=\"2px\"  id='edge4'   marker-end='url(#arrow)' /><path d=\"M67 130 L 50.0 100\" stroke=\"orange\" stroke-width=\"2px\" id='edge5'   /> <line x1=\"67\" y1=\"130\" x2=\"58.5\" y2=\"115.0\" stroke=\"orange\" stroke-width=\"2px\"  id='edge5'   marker-end='url(#arroworange)' /><path d=\"M50.0 100 L 15 100\" stroke=\"orange\" stroke-width=\"2px\" id='edge0'   /> <line x1=\"50.0\" y1=\"100\" x2=\"32.5\" y2=\"100.0\" stroke=\"orange\" stroke-width=\"2px\"  id='edge0'   marker-end='url(#arroworange)' /><path d=\"M50.0 100 L 32 69\" stroke=\"orange\" stroke-width=\"2px\" id='edge1'   /> <line x1=\"50.0\" y1=\"100\" x2=\"41.0\" y2=\"84.5\" stroke=\"orange\" stroke-width=\"2px\"  id='edge1'   marker-end='url(#arroworange)' /><circle cx=\"150.0\" cy=\"100\" r=\"2.5\" stroke=\"black\" stroke-width=\"2\" fill=\"black\" /> <path d=\"M185 100 L 150.0 100\" stroke=\"bkac\" stroke-width=\"2px\" id='edge2'   /> <line x1=\"185\" y1=\"100\" x2=\"167.5\" y2=\"100.0\" stroke=\"bkac\" stroke-width=\"2px\"  id='edge2'   marker-end='url(#arrow)' /><path d=\"M167 130 L 150.0 100\" stroke=\"orange\" stroke-width=\"2px\" id='edge3'   /> <line x1=\"167\" y1=\"130\" x2=\"158.5\" y2=\"115.0\" stroke=\"orange\" stroke-width=\"2px\"  id='edge3'   marker-end='url(#arroworange)' /><path d=\"M150.0 100 L 115 100\" stroke=\"bkac\" stroke-width=\"2px\" id='edge4'   /> <line x1=\"150.0\" y1=\"100\" x2=\"132.5\" y2=\"100.0\" stroke=\"bkac\" stroke-width=\"2px\"  id='edge4'   marker-end='url(#arrow)' /><path d=\"M150.0 100 L 132 69\" stroke=\"orange\" stroke-width=\"2px\" id='edge5'   /> <line x1=\"150.0\" y1=\"100\" x2=\"141.0\" y2=\"84.5\" stroke=\"orange\" stroke-width=\"2px\"  id='edge5'   marker-end='url(#arroworange)' /><path d=\"M115 100 L 85 100\" stroke=\"grey\" stroke-width=\"2px\"  stroke-dasharray='1,7'  /> <line x1=\"115\" y1=\"100\" x2=\"100.0\" y2=\"100.0\" stroke=\"grey\" stroke-width=\"2px\"   stroke-dasharray='1,7'  marker-end='url(#arrowgrey)' /><path d=\"M132 69 L 67 130\" stroke=\"grey\" stroke-width=\"2px\"  stroke-dasharray='1,7'  /> <line x1=\"132\" y1=\"69\" x2=\"99.5\" y2=\"99.5\" stroke=\"grey\" stroke-width=\"2px\"   stroke-dasharray='1,7'  marker-end='url(#arrowgrey)' />  </g> </svg></td><td><svg xmlns=\"http://www.w3.org/2000/svg\" xmlns:xlink=\"http://www.w3.org/1999/xlink\" version=\"1.1\" x=\"0\" y=\"0\" width=\"300\" height=\"150\">\n",
       "      <g fill=\"none\" stroke=\"black\" stroke-width=\"1.6\" stroke-linecap=\"round\" transform=\"rotate(0,150.0,75.0) \"> <defs><marker id=\"arrow\"  markerUnits=\"strokeWidth\" markerWidth='5' markerHeight='8' refX='0' refY='2' orient=\"auto\" stroke=\"black\" >\n",
       "                                      <path d=\"M0,0 V4 L2,2 Z\" style=\"fill: #000000;\" /> </marker>\n",
       "                                      <marker id=\"arrowgrey\"  markerUnits=\"strokeWidth\" markerWidth='5' markerHeight='8' refX='0' refY='2' orient=\"auto\" stroke=\"grey\" >\n",
       "                                      <path d=\"M0,0 V4 L2,2 Z\" style=\"fill: #000000;\" /> </marker>\n",
       "                                      <marker id=\"arroworange\"  markerUnits=\"strokeWidth\" markerWidth='5' markerHeight='8' refX='0' refY='2' orient=\"auto\" stroke=\"orange\" >\n",
       "                                      <path d=\"M0,0 V4 L2,2 Z\" style=\"fill: #000000;\" /> </marker>\n",
       "                                      </defs><circle cx=\"50.0\" cy=\"100\" r=\"2.5\" stroke=\"black\" stroke-width=\"2\" fill=\"black\" /> <path d=\"M85 100 L 50.0 100\" stroke=\"bkac\" stroke-width=\"2px\" id='edge4'   /> <line x1=\"85\" y1=\"100\" x2=\"67.5\" y2=\"100.0\" stroke=\"bkac\" stroke-width=\"2px\"  id='edge4'   marker-end='url(#arrow)' /><path d=\"M67 130 L 50.0 100\" stroke=\"orange\" stroke-width=\"2px\" id='edge5'   /> <line x1=\"67\" y1=\"130\" x2=\"58.5\" y2=\"115.0\" stroke=\"orange\" stroke-width=\"2px\"  id='edge5'   marker-end='url(#arroworange)' /><path d=\"M50.0 100 L 15 100\" stroke=\"orange\" stroke-width=\"2px\" id='edge0'   /> <line x1=\"50.0\" y1=\"100\" x2=\"32.5\" y2=\"100.0\" stroke=\"orange\" stroke-width=\"2px\"  id='edge0'   marker-end='url(#arroworange)' /><path d=\"M50.0 100 L 32 69\" stroke=\"orange\" stroke-width=\"2px\" id='edge1'   /> <line x1=\"50.0\" y1=\"100\" x2=\"41.0\" y2=\"84.5\" stroke=\"orange\" stroke-width=\"2px\"  id='edge1'   marker-end='url(#arroworange)' /><circle cx=\"150.0\" cy=\"100\" r=\"2.5\" stroke=\"black\" stroke-width=\"2\" fill=\"black\" /> <path d=\"M185 100 L 150.0 100\" stroke=\"orange\" stroke-width=\"2px\" id='edge2'   /> <line x1=\"185\" y1=\"100\" x2=\"167.5\" y2=\"100.0\" stroke=\"orange\" stroke-width=\"2px\"  id='edge2'   marker-end='url(#arroworange)' /><path d=\"M150.0 100 L 115 100\" stroke=\"orange\" stroke-width=\"2px\" id='edge3'   /> <line x1=\"150.0\" y1=\"100\" x2=\"132.5\" y2=\"100.0\" stroke=\"orange\" stroke-width=\"2px\"  id='edge3'   marker-end='url(#arroworange)' /><path d=\"M150.0 100 L 125 75\" stroke=\"bkac\" stroke-width=\"2px\" id='edge4'   /> <line x1=\"150.0\" y1=\"100\" x2=\"137.5\" y2=\"87.5\" stroke=\"bkac\" stroke-width=\"2px\"  id='edge4'   marker-end='url(#arrow)' /><path d=\"M150.0 100 L 150 65\" stroke=\"orange\" stroke-width=\"2px\" id='edge5'   /> <line x1=\"150.0\" y1=\"100\" x2=\"150.0\" y2=\"82.5\" stroke=\"orange\" stroke-width=\"2px\"  id='edge5'   marker-end='url(#arroworange)' /><path d=\"M125 75 L 85 100\" stroke=\"grey\" stroke-width=\"2px\"  stroke-dasharray='1,7'  /> <line x1=\"125\" y1=\"75\" x2=\"105.0\" y2=\"87.5\" stroke=\"grey\" stroke-width=\"2px\"   stroke-dasharray='1,7'  marker-end='url(#arrowgrey)' /><path d=\"M150 65 L 67 130\" stroke=\"grey\" stroke-width=\"2px\"  stroke-dasharray='1,7'  /> <line x1=\"150\" y1=\"65\" x2=\"108.5\" y2=\"97.5\" stroke=\"grey\" stroke-width=\"2px\"   stroke-dasharray='1,7'  marker-end='url(#arrowgrey)' />  </g> </svg></td><td><svg xmlns=\"http://www.w3.org/2000/svg\" xmlns:xlink=\"http://www.w3.org/1999/xlink\" version=\"1.1\" x=\"0\" y=\"0\" width=\"300\" height=\"150\">\n",
       "      <g fill=\"none\" stroke=\"black\" stroke-width=\"1.6\" stroke-linecap=\"round\" transform=\"rotate(0,150.0,75.0) \"> <defs><marker id=\"arrow\"  markerUnits=\"strokeWidth\" markerWidth='5' markerHeight='8' refX='0' refY='2' orient=\"auto\" stroke=\"black\" >\n",
       "                                      <path d=\"M0,0 V4 L2,2 Z\" style=\"fill: #000000;\" /> </marker>\n",
       "                                      <marker id=\"arrowgrey\"  markerUnits=\"strokeWidth\" markerWidth='5' markerHeight='8' refX='0' refY='2' orient=\"auto\" stroke=\"grey\" >\n",
       "                                      <path d=\"M0,0 V4 L2,2 Z\" style=\"fill: #000000;\" /> </marker>\n",
       "                                      <marker id=\"arroworange\"  markerUnits=\"strokeWidth\" markerWidth='5' markerHeight='8' refX='0' refY='2' orient=\"auto\" stroke=\"orange\" >\n",
       "                                      <path d=\"M0,0 V4 L2,2 Z\" style=\"fill: #000000;\" /> </marker>\n",
       "                                      </defs><circle cx=\"50.0\" cy=\"100\" r=\"2.5\" stroke=\"black\" stroke-width=\"2\" fill=\"black\" /> <path d=\"M85 100 L 50.0 100\" stroke=\"bkac\" stroke-width=\"2px\" id='edge5'   /> <line x1=\"85\" y1=\"100\" x2=\"67.5\" y2=\"100.0\" stroke=\"bkac\" stroke-width=\"2px\"  id='edge5'   marker-end='url(#arrow)' /><path d=\"M67 130 L 50.0 100\" stroke=\"orange\" stroke-width=\"2px\" id='edge6'   /> <line x1=\"67\" y1=\"130\" x2=\"58.5\" y2=\"115.0\" stroke=\"orange\" stroke-width=\"2px\"  id='edge6'   marker-end='url(#arroworange)' /><path d=\"M50.0 100 L 15 100\" stroke=\"orange\" stroke-width=\"2px\" id='edge0'   /> <line x1=\"50.0\" y1=\"100\" x2=\"32.5\" y2=\"100.0\" stroke=\"orange\" stroke-width=\"2px\"  id='edge0'   marker-end='url(#arroworange)' /><path d=\"M50.0 100 L 32 69\" stroke=\"orange\" stroke-width=\"2px\" id='edge1'   /> <line x1=\"50.0\" y1=\"100\" x2=\"41.0\" y2=\"84.5\" stroke=\"orange\" stroke-width=\"2px\"  id='edge1'   marker-end='url(#arroworange)' /><circle cx=\"150.0\" cy=\"100\" r=\"2.5\" stroke=\"black\" stroke-width=\"2\" fill=\"black\" /> <path d=\"M185 100 L 150.0 100\" stroke=\"bkac\" stroke-width=\"2px\" id='edge2'   /> <line x1=\"185\" y1=\"100\" x2=\"167.5\" y2=\"100.0\" stroke=\"bkac\" stroke-width=\"2px\"  id='edge2'   marker-end='url(#arrow)' /><path d=\"M167 130 L 150.0 100\" stroke=\"orange\" stroke-width=\"2px\" id='edge3'   /> <line x1=\"167\" y1=\"130\" x2=\"158.5\" y2=\"115.0\" stroke=\"orange\" stroke-width=\"2px\"  id='edge3'   marker-end='url(#arroworange)' /><path d=\"M150.0 100 L 115 100\" stroke=\"orange\" stroke-width=\"2px\" id='edge4'   /> <line x1=\"150.0\" y1=\"100\" x2=\"132.5\" y2=\"100.0\" stroke=\"orange\" stroke-width=\"2px\"  id='edge4'   marker-end='url(#arroworange)' /><path d=\"M150.0 100 L 125 75\" stroke=\"bkac\" stroke-width=\"2px\" id='edge5'   /> <line x1=\"150.0\" y1=\"100\" x2=\"137.5\" y2=\"87.5\" stroke=\"bkac\" stroke-width=\"2px\"  id='edge5'   marker-end='url(#arrow)' /><path d=\"M150.0 100 L 150 65\" stroke=\"orange\" stroke-width=\"2px\" id='edge6'   /> <line x1=\"150.0\" y1=\"100\" x2=\"150.0\" y2=\"82.5\" stroke=\"orange\" stroke-width=\"2px\"  id='edge6'   marker-end='url(#arroworange)' /><path d=\"M125 75 L 85 100\" stroke=\"grey\" stroke-width=\"2px\"  stroke-dasharray='1,7'  /> <line x1=\"125\" y1=\"75\" x2=\"105.0\" y2=\"87.5\" stroke=\"grey\" stroke-width=\"2px\"   stroke-dasharray='1,7'  marker-end='url(#arrowgrey)' /><path d=\"M150 65 L 67 130\" stroke=\"grey\" stroke-width=\"2px\"  stroke-dasharray='1,7'  /> <line x1=\"150\" y1=\"65\" x2=\"108.5\" y2=\"97.5\" stroke=\"grey\" stroke-width=\"2px\"   stroke-dasharray='1,7'  marker-end='url(#arrowgrey)' />  </g> </svg></td><td><svg xmlns=\"http://www.w3.org/2000/svg\" xmlns:xlink=\"http://www.w3.org/1999/xlink\" version=\"1.1\" x=\"0\" y=\"0\" width=\"300\" height=\"150\">\n",
       "      <g fill=\"none\" stroke=\"black\" stroke-width=\"1.6\" stroke-linecap=\"round\" transform=\"rotate(0,150.0,75.0) \"> <defs><marker id=\"arrow\"  markerUnits=\"strokeWidth\" markerWidth='5' markerHeight='8' refX='0' refY='2' orient=\"auto\" stroke=\"black\" >\n",
       "                                      <path d=\"M0,0 V4 L2,2 Z\" style=\"fill: #000000;\" /> </marker>\n",
       "                                      <marker id=\"arrowgrey\"  markerUnits=\"strokeWidth\" markerWidth='5' markerHeight='8' refX='0' refY='2' orient=\"auto\" stroke=\"grey\" >\n",
       "                                      <path d=\"M0,0 V4 L2,2 Z\" style=\"fill: #000000;\" /> </marker>\n",
       "                                      <marker id=\"arroworange\"  markerUnits=\"strokeWidth\" markerWidth='5' markerHeight='8' refX='0' refY='2' orient=\"auto\" stroke=\"orange\" >\n",
       "                                      <path d=\"M0,0 V4 L2,2 Z\" style=\"fill: #000000;\" /> </marker>\n",
       "                                      </defs><circle cx=\"50.0\" cy=\"100\" r=\"2.5\" stroke=\"black\" stroke-width=\"2\" fill=\"black\" /> <path d=\"M85 100 L 50.0 100\" stroke=\"bkac\" stroke-width=\"2px\" id='edge4'   /> <line x1=\"85\" y1=\"100\" x2=\"67.5\" y2=\"100.0\" stroke=\"bkac\" stroke-width=\"2px\"  id='edge4'   marker-end='url(#arrow)' /><path d=\"M67 130 L 50.0 100\" stroke=\"orange\" stroke-width=\"2px\" id='edge5'   /> <line x1=\"67\" y1=\"130\" x2=\"58.5\" y2=\"115.0\" stroke=\"orange\" stroke-width=\"2px\"  id='edge5'   marker-end='url(#arroworange)' /><path d=\"M50.0 100 L 15 100\" stroke=\"bkac\" stroke-width=\"2px\" id='edge0'   /> <line x1=\"50.0\" y1=\"100\" x2=\"32.5\" y2=\"100.0\" stroke=\"bkac\" stroke-width=\"2px\"  id='edge0'   marker-end='url(#arrow)' /><path d=\"M50.0 100 L 25 75\" stroke=\"orange\" stroke-width=\"2px\" id='edge1'   /> <line x1=\"50.0\" y1=\"100\" x2=\"37.5\" y2=\"87.5\" stroke=\"orange\" stroke-width=\"2px\"  id='edge1'   marker-end='url(#arroworange)' /><path d=\"M50.0 100 L 49 65\" stroke=\"orange\" stroke-width=\"2px\" id='edge2'   /> <line x1=\"50.0\" y1=\"100\" x2=\"49.5\" y2=\"82.5\" stroke=\"orange\" stroke-width=\"2px\"  id='edge2'   marker-end='url(#arroworange)' /><circle cx=\"150.0\" cy=\"100\" r=\"2.5\" stroke=\"black\" stroke-width=\"2\" fill=\"black\" /> <path d=\"M185 100 L 150.0 100\" stroke=\"bkac\" stroke-width=\"2px\" id='edge3'   /> <line x1=\"185\" y1=\"100\" x2=\"167.5\" y2=\"100.0\" stroke=\"bkac\" stroke-width=\"2px\"  id='edge3'   marker-end='url(#arrow)' /><path d=\"M150.0 100 L 115 100\" stroke=\"bkac\" stroke-width=\"2px\" id='edge4'   /> <line x1=\"150.0\" y1=\"100\" x2=\"132.5\" y2=\"100.0\" stroke=\"bkac\" stroke-width=\"2px\"  id='edge4'   marker-end='url(#arrow)' /><path d=\"M150.0 100 L 132 69\" stroke=\"orange\" stroke-width=\"2px\" id='edge5'   /> <line x1=\"150.0\" y1=\"100\" x2=\"141.0\" y2=\"84.5\" stroke=\"orange\" stroke-width=\"2px\"  id='edge5'   marker-end='url(#arroworange)' /><path d=\"M115 100 L 85 100\" stroke=\"grey\" stroke-width=\"2px\"  stroke-dasharray='1,7'  /> <line x1=\"115\" y1=\"100\" x2=\"100.0\" y2=\"100.0\" stroke=\"grey\" stroke-width=\"2px\"   stroke-dasharray='1,7'  marker-end='url(#arrowgrey)' /><path d=\"M132 69 L 67 130\" stroke=\"grey\" stroke-width=\"2px\"  stroke-dasharray='1,7'  /> <line x1=\"132\" y1=\"69\" x2=\"99.5\" y2=\"99.5\" stroke=\"grey\" stroke-width=\"2px\"   stroke-dasharray='1,7'  marker-end='url(#arrowgrey)' />  </g> </svg></td></tr><tr style='background:white'><td><svg xmlns=\"http://www.w3.org/2000/svg\" xmlns:xlink=\"http://www.w3.org/1999/xlink\" version=\"1.1\" x=\"0\" y=\"0\" width=\"300\" height=\"150\">\n",
       "      <g fill=\"none\" stroke=\"black\" stroke-width=\"1.6\" stroke-linecap=\"round\" transform=\"rotate(0,150.0,75.0) \"> <defs><marker id=\"arrow\"  markerUnits=\"strokeWidth\" markerWidth='5' markerHeight='8' refX='0' refY='2' orient=\"auto\" stroke=\"black\" >\n",
       "                                      <path d=\"M0,0 V4 L2,2 Z\" style=\"fill: #000000;\" /> </marker>\n",
       "                                      <marker id=\"arrowgrey\"  markerUnits=\"strokeWidth\" markerWidth='5' markerHeight='8' refX='0' refY='2' orient=\"auto\" stroke=\"grey\" >\n",
       "                                      <path d=\"M0,0 V4 L2,2 Z\" style=\"fill: #000000;\" /> </marker>\n",
       "                                      <marker id=\"arroworange\"  markerUnits=\"strokeWidth\" markerWidth='5' markerHeight='8' refX='0' refY='2' orient=\"auto\" stroke=\"orange\" >\n",
       "                                      <path d=\"M0,0 V4 L2,2 Z\" style=\"fill: #000000;\" /> </marker>\n",
       "                                      </defs><circle cx=\"50.0\" cy=\"100\" r=\"2.5\" stroke=\"black\" stroke-width=\"2\" fill=\"black\" /> <path d=\"M85 100 L 50.0 100\" stroke=\"bkac\" stroke-width=\"2px\" id='edge5'   /> <line x1=\"85\" y1=\"100\" x2=\"67.5\" y2=\"100.0\" stroke=\"bkac\" stroke-width=\"2px\"  id='edge5'   marker-end='url(#arrow)' /><path d=\"M67 130 L 50.0 100\" stroke=\"orange\" stroke-width=\"2px\" id='edge6'   /> <line x1=\"67\" y1=\"130\" x2=\"58.5\" y2=\"115.0\" stroke=\"orange\" stroke-width=\"2px\"  id='edge6'   marker-end='url(#arroworange)' /><path d=\"M50.0 100 L 15 100\" stroke=\"bkac\" stroke-width=\"2px\" id='edge0'   /> <line x1=\"50.0\" y1=\"100\" x2=\"32.5\" y2=\"100.0\" stroke=\"bkac\" stroke-width=\"2px\"  id='edge0'   marker-end='url(#arrow)' /><path d=\"M50.0 100 L 25 75\" stroke=\"orange\" stroke-width=\"2px\" id='edge1'   /> <line x1=\"50.0\" y1=\"100\" x2=\"37.5\" y2=\"87.5\" stroke=\"orange\" stroke-width=\"2px\"  id='edge1'   marker-end='url(#arroworange)' /><path d=\"M50.0 100 L 49 65\" stroke=\"orange\" stroke-width=\"2px\" id='edge2'   /> <line x1=\"50.0\" y1=\"100\" x2=\"49.5\" y2=\"82.5\" stroke=\"orange\" stroke-width=\"2px\"  id='edge2'   marker-end='url(#arroworange)' /><circle cx=\"150.0\" cy=\"100\" r=\"2.5\" stroke=\"black\" stroke-width=\"2\" fill=\"black\" /> <path d=\"M185 100 L 150.0 100\" stroke=\"bkac\" stroke-width=\"2px\" id='edge3'   /> <line x1=\"185\" y1=\"100\" x2=\"167.5\" y2=\"100.0\" stroke=\"bkac\" stroke-width=\"2px\"  id='edge3'   marker-end='url(#arrow)' /><path d=\"M167 130 L 150.0 100\" stroke=\"orange\" stroke-width=\"2px\" id='edge4'   /> <line x1=\"167\" y1=\"130\" x2=\"158.5\" y2=\"115.0\" stroke=\"orange\" stroke-width=\"2px\"  id='edge4'   marker-end='url(#arroworange)' /><path d=\"M150.0 100 L 115 100\" stroke=\"bkac\" stroke-width=\"2px\" id='edge5'   /> <line x1=\"150.0\" y1=\"100\" x2=\"132.5\" y2=\"100.0\" stroke=\"bkac\" stroke-width=\"2px\"  id='edge5'   marker-end='url(#arrow)' /><path d=\"M150.0 100 L 132 69\" stroke=\"orange\" stroke-width=\"2px\" id='edge6'   /> <line x1=\"150.0\" y1=\"100\" x2=\"141.0\" y2=\"84.5\" stroke=\"orange\" stroke-width=\"2px\"  id='edge6'   marker-end='url(#arroworange)' /><path d=\"M115 100 L 85 100\" stroke=\"grey\" stroke-width=\"2px\"  stroke-dasharray='1,7'  /> <line x1=\"115\" y1=\"100\" x2=\"100.0\" y2=\"100.0\" stroke=\"grey\" stroke-width=\"2px\"   stroke-dasharray='1,7'  marker-end='url(#arrowgrey)' /><path d=\"M132 69 L 67 130\" stroke=\"grey\" stroke-width=\"2px\"  stroke-dasharray='1,7'  /> <line x1=\"132\" y1=\"69\" x2=\"99.5\" y2=\"99.5\" stroke=\"grey\" stroke-width=\"2px\"   stroke-dasharray='1,7'  marker-end='url(#arrowgrey)' />  </g> </svg></td><td><svg xmlns=\"http://www.w3.org/2000/svg\" xmlns:xlink=\"http://www.w3.org/1999/xlink\" version=\"1.1\" x=\"0\" y=\"0\" width=\"300\" height=\"150\">\n",
       "      <g fill=\"none\" stroke=\"black\" stroke-width=\"1.6\" stroke-linecap=\"round\" transform=\"rotate(0,150.0,75.0) \"> <defs><marker id=\"arrow\"  markerUnits=\"strokeWidth\" markerWidth='5' markerHeight='8' refX='0' refY='2' orient=\"auto\" stroke=\"black\" >\n",
       "                                      <path d=\"M0,0 V4 L2,2 Z\" style=\"fill: #000000;\" /> </marker>\n",
       "                                      <marker id=\"arrowgrey\"  markerUnits=\"strokeWidth\" markerWidth='5' markerHeight='8' refX='0' refY='2' orient=\"auto\" stroke=\"grey\" >\n",
       "                                      <path d=\"M0,0 V4 L2,2 Z\" style=\"fill: #000000;\" /> </marker>\n",
       "                                      <marker id=\"arroworange\"  markerUnits=\"strokeWidth\" markerWidth='5' markerHeight='8' refX='0' refY='2' orient=\"auto\" stroke=\"orange\" >\n",
       "                                      <path d=\"M0,0 V4 L2,2 Z\" style=\"fill: #000000;\" /> </marker>\n",
       "                                      </defs><circle cx=\"50.0\" cy=\"100\" r=\"2.5\" stroke=\"black\" stroke-width=\"2\" fill=\"black\" /> <path d=\"M85 100 L 50.0 100\" stroke=\"bkac\" stroke-width=\"2px\" id='edge5'   /> <line x1=\"85\" y1=\"100\" x2=\"67.5\" y2=\"100.0\" stroke=\"bkac\" stroke-width=\"2px\"  id='edge5'   marker-end='url(#arrow)' /><path d=\"M67 130 L 50.0 100\" stroke=\"orange\" stroke-width=\"2px\" id='edge6'   /> <line x1=\"67\" y1=\"130\" x2=\"58.5\" y2=\"115.0\" stroke=\"orange\" stroke-width=\"2px\"  id='edge6'   marker-end='url(#arroworange)' /><path d=\"M50.0 100 L 15 100\" stroke=\"bkac\" stroke-width=\"2px\" id='edge0'   /> <line x1=\"50.0\" y1=\"100\" x2=\"32.5\" y2=\"100.0\" stroke=\"bkac\" stroke-width=\"2px\"  id='edge0'   marker-end='url(#arrow)' /><path d=\"M50.0 100 L 25 75\" stroke=\"orange\" stroke-width=\"2px\" id='edge1'   /> <line x1=\"50.0\" y1=\"100\" x2=\"37.5\" y2=\"87.5\" stroke=\"orange\" stroke-width=\"2px\"  id='edge1'   marker-end='url(#arroworange)' /><path d=\"M50.0 100 L 49 65\" stroke=\"orange\" stroke-width=\"2px\" id='edge2'   /> <line x1=\"50.0\" y1=\"100\" x2=\"49.5\" y2=\"82.5\" stroke=\"orange\" stroke-width=\"2px\"  id='edge2'   marker-end='url(#arroworange)' /><circle cx=\"150.0\" cy=\"100\" r=\"2.5\" stroke=\"black\" stroke-width=\"2\" fill=\"black\" /> <path d=\"M185 100 L 150.0 100\" stroke=\"orange\" stroke-width=\"2px\" id='edge3'   /> <line x1=\"185\" y1=\"100\" x2=\"167.5\" y2=\"100.0\" stroke=\"orange\" stroke-width=\"2px\"  id='edge3'   marker-end='url(#arroworange)' /><path d=\"M150.0 100 L 115 100\" stroke=\"orange\" stroke-width=\"2px\" id='edge4'   /> <line x1=\"150.0\" y1=\"100\" x2=\"132.5\" y2=\"100.0\" stroke=\"orange\" stroke-width=\"2px\"  id='edge4'   marker-end='url(#arroworange)' /><path d=\"M150.0 100 L 125 75\" stroke=\"bkac\" stroke-width=\"2px\" id='edge5'   /> <line x1=\"150.0\" y1=\"100\" x2=\"137.5\" y2=\"87.5\" stroke=\"bkac\" stroke-width=\"2px\"  id='edge5'   marker-end='url(#arrow)' /><path d=\"M150.0 100 L 150 65\" stroke=\"orange\" stroke-width=\"2px\" id='edge6'   /> <line x1=\"150.0\" y1=\"100\" x2=\"150.0\" y2=\"82.5\" stroke=\"orange\" stroke-width=\"2px\"  id='edge6'   marker-end='url(#arroworange)' /><path d=\"M125 75 L 85 100\" stroke=\"grey\" stroke-width=\"2px\"  stroke-dasharray='1,7'  /> <line x1=\"125\" y1=\"75\" x2=\"105.0\" y2=\"87.5\" stroke=\"grey\" stroke-width=\"2px\"   stroke-dasharray='1,7'  marker-end='url(#arrowgrey)' /><path d=\"M150 65 L 67 130\" stroke=\"grey\" stroke-width=\"2px\"  stroke-dasharray='1,7'  /> <line x1=\"150\" y1=\"65\" x2=\"108.5\" y2=\"97.5\" stroke=\"grey\" stroke-width=\"2px\"   stroke-dasharray='1,7'  marker-end='url(#arrowgrey)' />  </g> </svg></td></tr><tr style='background:white'></tr></table>"
      ],
      "text/plain": [
       "<rg.graph.viz.tabulate_graphs at 0x1d1e3421be0>"
      ]
     },
     "execution_count": 39,
     "metadata": {},
     "output_type": "execute_result"
    }
   ],
   "source": [
    "new_guys_with_loops = [n for n in newguys if n.first_betti_number > 0]\n",
    "tabulate_graphs(new_guys_with_loops,options={\"size\": (300,150), \"hide_vinfty\": True}, max_split=5)"
   ]
  },
  {
   "cell_type": "code",
   "execution_count": 37,
   "metadata": {},
   "outputs": [
    {
     "data": {
      "text/html": [
       "<div>\n",
       "<style>\n",
       "    .dataframe thead tr:only-child th {\n",
       "        text-align: right;\n",
       "    }\n",
       "\n",
       "    .dataframe thead th {\n",
       "        text-align: left;\n",
       "    }\n",
       "\n",
       "    .dataframe tbody tr th {\n",
       "        vertical-align: top;\n",
       "    }\n",
       "</style>\n",
       "<table border=\"1\" class=\"dataframe\">\n",
       "  <thead>\n",
       "    <tr style=\"text-align: right;\">\n",
       "      <th></th>\n",
       "      <th>bridges</th>\n",
       "      <th>loops</th>\n",
       "      <th>internal_edges</th>\n",
       "      <th>vertices</th>\n",
       "      <th>ex_edges</th>\n",
       "    </tr>\n",
       "  </thead>\n",
       "  <tbody>\n",
       "    <tr>\n",
       "      <th>309</th>\n",
       "      <td>1</td>\n",
       "      <td>1</td>\n",
       "      <td>3</td>\n",
       "      <td>4</td>\n",
       "      <td>6</td>\n",
       "    </tr>\n",
       "    <tr>\n",
       "      <th>415</th>\n",
       "      <td>1</td>\n",
       "      <td>1</td>\n",
       "      <td>3</td>\n",
       "      <td>4</td>\n",
       "      <td>7</td>\n",
       "    </tr>\n",
       "    <tr>\n",
       "      <th>408</th>\n",
       "      <td>1</td>\n",
       "      <td>1</td>\n",
       "      <td>3</td>\n",
       "      <td>4</td>\n",
       "      <td>9</td>\n",
       "    </tr>\n",
       "    <tr>\n",
       "      <th>409</th>\n",
       "      <td>1</td>\n",
       "      <td>1</td>\n",
       "      <td>3</td>\n",
       "      <td>4</td>\n",
       "      <td>6</td>\n",
       "    </tr>\n",
       "    <tr>\n",
       "      <th>410</th>\n",
       "      <td>1</td>\n",
       "      <td>1</td>\n",
       "      <td>3</td>\n",
       "      <td>4</td>\n",
       "      <td>7</td>\n",
       "    </tr>\n",
       "    <tr>\n",
       "      <th>411</th>\n",
       "      <td>1</td>\n",
       "      <td>1</td>\n",
       "      <td>3</td>\n",
       "      <td>4</td>\n",
       "      <td>8</td>\n",
       "    </tr>\n",
       "    <tr>\n",
       "      <th>412</th>\n",
       "      <td>1</td>\n",
       "      <td>1</td>\n",
       "      <td>3</td>\n",
       "      <td>4</td>\n",
       "      <td>7</td>\n",
       "    </tr>\n",
       "    <tr>\n",
       "      <th>413</th>\n",
       "      <td>1</td>\n",
       "      <td>1</td>\n",
       "      <td>3</td>\n",
       "      <td>4</td>\n",
       "      <td>8</td>\n",
       "    </tr>\n",
       "    <tr>\n",
       "      <th>414</th>\n",
       "      <td>1</td>\n",
       "      <td>1</td>\n",
       "      <td>3</td>\n",
       "      <td>4</td>\n",
       "      <td>9</td>\n",
       "    </tr>\n",
       "    <tr>\n",
       "      <th>416</th>\n",
       "      <td>1</td>\n",
       "      <td>1</td>\n",
       "      <td>3</td>\n",
       "      <td>4</td>\n",
       "      <td>8</td>\n",
       "    </tr>\n",
       "    <tr>\n",
       "      <th>425</th>\n",
       "      <td>1</td>\n",
       "      <td>1</td>\n",
       "      <td>3</td>\n",
       "      <td>4</td>\n",
       "      <td>9</td>\n",
       "    </tr>\n",
       "    <tr>\n",
       "      <th>417</th>\n",
       "      <td>1</td>\n",
       "      <td>1</td>\n",
       "      <td>3</td>\n",
       "      <td>4</td>\n",
       "      <td>8</td>\n",
       "    </tr>\n",
       "    <tr>\n",
       "      <th>418</th>\n",
       "      <td>1</td>\n",
       "      <td>1</td>\n",
       "      <td>3</td>\n",
       "      <td>4</td>\n",
       "      <td>8</td>\n",
       "    </tr>\n",
       "    <tr>\n",
       "      <th>419</th>\n",
       "      <td>2</td>\n",
       "      <td>1</td>\n",
       "      <td>4</td>\n",
       "      <td>4</td>\n",
       "      <td>6</td>\n",
       "    </tr>\n",
       "    <tr>\n",
       "      <th>420</th>\n",
       "      <td>1</td>\n",
       "      <td>1</td>\n",
       "      <td>3</td>\n",
       "      <td>4</td>\n",
       "      <td>9</td>\n",
       "    </tr>\n",
       "    <tr>\n",
       "      <th>421</th>\n",
       "      <td>1</td>\n",
       "      <td>1</td>\n",
       "      <td>3</td>\n",
       "      <td>4</td>\n",
       "      <td>9</td>\n",
       "    </tr>\n",
       "    <tr>\n",
       "      <th>422</th>\n",
       "      <td>2</td>\n",
       "      <td>1</td>\n",
       "      <td>4</td>\n",
       "      <td>4</td>\n",
       "      <td>7</td>\n",
       "    </tr>\n",
       "    <tr>\n",
       "      <th>423</th>\n",
       "      <td>1</td>\n",
       "      <td>1</td>\n",
       "      <td>3</td>\n",
       "      <td>4</td>\n",
       "      <td>8</td>\n",
       "    </tr>\n",
       "    <tr>\n",
       "      <th>407</th>\n",
       "      <td>1</td>\n",
       "      <td>1</td>\n",
       "      <td>3</td>\n",
       "      <td>4</td>\n",
       "      <td>8</td>\n",
       "    </tr>\n",
       "    <tr>\n",
       "      <th>406</th>\n",
       "      <td>1</td>\n",
       "      <td>1</td>\n",
       "      <td>3</td>\n",
       "      <td>4</td>\n",
       "      <td>8</td>\n",
       "    </tr>\n",
       "    <tr>\n",
       "      <th>405</th>\n",
       "      <td>1</td>\n",
       "      <td>1</td>\n",
       "      <td>3</td>\n",
       "      <td>4</td>\n",
       "      <td>7</td>\n",
       "    </tr>\n",
       "    <tr>\n",
       "      <th>404</th>\n",
       "      <td>1</td>\n",
       "      <td>1</td>\n",
       "      <td>3</td>\n",
       "      <td>4</td>\n",
       "      <td>8</td>\n",
       "    </tr>\n",
       "    <tr>\n",
       "      <th>389</th>\n",
       "      <td>1</td>\n",
       "      <td>1</td>\n",
       "      <td>3</td>\n",
       "      <td>4</td>\n",
       "      <td>7</td>\n",
       "    </tr>\n",
       "    <tr>\n",
       "      <th>390</th>\n",
       "      <td>1</td>\n",
       "      <td>1</td>\n",
       "      <td>3</td>\n",
       "      <td>4</td>\n",
       "      <td>7</td>\n",
       "    </tr>\n",
       "    <tr>\n",
       "      <th>391</th>\n",
       "      <td>1</td>\n",
       "      <td>1</td>\n",
       "      <td>3</td>\n",
       "      <td>4</td>\n",
       "      <td>7</td>\n",
       "    </tr>\n",
       "    <tr>\n",
       "      <th>392</th>\n",
       "      <td>2</td>\n",
       "      <td>1</td>\n",
       "      <td>4</td>\n",
       "      <td>4</td>\n",
       "      <td>5</td>\n",
       "    </tr>\n",
       "    <tr>\n",
       "      <th>393</th>\n",
       "      <td>1</td>\n",
       "      <td>1</td>\n",
       "      <td>3</td>\n",
       "      <td>4</td>\n",
       "      <td>7</td>\n",
       "    </tr>\n",
       "    <tr>\n",
       "      <th>394</th>\n",
       "      <td>1</td>\n",
       "      <td>1</td>\n",
       "      <td>3</td>\n",
       "      <td>4</td>\n",
       "      <td>8</td>\n",
       "    </tr>\n",
       "    <tr>\n",
       "      <th>395</th>\n",
       "      <td>1</td>\n",
       "      <td>1</td>\n",
       "      <td>3</td>\n",
       "      <td>4</td>\n",
       "      <td>8</td>\n",
       "    </tr>\n",
       "    <tr>\n",
       "      <th>396</th>\n",
       "      <td>1</td>\n",
       "      <td>1</td>\n",
       "      <td>3</td>\n",
       "      <td>4</td>\n",
       "      <td>8</td>\n",
       "    </tr>\n",
       "    <tr>\n",
       "      <th>...</th>\n",
       "      <td>...</td>\n",
       "      <td>...</td>\n",
       "      <td>...</td>\n",
       "      <td>...</td>\n",
       "      <td>...</td>\n",
       "    </tr>\n",
       "    <tr>\n",
       "      <th>70</th>\n",
       "      <td>1</td>\n",
       "      <td>0</td>\n",
       "      <td>1</td>\n",
       "      <td>2</td>\n",
       "      <td>6</td>\n",
       "    </tr>\n",
       "    <tr>\n",
       "      <th>71</th>\n",
       "      <td>1</td>\n",
       "      <td>0</td>\n",
       "      <td>1</td>\n",
       "      <td>2</td>\n",
       "      <td>7</td>\n",
       "    </tr>\n",
       "    <tr>\n",
       "      <th>72</th>\n",
       "      <td>1</td>\n",
       "      <td>0</td>\n",
       "      <td>1</td>\n",
       "      <td>2</td>\n",
       "      <td>7</td>\n",
       "    </tr>\n",
       "    <tr>\n",
       "      <th>73</th>\n",
       "      <td>1</td>\n",
       "      <td>0</td>\n",
       "      <td>1</td>\n",
       "      <td>2</td>\n",
       "      <td>7</td>\n",
       "    </tr>\n",
       "    <tr>\n",
       "      <th>75</th>\n",
       "      <td>2</td>\n",
       "      <td>0</td>\n",
       "      <td>2</td>\n",
       "      <td>3</td>\n",
       "      <td>4</td>\n",
       "    </tr>\n",
       "    <tr>\n",
       "      <th>76</th>\n",
       "      <td>2</td>\n",
       "      <td>0</td>\n",
       "      <td>2</td>\n",
       "      <td>3</td>\n",
       "      <td>5</td>\n",
       "    </tr>\n",
       "    <tr>\n",
       "      <th>77</th>\n",
       "      <td>2</td>\n",
       "      <td>0</td>\n",
       "      <td>2</td>\n",
       "      <td>3</td>\n",
       "      <td>5</td>\n",
       "    </tr>\n",
       "    <tr>\n",
       "      <th>78</th>\n",
       "      <td>2</td>\n",
       "      <td>0</td>\n",
       "      <td>2</td>\n",
       "      <td>3</td>\n",
       "      <td>6</td>\n",
       "    </tr>\n",
       "    <tr>\n",
       "      <th>79</th>\n",
       "      <td>2</td>\n",
       "      <td>0</td>\n",
       "      <td>2</td>\n",
       "      <td>3</td>\n",
       "      <td>4</td>\n",
       "    </tr>\n",
       "    <tr>\n",
       "      <th>80</th>\n",
       "      <td>2</td>\n",
       "      <td>0</td>\n",
       "      <td>2</td>\n",
       "      <td>3</td>\n",
       "      <td>5</td>\n",
       "    </tr>\n",
       "    <tr>\n",
       "      <th>81</th>\n",
       "      <td>2</td>\n",
       "      <td>0</td>\n",
       "      <td>2</td>\n",
       "      <td>3</td>\n",
       "      <td>5</td>\n",
       "    </tr>\n",
       "    <tr>\n",
       "      <th>82</th>\n",
       "      <td>2</td>\n",
       "      <td>0</td>\n",
       "      <td>2</td>\n",
       "      <td>3</td>\n",
       "      <td>6</td>\n",
       "    </tr>\n",
       "    <tr>\n",
       "      <th>83</th>\n",
       "      <td>2</td>\n",
       "      <td>0</td>\n",
       "      <td>2</td>\n",
       "      <td>3</td>\n",
       "      <td>4</td>\n",
       "    </tr>\n",
       "    <tr>\n",
       "      <th>84</th>\n",
       "      <td>2</td>\n",
       "      <td>0</td>\n",
       "      <td>2</td>\n",
       "      <td>3</td>\n",
       "      <td>5</td>\n",
       "    </tr>\n",
       "    <tr>\n",
       "      <th>85</th>\n",
       "      <td>2</td>\n",
       "      <td>0</td>\n",
       "      <td>2</td>\n",
       "      <td>3</td>\n",
       "      <td>5</td>\n",
       "    </tr>\n",
       "    <tr>\n",
       "      <th>86</th>\n",
       "      <td>2</td>\n",
       "      <td>0</td>\n",
       "      <td>2</td>\n",
       "      <td>3</td>\n",
       "      <td>5</td>\n",
       "    </tr>\n",
       "    <tr>\n",
       "      <th>87</th>\n",
       "      <td>3</td>\n",
       "      <td>0</td>\n",
       "      <td>3</td>\n",
       "      <td>3</td>\n",
       "      <td>3</td>\n",
       "    </tr>\n",
       "    <tr>\n",
       "      <th>88</th>\n",
       "      <td>2</td>\n",
       "      <td>0</td>\n",
       "      <td>2</td>\n",
       "      <td>3</td>\n",
       "      <td>5</td>\n",
       "    </tr>\n",
       "    <tr>\n",
       "      <th>89</th>\n",
       "      <td>2</td>\n",
       "      <td>0</td>\n",
       "      <td>2</td>\n",
       "      <td>3</td>\n",
       "      <td>6</td>\n",
       "    </tr>\n",
       "    <tr>\n",
       "      <th>90</th>\n",
       "      <td>2</td>\n",
       "      <td>0</td>\n",
       "      <td>2</td>\n",
       "      <td>3</td>\n",
       "      <td>6</td>\n",
       "    </tr>\n",
       "    <tr>\n",
       "      <th>91</th>\n",
       "      <td>2</td>\n",
       "      <td>0</td>\n",
       "      <td>2</td>\n",
       "      <td>3</td>\n",
       "      <td>6</td>\n",
       "    </tr>\n",
       "    <tr>\n",
       "      <th>92</th>\n",
       "      <td>3</td>\n",
       "      <td>0</td>\n",
       "      <td>3</td>\n",
       "      <td>3</td>\n",
       "      <td>4</td>\n",
       "    </tr>\n",
       "    <tr>\n",
       "      <th>93</th>\n",
       "      <td>2</td>\n",
       "      <td>0</td>\n",
       "      <td>2</td>\n",
       "      <td>3</td>\n",
       "      <td>7</td>\n",
       "    </tr>\n",
       "    <tr>\n",
       "      <th>94</th>\n",
       "      <td>2</td>\n",
       "      <td>0</td>\n",
       "      <td>2</td>\n",
       "      <td>3</td>\n",
       "      <td>7</td>\n",
       "    </tr>\n",
       "    <tr>\n",
       "      <th>95</th>\n",
       "      <td>3</td>\n",
       "      <td>0</td>\n",
       "      <td>3</td>\n",
       "      <td>3</td>\n",
       "      <td>5</td>\n",
       "    </tr>\n",
       "    <tr>\n",
       "      <th>96</th>\n",
       "      <td>2</td>\n",
       "      <td>0</td>\n",
       "      <td>2</td>\n",
       "      <td>3</td>\n",
       "      <td>4</td>\n",
       "    </tr>\n",
       "    <tr>\n",
       "      <th>97</th>\n",
       "      <td>2</td>\n",
       "      <td>0</td>\n",
       "      <td>2</td>\n",
       "      <td>3</td>\n",
       "      <td>4</td>\n",
       "    </tr>\n",
       "    <tr>\n",
       "      <th>98</th>\n",
       "      <td>2</td>\n",
       "      <td>0</td>\n",
       "      <td>2</td>\n",
       "      <td>3</td>\n",
       "      <td>5</td>\n",
       "    </tr>\n",
       "    <tr>\n",
       "      <th>99</th>\n",
       "      <td>2</td>\n",
       "      <td>0</td>\n",
       "      <td>2</td>\n",
       "      <td>3</td>\n",
       "      <td>5</td>\n",
       "    </tr>\n",
       "    <tr>\n",
       "      <th>0</th>\n",
       "      <td>1</td>\n",
       "      <td>0</td>\n",
       "      <td>1</td>\n",
       "      <td>2</td>\n",
       "      <td>3</td>\n",
       "    </tr>\n",
       "  </tbody>\n",
       "</table>\n",
       "<p>618 rows × 5 columns</p>\n",
       "</div>"
      ],
      "text/plain": [
       "     bridges  loops  internal_edges  vertices  ex_edges\n",
       "309        1      1               3         4         6\n",
       "415        1      1               3         4         7\n",
       "408        1      1               3         4         9\n",
       "409        1      1               3         4         6\n",
       "410        1      1               3         4         7\n",
       "411        1      1               3         4         8\n",
       "412        1      1               3         4         7\n",
       "413        1      1               3         4         8\n",
       "414        1      1               3         4         9\n",
       "416        1      1               3         4         8\n",
       "425        1      1               3         4         9\n",
       "417        1      1               3         4         8\n",
       "418        1      1               3         4         8\n",
       "419        2      1               4         4         6\n",
       "420        1      1               3         4         9\n",
       "421        1      1               3         4         9\n",
       "422        2      1               4         4         7\n",
       "423        1      1               3         4         8\n",
       "407        1      1               3         4         8\n",
       "406        1      1               3         4         8\n",
       "405        1      1               3         4         7\n",
       "404        1      1               3         4         8\n",
       "389        1      1               3         4         7\n",
       "390        1      1               3         4         7\n",
       "391        1      1               3         4         7\n",
       "392        2      1               4         4         5\n",
       "393        1      1               3         4         7\n",
       "394        1      1               3         4         8\n",
       "395        1      1               3         4         8\n",
       "396        1      1               3         4         8\n",
       "..       ...    ...             ...       ...       ...\n",
       "70         1      0               1         2         6\n",
       "71         1      0               1         2         7\n",
       "72         1      0               1         2         7\n",
       "73         1      0               1         2         7\n",
       "75         2      0               2         3         4\n",
       "76         2      0               2         3         5\n",
       "77         2      0               2         3         5\n",
       "78         2      0               2         3         6\n",
       "79         2      0               2         3         4\n",
       "80         2      0               2         3         5\n",
       "81         2      0               2         3         5\n",
       "82         2      0               2         3         6\n",
       "83         2      0               2         3         4\n",
       "84         2      0               2         3         5\n",
       "85         2      0               2         3         5\n",
       "86         2      0               2         3         5\n",
       "87         3      0               3         3         3\n",
       "88         2      0               2         3         5\n",
       "89         2      0               2         3         6\n",
       "90         2      0               2         3         6\n",
       "91         2      0               2         3         6\n",
       "92         3      0               3         3         4\n",
       "93         2      0               2         3         7\n",
       "94         2      0               2         3         7\n",
       "95         3      0               3         3         5\n",
       "96         2      0               2         3         4\n",
       "97         2      0               2         3         4\n",
       "98         2      0               2         3         5\n",
       "99         2      0               2         3         5\n",
       "0          1      0               1         2         3\n",
       "\n",
       "[618 rows x 5 columns]"
      ]
     },
     "execution_count": 37,
     "metadata": {},
     "output_type": "execute_result"
    }
   ],
   "source": [
    "#create a grid for the number of vertices, bridges and loop in each object\n",
    "import pandas as pd\n",
    "pd.DataFrame([[g.bridge_count, g.first_betti_number, g._num_internal_edges, g.shape[0]-1, g.shape[-1]-g._num_internal_edges] for g in newguys], \n",
    "             columns=[\"bridges\", \"loops\", \"internal_edges\", \"vertices\", \"ex_edges\"]).sort_values(\"loops\", ascending=False)\n"
   ]
  },
  {
   "cell_type": "code",
   "execution_count": null,
   "metadata": {
    "collapsed": true
   },
   "outputs": [],
   "source": []
  },
  {
   "cell_type": "markdown",
   "metadata": {},
   "source": [
    "## BWS primitives and maybe some other examples"
   ]
  },
  {
   "cell_type": "code",
   "execution_count": null,
   "metadata": {},
   "outputs": [],
   "source": [
    "branching = incidence_matrix(edges=[[-1,0],[0,-1],[0,-1]])\n",
    "s = debug_graph(branching)\n",
    "s"
   ]
  },
  {
   "cell_type": "code",
   "execution_count": null,
   "metadata": {},
   "outputs": [],
   "source": [
    "coag = incidence_matrix(edges=[[-1,0],[-1,0],[0,-1]], species_vector=[0,1,0])\n",
    "debug_graph(coag)"
   ]
  },
  {
   "cell_type": "code",
   "execution_count": null,
   "metadata": {},
   "outputs": [],
   "source": [
    "coag.species_vector"
   ]
  },
  {
   "cell_type": "code",
   "execution_count": null,
   "metadata": {},
   "outputs": [],
   "source": [
    "shuf = incidence_matrix.shuffle(coag,branching)\n",
    "res = coag.dprod(branching,species_chord_set=shuf[-1])\n",
    "debug_graph(res)"
   ]
  },
  {
   "cell_type": "code",
   "execution_count": null,
   "metadata": {},
   "outputs": [],
   "source": [
    "shuf = incidence_matrix.shuffle(branching,coag)\n",
    "res = branching.dprod(coag,species_chord_set=shuf[-1])\n",
    "debug_graph(res)"
   ]
  },
  {
   "cell_type": "code",
   "execution_count": null,
   "metadata": {},
   "outputs": [],
   "source": [
    "res"
   ]
  },
  {
   "cell_type": "code",
   "execution_count": null,
   "metadata": {},
   "outputs": [],
   "source": [
    "shuf = incidence_matrix.shuffle(coag,res)\n",
    "print(shuf[-1])\n",
    "res2 = coag.dprod(res,species_chord_set=shuf[-1])\n",
    "debug_graph(res2)"
   ]
  },
  {
   "cell_type": "code",
   "execution_count": null,
   "metadata": {},
   "outputs": [],
   "source": []
  },
  {
   "cell_type": "markdown",
   "metadata": {},
   "source": [
    "# Algorithm"
   ]
  },
  {
   "cell_type": "code",
   "execution_count": null,
   "metadata": {
    "collapsed": true
   },
   "outputs": [],
   "source": [
    "interactions = [\n",
    " J([[1,1],[0,0]]),\n",
    " J([[0,0],[1,1]]),\n",
    " J([[1,0],[0,1]]), #tau \n",
    " J([[1,2],[0,0]]), #s\n",
    " J([[1,1],[0,1]]), #quasi-branch sigma\n",
    " J([[1,1],[1,1]]), #kappa\n",
    " J([[1,0],[1,1]]), #lambda\n",
    " ]\n",
    "\n",
    "#BWS1 - #add two more terms chi and eta\n",
    "interactions = interactions +  [\n",
    " J([[0,1],[1,2]]), #\n",
    " J([[1,0],[1,2]]), #   \n",
    "]"
   ]
  },
  {
   "cell_type": "code",
   "execution_count": null,
   "metadata": {
    "collapsed": true
   },
   "outputs": [],
   "source": [
    "#i thin the trick is to check new 1 particular ir graphs (happly add them all but...)\n",
    "#if none of the new 1P1 graphs (which excludes new tree levels) are within L then terminate\n",
    "#any internal edge that is not in a circuit is a bridge i.e any edge that is in all spanning trees\n",
    "\n",
    "#Get the generators and create vertices - maybe add something\n",
    "#Have a look at them in a table - todo, better drawing\n",
    "#for each pair, tabulate the shuffle product in round 1 - keep track of the new ones that are within : rule is it must add a new residual not just a new stick end\n",
    "#for each new one, tabulate shuffle product with all existing - repeat until no new ones\n",
    "#the question of loop topology hash... "
   ]
  },
  {
   "cell_type": "code",
   "execution_count": null,
   "metadata": {
    "collapsed": true
   },
   "outputs": [],
   "source": [
    "sunset = incidence_matrix(edges=[ [0,1], [1,0], [0,1], [0,-1], [-1,1] ])\n",
    "set_source_sink_flow(sunset)\n",
    "ring_diagram(sunset)"
   ]
  },
  {
   "cell_type": "code",
   "execution_count": null,
   "metadata": {
    "collapsed": true
   },
   "outputs": [],
   "source": [
    "A = incidence_matrix(edges= [ [0,-1],  [0,-1], [-1,0], [-1,0]] ,species_vector=[4,4,4,3])\n",
    "ring_diagram(A, options={\"add_rotation\":-30})"
   ]
  },
  {
   "cell_type": "code",
   "execution_count": null,
   "metadata": {
    "collapsed": true
   },
   "outputs": [],
   "source": [
    "C = incidence_matrix(edges= [ [0,-1],  [0,-1], [-1,0]] )\n",
    "ring_diagram(A, options={\"add_rotation\":0})"
   ]
  },
  {
   "cell_type": "code",
   "execution_count": null,
   "metadata": {
    "collapsed": true
   },
   "outputs": [],
   "source": [
    "ring_diagram(A.dprod(C))"
   ]
  },
  {
   "cell_type": "code",
   "execution_count": null,
   "metadata": {
    "collapsed": true
   },
   "outputs": [],
   "source": [
    "ring_diagram(A.dprod(A))"
   ]
  },
  {
   "cell_type": "code",
   "execution_count": null,
   "metadata": {
    "collapsed": true
   },
   "outputs": [],
   "source": [
    "B = incidence_matrix(edges= [ [-1,0],  [-1,0], [0,1], [-1,1], [1,-1],[1,-1], [1,2], [2,-1]] )"
   ]
  },
  {
   "cell_type": "code",
   "execution_count": null,
   "metadata": {
    "collapsed": true
   },
   "outputs": [],
   "source": [
    "#should use this when there are no loops\n",
    "star(B, options={\"extra_rotation\":0})"
   ]
  },
  {
   "cell_type": "code",
   "execution_count": null,
   "metadata": {
    "collapsed": true
   },
   "outputs": [],
   "source": [
    "A.residual(exiting=False)"
   ]
  },
  {
   "cell_type": "code",
   "execution_count": null,
   "metadata": {
    "collapsed": true
   },
   "outputs": [],
   "source": [
    "G=_prod_(A, A)\n",
    "G      "
   ]
  },
  {
   "cell_type": "code",
   "execution_count": null,
   "metadata": {
    "collapsed": true
   },
   "outputs": [],
   "source": [
    "\n",
    "ring_diagram(G)"
   ]
  },
  {
   "cell_type": "code",
   "execution_count": null,
   "metadata": {
    "collapsed": true
   },
   "outputs": [],
   "source": [
    "\n",
    "            \n",
    "RG = residual_matrix(G)\n",
    "RG#ring_diagram(RG, options={\"show_ex_edges\"})"
   ]
  },
  {
   "cell_type": "code",
   "execution_count": null,
   "metadata": {
    "collapsed": true
   },
   "outputs": [],
   "source": [
    "ring_diagram(RG, options={ \"add_rotation\":-30})"
   ]
  },
  {
   "cell_type": "code",
   "execution_count": null,
   "metadata": {
    "collapsed": true
   },
   "outputs": [],
   "source": [
    "#tonight rendering of vertex diagrams (loopless ring diagrams) and residual diagrams. \n",
    "#pyramids might be nice but maybe another day"
   ]
  },
  {
   "cell_type": "code",
   "execution_count": null,
   "metadata": {
    "collapsed": true
   },
   "outputs": [],
   "source": []
  },
  {
   "cell_type": "markdown",
   "metadata": {},
   "source": [
    "# Colourings\n",
    "On a one loop graph with one species, there are as many colourings as there paths of any length between pairs of external vertices\n",
    " - which is to say, as many colourings as there are external vertices\n",
    " - if something can be expressed as a three colouring, we can always find a single pole to produce something on the propagator basis\n",
    " - adding species, even we project a large space of colourings, the graph can only every be expressed as a 3-colouring - not true, can change colour internally\n",
    " - however the kinematics from the species colouring enters trivially in the integration i think although we should check the multiple residues"
   ]
  },
  {
   "cell_type": "code",
   "execution_count": null,
   "metadata": {
    "collapsed": true
   },
   "outputs": [],
   "source": [
    "2**14-1"
   ]
  },
  {
   "cell_type": "code",
   "execution_count": null,
   "metadata": {
    "collapsed": true
   },
   "outputs": [],
   "source": [
    "A = incidence_matrix(edges= [ [0,1],  [1,0]], external_vertices=[0,1])\n",
    "apply_flow(A,set_source_sink_flow)\n",
    "ring_diagram(A)\n"
   ]
  },
  {
   "cell_type": "code",
   "execution_count": null,
   "metadata": {
    "collapsed": true
   },
   "outputs": [],
   "source": [
    "latex(Matrix(np.array([[1,-1,-1],[-1,1,1]])) * diag( Symbol(\"q_0\"),Symbol(\"q_1\"), Symbol(\"q3\")))"
   ]
  },
  {
   "cell_type": "code",
   "execution_count": null,
   "metadata": {
    "collapsed": true
   },
   "outputs": [],
   "source": [
    "latex(Matrix(np.array([ [1,-1,0],[1,-1,0], [0,1,-1],[-1,0,1],[-1,0,1]]).T) * diag( Symbol(\"p_0\"),Symbol(\"p_1\"),Symbol(\"q_0\"),Symbol(\"q_1\"),Symbol(\"q_2\")))"
   ]
  },
  {
   "cell_type": "code",
   "execution_count": null,
   "metadata": {
    "collapsed": true
   },
   "outputs": [],
   "source": [
    "A = incidence_matrix(edges= [ [0,1], [0,1], [1,0]],\n",
    "                       external_vertices=[0,1])\n",
    "apply_flow(A,set_source_sink_flow)\n",
    "ring_diagram(A, options={\"show_labels\"})\n"
   ]
  },
  {
   "cell_type": "code",
   "execution_count": null,
   "metadata": {
    "collapsed": true
   },
   "outputs": [],
   "source": [
    "2**6-1"
   ]
  },
  {
   "cell_type": "code",
   "execution_count": null,
   "metadata": {
    "collapsed": true
   },
   "outputs": [],
   "source": [
    "show_spanning_trees(A, show_labels=True)"
   ]
  },
  {
   "cell_type": "code",
   "execution_count": null,
   "metadata": {
    "collapsed": true
   },
   "outputs": [],
   "source": [
    "latex(A.kirchhoff)"
   ]
  },
  {
   "cell_type": "code",
   "execution_count": null,
   "metadata": {
    "collapsed": true
   },
   "outputs": [],
   "source": [
    "latex(Matrix(A[:2,:3]))"
   ]
  },
  {
   "cell_type": "code",
   "execution_count": null,
   "metadata": {
    "collapsed": true
   },
   "outputs": [],
   "source": [
    "latex(Matrix(A.edge_label_matrix))\n"
   ]
  },
  {
   "cell_type": "code",
   "execution_count": null,
   "metadata": {
    "collapsed": true
   },
   "outputs": [],
   "source": [
    "L = A.edge_label_matrix * A.edge_label_matrix.T\n",
    "L"
   ]
  },
  {
   "cell_type": "code",
   "execution_count": null,
   "metadata": {
    "collapsed": true
   },
   "outputs": [],
   "source": [
    "for s in A._internal_symbols_(): L=L.subs({s**2:s})\n",
    "        #treat all external edges as z so we can get a polynomial in z for forest order\n",
    "for s in A._external_symbols_(): L=L.subs({s**2:Symbol(\"z\")}) \n",
    "L"
   ]
  },
  {
   "cell_type": "code",
   "execution_count": null,
   "metadata": {
    "collapsed": true
   },
   "outputs": [],
   "source": [
    "red =  incidence_matrix.__sym_i_cofactor__(L) \n",
    "latex(Matrix(red))\n"
   ]
  },
  {
   "cell_type": "code",
   "execution_count": null,
   "metadata": {
    "collapsed": true
   },
   "outputs": [],
   "source": [
    "latex(Matrix(L))"
   ]
  },
  {
   "cell_type": "code",
   "execution_count": null,
   "metadata": {
    "collapsed": true
   },
   "outputs": [],
   "source": [
    "B = incidence_matrix(3,3,\n",
    "                       [ [0,1], [1,2], [2,0]],\n",
    "                       external_vertices=[0,1])\n",
    "apply_flow(B,set_source_sink_flow)\n",
    "ring_diagram(B)"
   ]
  },
  {
   "cell_type": "code",
   "execution_count": null,
   "metadata": {
    "collapsed": true
   },
   "outputs": [],
   "source": [
    "B.constraint_system(True)"
   ]
  },
  {
   "cell_type": "code",
   "execution_count": null,
   "metadata": {
    "collapsed": true
   },
   "outputs": [],
   "source": [
    "C = incidence_matrix(3,3,\n",
    "                       [ [0,1], [1,2], [2,0]],\n",
    "                       external_vertices=[0,1,2])\n",
    "apply_flow(C,set_source_sink_flow)\n",
    "ring_diagram(C)"
   ]
  },
  {
   "cell_type": "code",
   "execution_count": null,
   "metadata": {
    "collapsed": true
   },
   "outputs": [],
   "source": [
    "C.constraint_system(True)"
   ]
  },
  {
   "cell_type": "code",
   "execution_count": null,
   "metadata": {
    "collapsed": true
   },
   "outputs": [],
   "source": [
    "D = incidence_matrix(4,4,\n",
    "                       [ [0,1], [1,2], [2,3], [3,0]],\n",
    "                       external_vertices=[0,1,2])\n",
    "apply_flow(D,set_source_sink_flow)\n",
    "ring_diagram(D, )#options={\"show_labels\"} messed up label"
   ]
  },
  {
   "cell_type": "code",
   "execution_count": null,
   "metadata": {
    "collapsed": true
   },
   "outputs": [],
   "source": [
    "#3 linearly independent internal edges can be generated from (3,1)\n",
    "D.constraint_system(True)"
   ]
  },
  {
   "cell_type": "code",
   "execution_count": null,
   "metadata": {
    "collapsed": true
   },
   "outputs": [],
   "source": [
    "E = incidence_matrix(5,5,\n",
    "                       [ [0,1], [1,2], [2,3], [3,4], [4,0]],\n",
    "                       external_vertices=[0,1,2])\n",
    "apply_flow(E,set_source_sink_flow)\n",
    "ring_diagram(E, )#options={\"show_labels\"} messed up label"
   ]
  },
  {
   "cell_type": "code",
   "execution_count": null,
   "metadata": {
    "collapsed": true
   },
   "outputs": [],
   "source": [
    "#3 linearly independent internal edges can be generated from (4,1)\n",
    "E.constraint_system(True)"
   ]
  },
  {
   "cell_type": "code",
   "execution_count": null,
   "metadata": {
    "collapsed": true
   },
   "outputs": [],
   "source": [
    "F = incidence_matrix(5,5,\n",
    "                       [ [0,1], [1,2], [2,3], [3,4], [4,0]],\n",
    "                       external_vertices=[0,1,4])\n",
    "apply_flow(F,set_source_sink_flow)\n",
    "ring_diagram(F, )#options={\"show_labels\"} messed up label"
   ]
  },
  {
   "cell_type": "code",
   "execution_count": null,
   "metadata": {
    "collapsed": true
   },
   "outputs": [],
   "source": [
    "#2 linearly independant? - no actually , just a trick p4 is on its own where as above, p1 is on its own\n",
    "#actually 3 - so there are as many as there paths i.e. as many as there are externals\n",
    "F.constraint_system(True)"
   ]
  },
  {
   "cell_type": "code",
   "execution_count": null,
   "metadata": {
    "collapsed": true
   },
   "outputs": [],
   "source": [
    "G = incidence_matrix(5,5,\n",
    "                       [ [0,1], [1,2], [2,3], [3,4], [4,0]],\n",
    "                       external_vertices=[0,2,4])\n",
    "apply_flow(G,set_source_sink_flow)\n",
    "ring_diagram(G, )#options={\"show_labels\"} messed up label"
   ]
  },
  {
   "cell_type": "code",
   "execution_count": null,
   "metadata": {
    "collapsed": true
   },
   "outputs": [],
   "source": [
    "G.constraint_system(True)"
   ]
  },
  {
   "cell_type": "code",
   "execution_count": null,
   "metadata": {
    "collapsed": true
   },
   "outputs": [],
   "source": [
    "#The graph will have islands of internal nodes which will have the same momenta. \n",
    "#So no matter how many external nodes there are, if they are contiguous we minimise the number of colourings"
   ]
  },
  {
   "cell_type": "markdown",
   "metadata": {},
   "source": [
    "## work in progress\n",
    "\n",
    "What is the best method for determining the edge basis. Cycles can be used. \n",
    "- Important to partition cycles into positive and negative frequencies\n",
    "- Import to attribute to each edge the correct edge basis"
   ]
  },
  {
   "cell_type": "markdown",
   "metadata": {},
   "source": [
    "### from the constraints at vertices, we try to construct an edge basis \n",
    " - need to be careful about Sympy interface because I am not sure about some things yet"
   ]
  },
  {
   "cell_type": "code",
   "execution_count": null,
   "metadata": {
    "collapsed": true
   },
   "outputs": [],
   "source": [
    "sunset = incidence_matrix(3,2,\n",
    "                       [ [0,1], [1,0], [0,1]  ],\n",
    "                       external_vertices=[0,1])\n",
    "\n",
    "L = sunset.first_betti_number\n",
    "maps = sunset.edges_to_loop_basis()\n",
    "#these are the ids of each edge in the incidence matrix and their coefficients on the edge basis\n",
    "#if there are two loops and two externals each edge takes a vector: [L1|L2|EX1|EX2]\n",
    "maps"
   ]
  },
  {
   "cell_type": "code",
   "execution_count": null,
   "metadata": {
    "collapsed": true
   },
   "outputs": [],
   "source": [
    "#given an edge basis and a known loop number, create the propagator for each edge - here we know to use the first L as the loop basis\n",
    "scalar_propagator(maps[0][:L], maps[0][L:])"
   ]
  },
  {
   "cell_type": "code",
   "execution_count": null,
   "metadata": {
    "collapsed": true
   },
   "outputs": [],
   "source": [
    "#apply_flow(sunset, set_source_sink_flow)\n",
    "#sunset.flip_edges(0)\n",
    "ring_diagram(sunset)"
   ]
  },
  {
   "cell_type": "markdown",
   "metadata": {},
   "source": [
    "### all the propagators look like this"
   ]
  },
  {
   "cell_type": "code",
   "execution_count": null,
   "metadata": {
    "collapsed": true
   },
   "outputs": [],
   "source": [
    "rg._product_([scalar_propagator(maps[i][:L], maps[i][L:]).value for i in maps.keys()])"
   ]
  },
  {
   "cell_type": "code",
   "execution_count": null,
   "metadata": {
    "collapsed": true
   },
   "outputs": [],
   "source": [
    "#below is displayed with the source sink flow used to solve constraints and not the loop flow...\n",
    "#but we can see from the propagators that e0 and e1 flow in the *some* direction and e1 flows opposite for each loop variable\n",
    "#it is important that the loop variables are represented with opposite signs for the set of propagaors\n",
    "ring_diagram(sunset, options={\"show_labels\"})"
   ]
  },
  {
   "cell_type": "code",
   "execution_count": null,
   "metadata": {
    "collapsed": true
   },
   "outputs": [],
   "source": [
    "apply_flow(sunset,set_circuit_flow)\n",
    "ring_diagram(sunset, options={\"show_labels\"})"
   ]
  },
  {
   "cell_type": "markdown",
   "metadata": {},
   "source": [
    "### example of the shorthand \n",
    "- convention must be known but useful to create a larger integral from matrix of coefficients"
   ]
  },
  {
   "cell_type": "code",
   "execution_count": null,
   "metadata": {
    "collapsed": true
   },
   "outputs": [],
   "source": [
    "mat = [[0,1,0,1,1,1],\n",
    "       [0,-1,0,0,2,2]]\n",
    "scalar_propagator.from_basis_vector(mat,2)"
   ]
  },
  {
   "cell_type": "markdown",
   "metadata": {},
   "source": [
    "# A first look at the incidence matrix class"
   ]
  },
  {
   "cell_type": "code",
   "execution_count": null,
   "metadata": {
    "collapsed": true
   },
   "outputs": [],
   "source": [
    "itest = incidence_matrix.__sample__()\n",
    "itest"
   ]
  },
  {
   "cell_type": "code",
   "execution_count": null,
   "metadata": {
    "collapsed": true
   },
   "outputs": [],
   "source": [
    "INC = incidence_matrix.__sample__()\n",
    "#INC.flip_edges(1)\n",
    "D = ring_diagram(INC, options={ \"show_labels\":True, }) \n",
    "D"
   ]
  },
  {
   "cell_type": "code",
   "execution_count": null,
   "metadata": {
    "collapsed": true
   },
   "outputs": [],
   "source": [
    "all_circuits=  circuits(INC,sort=True)\n",
    "all_circuits"
   ]
  },
  {
   "cell_type": "markdown",
   "metadata": {},
   "source": [
    "# now take a look at one of the spanning rees"
   ]
  },
  {
   "cell_type": "code",
   "execution_count": null,
   "metadata": {
    "collapsed": true
   },
   "outputs": [],
   "source": [
    "#show_spanning_trees(INC)"
   ]
  },
  {
   "cell_type": "code",
   "execution_count": null,
   "metadata": {
    "collapsed": true
   },
   "outputs": [],
   "source": [
    "tree = INC.spanning_trees.iloc[-1].values\n",
    "tree_cuts = INC.edge_complement(tree)\n",
    "print(tree_cuts)\n",
    "C = ring_diagram(INC, options={\"show_labels\" :True,  \"cut_edges\": tree_cuts}) \n",
    "C#._repr_html_()"
   ]
  },
  {
   "cell_type": "markdown",
   "metadata": {},
   "source": [
    "# Edge Orientations\n",
    "given cicuits, we can actually rank them by closeness to root and then we can incrementally orientate them in different ways\n",
    "\n",
    "(1) Choose a source and sink delegate on each circuit and have allow flow towards the sink\n",
    "\n",
    "(2) Respect loop momentum"
   ]
  },
  {
   "cell_type": "code",
   "execution_count": null,
   "metadata": {
    "collapsed": true
   },
   "outputs": [],
   "source": [
    "#todo the last circuit is degenerate\n",
    "INC = incidence_matrix.__sample__()\n",
    "all_circuits = circuits(INC,INC.spanning_trees.iloc[0].values)\n",
    "print(all_circuits)"
   ]
  },
  {
   "cell_type": "markdown",
   "metadata": {},
   "source": [
    "# set default circuit flow"
   ]
  },
  {
   "cell_type": "code",
   "execution_count": null,
   "metadata": {
    "collapsed": true
   },
   "outputs": [],
   "source": [
    "INC = incidence_matrix.__sample__()\n",
    "#todo technicall need to reload cicuts but they are ok\n",
    "all_circuits = circuits(INC,INC.spanning_trees.iloc[0].values)\n",
    "circ = all_circuits[3]\n",
    "#print(circ)\n",
    "res = set_circuit_flow(INC,circ)\n",
    "#print(res)\n",
    "#print(\"edge comp\", circ)\n",
    "ring_diagram(INC, options={\"show_labels\" :True,  \"cut_edges\": INC.edge_complement(circ)}) "
   ]
  },
  {
   "cell_type": "code",
   "execution_count": null,
   "metadata": {
    "collapsed": true
   },
   "outputs": [],
   "source": [
    "INC.spanning_trees.iloc[0].values"
   ]
  },
  {
   "cell_type": "markdown",
   "metadata": {},
   "source": [
    "# circuit source sink flow"
   ]
  },
  {
   "cell_type": "code",
   "execution_count": null,
   "metadata": {
    "collapsed": true
   },
   "outputs": [],
   "source": [
    "INC = incidence_matrix.__sample__()\n",
    "#todo technicall need to reload cicuts but they are ok\n",
    "all_circuits = circuits(INC,INC.spanning_trees.iloc[0].values)\n",
    "circ = all_circuits[1]\n",
    "#print(circ)\n",
    "res = set_source_sink_flow(INC,circ)\n",
    "print(\"source,sink\",res)\n",
    "#print(res)\n",
    "#print(\"edge comp\", circ)\n",
    "ring_diagram(INC, options={\"show_labels\" :True,  \"cut_edges\": INC.edge_complement(circ)}) "
   ]
  },
  {
   "cell_type": "markdown",
   "metadata": {},
   "source": [
    "# all together now...\n",
    "\n",
    "cicuits are ordered based on the average depth of vertices in the cicuit. Outer rings score best\n",
    "\n",
    "We process all cicuits in that order"
   ]
  },
  {
   "cell_type": "markdown",
   "metadata": {},
   "source": [
    "Suppose we dont remember anything from the last processed circuit..."
   ]
  },
  {
   "cell_type": "code",
   "execution_count": null,
   "metadata": {
    "collapsed": true
   },
   "outputs": [],
   "source": [
    "apply_flow(INC,set_source_sink_flow)\n",
    "ring_diagram(INC, options={\"show_labels\" :True}) "
   ]
  },
  {
   "cell_type": "code",
   "execution_count": null,
   "metadata": {
    "collapsed": true
   },
   "outputs": [],
   "source": []
  },
  {
   "cell_type": "markdown",
   "metadata": {},
   "source": [
    "# Other examples"
   ]
  },
  {
   "cell_type": "code",
   "execution_count": null,
   "metadata": {
    "collapsed": true
   },
   "outputs": [],
   "source": [
    "simp = incidence_matrix(2,2,\n",
    "                       [ [0,1], [1,0]  ],\n",
    "                       external_vertices=[0,1])\n",
    "\n",
    "sunset = incidence_matrix(3,2,\n",
    "                       [ [0,1], [1,0], [0,1]  ],\n",
    "                       external_vertices=[0,1])\n",
    "\n",
    "bog = incidence_matrix(7,6,\n",
    "                       [ [0,1], [1,3], [0,2], [3,2], [3,5], [2,4], [4,5]  ],\n",
    "                       external_vertices=[0,1,4,5])\n",
    "\n",
    "#get cicuits using any spanning tree and produce a sink flow ordering\n",
    "set_source_sink_flow(simp,circuits(simp)[0])\n",
    "#simp.constraint_system(True)\n",
    "ring_diagram(simp)"
   ]
  },
  {
   "cell_type": "code",
   "execution_count": null,
   "metadata": {
    "collapsed": true
   },
   "outputs": [],
   "source": [
    "show_spanning_trees(simp)"
   ]
  },
  {
   "cell_type": "code",
   "execution_count": null,
   "metadata": {
    "collapsed": true
   },
   "outputs": [],
   "source": [
    "simp = incidence_matrix(3,3,\n",
    "                       [ [0,1], [1,2], [2,0]  ],\n",
    "                       external_vertices=[0,1])\n",
    "ring_diagram(simp)"
   ]
  },
  {
   "cell_type": "code",
   "execution_count": null,
   "metadata": {
    "collapsed": true
   },
   "outputs": [],
   "source": [
    "show_spanning_trees(simp)"
   ]
  },
  {
   "cell_type": "code",
   "execution_count": null,
   "metadata": {
    "collapsed": true
   },
   "outputs": [],
   "source": [
    "simp = incidence_matrix(4,4,\n",
    "                       [ [0,1], [1,2], [2,3], [3,0]  ],\n",
    "                       external_vertices=[0,1])\n",
    "ring_diagram(simp)"
   ]
  },
  {
   "cell_type": "code",
   "execution_count": null,
   "metadata": {
    "collapsed": true
   },
   "outputs": [],
   "source": []
  },
  {
   "cell_type": "code",
   "execution_count": null,
   "metadata": {
    "collapsed": true
   },
   "outputs": [],
   "source": [
    "INC = incidence_matrix.__sample__()\n",
    "show_spanning_trees(INC,is_directed=False)\n",
    "#len(INC.spanning_trees)"
   ]
  },
  {
   "cell_type": "code",
   "execution_count": null,
   "metadata": {
    "collapsed": true
   },
   "outputs": [],
   "source": [
    "#TODO: visual style for and implementation of multiple external legs\n",
    "#perhaps an option for simple diagrams to force certain types of loops and ignore hierarchy\n",
    "\n",
    "#save svg todo find save html tp pdf solution\n",
    "#with open (\"test.svg\", \"w\") as f:\n",
    "#    f.write(ring_diagram(sunset, options={\"show_labels\"})._repr_html_())"
   ]
  }
 ],
 "metadata": {
  "kernelspec": {
   "display_name": "Python 3",
   "language": "python",
   "name": "python3"
  },
  "language_info": {
   "codemirror_mode": {
    "name": "ipython",
    "version": 3
   },
   "file_extension": ".py",
   "mimetype": "text/x-python",
   "name": "python",
   "nbconvert_exporter": "python",
   "pygments_lexer": "ipython3",
   "version": "3.6.3"
  }
 },
 "nbformat": 4,
 "nbformat_minor": 2
}
