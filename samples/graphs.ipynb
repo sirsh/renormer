{
 "cells": [
  {
   "cell_type": "code",
   "execution_count": 4,
   "metadata": {},
   "outputs": [],
   "source": [
    "import sys\n",
    "sys.path.append(\"../\")\n",
    "import rg\n",
    "from rg.graph import incidence_matrix\n",
    "from rg.graph import ring_diagram ,show_spanning_trees\n",
    "from rg.graph import circuits, set_circuit_flow,set_source_sink_flow,apply_flow\n",
    "from rg.graph import scalar_propagator\n",
    "#for inline dev\n",
    "import numpy as np\n",
    "from sympy import *"
   ]
  },
  {
   "cell_type": "markdown",
   "metadata": {},
   "source": [
    "## work in progress\n",
    "\n",
    "What is the best method for determining the edge basis. Cycles can be used. \n",
    "- Important to partition cycles into positive and negative frequencies\n",
    "- Import to attribute to each edge the correct edge basis"
   ]
  },
  {
   "cell_type": "markdown",
   "metadata": {},
   "source": [
    "### from the constraints at vertices, we try to construct an edge basis \n",
    " - need to be careful about Sympy interface because I am not sure about some things yet"
   ]
  },
  {
   "cell_type": "code",
   "execution_count": 5,
   "metadata": {},
   "outputs": [
    {
     "data": {
      "text/plain": [
       "{0: array([-1, -1,  0, -1]), 1: array([0, 1, 0, 0]), 2: array([1, 0, 0, 0])}"
      ]
     },
     "execution_count": 5,
     "metadata": {},
     "output_type": "execute_result"
    }
   ],
   "source": [
    "sunset = incidence_matrix(3,2,\n",
    "                       [ [0,1], [1,0], [0,1]  ],\n",
    "                       external_vertices=[0,1])\n",
    "\n",
    "L = sunset.first_betti_number\n",
    "maps = sunset.edges_to_loop_basis()\n",
    "#these are the ids of each edge in the incidence matrix and their coefficients on the edge basis\n",
    "#if there are two loops and two externals each edge takes a vector: [L1|L2|EX1|EX2]\n",
    "maps"
   ]
  },
  {
   "cell_type": "code",
   "execution_count": 6,
   "metadata": {},
   "outputs": [
    {
     "data": {
      "text/latex": [
       "$\\frac{1}{D_{a} \\left(k'_{1} + k_{0} + k_{1}\\right)^{2} - i \\omega'_1 + m_{a}^{2} - i \\omega_{0} - i \\omega_{1}}$"
      ],
      "text/plain": [
       "$\\frac{1}{D_{a} \\left(k'_{1} + k_{0} + k_{1}\\right)^{2} - i \\omega'_1 + m_{a}^{2} - i \\omega_{0} - i \\omega_{1}}$"
      ]
     },
     "execution_count": 6,
     "metadata": {},
     "output_type": "execute_result"
    }
   ],
   "source": [
    "#given an edge basis and a known loop number, create the propagator for each edge - here we know to use the first L as the loop basis\n",
    "scalar_propagator(maps[0][:L], maps[0][L:])"
   ]
  },
  {
   "cell_type": "code",
   "execution_count": 7,
   "metadata": {},
   "outputs": [
    {
     "data": {
      "text/html": [
       "<svg xmlns=\"http://www.w3.org/2000/svg\" xmlns:xlink=\"http://www.w3.org/1999/xlink\" version=\"1.1\" x=\"0\" y=\"0\" width=\"200\" height=\"200\">\n",
       "      <g fill=\"none\" stroke=\"black\" stroke-width=\"1.6\" stroke-linecap=\"round\" transform=\"rotate(90,100,100)\"> <defs><marker id=\"arrow\"  markerUnits=\"strokeWidth\" markerWidth='5' markerHeight='8' refX='0' refY='2' orient=\"auto\">\n",
       "                                      <path d=\"M0,0 V4 L2,2 Z\" style=\"fill: #000000;\" /> </marker></defs><circle cx=\"100\" cy=\"170\" r=\"3\" stroke=\"black\" stroke-width=\"1\" fill=\"black\" /> <circle cx=\"99\" cy=\"30\" r=\"3\" stroke=\"black\" stroke-width=\"1\" fill=\"black\" /> <path id='edge0' d=\"M  100  170  A  70  70  0  0  1  99  30 \" stroke=\"black\"  stroke-width=\"2px\"   /><path id='edge0' d=\"M  100  170  A  70  70  0  0  1  30  100 \" stroke=\"black\"  stroke-width=\"2px\" marker-end='url(#arrow)'  /><path id='edge1' d=\"M  100  170  A  70  70  0  0  0  100  30 \" stroke=\"black\"  stroke-width=\"2px\"   /><path id='edge1' d=\"M  100  170  A  70  70  0  0  0  170  100 \" stroke=\"black\"  stroke-width=\"2px\" marker-end='url(#arrow)'  /><path d=\"M100 170 L 99 30\" stroke=\"black\" stroke-width=\"2px\" id='edge2'   /> <line x1=\"100\" y1=\"170\" x2=\"99.5\" y2=\"100.0\" stroke=\"black\" stroke-width=\"2px\"  id='edge2'   marker-end='url(#arrow)' />  </g> </svg>"
      ],
      "text/plain": [
       "<rg.graph.viz.ring_diagram at 0x2114ec3e5f8>"
      ]
     },
     "execution_count": 7,
     "metadata": {},
     "output_type": "execute_result"
    }
   ],
   "source": [
    "ring_diagram(sunset)"
   ]
  },
  {
   "cell_type": "markdown",
   "metadata": {},
   "source": [
    "### all the propagators look like this"
   ]
  },
  {
   "cell_type": "code",
   "execution_count": null,
   "metadata": {},
   "outputs": [],
   "source": [
    "rg._product_([scalar_propagator(maps[i][:L], maps[i][L:]).value for i in maps.keys()])"
   ]
  },
  {
   "cell_type": "code",
   "execution_count": null,
   "metadata": {},
   "outputs": [],
   "source": [
    "#below is displayed with the source sink flow used to solve constraints and not the loop flow...\n",
    "#but we can see from the propagators that e0 and e1 flow in the *some* direction and e1 flows opposite for each loop variable\n",
    "#it is important that the loop variables are represented with opposite signs for the set of propagaors\n",
    "ring_diagram(sunset, options={\"show_labels\"})"
   ]
  },
  {
   "cell_type": "code",
   "execution_count": null,
   "metadata": {},
   "outputs": [],
   "source": [
    "apply_flow(sunset,set_circuit_flow)\n",
    "ring_diagram(sunset, options={\"show_labels\"})"
   ]
  },
  {
   "cell_type": "markdown",
   "metadata": {},
   "source": [
    "### example of the shorthand \n",
    "- convention must be known but useful to create a larger integral from matrix of coefficients"
   ]
  },
  {
   "cell_type": "code",
   "execution_count": null,
   "metadata": {},
   "outputs": [],
   "source": [
    "mat = [[0,1,0,1,1,1],\n",
    "       [0,-1,0,0,2,2]]\n",
    "scalar_propagator.from_basis_vector(mat,2)"
   ]
  },
  {
   "cell_type": "markdown",
   "metadata": {},
   "source": [
    "# A first look at the incidence matrix class"
   ]
  },
  {
   "cell_type": "code",
   "execution_count": null,
   "metadata": {
    "collapsed": true
   },
   "outputs": [],
   "source": [
    "itest = incidence_matrix.__sample__()\n",
    "itest"
   ]
  },
  {
   "cell_type": "code",
   "execution_count": null,
   "metadata": {
    "collapsed": true
   },
   "outputs": [],
   "source": [
    "INC = incidence_matrix.__sample__()\n",
    "#INC.flip_edges(1)\n",
    "D = ring_diagram(INC, options={ \"show_labels\":True, }) \n",
    "D"
   ]
  },
  {
   "cell_type": "code",
   "execution_count": null,
   "metadata": {
    "collapsed": true
   },
   "outputs": [],
   "source": [
    "all_circuits=  circuits(INC,sort=True)\n",
    "all_circuits"
   ]
  },
  {
   "cell_type": "markdown",
   "metadata": {},
   "source": [
    "# now take a look at one of the spanning rees"
   ]
  },
  {
   "cell_type": "code",
   "execution_count": null,
   "metadata": {
    "collapsed": true
   },
   "outputs": [],
   "source": [
    "#show_spanning_trees(INC)"
   ]
  },
  {
   "cell_type": "code",
   "execution_count": null,
   "metadata": {
    "collapsed": true
   },
   "outputs": [],
   "source": [
    "tree = INC.spanning_trees.iloc[-1].values\n",
    "tree_cuts = INC.edge_complement(tree)\n",
    "print(tree_cuts)\n",
    "C = ring_diagram(INC, options={\"show_labels\" :True,  \"cut_edges\": tree_cuts}) \n",
    "C#._repr_html_()"
   ]
  },
  {
   "cell_type": "markdown",
   "metadata": {},
   "source": [
    "# Edge Orientations\n",
    "given cicuits, we can actually rank them by closeness to root and then we can incrementally orientate them in different ways\n",
    "\n",
    "(1) Choose a source and sink delegate on each circuit and have allow flow towards the sink\n",
    "\n",
    "(2) Respect loop momentum"
   ]
  },
  {
   "cell_type": "code",
   "execution_count": null,
   "metadata": {
    "collapsed": true
   },
   "outputs": [],
   "source": [
    "#todo the last circuit is degenerate\n",
    "INC = incidence_matrix.__sample__()\n",
    "all_circuits = circuits(INC,INC.spanning_trees.iloc[0].values)\n",
    "print(all_circuits)"
   ]
  },
  {
   "cell_type": "markdown",
   "metadata": {},
   "source": [
    "# set default circuit flow"
   ]
  },
  {
   "cell_type": "code",
   "execution_count": null,
   "metadata": {
    "collapsed": true
   },
   "outputs": [],
   "source": [
    "INC = incidence_matrix.__sample__()\n",
    "#todo technicall need to reload cicuts but they are ok\n",
    "all_circuits = circuits(INC,INC.spanning_trees.iloc[0].values)\n",
    "circ = all_circuits[1]\n",
    "#print(circ)\n",
    "res = set_circuit_flow(INC,circ)\n",
    "#print(res)\n",
    "#print(\"edge comp\", circ)\n",
    "ring_diagram(INC, options={\"show_labels\" :True,  \"cut_edges\": INC.edge_complement(circ)}) "
   ]
  },
  {
   "cell_type": "markdown",
   "metadata": {},
   "source": [
    "# circuit source sink flow"
   ]
  },
  {
   "cell_type": "code",
   "execution_count": null,
   "metadata": {
    "collapsed": true
   },
   "outputs": [],
   "source": [
    "INC = incidence_matrix.__sample__()\n",
    "#todo technicall need to reload cicuts but they are ok\n",
    "all_circuits = circuits(INC,INC.spanning_trees.iloc[0].values)\n",
    "circ = all_circuits[1]\n",
    "#print(circ)\n",
    "res = set_source_sink_flow(INC,circ)\n",
    "print(\"source,sink\",res)\n",
    "#print(res)\n",
    "#print(\"edge comp\", circ)\n",
    "ring_diagram(INC, options={\"show_labels\" :True,  \"cut_edges\": INC.edge_complement(circ)}) "
   ]
  },
  {
   "cell_type": "markdown",
   "metadata": {},
   "source": [
    "# all together now...\n",
    "\n",
    "cicuits are ordered based on the average depth of vertices in the cicuit. Outer rings score best\n",
    "\n",
    "We process all cicuits in that order"
   ]
  },
  {
   "cell_type": "markdown",
   "metadata": {},
   "source": [
    "Suppose we dont remember anything from the last processed circuit..."
   ]
  },
  {
   "cell_type": "code",
   "execution_count": null,
   "metadata": {
    "collapsed": true
   },
   "outputs": [],
   "source": [
    "apply_flow(INC,source_sink_flow)\n",
    "ring_diagram(INC, options={\"show_labels\" :True}) "
   ]
  },
  {
   "cell_type": "code",
   "execution_count": null,
   "metadata": {
    "collapsed": true
   },
   "outputs": [],
   "source": []
  },
  {
   "cell_type": "markdown",
   "metadata": {},
   "source": [
    "# Other examples"
   ]
  },
  {
   "cell_type": "code",
   "execution_count": null,
   "metadata": {
    "collapsed": true
   },
   "outputs": [],
   "source": [
    "simp = incidence_matrix(2,2,\n",
    "                       [ [0,1], [1,0]  ],\n",
    "                       external_vertices=[0,1])\n",
    "\n",
    "sunset = incidence_matrix(3,2,\n",
    "                       [ [0,1], [1,0], [0,1]  ],\n",
    "                       external_vertices=[0,1])\n",
    "\n",
    "bog = incidence_matrix(7,6,\n",
    "                       [ [0,1], [1,3], [0,2], [3,2], [3,5], [2,4], [4,5]  ],\n",
    "                       external_vertices=[0,1,4,5])\n",
    "\n",
    "#get cicuits using any spanning tree and produce a sink flow ordering\n",
    "set_source_sink_flow(simp,circuits(simp)[0])\n",
    "#simp.constraint_system(True)\n",
    "ring_diagram(simp)"
   ]
  },
  {
   "cell_type": "code",
   "execution_count": null,
   "metadata": {
    "collapsed": true
   },
   "outputs": [],
   "source": [
    "show_spanning_trees(simp)"
   ]
  },
  {
   "cell_type": "code",
   "execution_count": null,
   "metadata": {
    "collapsed": true
   },
   "outputs": [],
   "source": [
    "simp = incidence_matrix(3,3,\n",
    "                       [ [0,1], [1,2], [2,0]  ],\n",
    "                       external_vertices=[0,1])\n",
    "ring_diagram(simp)"
   ]
  },
  {
   "cell_type": "code",
   "execution_count": null,
   "metadata": {
    "collapsed": true
   },
   "outputs": [],
   "source": [
    "show_spanning_trees(simp)"
   ]
  },
  {
   "cell_type": "code",
   "execution_count": null,
   "metadata": {
    "collapsed": true
   },
   "outputs": [],
   "source": [
    "simp = incidence_matrix(4,4,\n",
    "                       [ [0,1], [1,2], [2,3], [3,0]  ],\n",
    "                       external_vertices=[0,1])\n",
    "ring_diagram(simp)"
   ]
  },
  {
   "cell_type": "code",
   "execution_count": null,
   "metadata": {
    "collapsed": true
   },
   "outputs": [],
   "source": [
    "#TODO: visual style for and implementation of multiple external legs\n",
    "#perhaps an option for simple diagrams to force certain types of loops and ignore hierarchy\n",
    "\n",
    "#save svg todo find save html tp pdf solution\n",
    "#with open (\"test.svg\", \"w\") as f:\n",
    "#    f.write(ring_diagram(sunset, options={\"show_labels\"})._repr_html_())"
   ]
  }
 ],
 "metadata": {
  "kernelspec": {
   "display_name": "Python 3",
   "language": "python",
   "name": "python3"
  }
 },
 "nbformat": 4,
 "nbformat_minor": 2
}
