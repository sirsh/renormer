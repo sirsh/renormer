{
 "cells": [
  {
   "cell_type": "code",
   "execution_count": 1,
   "metadata": {
    "collapsed": true
   },
   "outputs": [],
   "source": [
    "from sympy import *\n",
    "import operator\n",
    "import functools\n",
    "import math\n",
    "import pandas as pd\n",
    "import numpy as np\n",
    "\n",
    "init_printing()"
   ]
  },
  {
   "cell_type": "code",
   "execution_count": 2,
   "metadata": {
    "collapsed": true
   },
   "outputs": [],
   "source": [
    "# class cycle_finder(object):\n",
    "#     \"\"\"\n",
    "#     Adapted from\n",
    "#     https://stackoverflow.com/questions/12367801/finding-all-cycles-in-undirected-graphs\n",
    "#     See also\n",
    "#     http://dspace.mit.edu/bitstream/handle/1721.1/68106/FTL_R_1982_07.pdf\n",
    "#     #graph = [[1, 2], [1, 3], [1, 4], [2, 3], [3, 4], [2, 6], [4, 6], [8, 7], [8, 9], [9, 7]]\n",
    "#     graph = [[0,1], [0,2], [1,2], [1,3], [2,3]]\n",
    "\n",
    "#     for p in cycle_finder(graph): print(p) #returns the edges in the circuit indexed from the graph\n",
    "#     for p in cycle_finder(graph, \"vertices\"): # returns the vertices in the cicuit\n",
    "\n",
    "#     \"\"\"\n",
    "#     def __init__(self, graph_edges, c_type=\"edges\"):\n",
    "#         #i need them sorted here - this is an undirected graph too\n",
    "#         self.graph = graph_edges#[sorted(l) for l in list(graph_edges)]\n",
    "#         self.cycles = []  \n",
    "#         self.c_type = c_type\n",
    "#         for edge in self.graph:\n",
    "#             for node in edge:  \n",
    "#                 self.findNewCycles([node])\n",
    "    \n",
    "#     def __expand_edges__(self, vlist):\n",
    "#         for i,v in enumerate(vlist): \n",
    "#             yield sorted([vlist[i-1],v])\n",
    "            \n",
    "#     @property\n",
    "#     def cycle_basis(self):\n",
    "#         l = list(self)\n",
    "#         b = np.zeros((len(l),len(self.graph)),np.int)\n",
    "#         for i,r in enumerate(b): r[l[i]] = 1\n",
    "#         return b\n",
    "    \n",
    "#     def __iter__(self):\n",
    "#         for cy in self.cycles:\n",
    "#             res = [node for node in cy]\n",
    "#             if self.c_type == \"vertices\": yield res\n",
    "#             else: yield [self.graph.index(e) for e in self.__expand_edges__(res)]\n",
    "               \n",
    "#     def findNewCycles(self,path):\n",
    "#         def isNew(path): return not path in self.cycles\n",
    "#         def visited(node, path):  return node in path\n",
    "#         def invert(path):return rotate_to_smallest(path[::-1])\n",
    "#         def rotate_to_smallest(path):\n",
    "#             n = path.index(min(path))\n",
    "#             return path[n:]+path[:n]   \n",
    "        \n",
    "#         start_node,next_node,sub = path[0],None,[]\n",
    "        \n",
    "#         for edge in self.graph:\n",
    "#             node1, node2 = edge\n",
    "#             if start_node in edge:\n",
    "#                     next_node = node2 if node1 == start_node else node1\n",
    "#             if not visited(next_node, path):\n",
    "#                     sub = [next_node]\n",
    "#                     sub.extend(path)\n",
    "#                     self.findNewCycles(sub);\n",
    "#             elif len(path) > 2  and next_node == path[-1]:\n",
    "#                     p = rotate_to_smallest(path);\n",
    "#                     inv = invert(p)\n",
    "#                     if isNew(p) and isNew(inv):  \n",
    "#                         self.cycles.append(p)\n",
    "                        "
   ]
  },
  {
   "cell_type": "code",
   "execution_count": 917,
   "metadata": {},
   "outputs": [],
   "source": [
    "\n",
    "    \n",
    "class incidence_matrix(np.ndarray):  \n",
    "    #things to watch out for - handling multiple edges\n",
    "    #todo allow a dictionary of letters maybe for vertices to make it easier to init and maybe consider not using sizes\n",
    "    #alternative loading model where we do not compute the k_matrix?\n",
    "    #alternative where we do not add the edge count and vertex count - seems a bit inconvenient\n",
    "    def __new__(self, edge_count, vertex_count, edges=[],external_vertices=[], external_vertex_degrees=None):\n",
    "        size = (vertex_count+ (1 if len(external_vertices) > 0 else  0),edge_count+len(external_vertices))\n",
    "        obj = super(incidence_matrix, self).__new__(self, size, np.int)  \n",
    "        obj[:] = 0 \n",
    "        obj.add_edges(edges + [[-1,ev] for ev in external_vertices])\n",
    "        obj._external_vertices = external_vertices\n",
    "        obj._internal_vertices = list(set(list(range(vertex_count))) - set(external_vertices))\n",
    "        \n",
    "        obj._kmatrix = obj.kirchhoff\n",
    "        obj._betti_1 = obj._kmatrix.degree()#~ whats the relatioship?\n",
    "    \n",
    "        obj._num_internal_edges = len(edges)\n",
    "        \n",
    "        return obj\n",
    "         \n",
    "        \n",
    "    def ensure_edge_directions(self,d):\n",
    "        \"\"\"Supply a dictoinary with edge id and vertex e.g. { 0: [1,2]} means edge 0 takes vertex 1 to vertex 2\"\"\"\n",
    "        for k,v in d.items():self[:,k][v[0]],self[:,k][v[1]] = 1, -1\n",
    "        \n",
    "    def flip_edges(self,edge_indecies):\n",
    "        if not isinstance(edge_indecies,list): edge_indecies =[edge_indecies]\n",
    "        for e in edge_indecies:self[:,e]*= -1\n",
    "        return self\n",
    "        \n",
    "    def reset_edge_orders(self, edges):pass\n",
    "    def reset_edge_orders_from_hierarchy(self):pass\n",
    "    \n",
    "    def get_all_connections(self,a,b):\n",
    "        for i,r in enumerate(self.T):\n",
    "            if(r[a]==1) and (r[b]==-1):yield i, 1\n",
    "            if(r[a]==-1) and (r[b]==1):yield i, -1\n",
    "            \n",
    "    def try_directed_edge_index(self,a,b):\n",
    "        \"\"\"\n",
    "        checks all the columns (edges) to see if there is an edge that starts at a(1) and endgs at b(-1)\n",
    "        \"\"\"\n",
    "        for i,r in enumerate(self.T):\n",
    "            if(r[a]==1) and (r[b]==-1):\n",
    "                return i\n",
    "        return None\n",
    "    \n",
    "    def exists_directed_edge(self,a,b):\n",
    "        return self.try_directed_edge_index != None\n",
    "    \n",
    "    @property\n",
    "    def cycle_basis(self): return cycle_finder(self.edges).cycle_basis\n",
    "    \n",
    "    @property\n",
    "    def edges(self): return [self.directed_edge_as_vertices(e) for e in range(self._num_internal_edges)]\n",
    "        \n",
    "    @property\n",
    "    def internal_vertices (self):return self._internal_vertices\n",
    "    \n",
    "    @property\n",
    "    def external_vertices (self):return self._external_vertices\n",
    "    \n",
    "    def get_coincident_vertices_any(self, vset,exclusions = []):\n",
    "        items = []\n",
    "        for v in vset:\n",
    "            for _v in self.get_coincident_vertices(v,exclusions):\n",
    "                if _v not in items: items.append(_v)\n",
    "        return items\n",
    "        \n",
    "    def get_incident_edges(self, v):return np.nonzero(self[v])[0]\n",
    "        \n",
    "    def get_coincident_vertices(self, v,exclusions = []):\n",
    "        #these are the data columns for which v has edge data\n",
    "        v_inc_frame = self[:,np.where(self[v]!=0)[0]]\n",
    "        exclusions = exclusions + [v]\n",
    "        #now get the row index for things that are co-incident using the trick but just checking non zero rows\n",
    "        #this is a bit odd and probably better way but count non zero columns uses the count and nonzero combined \n",
    "        #and we ensure that v is not in the list which is requred when it has only one edge for example\n",
    "        #I check if it is incoming or outgoing - we could change it to in and out by changing != 0 to +1\n",
    "        #the 1 is important for directionality bias e.g. when drawing we only want to draw the directed edge or handle unidirectionality\n",
    "        incident_vertices = [l for l in list(np.nonzero((np.count_nonzero(v_inc_frame,axis=1)==1).astype(int))[0]) if l not in exclusions]\n",
    "        return incident_vertices\n",
    "        \n",
    "    def add_edges(self, eset):\n",
    "        for i, v in enumerate(eset): \n",
    "            self[v[0],i],self[v[1],i] = 1,-1\n",
    "            \n",
    "            \n",
    "    @property\n",
    "    def tree_distance_map(self):\n",
    "        dmap = {}\n",
    "        for h in INC.vertex_hierarchy():\n",
    "            for l in h[1]:dmap[l]= h[0]\n",
    "        return dmap\n",
    "\n",
    "    def vertex_hierarchy(self, vset=[-1], d=0, h={} ):\n",
    "        \"\"\"\n",
    "        recursion from external nodes or other seed set\n",
    "        \"\"\"\n",
    "        if d ==0: h= {}\n",
    "        #need to re-think the indexing a little\n",
    "        #this is so that I can store the last vertex (inf) as either -1 or the length of the thing\n",
    "        if -1 in vset:h[len(self)-1] = 2\n",
    "        for _v in vset: h[_v] = d\n",
    "        if len(vset) > 0:yield d, vset\n",
    "        #look for any coincident vertices that are not on my level or above\n",
    "        next_layer = self.get_coincident_vertices_any(vset ,vset+ list(h.keys()))\n",
    "        if(len(next_layer)>0):\n",
    "            for t in self.vertex_hierarchy(next_layer,d+1,h):\n",
    "                yield t\n",
    "    \n",
    "   \n",
    "    def __coincident_vertex__(self, v, e):\n",
    "        col = self[:,e]\n",
    "        [e for e in np.where(INC[:,1]!=0)[0] if e != 2][0]\n",
    "        return [i for i in np.where(col != 0)[0] if i != v][0]\n",
    "   \n",
    "    def get_alt_adjacency(self):\n",
    "        d = {}\n",
    "        for i,r in enumerate(self):\n",
    "            eset = self.get_incident_edges(i)\n",
    "            l = []\n",
    "            for e in eset: l.append(( self.__coincident_vertex__(i,e),e, \"I\" if e < len(self.edges) else \"E\")) \n",
    "            d[i] = l\n",
    "        return d\n",
    "    \n",
    "    @property\n",
    "    def flat_adjacency(self): return [ list(np.nonzero(v)[0]) for v in  self.adjacency_with_inf]\n",
    "      \n",
    "    @property\n",
    "    def adjacency(self):\n",
    "        #[ np.nonzero(v)[0]for v in  INC.adjacency_with_inf]\n",
    "        return self.adjacency_with_inf()[:-1,:-1]\n",
    "  \n",
    "    def adjacency_with_inf(self,restricted_edges=None,use_edge_labels_1indexed=False):\n",
    "        ad = np.zeros((len(self),len(self)),np.int)\n",
    "        for i, v in enumerate(self):  \n",
    "            if restricted_edges is None or i in restricted_edges:\n",
    "                #does not work for multiple edges - what do we want to do about this?\n",
    "                #todo - count how many times it is connected and then create a lookup of edges\n",
    "                ad[i][self.get_coincident_vertices(i)]  =1 if not use_edge_labels_1indexed else self.get_incident_edges(i)+ 1\n",
    "        return ad#[:-1,:-1] if len(self._external_vertices) > 0 else ad\n",
    "    \n",
    "    @property\n",
    "    def edge_labels(self):\n",
    "        #the last row is the external vertex so check which edges are connected\n",
    "        ex_edges = np.nonzero(self[-1])[0]\n",
    "        return [ \"p\"+str(i) for i in range(self.shape[-1]) if i not in ex_edges]   +   [ \"q\"+str(i) for i in range(len(ex_edges))]\n",
    "       \n",
    "    @property\n",
    "    def vertex_constraints(self,display=False):\n",
    "        edge_labels = self.edge_labels\n",
    "        for v in self:\n",
    "            yield delta_constraint([edge_labels[i] for i in np.nonzero(v)[0]])\n",
    "            \n",
    "    @property\n",
    "    def edge_label_matrix(self): return Matrix(self) * diag( *self.edge_labels)\n",
    "    \n",
    "    def constraint_system(self,solve=False): \n",
    "        equations = []\n",
    "        incmat = self.edge_label_matrix\n",
    "        for i in range(incmat.shape[0]): \n",
    "            equations.append(functools.reduce(operator.add, incmat.row(i), 0))\n",
    "        mat= Matrix(equations)\n",
    "        return mat if not solve else solve(mat)\n",
    "        \n",
    "    @property\n",
    "    def symbol_adjacency(self):pass\n",
    "    \n",
    "    def __sym_i_cofactor__(mat,r=-1,c=-1):\n",
    "        \"\"\"remove ith row and ith column\"\"\"\n",
    "        temp = Matrix(mat)\n",
    "        if r==-1: r = temp.shape[0]-1\n",
    "        if c==-1: c = temp.shape[1]-1\n",
    "        temp.col_del(c)\n",
    "        temp.row_del(r)\n",
    "        return temp\n",
    "    \n",
    "    def _internal_symbols_(self): \n",
    "        ex_edges = np.nonzero(self[-1])[0]\n",
    "        return [Symbol(\"p\"+str(i)) for i in range(self.shape[-1]) if i not in ex_edges]\n",
    "    \n",
    "    def _external_symbols_(self): \n",
    "        ex_edges = np.nonzero(self[-1])[0]\n",
    "        return [Symbol(\"q\"+str(i)) for i in range(len(ex_edges))]\n",
    "    \n",
    "    @property\n",
    "    def kirchhoff(self):\n",
    "        #get the laplacian\n",
    "        L = self.edge_label_matrix * self.edge_label_matrix.T\n",
    "        #scale the terms because of the way we did it\n",
    "        for s in self._internal_symbols_(): L=L.subs({s**2:s})\n",
    "        #treat all external edges as z so we can get a polynomial in z for forest order\n",
    "        for s in self._external_symbols_(): L=L.subs({s**2:Symbol(\"z\")}) \n",
    "        #take the reduced laplacian\n",
    "        reduced =  incidence_matrix.__sym_i_cofactor__(L)  \n",
    "        #solve determinant\n",
    "        P= reduced.det(method='berkowitz')\n",
    "        #make it pretty\n",
    "        res = collect(expand(P),Symbol(\"z\"))\n",
    "        res = Poly(res, Symbol(\"z\"))\n",
    "        return res\n",
    "    \n",
    "    @property\n",
    "    def first_betti_number(self): return self._betti_1\n",
    "    \n",
    "    @property\n",
    "    def spanning_trees(self): return pd.DataFrame(self.k_forests(-1))\n",
    "    \n",
    "    def k_forests(self, order): \n",
    "        p = self._kmatrix.coeffs()[order]\n",
    "        #this must be considered temporary - one thing might be to use symbols that evaluate to useful things instead of bare symbols\n",
    "        for monomials in p.as_ordered_terms(): \n",
    "            edges = [int(str(e).replace(\"p\",\"\")) for e in monomials.free_symbols]\n",
    "            yield edges\n",
    "            \n",
    "    def edge_complement(self,edges):\n",
    "        return list(set(range(len(self.edges))) - set(edges))\n",
    "    \n",
    "    def directed_edge_as_vertices(self,e):\n",
    "        \"\"\"\n",
    "        the edge goes from cell marked 1 to cell marked -1\n",
    "        \"\"\"\n",
    "        e = self[:,e]\n",
    "        return [np.where(e==1)[0][0],np.where(e==-1)[0][0]]\n",
    "            "
   ]
  },
  {
   "cell_type": "code",
   "execution_count": 918,
   "metadata": {},
   "outputs": [
    {
     "data": {
      "text/plain": [
       "incidence_matrix([[ 1,  0, -1,  0,  0, -1,  0,  0,  0, -1,  0,  0],\n",
       "                  [-1,  1,  0,  0,  0,  0,  0,  0,  0,  0, -1,  0],\n",
       "                  [ 0, -1,  1,  0,  0,  0, -1,  0,  0,  0,  0, -1],\n",
       "                  [ 0,  0,  0,  1, -1,  1,  0,  0, -1,  0,  0,  0],\n",
       "                  [ 0,  0,  0, -1,  1,  0,  1,  1,  0,  0,  0,  0],\n",
       "                  [ 0,  0,  0,  0,  0,  0,  0, -1,  1,  0,  0,  0],\n",
       "                  [ 0,  0,  0,  0,  0,  0,  0,  0,  0,  1,  1,  1]])"
      ]
     },
     "execution_count": 918,
     "metadata": {},
     "output_type": "execute_result"
    }
   ],
   "source": [
    "itest = incidence_matrix(9, 6,\n",
    "                       [ [0,1], [1,2], [2,0], [3,4],[4,3],[3,0],[4,2], [4,5], [5,3] ],\n",
    "                       external_vertices=[0,1,2])\n",
    "itest"
   ]
  },
  {
   "cell_type": "code",
   "execution_count": 919,
   "metadata": {},
   "outputs": [
    {
     "data": {
      "text/html": [
       "<div>\n",
       "<style>\n",
       "    .dataframe thead tr:only-child th {\n",
       "        text-align: right;\n",
       "    }\n",
       "\n",
       "    .dataframe thead th {\n",
       "        text-align: left;\n",
       "    }\n",
       "\n",
       "    .dataframe tbody tr th {\n",
       "        vertical-align: top;\n",
       "    }\n",
       "</style>\n",
       "<table border=\"1\" class=\"dataframe\">\n",
       "  <thead>\n",
       "    <tr style=\"text-align: right;\">\n",
       "      <th></th>\n",
       "      <th>0</th>\n",
       "      <th>1</th>\n",
       "      <th>2</th>\n",
       "      <th>3</th>\n",
       "      <th>4</th>\n",
       "      <th>5</th>\n",
       "      <th>6</th>\n",
       "      <th>7</th>\n",
       "      <th>8</th>\n",
       "      <th>9</th>\n",
       "      <th>10</th>\n",
       "      <th>11</th>\n",
       "    </tr>\n",
       "  </thead>\n",
       "  <tbody>\n",
       "    <tr>\n",
       "      <th>0</th>\n",
       "      <td>1</td>\n",
       "      <td>0</td>\n",
       "      <td>-1</td>\n",
       "      <td>0</td>\n",
       "      <td>0</td>\n",
       "      <td>-1</td>\n",
       "      <td>0</td>\n",
       "      <td>0</td>\n",
       "      <td>0</td>\n",
       "      <td>-1</td>\n",
       "      <td>0</td>\n",
       "      <td>0</td>\n",
       "    </tr>\n",
       "    <tr>\n",
       "      <th>1</th>\n",
       "      <td>-1</td>\n",
       "      <td>1</td>\n",
       "      <td>0</td>\n",
       "      <td>0</td>\n",
       "      <td>0</td>\n",
       "      <td>0</td>\n",
       "      <td>0</td>\n",
       "      <td>0</td>\n",
       "      <td>0</td>\n",
       "      <td>0</td>\n",
       "      <td>-1</td>\n",
       "      <td>0</td>\n",
       "    </tr>\n",
       "    <tr>\n",
       "      <th>2</th>\n",
       "      <td>0</td>\n",
       "      <td>-1</td>\n",
       "      <td>1</td>\n",
       "      <td>0</td>\n",
       "      <td>0</td>\n",
       "      <td>0</td>\n",
       "      <td>-1</td>\n",
       "      <td>0</td>\n",
       "      <td>0</td>\n",
       "      <td>0</td>\n",
       "      <td>0</td>\n",
       "      <td>-1</td>\n",
       "    </tr>\n",
       "  </tbody>\n",
       "</table>\n",
       "</div>"
      ],
      "text/plain": [
       "   0   1   2   3   4   5   6   7   8   9   10  11\n",
       "0   1   0  -1   0   0  -1   0   0   0  -1   0   0\n",
       "1  -1   1   0   0   0   0   0   0   0   0  -1   0\n",
       "2   0  -1   1   0   0   0  -1   0   0   0   0  -1"
      ]
     },
     "execution_count": 919,
     "metadata": {},
     "output_type": "execute_result"
    }
   ],
   "source": [
    "pd.DataFrame(itest).iloc[[0,1,2]]"
   ]
  },
  {
   "cell_type": "code",
   "execution_count": null,
   "metadata": {
    "collapsed": true
   },
   "outputs": [],
   "source": []
  },
  {
   "cell_type": "code",
   "execution_count": 973,
   "metadata": {},
   "outputs": [],
   "source": [
    "class arc(object):\n",
    "    def __init__(self, angles, radius,center=None,size=None,pid=None,is_cut_line=False):\n",
    "        self.pid = pid\n",
    "        self.radius = radius\n",
    "        object_radius = 20 + radius\n",
    "        self.center = (object_radius,object_radius) if center is None else center\n",
    "        self.size=(2*object_radius,2*object_radius) if size is None else size\n",
    "        self.body = \"\"\n",
    "        self.header =  arc.get_header()\n",
    "        \n",
    "        #print(pid, \":angles for pid\", angles)\n",
    "        startAngle,endAngle = angles[0],angles[1]    \n",
    "        mid_angle = (startAngle+endAngle)/2.\n",
    "        self._is_cut_line = is_cut_line\n",
    "        \n",
    "        #self.body+= \"\"\"<circle cx=\"{0}\" cy=\"{1}\" r=\"2\" stroke=\"black\" stroke-width=\"1\" fill=\"red\" /> \"\"\".format(*self.center)\n",
    "            \n",
    "        self.body+= self.__describeArc__(startAngle, endAngle)\n",
    "        if not self._is_cut_line:\n",
    "            self.body+= self.__describeArc__(startAngle, mid_angle, decorations=\"marker-end='url(#arrow)'\")\n",
    "           \n",
    "    @staticmethod\n",
    "    def get_header():\n",
    "                 return \"\"\"<defs><marker id=\"arrow\"  markerUnits=\"strokeWidth\" markerWidth='5' markerHeight='8' refX='0' refY='2' orient=\"auto\">\n",
    "                                      <path d=\"M0,0 V4 L2,2 Z\" style=\"fill: #000000;\" /> </marker></defs>\"\"\"\n",
    "     \n",
    "    \n",
    "    def __polarToCartesian__(self, angleInDegrees, radius, center):\n",
    "        centerX, centerY = center[0], center[1]\n",
    "        angleInRadians = (angleInDegrees-90) *math.pi / 180.0;\n",
    "        return int( centerX + (radius * math.cos(angleInRadians))), int( centerY + (radius * math.sin(angleInRadians))), angleInDegrees\n",
    "          \n",
    "    def __describeArc__(self, startAngle, endAngle, decorations=\"\"):\n",
    "        radius = self.radius\n",
    "        wrap,sweepFlag = (0,0) if endAngle < startAngle  else (0,1)\n",
    "\n",
    "        start = self.__polarToCartesian__(startAngle+wrap, radius, self.center) \n",
    "        end = self.__polarToCartesian__(endAngle+wrap, radius, self.center)\n",
    "        colour = \"black\"\n",
    "        largeArcFlag = \"0\" if endAngle - startAngle <= 180 else \"1\"\n",
    "        #print(startAngle+wrap,endAngle+wrap, largeArcFlag, sweepFlag)\n",
    "        d = [  \"M\", start[0], start[1], \"A\", radius, radius, 0, largeArcFlag, sweepFlag, end[0], end[1]  ]\n",
    "        d = \" \".join([str(_d)+\" \" for _d  in d] )   \n",
    "        \n",
    "        transfrm =  \"\"#  \"\"\"transform=\"rotate(180, {}, {}) scale(1, -1) translate(0, -150)\" \"\"\".format(*self.center) if self.change_sense else \"\"\n",
    "        pidattr = \"\" if self.pid == None else \"\"\"id='edge{}'\"\"\".format(self.pid)\n",
    "        \n",
    "        dasharray = \"\" if not self._is_cut_line else \"\"\"stroke-dasharray='1,5' \"\"\"\n",
    "        \n",
    "        return \"\"\"<path {} d=\"{}\" stroke=\"{}\"  stroke-width:3px\" {} {} {}/>\"\"\".format(pidattr, d,colour, decorations, transfrm, dasharray) \n",
    "    \n",
    "    def __repr__(self):return self.header + self.body\n",
    "    \n",
    "    def _repr_html_(self): \n",
    "        return   \"\"\"<svg xmlns=\"http://www.w3.org/2000/svg\" xmlns:xlink=\"http://www.w3.org/1999/xlink\" version=\"1.1\" x=\"{1}\" y=\"{2}\" width=\"{3}\" height=\"{4}\">\n",
    "      <g fill=\"none\" stroke=\"black\" stroke-width=\"1.6\" stroke-linecap=\"round\"> {0}  </g> </svg>\"\"\".format(self.__repr__(),  *self.center, *self.size)\n",
    "\n",
    "#arc((130,250),radius=50,change_sense=False)\n",
    "\n",
    "class ring_diagram(object):\n",
    "    \"\"\"\n",
    "    This one uses a concentric circle arrangement starting from nodes connected to v_\\{infty}\n",
    "    This is a rough prototype to play around with the SVG\n",
    "    Actually this needs a better integration with the incident matrix i.e. the incident matrix needs some concepts\n",
    "    that are used in drawing such as drawing callbacks for arcs and edges mapped to a coodinate system\n",
    "    then we should be able to enumerate through all arcs and edges in the diagram\n",
    "    that would make it easy to show only one edge w.r.t the origin and be alot more functional\n",
    "    important thing is to make sure the drawing is driven from the incidence matrix \n",
    "    this avoids the problem of connecting out to the outer rings which was just a test run\n",
    "    the incident matrix then needs to be validated by independent cycles\n",
    "    \"\"\"\n",
    "    def __init__(self, inc_matrix, options={}):\n",
    "        self.x = 0\n",
    "        self.y = 0\n",
    "        self.margin = 10\n",
    "        self.radius = 90\n",
    "        center = self.radius+self.margin\n",
    "        self._size=(200,200)\n",
    "        self._center = (center,center)\n",
    "        self._options = options\n",
    "        self._inc = inc_matrix\n",
    "        self._vertex_depths = [v[1] for v in list(self._inc.vertex_hierarchy())][1:]\n",
    "        self._metadata = {}\n",
    "        self.body = \"\"\n",
    "        \n",
    "        #for spanning tree - this is not general enough but quick fix\n",
    "        self._dashed_edges = [] if not \"cut_edges\" in options else options[\"cut_edges\"]\n",
    "            \n",
    "    @property\n",
    "    def external_vertices(self):mpass\n",
    "\n",
    "    def __circuit_permutations__(self):\n",
    "        #so for all adjacency matrix entries, permute so as to choose a particular cycle set\n",
    "        #oursource to algorithm\n",
    "        yield None\n",
    "        \n",
    "    def __circuit_edge_permutations__(self):\n",
    "        #for each cycle set, choose the independent cylces by fixing an edge delegate in each independent cicuit\n",
    "        yield None\n",
    "        \n",
    "    def __measure_inter_layer_chords__(self, existing_coords, proposed_coords):\n",
    "        return 0\n",
    "    \n",
    "    def __polarToCartesian__(self, angleInDegrees, radius, center):\n",
    "        centerX, centerY = center[0], center[1]\n",
    "        angleInRadians = (angleInDegrees-90) *math.pi / 180.0;\n",
    "        return int( centerX + (radius * math.cos(angleInRadians))), int( centerY + (radius * math.sin(angleInRadians))), angleInDegrees\n",
    "    \n",
    "    def __set_vertex_property__(self, i, key, value):\n",
    "        if i not in self._metadata: self._metadata[i] = {}\n",
    "        self._metadata[i][key] = value\n",
    "        \n",
    "    def __get_vertex_property__(self, i, key,value):\n",
    "        if i in self._metadata and key in self._metadata[i]:return self._metadata[i][p]\n",
    "    \n",
    "    def __arrange__(self, angle, radius, vset, center=None, prev_layer_connections={}):\n",
    "        center = center if center is not None else self._center\n",
    "        if angle == 360: \n",
    "            self.__set_vertex_property__(vset[0], \"point\", center)\n",
    "            return [center]#if the angle is 360 this can only be a dot in the center\n",
    "        m,accepted = 1,None\n",
    "        for offset in [angle]:\n",
    "            proposed = [self.__polarToCartesian__( (i+1)*angle, radius,center) for i, v in enumerate(vset)]\n",
    "            _m = self.__measure_inter_layer_chords__(prev_layer_connections, proposed)\n",
    "            if m ==-1 or _m < m: \n",
    "                accepted, m = proposed, _m\n",
    "                for i,v in enumerate(vset):\n",
    "                    self.__set_vertex_property__(v, \"point\", [proposed[i][0],proposed[i][1]])\n",
    "                    self.__set_vertex_property__(v, \"angle\", proposed[i][-1])\n",
    "                    self.__set_vertex_property__(v, \"radius\", radius)\n",
    "                            \n",
    "        return accepted\n",
    "\n",
    "    def __describeArc__(self, startAngle, endAngle, radius,pid=None):\n",
    "        return arc((startAngle,endAngle),radius, self._center,self._size, pid=pid, is_cut_line=(pid in self._dashed_edges)).body    \n",
    "           \n",
    "    def try_get_connecting_edges(self, v):\n",
    "        #look up the metadata for v and get all edges that are adjacent to it that we know about\n",
    "        #think about us and vs here - i may be mixing them up\n",
    "        for u in self._inc.get_coincident_vertices(v):\n",
    "            if u in self._metadata and v in self._metadata: \n",
    "                _u,_v = u,v\n",
    "                #if the max length is exceeded, try to get a nice arc otherwise....\n",
    "                #max length is the length of the verticle chord connecting the bottom of one disk to the point on the outer disk          \n",
    "                pid = self._inc.try_directed_edge_index(_v,_u)\n",
    "                if pid == None: \n",
    "                    _u,_v = _v,_u #flip for drawing\n",
    "                    pid = self._inc.try_directed_edge_index(_v,_u)\n",
    "                    \n",
    "                #print(\"edge pid for\", _u, _v, pid)\n",
    "                \n",
    "                yield self.get_line([self._metadata[_u][\"point\"][0],\n",
    "                                     self._metadata[_u][\"point\"][1],\n",
    "                                     self._metadata[_v][\"point\"][0],\n",
    "                                     self._metadata[_v][\"point\"][1]],\n",
    "                                     pid=pid)\n",
    "        \n",
    "    def get_line(self, pts, colour=\"black\", dash_array=None,pid=None):\n",
    "        \n",
    "        midpoint = [(pts[0] + pts[2])/2.,(pts[1] + pts[3])/2.]            \n",
    "        #l = \"\"\"<line x1=\"{0}\" y1=\"{1}\" x2=\"{2}\" y2=\"{3}\" stroke=\"{4}\" stroke-width:2px\"  {5}   />\"\"\".format(*pts, colour,dash_array )\n",
    "        pidattr = \"\" if pid == None else \"\"\"id='edge{}'\"\"\".format(pid)\n",
    "        dasharray =  \"\" if pid not in self._dashed_edges else \"\"\"stroke-dasharray='1,7'\"\"\"\n",
    "        hl =\"\"\n",
    "        l = \"\"\"<path d=\"M{0} {1} L {2} {3}\" stroke=\"{4}\" stroke-width:2px\" {5} {6}  /> \"\"\".format(*pts, colour,pidattr,dasharray )\n",
    "        #print(l)\n",
    "        if pid not in self._dashed_edges:#only display if not cut edge\n",
    "            hl = \"\"\"<line x1=\"{0}\" y1=\"{1}\" x2=\"{2}\" y2=\"{3}\" stroke=\"{4}\" stroke-width:2px\"  {5}  marker-end='url(#arrow)' />\"\"\".format(pts[0], pts[1], midpoint[0], midpoint[1], colour,dash_array )\n",
    "        return l+hl\n",
    "    \n",
    "    def __edge_segments__(self,a,b,angle, radius, vset):\n",
    "        #clean this up; assume that we have a vset but we dont know what the angles are\n",
    "        #we assume that they are connected in a ring (works for multiple edge)?\n",
    "        #the incidence matrix must start 1 and go -1 to check if the edge exists in that way as we have assumed a layout here\n",
    "        \"\"\"\n",
    "        We always arrange vertices on disks separated by angles. Can only have vertices in [0,360]\n",
    "        We assume that the id is the arrangment id in order and that a<b for normal sense\n",
    "        if however b<a, then we have anticlockwise sense and we will change the angles for downstream reflection\n",
    "        \"\"\"\n",
    "        #if there are multiple edges, then allow - otherwise restrict direction - wrapping because its a ring\n",
    "        a,b = a%len(vset),b%len(vset)\n",
    "        offset_angles = [self.__polarToCartesian__( (i+1)*angle, radius,self._center) for i, v in enumerate(vset)]\n",
    "        \n",
    "        first = offset_angles[a][-1] % 360 # we should always start \n",
    "        second = offset_angles[b][-1] \n",
    "        \n",
    "        all_con = list(self._inc.get_all_connections(a,b))\n",
    "        if len (all_con) > 0: print(\"mili edges detected\")\n",
    "        \n",
    "        pid = self._inc.try_directed_edge_index(vset[a],vset[b])\n",
    "        if pid == None:\n",
    "            a,b = b,a\n",
    "            first,second = second,first\n",
    "            pid = self._inc.try_directed_edge_index(vset[a],vset[b])\n",
    "\n",
    "        cap = lambda x : 0 if x == 360 else x     \n",
    "        if a< b: return (first,second), pid\n",
    "        return (first,cap(second)), pid\n",
    "\n",
    "    def arrange_edges(self): \n",
    "        inc = self._inc\n",
    "        MD = self._metadata\n",
    "        def same_ring(a,b):\n",
    "            if \"radius\" in MD[a] and \"radius\" in MD[b]:\n",
    "                if MD[a][\"radius\"] == MD[b][\"radius\"]:return True\n",
    "            return False      \n",
    "        for p in MD.keys():\n",
    "            for q in self._metadata.keys():\n",
    "                if p >q:continue #diag\n",
    "                pq_cons = list(inc.get_all_connections(p,q))\n",
    "                for i, edge_meta in enumerate(pq_cons):\n",
    "                    a,b = (p,q) if edge_meta[-1] == 1 else (q,p) #check convention\n",
    "                    edge = [a,b]\n",
    "                    edge_id = edge_meta[0]\n",
    "                    \n",
    "                    if i > 1 or not same_ring(a,b): #max ring links or on a different ring\n",
    "                        self.body +=self.get_line([self._metadata[a][\"point\"][0],self._metadata[a][\"point\"][1],\n",
    "                                       self._metadata[b][\"point\"][0],self._metadata[b][\"point\"][1]],\n",
    "                                       pid=edge_id)\n",
    "                    else: \n",
    "                        angles = [MD[a][\"angle\"],MD[b][\"angle\"]]\n",
    "                        if i == 1:\n",
    "                            angles = [angles[0]%360,angles[1]%360] \n",
    "                        #temp hack\n",
    "                        if angles[0] - angles[1] >180 and angles[0] == 360:angles[0]=0\n",
    "                        print(edge_id,angles,i)\n",
    "                        self.body += self.__describeArc__(*angles, MD[a][\"radius\"], pid=edge_id )\n",
    "\n",
    "    def __display__(self):\n",
    "        ##arrangement algorithm\n",
    "        #each level of the hiearchy is given a radius >= 0 and maximally seperated items are added\n",
    "        #there are symmetric locations and these are chosen to minimise arc lengths\n",
    "        #I think maybe just try rotations of some integer factors of the freedom which is 360/|l| not including the one that gives the symmetry of course      \n",
    "        marker_style = arc.get_header()\n",
    "        self.body += marker_style\n",
    "        levels = len(self._vertex_depths)\n",
    "        \n",
    "        radii_margins = [20*(levels-(i)) for i in reversed(range(len(self._vertex_depths))) ]\n",
    "        angles = [(360./len(v)) for v in self._vertex_depths]\n",
    "        for i, vset in enumerate(self._vertex_depths): \n",
    "            radius = self.radius-radii_margins[i]\n",
    "            for coord in self.__arrange__(angles[i],radius , vset):\n",
    "                self.body+= \"\"\"<circle cx=\"{0}\" cy=\"{1}\" r=\"3\" stroke=\"black\" stroke-width=\"1\" fill=\"black\" /> \"\"\".format(*coord)\n",
    "                \n",
    "#             for j,v in enumerate(vset):#make loops\n",
    "#                 if len(vset) == 1: continue\n",
    "#                 edge, pid = self.__edge_segments__(j,j+1,angles[i],radius,vset)\n",
    "#                 #print(pid,edge)\n",
    "#                 self.body += self.__describeArc__(*edge, radius, pid=pid )\n",
    "\n",
    "#             if i > 0:#after the first layer, connect edges inter-layer\n",
    "#                 for v in vset: \n",
    "#                     for e in self.try_get_connecting_edges(v):  self.body += e\n",
    "                    \n",
    "        if \"show_labels\" in self._options:\n",
    "                for e in range(len(self._inc.edges)):\n",
    "                    self.body+= \"\"\"<text x=\"10%\" style=\"fill: #000000;stroke: none; font-size: 14px;\" ><textPath xlink:href=\"#edge{0}\">e{0}</textPath></text>\"\"\".format(e)\n",
    "        \n",
    "        self.arrange_edges()\n",
    "                    \n",
    "        return  \"\"\"<svg xmlns=\"http://www.w3.org/2000/svg\" xmlns:xlink=\"http://www.w3.org/1999/xlink\" version=\"1.1\" x=\"{1}\" y=\"{2}\" width=\"{3}\" height=\"{4}\">\n",
    "      <g fill=\"none\" stroke=\"black\" stroke-width=\"1.6\" stroke-linecap=\"round\"> {0}  </g> </svg>\"\"\".format(self.body,  self.x, self.y, *self._size)\n",
    "\n",
    "    #def __repr__(self):return self.__display__()           \n",
    "    def __div2s__(self,n):\n",
    "        while n - int(n) == 0:\n",
    "            n/=2\n",
    "            if n - int(n) ==0: yield n\n",
    "\n",
    "                \n",
    "    def _repr_html_(self): return self.__display__()\n",
    "    \n",
    "    @property\n",
    "    def vertex_delta_functions(self):\n",
    "        pass\n",
    "    \n",
    "    @property\n",
    "    def loop_delta_functions(self):\n",
    "        pass\n",
    "                   \n",
    "            \n",
    "class show_spanning_trees(object):\n",
    "    def __init__(self, inc_matrix, show_labels=False, max_width=None):\n",
    "        \n",
    "        total_edges = len(inc_matrix.edges)\n",
    "        \n",
    "        trees = inc_matrix.spanning_trees\n",
    "        #todo limit the width so we do not have some crazy amount \n",
    "        l = int(np.ceil(np.sqrt(len(trees))))\n",
    "        #complement - cut the edges not in the tree\n",
    "        edges_too_cut= [list(set(range(total_edges))-set(list(v))) for k, v in trees.iterrows()]\n",
    "        rows = \"\"\n",
    "        counter = 0\n",
    "        for i in range(l):\n",
    "            row = \"<tr>\"\n",
    "            for j in range(l):\n",
    "                if counter == len(edges_too_cut):break\n",
    "                o = options={\"cut_edges\": edges_too_cut[counter]}\n",
    "                if show_labels: o[\"show_labels\"] = True\n",
    "                rd = ring_diagram(inc_matrix.copy(), options=o)\n",
    "                row+=\"<td>{}</td>\".format(rd.__display__() )\n",
    "                counter+=1\n",
    "            row+= \"</tr>\"\n",
    "            rows+= row\n",
    "                \n",
    "        self.body = \"\"\"<table>{}</table>\"\"\".format(rows)\n",
    "        \n",
    "    def _repr_html_(self): return self.body\n",
    "\n"
   ]
  },
  {
   "cell_type": "code",
   "execution_count": 974,
   "metadata": {},
   "outputs": [
    {
     "name": "stdout",
     "output_type": "stream",
     "text": [
      "0 [120.0, 240.0] 0\n",
      "2 [0, 120.0] 0\n",
      "1 [360.0, 240.0] 0\n",
      "3 [180.0, 360.0] 0\n",
      "4 [0.0, 180.0] 1\n"
     ]
    },
    {
     "data": {
      "text/html": [
       "<svg xmlns=\"http://www.w3.org/2000/svg\" xmlns:xlink=\"http://www.w3.org/1999/xlink\" version=\"1.1\" x=\"0\" y=\"0\" width=\"200\" height=\"200\">\n",
       "      <g fill=\"none\" stroke=\"black\" stroke-width=\"1.6\" stroke-linecap=\"round\"> <defs><marker id=\"arrow\"  markerUnits=\"strokeWidth\" markerWidth='5' markerHeight='8' refX='0' refY='2' orient=\"auto\">\n",
       "                                      <path d=\"M0,0 V4 L2,2 Z\" style=\"fill: #000000;\" /> </marker></defs><circle cx=\"160\" cy=\"135\" r=\"3\" stroke=\"black\" stroke-width=\"1\" fill=\"black\" /> <circle cx=\"39\" cy=\"135\" r=\"3\" stroke=\"black\" stroke-width=\"1\" fill=\"black\" /> <circle cx=\"99\" cy=\"30\" r=\"3\" stroke=\"black\" stroke-width=\"1\" fill=\"black\" /> <circle cx=\"100\" cy=\"150\" r=\"3\" stroke=\"black\" stroke-width=\"1\" fill=\"black\" /> <circle cx=\"99\" cy=\"50\" r=\"3\" stroke=\"black\" stroke-width=\"1\" fill=\"black\" /> <circle cx=\"100\" cy=\"100\" r=\"3\" stroke=\"black\" stroke-width=\"1\" fill=\"black\" /> <text x=\"10%\" style=\"fill: #000000;stroke: none; font-size: 14px;\" ><textPath xlink:href=\"#edge0\">e0</textPath></text><text x=\"10%\" style=\"fill: #000000;stroke: none; font-size: 14px;\" ><textPath xlink:href=\"#edge1\">e1</textPath></text><text x=\"10%\" style=\"fill: #000000;stroke: none; font-size: 14px;\" ><textPath xlink:href=\"#edge2\">e2</textPath></text><text x=\"10%\" style=\"fill: #000000;stroke: none; font-size: 14px;\" ><textPath xlink:href=\"#edge3\">e3</textPath></text><text x=\"10%\" style=\"fill: #000000;stroke: none; font-size: 14px;\" ><textPath xlink:href=\"#edge4\">e4</textPath></text><text x=\"10%\" style=\"fill: #000000;stroke: none; font-size: 14px;\" ><textPath xlink:href=\"#edge5\">e5</textPath></text><text x=\"10%\" style=\"fill: #000000;stroke: none; font-size: 14px;\" ><textPath xlink:href=\"#edge6\">e6</textPath></text><text x=\"10%\" style=\"fill: #000000;stroke: none; font-size: 14px;\" ><textPath xlink:href=\"#edge7\">e7</textPath></text><text x=\"10%\" style=\"fill: #000000;stroke: none; font-size: 14px;\" ><textPath xlink:href=\"#edge8\">e8</textPath></text><path id='edge0' d=\"M  160  135  A  70  70  0  0  1  39  135 \" stroke=\"black\"  stroke-width:3px\"   /><path id='edge0' d=\"M  160  135  A  70  70  0  0  1  100  170 \" stroke=\"black\"  stroke-width:3px\" marker-end='url(#arrow)'  /><path id='edge2' d=\"M  100  30  A  70  70  0  0  1  160  135 \" stroke=\"black\"  stroke-width:3px\"   /><path id='edge2' d=\"M  100  30  A  70  70  0  0  1  160  65 \" stroke=\"black\"  stroke-width:3px\" marker-end='url(#arrow)'  /><path d=\"M100 150 L 160 135\" stroke=\"black\" stroke-width:2px\" id='edge5'   /> <line x1=\"100\" y1=\"150\" x2=\"130.0\" y2=\"142.5\" stroke=\"black\" stroke-width:2px\"  None  marker-end='url(#arrow)' /><path id='edge1' d=\"M  99  30  A  70  70  0  0  0  39  135 \" stroke=\"black\"  stroke-width:3px\"   /><path id='edge1' d=\"M  99  30  A  70  70  0  0  0  39  65 \" stroke=\"black\"  stroke-width:3px\" marker-end='url(#arrow)'  /><path d=\"M99 50 L 99 30\" stroke=\"black\" stroke-width:2px\" id='edge6'   /> <line x1=\"99\" y1=\"50\" x2=\"99.0\" y2=\"40.0\" stroke=\"black\" stroke-width:2px\"  None  marker-end='url(#arrow)' /><path id='edge3' d=\"M  100  150  A  50  50  0  0  1  99  50 \" stroke=\"black\"  stroke-width:3px\"   /><path id='edge3' d=\"M  100  150  A  50  50  0  0  1  50  100 \" stroke=\"black\"  stroke-width:3px\" marker-end='url(#arrow)'  /><path id='edge4' d=\"M  100  50  A  50  50  0  0  1  100  150 \" stroke=\"black\"  stroke-width:3px\"   /><path id='edge4' d=\"M  100  50  A  50  50  0  0  1  150  100 \" stroke=\"black\"  stroke-width:3px\" marker-end='url(#arrow)'  /><path d=\"M100 100 L 100 150\" stroke=\"black\" stroke-width:2px\" id='edge8'   /> <line x1=\"100\" y1=\"100\" x2=\"100.0\" y2=\"125.0\" stroke=\"black\" stroke-width:2px\"  None  marker-end='url(#arrow)' /><path d=\"M99 50 L 100 100\" stroke=\"black\" stroke-width:2px\" id='edge7'   /> <line x1=\"99\" y1=\"50\" x2=\"99.5\" y2=\"75.0\" stroke=\"black\" stroke-width:2px\"  None  marker-end='url(#arrow)' />  </g> </svg>"
      ],
      "text/plain": [
       "<__main__.ring_diagram at 0x26216da71d0>"
      ]
     },
     "execution_count": 974,
     "metadata": {},
     "output_type": "execute_result"
    }
   ],
   "source": [
    "INC = incidence_matrix(9, 6,\n",
    "                       [ [0,1], [1,2], [2,0], [3,4],[4,3],[3,0],[4,2], [4,5], [5,3] ],\n",
    "                       external_vertices=[0,1,2])\n",
    "INC.flip_edges(1)\n",
    "D = ring_diagram(INC, options={ \"show_labels\":True, }) \n",
    "D"
   ]
  },
  {
   "cell_type": "code",
   "execution_count": 975,
   "metadata": {},
   "outputs": [
    {
     "name": "stdout",
     "output_type": "stream",
     "text": [
      "0 [360.0, 180.0] 0\n",
      "1 [0.0, 180.0] 1\n"
     ]
    },
    {
     "data": {
      "text/html": [
       "<svg xmlns=\"http://www.w3.org/2000/svg\" xmlns:xlink=\"http://www.w3.org/1999/xlink\" version=\"1.1\" x=\"0\" y=\"0\" width=\"200\" height=\"200\">\n",
       "      <g fill=\"none\" stroke=\"black\" stroke-width=\"1.6\" stroke-linecap=\"round\"> <defs><marker id=\"arrow\"  markerUnits=\"strokeWidth\" markerWidth='5' markerHeight='8' refX='0' refY='2' orient=\"auto\">\n",
       "                                      <path d=\"M0,0 V4 L2,2 Z\" style=\"fill: #000000;\" /> </marker></defs><circle cx=\"100\" cy=\"170\" r=\"3\" stroke=\"black\" stroke-width=\"1\" fill=\"black\" /> <circle cx=\"99\" cy=\"30\" r=\"3\" stroke=\"black\" stroke-width=\"1\" fill=\"black\" /> <text x=\"10%\" style=\"fill: #000000;stroke: none; font-size: 14px;\" ><textPath xlink:href=\"#edge0\">e0</textPath></text><text x=\"10%\" style=\"fill: #000000;stroke: none; font-size: 14px;\" ><textPath xlink:href=\"#edge1\">e1</textPath></text><text x=\"10%\" style=\"fill: #000000;stroke: none; font-size: 14px;\" ><textPath xlink:href=\"#edge2\">e2</textPath></text><path id='edge0' d=\"M  99  30  A  70  70  0  0  0  100  170 \" stroke=\"black\"  stroke-width:3px\"   /><path id='edge0' d=\"M  99  30  A  70  70  0  0  0  30  100 \" stroke=\"black\"  stroke-width:3px\" marker-end='url(#arrow)'  /><path id='edge1' d=\"M  100  30  A  70  70  0  0  1  100  170 \" stroke=\"black\"  stroke-width:3px\"   /><path id='edge1' d=\"M  100  30  A  70  70  0  0  1  170  100 \" stroke=\"black\"  stroke-width:3px\" marker-end='url(#arrow)'  /><path d=\"M100 170 L 99 30\" stroke=\"black\" stroke-width:2px\" id='edge2'   /> <line x1=\"100\" y1=\"170\" x2=\"99.5\" y2=\"100.0\" stroke=\"black\" stroke-width:2px\"  None  marker-end='url(#arrow)' />  </g> </svg>"
      ],
      "text/plain": [
       "<__main__.ring_diagram at 0x2621732da20>"
      ]
     },
     "execution_count": 975,
     "metadata": {},
     "output_type": "execute_result"
    }
   ],
   "source": [
    "INC = incidence_matrix(3,2,\n",
    "                       [ [1,0], [1,0], [0,1]],\n",
    "                       external_vertices=[0,1])\n",
    "D = ring_diagram(INC, options={ \"show_labels\":True, }) \n",
    "D"
   ]
  },
  {
   "cell_type": "code",
   "execution_count": 978,
   "metadata": {},
   "outputs": [],
   "source": [
    "def _adj_struct_from_edges_(inc_mat, eset):\n",
    "    tuples = []\n",
    "    for e in eset:\n",
    "        t = list(np.where(inc_mat[:,e]!=0)[0])\n",
    "        tuples.append(t+[e])\n",
    "        tuples.append(list(reversed(t))+[e])\n",
    "    df = pd.DataFrame(tuples,columns=[\"a\",\"b\", \"e\"]).sort_values(\"a\")\n",
    "    tds = pd.DataFrame([[k,v] for k,v in INC.tree_distance_map.items()],columns=[\"v\", \"d\"])\n",
    "    return pd.merge(df,tds, left_on=\"a\", right_on=\"v\")\n",
    "\n",
    "def random_walk(adj, nedges,i=0,j=0, max_length=100, min_path_length=1, set_edge_sense=None):\n",
    "    \"\"\"Random walk on edge boolean space until we construct a path of length greater than 1 using a clever backtrack trick\"\"\"\n",
    "    \n",
    "    l = 0 #safety\n",
    "    epath = np.zeros(nedges, bool)\n",
    "    _i = i   \n",
    "    def _random_choice_(adj,i):\n",
    "        mat = adj[adj[\"a\"]==i][[\"e\", \"b\"]].as_matrix()\n",
    "        return tuple(mat[np.random.randint(len(mat))])\n",
    "    ###################################################\n",
    "    loop_formed = lambda : epath.sum() > min_path_length and _i == i \n",
    "    while l < max_length and not loop_formed():\n",
    "        e, _i = _random_choice_(adj, _i )\n",
    "        #print(e,_i)\n",
    "        epath[e] = np.logical_not(epath[e])\n",
    "        l+=1   \n",
    "    if not loop_formed():epath=False \n",
    "    ####################################################\n",
    "    #return epath\n",
    "    return list(np.where(epath)[0])\n",
    "    \n",
    "def circuits(inc_matrix, spanning_tree=None):  \n",
    "    if spanning_tree is None:spanning_tree = inc_matrix.spanning_trees.iloc[0].values\n",
    "    st_comp = inc_matrix.edge_complement(spanning_tree)\n",
    "    #this spanning tree must have L missing edges\n",
    "    all_circuits = []\n",
    "    for e in st_comp:#add one edge and determine it's incident vertex to start a circuit trace\n",
    "        ev = inc_matrix.directed_edge_as_vertices(e)\n",
    "        #print(\"edge\",e, \"is\", ev)\n",
    "        sub_tree = [e] + list(spanning_tree)\n",
    "        #print(sub_tree)\n",
    "        adj = _adj_struct_from_edges_(inc_matrix,sub_tree)\n",
    "        circuit = list(random_walk(adj,len(inc_matrix.edges), ev[0],ev[0]))\n",
    "        all_circuits.append(circuit)      \n",
    "    return all_circuits"
   ]
  },
  {
   "cell_type": "markdown",
   "metadata": {},
   "source": [
    "# now take a look at one of the spanning rees"
   ]
  },
  {
   "cell_type": "code",
   "execution_count": 980,
   "metadata": {},
   "outputs": [
    {
     "name": "stdout",
     "output_type": "stream",
     "text": [
      "[1, 2]\n",
      "0 [180.0, 360.0] 0\n",
      "1 [0.0, 180.0] 1\n"
     ]
    },
    {
     "data": {
      "text/html": [
       "<svg xmlns=\"http://www.w3.org/2000/svg\" xmlns:xlink=\"http://www.w3.org/1999/xlink\" version=\"1.1\" x=\"0\" y=\"0\" width=\"200\" height=\"200\">\n",
       "      <g fill=\"none\" stroke=\"black\" stroke-width=\"1.6\" stroke-linecap=\"round\"> <defs><marker id=\"arrow\"  markerUnits=\"strokeWidth\" markerWidth='5' markerHeight='8' refX='0' refY='2' orient=\"auto\">\n",
       "                                      <path d=\"M0,0 V4 L2,2 Z\" style=\"fill: #000000;\" /> </marker></defs><circle cx=\"100\" cy=\"170\" r=\"3\" stroke=\"black\" stroke-width=\"1\" fill=\"black\" /> <circle cx=\"99\" cy=\"30\" r=\"3\" stroke=\"black\" stroke-width=\"1\" fill=\"black\" /> <text x=\"10%\" style=\"fill: #000000;stroke: none; font-size: 14px;\" ><textPath xlink:href=\"#edge0\">e0</textPath></text><text x=\"10%\" style=\"fill: #000000;stroke: none; font-size: 14px;\" ><textPath xlink:href=\"#edge1\">e1</textPath></text><text x=\"10%\" style=\"fill: #000000;stroke: none; font-size: 14px;\" ><textPath xlink:href=\"#edge2\">e2</textPath></text><path id='edge0' d=\"M  100  170  A  70  70  0  0  1  99  30 \" stroke=\"black\"  stroke-width:3px\"   /><path id='edge0' d=\"M  100  170  A  70  70  0  0  1  30  100 \" stroke=\"black\"  stroke-width:3px\" marker-end='url(#arrow)'  /><path id='edge1' d=\"M  100  30  A  70  70  0  0  1  100  170 \" stroke=\"black\"  stroke-width:3px\"   stroke-dasharray='1,5' /><path d=\"M100 170 L 99 30\" stroke=\"black\" stroke-width:2px\" id='edge2' stroke-dasharray='1,7'  />   </g> </svg>"
      ],
      "text/plain": [
       "<__main__.ring_diagram at 0x26216da72b0>"
      ]
     },
     "execution_count": 980,
     "metadata": {},
     "output_type": "execute_result"
    }
   ],
   "source": [
    "tree = INC.spanning_trees.iloc[0].values\n",
    "tree_cuts = INC.edge_complement(tree)\n",
    "print(tree_cuts)\n",
    "C = ring_diagram(INC, options={\"show_labels\" :True,  \"cut_edges\": tree_cuts}) \n",
    "C#._repr_html_()"
   ]
  },
  {
   "cell_type": "markdown",
   "metadata": {},
   "source": [
    "# Edge Orientations\n",
    "given cicuits, we can actually rank them by closeness to root and then we can incrementally orientate them in different ways\n",
    "\n",
    "(1) Choose a source and sink delegate on each circuit and have allow flow towards the sink\n",
    "\n",
    "(2) Respect loop momentum"
   ]
  },
  {
   "cell_type": "code",
   "execution_count": 981,
   "metadata": {},
   "outputs": [
    {
     "name": "stdout",
     "output_type": "stream",
     "text": [
      "[[0, 1], [0, 2]]\n"
     ]
    }
   ],
   "source": [
    "#todo the last circuit is degenerate\n",
    "tree = INC.spanning_trees.iloc[0].values\n",
    "all_circuits = circuits(INC,tree)\n",
    "print(all_circuits)"
   ]
  },
  {
   "cell_type": "code",
   "execution_count": 837,
   "metadata": {},
   "outputs": [],
   "source": [
    "def _ensure_edge_path_(edges):\n",
    "    \"there should be a path from vertex to vertex in the correct order\"\n",
    "    edges = list(edges)\n",
    "    for i in range(len(edges)-1):\n",
    "        if edges[i][-1] == edges[i+1][0]:pass\n",
    "        elif edges[i][-1] == edges[i+1][-1]:edges[i+1] =list(reversed(edges[i+1]))\n",
    "        else:edges[i] =list(reversed(edges[i]))\n",
    "    return edges\n",
    "\n",
    "def set_circuit_flow(inc_mat, circ, entrainment={} ):\n",
    "    circ_evs = [inc_mat.directed_edge_as_vertices (e) for e in circ]\n",
    "    circ_evs = _ensure_edge_path_(circ_evs)\n",
    "    INC.ensure_edge_directions(dict(zip(circ, circ_evs)))\n",
    "    \n",
    "def set_source_sink_flow(inc_mat, circ,maxout=100):\n",
    "    source,sink = tuple(adj[adj[\"e\"].isin(circ)][[\"v\",\"d\"]].drop_duplicates().sort_values(\"d\")[:2][\"v\"].values)\n",
    "    #partition the circuit between source and sink\n",
    "    circ_evs = [inc_mat.directed_edge_as_vertices (e) for e in circ]\n",
    "    circ_evs = _ensure_edge_path_(circ_evs)   \n",
    "    S,s = -1,-1\n",
    "    cursor = 0\n",
    "    p1 = []\n",
    "    print(\"source, sink:\",source,sink)\n",
    "    while s == -1:\n",
    "        index = cursor%len(circ_evs)\n",
    "        v = circ_evs[index]\n",
    "        #print(index, v)\n",
    "        if v[0] == source:S = index\n",
    "        if v[0] == sink and S != -1:s = index  \n",
    "        if S != -1 and s == -1:p1.append(index)\n",
    "        cursor+= 1\n",
    "        \n",
    "        if cursor == maxout:return\n",
    "    p2 = list(set(range(len(circ))) - set(p1))\n",
    "    #return [circ_evs[e] for e in p1],[list(reversed(circ_evs[e])) for e in p2]\n",
    "    #keep one side and reverse the other\n",
    "    new_edges = [circ_evs[e] for e in p1] + [list(reversed(circ_evs[e])) for e in p2]\n",
    "    edge_ids = [circ[i] for i in p1+p2]\n",
    "    d = dict(zip(edge_ids, new_edges))\n",
    "    INC.ensure_edge_directions(d)\n",
    "    "
   ]
  },
  {
   "cell_type": "markdown",
   "metadata": {},
   "source": [
    "# set default circuit flow"
   ]
  },
  {
   "cell_type": "code",
   "execution_count": 983,
   "metadata": {},
   "outputs": [
    {
     "name": "stdout",
     "output_type": "stream",
     "text": [
      "0 [180.0, 360.0] 0\n",
      "1 [0.0, 180.0] 1\n"
     ]
    },
    {
     "data": {
      "text/html": [
       "<svg xmlns=\"http://www.w3.org/2000/svg\" xmlns:xlink=\"http://www.w3.org/1999/xlink\" version=\"1.1\" x=\"0\" y=\"0\" width=\"200\" height=\"200\">\n",
       "      <g fill=\"none\" stroke=\"black\" stroke-width=\"1.6\" stroke-linecap=\"round\"> <defs><marker id=\"arrow\"  markerUnits=\"strokeWidth\" markerWidth='5' markerHeight='8' refX='0' refY='2' orient=\"auto\">\n",
       "                                      <path d=\"M0,0 V4 L2,2 Z\" style=\"fill: #000000;\" /> </marker></defs><circle cx=\"100\" cy=\"170\" r=\"3\" stroke=\"black\" stroke-width=\"1\" fill=\"black\" /> <circle cx=\"99\" cy=\"30\" r=\"3\" stroke=\"black\" stroke-width=\"1\" fill=\"black\" /> <text x=\"10%\" style=\"fill: #000000;stroke: none; font-size: 14px;\" ><textPath xlink:href=\"#edge0\">e0</textPath></text><text x=\"10%\" style=\"fill: #000000;stroke: none; font-size: 14px;\" ><textPath xlink:href=\"#edge1\">e1</textPath></text><text x=\"10%\" style=\"fill: #000000;stroke: none; font-size: 14px;\" ><textPath xlink:href=\"#edge2\">e2</textPath></text><path id='edge0' d=\"M  100  170  A  70  70  0  0  1  99  30 \" stroke=\"black\"  stroke-width:3px\"   /><path id='edge0' d=\"M  100  170  A  70  70  0  0  1  30  100 \" stroke=\"black\"  stroke-width:3px\" marker-end='url(#arrow)'  /><path id='edge1' d=\"M  100  30  A  70  70  0  0  1  100  170 \" stroke=\"black\"  stroke-width:3px\"   stroke-dasharray='1,5' /><path d=\"M99 30 L 100 170\" stroke=\"black\" stroke-width:2px\" id='edge2'   /> <line x1=\"99\" y1=\"30\" x2=\"99.5\" y2=\"100.0\" stroke=\"black\" stroke-width:2px\"  None  marker-end='url(#arrow)' />  </g> </svg>"
      ],
      "text/plain": [
       "<__main__.ring_diagram at 0x26216d88780>"
      ]
     },
     "execution_count": 983,
     "metadata": {},
     "output_type": "execute_result"
    }
   ],
   "source": [
    "circ = all_circuits[1]\n",
    "set_circuit_flow(INC,circ)\n",
    "ring_diagram(INC, options={\"show_labels\" :True,  \"cut_edges\": INC.edge_complement(circ)}) "
   ]
  },
  {
   "cell_type": "markdown",
   "metadata": {},
   "source": [
    "# circuit source sink flow"
   ]
  },
  {
   "cell_type": "code",
   "execution_count": 888,
   "metadata": {},
   "outputs": [
    {
     "name": "stdout",
     "output_type": "stream",
     "text": [
      "source, sink: 3 4\n"
     ]
    },
    {
     "data": {
      "text/html": [
       "<svg xmlns=\"http://www.w3.org/2000/svg\" xmlns:xlink=\"http://www.w3.org/1999/xlink\" version=\"1.1\" x=\"0\" y=\"0\" width=\"200\" height=\"200\">\n",
       "      <g fill=\"none\" stroke=\"black\" stroke-width=\"1.6\" stroke-linecap=\"round\"> <defs><marker id=\"arrow\"  markerUnits=\"strokeWidth\" markerWidth='5' markerHeight='8' refX='0' refY='2' orient=\"auto\">\n",
       "                                      <path d=\"M0,0 V4 L2,2 Z\" style=\"fill: #000000;\" /> </marker></defs><circle cx=\"160\" cy=\"135\" r=\"3\" stroke=\"black\" stroke-width=\"1\" fill=\"black\" /> <circle cx=\"39\" cy=\"135\" r=\"3\" stroke=\"black\" stroke-width=\"1\" fill=\"black\" /> <circle cx=\"99\" cy=\"30\" r=\"3\" stroke=\"black\" stroke-width=\"1\" fill=\"black\" /> <path id='edge0' d=\"M  39  135  A  70  70  0  0  0  160  135 \" stroke=\"black\"  stroke-width:3px\"   stroke-dasharray='1,5' /><path id='edge1' d=\"M  39  135  A  70  70  0  0  1  99  30 \" stroke=\"black\"  stroke-width:3px\"   stroke-dasharray='1,5' /><path id='edge2' d=\"M  100  30  A  70  70  0  0  1  160  135 \" stroke=\"black\"  stroke-width:3px\"   stroke-dasharray='1,5' /><text x=\"10%\" style=\"fill: #000000;stroke: none; font-size: 14px;\" ><textPath xlink:href=\"#edge0\">e0</textPath></text><text x=\"10%\" style=\"fill: #000000;stroke: none; font-size: 14px;\" ><textPath xlink:href=\"#edge1\">e1</textPath></text><text x=\"10%\" style=\"fill: #000000;stroke: none; font-size: 14px;\" ><textPath xlink:href=\"#edge2\">e2</textPath></text><text x=\"10%\" style=\"fill: #000000;stroke: none; font-size: 14px;\" ><textPath xlink:href=\"#edge3\">e3</textPath></text><text x=\"10%\" style=\"fill: #000000;stroke: none; font-size: 14px;\" ><textPath xlink:href=\"#edge4\">e4</textPath></text><text x=\"10%\" style=\"fill: #000000;stroke: none; font-size: 14px;\" ><textPath xlink:href=\"#edge5\">e5</textPath></text><text x=\"10%\" style=\"fill: #000000;stroke: none; font-size: 14px;\" ><textPath xlink:href=\"#edge6\">e6</textPath></text><text x=\"10%\" style=\"fill: #000000;stroke: none; font-size: 14px;\" ><textPath xlink:href=\"#edge7\">e7</textPath></text><text x=\"10%\" style=\"fill: #000000;stroke: none; font-size: 14px;\" ><textPath xlink:href=\"#edge8\">e8</textPath></text><circle cx=\"100\" cy=\"150\" r=\"3\" stroke=\"black\" stroke-width=\"1\" fill=\"black\" /> <circle cx=\"99\" cy=\"50\" r=\"3\" stroke=\"black\" stroke-width=\"1\" fill=\"black\" /> <path id='edge3' d=\"M  100  150  A  50  50  0  0  1  99  50 \" stroke=\"black\"  stroke-width:3px\"   /><path id='edge3' d=\"M  100  150  A  50  50  0  0  1  50  100 \" stroke=\"black\"  stroke-width:3px\" marker-end='url(#arrow)'  /><path id='edge3' d=\"M  100  150  A  50  50  0  0  0  100  50 \" stroke=\"black\"  stroke-width:3px\"   /><path id='edge3' d=\"M  100  150  A  50  50  0  0  0  150  100 \" stroke=\"black\"  stroke-width:3px\" marker-end='url(#arrow)'  /><path d=\"M160 135 L 100 150\" stroke=\"black\" stroke-width:2px\" id='edge5' stroke-dasharray='1,7'  /> <path d=\"M99 30 L 99 50\" stroke=\"black\" stroke-width:2px\" id='edge6' stroke-dasharray='1,7'  /> <text x=\"10%\" style=\"fill: #000000;stroke: none; font-size: 14px;\" ><textPath xlink:href=\"#edge0\">e0</textPath></text><text x=\"10%\" style=\"fill: #000000;stroke: none; font-size: 14px;\" ><textPath xlink:href=\"#edge1\">e1</textPath></text><text x=\"10%\" style=\"fill: #000000;stroke: none; font-size: 14px;\" ><textPath xlink:href=\"#edge2\">e2</textPath></text><text x=\"10%\" style=\"fill: #000000;stroke: none; font-size: 14px;\" ><textPath xlink:href=\"#edge3\">e3</textPath></text><text x=\"10%\" style=\"fill: #000000;stroke: none; font-size: 14px;\" ><textPath xlink:href=\"#edge4\">e4</textPath></text><text x=\"10%\" style=\"fill: #000000;stroke: none; font-size: 14px;\" ><textPath xlink:href=\"#edge5\">e5</textPath></text><text x=\"10%\" style=\"fill: #000000;stroke: none; font-size: 14px;\" ><textPath xlink:href=\"#edge6\">e6</textPath></text><text x=\"10%\" style=\"fill: #000000;stroke: none; font-size: 14px;\" ><textPath xlink:href=\"#edge7\">e7</textPath></text><text x=\"10%\" style=\"fill: #000000;stroke: none; font-size: 14px;\" ><textPath xlink:href=\"#edge8\">e8</textPath></text><circle cx=\"100\" cy=\"100\" r=\"3\" stroke=\"black\" stroke-width=\"1\" fill=\"black\" /> <path d=\"M100 100 L 100 150\" stroke=\"black\" stroke-width:2px\" id='edge8'   /> <line x1=\"100\" y1=\"100\" x2=\"100.0\" y2=\"125.0\" stroke=\"black\" stroke-width:2px\"  None  marker-end='url(#arrow)' /><path d=\"M99 50 L 100 100\" stroke=\"black\" stroke-width:2px\" id='edge7'   /> <line x1=\"99\" y1=\"50\" x2=\"99.5\" y2=\"75.0\" stroke=\"black\" stroke-width:2px\"  None  marker-end='url(#arrow)' /><text x=\"10%\" style=\"fill: #000000;stroke: none; font-size: 14px;\" ><textPath xlink:href=\"#edge0\">e0</textPath></text><text x=\"10%\" style=\"fill: #000000;stroke: none; font-size: 14px;\" ><textPath xlink:href=\"#edge1\">e1</textPath></text><text x=\"10%\" style=\"fill: #000000;stroke: none; font-size: 14px;\" ><textPath xlink:href=\"#edge2\">e2</textPath></text><text x=\"10%\" style=\"fill: #000000;stroke: none; font-size: 14px;\" ><textPath xlink:href=\"#edge3\">e3</textPath></text><text x=\"10%\" style=\"fill: #000000;stroke: none; font-size: 14px;\" ><textPath xlink:href=\"#edge4\">e4</textPath></text><text x=\"10%\" style=\"fill: #000000;stroke: none; font-size: 14px;\" ><textPath xlink:href=\"#edge5\">e5</textPath></text><text x=\"10%\" style=\"fill: #000000;stroke: none; font-size: 14px;\" ><textPath xlink:href=\"#edge6\">e6</textPath></text><text x=\"10%\" style=\"fill: #000000;stroke: none; font-size: 14px;\" ><textPath xlink:href=\"#edge7\">e7</textPath></text><text x=\"10%\" style=\"fill: #000000;stroke: none; font-size: 14px;\" ><textPath xlink:href=\"#edge8\">e8</textPath></text>  </g> </svg>"
      ],
      "text/plain": [
       "<__main__.ring_diagram at 0x262164496a0>"
      ]
     },
     "execution_count": 888,
     "metadata": {},
     "output_type": "execute_result"
    }
   ],
   "source": [
    "circ = all_circuits[0]\n",
    "set_source_sink_flow(INC,circ)\n",
    "ring_diagram(INC, options={\"show_labels\" :True,  \"cut_edges\": INC.edge_complement(circ)}) "
   ]
  },
  {
   "cell_type": "code",
   "execution_count": 889,
   "metadata": {},
   "outputs": [
    {
     "data": {
      "text/plain": [
       "incidence_matrix([[-1,  0, -1,  0,  0, -1,  0,  0,  0, -1,  0,  0],\n",
       "                  [ 1,  1,  0,  0,  0,  0,  0,  0,  0,  0, -1,  0],\n",
       "                  [ 0, -1,  1,  0,  0,  0, -1,  0,  0,  0,  0, -1],\n",
       "                  [ 0,  0,  0,  1,  1,  1,  0,  0,  1,  0,  0,  0],\n",
       "                  [ 0,  0,  0, -1, -1,  0,  1, -1,  0,  0,  0,  0],\n",
       "                  [ 0,  0,  0,  0,  0,  0,  0,  1, -1,  0,  0,  0],\n",
       "                  [ 0,  0,  0,  0,  0,  0,  0,  0,  0,  1,  1,  1]])"
      ]
     },
     "execution_count": 889,
     "metadata": {},
     "output_type": "execute_result"
    }
   ],
   "source": [
    "INC"
   ]
  },
  {
   "cell_type": "code",
   "execution_count": 861,
   "metadata": {},
   "outputs": [
    {
     "data": {
      "image/png": "[encoded data removed]",
      "text/latex": [
       "$$\\left [ 0, \\quad 1, \\quad 2, \\quad 4, \\quad 5, \\quad 6\\right ]$$"
      ],
      "text/plain": [
       "[0, 1, 2, 4, 5, 6]"
      ]
     },
     "execution_count": 861,
     "metadata": {},
     "output_type": "execute_result"
    }
   ],
   "source": [
    "#rank circuits and apply the above again\n",
    "circ\n",
    "INC.edge_complement(circ)"
   ]
  },
  {
   "cell_type": "code",
   "execution_count": null,
   "metadata": {
    "collapsed": true
   },
   "outputs": [],
   "source": [
    "#now update so that we are entrained by the previous loops - tihs just means that whatever vertex I flow into"
   ]
  },
  {
   "cell_type": "code",
   "execution_count": 653,
   "metadata": {},
   "outputs": [
    {
     "data": {
      "text/html": [
       "<svg xmlns=\"http://www.w3.org/2000/svg\" xmlns:xlink=\"http://www.w3.org/1999/xlink\" version=\"1.1\" x=\"0\" y=\"0\" width=\"200\" height=\"200\">\n",
       "      <g fill=\"none\" stroke=\"black\" stroke-width=\"1.6\" stroke-linecap=\"round\"> <defs><marker id=\"arrow\"  markerUnits=\"strokeWidth\" markerWidth='5' markerHeight='8' refX='0' refY='2' orient=\"auto\">\n",
       "                                      <path d=\"M0,0 V4 L2,2 Z\" style=\"fill: #000000;\" /> </marker></defs><circle cx=\"160\" cy=\"135\" r=\"3\" stroke=\"black\" stroke-width=\"1\" fill=\"black\" /> <circle cx=\"39\" cy=\"135\" r=\"3\" stroke=\"black\" stroke-width=\"1\" fill=\"black\" /> <circle cx=\"99\" cy=\"30\" r=\"3\" stroke=\"black\" stroke-width=\"1\" fill=\"black\" /> <path id='edge0' d=\"M  160  135  A  70  70  0  0  1  39  135 \" stroke=\"black\"  stroke-width:3px\"   /><path id='edge0' d=\"M  160  135  A  70  70  0  0  1  100  170 \" stroke=\"black\"  stroke-width:3px\" marker-end='url(#arrow)'  /><path id='edge1' d=\"M  39  135  A  70  70  0  0  1  99  30 \" stroke=\"black\"  stroke-width:3px\"   /><path id='edge1' d=\"M  39  135  A  70  70  0  0  1  39  65 \" stroke=\"black\"  stroke-width:3px\" marker-end='url(#arrow)'  /><path id='edge2' d=\"M  100  30  A  70  70  0  0  1  160  135 \" stroke=\"black\"  stroke-width:3px\"   stroke-dasharray='1,5' /><text x=\"10%\" style=\"fill: #000000;stroke: none; font-size: 14px;\" ><textPath xlink:href=\"#edge0\">e0</textPath></text><text x=\"10%\" style=\"fill: #000000;stroke: none; font-size: 14px;\" ><textPath xlink:href=\"#edge1\">e1</textPath></text><text x=\"10%\" style=\"fill: #000000;stroke: none; font-size: 14px;\" ><textPath xlink:href=\"#edge2\">e2</textPath></text><text x=\"10%\" style=\"fill: #000000;stroke: none; font-size: 14px;\" ><textPath xlink:href=\"#edge3\">e3</textPath></text><text x=\"10%\" style=\"fill: #000000;stroke: none; font-size: 14px;\" ><textPath xlink:href=\"#edge4\">e4</textPath></text><text x=\"10%\" style=\"fill: #000000;stroke: none; font-size: 14px;\" ><textPath xlink:href=\"#edge5\">e5</textPath></text><text x=\"10%\" style=\"fill: #000000;stroke: none; font-size: 14px;\" ><textPath xlink:href=\"#edge6\">e6</textPath></text><text x=\"10%\" style=\"fill: #000000;stroke: none; font-size: 14px;\" ><textPath xlink:href=\"#edge7\">e7</textPath></text><text x=\"10%\" style=\"fill: #000000;stroke: none; font-size: 14px;\" ><textPath xlink:href=\"#edge8\">e8</textPath></text><circle cx=\"100\" cy=\"150\" r=\"3\" stroke=\"black\" stroke-width=\"1\" fill=\"black\" /> <circle cx=\"99\" cy=\"50\" r=\"3\" stroke=\"black\" stroke-width=\"1\" fill=\"black\" /> <path id='edge4' d=\"M  100  150  A  50  50  0  0  1  99  50 \" stroke=\"black\"  stroke-width:3px\"   stroke-dasharray='1,5' /><path id='edge3' d=\"M  100  50  A  50  50  0  0  1  100  150 \" stroke=\"black\"  stroke-width:3px\"   /><path id='edge3' d=\"M  100  50  A  50  50  0  0  1  150  100 \" stroke=\"black\"  stroke-width:3px\" marker-end='url(#arrow)'  /><path d=\"M100 150 L 160 135\" stroke=\"black\" stroke-width:2px\" id='edge5'   /> <line x1=\"100\" y1=\"150\" x2=\"130.0\" y2=\"142.5\" stroke=\"black\" stroke-width:2px\"  None  marker-end='url(#arrow)' /><path d=\"M99 50 L 99 30\" stroke=\"black\" stroke-width:2px\" id='edge6' stroke-dasharray='1,7'  /> <text x=\"10%\" style=\"fill: #000000;stroke: none; font-size: 14px;\" ><textPath xlink:href=\"#edge0\">e0</textPath></text><text x=\"10%\" style=\"fill: #000000;stroke: none; font-size: 14px;\" ><textPath xlink:href=\"#edge1\">e1</textPath></text><text x=\"10%\" style=\"fill: #000000;stroke: none; font-size: 14px;\" ><textPath xlink:href=\"#edge2\">e2</textPath></text><text x=\"10%\" style=\"fill: #000000;stroke: none; font-size: 14px;\" ><textPath xlink:href=\"#edge3\">e3</textPath></text><text x=\"10%\" style=\"fill: #000000;stroke: none; font-size: 14px;\" ><textPath xlink:href=\"#edge4\">e4</textPath></text><text x=\"10%\" style=\"fill: #000000;stroke: none; font-size: 14px;\" ><textPath xlink:href=\"#edge5\">e5</textPath></text><text x=\"10%\" style=\"fill: #000000;stroke: none; font-size: 14px;\" ><textPath xlink:href=\"#edge6\">e6</textPath></text><text x=\"10%\" style=\"fill: #000000;stroke: none; font-size: 14px;\" ><textPath xlink:href=\"#edge7\">e7</textPath></text><text x=\"10%\" style=\"fill: #000000;stroke: none; font-size: 14px;\" ><textPath xlink:href=\"#edge8\">e8</textPath></text><circle cx=\"100\" cy=\"100\" r=\"3\" stroke=\"black\" stroke-width=\"1\" fill=\"black\" /> <path d=\"M100 100 L 100 150\" stroke=\"black\" stroke-width:2px\" id='edge8' stroke-dasharray='1,7'  /> <path d=\"M99 50 L 100 100\" stroke=\"black\" stroke-width:2px\" id='edge7'   /> <line x1=\"99\" y1=\"50\" x2=\"99.5\" y2=\"75.0\" stroke=\"black\" stroke-width:2px\"  None  marker-end='url(#arrow)' /><text x=\"10%\" style=\"fill: #000000;stroke: none; font-size: 14px;\" ><textPath xlink:href=\"#edge0\">e0</textPath></text><text x=\"10%\" style=\"fill: #000000;stroke: none; font-size: 14px;\" ><textPath xlink:href=\"#edge1\">e1</textPath></text><text x=\"10%\" style=\"fill: #000000;stroke: none; font-size: 14px;\" ><textPath xlink:href=\"#edge2\">e2</textPath></text><text x=\"10%\" style=\"fill: #000000;stroke: none; font-size: 14px;\" ><textPath xlink:href=\"#edge3\">e3</textPath></text><text x=\"10%\" style=\"fill: #000000;stroke: none; font-size: 14px;\" ><textPath xlink:href=\"#edge4\">e4</textPath></text><text x=\"10%\" style=\"fill: #000000;stroke: none; font-size: 14px;\" ><textPath xlink:href=\"#edge5\">e5</textPath></text><text x=\"10%\" style=\"fill: #000000;stroke: none; font-size: 14px;\" ><textPath xlink:href=\"#edge6\">e6</textPath></text><text x=\"10%\" style=\"fill: #000000;stroke: none; font-size: 14px;\" ><textPath xlink:href=\"#edge7\">e7</textPath></text><text x=\"10%\" style=\"fill: #000000;stroke: none; font-size: 14px;\" ><textPath xlink:href=\"#edge8\">e8</textPath></text>  </g> </svg>"
      ],
      "text/plain": [
       "<__main__.ring_diagram at 0x262161f03c8>"
      ]
     },
     "execution_count": 653,
     "metadata": {},
     "output_type": "execute_result"
    }
   ],
   "source": [
    "\n",
    "ring_diagram(INC, options={\"show_labels\" :True,  \"cut_edges\": tree_cuts}) "
   ]
  },
  {
   "cell_type": "code",
   "execution_count": 281,
   "metadata": {},
   "outputs": [
    {
     "data": {
      "image/png": "[encoded data removed]",
      "text/latex": [
       "$$\\left[\\begin{matrix}p_{0} & - p_{1} & - q_{0} & 0\\\\- p_{0} & p_{1} & 0 & - q_{1}\\\\0 & 0 & q_{0} & q_{1}\\end{matrix}\\right]$$"
      ],
      "text/plain": [
       "⎡p₀   -p₁  -q₀   0 ⎤\n",
       "⎢                  ⎥\n",
       "⎢-p₀  p₁    0   -q₁⎥\n",
       "⎢                  ⎥\n",
       "⎣ 0    0   q₀   q₁ ⎦"
      ]
     },
     "execution_count": 281,
     "metadata": {},
     "output_type": "execute_result"
    }
   ],
   "source": [
    "simp = incidence_matrix(2,2,\n",
    "                       [ [0,1], [1,0],  ],\n",
    "                       external_vertices=[0,1])\n",
    "simp.edge_label_matrix"
   ]
  },
  {
   "cell_type": "code",
   "execution_count": 144,
   "metadata": {},
   "outputs": [
    {
     "data": {
      "text/html": [
       "<svg xmlns=\"http://www.w3.org/2000/svg\" xmlns:xlink=\"http://www.w3.org/1999/xlink\" version=\"1.1\" x=\"0\" y=\"0\" width=\"200\" height=\"200\">\n",
       "      <g fill=\"none\" stroke=\"black\" stroke-width=\"1.6\" stroke-linecap=\"round\"> <defs><marker id=\"arrow\"  markerUnits=\"strokeWidth\" markerWidth='5' markerHeight='8' refX='0' refY='2' orient=\"auto\">\n",
       "                                      <path d=\"M0,0 V4 L2,2 Z\" style=\"fill: #000000;\" /> </marker></defs><circle cx=\"100\" cy=\"170\" r=\"3\" stroke=\"black\" stroke-width=\"1\" fill=\"black\" /> <circle cx=\"99\" cy=\"30\" r=\"3\" stroke=\"black\" stroke-width=\"1\" fill=\"black\" /> <path id='edge1' d=\"M  100  30  A  70  70  0  0  1  100  170 \" stroke=\"black\"  stroke-width:3px\"   /><path id='edge1' d=\"M  100  30  A  70  70  0  0  1  170  100 \" stroke=\"black\"  stroke-width:3px\" marker-end='url(#arrow)'  /><path id='edge0' d=\"M  100  170  A  70  70  0  0  1  99  30 \" stroke=\"black\"  stroke-width:3px\"   /><path id='edge0' d=\"M  100  170  A  70  70  0  0  1  30  100 \" stroke=\"black\"  stroke-width:3px\" marker-end='url(#arrow)'  />  </g> </svg>"
      ],
      "text/plain": [
       "<__main__.ring_diagram at 0x26216449320>"
      ]
     },
     "execution_count": 144,
     "metadata": {},
     "output_type": "execute_result"
    }
   ],
   "source": [
    "ring_diagram(simp)"
   ]
  },
  {
   "cell_type": "code",
   "execution_count": 145,
   "metadata": {},
   "outputs": [
    {
     "data": {
      "image/png": "[encoded data removed]",
      "text/latex": [
       "$$\\left \\{ p_{0} : p_{1} - q_{1}, \\quad q_{0} : - q_{1}\\right \\}$$"
      ],
      "text/plain": [
       "{p₀: p₁ - q₁, q₀: -q₁}"
      ]
     },
     "execution_count": 145,
     "metadata": {},
     "output_type": "execute_result"
    }
   ],
   "source": [
    "simp.constraint_system(solve)"
   ]
  },
  {
   "cell_type": "code",
   "execution_count": null,
   "metadata": {},
   "outputs": [],
   "source": []
  },
  {
   "cell_type": "code",
   "execution_count": null,
   "metadata": {},
   "outputs": [],
   "source": [
    "def source_sink_flip_walk(directed_adj,i,j,updatable_inc=False,forbid_edges=[]):\n",
    "    \"\"\"\n",
    "    walk flipping all edges after us so we cannot walk back from i to j\n",
    "    when we arrive at j, walk backwards to the last high rank node reversing edges\n",
    "    add full set to forbidden edges at the end\n",
    "    \"\"\"\n",
    "    return []\n",
    "\n",
    "def set_default_flow(inc, spanning_tree):\n",
    "    fixed_edges = np.zeros(len(inc.edges))\n",
    "    n = len(fixed_edges)\n",
    "    st_c = list(set(range(n)) - set(spanning_tree))\n",
    "    print(st_c,st)\n",
    "    updated_edges = []\n",
    "    for i in st_c: updated_edges += source_sink_flip_walk(None,i,i,inc, forbid_edges=updated_edges)\n",
    "        \n",
    "st = list(inc.spanning_trees.iloc[0].values)\n",
    "set_default_flow(INC,st )"
   ]
  },
  {
   "cell_type": "code",
   "execution_count": null,
   "metadata": {},
   "outputs": [],
   "source": [
    "edges = st+[2]\n",
    "edges"
   ]
  },
  {
   "cell_type": "code",
   "execution_count": null,
   "metadata": {},
   "outputs": [],
   "source": []
  },
  {
   "cell_type": "code",
   "execution_count": null,
   "metadata": {},
   "outputs": [],
   "source": [
    "adj = _adj_struct_from_edges_(INC,edges )\n",
    "adj"
   ]
  },
  {
   "cell_type": "code",
   "execution_count": null,
   "metadata": {
    "collapsed": true
   },
   "outputs": [],
   "source": [
    "#starting from the higest ranking loops\n",
    "#perform a walk from designated highest rank (sink) to highest rank (sink) and fix the sense to a loop\n",
    "#then depending on the mode, walk from dual (source) and flip the edges\n",
    "#lock edges in the incidence matrix at each level"
   ]
  },
  {
   "cell_type": "code",
   "execution_count": null,
   "metadata": {
    "scrolled": false
   },
   "outputs": [],
   "source": [
    "show_spanning_trees(INC,show_labels=False)"
   ]
  },
  {
   "cell_type": "code",
   "execution_count": null,
   "metadata": {
    "collapsed": true
   },
   "outputs": [],
   "source": []
  }
 ],
 "metadata": {
  "kernelspec": {
   "display_name": "Python 3",
   "language": "python",
   "name": "python3"
  },
  "language_info": {
   "codemirror_mode": {
    "name": "ipython",
    "version": 3
   },
   "file_extension": ".py",
   "mimetype": "text/x-python",
   "name": "python",
   "nbconvert_exporter": "python",
   "pygments_lexer": "ipython3",
   "version": "3.6.3"
  }
 },
 "nbformat": 4,
 "nbformat_minor": 2
}
