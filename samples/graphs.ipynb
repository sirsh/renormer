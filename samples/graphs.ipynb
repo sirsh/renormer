{
 "cells": [
  {
   "cell_type": "code",
   "execution_count": 120,
   "metadata": {
    "collapsed": true
   },
   "outputs": [],
   "source": [
    "from sympy import *\n",
    "import operator\n",
    "import functools\n",
    "import math\n",
    "import pandas as pd\n",
    "import numpy as np\n",
    "\n",
    "from numba import jit\n",
    "init_printing()"
   ]
  },
  {
   "cell_type": "code",
   "execution_count": 145,
   "metadata": {},
   "outputs": [
    {
     "data": {
      "image/png": "[encoded data removed]",
      "text/latex": [
       "$$\\left ( \\omega_{1}, \\quad {\\omega}_1', \\quad k_{4}, \\quad k'_{1}\\right )$$"
      ],
      "text/plain": [
       "(ω₁, {\\omega}_1', k₄, k'₁)"
      ]
     },
     "execution_count": 145,
     "metadata": {},
     "output_type": "execute_result"
    }
   ],
   "source": [
    "def omega_var(i,is_external=False):return Symbol(\"omega_\"+str(i)) if not is_external else Symbol(\"{\\omega}_\"+str(i)+\"'\")\n",
    "def k_var(i,is_external=False):return Symbol(\"k\"+str(i)) if not is_external else Symbol(\"k'_\"+str(i))\n",
    "omega_var(1),omega_var(1,True),k_var(4),k_var(1,True),"
   ]
  },
  {
   "cell_type": "code",
   "execution_count": 161,
   "metadata": {},
   "outputs": [
    {
     "data": {
      "text/latex": [
       "$\\frac{1}{D_{a} \\left(k'_{1} + k_{0} + k_{1}\\right)^{2} + m_{a} + \\omega_{0} - \\omega_{1} + {\\omega}_1'}$"
      ],
      "text/plain": [
       "$\\frac{1}{D_{a} \\left(k'_{1} + k_{0} + k_{1}\\right)^{2} + m_{a} + \\omega_{0} - \\omega_{1} + {\\omega}_1'}$"
      ]
     },
     "execution_count": 161,
     "metadata": {},
     "output_type": "execute_result"
    }
   ],
   "source": [
    "\n",
    "_scalar_propagator_([1,-1], [0,1,0])\n"
   ]
  },
  {
   "cell_type": "code",
   "execution_count": 160,
   "metadata": {},
   "outputs": [],
   "source": [
    "def _sum_(terms): return functools.reduce(operator.add, terms , 0)\n",
    "def omega_var(i,is_external=False):return Symbol(\"omega_\"+str(i)) if not is_external else Symbol(\"{\\omega}_\"+str(i)+\"'\")\n",
    "def k_var(i,is_external=False):return Symbol(\"k\"+str(i)) if not is_external else Symbol(\"k'_\"+str(i))\n",
    "def __prod__(l): return functools.reduce(operator.mul, l,1)\n",
    "def species_variable(name, species=\"a\"):return Symbol(name+\"_\"+species)\n",
    "class _scalar_propagator_(object):\n",
    "    #coeff = for known species vector space, loop im\n",
    "    def __init__(self, loop_basis, ex_edge_basis, index=0, species=\"a\",  power=1):\n",
    "        self._index = index\n",
    "        self._species = species\n",
    "        self._power = power\n",
    "        k_vars = [ abs(v) * k_var(i) for i,v in enumerate(loop_basis)] + [ abs(v) * k_var(i,True) for i,v in enumerate(ex_edge_basis)]\n",
    "        o_vars = [ v * omega_var(i) for i,v in enumerate(loop_basis)]  + [ v * omega_var(i,True) for i,v in enumerate(ex_edge_basis)]\n",
    "\n",
    "        self._den = (  _sum_(o_vars)\n",
    "                      +species_variable(\"D\")*(_sum_(k_vars)**2)\n",
    "                      +species_variable(\"m\")\n",
    "                    )\n",
    "        self._value = self._den**(-1) \n",
    "        \n",
    "        #self._associated_delta_functions = [signed_delta(\"omega\",index)._rep,signed_delta(\"k\",index)._rep]\n",
    "\n",
    "    @property\n",
    "    def value(self):\n",
    "        \n",
    "        ret = self._value #* functools.reduce(operator.mul, self._associated_delta_functions , 1)\n",
    "        \n",
    "        return ret.simplify()\n",
    "        \n",
    "    def __repr__(self):  return self._repr_latex_()\n",
    "    def _repr_latex_(self): return latex(self.value,  mode='inline')\n",
    "    def __call__(self, i):pass\n",
    "    \n",
    "    def subs(self, d):\n",
    "        #as below for deltas, we need to keep track of terms seperately to avoid rediscovery, which needs cleaning up\n",
    "        self._den = self._den.subs(d)\n",
    "        self._value = self._value.subs(d)\n",
    "        return self\n",
    "    \n",
    "    def apply_delta(self, d,i):\n",
    "        #hacky - I have not thought out how these workflows should be done yet but I will\n",
    "        self._den = self._den.subs(d.substitution(i))\n",
    "        self._value = self._value.subs(d.substitution(i))\n",
    "        \n",
    "        return self\n",
    "    \n",
    "    def apply_delta_functions(self):\n",
    "        #hack\n",
    "        self._associated_delta_functions = []\n",
    "        if self._sense == 1: \n",
    "            self._value=self._value.subs({\"omega_\"+str(self._index): -1*Symbol(\"omega_\"+str(self._index)) })\n",
    "            #hack see above\n",
    "            self._den = self._den.subs({\"omega_\"+str(self._index): -1*Symbol(\"omega_\"+str(self._index)) })\n",
    "            \n",
    "        return self\n",
    "    \n",
    "    def Ltransform(self):\n",
    "        self._value = self._value #* exp(-I*Symbol(\"omega_\"+str(self._index))*Symbol(\"t_\"+str(self._index)))\n",
    "        return self\n",
    "    \n",
    "    def Ftransform(self):\n",
    "        self._value = self._value * exp(-I*Symbol(\"omega_\"+str(self._index))*Symbol(\"t_\"+str(self._index)))\n",
    "        return self\n",
    "    \n",
    "  "
   ]
  },
  {
   "cell_type": "code",
   "execution_count": null,
   "metadata": {
    "collapsed": true
   },
   "outputs": [],
   "source": []
  },
  {
   "cell_type": "code",
   "execution_count": 2,
   "metadata": {
    "collapsed": true
   },
   "outputs": [],
   "source": [
    "# class cycle_finder(object):\n",
    "#     \"\"\"\n",
    "#     Adapted from\n",
    "#     https://stackoverflow.com/questions/12367801/finding-all-cycles-in-undirected-graphs\n",
    "#     See also\n",
    "#     http://dspace.mit.edu/bitstream/handle/1721.1/68106/FTL_R_1982_07.pdf\n",
    "#     #graph = [[1, 2], [1, 3], [1, 4], [2, 3], [3, 4], [2, 6], [4, 6], [8, 7], [8, 9], [9, 7]]\n",
    "#     graph = [[0,1], [0,2], [1,2], [1,3], [2,3]]\n",
    "\n",
    "#     for p in cycle_finder(graph): print(p) #returns the edges in the circuit indexed from the graph\n",
    "#     for p in cycle_finder(graph, \"vertices\"): # returns the vertices in the cicuit\n",
    "\n",
    "#     \"\"\"\n",
    "#     def __init__(self, graph_edges, c_type=\"edges\"):\n",
    "#         #i need them sorted here - this is an undirected graph too\n",
    "#         self.graph = graph_edges#[sorted(l) for l in list(graph_edges)]\n",
    "#         self.cycles = []  \n",
    "#         self.c_type = c_type\n",
    "#         for edge in self.graph:\n",
    "#             for node in edge:  \n",
    "#                 self.findNewCycles([node])\n",
    "    \n",
    "#     def __expand_edges__(self, vlist):\n",
    "#         for i,v in enumerate(vlist): \n",
    "#             yield sorted([vlist[i-1],v])\n",
    "            \n",
    "#     @property\n",
    "#     def cycle_basis(self):\n",
    "#         l = list(self)\n",
    "#         b = np.zeros((len(l),len(self.graph)),np.int)\n",
    "#         for i,r in enumerate(b): r[l[i]] = 1\n",
    "#         return b\n",
    "    \n",
    "#     def __iter__(self):\n",
    "#         for cy in self.cycles:\n",
    "#             res = [node for node in cy]\n",
    "#             if self.c_type == \"vertices\": yield res\n",
    "#             else: yield [self.graph.index(e) for e in self.__expand_edges__(res)]\n",
    "               \n",
    "#     def findNewCycles(self,path):\n",
    "#         def isNew(path): return not path in self.cycles\n",
    "#         def visited(node, path):  return node in path\n",
    "#         def invert(path):return rotate_to_smallest(path[::-1])\n",
    "#         def rotate_to_smallest(path):\n",
    "#             n = path.index(min(path))\n",
    "#             return path[n:]+path[:n]   \n",
    "        \n",
    "#         start_node,next_node,sub = path[0],None,[]\n",
    "        \n",
    "#         for edge in self.graph:\n",
    "#             node1, node2 = edge\n",
    "#             if start_node in edge:\n",
    "#                     next_node = node2 if node1 == start_node else node1\n",
    "#             if not visited(next_node, path):\n",
    "#                     sub = [next_node]\n",
    "#                     sub.extend(path)\n",
    "#                     self.findNewCycles(sub);\n",
    "#             elif len(path) > 2  and next_node == path[-1]:\n",
    "#                     p = rotate_to_smallest(path);\n",
    "#                     inv = invert(p)\n",
    "#                     if isNew(p) and isNew(inv):  \n",
    "#                         self.cycles.append(p)\n",
    "                        "
   ]
  },
  {
   "cell_type": "code",
   "execution_count": 53,
   "metadata": {
    "collapsed": true
   },
   "outputs": [],
   "source": [
    "\n",
    "    \n",
    "class incidence_matrix(np.ndarray):  \n",
    "    #things to watch out for - handling multiple edges\n",
    "    #todo allow a dictionary of letters maybe for vertices to make it easier to init and maybe consider not using sizes\n",
    "    #alternative loading model where we do not compute the k_matrix?\n",
    "    #alternative where we do not add the edge count and vertex count - seems a bit inconvenient\n",
    "    def __new__(self, edge_count, vertex_count, edges=[],external_vertices=[], external_vertex_degrees=None):\n",
    "        size = (vertex_count+ (1 if len(external_vertices) > 0 else  0),edge_count+len(external_vertices))\n",
    "        obj = super(incidence_matrix, self).__new__(self, size, np.int)  \n",
    "        obj[:] = 0 \n",
    "        obj.add_edges(edges + [[-1,ev] for ev in external_vertices])\n",
    "        obj._external_vertices = external_vertices\n",
    "        obj._internal_vertices = list(set(list(range(vertex_count))) - set(external_vertices))\n",
    "        \n",
    "        obj._kmatrix = obj.kirchhoff\n",
    "        obj._betti_1 = obj._kmatrix.degree()#~ whats the relatioship?\n",
    "    \n",
    "        obj._num_internal_edges = len(edges)\n",
    "        \n",
    "        return obj\n",
    "         \n",
    "        \n",
    "    def ensure_edge_directions(self,d):\n",
    "        \"\"\"Supply a dictoinary with edge id and vertex e.g. { 0: [1,2]} means edge 0 takes vertex 1 to vertex 2\"\"\"\n",
    "        for k,v in d.items():self[:,k][v[0]],self[:,k][v[1]] = 1, -1\n",
    "        \n",
    "    def flip_edges(self,edge_indecies):\n",
    "        if not isinstance(edge_indecies,list): edge_indecies =[edge_indecies]\n",
    "        for e in edge_indecies:self[:,e]*= -1\n",
    "        return self\n",
    "        \n",
    "    def reset_edge_orders(self, edges):pass\n",
    "    def reset_edge_orders_from_hierarchy(self):pass\n",
    "    \n",
    "    def get_all_connections(self,a,b):\n",
    "        for i,r in enumerate(self.T):\n",
    "            if(r[a]==1) and (r[b]==-1):yield i, 1\n",
    "            if(r[a]==-1) and (r[b]==1):yield i, -1\n",
    "            \n",
    "    def try_directed_edge_index(self,a,b):\n",
    "        \"\"\"\n",
    "        checks all the columns (edges) to see if there is an edge that starts at a(1) and endgs at b(-1)\n",
    "        \"\"\"\n",
    "        for i,r in enumerate(self.T):\n",
    "            if(r[a]==1) and (r[b]==-1):\n",
    "                return i\n",
    "        return None\n",
    "    \n",
    "    def exists_directed_edge(self,a,b):\n",
    "        return self.try_directed_edge_index != None\n",
    "    \n",
    "    @property\n",
    "    def cycle_basis(self): return cycle_finder(self.edges).cycle_basis\n",
    "    \n",
    "    @property\n",
    "    def edges(self): return [self.directed_edge_as_vertices(e) for e in range(self._num_internal_edges)]\n",
    "        \n",
    "    @property\n",
    "    def internal_vertices (self):return self._internal_vertices\n",
    "    \n",
    "    @property\n",
    "    def external_vertices (self):return self._external_vertices\n",
    "    \n",
    "    def get_coincident_vertices_any(self, vset,exclusions = []):\n",
    "        items = []\n",
    "        for v in vset:\n",
    "            for _v in self.get_coincident_vertices(v,exclusions):\n",
    "                if _v not in items: items.append(_v)\n",
    "        return items\n",
    "        \n",
    "    def get_incident_edges(self, v):return np.nonzero(self[v])[0]\n",
    "        \n",
    "    def get_coincident_vertices(self, v,exclusions = []):\n",
    "        #these are the data columns for which v has edge data\n",
    "        v_inc_frame = self[:,np.where(self[v]!=0)[0]]\n",
    "        exclusions = exclusions + [v]\n",
    "        #now get the row index for things that are co-incident using the trick but just checking non zero rows\n",
    "        #this is a bit odd and probably better way but count non zero columns uses the count and nonzero combined \n",
    "        #and we ensure that v is not in the list which is requred when it has only one edge for example\n",
    "        #I check if it is incoming or outgoing - we could change it to in and out by changing != 0 to +1\n",
    "        #the 1 is important for directionality bias e.g. when drawing we only want to draw the directed edge or handle unidirectionality\n",
    "        incident_vertices = [l for l in list(np.nonzero((np.count_nonzero(v_inc_frame,axis=1)>0).astype(int))[0]) if l not in exclusions]\n",
    "        return incident_vertices\n",
    "        \n",
    "    def add_edges(self, eset):\n",
    "        for i, v in enumerate(eset): \n",
    "            self[v[0],i],self[v[1],i] = 1,-1\n",
    "            \n",
    "            \n",
    "    @property\n",
    "    def tree_distance_map(self):\n",
    "        dmap = {}\n",
    "        for h in INC.vertex_hierarchy():\n",
    "            for l in h[1]:dmap[l]= h[0]\n",
    "        return dmap\n",
    "\n",
    "    def vertex_hierarchy(self, vset=[-1], d=0, h={} ):\n",
    "        \"\"\"\n",
    "        recursion from external nodes or other seed set\n",
    "        \"\"\"\n",
    "        if d ==0: h= {}\n",
    "        #need to re-think the indexing a little\n",
    "        #this is so that I can store the last vertex (inf) as either -1 or the length of the thing\n",
    "        if -1 in vset: h[len(self)-1] = 2\n",
    "        for _v in vset: h[_v] = d\n",
    "        if len(vset) > 0:yield d, vset\n",
    "        #look for any coincident vertices that are not on my level or above\n",
    "        next_layer = self.get_coincident_vertices_any(vset ,vset+ list(h.keys()))\n",
    "        if(len(next_layer)>0):\n",
    "            for t in self.vertex_hierarchy(next_layer,d+1,h):\n",
    "                yield t\n",
    "    \n",
    "   \n",
    "    def __coincident_vertex__(self, v, e):\n",
    "        col = self[:,e]\n",
    "        [e for e in np.where(INC[:,1]!=0)[0] if e != 2][0]\n",
    "        return [i for i in np.where(col != 0)[0] if i != v][0]\n",
    "   \n",
    "    def get_alt_adjacency(self):\n",
    "        d = {}\n",
    "        for i,r in enumerate(self):\n",
    "            eset = self.get_incident_edges(i)\n",
    "            l = []\n",
    "            for e in eset: l.append(( self.__coincident_vertex__(i,e),e, \"I\" if e < len(self.edges) else \"E\")) \n",
    "            d[i] = l\n",
    "        return d\n",
    "    \n",
    "    @property\n",
    "    def flat_adjacency(self): return [ list(np.nonzero(v)[0]) for v in  self.adjacency_with_inf]\n",
    "      \n",
    "    @property\n",
    "    def adjacency(self):\n",
    "        #[ np.nonzero(v)[0]for v in  INC.adjacency_with_inf]\n",
    "        return self.adjacency_with_inf()[:-1,:-1]\n",
    "  \n",
    "    def adjacency_with_inf(self,restricted_edges=None,use_edge_labels_1indexed=False):\n",
    "        ad = np.zeros((len(self),len(self)),np.int)\n",
    "        for i, v in enumerate(self):  \n",
    "            if restricted_edges is None or i in restricted_edges:\n",
    "                #does not work for multiple edges - what do we want to do about this?\n",
    "                #todo - count how many times it is connected and then create a lookup of edges\n",
    "                ad[i][self.get_coincident_vertices(i)]  =1 if not use_edge_labels_1indexed else self.get_incident_edges(i)+ 1\n",
    "        return ad#[:-1,:-1] if len(self._external_vertices) > 0 else ad\n",
    "    \n",
    "    @property\n",
    "    def edge_labels(self):\n",
    "        #the last row is the external vertex so check which edges are connected\n",
    "        ex_edges = np.nonzero(self[-1])[0]\n",
    "        return [ \"p\"+str(i) for i in range(self.shape[-1]) if i not in ex_edges]   +   [ \"q\"+str(i) for i in range(len(ex_edges))]\n",
    "       \n",
    "    @property\n",
    "    def vertex_constraints(self,display=False):\n",
    "        edge_labels = self.edge_labels\n",
    "        for v in self:\n",
    "            yield delta_constraint([edge_labels[i] for i in np.nonzero(v)[0]])\n",
    "            \n",
    "    @property\n",
    "    def edge_label_matrix(self): return Matrix(self) * diag( *self.edge_labels)\n",
    "    \n",
    "    def constraint_system(self,solve=False): \n",
    "        equations = []\n",
    "        incmat = self.edge_label_matrix\n",
    "        for i in range(incmat.shape[0]): \n",
    "            equations.append(functools.reduce(operator.add, incmat.row(i), 0))\n",
    "        mat= Matrix(equations)\n",
    "        return mat if not solve else solve(mat)\n",
    "        \n",
    "    @property\n",
    "    def symbol_adjacency(self):pass\n",
    "    \n",
    "    def __sym_i_cofactor__(mat,r=-1,c=-1):\n",
    "        \"\"\"remove ith row and ith column\"\"\"\n",
    "        temp = Matrix(mat)\n",
    "        if r==-1: r = temp.shape[0]-1\n",
    "        if c==-1: c = temp.shape[1]-1\n",
    "        temp.col_del(c)\n",
    "        temp.row_del(r)\n",
    "        return temp\n",
    "    \n",
    "    def _internal_symbols_(self): \n",
    "        ex_edges = np.nonzero(self[-1])[0]\n",
    "        return [Symbol(\"p\"+str(i)) for i in range(self.shape[-1]) if i not in ex_edges]\n",
    "    \n",
    "    def _external_symbols_(self): \n",
    "        ex_edges = np.nonzero(self[-1])[0]\n",
    "        return [Symbol(\"q\"+str(i)) for i in range(len(ex_edges))]\n",
    "    \n",
    "    @property\n",
    "    def kirchhoff(self):\n",
    "        #get the laplacian\n",
    "        L = self.edge_label_matrix * self.edge_label_matrix.T\n",
    "        #scale the terms because of the way we did it\n",
    "        for s in self._internal_symbols_(): L=L.subs({s**2:s})\n",
    "        #treat all external edges as z so we can get a polynomial in z for forest order\n",
    "        for s in self._external_symbols_(): L=L.subs({s**2:Symbol(\"z\")}) \n",
    "        #take the reduced laplacian\n",
    "        reduced =  incidence_matrix.__sym_i_cofactor__(L)  \n",
    "        #solve determinant\n",
    "        P= reduced.det(method='berkowitz')\n",
    "        #make it pretty\n",
    "        res = collect(expand(P),Symbol(\"z\"))\n",
    "        res = Poly(res, Symbol(\"z\"))\n",
    "        return res\n",
    "    \n",
    "    @property\n",
    "    def first_betti_number(self): return self._betti_1\n",
    "    \n",
    "    @property\n",
    "    def spanning_trees(self): return pd.DataFrame(self.k_forests(-1))\n",
    "    \n",
    "    def k_forests(self, order): \n",
    "        p = self._kmatrix.coeffs()[order]\n",
    "        #this must be considered temporary - one thing might be to use symbols that evaluate to useful things instead of bare symbols\n",
    "        for monomials in p.as_ordered_terms(): \n",
    "            edges = [int(str(e).replace(\"p\",\"\")) for e in monomials.free_symbols]\n",
    "            yield edges\n",
    "            \n",
    "    def edge_complement(self,edges):\n",
    "        return list(set(range(len(self.edges))) - set(edges))\n",
    "    \n",
    "    def directed_edge_as_vertices(self,e):\n",
    "        \"\"\"\n",
    "        the edge goes from cell marked 1 to cell marked -1\n",
    "        \"\"\"\n",
    "        e = self[:,e]\n",
    "        return [np.where(e==1)[0][0],np.where(e==-1)[0][0]]\n",
    "            \n",
    "        \n",
    "    def __sample__():\n",
    "        return incidence_matrix(9, 6,\n",
    "                       [ [0,1], [1,2], [2,0], [3,4],[4,3],[3,0],[4,2], [4,5], [5,3] ],\n",
    "                       external_vertices=[0,1,2])\n",
    "        \n",
    "\n"
   ]
  },
  {
   "cell_type": "code",
   "execution_count": 51,
   "metadata": {},
   "outputs": [
    {
     "data": {
      "text/plain": [
       "incidence_matrix([[ 1,  0, -1,  0,  0, -1,  0,  0,  0, -1,  0,  0],\n",
       "                  [-1,  1,  0,  0,  0,  0,  0,  0,  0,  0, -1,  0],\n",
       "                  [ 0, -1,  1,  0,  0,  0, -1,  0,  0,  0,  0, -1],\n",
       "                  [ 0,  0,  0,  1, -1,  1,  0,  0, -1,  0,  0,  0],\n",
       "                  [ 0,  0,  0, -1,  1,  0,  1,  1,  0,  0,  0,  0],\n",
       "                  [ 0,  0,  0,  0,  0,  0,  0, -1,  1,  0,  0,  0],\n",
       "                  [ 0,  0,  0,  0,  0,  0,  0,  0,  0,  1,  1,  1]])"
      ]
     },
     "execution_count": 51,
     "metadata": {},
     "output_type": "execute_result"
    }
   ],
   "source": [
    "itest = incidence_matrix.__sample__()\n",
    "itest"
   ]
  },
  {
   "cell_type": "code",
   "execution_count": 5,
   "metadata": {
    "collapsed": true
   },
   "outputs": [],
   "source": [
    "class arc(object):\n",
    "    def __init__(self, angles, radius,center=None,size=None,pid=None,is_cut_line=False):\n",
    "        self.pid = pid\n",
    "        self.radius = radius\n",
    "        object_radius = 20 + radius\n",
    "        self.center = (object_radius,object_radius) if center is None else center\n",
    "        self.size=(2*object_radius,2*object_radius) if size is None else size\n",
    "        self.body = \"\"\n",
    "        self.header =  arc.get_header()\n",
    "        \n",
    "        #print(pid, \":angles for pid\", angles)\n",
    "        startAngle,endAngle = angles[0],angles[1]    \n",
    "        mid_angle = (startAngle+endAngle)/2.\n",
    "        self._is_cut_line = is_cut_line\n",
    "        \n",
    "        #self.body+= \"\"\"<circle cx=\"{0}\" cy=\"{1}\" r=\"2\" stroke=\"black\" stroke-width=\"1\" fill=\"red\" /> \"\"\".format(*self.center)\n",
    "            \n",
    "        self.body+= self.__describeArc__(startAngle, endAngle)\n",
    "        if not self._is_cut_line:\n",
    "            self.body+= self.__describeArc__(startAngle, mid_angle, decorations=\"marker-end='url(#arrow)'\")\n",
    "           \n",
    "    @staticmethod\n",
    "    def get_header():\n",
    "                 return \"\"\"<defs><marker id=\"arrow\"  markerUnits=\"strokeWidth\" markerWidth='5' markerHeight='8' refX='0' refY='2' orient=\"auto\">\n",
    "                                      <path d=\"M0,0 V4 L2,2 Z\" style=\"fill: #000000;\" /> </marker></defs>\"\"\"\n",
    "     \n",
    "    \n",
    "    def __polarToCartesian__(self, angleInDegrees, radius, center):\n",
    "        centerX, centerY = center[0], center[1]\n",
    "        angleInRadians = (angleInDegrees-90) *math.pi / 180.0;\n",
    "        return int( centerX + (radius * math.cos(angleInRadians))), int( centerY + (radius * math.sin(angleInRadians))), angleInDegrees\n",
    "          \n",
    "    def __describeArc__(self, startAngle, endAngle, decorations=\"\"):\n",
    "        radius = self.radius\n",
    "        wrap,sweepFlag = (0,0) if endAngle < startAngle  else (0,1)\n",
    "\n",
    "        start = self.__polarToCartesian__(startAngle+wrap, radius, self.center) \n",
    "        end = self.__polarToCartesian__(endAngle+wrap, radius, self.center)\n",
    "        colour = \"black\"\n",
    "        largeArcFlag = \"0\" if endAngle - startAngle <= 180 else \"1\"\n",
    "        #print(startAngle+wrap,endAngle+wrap, largeArcFlag, sweepFlag)\n",
    "        d = [  \"M\", start[0], start[1], \"A\", radius, radius, 0, largeArcFlag, sweepFlag, end[0], end[1]  ]\n",
    "        d = \" \".join([str(_d)+\" \" for _d  in d] )   \n",
    "        \n",
    "        transfrm =  \"\"#  \"\"\"transform=\"rotate(180, {}, {}) scale(1, -1) translate(0, -150)\" \"\"\".format(*self.center) if self.change_sense else \"\"\n",
    "        pidattr = \"\" if self.pid == None else \"\"\"id='edge{}'\"\"\".format(self.pid)\n",
    "        \n",
    "        dasharray = \"\" if not self._is_cut_line else \"\"\"stroke-dasharray='1,5' \"\"\"\n",
    "        \n",
    "        return \"\"\"<path {} d=\"{}\" stroke=\"{}\"  stroke-width=\"2px\" {} {} {}/>\"\"\".format(pidattr, d,colour, decorations, transfrm, dasharray) \n",
    "    \n",
    "    def __repr__(self):return self.header + self.body\n",
    "    \n",
    "    def _repr_html_(self): \n",
    "        return   \"\"\"<svg xmlns=\"http://www.w3.org/2000/svg\" xmlns:xlink=\"http://www.w3.org/1999/xlink\" version=\"1.1\" x=\"{1}\" y=\"{2}\" width=\"{3}\" height=\"{4}\">\n",
    "      <g fill=\"none\" stroke=\"black\" stroke-width=\"1.6\" stroke-linecap=\"round\"> {0}  </g> </svg>\"\"\".format(self.__repr__(),  *self.center, *self.size)\n",
    "\n",
    "#arc((130,250),radius=50,change_sense=False)\n",
    "\n",
    "class ring_diagram(object):\n",
    "    \"\"\"\n",
    "    This one uses a concentric circle arrangement starting from nodes connected to v_\\{infty}\n",
    "    This is a rough prototype to play around with the SVG\n",
    "    Actually this needs a better integration with the incident matrix i.e. the incident matrix needs some concepts\n",
    "    that are used in drawing such as drawing callbacks for arcs and edges mapped to a coodinate system\n",
    "    then we should be able to enumerate through all arcs and edges in the diagram\n",
    "    that would make it easy to show only one edge w.r.t the origin and be alot more functional\n",
    "    important thing is to make sure the drawing is driven from the incidence matrix \n",
    "    this avoids the problem of connecting out to the outer rings which was just a test run\n",
    "    the incident matrix then needs to be validated by independent cycles\n",
    "    \"\"\"\n",
    "    def __init__(self, inc_matrix, options={}):\n",
    "        self.x = 0\n",
    "        self.y = 0\n",
    "        self.margin = 10\n",
    "        self.radius = 90\n",
    "        center = self.radius+self.margin\n",
    "        self._size=(200,200)\n",
    "        self._center = (center,center)\n",
    "        self._options = options\n",
    "        self._inc = inc_matrix\n",
    "        self._vertex_depths = [v[1] for v in list(self._inc.vertex_hierarchy())][1:]\n",
    "        self._metadata = {}\n",
    "        self.body = \"\"\n",
    "        \n",
    "        #for spanning tree - this is not general enough but quick fix\n",
    "        self._dashed_edges = [] if not \"cut_edges\" in options else options[\"cut_edges\"]\n",
    "            \n",
    "    @property\n",
    "    def external_vertices(self):pass\n",
    "     \n",
    "    def __measure_inter_layer_chords__(self, existing_coords, proposed_coords):\n",
    "        return 0\n",
    "    \n",
    "    def __polarToCartesian__(self, angleInDegrees, radius, center):\n",
    "        centerX, centerY = center[0], center[1]\n",
    "        angleInRadians = (angleInDegrees-90) *math.pi / 180.0;\n",
    "        return int( centerX + (radius * math.cos(angleInRadians))), int( centerY + (radius * math.sin(angleInRadians))), angleInDegrees\n",
    "    \n",
    "    def __set_vertex_property__(self, i, key, value):\n",
    "        if i not in self._metadata: self._metadata[i] = {}\n",
    "        self._metadata[i][key] = value\n",
    "        \n",
    "    def __get_vertex_property__(self, i, key,value):\n",
    "        if i in self._metadata and key in self._metadata[i]:return self._metadata[i][p]\n",
    "    \n",
    "    def __arrange__(self, angle, radius, vset, center=None, prev_layer_connections={}):\n",
    "        center = center if center is not None else self._center\n",
    "        if angle == 360: \n",
    "            self.__set_vertex_property__(vset[0], \"point\", center)\n",
    "            return [center]#if the angle is 360 this can only be a dot in the center\n",
    "        m,accepted = 1,None\n",
    "        for offset in [angle]:\n",
    "            proposed = [self.__polarToCartesian__( (i+1)*angle, radius,center) for i, v in enumerate(vset)]\n",
    "            _m = self.__measure_inter_layer_chords__(prev_layer_connections, proposed)\n",
    "            if m ==-1 or _m < m: \n",
    "                accepted, m = proposed, _m\n",
    "                for i,v in enumerate(vset):\n",
    "                    self.__set_vertex_property__(v, \"point\", [proposed[i][0],proposed[i][1]])\n",
    "                    self.__set_vertex_property__(v, \"angle\", proposed[i][-1])\n",
    "                    self.__set_vertex_property__(v, \"radius\", radius)\n",
    "                            \n",
    "        return accepted\n",
    "\n",
    "    def __describeArc__(self, startAngle, endAngle, radius,pid=None):\n",
    "        return arc((startAngle,endAngle),radius, self._center,self._size, pid=pid, is_cut_line=(pid in self._dashed_edges)).body    \n",
    "           \n",
    "#     def try_get_connecting_edges(self, v):\n",
    "#         #look up the metadata for v and get all edges that are adjacent to it that we know about\n",
    "#         #think about us and vs here - i may be mixing them up\n",
    "#         for u in self._inc.get_coincident_vertices(v):\n",
    "#             if u in self._metadata and v in self._metadata: \n",
    "#                 _u,_v = u,v\n",
    "#                 #if the max length is exceeded, try to get a nice arc otherwise....\n",
    "#                 #max length is the length of the verticle chord connecting the bottom of one disk to the point on the outer disk          \n",
    "#                 pid = self._inc.try_directed_edge_index(_v,_u)\n",
    "#                 if pid == None: \n",
    "#                     _u,_v = _v,_u #flip for drawing\n",
    "#                     pid = self._inc.try_directed_edge_index(_v,_u)\n",
    "                    \n",
    "#                 yield self.get_line([self._metadata[_u][\"point\"][0],\n",
    "#                                      self._metadata[_u][\"point\"][1],\n",
    "#                                      self._metadata[_v][\"point\"][0],\n",
    "#                                      self._metadata[_v][\"point\"][1]],\n",
    "#                                      pid=pid)\n",
    "        \n",
    "    def get_line(self, pts, colour=\"black\", dash_array=None,pid=None):\n",
    "        \n",
    "        #todo hash array passed in is redundant remove\n",
    "        \n",
    "        midpoint = [(pts[0] + pts[2])/2.,(pts[1] + pts[3])/2.]            \n",
    "        #l = \"\"\"<line x1=\"{0}\" y1=\"{1}\" x2=\"{2}\" y2=\"{3}\" stroke=\"{4}\" stroke-width:2px\"  {5}   />\"\"\".format(*pts, colour,dash_array )\n",
    "        pidattr = \"\" if pid == None else \"\"\"id='edge{}'\"\"\".format(pid)\n",
    "        dasharray =  \"\" if pid not in self._dashed_edges else \"\"\"stroke-dasharray='1,7'\"\"\"\n",
    "        hl =\"\"\n",
    "        l = \"\"\"<path d=\"M{0} {1} L {2} {3}\" stroke=\"{4}\" stroke-width=\"2px\" {5} {6}  /> \"\"\".format(*pts, colour,pidattr,dasharray )\n",
    "        #print(l)\n",
    "        if pid not in self._dashed_edges:#only display if not cut edge\n",
    "            hl = \"\"\"<line x1=\"{0}\" y1=\"{1}\" x2=\"{2}\" y2=\"{3}\" stroke=\"{4}\" stroke-width=\"2px\"  {5} {6}  marker-end='url(#arrow)' />\"\"\".format(pts[0],\n",
    "                                                                                                                                          pts[1], \n",
    "                                                                                                                                          midpoint[0], \n",
    "                                                                                                                                          midpoint[1], \n",
    "                                                                                                                                          colour,\n",
    "                                                                                                                                              pidattr,\n",
    "                                                                                                                                          dasharray )\n",
    "        return l+hl\n",
    "    \n",
    "#     def __edge_segments__(self,a,b,angle, radius, vset):\n",
    "#         #clean this up; assume that we have a vset but we dont know what the angles are\n",
    "#         #we assume that they are connected in a ring (works for multiple edge)?\n",
    "#         #the incidence matrix must start 1 and go -1 to check if the edge exists in that way as we have assumed a layout here\n",
    "#         \"\"\"\n",
    "#         We always arrange vertices on disks separated by angles. Can only have vertices in [0,360]\n",
    "#         We assume that the id is the arrangment id in order and that a<b for normal sense\n",
    "#         if however b<a, then we have anticlockwise sense and we will change the angles for downstream reflection\n",
    "#         \"\"\"\n",
    "#         #if there are multiple edges, then allow - otherwise restrict direction - wrapping because its a ring\n",
    "#         a,b = a%len(vset),b%len(vset)\n",
    "#         offset_angles = [self.__polarToCartesian__( (i+1)*angle, radius,self._center) for i, v in enumerate(vset)]\n",
    "        \n",
    "#         first = offset_angles[a][-1] % 360 # we should always start \n",
    "#         second = offset_angles[b][-1] \n",
    "        \n",
    "#         all_con = list(self._inc.get_all_connections(a,b))\n",
    "#         if len (all_con) > 0: print(\"mili edges detected\")\n",
    "        \n",
    "#         pid = self._inc.try_directed_edge_index(vset[a],vset[b])\n",
    "#         if pid == None:\n",
    "#             a,b = b,a\n",
    "#             first,second = second,first\n",
    "#             pid = self._inc.try_directed_edge_index(vset[a],vset[b])\n",
    "\n",
    "#         cap = lambda x : 0 if x == 360 else x     \n",
    "#         if a< b: return (first,second), pid\n",
    "#         return (first,cap(second)), pid\n",
    "\n",
    "    def arrange_edges(self): \n",
    "        inc = self._inc\n",
    "        MD = self._metadata\n",
    "        def same_ring(a,b):\n",
    "            if \"radius\" in MD[a] and \"radius\" in MD[b]:\n",
    "                if MD[a][\"radius\"] == MD[b][\"radius\"]:return True\n",
    "            return False      \n",
    "        for p in MD.keys():\n",
    "            for q in self._metadata.keys():\n",
    "                if p >q:continue #diag\n",
    "                pq_cons = list(inc.get_all_connections(p,q))\n",
    "                for i, edge_meta in enumerate(pq_cons):\n",
    "                    a,b = (p,q) if edge_meta[-1] == 1 else (q,p) #check convention\n",
    "                    edge = [a,b]\n",
    "                    edge_id = edge_meta[0]\n",
    "                    \n",
    "                    if i > 1 or not same_ring(a,b): #max ring links or on a different ring\n",
    "                        self.body +=self.get_line([self._metadata[a][\"point\"][0],self._metadata[a][\"point\"][1],\n",
    "                                       self._metadata[b][\"point\"][0],self._metadata[b][\"point\"][1]],\n",
    "                                       pid=edge_id)\n",
    "                    else: \n",
    "                        angles = [MD[a][\"angle\"],MD[b][\"angle\"]]\n",
    "                        if i == 1:\n",
    "                            angles = [angles[0]%360,angles[1]%360] \n",
    "                        #temp hack - not sure what the logic chould be but i know i should never have arcs bigger than 180\n",
    "                        #for rings with 4 vertices, there might be a similar rule and i can generalise\n",
    "                        if angles[0] - angles[1] >180 and angles[0] == 360:angles[0]=0\n",
    "                        if angles[1] - angles[0] >180 and angles[1] == 360:angles[1]=0\n",
    "                        \n",
    "                        #print(edge_id,angles,i)\n",
    "                        self.body += self.__describeArc__(*angles, MD[a][\"radius\"], pid=edge_id )\n",
    "\n",
    "    def __display__(self):\n",
    "        ##arrangement algorithm\n",
    "        #each level of the hiearchy is given a radius >= 0 and maximally seperated items are added\n",
    "        #there are symmetric locations and these are chosen to minimise arc lengths\n",
    "        #I think maybe just try rotations of some integer factors of the freedom which is 360/|l| not including the one that gives the symmetry of course      \n",
    "        marker_style = arc.get_header()\n",
    "        self.body += marker_style\n",
    "        levels = len(self._vertex_depths)\n",
    "        \n",
    "        radii_margins = [20*(levels-(i)) for i in reversed(range(len(self._vertex_depths))) ]\n",
    "        angles = [(360./len(v)) for v in self._vertex_depths]\n",
    "\n",
    "        for i, vset in enumerate(self._vertex_depths): \n",
    "            radius = self.radius-radii_margins[i]\n",
    "            for coord in self.__arrange__(angles[i],radius , vset):\n",
    "                self.body+= \"\"\"<circle cx=\"{0}\" cy=\"{1}\" r=\"3\" stroke=\"black\" stroke-width=\"1\" fill=\"black\" /> \"\"\".format(*coord)\n",
    "        \n",
    "        self.arrange_edges()            \n",
    "        if \"show_labels\" in self._options:\n",
    "                for e in range(len(self._inc.edges)):\n",
    "                    self.body+= \"\"\"<text x=\"10%\" style=\"fill: #000000;stroke: none; font-size: 14px;\" ><textPath xlink:href=\"#edge{0}\">e{0}</textPath></text>\"\"\".format(e)\n",
    "                    \n",
    "        return  \"\"\"<svg xmlns=\"http://www.w3.org/2000/svg\" xmlns:xlink=\"http://www.w3.org/1999/xlink\" version=\"1.1\" x=\"{1}\" y=\"{2}\" width=\"{3}\" height=\"{4}\">\n",
    "      <g fill=\"none\" stroke=\"black\" stroke-width=\"1.6\" stroke-linecap=\"round\" transform=\"rotate(90,100,100)\"> {0}  </g> </svg>\"\"\".format(self.body,  self.x, self.y, *self._size)\n",
    "\n",
    "    #def __repr__(self):return self.__display__()           \n",
    "    def __div2s__(self,n):\n",
    "        while n - int(n) == 0:\n",
    "            n/=2\n",
    "            if n - int(n) ==0: yield n\n",
    "\n",
    "                \n",
    "    def _repr_html_(self): return self.__display__()\n",
    "    \n",
    "    @property\n",
    "    def vertex_delta_functions(self):\n",
    "        pass\n",
    "    \n",
    "    @property\n",
    "    def loop_delta_functions(self):\n",
    "        pass\n",
    "                   \n",
    "            \n",
    "class show_spanning_trees(object):\n",
    "    def __init__(self, inc_matrix, show_labels=False, max_width=None, min_split=5, alternate_background=True):\n",
    "        \n",
    "        total_edges = len(inc_matrix.edges)\n",
    "        \n",
    "        trees = inc_matrix.spanning_trees\n",
    "        #todo limit the width so we do not have some crazy amount \n",
    "        l = int(np.ceil(np.sqrt(len(trees))))\n",
    "        width,height = l,l\n",
    "        if width < min_split: width,height=len(trees),1\n",
    "        style = \"\" if alternate_background == True and height > 1 else \"style='background:white'\"\n",
    "        #complement - cut the edges not in the tree\n",
    "        edges_too_cut= [list(set(range(total_edges))-set(list(v))) for k, v in trees.iterrows()]\n",
    "        rows = \"\"\n",
    "        counter = 0\n",
    "        for i in range(height):\n",
    "            row = \"\"\"<tr {}>\"\"\".format(style)\n",
    "            for j in range(width):\n",
    "                if counter == len(edges_too_cut):break\n",
    "                o = options={\"cut_edges\": edges_too_cut[counter]}\n",
    "                if show_labels: o[\"show_labels\"] = True\n",
    "                rd = ring_diagram(inc_matrix.copy(), options=o)\n",
    "                row+=\"\"\"<td>{}</td>\"\"\".format(rd.__display__() )\n",
    "                counter+=1\n",
    "            row+= \"</tr>\"\n",
    "            rows+= row\n",
    "                \n",
    "        self.body = \"\"\"<table >{}</table>\"\"\".format(rows)\n",
    "        \n",
    "    def _repr_html_(self): return self.body\n",
    "    \n",
    "   "
   ]
  },
  {
   "cell_type": "code",
   "execution_count": 7,
   "metadata": {},
   "outputs": [
    {
     "data": {
      "text/html": [
       "<svg xmlns=\"http://www.w3.org/2000/svg\" xmlns:xlink=\"http://www.w3.org/1999/xlink\" version=\"1.1\" x=\"0\" y=\"0\" width=\"200\" height=\"200\">\n",
       "      <g fill=\"none\" stroke=\"black\" stroke-width=\"1.6\" stroke-linecap=\"round\" transform=\"rotate(90,100,100)\"> <defs><marker id=\"arrow\"  markerUnits=\"strokeWidth\" markerWidth='5' markerHeight='8' refX='0' refY='2' orient=\"auto\">\n",
       "                                      <path d=\"M0,0 V4 L2,2 Z\" style=\"fill: #000000;\" /> </marker></defs><circle cx=\"160\" cy=\"135\" r=\"3\" stroke=\"black\" stroke-width=\"1\" fill=\"black\" /> <circle cx=\"39\" cy=\"135\" r=\"3\" stroke=\"black\" stroke-width=\"1\" fill=\"black\" /> <circle cx=\"99\" cy=\"30\" r=\"3\" stroke=\"black\" stroke-width=\"1\" fill=\"black\" /> <circle cx=\"100\" cy=\"150\" r=\"3\" stroke=\"black\" stroke-width=\"1\" fill=\"black\" /> <circle cx=\"99\" cy=\"50\" r=\"3\" stroke=\"black\" stroke-width=\"1\" fill=\"black\" /> <circle cx=\"100\" cy=\"100\" r=\"3\" stroke=\"black\" stroke-width=\"1\" fill=\"black\" /> <path id='edge0' d=\"M  160  135  A  70  70  0  0  1  39  135 \" stroke=\"black\"  stroke-width=\"2px\"   /><path id='edge0' d=\"M  160  135  A  70  70  0  0  1  100  170 \" stroke=\"black\"  stroke-width=\"2px\" marker-end='url(#arrow)'  /><path id='edge2' d=\"M  100  30  A  70  70  0  0  1  160  135 \" stroke=\"black\"  stroke-width=\"2px\"   /><path id='edge2' d=\"M  100  30  A  70  70  0  0  1  160  65 \" stroke=\"black\"  stroke-width=\"2px\" marker-end='url(#arrow)'  /><path d=\"M100 150 L 160 135\" stroke=\"black\" stroke-width=\"2px\" id='edge5'   /> <line x1=\"100\" y1=\"150\" x2=\"130.0\" y2=\"142.5\" stroke=\"black\" stroke-width=\"2px\"  id='edge5'   marker-end='url(#arrow)' /><path id='edge1' d=\"M  39  135  A  70  70  0  0  1  99  30 \" stroke=\"black\"  stroke-width=\"2px\"   /><path id='edge1' d=\"M  39  135  A  70  70  0  0  1  39  65 \" stroke=\"black\"  stroke-width=\"2px\" marker-end='url(#arrow)'  /><path d=\"M99 50 L 99 30\" stroke=\"black\" stroke-width=\"2px\" id='edge6'   /> <line x1=\"99\" y1=\"50\" x2=\"99.0\" y2=\"40.0\" stroke=\"black\" stroke-width=\"2px\"  id='edge6'   marker-end='url(#arrow)' /><path id='edge3' d=\"M  100  150  A  50  50  0  0  1  99  50 \" stroke=\"black\"  stroke-width=\"2px\"   /><path id='edge3' d=\"M  100  150  A  50  50  0  0  1  50  100 \" stroke=\"black\"  stroke-width=\"2px\" marker-end='url(#arrow)'  /><path id='edge4' d=\"M  100  50  A  50  50  0  0  1  100  150 \" stroke=\"black\"  stroke-width=\"2px\"   /><path id='edge4' d=\"M  100  50  A  50  50  0  0  1  150  100 \" stroke=\"black\"  stroke-width=\"2px\" marker-end='url(#arrow)'  /><path d=\"M100 100 L 100 150\" stroke=\"black\" stroke-width=\"2px\" id='edge8'   /> <line x1=\"100\" y1=\"100\" x2=\"100.0\" y2=\"125.0\" stroke=\"black\" stroke-width=\"2px\"  id='edge8'   marker-end='url(#arrow)' /><path d=\"M99 50 L 100 100\" stroke=\"black\" stroke-width=\"2px\" id='edge7'   /> <line x1=\"99\" y1=\"50\" x2=\"99.5\" y2=\"75.0\" stroke=\"black\" stroke-width=\"2px\"  id='edge7'   marker-end='url(#arrow)' /><text x=\"10%\" style=\"fill: #000000;stroke: none; font-size: 14px;\" ><textPath xlink:href=\"#edge0\">e0</textPath></text><text x=\"10%\" style=\"fill: #000000;stroke: none; font-size: 14px;\" ><textPath xlink:href=\"#edge1\">e1</textPath></text><text x=\"10%\" style=\"fill: #000000;stroke: none; font-size: 14px;\" ><textPath xlink:href=\"#edge2\">e2</textPath></text><text x=\"10%\" style=\"fill: #000000;stroke: none; font-size: 14px;\" ><textPath xlink:href=\"#edge3\">e3</textPath></text><text x=\"10%\" style=\"fill: #000000;stroke: none; font-size: 14px;\" ><textPath xlink:href=\"#edge4\">e4</textPath></text><text x=\"10%\" style=\"fill: #000000;stroke: none; font-size: 14px;\" ><textPath xlink:href=\"#edge5\">e5</textPath></text><text x=\"10%\" style=\"fill: #000000;stroke: none; font-size: 14px;\" ><textPath xlink:href=\"#edge6\">e6</textPath></text><text x=\"10%\" style=\"fill: #000000;stroke: none; font-size: 14px;\" ><textPath xlink:href=\"#edge7\">e7</textPath></text><text x=\"10%\" style=\"fill: #000000;stroke: none; font-size: 14px;\" ><textPath xlink:href=\"#edge8\">e8</textPath></text>  </g> </svg>"
      ],
      "text/plain": [
       "<__main__.ring_diagram at 0x21eed679588>"
      ]
     },
     "execution_count": 7,
     "metadata": {},
     "output_type": "execute_result"
    }
   ],
   "source": [
    "INC = incidence_matrix.__sample__()\n",
    "#INC.flip_edges(1)\n",
    "D = ring_diagram(INC, options={ \"show_labels\":True, }) \n",
    "D"
   ]
  },
  {
   "cell_type": "code",
   "execution_count": 8,
   "metadata": {},
   "outputs": [
    {
     "data": {
      "text/plain": [
       "incidence_matrix([[ 1,  0, -1,  0,  0, -1,  0,  0,  0, -1,  0,  0],\n",
       "                  [-1,  1,  0,  0,  0,  0,  0,  0,  0,  0, -1,  0],\n",
       "                  [ 0, -1,  1,  0,  0,  0, -1,  0,  0,  0,  0, -1],\n",
       "                  [ 0,  0,  0,  1, -1,  1,  0,  0, -1,  0,  0,  0],\n",
       "                  [ 0,  0,  0, -1,  1,  0,  1,  1,  0,  0,  0,  0],\n",
       "                  [ 0,  0,  0,  0,  0,  0,  0, -1,  1,  0,  0,  0],\n",
       "                  [ 0,  0,  0,  0,  0,  0,  0,  0,  0,  1,  1,  1]])"
      ]
     },
     "execution_count": 8,
     "metadata": {},
     "output_type": "execute_result"
    }
   ],
   "source": [
    "INC"
   ]
  },
  {
   "cell_type": "code",
   "execution_count": 9,
   "metadata": {},
   "outputs": [
    {
     "data": {
      "text/html": [
       "<svg xmlns=\"http://www.w3.org/2000/svg\" xmlns:xlink=\"http://www.w3.org/1999/xlink\" version=\"1.1\" x=\"0\" y=\"0\" width=\"200\" height=\"200\">\n",
       "      <g fill=\"none\" stroke=\"black\" stroke-width=\"1.6\" stroke-linecap=\"round\" transform=\"rotate(90,100,100)\"> <defs><marker id=\"arrow\"  markerUnits=\"strokeWidth\" markerWidth='5' markerHeight='8' refX='0' refY='2' orient=\"auto\">\n",
       "                                      <path d=\"M0,0 V4 L2,2 Z\" style=\"fill: #000000;\" /> </marker></defs><circle cx=\"100\" cy=\"170\" r=\"3\" stroke=\"black\" stroke-width=\"1\" fill=\"black\" /> <circle cx=\"99\" cy=\"30\" r=\"3\" stroke=\"black\" stroke-width=\"1\" fill=\"black\" /> <path id='edge0' d=\"M  99  30  A  70  70  0  0  0  100  170 \" stroke=\"black\"  stroke-width=\"2px\"   /><path id='edge0' d=\"M  99  30  A  70  70  0  0  0  30  100 \" stroke=\"black\"  stroke-width=\"2px\" marker-end='url(#arrow)'  /><path id='edge1' d=\"M  100  30  A  70  70  0  0  1  100  170 \" stroke=\"black\"  stroke-width=\"2px\"   /><path id='edge1' d=\"M  100  30  A  70  70  0  0  1  170  100 \" stroke=\"black\"  stroke-width=\"2px\" marker-end='url(#arrow)'  /><path d=\"M100 170 L 99 30\" stroke=\"black\" stroke-width=\"2px\" id='edge2'   /> <line x1=\"100\" y1=\"170\" x2=\"99.5\" y2=\"100.0\" stroke=\"black\" stroke-width=\"2px\"  id='edge2'   marker-end='url(#arrow)' /><text x=\"10%\" style=\"fill: #000000;stroke: none; font-size: 14px;\" ><textPath xlink:href=\"#edge0\">e0</textPath></text><text x=\"10%\" style=\"fill: #000000;stroke: none; font-size: 14px;\" ><textPath xlink:href=\"#edge1\">e1</textPath></text><text x=\"10%\" style=\"fill: #000000;stroke: none; font-size: 14px;\" ><textPath xlink:href=\"#edge2\">e2</textPath></text>  </g> </svg>"
      ],
      "text/plain": [
       "<__main__.ring_diagram at 0x21ef05324e0>"
      ]
     },
     "execution_count": 9,
     "metadata": {},
     "output_type": "execute_result"
    }
   ],
   "source": [
    "sunset = incidence_matrix(3,2,\n",
    "                       [ [1,0], [1,0], [0,1]],\n",
    "                       external_vertices=[0,1,1])\n",
    "D = ring_diagram(sunset, options={ \"show_labels\":True, }) \n",
    "D"
   ]
  },
  {
   "cell_type": "code",
   "execution_count": 10,
   "metadata": {
    "collapsed": true
   },
   "outputs": [],
   "source": [
    "def _adj_struct_from_edges_(inc_mat, eset=None):\n",
    "    tuples = []\n",
    "    if eset == None: eset = list(range(inc_mat._num_internal_edges))\n",
    "    for e in eset:\n",
    "        t = list(np.where(inc_mat[:,e]!=0)[0])\n",
    "        tuples.append(t+[e])\n",
    "        tuples.append(list(reversed(t))+[e])\n",
    "    df = pd.DataFrame(tuples,columns=[\"a\",\"b\", \"e\"]).sort_values(\"a\")\n",
    "    tds = pd.DataFrame([[k,v] for k,v in INC.tree_distance_map.items()],columns=[\"v\", \"d\"])\n",
    "    return pd.merge(df,tds, left_on=\"a\", right_on=\"v\")\n",
    "\n",
    "def random_walk(adj, nedges,i=0,j=0, max_length=100, min_path_length=1, set_edge_sense=None):\n",
    "    \"\"\"Random walk on edge boolean space until we construct a path of length greater than 1 using a clever backtrack trick\"\"\"\n",
    "    \n",
    "    l = 0 #safety\n",
    "    epath = np.zeros(nedges, bool)\n",
    "    _i = i   \n",
    "    def _random_choice_(adj,i):\n",
    "        mat = adj[adj[\"a\"]==i][[\"e\", \"b\"]].as_matrix()\n",
    "        return tuple(mat[np.random.randint(len(mat))])\n",
    "    ###################################################\n",
    "    loop_formed = lambda : epath.sum() > min_path_length and _i == i \n",
    "    while l < max_length and not loop_formed():\n",
    "        e, _i = _random_choice_(adj, _i )\n",
    "        #print(e,_i)\n",
    "        epath[e] = np.logical_not(epath[e])\n",
    "        l+=1   \n",
    "    if not loop_formed():epath=False \n",
    "    ####################################################\n",
    "    #return epath\n",
    "    return list(np.where(epath)[0])\n",
    "    \n",
    "def circuits(inc_matrix, spanning_tree=None,sort=True):  \n",
    "    if spanning_tree is None:spanning_tree = inc_matrix.spanning_trees.iloc[0].values\n",
    "    st_comp = inc_matrix.edge_complement(spanning_tree)\n",
    "    #this spanning tree must have L missing edges\n",
    "    all_circuits = []\n",
    "    for e in st_comp:#add one edge and determine it's incident vertex to start a circuit trace\n",
    "        ev = inc_matrix.directed_edge_as_vertices(e)\n",
    "        #print(\"edge\",e, \"is\", ev)\n",
    "        sub_tree = [e] + list(spanning_tree)\n",
    "        #print(sub_tree)\n",
    "        adj = _adj_struct_from_edges_(inc_matrix,sub_tree)\n",
    "        circuit = list(random_walk(adj,len(inc_matrix.edges), ev[0],ev[0]))\n",
    "        all_circuits.append(circuit)   \n",
    "        \n",
    "    def circuit_sorter(inc_mat):\n",
    "        graph = _adj_struct_from_edges_(inc_mat)\n",
    "        def _sorter_(a):\n",
    "            distinct_vertices = np.unique(np.array([inc_mat.directed_edge_as_vertices(e) for e in a ]))\n",
    "            return graph[graph[\"a\"].isin(distinct_vertices)][[\"a\",\"d\"]].drop_duplicates()[\"d\"].mean()\n",
    "        return _sorter_\n",
    "    \n",
    "    if sort:\n",
    "        s = circuit_sorter(INC)\n",
    "        all_circuits.sort(key=lambda x : s(x))\n",
    "        \n",
    "    return all_circuits"
   ]
  },
  {
   "cell_type": "code",
   "execution_count": 11,
   "metadata": {},
   "outputs": [
    {
     "data": {
      "text/plain": [
       "[[0, 1, 2], [0, 1, 3, 5, 6], [3, 4], [3, 7, 8]]"
      ]
     },
     "execution_count": 11,
     "metadata": {},
     "output_type": "execute_result"
    }
   ],
   "source": [
    "all_circuits=  circuits(INC,sort=True)\n",
    "all_circuits"
   ]
  },
  {
   "cell_type": "code",
   "execution_count": 12,
   "metadata": {},
   "outputs": [
    {
     "data": {
      "image/png": "[encoded data removed]",
      "text/latex": [
       "$$\\left [ \\left [ 3, \\quad 4, \\quad 5, \\quad 6, \\quad 7, \\quad 8\\right ], \\quad \\left [ 8, \\quad 2, \\quad 4, \\quad 7\\right ], \\quad \\left [ 0, \\quad 1, \\quad 2, \\quad 5, \\quad 6, \\quad 7, \\quad 8\\right ], \\quad \\left [ 0, \\quad 1, \\quad 2, \\quad 4, \\quad 5, \\quad 6\\right ]\\right ]$$"
      ],
      "text/plain": [
       "[[3, 4, 5, 6, 7, 8], [8, 2, 4, 7], [0, 1, 2, 5, 6, 7, 8], [0, 1, 2, 4, 5, 6]]"
      ]
     },
     "execution_count": 12,
     "metadata": {},
     "output_type": "execute_result"
    }
   ],
   "source": [
    "cir_cuts = [INC.edge_complement(c) for c in all_circuits]\n",
    "cir_cuts"
   ]
  },
  {
   "cell_type": "markdown",
   "metadata": {},
   "source": [
    "# now take a look at one of the spanning rees"
   ]
  },
  {
   "cell_type": "code",
   "execution_count": 13,
   "metadata": {
    "collapsed": true
   },
   "outputs": [],
   "source": [
    "#show_spanning_trees(INC)"
   ]
  },
  {
   "cell_type": "code",
   "execution_count": 14,
   "metadata": {},
   "outputs": [
    {
     "name": "stdout",
     "output_type": "stream",
     "text": [
      "[0, 2, 3, 4]\n"
     ]
    },
    {
     "data": {
      "text/html": [
       "<svg xmlns=\"http://www.w3.org/2000/svg\" xmlns:xlink=\"http://www.w3.org/1999/xlink\" version=\"1.1\" x=\"0\" y=\"0\" width=\"200\" height=\"200\">\n",
       "      <g fill=\"none\" stroke=\"black\" stroke-width=\"1.6\" stroke-linecap=\"round\" transform=\"rotate(90,100,100)\"> <defs><marker id=\"arrow\"  markerUnits=\"strokeWidth\" markerWidth='5' markerHeight='8' refX='0' refY='2' orient=\"auto\">\n",
       "                                      <path d=\"M0,0 V4 L2,2 Z\" style=\"fill: #000000;\" /> </marker></defs><circle cx=\"160\" cy=\"135\" r=\"3\" stroke=\"black\" stroke-width=\"1\" fill=\"black\" /> <circle cx=\"39\" cy=\"135\" r=\"3\" stroke=\"black\" stroke-width=\"1\" fill=\"black\" /> <circle cx=\"99\" cy=\"30\" r=\"3\" stroke=\"black\" stroke-width=\"1\" fill=\"black\" /> <circle cx=\"100\" cy=\"150\" r=\"3\" stroke=\"black\" stroke-width=\"1\" fill=\"black\" /> <circle cx=\"99\" cy=\"50\" r=\"3\" stroke=\"black\" stroke-width=\"1\" fill=\"black\" /> <circle cx=\"100\" cy=\"100\" r=\"3\" stroke=\"black\" stroke-width=\"1\" fill=\"black\" /> <path id='edge0' d=\"M  160  135  A  70  70  0  0  1  39  135 \" stroke=\"black\"  stroke-width=\"2px\"   stroke-dasharray='1,5' /><path id='edge2' d=\"M  100  30  A  70  70  0  0  1  160  135 \" stroke=\"black\"  stroke-width=\"2px\"   stroke-dasharray='1,5' /><path d=\"M100 150 L 160 135\" stroke=\"black\" stroke-width=\"2px\" id='edge5'   /> <line x1=\"100\" y1=\"150\" x2=\"130.0\" y2=\"142.5\" stroke=\"black\" stroke-width=\"2px\"  id='edge5'   marker-end='url(#arrow)' /><path id='edge1' d=\"M  39  135  A  70  70  0  0  1  99  30 \" stroke=\"black\"  stroke-width=\"2px\"   /><path id='edge1' d=\"M  39  135  A  70  70  0  0  1  39  65 \" stroke=\"black\"  stroke-width=\"2px\" marker-end='url(#arrow)'  /><path d=\"M99 50 L 99 30\" stroke=\"black\" stroke-width=\"2px\" id='edge6'   /> <line x1=\"99\" y1=\"50\" x2=\"99.0\" y2=\"40.0\" stroke=\"black\" stroke-width=\"2px\"  id='edge6'   marker-end='url(#arrow)' /><path id='edge3' d=\"M  100  150  A  50  50  0  0  1  99  50 \" stroke=\"black\"  stroke-width=\"2px\"   stroke-dasharray='1,5' /><path id='edge4' d=\"M  100  50  A  50  50  0  0  1  100  150 \" stroke=\"black\"  stroke-width=\"2px\"   stroke-dasharray='1,5' /><path d=\"M100 100 L 100 150\" stroke=\"black\" stroke-width=\"2px\" id='edge8'   /> <line x1=\"100\" y1=\"100\" x2=\"100.0\" y2=\"125.0\" stroke=\"black\" stroke-width=\"2px\"  id='edge8'   marker-end='url(#arrow)' /><path d=\"M99 50 L 100 100\" stroke=\"black\" stroke-width=\"2px\" id='edge7'   /> <line x1=\"99\" y1=\"50\" x2=\"99.5\" y2=\"75.0\" stroke=\"black\" stroke-width=\"2px\"  id='edge7'   marker-end='url(#arrow)' /><text x=\"10%\" style=\"fill: #000000;stroke: none; font-size: 14px;\" ><textPath xlink:href=\"#edge0\">e0</textPath></text><text x=\"10%\" style=\"fill: #000000;stroke: none; font-size: 14px;\" ><textPath xlink:href=\"#edge1\">e1</textPath></text><text x=\"10%\" style=\"fill: #000000;stroke: none; font-size: 14px;\" ><textPath xlink:href=\"#edge2\">e2</textPath></text><text x=\"10%\" style=\"fill: #000000;stroke: none; font-size: 14px;\" ><textPath xlink:href=\"#edge3\">e3</textPath></text><text x=\"10%\" style=\"fill: #000000;stroke: none; font-size: 14px;\" ><textPath xlink:href=\"#edge4\">e4</textPath></text><text x=\"10%\" style=\"fill: #000000;stroke: none; font-size: 14px;\" ><textPath xlink:href=\"#edge5\">e5</textPath></text><text x=\"10%\" style=\"fill: #000000;stroke: none; font-size: 14px;\" ><textPath xlink:href=\"#edge6\">e6</textPath></text><text x=\"10%\" style=\"fill: #000000;stroke: none; font-size: 14px;\" ><textPath xlink:href=\"#edge7\">e7</textPath></text><text x=\"10%\" style=\"fill: #000000;stroke: none; font-size: 14px;\" ><textPath xlink:href=\"#edge8\">e8</textPath></text>  </g> </svg>"
      ],
      "text/plain": [
       "<__main__.ring_diagram at 0x21ef02f21d0>"
      ]
     },
     "execution_count": 14,
     "metadata": {},
     "output_type": "execute_result"
    }
   ],
   "source": [
    "tree = INC.spanning_trees.iloc[-1].values\n",
    "tree_cuts = INC.edge_complement(tree)\n",
    "print(tree_cuts)\n",
    "C = ring_diagram(INC, options={\"show_labels\" :True,  \"cut_edges\": tree_cuts}) \n",
    "C#._repr_html_()"
   ]
  },
  {
   "cell_type": "markdown",
   "metadata": {},
   "source": [
    "# Edge Orientations\n",
    "given cicuits, we can actually rank them by closeness to root and then we can incrementally orientate them in different ways\n",
    "\n",
    "(1) Choose a source and sink delegate on each circuit and have allow flow towards the sink\n",
    "\n",
    "(2) Respect loop momentum"
   ]
  },
  {
   "cell_type": "code",
   "execution_count": 15,
   "metadata": {},
   "outputs": [
    {
     "name": "stdout",
     "output_type": "stream",
     "text": [
      "[[0, 1, 2], [0, 1, 3, 5, 6], [3, 4], [3, 7, 8]]\n"
     ]
    }
   ],
   "source": [
    "#todo the last circuit is degenerate\n",
    "INC = incidence_matrix.__sample__()\n",
    "all_circuits = circuits(INC,INC.spanning_trees.iloc[0].values)\n",
    "print(all_circuits)"
   ]
  },
  {
   "cell_type": "code",
   "execution_count": 16,
   "metadata": {
    "collapsed": true
   },
   "outputs": [],
   "source": [
    "def _ensure_edge_path_(edges, edge_ids, h=[], edge_permutation=[]):\n",
    "    \"\"\"there should be a path from vertex to vertex in the correct order - we need to chain the vertices along the edges\n",
    "        eg = [[0, 1], [2, 1], [4, 3], [0, 3], [4, 2]]\n",
    "       _ensure_edge_path_(eg)  =>  [[0,1],[1,2],[2,4],[4,3],[3,0]]\n",
    "    \"\"\"\n",
    "    #copy the list\n",
    "    edge_ids = list(edge_ids)\n",
    "    def _match_(h,e):\n",
    "        if e[0] == h[-1]:return e\n",
    "        if e[1] == h[-1]: return list(reversed(e))\n",
    "        return None\n",
    "    \n",
    "    if len(edges)>0:\n",
    "        if len(h) == 0:\n",
    "            h = [edges.pop(0)]\n",
    "            edge_permutation = [edge_ids.pop(0)]\n",
    "            return _ensure_edge_path_(edges,edge_ids,h,edge_permutation)\n",
    "        for i,e in enumerate(edges):\n",
    "            _e = _match_(h[-1],e)\n",
    "            if _e is not None:\n",
    "                edges.pop(i)\n",
    "                h.append( _e )\n",
    "                edge_permutation.append(edge_ids.pop(i))\n",
    "                return _ensure_edge_path_(edges,edge_ids,h,edge_permutation)\n",
    "    return h,edge_permutation\n",
    "\n",
    "# def _ensure_edge_path2_(edges, h=[]):\n",
    "#     \"\"\"there should be a path from vertex to vertex in the correct order - we need to chain the vertices along the edges\n",
    "#         eg = [[0, 1], [2, 1], [4, 3], [0, 3], [4, 2]]\n",
    "#        _ensure_edge_path_(eg)  =>  [[0,1],[1,2],[2,4],[4,3],[3,0]]\n",
    "#     \"\"\"\n",
    "#     def _match_(h,e):\n",
    "#         if e[0] == h[-1]:return e\n",
    "#         if e[1] == h[-1]: return list(reversed(e))\n",
    "#         return None\n",
    "    \n",
    "#     if len(edges)>0:\n",
    "#         if len(h) == 0:\n",
    "#             h = [edges.pop(0)]\n",
    "#             return _ensure_edge_path_(edges,h)\n",
    "#         #pop the next guy\n",
    "#         e = edges.pop(0)\n",
    "#         #make sure she is the right way around\n",
    "#         print(h,e)\n",
    "#         h.append( _match_(h[-1],e) )\n",
    "#         return _ensure_edge_path_(edges,h)\n",
    "    \n",
    "#     return h\n"
   ]
  },
  {
   "cell_type": "code",
   "execution_count": 17,
   "metadata": {},
   "outputs": [
    {
     "data": {
      "image/png": "[encoded data removed]",
      "text/latex": [
       "$$\\left ( \\left [ \\left [ 0, \\quad 1\\right ], \\quad \\left [ 1, \\quad 2\\right ], \\quad \\left [ 2, \\quad 4\\right ], \\quad \\left [ 4, \\quad 3\\right ], \\quad \\left [ 3, \\quad 0\\right ]\\right ], \\quad \\left [ 0, \\quad 1, \\quad 6, \\quad 3, \\quad 5\\right ]\\right )$$"
      ],
      "text/plain": [
       "([[0, 1], [1, 2], [2, 4], [4, 3], [3, 0]], [0, 1, 6, 3, 5])"
      ]
     },
     "execution_count": 17,
     "metadata": {},
     "output_type": "execute_result"
    }
   ],
   "source": [
    "eg = [[0, 1], [2, 1], [4, 3], [0, 3], [4, 2]]\n",
    "_ensure_edge_path_(eg,edge_ids=[0, 1, 3, 5, 6])"
   ]
  },
  {
   "cell_type": "code",
   "execution_count": 18,
   "metadata": {},
   "outputs": [
    {
     "data": {
      "text/plain": [
       "([[0, 1], [1, 2], [2, 4], [4, 3], [3, 0]], [0, 1, 6, 3, 5])"
      ]
     },
     "execution_count": 18,
     "metadata": {},
     "output_type": "execute_result"
    }
   ],
   "source": [
    "circ = all_circuits[1]\n",
    "circ_evs = [INC.directed_edge_as_vertices (e) for e in circ]\n",
    "circ_evs = _ensure_edge_path_(circ_evs,circ)\n",
    "circ_evs    "
   ]
  },
  {
   "cell_type": "code",
   "execution_count": 25,
   "metadata": {
    "collapsed": true
   },
   "outputs": [],
   "source": [
    "\n",
    "\n",
    "def set_circuit_flow(inc_mat, circ, entrainment={} ):\n",
    "    circ_evs = [inc_mat.directed_edge_as_vertices (e) for e in circ]\n",
    "    circ_evs,edge_permutation = _ensure_edge_path_(circ_evs,edge_ids=circ)\n",
    "    inc_mat.ensure_edge_directions(dict(zip(edge_permutation, circ_evs)))\n",
    "    \n",
    "def set_source_sink_flow(inc_mat, circ, known_source_sinks = [], maxout=100):\n",
    "    adj = _adj_struct_from_edges_(inc_mat,circ)\n",
    "    source,sink = tuple(adj[adj[\"e\"].isin(circ)][[\"v\",\"d\"]].drop_duplicates().sort_values(\"d\")[:2][\"v\"].values)\n",
    "    #check if we already have a known source and sink and treat it as a negative score - if we choose our own, add to the list\n",
    "    \n",
    "    #partition the circuit between source and sink\n",
    "    circ_evs = [inc_mat.directed_edge_as_vertices (e) for e in circ]\n",
    "    #print(\"before\",circ_evs)\n",
    "    circ_evs,circ = _ensure_edge_path_(circ_evs,circ)   \n",
    "    #print(\"after\", circ_evs)\n",
    "    S,s,cursor,p1 = -1,-1,0,[]\n",
    "    #print(\"source, sink:\",source,sink)\n",
    "    while s == -1:\n",
    "        index = cursor%len(circ_evs)\n",
    "        v = circ_evs[index]\n",
    "        #print(index, v)\n",
    "        if v[0] == source:S = index\n",
    "        if v[0] == sink and S != -1:s = index  \n",
    "        if S != -1 and s == -1:p1.append(index)\n",
    "        cursor+= 1\n",
    "        if cursor == maxout:return\n",
    "        \n",
    "    p2 = list(set(range(len(circ))) - set(p1))\n",
    "    #return [circ_evs[e] for e in p1],[list(reversed(circ_evs[e])) for e in p2]\n",
    "    #keep one side and reverse the other\n",
    "    new_edges = [circ_evs[e] for e in p1] + [list(reversed(circ_evs[e])) for e in p2]\n",
    "    edge_ids = [circ[i] for i in p1+p2]\n",
    "    d = dict(zip(edge_ids, new_edges))\n",
    "    #print(d)\n",
    "    inc_mat.ensure_edge_directions(d)\n",
    "    #print(circ)\n",
    "    return source,sink\n",
    "    "
   ]
  },
  {
   "cell_type": "markdown",
   "metadata": {},
   "source": [
    "# set default circuit flow"
   ]
  },
  {
   "cell_type": "code",
   "execution_count": 26,
   "metadata": {},
   "outputs": [
    {
     "data": {
      "text/html": [
       "<svg xmlns=\"http://www.w3.org/2000/svg\" xmlns:xlink=\"http://www.w3.org/1999/xlink\" version=\"1.1\" x=\"0\" y=\"0\" width=\"200\" height=\"200\">\n",
       "      <g fill=\"none\" stroke=\"black\" stroke-width=\"1.6\" stroke-linecap=\"round\" transform=\"rotate(90,100,100)\"> <defs><marker id=\"arrow\"  markerUnits=\"strokeWidth\" markerWidth='5' markerHeight='8' refX='0' refY='2' orient=\"auto\">\n",
       "                                      <path d=\"M0,0 V4 L2,2 Z\" style=\"fill: #000000;\" /> </marker></defs><circle cx=\"160\" cy=\"135\" r=\"3\" stroke=\"black\" stroke-width=\"1\" fill=\"black\" /> <circle cx=\"39\" cy=\"135\" r=\"3\" stroke=\"black\" stroke-width=\"1\" fill=\"black\" /> <circle cx=\"99\" cy=\"30\" r=\"3\" stroke=\"black\" stroke-width=\"1\" fill=\"black\" /> <circle cx=\"100\" cy=\"150\" r=\"3\" stroke=\"black\" stroke-width=\"1\" fill=\"black\" /> <circle cx=\"99\" cy=\"50\" r=\"3\" stroke=\"black\" stroke-width=\"1\" fill=\"black\" /> <circle cx=\"100\" cy=\"100\" r=\"3\" stroke=\"black\" stroke-width=\"1\" fill=\"black\" /> <path id='edge0' d=\"M  160  135  A  70  70  0  0  1  39  135 \" stroke=\"black\"  stroke-width=\"2px\"   /><path id='edge0' d=\"M  160  135  A  70  70  0  0  1  100  170 \" stroke=\"black\"  stroke-width=\"2px\" marker-end='url(#arrow)'  /><path id='edge2' d=\"M  100  30  A  70  70  0  0  1  160  135 \" stroke=\"black\"  stroke-width=\"2px\"   stroke-dasharray='1,5' /><path d=\"M100 150 L 160 135\" stroke=\"black\" stroke-width=\"2px\" id='edge5'   /> <line x1=\"100\" y1=\"150\" x2=\"130.0\" y2=\"142.5\" stroke=\"black\" stroke-width=\"2px\"  id='edge5'   marker-end='url(#arrow)' /><path id='edge1' d=\"M  39  135  A  70  70  0  0  1  99  30 \" stroke=\"black\"  stroke-width=\"2px\"   /><path id='edge1' d=\"M  39  135  A  70  70  0  0  1  39  65 \" stroke=\"black\"  stroke-width=\"2px\" marker-end='url(#arrow)'  /><path d=\"M99 30 L 99 50\" stroke=\"black\" stroke-width=\"2px\" id='edge6'   /> <line x1=\"99\" y1=\"30\" x2=\"99.0\" y2=\"40.0\" stroke=\"black\" stroke-width=\"2px\"  id='edge6'   marker-end='url(#arrow)' /><path id='edge3' d=\"M  99  50  A  50  50  0  0  0  100  150 \" stroke=\"black\"  stroke-width=\"2px\"   /><path id='edge3' d=\"M  99  50  A  50  50  0  0  0  50  100 \" stroke=\"black\"  stroke-width=\"2px\" marker-end='url(#arrow)'  /><path id='edge4' d=\"M  100  50  A  50  50  0  0  1  100  150 \" stroke=\"black\"  stroke-width=\"2px\"   stroke-dasharray='1,5' /><path d=\"M100 100 L 100 150\" stroke=\"black\" stroke-width=\"2px\" id='edge8' stroke-dasharray='1,7'  /> <path d=\"M99 50 L 100 100\" stroke=\"black\" stroke-width=\"2px\" id='edge7' stroke-dasharray='1,7'  /> <text x=\"10%\" style=\"fill: #000000;stroke: none; font-size: 14px;\" ><textPath xlink:href=\"#edge0\">e0</textPath></text><text x=\"10%\" style=\"fill: #000000;stroke: none; font-size: 14px;\" ><textPath xlink:href=\"#edge1\">e1</textPath></text><text x=\"10%\" style=\"fill: #000000;stroke: none; font-size: 14px;\" ><textPath xlink:href=\"#edge2\">e2</textPath></text><text x=\"10%\" style=\"fill: #000000;stroke: none; font-size: 14px;\" ><textPath xlink:href=\"#edge3\">e3</textPath></text><text x=\"10%\" style=\"fill: #000000;stroke: none; font-size: 14px;\" ><textPath xlink:href=\"#edge4\">e4</textPath></text><text x=\"10%\" style=\"fill: #000000;stroke: none; font-size: 14px;\" ><textPath xlink:href=\"#edge5\">e5</textPath></text><text x=\"10%\" style=\"fill: #000000;stroke: none; font-size: 14px;\" ><textPath xlink:href=\"#edge6\">e6</textPath></text><text x=\"10%\" style=\"fill: #000000;stroke: none; font-size: 14px;\" ><textPath xlink:href=\"#edge7\">e7</textPath></text><text x=\"10%\" style=\"fill: #000000;stroke: none; font-size: 14px;\" ><textPath xlink:href=\"#edge8\">e8</textPath></text>  </g> </svg>"
      ],
      "text/plain": [
       "<__main__.ring_diagram at 0x21ef065c358>"
      ]
     },
     "execution_count": 26,
     "metadata": {},
     "output_type": "execute_result"
    }
   ],
   "source": [
    "INC = incidence_matrix.__sample__()\n",
    "#todo technicall need to reload cicuts but they are ok\n",
    "all_circuits = circuits(INC,INC.spanning_trees.iloc[0].values)\n",
    "circ = all_circuits[1]\n",
    "#print(circ)\n",
    "res = set_circuit_flow(INC,circ)\n",
    "#print(res)\n",
    "#print(\"edge comp\", circ)\n",
    "ring_diagram(INC, options={\"show_labels\" :True,  \"cut_edges\": INC.edge_complement(circ)}) "
   ]
  },
  {
   "cell_type": "markdown",
   "metadata": {},
   "source": [
    "# circuit source sink flow"
   ]
  },
  {
   "cell_type": "code",
   "execution_count": 27,
   "metadata": {},
   "outputs": [
    {
     "name": "stdout",
     "output_type": "stream",
     "text": [
      "source,sink (0, 1)\n"
     ]
    },
    {
     "data": {
      "text/html": [
       "<svg xmlns=\"http://www.w3.org/2000/svg\" xmlns:xlink=\"http://www.w3.org/1999/xlink\" version=\"1.1\" x=\"0\" y=\"0\" width=\"200\" height=\"200\">\n",
       "      <g fill=\"none\" stroke=\"black\" stroke-width=\"1.6\" stroke-linecap=\"round\" transform=\"rotate(90,100,100)\"> <defs><marker id=\"arrow\"  markerUnits=\"strokeWidth\" markerWidth='5' markerHeight='8' refX='0' refY='2' orient=\"auto\">\n",
       "                                      <path d=\"M0,0 V4 L2,2 Z\" style=\"fill: #000000;\" /> </marker></defs><circle cx=\"160\" cy=\"135\" r=\"3\" stroke=\"black\" stroke-width=\"1\" fill=\"black\" /> <circle cx=\"39\" cy=\"135\" r=\"3\" stroke=\"black\" stroke-width=\"1\" fill=\"black\" /> <circle cx=\"99\" cy=\"30\" r=\"3\" stroke=\"black\" stroke-width=\"1\" fill=\"black\" /> <circle cx=\"100\" cy=\"150\" r=\"3\" stroke=\"black\" stroke-width=\"1\" fill=\"black\" /> <circle cx=\"99\" cy=\"50\" r=\"3\" stroke=\"black\" stroke-width=\"1\" fill=\"black\" /> <circle cx=\"100\" cy=\"100\" r=\"3\" stroke=\"black\" stroke-width=\"1\" fill=\"black\" /> <path id='edge0' d=\"M  160  135  A  70  70  0  0  1  39  135 \" stroke=\"black\"  stroke-width=\"2px\"   /><path id='edge0' d=\"M  160  135  A  70  70  0  0  1  100  170 \" stroke=\"black\"  stroke-width=\"2px\" marker-end='url(#arrow)'  /><path id='edge2' d=\"M  100  30  A  70  70  0  0  1  160  135 \" stroke=\"black\"  stroke-width=\"2px\"   stroke-dasharray='1,5' /><path d=\"M160 135 L 100 150\" stroke=\"black\" stroke-width=\"2px\" id='edge5'   /> <line x1=\"160\" y1=\"135\" x2=\"130.0\" y2=\"142.5\" stroke=\"black\" stroke-width=\"2px\"  id='edge5'   marker-end='url(#arrow)' /><path id='edge1' d=\"M  99  30  A  70  70  0  0  0  39  135 \" stroke=\"black\"  stroke-width=\"2px\"   /><path id='edge1' d=\"M  99  30  A  70  70  0  0  0  39  65 \" stroke=\"black\"  stroke-width=\"2px\" marker-end='url(#arrow)'  /><path d=\"M99 50 L 99 30\" stroke=\"black\" stroke-width=\"2px\" id='edge6'   /> <line x1=\"99\" y1=\"50\" x2=\"99.0\" y2=\"40.0\" stroke=\"black\" stroke-width=\"2px\"  id='edge6'   marker-end='url(#arrow)' /><path id='edge3' d=\"M  100  150  A  50  50  0  0  1  99  50 \" stroke=\"black\"  stroke-width=\"2px\"   /><path id='edge3' d=\"M  100  150  A  50  50  0  0  1  50  100 \" stroke=\"black\"  stroke-width=\"2px\" marker-end='url(#arrow)'  /><path id='edge4' d=\"M  100  50  A  50  50  0  0  1  100  150 \" stroke=\"black\"  stroke-width=\"2px\"   stroke-dasharray='1,5' /><path d=\"M100 100 L 100 150\" stroke=\"black\" stroke-width=\"2px\" id='edge8' stroke-dasharray='1,7'  /> <path d=\"M99 50 L 100 100\" stroke=\"black\" stroke-width=\"2px\" id='edge7' stroke-dasharray='1,7'  /> <text x=\"10%\" style=\"fill: #000000;stroke: none; font-size: 14px;\" ><textPath xlink:href=\"#edge0\">e0</textPath></text><text x=\"10%\" style=\"fill: #000000;stroke: none; font-size: 14px;\" ><textPath xlink:href=\"#edge1\">e1</textPath></text><text x=\"10%\" style=\"fill: #000000;stroke: none; font-size: 14px;\" ><textPath xlink:href=\"#edge2\">e2</textPath></text><text x=\"10%\" style=\"fill: #000000;stroke: none; font-size: 14px;\" ><textPath xlink:href=\"#edge3\">e3</textPath></text><text x=\"10%\" style=\"fill: #000000;stroke: none; font-size: 14px;\" ><textPath xlink:href=\"#edge4\">e4</textPath></text><text x=\"10%\" style=\"fill: #000000;stroke: none; font-size: 14px;\" ><textPath xlink:href=\"#edge5\">e5</textPath></text><text x=\"10%\" style=\"fill: #000000;stroke: none; font-size: 14px;\" ><textPath xlink:href=\"#edge6\">e6</textPath></text><text x=\"10%\" style=\"fill: #000000;stroke: none; font-size: 14px;\" ><textPath xlink:href=\"#edge7\">e7</textPath></text><text x=\"10%\" style=\"fill: #000000;stroke: none; font-size: 14px;\" ><textPath xlink:href=\"#edge8\">e8</textPath></text>  </g> </svg>"
      ],
      "text/plain": [
       "<__main__.ring_diagram at 0x21ef065fb00>"
      ]
     },
     "execution_count": 27,
     "metadata": {},
     "output_type": "execute_result"
    }
   ],
   "source": [
    "INC = incidence_matrix.__sample__()\n",
    "#todo technicall need to reload cicuts but they are ok\n",
    "all_circuits = circuits(INC,INC.spanning_trees.iloc[0].values)\n",
    "circ = all_circuits[1]\n",
    "#print(circ)\n",
    "res = set_source_sink_flow(INC,circ)\n",
    "print(\"source,sink\",res)\n",
    "#print(res)\n",
    "#print(\"edge comp\", circ)\n",
    "ring_diagram(INC, options={\"show_labels\" :True,  \"cut_edges\": INC.edge_complement(circ)}) "
   ]
  },
  {
   "cell_type": "markdown",
   "metadata": {},
   "source": [
    "# all together now...\n",
    "\n",
    "cicuits are ordered based on the average depth of vertices in the cicuit. Outer rings score best\n",
    "\n",
    "We process all cicuits in that order"
   ]
  },
  {
   "cell_type": "code",
   "execution_count": 28,
   "metadata": {},
   "outputs": [
    {
     "data": {
      "text/plain": [
       "[[0, 1, 2], [0, 1, 3, 5, 6], [3, 4], [3, 7, 8]]"
      ]
     },
     "execution_count": 28,
     "metadata": {},
     "output_type": "execute_result"
    }
   ],
   "source": [
    "#rank circuits and apply the above again\n",
    "all_circuits = circuits(INC,INC.spanning_trees.iloc[0].values)\n",
    "all_circuits"
   ]
  },
  {
   "cell_type": "markdown",
   "metadata": {},
   "source": [
    "Suppose we dont remember anything from the last processed circuit..."
   ]
  },
  {
   "cell_type": "code",
   "execution_count": 29,
   "metadata": {
    "collapsed": true
   },
   "outputs": [],
   "source": [
    "def _permute_circuit_start_with_existing(c,existing=[]):\n",
    "    if len (existing) ==0:return c\n",
    "    while c[0] not in existing:\n",
    "        h = c.pop(0)\n",
    "        c = c + [h]\n",
    "    return c\n"
   ]
  },
  {
   "cell_type": "code",
   "execution_count": 30,
   "metadata": {},
   "outputs": [
    {
     "name": "stdout",
     "output_type": "stream",
     "text": [
      "source,sink (0, 1)\n",
      "source,sink (0, 1)\n",
      "source,sink (3, 4)\n",
      "source,sink (3, 4)\n"
     ]
    },
    {
     "data": {
      "text/html": [
       "<svg xmlns=\"http://www.w3.org/2000/svg\" xmlns:xlink=\"http://www.w3.org/1999/xlink\" version=\"1.1\" x=\"0\" y=\"0\" width=\"200\" height=\"200\">\n",
       "      <g fill=\"none\" stroke=\"black\" stroke-width=\"1.6\" stroke-linecap=\"round\" transform=\"rotate(90,100,100)\"> <defs><marker id=\"arrow\"  markerUnits=\"strokeWidth\" markerWidth='5' markerHeight='8' refX='0' refY='2' orient=\"auto\">\n",
       "                                      <path d=\"M0,0 V4 L2,2 Z\" style=\"fill: #000000;\" /> </marker></defs><circle cx=\"160\" cy=\"135\" r=\"3\" stroke=\"black\" stroke-width=\"1\" fill=\"black\" /> <circle cx=\"39\" cy=\"135\" r=\"3\" stroke=\"black\" stroke-width=\"1\" fill=\"black\" /> <circle cx=\"99\" cy=\"30\" r=\"3\" stroke=\"black\" stroke-width=\"1\" fill=\"black\" /> <circle cx=\"100\" cy=\"150\" r=\"3\" stroke=\"black\" stroke-width=\"1\" fill=\"black\" /> <circle cx=\"99\" cy=\"50\" r=\"3\" stroke=\"black\" stroke-width=\"1\" fill=\"black\" /> <circle cx=\"100\" cy=\"100\" r=\"3\" stroke=\"black\" stroke-width=\"1\" fill=\"black\" /> <path id='edge0' d=\"M  160  135  A  70  70  0  0  1  39  135 \" stroke=\"black\"  stroke-width=\"2px\"   /><path id='edge0' d=\"M  160  135  A  70  70  0  0  1  100  170 \" stroke=\"black\"  stroke-width=\"2px\" marker-end='url(#arrow)'  /><path id='edge2' d=\"M  160  135  A  70  70  0  0  0  100  30 \" stroke=\"black\"  stroke-width=\"2px\"   /><path id='edge2' d=\"M  160  135  A  70  70  0  0  0  160  65 \" stroke=\"black\"  stroke-width=\"2px\" marker-end='url(#arrow)'  /><path d=\"M160 135 L 100 150\" stroke=\"black\" stroke-width=\"2px\" id='edge5'   /> <line x1=\"160\" y1=\"135\" x2=\"130.0\" y2=\"142.5\" stroke=\"black\" stroke-width=\"2px\"  id='edge5'   marker-end='url(#arrow)' /><path id='edge1' d=\"M  99  30  A  70  70  0  0  0  39  135 \" stroke=\"black\"  stroke-width=\"2px\"   /><path id='edge1' d=\"M  99  30  A  70  70  0  0  0  39  65 \" stroke=\"black\"  stroke-width=\"2px\" marker-end='url(#arrow)'  /><path d=\"M99 50 L 99 30\" stroke=\"black\" stroke-width=\"2px\" id='edge6'   /> <line x1=\"99\" y1=\"50\" x2=\"99.0\" y2=\"40.0\" stroke=\"black\" stroke-width=\"2px\"  id='edge6'   marker-end='url(#arrow)' /><path id='edge3' d=\"M  100  150  A  50  50  0  0  1  99  50 \" stroke=\"black\"  stroke-width=\"2px\"   /><path id='edge3' d=\"M  100  150  A  50  50  0  0  1  50  100 \" stroke=\"black\"  stroke-width=\"2px\" marker-end='url(#arrow)'  /><path id='edge4' d=\"M  100  150  A  50  50  0  0  0  100  50 \" stroke=\"black\"  stroke-width=\"2px\"   /><path id='edge4' d=\"M  100  150  A  50  50  0  0  0  150  100 \" stroke=\"black\"  stroke-width=\"2px\" marker-end='url(#arrow)'  /><path d=\"M100 150 L 100 100\" stroke=\"black\" stroke-width=\"2px\" id='edge8'   /> <line x1=\"100\" y1=\"150\" x2=\"100.0\" y2=\"125.0\" stroke=\"black\" stroke-width=\"2px\"  id='edge8'   marker-end='url(#arrow)' /><path d=\"M100 100 L 99 50\" stroke=\"black\" stroke-width=\"2px\" id='edge7'   /> <line x1=\"100\" y1=\"100\" x2=\"99.5\" y2=\"75.0\" stroke=\"black\" stroke-width=\"2px\"  id='edge7'   marker-end='url(#arrow)' /><text x=\"10%\" style=\"fill: #000000;stroke: none; font-size: 14px;\" ><textPath xlink:href=\"#edge0\">e0</textPath></text><text x=\"10%\" style=\"fill: #000000;stroke: none; font-size: 14px;\" ><textPath xlink:href=\"#edge1\">e1</textPath></text><text x=\"10%\" style=\"fill: #000000;stroke: none; font-size: 14px;\" ><textPath xlink:href=\"#edge2\">e2</textPath></text><text x=\"10%\" style=\"fill: #000000;stroke: none; font-size: 14px;\" ><textPath xlink:href=\"#edge3\">e3</textPath></text><text x=\"10%\" style=\"fill: #000000;stroke: none; font-size: 14px;\" ><textPath xlink:href=\"#edge4\">e4</textPath></text><text x=\"10%\" style=\"fill: #000000;stroke: none; font-size: 14px;\" ><textPath xlink:href=\"#edge5\">e5</textPath></text><text x=\"10%\" style=\"fill: #000000;stroke: none; font-size: 14px;\" ><textPath xlink:href=\"#edge6\">e6</textPath></text><text x=\"10%\" style=\"fill: #000000;stroke: none; font-size: 14px;\" ><textPath xlink:href=\"#edge7\">e7</textPath></text><text x=\"10%\" style=\"fill: #000000;stroke: none; font-size: 14px;\" ><textPath xlink:href=\"#edge8\">e8</textPath></text>  </g> </svg>"
      ],
      "text/plain": [
       "<__main__.ring_diagram at 0x21ef0532278>"
      ]
     },
     "execution_count": 30,
     "metadata": {},
     "output_type": "execute_result"
    }
   ],
   "source": [
    "#requires testing - this can work by change but generally I think the rule is to always start the cicuits by something already in the tree\n",
    "#that way any permutations for edge ordering will not break the path and will continue whatever flow exists\n",
    "#the source and sink will surely be respected by something in that edge ordering \n",
    "existing_edges = []\n",
    "for c in all_circuits:\n",
    "    c = _permute_circuit_start_with_existing(c,existing_edges)\n",
    "    existing_edges = list(set(c + existing_edges))\n",
    "    res = set_source_sink_flow(INC,c)\n",
    "    print(\"source,sink\",res)\n",
    "ring_diagram(INC, options={\"show_labels\" :True}) "
   ]
  },
  {
   "cell_type": "code",
   "execution_count": 31,
   "metadata": {},
   "outputs": [
    {
     "data": {
      "text/html": [
       "<svg xmlns=\"http://www.w3.org/2000/svg\" xmlns:xlink=\"http://www.w3.org/1999/xlink\" version=\"1.1\" x=\"0\" y=\"0\" width=\"200\" height=\"200\">\n",
       "      <g fill=\"none\" stroke=\"black\" stroke-width=\"1.6\" stroke-linecap=\"round\" transform=\"rotate(90,100,100)\"> <defs><marker id=\"arrow\"  markerUnits=\"strokeWidth\" markerWidth='5' markerHeight='8' refX='0' refY='2' orient=\"auto\">\n",
       "                                      <path d=\"M0,0 V4 L2,2 Z\" style=\"fill: #000000;\" /> </marker></defs><circle cx=\"160\" cy=\"135\" r=\"3\" stroke=\"black\" stroke-width=\"1\" fill=\"black\" /> <circle cx=\"39\" cy=\"135\" r=\"3\" stroke=\"black\" stroke-width=\"1\" fill=\"black\" /> <circle cx=\"99\" cy=\"30\" r=\"3\" stroke=\"black\" stroke-width=\"1\" fill=\"black\" /> <circle cx=\"100\" cy=\"150\" r=\"3\" stroke=\"black\" stroke-width=\"1\" fill=\"black\" /> <circle cx=\"99\" cy=\"50\" r=\"3\" stroke=\"black\" stroke-width=\"1\" fill=\"black\" /> <circle cx=\"100\" cy=\"100\" r=\"3\" stroke=\"black\" stroke-width=\"1\" fill=\"black\" /> <path id='edge0' d=\"M  160  135  A  70  70  0  0  1  39  135 \" stroke=\"black\"  stroke-width=\"2px\"   /><path id='edge0' d=\"M  160  135  A  70  70  0  0  1  100  170 \" stroke=\"black\"  stroke-width=\"2px\" marker-end='url(#arrow)'  /><path id='edge2' d=\"M  100  30  A  70  70  0  0  1  160  135 \" stroke=\"black\"  stroke-width=\"2px\"   /><path id='edge2' d=\"M  100  30  A  70  70  0  0  1  160  65 \" stroke=\"black\"  stroke-width=\"2px\" marker-end='url(#arrow)'  /><path d=\"M100 150 L 160 135\" stroke=\"black\" stroke-width=\"2px\" id='edge5'   /> <line x1=\"100\" y1=\"150\" x2=\"130.0\" y2=\"142.5\" stroke=\"black\" stroke-width=\"2px\"  id='edge5'   marker-end='url(#arrow)' /><path id='edge1' d=\"M  39  135  A  70  70  0  0  1  99  30 \" stroke=\"black\"  stroke-width=\"2px\"   /><path id='edge1' d=\"M  39  135  A  70  70  0  0  1  39  65 \" stroke=\"black\"  stroke-width=\"2px\" marker-end='url(#arrow)'  /><path d=\"M99 30 L 99 50\" stroke=\"black\" stroke-width=\"2px\" id='edge6'   /> <line x1=\"99\" y1=\"30\" x2=\"99.0\" y2=\"40.0\" stroke=\"black\" stroke-width=\"2px\"  id='edge6'   marker-end='url(#arrow)' /><path id='edge3' d=\"M  99  50  A  50  50  0  0  0  100  150 \" stroke=\"black\"  stroke-width=\"2px\"   /><path id='edge3' d=\"M  99  50  A  50  50  0  0  0  50  100 \" stroke=\"black\"  stroke-width=\"2px\" marker-end='url(#arrow)'  /><path id='edge4' d=\"M  100  150  A  50  50  0  0  0  100  50 \" stroke=\"black\"  stroke-width=\"2px\"   /><path id='edge4' d=\"M  100  150  A  50  50  0  0  0  150  100 \" stroke=\"black\"  stroke-width=\"2px\" marker-end='url(#arrow)'  /><path d=\"M100 150 L 100 100\" stroke=\"black\" stroke-width=\"2px\" id='edge8'   /> <line x1=\"100\" y1=\"150\" x2=\"100.0\" y2=\"125.0\" stroke=\"black\" stroke-width=\"2px\"  id='edge8'   marker-end='url(#arrow)' /><path d=\"M100 100 L 99 50\" stroke=\"black\" stroke-width=\"2px\" id='edge7'   /> <line x1=\"100\" y1=\"100\" x2=\"99.5\" y2=\"75.0\" stroke=\"black\" stroke-width=\"2px\"  id='edge7'   marker-end='url(#arrow)' /><text x=\"10%\" style=\"fill: #000000;stroke: none; font-size: 14px;\" ><textPath xlink:href=\"#edge0\">e0</textPath></text><text x=\"10%\" style=\"fill: #000000;stroke: none; font-size: 14px;\" ><textPath xlink:href=\"#edge1\">e1</textPath></text><text x=\"10%\" style=\"fill: #000000;stroke: none; font-size: 14px;\" ><textPath xlink:href=\"#edge2\">e2</textPath></text><text x=\"10%\" style=\"fill: #000000;stroke: none; font-size: 14px;\" ><textPath xlink:href=\"#edge3\">e3</textPath></text><text x=\"10%\" style=\"fill: #000000;stroke: none; font-size: 14px;\" ><textPath xlink:href=\"#edge4\">e4</textPath></text><text x=\"10%\" style=\"fill: #000000;stroke: none; font-size: 14px;\" ><textPath xlink:href=\"#edge5\">e5</textPath></text><text x=\"10%\" style=\"fill: #000000;stroke: none; font-size: 14px;\" ><textPath xlink:href=\"#edge6\">e6</textPath></text><text x=\"10%\" style=\"fill: #000000;stroke: none; font-size: 14px;\" ><textPath xlink:href=\"#edge7\">e7</textPath></text><text x=\"10%\" style=\"fill: #000000;stroke: none; font-size: 14px;\" ><textPath xlink:href=\"#edge8\">e8</textPath></text>  </g> </svg>"
      ],
      "text/plain": [
       "<__main__.ring_diagram at 0x21ef0532748>"
      ]
     },
     "execution_count": 31,
     "metadata": {},
     "output_type": "execute_result"
    }
   ],
   "source": [
    "for c in all_circuits: res = set_circuit_flow(INC,c)\n",
    "ring_diagram(INC, options={\"show_labels\" :True}) \n",
    "#we see a conflict here"
   ]
  },
  {
   "cell_type": "markdown",
   "metadata": {},
   "source": [
    "# Othe examples"
   ]
  },
  {
   "cell_type": "code",
   "execution_count": 32,
   "metadata": {
    "collapsed": true
   },
   "outputs": [],
   "source": [
    "#now update so that we are entrained by the previous loops - tihs just means that whatever vertex I flow into"
   ]
  },
  {
   "cell_type": "code",
   "execution_count": 54,
   "metadata": {},
   "outputs": [
    {
     "data": {
      "image/png": "[encoded data removed]",
      "text/latex": [
       "$$\\left \\{ p_{0} : - p_{1} - q_{1}, \\quad q_{0} : - q_{1}\\right \\}$$"
      ],
      "text/plain": [
       "{p₀: -p₁ - q₁, q₀: -q₁}"
      ]
     },
     "execution_count": 54,
     "metadata": {},
     "output_type": "execute_result"
    }
   ],
   "source": [
    "simp = incidence_matrix(2,2,\n",
    "                       [ [0,1], [1,0]  ],\n",
    "                       external_vertices=[0,1])\n",
    "#get cicuits using any spanning tree and produce a sink flow ordering\n",
    "set_source_sink_flow(simp,circuits(simp)[0])\n",
    "simp.constraint_system(solve)"
   ]
  },
  {
   "cell_type": "code",
   "execution_count": 34,
   "metadata": {},
   "outputs": [
    {
     "data": {
      "text/html": [
       "<svg xmlns=\"http://www.w3.org/2000/svg\" xmlns:xlink=\"http://www.w3.org/1999/xlink\" version=\"1.1\" x=\"0\" y=\"0\" width=\"200\" height=\"200\">\n",
       "      <g fill=\"none\" stroke=\"black\" stroke-width=\"1.6\" stroke-linecap=\"round\" transform=\"rotate(90,100,100)\"> <defs><marker id=\"arrow\"  markerUnits=\"strokeWidth\" markerWidth='5' markerHeight='8' refX='0' refY='2' orient=\"auto\">\n",
       "                                      <path d=\"M0,0 V4 L2,2 Z\" style=\"fill: #000000;\" /> </marker></defs><circle cx=\"100\" cy=\"170\" r=\"3\" stroke=\"black\" stroke-width=\"1\" fill=\"black\" /> <circle cx=\"99\" cy=\"30\" r=\"3\" stroke=\"black\" stroke-width=\"1\" fill=\"black\" /> <path id='edge0' d=\"M  100  170  A  70  70  0  0  1  99  30 \" stroke=\"black\"  stroke-width=\"2px\"   /><path id='edge0' d=\"M  100  170  A  70  70  0  0  1  30  100 \" stroke=\"black\"  stroke-width=\"2px\" marker-end='url(#arrow)'  /><path id='edge1' d=\"M  100  170  A  70  70  0  0  0  100  30 \" stroke=\"black\"  stroke-width=\"2px\"   /><path id='edge1' d=\"M  100  170  A  70  70  0  0  0  170  100 \" stroke=\"black\"  stroke-width=\"2px\" marker-end='url(#arrow)'  />  </g> </svg>"
      ],
      "text/plain": [
       "<__main__.ring_diagram at 0x21ef065f4a8>"
      ]
     },
     "execution_count": 34,
     "metadata": {},
     "output_type": "execute_result"
    }
   ],
   "source": [
    "ring_diagram(simp)"
   ]
  },
  {
   "cell_type": "code",
   "execution_count": 58,
   "metadata": {},
   "outputs": [
    {
     "data": {
      "image/png": "[encoded data removed]",
      "text/latex": [
       "$$\\left[\\begin{matrix}p_{0} + p_{1} + p_{2} - q_{0}\\\\- p_{0} - p_{1} - p_{2} - q_{1}\\\\q_{0} + q_{1}\\end{matrix}\\right]$$"
      ],
      "text/plain": [
       "⎡p₀ + p₁ + p₂ - q₀ ⎤\n",
       "⎢                  ⎥\n",
       "⎢-p₀ - p₁ - p₂ - q₁⎥\n",
       "⎢                  ⎥\n",
       "⎣     q₀ + q₁      ⎦"
      ]
     },
     "execution_count": 58,
     "metadata": {},
     "output_type": "execute_result"
    }
   ],
   "source": [
    "sunset = incidence_matrix(3,2,\n",
    "                       [ [0,1], [1,0], [0,1]  ],\n",
    "                       external_vertices=[0,1])\n",
    "#get cicuits using any spanning tree and produce a sink flow ordering\n",
    "\n",
    "sunset.constraint_system()"
   ]
  },
  {
   "cell_type": "code",
   "execution_count": 118,
   "metadata": {},
   "outputs": [],
   "source": [
    "#construct edge basis [0:l ... q1,...gn]\n",
    "#this could be at incident graph level as it is essentially just a solution of vertex constraints with some circit flow convention\n",
    "def edges_to_loop_basis(self):\n",
    "    \"\"\"\n",
    "    each edge is described as a linear combination of loop and external momenta \n",
    "    but exactly how to do this properly is not clear to me - it basically comes down to proper signs but the signs are important\n",
    "    presume that if we take any circuit we can find something that splits omega signs on the loop or the integral would vanish\n",
    "    (nice to have) would be to ne consistent with how we choose sink source vertices and which edge we choose as the loop carrier\n",
    "    \"\"\"\n",
    "    inc_mat = self\n",
    "    def _split_(p): return str(p)[:1], int(str(p)[1:])  \n",
    "     \n",
    "    #this may be important and also it may be important to control which edge is the loop edge but not sure yet\n",
    "    for c in circuits(inc_mat): set_source_sink_flow(inc_mat,c)    \n",
    "    sol = inc_mat.constraint_system(solve)\n",
    "    \n",
    "    missing= set(inc_mat._internal_symbols_()) - set(allk)\n",
    "    loop_edges = [_split_(p)[-1] for p in missing]\n",
    "    L = len(loop_edges)\n",
    "    N = L + len(sunset._external_symbols_())\n",
    "    edge_basis_map = {}\n",
    "\n",
    "    def _to_edge_basis_(s,loop_edges):\n",
    "        def _sign_of_(p):return s.as_coefficients_dict()[p]      \n",
    "        b = np.zeros(N,np.int)\n",
    "        for l in loop_edges:b[loop_edges.index(l)] = _sign_of_(Symbol(\"p\"+str(l)))\n",
    "        for i in range(N-len(loop_edges)): b[i+len(loop_edges)] = _sign_of_(Symbol(\"q\"+str(i)))\n",
    "        return b\n",
    "\n",
    "    for p in sol:\n",
    "        t,e = _split_(p)\n",
    "        if t == \"p\":edge_basis_map[e] = _to_edge_basis_(sol[p], loop_edges)      \n",
    "\n",
    "    for e in loop_edges:\n",
    "        b = np.zeros(N,np.int)\n",
    "        b[loop_edges.index(e)] = 1\n",
    "        edge_basis_map[e] = b\n",
    "    \n",
    "    return edge_basis_map\n",
    "\n",
    "def propagator_from_edge_basis(eid, loop_basis, ex_edge_basis, species):\n",
    "    pass\n"
   ]
  },
  {
   "cell_type": "code",
   "execution_count": 116,
   "metadata": {},
   "outputs": [
    {
     "data": {
      "text/plain": [
       "{0: array([-1, -1,  0, -1]), 1: array([0, 1, 0, 0]), 2: array([1, 0, 0, 0])}"
      ]
     },
     "execution_count": 116,
     "metadata": {},
     "output_type": "execute_result"
    }
   ],
   "source": [
    "edges_to_loop_basis(sunset)"
   ]
  },
  {
   "cell_type": "code",
   "execution_count": 112,
   "metadata": {},
   "outputs": [
    {
     "data": {
      "text/html": [
       "<svg xmlns=\"http://www.w3.org/2000/svg\" xmlns:xlink=\"http://www.w3.org/1999/xlink\" version=\"1.1\" x=\"0\" y=\"0\" width=\"200\" height=\"200\">\n",
       "      <g fill=\"none\" stroke=\"black\" stroke-width=\"1.6\" stroke-linecap=\"round\" transform=\"rotate(90,100,100)\"> <defs><marker id=\"arrow\"  markerUnits=\"strokeWidth\" markerWidth='5' markerHeight='8' refX='0' refY='2' orient=\"auto\">\n",
       "                                      <path d=\"M0,0 V4 L2,2 Z\" style=\"fill: #000000;\" /> </marker></defs><circle cx=\"100\" cy=\"170\" r=\"3\" stroke=\"black\" stroke-width=\"1\" fill=\"black\" /> <circle cx=\"99\" cy=\"30\" r=\"3\" stroke=\"black\" stroke-width=\"1\" fill=\"black\" /> <path id='edge0' d=\"M  100  170  A  70  70  0  0  1  99  30 \" stroke=\"black\"  stroke-width=\"2px\"   /><path id='edge0' d=\"M  100  170  A  70  70  0  0  1  30  100 \" stroke=\"black\"  stroke-width=\"2px\" marker-end='url(#arrow)'  /><path id='edge1' d=\"M  100  170  A  70  70  0  0  0  100  30 \" stroke=\"black\"  stroke-width=\"2px\"   /><path id='edge1' d=\"M  100  170  A  70  70  0  0  0  170  100 \" stroke=\"black\"  stroke-width=\"2px\" marker-end='url(#arrow)'  /><path d=\"M100 170 L 99 30\" stroke=\"black\" stroke-width=\"2px\" id='edge2'   /> <line x1=\"100\" y1=\"170\" x2=\"99.5\" y2=\"100.0\" stroke=\"black\" stroke-width=\"2px\"  id='edge2'   marker-end='url(#arrow)' /><text x=\"10%\" style=\"fill: #000000;stroke: none; font-size: 14px;\" ><textPath xlink:href=\"#edge0\">e0</textPath></text><text x=\"10%\" style=\"fill: #000000;stroke: none; font-size: 14px;\" ><textPath xlink:href=\"#edge1\">e1</textPath></text><text x=\"10%\" style=\"fill: #000000;stroke: none; font-size: 14px;\" ><textPath xlink:href=\"#edge2\">e2</textPath></text>  </g> </svg>"
      ],
      "text/plain": [
       "<__main__.ring_diagram at 0x21ef08359b0>"
      ]
     },
     "execution_count": 112,
     "metadata": {},
     "output_type": "execute_result"
    }
   ],
   "source": [
    "ring_diagram(sunset, options={\"show_labels\"})"
   ]
  },
  {
   "cell_type": "code",
   "execution_count": 38,
   "metadata": {
    "collapsed": true
   },
   "outputs": [],
   "source": [
    "with open (\"test.svg\", \"w\") as f:\n",
    "    f.write(ring_diagram(sunset, options={\"show_labels\"})._repr_html_())"
   ]
  },
  {
   "cell_type": "code",
   "execution_count": 1727,
   "metadata": {},
   "outputs": [
    {
     "name": "stdout",
     "output_type": "stream",
     "text": [
      "source,sink (0, 1)\n",
      "source,sink (0, 1)\n"
     ]
    },
    {
     "data": {
      "image/png": "[encoded data removed]",
      "text/latex": [
       "$$\\left \\{ p_{0} : - p_{3} - p_{6} - q_{1} - q_{3}, \\quad p_{1} : p_{3} + p_{6} + q_{3}, \\quad p_{2} : p_{3} + p_{6} - q_{2}, \\quad p_{4} : p_{6} + q_{3}, \\quad p_{5} : p_{6} - q_{2}, \\quad q_{0} : - q_{1} - q_{2} - q_{3}\\right \\}$$"
      ],
      "text/plain": [
       "{p₀: -p₃ - p₆ - q₁ - q₃, p₁: p₃ + p₆ + q₃, p₂: p₃ + p₆ - q₂, p₄: p₆ + q₃, p₅: \n",
       "p₆ - q₂, q₀: -q₁ - q₂ - q₃}"
      ]
     },
     "execution_count": 1727,
     "metadata": {},
     "output_type": "execute_result"
    }
   ],
   "source": [
    "bog = incidence_matrix(7,6,\n",
    "                       [ [0,1], [1,3], [0,2], [3,2], [3,5], [2,4], [4,5]  ],\n",
    "                       external_vertices=[0,1,4,5])\n",
    "\n",
    "all_circuits = circuits(bog,bog.spanning_trees.iloc[0].values)\n",
    "existing_edges = []\n",
    "for c in all_circuits:\n",
    "    c = _permute_circuit_start_with_existing(c,existing_edges)\n",
    "    existing_edges = list(set(c + existing_edges))\n",
    "    res = set_source_sink_flow(bog,c)\n",
    "    print(\"source,sink\",res)\n",
    "\n",
    "sol = bog.constraint_system(solve)\n",
    "sol"
   ]
  },
  {
   "cell_type": "code",
   "execution_count": 1719,
   "metadata": {
    "collapsed": true
   },
   "outputs": [],
   "source": [
    "#choose  a loop momentum and get all other terms in terms of loop and externals"
   ]
  },
  {
   "cell_type": "code",
   "execution_count": 1710,
   "metadata": {},
   "outputs": [
    {
     "data": {
      "image/png": "[encoded data removed]",
      "text/latex": [
       "$$\\left\\{p_{0}, p_{1}, p_{2}, p_{3}, p_{4}, p_{5}, p_{6}\\right\\}$$"
      ],
      "text/plain": [
       "set([p₀, p₁, p₂, p₃, p₄, p₅, p₆])"
      ]
     },
     "execution_count": 1710,
     "metadata": {},
     "output_type": "execute_result"
    }
   ],
   "source": [
    "missing_items = list(set(internal_edges)-set(sol.keys()))\n",
    "missing_items\n",
    "# for i,k in enumerate(missing_items):\n",
    "#     for p in sol.keys():\n",
    "#         sol[p] = sol[p].subs({k:Symbol(\"k_\"+str(i))})\n",
    "# sol\n",
    "set(internal_edges)"
   ]
  },
  {
   "cell_type": "code",
   "execution_count": 1673,
   "metadata": {},
   "outputs": [
    {
     "data": {
      "image/png": "[encoded data removed]",
      "text/latex": [
       "$$\\left \\{ p_{0} : - k + p_{3} - q_{1} - q_{3}, \\quad p_{1} : - k + p_{3} - q_{3}, \\quad p_{2} : k - p_{3} - q_{2}, \\quad p_{3} : k - p_{2} - q_{2}, \\quad p_{4} : - k - q_{3}, \\quad p_{5} : k - q_{2}, \\quad q_{0} : - q_{1} - q_{2} - q_{3}\\right \\}$$"
      ],
      "text/plain": [
       "{p₀: -k + p₃ - q₁ - q₃, p₁: -k + p₃ - q₃, p₂: k - p₃ - q₂, p₃: k - p₂ - q₂, p₄\n",
       ": -k - q₃, p₅: k - q₂, q₀: -q₁ - q₂ - q₃}"
      ]
     },
     "execution_count": 1673,
     "metadata": {},
     "output_type": "execute_result"
    }
   ],
   "source": [
    "# from collections import Counter\n",
    "\n",
    "# def add_missing(sol, missing_items):\n",
    "#     for m in missing_items:\n",
    "#         n = len(sol.keys())\n",
    "#         for p in [ik for ik in sol.keys() if str(ik)[:1] == \"p\"]:\n",
    "#             s = sol[p]\n",
    "#             syms = s.free_symbols\n",
    "#             if len(syms) < n and m in syms:    \n",
    "#                 n = len(s.free_symbols)\n",
    "#                 sol[m] = solve(p-s, m)[0]\n",
    "            \n",
    "            \n",
    "# sol = bog.constraint_system(solve)\n",
    "# internal_edges = bog._internal_symbols_()\n",
    "# internal_sols = [ik for ik in sol.keys() if str(ik)[:1] == \"p\"]\n",
    "# all_terms = []\n",
    "# for p in internal_sols:\n",
    "#     s = sol[p]\n",
    "#     all_terms += [t for t in s.free_symbols if str(t)[:1] == \"p\"]\n",
    "\n",
    "# k = Counter(all_terms).most_common(1)[0][0]\n",
    "# missing_items = list(set(internal_edges)-set(internal_sols) - set([k]))\n",
    "# add_missing(sol, missing_items)\n",
    "\n",
    "# #replace k\n",
    "# for p in sol.keys():\n",
    "#     sol[p] = sol[p].subs({k: Symbol(\"k\")})\n",
    "    \n",
    "\n",
    "# sol"
   ]
  },
  {
   "cell_type": "code",
   "execution_count": 119,
   "metadata": {},
   "outputs": [],
   "source": [
    "#ring_diagram(bog, options={\"show_labels\"})"
   ]
  },
  {
   "cell_type": "code",
   "execution_count": 1762,
   "metadata": {},
   "outputs": [
    {
     "data": {
      "text/html": [
       "<svg xmlns=\"http://www.w3.org/2000/svg\" xmlns:xlink=\"http://www.w3.org/1999/xlink\" version=\"1.1\" x=\"0\" y=\"0\" width=\"200\" height=\"200\">\n",
       "      <g fill=\"none\" stroke=\"black\" stroke-width=\"1.6\" stroke-linecap=\"round\" transform=\"rotate(90,100,100)\"> <defs><marker id=\"arrow\"  markerUnits=\"strokeWidth\" markerWidth='5' markerHeight='8' refX='0' refY='2' orient=\"auto\">\n",
       "                                      <path d=\"M0,0 V4 L2,2 Z\" style=\"fill: #000000;\" /> </marker></defs><circle cx=\"100\" cy=\"170\" r=\"3\" stroke=\"black\" stroke-width=\"1\" fill=\"black\" /> <circle cx=\"99\" cy=\"30\" r=\"3\" stroke=\"black\" stroke-width=\"1\" fill=\"black\" /> <path id='edge0' d=\"M  100  170  A  70  70  0  0  1  99  30 \" stroke=\"black\"  stroke-width:3px\"   /><path id='edge0' d=\"M  100  170  A  70  70  0  0  1  30  100 \" stroke=\"black\"  stroke-width:3px\" marker-end='url(#arrow)'  /><path id='edge1' d=\"M  100  170  A  70  70  0  0  0  100  30 \" stroke=\"black\"  stroke-width:3px\"   /><path id='edge1' d=\"M  100  170  A  70  70  0  0  0  170  100 \" stroke=\"black\"  stroke-width:3px\" marker-end='url(#arrow)'  /><text x=\"10%\" style=\"fill: #000000;stroke: none; font-size: 14px;\" ><textPath xlink:href=\"#edge0\">e0</textPath></text><text x=\"10%\" style=\"fill: #000000;stroke: none; font-size: 14px;\" ><textPath xlink:href=\"#edge1\">e1</textPath></text>  </g> </svg>"
      ],
      "text/plain": [
       "<__main__.ring_diagram at 0x2621a011c50>"
      ]
     },
     "execution_count": 1762,
     "metadata": {},
     "output_type": "execute_result"
    }
   ],
   "source": [
    "ring_diagram(simp,options={\"show_labels\"})"
   ]
  },
  {
   "cell_type": "code",
   "execution_count": 1739,
   "metadata": {},
   "outputs": [
    {
     "data": {
      "image/png": "[encoded data removed]",
      "text/latex": [
       "$$\\left \\{ p_{0} : - p_{1} - q_{1}, \\quad q_{0} : - q_{1}\\right \\}$$"
      ],
      "text/plain": [
       "{p₀: -p₁ - q₁, q₀: -q₁}"
      ]
     },
     "execution_count": 1739,
     "metadata": {},
     "output_type": "execute_result"
    }
   ],
   "source": [
    "sol=simp.constraint_system(solve)\n",
    "sol"
   ]
  },
  {
   "cell_type": "code",
   "execution_count": null,
   "metadata": {
    "collapsed": true
   },
   "outputs": [],
   "source": [
    "#get all the solutions including p1 for k\n",
    "#make propagators for the corresponding edges \n",
    "#make the integral"
   ]
  },
  {
   "cell_type": "code",
   "execution_count": 1579,
   "metadata": {},
   "outputs": [
    {
     "data": {
      "text/html": [
       "<table ><tr style='background:white'><td><svg xmlns=\"http://www.w3.org/2000/svg\" xmlns:xlink=\"http://www.w3.org/1999/xlink\" version=\"1.1\" x=\"0\" y=\"0\" width=\"200\" height=\"200\">\n",
       "      <g fill=\"none\" stroke=\"black\" stroke-width=\"1.6\" stroke-linecap=\"round\" transform=\"rotate(90,100,100)\"> <defs><marker id=\"arrow\"  markerUnits=\"strokeWidth\" markerWidth='5' markerHeight='8' refX='0' refY='2' orient=\"auto\">\n",
       "                                      <path d=\"M0,0 V4 L2,2 Z\" style=\"fill: #000000;\" /> </marker></defs><circle cx=\"100\" cy=\"170\" r=\"3\" stroke=\"black\" stroke-width=\"1\" fill=\"black\" /> <circle cx=\"99\" cy=\"30\" r=\"3\" stroke=\"black\" stroke-width=\"1\" fill=\"black\" /> <circle cx=\"100\" cy=\"100\" r=\"3\" stroke=\"black\" stroke-width=\"1\" fill=\"black\" /> <path id='edge0' d=\"M  100  170  A  70  70  0  0  1  99  30 \" stroke=\"black\"  stroke-width:3px\"   /><path id='edge0' d=\"M  100  170  A  70  70  0  0  1  30  100 \" stroke=\"black\"  stroke-width:3px\" marker-end='url(#arrow)'  /><path d=\"M100 100 L 100 170\" stroke=\"black\" stroke-width:2px\" id='edge2' stroke-dasharray='1,7'  /> <path d=\"M99 30 L 100 100\" stroke=\"black\" stroke-width:2px\" id='edge1'   /> <line x1=\"99\" y1=\"30\" x2=\"99.5\" y2=\"65.0\" stroke=\"black\" stroke-width:2px\"  None  marker-end='url(#arrow)' />  </g> </svg></td><td><svg xmlns=\"http://www.w3.org/2000/svg\" xmlns:xlink=\"http://www.w3.org/1999/xlink\" version=\"1.1\" x=\"0\" y=\"0\" width=\"200\" height=\"200\">\n",
       "      <g fill=\"none\" stroke=\"black\" stroke-width=\"1.6\" stroke-linecap=\"round\" transform=\"rotate(90,100,100)\"> <defs><marker id=\"arrow\"  markerUnits=\"strokeWidth\" markerWidth='5' markerHeight='8' refX='0' refY='2' orient=\"auto\">\n",
       "                                      <path d=\"M0,0 V4 L2,2 Z\" style=\"fill: #000000;\" /> </marker></defs><circle cx=\"100\" cy=\"170\" r=\"3\" stroke=\"black\" stroke-width=\"1\" fill=\"black\" /> <circle cx=\"99\" cy=\"30\" r=\"3\" stroke=\"black\" stroke-width=\"1\" fill=\"black\" /> <circle cx=\"100\" cy=\"100\" r=\"3\" stroke=\"black\" stroke-width=\"1\" fill=\"black\" /> <path id='edge0' d=\"M  100  170  A  70  70  0  0  1  99  30 \" stroke=\"black\"  stroke-width:3px\"   /><path id='edge0' d=\"M  100  170  A  70  70  0  0  1  30  100 \" stroke=\"black\"  stroke-width:3px\" marker-end='url(#arrow)'  /><path d=\"M100 100 L 100 170\" stroke=\"black\" stroke-width:2px\" id='edge2'   /> <line x1=\"100\" y1=\"100\" x2=\"100.0\" y2=\"135.0\" stroke=\"black\" stroke-width:2px\"  None  marker-end='url(#arrow)' /><path d=\"M99 30 L 100 100\" stroke=\"black\" stroke-width:2px\" id='edge1' stroke-dasharray='1,7'  />   </g> </svg></td><td><svg xmlns=\"http://www.w3.org/2000/svg\" xmlns:xlink=\"http://www.w3.org/1999/xlink\" version=\"1.1\" x=\"0\" y=\"0\" width=\"200\" height=\"200\">\n",
       "      <g fill=\"none\" stroke=\"black\" stroke-width=\"1.6\" stroke-linecap=\"round\" transform=\"rotate(90,100,100)\"> <defs><marker id=\"arrow\"  markerUnits=\"strokeWidth\" markerWidth='5' markerHeight='8' refX='0' refY='2' orient=\"auto\">\n",
       "                                      <path d=\"M0,0 V4 L2,2 Z\" style=\"fill: #000000;\" /> </marker></defs><circle cx=\"100\" cy=\"170\" r=\"3\" stroke=\"black\" stroke-width=\"1\" fill=\"black\" /> <circle cx=\"99\" cy=\"30\" r=\"3\" stroke=\"black\" stroke-width=\"1\" fill=\"black\" /> <circle cx=\"100\" cy=\"100\" r=\"3\" stroke=\"black\" stroke-width=\"1\" fill=\"black\" /> <path id='edge0' d=\"M  100  170  A  70  70  0  0  1  99  30 \" stroke=\"black\"  stroke-width:3px\"   stroke-dasharray='1,5' /><path d=\"M100 100 L 100 170\" stroke=\"black\" stroke-width:2px\" id='edge2'   /> <line x1=\"100\" y1=\"100\" x2=\"100.0\" y2=\"135.0\" stroke=\"black\" stroke-width:2px\"  None  marker-end='url(#arrow)' /><path d=\"M99 30 L 100 100\" stroke=\"black\" stroke-width:2px\" id='edge1'   /> <line x1=\"99\" y1=\"30\" x2=\"99.5\" y2=\"65.0\" stroke=\"black\" stroke-width:2px\"  None  marker-end='url(#arrow)' />  </g> </svg></td></tr></table>"
      ],
      "text/plain": [
       "<__main__.show_spanning_trees at 0x26219ff54e0>"
      ]
     },
     "execution_count": 1579,
     "metadata": {},
     "output_type": "execute_result"
    }
   ],
   "source": [
    "show_spanning_trees(simp)"
   ]
  },
  {
   "cell_type": "code",
   "execution_count": 1519,
   "metadata": {},
   "outputs": [
    {
     "data": {
      "text/html": [
       "<svg xmlns=\"http://www.w3.org/2000/svg\" xmlns:xlink=\"http://www.w3.org/1999/xlink\" version=\"1.1\" x=\"0\" y=\"0\" width=\"200\" height=\"200\">\n",
       "      <g fill=\"none\" stroke=\"black\" stroke-width=\"1.6\" stroke-linecap=\"round\" transform=\"rotate(90,100,100)\"> <defs><marker id=\"arrow\"  markerUnits=\"strokeWidth\" markerWidth='5' markerHeight='8' refX='0' refY='2' orient=\"auto\">\n",
       "                                      <path d=\"M0,0 V4 L2,2 Z\" style=\"fill: #000000;\" /> </marker></defs><circle cx=\"100\" cy=\"170\" r=\"3\" stroke=\"black\" stroke-width=\"1\" fill=\"black\" /> <circle cx=\"99\" cy=\"30\" r=\"3\" stroke=\"black\" stroke-width=\"1\" fill=\"black\" /> <circle cx=\"100\" cy=\"100\" r=\"3\" stroke=\"black\" stroke-width=\"1\" fill=\"black\" /> <path id='edge0' d=\"M  100  170  A  70  70  0  0  1  99  30 \" stroke=\"black\"  stroke-width:3px\"   /><path id='edge0' d=\"M  100  170  A  70  70  0  0  1  30  100 \" stroke=\"black\"  stroke-width:3px\" marker-end='url(#arrow)'  /><path d=\"M100 100 L 100 170\" stroke=\"black\" stroke-width:2px\" id='edge2'   /> <line x1=\"100\" y1=\"100\" x2=\"100.0\" y2=\"135.0\" stroke=\"black\" stroke-width:2px\"  None  marker-end='url(#arrow)' /><path d=\"M99 30 L 100 100\" stroke=\"black\" stroke-width:2px\" id='edge1'   /> <line x1=\"99\" y1=\"30\" x2=\"99.5\" y2=\"65.0\" stroke=\"black\" stroke-width:2px\"  None  marker-end='url(#arrow)' />  </g> </svg>"
      ],
      "text/plain": [
       "<__main__.ring_diagram at 0x26219803d68>"
      ]
     },
     "execution_count": 1519,
     "metadata": {},
     "output_type": "execute_result"
    }
   ],
   "source": [
    "simp = incidence_matrix(3,3,\n",
    "                       [ [0,1], [1,2], [2,0]  ],\n",
    "                       external_vertices=[0,1])\n",
    "ring_diagram(simp)"
   ]
  },
  {
   "cell_type": "code",
   "execution_count": 1526,
   "metadata": {},
   "outputs": [
    {
     "data": {
      "text/html": [
       "<table><tr><td><svg xmlns=\"http://www.w3.org/2000/svg\" xmlns:xlink=\"http://www.w3.org/1999/xlink\" version=\"1.1\" x=\"0\" y=\"0\" width=\"200\" height=\"200\">\n",
       "      <g fill=\"none\" stroke=\"black\" stroke-width=\"1.6\" stroke-linecap=\"round\" transform=\"rotate(90,100,100)\"> <defs><marker id=\"arrow\"  markerUnits=\"strokeWidth\" markerWidth='5' markerHeight='8' refX='0' refY='2' orient=\"auto\">\n",
       "                                      <path d=\"M0,0 V4 L2,2 Z\" style=\"fill: #000000;\" /> </marker></defs><circle cx=\"100\" cy=\"170\" r=\"3\" stroke=\"black\" stroke-width=\"1\" fill=\"black\" /> <circle cx=\"99\" cy=\"30\" r=\"3\" stroke=\"black\" stroke-width=\"1\" fill=\"black\" /> <circle cx=\"100\" cy=\"100\" r=\"3\" stroke=\"black\" stroke-width=\"1\" fill=\"black\" /> <path id='edge0' d=\"M  100  170  A  70  70  0  0  1  99  30 \" stroke=\"black\"  stroke-width:3px\"   /><path id='edge0' d=\"M  100  170  A  70  70  0  0  1  30  100 \" stroke=\"black\"  stroke-width:3px\" marker-end='url(#arrow)'  /><path d=\"M100 100 L 100 170\" stroke=\"black\" stroke-width:2px\" id='edge2' stroke-dasharray='1,7'  /> <path d=\"M99 30 L 100 100\" stroke=\"black\" stroke-width:2px\" id='edge1'   /> <line x1=\"99\" y1=\"30\" x2=\"99.5\" y2=\"65.0\" stroke=\"black\" stroke-width:2px\"  None  marker-end='url(#arrow)' />  </g> </svg></td><td><svg xmlns=\"http://www.w3.org/2000/svg\" xmlns:xlink=\"http://www.w3.org/1999/xlink\" version=\"1.1\" x=\"0\" y=\"0\" width=\"200\" height=\"200\">\n",
       "      <g fill=\"none\" stroke=\"black\" stroke-width=\"1.6\" stroke-linecap=\"round\" transform=\"rotate(90,100,100)\"> <defs><marker id=\"arrow\"  markerUnits=\"strokeWidth\" markerWidth='5' markerHeight='8' refX='0' refY='2' orient=\"auto\">\n",
       "                                      <path d=\"M0,0 V4 L2,2 Z\" style=\"fill: #000000;\" /> </marker></defs><circle cx=\"100\" cy=\"170\" r=\"3\" stroke=\"black\" stroke-width=\"1\" fill=\"black\" /> <circle cx=\"99\" cy=\"30\" r=\"3\" stroke=\"black\" stroke-width=\"1\" fill=\"black\" /> <circle cx=\"100\" cy=\"100\" r=\"3\" stroke=\"black\" stroke-width=\"1\" fill=\"black\" /> <path id='edge0' d=\"M  100  170  A  70  70  0  0  1  99  30 \" stroke=\"black\"  stroke-width:3px\"   /><path id='edge0' d=\"M  100  170  A  70  70  0  0  1  30  100 \" stroke=\"black\"  stroke-width:3px\" marker-end='url(#arrow)'  /><path d=\"M100 100 L 100 170\" stroke=\"black\" stroke-width:2px\" id='edge2'   /> <line x1=\"100\" y1=\"100\" x2=\"100.0\" y2=\"135.0\" stroke=\"black\" stroke-width:2px\"  None  marker-end='url(#arrow)' /><path d=\"M99 30 L 100 100\" stroke=\"black\" stroke-width:2px\" id='edge1' stroke-dasharray='1,7'  />   </g> </svg></td><td><svg xmlns=\"http://www.w3.org/2000/svg\" xmlns:xlink=\"http://www.w3.org/1999/xlink\" version=\"1.1\" x=\"0\" y=\"0\" width=\"200\" height=\"200\">\n",
       "      <g fill=\"none\" stroke=\"black\" stroke-width=\"1.6\" stroke-linecap=\"round\" transform=\"rotate(90,100,100)\"> <defs><marker id=\"arrow\"  markerUnits=\"strokeWidth\" markerWidth='5' markerHeight='8' refX='0' refY='2' orient=\"auto\">\n",
       "                                      <path d=\"M0,0 V4 L2,2 Z\" style=\"fill: #000000;\" /> </marker></defs><circle cx=\"100\" cy=\"170\" r=\"3\" stroke=\"black\" stroke-width=\"1\" fill=\"black\" /> <circle cx=\"99\" cy=\"30\" r=\"3\" stroke=\"black\" stroke-width=\"1\" fill=\"black\" /> <circle cx=\"100\" cy=\"100\" r=\"3\" stroke=\"black\" stroke-width=\"1\" fill=\"black\" /> <path id='edge0' d=\"M  100  170  A  70  70  0  0  1  99  30 \" stroke=\"black\"  stroke-width:3px\"   stroke-dasharray='1,5' /><path d=\"M100 100 L 100 170\" stroke=\"black\" stroke-width:2px\" id='edge2'   /> <line x1=\"100\" y1=\"100\" x2=\"100.0\" y2=\"135.0\" stroke=\"black\" stroke-width:2px\"  None  marker-end='url(#arrow)' /><path d=\"M99 30 L 100 100\" stroke=\"black\" stroke-width:2px\" id='edge1'   /> <line x1=\"99\" y1=\"30\" x2=\"99.5\" y2=\"65.0\" stroke=\"black\" stroke-width:2px\"  None  marker-end='url(#arrow)' />  </g> </svg></td></tr></table>"
      ],
      "text/plain": [
       "<__main__.show_spanning_trees at 0x262197f67f0>"
      ]
     },
     "execution_count": 1526,
     "metadata": {},
     "output_type": "execute_result"
    }
   ],
   "source": [
    "show_spanning_trees(simp)"
   ]
  },
  {
   "cell_type": "code",
   "execution_count": 1203,
   "metadata": {},
   "outputs": [
    {
     "data": {
      "text/html": [
       "<svg xmlns=\"http://www.w3.org/2000/svg\" xmlns:xlink=\"http://www.w3.org/1999/xlink\" version=\"1.1\" x=\"0\" y=\"0\" width=\"200\" height=\"200\">\n",
       "      <g fill=\"none\" stroke=\"black\" stroke-width=\"1.6\" stroke-linecap=\"round\" transform=\"rotate(90,100,100)\"> <defs><marker id=\"arrow\"  markerUnits=\"strokeWidth\" markerWidth='5' markerHeight='8' refX='0' refY='2' orient=\"auto\">\n",
       "                                      <path d=\"M0,0 V4 L2,2 Z\" style=\"fill: #000000;\" /> </marker></defs><circle cx=\"100\" cy=\"170\" r=\"3\" stroke=\"black\" stroke-width=\"1\" fill=\"black\" /> <circle cx=\"99\" cy=\"30\" r=\"3\" stroke=\"black\" stroke-width=\"1\" fill=\"black\" /> <circle cx=\"100\" cy=\"150\" r=\"3\" stroke=\"black\" stroke-width=\"1\" fill=\"black\" /> <circle cx=\"99\" cy=\"50\" r=\"3\" stroke=\"black\" stroke-width=\"1\" fill=\"black\" /> <path id='edge0' d=\"M  100  170  A  70  70  0  0  1  99  30 \" stroke=\"black\"  stroke-width:3px\"   /><path id='edge0' d=\"M  100  170  A  70  70  0  0  1  30  100 \" stroke=\"black\"  stroke-width:3px\" marker-end='url(#arrow)'  /><path d=\"M100 150 L 100 170\" stroke=\"black\" stroke-width:2px\" id='edge3'   /> <line x1=\"100\" y1=\"150\" x2=\"100.0\" y2=\"160.0\" stroke=\"black\" stroke-width:2px\"  None  marker-end='url(#arrow)' /><path d=\"M99 30 L 99 50\" stroke=\"black\" stroke-width:2px\" id='edge1'   /> <line x1=\"99\" y1=\"30\" x2=\"99.0\" y2=\"40.0\" stroke=\"black\" stroke-width:2px\"  None  marker-end='url(#arrow)' /><path id='edge2' d=\"M  99  50  A  50  50  0  0  0  100  150 \" stroke=\"black\"  stroke-width:3px\"   /><path id='edge2' d=\"M  99  50  A  50  50  0  0  0  50  100 \" stroke=\"black\"  stroke-width:3px\" marker-end='url(#arrow)'  />  </g> </svg>"
      ],
      "text/plain": [
       "<__main__.ring_diagram at 0x26216dc4cc0>"
      ]
     },
     "execution_count": 1203,
     "metadata": {},
     "output_type": "execute_result"
    }
   ],
   "source": [
    "simp = incidence_matrix(4,4,\n",
    "                       [ [0,1], [1,2], [2,3], [3,0]  ],\n",
    "                       external_vertices=[0,1])\n",
    "ring_diagram(simp)"
   ]
  },
  {
   "cell_type": "code",
   "execution_count": null,
   "metadata": {
    "collapsed": true
   },
   "outputs": [],
   "source": [
    "#TODO: visual style for and implementation of multiple external legs\n",
    "#perhaps an option for simple diagrams to force certain types of loops and ignore hierarchy"
   ]
  }
 ],
 "metadata": {
  "kernelspec": {
   "display_name": "Python 3",
   "language": "python",
   "name": "python3"
  }
 },
 "nbformat": 4,
 "nbformat_minor": 2
}
