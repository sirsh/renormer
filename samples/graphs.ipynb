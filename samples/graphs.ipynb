{
 "cells": [
  {
   "cell_type": "code",
   "execution_count": 1,
   "metadata": {},
   "outputs": [
    {
     "data": {
      "text/plain": [
       "incidence_matrix([[-1,  1,  1,  0],\n",
       "                  [ 1, -1,  0,  1],\n",
       "                  [ 0,  0, -1, -1]])"
      ]
     },
     "execution_count": 1,
     "metadata": {},
     "output_type": "execute_result"
    }
   ],
   "source": [
    "import sys\n",
    "sys.path.append(\"../\")\n",
    "import rg\n",
    "from rg.graph import incidence_matrix\n",
    "from rg.graph import ring_diagram ,show_spanning_trees, star,arc\n",
    "from rg.graph import circuits, set_circuit_flow,set_source_sink_flow,apply_flow\n",
    "from rg.graph import scalar_propagator\n",
    "#for inline dev\n",
    "import numpy as np\n",
    "from sympy import *\n",
    "\n",
    "A = incidence_matrix(edges= [ [0,1],  [1,0]], external_vertices=[0,1])\n",
    "A"
   ]
  },
  {
   "cell_type": "markdown",
   "metadata": {},
   "source": [
    "## BWS primitives and maybe some other examples"
   ]
  },
  {
   "cell_type": "code",
   "execution_count": 2,
   "metadata": {},
   "outputs": [
    {
     "data": {
      "text/html": [
       "<svg xmlns=\"http://www.w3.org/2000/svg\" xmlns:xlink=\"http://www.w3.org/1999/xlink\" version=\"1.1\" x=\"0\" y=\"0\" width=\"100\" height=\"100\">\n",
       "      <g fill=\"none\" stroke=\"black\" stroke-width=\"1.6\" stroke-linecap=\"round\" transform=\"rotate(90,50.0,50.0)\"> <path d=\"M50 15 L 50 50\" stroke=\"black\" stroke-width=\"2px\" id='edge0'   /> <line x1=\"50\" y1=\"15\" x2=\"50.0\" y2=\"32.5\" stroke=\"black\" stroke-width=\"2px\"  id='edge0'   marker-end='url(#arrow)' /><path d=\"M50 50 L 50 85\" stroke=\"black\" stroke-width=\"2px\" id='edge2'   /> <line x1=\"50\" y1=\"50\" x2=\"50.0\" y2=\"67.5\" stroke=\"black\" stroke-width=\"2px\"  id='edge2'   marker-end='url(#arrow)' /><path d=\"M50 50 L 19 67\" stroke=\"black\" stroke-width=\"2px\" id='edge1'   /> <line x1=\"50\" y1=\"50\" x2=\"34.5\" y2=\"58.5\" stroke=\"black\" stroke-width=\"2px\"  id='edge1'   marker-end='url(#arrow)' />  </g> </svg>"
      ],
      "text/plain": [
       "<rg.graph.viz.star at 0x193ab6f0ef0>"
      ]
     },
     "execution_count": 2,
     "metadata": {},
     "output_type": "execute_result"
    }
   ],
   "source": [
    "branching = incidence_matrix(edges=[[-1,0],[0,-1],[0,-1]])\n",
    "star(branching, options={\"size\": (100,100)})"
   ]
  },
  {
   "cell_type": "code",
   "execution_count": 3,
   "metadata": {},
   "outputs": [
    {
     "data": {
      "text/html": [
       "<svg xmlns=\"http://www.w3.org/2000/svg\" xmlns:xlink=\"http://www.w3.org/1999/xlink\" version=\"1.1\" x=\"0\" y=\"0\" width=\"100\" height=\"100\">\n",
       "      <g fill=\"none\" stroke=\"black\" stroke-width=\"1.6\" stroke-linecap=\"round\" transform=\"rotate(90,50.0,50.0)\"> <path d=\"M50 15 L 50 50\" stroke=\"black\" stroke-width=\"2px\" id='edge0'   /> <line x1=\"50\" y1=\"15\" x2=\"50.0\" y2=\"32.5\" stroke=\"black\" stroke-width=\"2px\"  id='edge0'   marker-end='url(#arrow)' /><path d=\"M80 32 L 50 50\" stroke=\"black\" stroke-width=\"2px\" id='edge1'   /> <line x1=\"80\" y1=\"32\" x2=\"65.0\" y2=\"41.0\" stroke=\"black\" stroke-width=\"2px\"  id='edge1'   marker-end='url(#arrow)' /><path d=\"M50 50 L 50 85\" stroke=\"black\" stroke-width=\"2px\" id='edge2'   /> <line x1=\"50\" y1=\"50\" x2=\"50.0\" y2=\"67.5\" stroke=\"black\" stroke-width=\"2px\"  id='edge2'   marker-end='url(#arrow)' />  </g> </svg>"
      ],
      "text/plain": [
       "<rg.graph.viz.star at 0x193ab6f0f60>"
      ]
     },
     "execution_count": 3,
     "metadata": {},
     "output_type": "execute_result"
    }
   ],
   "source": [
    "coag = incidence_matrix(edges=[[-1,0],[-1,0],[0,-1]])\n",
    "star(coag, options={\"size\": (100,100)})"
   ]
  },
  {
   "cell_type": "code",
   "execution_count": 4,
   "metadata": {
    "collapsed": true
   },
   "outputs": [],
   "source": [
    "import itertools\n",
    "\n",
    "def shuffle(A,B):\n",
    "    \"\"\"\n",
    "    return tuples of size species count (n,m,..) for a mul: how many chords to join\n",
    "    \"\"\"\n",
    "    def _complete_marriage_tensor_(A,B):\n",
    "        rt = A.residual(as_tensor=True)\n",
    "        lt = B.residual(as_tensor=True)\n",
    "        return np.minimum(rt[:,-1], lt[:,0])\n",
    "\n",
    "    sets = [list(range(s+1)) for s in _complete_marriage_tensor_(A,B)]\n",
    "    \n",
    "    return list(itertools.product(*sets))\n"
   ]
  },
  {
   "cell_type": "code",
   "execution_count": 38,
   "metadata": {},
   "outputs": [
    {
     "data": {
      "text/plain": [
       "incidence_matrix([[-1,  0,  1,  1],\n",
       "                  [ 0,  1, -1, -1],\n",
       "                  [ 1, -1,  0,  0]])"
      ]
     },
     "execution_count": 38,
     "metadata": {},
     "output_type": "execute_result"
    }
   ],
   "source": [
    "shuf = shuffle(coag, branching)\n",
    "res = coag.dprod(branching, species_chord_set=shuf[-1])\n",
    "res"
   ]
  },
  {
   "cell_type": "code",
   "execution_count": 142,
   "metadata": {},
   "outputs": [
    {
     "data": {
      "text/html": [
       "<svg xmlns=\"http://www.w3.org/2000/svg\" xmlns:xlink=\"http://www.w3.org/1999/xlink\" version=\"1.1\" x=\"0\" y=\"0\" width=\"200\" height=\"200\">\n",
       "      <g fill=\"none\" stroke=\"black\" stroke-width=\"1.6\" stroke-linecap=\"round\" transform=\"rotate(90,100,100)\"> <defs><marker id=\"arrow\"  markerUnits=\"strokeWidth\" markerWidth='5' markerHeight='8' refX='0' refY='2' orient=\"auto\" stroke=\"black\" >\n",
       "                                      <path d=\"M0,0 V4 L2,2 Z\" style=\"fill: #000000;\" /> </marker>\n",
       "                                      <marker id=\"arrowgrey\"  markerUnits=\"strokeWidth\" markerWidth='5' markerHeight='8' refX='0' refY='2' orient=\"auto\" stroke=\"grey\" >\n",
       "                                      <path d=\"M0,0 V4 L2,2 Z\" style=\"fill: #000000;\" /> </marker>\n",
       "                                      <marker id=\"arroworange\"  markerUnits=\"strokeWidth\" markerWidth='5' markerHeight='8' refX='0' refY='2' orient=\"auto\" stroke=\"orange\" >\n",
       "                                      <path d=\"M0,0 V4 L2,2 Z\" style=\"fill: #000000;\" /> </marker>\n",
       "                                      </defs><circle cx=\"100\" cy=\"170\" r=\"3\" stroke=\"black\" stroke-width=\"1\" fill=\"black\"  /> <circle cx=\"99\" cy=\"30\" r=\"3\" stroke=\"black\" stroke-width=\"1\" fill=\"black\"  /> <path id='edge2' d=\"M  99  30  A  70  70  0  0  0  100  170 \" stroke=\"black\"  stroke-width=\"2px\"   /><path id='edge2' d=\"M  99  30  A  70  70  0  0  0  30  100 \" stroke=\"black\"  stroke-width=\"2px\" marker-end='url(#arrow)'  /><path id='edge3' d=\"M  100  30  A  70  70  0  0  1  100  170 \" stroke=\"black\"  stroke-width=\"2px\"   /><path id='edge3' d=\"M  100  30  A  70  70  0  0  1  170  100 \" stroke=\"black\"  stroke-width=\"2px\" marker-end='url(#arrow)'  />  </g> </svg>"
      ],
      "text/plain": [
       "<rg.graph.viz.ring_diagram at 0x193becad128>"
      ]
     },
     "execution_count": 142,
     "metadata": {},
     "output_type": "execute_result"
    }
   ],
   "source": [
    "ring_diagram(res)"
   ]
  },
  {
   "cell_type": "code",
   "execution_count": 155,
   "metadata": {},
   "outputs": [
    {
     "data": {
      "text/plain": [
       "2"
      ]
     },
     "execution_count": 155,
     "metadata": {},
     "output_type": "execute_result"
    }
   ],
   "source": [
    "e = res[:,0]\n",
    "vid = 0\n",
    "cov = [c for c in np.where(e != 0)[0] if c != vid][0]\n",
    "cov"
   ]
  },
  {
   "cell_type": "code",
   "execution_count": 164,
   "metadata": {},
   "outputs": [
    {
     "data": {
      "text/plain": [
       "array([0, 2, 3], dtype=int64)"
      ]
     },
     "execution_count": 164,
     "metadata": {},
     "output_type": "execute_result"
    }
   ],
   "source": [
    "edges = res.get_incident_edges(0)\n",
    "edges"
   ]
  },
  {
   "cell_type": "code",
   "execution_count": 169,
   "metadata": {},
   "outputs": [
    {
     "data": {
      "text/plain": [
       "incidence_matrix([[-1,  0,  1,  1],\n",
       "                  [ 0,  1, -1, -1],\n",
       "                  [ 1, -1,  0,  0]])"
      ]
     },
     "execution_count": 169,
     "metadata": {},
     "output_type": "execute_result"
    }
   ],
   "source": [
    "res"
   ]
  },
  {
   "cell_type": "code",
   "execution_count": 171,
   "metadata": {},
   "outputs": [
    {
     "data": {
      "text/plain": [
       "array([0, 1, 2], dtype=int64)"
      ]
     },
     "execution_count": 171,
     "metadata": {},
     "output_type": "execute_result"
    }
   ],
   "source": [
    "[u for u in np.unique(np.where(res.T != 0)[-1]) if u != vid]"
   ]
  },
  {
   "cell_type": "code",
   "execution_count": 180,
   "metadata": {},
   "outputs": [
    {
     "data": {
      "text/plain": [
       "1"
      ]
     },
     "execution_count": 180,
     "metadata": {},
     "output_type": "execute_result"
    }
   ],
   "source": [
    "vs = np.where(res[2]!=0)[0] \n",
    "vs[vs!= 0][0]"
   ]
  },
  {
   "cell_type": "code",
   "execution_count": 213,
   "metadata": {},
   "outputs": [
    {
     "data": {
      "text/plain": [
       "[array([[[0, 1]],\n",
       " \n",
       "        [[2, 0]]]), array([[[2, 0]],\n",
       " \n",
       "        [[1, 0]]])]"
      ]
     },
     "execution_count": 213,
     "metadata": {},
     "output_type": "execute_result"
    }
   ],
   "source": [
    "def decorated_star(self):\n",
    "    species = self.species_vector if self.species_vector is not None else list([0 for i in range(self.shape[-1])])\n",
    "    sn = len(np.unique(species))  \n",
    "    for i, v in enumerate(self[:-1]):\n",
    "        covertices = [u for u in np.unique(np.where(self.T[edges] != 0)[-1]) if u != vid]\n",
    "        tense = np.zeros((2,sn,len(covertices)),np.int)\n",
    "        for e,edge in enumerate(self.T):\n",
    "            if edge[i] == 0: continue\n",
    "            IO = 0 if edge[i] == -1 else 1\n",
    "            vs = np.where(edge!=0)[0] \n",
    "            u = covertices.index(vs[vs!= 0][0])        \n",
    "            tense[IO][species[e]][u] += 1     \n",
    "        yield tense\n",
    "    \n",
    "list(decorated_star(res))"
   ]
  },
  {
   "cell_type": "markdown",
   "metadata": {},
   "source": [
    "## Graph hash and loop and generators"
   ]
  },
  {
   "cell_type": "code",
   "execution_count": null,
   "metadata": {},
   "outputs": [],
   "source": [
    "sunset = incidence_matrix(edges=[ [0,1], [1,0], [0,1], [0,-1], [-1,1] ])\n",
    "set_source_sink_flow(sunset)\n",
    "ring_diagram(sunset)"
   ]
  },
  {
   "cell_type": "code",
   "execution_count": null,
   "metadata": {},
   "outputs": [],
   "source": [
    "A = incidence_matrix(edges= [ [0,-1],  [0,-1], [-1,0], [-1,0]] ,species_vector=[4,4,4,3])\n",
    "ring_diagram(A, options={\"add_rotation\":-30})"
   ]
  },
  {
   "cell_type": "code",
   "execution_count": null,
   "metadata": {},
   "outputs": [],
   "source": [
    "C = incidence_matrix(edges= [ [0,-1],  [0,-1], [-1,0]] )\n",
    "ring_diagram(A, options={\"add_rotation\":0})"
   ]
  },
  {
   "cell_type": "code",
   "execution_count": null,
   "metadata": {},
   "outputs": [],
   "source": [
    "ring_diagram(A.dprod(C))"
   ]
  },
  {
   "cell_type": "code",
   "execution_count": null,
   "metadata": {},
   "outputs": [],
   "source": [
    "ring_diagram(A.dprod(A))"
   ]
  },
  {
   "cell_type": "code",
   "execution_count": null,
   "metadata": {},
   "outputs": [],
   "source": [
    "B = incidence_matrix(edges= [ [-1,0],  [-1,0], [0,1], [-1,1], [1,-1],[1,-1], [1,2], [2,-1]] )"
   ]
  },
  {
   "cell_type": "code",
   "execution_count": null,
   "metadata": {},
   "outputs": [],
   "source": [
    "#should use this when there are no loops\n",
    "star(B, options={\"extra_rotation\":0})"
   ]
  },
  {
   "cell_type": "code",
   "execution_count": null,
   "metadata": {},
   "outputs": [],
   "source": [
    "A.residual(exiting=False)"
   ]
  },
  {
   "cell_type": "code",
   "execution_count": null,
   "metadata": {},
   "outputs": [],
   "source": [
    "G=_prod_(A, A)\n",
    "G      "
   ]
  },
  {
   "cell_type": "code",
   "execution_count": null,
   "metadata": {},
   "outputs": [],
   "source": [
    "\n",
    "ring_diagram(G)"
   ]
  },
  {
   "cell_type": "code",
   "execution_count": null,
   "metadata": {},
   "outputs": [],
   "source": [
    "\n",
    "            \n",
    "RG = residual_matrix(G)\n",
    "RG#ring_diagram(RG, options={\"show_ex_edges\"})"
   ]
  },
  {
   "cell_type": "code",
   "execution_count": null,
   "metadata": {},
   "outputs": [],
   "source": [
    "ring_diagram(RG, options={ \"add_rotation\":-30})"
   ]
  },
  {
   "cell_type": "code",
   "execution_count": null,
   "metadata": {
    "collapsed": true
   },
   "outputs": [],
   "source": [
    "#tonight rendering of vertex diagrams (loopless ring diagrams) and residual diagrams. \n",
    "#pyramids might be nice but maybe another day"
   ]
  },
  {
   "cell_type": "code",
   "execution_count": null,
   "metadata": {
    "collapsed": true
   },
   "outputs": [],
   "source": []
  },
  {
   "cell_type": "markdown",
   "metadata": {},
   "source": [
    "# Colourings\n",
    "On a one loop graph with one species, there are as many colourings as there paths of any length between pairs of external vertices\n",
    " - which is to say, as many colourings as there are external vertices\n",
    " - if something can be expressed as a three colouring, we can always find a single pole to produce something on the propagator basis\n",
    " - adding species, even we project a large space of colourings, the graph can only every be expressed as a 3-colouring - not true, can change colour internally\n",
    " - however the kinematics from the species colouring enters trivially in the integration i think although we should check the multiple residues"
   ]
  },
  {
   "cell_type": "code",
   "execution_count": null,
   "metadata": {},
   "outputs": [],
   "source": [
    "2**14-1"
   ]
  },
  {
   "cell_type": "code",
   "execution_count": null,
   "metadata": {},
   "outputs": [],
   "source": [
    "A = incidence_matrix(edges= [ [0,1],  [1,0]], external_vertices=[0,1])\n",
    "apply_flow(A,set_source_sink_flow)\n",
    "ring_diagram(A)\n"
   ]
  },
  {
   "cell_type": "code",
   "execution_count": null,
   "metadata": {},
   "outputs": [],
   "source": [
    "latex(Matrix(np.array([[1,-1,-1],[-1,1,1]])) * diag( Symbol(\"q_0\"),Symbol(\"q_1\"), Symbol(\"q3\")))"
   ]
  },
  {
   "cell_type": "code",
   "execution_count": null,
   "metadata": {},
   "outputs": [],
   "source": [
    "latex(Matrix(np.array([ [1,-1,0],[1,-1,0], [0,1,-1],[-1,0,1],[-1,0,1]]).T) * diag( Symbol(\"p_0\"),Symbol(\"p_1\"),Symbol(\"q_0\"),Symbol(\"q_1\"),Symbol(\"q_2\")))"
   ]
  },
  {
   "cell_type": "code",
   "execution_count": null,
   "metadata": {},
   "outputs": [],
   "source": [
    "A = incidence_matrix(edges= [ [0,1], [0,1], [1,0]],\n",
    "                       external_vertices=[0,1])\n",
    "apply_flow(A,set_source_sink_flow)\n",
    "ring_diagram(A, options={\"show_labels\"})\n"
   ]
  },
  {
   "cell_type": "code",
   "execution_count": null,
   "metadata": {},
   "outputs": [],
   "source": [
    "2**6-1"
   ]
  },
  {
   "cell_type": "code",
   "execution_count": null,
   "metadata": {},
   "outputs": [],
   "source": [
    "show_spanning_trees(A, show_labels=True)"
   ]
  },
  {
   "cell_type": "code",
   "execution_count": null,
   "metadata": {},
   "outputs": [],
   "source": [
    "latex(A.kirchhoff)"
   ]
  },
  {
   "cell_type": "code",
   "execution_count": null,
   "metadata": {},
   "outputs": [],
   "source": [
    "latex(Matrix(A[:2,:3]))"
   ]
  },
  {
   "cell_type": "code",
   "execution_count": null,
   "metadata": {},
   "outputs": [],
   "source": [
    "latex(Matrix(A.edge_label_matrix))\n"
   ]
  },
  {
   "cell_type": "code",
   "execution_count": null,
   "metadata": {},
   "outputs": [],
   "source": [
    "L = A.edge_label_matrix * A.edge_label_matrix.T\n",
    "L"
   ]
  },
  {
   "cell_type": "code",
   "execution_count": null,
   "metadata": {},
   "outputs": [],
   "source": [
    "for s in A._internal_symbols_(): L=L.subs({s**2:s})\n",
    "        #treat all external edges as z so we can get a polynomial in z for forest order\n",
    "for s in A._external_symbols_(): L=L.subs({s**2:Symbol(\"z\")}) \n",
    "L"
   ]
  },
  {
   "cell_type": "code",
   "execution_count": null,
   "metadata": {},
   "outputs": [],
   "source": [
    "red =  incidence_matrix.__sym_i_cofactor__(L) \n",
    "latex(Matrix(red))\n"
   ]
  },
  {
   "cell_type": "code",
   "execution_count": null,
   "metadata": {},
   "outputs": [],
   "source": [
    "latex(Matrix(L))"
   ]
  },
  {
   "cell_type": "code",
   "execution_count": null,
   "metadata": {},
   "outputs": [],
   "source": [
    "B = incidence_matrix(3,3,\n",
    "                       [ [0,1], [1,2], [2,0]],\n",
    "                       external_vertices=[0,1])\n",
    "apply_flow(B,set_source_sink_flow)\n",
    "ring_diagram(B)"
   ]
  },
  {
   "cell_type": "code",
   "execution_count": null,
   "metadata": {},
   "outputs": [],
   "source": [
    "B.constraint_system(True)"
   ]
  },
  {
   "cell_type": "code",
   "execution_count": null,
   "metadata": {},
   "outputs": [],
   "source": [
    "C = incidence_matrix(3,3,\n",
    "                       [ [0,1], [1,2], [2,0]],\n",
    "                       external_vertices=[0,1,2])\n",
    "apply_flow(C,set_source_sink_flow)\n",
    "ring_diagram(C)"
   ]
  },
  {
   "cell_type": "code",
   "execution_count": null,
   "metadata": {},
   "outputs": [],
   "source": [
    "C.constraint_system(True)"
   ]
  },
  {
   "cell_type": "code",
   "execution_count": null,
   "metadata": {},
   "outputs": [],
   "source": [
    "D = incidence_matrix(4,4,\n",
    "                       [ [0,1], [1,2], [2,3], [3,0]],\n",
    "                       external_vertices=[0,1,2])\n",
    "apply_flow(D,set_source_sink_flow)\n",
    "ring_diagram(D, )#options={\"show_labels\"} messed up label"
   ]
  },
  {
   "cell_type": "code",
   "execution_count": null,
   "metadata": {},
   "outputs": [],
   "source": [
    "#3 linearly independent internal edges can be generated from (3,1)\n",
    "D.constraint_system(True)"
   ]
  },
  {
   "cell_type": "code",
   "execution_count": null,
   "metadata": {},
   "outputs": [],
   "source": [
    "E = incidence_matrix(5,5,\n",
    "                       [ [0,1], [1,2], [2,3], [3,4], [4,0]],\n",
    "                       external_vertices=[0,1,2])\n",
    "apply_flow(E,set_source_sink_flow)\n",
    "ring_diagram(E, )#options={\"show_labels\"} messed up label"
   ]
  },
  {
   "cell_type": "code",
   "execution_count": null,
   "metadata": {},
   "outputs": [],
   "source": [
    "#3 linearly independent internal edges can be generated from (4,1)\n",
    "E.constraint_system(True)"
   ]
  },
  {
   "cell_type": "code",
   "execution_count": null,
   "metadata": {},
   "outputs": [],
   "source": [
    "F = incidence_matrix(5,5,\n",
    "                       [ [0,1], [1,2], [2,3], [3,4], [4,0]],\n",
    "                       external_vertices=[0,1,4])\n",
    "apply_flow(F,set_source_sink_flow)\n",
    "ring_diagram(F, )#options={\"show_labels\"} messed up label"
   ]
  },
  {
   "cell_type": "code",
   "execution_count": null,
   "metadata": {},
   "outputs": [],
   "source": [
    "#2 linearly independant? - no actually , just a trick p4 is on its own where as above, p1 is on its own\n",
    "#actually 3 - so there are as many as there paths i.e. as many as there are externals\n",
    "F.constraint_system(True)"
   ]
  },
  {
   "cell_type": "code",
   "execution_count": null,
   "metadata": {},
   "outputs": [],
   "source": [
    "G = incidence_matrix(5,5,\n",
    "                       [ [0,1], [1,2], [2,3], [3,4], [4,0]],\n",
    "                       external_vertices=[0,2,4])\n",
    "apply_flow(G,set_source_sink_flow)\n",
    "ring_diagram(G, )#options={\"show_labels\"} messed up label"
   ]
  },
  {
   "cell_type": "code",
   "execution_count": null,
   "metadata": {},
   "outputs": [],
   "source": [
    "G.constraint_system(True)"
   ]
  },
  {
   "cell_type": "code",
   "execution_count": null,
   "metadata": {
    "collapsed": true
   },
   "outputs": [],
   "source": [
    "#The graph will have islands of internal nodes which will have the same momenta. \n",
    "#So no matter how many external nodes there are, if they are contiguous we minimise the number of colourings"
   ]
  },
  {
   "cell_type": "markdown",
   "metadata": {},
   "source": [
    "## work in progress\n",
    "\n",
    "What is the best method for determining the edge basis. Cycles can be used. \n",
    "- Important to partition cycles into positive and negative frequencies\n",
    "- Import to attribute to each edge the correct edge basis"
   ]
  },
  {
   "cell_type": "markdown",
   "metadata": {},
   "source": [
    "### from the constraints at vertices, we try to construct an edge basis \n",
    " - need to be careful about Sympy interface because I am not sure about some things yet"
   ]
  },
  {
   "cell_type": "code",
   "execution_count": null,
   "metadata": {},
   "outputs": [],
   "source": [
    "sunset = incidence_matrix(3,2,\n",
    "                       [ [0,1], [1,0], [0,1]  ],\n",
    "                       external_vertices=[0,1])\n",
    "\n",
    "L = sunset.first_betti_number\n",
    "maps = sunset.edges_to_loop_basis()\n",
    "#these are the ids of each edge in the incidence matrix and their coefficients on the edge basis\n",
    "#if there are two loops and two externals each edge takes a vector: [L1|L2|EX1|EX2]\n",
    "maps"
   ]
  },
  {
   "cell_type": "code",
   "execution_count": null,
   "metadata": {},
   "outputs": [],
   "source": [
    "#given an edge basis and a known loop number, create the propagator for each edge - here we know to use the first L as the loop basis\n",
    "scalar_propagator(maps[0][:L], maps[0][L:])"
   ]
  },
  {
   "cell_type": "code",
   "execution_count": null,
   "metadata": {},
   "outputs": [],
   "source": [
    "#apply_flow(sunset, set_source_sink_flow)\n",
    "#sunset.flip_edges(0)\n",
    "ring_diagram(sunset)"
   ]
  },
  {
   "cell_type": "markdown",
   "metadata": {},
   "source": [
    "### all the propagators look like this"
   ]
  },
  {
   "cell_type": "code",
   "execution_count": null,
   "metadata": {},
   "outputs": [],
   "source": [
    "rg._product_([scalar_propagator(maps[i][:L], maps[i][L:]).value for i in maps.keys()])"
   ]
  },
  {
   "cell_type": "code",
   "execution_count": null,
   "metadata": {},
   "outputs": [],
   "source": [
    "#below is displayed with the source sink flow used to solve constraints and not the loop flow...\n",
    "#but we can see from the propagators that e0 and e1 flow in the *some* direction and e1 flows opposite for each loop variable\n",
    "#it is important that the loop variables are represented with opposite signs for the set of propagaors\n",
    "ring_diagram(sunset, options={\"show_labels\"})"
   ]
  },
  {
   "cell_type": "code",
   "execution_count": null,
   "metadata": {},
   "outputs": [],
   "source": [
    "apply_flow(sunset,set_circuit_flow)\n",
    "ring_diagram(sunset, options={\"show_labels\"})"
   ]
  },
  {
   "cell_type": "markdown",
   "metadata": {},
   "source": [
    "### example of the shorthand \n",
    "- convention must be known but useful to create a larger integral from matrix of coefficients"
   ]
  },
  {
   "cell_type": "code",
   "execution_count": null,
   "metadata": {},
   "outputs": [],
   "source": [
    "mat = [[0,1,0,1,1,1],\n",
    "       [0,-1,0,0,2,2]]\n",
    "scalar_propagator.from_basis_vector(mat,2)"
   ]
  },
  {
   "cell_type": "markdown",
   "metadata": {},
   "source": [
    "# A first look at the incidence matrix class"
   ]
  },
  {
   "cell_type": "code",
   "execution_count": null,
   "metadata": {},
   "outputs": [],
   "source": [
    "itest = incidence_matrix.__sample__()\n",
    "itest"
   ]
  },
  {
   "cell_type": "code",
   "execution_count": null,
   "metadata": {},
   "outputs": [],
   "source": [
    "INC = incidence_matrix.__sample__()\n",
    "#INC.flip_edges(1)\n",
    "D = ring_diagram(INC, options={ \"show_labels\":True, }) \n",
    "D"
   ]
  },
  {
   "cell_type": "code",
   "execution_count": null,
   "metadata": {},
   "outputs": [],
   "source": [
    "all_circuits=  circuits(INC,sort=True)\n",
    "all_circuits"
   ]
  },
  {
   "cell_type": "markdown",
   "metadata": {},
   "source": [
    "# now take a look at one of the spanning rees"
   ]
  },
  {
   "cell_type": "code",
   "execution_count": null,
   "metadata": {
    "collapsed": true
   },
   "outputs": [],
   "source": [
    "#show_spanning_trees(INC)"
   ]
  },
  {
   "cell_type": "code",
   "execution_count": null,
   "metadata": {},
   "outputs": [],
   "source": [
    "tree = INC.spanning_trees.iloc[-1].values\n",
    "tree_cuts = INC.edge_complement(tree)\n",
    "print(tree_cuts)\n",
    "C = ring_diagram(INC, options={\"show_labels\" :True,  \"cut_edges\": tree_cuts}) \n",
    "C#._repr_html_()"
   ]
  },
  {
   "cell_type": "markdown",
   "metadata": {},
   "source": [
    "# Edge Orientations\n",
    "given cicuits, we can actually rank them by closeness to root and then we can incrementally orientate them in different ways\n",
    "\n",
    "(1) Choose a source and sink delegate on each circuit and have allow flow towards the sink\n",
    "\n",
    "(2) Respect loop momentum"
   ]
  },
  {
   "cell_type": "code",
   "execution_count": null,
   "metadata": {},
   "outputs": [],
   "source": [
    "#todo the last circuit is degenerate\n",
    "INC = incidence_matrix.__sample__()\n",
    "all_circuits = circuits(INC,INC.spanning_trees.iloc[0].values)\n",
    "print(all_circuits)"
   ]
  },
  {
   "cell_type": "markdown",
   "metadata": {},
   "source": [
    "# set default circuit flow"
   ]
  },
  {
   "cell_type": "code",
   "execution_count": null,
   "metadata": {},
   "outputs": [],
   "source": [
    "INC = incidence_matrix.__sample__()\n",
    "#todo technicall need to reload cicuts but they are ok\n",
    "all_circuits = circuits(INC,INC.spanning_trees.iloc[0].values)\n",
    "circ = all_circuits[3]\n",
    "#print(circ)\n",
    "res = set_circuit_flow(INC,circ)\n",
    "#print(res)\n",
    "#print(\"edge comp\", circ)\n",
    "ring_diagram(INC, options={\"show_labels\" :True,  \"cut_edges\": INC.edge_complement(circ)}) "
   ]
  },
  {
   "cell_type": "code",
   "execution_count": null,
   "metadata": {},
   "outputs": [],
   "source": [
    "INC.spanning_trees.iloc[0].values"
   ]
  },
  {
   "cell_type": "markdown",
   "metadata": {},
   "source": [
    "# circuit source sink flow"
   ]
  },
  {
   "cell_type": "code",
   "execution_count": null,
   "metadata": {},
   "outputs": [],
   "source": [
    "INC = incidence_matrix.__sample__()\n",
    "#todo technicall need to reload cicuts but they are ok\n",
    "all_circuits = circuits(INC,INC.spanning_trees.iloc[0].values)\n",
    "circ = all_circuits[1]\n",
    "#print(circ)\n",
    "res = set_source_sink_flow(INC,circ)\n",
    "print(\"source,sink\",res)\n",
    "#print(res)\n",
    "#print(\"edge comp\", circ)\n",
    "ring_diagram(INC, options={\"show_labels\" :True,  \"cut_edges\": INC.edge_complement(circ)}) "
   ]
  },
  {
   "cell_type": "markdown",
   "metadata": {},
   "source": [
    "# all together now...\n",
    "\n",
    "cicuits are ordered based on the average depth of vertices in the cicuit. Outer rings score best\n",
    "\n",
    "We process all cicuits in that order"
   ]
  },
  {
   "cell_type": "markdown",
   "metadata": {},
   "source": [
    "Suppose we dont remember anything from the last processed circuit..."
   ]
  },
  {
   "cell_type": "code",
   "execution_count": null,
   "metadata": {},
   "outputs": [],
   "source": [
    "apply_flow(INC,set_source_sink_flow)\n",
    "ring_diagram(INC, options={\"show_labels\" :True}) "
   ]
  },
  {
   "cell_type": "code",
   "execution_count": null,
   "metadata": {
    "collapsed": true
   },
   "outputs": [],
   "source": []
  },
  {
   "cell_type": "markdown",
   "metadata": {},
   "source": [
    "# Other examples"
   ]
  },
  {
   "cell_type": "code",
   "execution_count": null,
   "metadata": {},
   "outputs": [],
   "source": [
    "simp = incidence_matrix(2,2,\n",
    "                       [ [0,1], [1,0]  ],\n",
    "                       external_vertices=[0,1])\n",
    "\n",
    "sunset = incidence_matrix(3,2,\n",
    "                       [ [0,1], [1,0], [0,1]  ],\n",
    "                       external_vertices=[0,1])\n",
    "\n",
    "bog = incidence_matrix(7,6,\n",
    "                       [ [0,1], [1,3], [0,2], [3,2], [3,5], [2,4], [4,5]  ],\n",
    "                       external_vertices=[0,1,4,5])\n",
    "\n",
    "#get cicuits using any spanning tree and produce a sink flow ordering\n",
    "set_source_sink_flow(simp,circuits(simp)[0])\n",
    "#simp.constraint_system(True)\n",
    "ring_diagram(simp)"
   ]
  },
  {
   "cell_type": "code",
   "execution_count": null,
   "metadata": {},
   "outputs": [],
   "source": [
    "show_spanning_trees(simp)"
   ]
  },
  {
   "cell_type": "code",
   "execution_count": null,
   "metadata": {},
   "outputs": [],
   "source": [
    "simp = incidence_matrix(3,3,\n",
    "                       [ [0,1], [1,2], [2,0]  ],\n",
    "                       external_vertices=[0,1])\n",
    "ring_diagram(simp)"
   ]
  },
  {
   "cell_type": "code",
   "execution_count": null,
   "metadata": {},
   "outputs": [],
   "source": [
    "show_spanning_trees(simp)"
   ]
  },
  {
   "cell_type": "code",
   "execution_count": null,
   "metadata": {},
   "outputs": [],
   "source": [
    "simp = incidence_matrix(4,4,\n",
    "                       [ [0,1], [1,2], [2,3], [3,0]  ],\n",
    "                       external_vertices=[0,1])\n",
    "ring_diagram(simp)"
   ]
  },
  {
   "cell_type": "code",
   "execution_count": null,
   "metadata": {},
   "outputs": [],
   "source": []
  },
  {
   "cell_type": "code",
   "execution_count": null,
   "metadata": {},
   "outputs": [],
   "source": [
    "INC = incidence_matrix.__sample__()\n",
    "show_spanning_trees(INC,is_directed=False)\n",
    "#len(INC.spanning_trees)"
   ]
  },
  {
   "cell_type": "code",
   "execution_count": null,
   "metadata": {
    "collapsed": true
   },
   "outputs": [],
   "source": [
    "#TODO: visual style for and implementation of multiple external legs\n",
    "#perhaps an option for simple diagrams to force certain types of loops and ignore hierarchy\n",
    "\n",
    "#save svg todo find save html tp pdf solution\n",
    "#with open (\"test.svg\", \"w\") as f:\n",
    "#    f.write(ring_diagram(sunset, options={\"show_labels\"})._repr_html_())"
   ]
  }
 ],
 "metadata": {
  "kernelspec": {
   "display_name": "Python 3",
   "language": "python",
   "name": "python3"
  },
  "language_info": {
   "codemirror_mode": {
    "name": "ipython",
    "version": 3
   },
   "file_extension": ".py",
   "mimetype": "text/x-python",
   "name": "python",
   "nbconvert_exporter": "python",
   "pygments_lexer": "ipython3",
   "version": "3.6.3"
  }
 },
 "nbformat": 4,
 "nbformat_minor": 2
}
