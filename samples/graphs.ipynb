{
 "cells": [
  {
   "cell_type": "code",
   "execution_count": 1,
   "metadata": {},
   "outputs": [
    {
     "data": {
      "text/html": [
       "<svg xmlns=\"http://www.w3.org/2000/svg\" xmlns:xlink=\"http://www.w3.org/1999/xlink\" version=\"1.1\" x=\"0\" y=\"0\" width=\"500\" height=\"250\">\n",
       "      <g fill=\"none\" stroke=\"black\" stroke-width=\"1.6\" stroke-linecap=\"round\" transform=\"rotate(0,250.0,125.0) \"> <defs><marker id=\"arrow\"  markerUnits=\"strokeWidth\" markerWidth='5' markerHeight='8' refX='0' refY='2' orient=\"auto\" stroke=\"black\" >\n",
       "                                      <path d=\"M0,0 V4 L2,2 Z\" style=\"fill: #000000;\" /> </marker>\n",
       "                                      <marker id=\"arrowgrey\"  markerUnits=\"strokeWidth\" markerWidth='5' markerHeight='8' refX='0' refY='2' orient=\"auto\" stroke=\"grey\" >\n",
       "                                      <path d=\"M0,0 V4 L2,2 Z\" style=\"fill: #000000;\" /> </marker>\n",
       "                                      <marker id=\"arroworange\"  markerUnits=\"strokeWidth\" markerWidth='5' markerHeight='8' refX='0' refY='2' orient=\"auto\" stroke=\"orange\" >\n",
       "                                      <path d=\"M0,0 V4 L2,2 Z\" style=\"fill: #000000;\" /> </marker>\n",
       "                                      </defs><circle cx=\"100.0\" cy=\"30\" r=\"2.5\" stroke=\"grey\" stroke-width=\"2\" fill=\"black\" /> <circle cx=\"50.0\" cy=\"100\" r=\"2.5\" stroke=\"black\" stroke-width=\"2\" fill=\"black\" /> <path d=\"M85 100 L 50.0 100\" stroke=\"orange\" stroke-width=\"2px\" id='edge1'   /> <line x1=\"85\" y1=\"100\" x2=\"67.5\" y2=\"100.0\" stroke=\"orange\" stroke-width=\"2px\"  id='edge1'   marker-end='url(#arroworange)' /><path d=\"M67 130 L 50.0 100\" stroke=\"black\" stroke-width=\"2px\" id='edge2'   /> <line x1=\"67\" y1=\"130\" x2=\"58.5\" y2=\"115.0\" stroke=\"black\" stroke-width=\"2px\"  id='edge2'   marker-end='url(#arrow)' /><path d=\"M50.0 100 L 15 100\" stroke=\"black\" stroke-width=\"2px\" id='edge0'   /> <line x1=\"50.0\" y1=\"100\" x2=\"32.5\" y2=\"100.0\" stroke=\"black\" stroke-width=\"2px\"  id='edge0'   marker-end='url(#arrow)' /><path d=\"M50.0 100 L 32 69\" stroke=\"black\" stroke-width=\"2px\" id='edge5'   /> <line x1=\"50.0\" y1=\"100\" x2=\"41.0\" y2=\"84.5\" stroke=\"black\" stroke-width=\"2px\"  id='edge5'   marker-end='url(#arrow)' /><circle cx=\"150.0\" cy=\"100\" r=\"2.5\" stroke=\"black\" stroke-width=\"2\" fill=\"black\" /> <path d=\"M185 100 L 150.0 100\" stroke=\"black\" stroke-width=\"2px\" id='edge0'   /> <line x1=\"185\" y1=\"100\" x2=\"167.5\" y2=\"100.0\" stroke=\"black\" stroke-width=\"2px\"  id='edge0'   marker-end='url(#arrow)' /><path d=\"M150.0 100 L 115 100\" stroke=\"orange\" stroke-width=\"2px\" id='edge1'   /> <line x1=\"150.0\" y1=\"100\" x2=\"132.5\" y2=\"100.0\" stroke=\"orange\" stroke-width=\"2px\"  id='edge1'   marker-end='url(#arroworange)' /><path d=\"M150.0 100 L 125 75\" stroke=\"black\" stroke-width=\"2px\" id='edge3'   /> <line x1=\"150.0\" y1=\"100\" x2=\"137.5\" y2=\"87.5\" stroke=\"black\" stroke-width=\"2px\"  id='edge3'   marker-end='url(#arrow)' /><path d=\"M150.0 100 L 150 65\" stroke=\"black\" stroke-width=\"2px\" id='edge4'   /> <line x1=\"150.0\" y1=\"100\" x2=\"150.0\" y2=\"82.5\" stroke=\"black\" stroke-width=\"2px\"  id='edge4'   marker-end='url(#arrow)' /><path id='edge-1' d=\"M  15  100  A  50  50  0  0  0  185  100 \" stroke=\"grey\"  stroke-width=\"2px\" stroke-dasharray='1,5' /><path d=\"M115 100 L 85 100\" stroke=\"grey\" stroke-width=\"2px\"  stroke-dasharray='1,7'  /> <line x1=\"115\" y1=\"100\" x2=\"100.0\" y2=\"100.0\" stroke=\"grey\" stroke-width=\"2px\"   stroke-dasharray='1,7'  marker-end='url(#arrowgrey)' />  </g> </svg>"
      ],
      "text/plain": [
       "<rg.graph.viz.debug_graph at 0x1445058a940>"
      ]
     },
     "execution_count": 1,
     "metadata": {},
     "output_type": "execute_result"
    }
   ],
   "source": [
    "import sys\n",
    "sys.path.append(\"../\")\n",
    "import rg\n",
    "from rg.graph import incidence_matrix\n",
    "from rg.graph import ring_diagram ,show_spanning_trees, star,arc, debug_graph, tabulate_graphs,simple_ring_graph\n",
    "from rg.graph import circuits, set_circuit_flow,set_source_sink_flow,apply_flow\n",
    "from rg.graph import scalar_propagator\n",
    "from rg.graph import save_graph_collection, load_graph_collection\n",
    "\n",
    "import itertools\n",
    "from rg.graph import perturbation as pt\n",
    "#for inline dev\n",
    "import numpy as np\n",
    "from sympy import *\n",
    "\n",
    "A = incidence_matrix(edges= [ [0,1],  [1,0], [-1,0], [1,-1], [1,-1], [0,-1] ], species_vector=[0,1,0,0,0,0])\n",
    "debug_graph(A)\n",
    "\n",
    "#this shows a backflow which we should not really have in the graph - good example"
   ]
  },
  {
   "cell_type": "markdown",
   "metadata": {},
   "source": [
    "# TODO - The symmetries\n",
    " - The loop/residual hash\n",
    " - The integral hash\n",
    " - The symmetry factor\n",
    " \n",
    " Also need to draw diagrams like I8/I10 which suggests and issue with symmetries over vertex joins"
   ]
  },
  {
   "cell_type": "code",
   "execution_count": 2,
   "metadata": {},
   "outputs": [
    {
     "data": {
      "text/html": [
       "<table ><tr style='background:white'><td><svg xmlns=\"http://www.w3.org/2000/svg\" xmlns:xlink=\"http://www.w3.org/1999/xlink\" version=\"1.1\" x=\"0\" y=\"0\" width=\"150\" height=\"130\">\n",
       "      <g fill=\"none\" stroke=\"black\" stroke-width=\"1.6\" stroke-linecap=\"round\" transform=\"rotate(0,75.0,65.0) \"> <defs><marker id=\"arrow\"  markerUnits=\"strokeWidth\" markerWidth='5' markerHeight='8' refX='0' refY='2' orient=\"auto\" stroke=\"black\" >\n",
       "                                      <path d=\"M0,0 V4 L2,2 Z\" style=\"fill: #000000;\" /> </marker>\n",
       "                                      <marker id=\"arrowgrey\"  markerUnits=\"strokeWidth\" markerWidth='5' markerHeight='8' refX='0' refY='2' orient=\"auto\" stroke=\"grey\" >\n",
       "                                      <path d=\"M0,0 V4 L2,2 Z\" style=\"fill: #000000;\" /> </marker>\n",
       "                                      <marker id=\"arroworange\"  markerUnits=\"strokeWidth\" markerWidth='5' markerHeight='8' refX='0' refY='2' orient=\"auto\" stroke=\"orange\" >\n",
       "                                      <path d=\"M0,0 V4 L2,2 Z\" style=\"fill: #000000;\" /> </marker>\n",
       "                                      </defs><circle cx=\"50.0\" cy=\"100\" r=\"2.5\" stroke=\"black\" stroke-width=\"2\" fill=\"black\" /> <path d=\"M85 100 L 50.0 100\" stroke=\"black\" stroke-width=\"2px\" id='edge0'   /> <line x1=\"85\" y1=\"100\" x2=\"67.5\" y2=\"100.0\" stroke=\"black\" stroke-width=\"2px\"  id='edge0'   marker-end='url(#arrow)' /><path d=\"M50.0 100 L 15 100\" stroke=\"black\" stroke-width=\"2px\" id='edge1'   /> <line x1=\"50.0\" y1=\"100\" x2=\"32.5\" y2=\"100.0\" stroke=\"black\" stroke-width=\"2px\"  id='edge1'   marker-end='url(#arrow)' />  </g> </svg></td><td><svg xmlns=\"http://www.w3.org/2000/svg\" xmlns:xlink=\"http://www.w3.org/1999/xlink\" version=\"1.1\" x=\"0\" y=\"0\" width=\"150\" height=\"130\">\n",
       "      <g fill=\"none\" stroke=\"black\" stroke-width=\"1.6\" stroke-linecap=\"round\" transform=\"rotate(0,75.0,65.0) \"> <defs><marker id=\"arrow\"  markerUnits=\"strokeWidth\" markerWidth='5' markerHeight='8' refX='0' refY='2' orient=\"auto\" stroke=\"black\" >\n",
       "                                      <path d=\"M0,0 V4 L2,2 Z\" style=\"fill: #000000;\" /> </marker>\n",
       "                                      <marker id=\"arrowgrey\"  markerUnits=\"strokeWidth\" markerWidth='5' markerHeight='8' refX='0' refY='2' orient=\"auto\" stroke=\"grey\" >\n",
       "                                      <path d=\"M0,0 V4 L2,2 Z\" style=\"fill: #000000;\" /> </marker>\n",
       "                                      <marker id=\"arroworange\"  markerUnits=\"strokeWidth\" markerWidth='5' markerHeight='8' refX='0' refY='2' orient=\"auto\" stroke=\"orange\" >\n",
       "                                      <path d=\"M0,0 V4 L2,2 Z\" style=\"fill: #000000;\" /> </marker>\n",
       "                                      </defs><circle cx=\"50.0\" cy=\"100\" r=\"2.5\" stroke=\"black\" stroke-width=\"2\" fill=\"black\" /> <path d=\"M85 100 L 50.0 100\" stroke=\"orange\" stroke-width=\"2px\" id='edge0'   /> <line x1=\"85\" y1=\"100\" x2=\"67.5\" y2=\"100.0\" stroke=\"orange\" stroke-width=\"2px\"  id='edge0'   marker-end='url(#arroworange)' /><path d=\"M50.0 100 L 15 100\" stroke=\"orange\" stroke-width=\"2px\" id='edge1'   /> <line x1=\"50.0\" y1=\"100\" x2=\"32.5\" y2=\"100.0\" stroke=\"orange\" stroke-width=\"2px\"  id='edge1'   marker-end='url(#arroworange)' />  </g> </svg></td><td><svg xmlns=\"http://www.w3.org/2000/svg\" xmlns:xlink=\"http://www.w3.org/1999/xlink\" version=\"1.1\" x=\"0\" y=\"0\" width=\"150\" height=\"130\">\n",
       "      <g fill=\"none\" stroke=\"black\" stroke-width=\"1.6\" stroke-linecap=\"round\" transform=\"rotate(0,75.0,65.0) \"> <defs><marker id=\"arrow\"  markerUnits=\"strokeWidth\" markerWidth='5' markerHeight='8' refX='0' refY='2' orient=\"auto\" stroke=\"black\" >\n",
       "                                      <path d=\"M0,0 V4 L2,2 Z\" style=\"fill: #000000;\" /> </marker>\n",
       "                                      <marker id=\"arrowgrey\"  markerUnits=\"strokeWidth\" markerWidth='5' markerHeight='8' refX='0' refY='2' orient=\"auto\" stroke=\"grey\" >\n",
       "                                      <path d=\"M0,0 V4 L2,2 Z\" style=\"fill: #000000;\" /> </marker>\n",
       "                                      <marker id=\"arroworange\"  markerUnits=\"strokeWidth\" markerWidth='5' markerHeight='8' refX='0' refY='2' orient=\"auto\" stroke=\"orange\" >\n",
       "                                      <path d=\"M0,0 V4 L2,2 Z\" style=\"fill: #000000;\" /> </marker>\n",
       "                                      </defs><circle cx=\"50.0\" cy=\"100\" r=\"2.5\" stroke=\"black\" stroke-width=\"2\" fill=\"black\" /> <path d=\"M85 100 L 50.0 100\" stroke=\"black\" stroke-width=\"2px\" id='edge0'   /> <line x1=\"85\" y1=\"100\" x2=\"67.5\" y2=\"100.0\" stroke=\"black\" stroke-width=\"2px\"  id='edge0'   marker-end='url(#arrow)' /><path d=\"M50.0 100 L 15 100\" stroke=\"orange\" stroke-width=\"2px\" id='edge1'   /> <line x1=\"50.0\" y1=\"100\" x2=\"32.5\" y2=\"100.0\" stroke=\"orange\" stroke-width=\"2px\"  id='edge1'   marker-end='url(#arroworange)' />  </g> </svg></td></tr><tr style='background:white'><td><svg xmlns=\"http://www.w3.org/2000/svg\" xmlns:xlink=\"http://www.w3.org/1999/xlink\" version=\"1.1\" x=\"0\" y=\"0\" width=\"150\" height=\"130\">\n",
       "      <g fill=\"none\" stroke=\"black\" stroke-width=\"1.6\" stroke-linecap=\"round\" transform=\"rotate(0,75.0,65.0) \"> <defs><marker id=\"arrow\"  markerUnits=\"strokeWidth\" markerWidth='5' markerHeight='8' refX='0' refY='2' orient=\"auto\" stroke=\"black\" >\n",
       "                                      <path d=\"M0,0 V4 L2,2 Z\" style=\"fill: #000000;\" /> </marker>\n",
       "                                      <marker id=\"arrowgrey\"  markerUnits=\"strokeWidth\" markerWidth='5' markerHeight='8' refX='0' refY='2' orient=\"auto\" stroke=\"grey\" >\n",
       "                                      <path d=\"M0,0 V4 L2,2 Z\" style=\"fill: #000000;\" /> </marker>\n",
       "                                      <marker id=\"arroworange\"  markerUnits=\"strokeWidth\" markerWidth='5' markerHeight='8' refX='0' refY='2' orient=\"auto\" stroke=\"orange\" >\n",
       "                                      <path d=\"M0,0 V4 L2,2 Z\" style=\"fill: #000000;\" /> </marker>\n",
       "                                      </defs><circle cx=\"50.0\" cy=\"100\" r=\"2.5\" stroke=\"black\" stroke-width=\"2\" fill=\"black\" /> <path d=\"M85 100 L 50.0 100\" stroke=\"black\" stroke-width=\"2px\" id='edge0'   /> <line x1=\"85\" y1=\"100\" x2=\"67.5\" y2=\"100.0\" stroke=\"black\" stroke-width=\"2px\"  id='edge0'   marker-end='url(#arrow)' /><path d=\"M50.0 100 L 15 100\" stroke=\"black\" stroke-width=\"2px\" id='edge1'   /> <line x1=\"50.0\" y1=\"100\" x2=\"32.5\" y2=\"100.0\" stroke=\"black\" stroke-width=\"2px\"  id='edge1'   marker-end='url(#arrow)' /><path d=\"M50.0 100 L 32 69\" stroke=\"black\" stroke-width=\"2px\" id='edge2'   /> <line x1=\"50.0\" y1=\"100\" x2=\"41.0\" y2=\"84.5\" stroke=\"black\" stroke-width=\"2px\"  id='edge2'   marker-end='url(#arrow)' />  </g> </svg></td><td><svg xmlns=\"http://www.w3.org/2000/svg\" xmlns:xlink=\"http://www.w3.org/1999/xlink\" version=\"1.1\" x=\"0\" y=\"0\" width=\"150\" height=\"130\">\n",
       "      <g fill=\"none\" stroke=\"black\" stroke-width=\"1.6\" stroke-linecap=\"round\" transform=\"rotate(0,75.0,65.0) \"> <defs><marker id=\"arrow\"  markerUnits=\"strokeWidth\" markerWidth='5' markerHeight='8' refX='0' refY='2' orient=\"auto\" stroke=\"black\" >\n",
       "                                      <path d=\"M0,0 V4 L2,2 Z\" style=\"fill: #000000;\" /> </marker>\n",
       "                                      <marker id=\"arrowgrey\"  markerUnits=\"strokeWidth\" markerWidth='5' markerHeight='8' refX='0' refY='2' orient=\"auto\" stroke=\"grey\" >\n",
       "                                      <path d=\"M0,0 V4 L2,2 Z\" style=\"fill: #000000;\" /> </marker>\n",
       "                                      <marker id=\"arroworange\"  markerUnits=\"strokeWidth\" markerWidth='5' markerHeight='8' refX='0' refY='2' orient=\"auto\" stroke=\"orange\" >\n",
       "                                      <path d=\"M0,0 V4 L2,2 Z\" style=\"fill: #000000;\" /> </marker>\n",
       "                                      </defs><circle cx=\"50.0\" cy=\"100\" r=\"2.5\" stroke=\"black\" stroke-width=\"2\" fill=\"black\" /> <path d=\"M85 100 L 50.0 100\" stroke=\"black\" stroke-width=\"2px\" id='edge0'   /> <line x1=\"85\" y1=\"100\" x2=\"67.5\" y2=\"100.0\" stroke=\"black\" stroke-width=\"2px\"  id='edge0'   marker-end='url(#arrow)' /><path d=\"M50.0 100 L 15 100\" stroke=\"black\" stroke-width=\"2px\" id='edge1'   /> <line x1=\"50.0\" y1=\"100\" x2=\"32.5\" y2=\"100.0\" stroke=\"black\" stroke-width=\"2px\"  id='edge1'   marker-end='url(#arrow)' /><path d=\"M50.0 100 L 32 69\" stroke=\"orange\" stroke-width=\"2px\" id='edge2'   /> <line x1=\"50.0\" y1=\"100\" x2=\"41.0\" y2=\"84.5\" stroke=\"orange\" stroke-width=\"2px\"  id='edge2'   marker-end='url(#arroworange)' />  </g> </svg></td><td><svg xmlns=\"http://www.w3.org/2000/svg\" xmlns:xlink=\"http://www.w3.org/1999/xlink\" version=\"1.1\" x=\"0\" y=\"0\" width=\"150\" height=\"130\">\n",
       "      <g fill=\"none\" stroke=\"black\" stroke-width=\"1.6\" stroke-linecap=\"round\" transform=\"rotate(0,75.0,65.0) \"> <defs><marker id=\"arrow\"  markerUnits=\"strokeWidth\" markerWidth='5' markerHeight='8' refX='0' refY='2' orient=\"auto\" stroke=\"black\" >\n",
       "                                      <path d=\"M0,0 V4 L2,2 Z\" style=\"fill: #000000;\" /> </marker>\n",
       "                                      <marker id=\"arrowgrey\"  markerUnits=\"strokeWidth\" markerWidth='5' markerHeight='8' refX='0' refY='2' orient=\"auto\" stroke=\"grey\" >\n",
       "                                      <path d=\"M0,0 V4 L2,2 Z\" style=\"fill: #000000;\" /> </marker>\n",
       "                                      <marker id=\"arroworange\"  markerUnits=\"strokeWidth\" markerWidth='5' markerHeight='8' refX='0' refY='2' orient=\"auto\" stroke=\"orange\" >\n",
       "                                      <path d=\"M0,0 V4 L2,2 Z\" style=\"fill: #000000;\" /> </marker>\n",
       "                                      </defs><circle cx=\"50.0\" cy=\"100\" r=\"2.5\" stroke=\"black\" stroke-width=\"2\" fill=\"black\" /> <path d=\"M85 100 L 50.0 100\" stroke=\"orange\" stroke-width=\"2px\" id='edge0'   /> <line x1=\"85\" y1=\"100\" x2=\"67.5\" y2=\"100.0\" stroke=\"orange\" stroke-width=\"2px\"  id='edge0'   marker-end='url(#arroworange)' /><path d=\"M67 130 L 50.0 100\" stroke=\"black\" stroke-width=\"2px\" id='edge1'   /> <line x1=\"67\" y1=\"130\" x2=\"58.5\" y2=\"115.0\" stroke=\"black\" stroke-width=\"2px\"  id='edge1'   marker-end='url(#arrow)' /><path d=\"M50.0 100 L 15 100\" stroke=\"orange\" stroke-width=\"2px\" id='edge2'   /> <line x1=\"50.0\" y1=\"100\" x2=\"32.5\" y2=\"100.0\" stroke=\"orange\" stroke-width=\"2px\"  id='edge2'   marker-end='url(#arroworange)' />  </g> </svg></td></tr><tr style='background:white'><td><svg xmlns=\"http://www.w3.org/2000/svg\" xmlns:xlink=\"http://www.w3.org/1999/xlink\" version=\"1.1\" x=\"0\" y=\"0\" width=\"150\" height=\"130\">\n",
       "      <g fill=\"none\" stroke=\"black\" stroke-width=\"1.6\" stroke-linecap=\"round\" transform=\"rotate(0,75.0,65.0) \"> <defs><marker id=\"arrow\"  markerUnits=\"strokeWidth\" markerWidth='5' markerHeight='8' refX='0' refY='2' orient=\"auto\" stroke=\"black\" >\n",
       "                                      <path d=\"M0,0 V4 L2,2 Z\" style=\"fill: #000000;\" /> </marker>\n",
       "                                      <marker id=\"arrowgrey\"  markerUnits=\"strokeWidth\" markerWidth='5' markerHeight='8' refX='0' refY='2' orient=\"auto\" stroke=\"grey\" >\n",
       "                                      <path d=\"M0,0 V4 L2,2 Z\" style=\"fill: #000000;\" /> </marker>\n",
       "                                      <marker id=\"arroworange\"  markerUnits=\"strokeWidth\" markerWidth='5' markerHeight='8' refX='0' refY='2' orient=\"auto\" stroke=\"orange\" >\n",
       "                                      <path d=\"M0,0 V4 L2,2 Z\" style=\"fill: #000000;\" /> </marker>\n",
       "                                      </defs><circle cx=\"50.0\" cy=\"100\" r=\"2.5\" stroke=\"black\" stroke-width=\"2\" fill=\"black\" /> <path d=\"M85 100 L 50.0 100\" stroke=\"black\" stroke-width=\"2px\" id='edge0'   /> <line x1=\"85\" y1=\"100\" x2=\"67.5\" y2=\"100.0\" stroke=\"black\" stroke-width=\"2px\"  id='edge0'   marker-end='url(#arrow)' /><path d=\"M67 130 L 50.0 100\" stroke=\"orange\" stroke-width=\"2px\" id='edge1'   /> <line x1=\"67\" y1=\"130\" x2=\"58.5\" y2=\"115.0\" stroke=\"orange\" stroke-width=\"2px\"  id='edge1'   marker-end='url(#arroworange)' /><path d=\"M50.0 100 L 15 100\" stroke=\"black\" stroke-width=\"2px\" id='edge2'   /> <line x1=\"50.0\" y1=\"100\" x2=\"32.5\" y2=\"100.0\" stroke=\"black\" stroke-width=\"2px\"  id='edge2'   marker-end='url(#arrow)' /><path d=\"M50.0 100 L 32 69\" stroke=\"orange\" stroke-width=\"2px\" id='edge3'   /> <line x1=\"50.0\" y1=\"100\" x2=\"41.0\" y2=\"84.5\" stroke=\"orange\" stroke-width=\"2px\"  id='edge3'   marker-end='url(#arroworange)' />  </g> </svg></td><td><svg xmlns=\"http://www.w3.org/2000/svg\" xmlns:xlink=\"http://www.w3.org/1999/xlink\" version=\"1.1\" x=\"0\" y=\"0\" width=\"150\" height=\"130\">\n",
       "      <g fill=\"none\" stroke=\"black\" stroke-width=\"1.6\" stroke-linecap=\"round\" transform=\"rotate(0,75.0,65.0) \"> <defs><marker id=\"arrow\"  markerUnits=\"strokeWidth\" markerWidth='5' markerHeight='8' refX='0' refY='2' orient=\"auto\" stroke=\"black\" >\n",
       "                                      <path d=\"M0,0 V4 L2,2 Z\" style=\"fill: #000000;\" /> </marker>\n",
       "                                      <marker id=\"arrowgrey\"  markerUnits=\"strokeWidth\" markerWidth='5' markerHeight='8' refX='0' refY='2' orient=\"auto\" stroke=\"grey\" >\n",
       "                                      <path d=\"M0,0 V4 L2,2 Z\" style=\"fill: #000000;\" /> </marker>\n",
       "                                      <marker id=\"arroworange\"  markerUnits=\"strokeWidth\" markerWidth='5' markerHeight='8' refX='0' refY='2' orient=\"auto\" stroke=\"orange\" >\n",
       "                                      <path d=\"M0,0 V4 L2,2 Z\" style=\"fill: #000000;\" /> </marker>\n",
       "                                      </defs><circle cx=\"50.0\" cy=\"100\" r=\"2.5\" stroke=\"black\" stroke-width=\"2\" fill=\"black\" /> <path d=\"M85 100 L 50.0 100\" stroke=\"orange\" stroke-width=\"2px\" id='edge0'   /> <line x1=\"85\" y1=\"100\" x2=\"67.5\" y2=\"100.0\" stroke=\"orange\" stroke-width=\"2px\"  id='edge0'   marker-end='url(#arroworange)' /><path d=\"M67 130 L 50.0 100\" stroke=\"black\" stroke-width=\"2px\" id='edge1'   /> <line x1=\"67\" y1=\"130\" x2=\"58.5\" y2=\"115.0\" stroke=\"black\" stroke-width=\"2px\"  id='edge1'   marker-end='url(#arrow)' /><path d=\"M50.0 100 L 15 100\" stroke=\"orange\" stroke-width=\"2px\" id='edge2'   /> <line x1=\"50.0\" y1=\"100\" x2=\"32.5\" y2=\"100.0\" stroke=\"orange\" stroke-width=\"2px\"  id='edge2'   marker-end='url(#arroworange)' /><path d=\"M50.0 100 L 32 69\" stroke=\"orange\" stroke-width=\"2px\" id='edge3'   /> <line x1=\"50.0\" y1=\"100\" x2=\"41.0\" y2=\"84.5\" stroke=\"orange\" stroke-width=\"2px\"  id='edge3'   marker-end='url(#arroworange)' />  </g> </svg></td><td><svg xmlns=\"http://www.w3.org/2000/svg\" xmlns:xlink=\"http://www.w3.org/1999/xlink\" version=\"1.1\" x=\"0\" y=\"0\" width=\"150\" height=\"130\">\n",
       "      <g fill=\"none\" stroke=\"black\" stroke-width=\"1.6\" stroke-linecap=\"round\" transform=\"rotate(0,75.0,65.0) \"> <defs><marker id=\"arrow\"  markerUnits=\"strokeWidth\" markerWidth='5' markerHeight='8' refX='0' refY='2' orient=\"auto\" stroke=\"black\" >\n",
       "                                      <path d=\"M0,0 V4 L2,2 Z\" style=\"fill: #000000;\" /> </marker>\n",
       "                                      <marker id=\"arrowgrey\"  markerUnits=\"strokeWidth\" markerWidth='5' markerHeight='8' refX='0' refY='2' orient=\"auto\" stroke=\"grey\" >\n",
       "                                      <path d=\"M0,0 V4 L2,2 Z\" style=\"fill: #000000;\" /> </marker>\n",
       "                                      <marker id=\"arroworange\"  markerUnits=\"strokeWidth\" markerWidth='5' markerHeight='8' refX='0' refY='2' orient=\"auto\" stroke=\"orange\" >\n",
       "                                      <path d=\"M0,0 V4 L2,2 Z\" style=\"fill: #000000;\" /> </marker>\n",
       "                                      </defs><circle cx=\"50.0\" cy=\"100\" r=\"2.5\" stroke=\"black\" stroke-width=\"2\" fill=\"black\" /> <path d=\"M85 100 L 50.0 100\" stroke=\"black\" stroke-width=\"2px\" id='edge0'   /> <line x1=\"85\" y1=\"100\" x2=\"67.5\" y2=\"100.0\" stroke=\"black\" stroke-width=\"2px\"  id='edge0'   marker-end='url(#arrow)' /><path d=\"M67 130 L 50.0 100\" stroke=\"orange\" stroke-width=\"2px\" id='edge1'   /> <line x1=\"67\" y1=\"130\" x2=\"58.5\" y2=\"115.0\" stroke=\"orange\" stroke-width=\"2px\"  id='edge1'   marker-end='url(#arroworange)' /><path d=\"M50.0 100 L 15 100\" stroke=\"black\" stroke-width=\"2px\" id='edge2'   /> <line x1=\"50.0\" y1=\"100\" x2=\"32.5\" y2=\"100.0\" stroke=\"black\" stroke-width=\"2px\"  id='edge2'   marker-end='url(#arrow)' /><path d=\"M50.0 100 L 25 75\" stroke=\"orange\" stroke-width=\"2px\" id='edge3'   /> <line x1=\"50.0\" y1=\"100\" x2=\"37.5\" y2=\"87.5\" stroke=\"orange\" stroke-width=\"2px\"  id='edge3'   marker-end='url(#arroworange)' /><path d=\"M50.0 100 L 49 65\" stroke=\"orange\" stroke-width=\"2px\" id='edge4'   /> <line x1=\"50.0\" y1=\"100\" x2=\"49.5\" y2=\"82.5\" stroke=\"orange\" stroke-width=\"2px\"  id='edge4'   marker-end='url(#arroworange)' />  </g> </svg></td></tr></table>"
      ],
      "text/plain": [
       "<rg.graph.viz.tabulate_graphs at 0x1446225a908>"
      ]
     },
     "execution_count": 2,
     "metadata": {},
     "output_type": "execute_result"
    }
   ],
   "source": [
    "BWS = [\n",
    "    incidence_matrix(edges=[[-1,0],[0,-1]], species_vector=[0,0]), #prop\n",
    "    incidence_matrix(edges=[[-1,0],[0,-1]], species_vector=[1,1]), #prob B\n",
    "    incidence_matrix(edges=[[-1,0],[0,-1]], species_vector=[0,1]), #trans    \n",
    "    incidence_matrix(edges=[[-1,0],[0,-1],[0,-1]], species_vector=[0,0,0]), #single particle branching\n",
    "    incidence_matrix(edges=[[-1,0],[0,-1],[0,-1]], species_vector=[0,0,1]), #quasi particle branching\n",
    "    incidence_matrix(edges=[[-1,0],[-1,0],[0,-1]], species_vector=[1,0,1]), #single particle branching\n",
    "    incidence_matrix(edges=[[-1,0],[-1,0],[0,-1],[0,-1]], species_vector=[0,1,0,1]), #single particle branching\n",
    "    \n",
    "    incidence_matrix(edges=[[-1,0],[-1,0],[0,-1],[0,-1]], species_vector=[1,0,1,1]), #single particle branching\n",
    "    #incidence_matrix(edges=[[-1,0],[0,-1],[0,-1],[0,-1]], species_vector=[1,1,0,1]), #single particle branching\n",
    "    incidence_matrix(edges=[[-1,0],[-1,0],[0,-1],[0,-1],[0,-1]], species_vector=[0,1,0,1,1]), #single particle branching\n",
    "    #incidence_matrix(edges=[[-1,0],[0,-1],[0,-1],[0,-1]], species_vector=[0,0,1,1]), #single particle branching\n",
    "]\n",
    "\n",
    "    \n",
    "tabulate_graphs(BWS, options={\"size\": (150,130), \"hide_vinfty\": True})"
   ]
  },
  {
   "cell_type": "code",
   "execution_count": 3,
   "metadata": {},
   "outputs": [],
   "source": [
    "# #create new primitive residues\n",
    "# primitives = BWS[2:]\n",
    "# existing_hases = [r.graph_hash() for r in primitives]\n",
    "# idx = list(range(len(primitives)))\n",
    "# mulfodder= [tup for tup in list(itertools.permutations(idx,2))]\n",
    "# def make(comb):return tuple(primitives[i] for i in comb)\n",
    "# uniqueones = {}\n",
    "# for m in mulfodder:\n",
    "#     res =list(perturbation._shuffle_(primitives[m[0]], primitives[m[1]], contract_tree_level=True))\n",
    "#     for r in res:   \n",
    "#         if r.is_tree and r.graph_hash() not in existing_hases and r.num_ex_edges < 4:\n",
    "#             uniqueones[r.graph_hash()] = r\n",
    "# tabulate_graphs(list(uniqueones.values()),diagram_class=debug_graph,options={\"size\": (150,130), \"hide_vinfty\": True})\n",
    "# primitives += list(uniqueones.values())"
   ]
  },
  {
   "cell_type": "code",
   "execution_count": null,
   "metadata": {},
   "outputs": [],
   "source": [
    "#tabulate_graphs(list(perturbation._shuffle_(*make([4,6]))))"
   ]
  },
  {
   "cell_type": "code",
   "execution_count": null,
   "metadata": {
    "collapsed": true
   },
   "outputs": [],
   "source": []
  },
  {
   "cell_type": "markdown",
   "metadata": {},
   "source": [
    "# Careful version of the algorithm - not fast"
   ]
  },
  {
   "cell_type": "code",
   "execution_count": null,
   "metadata": {},
   "outputs": [
    {
     "name": "stdout",
     "output_type": "stream",
     "text": [
      "7\n",
      "71 69\n"
     ]
    }
   ],
   "source": [
    "def merge_set(p,q):\n",
    "    d = {}\n",
    "    for _p in p:\n",
    "        h = _p.graph_hash() \n",
    "        if h not in d: d[h] = _p\n",
    "    for _q in q:\n",
    "        h = _q.graph_hash() \n",
    "        if h not in d: d[h] = _q\n",
    "    return list(d.values())\n",
    "\n",
    "primitives = BWS[2:]\n",
    "print(len(primitives))\n",
    "l = list(pt.binary_combinations(primitives))\n",
    "l=pt.iso_reduce(l+ primitives)\n",
    "d = pt.sep_loops(l)\n",
    "primitives = merge_set(primitives, d[\"primitives\"])\n",
    "\n",
    "loops_found = []\n",
    "for i in range (3,5):\n",
    "    l_ = list(pt.binary_combinations(l, left_right_restriction=(2,i)))\n",
    "    d = pt.sep_loops(l_)\n",
    "    loops_found += d[1]\n",
    "    primitives = merge_set(primitives, d[\"primitives\"])\n",
    "    l_=pt.iso_reduce(l_+ primitives)\n",
    "    l = merge_set(l,l_)\n",
    "    print(len(l),len(l_))\n",
    "d = pt.sep_loops(l)  "
   ]
  },
  {
   "cell_type": "code",
   "execution_count": null,
   "metadata": {},
   "outputs": [],
   "source": [
    "tabulate_graphs(d[\"loops\"],options={\"size\": (350,130), \"hide_vinfty\": True},max_split=3,diagram_class=simple_ring_graph)"
   ]
  },
  {
   "cell_type": "code",
   "execution_count": null,
   "metadata": {},
   "outputs": [],
   "source": [
    "tabulate_graphs(d[\"loops\"],options={\"size\": (350,130), \"hide_vinfty\": True},max_split=3,diagram_class=debug_graph)"
   ]
  },
  {
   "cell_type": "code",
   "execution_count": null,
   "metadata": {
    "collapsed": true
   },
   "outputs": [],
   "source": [
    "\n",
    "idx = list(range(len(primitives)))\n",
    "mulfodder= [tup for tup in list(itertools.permutations(idx,4))]\n",
    "def make(comb): return tuple(primitives[i] for i in comb)\n",
    "len(primitives), len(mulfodder)\n",
    "#tabulate_graphs(primitives)"
   ]
  },
  {
   "cell_type": "code",
   "execution_count": null,
   "metadata": {
    "collapsed": true
   },
   "outputs": [],
   "source": [
    "tabulate_graphs(list(perturbation._shuffle_(*make([3,7]))),diagram_class= simple_ring_graph)"
   ]
  },
  {
   "cell_type": "code",
   "execution_count": null,
   "metadata": {},
   "outputs": [],
   "source": [
    "tabulate_graphs([r for r in perturbation.brute_mul_hack(make([3,7]))])"
   ]
  },
  {
   "cell_type": "code",
   "execution_count": null,
   "metadata": {
    "collapsed": true
   },
   "outputs": [],
   "source": [
    "d[1][0].loop_hash()"
   ]
  },
  {
   "cell_type": "code",
   "execution_count": null,
   "metadata": {},
   "outputs": [],
   "source": [
    "#the principle is sound - make sure if the full set of primtives and then combine in all possible ways\n",
    "#there are still some diagrams that I do not think are accessible but for now I want to work on loop hash and grouping\n",
    "uniqueones = {}\n",
    "col = []\n",
    "for c in [2]:\n",
    "    mulfodder= [tup for tup in list(itertools.permutations(idx,c))]\n",
    "\n",
    "    def make(comb): return tuple(primitives[i] for i in comb)\n",
    "\n",
    "    for i, base in enumerate(mulfodder):\n",
    "        for r in perturbation.brute_mul_hack(make(base)):\n",
    "            if r.first_betti_number == 1 and r.bridge_count == 0:\n",
    "                uniqueones[r.graph_hash()] = r\n",
    "                col.append(r)\n",
    "        print(c, i, base)"
   ]
  },
  {
   "cell_type": "code",
   "execution_count": null,
   "metadata": {
    "collapsed": true
   },
   "outputs": [],
   "source": [
    "col = list(uniqueones.values())"
   ]
  },
  {
   "cell_type": "code",
   "execution_count": null,
   "metadata": {},
   "outputs": [],
   "source": [
    "len(col)"
   ]
  },
  {
   "cell_type": "code",
   "execution_count": null,
   "metadata": {},
   "outputs": [],
   "source": [
    "tabulate_graphs(col, diagram_class=simple_ring_graph)"
   ]
  },
  {
   "cell_type": "code",
   "execution_count": null,
   "metadata": {
    "collapsed": true
   },
   "outputs": [],
   "source": [
    "col = load_graph_collection(\"test_xprims.txt\", True)"
   ]
  },
  {
   "cell_type": "code",
   "execution_count": null,
   "metadata": {
    "scrolled": false
   },
   "outputs": [],
   "source": [
    "import os\n",
    "def _edge_data_(self): \n",
    "    vinf = self.shape[0] - 1\n",
    "    def map_inf(e):\n",
    "        return [\n",
    "            e[0] if e[0] != vinf else -1,\n",
    "            e[1] if e[1] != vinf else -1,\n",
    "        ]\n",
    "    v = np.array([map_inf(self.directed_edge_as_vertices(e)) for e in range(self.shape[-1])])\n",
    "    w =np.array(self.species_vector).reshape(len(self.species_vector),1)\n",
    "    return np.hstack([v,w])  \n",
    "\n",
    "def save_graph_collection(col, file):\n",
    "    with open(file, \"w\") as f:\n",
    "        for s in col: \n",
    "            f.write(str(_edge_data_(s).tolist())+ os.linesep)\n",
    "                 \n",
    "def convergent_diagrams_and_loops(col):\n",
    "    \"\"\"\n",
    "    plot these with\n",
    "    \n",
    "    tabulate_graphs([loops[k][\"graph\"] for k in keys], diagram_class=simple_ring_graph)\n",
    "    \n",
    "    \"\"\"\n",
    "    convergent_diags = [c for c in col if c.num_ex_edges < 5]\n",
    "    loops = {}\n",
    "    for c in convergent_diags:   \n",
    "        lh = c.loop_hash()\n",
    "        if lh not in loops: loops[lh] = { \"graph\" : c.loop_part, \"counter\" : 0 }\n",
    "        loops[lh][\"counter\"] += 1\n",
    "    \n",
    "    keys = list(loops.keys())   \n",
    "    \n",
    "    return convergent_diags, loops, keys\n",
    "    \n",
    "cv, loops, keys=  convergent_diagrams_and_loops(col)    \n",
    "\n",
    "tabulate_graphs(cv, diagram_class=debug_graph, options={\"size\": (350,130), \"hide_vinfty\": True}, max_split=3)"
   ]
  },
  {
   "cell_type": "code",
   "execution_count": null,
   "metadata": {},
   "outputs": [],
   "source": [
    "#save_graph_collection(col, \"test_xprims.txt\")\n",
    "#all graphs are different in debug graph so loop has may well be correct\n",
    "tabulate_graphs([loops[k][\"graph\"] for k in keys], diagram_class=debug_graph)"
   ]
  },
  {
   "cell_type": "code",
   "execution_count": null,
   "metadata": {
    "collapsed": true
   },
   "outputs": [],
   "source": [
    "#TODO - produce all new tree level residues\n",
    "#I4 from the prim\n",
    "# PSP0 =list(perturbation._shuffle_(primitives[3], primitives[0], contract_tree_level=True))\n",
    "# tabulate_graphs(PSP0, diagram_class=debug_graph)\n",
    "# A = list(perturbation._shuffle_(primitives[2], primitives[1], contract_tree_level=False))\n",
    "# tabulate_graphs(A, diagram_class=debug_graph)\n",
    "# B = list(perturbation._shuffle_(PSP0[0], A[0], contract_tree_level=False))\n",
    "# tabulate_graphs(B[0:], diagram_class=simple_ring_graph)\n",
    "\n",
    "# res =list(perturbation._shuffle_(primitives[4], primitives[1], contract_tree_level=False))\n",
    "# tabulate_graphs(res, diagram_class=debug_graph)\n",
    "# res =list(perturbation._shuffle_(primitives[3], res[0], contract_tree_level=False))\n",
    "# tabulate_graphs(res, diagram_class=simple_ring_graph)\n",
    "\n",
    "#I10: need to fix the drawing to chain things properly for one up one down\n",
    "res =list(perturbation._shuffle_(primitives[1], primitives[1], contract_tree_level=False))\n",
    "tabulate_graphs(res, diagram_class=debug_graph)\n",
    "res =list(perturbation._shuffle_(primitives[0], res[0], contract_tree_level=False))\n",
    "tabulate_graphs(res, diagram_class=debug_graph)\n",
    "res =list(perturbation._shuffle_(primitives[3], res[0], contract_tree_level=False))\n",
    "tabulate_graphs(res, diagram_class=debug_graph)\n",
    "#tabulate_graphs(res, diagram_class=simple_ring_graph)\n",
    "\n",
    "#res =list(perturbation._shuffle_(primitives[1], primitives[1], contract_tree_level=False))"
   ]
  },
  {
   "cell_type": "code",
   "execution_count": null,
   "metadata": {
    "collapsed": true
   },
   "outputs": [],
   "source": [
    "def apply_same_species_contractions(self):\n",
    "    \n",
    "    \n",
    "    \"\"\"And edge pair that pass through a 2 valent node and are the same species must be contracted\n",
    "       does is done after d_product and not in general as maybe it is desired for some reason in the theory\n",
    "       For now i can get away with doing this because I will just create all primtives with contractions \n",
    "    \"\"\"\n",
    "    #find two valent nodes\n",
    "    #find all edges that are passing through it and are the same species\n",
    "    #contract them by deleting one of them and their species entries and update the first one to terminate were the second one terminated\n",
    "    \n",
    "    #filter incidence matrix for 2-valent\n",
    "    \n",
    "    #for each one, constuct and edge from the inclding and outcoming covertices\n",
    "    #yield the old edges to delete and the new edge to replace\n",
    "    pass\n",
    "\n"
   ]
  },
  {
   "cell_type": "code",
   "execution_count": null,
   "metadata": {
    "collapsed": true
   },
   "outputs": [],
   "source": [
    "#I2#res =list(perturbation._shuffle_(primitives[3], primitives[2], contract_tree_level=False))\n",
    "res =list(perturbation._shuffle_(primitives[0], primitives[1], contract_tree_level=False))\n",
    "res =list(perturbation._shuffle_(primitives[3], res[0], contract_tree_level=False))\n",
    "I2 = [res[-1]]\n",
    "tabulate_graphs(I2, diagram_class=debug_graph)"
   ]
  },
  {
   "cell_type": "code",
   "execution_count": null,
   "metadata": {
    "collapsed": true
   },
   "outputs": [],
   "source": [
    "tabulate_graphs(I2, diagram_class=simple_ring_graph)"
   ]
  },
  {
   "cell_type": "code",
   "execution_count": null,
   "metadata": {
    "collapsed": true
   },
   "outputs": [],
   "source": [
    "#tabulate_graphs([primitives[-2], primitives[-1]])"
   ]
  },
  {
   "cell_type": "code",
   "execution_count": null,
   "metadata": {
    "collapsed": true
   },
   "outputs": [],
   "source": [
    "res =list(perturbation._shuffle_(primitives[-2], primitives[-1]))\n",
    "tabulate_graphs(res)"
   ]
  },
  {
   "cell_type": "markdown",
   "metadata": {},
   "source": [
    "# The 10 manually"
   ]
  },
  {
   "cell_type": "code",
   "execution_count": null,
   "metadata": {
    "collapsed": true
   },
   "outputs": [],
   "source": [
    "\n",
    "idx = list(range(len(primitives)))\n",
    "mulfodder= [tup for tup in list(itertools.permutations(idx,4))]\n",
    "def make(comb): return tuple(primitives[i] for i in comb)"
   ]
  },
  {
   "cell_type": "code",
   "execution_count": null,
   "metadata": {
    "collapsed": true
   },
   "outputs": [],
   "source": [
    "base = [3,0,4,1]\n",
    "tabulate_graphs([primitives[i] for i in base])"
   ]
  },
  {
   "cell_type": "code",
   "execution_count": null,
   "metadata": {
    "collapsed": true
   },
   "outputs": [],
   "source": []
  },
  {
   "cell_type": "code",
   "execution_count": null,
   "metadata": {
    "collapsed": true
   },
   "outputs": [],
   "source": [
    "uniqueones = {}\n",
    "for r in perturbation.brute_mul(*make(base)):uniqueones[r.graph_hash()] = r\n",
    "tabulate_graphs(list(uniqueones.values()),diagram_class=simple_ring_graph)"
   ]
  },
  {
   "cell_type": "code",
   "execution_count": null,
   "metadata": {
    "collapsed": true
   },
   "outputs": [],
   "source": [
    "# class simple_ring_graph(ring_diagram):\n",
    "#     \"\"\"\n",
    "#     example\n",
    "#     B = incidence_matrix(edges= [ [-1,3], [-1,3],[3,0],[3,1],[-1,1],[1,2],[2,0],[0,-1]],  species_vector=[0,1,0,1,0,0,0,0])\n",
    "#     \"\"\"\n",
    "#     def __init__(self,inc, options={}):\n",
    "#         self.body=\"\"\n",
    "#         self._dashed_edges = []\n",
    "#         self._is_directed=True\n",
    "#         self.sz = inc.shape[0] - 1\n",
    "#         self._center = (100,100)\n",
    "#         self._size = (200,200)\n",
    "#         self._radius=50\n",
    "#         self.locations = []\n",
    "#         self._inc = inc\n",
    "\n",
    "#         locs = [0,180]\n",
    "#         if self.sz == 3:locs = [0,90,180]\n",
    "#         if self.sz == 4:locs = [0,45,135,180]\n",
    "            \n",
    "#         #TODO sort incidence matrix so that one loop vertices form a chain\n",
    "#         #this makes this very specific drawing utility a little more general\n",
    "        \n",
    "#         for v in range(self.sz):\n",
    "#             s= inc.get_star(v)\n",
    "#             ex,ex_dirs = [],[]\n",
    "#             #determine the edge that connects me to the next vertex by an incoming\n",
    "#             #if i am the last then determine the edge that goes from me to the first          \n",
    "#             e = 0\n",
    "#             if v +1 < self.sz:#entering from the next _ I AM TRUSTING A VERTEX ORDERING HERE DUE TO PRODUCTS WHICH IS NOT GOOD IN GENERAL\n",
    "#                 e = s[np.where((s[:,1]==1) & (s[:,-1]==v+1))][:,0][0]\n",
    "#             else:#leaving for the first\n",
    "#                 e = s[np.where((s[:,1]==-1) & (s[:,-1]==0))][:,0][0]\n",
    "#             if len(np.where(s[:,-1]==-1)[0]) > 0:#if has externals added the data\n",
    "#                 ex = list(s[np.where(s[:,-1]==-1)[0]][:,0])\n",
    "#                 ex_dirs = list(s[np.where(s[:,-1]==-1)[0]][:,1])   \n",
    "#             self.locations.append([locs[v], e, ex,ex_dirs])\n",
    "        \n",
    "#     def star_at(self, angle, out_edges=[], out_dirs = []):\n",
    "#         pt= self.__polarToCartesian__(angle, self._radius, self._center) [:2] \n",
    "#         self.body+= \"\"\"<circle cx=\"{0}\" cy=\"{1}\" r=\"2.5\" stroke=\"black\" stroke-width=\"2\" fill=\"black\" /> \"\"\".format(*pt)     \n",
    "#         if len(out_edges) == 0:return\n",
    "#         angles = [angle]\n",
    "#         if len(out_edges) == 2: angles = [angle-20, angle+20]\n",
    "#         if len(out_edges) == 3: angles = [angle-35, angle, angle+35]     \n",
    "#         #print(angles,out_dirs)\n",
    "#         for i, a in enumerate(angles):     \n",
    "#             pta = self.__polarToCartesian__(a, 30, pt)[:2]\n",
    "#             if out_dirs[i] == -1: self.body +=self.get_line((*pt, *pta ), pid=out_edges[i] )\n",
    "#             else: self.body +=self.get_line((*pta, *pt ), pid=out_edges[i] )\n",
    "                \n",
    "#     def __display__(self, ):            \n",
    "#         marker_style = arc.get_header()\n",
    "#         self.body += marker_style\n",
    "#         loc = self.locations\n",
    "#         for i, l in enumerate(loc):\n",
    "#             nexti = (i + 1) % len(loc)\n",
    "#             end = loc[nexti][0] if loc[nexti][0] != 0 else 360\n",
    "#             if end == 360: \n",
    "#                 self.body += self.__describeArc__( l[0],end, radius=self._radius, pid=l[1])\n",
    "#             else:  self.body += self.__describeArc__(end,l[0],  radius=self._radius, pid=l[1])\n",
    "#             self.star_at(l[0], l[-2], l[-1])\n",
    "        \n",
    "#         rotation = -90\n",
    "#         return  \"\"\"<svg xmlns=\"http://www.w3.org/2000/svg\" xmlns:xlink=\"http://www.w3.org/1999/xlink\" version=\"1.1\" x=\"{1}\" y=\"{2}\" width=\"{3}\" height=\"{4}\">\n",
    "#           <g fill=\"none\" stroke=\"black\" stroke-width=\"1.6\" stroke-linecap=\"round\" transform=\"rotate({5},100,100)\"> {0}  </g> </svg>\"\"\".format(self.body,  10, 10, 200,200 ,rotation)\n",
    "    \n",
    "#     def _repr_html_(self): return self.__display__()\n",
    "    \n",
    "# #l = list(uniqueones.values())\n",
    "# #simple_ring_graph( l[1] )"
   ]
  },
  {
   "cell_type": "code",
   "execution_count": null,
   "metadata": {
    "collapsed": true
   },
   "outputs": [],
   "source": [
    "tabulate_graphs(list(uniqueones.values()),diagram_class=simple_ring_graph)"
   ]
  },
  {
   "cell_type": "markdown",
   "metadata": {},
   "source": [
    "## Generate combos of primitives"
   ]
  },
  {
   "cell_type": "code",
   "execution_count": null,
   "metadata": {
    "collapsed": true
   },
   "outputs": [],
   "source": [
    "uniqueones = {}\n",
    "comb = [6,1,5,3]\n",
    "comb = mulfodder[200]\n",
    "print(comb)\n",
    "A,B,C,D =tuple(BWS[i] for i in comb)"
   ]
  },
  {
   "cell_type": "code",
   "execution_count": null,
   "metadata": {
    "collapsed": true,
    "scrolled": false
   },
   "outputs": [],
   "source": [
    "# for i, c in enumerate(mulfodder):\n",
    "#     A,B,C,D =tuple(BWS[i] for i in c)\n",
    "#     for r in brute_mul(A,B,C,D):\n",
    "#         uniqueones[r.graph_hash()] = r\n",
    "#     if i % 50 == 0: print(i)"
   ]
  },
  {
   "cell_type": "code",
   "execution_count": null,
   "metadata": {
    "collapsed": true
   },
   "outputs": [],
   "source": [
    "#problem with loops hash and possible drawing colours which is a related problem because it requires understanding the distinct loop\n",
    "#function colour edges from incidence matrix which can be used to construct the residual and the loop part\n",
    "#then we can draw just those parts\n",
    "#compute the symmetry factor of the graph\n",
    "#plot the symmetry factor in the center\n",
    "#graph saving function\n",
    "#RISKS - The graph hash might not be right, performance is terrible, closure using shuffle product? (I think we are ok on most of these but lets see if anything is missing)\n",
    "#smaller drawing with numbers on the corners"
   ]
  },
  {
   "cell_type": "code",
   "execution_count": null,
   "metadata": {
    "collapsed": true
   },
   "outputs": [],
   "source": [
    "\n",
    "#save_graph_collection(sv, \"test.out\")\n",
    "col = load_graph_collection(\"test.out\",  True)\n",
    "col[0]"
   ]
  },
  {
   "cell_type": "code",
   "execution_count": null,
   "metadata": {
    "collapsed": true
   },
   "outputs": [],
   "source": [
    "simple_ring_graph(col[0])"
   ]
  },
  {
   "cell_type": "code",
   "execution_count": null,
   "metadata": {
    "collapsed": true
   },
   "outputs": [],
   "source": [
    "lp = col[0].loop_part\n",
    "simple_ring_graph(lp)"
   ]
  },
  {
   "cell_type": "code",
   "execution_count": null,
   "metadata": {
    "collapsed": true
   },
   "outputs": [],
   "source": [
    "res = col[0].residue_part\n",
    "np.where(res.sum(axis=1) != 0)[0]\n",
    "debug_graph(res)"
   ]
  },
  {
   "cell_type": "code",
   "execution_count": null,
   "metadata": {
    "collapsed": true
   },
   "outputs": [],
   "source": []
  },
  {
   "cell_type": "code",
   "execution_count": null,
   "metadata": {
    "collapsed": true
   },
   "outputs": [],
   "source": [
    "#MAKE convergent diagrams e.g. those that have less than 5 external legs which is a property on incidence matrix\n",
    "\n",
    "convergent_diags = [c for c in col if c.num_ex_edges < 5]\n",
    "len(convergent_diags)\n",
    "\n",
    "loops = {}\n",
    "#for c in col:\n",
    "for c in convergent_diags:   \n",
    "    lh = c.loop_hash()\n",
    "    if lh not in loops: loops[lh] = { \"graph\" : c.loop_part, \"counter\" : 0 }\n",
    "    loops[lh][\"counter\"] += 1\n",
    "keys = list(loops.keys())    "
   ]
  },
  {
   "cell_type": "code",
   "execution_count": null,
   "metadata": {
    "collapsed": true
   },
   "outputs": [],
   "source": [
    "# import pandas as pd\n",
    "# pd.DataFrame(list(loops.keys()), columns=[\"key\"]).sort_values(\"key\")"
   ]
  },
  {
   "cell_type": "code",
   "execution_count": null,
   "metadata": {
    "collapsed": true
   },
   "outputs": [],
   "source": [
    "tabulate_graphs([loops[k][\"graph\"] for k in keys], diagram_class=simple_ring_graph)"
   ]
  },
  {
   "cell_type": "code",
   "execution_count": null,
   "metadata": {
    "collapsed": true
   },
   "outputs": [],
   "source": [
    "simple_ring_graph(convergent_diags[7])"
   ]
  },
  {
   "cell_type": "code",
   "execution_count": null,
   "metadata": {
    "collapsed": true
   },
   "outputs": [],
   "source": [
    "debug_graph(convergent_diags[7])"
   ]
  },
  {
   "cell_type": "code",
   "execution_count": null,
   "metadata": {
    "collapsed": true,
    "scrolled": false
   },
   "outputs": [],
   "source": [
    "#tabulate_graphs(col, diagram_class=simple_ring_graph)\n",
    "tabulate_graphs(convergent_diags, diagram_class=simple_ring_graph)"
   ]
  },
  {
   "cell_type": "code",
   "execution_count": null,
   "metadata": {
    "collapsed": true
   },
   "outputs": [],
   "source": [
    "# import itertools \n",
    "# def graph_admissable(g, L):\n",
    "#     loops = g.first_betti_number\n",
    "#     if loops > L:return False\n",
    "#     #allow brudges only at tree level\n",
    "#     if loops > 0 and g.bridge_count  > 1: return False\n",
    "#     return True\n",
    "\n",
    "# def graph_exists(l,g):\n",
    "#     for _g in l:\n",
    "#         if _g.__mul_hash__() == g.__mul_hash__(): return True\n",
    "#     return False\n",
    "    \n",
    "# def update_set(G=[], newguys = [], L=1): \n",
    "#     mulfodder= [tup for tup in list(itertools.permutations(G,2))]\n",
    "#     for m in mulfodder:\n",
    "#         for s in incidence_matrix.shuffle(*m):\n",
    "#             if s != (0,0): #the null case     \n",
    "#                 g = m[0].dprod(m[1],species_chord_set=s)\n",
    "#                 if not graph_admissable(g,L=L):continue\n",
    "#                 if not graph_exists(newguys,g):newguys.append(g)\n",
    "#     return newguys\n",
    "\n",
    "# L = 1\n",
    "# primitives = BWS[2:]    \n",
    "# newguys = []\n",
    "# newguys=update_set(primitives,newguys)\n",
    "\n",
    "# for p in primitives:\n",
    "#     for q in newguys:\n",
    "#         for s in incidence_matrix.shuffle(p,q):\n",
    "#             if s != (0,0): #the null case     \n",
    "#                 g = p.dprod(q,species_chord_set=s)\n",
    "#                 if not graph_admissable(g,L=L):continue\n",
    "#                 if not graph_exists(newguys,g):\n",
    "#                     newguys.append(g)\n",
    "#                     print(len(newguys))\n"
   ]
  },
  {
   "cell_type": "markdown",
   "metadata": {},
   "source": [
    "# TODO\n",
    "\n",
    "For BWS make sure we can produce all diagrams"
   ]
  },
  {
   "cell_type": "markdown",
   "metadata": {},
   "source": [
    "## Loop hash which does not care about residuals"
   ]
  },
  {
   "cell_type": "code",
   "execution_count": null,
   "metadata": {
    "collapsed": true
   },
   "outputs": [],
   "source": []
  },
  {
   "cell_type": "code",
   "execution_count": null,
   "metadata": {
    "collapsed": true
   },
   "outputs": [],
   "source": []
  },
  {
   "cell_type": "markdown",
   "metadata": {},
   "source": [
    "## Other option\n",
    "We can create all products of all *combinations* of 4 vertices which we know to suffice due to dimensional analysis - because "
   ]
  },
  {
   "cell_type": "code",
   "execution_count": null,
   "metadata": {
    "collapsed": true
   },
   "outputs": [],
   "source": [
    "#create all 4-sequences and do a fold-left reduction "
   ]
  },
  {
   "cell_type": "markdown",
   "metadata": {},
   "source": [
    "## Draw the loops"
   ]
  },
  {
   "cell_type": "code",
   "execution_count": null,
   "metadata": {
    "collapsed": true
   },
   "outputs": [],
   "source": []
  },
  {
   "cell_type": "code",
   "execution_count": null,
   "metadata": {
    "collapsed": true,
    "scrolled": false
   },
   "outputs": [],
   "source": [
    "new_guys_with_loops = [n for n in newguys if n.first_betti_number > 0]\n",
    "tabulate_graphs(new_guys_with_loops, diagram_class=simple_ring_graph, options={\"size\": (300,150), \"hide_vinfty\": True}, max_split=5)"
   ]
  },
  {
   "cell_type": "code",
   "execution_count": null,
   "metadata": {
    "collapsed": true
   },
   "outputs": [],
   "source": [
    "#create a grid for the number of vertices, bridges and loop in each object\n",
    "import pandas as pd\n",
    "pd.DataFrame([[g.bridge_count, g.first_betti_number, g._num_internal_edges, g.shape[0]-1, g.shape[-1]-g._num_internal_edges] for g in newguys], \n",
    "             columns=[\"bridges\", \"loops\", \"internal_edges\", \"vertices\", \"ex_edges\"]).sort_values(\"loops\", ascending=False)\n"
   ]
  },
  {
   "cell_type": "code",
   "execution_count": null,
   "metadata": {
    "collapsed": true
   },
   "outputs": [],
   "source": []
  },
  {
   "cell_type": "markdown",
   "metadata": {},
   "source": [
    "## BWS primitives and maybe some other examples"
   ]
  },
  {
   "cell_type": "code",
   "execution_count": null,
   "metadata": {
    "collapsed": true
   },
   "outputs": [],
   "source": [
    "branching = incidence_matrix(edges=[[-1,0],[0,-1],[0,-1]])\n",
    "s = debug_graph(branching)\n",
    "s"
   ]
  },
  {
   "cell_type": "code",
   "execution_count": null,
   "metadata": {
    "collapsed": true
   },
   "outputs": [],
   "source": [
    "coag = incidence_matrix(edges=[[-1,0],[-1,0],[0,-1]], species_vector=[0,1,0])\n",
    "debug_graph(coag)"
   ]
  },
  {
   "cell_type": "code",
   "execution_count": null,
   "metadata": {
    "collapsed": true
   },
   "outputs": [],
   "source": [
    "coag.species_vector"
   ]
  },
  {
   "cell_type": "code",
   "execution_count": null,
   "metadata": {
    "collapsed": true
   },
   "outputs": [],
   "source": [
    "shuf = incidence_matrix.shuffle(coag,branching)\n",
    "res = coag.dprod(branching,species_chord_set=shuf[-1])\n",
    "debug_graph(res)"
   ]
  },
  {
   "cell_type": "code",
   "execution_count": null,
   "metadata": {
    "collapsed": true
   },
   "outputs": [],
   "source": [
    "shuf = incidence_matrix.shuffle(branching,coag)\n",
    "res = branching.dprod(coag,species_chord_set=shuf[-1])\n",
    "debug_graph(res)"
   ]
  },
  {
   "cell_type": "code",
   "execution_count": null,
   "metadata": {
    "collapsed": true
   },
   "outputs": [],
   "source": [
    "res"
   ]
  },
  {
   "cell_type": "code",
   "execution_count": null,
   "metadata": {
    "collapsed": true
   },
   "outputs": [],
   "source": [
    "shuf = incidence_matrix.shuffle(coag,res)\n",
    "print(shuf[-1])\n",
    "res2 = coag.dprod(res,species_chord_set=shuf[-1])\n",
    "debug_graph(res2)"
   ]
  },
  {
   "cell_type": "code",
   "execution_count": null,
   "metadata": {
    "collapsed": true
   },
   "outputs": [],
   "source": []
  },
  {
   "cell_type": "code",
   "execution_count": null,
   "metadata": {
    "collapsed": true
   },
   "outputs": [],
   "source": [
    "#i thin the trick is to check new 1 particular ir graphs (happly add them all but...)\n",
    "#if none of the new 1P1 graphs (which excludes new tree levels) are within L then terminate\n",
    "#any internal edge that is not in a circuit is a bridge i.e any edge that is in all spanning trees\n",
    "\n",
    "#Get the generators and create vertices - maybe add something\n",
    "#Have a look at them in a table - todo, better drawing\n",
    "#for each pair, tabulate the shuffle product in round 1 - keep track of the new ones that are within : rule is it must add a new residual not just a new stick end\n",
    "#for each new one, tabulate shuffle product with all existing - repeat until no new ones\n",
    "#the question of loop topology hash... "
   ]
  },
  {
   "cell_type": "code",
   "execution_count": null,
   "metadata": {
    "collapsed": true
   },
   "outputs": [],
   "source": [
    "sunset = incidence_matrix(edges=[ [0,1], [1,0], [0,1], [0,-1], [-1,1] ])\n",
    "set_source_sink_flow(sunset)\n",
    "ring_diagram(sunset)"
   ]
  },
  {
   "cell_type": "code",
   "execution_count": null,
   "metadata": {
    "collapsed": true
   },
   "outputs": [],
   "source": [
    "A = incidence_matrix(edges= [ [0,-1],  [0,-1], [-1,0], [-1,0]] ,species_vector=[4,4,4,3])\n",
    "ring_diagram(A, options={\"add_rotation\":-30})"
   ]
  },
  {
   "cell_type": "code",
   "execution_count": null,
   "metadata": {
    "collapsed": true
   },
   "outputs": [],
   "source": [
    "C = incidence_matrix(edges= [ [0,-1],  [0,-1], [-1,0]] )\n",
    "ring_diagram(A, options={\"add_rotation\":0})"
   ]
  },
  {
   "cell_type": "code",
   "execution_count": null,
   "metadata": {
    "collapsed": true
   },
   "outputs": [],
   "source": [
    "ring_diagram(A.dprod(C))"
   ]
  },
  {
   "cell_type": "code",
   "execution_count": null,
   "metadata": {
    "collapsed": true
   },
   "outputs": [],
   "source": [
    "ring_diagram(A.dprod(A))"
   ]
  },
  {
   "cell_type": "code",
   "execution_count": null,
   "metadata": {
    "collapsed": true
   },
   "outputs": [],
   "source": [
    "B = incidence_matrix(edges= [ [-1,0],  [-1,0], [0,1], [-1,1], [1,-1],[1,-1], [1,2], [2,-1]] )"
   ]
  },
  {
   "cell_type": "code",
   "execution_count": null,
   "metadata": {
    "collapsed": true
   },
   "outputs": [],
   "source": [
    "#should use this when there are no loops\n",
    "star(B, options={\"extra_rotation\":0})"
   ]
  },
  {
   "cell_type": "code",
   "execution_count": null,
   "metadata": {
    "collapsed": true
   },
   "outputs": [],
   "source": [
    "A.residual(exiting=False)"
   ]
  },
  {
   "cell_type": "code",
   "execution_count": null,
   "metadata": {
    "collapsed": true
   },
   "outputs": [],
   "source": [
    "G=_prod_(A, A)\n",
    "G      "
   ]
  },
  {
   "cell_type": "code",
   "execution_count": null,
   "metadata": {
    "collapsed": true
   },
   "outputs": [],
   "source": [
    "\n",
    "ring_diagram(G)"
   ]
  },
  {
   "cell_type": "code",
   "execution_count": null,
   "metadata": {
    "collapsed": true
   },
   "outputs": [],
   "source": [
    "\n",
    "            \n",
    "RG = residual_matrix(G)\n",
    "RG#ring_diagram(RG, options={\"show_ex_edges\"})"
   ]
  },
  {
   "cell_type": "code",
   "execution_count": null,
   "metadata": {
    "collapsed": true
   },
   "outputs": [],
   "source": [
    "ring_diagram(RG, options={ \"add_rotation\":-30})"
   ]
  },
  {
   "cell_type": "code",
   "execution_count": null,
   "metadata": {
    "collapsed": true
   },
   "outputs": [],
   "source": [
    "#tonight rendering of vertex diagrams (loopless ring diagrams) and residual diagrams. \n",
    "#pyramids might be nice but maybe another day"
   ]
  },
  {
   "cell_type": "code",
   "execution_count": null,
   "metadata": {
    "collapsed": true
   },
   "outputs": [],
   "source": []
  },
  {
   "cell_type": "markdown",
   "metadata": {},
   "source": [
    "# Colourings\n",
    "On a one loop graph with one species, there are as many colourings as there paths of any length between pairs of external vertices\n",
    " - which is to say, as many colourings as there are external vertices\n",
    " - if something can be expressed as a three colouring, we can always find a single pole to produce something on the propagator basis\n",
    " - adding species, even we project a large space of colourings, the graph can only every be expressed as a 3-colouring - not true, can change colour internally\n",
    " - however the kinematics from the species colouring enters trivially in the integration i think although we should check the multiple residues"
   ]
  },
  {
   "cell_type": "code",
   "execution_count": null,
   "metadata": {
    "collapsed": true
   },
   "outputs": [],
   "source": [
    "2**14-1"
   ]
  },
  {
   "cell_type": "code",
   "execution_count": null,
   "metadata": {
    "collapsed": true
   },
   "outputs": [],
   "source": [
    "A = incidence_matrix(edges= [ [0,1],  [1,0]], external_vertices=[0,1])\n",
    "apply_flow(A,set_source_sink_flow)\n",
    "ring_diagram(A)\n"
   ]
  },
  {
   "cell_type": "code",
   "execution_count": null,
   "metadata": {
    "collapsed": true
   },
   "outputs": [],
   "source": [
    "latex(Matrix(np.array([[1,-1,-1],[-1,1,1]])) * diag( Symbol(\"q_0\"),Symbol(\"q_1\"), Symbol(\"q3\")))"
   ]
  },
  {
   "cell_type": "code",
   "execution_count": null,
   "metadata": {
    "collapsed": true
   },
   "outputs": [],
   "source": [
    "latex(Matrix(np.array([ [1,-1,0],[1,-1,0], [0,1,-1],[-1,0,1],[-1,0,1]]).T) * diag( Symbol(\"p_0\"),Symbol(\"p_1\"),Symbol(\"q_0\"),Symbol(\"q_1\"),Symbol(\"q_2\")))"
   ]
  },
  {
   "cell_type": "code",
   "execution_count": null,
   "metadata": {
    "collapsed": true
   },
   "outputs": [],
   "source": [
    "A = incidence_matrix(edges= [ [0,1], [0,1], [1,0]],\n",
    "                       external_vertices=[0,1])\n",
    "apply_flow(A,set_source_sink_flow)\n",
    "ring_diagram(A, options={\"show_labels\"})\n"
   ]
  },
  {
   "cell_type": "code",
   "execution_count": null,
   "metadata": {
    "collapsed": true
   },
   "outputs": [],
   "source": [
    "2**6-1"
   ]
  },
  {
   "cell_type": "code",
   "execution_count": null,
   "metadata": {
    "collapsed": true
   },
   "outputs": [],
   "source": [
    "show_spanning_trees(A, show_labels=True)"
   ]
  },
  {
   "cell_type": "code",
   "execution_count": null,
   "metadata": {
    "collapsed": true
   },
   "outputs": [],
   "source": [
    "latex(A.kirchhoff)"
   ]
  },
  {
   "cell_type": "code",
   "execution_count": null,
   "metadata": {
    "collapsed": true
   },
   "outputs": [],
   "source": [
    "latex(Matrix(A[:2,:3]))"
   ]
  },
  {
   "cell_type": "code",
   "execution_count": null,
   "metadata": {
    "collapsed": true
   },
   "outputs": [],
   "source": [
    "latex(Matrix(A.edge_label_matrix))\n"
   ]
  },
  {
   "cell_type": "code",
   "execution_count": null,
   "metadata": {
    "collapsed": true
   },
   "outputs": [],
   "source": [
    "L = A.edge_label_matrix * A.edge_label_matrix.T\n",
    "L"
   ]
  },
  {
   "cell_type": "code",
   "execution_count": null,
   "metadata": {
    "collapsed": true
   },
   "outputs": [],
   "source": [
    "for s in A._internal_symbols_(): L=L.subs({s**2:s})\n",
    "        #treat all external edges as z so we can get a polynomial in z for forest order\n",
    "for s in A._external_symbols_(): L=L.subs({s**2:Symbol(\"z\")}) \n",
    "L"
   ]
  },
  {
   "cell_type": "code",
   "execution_count": null,
   "metadata": {
    "collapsed": true
   },
   "outputs": [],
   "source": [
    "red =  incidence_matrix.__sym_i_cofactor__(L) \n",
    "latex(Matrix(red))\n"
   ]
  },
  {
   "cell_type": "code",
   "execution_count": null,
   "metadata": {
    "collapsed": true
   },
   "outputs": [],
   "source": [
    "latex(Matrix(L))"
   ]
  },
  {
   "cell_type": "code",
   "execution_count": null,
   "metadata": {
    "collapsed": true
   },
   "outputs": [],
   "source": [
    "B = incidence_matrix(3,3,\n",
    "                       [ [0,1], [1,2], [2,0]],\n",
    "                       external_vertices=[0,1])\n",
    "apply_flow(B,set_source_sink_flow)\n",
    "ring_diagram(B)"
   ]
  },
  {
   "cell_type": "code",
   "execution_count": null,
   "metadata": {
    "collapsed": true
   },
   "outputs": [],
   "source": [
    "B.constraint_system(True)"
   ]
  },
  {
   "cell_type": "code",
   "execution_count": null,
   "metadata": {
    "collapsed": true
   },
   "outputs": [],
   "source": [
    "C = incidence_matrix(3,3,\n",
    "                       [ [0,1], [1,2], [2,0]],\n",
    "                       external_vertices=[0,1,2])\n",
    "apply_flow(C,set_source_sink_flow)\n",
    "ring_diagram(C)"
   ]
  },
  {
   "cell_type": "code",
   "execution_count": null,
   "metadata": {
    "collapsed": true
   },
   "outputs": [],
   "source": [
    "C.constraint_system(True)"
   ]
  },
  {
   "cell_type": "code",
   "execution_count": null,
   "metadata": {
    "collapsed": true
   },
   "outputs": [],
   "source": [
    "D = incidence_matrix(4,4,\n",
    "                       [ [0,1], [1,2], [2,3], [3,0]],\n",
    "                       external_vertices=[0,1,2])\n",
    "apply_flow(D,set_source_sink_flow)\n",
    "ring_diagram(D, )#options={\"show_labels\"} messed up label"
   ]
  },
  {
   "cell_type": "code",
   "execution_count": null,
   "metadata": {
    "collapsed": true
   },
   "outputs": [],
   "source": [
    "#3 linearly independent internal edges can be generated from (3,1)\n",
    "D.constraint_system(True)"
   ]
  },
  {
   "cell_type": "code",
   "execution_count": null,
   "metadata": {
    "collapsed": true
   },
   "outputs": [],
   "source": [
    "E = incidence_matrix(5,5,\n",
    "                       [ [0,1], [1,2], [2,3], [3,4], [4,0]],\n",
    "                       external_vertices=[0,1,2])\n",
    "apply_flow(E,set_source_sink_flow)\n",
    "ring_diagram(E, )#options={\"show_labels\"} messed up label"
   ]
  },
  {
   "cell_type": "code",
   "execution_count": null,
   "metadata": {
    "collapsed": true
   },
   "outputs": [],
   "source": [
    "#3 linearly independent internal edges can be generated from (4,1)\n",
    "E.constraint_system(True)"
   ]
  },
  {
   "cell_type": "code",
   "execution_count": null,
   "metadata": {
    "collapsed": true
   },
   "outputs": [],
   "source": [
    "F = incidence_matrix(5,5,\n",
    "                       [ [0,1], [1,2], [2,3], [3,4], [4,0]],\n",
    "                       external_vertices=[0,1,4])\n",
    "apply_flow(F,set_source_sink_flow)\n",
    "ring_diagram(F, )#options={\"show_labels\"} messed up label"
   ]
  },
  {
   "cell_type": "code",
   "execution_count": null,
   "metadata": {
    "collapsed": true
   },
   "outputs": [],
   "source": [
    "#2 linearly independant? - no actually , just a trick p4 is on its own where as above, p1 is on its own\n",
    "#actually 3 - so there are as many as there paths i.e. as many as there are externals\n",
    "F.constraint_system(True)"
   ]
  },
  {
   "cell_type": "code",
   "execution_count": null,
   "metadata": {
    "collapsed": true
   },
   "outputs": [],
   "source": [
    "G = incidence_matrix(5,5,\n",
    "                       [ [0,1], [1,2], [2,3], [3,4], [4,0]],\n",
    "                       external_vertices=[0,2,4])\n",
    "apply_flow(G,set_source_sink_flow)\n",
    "ring_diagram(G, )#options={\"show_labels\"} messed up label"
   ]
  },
  {
   "cell_type": "code",
   "execution_count": null,
   "metadata": {
    "collapsed": true
   },
   "outputs": [],
   "source": [
    "G.constraint_system(True)"
   ]
  },
  {
   "cell_type": "code",
   "execution_count": null,
   "metadata": {
    "collapsed": true
   },
   "outputs": [],
   "source": [
    "#The graph will have islands of internal nodes which will have the same momenta. \n",
    "#So no matter how many external nodes there are, if they are contiguous we minimise the number of colourings"
   ]
  },
  {
   "cell_type": "markdown",
   "metadata": {},
   "source": [
    "## work in progress\n",
    "\n",
    "What is the best method for determining the edge basis. Cycles can be used. \n",
    "- Important to partition cycles into positive and negative frequencies\n",
    "- Import to attribute to each edge the correct edge basis"
   ]
  },
  {
   "cell_type": "markdown",
   "metadata": {},
   "source": [
    "### from the constraints at vertices, we try to construct an edge basis \n",
    " - need to be careful about Sympy interface because I am not sure about some things yet"
   ]
  },
  {
   "cell_type": "code",
   "execution_count": null,
   "metadata": {
    "collapsed": true
   },
   "outputs": [],
   "source": [
    "sunset = incidence_matrix(3,2,\n",
    "                       [ [0,1], [1,0], [0,1]  ],\n",
    "                       external_vertices=[0,1])\n",
    "\n",
    "L = sunset.first_betti_number\n",
    "maps = sunset.edges_to_loop_basis()\n",
    "#these are the ids of each edge in the incidence matrix and their coefficients on the edge basis\n",
    "#if there are two loops and two externals each edge takes a vector: [L1|L2|EX1|EX2]\n",
    "maps"
   ]
  },
  {
   "cell_type": "code",
   "execution_count": null,
   "metadata": {
    "collapsed": true
   },
   "outputs": [],
   "source": [
    "#given an edge basis and a known loop number, create the propagator for each edge - here we know to use the first L as the loop basis\n",
    "scalar_propagator(maps[0][:L], maps[0][L:])"
   ]
  },
  {
   "cell_type": "code",
   "execution_count": null,
   "metadata": {
    "collapsed": true
   },
   "outputs": [],
   "source": [
    "#apply_flow(sunset, set_source_sink_flow)\n",
    "#sunset.flip_edges(0)\n",
    "ring_diagram(sunset)"
   ]
  },
  {
   "cell_type": "markdown",
   "metadata": {},
   "source": [
    "### all the propagators look like this"
   ]
  },
  {
   "cell_type": "code",
   "execution_count": null,
   "metadata": {
    "collapsed": true
   },
   "outputs": [],
   "source": [
    "rg._product_([scalar_propagator(maps[i][:L], maps[i][L:]).value for i in maps.keys()])"
   ]
  },
  {
   "cell_type": "code",
   "execution_count": null,
   "metadata": {
    "collapsed": true
   },
   "outputs": [],
   "source": [
    "#below is displayed with the source sink flow used to solve constraints and not the loop flow...\n",
    "#but we can see from the propagators that e0 and e1 flow in the *some* direction and e1 flows opposite for each loop variable\n",
    "#it is important that the loop variables are represented with opposite signs for the set of propagaors\n",
    "ring_diagram(sunset, options={\"show_labels\"})"
   ]
  },
  {
   "cell_type": "code",
   "execution_count": null,
   "metadata": {
    "collapsed": true
   },
   "outputs": [],
   "source": [
    "apply_flow(sunset,set_circuit_flow)\n",
    "ring_diagram(sunset, options={\"show_labels\"})"
   ]
  },
  {
   "cell_type": "markdown",
   "metadata": {},
   "source": [
    "### example of the shorthand \n",
    "- convention must be known but useful to create a larger integral from matrix of coefficients"
   ]
  },
  {
   "cell_type": "code",
   "execution_count": null,
   "metadata": {
    "collapsed": true
   },
   "outputs": [],
   "source": [
    "mat = [[0,1,0,1,1,1],\n",
    "       [0,-1,0,0,2,2]]\n",
    "scalar_propagator.from_basis_vector(mat,2)"
   ]
  },
  {
   "cell_type": "markdown",
   "metadata": {},
   "source": [
    "# A first look at the incidence matrix class"
   ]
  },
  {
   "cell_type": "code",
   "execution_count": null,
   "metadata": {
    "collapsed": true
   },
   "outputs": [],
   "source": [
    "itest = incidence_matrix.__sample__()\n",
    "itest"
   ]
  },
  {
   "cell_type": "code",
   "execution_count": null,
   "metadata": {
    "collapsed": true
   },
   "outputs": [],
   "source": [
    "INC = incidence_matrix.__sample__()\n",
    "#INC.flip_edges(1)\n",
    "D = ring_diagram(INC, options={ \"show_labels\":True, }) \n",
    "D"
   ]
  },
  {
   "cell_type": "code",
   "execution_count": null,
   "metadata": {
    "collapsed": true
   },
   "outputs": [],
   "source": [
    "all_circuits=  circuits(INC,sort=True)\n",
    "all_circuits"
   ]
  },
  {
   "cell_type": "markdown",
   "metadata": {},
   "source": [
    "# now take a look at one of the spanning rees"
   ]
  },
  {
   "cell_type": "code",
   "execution_count": null,
   "metadata": {
    "collapsed": true
   },
   "outputs": [],
   "source": [
    "#show_spanning_trees(INC)"
   ]
  },
  {
   "cell_type": "code",
   "execution_count": null,
   "metadata": {
    "collapsed": true
   },
   "outputs": [],
   "source": [
    "tree = INC.spanning_trees.iloc[-1].values\n",
    "tree_cuts = INC.edge_complement(tree)\n",
    "print(tree_cuts)\n",
    "C = ring_diagram(INC, options={\"show_labels\" :True,  \"cut_edges\": tree_cuts}) \n",
    "C#._repr_html_()"
   ]
  },
  {
   "cell_type": "markdown",
   "metadata": {},
   "source": [
    "# Edge Orientations\n",
    "given cicuits, we can actually rank them by closeness to root and then we can incrementally orientate them in different ways\n",
    "\n",
    "(1) Choose a source and sink delegate on each circuit and have allow flow towards the sink\n",
    "\n",
    "(2) Respect loop momentum"
   ]
  },
  {
   "cell_type": "code",
   "execution_count": null,
   "metadata": {
    "collapsed": true
   },
   "outputs": [],
   "source": [
    "#todo the last circuit is degenerate\n",
    "INC = incidence_matrix.__sample__()\n",
    "all_circuits = circuits(INC,INC.spanning_trees.iloc[0].values)\n",
    "print(all_circuits)"
   ]
  },
  {
   "cell_type": "markdown",
   "metadata": {},
   "source": [
    "# set default circuit flow"
   ]
  },
  {
   "cell_type": "code",
   "execution_count": null,
   "metadata": {
    "collapsed": true
   },
   "outputs": [],
   "source": [
    "INC = incidence_matrix.__sample__()\n",
    "#todo technicall need to reload cicuts but they are ok\n",
    "all_circuits = circuits(INC,INC.spanning_trees.iloc[0].values)\n",
    "circ = all_circuits[3]\n",
    "#print(circ)\n",
    "res = set_circuit_flow(INC,circ)\n",
    "#print(res)\n",
    "#print(\"edge comp\", circ)\n",
    "ring_diagram(INC, options={\"show_labels\" :True,  \"cut_edges\": INC.edge_complement(circ)}) "
   ]
  },
  {
   "cell_type": "code",
   "execution_count": null,
   "metadata": {
    "collapsed": true
   },
   "outputs": [],
   "source": [
    "INC.spanning_trees.iloc[0].values"
   ]
  },
  {
   "cell_type": "markdown",
   "metadata": {},
   "source": [
    "# circuit source sink flow"
   ]
  },
  {
   "cell_type": "code",
   "execution_count": null,
   "metadata": {
    "collapsed": true
   },
   "outputs": [],
   "source": [
    "INC = incidence_matrix.__sample__()\n",
    "#todo technicall need to reload cicuts but they are ok\n",
    "all_circuits = circuits(INC,INC.spanning_trees.iloc[0].values)\n",
    "circ = all_circuits[1]\n",
    "#print(circ)\n",
    "res = set_source_sink_flow(INC,circ)\n",
    "print(\"source,sink\",res)\n",
    "#print(res)\n",
    "#print(\"edge comp\", circ)\n",
    "ring_diagram(INC, options={\"show_labels\" :True,  \"cut_edges\": INC.edge_complement(circ)}) "
   ]
  },
  {
   "cell_type": "markdown",
   "metadata": {},
   "source": [
    "# all together now...\n",
    "\n",
    "cicuits are ordered based on the average depth of vertices in the cicuit. Outer rings score best\n",
    "\n",
    "We process all cicuits in that order"
   ]
  },
  {
   "cell_type": "markdown",
   "metadata": {},
   "source": [
    "Suppose we dont remember anything from the last processed circuit..."
   ]
  },
  {
   "cell_type": "code",
   "execution_count": null,
   "metadata": {
    "collapsed": true
   },
   "outputs": [],
   "source": [
    "apply_flow(INC,set_source_sink_flow)\n",
    "ring_diagram(INC, options={\"show_labels\" :True}) "
   ]
  },
  {
   "cell_type": "code",
   "execution_count": null,
   "metadata": {
    "collapsed": true
   },
   "outputs": [],
   "source": []
  },
  {
   "cell_type": "markdown",
   "metadata": {},
   "source": [
    "# Other examples"
   ]
  },
  {
   "cell_type": "code",
   "execution_count": null,
   "metadata": {
    "collapsed": true
   },
   "outputs": [],
   "source": [
    "simp = incidence_matrix(2,2,\n",
    "                       [ [0,1], [1,0]  ],\n",
    "                       external_vertices=[0,1])\n",
    "\n",
    "sunset = incidence_matrix(3,2,\n",
    "                       [ [0,1], [1,0], [0,1]  ],\n",
    "                       external_vertices=[0,1])\n",
    "\n",
    "bog = incidence_matrix(7,6,\n",
    "                       [ [0,1], [1,3], [0,2], [3,2], [3,5], [2,4], [4,5]  ],\n",
    "                       external_vertices=[0,1,4,5])\n",
    "\n",
    "#get cicuits using any spanning tree and produce a sink flow ordering\n",
    "set_source_sink_flow(simp,circuits(simp)[0])\n",
    "#simp.constraint_system(True)\n",
    "ring_diagram(simp)"
   ]
  },
  {
   "cell_type": "code",
   "execution_count": null,
   "metadata": {
    "collapsed": true
   },
   "outputs": [],
   "source": [
    "show_spanning_trees(simp)"
   ]
  },
  {
   "cell_type": "code",
   "execution_count": null,
   "metadata": {
    "collapsed": true
   },
   "outputs": [],
   "source": [
    "simp = incidence_matrix(3,3,\n",
    "                       [ [0,1], [1,2], [2,0]  ],\n",
    "                       external_vertices=[0,1])\n",
    "ring_diagram(simp)"
   ]
  },
  {
   "cell_type": "code",
   "execution_count": null,
   "metadata": {
    "collapsed": true
   },
   "outputs": [],
   "source": [
    "show_spanning_trees(simp)"
   ]
  },
  {
   "cell_type": "code",
   "execution_count": null,
   "metadata": {
    "collapsed": true
   },
   "outputs": [],
   "source": [
    "simp = incidence_matrix(4,4,\n",
    "                       [ [0,1], [1,2], [2,3], [3,0]  ],\n",
    "                       external_vertices=[0,1])\n",
    "ring_diagram(simp)"
   ]
  },
  {
   "cell_type": "code",
   "execution_count": null,
   "metadata": {
    "collapsed": true
   },
   "outputs": [],
   "source": [
    "INC.kirchhoff"
   ]
  },
  {
   "cell_type": "code",
   "execution_count": null,
   "metadata": {
    "collapsed": true
   },
   "outputs": [],
   "source": [
    "INC = incidence_matrix.__sample__()\n",
    "show_spanning_trees(INC,is_directed=False)\n",
    "#len(INC.spanning_trees)"
   ]
  },
  {
   "cell_type": "code",
   "execution_count": null,
   "metadata": {
    "collapsed": true
   },
   "outputs": [],
   "source": [
    "#TODO: visual style for and implementation of multiple external legs\n",
    "#perhaps an option for simple diagrams to force certain types of loops and ignore hierarchy\n",
    "\n",
    "#save svg todo find save html tp pdf solution\n",
    "#with open (\"test.svg\", \"w\") as f:\n",
    "#    f.write(ring_diagram(sunset, options={\"show_labels\"})._repr_html_())"
   ]
  }
 ],
 "metadata": {
  "kernelspec": {
   "display_name": "Python 3",
   "language": "python",
   "name": "python3"
  },
  "language_info": {
   "codemirror_mode": {
    "name": "ipython",
    "version": 3
   },
   "file_extension": ".py",
   "mimetype": "text/x-python",
   "name": "python",
   "nbconvert_exporter": "python",
   "pygments_lexer": "ipython3",
   "version": "3.6.3"
  }
 },
 "nbformat": 4,
 "nbformat_minor": 2
}
