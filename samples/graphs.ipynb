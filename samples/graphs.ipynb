{
 "cells": [
  {
   "cell_type": "code",
   "execution_count": 1,
   "metadata": {
    "collapsed": true
   },
   "outputs": [],
   "source": [
    "from sympy import *\n",
    "import operator\n",
    "import functools\n",
    "import math\n",
    "import pandas as pd\n",
    "init_printing()\n",
    "#init_printing(use_latex='mathjax')"
   ]
  },
  {
   "cell_type": "code",
   "execution_count": 254,
   "metadata": {},
   "outputs": [
    {
     "data": {
      "text/plain": [
       "['p0', 'p1', 'p2', 'p3', 'p4', 'p5', 'p6', 'p7', 'p8', 'q0', 'q1', 'q2']"
      ]
     },
     "execution_count": 254,
     "metadata": {},
     "output_type": "execute_result"
    }
   ],
   "source": [
    "import numpy as np\n",
    "class incidence_matrix(np.ndarray):  \n",
    "    #todo allow a dictionary of letters maybe for vertices to make it easier to init and maybe consider not using sizes\n",
    "    def __new__(self, edge_count, vertex_count, edges=[],external_vertices=[]):\n",
    "        size = (vertex_count+ (1 if len(external_vertices) > 0 else  0),edge_count+len(external_vertices))\n",
    "        obj = super(incidence_matrix, self).__new__(self, size, np.int)  \n",
    "        obj[:] = 0 \n",
    "        obj.add_edges(edges + [[-1,ev] for ev in external_vertices])\n",
    "        obj._external_vertices = external_vertices\n",
    "        obj._internal_vertices = list(set(list(range(vertex_count))) - set(external_vertices))\n",
    "        self._edges =edges\n",
    "        return obj\n",
    "            \n",
    "    def flip_edges(self,edge_indecies):\n",
    "        if not isinstance(edge_indecies,list): edge_indecies =[edge_indecies]\n",
    "        for e in edge_indecies:self[:,e]*= -1\n",
    "        return self\n",
    "        \n",
    "        \n",
    "    def reset_edge_orders(self, edges):pass\n",
    "    def reset_edge_orders_from_hierarchy(self):pass\n",
    "    \n",
    "    def try_directed_edge_index(self,a,b):\n",
    "        \"\"\"\n",
    "        checks all the columns (edges) to see if there is an edge that starts at a(-1) and endgs at b(1)\n",
    "        \"\"\"\n",
    "        for i,r in enumerate(self.T):\n",
    "            if(r[a]==-1) and (r[b]==1):\n",
    "                return i\n",
    "        return None\n",
    "    \n",
    "    def exists_directed_edge(self,a,b):\n",
    "        return self.try_directed_edge_index != None\n",
    "    \n",
    "    @property\n",
    "    def edges(self): return self._edges\n",
    "        \n",
    "    @property\n",
    "    def internal_vertices (self):return self._internal_vertices\n",
    "    \n",
    "    @property\n",
    "    def external_vertices (self):return self._external_vertices\n",
    "    \n",
    "    def get_coincident_vertices_any(self, vset,exclusions = []):\n",
    "        items = []\n",
    "        for v in vset:\n",
    "            for _v in self.get_coincident_vertices(v,exclusions):\n",
    "                if _v not in items: items.append(_v)\n",
    "        return items\n",
    "        \n",
    "    def get_coincident_vertices(self, v,exclusions = []):\n",
    "        #these are the data columns for which v has edge data\n",
    "        v_inc_frame = self[:,np.where(self[v]!=0)[0]]\n",
    "        exclusions = exclusions+ [v]\n",
    "        #now get the row index for things that are co-incident using the trick but just checking non zero rows\n",
    "        #this is a bit odd and probably better way but count non zero columns uses the count and nonzero combined \n",
    "        #and we ensure that v is not in the list which is requred when it has only one edge for example\n",
    "        incident_vertices = [l for l in list(np.nonzero((np.count_nonzero(v_inc_frame,axis=1)==1).astype(int))[0]) if l not in exclusions]\n",
    "        return incident_vertices\n",
    "        \n",
    "    def add_edges(self, eset):\n",
    "        for i, v in enumerate(eset): \n",
    "            self[v[0],i],self[v[1],i] = 1,-1\n",
    "            \n",
    "    def vertex_hierarchy(self, vset=[-1], d=0, h={} ):\n",
    "        \"\"\"\n",
    "        recursion from external nodes or other seed set\n",
    "        \"\"\"\n",
    "        if d ==0: h= {}\n",
    "        #need to re-think the indexing a little\n",
    "        #this is so that I can store the last vertex (inf) as either -1 or the length of the thing\n",
    "        if -1 in vset:h[len(self)-1] = 2\n",
    "        for _v in vset: h[_v] = d\n",
    "        if len(vset) > 0:yield d, vset\n",
    "        #look for any coincident vertices that are not on my level or above\n",
    "        next_layer = self.get_coincident_vertices_any(vset ,vset+ list(h.keys()))\n",
    "        if(len(next_layer)>0):\n",
    "            for t in self.vertex_hierarchy(next_layer,d+1,h):\n",
    "                yield t\n",
    "    \n",
    "    \n",
    "    @property\n",
    "    def flat_adjacency(self): return [ list(np.nonzero(v)[0]) for v in  self.adjacency_with_inf]\n",
    "      \n",
    "    @property\n",
    "    def adjacency(self):\n",
    "        #[ np.nonzero(v)[0]for v in  INC.adjacency_with_inf]\n",
    "        return self.adjacency_with_inf[:-1,:-1]\n",
    "    \n",
    "    @property\n",
    "    def adjacency_with_inf(self):\n",
    "        ad = np.zeros((len(self),len(self)),np.int)\n",
    "        for i, v in enumerate(self):  ad[i][self.get_coincident_vertices(i)]  =1\n",
    "        return ad[:-1,:-1] if len(self._external_vertices) > 0 else ad\n",
    "    \n",
    "\n",
    "    @property\n",
    "    def edge_labels(self):\n",
    "        #the last row is the external vertex so check which edges are connected\n",
    "        ex_edges = np.nonzero(self[-1])[0]\n",
    "        return [ \"p\"+str(i) for i in range(self.shape[-1]) if i not in ex_edges]   +   [ \"q\"+str(i) for i in range(len(ex_edges))]\n",
    "       \n",
    "    @property\n",
    "    def vertex_constraints(self):\n",
    "        edge_labels = self.edge_labels\n",
    "        for v in self:\n",
    "            yield delta_constraint([edge_labels[i] for i in np.nonzero(v)[0]])\n",
    "            \n",
    "INC = incidence_matrix(9, 6,\n",
    "                       [ [0,1], [1,2], [2,0], [3,4],[4,3],[3,0],[4,2], [4,5], [5,3] ],\n",
    "                       external_vertices=[0,1,2])\n",
    "\n",
    "INC.edge_labels"
   ]
  },
  {
   "cell_type": "code",
   "execution_count": 239,
   "metadata": {},
   "outputs": [
    {
     "name": "stdout",
     "output_type": "stream",
     "text": [
      "[0, 1, 2]\n",
      "[0, 1, 4, 3]\n",
      "[2, 3, 4]\n"
     ]
    },
    {
     "data": {
      "text/plain": [
       "array([[1, 1, 1, 0, 0],\n",
       "       [1, 1, 0, 1, 1],\n",
       "       [0, 0, 1, 1, 1]])"
      ]
     },
     "execution_count": 239,
     "metadata": {},
     "output_type": "execute_result"
    }
   ],
   "source": [
    "class cycle_finder(object):\n",
    "    \"\"\"\n",
    "    Adapted from\n",
    "    https://stackoverflow.com/questions/12367801/finding-all-cycles-in-undirected-graphs\n",
    "    See also\n",
    "    http://dspace.mit.edu/bitstream/handle/1721.1/68106/FTL_R_1982_07.pdf\n",
    "    #graph = [[1, 2], [1, 3], [1, 4], [2, 3], [3, 4], [2, 6], [4, 6], [8, 7], [8, 9], [9, 7]]\n",
    "    graph = [[0,1], [0,2], [1,2], [1,3], [2,3]]\n",
    "\n",
    "    for p in cycle_finder(graph): print(p) #returns the edges in the circuit indexed from the graph\n",
    "    for p in cycle_finder(graph, \"vertices\"): # returns the vertices in the cicuit\n",
    "\n",
    "    \"\"\"\n",
    "    def __init__(self, graph_edges, c_type=\"edges\"):\n",
    "        #i need them sorted here - this is an undirected graph too\n",
    "        self.graph = [sorted(l) for l in list(graph_edges)]\n",
    "        self.cycles = []  \n",
    "        self.c_type = c_type\n",
    "        for edge in self.graph:\n",
    "            for node in edge:  \n",
    "                self.findNewCycles([node])\n",
    "    \n",
    "    def __expand_edges__(self, vlist):\n",
    "        for i,v in enumerate(vlist): \n",
    "            yield sorted([vlist[i-1],v])\n",
    "            \n",
    "    @property\n",
    "    def cycle_basis(self):\n",
    "        l = list(self)\n",
    "        b = np.zeros((len(l),len(self.graph)),np.int)\n",
    "        for i,r in enumerate(b): r[l[i]] = 1\n",
    "        return b\n",
    "    \n",
    "    def __iter__(self):\n",
    "        for cy in self.cycles:\n",
    "            res = [node for node in cy]\n",
    "            if self.c_type == \"vertices\": yield res\n",
    "            else: yield [self.graph.index(e) for e in self.__expand_edges__(res)]\n",
    "               \n",
    "    def findNewCycles(self,path):\n",
    "        def isNew(path): return not path in self.cycles\n",
    "        def visited(node, path):  return node in path\n",
    "        def invert(path):return rotate_to_smallest(path[::-1])\n",
    "        def rotate_to_smallest(path):\n",
    "            n = path.index(min(path))\n",
    "            return path[n:]+path[:n]   \n",
    "        \n",
    "        start_node,next_node,sub = path[0],None,[]\n",
    "        \n",
    "        for edge in self.graph:\n",
    "            node1, node2 = edge\n",
    "            if start_node in edge:\n",
    "                    next_node = node2 if node1 == start_node else node1\n",
    "            if not visited(next_node, path):\n",
    "                    sub = [next_node]\n",
    "                    sub.extend(path)\n",
    "                    self.findNewCycles(sub);\n",
    "            elif len(path) > 2  and next_node == path[-1]:\n",
    "                    p = rotate_to_smallest(path);\n",
    "                    inv = invert(p)\n",
    "                    if isNew(p) and isNew(inv):  \n",
    "                        self.cycles.append(p)\n",
    "                        \n",
    "                        \n",
    "graph = [[0,1], [0,2], [1,2], [1,3], [2,3]]\n",
    "for p in cycle_finder(graph): print(p)\n",
    "f = cycle_finder(graph)\n",
    "f.cycle_basis"
   ]
  },
  {
   "cell_type": "code",
   "execution_count": 66,
   "metadata": {},
   "outputs": [
    {
     "data": {
      "image/png": "[encoded data removed]",
      "text/latex": [
       "$$\\left [ \\left [ 0, \\quad 2, \\quad 1\\right ], \\quad \\left [ 0, \\quad 5, \\quad 3, \\quad 6, \\quad 1\\right ], \\quad \\left [ 0, \\quad 5, \\quad 8, \\quad 7, \\quad 6, \\quad 1\\right ], \\quad \\left [ 2, \\quad 5, \\quad 3, \\quad 6\\right ], \\quad \\left [ 2, \\quad 5, \\quad 8, \\quad 7, \\quad 6\\right ], \\quad \\left [ 3, \\quad 8, \\quad 7\\right ]\\right ]$$"
      ],
      "text/plain": [
       "[[0, 2, 1], [0, 5, 3, 6, 1], [0, 5, 8, 7, 6, 1], [2, 5, 3, 6], [2, 5, 8, 7, 6]\n",
       ", [3, 8, 7]]"
      ]
     },
     "execution_count": 66,
     "metadata": {},
     "output_type": "execute_result"
    }
   ],
   "source": [
    "cf = cycle_finder(INC.edges) \n",
    "list(cf)"
   ]
  },
  {
   "cell_type": "code",
   "execution_count": 67,
   "metadata": {},
   "outputs": [
    {
     "data": {
      "text/plain": [
       "array([[1, 1, 1, 0, 0, 0, 0, 0, 0],\n",
       "       [1, 1, 0, 1, 0, 1, 1, 0, 0],\n",
       "       [1, 1, 0, 0, 0, 1, 1, 1, 1],\n",
       "       [0, 0, 1, 1, 0, 1, 1, 0, 0],\n",
       "       [0, 0, 1, 0, 0, 1, 1, 1, 1],\n",
       "       [0, 0, 0, 1, 0, 0, 0, 1, 1]])"
      ]
     },
     "execution_count": 67,
     "metadata": {},
     "output_type": "execute_result"
    }
   ],
   "source": [
    "cf.cycle_basis"
   ]
  },
  {
   "cell_type": "code",
   "execution_count": 68,
   "metadata": {
    "collapsed": true
   },
   "outputs": [],
   "source": [
    "def _xor_add(u,v):return np.logical_xor(u,v).astype(int)"
   ]
  },
  {
   "cell_type": "code",
   "execution_count": 69,
   "metadata": {},
   "outputs": [
    {
     "data": {
      "text/plain": [
       "array([0, 0, 1, 1, 0, 1, 1, 0, 0])"
      ]
     },
     "execution_count": 69,
     "metadata": {},
     "output_type": "execute_result"
    }
   ],
   "source": [
    "_xor_add(cf.cycle_basis[0], cf.cycle_basis[1])"
   ]
  },
  {
   "cell_type": "code",
   "execution_count": 240,
   "metadata": {},
   "outputs": [
    {
     "name": "stdout",
     "output_type": "stream",
     "text": [
      "probing for 0 1\n",
      "flip 0 1\n",
      "1 0\n",
      "probing for 1 2\n",
      "flip 1 2\n",
      "2 1\n",
      "probing for 2 0\n",
      "flip 2 3\n",
      "3 2\n",
      "probing for 3 4\n",
      "0 1\n",
      "probing for 4 3\n",
      "1 2\n"
     ]
    },
    {
     "data": {
      "text/html": [
       "<svg xmlns=\"http://www.w3.org/2000/svg\" xmlns:xlink=\"http://www.w3.org/1999/xlink\" version=\"1.1\" x=\"0\" y=\"0\" width=\"200\" height=\"200\">\n",
       "      <g fill=\"none\" stroke=\"black\" stroke-width=\"1.6\" stroke-linecap=\"round\"> <defs><marker id=\"arrow\"  markerUnits=\"strokeWidth\" markerWidth='5' markerHeight='8' refX='0' refY='2' orient=\"auto\">\n",
       "                                      <path d=\"M0,0 V4 L2,2 Z\" style=\"fill: #000000;\" /> </marker></defs><circle cx=\"160\" cy=\"135\" r=\"3\" stroke=\"black\" stroke-width=\"1\" fill=\"black\" /> <circle cx=\"39\" cy=\"135\" r=\"3\" stroke=\"black\" stroke-width=\"1\" fill=\"black\" /> <circle cx=\"99\" cy=\"30\" r=\"3\" stroke=\"black\" stroke-width=\"1\" fill=\"black\" /> <path id='edge0' d=\"M  160  135  A  70  70  0  0  0  100  30 \" stroke=\"black\"  stroke-width:3px\"  /><path id='edge0' d=\"M  160  135  A  70  70  0  0  0  160  65 \" stroke=\"black\"  stroke-width:3px\" marker-end='url(#arrow)' /><path id='edge1' d=\"M  39  135  A  70  70  0  0  0  160  135 \" stroke=\"black\"  stroke-width:3px\"  /><path id='edge1' d=\"M  39  135  A  70  70  0  0  0  100  170 \" stroke=\"black\"  stroke-width:3px\" marker-end='url(#arrow)' /><path id='edge2' d=\"M  99  30  A  70  70  0  0  0  39  135 \" stroke=\"black\"  stroke-width:3px\"  /><path id='edge2' d=\"M  99  30  A  70  70  0  0  0  39  65 \" stroke=\"black\"  stroke-width:3px\" marker-end='url(#arrow)' /><circle cx=\"100\" cy=\"150\" r=\"3\" stroke=\"black\" stroke-width=\"1\" fill=\"black\" /> <circle cx=\"99\" cy=\"50\" r=\"3\" stroke=\"black\" stroke-width=\"1\" fill=\"black\" /> <path id='edge4' d=\"M  100  50  A  50  50  0  0  1  100  150 \" stroke=\"black\"  stroke-width:3px\"  /><path id='edge4' d=\"M  100  50  A  50  50  0  0  1  150  100 \" stroke=\"black\"  stroke-width:3px\" marker-end='url(#arrow)' /><path id='edge3' d=\"M  100  150  A  50  50  0  0  1  99  50 \" stroke=\"black\"  stroke-width:3px\"  /><path id='edge3' d=\"M  100  150  A  50  50  0  0  1  50  100 \" stroke=\"black\"  stroke-width:3px\" marker-end='url(#arrow)' /><path d=\"M100 150 L 160 135\" stroke=\"black\" stroke-width:2px\"   /> <line x1=\"100\" y1=\"150\" x2=\"130.0\" y2=\"142.5\" stroke=\"black\" stroke-width:2px\"    marker-end='url(#arrow)' /><path d=\"M99 50 L 99 30\" stroke=\"black\" stroke-width:2px\"   /> <line x1=\"99\" y1=\"50\" x2=\"99.0\" y2=\"40.0\" stroke=\"black\" stroke-width:2px\"    marker-end='url(#arrow)' /><circle cx=\"100\" cy=\"100\" r=\"3\" stroke=\"black\" stroke-width=\"1\" fill=\"black\" /> <path d=\"M100 100 L 100 150\" stroke=\"black\" stroke-width:2px\"   /> <line x1=\"100\" y1=\"100\" x2=\"100.0\" y2=\"125.0\" stroke=\"black\" stroke-width:2px\"    marker-end='url(#arrow)' /><path d=\"M100 100 L 99 50\" stroke=\"black\" stroke-width:2px\"  id='edge7' /> <line x1=\"100\" y1=\"100\" x2=\"99.5\" y2=\"75.0\" stroke=\"black\" stroke-width:2px\"    marker-end='url(#arrow)' />  </g> </svg>"
      ],
      "text/plain": [
       "<__main__.ring_diagram at 0x2ad61d0f320>"
      ]
     },
     "execution_count": 240,
     "metadata": {},
     "output_type": "execute_result"
    }
   ],
   "source": [
    "D = ring_diagram(INC) \n",
    "D"
   ]
  },
  {
   "cell_type": "code",
   "execution_count": 241,
   "metadata": {},
   "outputs": [
    {
     "data": {
      "text/plain": [
       "incidence_matrix([[ 1,  0, -1,  0,  0, -1,  0,  0,  0, -1,  0,  0],\n",
       "                  [-1,  1,  0,  0,  0,  0,  0,  0,  0,  0, -1,  0],\n",
       "                  [ 0, -1,  1,  0,  0,  0, -1,  0,  0,  0,  0, -1],\n",
       "                  [ 0,  0,  0,  1, -1,  1,  0,  0, -1,  0,  0,  0],\n",
       "                  [ 0,  0,  0, -1,  1,  0,  1,  1,  0,  0,  0,  0],\n",
       "                  [ 0,  0,  0,  0,  0,  0,  0, -1,  1,  0,  0,  0],\n",
       "                  [ 0,  0,  0,  0,  0,  0,  0,  0,  0,  1,  1,  1]])"
      ]
     },
     "execution_count": 241,
     "metadata": {},
     "output_type": "execute_result"
    }
   ],
   "source": [
    "INC"
   ]
  },
  {
   "cell_type": "code",
   "execution_count": null,
   "metadata": {
    "collapsed": true
   },
   "outputs": [],
   "source": [
    "#wishlist\n",
    "#add edge labels to edges on the graph sometimes for comparison\n",
    "#mark edges by mask"
   ]
  },
  {
   "cell_type": "code",
   "execution_count": 196,
   "metadata": {},
   "outputs": [],
   "source": [
    "class arc(object):\n",
    "    def __init__(self, angles, radius,center=None,size=None,pid=None):\n",
    "        self.pid = pid\n",
    "        self.radius = radius\n",
    "        object_radius = 20 + radius\n",
    "        self.center = (object_radius,object_radius) if center is None else center\n",
    "        self.size=(2*object_radius,2*object_radius) if size is None else size\n",
    "        self.body = \"\"\n",
    "        self.header =  arc.get_header()\n",
    "        \n",
    "        startAngle,endAngle = angles[0],angles[1]    \n",
    "        mid_angle = (startAngle+endAngle)/2.\n",
    "        \n",
    "        #self.body+= \"\"\"<circle cx=\"{0}\" cy=\"{1}\" r=\"2\" stroke=\"black\" stroke-width=\"1\" fill=\"red\" /> \"\"\".format(*self.center)\n",
    "            \n",
    "        self.body+= self.__describeArc__(startAngle, endAngle)\n",
    "        self.body+= self.__describeArc__(startAngle, mid_angle, decorations=\"marker-end='url(#arrow)'\")\n",
    "           \n",
    "    @staticmethod\n",
    "    def get_header():\n",
    "                 return \"\"\"<defs><marker id=\"arrow\"  markerUnits=\"strokeWidth\" markerWidth='5' markerHeight='8' refX='0' refY='2' orient=\"auto\">\n",
    "                                      <path d=\"M0,0 V4 L2,2 Z\" style=\"fill: #000000;\" /> </marker></defs>\"\"\"\n",
    "     \n",
    "    \n",
    "    def __polarToCartesian__(self, angleInDegrees, radius, center):\n",
    "        centerX, centerY = center[0], center[1]\n",
    "        angleInRadians = (angleInDegrees-90) *math.pi / 180.0;\n",
    "        return int( centerX + (radius * math.cos(angleInRadians))), int( centerY + (radius * math.sin(angleInRadians))), angleInDegrees\n",
    "          \n",
    "    def __describeArc__(self, startAngle, endAngle, decorations=\"\"):\n",
    "        radius = self.radius\n",
    "        wrap,sweepFlag = (0,0) if endAngle < startAngle  else (0,1)\n",
    "\n",
    "        start = self.__polarToCartesian__(startAngle+wrap, radius, self.center) \n",
    "        end = self.__polarToCartesian__(endAngle+wrap, radius, self.center)\n",
    "        colour = \"black\"\n",
    "        largeArcFlag = \"0\" if endAngle - startAngle <= 180 else \"1\"\n",
    "        #print(startAngle+wrap,endAngle+wrap, largeArcFlag, sweepFlag)\n",
    "        d = [  \"M\", start[0], start[1], \"A\", radius, radius, 0, largeArcFlag, sweepFlag, end[0], end[1]  ]\n",
    "        d = \" \".join([str(_d)+\" \" for _d  in d] )   \n",
    "        \n",
    "        transfrm =  \"\"#  \"\"\"transform=\"rotate(180, {}, {}) scale(1, -1) translate(0, -150)\" \"\"\".format(*self.center) if self.change_sense else \"\"\n",
    "        pidattr = \"\" if self.pid == None else \"\"\"id='edge{}'\"\"\".format(self.pid)\n",
    "        \n",
    "        return \"\"\"<path {} d=\"{}\" stroke=\"{}\"  stroke-width:3px\" {} {}/>\"\"\".format(pidattr, d,colour, decorations, transfrm) \n",
    "    \n",
    "    def __repr__(self):return self.header + self.body\n",
    "    \n",
    "    def _repr_html_(self): \n",
    "        return   \"\"\"<svg xmlns=\"http://www.w3.org/2000/svg\" xmlns:xlink=\"http://www.w3.org/1999/xlink\" version=\"1.1\" x=\"{1}\" y=\"{2}\" width=\"{3}\" height=\"{4}\">\n",
    "      <g fill=\"none\" stroke=\"black\" stroke-width=\"1.6\" stroke-linecap=\"round\"> {0}  </g> </svg>\"\"\".format(self.__repr__(),  *self.center, *self.size)\n",
    "\n",
    "#arc((130,250),radius=50,change_sense=False)"
   ]
  },
  {
   "cell_type": "code",
   "execution_count": 271,
   "metadata": {},
   "outputs": [
    {
     "data": {
      "text/html": [
       "<svg xmlns=\"http://www.w3.org/2000/svg\" xmlns:xlink=\"http://www.w3.org/1999/xlink\" version=\"1.1\" x=\"0\" y=\"0\" width=\"200\" height=\"200\">\n",
       "      <g fill=\"none\" stroke=\"black\" stroke-width=\"1.6\" stroke-linecap=\"round\"> <defs><marker id=\"arrow\"  markerUnits=\"strokeWidth\" markerWidth='5' markerHeight='8' refX='0' refY='2' orient=\"auto\">\n",
       "                                      <path d=\"M0,0 V4 L2,2 Z\" style=\"fill: #000000;\" /> </marker></defs><circle cx=\"160\" cy=\"135\" r=\"3\" stroke=\"black\" stroke-width=\"1\" fill=\"black\" /> <circle cx=\"39\" cy=\"135\" r=\"3\" stroke=\"black\" stroke-width=\"1\" fill=\"black\" /> <circle cx=\"99\" cy=\"30\" r=\"3\" stroke=\"black\" stroke-width=\"1\" fill=\"black\" /> <path id='edge0' d=\"M  160  135  A  70  70  0  0  0  100  30 \" stroke=\"black\"  stroke-width:3px\"  /><path id='edge0' d=\"M  160  135  A  70  70  0  0  0  160  65 \" stroke=\"black\"  stroke-width:3px\" marker-end='url(#arrow)' /><path id='edge1' d=\"M  39  135  A  70  70  0  0  0  160  135 \" stroke=\"black\"  stroke-width:3px\"  /><path id='edge1' d=\"M  39  135  A  70  70  0  0  0  100  170 \" stroke=\"black\"  stroke-width:3px\" marker-end='url(#arrow)' /><path id='edge2' d=\"M  99  30  A  70  70  0  0  0  39  135 \" stroke=\"black\"  stroke-width:3px\"  /><path id='edge2' d=\"M  99  30  A  70  70  0  0  0  39  65 \" stroke=\"black\"  stroke-width:3px\" marker-end='url(#arrow)' /><circle cx=\"100\" cy=\"150\" r=\"3\" stroke=\"black\" stroke-width=\"1\" fill=\"black\" /> <circle cx=\"99\" cy=\"50\" r=\"3\" stroke=\"black\" stroke-width=\"1\" fill=\"black\" /> <path id='edge4' d=\"M  100  50  A  50  50  0  0  1  100  150 \" stroke=\"black\"  stroke-width:3px\"  /><path id='edge4' d=\"M  100  50  A  50  50  0  0  1  150  100 \" stroke=\"black\"  stroke-width:3px\" marker-end='url(#arrow)' /><path id='edge3' d=\"M  100  150  A  50  50  0  0  1  99  50 \" stroke=\"black\"  stroke-width:3px\"  /><path id='edge3' d=\"M  100  150  A  50  50  0  0  1  50  100 \" stroke=\"black\"  stroke-width:3px\" marker-end='url(#arrow)' /><path d=\"M160 135 L 100 150\" stroke=\"black\" stroke-width:2px\"   /> <line x1=\"160\" y1=\"135\" x2=\"130.0\" y2=\"142.5\" stroke=\"black\" stroke-width:2px\"    marker-end='url(#arrow)' /><path d=\"M99 30 L 99 50\" stroke=\"black\" stroke-width:2px\"   /> <line x1=\"99\" y1=\"30\" x2=\"99.0\" y2=\"40.0\" stroke=\"black\" stroke-width:2px\"    marker-end='url(#arrow)' /><circle cx=\"100\" cy=\"100\" r=\"3\" stroke=\"black\" stroke-width=\"1\" fill=\"black\" /> <path d=\"M100 150 L 100 100\" stroke=\"black\" stroke-width:2px\"   /> <line x1=\"100\" y1=\"150\" x2=\"100.0\" y2=\"125.0\" stroke=\"black\" stroke-width:2px\"    marker-end='url(#arrow)' /><path d=\"M100 100 L 99 50\" stroke=\"black\" stroke-width:2px\"  id='edge7' /> <line x1=\"100\" y1=\"100\" x2=\"99.5\" y2=\"75.0\" stroke=\"black\" stroke-width:2px\"    marker-end='url(#arrow)' />  </g> </svg>"
      ],
      "text/plain": [
       "<__main__.ring_diagram at 0x2ad51154b70>"
      ]
     },
     "execution_count": 271,
     "metadata": {},
     "output_type": "execute_result"
    }
   ],
   "source": [
    "class ring_diagram(object):\n",
    "    \"\"\"\n",
    "    This one uses a concentric circle arrangement starting from nodes connected to v_\\{infty}\n",
    "    This is a rough prototype to play around with the SVG\n",
    "    Actually this needs a better integration with the incident matrix i.e. the incident matrix needs some concepts\n",
    "    that are used in drawing such as drawing callbacks for arcs and edges mapped to a coodinate system\n",
    "    then we should be able to enumerate through all arcs and edges in the diagram\n",
    "    that would make it easy to show only one edge w.r.t the origin and be alot more functional\n",
    "    important thing is to make sure the drawing is driven from the incidence matrix \n",
    "    this avoids the problem of connecting out to the outer rings which was just a test run\n",
    "    the incident matrix then needs to be validated by independent cycles\n",
    "    \"\"\"\n",
    "    def __init__(self, inc_matrix, options={}):\n",
    "        self.x = 0\n",
    "        self.y = 0\n",
    "        self.margin = 10\n",
    "        self.radius = 90\n",
    "        center = self.radius+self.margin\n",
    "        self._size=(200,200)\n",
    "        self._center = (center,center)\n",
    "        self._options = options\n",
    "        self._inc = inc_matrix\n",
    "        self._vertex_depths = [v[1] for v in list(self._inc.vertex_hierarchy())][1:]\n",
    "        self._metadata = {}\n",
    "        self.body = \"\"\n",
    "        \n",
    "    @property\n",
    "    def external_vertices(self):mpass\n",
    "\n",
    "    def __circuit_permutations__(self):\n",
    "        #so for all adjacency matrix entries, permute so as to choose a particular cycle set\n",
    "        #oursource to algorithm\n",
    "        yield None\n",
    "        \n",
    "    def __circuit_edge_permutations__(self):\n",
    "        #for each cycle set, choose the independent cylces by fixing an edge delegate in each independent cicuit\n",
    "        yield None\n",
    "        \n",
    "    def __measure_inter_layer_chords__(self, existing_coords, proposed_coords):\n",
    "        return 0\n",
    "    \n",
    "    def __polarToCartesian__(self, angleInDegrees, radius, center):\n",
    "        centerX, centerY = center[0], center[1]\n",
    "        angleInRadians = (angleInDegrees-90) *math.pi / 180.0;\n",
    "        return int( centerX + (radius * math.cos(angleInRadians))), int( centerY + (radius * math.sin(angleInRadians))), angleInDegrees\n",
    "    \n",
    "    def __set_vertex_property__(self, i, key, value):\n",
    "        if i not in self._metadata: self._metadata[i] = {}\n",
    "        self._metadata[i][key] = value\n",
    "        \n",
    "    def __get_vertex_property__(self, i, key,value):\n",
    "        if i in self._metadata and key in self._metadata[i]:return self._metadata[i][p]\n",
    "    \n",
    "    def __arrange__(self, angle, radius, vset, center=None, prev_layer_connections={}):\n",
    "        center = center if center is not None else self._center\n",
    "        if angle == 360: \n",
    "            self.__set_vertex_property__(vset[0], \"point\", center)\n",
    "            return [center]#if the angle is 360 this can only be a dot in the center\n",
    "        m,accepted = 1,None\n",
    "        for offset in [angle]:\n",
    "            proposed = [self.__polarToCartesian__( (i+1)*angle, radius,center) for i, v in enumerate(vset)]\n",
    "            _m = self.__measure_inter_layer_chords__(prev_layer_connections, proposed)\n",
    "            if m ==-1 or _m < m: \n",
    "                accepted, m = proposed, _m\n",
    "                for i,v in enumerate(vset):\n",
    "                    self.__set_vertex_property__(v, \"point\", [proposed[i][0],proposed[i][1]])\n",
    "                    self.__set_vertex_property__(v, \"angle\", proposed[i][-1])\n",
    "                    self.__set_vertex_property__(v, \"radius\", radius)\n",
    "                            \n",
    "        return accepted\n",
    "\n",
    "    def __describeArc__(self, startAngle, endAngle, radius,pid=None):\n",
    "        return arc((startAngle,endAngle),radius, self._center,self._size, pid=pid).body    \n",
    "           \n",
    "    def try_get_connecting_edges(self, v):\n",
    "        #look up the metadata for v and get all edges that are adjacent to it that we know about\n",
    "        for u in self._inc.get_coincident_vertices(v):\n",
    "            if u in self._metadata and v in self._metadata: \n",
    "                _u,_v = u,v\n",
    "                #if the max length is exceeded, try to get a nice arc otherwise....\n",
    "                #max length is the length of the verticle chord connecting the bottom of one disk to the point on the outer disk          \n",
    "                pid = self._inc.try_directed_edge_index(v,u)\n",
    "                if pid == None: \n",
    "                    _u,_v = _v,_u\n",
    "                    pid = self._inc.try_directed_edge_index(v,u)\n",
    "                \n",
    "                yield self.get_line([self._metadata[_v][\"point\"][0],\n",
    "                                     self._metadata[_v][\"point\"][1],\n",
    "                                     self._metadata[_u][\"point\"][0],\n",
    "                                     self._metadata[_u][\"point\"][1]],\n",
    "                                     pid=pid)\n",
    "        \n",
    "    def get_line(self, pts, colour=\"black\", dash_array=None,pid=None):\n",
    "        dash_array = \"\"\"stroke-dasharray='{}'\"\"\".format(dash_array) if dash_array != None else \"\"\n",
    "        midpoint = [(pts[0] + pts[2])/2.,(pts[1] + pts[3])/2.]            \n",
    "        #l = \"\"\"<line x1=\"{0}\" y1=\"{1}\" x2=\"{2}\" y2=\"{3}\" stroke=\"{4}\" stroke-width:2px\"  {5}   />\"\"\".format(*pts, colour,dash_array )\n",
    "        pidattr = \"\" if pid == None else \"\"\"id='edge{}'\"\"\".format(pid)\n",
    "        l = \"\"\"<path d=\"M{0} {1} L {2} {3}\" stroke=\"{4}\" stroke-width:2px\" {5} {6} /> \"\"\".format(*pts, colour,dash_array,pidattr )\n",
    "        hl = \"\"\"<line x1=\"{0}\" y1=\"{1}\" x2=\"{2}\" y2=\"{3}\" stroke=\"{4}\" stroke-width:2px\"  {5}  marker-end='url(#arrow)' />\"\"\".format(pts[0], pts[1], midpoint[0], midpoint[1], colour,dash_array )\n",
    "        return l+hl\n",
    "    \n",
    "    def __edge_segments__(self,n,a,b,vset):\n",
    "        \"\"\"\n",
    "        We always arrange vertices on disks separated by angles. Can only have vertices in [0,360]\n",
    "        We assume that the id is the arrangment id in order and that a<b for normal sense\n",
    "        if however b<a, then we have anticlockwise sense and we will change the angles for downstream reflection\n",
    "        \"\"\"\n",
    "        #if there are multiple edges, then allow - otherwise restrict direction - wrapping because its a ring\n",
    "        pid = self._inc.try_directed_edge_index(vset[a%len(vset)],vset[b%len(vset)])\n",
    "        if pid == None:\n",
    "            a,b, = b,a\n",
    "            #try and get a backup pid - i need to thing about my sustem though\n",
    "            pid = self._inc.try_directed_edge_index(vset[a%len(vset)],vset[b%len(vset)])\n",
    "\n",
    "        #get the edge index in the incidence matrix too - in fact we could just do that and if it doesnt exist we have above\n",
    "        cap = lambda x : 0 if x == 360 else x\n",
    "        slices = 360./n\n",
    "        first = a*slices\n",
    "        second = b*slices\n",
    "        if a< b: return (a*slices,b*slices), pid\n",
    "        return (a*slices,cap(b*slices)), pid\n",
    "\n",
    "    def __display__(self,edge_colouring = None, edge_styles = None):\n",
    "        ##arrangement algorithm\n",
    "        #each level of the hiearchy is given a radius >= 0 and maximally seperated items are added\n",
    "        #there are symmetric locations and these are chosen to minimise arc lengths\n",
    "        #I think maybe just try rotations of some integer factors of the freedom which is 360/|l| not including the one that gives the symmetry of course      \n",
    "        marker_style = arc.get_header()\n",
    "        self.body += marker_style\n",
    "        levels = len(self._vertex_depths)\n",
    "        \n",
    "        radii_margins = [20*(levels-(i)) for i in reversed(range(len(self._vertex_depths))) ]\n",
    "        angles = [(360./len(v)) for v in self._vertex_depths]\n",
    "        for i, vset in enumerate(self._vertex_depths): \n",
    "            radius = self.radius-radii_margins[i]\n",
    "            for coord in self.__arrange__(angles[i],radius , vset):\n",
    "                self.body+= \"\"\"<circle cx=\"{0}\" cy=\"{1}\" r=\"3\" stroke=\"black\" stroke-width=\"1\" fill=\"black\" /> \"\"\".format(*coord)\n",
    "                \n",
    "            #above the vertices can be aligned in any sensible way but below, edges must respect direction of incidence   \n",
    "            #refactor below to simply go to the incidence matrix and get edges... if they are same-loop, arc them, otherwise straight line?\n",
    "            \n",
    "            for j,v in enumerate(vset):#make loops\n",
    "                if len(vset) == 1: continue\n",
    "                edge, pid = self.__edge_segments__(len(vset),j,j+1,vset)\n",
    "                self.body += self.__describeArc__(*edge, radius, pid=pid )\n",
    "\n",
    "            if i > 0:#after the first layer, connect edges inter-layer\n",
    "                for v in vset: \n",
    "                    for e in self.try_get_connecting_edges(v):  self.body += e\n",
    "                        \n",
    "            #for e in range(len(self._inc.edges)):\n",
    "            #    self.body+= \"\"\"<text x=\"10%\" style=\"fill: #000000;stroke: none; font-size: 16px;\" ><textPath xlink:href=\"#edge{0}\">e{0}</textPath></text>\"\"\".format(e)\n",
    "        \n",
    "        return  \"\"\"<svg xmlns=\"http://www.w3.org/2000/svg\" xmlns:xlink=\"http://www.w3.org/1999/xlink\" version=\"1.1\" x=\"{1}\" y=\"{2}\" width=\"{3}\" height=\"{4}\">\n",
    "      <g fill=\"none\" stroke=\"black\" stroke-width=\"1.6\" stroke-linecap=\"round\"> {0}  </g> </svg>\"\"\".format(self.body,  self.x, self.y, *self._size)\n",
    "\n",
    "    #def __repr__(self):return self.__display__()           \n",
    "    def __div2s__(self,n):\n",
    "        while n - int(n) == 0:\n",
    "            n/=2\n",
    "            if n - int(n) ==0: yield n\n",
    "\n",
    "                \n",
    "    def _repr_html_(self): return self.__display__()\n",
    "    \n",
    "    @property\n",
    "    def vertex_delta_functions(self):\n",
    "        pass\n",
    "    \n",
    "    @property\n",
    "    def loop_delta_functions(self):\n",
    "        pass\n",
    "    \n",
    "D = ring_diagram(INC) \n",
    "D"
   ]
  },
  {
   "cell_type": "code",
   "execution_count": 272,
   "metadata": {},
   "outputs": [
    {
     "data": {
      "text/plain": [
       "incidence_matrix([[ 1,  0, -1,  0,  0, -1,  0,  0,  0, -1,  0,  0],\n",
       "                  [-1,  1,  0,  0,  0,  0,  0,  0,  0,  0, -1,  0],\n",
       "                  [ 0, -1,  1,  0,  0,  0, -1,  0,  0,  0,  0, -1],\n",
       "                  [ 0,  0,  0,  1, -1,  1,  0,  0, -1,  0,  0,  0],\n",
       "                  [ 0,  0,  0, -1,  1,  0,  1,  1,  0,  0,  0,  0],\n",
       "                  [ 0,  0,  0,  0,  0,  0,  0, -1,  1,  0,  0,  0],\n",
       "                  [ 0,  0,  0,  0,  0,  0,  0,  0,  0,  1,  1,  1]])"
      ]
     },
     "execution_count": 272,
     "metadata": {},
     "output_type": "execute_result"
    }
   ],
   "source": [
    "inc = INC.copy()\n",
    "inc"
   ]
  },
  {
   "cell_type": "code",
   "execution_count": 283,
   "metadata": {},
   "outputs": [
    {
     "data": {
      "text/html": [
       "<svg xmlns=\"http://www.w3.org/2000/svg\" xmlns:xlink=\"http://www.w3.org/1999/xlink\" version=\"1.1\" x=\"0\" y=\"0\" width=\"200\" height=\"200\">\n",
       "      <g fill=\"none\" stroke=\"black\" stroke-width=\"1.6\" stroke-linecap=\"round\"> <defs><marker id=\"arrow\"  markerUnits=\"strokeWidth\" markerWidth='5' markerHeight='8' refX='0' refY='2' orient=\"auto\">\n",
       "                                      <path d=\"M0,0 V4 L2,2 Z\" style=\"fill: #000000;\" /> </marker></defs><circle cx=\"160\" cy=\"135\" r=\"3\" stroke=\"black\" stroke-width=\"1\" fill=\"black\" /> <circle cx=\"39\" cy=\"135\" r=\"3\" stroke=\"black\" stroke-width=\"1\" fill=\"black\" /> <circle cx=\"99\" cy=\"30\" r=\"3\" stroke=\"black\" stroke-width=\"1\" fill=\"black\" /> <path id='edge0' d=\"M  160  135  A  70  70  0  0  0  100  30 \" stroke=\"black\"  stroke-width:3px\"  /><path id='edge0' d=\"M  160  135  A  70  70  0  0  0  160  65 \" stroke=\"black\"  stroke-width:3px\" marker-end='url(#arrow)' /><path id='edge1' d=\"M  39  135  A  70  70  0  0  0  160  135 \" stroke=\"black\"  stroke-width:3px\"  /><path id='edge1' d=\"M  39  135  A  70  70  0  0  0  100  170 \" stroke=\"black\"  stroke-width:3px\" marker-end='url(#arrow)' /><path id='edge2' d=\"M  99  30  A  70  70  0  0  0  39  135 \" stroke=\"black\"  stroke-width:3px\"  /><path id='edge2' d=\"M  99  30  A  70  70  0  0  0  39  65 \" stroke=\"black\"  stroke-width:3px\" marker-end='url(#arrow)' /><circle cx=\"100\" cy=\"150\" r=\"3\" stroke=\"black\" stroke-width=\"1\" fill=\"black\" /> <circle cx=\"99\" cy=\"50\" r=\"3\" stroke=\"black\" stroke-width=\"1\" fill=\"black\" /> <path id='edge4' d=\"M  100  50  A  50  50  0  0  1  100  150 \" stroke=\"black\"  stroke-width:3px\"  /><path id='edge4' d=\"M  100  50  A  50  50  0  0  1  150  100 \" stroke=\"black\"  stroke-width:3px\" marker-end='url(#arrow)' /><path id='edge3' d=\"M  100  150  A  50  50  0  0  1  99  50 \" stroke=\"black\"  stroke-width:3px\"  /><path id='edge3' d=\"M  100  150  A  50  50  0  0  1  50  100 \" stroke=\"black\"  stroke-width:3px\" marker-end='url(#arrow)' /><path d=\"M100 150 L 160 135\" stroke=\"black\" stroke-width:2px\"  id='edge5' /> <line x1=\"100\" y1=\"150\" x2=\"130.0\" y2=\"142.5\" stroke=\"black\" stroke-width:2px\"    marker-end='url(#arrow)' /><path d=\"M99 30 L 99 50\" stroke=\"black\" stroke-width:2px\"   /> <line x1=\"99\" y1=\"30\" x2=\"99.0\" y2=\"40.0\" stroke=\"black\" stroke-width:2px\"    marker-end='url(#arrow)' /><circle cx=\"100\" cy=\"100\" r=\"3\" stroke=\"black\" stroke-width=\"1\" fill=\"black\" /> <path d=\"M100 100 L 100 150\" stroke=\"black\" stroke-width:2px\"  id='edge8' /> <line x1=\"100\" y1=\"100\" x2=\"100.0\" y2=\"125.0\" stroke=\"black\" stroke-width:2px\"    marker-end='url(#arrow)' /><path d=\"M99 50 L 100 100\" stroke=\"black\" stroke-width:2px\"   /> <line x1=\"99\" y1=\"50\" x2=\"99.5\" y2=\"75.0\" stroke=\"black\" stroke-width:2px\"    marker-end='url(#arrow)' />  </g> </svg>"
      ],
      "text/plain": [
       "<__main__.ring_diagram at 0x2ad61e3eef0>"
      ]
     },
     "execution_count": 283,
     "metadata": {},
     "output_type": "execute_result"
    }
   ],
   "source": [
    "inc.flip_edges(8)\n",
    "ring_diagram(inc) "
   ]
  },
  {
   "cell_type": "code",
   "execution_count": 284,
   "metadata": {},
   "outputs": [
    {
     "data": {
      "text/plain": [
       "incidence_matrix([[ 1,  0, -1,  0,  0,  1,  0,  0,  0, -1,  0,  0],\n",
       "                  [-1,  1,  0,  0,  0,  0,  0,  0,  0,  0, -1,  0],\n",
       "                  [ 0, -1,  1,  0,  0,  0, -1,  0,  0,  0,  0, -1],\n",
       "                  [ 0,  0,  0,  1, -1, -1,  0,  0,  1,  0,  0,  0],\n",
       "                  [ 0,  0,  0, -1,  1,  0,  1, -1,  0,  0,  0,  0],\n",
       "                  [ 0,  0,  0,  0,  0,  0,  0,  1, -1,  0,  0,  0],\n",
       "                  [ 0,  0,  0,  0,  0,  0,  0,  0,  0,  1,  1,  1]])"
      ]
     },
     "execution_count": 284,
     "metadata": {},
     "output_type": "execute_result"
    }
   ],
   "source": [
    "inc"
   ]
  },
  {
   "cell_type": "code",
   "execution_count": null,
   "metadata": {
    "collapsed": true
   },
   "outputs": [],
   "source": []
  },
  {
   "cell_type": "code",
   "execution_count": null,
   "metadata": {
    "collapsed": true
   },
   "outputs": [],
   "source": []
  }
 ],
 "metadata": {
  "kernelspec": {
   "display_name": "Python 3",
   "language": "python",
   "name": "python3"
  },
  "language_info": {
   "codemirror_mode": {
    "name": "ipython",
    "version": 3
   },
   "file_extension": ".py",
   "mimetype": "text/x-python",
   "name": "python",
   "nbconvert_exporter": "python",
   "pygments_lexer": "ipython3",
   "version": "3.6.3"
  }
 },
 "nbformat": 4,
 "nbformat_minor": 2
}
