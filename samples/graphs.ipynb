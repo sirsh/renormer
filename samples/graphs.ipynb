{
 "cells": [
  {
   "cell_type": "code",
   "execution_count": 1,
   "metadata": {
    "collapsed": true
   },
   "outputs": [],
   "source": [
    "import sys\n",
    "sys.path.append(\"../\")\n",
    "import rg\n",
    "from rg.graph import incidence_matrix\n",
    "from rg.graph import ring_diagram ,show_spanning_trees\n",
    "from rg.graph import circuits, set_circuit_flow,set_source_sink_flow,apply_flow\n",
    "from rg.graph import scalar_propagator\n",
    "#for inline dev\n",
    "import numpy as np\n",
    "from sympy import *"
   ]
  },
  {
   "cell_type": "markdown",
   "metadata": {},
   "source": [
    "# Colourings\n",
    "On a one loop graph with one species, there are as many colourings as there paths of any length between pairs of external vertices\n",
    " - which is to say, as many colourings as there are external vertices\n",
    " - if something can be expressed as a three colouring, we can always find a single pole to produce something on the propagator basis\n",
    " - adding species, even we project a large space of colourings, the graph can only every be expressed as a 3-colouring - not true, can change colour internally\n",
    " - however the kinematics from the species colouring enters trivially in the integration i think although we should check the multiple residues"
   ]
  },
  {
   "cell_type": "code",
   "execution_count": 4,
   "metadata": {},
   "outputs": [
    {
     "data": {
      "text/html": [
       "<svg xmlns=\"http://www.w3.org/2000/svg\" xmlns:xlink=\"http://www.w3.org/1999/xlink\" version=\"1.1\" x=\"0\" y=\"0\" width=\"200\" height=\"200\">\n",
       "      <g fill=\"none\" stroke=\"black\" stroke-width=\"1.6\" stroke-linecap=\"round\" transform=\"rotate(90,100,100)\"> <defs><marker id=\"arrow\"  markerUnits=\"strokeWidth\" markerWidth='5' markerHeight='8' refX='0' refY='2' orient=\"auto\">\n",
       "                                      <path d=\"M0,0 V4 L2,2 Z\" style=\"fill: #000000;\" /> </marker></defs><circle cx=\"100\" cy=\"170\" r=\"3\" stroke=\"black\" stroke-width=\"1\" fill=\"black\" /> <circle cx=\"99\" cy=\"30\" r=\"3\" stroke=\"black\" stroke-width=\"1\" fill=\"black\" /> <path id='edge0' d=\"M  100  170  A  70  70  0  0  1  99  30 \" stroke=\"black\"  stroke-width=\"2px\"   /><path id='edge0' d=\"M  100  170  A  70  70  0  0  1  30  100 \" stroke=\"black\"  stroke-width=\"2px\" marker-end='url(#arrow)'  /><path id='edge1' d=\"M  100  30  A  70  70  0  0  1  100  170 \" stroke=\"black\"  stroke-width=\"2px\"   /><path id='edge1' d=\"M  100  30  A  70  70  0  0  1  170  100 \" stroke=\"black\"  stroke-width=\"2px\" marker-end='url(#arrow)'  /><text x=\"10%\" style=\"fill: #000000;stroke: none; font-size: 14px;\" ><textPath xlink:href=\"#edge0\">e0</textPath></text><text x=\"10%\" style=\"fill: #000000;stroke: none; font-size: 14px;\" ><textPath xlink:href=\"#edge1\">e1</textPath></text>  </g> </svg>"
      ],
      "text/plain": [
       "<rg.graph.viz.ring_diagram at 0x157256bef28>"
      ]
     },
     "execution_count": 4,
     "metadata": {},
     "output_type": "execute_result"
    }
   ],
   "source": [
    "A = incidence_matrix(2,2,\n",
    "                       [ [0,1], [1,0]],\n",
    "                       external_vertices=[0,1])\n",
    "#apply_flow(A,set_source_sink_flow)\n",
    "ring_diagram(A, options={\"show_labels\"})"
   ]
  },
  {
   "cell_type": "code",
   "execution_count": 42,
   "metadata": {},
   "outputs": [
    {
     "data": {
      "image/png": "[encoded data removed]",
      "text/latex": [
       "$$\\left \\{ p_{0} : - p_{1} - q_{1}, \\quad q_{0} : - q_{1}\\right \\}$$"
      ],
      "text/plain": [
       "{p₀: -p₁ - q₁, q₀: -q₁}"
      ]
     },
     "execution_count": 42,
     "metadata": {},
     "output_type": "execute_result"
    }
   ],
   "source": [
    "A.constraint_system(True)"
   ]
  },
  {
   "cell_type": "code",
   "execution_count": 43,
   "metadata": {},
   "outputs": [
    {
     "data": {
      "text/html": [
       "<svg xmlns=\"http://www.w3.org/2000/svg\" xmlns:xlink=\"http://www.w3.org/1999/xlink\" version=\"1.1\" x=\"0\" y=\"0\" width=\"200\" height=\"200\">\n",
       "      <g fill=\"none\" stroke=\"black\" stroke-width=\"1.6\" stroke-linecap=\"round\" transform=\"rotate(90,100,100)\"> <defs><marker id=\"arrow\"  markerUnits=\"strokeWidth\" markerWidth='5' markerHeight='8' refX='0' refY='2' orient=\"auto\">\n",
       "                                      <path d=\"M0,0 V4 L2,2 Z\" style=\"fill: #000000;\" /> </marker></defs><circle cx=\"100\" cy=\"170\" r=\"3\" stroke=\"black\" stroke-width=\"1\" fill=\"black\" /> <circle cx=\"99\" cy=\"30\" r=\"3\" stroke=\"black\" stroke-width=\"1\" fill=\"black\" /> <circle cx=\"100\" cy=\"100\" r=\"3\" stroke=\"black\" stroke-width=\"1\" fill=\"black\" /> <path id='edge0' d=\"M  100  170  A  70  70  0  0  1  99  30 \" stroke=\"black\"  stroke-width=\"2px\"   /><path id='edge0' d=\"M  100  170  A  70  70  0  0  1  30  100 \" stroke=\"black\"  stroke-width=\"2px\" marker-end='url(#arrow)'  /><path d=\"M100 170 L 100 100\" stroke=\"black\" stroke-width=\"2px\" id='edge2'   /> <line x1=\"100\" y1=\"170\" x2=\"100.0\" y2=\"135.0\" stroke=\"black\" stroke-width=\"2px\"  id='edge2'   marker-end='url(#arrow)' /><path d=\"M100 100 L 99 30\" stroke=\"black\" stroke-width=\"2px\" id='edge1'   /> <line x1=\"100\" y1=\"100\" x2=\"99.5\" y2=\"65.0\" stroke=\"black\" stroke-width=\"2px\"  id='edge1'   marker-end='url(#arrow)' />  </g> </svg>"
      ],
      "text/plain": [
       "<rg.graph.viz.ring_diagram at 0x2383c3f4438>"
      ]
     },
     "execution_count": 43,
     "metadata": {},
     "output_type": "execute_result"
    }
   ],
   "source": [
    "B = incidence_matrix(3,3,\n",
    "                       [ [0,1], [1,2], [2,0]],\n",
    "                       external_vertices=[0,1])\n",
    "apply_flow(B,set_source_sink_flow)\n",
    "ring_diagram(B)"
   ]
  },
  {
   "cell_type": "code",
   "execution_count": 44,
   "metadata": {},
   "outputs": [
    {
     "data": {
      "image/png": "[encoded data removed]",
      "text/latex": [
       "$$\\left \\{ p_{0} : - p_{2} - q_{1}, \\quad p_{1} : p_{2}, \\quad q_{0} : - q_{1}\\right \\}$$"
      ],
      "text/plain": [
       "{p₀: -p₂ - q₁, p₁: p₂, q₀: -q₁}"
      ]
     },
     "execution_count": 44,
     "metadata": {},
     "output_type": "execute_result"
    }
   ],
   "source": [
    "B.constraint_system(True)"
   ]
  },
  {
   "cell_type": "code",
   "execution_count": 47,
   "metadata": {},
   "outputs": [
    {
     "data": {
      "text/html": [
       "<svg xmlns=\"http://www.w3.org/2000/svg\" xmlns:xlink=\"http://www.w3.org/1999/xlink\" version=\"1.1\" x=\"0\" y=\"0\" width=\"200\" height=\"200\">\n",
       "      <g fill=\"none\" stroke=\"black\" stroke-width=\"1.6\" stroke-linecap=\"round\" transform=\"rotate(90,100,100)\"> <defs><marker id=\"arrow\"  markerUnits=\"strokeWidth\" markerWidth='5' markerHeight='8' refX='0' refY='2' orient=\"auto\">\n",
       "                                      <path d=\"M0,0 V4 L2,2 Z\" style=\"fill: #000000;\" /> </marker></defs><circle cx=\"160\" cy=\"135\" r=\"3\" stroke=\"black\" stroke-width=\"1\" fill=\"black\" /> <circle cx=\"39\" cy=\"135\" r=\"3\" stroke=\"black\" stroke-width=\"1\" fill=\"black\" /> <circle cx=\"99\" cy=\"30\" r=\"3\" stroke=\"black\" stroke-width=\"1\" fill=\"black\" /> <path id='edge0' d=\"M  160  135  A  70  70  0  0  1  39  135 \" stroke=\"black\"  stroke-width=\"2px\"   /><path id='edge0' d=\"M  160  135  A  70  70  0  0  1  100  170 \" stroke=\"black\"  stroke-width=\"2px\" marker-end='url(#arrow)'  /><path id='edge2' d=\"M  160  135  A  70  70  0  0  0  100  30 \" stroke=\"black\"  stroke-width=\"2px\"   /><path id='edge2' d=\"M  160  135  A  70  70  0  0  0  160  65 \" stroke=\"black\"  stroke-width=\"2px\" marker-end='url(#arrow)'  /><path id='edge1' d=\"M  99  30  A  70  70  0  0  0  39  135 \" stroke=\"black\"  stroke-width=\"2px\"   /><path id='edge1' d=\"M  99  30  A  70  70  0  0  0  39  65 \" stroke=\"black\"  stroke-width=\"2px\" marker-end='url(#arrow)'  />  </g> </svg>"
      ],
      "text/plain": [
       "<rg.graph.viz.ring_diagram at 0x2383c3de978>"
      ]
     },
     "execution_count": 47,
     "metadata": {},
     "output_type": "execute_result"
    }
   ],
   "source": [
    "C = incidence_matrix(3,3,\n",
    "                       [ [0,1], [1,2], [2,0]],\n",
    "                       external_vertices=[0,1,2])\n",
    "apply_flow(C,set_source_sink_flow)\n",
    "ring_diagram(C)"
   ]
  },
  {
   "cell_type": "code",
   "execution_count": 48,
   "metadata": {},
   "outputs": [
    {
     "data": {
      "image/png": "[encoded data removed]",
      "text/latex": [
       "$$\\left \\{ p_{0} : - p_{2} - q_{1} - q_{2}, \\quad p_{1} : p_{2} + q_{2}, \\quad q_{0} : - q_{1} - q_{2}\\right \\}$$"
      ],
      "text/plain": [
       "{p₀: -p₂ - q₁ - q₂, p₁: p₂ + q₂, q₀: -q₁ - q₂}"
      ]
     },
     "execution_count": 48,
     "metadata": {},
     "output_type": "execute_result"
    }
   ],
   "source": [
    "C.constraint_system(True)"
   ]
  },
  {
   "cell_type": "code",
   "execution_count": 51,
   "metadata": {},
   "outputs": [
    {
     "data": {
      "text/html": [
       "<svg xmlns=\"http://www.w3.org/2000/svg\" xmlns:xlink=\"http://www.w3.org/1999/xlink\" version=\"1.1\" x=\"0\" y=\"0\" width=\"200\" height=\"200\">\n",
       "      <g fill=\"none\" stroke=\"black\" stroke-width=\"1.6\" stroke-linecap=\"round\" transform=\"rotate(90,100,100)\"> <defs><marker id=\"arrow\"  markerUnits=\"strokeWidth\" markerWidth='5' markerHeight='8' refX='0' refY='2' orient=\"auto\">\n",
       "                                      <path d=\"M0,0 V4 L2,2 Z\" style=\"fill: #000000;\" /> </marker></defs><circle cx=\"160\" cy=\"135\" r=\"3\" stroke=\"black\" stroke-width=\"1\" fill=\"black\" /> <circle cx=\"39\" cy=\"135\" r=\"3\" stroke=\"black\" stroke-width=\"1\" fill=\"black\" /> <circle cx=\"99\" cy=\"30\" r=\"3\" stroke=\"black\" stroke-width=\"1\" fill=\"black\" /> <circle cx=\"100\" cy=\"100\" r=\"3\" stroke=\"black\" stroke-width=\"1\" fill=\"black\" /> <path id='edge0' d=\"M  160  135  A  70  70  0  0  1  39  135 \" stroke=\"black\"  stroke-width=\"2px\"   /><path id='edge0' d=\"M  160  135  A  70  70  0  0  1  100  170 \" stroke=\"black\"  stroke-width=\"2px\" marker-end='url(#arrow)'  /><path d=\"M160 135 L 100 100\" stroke=\"black\" stroke-width=\"2px\" id='edge3'   /> <line x1=\"160\" y1=\"135\" x2=\"130.0\" y2=\"117.5\" stroke=\"black\" stroke-width=\"2px\"  id='edge3'   marker-end='url(#arrow)' /><path id='edge1' d=\"M  99  30  A  70  70  0  0  0  39  135 \" stroke=\"black\"  stroke-width=\"2px\"   /><path id='edge1' d=\"M  99  30  A  70  70  0  0  0  39  65 \" stroke=\"black\"  stroke-width=\"2px\" marker-end='url(#arrow)'  /><path d=\"M100 100 L 99 30\" stroke=\"black\" stroke-width=\"2px\" id='edge2'   /> <line x1=\"100\" y1=\"100\" x2=\"99.5\" y2=\"65.0\" stroke=\"black\" stroke-width=\"2px\"  id='edge2'   marker-end='url(#arrow)' />  </g> </svg>"
      ],
      "text/plain": [
       "<rg.graph.viz.ring_diagram at 0x2383c3f4ba8>"
      ]
     },
     "execution_count": 51,
     "metadata": {},
     "output_type": "execute_result"
    }
   ],
   "source": [
    "D = incidence_matrix(4,4,\n",
    "                       [ [0,1], [1,2], [2,3], [3,0]],\n",
    "                       external_vertices=[0,1,2])\n",
    "apply_flow(D,set_source_sink_flow)\n",
    "ring_diagram(D, )#options={\"show_labels\"} messed up label"
   ]
  },
  {
   "cell_type": "code",
   "execution_count": 54,
   "metadata": {},
   "outputs": [
    {
     "data": {
      "image/png": "[encoded data removed]",
      "text/latex": [
       "$$\\left \\{ p_{0} : - p_{3} - q_{1} - q_{2}, \\quad p_{1} : p_{3} + q_{2}, \\quad p_{2} : p_{3}, \\quad q_{0} : - q_{1} - q_{2}\\right \\}$$"
      ],
      "text/plain": [
       "{p₀: -p₃ - q₁ - q₂, p₁: p₃ + q₂, p₂: p₃, q₀: -q₁ - q₂}"
      ]
     },
     "execution_count": 54,
     "metadata": {},
     "output_type": "execute_result"
    }
   ],
   "source": [
    "#3 linearly independent internal edges can be generated from (3,1)\n",
    "D.constraint_system(True)"
   ]
  },
  {
   "cell_type": "code",
   "execution_count": 58,
   "metadata": {},
   "outputs": [
    {
     "data": {
      "text/html": [
       "<svg xmlns=\"http://www.w3.org/2000/svg\" xmlns:xlink=\"http://www.w3.org/1999/xlink\" version=\"1.1\" x=\"0\" y=\"0\" width=\"200\" height=\"200\">\n",
       "      <g fill=\"none\" stroke=\"black\" stroke-width=\"1.6\" stroke-linecap=\"round\" transform=\"rotate(90,100,100)\"> <defs><marker id=\"arrow\"  markerUnits=\"strokeWidth\" markerWidth='5' markerHeight='8' refX='0' refY='2' orient=\"auto\">\n",
       "                                      <path d=\"M0,0 V4 L2,2 Z\" style=\"fill: #000000;\" /> </marker></defs><circle cx=\"160\" cy=\"135\" r=\"3\" stroke=\"black\" stroke-width=\"1\" fill=\"black\" /> <circle cx=\"39\" cy=\"135\" r=\"3\" stroke=\"black\" stroke-width=\"1\" fill=\"black\" /> <circle cx=\"99\" cy=\"30\" r=\"3\" stroke=\"black\" stroke-width=\"1\" fill=\"black\" /> <circle cx=\"100\" cy=\"150\" r=\"3\" stroke=\"black\" stroke-width=\"1\" fill=\"black\" /> <circle cx=\"99\" cy=\"50\" r=\"3\" stroke=\"black\" stroke-width=\"1\" fill=\"black\" /> <path id='edge0' d=\"M  160  135  A  70  70  0  0  1  39  135 \" stroke=\"black\"  stroke-width=\"2px\"   /><path id='edge0' d=\"M  160  135  A  70  70  0  0  1  100  170 \" stroke=\"black\"  stroke-width=\"2px\" marker-end='url(#arrow)'  /><path d=\"M160 135 L 100 150\" stroke=\"black\" stroke-width=\"2px\" id='edge4'   /> <line x1=\"160\" y1=\"135\" x2=\"130.0\" y2=\"142.5\" stroke=\"black\" stroke-width=\"2px\"  id='edge4'   marker-end='url(#arrow)' /><path id='edge1' d=\"M  99  30  A  70  70  0  0  0  39  135 \" stroke=\"black\"  stroke-width=\"2px\"   /><path id='edge1' d=\"M  99  30  A  70  70  0  0  0  39  65 \" stroke=\"black\"  stroke-width=\"2px\" marker-end='url(#arrow)'  /><path d=\"M99 50 L 99 30\" stroke=\"black\" stroke-width=\"2px\" id='edge2'   /> <line x1=\"99\" y1=\"50\" x2=\"99.0\" y2=\"40.0\" stroke=\"black\" stroke-width=\"2px\"  id='edge2'   marker-end='url(#arrow)' /><path id='edge3' d=\"M  100  150  A  50  50  0  0  1  99  50 \" stroke=\"black\"  stroke-width=\"2px\"   /><path id='edge3' d=\"M  100  150  A  50  50  0  0  1  50  100 \" stroke=\"black\"  stroke-width=\"2px\" marker-end='url(#arrow)'  />  </g> </svg>"
      ],
      "text/plain": [
       "<rg.graph.viz.ring_diagram at 0x2383c3c4898>"
      ]
     },
     "execution_count": 58,
     "metadata": {},
     "output_type": "execute_result"
    }
   ],
   "source": [
    "E = incidence_matrix(5,5,\n",
    "                       [ [0,1], [1,2], [2,3], [3,4], [4,0]],\n",
    "                       external_vertices=[0,1,2])\n",
    "apply_flow(E,set_source_sink_flow)\n",
    "ring_diagram(E, )#options={\"show_labels\"} messed up label"
   ]
  },
  {
   "cell_type": "code",
   "execution_count": 59,
   "metadata": {},
   "outputs": [
    {
     "data": {
      "image/png": "[encoded data removed]",
      "text/latex": [
       "$$\\left \\{ p_{0} : - p_{4} - q_{1} - q_{2}, \\quad p_{1} : p_{4} + q_{2}, \\quad p_{2} : p_{4}, \\quad p_{3} : p_{4}, \\quad q_{0} : - q_{1} - q_{2}\\right \\}$$"
      ],
      "text/plain": [
       "{p₀: -p₄ - q₁ - q₂, p₁: p₄ + q₂, p₂: p₄, p₃: p₄, q₀: -q₁ - q₂}"
      ]
     },
     "execution_count": 59,
     "metadata": {},
     "output_type": "execute_result"
    }
   ],
   "source": [
    "#3 linearly independent internal edges can be generated from (4,1)\n",
    "E.constraint_system(True)"
   ]
  },
  {
   "cell_type": "code",
   "execution_count": 75,
   "metadata": {},
   "outputs": [
    {
     "data": {
      "text/html": [
       "<svg xmlns=\"http://www.w3.org/2000/svg\" xmlns:xlink=\"http://www.w3.org/1999/xlink\" version=\"1.1\" x=\"0\" y=\"0\" width=\"200\" height=\"200\">\n",
       "      <g fill=\"none\" stroke=\"black\" stroke-width=\"1.6\" stroke-linecap=\"round\" transform=\"rotate(90,100,100)\"> <defs><marker id=\"arrow\"  markerUnits=\"strokeWidth\" markerWidth='5' markerHeight='8' refX='0' refY='2' orient=\"auto\">\n",
       "                                      <path d=\"M0,0 V4 L2,2 Z\" style=\"fill: #000000;\" /> </marker></defs><circle cx=\"160\" cy=\"135\" r=\"3\" stroke=\"black\" stroke-width=\"1\" fill=\"black\" /> <circle cx=\"39\" cy=\"135\" r=\"3\" stroke=\"black\" stroke-width=\"1\" fill=\"black\" /> <circle cx=\"99\" cy=\"30\" r=\"3\" stroke=\"black\" stroke-width=\"1\" fill=\"black\" /> <circle cx=\"100\" cy=\"150\" r=\"3\" stroke=\"black\" stroke-width=\"1\" fill=\"black\" /> <circle cx=\"99\" cy=\"50\" r=\"3\" stroke=\"black\" stroke-width=\"1\" fill=\"black\" /> <path id='edge0' d=\"M  160  135  A  70  70  0  0  1  39  135 \" stroke=\"black\"  stroke-width=\"2px\"   /><path id='edge0' d=\"M  160  135  A  70  70  0  0  1  100  170 \" stroke=\"black\"  stroke-width=\"2px\" marker-end='url(#arrow)'  /><path id='edge4' d=\"M  160  135  A  70  70  0  0  0  100  30 \" stroke=\"black\"  stroke-width=\"2px\"   /><path id='edge4' d=\"M  160  135  A  70  70  0  0  0  160  65 \" stroke=\"black\"  stroke-width=\"2px\" marker-end='url(#arrow)'  /><path d=\"M100 150 L 39 135\" stroke=\"black\" stroke-width=\"2px\" id='edge1'   /> <line x1=\"100\" y1=\"150\" x2=\"69.5\" y2=\"142.5\" stroke=\"black\" stroke-width=\"2px\"  id='edge1'   marker-end='url(#arrow)' /><path id='edge2' d=\"M  99  50  A  50  50  0  0  0  100  150 \" stroke=\"black\"  stroke-width=\"2px\"   /><path id='edge2' d=\"M  99  50  A  50  50  0  0  0  50  100 \" stroke=\"black\"  stroke-width=\"2px\" marker-end='url(#arrow)'  /><path d=\"M99 30 L 99 50\" stroke=\"black\" stroke-width=\"2px\" id='edge3'   /> <line x1=\"99\" y1=\"30\" x2=\"99.0\" y2=\"40.0\" stroke=\"black\" stroke-width=\"2px\"  id='edge3'   marker-end='url(#arrow)' />  </g> </svg>"
      ],
      "text/plain": [
       "<rg.graph.viz.ring_diagram at 0x23829c8a470>"
      ]
     },
     "execution_count": 75,
     "metadata": {},
     "output_type": "execute_result"
    }
   ],
   "source": [
    "F = incidence_matrix(5,5,\n",
    "                       [ [0,1], [1,2], [2,3], [3,4], [4,0]],\n",
    "                       external_vertices=[0,1,4])\n",
    "apply_flow(F,set_source_sink_flow)\n",
    "ring_diagram(F, )#options={\"show_labels\"} messed up label"
   ]
  },
  {
   "cell_type": "code",
   "execution_count": 76,
   "metadata": {},
   "outputs": [
    {
     "data": {
      "image/png": "[encoded data removed]",
      "text/latex": [
       "$$\\left \\{ p_{0} : - p_{4} - q_{1} - q_{2}, \\quad p_{1} : p_{4} + q_{2}, \\quad p_{2} : p_{4} + q_{2}, \\quad p_{3} : p_{4} + q_{2}, \\quad q_{0} : - q_{1} - q_{2}\\right \\}$$"
      ],
      "text/plain": [
       "{p₀: -p₄ - q₁ - q₂, p₁: p₄ + q₂, p₂: p₄ + q₂, p₃: p₄ + q₂, q₀: -q₁ - q₂}"
      ]
     },
     "execution_count": 76,
     "metadata": {},
     "output_type": "execute_result"
    }
   ],
   "source": [
    "#2 linearly independant? - no actually , just a trick p4 is on its own where as above, p1 is on its own\n",
    "#actually 3 - so there are as many as there paths i.e. as many as there are externals\n",
    "F.constraint_system(True)"
   ]
  },
  {
   "cell_type": "code",
   "execution_count": 77,
   "metadata": {},
   "outputs": [
    {
     "data": {
      "text/html": [
       "<svg xmlns=\"http://www.w3.org/2000/svg\" xmlns:xlink=\"http://www.w3.org/1999/xlink\" version=\"1.1\" x=\"0\" y=\"0\" width=\"200\" height=\"200\">\n",
       "      <g fill=\"none\" stroke=\"black\" stroke-width=\"1.6\" stroke-linecap=\"round\" transform=\"rotate(90,100,100)\"> <defs><marker id=\"arrow\"  markerUnits=\"strokeWidth\" markerWidth='5' markerHeight='8' refX='0' refY='2' orient=\"auto\">\n",
       "                                      <path d=\"M0,0 V4 L2,2 Z\" style=\"fill: #000000;\" /> </marker></defs><circle cx=\"160\" cy=\"135\" r=\"3\" stroke=\"black\" stroke-width=\"1\" fill=\"black\" /> <circle cx=\"39\" cy=\"135\" r=\"3\" stroke=\"black\" stroke-width=\"1\" fill=\"black\" /> <circle cx=\"99\" cy=\"30\" r=\"3\" stroke=\"black\" stroke-width=\"1\" fill=\"black\" /> <circle cx=\"100\" cy=\"150\" r=\"3\" stroke=\"black\" stroke-width=\"1\" fill=\"black\" /> <circle cx=\"99\" cy=\"50\" r=\"3\" stroke=\"black\" stroke-width=\"1\" fill=\"black\" /> <path id='edge4' d=\"M  160  135  A  70  70  0  0  0  100  30 \" stroke=\"black\"  stroke-width=\"2px\"   /><path id='edge4' d=\"M  160  135  A  70  70  0  0  0  160  65 \" stroke=\"black\"  stroke-width=\"2px\" marker-end='url(#arrow)'  /><path d=\"M160 135 L 100 150\" stroke=\"black\" stroke-width=\"2px\" id='edge0'   /> <line x1=\"160\" y1=\"135\" x2=\"130.0\" y2=\"142.5\" stroke=\"black\" stroke-width=\"2px\"  id='edge0'   marker-end='url(#arrow)' /><path d=\"M99 50 L 39 135\" stroke=\"black\" stroke-width=\"2px\" id='edge2'   /> <line x1=\"99\" y1=\"50\" x2=\"69.0\" y2=\"92.5\" stroke=\"black\" stroke-width=\"2px\"  id='edge2'   marker-end='url(#arrow)' /><path d=\"M100 150 L 39 135\" stroke=\"black\" stroke-width=\"2px\" id='edge1'   /> <line x1=\"100\" y1=\"150\" x2=\"69.5\" y2=\"142.5\" stroke=\"black\" stroke-width=\"2px\"  id='edge1'   marker-end='url(#arrow)' /><path d=\"M99 30 L 99 50\" stroke=\"black\" stroke-width=\"2px\" id='edge3'   /> <line x1=\"99\" y1=\"30\" x2=\"99.0\" y2=\"40.0\" stroke=\"black\" stroke-width=\"2px\"  id='edge3'   marker-end='url(#arrow)' />  </g> </svg>"
      ],
      "text/plain": [
       "<rg.graph.viz.ring_diagram at 0x2383c3c8ef0>"
      ]
     },
     "execution_count": 77,
     "metadata": {},
     "output_type": "execute_result"
    }
   ],
   "source": [
    "G = incidence_matrix(5,5,\n",
    "                       [ [0,1], [1,2], [2,3], [3,4], [4,0]],\n",
    "                       external_vertices=[0,2,4])\n",
    "apply_flow(G,set_source_sink_flow)\n",
    "ring_diagram(G, )#options={\"show_labels\"} messed up label"
   ]
  },
  {
   "cell_type": "code",
   "execution_count": 78,
   "metadata": {},
   "outputs": [
    {
     "data": {
      "image/png": "[encoded data removed]",
      "text/latex": [
       "$$\\left \\{ p_{0} : - p_{4} - q_{1} - q_{2}, \\quad p_{1} : - p_{4} - q_{1} - q_{2}, \\quad p_{2} : p_{4} + q_{2}, \\quad p_{3} : p_{4} + q_{2}, \\quad q_{0} : - q_{1} - q_{2}\\right \\}$$"
      ],
      "text/plain": [
       "{p₀: -p₄ - q₁ - q₂, p₁: -p₄ - q₁ - q₂, p₂: p₄ + q₂, p₃: p₄ + q₂, q₀: -q₁ - q₂}"
      ]
     },
     "execution_count": 78,
     "metadata": {},
     "output_type": "execute_result"
    }
   ],
   "source": [
    "G.constraint_system(True)"
   ]
  },
  {
   "cell_type": "code",
   "execution_count": null,
   "metadata": {
    "collapsed": true
   },
   "outputs": [],
   "source": [
    "#The graph will have islands of internal nodes which will have the same momenta. \n",
    "#So no matter how many external nodes there are, if they are contiguous we minimise the number of colourings"
   ]
  },
  {
   "cell_type": "markdown",
   "metadata": {},
   "source": [
    "## work in progress\n",
    "\n",
    "What is the best method for determining the edge basis. Cycles can be used. \n",
    "- Important to partition cycles into positive and negative frequencies\n",
    "- Import to attribute to each edge the correct edge basis"
   ]
  },
  {
   "cell_type": "markdown",
   "metadata": {},
   "source": [
    "### from the constraints at vertices, we try to construct an edge basis \n",
    " - need to be careful about Sympy interface because I am not sure about some things yet"
   ]
  },
  {
   "cell_type": "code",
   "execution_count": null,
   "metadata": {
    "collapsed": true
   },
   "outputs": [],
   "source": [
    "sunset = incidence_matrix(3,2,\n",
    "                       [ [0,1], [1,0], [0,1]  ],\n",
    "                       external_vertices=[0,1])\n",
    "\n",
    "L = sunset.first_betti_number\n",
    "maps = sunset.edges_to_loop_basis()\n",
    "#these are the ids of each edge in the incidence matrix and their coefficients on the edge basis\n",
    "#if there are two loops and two externals each edge takes a vector: [L1|L2|EX1|EX2]\n",
    "maps"
   ]
  },
  {
   "cell_type": "code",
   "execution_count": null,
   "metadata": {
    "collapsed": true
   },
   "outputs": [],
   "source": [
    "#given an edge basis and a known loop number, create the propagator for each edge - here we know to use the first L as the loop basis\n",
    "scalar_propagator(maps[0][:L], maps[0][L:])"
   ]
  },
  {
   "cell_type": "code",
   "execution_count": null,
   "metadata": {
    "collapsed": true
   },
   "outputs": [],
   "source": [
    "#apply_flow(sunset, set_source_sink_flow)\n",
    "#sunset.flip_edges(0)\n",
    "ring_diagram(sunset)"
   ]
  },
  {
   "cell_type": "markdown",
   "metadata": {},
   "source": [
    "### all the propagators look like this"
   ]
  },
  {
   "cell_type": "code",
   "execution_count": null,
   "metadata": {
    "collapsed": true
   },
   "outputs": [],
   "source": [
    "rg._product_([scalar_propagator(maps[i][:L], maps[i][L:]).value for i in maps.keys()])"
   ]
  },
  {
   "cell_type": "code",
   "execution_count": null,
   "metadata": {
    "collapsed": true
   },
   "outputs": [],
   "source": [
    "#below is displayed with the source sink flow used to solve constraints and not the loop flow...\n",
    "#but we can see from the propagators that e0 and e1 flow in the *some* direction and e1 flows opposite for each loop variable\n",
    "#it is important that the loop variables are represented with opposite signs for the set of propagaors\n",
    "ring_diagram(sunset, options={\"show_labels\"})"
   ]
  },
  {
   "cell_type": "code",
   "execution_count": null,
   "metadata": {
    "collapsed": true
   },
   "outputs": [],
   "source": [
    "apply_flow(sunset,set_circuit_flow)\n",
    "ring_diagram(sunset, options={\"show_labels\"})"
   ]
  },
  {
   "cell_type": "markdown",
   "metadata": {},
   "source": [
    "### example of the shorthand \n",
    "- convention must be known but useful to create a larger integral from matrix of coefficients"
   ]
  },
  {
   "cell_type": "code",
   "execution_count": null,
   "metadata": {
    "collapsed": true
   },
   "outputs": [],
   "source": [
    "mat = [[0,1,0,1,1,1],\n",
    "       [0,-1,0,0,2,2]]\n",
    "scalar_propagator.from_basis_vector(mat,2)"
   ]
  },
  {
   "cell_type": "markdown",
   "metadata": {},
   "source": [
    "# A first look at the incidence matrix class"
   ]
  },
  {
   "cell_type": "code",
   "execution_count": null,
   "metadata": {
    "collapsed": true
   },
   "outputs": [],
   "source": [
    "itest = incidence_matrix.__sample__()\n",
    "itest"
   ]
  },
  {
   "cell_type": "code",
   "execution_count": null,
   "metadata": {
    "collapsed": true
   },
   "outputs": [],
   "source": [
    "INC = incidence_matrix.__sample__()\n",
    "#INC.flip_edges(1)\n",
    "D = ring_diagram(INC, options={ \"show_labels\":True, }) \n",
    "D"
   ]
  },
  {
   "cell_type": "code",
   "execution_count": null,
   "metadata": {
    "collapsed": true
   },
   "outputs": [],
   "source": [
    "all_circuits=  circuits(INC,sort=True)\n",
    "all_circuits"
   ]
  },
  {
   "cell_type": "markdown",
   "metadata": {},
   "source": [
    "# now take a look at one of the spanning rees"
   ]
  },
  {
   "cell_type": "code",
   "execution_count": null,
   "metadata": {
    "collapsed": true
   },
   "outputs": [],
   "source": [
    "#show_spanning_trees(INC)"
   ]
  },
  {
   "cell_type": "code",
   "execution_count": null,
   "metadata": {
    "collapsed": true
   },
   "outputs": [],
   "source": [
    "tree = INC.spanning_trees.iloc[-1].values\n",
    "tree_cuts = INC.edge_complement(tree)\n",
    "print(tree_cuts)\n",
    "C = ring_diagram(INC, options={\"show_labels\" :True,  \"cut_edges\": tree_cuts}) \n",
    "C#._repr_html_()"
   ]
  },
  {
   "cell_type": "markdown",
   "metadata": {},
   "source": [
    "# Edge Orientations\n",
    "given cicuits, we can actually rank them by closeness to root and then we can incrementally orientate them in different ways\n",
    "\n",
    "(1) Choose a source and sink delegate on each circuit and have allow flow towards the sink\n",
    "\n",
    "(2) Respect loop momentum"
   ]
  },
  {
   "cell_type": "code",
   "execution_count": null,
   "metadata": {
    "collapsed": true
   },
   "outputs": [],
   "source": [
    "#todo the last circuit is degenerate\n",
    "INC = incidence_matrix.__sample__()\n",
    "all_circuits = circuits(INC,INC.spanning_trees.iloc[0].values)\n",
    "print(all_circuits)"
   ]
  },
  {
   "cell_type": "markdown",
   "metadata": {},
   "source": [
    "# set default circuit flow"
   ]
  },
  {
   "cell_type": "code",
   "execution_count": null,
   "metadata": {
    "collapsed": true
   },
   "outputs": [],
   "source": [
    "INC = incidence_matrix.__sample__()\n",
    "#todo technicall need to reload cicuts but they are ok\n",
    "all_circuits = circuits(INC,INC.spanning_trees.iloc[0].values)\n",
    "circ = all_circuits[3]\n",
    "#print(circ)\n",
    "res = set_circuit_flow(INC,circ)\n",
    "#print(res)\n",
    "#print(\"edge comp\", circ)\n",
    "ring_diagram(INC, options={\"show_labels\" :True,  \"cut_edges\": INC.edge_complement(circ)}) "
   ]
  },
  {
   "cell_type": "code",
   "execution_count": null,
   "metadata": {
    "collapsed": true
   },
   "outputs": [],
   "source": [
    "INC.spanning_trees.iloc[0].values"
   ]
  },
  {
   "cell_type": "markdown",
   "metadata": {},
   "source": [
    "# circuit source sink flow"
   ]
  },
  {
   "cell_type": "code",
   "execution_count": null,
   "metadata": {
    "collapsed": true
   },
   "outputs": [],
   "source": [
    "INC = incidence_matrix.__sample__()\n",
    "#todo technicall need to reload cicuts but they are ok\n",
    "all_circuits = circuits(INC,INC.spanning_trees.iloc[0].values)\n",
    "circ = all_circuits[1]\n",
    "#print(circ)\n",
    "res = set_source_sink_flow(INC,circ)\n",
    "print(\"source,sink\",res)\n",
    "#print(res)\n",
    "#print(\"edge comp\", circ)\n",
    "ring_diagram(INC, options={\"show_labels\" :True,  \"cut_edges\": INC.edge_complement(circ)}) "
   ]
  },
  {
   "cell_type": "markdown",
   "metadata": {},
   "source": [
    "# all together now...\n",
    "\n",
    "cicuits are ordered based on the average depth of vertices in the cicuit. Outer rings score best\n",
    "\n",
    "We process all cicuits in that order"
   ]
  },
  {
   "cell_type": "markdown",
   "metadata": {},
   "source": [
    "Suppose we dont remember anything from the last processed circuit..."
   ]
  },
  {
   "cell_type": "code",
   "execution_count": null,
   "metadata": {
    "collapsed": true
   },
   "outputs": [],
   "source": [
    "apply_flow(INC,set_source_sink_flow)\n",
    "ring_diagram(INC, options={\"show_labels\" :True}) "
   ]
  },
  {
   "cell_type": "code",
   "execution_count": null,
   "metadata": {
    "collapsed": true
   },
   "outputs": [],
   "source": []
  },
  {
   "cell_type": "markdown",
   "metadata": {},
   "source": [
    "# Other examples"
   ]
  },
  {
   "cell_type": "code",
   "execution_count": null,
   "metadata": {
    "collapsed": true
   },
   "outputs": [],
   "source": [
    "simp = incidence_matrix(2,2,\n",
    "                       [ [0,1], [1,0]  ],\n",
    "                       external_vertices=[0,1])\n",
    "\n",
    "sunset = incidence_matrix(3,2,\n",
    "                       [ [0,1], [1,0], [0,1]  ],\n",
    "                       external_vertices=[0,1])\n",
    "\n",
    "bog = incidence_matrix(7,6,\n",
    "                       [ [0,1], [1,3], [0,2], [3,2], [3,5], [2,4], [4,5]  ],\n",
    "                       external_vertices=[0,1,4,5])\n",
    "\n",
    "#get cicuits using any spanning tree and produce a sink flow ordering\n",
    "set_source_sink_flow(simp,circuits(simp)[0])\n",
    "#simp.constraint_system(True)\n",
    "ring_diagram(simp)"
   ]
  },
  {
   "cell_type": "code",
   "execution_count": null,
   "metadata": {
    "collapsed": true
   },
   "outputs": [],
   "source": [
    "show_spanning_trees(simp)"
   ]
  },
  {
   "cell_type": "code",
   "execution_count": null,
   "metadata": {
    "collapsed": true
   },
   "outputs": [],
   "source": [
    "simp = incidence_matrix(3,3,\n",
    "                       [ [0,1], [1,2], [2,0]  ],\n",
    "                       external_vertices=[0,1])\n",
    "ring_diagram(simp)"
   ]
  },
  {
   "cell_type": "code",
   "execution_count": null,
   "metadata": {
    "collapsed": true
   },
   "outputs": [],
   "source": [
    "show_spanning_trees(simp)"
   ]
  },
  {
   "cell_type": "code",
   "execution_count": null,
   "metadata": {
    "collapsed": true
   },
   "outputs": [],
   "source": [
    "simp = incidence_matrix(4,4,\n",
    "                       [ [0,1], [1,2], [2,3], [3,0]  ],\n",
    "                       external_vertices=[0,1])\n",
    "ring_diagram(simp)"
   ]
  },
  {
   "cell_type": "code",
   "execution_count": null,
   "metadata": {
    "collapsed": true
   },
   "outputs": [],
   "source": [
    "show_spanning_trees(INC)"
   ]
  },
  {
   "cell_type": "code",
   "execution_count": null,
   "metadata": {
    "collapsed": true
   },
   "outputs": [],
   "source": [
    "#TODO: visual style for and implementation of multiple external legs\n",
    "#perhaps an option for simple diagrams to force certain types of loops and ignore hierarchy\n",
    "\n",
    "#save svg todo find save html tp pdf solution\n",
    "#with open (\"test.svg\", \"w\") as f:\n",
    "#    f.write(ring_diagram(sunset, options={\"show_labels\"})._repr_html_())"
   ]
  }
 ],
 "metadata": {
  "kernelspec": {
   "display_name": "Python 3",
   "language": "python",
   "name": "python3"
  },
  "language_info": {
   "codemirror_mode": {
    "name": "ipython",
    "version": 3
   },
   "file_extension": ".py",
   "mimetype": "text/x-python",
   "name": "python",
   "nbconvert_exporter": "python",
   "pygments_lexer": "ipython3",
   "version": "3.6.3"
  }
 },
 "nbformat": 4,
 "nbformat_minor": 2
}
