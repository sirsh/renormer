{
 "cells": [
  {
   "cell_type": "code",
   "execution_count": null,
   "metadata": {
    "collapsed": true
   },
   "outputs": [],
   "source": [
    "import sys\n",
    "sys.path.insert(0,'../')\n",
    "import rg\n",
    "from rg.diagrams import diagram, composition_diagram, diagram_set\n",
    "from rg.interaction import interaction as J \n",
    "from rg.interaction import interaction_identity\n",
    "from rg.interaction import interaction_system\n",
    "from rg.interaction import composite_interaction as G\n",
    "from rg.theory import ftheory\n",
    "from rg.graphs import composite_interaction_graph as fgraph\n",
    "from rg.propagator import cpropagator, kpropagator\n",
    "\n",
    "import numpy as np\n",
    "from sympy import init_printing\n",
    "init_printing()"
   ]
  },
  {
   "cell_type": "markdown",
   "metadata": {},
   "source": [
    "# Create some sample primitives"
   ]
  },
  {
   "cell_type": "code",
   "execution_count": null,
   "metadata": {},
   "outputs": [],
   "source": [
    "coagulation = J([[2,1],[0,0]])\n",
    "coagulation.diagram"
   ]
  },
  {
   "cell_type": "code",
   "execution_count": null,
   "metadata": {},
   "outputs": [],
   "source": [
    "branching = J([[1,2],[0,0]])\n",
    "branching.diagram"
   ]
  },
  {
   "cell_type": "code",
   "execution_count": null,
   "metadata": {},
   "outputs": [],
   "source": [
    "cross = J([[1,1],[1,1]])\n",
    "cross.diagram"
   ]
  },
  {
   "cell_type": "code",
   "execution_count": null,
   "metadata": {},
   "outputs": [],
   "source": [
    "branching_alt = J([[1,1],[0,1]])\n",
    "coagulation_alt = J([[1,1],[1,0]])\n",
    "coagulation_alt.diagram"
   ]
  },
  {
   "cell_type": "markdown",
   "metadata": {},
   "source": [
    "# Work with two example graphs"
   ]
  },
  {
   "cell_type": "code",
   "execution_count": null,
   "metadata": {},
   "outputs": [],
   "source": [
    "U = G(branching)*G(cross)*G(coagulation)\n",
    "composition_diagram(U,compact=True)"
   ]
  },
  {
   "cell_type": "code",
   "execution_count": null,
   "metadata": {
    "collapsed": true
   },
   "outputs": [],
   "source": [
    "#composition_diagram(T,compact=True)"
   ]
  },
  {
   "cell_type": "markdown",
   "metadata": {},
   "source": [
    "# The graph theory stuff is in fgraph - e.g. incidence matrix"
   ]
  },
  {
   "cell_type": "code",
   "execution_count": null,
   "metadata": {},
   "outputs": [],
   "source": [
    "GU = fgraph(U,True)\n",
    "GU"
   ]
  },
  {
   "cell_type": "code",
   "execution_count": null,
   "metadata": {},
   "outputs": [],
   "source": [
    "# I will also start folding new features into this as a top-level object\n",
    "GU.draw_decomp()"
   ]
  },
  {
   "cell_type": "code",
   "execution_count": null,
   "metadata": {
    "collapsed": true
   },
   "outputs": [],
   "source": [
    "#GU = fgraph(T,True)#.betti_number()\n",
    "#GU.gamma_integral"
   ]
  },
  {
   "cell_type": "markdown",
   "metadata": {},
   "source": [
    "### Convention:\n",
    "\n",
    "While we could enforce more conventions earlier, here i assume a random edge ordering and now i want to enforce an ordering\n",
    "\n",
    "I choose to have all external momenta pointing out of the graph (where we connected to the infinity vertext) and start by assuming all flow is towards increasing vid (order of vertices added in construction)\n",
    "\n",
    "Then i choose the shortest path from the sink vertex (last vertex added) to the source vertex (first added) and i reverse the orientation on the path\n",
    "\n",
    "We already at this point have some convention- the first row of the inc matrix is the source, the second last is the sink and the last is the infinity vertex used to complete the graph\n",
    "\n",
    "This would be done for all loops in a general graph but for now we assume one loop"
   ]
  },
  {
   "cell_type": "code",
   "execution_count": null,
   "metadata": {},
   "outputs": [],
   "source": [
    "#choose all edges on the shortest path between source and sink as the \"backflow\" edges. one of these is the loop momentum\n",
    "g = fgraph.edges_to_adjaceny_dict(U.edges)\n",
    "walk = fgraph.shortest_path(g, 0,2)\n",
    "walk = list(fgraph.expand_path(walk))\n",
    "g,walk"
   ]
  },
  {
   "cell_type": "code",
   "execution_count": null,
   "metadata": {
    "collapsed": true
   },
   "outputs": [],
   "source": [
    "#SVG draw arrows on the compact rep, todo"
   ]
  },
  {
   "cell_type": "markdown",
   "metadata": {},
   "source": [
    "## observe different sign states on the incident matrix \n",
    "we start off seeking the standard form, externals point out, internals point \"forward\" - by default this is not how it looks so we change edge direction in the 2nd matrix\n",
    "\n",
    "then we invert the shortest path i.e. change the direction of any edge on the shortest path. now we have our standard form that we will generally assume\n",
    "\n",
    "in this case, in final matrix, column 1 (0-indexed) is the only one that goes from 1 to -1 reading from top to bottom - this is the \"backflow edge\" in the loop"
   ]
  },
  {
   "cell_type": "code",
   "execution_count": null,
   "metadata": {},
   "outputs": [],
   "source": [
    "inc = GU._inc \n",
    "inc"
   ]
  },
  {
   "cell_type": "code",
   "execution_count": null,
   "metadata": {},
   "outputs": [],
   "source": [
    "inc = fgraph.should_toggle_edge_columns(inc) * inc\n",
    "inc"
   ]
  },
  {
   "cell_type": "code",
   "execution_count": null,
   "metadata": {},
   "outputs": [],
   "source": [
    "inc_inv = fgraph.invert_path(inc, walk)\n",
    "inc_inv"
   ]
  },
  {
   "cell_type": "markdown",
   "metadata": {},
   "source": [
    "## Evaluate the momentum equations\n",
    "\n",
    "this convention above makes the interpretation of the momentum equations less ambiguous. we now keep signs for the momentum as per the incidence matrix."
   ]
  },
  {
   "cell_type": "code",
   "execution_count": null,
   "metadata": {},
   "outputs": [],
   "source": [
    "GU.edge_system"
   ]
  },
  {
   "cell_type": "code",
   "execution_count": null,
   "metadata": {
    "collapsed": true
   },
   "outputs": [],
   "source": [
    "#actually from the notes I am not sure about the following:\n",
    "#1 if the integrals are the same for any external leg structure, then momenta are based only on the number of vertices/propagators - however how do we resolve momenta\n",
    "#2 there are some trasmutation \"vertices\" in diags which supposedly have no local residuals and the loops have the same q structure as the 2-nodes - why is that\n",
    "#3 there are integrals with 3+ vertices that have no dependance on external momenta but that does not add up for me\n",
    "#fow now im going to do a hack because i cannot justify what we do in the notes; my rule is going to be for the 2-vertex loop I have one rule and for the 3 and above I have another rule\n",
    "#it seems without some argument, the same way we have casuality differences which must have momenta differences on certain edges"
   ]
  },
  {
   "cell_type": "markdown",
   "metadata": {},
   "source": [
    "## This leads to integration of graph momenta (consider simple case)..."
   ]
  },
  {
   "cell_type": "code",
   "execution_count": null,
   "metadata": {},
   "outputs": [],
   "source": [
    "# As i have not decided how k will be determined for sure, I leave it as a parameter here\n",
    "propagators = cpropagator.from_edges(U.edges,k_node_index=1)\n",
    "[p.display() for p in propagators]"
   ]
  },
  {
   "cell_type": "code",
   "execution_count": null,
   "metadata": {},
   "outputs": [],
   "source": [
    "#this is just the first residue - in this case there is only one anyway\n",
    "cpropagator.residues(propagators)[0][\"value\"]"
   ]
  },
  {
   "cell_type": "code",
   "execution_count": null,
   "metadata": {},
   "outputs": [],
   "source": [
    "K = cpropagator.integrate(propagators)\n",
    "K"
   ]
  },
  {
   "cell_type": "markdown",
   "metadata": {},
   "source": [
    "## Example with alpha params not needed for linear reduction => integrate on simplex"
   ]
  },
  {
   "cell_type": "code",
   "execution_count": null,
   "metadata": {},
   "outputs": [],
   "source": [
    "propagators = [cpropagator(0,1, -1),cpropagator(1,1,1),cpropagator(0,1, 1)]\n",
    "[c.display() for c in propagators]"
   ]
  },
  {
   "cell_type": "code",
   "execution_count": null,
   "metadata": {},
   "outputs": [],
   "source": [
    "C = cpropagator.integrate(propagators)\n",
    "C"
   ]
  },
  {
   "cell_type": "code",
   "execution_count": null,
   "metadata": {},
   "outputs": [],
   "source": [
    "K = kpropagator(C)\n",
    "K.parametric_integral"
   ]
  },
  {
   "cell_type": "code",
   "execution_count": null,
   "metadata": {},
   "outputs": [],
   "source": [
    "K.reduced_parametric_integral"
   ]
  },
  {
   "cell_type": "code",
   "execution_count": null,
   "metadata": {},
   "outputs": [],
   "source": [
    "K._p"
   ]
  },
  {
   "cell_type": "code",
   "execution_count": null,
   "metadata": {},
   "outputs": [],
   "source": [
    "K.reduced_terms\n",
    "#add constant prefactor and D prefactor (coefficient of k^2) for book keeping only"
   ]
  },
  {
   "cell_type": "code",
   "execution_count": null,
   "metadata": {},
   "outputs": [],
   "source": [
    "K.used_chung_wu"
   ]
  },
  {
   "cell_type": "code",
   "execution_count": null,
   "metadata": {},
   "outputs": [],
   "source": [
    "K.gamma_integral()"
   ]
  },
  {
   "cell_type": "code",
   "execution_count": null,
   "metadata": {},
   "outputs": [],
   "source": [
    "K.used_chung_wu"
   ]
  },
  {
   "cell_type": "code",
   "execution_count": null,
   "metadata": {},
   "outputs": [],
   "source": [
    "K.gamma_integral(True, elim=[\"D_1\"])\n",
    "#decompose reduced terms into qm_kernel, qm_constants, d_constants,\n",
    "#to isolate k^2 we have already factored out D^nu, now this will cancel with D^alpha=D^{d/2-nu} and we will have D^{d/2} and constants^{alpha}"
   ]
  },
  {
   "cell_type": "code",
   "execution_count": null,
   "metadata": {
    "collapsed": true
   },
   "outputs": [],
   "source": [
    "#composition_diagram(U,True)"
   ]
  },
  {
   "cell_type": "markdown",
   "metadata": {},
   "source": [
    "behind the scenes we just integrate the kernel directly rather than allowing sympy to integrate quasi mass"
   ]
  },
  {
   "cell_type": "code",
   "execution_count": null,
   "metadata": {},
   "outputs": [],
   "source": [
    "from sympy import integrate,Symbol,simplify\n",
    "li,power = K.reduced_terms[\"M\"], K.reduced_terms[\"nu\"]\n",
    "li,power\n",
    "#what if D1 is in the integral - how do we integrate that sensibly?"
   ]
  },
  {
   "cell_type": "code",
   "execution_count": null,
   "metadata": {},
   "outputs": [],
   "source": [
    "kernel = li.subs(Symbol(\"D_1\"),0)\n",
    "kernel"
   ]
  },
  {
   "cell_type": "code",
   "execution_count": null,
   "metadata": {},
   "outputs": [],
   "source": [
    "#get the alpha parameter - there is one of them in this case - and integrate over 0,1\n",
    "a = [ a for a in li.atoms() if not a.is_constant() and a.name[:5]==\"alpha\"][0]\n",
    "simplify(integrate(kernel, (a,0,1)))\n",
    "#after integrating the kernel we take into account the power and prefactors too"
   ]
  },
  {
   "cell_type": "markdown",
   "metadata": {},
   "source": [
    "# Example with alpha parameters used for linear reduction (work in progress)"
   ]
  },
  {
   "cell_type": "code",
   "execution_count": null,
   "metadata": {
    "collapsed": true
   },
   "outputs": [],
   "source": [
    "#punch in the example from theor. ref."
   ]
  },
  {
   "cell_type": "code",
   "execution_count": null,
   "metadata": {},
   "outputs": [],
   "source": [
    "#what if we have something like this - actually before doing this, see if we can avoid this stage because it is essentially taking us\n",
    "#out of a group where we had a standard propagator basis \n",
    "from sympy import symbols,I\n",
    "k, p, m1, m2, w, D = symbols(\"k_l, k_p, m_1, m_2, \\omega_p, D_0\")\n",
    "P1 =  (-k+p)**2 + (m1 + m2 -I*w )/D\n",
    "P2 =  k**2+ (-k+p)**2 + (2*m1-I*w)/D\n",
    "awkprops = list((1/P1,1/P2))\n",
    "P = awkprops[0] * awkprops[1]\n",
    "awkprops"
   ]
  },
  {
   "cell_type": "code",
   "execution_count": null,
   "metadata": {
    "collapsed": true
   },
   "outputs": [],
   "source": [
    "# propagators = [cpropagator(0,1,-1, [\"l\", \"p\"]), cpropagator(0,1,1, [\"l\", \"p\"], extra_mom_term=Symbol(\"k\")**2) ]\n",
    "# [p.display() for p in propagators]\n",
    "# K = cpropagator.integrate(propagators)\n",
    "# K"
   ]
  },
  {
   "cell_type": "code",
   "execution_count": null,
   "metadata": {},
   "outputs": [],
   "source": [
    "p2 = kpropagator(P)\n",
    "p2.parametric_integral\n",
    "#p2.reduced_parametric_integral\n",
    "\n",
    "#TODO - alpha is gone, bring it back, and determine how to do the integration in each case - ALSO make sure we have a nice normalisation with nothing in numerator\n",
    "#late rcompare with graph polynomials"
   ]
  },
  {
   "cell_type": "code",
   "execution_count": null,
   "metadata": {
    "collapsed": true
   },
   "outputs": [],
   "source": [
    "term = list(p2.parametric_integral.as_numer_denom()[1].as_powers_dict().keys())[0]"
   ]
  },
  {
   "cell_type": "code",
   "execution_count": null,
   "metadata": {},
   "outputs": [],
   "source": [
    "from sympy import * \n",
    "from rg.propagator import determine_elimination_variable\n",
    "P = Poly(expand(term), Symbol(\"k_l\"))\n",
    "P"
   ]
  },
  {
   "cell_type": "code",
   "execution_count": null,
   "metadata": {},
   "outputs": [],
   "source": [
    "#simpler = P.subs(determine_elimination_variable(P), 1)\n",
    "simpler = P.subs(Symbol(\"alpha_1\"), Symbol(\"alpha_2\")-1)\n",
    "simpler"
   ]
  },
  {
   "cell_type": "code",
   "execution_count": null,
   "metadata": {},
   "outputs": [],
   "source": [
    "Q = Poly(simpler, Symbol(\"k_l\"))\n",
    "Q"
   ]
  },
  {
   "cell_type": "code",
   "execution_count": null,
   "metadata": {},
   "outputs": [],
   "source": [
    "A, B = (Q.coeffs()[1]/Q.coeffs()[0]),(Q.coeffs()[2]/Q.coeffs()[0])\n",
    "A,B"
   ]
  },
  {
   "cell_type": "code",
   "execution_count": null,
   "metadata": {},
   "outputs": [],
   "source": [
    "k = Symbol(\"k_l\")\n",
    "exps = k**2 +  A*k + B\n",
    "exps"
   ]
  },
  {
   "cell_type": "code",
   "execution_count": null,
   "metadata": {},
   "outputs": [],
   "source": [
    "Poly(expand(exps.subs(k, k-A/2)), k )"
   ]
  },
  {
   "cell_type": "code",
   "execution_count": null,
   "metadata": {},
   "outputs": [],
   "source": [
    "#I have divided accross and of course it elims but actually i should have squared it in the substituation?\n",
    "simplify(simpler/Poly(simpler, Symbol(\"k_l\")).all_coeffs()[0])"
   ]
  },
  {
   "cell_type": "code",
   "execution_count": null,
   "metadata": {
    "collapsed": true
   },
   "outputs": [],
   "source": [
    "#p2.reduced_parametric_integral"
   ]
  },
  {
   "cell_type": "code",
   "execution_count": null,
   "metadata": {},
   "outputs": [],
   "source": [
    "p2.used_chung_wu"
   ]
  },
  {
   "cell_type": "code",
   "execution_count": null,
   "metadata": {
    "collapsed": true
   },
   "outputs": [],
   "source": [
    "p2._p"
   ]
  },
  {
   "cell_type": "code",
   "execution_count": null,
   "metadata": {
    "collapsed": true
   },
   "outputs": [],
   "source": [
    "#assert we do not eliminate both params..."
   ]
  }
 ],
 "metadata": {
  "kernelspec": {
   "display_name": "Python 3",
   "language": "python",
   "name": "python3"
  },
  "language_info": {
   "codemirror_mode": {
    "name": "ipython",
    "version": 3
   },
   "file_extension": ".py",
   "mimetype": "text/x-python",
   "name": "python",
   "nbconvert_exporter": "python",
   "pygments_lexer": "ipython3",
   "version": "3.6.3"
  }
 },
 "nbformat": 4,
 "nbformat_minor": 2
}
