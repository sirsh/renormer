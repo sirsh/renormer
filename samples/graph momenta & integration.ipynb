{
 "cells": [
  {
   "cell_type": "code",
   "execution_count": 1,
   "metadata": {
    "collapsed": true
   },
   "outputs": [],
   "source": [
    "import sys\n",
    "sys.path.insert(0,'../')\n",
    "import rg\n",
    "from rg.diagrams import diagram, composition_diagram, diagram_set\n",
    "from rg.interaction import interaction as J \n",
    "from rg.interaction import interaction_identity\n",
    "from rg.interaction import interaction_system\n",
    "from rg.interaction import composite_interaction as G\n",
    "from rg.theory import ftheory\n",
    "from rg.graphs import composite_interaction_graph as fgraph\n",
    "from rg.propagator import cpropagator, kpropagator\n",
    "\n",
    "import numpy as np\n",
    "from sympy import init_printing\n",
    "init_printing()"
   ]
  },
  {
   "cell_type": "markdown",
   "metadata": {},
   "source": [
    "# Create some sample primitives"
   ]
  },
  {
   "cell_type": "code",
   "execution_count": 2,
   "metadata": {},
   "outputs": [
    {
     "data": {
      "text/html": [
       "<svg xmlns=\"http://www.w3.org/2000/svg\" xmlns:xlink=\"http://www.w3.org/1999/xlink\" version=\"1.1\" x=\"0\" y=\"0\" width=\"240\" height=\"120\">\n",
       "      <g fill=\"none\" stroke=\"black\" stroke-width=\"1.6\" stroke-linecap=\"round\">\n",
       "         <line x1=\"0\" y1=\"0\" x2=\"40\" y2=\"0\" stroke=\"red\" stroke-dasharray=\"None\" stroke-width:2\" transform=\" translate(80,50) rotate(-30.0 0, 0 )\" />  <line x1=\"0\" y1=\"0\" x2=\"40\" y2=\"0\" stroke=\"red\" stroke-dasharray=\"None\" stroke-width:2\" transform=\" translate(80,50) rotate(30.0 0, 0 )\" />  <line x1=\"0\" y1=\"0\" x2=\"40\" y2=\"0\" stroke=\"red\" stroke-dasharray=\"None\" stroke-width:2\" transform=\" translate(80,50) rotate(-180.0 0, 0 )\" /> \n",
       "      </g>\n",
       "      <circle cx=\"80\" cy=\"50\" r=\"2\" stroke=\"black\" stroke-width=\"1\" fill=\"black\" />\n",
       "    </svg>"
      ],
      "text/plain": [
       "<svg xmlns=\"http://www.w3.org/2000/svg\" xmlns:xlink=\"http://www.w3.org/1999/xlink\" version=\"1.1\" x=\"0\" y=\"0\" width=\"240\" height=\"120\">\n",
       "      <g fill=\"none\" stroke=\"black\" stroke-width=\"1.6\" stroke-linecap=\"round\">\n",
       "         <line x1=\"0\" y1=\"0\" x2=\"40\" y2=\"0\" stroke=\"red\" stroke-dasharray=\"None\" stroke-width:2\" transform=\" translate(80,50) rotate(-30.0 0, 0 )\" />  <line x1=\"0\" y1=\"0\" x2=\"40\" y2=\"0\" stroke=\"red\" stroke-dasharray=\"None\" stroke-width:2\" transform=\" translate(80,50) rotate(30.0 0, 0 )\" />  <line x1=\"0\" y1=\"0\" x2=\"40\" y2=\"0\" stroke=\"red\" stroke-dasharray=\"None\" stroke-width:2\" transform=\" translate(80,50) rotate(-180.0 0, 0 )\" /> \n",
       "      </g>\n",
       "      <circle cx=\"80\" cy=\"50\" r=\"2\" stroke=\"black\" stroke-width=\"1\" fill=\"black\" />\n",
       "    </svg>"
      ]
     },
     "execution_count": 2,
     "metadata": {},
     "output_type": "execute_result"
    }
   ],
   "source": [
    "coagulation = J([[2,1],[0,0]])\n",
    "coagulation.diagram"
   ]
  },
  {
   "cell_type": "code",
   "execution_count": 3,
   "metadata": {},
   "outputs": [
    {
     "data": {
      "text/html": [
       "<svg xmlns=\"http://www.w3.org/2000/svg\" xmlns:xlink=\"http://www.w3.org/1999/xlink\" version=\"1.1\" x=\"0\" y=\"0\" width=\"240\" height=\"120\">\n",
       "      <g fill=\"none\" stroke=\"black\" stroke-width=\"1.6\" stroke-linecap=\"round\">\n",
       "         <line x1=\"0\" y1=\"0\" x2=\"40\" y2=\"0\" stroke=\"red\" stroke-dasharray=\"None\" stroke-width:2\" transform=\" translate(80,50) rotate(0.0 0, 0 )\" />  <line x1=\"0\" y1=\"0\" x2=\"40\" y2=\"0\" stroke=\"red\" stroke-dasharray=\"None\" stroke-width:2\" transform=\" translate(80,50) rotate(-210.0 0, 0 )\" />  <line x1=\"0\" y1=\"0\" x2=\"40\" y2=\"0\" stroke=\"red\" stroke-dasharray=\"None\" stroke-width:2\" transform=\" translate(80,50) rotate(-150.0 0, 0 )\" /> \n",
       "      </g>\n",
       "      <circle cx=\"80\" cy=\"50\" r=\"2\" stroke=\"black\" stroke-width=\"1\" fill=\"black\" />\n",
       "    </svg>"
      ],
      "text/plain": [
       "<svg xmlns=\"http://www.w3.org/2000/svg\" xmlns:xlink=\"http://www.w3.org/1999/xlink\" version=\"1.1\" x=\"0\" y=\"0\" width=\"240\" height=\"120\">\n",
       "      <g fill=\"none\" stroke=\"black\" stroke-width=\"1.6\" stroke-linecap=\"round\">\n",
       "         <line x1=\"0\" y1=\"0\" x2=\"40\" y2=\"0\" stroke=\"red\" stroke-dasharray=\"None\" stroke-width:2\" transform=\" translate(80,50) rotate(0.0 0, 0 )\" />  <line x1=\"0\" y1=\"0\" x2=\"40\" y2=\"0\" stroke=\"red\" stroke-dasharray=\"None\" stroke-width:2\" transform=\" translate(80,50) rotate(-210.0 0, 0 )\" />  <line x1=\"0\" y1=\"0\" x2=\"40\" y2=\"0\" stroke=\"red\" stroke-dasharray=\"None\" stroke-width:2\" transform=\" translate(80,50) rotate(-150.0 0, 0 )\" /> \n",
       "      </g>\n",
       "      <circle cx=\"80\" cy=\"50\" r=\"2\" stroke=\"black\" stroke-width=\"1\" fill=\"black\" />\n",
       "    </svg>"
      ]
     },
     "execution_count": 3,
     "metadata": {},
     "output_type": "execute_result"
    }
   ],
   "source": [
    "branching = J([[1,2],[0,0]])\n",
    "branching.diagram"
   ]
  },
  {
   "cell_type": "code",
   "execution_count": 4,
   "metadata": {},
   "outputs": [
    {
     "data": {
      "text/html": [
       "<svg xmlns=\"http://www.w3.org/2000/svg\" xmlns:xlink=\"http://www.w3.org/1999/xlink\" version=\"1.1\" x=\"0\" y=\"0\" width=\"240\" height=\"120\">\n",
       "      <g fill=\"none\" stroke=\"black\" stroke-width=\"1.6\" stroke-linecap=\"round\">\n",
       "         <line x1=\"0\" y1=\"0\" x2=\"40\" y2=\"0\" stroke=\"red\" stroke-dasharray=\"None\" stroke-width:2\" transform=\" translate(80,50) rotate(-30.0 0, 0 )\" />  <path d=\"M 0,0 C 2,-3.142 3,-5 5,-5 S 8,-3.142 10,0 S 13,5 15,5 S 18,3.142 20,0 C 22,-3.142 23,-5 25,-5 S 28,-3.142 30,0 S 33,5 35,5 S 38,3.142 40,0\" \n",
       "                       stroke=\"black\" stroke-dasharray=\"None\" stroke-width:2\" transform=\" translate(80,50) rotate(30.0 0, 0 )\" />  <line x1=\"0\" y1=\"0\" x2=\"40\" y2=\"0\" stroke=\"red\" stroke-dasharray=\"None\" stroke-width:2\" transform=\" translate(80,50) rotate(-210.0 0, 0 )\" />  <path d=\"M 0,0 C 2,-3.142 3,-5 5,-5 S 8,-3.142 10,0 S 13,5 15,5 S 18,3.142 20,0 C 22,-3.142 23,-5 25,-5 S 28,-3.142 30,0 S 33,5 35,5 S 38,3.142 40,0\" \n",
       "                       stroke=\"black\" stroke-dasharray=\"None\" stroke-width:2\" transform=\" translate(80,50) rotate(-150.0 0, 0 )\" /> \n",
       "      </g>\n",
       "      <circle cx=\"80\" cy=\"50\" r=\"2\" stroke=\"black\" stroke-width=\"1\" fill=\"black\" />\n",
       "    </svg>"
      ],
      "text/plain": [
       "<svg xmlns=\"http://www.w3.org/2000/svg\" xmlns:xlink=\"http://www.w3.org/1999/xlink\" version=\"1.1\" x=\"0\" y=\"0\" width=\"240\" height=\"120\">\n",
       "      <g fill=\"none\" stroke=\"black\" stroke-width=\"1.6\" stroke-linecap=\"round\">\n",
       "         <line x1=\"0\" y1=\"0\" x2=\"40\" y2=\"0\" stroke=\"red\" stroke-dasharray=\"None\" stroke-width:2\" transform=\" translate(80,50) rotate(-30.0 0, 0 )\" />  <path d=\"M 0,0 C 2,-3.142 3,-5 5,-5 S 8,-3.142 10,0 S 13,5 15,5 S 18,3.142 20,0 C 22,-3.142 23,-5 25,-5 S 28,-3.142 30,0 S 33,5 35,5 S 38,3.142 40,0\" \n",
       "                       stroke=\"black\" stroke-dasharray=\"None\" stroke-width:2\" transform=\" translate(80,50) rotate(30.0 0, 0 )\" />  <line x1=\"0\" y1=\"0\" x2=\"40\" y2=\"0\" stroke=\"red\" stroke-dasharray=\"None\" stroke-width:2\" transform=\" translate(80,50) rotate(-210.0 0, 0 )\" />  <path d=\"M 0,0 C 2,-3.142 3,-5 5,-5 S 8,-3.142 10,0 S 13,5 15,5 S 18,3.142 20,0 C 22,-3.142 23,-5 25,-5 S 28,-3.142 30,0 S 33,5 35,5 S 38,3.142 40,0\" \n",
       "                       stroke=\"black\" stroke-dasharray=\"None\" stroke-width:2\" transform=\" translate(80,50) rotate(-150.0 0, 0 )\" /> \n",
       "      </g>\n",
       "      <circle cx=\"80\" cy=\"50\" r=\"2\" stroke=\"black\" stroke-width=\"1\" fill=\"black\" />\n",
       "    </svg>"
      ]
     },
     "execution_count": 4,
     "metadata": {},
     "output_type": "execute_result"
    }
   ],
   "source": [
    "cross = J([[1,1],[1,1]])\n",
    "cross.diagram"
   ]
  },
  {
   "cell_type": "code",
   "execution_count": 5,
   "metadata": {},
   "outputs": [
    {
     "data": {
      "text/html": [
       "<svg xmlns=\"http://www.w3.org/2000/svg\" xmlns:xlink=\"http://www.w3.org/1999/xlink\" version=\"1.1\" x=\"0\" y=\"0\" width=\"240\" height=\"120\">\n",
       "      <g fill=\"none\" stroke=\"black\" stroke-width=\"1.6\" stroke-linecap=\"round\">\n",
       "         <line x1=\"0\" y1=\"0\" x2=\"40\" y2=\"0\" stroke=\"red\" stroke-dasharray=\"None\" stroke-width:2\" transform=\" translate(80,50) rotate(-30.0 0, 0 )\" />  <path d=\"M 0,0 C 2,-3.142 3,-5 5,-5 S 8,-3.142 10,0 S 13,5 15,5 S 18,3.142 20,0 C 22,-3.142 23,-5 25,-5 S 28,-3.142 30,0 S 33,5 35,5 S 38,3.142 40,0\" \n",
       "                       stroke=\"black\" stroke-dasharray=\"None\" stroke-width:2\" transform=\" translate(80,50) rotate(30.0 0, 0 )\" />  <line x1=\"0\" y1=\"0\" x2=\"40\" y2=\"0\" stroke=\"red\" stroke-dasharray=\"None\" stroke-width:2\" transform=\" translate(80,50) rotate(-180.0 0, 0 )\" /> \n",
       "      </g>\n",
       "      <circle cx=\"80\" cy=\"50\" r=\"2\" stroke=\"black\" stroke-width=\"1\" fill=\"black\" />\n",
       "    </svg>"
      ],
      "text/plain": [
       "<svg xmlns=\"http://www.w3.org/2000/svg\" xmlns:xlink=\"http://www.w3.org/1999/xlink\" version=\"1.1\" x=\"0\" y=\"0\" width=\"240\" height=\"120\">\n",
       "      <g fill=\"none\" stroke=\"black\" stroke-width=\"1.6\" stroke-linecap=\"round\">\n",
       "         <line x1=\"0\" y1=\"0\" x2=\"40\" y2=\"0\" stroke=\"red\" stroke-dasharray=\"None\" stroke-width:2\" transform=\" translate(80,50) rotate(-30.0 0, 0 )\" />  <path d=\"M 0,0 C 2,-3.142 3,-5 5,-5 S 8,-3.142 10,0 S 13,5 15,5 S 18,3.142 20,0 C 22,-3.142 23,-5 25,-5 S 28,-3.142 30,0 S 33,5 35,5 S 38,3.142 40,0\" \n",
       "                       stroke=\"black\" stroke-dasharray=\"None\" stroke-width:2\" transform=\" translate(80,50) rotate(30.0 0, 0 )\" />  <line x1=\"0\" y1=\"0\" x2=\"40\" y2=\"0\" stroke=\"red\" stroke-dasharray=\"None\" stroke-width:2\" transform=\" translate(80,50) rotate(-180.0 0, 0 )\" /> \n",
       "      </g>\n",
       "      <circle cx=\"80\" cy=\"50\" r=\"2\" stroke=\"black\" stroke-width=\"1\" fill=\"black\" />\n",
       "    </svg>"
      ]
     },
     "execution_count": 5,
     "metadata": {},
     "output_type": "execute_result"
    }
   ],
   "source": [
    "branching_alt = J([[1,1],[0,1]])\n",
    "coagulation_alt = J([[1,1],[1,0]])\n",
    "coagulation_alt.diagram"
   ]
  },
  {
   "cell_type": "markdown",
   "metadata": {},
   "source": [
    "# Work with two example graphs"
   ]
  },
  {
   "cell_type": "code",
   "execution_count": 6,
   "metadata": {},
   "outputs": [
    {
     "data": {
      "text/html": [
       "<svg xmlns=\"http://www.w3.org/2000/svg\" xmlns:xlink=\"http://www.w3.org/1999/xlink\" version=\"1.1\" x=\"0\" y=\"0\" width=\"200\" height=\"180\">\n",
       "      <g fill=\"none\" stroke=\"black\" stroke-width=\"1.6\" stroke-linecap=\"round\"> <circle cx=\"150.0\" cy=\"100.0\" r=\"3\" stroke=\"black\" stroke-width=\"1\" fill=\"black\" /> <line x1=\"0\" y1=\"0\" x2=\"40\" y2=\"0\" stroke=\"green\" stroke-dasharray=\"None\" stroke-width:2\" transform=\" translate(150.0,100.0) rotate(0.0 0, 0 )\" /><circle cx=\"100.0\" cy=\"50.0\" r=\"3\" stroke=\"black\" stroke-width=\"1\" fill=\"black\" /> <line x1=\"0\" y1=\"0\" x2=\"40\" y2=\"0\" stroke=\"orange\" stroke-dasharray=\"None\" stroke-width:2\" transform=\" translate(100.0,50.0) rotate(0.0 0, 0 )\" /><line x1=\"0\" y1=\"0\" x2=\"40\" y2=\"0\" stroke=\"orange\" stroke-dasharray=\"None\" stroke-width:2\" transform=\" translate(100.0,50.0) rotate(-180.0 0, 0 )\" /><circle cx=\"50.0\" cy=\"100.0\" r=\"3\" stroke=\"black\" stroke-width=\"1\" fill=\"black\" /> <line x1=\"0\" y1=\"0\" x2=\"40\" y2=\"0\" stroke=\"green\" stroke-dasharray=\"None\" stroke-width:2\" transform=\" translate(50.0,100.0) rotate(-180.0 0, 0 )\" /><path d=\"M  150.0  100.0  A  50  50  0  0  0  100.0  50.0 \" stroke=\"green\"/><path d=\"M  50.0  100.0  A  50  50  0  0  0  150.0  100.0 \" stroke=\"green\"/><path d=\"M  100.0  50.0  A  50  50  0  0  0  50.0  100.0 \" stroke=\"green\"/>  </g> </svg>"
      ],
      "text/plain": [
       "<svg xmlns=\"http://www.w3.org/2000/svg\" xmlns:xlink=\"http://www.w3.org/1999/xlink\" version=\"1.1\" x=\"0\" y=\"0\" width=\"500\" height=\"120\">\n",
       "      <g fill=\"none\" stroke=\"black\" stroke-width=\"1.6\" stroke-linecap=\"round\"> <circle cx=\"120\" cy=\"50\" r=\"3\" stroke=\"black\" stroke-width=\"1\" fill=\"black\" /> <circle cx=\"70\" cy=\"50\" r=\"3\" stroke=\"black\" stroke-width=\"1\" fill=\"black\" /> <circle cx=\"20\" cy=\"50\" r=\"3\" stroke=\"black\" stroke-width=\"1\" fill=\"black\" /> <circle cx=\"102\" cy=\"41\" r=\"2\" stroke=\"green\" stroke-width=\"1\" fill='green' /> <circle cx=\"102\" cy=\"59\" r=\"2\" stroke=\"green\" stroke-width=\"1\" fill='green' /> <circle cx=\"138\" cy=\"50\" r=\"2\" stroke=\"green\" stroke-width=\"1\"  /> <circle cx=\"88\" cy=\"41\" r=\"2\" stroke=\"green\" stroke-width=\"1\"  /> <circle cx=\"52\" cy=\"41\" r=\"2\" stroke=\"green\" stroke-width=\"1\" fill='green' /> <circle cx=\"52\" cy=\"59\" r=\"2\" stroke=\"orange\" stroke-width=\"1\" fill='orange' /> <circle cx=\"88\" cy=\"59\" r=\"2\" stroke=\"orange\" stroke-width=\"1\"  /> <circle cx=\"38\" cy=\"41\" r=\"2\" stroke=\"green\" stroke-width=\"1\"  /> <circle cx=\"38\" cy=\"59\" r=\"2\" stroke=\"green\" stroke-width=\"1\"  /> <circle cx=\"2\" cy=\"50\" r=\"2\" stroke=\"green\" stroke-width=\"1\" fill='green' /> <line x1=\"102\" y1=\"41\" x2=\"120\" y2=\"50\" stroke=\"green\" stroke-width:2\"  stroke-dasharray='2,2' /><line x1=\"102\" y1=\"41\" x2=\"88\" y2=\"41\" stroke=\"green\" stroke-width:2\"  stroke-dasharray='2,2' /><line x1=\"88\" y1=\"41\" x2=\"70\" y2=\"50\" stroke=\"green\" stroke-width:2\"  stroke-dasharray='2,2' /><line x1=\"102\" y1=\"59\" x2=\"120\" y2=\"50\" stroke=\"green\" stroke-width:2\"  stroke-dasharray='2,2' /><line x1=\"102\" y1=\"59\" x2=\"38\" y2=\"41\" stroke=\"green\" stroke-width:2\"  stroke-dasharray='2,2' /><line x1=\"38\" y1=\"41\" x2=\"20\" y2=\"50\" stroke=\"green\" stroke-width:2\"  stroke-dasharray='2,2' /><line x1=\"52\" y1=\"41\" x2=\"70\" y2=\"50\" stroke=\"green\" stroke-width:2\"  stroke-dasharray='2,2' /><line x1=\"52\" y1=\"41\" x2=\"38\" y2=\"59\" stroke=\"green\" stroke-width:2\"  stroke-dasharray='2,2' /><line x1=\"38\" y1=\"59\" x2=\"20\" y2=\"50\" stroke=\"green\" stroke-width:2\"  stroke-dasharray='2,2' /><line x1=\"138\" y1=\"50\" x2=\"120\" y2=\"50\" stroke=\"green\" stroke-width:2\"   /><line x1=\"52\" y1=\"59\" x2=\"70\" y2=\"50\" stroke=\"orange\" stroke-width:2\"   /><line x1=\"88\" y1=\"59\" x2=\"70\" y2=\"50\" stroke=\"orange\" stroke-width:2\"   /><line x1=\"2\" y1=\"50\" x2=\"20\" y2=\"50\" stroke=\"green\" stroke-width:2\"   />  </g> </svg>"
      ]
     },
     "execution_count": 6,
     "metadata": {},
     "output_type": "execute_result"
    }
   ],
   "source": [
    "U = G(branching)*G(cross)*G(coagulation)\n",
    "composition_diagram(U,compact=True)"
   ]
  },
  {
   "cell_type": "code",
   "execution_count": 7,
   "metadata": {
    "collapsed": true
   },
   "outputs": [],
   "source": [
    "#composition_diagram(T,compact=True)"
   ]
  },
  {
   "cell_type": "markdown",
   "metadata": {},
   "source": [
    "# The graph theory stuff is in fgraph - e.g. Incidence Matrix"
   ]
  },
  {
   "cell_type": "code",
   "execution_count": 8,
   "metadata": {},
   "outputs": [
    {
     "data": {
      "text/latex": [
       "$\\left[\\begin{smallmatrix}-1 & -1 & 0 & -1 & 0 & 0 & 0\\\\1 & 0 & 1 & 0 & -1 & -1 & 0\\\\0 & 1 & -1 & 0 & 0 & 0 & -1\\\\0 & 0 & 0 & 1 & 1 & 1 & 1\\end{smallmatrix}\\right]$"
      ],
      "text/plain": [
       "$\\left[\\begin{smallmatrix}-1 & -1 & 0 & -1 & 0 & 0 & 0\\\\1 & 0 & 1 & 0 & -1 & -1 & 0\\\\0 & 1 & -1 & 0 & 0 & 0 & -1\\\\0 & 0 & 0 & 1 & 1 & 1 & 1\\end{smallmatrix}\\right]$"
      ]
     },
     "execution_count": 8,
     "metadata": {},
     "output_type": "execute_result"
    }
   ],
   "source": [
    "GU = fgraph(U,True)\n",
    "GU"
   ]
  },
  {
   "cell_type": "code",
   "execution_count": 9,
   "metadata": {},
   "outputs": [
    {
     "data": {
      "text/html": [
       "<svg xmlns=\"http://www.w3.org/2000/svg\" xmlns:xlink=\"http://www.w3.org/1999/xlink\" version=\"1.1\" x=\"0\" y=\"0\" width=\"500\" height=\"170\">['<svg xmlns=\"http://www.w3.org/2000/svg\" xmlns:xlink=\"http://www.w3.org/1999/xlink\" version=\"1.1\" x=\"0\" y=\"0\" width=\"500\" height=\"120\">\\n      <g fill=\"none\" stroke=\"black\" stroke-width=\"1.6\" stroke-linecap=\"round\"> <circle cx=\"20\" cy=\"50\" r=\"3\" stroke=\"black\" stroke-width=\"1\" fill=\"black\" /> <circle cx=\"2\" cy=\"50\" r=\"2\" stroke=\"green\" stroke-width=\"1\" fill=\\'green\\' /> <circle cx=\"38\" cy=\"41\" r=\"2\" stroke=\"green\" stroke-width=\"1\"  /> <circle cx=\"38\" cy=\"59\" r=\"2\" stroke=\"green\" stroke-width=\"1\"  /> <line x1=\"2\" y1=\"50\" x2=\"20\" y2=\"50\" stroke=\"green\" stroke-width:2\"   /><line x1=\"38\" y1=\"41\" x2=\"20\" y2=\"50\" stroke=\"green\" stroke-width:2\"   /><line x1=\"38\" y1=\"59\" x2=\"20\" y2=\"50\" stroke=\"green\" stroke-width:2\"   />  </g> </svg>', '<svg xmlns=\"http://www.w3.org/2000/svg\" xmlns:xlink=\"http://www.w3.org/1999/xlink\" version=\"1.1\" x=\"0\" y=\"40\" width=\"500\" height=\"120\">\\n      <g fill=\"none\" stroke=\"black\" stroke-width=\"1.6\" stroke-linecap=\"round\"> <circle cx=\"20\" cy=\"50\" r=\"3\" stroke=\"black\" stroke-width=\"1\" fill=\"black\" /> <circle cx=\"2\" cy=\"41\" r=\"2\" stroke=\"green\" stroke-width=\"1\" fill=\\'green\\' /> <circle cx=\"38\" cy=\"41\" r=\"2\" stroke=\"green\" stroke-width=\"1\"  /> <circle cx=\"2\" cy=\"59\" r=\"2\" stroke=\"orange\" stroke-width=\"1\" fill=\\'orange\\' /> <circle cx=\"38\" cy=\"59\" r=\"2\" stroke=\"orange\" stroke-width=\"1\"  /> <line x1=\"2\" y1=\"41\" x2=\"20\" y2=\"50\" stroke=\"green\" stroke-width:2\"   /><line x1=\"38\" y1=\"41\" x2=\"20\" y2=\"50\" stroke=\"green\" stroke-width:2\"   /><line x1=\"2\" y1=\"59\" x2=\"20\" y2=\"50\" stroke=\"orange\" stroke-width:2\"   /><line x1=\"38\" y1=\"59\" x2=\"20\" y2=\"50\" stroke=\"orange\" stroke-width:2\"   />  </g> </svg>', '<svg xmlns=\"http://www.w3.org/2000/svg\" xmlns:xlink=\"http://www.w3.org/1999/xlink\" version=\"1.1\" x=\"0\" y=\"80\" width=\"500\" height=\"120\">\\n      <g fill=\"none\" stroke=\"black\" stroke-width=\"1.6\" stroke-linecap=\"round\"> <circle cx=\"20\" cy=\"50\" r=\"3\" stroke=\"black\" stroke-width=\"1\" fill=\"black\" /> <circle cx=\"2\" cy=\"41\" r=\"2\" stroke=\"green\" stroke-width=\"1\" fill=\\'green\\' /> <circle cx=\"2\" cy=\"59\" r=\"2\" stroke=\"green\" stroke-width=\"1\" fill=\\'green\\' /> <circle cx=\"38\" cy=\"50\" r=\"2\" stroke=\"green\" stroke-width=\"1\"  /> <line x1=\"2\" y1=\"41\" x2=\"20\" y2=\"50\" stroke=\"green\" stroke-width:2\"   /><line x1=\"2\" y1=\"59\" x2=\"20\" y2=\"50\" stroke=\"green\" stroke-width:2\"   /><line x1=\"38\" y1=\"50\" x2=\"20\" y2=\"50\" stroke=\"green\" stroke-width:2\"   />  </g> </svg>']</svg>"
      ],
      "text/plain": [
       "<svg xmlns=\"http://www.w3.org/2000/svg\" xmlns:xlink=\"http://www.w3.org/1999/xlink\" version=\"1.1\" x=\"0\" y=\"0\" width=\"500\" height=\"170\">['<svg xmlns=\"http://www.w3.org/2000/svg\" xmlns:xlink=\"http://www.w3.org/1999/xlink\" version=\"1.1\" x=\"0\" y=\"0\" width=\"500\" height=\"120\">\\n      <g fill=\"none\" stroke=\"black\" stroke-width=\"1.6\" stroke-linecap=\"round\"> <circle cx=\"20\" cy=\"50\" r=\"3\" stroke=\"black\" stroke-width=\"1\" fill=\"black\" /> <circle cx=\"2\" cy=\"50\" r=\"2\" stroke=\"green\" stroke-width=\"1\" fill=\\'green\\' /> <circle cx=\"38\" cy=\"41\" r=\"2\" stroke=\"green\" stroke-width=\"1\"  /> <circle cx=\"38\" cy=\"59\" r=\"2\" stroke=\"green\" stroke-width=\"1\"  /> <line x1=\"2\" y1=\"50\" x2=\"20\" y2=\"50\" stroke=\"green\" stroke-width:2\"   /><line x1=\"38\" y1=\"41\" x2=\"20\" y2=\"50\" stroke=\"green\" stroke-width:2\"   /><line x1=\"38\" y1=\"59\" x2=\"20\" y2=\"50\" stroke=\"green\" stroke-width:2\"   />  </g> </svg>', '<svg xmlns=\"http://www.w3.org/2000/svg\" xmlns:xlink=\"http://www.w3.org/1999/xlink\" version=\"1.1\" x=\"0\" y=\"40\" width=\"500\" height=\"120\">\\n      <g fill=\"none\" stroke=\"black\" stroke-width=\"1.6\" stroke-linecap=\"round\"> <circle cx=\"20\" cy=\"50\" r=\"3\" stroke=\"black\" stroke-width=\"1\" fill=\"black\" /> <circle cx=\"2\" cy=\"41\" r=\"2\" stroke=\"green\" stroke-width=\"1\" fill=\\'green\\' /> <circle cx=\"38\" cy=\"41\" r=\"2\" stroke=\"green\" stroke-width=\"1\"  /> <circle cx=\"2\" cy=\"59\" r=\"2\" stroke=\"orange\" stroke-width=\"1\" fill=\\'orange\\' /> <circle cx=\"38\" cy=\"59\" r=\"2\" stroke=\"orange\" stroke-width=\"1\"  /> <line x1=\"2\" y1=\"41\" x2=\"20\" y2=\"50\" stroke=\"green\" stroke-width:2\"   /><line x1=\"38\" y1=\"41\" x2=\"20\" y2=\"50\" stroke=\"green\" stroke-width:2\"   /><line x1=\"2\" y1=\"59\" x2=\"20\" y2=\"50\" stroke=\"orange\" stroke-width:2\"   /><line x1=\"38\" y1=\"59\" x2=\"20\" y2=\"50\" stroke=\"orange\" stroke-width:2\"   />  </g> </svg>', '<svg xmlns=\"http://www.w3.org/2000/svg\" xmlns:xlink=\"http://www.w3.org/1999/xlink\" version=\"1.1\" x=\"0\" y=\"80\" width=\"500\" height=\"120\">\\n      <g fill=\"none\" stroke=\"black\" stroke-width=\"1.6\" stroke-linecap=\"round\"> <circle cx=\"20\" cy=\"50\" r=\"3\" stroke=\"black\" stroke-width=\"1\" fill=\"black\" /> <circle cx=\"2\" cy=\"41\" r=\"2\" stroke=\"green\" stroke-width=\"1\" fill=\\'green\\' /> <circle cx=\"2\" cy=\"59\" r=\"2\" stroke=\"green\" stroke-width=\"1\" fill=\\'green\\' /> <circle cx=\"38\" cy=\"50\" r=\"2\" stroke=\"green\" stroke-width=\"1\"  /> <line x1=\"2\" y1=\"41\" x2=\"20\" y2=\"50\" stroke=\"green\" stroke-width:2\"   /><line x1=\"2\" y1=\"59\" x2=\"20\" y2=\"50\" stroke=\"green\" stroke-width:2\"   /><line x1=\"38\" y1=\"50\" x2=\"20\" y2=\"50\" stroke=\"green\" stroke-width:2\"   />  </g> </svg>']</svg>"
      ]
     },
     "execution_count": 9,
     "metadata": {},
     "output_type": "execute_result"
    }
   ],
   "source": [
    "GU.draw_decomp()"
   ]
  },
  {
   "cell_type": "code",
   "execution_count": 10,
   "metadata": {},
   "outputs": [
    {
     "data": {
      "text/latex": [
       "$$\\frac{1.0 \\left(4 \\pi\\right)^{- \\frac{d}{2}}}{\\Gamma{\\left (2 \\right )}} \\left(\\frac{1}{4 D_{0}} \\left(D_{0} k_{p}^{2} - 2 i \\omega_p + 4 m_{0}\\right)\\right)^{\\frac{d}{2} - 2} \\Gamma{\\left (- \\frac{d}{2} + 2 \\right )}$$"
      ],
      "text/plain": [
       "                                            d                    \n",
       "                                            ─ - 2                \n",
       "           -d                               2                    \n",
       "           ─── ⎛     2                     ⎞                     \n",
       "            2  ⎜D₀⋅kₚ  - 2⋅ⅈ⋅\\omegaₚ + 4⋅m₀⎟            ⎛  d    ⎞\n",
       "1.0⋅(4⋅\\pi)   ⋅⎜───────────────────────────⎟     ⋅\\Gamma⎜- ─ + 2⎟\n",
       "               ⎝            4⋅D₀           ⎠            ⎝  2    ⎠\n",
       "─────────────────────────────────────────────────────────────────\n",
       "                            \\Gamma(2)                            "
      ]
     },
     "execution_count": 10,
     "metadata": {},
     "output_type": "execute_result"
    }
   ],
   "source": [
    "#GU = fgraph(T,True)#.betti_number()\n",
    "GU.gamma_integral"
   ]
  },
  {
   "cell_type": "markdown",
   "metadata": {},
   "source": [
    "### Convention:\n",
    "\n",
    "While we could enforce more conventions earlier, here i assume a random edge ordering and now i want to enforce an ordering\n",
    "\n",
    "I choose to have all external momenta pointing out of the graph (where we connected to the infinity vertext) and start by assuming all flow is towards increasing vid (order of vertices added in construction)\n",
    "\n",
    "Then i choose the shortest path from the sink vertex (last vertex added) to the source vertex (first added) and i reverse the orientation on the path\n",
    "\n",
    "We already at this point have some convention- the first row of the inc matrix is the source, the second last is the sink and the last is the infinity vertex used to complete the graph\n",
    "\n",
    "This would be done for all loops in a general graph but for now we assume one loop"
   ]
  },
  {
   "cell_type": "code",
   "execution_count": 11,
   "metadata": {},
   "outputs": [
    {
     "data": {
      "text/latex": [
       "$$\\left ( \\left \\{ 0 : \\left [ 1, \\quad 2\\right ], \\quad 2 : \\left [ 1\\right ]\\right \\}, \\quad \\left [ \\left [ 0, \\quad 2\\right ]\\right ]\\right )$$"
      ],
      "text/plain": [
       "({0: [1, 2], 2: [1]}, [[0, 2]])"
      ]
     },
     "execution_count": 11,
     "metadata": {},
     "output_type": "execute_result"
    }
   ],
   "source": [
    "#choose all edges on the shortest path between source and sink as the \"backflow\" edges. one of these is the loop momentum\n",
    "g = fgraph.edges_to_adjaceny_dict(U.edges)\n",
    "walk = fgraph.shortest_path(g, 0,2)\n",
    "walk = list(fgraph.expand_path(walk))\n",
    "g,walk"
   ]
  },
  {
   "cell_type": "code",
   "execution_count": 12,
   "metadata": {
    "collapsed": true
   },
   "outputs": [],
   "source": [
    "#SVG draw arrows on the compact rep, todo"
   ]
  },
  {
   "cell_type": "markdown",
   "metadata": {},
   "source": [
    "## observe different sign states on the incident matrix \n",
    "we start off seeking the standard form, externals point out, internals point \"forward\" - by default this is not how it looks so we change edge direction in the 2nd matrix\n",
    "\n",
    "then we invert the shortest path i.e. change the direction of any edge on the shortest path. now we have our standard form that we will generally assume\n",
    "\n",
    "in this case, in final matrix, column 1 (0-indexed) is the only one that goes from 1 to -1 reading from top to bottom - this is the \"backflow edge\" in the loop"
   ]
  },
  {
   "cell_type": "code",
   "execution_count": 13,
   "metadata": {},
   "outputs": [
    {
     "data": {
      "text/plain": [
       "array([[-1, -1,  0, -1,  0,  0,  0],\n",
       "       [ 1,  0,  1,  0, -1, -1,  0],\n",
       "       [ 0,  1, -1,  0,  0,  0, -1],\n",
       "       [ 0,  0,  0,  1,  1,  1,  1]])"
      ]
     },
     "execution_count": 13,
     "metadata": {},
     "output_type": "execute_result"
    }
   ],
   "source": [
    "inc = GU._inc \n",
    "inc"
   ]
  },
  {
   "cell_type": "code",
   "execution_count": 14,
   "metadata": {},
   "outputs": [
    {
     "data": {
      "text/plain": [
       "array([[-1, -1,  0, -1,  0,  0,  0],\n",
       "       [ 1,  0, -1,  0, -1, -1,  0],\n",
       "       [ 0,  1,  1,  0,  0,  0, -1],\n",
       "       [ 0,  0,  0,  1,  1,  1,  1]])"
      ]
     },
     "execution_count": 14,
     "metadata": {},
     "output_type": "execute_result"
    }
   ],
   "source": [
    "inc = fgraph.should_toggle_edge_columns(inc) * inc\n",
    "inc"
   ]
  },
  {
   "cell_type": "code",
   "execution_count": 15,
   "metadata": {},
   "outputs": [
    {
     "data": {
      "text/plain": [
       "array([[-1,  1,  0, -1,  0,  0,  0],\n",
       "       [ 1,  0, -1,  0, -1, -1,  0],\n",
       "       [ 0, -1,  1,  0,  0,  0, -1],\n",
       "       [ 0,  0,  0,  1,  1,  1,  1]])"
      ]
     },
     "execution_count": 15,
     "metadata": {},
     "output_type": "execute_result"
    }
   ],
   "source": [
    "inc_inv = fgraph.invert_path(inc, walk)\n",
    "inc_inv"
   ]
  },
  {
   "cell_type": "markdown",
   "metadata": {},
   "source": [
    "## Evaluate the momentum equations\n",
    "\n",
    "this convention above makes the interpretation of the momentum equations less ambiguous. we now keep signs for the momentum as per the incidence matrix."
   ]
  },
  {
   "cell_type": "code",
   "execution_count": 16,
   "metadata": {},
   "outputs": [
    {
     "data": {
      "text/plain": [
       "([-p1 - q1 - q2, k - p2 - p3 + q1, -k - p4 + q2, p1 + p2 + p3 + p4],\n",
       " {p2: -p3 - p4 + q1 + q2, k: -p4 + q2, p1: -q1 - q2},\n",
       " {0: q1, 1: q2, 2: k, 3: p1, 4: p2, 5: p3, 6: p4})"
      ]
     },
     "execution_count": 16,
     "metadata": {},
     "output_type": "execute_result"
    }
   ],
   "source": [
    "GU.edge_system"
   ]
  },
  {
   "cell_type": "code",
   "execution_count": 17,
   "metadata": {
    "collapsed": true
   },
   "outputs": [],
   "source": [
    "#actually from the notes I am not sure about the following:\n",
    "#1 if the integrals are the same for any external leg structure, then momenta are based only on the number of vertices/propagators - however how do we resolve momenta\n",
    "#2 there are some trasmutation \"vertices\" in diags which supposedly have no local residuals and the loops have the same q structure as the 2-nodes - why is that\n",
    "#3 there are integrals with 3+ vertices that have no dependance on external momenta but that does not add up for me\n",
    "#fow now im going to do a hack because i cannot justify what we do in the notes; my rule is going to be for the 2-vertex loop I have one rule and for the 3 and above I have another rule\n",
    "#it seems without some argument, the same way we have casuality differences which must have momenta differences on certain edges"
   ]
  },
  {
   "cell_type": "markdown",
   "metadata": {},
   "source": [
    "## This leads to integration of graph momenta (consider simple case)..."
   ]
  },
  {
   "cell_type": "code",
   "execution_count": 18,
   "metadata": {},
   "outputs": [
    {
     "data": {
      "text/latex": [
       "$$\\left [ \\frac{1}{D_{0} k_{l}^{2} + i \\omega_l + m_{0}}, \\quad \\frac{1}{D_{0} \\left(k_{l} + k_{p}\\right)^{2} + m_{0} - i \\left(\\omega_l + \\omega_p\\right)}, \\quad \\frac{1}{D_{0} k_{l}^{2} + i \\omega_l + m_{0}}\\right ]$$"
      ],
      "text/plain": [
       "⎡           1                                 1                               \n",
       "⎢───────────────────────, ──────────────────────────────────────────, ────────\n",
       "⎢     2                               2                                    2  \n",
       "⎣D₀⋅kₗ  + ⅈ⋅\\omegaₗ + m₀  D₀⋅(kₗ + kₚ)  + m₀ - ⅈ⋅(\\omegaₗ + \\omegaₚ)  D₀⋅kₗ  +\n",
       "\n",
       "   1           ⎤\n",
       "───────────────⎥\n",
       "               ⎥\n",
       " ⅈ⋅\\omegaₗ + m₀⎦"
      ]
     },
     "execution_count": 18,
     "metadata": {},
     "output_type": "execute_result"
    }
   ],
   "source": [
    "# As i have not decided how k will be determined for sure, I leave it as a parameter here\n",
    "propagators = cpropagator.from_edges(U.edges,k_node_index=1)\n",
    "[p.display() for p in propagators]"
   ]
  },
  {
   "cell_type": "code",
   "execution_count": 19,
   "metadata": {},
   "outputs": [
    {
     "data": {
      "text/latex": [
       "$$- \\frac{i}{\\left(D_{0} k_{l}^{2} + m_{0} + i \\left(- i D_{0} \\left(k_{l} + k_{p}\\right)^{2} - \\omega_p - i m_{0}\\right)\\right)^{2}}$$"
      ],
      "text/plain": [
       "                          -ⅈ                           \n",
       "───────────────────────────────────────────────────────\n",
       "                                                      2\n",
       "⎛     2          ⎛                2                 ⎞⎞ \n",
       "⎝D₀⋅kₗ  + m₀ + ⅈ⋅⎝- ⅈ⋅D₀⋅(kₗ + kₚ)  - \\omegaₚ - ⅈ⋅m₀⎠⎠ "
      ]
     },
     "execution_count": 19,
     "metadata": {},
     "output_type": "execute_result"
    }
   ],
   "source": [
    "#this is just the first residue - in this case there is only one anyway\n",
    "cpropagator.residues(propagators)[0][\"value\"]"
   ]
  },
  {
   "cell_type": "code",
   "execution_count": 64,
   "metadata": {},
   "outputs": [
    {
     "data": {
      "text/latex": [
       "$$\\frac{1}{2 \\left(D_{0} k_{l}^{2} + m_{0}\\right) \\left(D_{0} k_{l}^{2} + D_{1} k_{l}^{2} + m_{0} + m_{1}\\right)}$$"
      ],
      "text/plain": [
       "                     1                     \n",
       "───────────────────────────────────────────\n",
       "  ⎛     2     ⎞ ⎛     2        2          ⎞\n",
       "2⋅⎝D₀⋅kₗ  + m₀⎠⋅⎝D₀⋅kₗ  + D₁⋅kₗ  + m₀ + m₁⎠"
      ]
     },
     "execution_count": 64,
     "metadata": {},
     "output_type": "execute_result"
    }
   ],
   "source": [
    "K = cpropagator.integrate(propagators)\n",
    "K"
   ]
  },
  {
   "cell_type": "code",
   "execution_count": 65,
   "metadata": {},
   "outputs": [
    {
     "data": {
      "text/latex": [
       "$$\\frac{1}{2 \\left(\\alpha_{1} \\left(D_{0} k_{l}^{2} + m_{0}\\right) + \\alpha_{2} \\left(D_{0} k_{l}^{2} + D_{1} k_{l}^{2} + m_{0} + m_{1}\\right)\\right)^{2}}$$"
      ],
      "text/plain": [
       "                          1                           \n",
       "──────────────────────────────────────────────────────\n",
       "                                                     2\n",
       "  ⎛   ⎛     2     ⎞      ⎛     2        2          ⎞⎞ \n",
       "2⋅⎝α₁⋅⎝D₀⋅kₗ  + m₀⎠ + α₂⋅⎝D₀⋅kₗ  + D₁⋅kₗ  + m₀ + m₁⎠⎠ "
      ]
     },
     "execution_count": 65,
     "metadata": {},
     "output_type": "execute_result"
    }
   ],
   "source": [
    "PI = kpropagator(K)\n",
    "PI.parametric_integral"
   ]
  },
  {
   "cell_type": "code",
   "execution_count": 71,
   "metadata": {},
   "outputs": [
    {
     "data": {
      "text/latex": [
       "$$\\frac{\\left(D_{0} - D_{1} \\alpha_{1} + D_{1}\\right)^{2}}{2 \\left(D_{0} k_{l}^{2} - D_{1} \\alpha_{1} k_{l}^{2} + D_{1} k_{l}^{2} - \\alpha_{1} m_{1} + m_{0} + m_{1}\\right)^{2}}$$"
      ],
      "text/plain": [
       "                                 2                \n",
       "                (D₀ - D₁⋅α₁ + D₁)                 \n",
       "──────────────────────────────────────────────────\n",
       "                                                 2\n",
       "  ⎛     2           2        2                  ⎞ \n",
       "2⋅⎝D₀⋅kₗ  - D₁⋅α₁⋅kₗ  + D₁⋅kₗ  - α₁⋅m₁ + m₀ + m₁⎠ "
      ]
     },
     "execution_count": 71,
     "metadata": {},
     "output_type": "execute_result"
    }
   ],
   "source": [
    "PI.reduced_parametric_integral"
   ]
  },
  {
   "cell_type": "code",
   "execution_count": 72,
   "metadata": {},
   "outputs": [
    {
     "data": {
      "text/latex": [
       "$$\\operatorname{Poly}{\\left( k_{l}^{2} + \\frac{- \\alpha_{1} m_{1} + m_{0} + m_{1}}{D_{0} - D_{1} \\alpha_{1} + D_{1}}, k_{l}, domain=\\mathbb{Z}\\left(D_{0}, D_{1}, \\alpha_{1}, m_{0}, m_{1}\\right) \\right)}$$"
      ],
      "text/plain": [
       "Poly(k_l**2 + (-alpha_1*m_1 + m_0 + m_1)/(D_0 - D_1*alpha_1 + D_1), k_l, domai\n",
       "n='ZZ(D_0,D_1,alpha_1,m_0,m_1)')"
      ]
     },
     "execution_count": 72,
     "metadata": {},
     "output_type": "execute_result"
    }
   ],
   "source": [
    "PI._p"
   ]
  },
  {
   "cell_type": "code",
   "execution_count": 73,
   "metadata": {},
   "outputs": [
    {
     "data": {
      "text/plain": [
       "False"
      ]
     },
     "execution_count": 73,
     "metadata": {},
     "output_type": "execute_result"
    }
   ],
   "source": [
    "PI.used_chung_wu"
   ]
  },
  {
   "cell_type": "code",
   "execution_count": 76,
   "metadata": {},
   "outputs": [
    {
     "data": {
      "text/latex": [
       "$$\\left ( \\frac{- \\alpha_{1} m_{1} + m_{0} + m_{1}}{D_{0} - D_{1} \\alpha_{1} + D_{1}}, \\quad 0, \\quad 2, \\quad 2\\right )$$"
      ],
      "text/plain": [
       "⎛-α₁⋅m₁ + m₀ + m₁         ⎞\n",
       "⎜────────────────, 0, 2, 2⎟\n",
       "⎝D₀ - D₁⋅α₁ + D₁          ⎠"
      ]
     },
     "execution_count": 76,
     "metadata": {},
     "output_type": "execute_result"
    }
   ],
   "source": [
    "terms = kpropagator.__reduced_terms__(PI.reduced_parametric_integral)\n",
    "terms[\"M\"] ,terms[\"r\"], terms[\"nu\"] , terms[\"prefactor\"]"
   ]
  },
  {
   "cell_type": "code",
   "execution_count": 77,
   "metadata": {},
   "outputs": [
    {
     "data": {
      "text/latex": [
       "$$\\frac{\\left(4 \\pi\\right)^{- \\frac{d}{2}} \\Gamma{\\left (- \\frac{d}{2} + 2 \\right )}}{2 \\Gamma{\\left (2 \\right )}} \\left(\\frac{- \\alpha_{1} m_{1} + m_{0} + m_{1}}{D_{0} - D_{1} \\alpha_{1} + D_{1}}\\right)^{\\frac{d}{2} - 2}$$"
      ],
      "text/plain": [
       "                             d                    \n",
       "       -d                    ─ - 2                \n",
       "       ───                   2                    \n",
       "        2  ⎛-α₁⋅m₁ + m₀ + m₁⎞            ⎛  d    ⎞\n",
       "(4⋅\\pi)   ⋅⎜────────────────⎟     ⋅\\Gamma⎜- ─ + 2⎟\n",
       "           ⎝D₀ - D₁⋅α₁ + D₁ ⎠            ⎝  2    ⎠\n",
       "──────────────────────────────────────────────────\n",
       "                   2⋅\\Gamma(2)                    "
      ]
     },
     "execution_count": 77,
     "metadata": {},
     "output_type": "execute_result"
    }
   ],
   "source": [
    "PI.gamma_integral()"
   ]
  },
  {
   "cell_type": "markdown",
   "metadata": {},
   "source": [
    "## Example with alpha params not needed for linear reduction => integrate on simplex"
   ]
  },
  {
   "cell_type": "code",
   "execution_count": 78,
   "metadata": {},
   "outputs": [
    {
     "data": {
      "text/latex": [
       "$$\\left [ \\frac{1}{D_{0} k_{l}^{2} - i \\omega_l + m_{0}}, \\quad \\frac{1}{D_{1} k_{l}^{2} + i \\omega_l + m_{1}}, \\quad \\frac{1}{D_{0} k_{l}^{2} + i \\omega_l + m_{0}}\\right ]$$"
      ],
      "text/plain": [
       "⎡           1                        1                        1           ⎤\n",
       "⎢───────────────────────, ───────────────────────, ───────────────────────⎥\n",
       "⎢     2                        2                        2                 ⎥\n",
       "⎣D₀⋅kₗ  - ⅈ⋅\\omegaₗ + m₀  D₁⋅kₗ  + ⅈ⋅\\omegaₗ + m₁  D₀⋅kₗ  + ⅈ⋅\\omegaₗ + m₀⎦"
      ]
     },
     "execution_count": 78,
     "metadata": {},
     "output_type": "execute_result"
    }
   ],
   "source": [
    "propagators = [cpropagator(0,1, -1),cpropagator(1,1,1),cpropagator(0,1, 1)]\n",
    "[c.display() for c in propagators]"
   ]
  },
  {
   "cell_type": "code",
   "execution_count": 79,
   "metadata": {},
   "outputs": [
    {
     "data": {
      "text/latex": [
       "$$\\frac{1}{2 \\left(D_{0} k_{l}^{2} + m_{0}\\right) \\left(D_{0} k_{l}^{2} + D_{1} k_{l}^{2} + m_{0} + m_{1}\\right)}$$"
      ],
      "text/plain": [
       "                     1                     \n",
       "───────────────────────────────────────────\n",
       "  ⎛     2     ⎞ ⎛     2        2          ⎞\n",
       "2⋅⎝D₀⋅kₗ  + m₀⎠⋅⎝D₀⋅kₗ  + D₁⋅kₗ  + m₀ + m₁⎠"
      ]
     },
     "execution_count": 79,
     "metadata": {},
     "output_type": "execute_result"
    }
   ],
   "source": [
    "C = cpropagator.integrate(propagators)\n",
    "C"
   ]
  },
  {
   "cell_type": "code",
   "execution_count": 80,
   "metadata": {},
   "outputs": [
    {
     "data": {
      "text/latex": [
       "$$\\frac{1}{2 \\left(\\alpha_{1} \\left(D_{0} k_{l}^{2} + m_{0}\\right) + \\alpha_{2} \\left(D_{0} k_{l}^{2} + D_{1} k_{l}^{2} + m_{0} + m_{1}\\right)\\right)^{2}}$$"
      ],
      "text/plain": [
       "                          1                           \n",
       "──────────────────────────────────────────────────────\n",
       "                                                     2\n",
       "  ⎛   ⎛     2     ⎞      ⎛     2        2          ⎞⎞ \n",
       "2⋅⎝α₁⋅⎝D₀⋅kₗ  + m₀⎠ + α₂⋅⎝D₀⋅kₗ  + D₁⋅kₗ  + m₀ + m₁⎠⎠ "
      ]
     },
     "execution_count": 80,
     "metadata": {},
     "output_type": "execute_result"
    }
   ],
   "source": [
    "K = kpropagator(C)\n",
    "K.parametric_integral"
   ]
  },
  {
   "cell_type": "code",
   "execution_count": 81,
   "metadata": {},
   "outputs": [
    {
     "data": {
      "text/latex": [
       "$$\\frac{\\left(D_{0} - D_{1} \\alpha_{1} + D_{1}\\right)^{2}}{2 \\left(D_{0} k_{l}^{2} - D_{1} \\alpha_{1} k_{l}^{2} + D_{1} k_{l}^{2} - \\alpha_{1} m_{1} + m_{0} + m_{1}\\right)^{2}}$$"
      ],
      "text/plain": [
       "                                 2                \n",
       "                (D₀ - D₁⋅α₁ + D₁)                 \n",
       "──────────────────────────────────────────────────\n",
       "                                                 2\n",
       "  ⎛     2           2        2                  ⎞ \n",
       "2⋅⎝D₀⋅kₗ  - D₁⋅α₁⋅kₗ  + D₁⋅kₗ  - α₁⋅m₁ + m₀ + m₁⎠ "
      ]
     },
     "execution_count": 81,
     "metadata": {},
     "output_type": "execute_result"
    }
   ],
   "source": [
    "K.reduced_parametric_integral"
   ]
  },
  {
   "cell_type": "code",
   "execution_count": 82,
   "metadata": {},
   "outputs": [
    {
     "data": {
      "text/latex": [
       "$$\\operatorname{Poly}{\\left( k_{l}^{2} + \\frac{- \\alpha_{1} m_{1} + m_{0} + m_{1}}{D_{0} - D_{1} \\alpha_{1} + D_{1}}, k_{l}, domain=\\mathbb{Z}\\left(D_{0}, D_{1}, \\alpha_{1}, m_{0}, m_{1}\\right) \\right)}$$"
      ],
      "text/plain": [
       "Poly(k_l**2 + (-alpha_1*m_1 + m_0 + m_1)/(D_0 - D_1*alpha_1 + D_1), k_l, domai\n",
       "n='ZZ(D_0,D_1,alpha_1,m_0,m_1)')"
      ]
     },
     "execution_count": 82,
     "metadata": {},
     "output_type": "execute_result"
    }
   ],
   "source": [
    "K._p"
   ]
  },
  {
   "cell_type": "code",
   "execution_count": 83,
   "metadata": {},
   "outputs": [
    {
     "data": {
      "text/plain": [
       "{'M': (-alpha_1*m_1 + m_0 + m_1)/(D_0 - D_1*alpha_1 + D_1),\n",
       " 'nu': 2,\n",
       " 'prefactor': 2,\n",
       " 'r': 0}"
      ]
     },
     "execution_count": 83,
     "metadata": {},
     "output_type": "execute_result"
    }
   ],
   "source": [
    "K.reduced_terms\n",
    "#add constant prefactor and D prefactor for book keeping only"
   ]
  },
  {
   "cell_type": "code",
   "execution_count": 84,
   "metadata": {},
   "outputs": [
    {
     "data": {
      "text/latex": [
       "$$\\frac{\\left(4 \\pi\\right)^{- \\frac{d}{2}} \\Gamma{\\left (- \\frac{d}{2} + 2 \\right )}}{2 \\Gamma{\\left (2 \\right )}} \\left(\\frac{- \\alpha_{1} m_{1} + m_{0} + m_{1}}{D_{0} - D_{1} \\alpha_{1} + D_{1}}\\right)^{\\frac{d}{2} - 2}$$"
      ],
      "text/plain": [
       "                             d                    \n",
       "       -d                    ─ - 2                \n",
       "       ───                   2                    \n",
       "        2  ⎛-α₁⋅m₁ + m₀ + m₁⎞            ⎛  d    ⎞\n",
       "(4⋅\\pi)   ⋅⎜────────────────⎟     ⋅\\Gamma⎜- ─ + 2⎟\n",
       "           ⎝D₀ - D₁⋅α₁ + D₁ ⎠            ⎝  2    ⎠\n",
       "──────────────────────────────────────────────────\n",
       "                   2⋅\\Gamma(2)                    "
      ]
     },
     "execution_count": 84,
     "metadata": {},
     "output_type": "execute_result"
    }
   ],
   "source": [
    "K.gamma_integral()"
   ]
  },
  {
   "cell_type": "code",
   "execution_count": 85,
   "metadata": {},
   "outputs": [
    {
     "data": {
      "text/plain": [
       "False"
      ]
     },
     "execution_count": 85,
     "metadata": {},
     "output_type": "execute_result"
    }
   ],
   "source": [
    "K.used_chung_wu"
   ]
  },
  {
   "cell_type": "code",
   "execution_count": 86,
   "metadata": {},
   "outputs": [
    {
     "data": {
      "text/latex": [
       "$$\\frac{D_{0}^{- \\frac{d}{2}} \\left(4 \\pi\\right)^{- \\frac{d}{2}} \\left(m_{0} + \\frac{m_{1}}{2}\\right)^{\\frac{d}{2} - 1}}{2 \\left(\\frac{d}{2} - 1\\right) \\Gamma{\\left (2 \\right )}} \\Gamma{\\left (- \\frac{d}{2} + 2 \\right )}$$"
      ],
      "text/plain": [
       "                          d                    \n",
       "  -d         -d           ─ - 1                \n",
       "  ───        ───          2                    \n",
       "   2          2  ⎛     m₁⎞            ⎛  d    ⎞\n",
       "D₀   ⋅(4⋅\\pi)   ⋅⎜m₀ + ──⎟     ⋅\\Gamma⎜- ─ + 2⎟\n",
       "                 ⎝     2 ⎠            ⎝  2    ⎠\n",
       "───────────────────────────────────────────────\n",
       "                ⎛d    ⎞                        \n",
       "              2⋅⎜─ - 1⎟⋅\\Gamma(2)              \n",
       "                ⎝2    ⎠                        "
      ]
     },
     "execution_count": 86,
     "metadata": {},
     "output_type": "execute_result"
    }
   ],
   "source": [
    "K.gamma_integral(True, elim=[\"D_1\"])\n",
    "#decompose reduced terms into qm_kernel, qm_constants, d_constants,\n",
    "#to isolate k^2 we have already factored out D^nu, now this will cancel with D^alpha=D^{d/2-nu} and we will have D^{d/2} and constants^{alpha}"
   ]
  },
  {
   "cell_type": "code",
   "execution_count": 87,
   "metadata": {},
   "outputs": [],
   "source": [
    "#from sympy import *\n",
    "#General form?\n",
    "#integrate over simplex\n",
    "#Symbol(\"\\hat{D}\")**(Symbol(\"d\")/2) *Symbol(\"M\")**(Symbol(\"D\")/2-Symbol(\"nu\"))"
   ]
  },
  {
   "cell_type": "code",
   "execution_count": 37,
   "metadata": {
    "collapsed": true
   },
   "outputs": [],
   "source": [
    "#from this factor out constants and construct a regular polynomial in the alpha parameters\n",
    "#I have already reduced D by the power "
   ]
  },
  {
   "cell_type": "markdown",
   "metadata": {},
   "source": [
    "behind the scenes we just integrate the kernel directly rather than allowing sympy to integrate quasi mass"
   ]
  },
  {
   "cell_type": "code",
   "execution_count": 101,
   "metadata": {},
   "outputs": [
    {
     "data": {
      "text/latex": [
       "$$\\frac{- \\alpha_{1} m_{1} + m_{0} + m_{1}}{D_{0} - D_{1} \\alpha_{1} + D_{1}}$$"
      ],
      "text/plain": [
       "-α₁⋅m₁ + m₀ + m₁\n",
       "────────────────\n",
       "D₀ - D₁⋅α₁ + D₁ "
      ]
     },
     "execution_count": 101,
     "metadata": {},
     "output_type": "execute_result"
    }
   ],
   "source": [
    "from sympy import integrate,Symbol,simplify\n",
    "li = K.reduced_terms[\"M\"]\n",
    "li\n",
    "#what if D1 is in the integral - how do we integrate that sensibly?"
   ]
  },
  {
   "cell_type": "code",
   "execution_count": 102,
   "metadata": {},
   "outputs": [
    {
     "data": {
      "text/latex": [
       "$$\\frac{1}{D_{0}} \\left(- \\alpha_{1} m_{1} + m_{0} + m_{1}\\right)$$"
      ],
      "text/plain": [
       "-α₁⋅m₁ + m₀ + m₁\n",
       "────────────────\n",
       "       D₀       "
      ]
     },
     "execution_count": 102,
     "metadata": {},
     "output_type": "execute_result"
    }
   ],
   "source": [
    "li.subs(Symbol(\"D_1\"),0)"
   ]
  },
  {
   "cell_type": "code",
   "execution_count": 104,
   "metadata": {},
   "outputs": [
    {
     "data": {
      "text/latex": [
       "$$\\frac{1}{D_{0}} \\left(m_{0} + \\frac{m_{1}}{2}\\right)$$"
      ],
      "text/plain": [
       "     m₁\n",
       "m₀ + ──\n",
       "     2 \n",
       "───────\n",
       "   D₀  "
      ]
     },
     "execution_count": 104,
     "metadata": {},
     "output_type": "execute_result"
    }
   ],
   "source": [
    "#get the alpha parameter - there is one of them in this case - and integrate over 0,1\n",
    "a = [ a for a in li.atoms() if not a.is_constant() and a.name[:5]==\"alpha\"][0]\n",
    "simplify(integrate(li.subs(Symbol(\"D_1\"),0), (a,0,1)))\n",
    "#after integrating the kernel we take into account the power and prefactors too"
   ]
  },
  {
   "cell_type": "markdown",
   "metadata": {},
   "source": [
    "# Example with alpha parameters used for linear reduction"
   ]
  },
  {
   "cell_type": "code",
   "execution_count": 41,
   "metadata": {
    "collapsed": true
   },
   "outputs": [],
   "source": [
    "#punch in the example from theor. ref."
   ]
  },
  {
   "cell_type": "code",
   "execution_count": 42,
   "metadata": {},
   "outputs": [
    {
     "data": {
      "text/latex": [
       "$$\\left [ \\frac{1}{\\left(- k_{l} + k_{p}\\right)^{2} + \\frac{1}{D_{0}} \\left(- i \\omega_p + m_{1} + m_{2}\\right)}, \\quad \\frac{1}{k_{l}^{2} + \\left(- k_{l} + k_{p}\\right)^{2} + \\frac{1}{D_{0}} \\left(- i \\omega_p + 2 m_{1}\\right)}\\right ]$$"
      ],
      "text/plain": [
       "⎡                1                                     1                  ⎤\n",
       "⎢──────────────────────────────────, ─────────────────────────────────────⎥\n",
       "⎢          2   -ⅈ⋅\\omegaₚ + m₁ + m₂    2             2   -ⅈ⋅\\omegaₚ + 2⋅m₁⎥\n",
       "⎢(-kₗ + kₚ)  + ────────────────────  kₗ  + (-kₗ + kₚ)  + ─────────────────⎥\n",
       "⎣                       D₀                                       D₀       ⎦"
      ]
     },
     "execution_count": 42,
     "metadata": {},
     "output_type": "execute_result"
    }
   ],
   "source": [
    "#what if we have something like this - actually before doing this, see if we can avoid this stage because it is essentially taking us\n",
    "#out of a group where we had a standard propagator basis \n",
    "from sympy import symbols,I\n",
    "k, p, m1, m2, w, D = symbols(\"k_l, k_p, m_1, m_2, \\omega_p, D_0\")\n",
    "P1 =  (-k+p)**2 + (m1 + m2 -I*w )/D\n",
    "P2 =  k**2+ (-k+p)**2 + (2*m1-I*w)/D\n",
    "awkprops = list((1/P1,1/P2))\n",
    "P = awkprops[0] * awkprops[1]\n",
    "awkprops"
   ]
  },
  {
   "cell_type": "code",
   "execution_count": 43,
   "metadata": {
    "collapsed": true
   },
   "outputs": [],
   "source": [
    "# propagators = [cpropagator(0,1,-1, [\"l\", \"p\"]), cpropagator(0,1,1, [\"l\", \"p\"], extra_mom_term=Symbol(\"k\")**2) ]\n",
    "# [p.display() for p in propagators]\n",
    "# K = cpropagator.integrate(propagators)\n",
    "# K"
   ]
  },
  {
   "cell_type": "code",
   "execution_count": 44,
   "metadata": {},
   "outputs": [
    {
     "data": {
      "text/latex": [
       "$$\\frac{D_{0}^{2}}{\\left(\\alpha_{1} \\left(D_{0} \\left(k_{l}^{2} + \\left(- k_{l} + k_{p}\\right)^{2}\\right) - i \\omega_p + 2 m_{1}\\right) + \\alpha_{2} \\left(D_{0} \\left(- k_{l} + k_{p}\\right)^{2} - i \\omega_p + m_{1} + m_{2}\\right)\\right)^{2}}$$"
      ],
      "text/plain": [
       "                                               2                              \n",
       "                                             D₀                               \n",
       "──────────────────────────────────────────────────────────────────────────────\n",
       "                                                                              \n",
       "⎛   ⎛   ⎛  2             2⎞                   ⎞      ⎛             2          \n",
       "⎝α₁⋅⎝D₀⋅⎝kₗ  + (-kₗ + kₚ) ⎠ - ⅈ⋅\\omegaₚ + 2⋅m₁⎠ + α₂⋅⎝D₀⋅(-kₗ + kₚ)  - ⅈ⋅\\omeg\n",
       "\n",
       "               \n",
       "               \n",
       "───────────────\n",
       "              2\n",
       "            ⎞⎞ \n",
       "aₚ + m₁ + m₂⎠⎠ "
      ]
     },
     "execution_count": 44,
     "metadata": {},
     "output_type": "execute_result"
    }
   ],
   "source": [
    "p2 = kpropagator(P)\n",
    "p2.parametric_integral\n",
    "#p2.reduced_parametric_integral\n",
    "\n",
    "#TODO - alpha is gone, bring it back, and determine how to do the integration in each case - ALSO make sure we have a nice normalisation with nothing in numerator\n",
    "#late rcompare with graph polynomials"
   ]
  },
  {
   "cell_type": "code",
   "execution_count": 45,
   "metadata": {
    "collapsed": true
   },
   "outputs": [],
   "source": [
    "term = list(p2.parametric_integral.as_numer_denom()[1].as_powers_dict().keys())[0]"
   ]
  },
  {
   "cell_type": "code",
   "execution_count": 46,
   "metadata": {},
   "outputs": [
    {
     "data": {
      "text/latex": [
       "$$\\operatorname{Poly}{\\left( D_{0} \\alpha_{1} k_{p}^{2} + D_{0} \\alpha_{2} k_{p}^{2} - i \\omega_p \\alpha_{1} - i \\omega_p \\alpha_{2} + 2 \\alpha_{1} m_{1} + \\alpha_{2} m_{1} + \\alpha_{2} m_{2} + k_{l}^{2} \\left(2 D_{0} \\alpha_{1} + D_{0} \\alpha_{2}\\right) + k_{l} \\left(- 2 D_{0} \\alpha_{1} k_{p} - 2 D_{0} \\alpha_{2} k_{p}\\right), k_{l}, domain=EX \\right)}$$"
      ],
      "text/plain": [
       "Poly((2*D_0*alpha_1 + D_0*alpha_2)*k_l**2 + (-2*D_0*alpha_1*k_p - 2*D_0*alpha_\n",
       "2*k_p)*k_l + D_0*alpha_1*k_p**2 + D_0*alpha_2*k_p**2 - I*\\omega_p*alpha_1 - I*\n",
       "\\omega_p*alpha_2 + 2*alpha_1*m_1 + alpha_2*m_1 + alpha_2*m_2, k_l, domain='EX'\n",
       ")"
      ]
     },
     "execution_count": 46,
     "metadata": {},
     "output_type": "execute_result"
    }
   ],
   "source": [
    "from sympy import * \n",
    "from rg.propagator import determine_elimination_variable\n",
    "P = Poly(expand(term), Symbol(\"k_l\"))\n",
    "P"
   ]
  },
  {
   "cell_type": "code",
   "execution_count": 47,
   "metadata": {},
   "outputs": [
    {
     "data": {
      "text/latex": [
       "$$D_{0} \\alpha_{2} k_{p}^{2} + D_{0} k_{p}^{2} \\left(\\alpha_{2} - 1\\right) - i \\omega_p \\alpha_{2} - i \\omega_p \\left(\\alpha_{2} - 1\\right) + \\alpha_{2} m_{1} + \\alpha_{2} m_{2} + k_{l}^{2} \\left(D_{0} \\alpha_{2} + 2 D_{0} \\left(\\alpha_{2} - 1\\right)\\right) + k_{l} \\left(- 2 D_{0} \\alpha_{2} k_{p} - 2 D_{0} k_{p} \\left(\\alpha_{2} - 1\\right)\\right) + 2 m_{1} \\left(\\alpha_{2} - 1\\right)$$"
      ],
      "text/plain": [
       "        2        2                                                            \n",
       "D₀⋅α₂⋅kₚ  + D₀⋅kₚ ⋅(α₂ - 1) - ⅈ⋅\\omegaₚ⋅α₂ - ⅈ⋅\\omegaₚ⋅(α₂ - 1) + α₂⋅m₁ + α₂⋅m\n",
       "\n",
       "      2                                                                       \n",
       "₂ + kₗ ⋅(D₀⋅α₂ + 2⋅D₀⋅(α₂ - 1)) + kₗ⋅(-2⋅D₀⋅α₂⋅kₚ - 2⋅D₀⋅kₚ⋅(α₂ - 1)) + 2⋅m₁⋅(\n",
       "\n",
       "       \n",
       "α₂ - 1)"
      ]
     },
     "execution_count": 47,
     "metadata": {},
     "output_type": "execute_result"
    }
   ],
   "source": [
    "#simpler = P.subs(determine_elimination_variable(P), 1)\n",
    "simpler = P.subs(Symbol(\"alpha_1\"), Symbol(\"alpha_2\")-1)\n",
    "simpler"
   ]
  },
  {
   "cell_type": "code",
   "execution_count": 48,
   "metadata": {},
   "outputs": [
    {
     "data": {
      "text/latex": [
       "$$\\operatorname{Poly}{\\left( 2 D_{0} \\alpha_{2} k_{p}^{2} - D_{0} k_{p}^{2} - 2 i \\omega_p \\alpha_{2} + i \\omega_p + 3 \\alpha_{2} m_{1} + \\alpha_{2} m_{2} + k_{l}^{2} \\left(3 D_{0} \\alpha_{2} - 2 D_{0}\\right) + k_{l} \\left(- 4 D_{0} \\alpha_{2} k_{p} + 2 D_{0} k_{p}\\right) - 2 m_{1}, k_{l}, domain=EX \\right)}$$"
      ],
      "text/plain": [
       "Poly((3*D_0*alpha_2 - 2*D_0)*k_l**2 + (-4*D_0*alpha_2*k_p + 2*D_0*k_p)*k_l + 2\n",
       "*D_0*alpha_2*k_p**2 - D_0*k_p**2 - 2*I*\\omega_p*alpha_2 + I*\\omega_p + 3*alpha\n",
       "_2*m_1 + alpha_2*m_2 - 2*m_1, k_l, domain='EX')"
      ]
     },
     "execution_count": 48,
     "metadata": {},
     "output_type": "execute_result"
    }
   ],
   "source": [
    "Q = Poly(simpler, Symbol(\"k_l\"))\n",
    "Q"
   ]
  },
  {
   "cell_type": "code",
   "execution_count": 49,
   "metadata": {},
   "outputs": [
    {
     "data": {
      "text/latex": [
       "$$\\left ( \\frac{- 4 D_{0} \\alpha_{2} k_{p} + 2 D_{0} k_{p}}{3 D_{0} \\alpha_{2} - 2 D_{0}}, \\quad \\frac{1}{3 D_{0} \\alpha_{2} - 2 D_{0}} \\left(2 D_{0} \\alpha_{2} k_{p}^{2} - D_{0} k_{p}^{2} - 2 i \\omega_p \\alpha_{2} + i \\omega_p + 3 \\alpha_{2} m_{1} + \\alpha_{2} m_{2} - 2 m_{1}\\right)\\right )$$"
      ],
      "text/plain": [
       "⎛                                 2        2                                  \n",
       "⎜-4⋅D₀⋅α₂⋅kₚ + 2⋅D₀⋅kₚ  2⋅D₀⋅α₂⋅kₚ  - D₀⋅kₚ  - 2⋅ⅈ⋅\\omegaₚ⋅α₂ + ⅈ⋅\\omegaₚ + 3⋅\n",
       "⎜─────────────────────, ──────────────────────────────────────────────────────\n",
       "⎝    3⋅D₀⋅α₂ - 2⋅D₀                                   3⋅D₀⋅α₂ - 2⋅D₀          \n",
       "\n",
       "                    ⎞\n",
       "α₂⋅m₁ + α₂⋅m₂ - 2⋅m₁⎟\n",
       "────────────────────⎟\n",
       "                    ⎠"
      ]
     },
     "execution_count": 49,
     "metadata": {},
     "output_type": "execute_result"
    }
   ],
   "source": [
    "A, B = (Q.coeffs()[1]/Q.coeffs()[0]),(Q.coeffs()[2]/Q.coeffs()[0])\n",
    "A,B"
   ]
  },
  {
   "cell_type": "code",
   "execution_count": 50,
   "metadata": {},
   "outputs": [
    {
     "data": {
      "text/latex": [
       "$$k_{l}^{2} + \\frac{k_{l} \\left(- 4 D_{0} \\alpha_{2} k_{p} + 2 D_{0} k_{p}\\right)}{3 D_{0} \\alpha_{2} - 2 D_{0}} + \\frac{1}{3 D_{0} \\alpha_{2} - 2 D_{0}} \\left(2 D_{0} \\alpha_{2} k_{p}^{2} - D_{0} k_{p}^{2} - 2 i \\omega_p \\alpha_{2} + i \\omega_p + 3 \\alpha_{2} m_{1} + \\alpha_{2} m_{2} - 2 m_{1}\\right)$$"
      ],
      "text/plain": [
       "                                             2        2                       \n",
       "  2   kₗ⋅(-4⋅D₀⋅α₂⋅kₚ + 2⋅D₀⋅kₚ)   2⋅D₀⋅α₂⋅kₚ  - D₀⋅kₚ  - 2⋅ⅈ⋅\\omegaₚ⋅α₂ + ⅈ⋅\\\n",
       "kₗ  + ────────────────────────── + ───────────────────────────────────────────\n",
       "            3⋅D₀⋅α₂ - 2⋅D₀                                       3⋅D₀⋅α₂ - 2⋅D\n",
       "\n",
       "                               \n",
       "omegaₚ + 3⋅α₂⋅m₁ + α₂⋅m₂ - 2⋅m₁\n",
       "───────────────────────────────\n",
       "₀                              "
      ]
     },
     "execution_count": 50,
     "metadata": {},
     "output_type": "execute_result"
    }
   ],
   "source": [
    "k = Symbol(\"k_l\")\n",
    "exps = k**2 +  A*k + B\n",
    "exps"
   ]
  },
  {
   "cell_type": "code",
   "execution_count": 51,
   "metadata": {},
   "outputs": [
    {
     "data": {
      "text/latex": [
       "$$\\operatorname{Poly}{\\left( - \\frac{4 D_{0}^{2} \\alpha_{2}^{2} k_{p}^{2}}{9 D_{0}^{2} \\alpha_{2}^{2} - 12 D_{0}^{2} \\alpha_{2} + 4 D_{0}^{2}} + \\frac{4 D_{0}^{2} \\alpha_{2} k_{p}^{2}}{9 D_{0}^{2} \\alpha_{2}^{2} - 12 D_{0}^{2} \\alpha_{2} + 4 D_{0}^{2}} - \\frac{D_{0}^{2} k_{p}^{2}}{9 D_{0}^{2} \\alpha_{2}^{2} - 12 D_{0}^{2} \\alpha_{2} + 4 D_{0}^{2}} + \\frac{2 D_{0} \\alpha_{2} k_{p}^{2}}{3 D_{0} \\alpha_{2} - 2 D_{0}} - \\frac{D_{0} k_{p}^{2}}{3 D_{0} \\alpha_{2} - 2 D_{0}} - \\frac{2 i \\omega_p \\alpha_{2}}{3 D_{0} \\alpha_{2} - 2 D_{0}} + \\frac{i \\omega_p}{3 D_{0} \\alpha_{2} - 2 D_{0}} + \\frac{3 \\alpha_{2} m_{1}}{3 D_{0} \\alpha_{2} - 2 D_{0}} + \\frac{\\alpha_{2} m_{2}}{3 D_{0} \\alpha_{2} - 2 D_{0}} + k_{l}^{2} - \\frac{2 m_{1}}{3 D_{0} \\alpha_{2} - 2 D_{0}}, k_{l}, domain=EX \\right)}$$"
      ],
      "text/plain": [
       "Poly(k_l**2 - 4*D_0**2*alpha_2**2*k_p**2/(9*D_0**2*alpha_2**2 - 12*D_0**2*alph\n",
       "a_2 + 4*D_0**2) + 4*D_0**2*alpha_2*k_p**2/(9*D_0**2*alpha_2**2 - 12*D_0**2*alp\n",
       "ha_2 + 4*D_0**2) - D_0**2*k_p**2/(9*D_0**2*alpha_2**2 - 12*D_0**2*alpha_2 + 4*\n",
       "D_0**2) + 2*D_0*alpha_2*k_p**2/(3*D_0*alpha_2 - 2*D_0) - D_0*k_p**2/(3*D_0*alp\n",
       "ha_2 - 2*D_0) - 2*I*\\omega_p*alpha_2/(3*D_0*alpha_2 - 2*D_0) + I*\\omega_p/(3*D\n",
       "_0*alpha_2 - 2*D_0) + 3*alpha_2*m_1/(3*D_0*alpha_2 - 2*D_0) + alpha_2*m_2/(3*D\n",
       "_0*alpha_2 - 2*D_0) - 2*m_1/(3*D_0*alpha_2 - 2*D_0), k_l, domain='EX')"
      ]
     },
     "execution_count": 51,
     "metadata": {},
     "output_type": "execute_result"
    }
   ],
   "source": [
    "Poly(expand(exps.subs(k, k-A/2)), k )"
   ]
  },
  {
   "cell_type": "code",
   "execution_count": 52,
   "metadata": {},
   "outputs": [
    {
     "data": {
      "text/latex": [
       "$$\\frac{1}{D_{0} \\left(3 \\alpha_{2} - 2\\right)} \\left(D_{0} \\alpha_{2} k_{p}^{2} + D_{0} k_{l}^{2} \\left(3 \\alpha_{2} - 2\\right) - 2 D_{0} k_{l} k_{p} \\left(2 \\alpha_{2} - 1\\right) + D_{0} k_{p}^{2} \\left(\\alpha_{2} - 1\\right) - i \\omega_p \\alpha_{2} - i \\omega_p \\left(\\alpha_{2} - 1\\right) + \\alpha_{2} m_{1} + \\alpha_{2} m_{2} + 2 m_{1} \\left(\\alpha_{2} - 1\\right)\\right)$$"
      ],
      "text/plain": [
       "        2        2                                           2                \n",
       "D₀⋅α₂⋅kₚ  + D₀⋅kₗ ⋅(3⋅α₂ - 2) - 2⋅D₀⋅kₗ⋅kₚ⋅(2⋅α₂ - 1) + D₀⋅kₚ ⋅(α₂ - 1) - ⅈ⋅\\o\n",
       "──────────────────────────────────────────────────────────────────────────────\n",
       "                                                               D₀⋅(3⋅α₂ - 2)  \n",
       "\n",
       "                                                             \n",
       "megaₚ⋅α₂ - ⅈ⋅\\omegaₚ⋅(α₂ - 1) + α₂⋅m₁ + α₂⋅m₂ + 2⋅m₁⋅(α₂ - 1)\n",
       "─────────────────────────────────────────────────────────────\n",
       "                                                             "
      ]
     },
     "execution_count": 52,
     "metadata": {},
     "output_type": "execute_result"
    }
   ],
   "source": [
    "#I have divided accross and of course it elims but actually i should have squared it in the substituation?\n",
    "simplify(simpler/Poly(simpler, Symbol(\"k_l\")).all_coeffs()[0])"
   ]
  },
  {
   "cell_type": "code",
   "execution_count": 53,
   "metadata": {
    "collapsed": true
   },
   "outputs": [],
   "source": [
    "#p2.reduced_parametric_integral"
   ]
  },
  {
   "cell_type": "code",
   "execution_count": 54,
   "metadata": {},
   "outputs": [
    {
     "data": {
      "text/plain": [
       "False"
      ]
     },
     "execution_count": 54,
     "metadata": {},
     "output_type": "execute_result"
    }
   ],
   "source": [
    "p2.used_chung_wu"
   ]
  },
  {
   "cell_type": "code",
   "execution_count": 55,
   "metadata": {
    "collapsed": true
   },
   "outputs": [],
   "source": [
    "p2._p"
   ]
  },
  {
   "cell_type": "code",
   "execution_count": 56,
   "metadata": {
    "collapsed": true
   },
   "outputs": [],
   "source": [
    "#assert we do not eliminate both params..."
   ]
  }
 ],
 "metadata": {
  "kernelspec": {
   "display_name": "Python 3",
   "language": "python",
   "name": "python3"
  },
  "language_info": {
   "codemirror_mode": {
    "name": "ipython",
    "version": 3
   },
   "file_extension": ".py",
   "mimetype": "text/x-python",
   "name": "python",
   "nbconvert_exporter": "python",
   "pygments_lexer": "ipython3",
   "version": "3.6.3"
  }
 },
 "nbformat": 4,
 "nbformat_minor": 2
}
