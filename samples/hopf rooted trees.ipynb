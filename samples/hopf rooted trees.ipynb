{
 "cells": [
  {
   "cell_type": "code",
   "execution_count": 3,
   "metadata": {
    "collapsed": true
   },
   "outputs": [],
   "source": [
    "from sympy import *\n",
    "import operator\n",
    "import functools\n",
    "init_printing()"
   ]
  },
  {
   "cell_type": "code",
   "execution_count": 137,
   "metadata": {
    "collapsed": true
   },
   "outputs": [],
   "source": [
    "import numpy as np\n",
    "from itertools import combinations\n",
    "\n",
    "class _tree_parser__(object):\n",
    "    def __init__(self, in_degree_list):\n",
    "        self.size = len(in_degree_list)\n",
    "        self.__in_degree_list = np.array(in_degree_list)\n",
    "        self.__parents_list = np.zeros(self.size, np.int)\n",
    "        self.__subtree_size = np.zeros(self.size, np.int)\n",
    "        self._visitor = -1\n",
    "        self.__init_sub_trees__()\n",
    "    \n",
    "    @property\n",
    "    def parents(self):  return self.__parents_list\n",
    "    @property\n",
    "    def sub_tree_sizes(self):  return self.__subtree_size\n",
    "    @property\n",
    "    def leaf_nodes(self):  return np.where(self.__subtree_size==1)[0]\n",
    "    @property \n",
    "    def edges(self):return list(range(1,self.size))\n",
    "    \n",
    "    def cut(self, cut_set):\n",
    "        \"\"\"\n",
    "        return a binary parition of nodes in or not in\n",
    "        \"\"\"\n",
    "        v = np.ones(self.size, np.int)\n",
    "        for c in cut_set: self.walk_down_from(c,v)\n",
    "        return v\n",
    "    \n",
    "    def __is_cut_admissable__(self, cut_set):\n",
    "        for l in self.leaf_nodes:\n",
    "            counter = 0\n",
    "            if l in cut_set:counter+=1\n",
    "            parent = self.__parents_list[l]\n",
    "            while parent != -1:#walk to root\n",
    "                #if any path we pass more than 1 edges in the cut set returned false\n",
    "                if parent in cut_set:counter+=1\n",
    "                if counter > 1:return false\n",
    "                parent = self.__parents_list[parent]\n",
    "        return True\n",
    "            \n",
    "    @property\n",
    "    def admissable_cuts(self):return self.__admissable_cuts__()\n",
    "    \n",
    "    def __admissable_cuts__(self, order=None, complement=False):\n",
    "        #by default consider all cuts below the root\n",
    "        if order == None: order = self.size-1\n",
    "        for o in range(1,order+1):\n",
    "            for p in combinations(tp.edges,r=o):\n",
    "                if self.__is_cut_admissable__(list(p)) != complement: \n",
    "                    yield p\n",
    "    \n",
    "    def walk_down_from(self, i, v):\n",
    "        v[i] = 0\n",
    "        for child in np.where(tp.parents==i)[0]: self.walk_down_from(child,v)\n",
    "            \n",
    "    def __init_sub_trees__(self,pid=-1):\n",
    "        self._visitor += 1\n",
    "        self.__parents_list[self._visitor] = pid\n",
    "        parent = self._visitor\n",
    "        for i in range(self.__in_degree_list[self._visitor]): \n",
    "            self.__init_sub_trees__(parent)\n",
    "        #however many nodes i visisted add to sub_tree(root) size\n",
    "        self.__subtree_size[parent] = self._visitor - parent + 1\n",
    "        \n",
    "tp = _tree_parser__([3,2,0,2,0,0,1,0,0])     "
   ]
  },
  {
   "cell_type": "code",
   "execution_count": 12,
   "metadata": {
    "collapsed": true
   },
   "outputs": [],
   "source": [
    "#define all the operations and document the Hopf algebra of rooted trees\n",
    "#most rendering of expressions can be in latex with special display for trees - have unitrees go straight down and simblings branch\n",
    "\n",
    "#if in general a rooted tree is the set of bin values that is a forest then multiplication will make sense\n",
    "#graft then can take a set of arguments but probably only support binary\n",
    "\n",
    "class rooted_tree(object):\n",
    "    def __init__(self,bin_value=0):#1 must be corrected to 0 for a valid binary tree? e.g. 100 has three nodes\n",
    "        self._value=bin_value\n",
    "\n",
    "    def _display_(self):    \n",
    "        pass\n",
    "    \n",
    "    #tree walkers    \n",
    "        \n",
    "    def __repr__(self):return self._repr_latex_()\n",
    "    \n",
    "    def __mul__(self,a):\n",
    "        #return rooted tree of the set\n",
    "        return [a,  self.value]\n",
    "    \n",
    "    @property\n",
    "    def value(self):\n",
    "        return Symbol(\"\\\\bullet_{\\{ \"+str(self._value)+\" \\}}\",commutative=False)\n",
    "    \n",
    "    def __call__(self):\n",
    "        return self.value\n",
    "    \n",
    "    def _sympy_(self):return self.__call()\n",
    "        \n",
    "    def html(self):\n",
    "        d =\"\"\"<circle cx=\"5\" cy=\"5\" r=\"2\" stroke=\"black\" stroke-width=\"1\" fill=\"black\" /> \"\"\"\n",
    "        svg =  \"\"\"<svg xmlns=\"http://www.w3.org/2000/svg\" xmlns:xlink=\"http://www.w3.org/1999/xlink\" version=\"1.1\" x=\"{1}\" y=\"{2}\" width=\"10\" height=\"10\">\n",
    "      <g fill=\"none\" stroke=\"black\" stroke-width=\"1.6\" stroke-linecap=\"round\"> {0}  </g> </svg>\"\"\".format(d, 0,0)\n",
    "        return \"<table style=\\\"background-color:white\\\"> <tr> <td> </td><td>\"+svg+\"</td><td>$$\\otimes$$</td></tr></table>\"\n",
    "    \n",
    "    def _repr_html_(self): \n",
    "        return self._repr_latex_()\n",
    "        return self.html()\n",
    "    \n",
    "    def _repr_latex_(self):  return latex(self.value,mode='inline')\n",
    "    \n",
    "    #latex version renders self as a symbol(bin)?s"
   ]
  },
  {
   "cell_type": "code",
   "execution_count": 13,
   "metadata": {},
   "outputs": [
    {
     "data": {
      "text/html": [
       "$\\bullet_{\\{ 5 \\}}$"
      ],
      "text/latex": [
       "$\\bullet_{\\{ 5 \\}}$"
      ],
      "text/plain": [
       "$\\bullet_{\\{ 5 \\}}$"
      ]
     },
     "execution_count": 13,
     "metadata": {},
     "output_type": "execute_result"
    }
   ],
   "source": [
    "rooted_tree(5)"
   ]
  },
  {
   "cell_type": "code",
   "execution_count": 14,
   "metadata": {},
   "outputs": [
    {
     "data": {
      "image/png": "[encoded data removed]",
      "text/latex": [
       "$$\\left ( \\mathbb{1}, \\quad \\Delta{\\left (1 \\right )}, \\quad \\operatorname{B_{+}}{\\left (1,1 \\right )}, \\quad m{\\left (1,2 \\right )}\\right )$$"
      ],
      "text/plain": [
       "(\\mathbb{1}, Δ(1), B₊(1, 1), m(1, 2))"
      ]
     },
     "execution_count": 14,
     "metadata": {},
     "output_type": "execute_result"
    }
   ],
   "source": [
    "Symbol(\"\\mathbb{1}\"), Function(\"Delta\")(1),Function(\"B_+\")(1,1),Function(\"m\")(1,2)"
   ]
  },
  {
   "cell_type": "code",
   "execution_count": 16,
   "metadata": {},
   "outputs": [
    {
     "data": {
      "text/plain": [
       "[$\\bullet_{\\{ 5 \\}}$, \\bullet_{\\{ 5 \\}}]"
      ]
     },
     "execution_count": 16,
     "metadata": {},
     "output_type": "execute_result"
    }
   ],
   "source": [
    "from sympy.physics.quantum import TensorProduct\n",
    "\n",
    "A= TensorProduct(Symbol(\"\\mathbb{1}\",commutative=False), Symbol(\"\\mathbb{1}\",commutative=False))\n",
    "\n",
    "#B = TensorProduct(rooted_tree(5), rooted_tree(7))\n",
    "rooted_tree(5) * rooted_tree(5)"
   ]
  },
  {
   "cell_type": "code",
   "execution_count": null,
   "metadata": {
    "collapsed": true
   },
   "outputs": [],
   "source": []
  },
  {
   "cell_type": "code",
   "execution_count": 17,
   "metadata": {
    "collapsed": true
   },
   "outputs": [],
   "source": [
    "#SOME EXAMPLES OF SYB CLASSES THAT SEEMED TO WORK\n",
    "\n",
    "# A = Symbol('A',commutative=True)\n",
    "\n",
    "# B = Symbol('B',commutative=True)\n",
    "# C = Symbol('C',commutative=False)\n",
    "# D = Symbol('D',commutative=False)\n",
    "\n",
    "# V = TensorProduct(A,B) + TensorProduct(C,D)\n",
    "# V\n",
    "\n",
    "# import sympy as sp\n",
    "# from sympy.core.expr import Expr\n",
    "\n",
    "# class Tensor(Expr):\n",
    "#     __slots__ = ['is_commutative']\n",
    "\n",
    "#     def __new__(cls, l, r):\n",
    "#         l = sp.sympify(l)\n",
    "#         r = sp.sympify(r)\n",
    "#         obj = Expr.__new__(cls, l, r)\n",
    "#         obj.is_commutative = False\n",
    "#         return obj\n",
    "    \n",
    "#     def _print(self, e=None):return self._display_()\n",
    "#     def __srepr__(self):  return self._display_()\n",
    "#     def __repr__(self):  return self._display_()\n",
    "    \n",
    "#     def _display_(self):    \n",
    "#         body =\"\"\"<circle cx=\"20\" cy=\"20\" r=\"3\" stroke=\"black\" stroke-width=\"1\" fill=\"black\" /> \"\"\"\n",
    "#         return  \"\"\"<svg xmlns=\"http://www.w3.org/2000/svg\" xmlns:xlink=\"http://www.w3.org/1999/xlink\" version=\"1.1\" x=\"{1}\" y=\"{2}\" width=\"500\" height=\"120\">\n",
    "#       <g fill=\"none\" stroke=\"black\" stroke-width=\"1.6\" stroke-linecap=\"round\"> {0}  </g> </svg>\"\"\".format(body, 20,20)\n",
    "#         #return latex(\"bullet\",mode='inline')\n",
    "\n",
    "        \n",
    "#     def _repr_latex_(self):    \n",
    "#         body =\"\"\"<circle cx=\"20\" cy=\"20\" r=\"3\" stroke=\"black\" stroke-width=\"1\" fill=\"black\" /> \"\"\"\n",
    "#         return  \"\"\"<svg xmlns=\"http://www.w3.org/2000/svg\" xmlns:xlink=\"http://www.w3.org/1999/xlink\" version=\"1.1\" x=\"{1}\" y=\"{2}\" width=\"500\" height=\"120\">\n",
    "#       <g fill=\"none\" stroke=\"black\" stroke-width=\"1.6\" stroke-linecap=\"round\"> {0}  </g> </svg>\"\"\".format(body, 20,20)\n",
    "#         #return latex(\"bullet\",mode='inline')\n",
    "\n",
    "#     def __neg__(self):\n",
    "#         return self\n",
    "\n",
    "#     def __mul__(self, other):\n",
    "#         if isinstance(other, Tensor):\n",
    "#             return Tensor(self.args[0] * other.args[0], other.args[1] * self.args[1])\n",
    "#         elif other.is_number:\n",
    "#             if other % 2 == 0:\n",
    "#                 return 0\n",
    "#             else:\n",
    "#                 return self\n",
    "#         else:\n",
    "#             return sp.Mul(self, other)\n",
    "\n",
    "\n",
    "# x, y = sp.symbols('x, y', commutative=False)\n",
    "\n",
    "# Ym = Tensor(y, 1) - Tensor(1, y)\n",
    "# Yp = Tensor(y, 1) + Tensor(1, y)\n",
    "# Xm = Tensor(x, 1) - Tensor(1, x)\n",
    "\n",
    "# d1 = Ym * Yp + Xm * 0\n",
    "# # print(d1)\n",
    "# # print(sp.expand(d1))\n",
    "\n",
    "# # d2 = Xm * Ym\n",
    "# # print(d2)\n",
    "# # print(sp.expand(d2))\n",
    "# #TensorProduct(Tensor(y, 1),Tensor(y, 1))"
   ]
  },
  {
   "cell_type": "code",
   "execution_count": null,
   "metadata": {
    "collapsed": true
   },
   "outputs": [],
   "source": []
  }
 ],
 "metadata": {
  "kernelspec": {
   "display_name": "Python 3",
   "language": "python",
   "name": "python3"
  },
  "language_info": {
   "codemirror_mode": {
    "name": "ipython",
    "version": 3
   },
   "file_extension": ".py",
   "mimetype": "text/x-python",
   "name": "python",
   "nbconvert_exporter": "python",
   "pygments_lexer": "ipython3",
   "version": "3.6.3"
  }
 },
 "nbformat": 4,
 "nbformat_minor": 2
}
