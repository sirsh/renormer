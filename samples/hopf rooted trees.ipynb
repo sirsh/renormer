{
 "cells": [
  {
   "cell_type": "code",
   "execution_count": null,
   "metadata": {
    "collapsed": true
   },
   "outputs": [],
   "source": [
    "from sympy import *\n",
    "import operator\n",
    "import functools\n",
    "import numpy as np\n",
    "from itertools import combinations\n",
    "init_printing()"
   ]
  },
  {
   "cell_type": "code",
   "execution_count": 14,
   "metadata": {},
   "outputs": [
    {
     "data": {
      "text/html": [
       "<svg xmlns=\"http://www.w3.org/2000/svg\" xmlns:xlink=\"http://www.w3.org/1999/xlink\" version=\"1.1\" x=\"0\" y=\"0\" width=\"48.0\" height=\"68.0\">\n",
       "               <g fill=\"none\" stroke=\"black\" stroke-width=\"1.6\" stroke-linecap=\"round\"> <circle cx=\"25.0\" cy=\"5.0\" r=\"2\" stroke=\"black\" stroke-width=\"1\" fill=\"black\" /> <circle cx=\"15.0\" cy=\"25.0\" r=\"2\" stroke=\"black\" stroke-width=\"1\" fill=\"black\" /> <circle cx=\"5.0\" cy=\"45.0\" r=\"2\" stroke=\"black\" stroke-width=\"1\" fill=\"black\" /> <circle cx=\"20.0\" cy=\"45.0\" r=\"2\" stroke=\"black\" stroke-width=\"1\" fill=\"black\" /> <circle cx=\"15.0\" cy=\"65.0\" r=\"2\" stroke=\"black\" stroke-width=\"1\" fill=\"black\" /> <circle cx=\"25.0\" cy=\"65.0\" r=\"2\" stroke=\"black\" stroke-width=\"1\" fill=\"black\" /> <circle cx=\"35.0\" cy=\"25.0\" r=\"2\" stroke=\"black\" stroke-width=\"1\" fill=\"black\" /> <circle cx=\"35.0\" cy=\"45.0\" r=\"2\" stroke=\"black\" stroke-width=\"1\" fill=\"black\" /> <circle cx=\"45.0\" cy=\"25.0\" r=\"2\" stroke=\"black\" stroke-width=\"1\" fill=\"black\" /> <line x1=\"15.0\" y1=\"25.0\" x2=\"25.0\" y2=\"5.0\" stroke-width:1\" stroke=\"black\" /><line x1=\"5.0\" y1=\"45.0\" x2=\"15.0\" y2=\"25.0\" stroke-width:1\" stroke=\"black\" /><line x1=\"20.0\" y1=\"45.0\" x2=\"15.0\" y2=\"25.0\" stroke-width:1\" stroke=\"black\" /><line x1=\"15.0\" y1=\"65.0\" x2=\"20.0\" y2=\"45.0\" stroke-width:1\" stroke=\"black\" /><line x1=\"25.0\" y1=\"65.0\" x2=\"20.0\" y2=\"45.0\" stroke-width:1\" stroke=\"black\" /><line x1=\"35.0\" y1=\"25.0\" x2=\"25.0\" y2=\"5.0\" stroke-width:1\" stroke=\"black\" /><line x1=\"35.0\" y1=\"45.0\" x2=\"35.0\" y2=\"25.0\" stroke-width:1\" stroke=\"black\" /><line x1=\"45.0\" y1=\"25.0\" x2=\"25.0\" y2=\"5.0\" stroke-width:1\" stroke=\"black\" />  </g> </svg>"
      ],
      "text/latex": [
       "$\\bullet_{\\{ 42 \\}}$"
      ],
      "text/plain": [
       "$\\bullet_{\\{ 42 \\}}$"
      ]
     },
     "execution_count": 14,
     "metadata": {},
     "output_type": "execute_result"
    }
   ],
   "source": [
    "class rooted_tree(object):\n",
    "    \"\"\"\n",
    "    having dealt with tree atoms, now we manage the algebra system with \"tables\" of atoms and their coefficients\n",
    "    these are perhaps best hash-mapped symbol atoms that can be manipulated in the algebra and then rendered as trees\n",
    "    functions should also appear in the algebra and generate or consume atoms - i think some or all of these funtions can be defined on atoms?\n",
    "    but then atoms are not a proper group element just a manipulation device - graft is one that would be on an atom algebra\n",
    "    Now; rooted tree is a forest\n",
    "    \"\"\"\n",
    "    def __init__(self,forest):\n",
    "        if not isinstance(forest,list):forest=[forest]\n",
    "        self._forest = forest   \n",
    "        \n",
    "    def html(self):    \n",
    "        svg = \"\"\n",
    "        for f in self._forest:svg += \"<td style='vertical-align:top;background:white;padding:2px;margin:0'>{}</td>\".format(f.html())      \n",
    "        html = \"\"\"<table color=\"red\"> <tr>\"\"\"+svg+\"\"\" </tr></table>\"\"\"\n",
    "        return svg\n",
    "\n",
    "    def _repr_html_(self): \n",
    "        #return self._repr_latex_()\n",
    "        return self.html()\n",
    "    \n",
    "\n",
    "class _tree_parser_(object):\n",
    "    \n",
    "    #__rmul__ = __mul__\n",
    "    \n",
    "    def __init__(self, in_degree_list):\n",
    "        self.size = len(in_degree_list)\n",
    "        self.__in_degree_list = np.array(in_degree_list)\n",
    "        self.__parents_list = np.zeros(self.size, np.int)\n",
    "        self.__subtree_size = np.zeros(self.size, np.int)\n",
    "        self.__subtree_widths = np.zeros(self.size, np.int)\n",
    "        self._visitor = -1\n",
    "        self.__init_sub_trees__()\n",
    "        self.__mark_widths__()\n",
    "        self._styles = {}\n",
    "        \n",
    "    #todo tree factorial !    \n",
    "        \n",
    "    @property\n",
    "    def grade (self):return self.size\n",
    "    @property\n",
    "    def parents(self):  return self.__parents_list\n",
    "    @property\n",
    "    def sub_tree_sizes(self):  return self.__subtree_size\n",
    "    @property\n",
    "    def sub_tree_widths(self):  return self.__subtree_widths\n",
    "    @property\n",
    "    def leaf_nodes(self):  return np.where(self.__subtree_size==1)[0]\n",
    "    @property \n",
    "    def edges(self):return list(range(1,self.size))\n",
    "    @property\n",
    "    def admissable_cuts(self):\n",
    "        \"\"\" \n",
    "            get all admissable cuts in the tree. put it on pandas to count things...\n",
    "            import pandas as pd\n",
    "            df=pd.DataFrame(list(tp.admissable_cuts)).fillna(0).astype(int)\n",
    "            df[\"order\"] = df.astype(bool).sum(axis=1)\n",
    "            df\n",
    "        \"\"\"\n",
    "        return self.__admissable_cuts__()\n",
    "    \n",
    "    @property\n",
    "    def antipode(self):return self.__antipode__(self)\n",
    "    \n",
    "    def __mark_widths__(self):\n",
    "        #mark the widths of the threes by counting all paths from leafs via nodes\n",
    "        for l in self.leaf_nodes:\n",
    "            parent = self.__parents_list[l]\n",
    "            while parent != -1:\n",
    "                self.__subtree_widths[parent]+= 1\n",
    "                parent = self.__parents_list[parent]\n",
    "    \n",
    "    def __init_sub_trees__(self,pid=-1):\n",
    "        self._visitor += 1\n",
    "        self.__parents_list[self._visitor] = pid\n",
    "        root = self._visitor \n",
    "        for i in range(self.__in_degree_list[self._visitor]):\n",
    "            self.__init_sub_trees__(root)\n",
    "        #however many nodes i visisted add to sub_tree(root) size\n",
    "        self.__subtree_size[root] = self._visitor - root + 1\n",
    "\n",
    "    ###Operations###\n",
    "\n",
    "    def __add__(self, forest):return self.graft(forest)\n",
    "        \n",
    "    def graft(self,forest):  \n",
    "        if not isinstance(forest,list): \n",
    "            forest = [forest]\n",
    "        new_root_indegree = len(forest) + 1\n",
    "        l = [new_root_indegree]\n",
    "        l+= list(self.__in_degree_list)\n",
    "        for t in forest:\n",
    "            l += list(t.__in_degree_list)\n",
    "        #trees completely determined by their depth-first-traverse of in-degrees\n",
    "        return _tree_parser_(l)\n",
    "       \n",
    "    def __islands__(y):\n",
    "        y_ext = np.r_[False,y==False, False]\n",
    "        idx = np.flatnonzero(y_ext[:-1] != y_ext[1:])\n",
    "        islands= zip(idx[:-1:2], idx[1::2])\n",
    "        for i in islands: yield i[0], i[1] #return the data and the original offset\n",
    "\n",
    "    def __mul__(self,b): return self.__rmul__(b)\n",
    "    \n",
    "    def __rmul__(self,b):\n",
    "        a = self if isinstance(self,list) else [self]\n",
    "        b = b if isinstance(b,list) else [b]\n",
    "        return rooted_tree([*a,*b])\n",
    "    \n",
    "    def __antipode__(self,t):\n",
    "        yield -1, t\n",
    "        for c in t.admissable_cuts: \n",
    "            P,R = t.cut(c)\n",
    "            yield -1, self.__antipode__(P)*R\n",
    "        \n",
    "    def __is_cut_admissable__(self, cut_set):\n",
    "        for l in self.leaf_nodes:\n",
    "            counter = 0\n",
    "            if l in cut_set:counter+=1\n",
    "            parent = self.__parents_list[l]\n",
    "            while parent != -1:#walk to root\n",
    "                #if any path we pass more than 1 edges in the cut set returned false\n",
    "                if parent in cut_set:counter+=1\n",
    "                if counter > 1:return false\n",
    "                parent = self.__parents_list[parent]\n",
    "        return True\n",
    "    \n",
    "    def __admissable_cuts__(self, order=None, complement=False):\n",
    "        #by default consider all cuts below the root\n",
    "        if order == None: order = self.size-1\n",
    "        for o in range(1,order+1):\n",
    "            for p in combinations(self.edges,r=o):\n",
    "                if self.__is_cut_admissable__(list(p)) != complement: \n",
    "                    yield p\n",
    "        \n",
    "    def walk_down_from(self, i,v):\n",
    "        v[i] = 0 # it us useful to record what we visit on all walks\n",
    "        yield i\n",
    "        for child in np.where(self.parents==i)[0]: \n",
    "            for c in self.walk_down_from(child,v): yield c\n",
    "    \n",
    "    def cut(self, cut_set):    \n",
    "        P, head = [], np.array(list(self.__in_degree_list))\n",
    "        mask = np.ones(len(head),np.bool)\n",
    "        for c in cut_set: \n",
    "            #on the stored in degrees, decrement the one pointing to this sub tree\n",
    "            head[self.__parents_list[c]]-=1\n",
    "            #get all the nodes in the sub tree\n",
    "            sub_tree_nodes = list(self.walk_down_from(c,mask))\n",
    "            #make a new tree from their in-degrees\n",
    "            P.append(_tree_parser_(self.__in_degree_list[sub_tree_nodes]))\n",
    "        #create a new head tree from the stuff still in the tree using udpated in-degrees\n",
    "        R = _tree_parser_(head[mask])\n",
    "        return P,R\n",
    "        \n",
    "    def get_coordinates(self):\n",
    "        lateral_cursor = np.zeros(self.size, np.int)\n",
    "\n",
    "        def __walk__(i,parent=-1,my_index=0,depth=0,latCur=lateral_cursor,parent_offset=0):\n",
    "            layer = np.where(self.__parents_list==i)[0]\n",
    "            parent_width = self.__subtree_widths[parent] if parent != -1 else 0\n",
    "            width = self.__subtree_widths[i] if self.__subtree_widths[i] > 0 else 1        \n",
    "            offset = lateral_cursor[parent]\n",
    "            lateral_cursor[parent] += width     \n",
    "            X = parent_offset + offset - parent_width/2. + width/2.\n",
    "            #print(\"**\",parent_offset , offset - parent_width/2. ,width/2.,\"**\")\n",
    "            #print(\"me\", i, \"my index\", my_index, \"my_offset\", my_offset, \"parent\" ,parent, \"mywidth\", width, \"parent width\", self.__subtree_widths[parent])\n",
    "            #print(i, \"parent offset-myoffset\", parent_offset, X, \"mywidth\", width, \"lateral offset\", offset)\n",
    "            yield [X, depth]\n",
    "            \n",
    "            for index, child in enumerate(layer): \n",
    "                for c in __walk__(child,i,index,depth+1,lateral_cursor,X):  yield c\n",
    "                    \n",
    "        return list(__walk__(0,depth=0))\n",
    "    \n",
    "    def __repr__(self):return self._repr_latex_()\n",
    "    \n",
    "    @property\n",
    "    def value(self):  return Symbol(\"\\\\bullet_{\\{ \"+str(42)+\" \\}}\",commutative=False)\n",
    "    def __call__(self): return self.value\n",
    "    def _sympy_(self):return self.__call()\n",
    "\n",
    "    def with_style(self, style={}): \n",
    "        self._styles = style\n",
    "        return self\n",
    "        \n",
    "    def html(self):    \n",
    "        def __draw_line__(pts,colour=\"black\"): return \"\"\"<line x1=\"{0}\" y1=\"{1}\" x2=\"{2}\" y2=\"{3}\" stroke-width:1\" stroke=\"{4}\" />\"\"\".format(*pts,colour)\n",
    "        buffer,margin,scale,body = 3,  (0,5),(10,20),\"\"\n",
    "        coords = np.array([ [c[0]*scale[0]+margin[0], c[1]*scale[1]+margin[1]] for c in self.get_coordinates()])\n",
    "        bounds = (coords[:,0].max()+buffer,coords[:,1].max()+buffer)\n",
    "        \n",
    "        for c in coords: body += \"\"\"<circle cx=\"{}\" cy=\"{}\" r=\"2\" stroke=\"black\" stroke-width=\"1\" fill=\"black\" /> \"\"\".format(*c)\n",
    "        for i,d in enumerate(self.__parents_list):\n",
    "            colour = \"black\"\n",
    "            if \"edge_colours\" in self._styles and i in self._styles[\"edge_colours\"]: \n",
    "                colour = self._styles[\"edge_colours\"][i]\n",
    "            if i != 0:body += __draw_line__(list(coords[i]) + list(coords[d]),colour=colour)       \n",
    "        \n",
    "        svg =  \"\"\"<svg xmlns=\"http://www.w3.org/2000/svg\" xmlns:xlink=\"http://www.w3.org/1999/xlink\" version=\"1.1\" x=\"{1}\" y=\"{2}\" width=\"{3}\" height=\"{4}\">\n",
    "               <g fill=\"none\" stroke=\"black\" stroke-width=\"1.6\" stroke-linecap=\"round\"> {0}  </g> </svg>\"\"\".format(body, 0,0, bounds[0], bounds[1])\n",
    "        \n",
    "        return svg\n",
    "\n",
    "    def _repr_html_(self): \n",
    "        #return self._repr_latex_()\n",
    "        return self.html()\n",
    "\n",
    "    def _repr_latex_(self):  return latex(self.value,mode='inline')\n",
    "    \n",
    "    #''helper\n",
    "    \n",
    "    def make_mark_cut_style(cut):\n",
    "        \"\"\"\n",
    "        example use: tp.with_style(_tree_parser_.make_mark_cut_style([1,6,8]))\n",
    "        \"\"\"\n",
    "        style = {\"edge_colours\":{}}\n",
    "        for c in cut: style[\"edge_colours\"][c] = \"grey\"\n",
    "        return style\n",
    "\n",
    "tp = _tree_parser_([3,2,0,2,0,0,1,0,0])     \n",
    "tp"
   ]
  },
  {
   "cell_type": "code",
   "execution_count": 15,
   "metadata": {},
   "outputs": [],
   "source": [
    "#tp.with_style(_tree_parser_.make_mark_cut_style([1,6,8]))"
   ]
  },
  {
   "cell_type": "code",
   "execution_count": 16,
   "metadata": {},
   "outputs": [
    {
     "data": {
      "text/html": [
       "<svg xmlns=\"http://www.w3.org/2000/svg\" xmlns:xlink=\"http://www.w3.org/1999/xlink\" version=\"1.1\" x=\"0\" y=\"0\" width=\"8.0\" height=\"28.0\">\n",
       "               <g fill=\"none\" stroke=\"black\" stroke-width=\"1.6\" stroke-linecap=\"round\"> <circle cx=\"5.0\" cy=\"5.0\" r=\"2\" stroke=\"black\" stroke-width=\"1\" fill=\"black\" /> <circle cx=\"5.0\" cy=\"25.0\" r=\"2\" stroke=\"black\" stroke-width=\"1\" fill=\"black\" /> <line x1=\"5.0\" y1=\"25.0\" x2=\"5.0\" y2=\"5.0\" stroke-width:1\" stroke=\"black\" />  </g> </svg>"
      ],
      "text/latex": [
       "$\\bullet_{\\{ 42 \\}}$"
      ],
      "text/plain": [
       "$\\bullet_{\\{ 42 \\}}$"
      ]
     },
     "execution_count": 16,
     "metadata": {},
     "output_type": "execute_result"
    }
   ],
   "source": [
    "tp2 = _tree_parser_([1,0])     \n",
    "tp2"
   ]
  },
  {
   "cell_type": "code",
   "execution_count": 17,
   "metadata": {},
   "outputs": [
    {
     "data": {
      "text/html": [
       "<svg xmlns=\"http://www.w3.org/2000/svg\" xmlns:xlink=\"http://www.w3.org/1999/xlink\" version=\"1.1\" x=\"0\" y=\"0\" width=\"58.0\" height=\"88.0\">\n",
       "               <g fill=\"none\" stroke=\"black\" stroke-width=\"1.6\" stroke-linecap=\"round\"> <circle cx=\"30.0\" cy=\"5.0\" r=\"2\" stroke=\"black\" stroke-width=\"1\" fill=\"black\" /> <circle cx=\"25.0\" cy=\"25.0\" r=\"2\" stroke=\"black\" stroke-width=\"1\" fill=\"black\" /> <circle cx=\"15.0\" cy=\"45.0\" r=\"2\" stroke=\"black\" stroke-width=\"1\" fill=\"black\" /> <circle cx=\"5.0\" cy=\"65.0\" r=\"2\" stroke=\"black\" stroke-width=\"1\" fill=\"black\" /> <circle cx=\"20.0\" cy=\"65.0\" r=\"2\" stroke=\"black\" stroke-width=\"1\" fill=\"black\" /> <circle cx=\"15.0\" cy=\"85.0\" r=\"2\" stroke=\"black\" stroke-width=\"1\" fill=\"black\" /> <circle cx=\"25.0\" cy=\"85.0\" r=\"2\" stroke=\"black\" stroke-width=\"1\" fill=\"black\" /> <circle cx=\"35.0\" cy=\"45.0\" r=\"2\" stroke=\"black\" stroke-width=\"1\" fill=\"black\" /> <circle cx=\"35.0\" cy=\"65.0\" r=\"2\" stroke=\"black\" stroke-width=\"1\" fill=\"black\" /> <circle cx=\"45.0\" cy=\"45.0\" r=\"2\" stroke=\"black\" stroke-width=\"1\" fill=\"black\" /> <circle cx=\"55.0\" cy=\"25.0\" r=\"2\" stroke=\"black\" stroke-width=\"1\" fill=\"black\" /> <circle cx=\"55.0\" cy=\"45.0\" r=\"2\" stroke=\"black\" stroke-width=\"1\" fill=\"black\" /> <line x1=\"25.0\" y1=\"25.0\" x2=\"30.0\" y2=\"5.0\" stroke-width:1\" stroke=\"black\" /><line x1=\"15.0\" y1=\"45.0\" x2=\"25.0\" y2=\"25.0\" stroke-width:1\" stroke=\"black\" /><line x1=\"5.0\" y1=\"65.0\" x2=\"15.0\" y2=\"45.0\" stroke-width:1\" stroke=\"black\" /><line x1=\"20.0\" y1=\"65.0\" x2=\"15.0\" y2=\"45.0\" stroke-width:1\" stroke=\"black\" /><line x1=\"15.0\" y1=\"85.0\" x2=\"20.0\" y2=\"65.0\" stroke-width:1\" stroke=\"black\" /><line x1=\"25.0\" y1=\"85.0\" x2=\"20.0\" y2=\"65.0\" stroke-width:1\" stroke=\"black\" /><line x1=\"35.0\" y1=\"45.0\" x2=\"25.0\" y2=\"25.0\" stroke-width:1\" stroke=\"black\" /><line x1=\"35.0\" y1=\"65.0\" x2=\"35.0\" y2=\"45.0\" stroke-width:1\" stroke=\"black\" /><line x1=\"45.0\" y1=\"45.0\" x2=\"25.0\" y2=\"25.0\" stroke-width:1\" stroke=\"black\" /><line x1=\"55.0\" y1=\"25.0\" x2=\"30.0\" y2=\"5.0\" stroke-width:1\" stroke=\"black\" /><line x1=\"55.0\" y1=\"45.0\" x2=\"55.0\" y2=\"25.0\" stroke-width:1\" stroke=\"black\" />  </g> </svg>"
      ],
      "text/latex": [
       "$\\bullet_{\\{ 42 \\}}$"
      ],
      "text/plain": [
       "$\\bullet_{\\{ 42 \\}}$"
      ]
     },
     "execution_count": 17,
     "metadata": {},
     "output_type": "execute_result"
    }
   ],
   "source": [
    "tp.graft([tp2])"
   ]
  },
  {
   "cell_type": "code",
   "execution_count": 18,
   "metadata": {},
   "outputs": [
    {
     "data": {
      "text/html": [
       "<svg xmlns=\"http://www.w3.org/2000/svg\" xmlns:xlink=\"http://www.w3.org/1999/xlink\" version=\"1.1\" x=\"0\" y=\"0\" width=\"58.0\" height=\"88.0\">\n",
       "               <g fill=\"none\" stroke=\"black\" stroke-width=\"1.6\" stroke-linecap=\"round\"> <circle cx=\"30.0\" cy=\"5.0\" r=\"2\" stroke=\"black\" stroke-width=\"1\" fill=\"black\" /> <circle cx=\"25.0\" cy=\"25.0\" r=\"2\" stroke=\"black\" stroke-width=\"1\" fill=\"black\" /> <circle cx=\"15.0\" cy=\"45.0\" r=\"2\" stroke=\"black\" stroke-width=\"1\" fill=\"black\" /> <circle cx=\"5.0\" cy=\"65.0\" r=\"2\" stroke=\"black\" stroke-width=\"1\" fill=\"black\" /> <circle cx=\"20.0\" cy=\"65.0\" r=\"2\" stroke=\"black\" stroke-width=\"1\" fill=\"black\" /> <circle cx=\"15.0\" cy=\"85.0\" r=\"2\" stroke=\"black\" stroke-width=\"1\" fill=\"black\" /> <circle cx=\"25.0\" cy=\"85.0\" r=\"2\" stroke=\"black\" stroke-width=\"1\" fill=\"black\" /> <circle cx=\"35.0\" cy=\"45.0\" r=\"2\" stroke=\"black\" stroke-width=\"1\" fill=\"black\" /> <circle cx=\"35.0\" cy=\"65.0\" r=\"2\" stroke=\"black\" stroke-width=\"1\" fill=\"black\" /> <circle cx=\"45.0\" cy=\"45.0\" r=\"2\" stroke=\"black\" stroke-width=\"1\" fill=\"black\" /> <circle cx=\"55.0\" cy=\"25.0\" r=\"2\" stroke=\"black\" stroke-width=\"1\" fill=\"black\" /> <circle cx=\"55.0\" cy=\"45.0\" r=\"2\" stroke=\"black\" stroke-width=\"1\" fill=\"black\" /> <line x1=\"25.0\" y1=\"25.0\" x2=\"30.0\" y2=\"5.0\" stroke-width:1\" stroke=\"black\" /><line x1=\"15.0\" y1=\"45.0\" x2=\"25.0\" y2=\"25.0\" stroke-width:1\" stroke=\"black\" /><line x1=\"5.0\" y1=\"65.0\" x2=\"15.0\" y2=\"45.0\" stroke-width:1\" stroke=\"black\" /><line x1=\"20.0\" y1=\"65.0\" x2=\"15.0\" y2=\"45.0\" stroke-width:1\" stroke=\"black\" /><line x1=\"15.0\" y1=\"85.0\" x2=\"20.0\" y2=\"65.0\" stroke-width:1\" stroke=\"black\" /><line x1=\"25.0\" y1=\"85.0\" x2=\"20.0\" y2=\"65.0\" stroke-width:1\" stroke=\"black\" /><line x1=\"35.0\" y1=\"45.0\" x2=\"25.0\" y2=\"25.0\" stroke-width:1\" stroke=\"black\" /><line x1=\"35.0\" y1=\"65.0\" x2=\"35.0\" y2=\"45.0\" stroke-width:1\" stroke=\"black\" /><line x1=\"45.0\" y1=\"45.0\" x2=\"25.0\" y2=\"25.0\" stroke-width:1\" stroke=\"black\" /><line x1=\"55.0\" y1=\"25.0\" x2=\"30.0\" y2=\"5.0\" stroke-width:1\" stroke=\"black\" /><line x1=\"55.0\" y1=\"45.0\" x2=\"55.0\" y2=\"25.0\" stroke-width:1\" stroke=\"black\" />  </g> </svg>"
      ],
      "text/latex": [
       "$\\bullet_{\\{ 42 \\}}$"
      ],
      "text/plain": [
       "$\\bullet_{\\{ 42 \\}}$"
      ]
     },
     "execution_count": 18,
     "metadata": {},
     "output_type": "execute_result"
    }
   ],
   "source": [
    "tp + tp2"
   ]
  },
  {
   "cell_type": "code",
   "execution_count": 19,
   "metadata": {},
   "outputs": [
    {
     "data": {
      "text/html": [
       "<td style='vertical-align:top;background:white;padding:2px;margin:0'><svg xmlns=\"http://www.w3.org/2000/svg\" xmlns:xlink=\"http://www.w3.org/1999/xlink\" version=\"1.1\" x=\"0\" y=\"0\" width=\"48.0\" height=\"68.0\">\n",
       "               <g fill=\"none\" stroke=\"black\" stroke-width=\"1.6\" stroke-linecap=\"round\"> <circle cx=\"25.0\" cy=\"5.0\" r=\"2\" stroke=\"black\" stroke-width=\"1\" fill=\"black\" /> <circle cx=\"15.0\" cy=\"25.0\" r=\"2\" stroke=\"black\" stroke-width=\"1\" fill=\"black\" /> <circle cx=\"5.0\" cy=\"45.0\" r=\"2\" stroke=\"black\" stroke-width=\"1\" fill=\"black\" /> <circle cx=\"20.0\" cy=\"45.0\" r=\"2\" stroke=\"black\" stroke-width=\"1\" fill=\"black\" /> <circle cx=\"15.0\" cy=\"65.0\" r=\"2\" stroke=\"black\" stroke-width=\"1\" fill=\"black\" /> <circle cx=\"25.0\" cy=\"65.0\" r=\"2\" stroke=\"black\" stroke-width=\"1\" fill=\"black\" /> <circle cx=\"35.0\" cy=\"25.0\" r=\"2\" stroke=\"black\" stroke-width=\"1\" fill=\"black\" /> <circle cx=\"35.0\" cy=\"45.0\" r=\"2\" stroke=\"black\" stroke-width=\"1\" fill=\"black\" /> <circle cx=\"45.0\" cy=\"25.0\" r=\"2\" stroke=\"black\" stroke-width=\"1\" fill=\"black\" /> <line x1=\"15.0\" y1=\"25.0\" x2=\"25.0\" y2=\"5.0\" stroke-width:1\" stroke=\"black\" /><line x1=\"5.0\" y1=\"45.0\" x2=\"15.0\" y2=\"25.0\" stroke-width:1\" stroke=\"black\" /><line x1=\"20.0\" y1=\"45.0\" x2=\"15.0\" y2=\"25.0\" stroke-width:1\" stroke=\"black\" /><line x1=\"15.0\" y1=\"65.0\" x2=\"20.0\" y2=\"45.0\" stroke-width:1\" stroke=\"black\" /><line x1=\"25.0\" y1=\"65.0\" x2=\"20.0\" y2=\"45.0\" stroke-width:1\" stroke=\"black\" /><line x1=\"35.0\" y1=\"25.0\" x2=\"25.0\" y2=\"5.0\" stroke-width:1\" stroke=\"black\" /><line x1=\"35.0\" y1=\"45.0\" x2=\"35.0\" y2=\"25.0\" stroke-width:1\" stroke=\"black\" /><line x1=\"45.0\" y1=\"25.0\" x2=\"25.0\" y2=\"5.0\" stroke-width:1\" stroke=\"black\" />  </g> </svg></td><td style='vertical-align:top;background:white;padding:2px;margin:0'><svg xmlns=\"http://www.w3.org/2000/svg\" xmlns:xlink=\"http://www.w3.org/1999/xlink\" version=\"1.1\" x=\"0\" y=\"0\" width=\"8.0\" height=\"28.0\">\n",
       "               <g fill=\"none\" stroke=\"black\" stroke-width=\"1.6\" stroke-linecap=\"round\"> <circle cx=\"5.0\" cy=\"5.0\" r=\"2\" stroke=\"black\" stroke-width=\"1\" fill=\"black\" /> <circle cx=\"5.0\" cy=\"25.0\" r=\"2\" stroke=\"black\" stroke-width=\"1\" fill=\"black\" /> <line x1=\"5.0\" y1=\"25.0\" x2=\"5.0\" y2=\"5.0\" stroke-width:1\" stroke=\"black\" />  </g> </svg></td>"
      ],
      "text/plain": [
       "<__main__.rooted_tree at 0x17f84396908>"
      ]
     },
     "execution_count": 19,
     "metadata": {},
     "output_type": "execute_result"
    }
   ],
   "source": [
    "tp * tp2"
   ]
  },
  {
   "cell_type": "code",
   "execution_count": 20,
   "metadata": {},
   "outputs": [
    {
     "data": {
      "image/png": "[encoded data removed]",
      "text/latex": [
       "$$\\left [ \\left ( 1\\right ), \\quad \\left ( 2\\right ), \\quad \\left ( 3\\right ), \\quad \\left ( 4\\right ), \\quad \\left ( 5\\right ), \\quad \\left ( 6\\right ), \\quad \\left ( 7\\right ), \\quad \\left ( 8\\right ), \\quad \\left ( 1, \\quad 6\\right ), \\quad \\left ( 1, \\quad 7\\right ), \\quad \\left ( 1, \\quad 8\\right ), \\quad \\left ( 2, \\quad 3\\right ), \\quad \\left ( 2, \\quad 4\\right ), \\quad \\left ( 2, \\quad 5\\right ), \\quad \\left ( 2, \\quad 6\\right ), \\quad \\left ( 2, \\quad 7\\right ), \\quad \\left ( 2, \\quad 8\\right ), \\quad \\left ( 3, \\quad 6\\right ), \\quad \\left ( 3, \\quad 7\\right ), \\quad \\left ( 3, \\quad 8\\right ), \\quad \\left ( 4, \\quad 5\\right ), \\quad \\left ( 4, \\quad 6\\right ), \\quad \\left ( 4, \\quad 7\\right ), \\quad \\left ( 4, \\quad 8\\right ), \\quad \\left ( 5, \\quad 6\\right ), \\quad \\left ( 5, \\quad 7\\right ), \\quad \\left ( 5, \\quad 8\\right ), \\quad \\left ( 6, \\quad 8\\right ), \\quad \\left ( 7, \\quad 8\\right ), \\quad \\left ( 1, \\quad 6, \\quad 8\\right ), \\quad \\left ( 1, \\quad 7, \\quad 8\\right ), \\quad \\left ( 2, \\quad 3, \\quad 6\\right ), \\quad \\left ( 2, \\quad 3, \\quad 7\\right ), \\quad \\left ( 2, \\quad 3, \\quad 8\\right ), \\quad \\left ( 2, \\quad 4, \\quad 5\\right ), \\quad \\left ( 2, \\quad 4, \\quad 6\\right ), \\quad \\left ( 2, \\quad 4, \\quad 7\\right ), \\quad \\left ( 2, \\quad 4, \\quad 8\\right ), \\quad \\left ( 2, \\quad 5, \\quad 6\\right ), \\quad \\left ( 2, \\quad 5, \\quad 7\\right ), \\quad \\left ( 2, \\quad 5, \\quad 8\\right ), \\quad \\left ( 2, \\quad 6, \\quad 8\\right ), \\quad \\left ( 2, \\quad 7, \\quad 8\\right ), \\quad \\left ( 3, \\quad 6, \\quad 8\\right ), \\quad \\left ( 3, \\quad 7, \\quad 8\\right ), \\quad \\left ( 4, \\quad 5, \\quad 6\\right ), \\quad \\left ( 4, \\quad 5, \\quad 7\\right ), \\quad \\left ( 4, \\quad 5, \\quad 8\\right ), \\quad \\left ( 4, \\quad 6, \\quad 8\\right ), \\quad \\left ( 4, \\quad 7, \\quad 8\\right ), \\quad \\left ( 5, \\quad 6, \\quad 8\\right ), \\quad \\left ( 5, \\quad 7, \\quad 8\\right ), \\quad \\left ( 2, \\quad 3, \\quad 6, \\quad 8\\right ), \\quad \\left ( 2, \\quad 3, \\quad 7, \\quad 8\\right ), \\quad \\left ( 2, \\quad 4, \\quad 5, \\quad 6\\right ), \\quad \\left ( 2, \\quad 4, \\quad 5, \\quad 7\\right ), \\quad \\left ( 2, \\quad 4, \\quad 5, \\quad 8\\right ), \\quad \\left ( 2, \\quad 4, \\quad 6, \\quad 8\\right ), \\quad \\left ( 2, \\quad 4, \\quad 7, \\quad 8\\right ), \\quad \\left ( 2, \\quad 5, \\quad 6, \\quad 8\\right ), \\quad \\left ( 2, \\quad 5, \\quad 7, \\quad 8\\right ), \\quad \\left ( 4, \\quad 5, \\quad 6, \\quad 8\\right ), \\quad \\left ( 4, \\quad 5, \\quad 7, \\quad 8\\right ), \\quad \\left ( 2, \\quad 4, \\quad 5, \\quad 6, \\quad 8\\right ), \\quad \\left ( 2, \\quad 4, \\quad 5, \\quad 7, \\quad 8\\right )\\right ]$$"
      ],
      "text/plain": [
       "[(1,), (2,), (3,), (4,), (5,), (6,), (7,), (8,), (1, 6), (1, 7), (1, 8), (2, 3\n",
       "), (2, 4), (2, 5), (2, 6), (2, 7), (2, 8), (3, 6), (3, 7), (3, 8), (4, 5), (4,\n",
       " 6), (4, 7), (4, 8), (5, 6), (5, 7), (5, 8), (6, 8), (7, 8), (1, 6, 8), (1, 7,\n",
       " 8), (2, 3, 6), (2, 3, 7), (2, 3, 8), (2, 4, 5), (2, 4, 6), (2, 4, 7), (2, 4, \n",
       "8), (2, 5, 6), (2, 5, 7), (2, 5, 8), (2, 6, 8), (2, 7, 8), (3, 6, 8), (3, 7, 8\n",
       "), (4, 5, 6), (4, 5, 7), (4, 5, 8), (4, 6, 8), (4, 7, 8), (5, 6, 8), (5, 7, 8)\n",
       ", (2, 3, 6, 8), (2, 3, 7, 8), (2, 4, 5, 6), (2, 4, 5, 7), (2, 4, 5, 8), (2, 4,\n",
       " 6, 8), (2, 4, 7, 8), (2, 5, 6, 8), (2, 5, 7, 8), (4, 5, 6, 8), (4, 5, 7, 8), \n",
       "(2, 4, 5, 6, 8), (2, 4, 5, 7, 8)]"
      ]
     },
     "execution_count": 20,
     "metadata": {},
     "output_type": "execute_result"
    }
   ],
   "source": [
    "list(tp.admissable_cuts)"
   ]
  },
  {
   "cell_type": "markdown",
   "metadata": {},
   "source": [
    "## example cuts: P * R"
   ]
  },
  {
   "cell_type": "code",
   "execution_count": 21,
   "metadata": {},
   "outputs": [
    {
     "data": {
      "text/html": [
       "<td style='vertical-align:top;background:white;padding:2px;margin:0'><svg xmlns=\"http://www.w3.org/2000/svg\" xmlns:xlink=\"http://www.w3.org/1999/xlink\" version=\"1.1\" x=\"0\" y=\"0\" width=\"8.0\" height=\"8.0\">\n",
       "               <g fill=\"none\" stroke=\"black\" stroke-width=\"1.6\" stroke-linecap=\"round\"> <circle cx=\"5.0\" cy=\"5.0\" r=\"2\" stroke=\"black\" stroke-width=\"1\" fill=\"black\" />   </g> </svg></td><td style='vertical-align:top;background:white;padding:2px;margin:0'><svg xmlns=\"http://www.w3.org/2000/svg\" xmlns:xlink=\"http://www.w3.org/1999/xlink\" version=\"1.1\" x=\"0\" y=\"0\" width=\"8.0\" height=\"28.0\">\n",
       "               <g fill=\"none\" stroke=\"black\" stroke-width=\"1.6\" stroke-linecap=\"round\"> <circle cx=\"5.0\" cy=\"5.0\" r=\"2\" stroke=\"black\" stroke-width=\"1\" fill=\"black\" /> <circle cx=\"5.0\" cy=\"25.0\" r=\"2\" stroke=\"black\" stroke-width=\"1\" fill=\"black\" /> <line x1=\"5.0\" y1=\"25.0\" x2=\"5.0\" y2=\"5.0\" stroke-width:1\" stroke=\"black\" />  </g> </svg></td><td style='vertical-align:top;background:white;padding:2px;margin:0'><svg xmlns=\"http://www.w3.org/2000/svg\" xmlns:xlink=\"http://www.w3.org/1999/xlink\" version=\"1.1\" x=\"0\" y=\"0\" width=\"28.0\" height=\"68.0\">\n",
       "               <g fill=\"none\" stroke=\"black\" stroke-width=\"1.6\" stroke-linecap=\"round\"> <circle cx=\"15.0\" cy=\"5.0\" r=\"2\" stroke=\"black\" stroke-width=\"1\" fill=\"black\" /> <circle cx=\"10.0\" cy=\"25.0\" r=\"2\" stroke=\"black\" stroke-width=\"1\" fill=\"black\" /> <circle cx=\"10.0\" cy=\"45.0\" r=\"2\" stroke=\"black\" stroke-width=\"1\" fill=\"black\" /> <circle cx=\"5.0\" cy=\"65.0\" r=\"2\" stroke=\"black\" stroke-width=\"1\" fill=\"black\" /> <circle cx=\"15.0\" cy=\"65.0\" r=\"2\" stroke=\"black\" stroke-width=\"1\" fill=\"black\" /> <circle cx=\"25.0\" cy=\"25.0\" r=\"2\" stroke=\"black\" stroke-width=\"1\" fill=\"black\" /> <line x1=\"10.0\" y1=\"25.0\" x2=\"15.0\" y2=\"5.0\" stroke-width:1\" stroke=\"black\" /><line x1=\"10.0\" y1=\"45.0\" x2=\"10.0\" y2=\"25.0\" stroke-width:1\" stroke=\"black\" /><line x1=\"5.0\" y1=\"65.0\" x2=\"10.0\" y2=\"45.0\" stroke-width:1\" stroke=\"black\" /><line x1=\"15.0\" y1=\"65.0\" x2=\"10.0\" y2=\"45.0\" stroke-width:1\" stroke=\"black\" /><line x1=\"25.0\" y1=\"25.0\" x2=\"15.0\" y2=\"5.0\" stroke-width:1\" stroke=\"black\" />  </g> </svg></td>"
      ],
      "text/plain": [
       "<__main__.rooted_tree at 0x17ff4d832b0>"
      ]
     },
     "execution_count": 21,
     "metadata": {},
     "output_type": "execute_result"
    }
   ],
   "source": [
    "P,R=tp.cut([2,6])\n",
    "#R is the single tree at the end, P is the forest in front\n",
    "rooted_tree([*P,R])"
   ]
  },
  {
   "cell_type": "code",
   "execution_count": 22,
   "metadata": {},
   "outputs": [
    {
     "data": {
      "text/html": [
       "<td style='vertical-align:top;background:white;padding:2px;margin:0'><svg xmlns=\"http://www.w3.org/2000/svg\" xmlns:xlink=\"http://www.w3.org/1999/xlink\" version=\"1.1\" x=\"0\" y=\"0\" width=\"8.0\" height=\"8.0\">\n",
       "               <g fill=\"none\" stroke=\"black\" stroke-width=\"1.6\" stroke-linecap=\"round\"> <circle cx=\"5.0\" cy=\"5.0\" r=\"2\" stroke=\"black\" stroke-width=\"1\" fill=\"black\" />   </g> </svg></td><td style='vertical-align:top;background:white;padding:2px;margin:0'><svg xmlns=\"http://www.w3.org/2000/svg\" xmlns:xlink=\"http://www.w3.org/1999/xlink\" version=\"1.1\" x=\"0\" y=\"0\" width=\"8.0\" height=\"8.0\">\n",
       "               <g fill=\"none\" stroke=\"black\" stroke-width=\"1.6\" stroke-linecap=\"round\"> <circle cx=\"5.0\" cy=\"5.0\" r=\"2\" stroke=\"black\" stroke-width=\"1\" fill=\"black\" />   </g> </svg></td><td style='vertical-align:top;background:white;padding:2px;margin:0'><svg xmlns=\"http://www.w3.org/2000/svg\" xmlns:xlink=\"http://www.w3.org/1999/xlink\" version=\"1.1\" x=\"0\" y=\"0\" width=\"8.0\" height=\"8.0\">\n",
       "               <g fill=\"none\" stroke=\"black\" stroke-width=\"1.6\" stroke-linecap=\"round\"> <circle cx=\"5.0\" cy=\"5.0\" r=\"2\" stroke=\"black\" stroke-width=\"1\" fill=\"black\" />   </g> </svg></td><td style='vertical-align:top;background:white;padding:2px;margin:0'><svg xmlns=\"http://www.w3.org/2000/svg\" xmlns:xlink=\"http://www.w3.org/1999/xlink\" version=\"1.1\" x=\"0\" y=\"0\" width=\"18.0\" height=\"68.0\">\n",
       "               <g fill=\"none\" stroke=\"black\" stroke-width=\"1.6\" stroke-linecap=\"round\"> <circle cx=\"10.0\" cy=\"5.0\" r=\"2\" stroke=\"black\" stroke-width=\"1\" fill=\"black\" /> <circle cx=\"5.0\" cy=\"25.0\" r=\"2\" stroke=\"black\" stroke-width=\"1\" fill=\"black\" /> <circle cx=\"5.0\" cy=\"45.0\" r=\"2\" stroke=\"black\" stroke-width=\"1\" fill=\"black\" /> <circle cx=\"5.0\" cy=\"65.0\" r=\"2\" stroke=\"black\" stroke-width=\"1\" fill=\"black\" /> <circle cx=\"15.0\" cy=\"25.0\" r=\"2\" stroke=\"black\" stroke-width=\"1\" fill=\"black\" /> <circle cx=\"15.0\" cy=\"45.0\" r=\"2\" stroke=\"black\" stroke-width=\"1\" fill=\"black\" /> <line x1=\"5.0\" y1=\"25.0\" x2=\"10.0\" y2=\"5.0\" stroke-width:1\" stroke=\"black\" /><line x1=\"5.0\" y1=\"45.0\" x2=\"5.0\" y2=\"25.0\" stroke-width:1\" stroke=\"black\" /><line x1=\"5.0\" y1=\"65.0\" x2=\"5.0\" y2=\"45.0\" stroke-width:1\" stroke=\"black\" /><line x1=\"15.0\" y1=\"25.0\" x2=\"10.0\" y2=\"5.0\" stroke-width:1\" stroke=\"black\" /><line x1=\"15.0\" y1=\"45.0\" x2=\"15.0\" y2=\"25.0\" stroke-width:1\" stroke=\"black\" />  </g> </svg></td>"
      ],
      "text/plain": [
       "<__main__.rooted_tree at 0x17f84382cc0>"
      ]
     },
     "execution_count": 22,
     "metadata": {},
     "output_type": "execute_result"
    }
   ],
   "source": [
    "P,R=tp.cut([2,4,8])\n",
    "#R is the single tree at the end, P is the forest in front\n",
    "rooted_tree([*P,R])"
   ]
  },
  {
   "cell_type": "code",
   "execution_count": 23,
   "metadata": {},
   "outputs": [
    {
     "data": {
      "text/html": [
       "<td style='vertical-align:top;background:white;padding:2px;margin:0'><svg xmlns=\"http://www.w3.org/2000/svg\" xmlns:xlink=\"http://www.w3.org/1999/xlink\" version=\"1.1\" x=\"0\" y=\"0\" width=\"8.0\" height=\"8.0\">\n",
       "               <g fill=\"none\" stroke=\"black\" stroke-width=\"1.6\" stroke-linecap=\"round\"> <circle cx=\"5.0\" cy=\"5.0\" r=\"2\" stroke=\"black\" stroke-width=\"1\" fill=\"black\" />   </g> </svg></td><td style='vertical-align:top;background:white;padding:2px;margin:0'><svg xmlns=\"http://www.w3.org/2000/svg\" xmlns:xlink=\"http://www.w3.org/1999/xlink\" version=\"1.1\" x=\"0\" y=\"0\" width=\"8.0\" height=\"8.0\">\n",
       "               <g fill=\"none\" stroke=\"black\" stroke-width=\"1.6\" stroke-linecap=\"round\"> <circle cx=\"5.0\" cy=\"5.0\" r=\"2\" stroke=\"black\" stroke-width=\"1\" fill=\"black\" />   </g> </svg></td><td style='vertical-align:top;background:white;padding:2px;margin:0'><svg xmlns=\"http://www.w3.org/2000/svg\" xmlns:xlink=\"http://www.w3.org/1999/xlink\" version=\"1.1\" x=\"0\" y=\"0\" width=\"8.0\" height=\"8.0\">\n",
       "               <g fill=\"none\" stroke=\"black\" stroke-width=\"1.6\" stroke-linecap=\"round\"> <circle cx=\"5.0\" cy=\"5.0\" r=\"2\" stroke=\"black\" stroke-width=\"1\" fill=\"black\" />   </g> </svg></td><td style='vertical-align:top;background:white;padding:2px;margin:0'><svg xmlns=\"http://www.w3.org/2000/svg\" xmlns:xlink=\"http://www.w3.org/1999/xlink\" version=\"1.1\" x=\"0\" y=\"0\" width=\"8.0\" height=\"8.0\">\n",
       "               <g fill=\"none\" stroke=\"black\" stroke-width=\"1.6\" stroke-linecap=\"round\"> <circle cx=\"5.0\" cy=\"5.0\" r=\"2\" stroke=\"black\" stroke-width=\"1\" fill=\"black\" />   </g> </svg></td><td style='vertical-align:top;background:white;padding:2px;margin:0'><svg xmlns=\"http://www.w3.org/2000/svg\" xmlns:xlink=\"http://www.w3.org/1999/xlink\" version=\"1.1\" x=\"0\" y=\"0\" width=\"8.0\" height=\"8.0\">\n",
       "               <g fill=\"none\" stroke=\"black\" stroke-width=\"1.6\" stroke-linecap=\"round\"> <circle cx=\"5.0\" cy=\"5.0\" r=\"2\" stroke=\"black\" stroke-width=\"1\" fill=\"black\" />   </g> </svg></td><td style='vertical-align:top;background:white;padding:2px;margin:0'><svg xmlns=\"http://www.w3.org/2000/svg\" xmlns:xlink=\"http://www.w3.org/1999/xlink\" version=\"1.1\" x=\"0\" y=\"0\" width=\"18.0\" height=\"48.0\">\n",
       "               <g fill=\"none\" stroke=\"black\" stroke-width=\"1.6\" stroke-linecap=\"round\"> <circle cx=\"10.0\" cy=\"5.0\" r=\"2\" stroke=\"black\" stroke-width=\"1\" fill=\"black\" /> <circle cx=\"5.0\" cy=\"25.0\" r=\"2\" stroke=\"black\" stroke-width=\"1\" fill=\"black\" /> <circle cx=\"5.0\" cy=\"45.0\" r=\"2\" stroke=\"black\" stroke-width=\"1\" fill=\"black\" /> <circle cx=\"15.0\" cy=\"25.0\" r=\"2\" stroke=\"black\" stroke-width=\"1\" fill=\"black\" /> <line x1=\"5.0\" y1=\"25.0\" x2=\"10.0\" y2=\"5.0\" stroke-width:1\" stroke=\"black\" /><line x1=\"5.0\" y1=\"45.0\" x2=\"5.0\" y2=\"25.0\" stroke-width:1\" stroke=\"black\" /><line x1=\"15.0\" y1=\"25.0\" x2=\"10.0\" y2=\"5.0\" stroke-width:1\" stroke=\"black\" />  </g> </svg></td>"
      ],
      "text/plain": [
       "<__main__.rooted_tree at 0x17f84382e48>"
      ]
     },
     "execution_count": 23,
     "metadata": {},
     "output_type": "execute_result"
    }
   ],
   "source": [
    "P,R=tp.cut((2,4,5,7,8))\n",
    "#R is the single tree at the end, P is the forest in front\n",
    "rooted_tree([*P,R])"
   ]
  },
  {
   "cell_type": "code",
   "execution_count": 24,
   "metadata": {},
   "outputs": [
    {
     "data": {
      "text/html": [
       "<td style='vertical-align:top;background:white;padding:2px;margin:0'><svg xmlns=\"http://www.w3.org/2000/svg\" xmlns:xlink=\"http://www.w3.org/1999/xlink\" version=\"1.1\" x=\"0\" y=\"0\" width=\"48.0\" height=\"68.0\">\n",
       "               <g fill=\"none\" stroke=\"black\" stroke-width=\"1.6\" stroke-linecap=\"round\"> <circle cx=\"25.0\" cy=\"5.0\" r=\"2\" stroke=\"black\" stroke-width=\"1\" fill=\"black\" /> <circle cx=\"15.0\" cy=\"25.0\" r=\"2\" stroke=\"black\" stroke-width=\"1\" fill=\"black\" /> <circle cx=\"5.0\" cy=\"45.0\" r=\"2\" stroke=\"black\" stroke-width=\"1\" fill=\"black\" /> <circle cx=\"20.0\" cy=\"45.0\" r=\"2\" stroke=\"black\" stroke-width=\"1\" fill=\"black\" /> <circle cx=\"15.0\" cy=\"65.0\" r=\"2\" stroke=\"black\" stroke-width=\"1\" fill=\"black\" /> <circle cx=\"25.0\" cy=\"65.0\" r=\"2\" stroke=\"black\" stroke-width=\"1\" fill=\"black\" /> <circle cx=\"35.0\" cy=\"25.0\" r=\"2\" stroke=\"black\" stroke-width=\"1\" fill=\"black\" /> <circle cx=\"35.0\" cy=\"45.0\" r=\"2\" stroke=\"black\" stroke-width=\"1\" fill=\"black\" /> <circle cx=\"45.0\" cy=\"25.0\" r=\"2\" stroke=\"black\" stroke-width=\"1\" fill=\"black\" /> <line x1=\"15.0\" y1=\"25.0\" x2=\"25.0\" y2=\"5.0\" stroke-width:1\" stroke=\"black\" /><line x1=\"5.0\" y1=\"45.0\" x2=\"15.0\" y2=\"25.0\" stroke-width:1\" stroke=\"black\" /><line x1=\"20.0\" y1=\"45.0\" x2=\"15.0\" y2=\"25.0\" stroke-width:1\" stroke=\"black\" /><line x1=\"15.0\" y1=\"65.0\" x2=\"20.0\" y2=\"45.0\" stroke-width:1\" stroke=\"black\" /><line x1=\"25.0\" y1=\"65.0\" x2=\"20.0\" y2=\"45.0\" stroke-width:1\" stroke=\"black\" /><line x1=\"35.0\" y1=\"25.0\" x2=\"25.0\" y2=\"5.0\" stroke-width:1\" stroke=\"black\" /><line x1=\"35.0\" y1=\"45.0\" x2=\"35.0\" y2=\"25.0\" stroke-width:1\" stroke=\"black\" /><line x1=\"45.0\" y1=\"25.0\" x2=\"25.0\" y2=\"5.0\" stroke-width:1\" stroke=\"black\" />  </g> </svg></td><td style='vertical-align:top;background:white;padding:2px;margin:0'><svg xmlns=\"http://www.w3.org/2000/svg\" xmlns:xlink=\"http://www.w3.org/1999/xlink\" version=\"1.1\" x=\"0\" y=\"0\" width=\"8.0\" height=\"28.0\">\n",
       "               <g fill=\"none\" stroke=\"black\" stroke-width=\"1.6\" stroke-linecap=\"round\"> <circle cx=\"5.0\" cy=\"5.0\" r=\"2\" stroke=\"black\" stroke-width=\"1\" fill=\"black\" /> <circle cx=\"5.0\" cy=\"25.0\" r=\"2\" stroke=\"black\" stroke-width=\"1\" fill=\"black\" /> <line x1=\"5.0\" y1=\"25.0\" x2=\"5.0\" y2=\"5.0\" stroke-width:1\" stroke=\"black\" />  </g> </svg></td><td style='vertical-align:top;background:white;padding:2px;margin:0'><svg xmlns=\"http://www.w3.org/2000/svg\" xmlns:xlink=\"http://www.w3.org/1999/xlink\" version=\"1.1\" x=\"0\" y=\"0\" width=\"8.0\" height=\"28.0\">\n",
       "               <g fill=\"none\" stroke=\"black\" stroke-width=\"1.6\" stroke-linecap=\"round\"> <circle cx=\"5.0\" cy=\"5.0\" r=\"2\" stroke=\"black\" stroke-width=\"1\" fill=\"black\" /> <circle cx=\"5.0\" cy=\"25.0\" r=\"2\" stroke=\"black\" stroke-width=\"1\" fill=\"black\" /> <line x1=\"5.0\" y1=\"25.0\" x2=\"5.0\" y2=\"5.0\" stroke-width:1\" stroke=\"black\" />  </g> </svg></td>"
      ],
      "text/plain": [
       "<__main__.rooted_tree at 0x17f8438b470>"
      ]
     },
     "execution_count": 24,
     "metadata": {},
     "output_type": "execute_result"
    }
   ],
   "source": [
    "rooted_tree([tp,tp2,tp2,])"
   ]
  },
  {
   "cell_type": "code",
   "execution_count": 25,
   "metadata": {
    "collapsed": true
   },
   "outputs": [],
   "source": [
    "#create a table of admissable cuts => P R"
   ]
  },
  {
   "cell_type": "code",
   "execution_count": null,
   "metadata": {},
   "outputs": [],
   "source": [
    "from sympy.physics.quantum import TensorProduct\n",
    "\n",
    "A= TensorProduct(Symbol(\"\\mathbb{1}\",commutative=False), Symbol(\"\\mathbb{1}\",commutative=False))\n",
    "\n",
    "#B = TensorProduct(rooted_tree(5), rooted_tree(7))\n",
    "rooted_tree(5) * rooted_tree(5)"
   ]
  },
  {
   "cell_type": "code",
   "execution_count": null,
   "metadata": {
    "collapsed": true
   },
   "outputs": [],
   "source": [
    "#SOME EXAMPLES OF SYB CLASSES THAT SEEMED TO WORK\n",
    "\n",
    "# A = Symbol('A',commutative=True)\n",
    "\n",
    "# B = Symbol('B',commutative=True)\n",
    "# C = Symbol('C',commutative=False)\n",
    "# D = Symbol('D',commutative=False)\n",
    "\n",
    "# V = TensorProduct(A,B) + TensorProduct(C,D)\n",
    "# V\n",
    "\n",
    "# import sympy as sp\n",
    "# from sympy.core.expr import Expr\n",
    "\n",
    "# class Tensor(Expr):\n",
    "#     __slots__ = ['is_commutative']\n",
    "\n",
    "#     def __new__(cls, l, r):\n",
    "#         l = sp.sympify(l)\n",
    "#         r = sp.sympify(r)\n",
    "#         obj = Expr.__new__(cls, l, r)\n",
    "#         obj.is_commutative = False\n",
    "#         return obj\n",
    "    \n",
    "#     def _print(self, e=None):return self._display_()\n",
    "#     def __srepr__(self):  return self._display_()\n",
    "#     def __repr__(self):  return self._display_()\n",
    "    \n",
    "#     def _display_(self):    \n",
    "#         body =\"\"\"<circle cx=\"20\" cy=\"20\" r=\"3\" stroke=\"black\" stroke-width=\"1\" fill=\"black\" /> \"\"\"\n",
    "#         return  \"\"\"<svg xmlns=\"http://www.w3.org/2000/svg\" xmlns:xlink=\"http://www.w3.org/1999/xlink\" version=\"1.1\" x=\"{1}\" y=\"{2}\" width=\"500\" height=\"120\">\n",
    "#       <g fill=\"none\" stroke=\"black\" stroke-width=\"1.6\" stroke-linecap=\"round\"> {0}  </g> </svg>\"\"\".format(body, 20,20)\n",
    "#         #return latex(\"bullet\",mode='inline')\n",
    "\n",
    "        \n",
    "#     def _repr_latex_(self):    \n",
    "#         body =\"\"\"<circle cx=\"20\" cy=\"20\" r=\"3\" stroke=\"black\" stroke-width=\"1\" fill=\"black\" /> \"\"\"\n",
    "#         return  \"\"\"<svg xmlns=\"http://www.w3.org/2000/svg\" xmlns:xlink=\"http://www.w3.org/1999/xlink\" version=\"1.1\" x=\"{1}\" y=\"{2}\" width=\"500\" height=\"120\">\n",
    "#       <g fill=\"none\" stroke=\"black\" stroke-width=\"1.6\" stroke-linecap=\"round\"> {0}  </g> </svg>\"\"\".format(body, 20,20)\n",
    "#         #return latex(\"bullet\",mode='inline')\n",
    "\n",
    "#     def __neg__(self):\n",
    "#         return self\n",
    "\n",
    "#     def __mul__(self, other):\n",
    "#         if isinstance(other, Tensor):\n",
    "#             return Tensor(self.args[0] * other.args[0], other.args[1] * self.args[1])\n",
    "#         elif other.is_number:\n",
    "#             if other % 2 == 0:\n",
    "#                 return 0\n",
    "#             else:\n",
    "#                 return self\n",
    "#         else:\n",
    "#             return sp.Mul(self, other)\n",
    "\n",
    "\n",
    "# x, y = sp.symbols('x, y', commutative=False)\n",
    "\n",
    "# Ym = Tensor(y, 1) - Tensor(1, y)\n",
    "# Yp = Tensor(y, 1) + Tensor(1, y)\n",
    "# Xm = Tensor(x, 1) - Tensor(1, x)\n",
    "\n",
    "# d1 = Ym * Yp + Xm * 0\n",
    "# # print(d1)\n",
    "# # print(sp.expand(d1))\n",
    "\n",
    "# # d2 = Xm * Ym\n",
    "# # print(d2)\n",
    "# # print(sp.expand(d2))\n",
    "# #TensorProduct(Tensor(y, 1),Tensor(y, 1))"
   ]
  },
  {
   "cell_type": "code",
   "execution_count": null,
   "metadata": {
    "collapsed": true
   },
   "outputs": [],
   "source": []
  }
 ],
 "metadata": {
  "kernelspec": {
   "display_name": "Python 3",
   "language": "python",
   "name": "python3"
  },
  "language_info": {
   "codemirror_mode": {
    "name": "ipython",
    "version": 3
   },
   "file_extension": ".py",
   "mimetype": "text/x-python",
   "name": "python",
   "nbconvert_exporter": "python",
   "pygments_lexer": "ipython3",
   "version": "3.6.3"
  }
 },
 "nbformat": 4,
 "nbformat_minor": 2
}
