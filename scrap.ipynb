{
 "cells": [
  {
   "cell_type": "code",
   "execution_count": 1,
   "metadata": {
    "collapsed": true
   },
   "outputs": [],
   "source": [
    "import numpy as np\n",
    "import matplotlib.pyplot as plt\n",
    "from sympy import *\n",
    "init_printing()"
   ]
  },
  {
   "cell_type": "code",
   "execution_count": 2,
   "metadata": {
    "collapsed": true
   },
   "outputs": [],
   "source": [
    "# def graph(adj_matrix):\n",
    "#     # Find number of rows/columns (since the matrix is square)\n",
    "#     N = len(adj_matrix)\n",
    "#     # Establish variables to plot out the circle\n",
    "#     R = 5\n",
    "#     X = []\n",
    "#     Y = []\n",
    "#     Z = np.linspace(1, N, N)\n",
    "#     # Plot out the circle   \n",
    "#     for node in range(N):\n",
    "#         theta = 2 * np.pi * node / N\n",
    "#         X.append(R * np.cos(theta))\n",
    "#         Y.append(R * np.sin(theta))\n",
    "#     # Create the plots (to show the circle)\n",
    "#     fig, ax = plt.subplots()\n",
    "#     # Plot out the nodes of the graph\n",
    "#     # This part looks through the adjacency matrix to find where the \n",
    "#     # nodes are in the graph. Once it has found the nodes, it looks\n",
    "#     # to see where the edges should be, and draws them.\n",
    "#     for i in range(N):\n",
    "#         for j in range(i):\n",
    "#             # This part just checks to see if the matrix is \n",
    "#             # symmetric.\n",
    "#             if adj_matrix[i][j] == adj_matrix[j][i]:\n",
    "#                 if adj_matrix[i][j] == 1:\n",
    "#                     plt.plot([X[i], X[j]], [Y[i], Y[j]])\n",
    "#                 else:\n",
    "#                     continue\n",
    "#             else:\n",
    "#                 return \"Error: Not an adjacency matrix.\"\n",
    "  \n",
    "#     # Always label our graphs :)\n",
    "#     for i,j,k in zip(X, Y, Z):\n",
    "#             ax.annotate(\"Node %i\" %k, xy = (i,j), \\\n",
    "#             xytext = (30, 0), textcoords = \"offset points\")\n",
    "    \n",
    "#     # Show the graph\n",
    "#     plt.show()"
   ]
  },
  {
   "cell_type": "code",
   "execution_count": 3,
   "metadata": {},
   "outputs": [
    {
     "data": {
      "image/png": "[encoded data removed]",
      "text/latex": [
       "$$\\left[\\begin{matrix}0 & 1 & 0 & 1 & 0 & 0\\\\1 & 0 & 1 & 0 & 1 & 0\\\\0 & 1 & 0 & 0 & 0 & 1\\\\1 & 0 & 0 & 0 & 1 & 0\\\\0 & 1 & 0 & 1 & 0 & 1\\\\0 & 0 & 1 & 0 & 1 & 0\\end{matrix}\\right]$$"
      ],
      "text/plain": [
       "⎡0  1  0  1  0  0⎤\n",
       "⎢                ⎥\n",
       "⎢1  0  1  0  1  0⎥\n",
       "⎢                ⎥\n",
       "⎢0  1  0  0  0  1⎥\n",
       "⎢                ⎥\n",
       "⎢1  0  0  0  1  0⎥\n",
       "⎢                ⎥\n",
       "⎢0  1  0  1  0  1⎥\n",
       "⎢                ⎥\n",
       "⎣0  0  1  0  1  0⎦"
      ]
     },
     "execution_count": 3,
     "metadata": {},
     "output_type": "execute_result"
    }
   ],
   "source": [
    "adj = np.array([[0,1,0,1,0,0],\n",
    "                [1,0,1,0,1,0],\n",
    "                [0,1,0,0,0,1],\n",
    "                [1,0,0,0,1,0],\n",
    "                [0,1,0,1,0,1],\n",
    "                [0,0,1,0,1,0],])\n",
    "Matrix(adj)"
   ]
  },
  {
   "cell_type": "code",
   "execution_count": null,
   "metadata": {
    "collapsed": true
   },
   "outputs": [],
   "source": []
  },
  {
   "cell_type": "code",
   "execution_count": 4,
   "metadata": {},
   "outputs": [
    {
     "data": {
      "text/plain": [
       "array([[ 2, -1,  0, -1,  0,  0],\n",
       "       [-1,  3, -1,  0, -1,  0],\n",
       "       [ 0, -1,  2,  0,  0, -1],\n",
       "       [-1,  0,  0,  2, -1,  0],\n",
       "       [ 0, -1,  0, -1,  3, -1],\n",
       "       [ 0,  0, -1,  0, -1,  2]])"
      ]
     },
     "execution_count": 4,
     "metadata": {},
     "output_type": "execute_result"
    }
   ],
   "source": [
    "def laplacian(adj): return adj.sum(axis=1) * np.eye(adj.shape[0],dtype=np.int) + (adj * -1)\n",
    "laplacian(adj)"
   ]
  },
  {
   "cell_type": "code",
   "execution_count": 46,
   "metadata": {},
   "outputs": [
    {
     "data": {
      "text/plain": [
       "array([[-1, -1,  0,  0,  0,  0,  0],\n",
       "       [ 0,  1,  0, -1, -1,  0,  0],\n",
       "       [ 0,  0,  0,  0,  1,  0, -1],\n",
       "       [ 1,  0, -1,  0,  0,  0,  0],\n",
       "       [ 0,  0,  1,  1,  0, -1,  0],\n",
       "       [ 0,  0,  0,  0,  0,  1,  1]])"
      ]
     },
     "execution_count": 46,
     "metadata": {},
     "output_type": "execute_result"
    }
   ],
   "source": [
    "from functools import reduce\n",
    "from operator import add,mul\n",
    "edges = [(0,3), (0,1), (3,4), (1,4), (1,2), (4,5), (2,5)]\n",
    "def edges_to_incidence(edges,connect_to_inf=[]):\n",
    "    distinct_vs = np.unique(reduce(add, [list(i) for i in edges],[]))\n",
    "    n_nodes=len(distinct_vs)\n",
    "    for ex in connect_to_inf: #this is a standard graph theory thing to create a planar extension connecting to infinity node\n",
    "        infinity_node = distinct_vs.max() +1\n",
    "        edges.append((ex,infinity_node))\n",
    "    if len(connect_to_inf) > 0: n_nodes+=1\n",
    "   \n",
    "    inc = np.zeros((n_nodes,len(edges)),dtype=np.int)\n",
    "    for i, e in enumerate(edges):\n",
    "        inc[e[1],i] = 1\n",
    "        inc[e[0],i] = -1    \n",
    "        \n",
    "    return inc\n",
    "\n",
    "def incidence_to_laplacian(inc): return np.dot(inc,inc.T)\n",
    "#todo edges from adj, edges to adj\n",
    "\n",
    "inc = edges_to_incidence(edges)\n",
    "inc"
   ]
  },
  {
   "cell_type": "code",
   "execution_count": 47,
   "metadata": {},
   "outputs": [
    {
     "data": {
      "image/png": "[encoded data removed]",
      "text/latex": [
       "$$\\left [ \\left ( 0, \\quad 3\\right ), \\quad \\left ( 0, \\quad 1\\right ), \\quad \\left ( 3, \\quad 4\\right ), \\quad \\left ( 1, \\quad 4\\right ), \\quad \\left ( 1, \\quad 2\\right ), \\quad \\left ( 4, \\quad 5\\right ), \\quad \\left ( 2, \\quad 5\\right )\\right ]$$"
      ],
      "text/plain": [
       "[(0, 3), (0, 1), (3, 4), (1, 4), (1, 2), (4, 5), (2, 5)]"
      ]
     },
     "execution_count": 47,
     "metadata": {},
     "output_type": "execute_result"
    }
   ],
   "source": [
    "edges"
   ]
  },
  {
   "cell_type": "code",
   "execution_count": 217,
   "metadata": {
    "collapsed": true
   },
   "outputs": [],
   "source": [
    "def connect_infinity_to_adj(mat,ex_vert=[]):\n",
    "    \"\"\"given an adjacency matrix, add an external infitity vertex connected to the external nodes\"\"\"\n",
    "    mat = np.pad(adj, ((0,1), (0,1)), 'minimum')\n",
    "    for v in ex_vert:\n",
    "        mat[-1,v] = 1\n",
    "        mat[v,-1] = 1\n",
    "    \n",
    "    return mat\n",
    "\n",
    "def i_cofactor(mat,i=0):\n",
    "    \"\"\"remove ith row and ith column\"\"\"\n",
    "    temp = mat.copy()\n",
    "    temp = np.delete(temp,i,0)\n",
    "    return np.delete(temp,i,1)\n",
    "\n",
    "def sym_i_cofactor(mat,r=-1,c=-1):\n",
    "    \"\"\"remove ith row and ith column\"\"\"\n",
    "    temp = Matrix(mat)\n",
    "    if r==-1: r = temp.shape[0]-1\n",
    "    if c==-1: c = temp.shape[1]-1\n",
    "    #print(\"removing rows and cols\", r,c)\n",
    "    temp.col_del(c)\n",
    "    temp.row_del(r)\n",
    "    return temp\n",
    "\n",
    "#def _spanning_tree()\n",
    "def symbol_laplacian(inc,edges,external_edges=[]):\n",
    "    external_start_index=-1\n",
    "    if len(external_edges): external_start_index = len(edges) +1 - len(external_edges)\n",
    "    #print(\"external edges start at\", external_start_index)\n",
    "    \"\"\"This computes the input of Kirchoff polymial (reduced laplacian) in symbol form\"\"\"\n",
    "    def _int_to_dummy(i):  \n",
    "        if i >= external_start_index and external_start_index > 0: return Symbol(\"z\")# +str(i)for testing we might care about which z\n",
    "        return Symbol(\"x\"+str(i))\n",
    "    def _symbol_row_(vec,v):\n",
    "        _ret = [0 for i in range(inc.shape[0])]\n",
    "        entries = list(np.where(vec!=0)[0])\n",
    "        \"\"\"take the incident matrix and use the zero indexed enries to create dummy variables\"\"\"\n",
    "        _ret[v] = reduce(add,[_int_to_dummy(i+1) for i in entries],0)\n",
    "        #foreach entries, look at the inc column and find my adjoint\n",
    "        for e in entries:\n",
    "            adj = list(set(np.nonzero(inc[:,e])[0]) - set([v]))[0]\n",
    "            _ret[adj] = -1*_int_to_dummy(1*(e+1))         \n",
    "        return _ret\n",
    "     \n",
    "    return Matrix([_symbol_row_(row,v) for v, row in enumerate(inc)])\n",
    "\n",
    "def kirchhoff_poly(edges,infinity_connect_list=[]):\n",
    "    inc = edges_to_incidence(edges,connect_to_inf=infinity_connect_list)\n",
    "    #this is true because we add some things to the end, and these are external - the are \"zs\"\n",
    "    external_edges = edges[-len(infinity_connect_list):] if len(infinity_connect_list) > 0 else []\n",
    "    #print(\"external edges\", external_edges)\n",
    "    #NB - need to know where the edges that are external \"the zs\" begins in the ordered list\n",
    "    lap = symbol_laplacian(inc,edges,external_edges)\n",
    "    #return lap\n",
    "    reduced = sym_i_cofactor(lap)\n",
    "    P= reduced.det(method='berkowitz')\n",
    "    P = collect(expand(P),Symbol(\"z\"))\n",
    "    return P\n",
    "    \n",
    "def graph_polynomials(edges,infinity_connect_list=[],include_masses=False):\n",
    "    max_ind = len(edges)\n",
    "    S = kirchhoff_poly(edges,infinity_connect_list)\n",
    "    \n",
    "    #max index is what we use to determine the edge basis to devided out the terms from the kirchhoff polynomial\n",
    "    #we get the first and second order from the generating polynomial\n",
    "    U = __W__(S, order=1, max_index=max_ind)\n",
    "    F0 = __W__(S, order=2, max_index=max_ind)\n",
    "    NCM = compute_neg_cut_momenta()\n",
    "    SUM_MASS = 0 if include_masses == False else reduce(add, [Symbol(\"x\"+str(i)) *Symbol(\"m\"+str(i))**2 for i in range(1,max_index+1)],1)\n",
    "    F = F0\n",
    "    return U, NCM * F + U * SUM_MASS\n",
    "    \n",
    "def __W__(P, max_index, order = 1):\n",
    "    \"\"\"This is a helper function that computes the inverted coefficients for the kirchoff polymial\n",
    "    \"\"\"\n",
    "    \n",
    "    def _inversion_(S):\n",
    "        \"\"\"This is actually a set complement\"\"\"\n",
    "        pre_term = reduce(mul, [Symbol(\"x\"+str(i)) for i in range(1,max_index+1)],1)\n",
    "        return reduce(add , [((1/t)*pre_term).as_content_primitive()[-1] for t in S.args ], 0)\n",
    "\n",
    "    return  _inversion_(P.coeff(Symbol(\"z\"),order))\n",
    "    \n",
    "def compute_neg_cut_momenta():\n",
    "    return 1\n",
    "\n",
    "def spanning_trees(mat, removed_edges_out=[]):  pass\n",
    "def k_forests(mat,k=2, removed_edges_out=[]):  pass\n",
    "\n",
    "def vertex_conservation_equations(inc, choose_ks=[]):\n",
    "    for v in inc.shape"
   ]
  },
  {
   "cell_type": "code",
   "execution_count": 209,
   "metadata": {
    "collapsed": true
   },
   "outputs": [],
   "source": [
    "#connect_infinity_to_adj(adj,[1])"
   ]
  },
  {
   "cell_type": "code",
   "execution_count": 214,
   "metadata": {},
   "outputs": [
    {
     "data": {
      "image/png": "[encoded data removed]",
      "text/latex": [
       "$$z^{4} \\left(x_{2} x_{3} + x_{2} x_{4} + x_{2} x_{6} + x_{3} x_{4} + x_{3} x_{5} + x_{4} x_{5} + x_{4} x_{6} + x_{5} x_{6}\\right) + z^{3} \\left(2 x_{1} x_{2} x_{3} + 2 x_{1} x_{2} x_{4} + 2 x_{1} x_{2} x_{6} + 2 x_{1} x_{3} x_{4} + 2 x_{1} x_{3} x_{5} + 2 x_{1} x_{4} x_{5} + 2 x_{1} x_{4} x_{6} + 2 x_{1} x_{5} x_{6} + 2 x_{2} x_{3} x_{4} + 2 x_{2} x_{3} x_{5} + 2 x_{2} x_{3} x_{6} + 2 x_{2} x_{3} x_{7} + 2 x_{2} x_{4} x_{5} + 2 x_{2} x_{4} x_{6} + 2 x_{2} x_{4} x_{7} + 2 x_{2} x_{5} x_{6} + 2 x_{2} x_{6} x_{7} + 2 x_{3} x_{4} x_{5} + 2 x_{3} x_{4} x_{6} + 2 x_{3} x_{4} x_{7} + 2 x_{3} x_{5} x_{6} + 2 x_{3} x_{5} x_{7} + 2 x_{4} x_{5} x_{6} + 2 x_{4} x_{5} x_{7} + 2 x_{4} x_{6} x_{7} + 2 x_{5} x_{6} x_{7}\\right) + z^{2} \\left(3 x_{1} x_{2} x_{3} x_{5} + 3 x_{1} x_{2} x_{3} x_{6} + 4 x_{1} x_{2} x_{3} x_{7} + 3 x_{1} x_{2} x_{4} x_{5} + 3 x_{1} x_{2} x_{4} x_{6} + 4 x_{1} x_{2} x_{4} x_{7} + 3 x_{1} x_{2} x_{5} x_{6} + 4 x_{1} x_{2} x_{6} x_{7} + 3 x_{1} x_{3} x_{4} x_{5} + 3 x_{1} x_{3} x_{4} x_{6} + 4 x_{1} x_{3} x_{4} x_{7} + 3 x_{1} x_{3} x_{5} x_{6} + 4 x_{1} x_{3} x_{5} x_{7} + 4 x_{1} x_{4} x_{5} x_{6} + 4 x_{1} x_{4} x_{5} x_{7} + 4 x_{1} x_{4} x_{6} x_{7} + 4 x_{1} x_{5} x_{6} x_{7} + 3 x_{2} x_{3} x_{4} x_{5} + 3 x_{2} x_{3} x_{4} x_{6} + 4 x_{2} x_{3} x_{4} x_{7} + 4 x_{2} x_{3} x_{5} x_{6} + 3 x_{2} x_{3} x_{5} x_{7} + 3 x_{2} x_{3} x_{6} x_{7} + 3 x_{2} x_{4} x_{5} x_{6} + 3 x_{2} x_{4} x_{5} x_{7} + 3 x_{2} x_{4} x_{6} x_{7} + 3 x_{2} x_{5} x_{6} x_{7} + 3 x_{3} x_{4} x_{5} x_{6} + 3 x_{3} x_{4} x_{5} x_{7} + 3 x_{3} x_{4} x_{6} x_{7} + 3 x_{3} x_{5} x_{6} x_{7}\\right) + z \\left(4 x_{1} x_{2} x_{3} x_{5} x_{6} + 4 x_{1} x_{2} x_{3} x_{5} x_{7} + 4 x_{1} x_{2} x_{3} x_{6} x_{7} + 4 x_{1} x_{2} x_{4} x_{5} x_{6} + 4 x_{1} x_{2} x_{4} x_{5} x_{7} + 4 x_{1} x_{2} x_{4} x_{6} x_{7} + 4 x_{1} x_{2} x_{5} x_{6} x_{7} + 4 x_{1} x_{3} x_{4} x_{5} x_{6} + 4 x_{1} x_{3} x_{4} x_{5} x_{7} + 4 x_{1} x_{3} x_{4} x_{6} x_{7} + 4 x_{1} x_{3} x_{5} x_{6} x_{7} + 4 x_{2} x_{3} x_{4} x_{5} x_{6} + 4 x_{2} x_{3} x_{4} x_{5} x_{7} + 4 x_{2} x_{3} x_{4} x_{6} x_{7} + 4 x_{2} x_{3} x_{5} x_{6} x_{7}\\right)$$"
      ],
      "text/plain": [
       " 4                                                                    3       \n",
       "z ⋅(x₂⋅x₃ + x₂⋅x₄ + x₂⋅x₆ + x₃⋅x₄ + x₃⋅x₅ + x₄⋅x₅ + x₄⋅x₆ + x₅⋅x₆) + z ⋅(2⋅x₁⋅\n",
       "\n",
       "                                                                              \n",
       "x₂⋅x₃ + 2⋅x₁⋅x₂⋅x₄ + 2⋅x₁⋅x₂⋅x₆ + 2⋅x₁⋅x₃⋅x₄ + 2⋅x₁⋅x₃⋅x₅ + 2⋅x₁⋅x₄⋅x₅ + 2⋅x₁⋅\n",
       "\n",
       "                                                                              \n",
       "x₄⋅x₆ + 2⋅x₁⋅x₅⋅x₆ + 2⋅x₂⋅x₃⋅x₄ + 2⋅x₂⋅x₃⋅x₅ + 2⋅x₂⋅x₃⋅x₆ + 2⋅x₂⋅x₃⋅x₇ + 2⋅x₂⋅\n",
       "\n",
       "                                                                              \n",
       "x₄⋅x₅ + 2⋅x₂⋅x₄⋅x₆ + 2⋅x₂⋅x₄⋅x₇ + 2⋅x₂⋅x₅⋅x₆ + 2⋅x₂⋅x₆⋅x₇ + 2⋅x₃⋅x₄⋅x₅ + 2⋅x₃⋅\n",
       "\n",
       "                                                                              \n",
       "x₄⋅x₆ + 2⋅x₃⋅x₄⋅x₇ + 2⋅x₃⋅x₅⋅x₆ + 2⋅x₃⋅x₅⋅x₇ + 2⋅x₄⋅x₅⋅x₆ + 2⋅x₄⋅x₅⋅x₇ + 2⋅x₄⋅\n",
       "\n",
       "                       2                                                      \n",
       "x₆⋅x₇ + 2⋅x₅⋅x₆⋅x₇) + z ⋅(3⋅x₁⋅x₂⋅x₃⋅x₅ + 3⋅x₁⋅x₂⋅x₃⋅x₆ + 4⋅x₁⋅x₂⋅x₃⋅x₇ + 3⋅x₁\n",
       "\n",
       "                                                                              \n",
       "⋅x₂⋅x₄⋅x₅ + 3⋅x₁⋅x₂⋅x₄⋅x₆ + 4⋅x₁⋅x₂⋅x₄⋅x₇ + 3⋅x₁⋅x₂⋅x₅⋅x₆ + 4⋅x₁⋅x₂⋅x₆⋅x₇ + 3⋅\n",
       "\n",
       "                                                                              \n",
       "x₁⋅x₃⋅x₄⋅x₅ + 3⋅x₁⋅x₃⋅x₄⋅x₆ + 4⋅x₁⋅x₃⋅x₄⋅x₇ + 3⋅x₁⋅x₃⋅x₅⋅x₆ + 4⋅x₁⋅x₃⋅x₅⋅x₇ + \n",
       "\n",
       "                                                                              \n",
       "4⋅x₁⋅x₄⋅x₅⋅x₆ + 4⋅x₁⋅x₄⋅x₅⋅x₇ + 4⋅x₁⋅x₄⋅x₆⋅x₇ + 4⋅x₁⋅x₅⋅x₆⋅x₇ + 3⋅x₂⋅x₃⋅x₄⋅x₅ \n",
       "\n",
       "                                                                              \n",
       "+ 3⋅x₂⋅x₃⋅x₄⋅x₆ + 4⋅x₂⋅x₃⋅x₄⋅x₇ + 4⋅x₂⋅x₃⋅x₅⋅x₆ + 3⋅x₂⋅x₃⋅x₅⋅x₇ + 3⋅x₂⋅x₃⋅x₆⋅x\n",
       "\n",
       "                                                                              \n",
       "₇ + 3⋅x₂⋅x₄⋅x₅⋅x₆ + 3⋅x₂⋅x₄⋅x₅⋅x₇ + 3⋅x₂⋅x₄⋅x₆⋅x₇ + 3⋅x₂⋅x₅⋅x₆⋅x₇ + 3⋅x₃⋅x₄⋅x₅\n",
       "\n",
       "                                                                              \n",
       "⋅x₆ + 3⋅x₃⋅x₄⋅x₅⋅x₇ + 3⋅x₃⋅x₄⋅x₆⋅x₇ + 3⋅x₃⋅x₅⋅x₆⋅x₇) + z⋅(4⋅x₁⋅x₂⋅x₃⋅x₅⋅x₆ + 4\n",
       "\n",
       "                                                                              \n",
       "⋅x₁⋅x₂⋅x₃⋅x₅⋅x₇ + 4⋅x₁⋅x₂⋅x₃⋅x₆⋅x₇ + 4⋅x₁⋅x₂⋅x₄⋅x₅⋅x₆ + 4⋅x₁⋅x₂⋅x₄⋅x₅⋅x₇ + 4⋅x\n",
       "\n",
       "                                                                              \n",
       "₁⋅x₂⋅x₄⋅x₆⋅x₇ + 4⋅x₁⋅x₂⋅x₅⋅x₆⋅x₇ + 4⋅x₁⋅x₃⋅x₄⋅x₅⋅x₆ + 4⋅x₁⋅x₃⋅x₄⋅x₅⋅x₇ + 4⋅x₁⋅\n",
       "\n",
       "                                                                              \n",
       "x₃⋅x₄⋅x₆⋅x₇ + 4⋅x₁⋅x₃⋅x₅⋅x₆⋅x₇ + 4⋅x₂⋅x₃⋅x₄⋅x₅⋅x₆ + 4⋅x₂⋅x₃⋅x₄⋅x₅⋅x₇ + 4⋅x₂⋅x₃\n",
       "\n",
       "                             \n",
       "⋅x₄⋅x₆⋅x₇ + 4⋅x₂⋅x₃⋅x₅⋅x₆⋅x₇)"
      ]
     },
     "execution_count": 214,
     "metadata": {},
     "output_type": "execute_result"
    }
   ],
   "source": [
    "edges = [(0,1), (1,3), (0,2), (3,2), (3,5), (2,4), (4,5)]\n",
    "S = kirchhoff_poly(edges,[0,1,4,5])#\n",
    "#s = __W__(S, order=1, max_index=7)\n",
    "S\n",
    "#s"
   ]
  },
  {
   "cell_type": "code",
   "execution_count": 213,
   "metadata": {},
   "outputs": [
    {
     "data": {
      "image/png": "[encoded data removed]",
      "text/latex": [
       "$$\\left ( x_{1} x_{4} + x_{1} x_{5} + x_{1} x_{6} + x_{1} x_{7} + x_{2} x_{4} + x_{2} x_{5} + x_{2} x_{6} + x_{2} x_{7} + x_{3} x_{4} + x_{3} x_{5} + x_{3} x_{6} + x_{3} x_{7} + x_{4} x_{5} + x_{4} x_{6} + x_{4} x_{7}, \\quad x_{1} x_{2} x_{4} + x_{1} x_{2} x_{5} + x_{1} x_{2} x_{6} + x_{1} x_{2} x_{7} + x_{1} x_{3} x_{4} + x_{1} x_{3} x_{5} + x_{1} x_{3} x_{6} + x_{1} x_{3} x_{7} + x_{1} x_{4} x_{5} + x_{1} x_{4} x_{6} + x_{1} x_{4} x_{7} + x_{1} x_{5} x_{6} + x_{1} x_{5} x_{7} + x_{1} x_{6} x_{7} + x_{2} x_{3} x_{4} + x_{2} x_{3} x_{5} + x_{2} x_{3} x_{6} + x_{2} x_{3} x_{7} + x_{2} x_{4} x_{6} + x_{2} x_{4} x_{7} + x_{2} x_{5} x_{6} + x_{2} x_{5} x_{7} + x_{2} x_{6} x_{7} + x_{3} x_{4} x_{5} + x_{3} x_{4} x_{7} + x_{3} x_{5} x_{6} + x_{3} x_{5} x_{7} + x_{3} x_{6} x_{7} + x_{4} x_{5} x_{6} + x_{4} x_{5} x_{7} + x_{4} x_{6} x_{7}\\right )$$"
      ],
      "text/plain": [
       "(x₁⋅x₄ + x₁⋅x₅ + x₁⋅x₆ + x₁⋅x₇ + x₂⋅x₄ + x₂⋅x₅ + x₂⋅x₆ + x₂⋅x₇ + x₃⋅x₄ + x₃⋅x₅\n",
       " + x₃⋅x₆ + x₃⋅x₇ + x₄⋅x₅ + x₄⋅x₆ + x₄⋅x₇, x₁⋅x₂⋅x₄ + x₁⋅x₂⋅x₅ + x₁⋅x₂⋅x₆ + x₁⋅\n",
       "x₂⋅x₇ + x₁⋅x₃⋅x₄ + x₁⋅x₃⋅x₅ + x₁⋅x₃⋅x₆ + x₁⋅x₃⋅x₇ + x₁⋅x₄⋅x₅ + x₁⋅x₄⋅x₆ + x₁⋅x\n",
       "₄⋅x₇ + x₁⋅x₅⋅x₆ + x₁⋅x₅⋅x₇ + x₁⋅x₆⋅x₇ + x₂⋅x₃⋅x₄ + x₂⋅x₃⋅x₅ + x₂⋅x₃⋅x₆ + x₂⋅x₃\n",
       "⋅x₇ + x₂⋅x₄⋅x₆ + x₂⋅x₄⋅x₇ + x₂⋅x₅⋅x₆ + x₂⋅x₅⋅x₇ + x₂⋅x₆⋅x₇ + x₃⋅x₄⋅x₅ + x₃⋅x₄⋅\n",
       "x₇ + x₃⋅x₅⋅x₆ + x₃⋅x₅⋅x₇ + x₃⋅x₆⋅x₇ + x₄⋅x₅⋅x₆ + x₄⋅x₅⋅x₇ + x₄⋅x₆⋅x₇)"
      ]
     },
     "execution_count": 213,
     "metadata": {},
     "output_type": "execute_result"
    }
   ],
   "source": [
    "graph_polynomials([(0,1), (1,3), (0,2), (3,2), (3,5), (2,4), (4,5)], \n",
    "                  [0,1,4,5])"
   ]
  },
  {
   "cell_type": "code",
   "execution_count": 284,
   "metadata": {},
   "outputs": [
    {
     "data": {
      "image/png": "[encoded data removed]",
      "text/latex": [
       "$$\\left [ k_{1} + p_{1} + q_{1} = 0, \\quad p_{2} + q_{1} + q_{2} = 0, \\quad k_{1} + k_{2} + q_{4} = 0, \\quad q_{2} + q_{4} + q_{5} = 0, \\quad k_{2} + p_{3} + q_{7} = 0, \\quad p_{4} + q_{5} + q_{7} = 0\\right ]$$"
      ],
      "text/plain": [
       "[k₁ + p₁ + q₁ = 0, p₂ + q₁ + q₂ = 0, k₁ + k₂ + q₄ = 0, q₂ + q₄ + q₅ = 0, k₂ + \n",
       "p₃ + q₇ = 0, p₄ + q₅ + q₇ = 0]"
      ]
     },
     "execution_count": 284,
     "metadata": {},
     "output_type": "execute_result"
    }
   ],
   "source": [
    "edges = [(0,1), (1,3), (0,2), (3,2), (3,5), (2,4), (4,5)]\n",
    "L = len(edges)\n",
    "inc_fll = edges_to_incidence(edges,[0,1,4,5] )\n",
    "E = len(edges) - L\n",
    "fix_k = [2,5]\n",
    "statements = []\n",
    "keep_symbols = []\n",
    "def smart_symbol(i):\n",
    "    if i in fix_k: return Symbol(\"k\"+str(i%2 + 1 ))\n",
    "    if i >= L:  return Symbol(\"p\"+str(i%L+1))#silly,assuming external spill is smaller than q list\n",
    "    S = Symbol(\"q\"+str(i+1))\n",
    "    keep_symbols.append(S)\n",
    "    return S\n",
    "                \n",
    "for row in inc_fll[:-1]:\n",
    "    non_zero = list(np.where(row!=0)[0])\n",
    "    s = reduce(add, [ smart_symbol(i) for i in non_zero],0)\n",
    "    statements.append(Eq(s,0))\n",
    "statements\n",
    "#check the actually indexing for this example - have we got the right terms"
   ]
  },
  {
   "cell_type": "code",
   "execution_count": 287,
   "metadata": {},
   "outputs": [
    {
     "data": {
      "image/png": "[encoded data removed]",
      "text/latex": [
       "$$\\left [ \\right ]$$"
      ],
      "text/plain": [
       "[]"
      ]
     },
     "execution_count": 287,
     "metadata": {},
     "output_type": "execute_result"
    }
   ],
   "source": [
    "#we want to write all the qs in terms of the non qs\n",
    "solve(statements,list(set(keep_symbols)))"
   ]
  },
  {
   "cell_type": "code",
   "execution_count": 286,
   "metadata": {},
   "outputs": [
    {
     "data": {
      "image/png": "[encoded data removed]",
      "text/latex": [
       "$$\\left\\{q_{1}, q_{2}, q_{4}, q_{5}, q_{7}\\right\\}$$"
      ],
      "text/plain": [
       "set([q₁, q₂, q₄, q₅, q₇])"
      ]
     },
     "execution_count": 286,
     "metadata": {},
     "output_type": "execute_result"
    }
   ],
   "source": [
    "set(keep_symbols)"
   ]
  },
  {
   "cell_type": "code",
   "execution_count": null,
   "metadata": {
    "collapsed": true
   },
   "outputs": [],
   "source": []
  }
 ],
 "metadata": {
  "kernelspec": {
   "display_name": "Python 3",
   "language": "python",
   "name": "python3"
  },
  "language_info": {
   "codemirror_mode": {
    "name": "ipython",
    "version": 3
   },
   "file_extension": ".py",
   "mimetype": "text/x-python",
   "name": "python",
   "nbconvert_exporter": "python",
   "pygments_lexer": "ipython3",
   "version": "3.6.3"
  }
 },
 "nbformat": 4,
 "nbformat_minor": 2
}
