{
 "cells": [
  {
   "cell_type": "code",
   "execution_count": 4,
   "metadata": {
    "collapsed": true
   },
   "outputs": [],
   "source": [
    "import numpy as np \n",
    "import pandas as pd\n",
    "import numba\n",
    "from numba import vectorize, float64\n",
    "\n",
    "@vectorize([float64(float64, float64)])\n",
    "def f(x, y):\n",
    "    return x + y"
   ]
  },
  {
   "cell_type": "code",
   "execution_count": 6,
   "metadata": {},
   "outputs": [
    {
     "data": {
      "text/plain": [
       "array([  0.,   2.,   4.,   6.,   8.,  10.,  12.,  14.,  16.,  18.,  20.,\n",
       "        22.,  24.,  26.,  28.,  30.,  32.,  34.,  36.,  38.,  40.,  42.,\n",
       "        44.,  46.,  48.,  50.,  52.,  54.,  56.,  58.,  60.,  62.,  64.,\n",
       "        66.,  68.,  70.,  72.,  74.,  76.,  78.,  80.,  82.,  84.,  86.,\n",
       "        88.,  90.,  92.,  94.,  96.,  98., 100., 102., 104., 106., 108.,\n",
       "       110., 112., 114., 116., 118., 120., 122., 124., 126., 128., 130.,\n",
       "       132., 134., 136., 138., 140., 142., 144., 146., 148., 150., 152.,\n",
       "       154., 156., 158., 160., 162., 164., 166., 168., 170., 172., 174.,\n",
       "       176., 178., 180., 182., 184., 186., 188., 190., 192., 194., 196.,\n",
       "       198.])"
      ]
     },
     "execution_count": 6,
     "metadata": {},
     "output_type": "execute_result"
    }
   ],
   "source": [
    "a = np.arange(100)\n",
    "f(a,a)"
   ]
  },
  {
   "cell_type": "code",
   "execution_count": 14,
   "metadata": {},
   "outputs": [
    {
     "data": {
      "text/plain": [
       "282.0"
      ]
     },
     "execution_count": 14,
     "metadata": {},
     "output_type": "execute_result"
    }
   ],
   "source": [
    "@numba.jit\n",
    "def sum2d(arr):\n",
    "    M, N = arr.shape\n",
    "    result = 0.0\n",
    "    for i in range(M):\n",
    "        for j in range(N):\n",
    "            result += arr[i,j]\n",
    "    return result\n",
    "\n",
    "ar = np.array([[1,5,76,7,4,48],[1,5,76,7,4,48]])\n",
    "sum2d(ar)"
   ]
  },
  {
   "cell_type": "code",
   "execution_count": 15,
   "metadata": {},
   "outputs": [
    {
     "data": {
      "text/plain": [
       "282"
      ]
     },
     "execution_count": 15,
     "metadata": {},
     "output_type": "execute_result"
    }
   ],
   "source": [
    "ar.sum()"
   ]
  },
  {
   "cell_type": "code",
   "execution_count": 9,
   "metadata": {
    "collapsed": true
   },
   "outputs": [],
   "source": [
    "class model_instance(object):\n",
    "    def __init__(self,name, reaction_system, graph_builder, properties= {}):\n",
    "        #actually i will load these default properites from a file somewhere\n",
    "        self._p = {\n",
    "            \"time_steps\" : 100, \n",
    "            \"graph_size\" : (100,100)\n",
    "            #graph carrying capacities, \n",
    "        }\n",
    "        self._p.update(properties)\n",
    "            \n",
    "        self._r = reaction_system \n",
    "        self._s = statistics(self._p)\n",
    "        self._g = graph(self._p[\"graph_size\"], graph_builder, self._p)\n",
    "        self._max_time_units = self.get[\"time_steps\"]\n",
    "        self._t = self._max_time_units #pedentry - requires build\n",
    "        \n",
    "    def __get__(self,k):  return self._p[k] if k in self._p else None\n",
    "    \n",
    "    def flush(self):self._s.flush()\n",
    "    \n",
    "    def update(self,v):  \n",
    "        #update statistics and advance time\n",
    "        self._s.update(self._t, v)  \n",
    "        self._t = self._t+1\n",
    "        \n",
    "    def sample(self,n=1):self.__sample__(self._n)\n",
    "        \n",
    "    def __build__(self):   \n",
    "        self._t = 0\n",
    "        self._s.init()\n",
    "        return self._g.init(), self._r\n",
    "    \n",
    "    #tis needs to be fast thing\n",
    "    #what is the pattern for creating a python saffold around something that has a pure C or similar time loop?\n",
    "    #a speed test could benchmark on just the random stats modeule update first - this has all the ingredients i.e. tensor access\n",
    "    def __sample__(self,n):\n",
    "        for i in range(n):\n",
    "            graph, reaction_system = self.__build__()\n",
    "            while self._t < self._max_time_units:\n",
    "                for v in graph.active_vertices():#randomly sampled\n",
    "                    delta = reaction_system.sample(v)\n",
    "                    delta = graph.update(delta)\n",
    "                    self.update(delta)\n",
    "            self.flush()\n",
    "\n",
    "def graph(object):\n",
    "    def __init__(self,size,builder=None,properties={}):\n",
    "        pass #bulder=none allowed because we default to lattice\n",
    "    \n",
    "    def active_vertices(self, random=True):\n",
    "        pass\n",
    "    \n",
    "    def init(self):\n",
    "        #should have some lazy option\n",
    "        return self\n",
    "\n",
    "def reaction_system(object):\n",
    "    def __init__(self, tensor, rates, properties={}):\n",
    "        pass\n",
    "    \n",
    "    def sample(self,v):\n",
    "        pass #for this vertex, what is the reult of applying a randomly sampled reaction\n",
    "        \n",
    "class model(object):\n",
    "    def __init__(self, name, reaction_system, graph=None, properties= {}):\n",
    "        pass\n",
    "    \n",
    "    def parameter_space(self,props={}):\n",
    "        pass\n",
    "    \n",
    "    def load(e):pass\n",
    "    \n",
    "    #def __iter__(self): iter(self.parameter_space)\n",
    "    \n"
   ]
  },
  {
   "cell_type": "code",
   "execution_count": 18,
   "metadata": {},
   "outputs": [
    {
     "data": {
      "image/png": "[encoded data removed]",
      "text/latex": [
       "$$\\left[\\begin{matrix}0 & 1 & 0 & 0 & 1\\\\1 & 0 & 1 & 0 & 1\\\\0 & 1 & 0 & 1 & 0\\\\0 & 0 & 1 & 0 & 1\\\\1 & 1 & 0 & 1 & 0\\end{matrix}\\right]$$"
      ],
      "text/plain": [
       "⎡0  1  0  0  1⎤\n",
       "⎢             ⎥\n",
       "⎢1  0  1  0  1⎥\n",
       "⎢             ⎥\n",
       "⎢0  1  0  1  0⎥\n",
       "⎢             ⎥\n",
       "⎢0  0  1  0  1⎥\n",
       "⎢             ⎥\n",
       "⎣1  1  0  1  0⎦"
      ]
     },
     "execution_count": 18,
     "metadata": {},
     "output_type": "execute_result"
    }
   ],
   "source": [
    "ar = np.array([\n",
    "    [0,1,0,0,1],\n",
    "    [1,0,1,0,1],\n",
    "    [0,1,0,1,0],\n",
    "    [0,0,1,0,1],\n",
    "    [1,1,0,1,0],\n",
    "])\n",
    "\n",
    "from sympy import *\n",
    "init_printing()\n",
    "Matrix(ar)"
   ]
  },
  {
   "cell_type": "code",
   "execution_count": 25,
   "metadata": {},
   "outputs": [
    {
     "data": {
      "image/png": "[encoded data removed]",
      "text/latex": [
       "$$\\left[\\begin{matrix}2 & -1 & 0 & 0 & -1\\\\-1 & 3 & -1 & 0 & -1\\\\0 & -1 & 2 & -1 & 0\\\\0 & 0 & -1 & 2 & -1\\\\-1 & -1 & 0 & -1 & 3\\end{matrix}\\right]$$"
      ],
      "text/plain": [
       "⎡2   -1  0   0   -1⎤\n",
       "⎢                  ⎥\n",
       "⎢-1  3   -1  0   -1⎥\n",
       "⎢                  ⎥\n",
       "⎢0   -1  2   -1  0 ⎥\n",
       "⎢                  ⎥\n",
       "⎢0   0   -1  2   -1⎥\n",
       "⎢                  ⎥\n",
       "⎣-1  -1  0   -1  3 ⎦"
      ]
     },
     "execution_count": 25,
     "metadata": {},
     "output_type": "execute_result"
    }
   ],
   "source": [
    "L = (ar.sum(1)*np.eye(5)).astype(np.int) - ar\n",
    "Matrix(L)"
   ]
  },
  {
   "cell_type": "code",
   "execution_count": null,
   "metadata": {
    "collapsed": true
   },
   "outputs": [],
   "source": []
  },
  {
   "cell_type": "code",
   "execution_count": 17,
   "metadata": {},
   "outputs": [
    {
     "data": {
      "image/png": "[encoded data removed]",
      "text/latex": [
       "$$\\left[\\begin{matrix}1 & 0 & 0 & 0 & 1 & 0\\\\-1 & 1 & 0 & 0 & 0 & 1\\\\0 & -1 & 1 & 0 & 0 & 0\\\\0 & 0 & -1 & 1 & 0 & 0\\\\0 & 0 & 0 & -1 & -1 & -1\\end{matrix}\\right]$$"
      ],
      "text/plain": [
       "⎡1   0   0   0   1   0 ⎤\n",
       "⎢                      ⎥\n",
       "⎢-1  1   0   0   0   1 ⎥\n",
       "⎢                      ⎥\n",
       "⎢0   -1  1   0   0   0 ⎥\n",
       "⎢                      ⎥\n",
       "⎢0   0   -1  1   0   0 ⎥\n",
       "⎢                      ⎥\n",
       "⎣0   0   0   -1  -1  -1⎦"
      ]
     },
     "execution_count": 17,
     "metadata": {},
     "output_type": "execute_result"
    }
   ],
   "source": [
    "ar = np.array([\n",
    "    [1,0,0,0,1,0],\n",
    "    [-1,1,0,0,0,1],\n",
    "    [0,-1,1,0,0,0],\n",
    "    [0,0,-1,1,0,0],\n",
    "    [0,0,0,-1,-1,-1],\n",
    "])\n",
    "Matrix(ar)"
   ]
  },
  {
   "cell_type": "code",
   "execution_count": null,
   "metadata": {
    "collapsed": true
   },
   "outputs": [],
   "source": []
  },
  {
   "cell_type": "code",
   "execution_count": 8,
   "metadata": {},
   "outputs": [],
   "source": [
    "class statistics(object):\n",
    "    def __init__(self,properties={}):\n",
    "        size = None # this needs to be computed and choose a sensible tensor order\n",
    "        self._page = np.array(size,np.float)\n",
    "        #construct a tensor which is the size of the time axis * 8 moments * each observable that we are tracking\n",
    "        self._num_obs = 1\n",
    "        self._last_t = 0\n",
    "        \n",
    "    def init():\n",
    "        #and do flush check\n",
    "        return self\n",
    "\n",
    "    def save(self, file=None):\n",
    "        #fastest way to dump the page to disk in a way pandas will be able to get it back\n",
    "        #could put it on another thread and get on with the next chunk but whatever\n",
    "        pass\n",
    "    \n",
    "    @numba.jit\n",
    "    def update(self, t, v):\n",
    "        for o in range(self._num_obs):\n",
    "            for m in range(9):   self._page[o][m][t] = v[o]**m\n",
    "\n",
    "    @numba.jit\n",
    "    def flush(self):\n",
    "        for o in range(self._num_obs):\n",
    "            for m in range(9):     \n",
    "                #get the last value for this time for each observable\n",
    "                val = self._page[o][m][self._last_t]\n",
    "                ar = self._page[o][m]\n",
    "                #then fill all nan values with this last computed value \n",
    "                ar[np.where(np.isnan(a))] = val            \n",
    "        self.save()\n",
    "                \n",
    "    \n",
    "#stats module time loop test\n",
    "#create a numpy tensor wrapper with functions and make it avaialble to another object which is itself fast"
   ]
  },
  {
   "cell_type": "code",
   "execution_count": null,
   "metadata": {
    "collapsed": true
   },
   "outputs": [],
   "source": []
  }
 ],
 "metadata": {
  "kernelspec": {
   "display_name": "Python 3",
   "language": "python",
   "name": "python3"
  },
  "language_info": {
   "codemirror_mode": {
    "name": "ipython",
    "version": 3
   },
   "file_extension": ".py",
   "mimetype": "text/x-python",
   "name": "python",
   "nbconvert_exporter": "python",
   "pygments_lexer": "ipython3",
   "version": "3.6.3"
  }
 },
 "nbformat": 4,
 "nbformat_minor": 2
}
