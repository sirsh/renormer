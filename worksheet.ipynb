{
 "cells": [
  {
   "cell_type": "code",
   "execution_count": null,
   "metadata": {},
   "outputs": [],
   "source": [
    "import rg\n",
    "from rg.diagrams import diagram, composition_diagram, diagram_set\n",
    "from rg.interaction import interaction as J \n",
    "from rg.interaction import interaction_identity\n",
    "from rg.interaction import interaction_system\n",
    "from rg.interaction import composite_interaction as G\n",
    "from rg.theory import ftheory"
   ]
  },
  {
   "cell_type": "markdown",
   "metadata": {},
   "source": [
    "# Example representations\n",
    "Here we show the matrix form for adding fields for arbitrary number of species (1 row per species). We display the latex symbols and also the diagrams\n",
    "\n",
    "The diagrams are of the residuals so loops/internal structure are not shown here (see the composite examples later where we look at internal structure). \n",
    "\n",
    "The & operator or * operator (todo) are both used as diagram products allowing diagrams to be merged"
   ]
  },
  {
   "cell_type": "code",
   "execution_count": null,
   "metadata": {},
   "outputs": [],
   "source": [
    "j = J([[1,1], \n",
    "       [2,0]])\n",
    "j"
   ]
  },
  {
   "cell_type": "code",
   "execution_count": null,
   "metadata": {},
   "outputs": [],
   "source": [
    "j.diagram"
   ]
  },
  {
   "cell_type": "code",
   "execution_count": null,
   "metadata": {},
   "outputs": [],
   "source": [
    "transmutation = J([[1,0],[0,1]])\n",
    "transmutation.diagram"
   ]
  },
  {
   "cell_type": "code",
   "execution_count": null,
   "metadata": {},
   "outputs": [],
   "source": [
    "coagulation = J([[2,1],[0,0]])\n",
    "coagulation.diagram"
   ]
  },
  {
   "cell_type": "code",
   "execution_count": null,
   "metadata": {},
   "outputs": [],
   "source": [
    "branching = J([[1,2],[0,0]])\n",
    "branching.diagram\n",
    "#branching"
   ]
  },
  {
   "cell_type": "code",
   "execution_count": null,
   "metadata": {},
   "outputs": [],
   "source": [
    "branching.tensor"
   ]
  },
  {
   "cell_type": "code",
   "execution_count": null,
   "metadata": {},
   "outputs": [],
   "source": [
    "(branching&coagulation).diagram"
   ]
  },
  {
   "cell_type": "code",
   "execution_count": null,
   "metadata": {},
   "outputs": [],
   "source": [
    "(coagulation&branching).diagram"
   ]
  },
  {
   "cell_type": "code",
   "execution_count": null,
   "metadata": {},
   "outputs": [],
   "source": [
    "(branching&j).diagram"
   ]
  },
  {
   "cell_type": "markdown",
   "metadata": {},
   "source": [
    "# Dimensional Analysis\n",
    "For dimensional analysis one construct a system of terms, each term is an interaction J.\n",
    "\n",
    "One proposes known coupling values e.g. known dimensions of propagators \n",
    "\n",
    "the ftheory class permutes all non fixed couplings, proposing that permutations P(n,k) are dimensionless - each permutation creates a theory\n",
    "\n",
    "A theory fixes the dimension of fields and all couplings. The theories can then be compared and chcked via the ftheory class"
   ]
  },
  {
   "cell_type": "code",
   "execution_count": null,
   "metadata": {},
   "outputs": [],
   "source": [
    "#blank -> tilde\n",
    "#BRW0\n",
    "interactions = [\n",
    " J([[1,1],[0,0]]),\n",
    " J([[0,0],[1,1]]),\n",
    " J([[1,0],[0,1]]), #tau \n",
    " J([[1,2],[0,0]]), #s\n",
    " J([[1,1],[0,1]]), #quasi-branch sigma\n",
    " J([[1,1],[1,1]]), #kappa\n",
    " J([[1,0],[1,1]]), #lambda\n",
    " ]\n",
    "\n",
    "#BWS1 - #add two more terms chi and eta\n",
    "interactions = interactions +  [\n",
    " J([[0,1],[1,2]]), #\n",
    " J([[1,0],[1,2]]), #   \n",
    "]\n",
    "\n",
    "#VRS - add two more terms annhilation\n",
    "interactions = interactions +  [\n",
    " J([[1,1],[1,0]]), #\n",
    " J([[2,1],[0,1]]), #   \n",
    "]\n",
    "\n",
    "#display\n",
    "[j.display() for j in interactions]"
   ]
  },
  {
   "cell_type": "code",
   "execution_count": null,
   "metadata": {},
   "outputs": [],
   "source": [
    "Lambda = rg.T**(-1) # L**(-1*dim)\n",
    "new_couplings = {J([ [0,0],  [1,1]] ): Lambda, #[field]*lambda is the inverse measure\n",
    "                 J([ [1,1],  [0,0]] ): Lambda, }\n",
    "\n",
    "#example theory\n",
    "FT = ftheory(new_couplings, \n",
    "             dimensionless=[J([ [1,2],  [0,0]] ), \n",
    "                            J([ [1,1],  [0,1]] )  ])\n",
    "FT.display()"
   ]
  },
  {
   "cell_type": "code",
   "execution_count": null,
   "metadata": {},
   "outputs": [],
   "source": [
    "FT.interpret_dimensions(interactions)"
   ]
  },
  {
   "cell_type": "code",
   "execution_count": null,
   "metadata": {},
   "outputs": [],
   "source": [
    "FT.interpret_couplings(interactions, l_power_dim=4)"
   ]
  },
  {
   "cell_type": "code",
   "execution_count": null,
   "metadata": {},
   "outputs": [],
   "source": [
    "#we can create a bunch of theories by permuting dimensionless couplings given the input known field dimensions and all terms\n",
    "cs  = ftheory.theories(interactions, new_couplings)"
   ]
  },
  {
   "cell_type": "code",
   "execution_count": null,
   "metadata": {},
   "outputs": [],
   "source": [
    "#we can display a matrix for all theories for the values of the fields \\phi_0, \\tilde{\\phi}_0, \\phi_1, \\tilde{\\phi_1}\n",
    "ftheory.matrices(cs).general_form"
   ]
  },
  {
   "cell_type": "code",
   "execution_count": null,
   "metadata": {},
   "outputs": [],
   "source": [
    "#and we can evalaute the values at a certain d, last column is the inverse measure L^dT^1 with T=L^2 at d=d_c\n",
    "ftheory.matrices(cs).criterion(4)"
   ]
  },
  {
   "cell_type": "code",
   "execution_count": null,
   "metadata": {},
   "outputs": [],
   "source": [
    "diagram_set([G(branching)*G(transmutation),G(branching)*G(coagulation)])"
   ]
  },
  {
   "cell_type": "code",
   "execution_count": null,
   "metadata": {},
   "outputs": [],
   "source": [
    "G(branching)*G(transmutation)"
   ]
  },
  {
   "cell_type": "code",
   "execution_count": null,
   "metadata": {},
   "outputs": [],
   "source": [
    "G(branching)*G(coagulation)"
   ]
  },
  {
   "cell_type": "code",
   "execution_count": null,
   "metadata": {},
   "outputs": [],
   "source": [
    "G(branching)*G(transmutation)*G(j)"
   ]
  },
  {
   "cell_type": "code",
   "execution_count": null,
   "metadata": {},
   "outputs": [],
   "source": [
    " (G(branching)*G(transmutation)*G(j)).residual_interaction.diagram"
   ]
  },
  {
   "cell_type": "code",
   "execution_count": null,
   "metadata": {
    "collapsed": true
   },
   "outputs": [],
   "source": [
    "#IS.__display_interaction_dims__()"
   ]
  },
  {
   "cell_type": "markdown",
   "metadata": {
    "collapsed": true
   },
   "source": [
    "# Additional tree-level diagrams"
   ]
  },
  {
   "cell_type": "code",
   "execution_count": null,
   "metadata": {
    "collapsed": true
   },
   "outputs": [],
   "source": [
    "#do permutations of some order with an and-reduction plus validation. if the pairings greater than 1, set is loop and dont yield for this order\n",
    "compound_interaction(branching,coagulation)"
   ]
  },
  {
   "cell_type": "code",
   "execution_count": null,
   "metadata": {
    "collapsed": true
   },
   "outputs": [],
   "source": [
    "(j&transmutation&branching).diagram"
   ]
  },
  {
   "cell_type": "code",
   "execution_count": null,
   "metadata": {
    "collapsed": true
   },
   "outputs": [],
   "source": [
    "prims = [j, transmutation, coagulation, branching]\n",
    "L = compound_interaction.combinations(prims, loop_orders=[0])\n",
    "L[0]"
   ]
  },
  {
   "cell_type": "markdown",
   "metadata": {},
   "source": [
    "# All 1-loop diagrams"
   ]
  },
  {
   "cell_type": "code",
   "execution_count": null,
   "metadata": {
    "collapsed": true
   },
   "outputs": [],
   "source": [
    "compound_interaction(coagulation, branching)\n",
    "#once we figure out the integrals we can give them values and do z factors"
   ]
  },
  {
   "cell_type": "code",
   "execution_count": null,
   "metadata": {
    "collapsed": true
   },
   "outputs": [],
   "source": [
    "prims = [j, transmutation, coagulation, branching]\n",
    "L = compound_interaction.combinations(prims, loop_orders=[1])\n",
    "L[0]"
   ]
  },
  {
   "cell_type": "code",
   "execution_count": null,
   "metadata": {
    "collapsed": true
   },
   "outputs": [],
   "source": []
  },
  {
   "cell_type": "code",
   "execution_count": null,
   "metadata": {
    "collapsed": true
   },
   "outputs": [],
   "source": []
  }
 ],
 "metadata": {
  "kernelspec": {
   "display_name": "Python 3",
   "language": "python",
   "name": "python3"
  },
  "language_info": {
   "codemirror_mode": {
    "name": "ipython",
    "version": 3
   },
   "file_extension": ".py",
   "mimetype": "text/x-python",
   "name": "python",
   "nbconvert_exporter": "python",
   "pygments_lexer": "ipython3",
   "version": "3.6.3"
  }
 },
 "nbformat": 4,
 "nbformat_minor": 2
}
