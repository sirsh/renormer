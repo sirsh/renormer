{
 "cells": [
  {
   "cell_type": "code",
   "execution_count": 128,
   "metadata": {
    "collapsed": true
   },
   "outputs": [],
   "source": [
    "import rg\n",
    "from rg.diagrams import diagram\n",
    "from rg.interaction import interaction as J \n",
    "from rg.interaction import interaction_identity\n",
    "from rg.interaction import interaction_system\n",
    "from rg.interaction import compound_interaction"
   ]
  },
  {
   "cell_type": "markdown",
   "metadata": {},
   "source": [
    "# Example representations"
   ]
  },
  {
   "cell_type": "code",
   "execution_count": 129,
   "metadata": {},
   "outputs": [
    {
     "data": {
      "text/latex": [
       "$\\phi_0 \\phi_1^{2} \\tilde{\\phi}_0$"
      ],
      "text/plain": [
       "$\\phi_0 \\phi_1^{2} \\tilde{\\phi}_0$"
      ]
     },
     "execution_count": 129,
     "metadata": {},
     "output_type": "execute_result"
    }
   ],
   "source": [
    "j = J([[1,1], \n",
    "       [2,0]])\n",
    "j"
   ]
  },
  {
   "cell_type": "code",
   "execution_count": 130,
   "metadata": {},
   "outputs": [
    {
     "data": {
      "text/html": [
       "<svg xmlns=\"http://www.w3.org/2000/svg\" xmlns:xlink=\"http://www.w3.org/1999/xlink\" version=\"1.1\" x=\"0\" y=\"0\" width=\"240\" height=\"120\">\n",
       "      <g fill=\"none\" stroke=\"black\" stroke-width=\"1.6\" stroke-linecap=\"round\">\n",
       "         <line x1=\"0\" y1=\"0\" x2=\"40\" y2=\"0\" stroke=\"red\" stroke-dasharray=\"None\" stroke-width:2\" transform=\" translate(80,50) rotate(-45.0 0, 0 )\" />  <path d=\"M 0,0 C 2,-3.142 3,-5 5,-5 S 8,-3.142 10,0 S 13,5 15,5 S 18,3.142 20,0 C 22,-3.142 23,-5 25,-5 S 28,-3.142 30,0 S 33,5 35,5 S 38,3.142 40,0\" \n",
       "                       stroke=\"black\" stroke-dasharray=\"None\" stroke-width:2\" transform=\" translate(80,50) rotate(0.0 0, 0 )\" />  <path d=\"M 0,0 C 2,-3.142 3,-5 5,-5 S 8,-3.142 10,0 S 13,5 15,5 S 18,3.142 20,0 C 22,-3.142 23,-5 25,-5 S 28,-3.142 30,0 S 33,5 35,5 S 38,3.142 40,0\" \n",
       "                       stroke=\"black\" stroke-dasharray=\"None\" stroke-width:2\" transform=\" translate(80,50) rotate(45.0 0, 0 )\" />  <line x1=\"0\" y1=\"0\" x2=\"40\" y2=\"0\" stroke=\"red\" stroke-dasharray=\"None\" stroke-width:2\" transform=\" translate(80,50) rotate(-180.0 0, 0 )\" /> \n",
       "      </g>\n",
       "      <circle cx=\"80\" cy=\"50\" r=\"2\" stroke=\"black\" stroke-width=\"1\" fill=\"black\" />\n",
       "    </svg>"
      ],
      "text/plain": [
       "<svg xmlns=\"http://www.w3.org/2000/svg\" xmlns:xlink=\"http://www.w3.org/1999/xlink\" version=\"1.1\" x=\"0\" y=\"0\" width=\"240\" height=\"120\">\n",
       "      <g fill=\"none\" stroke=\"black\" stroke-width=\"1.6\" stroke-linecap=\"round\">\n",
       "         <line x1=\"0\" y1=\"0\" x2=\"40\" y2=\"0\" stroke=\"red\" stroke-dasharray=\"None\" stroke-width:2\" transform=\" translate(80,50) rotate(-45.0 0, 0 )\" />  <path d=\"M 0,0 C 2,-3.142 3,-5 5,-5 S 8,-3.142 10,0 S 13,5 15,5 S 18,3.142 20,0 C 22,-3.142 23,-5 25,-5 S 28,-3.142 30,0 S 33,5 35,5 S 38,3.142 40,0\" \n",
       "                       stroke=\"black\" stroke-dasharray=\"None\" stroke-width:2\" transform=\" translate(80,50) rotate(0.0 0, 0 )\" />  <path d=\"M 0,0 C 2,-3.142 3,-5 5,-5 S 8,-3.142 10,0 S 13,5 15,5 S 18,3.142 20,0 C 22,-3.142 23,-5 25,-5 S 28,-3.142 30,0 S 33,5 35,5 S 38,3.142 40,0\" \n",
       "                       stroke=\"black\" stroke-dasharray=\"None\" stroke-width:2\" transform=\" translate(80,50) rotate(45.0 0, 0 )\" />  <line x1=\"0\" y1=\"0\" x2=\"40\" y2=\"0\" stroke=\"red\" stroke-dasharray=\"None\" stroke-width:2\" transform=\" translate(80,50) rotate(-180.0 0, 0 )\" /> \n",
       "      </g>\n",
       "      <circle cx=\"80\" cy=\"50\" r=\"2\" stroke=\"black\" stroke-width=\"1\" fill=\"black\" />\n",
       "    </svg>"
      ]
     },
     "execution_count": 130,
     "metadata": {},
     "output_type": "execute_result"
    }
   ],
   "source": [
    "j.diagram"
   ]
  },
  {
   "cell_type": "code",
   "execution_count": 131,
   "metadata": {},
   "outputs": [
    {
     "data": {
      "text/html": [
       "<svg xmlns=\"http://www.w3.org/2000/svg\" xmlns:xlink=\"http://www.w3.org/1999/xlink\" version=\"1.1\" x=\"0\" y=\"0\" width=\"240\" height=\"120\">\n",
       "      <g fill=\"none\" stroke=\"black\" stroke-width=\"1.6\" stroke-linecap=\"round\">\n",
       "         <line x1=\"0\" y1=\"0\" x2=\"40\" y2=\"0\" stroke=\"red\" stroke-dasharray=\"None\" stroke-width:2\" transform=\" translate(80,50) rotate(0.0 0, 0 )\" />  <path d=\"M 0,0 C 2,-3.142 3,-5 5,-5 S 8,-3.142 10,0 S 13,5 15,5 S 18,3.142 20,0 C 22,-3.142 23,-5 25,-5 S 28,-3.142 30,0 S 33,5 35,5 S 38,3.142 40,0\" \n",
       "                       stroke=\"black\" stroke-dasharray=\"None\" stroke-width:2\" transform=\" translate(80,50) rotate(-180.0 0, 0 )\" /> \n",
       "      </g>\n",
       "      <circle cx=\"80\" cy=\"50\" r=\"2\" stroke=\"black\" stroke-width=\"1\" fill=\"black\" />\n",
       "    </svg>"
      ],
      "text/plain": [
       "<svg xmlns=\"http://www.w3.org/2000/svg\" xmlns:xlink=\"http://www.w3.org/1999/xlink\" version=\"1.1\" x=\"0\" y=\"0\" width=\"240\" height=\"120\">\n",
       "      <g fill=\"none\" stroke=\"black\" stroke-width=\"1.6\" stroke-linecap=\"round\">\n",
       "         <line x1=\"0\" y1=\"0\" x2=\"40\" y2=\"0\" stroke=\"red\" stroke-dasharray=\"None\" stroke-width:2\" transform=\" translate(80,50) rotate(0.0 0, 0 )\" />  <path d=\"M 0,0 C 2,-3.142 3,-5 5,-5 S 8,-3.142 10,0 S 13,5 15,5 S 18,3.142 20,0 C 22,-3.142 23,-5 25,-5 S 28,-3.142 30,0 S 33,5 35,5 S 38,3.142 40,0\" \n",
       "                       stroke=\"black\" stroke-dasharray=\"None\" stroke-width:2\" transform=\" translate(80,50) rotate(-180.0 0, 0 )\" /> \n",
       "      </g>\n",
       "      <circle cx=\"80\" cy=\"50\" r=\"2\" stroke=\"black\" stroke-width=\"1\" fill=\"black\" />\n",
       "    </svg>"
      ]
     },
     "execution_count": 131,
     "metadata": {},
     "output_type": "execute_result"
    }
   ],
   "source": [
    "transmutation = J([[1,0],[0,1]])\n",
    "transmutation.diagram"
   ]
  },
  {
   "cell_type": "code",
   "execution_count": 132,
   "metadata": {},
   "outputs": [
    {
     "data": {
      "text/html": [
       "<svg xmlns=\"http://www.w3.org/2000/svg\" xmlns:xlink=\"http://www.w3.org/1999/xlink\" version=\"1.1\" x=\"0\" y=\"0\" width=\"240\" height=\"120\">\n",
       "      <g fill=\"none\" stroke=\"black\" stroke-width=\"1.6\" stroke-linecap=\"round\">\n",
       "         <line x1=\"0\" y1=\"0\" x2=\"40\" y2=\"0\" stroke=\"red\" stroke-dasharray=\"None\" stroke-width:2\" transform=\" translate(80,50) rotate(-30.0 0, 0 )\" />  <line x1=\"0\" y1=\"0\" x2=\"40\" y2=\"0\" stroke=\"red\" stroke-dasharray=\"None\" stroke-width:2\" transform=\" translate(80,50) rotate(30.0 0, 0 )\" />  <line x1=\"0\" y1=\"0\" x2=\"40\" y2=\"0\" stroke=\"red\" stroke-dasharray=\"None\" stroke-width:2\" transform=\" translate(80,50) rotate(-180.0 0, 0 )\" /> \n",
       "      </g>\n",
       "      <circle cx=\"80\" cy=\"50\" r=\"2\" stroke=\"black\" stroke-width=\"1\" fill=\"black\" />\n",
       "    </svg>"
      ],
      "text/plain": [
       "<svg xmlns=\"http://www.w3.org/2000/svg\" xmlns:xlink=\"http://www.w3.org/1999/xlink\" version=\"1.1\" x=\"0\" y=\"0\" width=\"240\" height=\"120\">\n",
       "      <g fill=\"none\" stroke=\"black\" stroke-width=\"1.6\" stroke-linecap=\"round\">\n",
       "         <line x1=\"0\" y1=\"0\" x2=\"40\" y2=\"0\" stroke=\"red\" stroke-dasharray=\"None\" stroke-width:2\" transform=\" translate(80,50) rotate(-30.0 0, 0 )\" />  <line x1=\"0\" y1=\"0\" x2=\"40\" y2=\"0\" stroke=\"red\" stroke-dasharray=\"None\" stroke-width:2\" transform=\" translate(80,50) rotate(30.0 0, 0 )\" />  <line x1=\"0\" y1=\"0\" x2=\"40\" y2=\"0\" stroke=\"red\" stroke-dasharray=\"None\" stroke-width:2\" transform=\" translate(80,50) rotate(-180.0 0, 0 )\" /> \n",
       "      </g>\n",
       "      <circle cx=\"80\" cy=\"50\" r=\"2\" stroke=\"black\" stroke-width=\"1\" fill=\"black\" />\n",
       "    </svg>"
      ]
     },
     "execution_count": 132,
     "metadata": {},
     "output_type": "execute_result"
    }
   ],
   "source": [
    "coagulation = J([[2,1],[0,0]])\n",
    "coagulation.diagram"
   ]
  },
  {
   "cell_type": "code",
   "execution_count": 133,
   "metadata": {},
   "outputs": [
    {
     "data": {
      "text/latex": [
       "$$X^{2}$$"
      ],
      "text/plain": [
       " 2\n",
       "X "
      ]
     },
     "execution_count": 133,
     "metadata": {},
     "output_type": "execute_result"
    }
   ],
   "source": [
    "import sympy\n",
    "sympy.Symbol(\"X\") **2\n"
   ]
  },
  {
   "cell_type": "code",
   "execution_count": 221,
   "metadata": {},
   "outputs": [
    {
     "data": {
      "text/html": [
       "<svg xmlns=\"http://www.w3.org/2000/svg\" xmlns:xlink=\"http://www.w3.org/1999/xlink\" version=\"1.1\" x=\"0\" y=\"0\" width=\"240\" height=\"120\">\n",
       "      <g fill=\"none\" stroke=\"black\" stroke-width=\"1.6\" stroke-linecap=\"round\">\n",
       "         <line x1=\"0\" y1=\"0\" x2=\"40\" y2=\"0\" stroke=\"red\" stroke-dasharray=\"None\" stroke-width:2\" transform=\" translate(80,50) rotate(0.0 0, 0 )\" />  <line x1=\"0\" y1=\"0\" x2=\"40\" y2=\"0\" stroke=\"red\" stroke-dasharray=\"None\" stroke-width:2\" transform=\" translate(80,50) rotate(-210.0 0, 0 )\" />  <line x1=\"0\" y1=\"0\" x2=\"40\" y2=\"0\" stroke=\"red\" stroke-dasharray=\"None\" stroke-width:2\" transform=\" translate(80,50) rotate(-150.0 0, 0 )\" /> \n",
       "      </g>\n",
       "      <circle cx=\"80\" cy=\"50\" r=\"2\" stroke=\"black\" stroke-width=\"1\" fill=\"black\" />\n",
       "    </svg>"
      ],
      "text/plain": [
       "<svg xmlns=\"http://www.w3.org/2000/svg\" xmlns:xlink=\"http://www.w3.org/1999/xlink\" version=\"1.1\" x=\"0\" y=\"0\" width=\"240\" height=\"120\">\n",
       "      <g fill=\"none\" stroke=\"black\" stroke-width=\"1.6\" stroke-linecap=\"round\">\n",
       "         <line x1=\"0\" y1=\"0\" x2=\"40\" y2=\"0\" stroke=\"red\" stroke-dasharray=\"None\" stroke-width:2\" transform=\" translate(80,50) rotate(0.0 0, 0 )\" />  <line x1=\"0\" y1=\"0\" x2=\"40\" y2=\"0\" stroke=\"red\" stroke-dasharray=\"None\" stroke-width:2\" transform=\" translate(80,50) rotate(-210.0 0, 0 )\" />  <line x1=\"0\" y1=\"0\" x2=\"40\" y2=\"0\" stroke=\"red\" stroke-dasharray=\"None\" stroke-width:2\" transform=\" translate(80,50) rotate(-150.0 0, 0 )\" /> \n",
       "      </g>\n",
       "      <circle cx=\"80\" cy=\"50\" r=\"2\" stroke=\"black\" stroke-width=\"1\" fill=\"black\" />\n",
       "    </svg>"
      ]
     },
     "execution_count": 221,
     "metadata": {},
     "output_type": "execute_result"
    }
   ],
   "source": [
    "branching = J([[1,2],[0,0]])\n",
    "branching.diagram\n",
    "#branching"
   ]
  },
  {
   "cell_type": "code",
   "execution_count": 222,
   "metadata": {},
   "outputs": [
    {
     "data": {
      "text/plain": [
       "array([[1, 2],\n",
       "       [0, 0]])"
      ]
     },
     "execution_count": 222,
     "metadata": {},
     "output_type": "execute_result"
    }
   ],
   "source": [
    "branching.tensor"
   ]
  },
  {
   "cell_type": "code",
   "execution_count": 135,
   "metadata": {},
   "outputs": [
    {
     "name": "stdout",
     "output_type": "stream",
     "text": [
      "symmetry factor: 2\n"
     ]
    },
    {
     "data": {
      "text/html": [
       "<svg xmlns=\"http://www.w3.org/2000/svg\" xmlns:xlink=\"http://www.w3.org/1999/xlink\" version=\"1.1\" x=\"0\" y=\"0\" width=\"240\" height=\"120\">\n",
       "      <g fill=\"none\" stroke=\"black\" stroke-width=\"1.6\" stroke-linecap=\"round\">\n",
       "         <line x1=\"0\" y1=\"0\" x2=\"40\" y2=\"0\" stroke=\"red\" stroke-dasharray=\"None\" stroke-width:2\" transform=\" translate(80,50) rotate(-30.0 0, 0 )\" />  <line x1=\"0\" y1=\"0\" x2=\"40\" y2=\"0\" stroke=\"red\" stroke-dasharray=\"None\" stroke-width:2\" transform=\" translate(80,50) rotate(30.0 0, 0 )\" />  <line x1=\"0\" y1=\"0\" x2=\"40\" y2=\"0\" stroke=\"red\" stroke-dasharray=\"None\" stroke-width:2\" transform=\" translate(80,50) rotate(-210.0 0, 0 )\" />  <line x1=\"0\" y1=\"0\" x2=\"40\" y2=\"0\" stroke=\"red\" stroke-dasharray=\"None\" stroke-width:2\" transform=\" translate(80,50) rotate(-150.0 0, 0 )\" /> \n",
       "      </g>\n",
       "      <circle cx=\"80\" cy=\"50\" r=\"2\" stroke=\"black\" stroke-width=\"1\" fill=\"black\" />\n",
       "    </svg>"
      ],
      "text/plain": [
       "<svg xmlns=\"http://www.w3.org/2000/svg\" xmlns:xlink=\"http://www.w3.org/1999/xlink\" version=\"1.1\" x=\"0\" y=\"0\" width=\"240\" height=\"120\">\n",
       "      <g fill=\"none\" stroke=\"black\" stroke-width=\"1.6\" stroke-linecap=\"round\">\n",
       "         <line x1=\"0\" y1=\"0\" x2=\"40\" y2=\"0\" stroke=\"red\" stroke-dasharray=\"None\" stroke-width:2\" transform=\" translate(80,50) rotate(-30.0 0, 0 )\" />  <line x1=\"0\" y1=\"0\" x2=\"40\" y2=\"0\" stroke=\"red\" stroke-dasharray=\"None\" stroke-width:2\" transform=\" translate(80,50) rotate(30.0 0, 0 )\" />  <line x1=\"0\" y1=\"0\" x2=\"40\" y2=\"0\" stroke=\"red\" stroke-dasharray=\"None\" stroke-width:2\" transform=\" translate(80,50) rotate(-210.0 0, 0 )\" />  <line x1=\"0\" y1=\"0\" x2=\"40\" y2=\"0\" stroke=\"red\" stroke-dasharray=\"None\" stroke-width:2\" transform=\" translate(80,50) rotate(-150.0 0, 0 )\" /> \n",
       "      </g>\n",
       "      <circle cx=\"80\" cy=\"50\" r=\"2\" stroke=\"black\" stroke-width=\"1\" fill=\"black\" />\n",
       "    </svg>"
      ]
     },
     "execution_count": 135,
     "metadata": {},
     "output_type": "execute_result"
    }
   ],
   "source": [
    "(branching&coagulation).diagram"
   ]
  },
  {
   "cell_type": "code",
   "execution_count": null,
   "metadata": {},
   "outputs": [],
   "source": [
    "(coagulation&branching).diagram"
   ]
  },
  {
   "cell_type": "code",
   "execution_count": null,
   "metadata": {},
   "outputs": [],
   "source": [
    "(branching&j).diagram"
   ]
  },
  {
   "cell_type": "markdown",
   "metadata": {},
   "source": [
    "# Dimensional Analysis"
   ]
  },
  {
   "cell_type": "code",
   "execution_count": 604,
   "metadata": {
    "collapsed": true
   },
   "outputs": [],
   "source": [
    "#blank -> tilde\n",
    "#BRW0\n",
    "interactions = [\n",
    " J([[1,1],[0,0]]),\n",
    " J([[0,0],[1,1]]),\n",
    " J([[1,0],[0,1]]), #tau \n",
    " J([[1,2],[0,0]]), #s\n",
    " J([[1,1],[0,1]]), #quasi-branch sigma\n",
    " J([[1,1],[1,1]]), #kappa\n",
    " J([[1,0],[1,1]]), #lambda\n",
    " ]\n",
    "\n",
    "#BWS1 - #add two more terms chi and eta\n",
    "interactions = interactions +  [\n",
    " J([[0,1],[1,2]]), #\n",
    " J([[1,0],[1,2]]), #   \n",
    "]\n",
    "\n",
    "#VRS - add two more terms annhilation\n",
    "interactions = interactions +  [\n",
    " J([[1,1],[1,0]]), #\n",
    " J([[2,1],[0,1]]), #   \n",
    "]\n"
   ]
  },
  {
   "cell_type": "code",
   "execution_count": 605,
   "metadata": {},
   "outputs": [
    {
     "data": {
      "text/latex": [
       "$$\\left [ \\phi_0 \\tilde{\\phi}_0, \\quad \\phi_1 \\tilde{\\phi}_1, \\quad \\phi_0 \\tilde{\\phi}_1, \\quad \\phi_0 \\tilde{\\phi}_0^{2}, \\quad \\phi_0 \\tilde{\\phi}_0 \\tilde{\\phi}_1, \\quad \\phi_0 \\phi_1 \\tilde{\\phi}_0 \\tilde{\\phi}_1, \\quad \\phi_0 \\phi_1 \\tilde{\\phi}_1, \\quad \\phi_1 \\tilde{\\phi}_0 \\tilde{\\phi}_1^{2}, \\quad \\phi_0 \\phi_1 \\tilde{\\phi}_1^{2}, \\quad \\phi_0 \\phi_1 \\tilde{\\phi}_0, \\quad \\phi_0^{2} \\tilde{\\phi}_0 \\tilde{\\phi}_1\\right ]$$"
      ],
      "text/plain": [
       "⎡                                                                             \n",
       "⎣\\phi₀⋅\\tilde{\\phi}₀, \\phi₁⋅\\tilde{\\phi}₁, \\phi₀⋅\\tilde{\\phi}₁, \\phi₀⋅\\tilde{\\\n",
       "\n",
       "     2                                                                        \n",
       "phi}₀ , \\phi₀⋅\\tilde{\\phi}₀⋅\\tilde{\\phi}₁, \\phi₀⋅\\phi₁⋅\\tilde{\\phi}₀⋅\\tilde{\\p\n",
       "\n",
       "                                                                  2           \n",
       "hi}₁, \\phi₀⋅\\phi₁⋅\\tilde{\\phi}₁, \\phi₁⋅\\tilde{\\phi}₀⋅\\tilde{\\phi}₁ , \\phi₀⋅\\ph\n",
       "\n",
       "                2                                  2                          \n",
       "i₁⋅\\tilde{\\phi}₁ , \\phi₀⋅\\phi₁⋅\\tilde{\\phi}₀, \\phi₀ ⋅\\tilde{\\phi}₀⋅\\tilde{\\phi\n",
       "\n",
       "  ⎤\n",
       "}₁⎦"
      ]
     },
     "execution_count": 605,
     "metadata": {},
     "output_type": "execute_result"
    }
   ],
   "source": [
    "[j.display() for j in interactions]"
   ]
  },
  {
   "cell_type": "code",
   "execution_count": 606,
   "metadata": {},
   "outputs": [
    {
     "data": {
      "text/latex": [
       "$$\\left [ \\phi_0 \\tilde{\\phi}_0, \\quad \\phi_1 \\tilde{\\phi}_1, \\quad \\phi_0 \\tilde{\\phi}_1, \\quad \\phi_0 \\tilde{\\phi}_0^{2}, \\quad \\phi_0 \\tilde{\\phi}_0 \\tilde{\\phi}_1, \\quad \\phi_0 \\phi_1 \\tilde{\\phi}_0 \\tilde{\\phi}_1, \\quad \\phi_0 \\phi_1 \\tilde{\\phi}_1, \\quad \\phi_1 \\tilde{\\phi}_0 \\tilde{\\phi}_1^{2}, \\quad \\phi_0 \\phi_1 \\tilde{\\phi}_1^{2}, \\quad \\phi_0 \\phi_1 \\tilde{\\phi}_0, \\quad \\phi_0^{2} \\tilde{\\phi}_0 \\tilde{\\phi}_1\\right ]$$"
      ],
      "text/plain": [
       "⎡                                                                             \n",
       "⎣\\phi₀⋅\\tilde{\\phi}₀, \\phi₁⋅\\tilde{\\phi}₁, \\phi₀⋅\\tilde{\\phi}₁, \\phi₀⋅\\tilde{\\\n",
       "\n",
       "     2                                                                        \n",
       "phi}₀ , \\phi₀⋅\\tilde{\\phi}₀⋅\\tilde{\\phi}₁, \\phi₀⋅\\phi₁⋅\\tilde{\\phi}₀⋅\\tilde{\\p\n",
       "\n",
       "                                                                  2           \n",
       "hi}₁, \\phi₀⋅\\phi₁⋅\\tilde{\\phi}₁, \\phi₁⋅\\tilde{\\phi}₀⋅\\tilde{\\phi}₁ , \\phi₀⋅\\ph\n",
       "\n",
       "                2                                  2                          \n",
       "i₁⋅\\tilde{\\phi}₁ , \\phi₀⋅\\phi₁⋅\\tilde{\\phi}₀, \\phi₀ ⋅\\tilde{\\phi}₀⋅\\tilde{\\phi\n",
       "\n",
       "  ⎤\n",
       "}₁⎦"
      ]
     },
     "execution_count": 606,
     "metadata": {},
     "output_type": "execute_result"
    }
   ],
   "source": [
    "#use the reference system\n",
    "IS = interaction_system(interactions)\n",
    "I = J([ [1,1],  [0,0]] )\n",
    "Lambda = rg.T**(-1) # L**(-1*dim)\n",
    "new_couplings = {I:Lambda,\n",
    "                 J([ [0,0],  [1,1]] ): Lambda, #[field]*lambda is the inverse measure\n",
    "                 J([ [1,1],  [0,0]] ): Lambda,\n",
    "                 #J([ [1,2],  [0,0]] ): 1,  #J([ [1,1],  [0,1]] ): 1,\n",
    "                 }\n",
    "IS.update_theories(new_couplings,max_L=3)  \n",
    "IS.display()"
   ]
  },
  {
   "cell_type": "code",
   "execution_count": 607,
   "metadata": {},
   "outputs": [
    {
     "data": {
      "text/latex": [
       "$$\\frac{L^{- d}}{T}$$"
      ],
      "text/plain": [
       " -d\n",
       "L  \n",
       "───\n",
       " T "
      ]
     },
     "execution_count": 607,
     "metadata": {},
     "output_type": "execute_result"
    }
   ],
   "source": [
    "rg.INV_MEASURE"
   ]
  },
  {
   "cell_type": "code",
   "execution_count": 608,
   "metadata": {},
   "outputs": [
    {
     "data": {
      "text/latex": [
       "$$L^{- d}$$"
      ],
      "text/plain": [
       " -d\n",
       "L  "
      ]
     },
     "execution_count": 608,
     "metadata": {},
     "output_type": "execute_result"
    }
   ],
   "source": [
    "OpF = rg.L**-rg.dim\n",
    "OpF"
   ]
  },
  {
   "cell_type": "code",
   "execution_count": null,
   "metadata": {},
   "outputs": [],
   "source": [
    "#try specific perm\n",
    "#resolved = IS.reduce(new_couplings)\n",
    "#resolved\n",
    "\n",
    "from sympy import Symbol,solve, Matrix\n",
    "A = Symbol('A')\n",
    "B = Symbol('B')\n",
    "C = Symbol('C')\n",
    "D = Symbol('D')\n",
    "T = Symbol(\"T\")\n",
    "\n",
    "\n",
    "solve([A*B-OpF, C*D-OpF, A**2*B-rg.INV_MEASURE, A*B*C-rg.INV_MEASURE], [A,B,C,D], )[0]\n"
   ]
  },
  {
   "cell_type": "code",
   "execution_count": 1032,
   "metadata": {},
   "outputs": [
    {
     "data": {
      "text/latex": [
       "$$\\left[\\begin{matrix}\\phi_0 \\tilde{\\phi}_0 & \\frac{1}{T}\\\\\\phi_1 \\tilde{\\phi}_1 & \\frac{1}{T}\\\\\\phi_0 \\tilde{\\phi}_0^{2} & 1\\\\\\phi_0 \\tilde{\\phi}_0 \\tilde{\\phi}_1 & 1\\end{matrix}\\right]$$"
      ],
      "text/plain": [
       "⎡                                   1⎤\n",
       "⎢       \\phi₀⋅\\tilde{\\phi}₀         ─⎥\n",
       "⎢                                   T⎥\n",
       "⎢                                    ⎥\n",
       "⎢                                   1⎥\n",
       "⎢       \\phi₁⋅\\tilde{\\phi}₁         ─⎥\n",
       "⎢                                   T⎥\n",
       "⎢                                    ⎥\n",
       "⎢                         2          ⎥\n",
       "⎢      \\phi₀⋅\\tilde{\\phi}₀          1⎥\n",
       "⎢                                    ⎥\n",
       "⎣\\phi₀⋅\\tilde{\\phi}₀⋅\\tilde{\\phi}₁  1⎦"
      ]
     },
     "execution_count": 1032,
     "metadata": {},
     "output_type": "execute_result"
    }
   ],
   "source": [
    "import numpy as np\n",
    "import functools\n",
    "import operator\n",
    "from sympy import init_printing, latex, Matrix,solve\n",
    "    \n",
    "    \n",
    "import itertools\n",
    "    \n",
    "class ftheory(dict):\n",
    "    def __init__(self, *args, **kwargs):\n",
    "        self.size = None\n",
    "        self.update(*args, **kwargs)\n",
    "        self.is_valid = False\n",
    "        if \"dimensionless\" in kwargs:\n",
    "            #print(\"theory with dimless\", str(kwargs[\"dimensionless\"]))\n",
    "            for k in kwargs[\"dimensionless\"]:  self[k] = 1\n",
    "        \n",
    "        self.fields = None\n",
    "        try:\n",
    "            self.fields = self.solve()\n",
    "            if len(self.fields) == np.array(self.size).prod():self.is_valid = True\n",
    "        except Exception as ex: \n",
    "            #print(\"failed to solve\", repr(ex))\n",
    "            pass\n",
    "        \n",
    "    @property\n",
    "    def general_form(self):\n",
    "        field_weights = [self.fields[k] for k in self.__base_fields__]\n",
    "        field_weights = [ v.subs({rg.T : rg.L**2}).as_powers_dict()[rg.L] for v in field_weights]\n",
    "        return field_weights\n",
    "    \n",
    "    def criterion(self,d=rg.dim):\n",
    "        field_weights = [self.fields[k] for k in self.__base_fields__]\n",
    "        field_weights = np.array([ v.subs({rg.T : rg.L**2, rg.dim:d}).as_powers_dict()[rg.L] for v in field_weights]) * - 1 #invert for the coupling form\n",
    "        inv_mes_pow= [rg.INV_MEASURE.subs({rg.T : rg.L**2, rg.dim : d}).as_powers_dict()[rg.L]]\n",
    "        return list(field_weights) + inv_mes_pow\n",
    "    \n",
    "    def __getitem__(self, key):\n",
    "        val = dict.__getitem__(self, key)\n",
    "        return val\n",
    "\n",
    "    def __setitem__(self, key, val):\n",
    "        if isinstance(key,J):\n",
    "            size = key.tensor.shape\n",
    "            if self.size == None: self.size = size\n",
    "            assert size == self.size, \"Illegal action: the interactions must all have the same rank. For example a 2*2 to matrix for 2 species with creation-annhilation fields\"\n",
    "            dict.__setitem__(self, key, val)\n",
    "\n",
    "    def display(self):\n",
    "        return Matrix( [[ k.display(),v] for k, v in self.items()] )\n",
    "    \n",
    "    @property\n",
    "    def __dimensions__(self):\n",
    "        d = {}\n",
    "        for k,v in self.items():\n",
    "            d[k] = rg.INV_MEASURE/v\n",
    "        return d\n",
    "    \n",
    "    @property\n",
    "    def __system__(self):\n",
    "        d = []\n",
    "        for k,v in self.__dimensions__.items():   d.append(k.display()-v)\n",
    "        return d\n",
    "    \n",
    "    @property\n",
    "    def dimensions(self):\n",
    "        d = self.__dimensions__\n",
    "        return Matrix( [[ k.display(),v] for k, v in d.items()] )\n",
    "    \n",
    "    @property\n",
    "    def __base_fields__(self):\n",
    "        temp, l = J(np.ones(self.size,np.int) ), []\n",
    "        for species in range(temp.tensor.shape[0]):\n",
    "            l.append(temp.in_fields[species])\n",
    "            l.append(temp.out_fields[species])\n",
    "        l = np.array(l)\n",
    "        return Matrix(l.reshape(temp.tensor.shape))\n",
    "    \n",
    "    def update(self, *args, **kwargs):\n",
    "        for k, v in dict(*args, **kwargs).items():  \n",
    "            if isinstance(k,J):  self[k] = v\n",
    "           \n",
    "    def __repr__(self):  return self._repr_latex_()\n",
    "    \n",
    "    def _repr_latex_(self):\n",
    "        init_printing(use_latex='mathjax')\n",
    "        return latex(self.display(),  mode='inline')\n",
    "    \n",
    "    def solve(self):\n",
    "        return dict(zip(list(self.__base_fields__), solve(self.__system__, list(self.__base_fields__))[0]))\n",
    "    \n",
    "    def interpret_couplings(self, interactions, as_matrix=True, l_power_dim=None):\n",
    "        res = {}\n",
    "        for k,v in self.interpret_dimensions(interactions,as_matrix=False).items(): res [k] = rg.INV_MEASURE/v\n",
    "        \n",
    "        if l_power_dim != None:\n",
    "            for k,v in res.items():\n",
    "                res[k] = v.subs({rg.T : rg.L**2, rg.dim : l_power_dim})\n",
    "           \n",
    "        if as_matrix:return Matrix([ [k.display(),v] for k,v in res.items()  ])\n",
    "        return res\n",
    "\n",
    "    def interpret_dimensions(self, interactions, as_matrix=True):\n",
    "        res = {}\n",
    "        if not isinstance(interactions, list): interactions = [interactions]\n",
    "        field_keys = list(self.__base_fields__)\n",
    "        field_weights = [self.fields[k] for k in field_keys]\n",
    "        for k in interactions:\n",
    "            ordered_weights = list(k.tensor.flatten())    \n",
    "            #useful test of ordering is to use field_keys instead of field_weights below\n",
    "            res[k] = functools.reduce(operator.mul, [field_weights[i]**ordered_weights[i] for i in range(len(field_keys))])\n",
    "        if as_matrix:return Matrix([ [k.display(),v] for k,v in res.items()  ])\n",
    "        return res\n",
    "\n",
    "    def uncoupled(interactions, couplings):\n",
    "        unc = [c for c in interactions if c not in couplings]\n",
    "        return unc\n",
    "\n",
    "    def combinations(interactions,couplings, comb_order=3):\n",
    "        c = ftheory.uncoupled(interactions, new_couplings)\n",
    "        L=list(itertools.combinations(list(c), comb_order-1))\n",
    "        return [list(c) for c in L]\n",
    "\n",
    "    def theories(interactions,couplings, comb_order=3, valid_only=True):\n",
    "        cs = ftheory.combinations(interactions, comb_order)\n",
    "        #ts = cs\n",
    "        ts = [ftheory(new_couplings.copy(), dimensionless=c) for c in cs]\n",
    "        if valid_only: ts = [t for t in ts if t.is_valid]\n",
    "        return ts\n",
    "      \n",
    "FT = ftheory(new_couplings, \n",
    "        dimensionless=[J([ [1,2],  [0,0]] ),\n",
    "                       #J([[1,1],[1,1]])\n",
    "                       J([ [1,1],  [0,1]] )\n",
    "                      ])\n",
    "\n",
    "FT.display()"
   ]
  },
  {
   "cell_type": "code",
   "execution_count": 1033,
   "metadata": {},
   "outputs": [],
   "source": [
    "#create a system - permute the free fields and generate a criterion table and sort\n",
    "cs  = ftheory.theories(interactions, new_couplings)"
   ]
  },
  {
   "cell_type": "code",
   "execution_count": 611,
   "metadata": {},
   "outputs": [
    {
     "data": {
      "text/latex": [
       "$$\\left[\\begin{matrix}- d + 2 & -2 & - d + 4 & -4\\\\- d & 0 & - d + 2 & -2\\\\-2 & - d + 2 & 0 & - d\\\\- d & 0 & - d + 2 & -2\\\\-4 & - d + 4 & -2 & - d + 2\\\\- d + 2 & -2 & - d + 2 & -2\\\\- d + 2 & -2 & - d & 0\\\\- d + 2 & -2 & - 2 d + 4 & d - 4\\\\- d + 2 & -2 & -2 & - d + 2\\\\- d + 2 & -2 & - 2 d + 4 & d - 4\\\\-2 & - d + 2 & - d + 2 & -2\\\\- d & 0 & - d + 2 & -2\\\\0 & - d & - d + 2 & -2\\\\0 & - d & - d + 2 & -2\\\\-2 & - d + 2 & - 2 d + 4 & d - 4\\\\-2 & - d + 2 & - d & 0\\\\-2 & - d + 2 & -2 & - d + 2\\\\-2 & - d + 2 & - d & 0\\\\- d & - d & - 2 d + 2 & -2\\\\- 2 d + 4 & d - 4 & -2 & - d + 2\\\\- d & - d & - 2 d + 2 & -2\\\\d - 4 & - 2 d + 4 & -2 & - d + 2\\\\d - 4 & - 2 d + 4 & -2 & - d + 2\\end{matrix}\\right]$$"
      ],
      "text/plain": [
       "⎡ -d + 2      -2      -d + 4     -4  ⎤\n",
       "⎢                                    ⎥\n",
       "⎢   -d        0       -d + 2     -2  ⎥\n",
       "⎢                                    ⎥\n",
       "⎢   -2      -d + 2      0        -d  ⎥\n",
       "⎢                                    ⎥\n",
       "⎢   -d        0       -d + 2     -2  ⎥\n",
       "⎢                                    ⎥\n",
       "⎢   -4      -d + 4      -2     -d + 2⎥\n",
       "⎢                                    ⎥\n",
       "⎢ -d + 2      -2      -d + 2     -2  ⎥\n",
       "⎢                                    ⎥\n",
       "⎢ -d + 2      -2        -d       0   ⎥\n",
       "⎢                                    ⎥\n",
       "⎢ -d + 2      -2     -2⋅d + 4  d - 4 ⎥\n",
       "⎢                                    ⎥\n",
       "⎢ -d + 2      -2        -2     -d + 2⎥\n",
       "⎢                                    ⎥\n",
       "⎢ -d + 2      -2     -2⋅d + 4  d - 4 ⎥\n",
       "⎢                                    ⎥\n",
       "⎢   -2      -d + 2    -d + 2     -2  ⎥\n",
       "⎢                                    ⎥\n",
       "⎢   -d        0       -d + 2     -2  ⎥\n",
       "⎢                                    ⎥\n",
       "⎢   0         -d      -d + 2     -2  ⎥\n",
       "⎢                                    ⎥\n",
       "⎢   0         -d      -d + 2     -2  ⎥\n",
       "⎢                                    ⎥\n",
       "⎢   -2      -d + 2   -2⋅d + 4  d - 4 ⎥\n",
       "⎢                                    ⎥\n",
       "⎢   -2      -d + 2      -d       0   ⎥\n",
       "⎢                                    ⎥\n",
       "⎢   -2      -d + 2      -2     -d + 2⎥\n",
       "⎢                                    ⎥\n",
       "⎢   -2      -d + 2      -d       0   ⎥\n",
       "⎢                                    ⎥\n",
       "⎢   -d        -d     -2⋅d + 2    -2  ⎥\n",
       "⎢                                    ⎥\n",
       "⎢-2⋅d + 4   d - 4       -2     -d + 2⎥\n",
       "⎢                                    ⎥\n",
       "⎢   -d        -d     -2⋅d + 2    -2  ⎥\n",
       "⎢                                    ⎥\n",
       "⎢ d - 4    -2⋅d + 4     -2     -d + 2⎥\n",
       "⎢                                    ⎥\n",
       "⎣ d - 4    -2⋅d + 4     -2     -d + 2⎦"
      ]
     },
     "execution_count": 611,
     "metadata": {},
     "output_type": "execute_result"
    }
   ],
   "source": [
    "gfs = [ t.general_form for t in cs ]\n",
    "Matrix(gfs)"
   ]
  },
  {
   "cell_type": "code",
   "execution_count": 612,
   "metadata": {},
   "outputs": [
    {
     "data": {
      "text/latex": [
       "$$\\left[\\begin{matrix}2 & 2 & 0 & 4 & -6\\\\4 & 0 & 2 & 2 & -6\\\\2 & 2 & 0 & 4 & -6\\\\4 & 0 & 2 & 2 & -6\\\\4 & 0 & 2 & 2 & -6\\\\2 & 2 & 2 & 2 & -6\\\\2 & 2 & 4 & 0 & -6\\\\2 & 2 & 4 & 0 & -6\\\\2 & 2 & 2 & 2 & -6\\\\2 & 2 & 4 & 0 & -6\\\\2 & 2 & 2 & 2 & -6\\\\4 & 0 & 2 & 2 & -6\\\\0 & 4 & 2 & 2 & -6\\\\0 & 4 & 2 & 2 & -6\\\\2 & 2 & 4 & 0 & -6\\\\2 & 2 & 4 & 0 & -6\\\\2 & 2 & 2 & 2 & -6\\\\2 & 2 & 4 & 0 & -6\\\\4 & 4 & 6 & 2 & -6\\\\4 & 0 & 2 & 2 & -6\\\\4 & 4 & 6 & 2 & -6\\\\0 & 4 & 2 & 2 & -6\\\\0 & 4 & 2 & 2 & -6\\end{matrix}\\right]$$"
      ],
      "text/plain": [
       "⎡2  2  0  4  -6⎤\n",
       "⎢              ⎥\n",
       "⎢4  0  2  2  -6⎥\n",
       "⎢              ⎥\n",
       "⎢2  2  0  4  -6⎥\n",
       "⎢              ⎥\n",
       "⎢4  0  2  2  -6⎥\n",
       "⎢              ⎥\n",
       "⎢4  0  2  2  -6⎥\n",
       "⎢              ⎥\n",
       "⎢2  2  2  2  -6⎥\n",
       "⎢              ⎥\n",
       "⎢2  2  4  0  -6⎥\n",
       "⎢              ⎥\n",
       "⎢2  2  4  0  -6⎥\n",
       "⎢              ⎥\n",
       "⎢2  2  2  2  -6⎥\n",
       "⎢              ⎥\n",
       "⎢2  2  4  0  -6⎥\n",
       "⎢              ⎥\n",
       "⎢2  2  2  2  -6⎥\n",
       "⎢              ⎥\n",
       "⎢4  0  2  2  -6⎥\n",
       "⎢              ⎥\n",
       "⎢0  4  2  2  -6⎥\n",
       "⎢              ⎥\n",
       "⎢0  4  2  2  -6⎥\n",
       "⎢              ⎥\n",
       "⎢2  2  4  0  -6⎥\n",
       "⎢              ⎥\n",
       "⎢2  2  4  0  -6⎥\n",
       "⎢              ⎥\n",
       "⎢2  2  2  2  -6⎥\n",
       "⎢              ⎥\n",
       "⎢2  2  4  0  -6⎥\n",
       "⎢              ⎥\n",
       "⎢4  4  6  2  -6⎥\n",
       "⎢              ⎥\n",
       "⎢4  0  2  2  -6⎥\n",
       "⎢              ⎥\n",
       "⎢4  4  6  2  -6⎥\n",
       "⎢              ⎥\n",
       "⎢0  4  2  2  -6⎥\n",
       "⎢              ⎥\n",
       "⎣0  4  2  2  -6⎦"
      ]
     },
     "execution_count": 612,
     "metadata": {},
     "output_type": "execute_result"
    }
   ],
   "source": [
    "gfs = [ t.criterion(4) for t in cs ]\n",
    "Matrix(gfs)"
   ]
  },
  {
   "cell_type": "code",
   "execution_count": null,
   "metadata": {},
   "outputs": [],
   "source": [
    "FT.__base_fields__"
   ]
  },
  {
   "cell_type": "code",
   "execution_count": null,
   "metadata": {},
   "outputs": [],
   "source": [
    "#these are the fields which means, as they are negative, the couplings are positive\n",
    "FT.general_form"
   ]
  },
  {
   "cell_type": "code",
   "execution_count": null,
   "metadata": {},
   "outputs": [],
   "source": [
    "FT.criterion()"
   ]
  },
  {
   "cell_type": "code",
   "execution_count": 1034,
   "metadata": {},
   "outputs": [],
   "source": [
    "# %matplotlib inline\n",
    "# from matplotlib import pyplot as plt\n",
    "# res = [np.array(FT.criterion(i)).sum() for i in range(10)]\n",
    "# plt.plot(range(10), res)\n",
    "# plt.plot(range(10), [0 for i in range(10)])"
   ]
  },
  {
   "cell_type": "code",
   "execution_count": null,
   "metadata": {},
   "outputs": [],
   "source": [
    "FT.fields"
   ]
  },
  {
   "cell_type": "code",
   "execution_count": null,
   "metadata": {},
   "outputs": [],
   "source": [
    "FT.interpret_dimensions(interactions)"
   ]
  },
  {
   "cell_type": "code",
   "execution_count": null,
   "metadata": {},
   "outputs": [],
   "source": [
    "FT.interpret_couplings(interactions, l_power_dim=4)"
   ]
  },
  {
   "cell_type": "code",
   "execution_count": null,
   "metadata": {},
   "outputs": [],
   "source": [
    "list(interactions[0].tensor.flatten())"
   ]
  },
  {
   "cell_type": "code",
   "execution_count": 1027,
   "metadata": {},
   "outputs": [],
   "source": [
    "from scipy.special import factorial\n",
    "import pandas as pd\n",
    "#generate all diagrams and there sym factors at tree level and one loop\n",
    "#todo in future make this work for proper group-group operation - just need to fix a few places in constructor and co/product\n",
    "IN_FIELD = 0\n",
    "OUT_FIELD = 1\n",
    "class composite_interaction(object): # I might extend interaction in future but for now ill wrap\n",
    "    def __init__(self, interaction):\n",
    "        self._pairing_maps = [] #as we add things, we record which indexed entity we merged to. gives some extra internal structure\n",
    "        self._tensor = np.expand_dims(interaction.tensor.copy(), axis=0) #unless we already behave propertly\n",
    "        self._internal_symmetries = [1] # a list of internal symmetries from merging events\n",
    "        self._loops = 0\n",
    "    #yield pairs of paths by parsing the maps\n",
    "    #{upper:[], lower:[]}\n",
    "    def _loop_paths_(self):  pass\n",
    "\n",
    "    def get_topoligical_properties(self):\n",
    "        #exteded_topology functions\n",
    "        #how many back paths, total paths (end, source)\n",
    "        #how many relative (site, site) back paths, total paths\n",
    "        #how many intermedite loops\n",
    "        pass\n",
    "\n",
    "    #this is temporary - i do not know how i want to defined equality -it could be on the residual or otherwise\n",
    "    def __hash__(self):  return hash(str(self._tensor))\n",
    "    def __eq__(self,other): return np.array_equal(self._tensor, other.tensor)\n",
    "\n",
    "    @property\n",
    "    def length(self): return self._tensor.shape[0]\n",
    "    @property \n",
    "    def internal_symmetry(self):return np.array(self._internal_symmetries).prod()\n",
    "    @property \n",
    "    def external_symmetry(self): return factorial(self.residual[:,OUT_FIELD], exact=True).prod()\n",
    "    @property \n",
    "    def total_symmetry(self): return self.internal_symmetry * self.external_symmetry  \n",
    "    @property\n",
    "    def loops(self):  return self._loops #this can be calcuated from sum of (length_of_pairing_maps_i - 1)\n",
    "    @property\n",
    "    def residual(self): return self._tensor.sum(axis=0)\n",
    "    @property\n",
    "    def residual_interaction(self): return J(self._tensor.sum(axis=0))\n",
    "    \n",
    "    @property\n",
    "    def tensor(self): return self._tensor\n",
    "    @property\n",
    "    def number_internal_merged_edges(self):return np.array([len(m) for m in self._pairing_maps]).sum()\n",
    "    @property\n",
    "    def number_internal_vertices(self):  return 0 if self._tensor.shape[0] <= 2 else self._tensor.shape[0] - 2\n",
    "    \n",
    "    @property\n",
    "    def edges(self):\n",
    "        for i, m in enumerate(self._pairing_maps):\n",
    "            self_vertex = i+1\n",
    "            #each entry in the paring can be length L=1 or more; there are L-1 loops formed\n",
    "            for lidx, d in enumerate(m):\n",
    "                #I create an edge using a tuple pointing from them to me\n",
    "                edge = [d[\"vertex_instance\"], self_vertex]\n",
    "                #if there are mutliple edges, the others are a back flow i think \n",
    "                if lidx > 0: edge = list(reversed(edge))\n",
    "                yield {\"edge_species\" : d[\"species\"], \"edge\":edge}\n",
    "    \n",
    "    #each entry in pairing map is the merge between two componenents... \n",
    "    #whenenver we split\n",
    "          \n",
    "    def __pairing_tensor__(self, left_tensor2,right_tensor2):  return np.stack((left_tensor2[:,IN_FIELD], right_tensor2[:,OUT_FIELD])).T\n",
    "       \n",
    "    def __first_free_on_tensor__(self, species):\n",
    "        for i in range(self._tensor.shape[0]):\n",
    "            if self._tensor[i,species,OUT_FIELD]: return i\n",
    "        #for testing i want to assert this does not happen\n",
    "        raise \"There is no free residual for species as expected - please check first for consistent behaviour\"  \n",
    "        return -1\n",
    "\n",
    "    def product(self, a):\n",
    "        #assert a is of type interaction or composite - composite is only superficially supported\n",
    "        #in future there will be only interaction and it will have all the internal structure\n",
    "        species_pairing_list = []\n",
    "        pairing_map = []\n",
    "        input_residual_left = a.residual.copy() \n",
    "        #simply stack the powers of inputs and outputs on the residual e.g. [[2,0],[2,0]] is a pairing on species A that creates a loop\n",
    "        #compact to 1 rank tensor by taking the min of inputs and outputs on each species\n",
    "        species_pairings_counts =  self.__pairing_tensor__(input_residual_left,self.residual).min(axis=1)\n",
    "        # this is true because if we can pair, then our in legs have choices for each of their out legs - this is in dirac <binding_count_vector, actual_output_connectors>\n",
    "        multiplicity = species_pairings_counts.sum() \n",
    "        for idx, count in enumerate(species_pairings_counts): #expand \n",
    "            for c in range(count): species_pairing_list.append(idx)\n",
    "        if len(species_pairing_list) ==0: return self# this helps define the identity: any other matrix that doesnt induce a pairing has no impact on self\n",
    "        \n",
    "        #we reduce the residual value on their inputs and our outputs according to the pairing masks\n",
    "        #then we add their residual (possibly empty) to the stack to hold onto the structure of the mappings\n",
    "        for counter ,species in enumerate(species_pairing_list):\n",
    "            pairing_index = self.__first_free_on_tensor__(species)\n",
    "            pairing_map.append({ \"species\" : species, \"vertex_instance\":pairing_index})\n",
    "            #here we address the rank three tensor to point to the out field of the correct species on the correct subgraph instance\n",
    "            self._tensor[pairing_index,species,OUT_FIELD]-=1 \n",
    "            #in future i should generalise this to deal with complex RHS for now assume it is a basic interaction being folded into the complex\n",
    "            input_residual_left[species, IN_FIELD]-=1\n",
    "        \n",
    "        self._tensor = np.stack(list(self._tensor[:]) + [input_residual_left])#restack\n",
    "        \n",
    "        #update objects in the structure\n",
    "        self._internal_symmetries.append(multiplicity)\n",
    "        self._pairing_maps.append(pairing_map)\n",
    "        self._loops += (len(species_pairing_list) - 1)\n",
    "        #self.loops += a.loops\n",
    "        \n",
    "        return self\n",
    "        \n",
    "    def coproduct(self, a):\n",
    "        pass\n",
    "    \n",
    "    def display(self,compact=False):\n",
    "        #all species are colour coded. in fields are circles, out fields are discs\n",
    "        return composition_diagram(self.tensor, self.edges, compact)()\n",
    "    \n",
    "    @property\n",
    "    def residual_complement(self):\n",
    "        comp = np.zeros(self.tensor.shape,np.int)\n",
    "        for e in self.edges:\n",
    "            for idx, v in enumerate(e[\"edge\"]):   \n",
    "                comp[v][e[\"edge_species\"]][int(v != np.array(e[\"edge\"]).max())]+=1 \n",
    "                \n",
    "        return comp\n",
    "    \n",
    "    @property\n",
    "    def original_diagrams(self):\n",
    "        return self.residual_complement + self.tensor\n",
    "    \n",
    "    def graph_dataframes(self):\n",
    "        vertices,edges = [], []\n",
    "        #vertices: [index,type,valance,internal,external]\n",
    "        for i in range(self.length):\n",
    "            type_ = \"source\" if i ==0 else \"sink\" if i == self.length - 1 else \"internal\"\n",
    "            vertices.append({\"type\" : type_, \"external_legs\" : self.tensor[i].sum(), \"internal_legs\" : 0  })\n",
    "        #edges: [index, source,target,is_back,species]\n",
    "        for e in self.edges:\n",
    "            for v in e[\"edge\"]: vertices[v][\"internal_legs\"]+=1\n",
    "            edges.append({\"source\": e[\"edge\"][0], \n",
    "                          \"target\": e[\"edge\"][1], \n",
    "                          \"internal\" : True,\n",
    "                          \"species\" : e[\"edge_species\"], \n",
    "                          \"is_backflow\" : e[\"edge\"][0]>e[\"edge\"][1]} )\n",
    "       \n",
    "        for species in range(self.residual.shape[0]):\n",
    "            for outlegs in range(self.residual[species][OUT_FIELD]): \n",
    "                edges.append({\"source\": len(vertices)-1, \"target\": -1, \"internal\": False, \"species\": species, \"is_backflow\":False})\n",
    "            for inlegs in range(self.residual[species][IN_FIELD]):\n",
    "                edges.append({\"target\": 0, \"source\": -1, \"internal\": False, \"species\": species, \"is_backflow\":False})    \n",
    "        \n",
    "        #compute original per species valences\n",
    "        for idx, slicer in enumerate(self.original_diagrams):\n",
    "            vertices[idx][\"degree_in\"], vertices[idx][\"degree_out\"] =0,0\n",
    "            for spec_idx, species in enumerate(slicer):\n",
    "                vertices[idx][\"species\"+str(spec_idx)+\"_in\"] = species[IN_FIELD]\n",
    "                vertices[idx][\"species\"+str(spec_idx)+\"_out\"] = species[OUT_FIELD]\n",
    "                vertices[idx][\"degree_in\"]+= species[IN_FIELD]\n",
    "                vertices[idx][\"degree_out\"] += species[OUT_FIELD]\n",
    "                \n",
    "        return pd.DataFrame(vertices), pd.DataFrame(edges)\n",
    "        \n",
    "class composition_diagram():\n",
    "    def __init__(self, ci, compact=False):\n",
    "        self.v,self.e = res.graph_dataframes()\n",
    "        self.default_offset = 30\n",
    "        self.default_edge_x_off = 10     \n",
    "        self.tensor = ci.tensor.copy()\n",
    "        self.edges =ci.edges\n",
    "        self.compact = compact \n",
    "        self.length = self.tensor.shape[0]\n",
    "        self.__make_svg__()\n",
    "    \n",
    "    def partitions(self,  l, spacing=10,baseline=50):\n",
    "        shift = ((l + 1) * spacing ) / 2\n",
    "        for i in range(l):  yield int(((i+1)*spacing+baseline)-shift)\n",
    "\n",
    "    def edges_to_stubs(self):  \n",
    "        for i,k in self.e.iterrows():\n",
    "            if k[\"internal\"]:    \n",
    "                edge = np.array([k[\"source\"],k[\"target\"]])#this can be confusing- there is directionality versus connectivity\n",
    "                d = dict(k)\n",
    "                d[\"id\"], d[\"in\"], d[\"vid\"] = i,True, edge.max()\n",
    "                yield d\n",
    "                d = dict(k)\n",
    "                d[\"id\"], d[\"in\"], d[\"vid\"] = i,False, edge.min()\n",
    "                yield d\n",
    "            else:\n",
    "                d = dict(k)\n",
    "                source, direction = k[\"source\"], False\n",
    "                if source < 0: source, direction = k[\"target\"], True\n",
    "                d[\"id\"], d[\"in\"], d[\"vid\"] = i,direction,source\n",
    "                yield d\n",
    "\n",
    "    def generate_coords(self,major_offset=50, minor_spacing=10,baseline=50):\n",
    "        v,e = self.v,self.e\n",
    "        centers = list(reversed([20+i*major_offset for i in range(len(v))]))#from left to right draw backwards\n",
    "        v[\"x\"], v[\"y\"]  = centers, baseline    \n",
    "        #add all the stubs\n",
    "        newVs = []\n",
    "        for i,k in v.iterrows():\n",
    "            internals = k[\"degree_in\"]\n",
    "            externals = k[\"degree_out\"]\n",
    "            #todo add species to these, do we know if they are internal or not, can we draw edges - well \n",
    "            for p in self.partitions(internals, spacing=minor_spacing, baseline=baseline):\n",
    "                newVs.append({ \"x\": centers[i]+minor_spacing, \"y\": p, \"in\": True, \"vid\":i})\n",
    "            for p in self.partitions(externals, spacing=minor_spacing, baseline=baseline):\n",
    "                newVs.append({ \"x\": centers[i]-minor_spacing, \"y\": p, \"in\": False, \"vid\":i})\n",
    "        stubs = pd.DataFrame(newVs)\n",
    "        stubs[\"rank\"]= stubs.reset_index().groupby([\"vid\", \"in\"]).rank(method=\"min\")[\"index\"].astype(int)\n",
    "        estubs = pd.DataFrame(self.edges_to_stubs())\n",
    "        estubs[\"rank\"]= estubs.reset_index().groupby([\"vid\", \"in\"]).rank(method=\"min\")[\"index\"].astype(int)\n",
    "        stubs = pd.merge(estubs,stubs, on=[\"in\", \"vid\", \"rank\"], how='inner') \n",
    "        return v, stubs, None\n",
    "\n",
    "    @property\n",
    "    def body(self):\n",
    "        return self._body\n",
    "        \n",
    "    def __repr__(self):\n",
    "        return  \"\"\"<svg xmlns=\"http://www.w3.org/2000/svg\" xmlns:xlink=\"http://www.w3.org/1999/xlink\" version=\"1.1\" x=\"0\" y=\"0\" width=\"1240\" height=\"120\">\n",
    "      <g fill=\"none\" stroke=\"black\" stroke-width=\"1.6\" stroke-linecap=\"round\"> {0}  </g> </svg>\"\"\".format(self.body)\n",
    "    \n",
    "    def _repr_html_(self): \n",
    "        return str(self)\n",
    "    \n",
    "    def symmetric_offsets(self, l, offset=70):\n",
    "        return [offset-20+20*i for i in range(l)]\n",
    "    \n",
    "    def draw_line(self, pts, colour, style=None):\n",
    "        self._body+= \"\"\"<line x1=\"{0}\" y1=\"{1}\" x2=\"{2}\" y2=\"{3}\" stroke=\"{4}\" stroke-width:2\" />\"\"\".format(*pts, colour)\n",
    "        \n",
    "    #todo - i should do the body in relative coords so that i can place lots of diagrams in the picture\n",
    "    def __make_svg__(self):\n",
    "        self._body = \"\"\n",
    "        colours = [\"green\", \"blue\", \"red\"]\n",
    "        vertices,stubs,links = self.generate_coords() \n",
    "        vertices_coords = []\n",
    "        #the original vertex cores are drawn on the horizontal\n",
    "        for i,k in vertices.iterrows():\n",
    "            vertices_coords.append([k[\"x\"], k[\"y\"]])\n",
    "            self._body +=\"\"\"<circle cx=\"{0}\" cy=\"{1}\" r=\"2\" stroke=\"black\" stroke-width=\"1\" fill=\"black\" /> \"\"\".\\\n",
    "            format(k[\"x\"], k[\"y\"])\n",
    "        #we draw stubs from the original vertex which are connection points\n",
    "        for i,k in stubs.iterrows():\n",
    "            colour = colours[k[\"species\"]]\n",
    "            self._body +=\"\"\"<circle cx=\"{0}\" cy=\"{1}\" r=\"2\" stroke=\"{3}\" stroke-width=\"1\" {2} /> \"\"\".\\\n",
    "            format(k[\"x\"], k[\"y\"], \"\" if k[\"in\"] else \"fill='{}'\".format(colour), colour)\n",
    "        #draw edges - the edge id is the grouping - internal edges should be paired up neatly\n",
    "        for i,grp in stubs.groupby(\"id\"):\n",
    "            l = len(grp)\n",
    "            head = dict(grp.iloc[0])\n",
    "            self.draw_line([head[\"x\"], head[\"y\"], *vertices_coords[head[\"vid\"]]],colours[head[\"species\"]], \"solid\",)\n",
    "            if l == 2: #internal edges\n",
    "                tail = dict(grp.iloc[-1])\n",
    "                self.draw_line([head[\"x\"], head[\"y\"], tail[\"x\"], tail[\"y\"]],colours[head[\"species\"]], \"dashed\",)\n",
    "                self.draw_line([tail[\"x\"], tail[\"y\"], *vertices_coords[tail[\"vid\"]]],colours[tail[\"species\"]], \"solid\",)\n",
    "               \n",
    "                "
   ]
  },
  {
   "cell_type": "code",
   "execution_count": 1028,
   "metadata": {},
   "outputs": [
    {
     "data": {
      "text/html": [
       "<svg xmlns=\"http://www.w3.org/2000/svg\" xmlns:xlink=\"http://www.w3.org/1999/xlink\" version=\"1.1\" x=\"0\" y=\"0\" width=\"1240\" height=\"120\">\n",
       "      <g fill=\"none\" stroke=\"black\" stroke-width=\"1.6\" stroke-linecap=\"round\"> <circle cx=\"70\" cy=\"50\" r=\"2\" stroke=\"black\" stroke-width=\"1\" fill=\"black\" /> <circle cx=\"20\" cy=\"50\" r=\"2\" stroke=\"black\" stroke-width=\"1\" fill=\"black\" /> <circle cx=\"30\" cy=\"45\" r=\"2\" stroke=\"green\" stroke-width=\"1\"  /> <circle cx=\"60\" cy=\"45\" r=\"2\" stroke=\"green\" stroke-width=\"1\" fill='green' /> <circle cx=\"30\" cy=\"55\" r=\"2\" stroke=\"green\" stroke-width=\"1\"  /> <circle cx=\"60\" cy=\"55\" r=\"2\" stroke=\"green\" stroke-width=\"1\" fill='green' /> <circle cx=\"10\" cy=\"50\" r=\"2\" stroke=\"green\" stroke-width=\"1\" fill='green' /> <circle cx=\"80\" cy=\"50\" r=\"2\" stroke=\"green\" stroke-width=\"1\"  /> <line x1=\"30\" y1=\"45\" x2=\"20\" y2=\"50\" stroke=\"green\" stroke-width:2\" /><line x1=\"30\" y1=\"45\" x2=\"60\" y2=\"45\" stroke=\"green\" stroke-width:2\" /><line x1=\"60\" y1=\"45\" x2=\"70\" y2=\"50\" stroke=\"green\" stroke-width:2\" /><line x1=\"30\" y1=\"55\" x2=\"20\" y2=\"50\" stroke=\"green\" stroke-width:2\" /><line x1=\"30\" y1=\"55\" x2=\"60\" y2=\"55\" stroke=\"green\" stroke-width:2\" /><line x1=\"60\" y1=\"55\" x2=\"70\" y2=\"50\" stroke=\"green\" stroke-width:2\" /><line x1=\"10\" y1=\"50\" x2=\"20\" y2=\"50\" stroke=\"green\" stroke-width:2\" /><line x1=\"80\" y1=\"50\" x2=\"70\" y2=\"50\" stroke=\"green\" stroke-width:2\" />  </g> </svg>"
      ],
      "text/plain": [
       "<svg xmlns=\"http://www.w3.org/2000/svg\" xmlns:xlink=\"http://www.w3.org/1999/xlink\" version=\"1.1\" x=\"0\" y=\"0\" width=\"1240\" height=\"120\">\n",
       "      <g fill=\"none\" stroke=\"black\" stroke-width=\"1.6\" stroke-linecap=\"round\"> <circle cx=\"70\" cy=\"50\" r=\"2\" stroke=\"black\" stroke-width=\"1\" fill=\"black\" /> <circle cx=\"20\" cy=\"50\" r=\"2\" stroke=\"black\" stroke-width=\"1\" fill=\"black\" /> <circle cx=\"30\" cy=\"45\" r=\"2\" stroke=\"green\" stroke-width=\"1\"  /> <circle cx=\"60\" cy=\"45\" r=\"2\" stroke=\"green\" stroke-width=\"1\" fill='green' /> <circle cx=\"30\" cy=\"55\" r=\"2\" stroke=\"green\" stroke-width=\"1\"  /> <circle cx=\"60\" cy=\"55\" r=\"2\" stroke=\"green\" stroke-width=\"1\" fill='green' /> <circle cx=\"10\" cy=\"50\" r=\"2\" stroke=\"green\" stroke-width=\"1\" fill='green' /> <circle cx=\"80\" cy=\"50\" r=\"2\" stroke=\"green\" stroke-width=\"1\"  /> <line x1=\"30\" y1=\"45\" x2=\"20\" y2=\"50\" stroke=\"green\" stroke-width:2\" /><line x1=\"30\" y1=\"45\" x2=\"60\" y2=\"45\" stroke=\"green\" stroke-width:2\" /><line x1=\"60\" y1=\"45\" x2=\"70\" y2=\"50\" stroke=\"green\" stroke-width:2\" /><line x1=\"30\" y1=\"55\" x2=\"20\" y2=\"50\" stroke=\"green\" stroke-width:2\" /><line x1=\"30\" y1=\"55\" x2=\"60\" y2=\"55\" stroke=\"green\" stroke-width:2\" /><line x1=\"60\" y1=\"55\" x2=\"70\" y2=\"50\" stroke=\"green\" stroke-width:2\" /><line x1=\"10\" y1=\"50\" x2=\"20\" y2=\"50\" stroke=\"green\" stroke-width:2\" /><line x1=\"80\" y1=\"50\" x2=\"70\" y2=\"50\" stroke=\"green\" stroke-width:2\" />  </g> </svg>"
      ]
     },
     "execution_count": 1028,
     "metadata": {},
     "output_type": "execute_result"
    }
   ],
   "source": [
    "#im going to use the dataframes to load all the information in the graph in tabular format and then I can transform it and generate graphic, assigning to to specific entities with UIDs\n",
    "#todo - better layout code and add some arcs between \n",
    "#should be able to reuse the diagram code except we draw dotted lines for edges and normal for everything else + A) add the plugs and B) arcs between them for edges \n",
    "#so we need an ordered set of vertices, with external and internals distinguished    (Internal, External) - angles computed on sum but styles come from others\n",
    "#then the edges can be straight connectors but there needs to be a state machine or a countdown or something - should mark backflows\n",
    "#the components should look like the amputated vertices\n",
    "#generate and display all compositions\n",
    "C=composition_diagram(res)\n",
    "C"
   ]
  },
  {
   "cell_type": "code",
   "execution_count": 1001,
   "metadata": {},
   "outputs": [
    {
     "data": {
      "text/html": [
       "<div>\n",
       "<style>\n",
       "    .dataframe thead tr:only-child th {\n",
       "        text-align: right;\n",
       "    }\n",
       "\n",
       "    .dataframe thead th {\n",
       "        text-align: left;\n",
       "    }\n",
       "\n",
       "    .dataframe tbody tr th {\n",
       "        vertical-align: top;\n",
       "    }\n",
       "</style>\n",
       "<table border=\"1\" class=\"dataframe\">\n",
       "  <thead>\n",
       "    <tr style=\"text-align: right;\">\n",
       "      <th></th>\n",
       "      <th>id</th>\n",
       "      <th>in</th>\n",
       "      <th>internal</th>\n",
       "      <th>is_backflow</th>\n",
       "      <th>source</th>\n",
       "      <th>species</th>\n",
       "      <th>target</th>\n",
       "      <th>vid</th>\n",
       "      <th>rank</th>\n",
       "      <th>x</th>\n",
       "      <th>y</th>\n",
       "    </tr>\n",
       "  </thead>\n",
       "  <tbody>\n",
       "    <tr>\n",
       "      <th>0</th>\n",
       "      <td>0</td>\n",
       "      <td>True</td>\n",
       "      <td>True</td>\n",
       "      <td>False</td>\n",
       "      <td>0</td>\n",
       "      <td>0</td>\n",
       "      <td>1</td>\n",
       "      <td>1</td>\n",
       "      <td>1</td>\n",
       "      <td>30</td>\n",
       "      <td>45</td>\n",
       "    </tr>\n",
       "    <tr>\n",
       "      <th>1</th>\n",
       "      <td>0</td>\n",
       "      <td>False</td>\n",
       "      <td>True</td>\n",
       "      <td>False</td>\n",
       "      <td>0</td>\n",
       "      <td>0</td>\n",
       "      <td>1</td>\n",
       "      <td>0</td>\n",
       "      <td>1</td>\n",
       "      <td>60</td>\n",
       "      <td>45</td>\n",
       "    </tr>\n",
       "    <tr>\n",
       "      <th>2</th>\n",
       "      <td>1</td>\n",
       "      <td>True</td>\n",
       "      <td>True</td>\n",
       "      <td>True</td>\n",
       "      <td>1</td>\n",
       "      <td>0</td>\n",
       "      <td>0</td>\n",
       "      <td>1</td>\n",
       "      <td>2</td>\n",
       "      <td>30</td>\n",
       "      <td>55</td>\n",
       "    </tr>\n",
       "    <tr>\n",
       "      <th>3</th>\n",
       "      <td>1</td>\n",
       "      <td>False</td>\n",
       "      <td>True</td>\n",
       "      <td>True</td>\n",
       "      <td>1</td>\n",
       "      <td>0</td>\n",
       "      <td>0</td>\n",
       "      <td>0</td>\n",
       "      <td>2</td>\n",
       "      <td>60</td>\n",
       "      <td>55</td>\n",
       "    </tr>\n",
       "    <tr>\n",
       "      <th>4</th>\n",
       "      <td>2</td>\n",
       "      <td>False</td>\n",
       "      <td>False</td>\n",
       "      <td>False</td>\n",
       "      <td>1</td>\n",
       "      <td>0</td>\n",
       "      <td>-1</td>\n",
       "      <td>1</td>\n",
       "      <td>1</td>\n",
       "      <td>10</td>\n",
       "      <td>50</td>\n",
       "    </tr>\n",
       "    <tr>\n",
       "      <th>5</th>\n",
       "      <td>3</td>\n",
       "      <td>True</td>\n",
       "      <td>False</td>\n",
       "      <td>False</td>\n",
       "      <td>-1</td>\n",
       "      <td>0</td>\n",
       "      <td>0</td>\n",
       "      <td>0</td>\n",
       "      <td>1</td>\n",
       "      <td>80</td>\n",
       "      <td>50</td>\n",
       "    </tr>\n",
       "  </tbody>\n",
       "</table>\n",
       "</div>"
      ],
      "text/plain": [
       "   id     in  internal  is_backflow  source  species  target  vid  rank   x  \\\n",
       "0   0   True      True        False       0        0       1    1     1  30   \n",
       "1   0  False      True        False       0        0       1    0     1  60   \n",
       "2   1   True      True         True       1        0       0    1     2  30   \n",
       "3   1  False      True         True       1        0       0    0     2  60   \n",
       "4   2  False     False        False       1        0      -1    1     1  10   \n",
       "5   3   True     False        False      -1        0       0    0     1  80   \n",
       "\n",
       "    y  \n",
       "0  45  \n",
       "1  45  \n",
       "2  55  \n",
       "3  55  \n",
       "4  50  \n",
       "5  50  "
      ]
     },
     "execution_count": 1001,
     "metadata": {},
     "output_type": "execute_result"
    }
   ],
   "source": [
    "trial = C.generate_coords()[1]\n",
    "trial "
   ]
  },
  {
   "cell_type": "code",
   "execution_count": 904,
   "metadata": {},
   "outputs": [],
   "source": [
    "#pick some edges and batch update\n",
    "\n",
    "#expand edges to stubs with (in,vid,edge_id) and then later merge on the coordinates\n",
    "\n",
    "        \n",
    "expansion = pd.DataFrame(edges_to_stubs(E))"
   ]
  },
  {
   "cell_type": "code",
   "execution_count": 905,
   "metadata": {},
   "outputs": [
    {
     "data": {
      "text/html": [
       "<div>\n",
       "<style>\n",
       "    .dataframe thead tr:only-child th {\n",
       "        text-align: right;\n",
       "    }\n",
       "\n",
       "    .dataframe thead th {\n",
       "        text-align: left;\n",
       "    }\n",
       "\n",
       "    .dataframe tbody tr th {\n",
       "        vertical-align: top;\n",
       "    }\n",
       "</style>\n",
       "<table border=\"1\" class=\"dataframe\">\n",
       "  <thead>\n",
       "    <tr style=\"text-align: right;\">\n",
       "      <th></th>\n",
       "      <th>in</th>\n",
       "      <th>species_x</th>\n",
       "      <th>vid</th>\n",
       "      <th>x</th>\n",
       "      <th>y</th>\n",
       "      <th>edge</th>\n",
       "      <th>id</th>\n",
       "      <th>internal</th>\n",
       "      <th>is_backflow</th>\n",
       "      <th>source</th>\n",
       "      <th>species_y</th>\n",
       "      <th>target</th>\n",
       "    </tr>\n",
       "  </thead>\n",
       "  <tbody>\n",
       "    <tr>\n",
       "      <th>0</th>\n",
       "      <td>True</td>\n",
       "      <td>0</td>\n",
       "      <td>0</td>\n",
       "      <td>80</td>\n",
       "      <td>50</td>\n",
       "      <td>None</td>\n",
       "      <td>1</td>\n",
       "      <td>True</td>\n",
       "      <td>True</td>\n",
       "      <td>1</td>\n",
       "      <td>0</td>\n",
       "      <td>0</td>\n",
       "    </tr>\n",
       "    <tr>\n",
       "      <th>1</th>\n",
       "      <td>True</td>\n",
       "      <td>0</td>\n",
       "      <td>0</td>\n",
       "      <td>80</td>\n",
       "      <td>50</td>\n",
       "      <td>None</td>\n",
       "      <td>3</td>\n",
       "      <td>False</td>\n",
       "      <td>False</td>\n",
       "      <td>-1</td>\n",
       "      <td>0</td>\n",
       "      <td>0</td>\n",
       "    </tr>\n",
       "    <tr>\n",
       "      <th>2</th>\n",
       "      <td>False</td>\n",
       "      <td>0</td>\n",
       "      <td>0</td>\n",
       "      <td>60</td>\n",
       "      <td>45</td>\n",
       "      <td>None</td>\n",
       "      <td>0</td>\n",
       "      <td>True</td>\n",
       "      <td>False</td>\n",
       "      <td>0</td>\n",
       "      <td>0</td>\n",
       "      <td>1</td>\n",
       "    </tr>\n",
       "    <tr>\n",
       "      <th>3</th>\n",
       "      <td>False</td>\n",
       "      <td>0</td>\n",
       "      <td>0</td>\n",
       "      <td>60</td>\n",
       "      <td>55</td>\n",
       "      <td>None</td>\n",
       "      <td>0</td>\n",
       "      <td>True</td>\n",
       "      <td>False</td>\n",
       "      <td>0</td>\n",
       "      <td>0</td>\n",
       "      <td>1</td>\n",
       "    </tr>\n",
       "    <tr>\n",
       "      <th>4</th>\n",
       "      <td>True</td>\n",
       "      <td>0</td>\n",
       "      <td>1</td>\n",
       "      <td>30</td>\n",
       "      <td>45</td>\n",
       "      <td>None</td>\n",
       "      <td>0</td>\n",
       "      <td>True</td>\n",
       "      <td>False</td>\n",
       "      <td>0</td>\n",
       "      <td>0</td>\n",
       "      <td>1</td>\n",
       "    </tr>\n",
       "    <tr>\n",
       "      <th>5</th>\n",
       "      <td>True</td>\n",
       "      <td>0</td>\n",
       "      <td>1</td>\n",
       "      <td>30</td>\n",
       "      <td>55</td>\n",
       "      <td>None</td>\n",
       "      <td>0</td>\n",
       "      <td>True</td>\n",
       "      <td>False</td>\n",
       "      <td>0</td>\n",
       "      <td>0</td>\n",
       "      <td>1</td>\n",
       "    </tr>\n",
       "    <tr>\n",
       "      <th>6</th>\n",
       "      <td>False</td>\n",
       "      <td>0</td>\n",
       "      <td>1</td>\n",
       "      <td>10</td>\n",
       "      <td>50</td>\n",
       "      <td>None</td>\n",
       "      <td>1</td>\n",
       "      <td>True</td>\n",
       "      <td>True</td>\n",
       "      <td>1</td>\n",
       "      <td>0</td>\n",
       "      <td>0</td>\n",
       "    </tr>\n",
       "    <tr>\n",
       "      <th>7</th>\n",
       "      <td>False</td>\n",
       "      <td>0</td>\n",
       "      <td>1</td>\n",
       "      <td>10</td>\n",
       "      <td>50</td>\n",
       "      <td>None</td>\n",
       "      <td>2</td>\n",
       "      <td>False</td>\n",
       "      <td>False</td>\n",
       "      <td>1</td>\n",
       "      <td>0</td>\n",
       "      <td>-1</td>\n",
       "    </tr>\n",
       "  </tbody>\n",
       "</table>\n",
       "</div>"
      ],
      "text/plain": [
       "      in  species_x  vid   x   y  edge  id  internal  is_backflow  source  \\\n",
       "0   True          0    0  80  50  None   1      True         True       1   \n",
       "1   True          0    0  80  50  None   3     False        False      -1   \n",
       "2  False          0    0  60  45  None   0      True        False       0   \n",
       "3  False          0    0  60  55  None   0      True        False       0   \n",
       "4   True          0    1  30  45  None   0      True        False       0   \n",
       "5   True          0    1  30  55  None   0      True        False       0   \n",
       "6  False          0    1  10  50  None   1      True         True       1   \n",
       "7  False          0    1  10  50  None   2     False        False       1   \n",
       "\n",
       "   species_y  target  \n",
       "0          0       0  \n",
       "1          0       0  \n",
       "2          0       1  \n",
       "3          0       1  \n",
       "4          0       1  \n",
       "5          0       1  \n",
       "6          0       0  \n",
       "7          0      -1  "
      ]
     },
     "execution_count": 905,
     "metadata": {},
     "output_type": "execute_result"
    }
   ],
   "source": [
    "pd.merge(trial,expansion, on=[\"in\", \"vid\"])"
   ]
  },
  {
   "cell_type": "code",
   "execution_count": 804,
   "metadata": {},
   "outputs": [
    {
     "data": {
      "text/plain": [
       "array([[[1, 2],\n",
       "        [0, 0]],\n",
       "\n",
       "       [[2, 1],\n",
       "        [0, 0]]])"
      ]
     },
     "execution_count": 804,
     "metadata": {},
     "output_type": "execute_result"
    }
   ],
   "source": [
    "res.original_diagrams"
   ]
  },
  {
   "cell_type": "code",
   "execution_count": 805,
   "metadata": {},
   "outputs": [
    {
     "data": {
      "text/plain": [
       "array([[1, 2],\n",
       "       [0, 0]])"
      ]
     },
     "execution_count": 805,
     "metadata": {},
     "output_type": "execute_result"
    }
   ],
   "source": [
    "B = composite_interaction(branching)\n",
    "B.residual"
   ]
  },
  {
   "cell_type": "code",
   "execution_count": 806,
   "metadata": {},
   "outputs": [
    {
     "data": {
      "text/plain": [
       "array([[2, 1],\n",
       "       [0, 0]])"
      ]
     },
     "execution_count": 806,
     "metadata": {},
     "output_type": "execute_result"
    }
   ],
   "source": [
    "C = composite_interaction(coagulation)\n",
    "C.residual#.shape"
   ]
  },
  {
   "cell_type": "code",
   "execution_count": 807,
   "metadata": {},
   "outputs": [],
   "source": [
    "res = B.product(C)"
   ]
  },
  {
   "cell_type": "code",
   "execution_count": 1029,
   "metadata": {
    "collapsed": true
   },
   "outputs": [],
   "source": [
    "#IS.__display_couplings__()"
   ]
  },
  {
   "cell_type": "code",
   "execution_count": 1030,
   "metadata": {
    "collapsed": true
   },
   "outputs": [],
   "source": [
    "#IS.__display_interaction_dims__()"
   ]
  },
  {
   "cell_type": "markdown",
   "metadata": {
    "collapsed": true
   },
   "source": [
    "# Additional tree-level diagrams"
   ]
  },
  {
   "cell_type": "code",
   "execution_count": null,
   "metadata": {
    "collapsed": true
   },
   "outputs": [],
   "source": [
    "#do permutations of some order with an and-reduction plus validation. if the pairings greater than 1, set is loop and dont yield for this order\n",
    "compound_interaction(branching,coagulation)"
   ]
  },
  {
   "cell_type": "code",
   "execution_count": null,
   "metadata": {
    "collapsed": true
   },
   "outputs": [],
   "source": [
    "(j&transmutation&branching).diagram"
   ]
  },
  {
   "cell_type": "code",
   "execution_count": null,
   "metadata": {
    "collapsed": true
   },
   "outputs": [],
   "source": [
    "prims = [j, transmutation, coagulation, branching]\n",
    "L = compound_interaction.combinations(prims, loop_orders=[0])\n",
    "L[0]"
   ]
  },
  {
   "cell_type": "markdown",
   "metadata": {},
   "source": [
    "# All 1-loop diagrams"
   ]
  },
  {
   "cell_type": "code",
   "execution_count": null,
   "metadata": {
    "collapsed": true
   },
   "outputs": [],
   "source": [
    "compound_interaction(coagulation, branching)\n",
    "#once we figure out the integrals we can give them values and do z factors"
   ]
  },
  {
   "cell_type": "code",
   "execution_count": null,
   "metadata": {
    "collapsed": true
   },
   "outputs": [],
   "source": [
    "prims = [j, transmutation, coagulation, branching]\n",
    "L = compound_interaction.combinations(prims, loop_orders=[1])\n",
    "L[0]"
   ]
  },
  {
   "cell_type": "code",
   "execution_count": null,
   "metadata": {
    "collapsed": true
   },
   "outputs": [],
   "source": []
  },
  {
   "cell_type": "code",
   "execution_count": null,
   "metadata": {
    "collapsed": true
   },
   "outputs": [],
   "source": []
  }
 ],
 "metadata": {
  "kernelspec": {
   "display_name": "Python 3",
   "language": "python",
   "name": "python3"
  },
  "language_info": {
   "codemirror_mode": {
    "name": "ipython",
    "version": 3
   },
   "file_extension": ".py",
   "mimetype": "text/x-python",
   "name": "python",
   "nbconvert_exporter": "python",
   "pygments_lexer": "ipython3",
   "version": "3.6.3"
  }
 },
 "nbformat": 4,
 "nbformat_minor": 2
}
