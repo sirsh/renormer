{
 "cells": [
  {
   "cell_type": "code",
   "execution_count": 1,
   "metadata": {},
   "outputs": [],
   "source": [
    "import rg\n",
    "from rg.diagrams import diagram, composition_diagram, diagram_set\n",
    "from rg.interaction import interaction as J \n",
    "from rg.interaction import interaction_identity\n",
    "from rg.interaction import interaction_system\n",
    "from rg.interaction import composite_interaction as G\n",
    "from rg.theory import ftheory"
   ]
  },
  {
   "cell_type": "markdown",
   "metadata": {},
   "source": [
    "# Example representations\n",
    "Here we show the matrix form for adding fields for arbitrary number of species (1 row per species). We display the latex symbols and also the diagrams\n",
    "\n",
    "The diagrams are of the residuals so loops/internal structure are not shown here (see the composite examples later where we look at internal structure). \n",
    "\n",
    "The & operator or * operator (todo) are both used as diagram products allowing diagrams to be merged"
   ]
  },
  {
   "cell_type": "code",
   "execution_count": 2,
   "metadata": {},
   "outputs": [
    {
     "data": {
      "text/latex": [
       "$\\phi_0 \\phi_1^{2} \\tilde{\\phi}_0$"
      ],
      "text/plain": [
       "$\\phi_0 \\phi_1^{2} \\tilde{\\phi}_0$"
      ]
     },
     "execution_count": 2,
     "metadata": {},
     "output_type": "execute_result"
    }
   ],
   "source": [
    "j = J([[1,1], \n",
    "       [2,0]])\n",
    "j"
   ]
  },
  {
   "cell_type": "code",
   "execution_count": 3,
   "metadata": {},
   "outputs": [
    {
     "data": {
      "text/html": [
       "<svg xmlns=\"http://www.w3.org/2000/svg\" xmlns:xlink=\"http://www.w3.org/1999/xlink\" version=\"1.1\" x=\"0\" y=\"0\" width=\"240\" height=\"120\">\n",
       "      <g fill=\"none\" stroke=\"black\" stroke-width=\"1.6\" stroke-linecap=\"round\">\n",
       "         <line x1=\"0\" y1=\"0\" x2=\"40\" y2=\"0\" stroke=\"red\" stroke-dasharray=\"None\" stroke-width:2\" transform=\" translate(80,50) rotate(-45.0 0, 0 )\" />  <path d=\"M 0,0 C 2,-3.142 3,-5 5,-5 S 8,-3.142 10,0 S 13,5 15,5 S 18,3.142 20,0 C 22,-3.142 23,-5 25,-5 S 28,-3.142 30,0 S 33,5 35,5 S 38,3.142 40,0\" \n",
       "                       stroke=\"black\" stroke-dasharray=\"None\" stroke-width:2\" transform=\" translate(80,50) rotate(0.0 0, 0 )\" />  <path d=\"M 0,0 C 2,-3.142 3,-5 5,-5 S 8,-3.142 10,0 S 13,5 15,5 S 18,3.142 20,0 C 22,-3.142 23,-5 25,-5 S 28,-3.142 30,0 S 33,5 35,5 S 38,3.142 40,0\" \n",
       "                       stroke=\"black\" stroke-dasharray=\"None\" stroke-width:2\" transform=\" translate(80,50) rotate(45.0 0, 0 )\" />  <line x1=\"0\" y1=\"0\" x2=\"40\" y2=\"0\" stroke=\"red\" stroke-dasharray=\"None\" stroke-width:2\" transform=\" translate(80,50) rotate(-180.0 0, 0 )\" /> \n",
       "      </g>\n",
       "      <circle cx=\"80\" cy=\"50\" r=\"2\" stroke=\"black\" stroke-width=\"1\" fill=\"black\" />\n",
       "    </svg>"
      ],
      "text/plain": [
       "<svg xmlns=\"http://www.w3.org/2000/svg\" xmlns:xlink=\"http://www.w3.org/1999/xlink\" version=\"1.1\" x=\"0\" y=\"0\" width=\"240\" height=\"120\">\n",
       "      <g fill=\"none\" stroke=\"black\" stroke-width=\"1.6\" stroke-linecap=\"round\">\n",
       "         <line x1=\"0\" y1=\"0\" x2=\"40\" y2=\"0\" stroke=\"red\" stroke-dasharray=\"None\" stroke-width:2\" transform=\" translate(80,50) rotate(-45.0 0, 0 )\" />  <path d=\"M 0,0 C 2,-3.142 3,-5 5,-5 S 8,-3.142 10,0 S 13,5 15,5 S 18,3.142 20,0 C 22,-3.142 23,-5 25,-5 S 28,-3.142 30,0 S 33,5 35,5 S 38,3.142 40,0\" \n",
       "                       stroke=\"black\" stroke-dasharray=\"None\" stroke-width:2\" transform=\" translate(80,50) rotate(0.0 0, 0 )\" />  <path d=\"M 0,0 C 2,-3.142 3,-5 5,-5 S 8,-3.142 10,0 S 13,5 15,5 S 18,3.142 20,0 C 22,-3.142 23,-5 25,-5 S 28,-3.142 30,0 S 33,5 35,5 S 38,3.142 40,0\" \n",
       "                       stroke=\"black\" stroke-dasharray=\"None\" stroke-width:2\" transform=\" translate(80,50) rotate(45.0 0, 0 )\" />  <line x1=\"0\" y1=\"0\" x2=\"40\" y2=\"0\" stroke=\"red\" stroke-dasharray=\"None\" stroke-width:2\" transform=\" translate(80,50) rotate(-180.0 0, 0 )\" /> \n",
       "      </g>\n",
       "      <circle cx=\"80\" cy=\"50\" r=\"2\" stroke=\"black\" stroke-width=\"1\" fill=\"black\" />\n",
       "    </svg>"
      ]
     },
     "execution_count": 3,
     "metadata": {},
     "output_type": "execute_result"
    }
   ],
   "source": [
    "j.diagram"
   ]
  },
  {
   "cell_type": "code",
   "execution_count": 4,
   "metadata": {},
   "outputs": [
    {
     "data": {
      "text/html": [
       "<svg xmlns=\"http://www.w3.org/2000/svg\" xmlns:xlink=\"http://www.w3.org/1999/xlink\" version=\"1.1\" x=\"0\" y=\"0\" width=\"240\" height=\"120\">\n",
       "      <g fill=\"none\" stroke=\"black\" stroke-width=\"1.6\" stroke-linecap=\"round\">\n",
       "         <line x1=\"0\" y1=\"0\" x2=\"40\" y2=\"0\" stroke=\"red\" stroke-dasharray=\"None\" stroke-width:2\" transform=\" translate(80,50) rotate(0.0 0, 0 )\" />  <path d=\"M 0,0 C 2,-3.142 3,-5 5,-5 S 8,-3.142 10,0 S 13,5 15,5 S 18,3.142 20,0 C 22,-3.142 23,-5 25,-5 S 28,-3.142 30,0 S 33,5 35,5 S 38,3.142 40,0\" \n",
       "                       stroke=\"black\" stroke-dasharray=\"None\" stroke-width:2\" transform=\" translate(80,50) rotate(-180.0 0, 0 )\" /> \n",
       "      </g>\n",
       "      <circle cx=\"80\" cy=\"50\" r=\"2\" stroke=\"black\" stroke-width=\"1\" fill=\"black\" />\n",
       "    </svg>"
      ],
      "text/plain": [
       "<svg xmlns=\"http://www.w3.org/2000/svg\" xmlns:xlink=\"http://www.w3.org/1999/xlink\" version=\"1.1\" x=\"0\" y=\"0\" width=\"240\" height=\"120\">\n",
       "      <g fill=\"none\" stroke=\"black\" stroke-width=\"1.6\" stroke-linecap=\"round\">\n",
       "         <line x1=\"0\" y1=\"0\" x2=\"40\" y2=\"0\" stroke=\"red\" stroke-dasharray=\"None\" stroke-width:2\" transform=\" translate(80,50) rotate(0.0 0, 0 )\" />  <path d=\"M 0,0 C 2,-3.142 3,-5 5,-5 S 8,-3.142 10,0 S 13,5 15,5 S 18,3.142 20,0 C 22,-3.142 23,-5 25,-5 S 28,-3.142 30,0 S 33,5 35,5 S 38,3.142 40,0\" \n",
       "                       stroke=\"black\" stroke-dasharray=\"None\" stroke-width:2\" transform=\" translate(80,50) rotate(-180.0 0, 0 )\" /> \n",
       "      </g>\n",
       "      <circle cx=\"80\" cy=\"50\" r=\"2\" stroke=\"black\" stroke-width=\"1\" fill=\"black\" />\n",
       "    </svg>"
      ]
     },
     "execution_count": 4,
     "metadata": {},
     "output_type": "execute_result"
    }
   ],
   "source": [
    "transmutation = J([[1,0],[0,1]])\n",
    "transmutation.diagram"
   ]
  },
  {
   "cell_type": "code",
   "execution_count": 5,
   "metadata": {},
   "outputs": [
    {
     "data": {
      "text/html": [
       "<svg xmlns=\"http://www.w3.org/2000/svg\" xmlns:xlink=\"http://www.w3.org/1999/xlink\" version=\"1.1\" x=\"0\" y=\"0\" width=\"240\" height=\"120\">\n",
       "      <g fill=\"none\" stroke=\"black\" stroke-width=\"1.6\" stroke-linecap=\"round\">\n",
       "         <line x1=\"0\" y1=\"0\" x2=\"40\" y2=\"0\" stroke=\"red\" stroke-dasharray=\"None\" stroke-width:2\" transform=\" translate(80,50) rotate(-30.0 0, 0 )\" />  <line x1=\"0\" y1=\"0\" x2=\"40\" y2=\"0\" stroke=\"red\" stroke-dasharray=\"None\" stroke-width:2\" transform=\" translate(80,50) rotate(30.0 0, 0 )\" />  <line x1=\"0\" y1=\"0\" x2=\"40\" y2=\"0\" stroke=\"red\" stroke-dasharray=\"None\" stroke-width:2\" transform=\" translate(80,50) rotate(-180.0 0, 0 )\" /> \n",
       "      </g>\n",
       "      <circle cx=\"80\" cy=\"50\" r=\"2\" stroke=\"black\" stroke-width=\"1\" fill=\"black\" />\n",
       "    </svg>"
      ],
      "text/plain": [
       "<svg xmlns=\"http://www.w3.org/2000/svg\" xmlns:xlink=\"http://www.w3.org/1999/xlink\" version=\"1.1\" x=\"0\" y=\"0\" width=\"240\" height=\"120\">\n",
       "      <g fill=\"none\" stroke=\"black\" stroke-width=\"1.6\" stroke-linecap=\"round\">\n",
       "         <line x1=\"0\" y1=\"0\" x2=\"40\" y2=\"0\" stroke=\"red\" stroke-dasharray=\"None\" stroke-width:2\" transform=\" translate(80,50) rotate(-30.0 0, 0 )\" />  <line x1=\"0\" y1=\"0\" x2=\"40\" y2=\"0\" stroke=\"red\" stroke-dasharray=\"None\" stroke-width:2\" transform=\" translate(80,50) rotate(30.0 0, 0 )\" />  <line x1=\"0\" y1=\"0\" x2=\"40\" y2=\"0\" stroke=\"red\" stroke-dasharray=\"None\" stroke-width:2\" transform=\" translate(80,50) rotate(-180.0 0, 0 )\" /> \n",
       "      </g>\n",
       "      <circle cx=\"80\" cy=\"50\" r=\"2\" stroke=\"black\" stroke-width=\"1\" fill=\"black\" />\n",
       "    </svg>"
      ]
     },
     "execution_count": 5,
     "metadata": {},
     "output_type": "execute_result"
    }
   ],
   "source": [
    "coagulation = J([[2,1],[0,0]])\n",
    "coagulation.diagram"
   ]
  },
  {
   "cell_type": "code",
   "execution_count": 6,
   "metadata": {},
   "outputs": [
    {
     "data": {
      "text/html": [
       "<svg xmlns=\"http://www.w3.org/2000/svg\" xmlns:xlink=\"http://www.w3.org/1999/xlink\" version=\"1.1\" x=\"0\" y=\"0\" width=\"240\" height=\"120\">\n",
       "      <g fill=\"none\" stroke=\"black\" stroke-width=\"1.6\" stroke-linecap=\"round\">\n",
       "         <line x1=\"0\" y1=\"0\" x2=\"40\" y2=\"0\" stroke=\"red\" stroke-dasharray=\"None\" stroke-width:2\" transform=\" translate(80,50) rotate(0.0 0, 0 )\" />  <line x1=\"0\" y1=\"0\" x2=\"40\" y2=\"0\" stroke=\"red\" stroke-dasharray=\"None\" stroke-width:2\" transform=\" translate(80,50) rotate(-210.0 0, 0 )\" />  <line x1=\"0\" y1=\"0\" x2=\"40\" y2=\"0\" stroke=\"red\" stroke-dasharray=\"None\" stroke-width:2\" transform=\" translate(80,50) rotate(-150.0 0, 0 )\" /> \n",
       "      </g>\n",
       "      <circle cx=\"80\" cy=\"50\" r=\"2\" stroke=\"black\" stroke-width=\"1\" fill=\"black\" />\n",
       "    </svg>"
      ],
      "text/plain": [
       "<svg xmlns=\"http://www.w3.org/2000/svg\" xmlns:xlink=\"http://www.w3.org/1999/xlink\" version=\"1.1\" x=\"0\" y=\"0\" width=\"240\" height=\"120\">\n",
       "      <g fill=\"none\" stroke=\"black\" stroke-width=\"1.6\" stroke-linecap=\"round\">\n",
       "         <line x1=\"0\" y1=\"0\" x2=\"40\" y2=\"0\" stroke=\"red\" stroke-dasharray=\"None\" stroke-width:2\" transform=\" translate(80,50) rotate(0.0 0, 0 )\" />  <line x1=\"0\" y1=\"0\" x2=\"40\" y2=\"0\" stroke=\"red\" stroke-dasharray=\"None\" stroke-width:2\" transform=\" translate(80,50) rotate(-210.0 0, 0 )\" />  <line x1=\"0\" y1=\"0\" x2=\"40\" y2=\"0\" stroke=\"red\" stroke-dasharray=\"None\" stroke-width:2\" transform=\" translate(80,50) rotate(-150.0 0, 0 )\" /> \n",
       "      </g>\n",
       "      <circle cx=\"80\" cy=\"50\" r=\"2\" stroke=\"black\" stroke-width=\"1\" fill=\"black\" />\n",
       "    </svg>"
      ]
     },
     "execution_count": 6,
     "metadata": {},
     "output_type": "execute_result"
    }
   ],
   "source": [
    "branching = J([[1,2],[0,0]])\n",
    "branching.diagram\n",
    "#branching"
   ]
  },
  {
   "cell_type": "code",
   "execution_count": 7,
   "metadata": {},
   "outputs": [
    {
     "data": {
      "text/plain": [
       "array([[1, 2],\n",
       "       [0, 0]])"
      ]
     },
     "execution_count": 7,
     "metadata": {},
     "output_type": "execute_result"
    }
   ],
   "source": [
    "branching.tensor"
   ]
  },
  {
   "cell_type": "code",
   "execution_count": 8,
   "metadata": {},
   "outputs": [
    {
     "name": "stdout",
     "output_type": "stream",
     "text": [
      "symmetry factor: 2\n"
     ]
    },
    {
     "data": {
      "text/html": [
       "<svg xmlns=\"http://www.w3.org/2000/svg\" xmlns:xlink=\"http://www.w3.org/1999/xlink\" version=\"1.1\" x=\"0\" y=\"0\" width=\"240\" height=\"120\">\n",
       "      <g fill=\"none\" stroke=\"black\" stroke-width=\"1.6\" stroke-linecap=\"round\">\n",
       "         <line x1=\"0\" y1=\"0\" x2=\"40\" y2=\"0\" stroke=\"red\" stroke-dasharray=\"None\" stroke-width:2\" transform=\" translate(80,50) rotate(-30.0 0, 0 )\" />  <line x1=\"0\" y1=\"0\" x2=\"40\" y2=\"0\" stroke=\"red\" stroke-dasharray=\"None\" stroke-width:2\" transform=\" translate(80,50) rotate(30.0 0, 0 )\" />  <line x1=\"0\" y1=\"0\" x2=\"40\" y2=\"0\" stroke=\"red\" stroke-dasharray=\"None\" stroke-width:2\" transform=\" translate(80,50) rotate(-210.0 0, 0 )\" />  <line x1=\"0\" y1=\"0\" x2=\"40\" y2=\"0\" stroke=\"red\" stroke-dasharray=\"None\" stroke-width:2\" transform=\" translate(80,50) rotate(-150.0 0, 0 )\" /> \n",
       "      </g>\n",
       "      <circle cx=\"80\" cy=\"50\" r=\"2\" stroke=\"black\" stroke-width=\"1\" fill=\"black\" />\n",
       "    </svg>"
      ],
      "text/plain": [
       "<svg xmlns=\"http://www.w3.org/2000/svg\" xmlns:xlink=\"http://www.w3.org/1999/xlink\" version=\"1.1\" x=\"0\" y=\"0\" width=\"240\" height=\"120\">\n",
       "      <g fill=\"none\" stroke=\"black\" stroke-width=\"1.6\" stroke-linecap=\"round\">\n",
       "         <line x1=\"0\" y1=\"0\" x2=\"40\" y2=\"0\" stroke=\"red\" stroke-dasharray=\"None\" stroke-width:2\" transform=\" translate(80,50) rotate(-30.0 0, 0 )\" />  <line x1=\"0\" y1=\"0\" x2=\"40\" y2=\"0\" stroke=\"red\" stroke-dasharray=\"None\" stroke-width:2\" transform=\" translate(80,50) rotate(30.0 0, 0 )\" />  <line x1=\"0\" y1=\"0\" x2=\"40\" y2=\"0\" stroke=\"red\" stroke-dasharray=\"None\" stroke-width:2\" transform=\" translate(80,50) rotate(-210.0 0, 0 )\" />  <line x1=\"0\" y1=\"0\" x2=\"40\" y2=\"0\" stroke=\"red\" stroke-dasharray=\"None\" stroke-width:2\" transform=\" translate(80,50) rotate(-150.0 0, 0 )\" /> \n",
       "      </g>\n",
       "      <circle cx=\"80\" cy=\"50\" r=\"2\" stroke=\"black\" stroke-width=\"1\" fill=\"black\" />\n",
       "    </svg>"
      ]
     },
     "execution_count": 8,
     "metadata": {},
     "output_type": "execute_result"
    }
   ],
   "source": [
    "(branching&coagulation).diagram"
   ]
  },
  {
   "cell_type": "code",
   "execution_count": 9,
   "metadata": {},
   "outputs": [
    {
     "name": "stdout",
     "output_type": "stream",
     "text": [
      "symmetry factor: 2\n"
     ]
    },
    {
     "data": {
      "text/html": [
       "<svg xmlns=\"http://www.w3.org/2000/svg\" xmlns:xlink=\"http://www.w3.org/1999/xlink\" version=\"1.1\" x=\"0\" y=\"0\" width=\"240\" height=\"120\">\n",
       "      <g fill=\"none\" stroke=\"black\" stroke-width=\"1.6\" stroke-linecap=\"round\">\n",
       "         <line x1=\"0\" y1=\"0\" x2=\"40\" y2=\"0\" stroke=\"red\" stroke-dasharray=\"None\" stroke-width:2\" transform=\" translate(80,50) rotate(0.0 0, 0 )\" />  <line x1=\"0\" y1=\"0\" x2=\"40\" y2=\"0\" stroke=\"red\" stroke-dasharray=\"None\" stroke-width:2\" transform=\" translate(80,50) rotate(-180.0 0, 0 )\" /> \n",
       "      </g>\n",
       "      <circle cx=\"80\" cy=\"50\" r=\"2\" stroke=\"black\" stroke-width=\"1\" fill=\"black\" />\n",
       "    </svg>"
      ],
      "text/plain": [
       "<svg xmlns=\"http://www.w3.org/2000/svg\" xmlns:xlink=\"http://www.w3.org/1999/xlink\" version=\"1.1\" x=\"0\" y=\"0\" width=\"240\" height=\"120\">\n",
       "      <g fill=\"none\" stroke=\"black\" stroke-width=\"1.6\" stroke-linecap=\"round\">\n",
       "         <line x1=\"0\" y1=\"0\" x2=\"40\" y2=\"0\" stroke=\"red\" stroke-dasharray=\"None\" stroke-width:2\" transform=\" translate(80,50) rotate(0.0 0, 0 )\" />  <line x1=\"0\" y1=\"0\" x2=\"40\" y2=\"0\" stroke=\"red\" stroke-dasharray=\"None\" stroke-width:2\" transform=\" translate(80,50) rotate(-180.0 0, 0 )\" /> \n",
       "      </g>\n",
       "      <circle cx=\"80\" cy=\"50\" r=\"2\" stroke=\"black\" stroke-width=\"1\" fill=\"black\" />\n",
       "    </svg>"
      ]
     },
     "execution_count": 9,
     "metadata": {},
     "output_type": "execute_result"
    }
   ],
   "source": [
    "(coagulation&branching).diagram"
   ]
  },
  {
   "cell_type": "code",
   "execution_count": 10,
   "metadata": {},
   "outputs": [
    {
     "name": "stdout",
     "output_type": "stream",
     "text": [
      "symmetry factor: 2\n"
     ]
    },
    {
     "data": {
      "text/html": [
       "<svg xmlns=\"http://www.w3.org/2000/svg\" xmlns:xlink=\"http://www.w3.org/1999/xlink\" version=\"1.1\" x=\"0\" y=\"0\" width=\"240\" height=\"120\">\n",
       "      <g fill=\"none\" stroke=\"black\" stroke-width=\"1.6\" stroke-linecap=\"round\">\n",
       "         <line x1=\"0\" y1=\"0\" x2=\"40\" y2=\"0\" stroke=\"red\" stroke-dasharray=\"None\" stroke-width:2\" transform=\" translate(80,50) rotate(-45.0 0, 0 )\" />  <path d=\"M 0,0 C 2,-3.142 3,-5 5,-5 S 8,-3.142 10,0 S 13,5 15,5 S 18,3.142 20,0 C 22,-3.142 23,-5 25,-5 S 28,-3.142 30,0 S 33,5 35,5 S 38,3.142 40,0\" \n",
       "                       stroke=\"black\" stroke-dasharray=\"None\" stroke-width:2\" transform=\" translate(80,50) rotate(0.0 0, 0 )\" />  <path d=\"M 0,0 C 2,-3.142 3,-5 5,-5 S 8,-3.142 10,0 S 13,5 15,5 S 18,3.142 20,0 C 22,-3.142 23,-5 25,-5 S 28,-3.142 30,0 S 33,5 35,5 S 38,3.142 40,0\" \n",
       "                       stroke=\"black\" stroke-dasharray=\"None\" stroke-width:2\" transform=\" translate(80,50) rotate(45.0 0, 0 )\" />  <line x1=\"0\" y1=\"0\" x2=\"40\" y2=\"0\" stroke=\"red\" stroke-dasharray=\"None\" stroke-width:2\" transform=\" translate(80,50) rotate(-210.0 0, 0 )\" />  <line x1=\"0\" y1=\"0\" x2=\"40\" y2=\"0\" stroke=\"red\" stroke-dasharray=\"None\" stroke-width:2\" transform=\" translate(80,50) rotate(-150.0 0, 0 )\" /> \n",
       "      </g>\n",
       "      <circle cx=\"80\" cy=\"50\" r=\"2\" stroke=\"black\" stroke-width=\"1\" fill=\"black\" />\n",
       "    </svg>"
      ],
      "text/plain": [
       "<svg xmlns=\"http://www.w3.org/2000/svg\" xmlns:xlink=\"http://www.w3.org/1999/xlink\" version=\"1.1\" x=\"0\" y=\"0\" width=\"240\" height=\"120\">\n",
       "      <g fill=\"none\" stroke=\"black\" stroke-width=\"1.6\" stroke-linecap=\"round\">\n",
       "         <line x1=\"0\" y1=\"0\" x2=\"40\" y2=\"0\" stroke=\"red\" stroke-dasharray=\"None\" stroke-width:2\" transform=\" translate(80,50) rotate(-45.0 0, 0 )\" />  <path d=\"M 0,0 C 2,-3.142 3,-5 5,-5 S 8,-3.142 10,0 S 13,5 15,5 S 18,3.142 20,0 C 22,-3.142 23,-5 25,-5 S 28,-3.142 30,0 S 33,5 35,5 S 38,3.142 40,0\" \n",
       "                       stroke=\"black\" stroke-dasharray=\"None\" stroke-width:2\" transform=\" translate(80,50) rotate(0.0 0, 0 )\" />  <path d=\"M 0,0 C 2,-3.142 3,-5 5,-5 S 8,-3.142 10,0 S 13,5 15,5 S 18,3.142 20,0 C 22,-3.142 23,-5 25,-5 S 28,-3.142 30,0 S 33,5 35,5 S 38,3.142 40,0\" \n",
       "                       stroke=\"black\" stroke-dasharray=\"None\" stroke-width:2\" transform=\" translate(80,50) rotate(45.0 0, 0 )\" />  <line x1=\"0\" y1=\"0\" x2=\"40\" y2=\"0\" stroke=\"red\" stroke-dasharray=\"None\" stroke-width:2\" transform=\" translate(80,50) rotate(-210.0 0, 0 )\" />  <line x1=\"0\" y1=\"0\" x2=\"40\" y2=\"0\" stroke=\"red\" stroke-dasharray=\"None\" stroke-width:2\" transform=\" translate(80,50) rotate(-150.0 0, 0 )\" /> \n",
       "      </g>\n",
       "      <circle cx=\"80\" cy=\"50\" r=\"2\" stroke=\"black\" stroke-width=\"1\" fill=\"black\" />\n",
       "    </svg>"
      ]
     },
     "execution_count": 10,
     "metadata": {},
     "output_type": "execute_result"
    }
   ],
   "source": [
    "(branching&j).diagram"
   ]
  },
  {
   "cell_type": "markdown",
   "metadata": {},
   "source": [
    "# Dimensional Analysis\n",
    "For dimensional analysis one construct a system of terms, each term is an interaction J.\n",
    "\n",
    "One proposes known coupling values e.g. known dimensions of propagators \n",
    "\n",
    "the ftheory class permutes all non fixed couplings, proposing that permutations P(n,k) are dimensionless - each permutation creates a theory\n",
    "\n",
    "A theory fixes the dimension of fields and all couplings. The theories can then be compared and chcked via the ftheory class"
   ]
  },
  {
   "cell_type": "code",
   "execution_count": 11,
   "metadata": {},
   "outputs": [
    {
     "data": {
      "text/latex": [
       "$$\\left [ \\phi_0 \\tilde{\\phi}_0, \\quad \\phi_1 \\tilde{\\phi}_1, \\quad \\phi_0 \\tilde{\\phi}_1, \\quad \\phi_0 \\tilde{\\phi}_0^{2}, \\quad \\phi_0 \\tilde{\\phi}_0 \\tilde{\\phi}_1, \\quad \\phi_0 \\phi_1 \\tilde{\\phi}_0 \\tilde{\\phi}_1, \\quad \\phi_0 \\phi_1 \\tilde{\\phi}_1, \\quad \\phi_1 \\tilde{\\phi}_0 \\tilde{\\phi}_1^{2}, \\quad \\phi_0 \\phi_1 \\tilde{\\phi}_1^{2}, \\quad \\phi_0 \\phi_1 \\tilde{\\phi}_0, \\quad \\phi_0^{2} \\tilde{\\phi}_0 \\tilde{\\phi}_1\\right ]$$"
      ],
      "text/plain": [
       "⎡                                                                             \n",
       "⎣\\phi₀⋅\\tilde{\\phi}₀, \\phi₁⋅\\tilde{\\phi}₁, \\phi₀⋅\\tilde{\\phi}₁, \\phi₀⋅\\tilde{\\\n",
       "\n",
       "     2                                                                        \n",
       "phi}₀ , \\phi₀⋅\\tilde{\\phi}₀⋅\\tilde{\\phi}₁, \\phi₀⋅\\phi₁⋅\\tilde{\\phi}₀⋅\\tilde{\\p\n",
       "\n",
       "                                                                  2           \n",
       "hi}₁, \\phi₀⋅\\phi₁⋅\\tilde{\\phi}₁, \\phi₁⋅\\tilde{\\phi}₀⋅\\tilde{\\phi}₁ , \\phi₀⋅\\ph\n",
       "\n",
       "                2                                  2                          \n",
       "i₁⋅\\tilde{\\phi}₁ , \\phi₀⋅\\phi₁⋅\\tilde{\\phi}₀, \\phi₀ ⋅\\tilde{\\phi}₀⋅\\tilde{\\phi\n",
       "\n",
       "  ⎤\n",
       "}₁⎦"
      ]
     },
     "execution_count": 11,
     "metadata": {},
     "output_type": "execute_result"
    }
   ],
   "source": [
    "#blank -> tilde\n",
    "#BRW0\n",
    "interactions = [\n",
    " J([[1,1],[0,0]]),\n",
    " J([[0,0],[1,1]]),\n",
    " J([[1,0],[0,1]]), #tau \n",
    " J([[1,2],[0,0]]), #s\n",
    " J([[1,1],[0,1]]), #quasi-branch sigma\n",
    " J([[1,1],[1,1]]), #kappa\n",
    " J([[1,0],[1,1]]), #lambda\n",
    " ]\n",
    "\n",
    "#BWS1 - #add two more terms chi and eta\n",
    "interactions = interactions +  [\n",
    " J([[0,1],[1,2]]), #\n",
    " J([[1,0],[1,2]]), #   \n",
    "]\n",
    "\n",
    "#VRS - add two more terms annhilation\n",
    "interactions = interactions +  [\n",
    " J([[1,1],[1,0]]), #\n",
    " J([[2,1],[0,1]]), #   \n",
    "]\n",
    "\n",
    "#display\n",
    "[j.display() for j in interactions]"
   ]
  },
  {
   "cell_type": "code",
   "execution_count": 12,
   "metadata": {},
   "outputs": [
    {
     "data": {
      "text/latex": [
       "$$\\left[\\begin{matrix}\\phi_1 \\tilde{\\phi}_1 & \\frac{1}{T}\\\\\\phi_0 \\tilde{\\phi}_0 & \\frac{1}{T}\\\\\\phi_0 \\tilde{\\phi}_0^{2} & 1\\\\\\phi_0 \\tilde{\\phi}_0 \\tilde{\\phi}_1 & 1\\end{matrix}\\right]$$"
      ],
      "text/plain": [
       "⎡                                   1⎤\n",
       "⎢       \\phi₁⋅\\tilde{\\phi}₁         ─⎥\n",
       "⎢                                   T⎥\n",
       "⎢                                    ⎥\n",
       "⎢                                   1⎥\n",
       "⎢       \\phi₀⋅\\tilde{\\phi}₀         ─⎥\n",
       "⎢                                   T⎥\n",
       "⎢                                    ⎥\n",
       "⎢                         2          ⎥\n",
       "⎢      \\phi₀⋅\\tilde{\\phi}₀          1⎥\n",
       "⎢                                    ⎥\n",
       "⎣\\phi₀⋅\\tilde{\\phi}₀⋅\\tilde{\\phi}₁  1⎦"
      ]
     },
     "execution_count": 12,
     "metadata": {},
     "output_type": "execute_result"
    }
   ],
   "source": [
    "Lambda = rg.T**(-1) # L**(-1*dim)\n",
    "new_couplings = {J([ [0,0],  [1,1]] ): Lambda, #[field]*lambda is the inverse measure\n",
    "                 J([ [1,1],  [0,0]] ): Lambda, }\n",
    "\n",
    "#example theory\n",
    "FT = ftheory(new_couplings, \n",
    "             dimensionless=[J([ [1,2],  [0,0]] ), \n",
    "                            J([ [1,1],  [0,1]] )  ])\n",
    "FT.display()"
   ]
  },
  {
   "cell_type": "code",
   "execution_count": 13,
   "metadata": {},
   "outputs": [
    {
     "data": {
      "text/latex": [
       "$$\\left[\\begin{matrix}\\phi_0 \\tilde{\\phi}_0 & L^{- d}\\\\\\phi_1 \\tilde{\\phi}_1 & L^{- d}\\\\\\phi_0 \\tilde{\\phi}_1 & L^{- d}\\\\\\phi_0 \\tilde{\\phi}_0^{2} & \\frac{L^{- d}}{T}\\\\\\phi_0 \\tilde{\\phi}_0 \\tilde{\\phi}_1 & \\frac{L^{- d}}{T}\\\\\\phi_0 \\phi_1 \\tilde{\\phi}_0 \\tilde{\\phi}_1 & L^{- 2 d}\\\\\\phi_0 \\phi_1 \\tilde{\\phi}_1 & L^{- 2 d} T\\\\\\phi_1 \\tilde{\\phi}_0 \\tilde{\\phi}_1^{2} & \\frac{L^{- d}}{T^{2}}\\\\\\phi_0 \\phi_1 \\tilde{\\phi}_1^{2} & L^{- 2 d}\\\\\\phi_0 \\phi_1 \\tilde{\\phi}_0 & L^{- 2 d} T\\\\\\phi_0^{2} \\tilde{\\phi}_0 \\tilde{\\phi}_1 & L^{- 2 d}\\end{matrix}\\right]$$"
      ],
      "text/plain": [
       "⎡                                            -d  ⎤\n",
       "⎢          \\phi₀⋅\\tilde{\\phi}₀              L    ⎥\n",
       "⎢                                                ⎥\n",
       "⎢                                            -d  ⎥\n",
       "⎢          \\phi₁⋅\\tilde{\\phi}₁              L    ⎥\n",
       "⎢                                                ⎥\n",
       "⎢                                            -d  ⎥\n",
       "⎢          \\phi₀⋅\\tilde{\\phi}₁              L    ⎥\n",
       "⎢                                                ⎥\n",
       "⎢                                            -d  ⎥\n",
       "⎢                            2              L    ⎥\n",
       "⎢         \\phi₀⋅\\tilde{\\phi}₀               ───  ⎥\n",
       "⎢                                            T   ⎥\n",
       "⎢                                                ⎥\n",
       "⎢                                            -d  ⎥\n",
       "⎢                                           L    ⎥\n",
       "⎢   \\phi₀⋅\\tilde{\\phi}₀⋅\\tilde{\\phi}₁       ───  ⎥\n",
       "⎢                                            T   ⎥\n",
       "⎢                                                ⎥\n",
       "⎢                                           -2⋅d ⎥\n",
       "⎢\\phi₀⋅\\phi₁⋅\\tilde{\\phi}₀⋅\\tilde{\\phi}₁   L     ⎥\n",
       "⎢                                                ⎥\n",
       "⎢                                          -2⋅d  ⎥\n",
       "⎢       \\phi₀⋅\\phi₁⋅\\tilde{\\phi}₁         L    ⋅T⎥\n",
       "⎢                                                ⎥\n",
       "⎢                                            -d  ⎥\n",
       "⎢                                   2       L    ⎥\n",
       "⎢  \\phi₁⋅\\tilde{\\phi}₀⋅\\tilde{\\phi}₁        ───  ⎥\n",
       "⎢                                             2  ⎥\n",
       "⎢                                            T   ⎥\n",
       "⎢                                                ⎥\n",
       "⎢                               2           -2⋅d ⎥\n",
       "⎢      \\phi₀⋅\\phi₁⋅\\tilde{\\phi}₁           L     ⎥\n",
       "⎢                                                ⎥\n",
       "⎢                                          -2⋅d  ⎥\n",
       "⎢       \\phi₀⋅\\phi₁⋅\\tilde{\\phi}₀         L    ⋅T⎥\n",
       "⎢                                                ⎥\n",
       "⎢       2                                   -2⋅d ⎥\n",
       "⎣  \\phi₀ ⋅\\tilde{\\phi}₀⋅\\tilde{\\phi}₁      L     ⎦"
      ]
     },
     "execution_count": 13,
     "metadata": {},
     "output_type": "execute_result"
    }
   ],
   "source": [
    "FT.interpret_dimensions(interactions)"
   ]
  },
  {
   "cell_type": "code",
   "execution_count": 14,
   "metadata": {},
   "outputs": [
    {
     "data": {
      "text/latex": [
       "$$\\left[\\begin{matrix}\\phi_0 \\tilde{\\phi}_0 & \\frac{1}{L^{2}}\\\\\\phi_1 \\tilde{\\phi}_1 & \\frac{1}{L^{2}}\\\\\\phi_0 \\tilde{\\phi}_1 & \\frac{1}{L^{2}}\\\\\\phi_0 \\tilde{\\phi}_0^{2} & 1\\\\\\phi_0 \\tilde{\\phi}_0 \\tilde{\\phi}_1 & 1\\\\\\phi_0 \\phi_1 \\tilde{\\phi}_0 \\tilde{\\phi}_1 & L^{2}\\\\\\phi_0 \\phi_1 \\tilde{\\phi}_1 & 1\\\\\\phi_1 \\tilde{\\phi}_0 \\tilde{\\phi}_1^{2} & L^{2}\\\\\\phi_0 \\phi_1 \\tilde{\\phi}_1^{2} & L^{2}\\\\\\phi_0 \\phi_1 \\tilde{\\phi}_0 & 1\\\\\\phi_0^{2} \\tilde{\\phi}_0 \\tilde{\\phi}_1 & L^{2}\\end{matrix}\\right]$$"
      ],
      "text/plain": [
       "⎡                                         1 ⎤\n",
       "⎢          \\phi₀⋅\\tilde{\\phi}₀            ──⎥\n",
       "⎢                                          2⎥\n",
       "⎢                                         L ⎥\n",
       "⎢                                           ⎥\n",
       "⎢                                         1 ⎥\n",
       "⎢          \\phi₁⋅\\tilde{\\phi}₁            ──⎥\n",
       "⎢                                          2⎥\n",
       "⎢                                         L ⎥\n",
       "⎢                                           ⎥\n",
       "⎢                                         1 ⎥\n",
       "⎢          \\phi₀⋅\\tilde{\\phi}₁            ──⎥\n",
       "⎢                                          2⎥\n",
       "⎢                                         L ⎥\n",
       "⎢                                           ⎥\n",
       "⎢                            2              ⎥\n",
       "⎢         \\phi₀⋅\\tilde{\\phi}₀             1 ⎥\n",
       "⎢                                           ⎥\n",
       "⎢   \\phi₀⋅\\tilde{\\phi}₀⋅\\tilde{\\phi}₁     1 ⎥\n",
       "⎢                                           ⎥\n",
       "⎢                                          2⎥\n",
       "⎢\\phi₀⋅\\phi₁⋅\\tilde{\\phi}₀⋅\\tilde{\\phi}₁  L ⎥\n",
       "⎢                                           ⎥\n",
       "⎢       \\phi₀⋅\\phi₁⋅\\tilde{\\phi}₁         1 ⎥\n",
       "⎢                                           ⎥\n",
       "⎢                                   2      2⎥\n",
       "⎢  \\phi₁⋅\\tilde{\\phi}₀⋅\\tilde{\\phi}₁      L ⎥\n",
       "⎢                                           ⎥\n",
       "⎢                               2          2⎥\n",
       "⎢      \\phi₀⋅\\phi₁⋅\\tilde{\\phi}₁          L ⎥\n",
       "⎢                                           ⎥\n",
       "⎢       \\phi₀⋅\\phi₁⋅\\tilde{\\phi}₀         1 ⎥\n",
       "⎢                                           ⎥\n",
       "⎢       2                                  2⎥\n",
       "⎣  \\phi₀ ⋅\\tilde{\\phi}₀⋅\\tilde{\\phi}₁     L ⎦"
      ]
     },
     "execution_count": 14,
     "metadata": {},
     "output_type": "execute_result"
    }
   ],
   "source": [
    "FT.interpret_couplings(interactions, l_power_dim=4)"
   ]
  },
  {
   "cell_type": "code",
   "execution_count": 15,
   "metadata": {},
   "outputs": [],
   "source": [
    "#we can create a bunch of theories by permuting dimensionless couplings given the input known field dimensions and all terms\n",
    "cs  = ftheory.theories(interactions, new_couplings)"
   ]
  },
  {
   "cell_type": "code",
   "execution_count": 16,
   "metadata": {},
   "outputs": [
    {
     "data": {
      "text/latex": [
       "$$\\left[\\begin{matrix}- d + 2 & -2 & - d + 4 & -4\\\\- d & 0 & - d + 2 & -2\\\\-2 & - d + 2 & 0 & - d\\\\- d & 0 & - d + 2 & -2\\\\-4 & - d + 4 & -2 & - d + 2\\\\- d + 2 & -2 & - d + 2 & -2\\\\- d + 2 & -2 & - d & 0\\\\- d + 2 & -2 & - 2 d + 4 & d - 4\\\\- d + 2 & -2 & -2 & - d + 2\\\\- d + 2 & -2 & - 2 d + 4 & d - 4\\\\-2 & - d + 2 & - d + 2 & -2\\\\- d & 0 & - d + 2 & -2\\\\0 & - d & - d + 2 & -2\\\\0 & - d & - d + 2 & -2\\\\-2 & - d + 2 & - 2 d + 4 & d - 4\\\\-2 & - d + 2 & - d & 0\\\\-2 & - d + 2 & -2 & - d + 2\\\\-2 & - d + 2 & - d & 0\\\\- d & - d & - 2 d + 2 & -2\\\\- 2 d + 4 & d - 4 & -2 & - d + 2\\\\- d & - d & - 2 d + 2 & -2\\\\d - 4 & - 2 d + 4 & -2 & - d + 2\\\\d - 4 & - 2 d + 4 & -2 & - d + 2\\end{matrix}\\right]$$"
      ],
      "text/plain": [
       "⎡ -d + 2      -2      -d + 4     -4  ⎤\n",
       "⎢                                    ⎥\n",
       "⎢   -d        0       -d + 2     -2  ⎥\n",
       "⎢                                    ⎥\n",
       "⎢   -2      -d + 2      0        -d  ⎥\n",
       "⎢                                    ⎥\n",
       "⎢   -d        0       -d + 2     -2  ⎥\n",
       "⎢                                    ⎥\n",
       "⎢   -4      -d + 4      -2     -d + 2⎥\n",
       "⎢                                    ⎥\n",
       "⎢ -d + 2      -2      -d + 2     -2  ⎥\n",
       "⎢                                    ⎥\n",
       "⎢ -d + 2      -2        -d       0   ⎥\n",
       "⎢                                    ⎥\n",
       "⎢ -d + 2      -2     -2⋅d + 4  d - 4 ⎥\n",
       "⎢                                    ⎥\n",
       "⎢ -d + 2      -2        -2     -d + 2⎥\n",
       "⎢                                    ⎥\n",
       "⎢ -d + 2      -2     -2⋅d + 4  d - 4 ⎥\n",
       "⎢                                    ⎥\n",
       "⎢   -2      -d + 2    -d + 2     -2  ⎥\n",
       "⎢                                    ⎥\n",
       "⎢   -d        0       -d + 2     -2  ⎥\n",
       "⎢                                    ⎥\n",
       "⎢   0         -d      -d + 2     -2  ⎥\n",
       "⎢                                    ⎥\n",
       "⎢   0         -d      -d + 2     -2  ⎥\n",
       "⎢                                    ⎥\n",
       "⎢   -2      -d + 2   -2⋅d + 4  d - 4 ⎥\n",
       "⎢                                    ⎥\n",
       "⎢   -2      -d + 2      -d       0   ⎥\n",
       "⎢                                    ⎥\n",
       "⎢   -2      -d + 2      -2     -d + 2⎥\n",
       "⎢                                    ⎥\n",
       "⎢   -2      -d + 2      -d       0   ⎥\n",
       "⎢                                    ⎥\n",
       "⎢   -d        -d     -2⋅d + 2    -2  ⎥\n",
       "⎢                                    ⎥\n",
       "⎢-2⋅d + 4   d - 4       -2     -d + 2⎥\n",
       "⎢                                    ⎥\n",
       "⎢   -d        -d     -2⋅d + 2    -2  ⎥\n",
       "⎢                                    ⎥\n",
       "⎢ d - 4    -2⋅d + 4     -2     -d + 2⎥\n",
       "⎢                                    ⎥\n",
       "⎣ d - 4    -2⋅d + 4     -2     -d + 2⎦"
      ]
     },
     "execution_count": 16,
     "metadata": {},
     "output_type": "execute_result"
    }
   ],
   "source": [
    "#we can display a matrix for all theories for the values of the fields \\phi_0, \\tilde{\\phi}_0, \\phi_1, \\tilde{\\phi_1}\n",
    "ftheory.matrices(cs).general_form"
   ]
  },
  {
   "cell_type": "code",
   "execution_count": 17,
   "metadata": {},
   "outputs": [
    {
     "data": {
      "text/latex": [
       "$$\\left[\\begin{matrix}2 & 2 & 0 & 4 & -6\\\\4 & 0 & 2 & 2 & -6\\\\2 & 2 & 0 & 4 & -6\\\\4 & 0 & 2 & 2 & -6\\\\4 & 0 & 2 & 2 & -6\\\\2 & 2 & 2 & 2 & -6\\\\2 & 2 & 4 & 0 & -6\\\\2 & 2 & 4 & 0 & -6\\\\2 & 2 & 2 & 2 & -6\\\\2 & 2 & 4 & 0 & -6\\\\2 & 2 & 2 & 2 & -6\\\\4 & 0 & 2 & 2 & -6\\\\0 & 4 & 2 & 2 & -6\\\\0 & 4 & 2 & 2 & -6\\\\2 & 2 & 4 & 0 & -6\\\\2 & 2 & 4 & 0 & -6\\\\2 & 2 & 2 & 2 & -6\\\\2 & 2 & 4 & 0 & -6\\\\4 & 4 & 6 & 2 & -6\\\\4 & 0 & 2 & 2 & -6\\\\4 & 4 & 6 & 2 & -6\\\\0 & 4 & 2 & 2 & -6\\\\0 & 4 & 2 & 2 & -6\\end{matrix}\\right]$$"
      ],
      "text/plain": [
       "⎡2  2  0  4  -6⎤\n",
       "⎢              ⎥\n",
       "⎢4  0  2  2  -6⎥\n",
       "⎢              ⎥\n",
       "⎢2  2  0  4  -6⎥\n",
       "⎢              ⎥\n",
       "⎢4  0  2  2  -6⎥\n",
       "⎢              ⎥\n",
       "⎢4  0  2  2  -6⎥\n",
       "⎢              ⎥\n",
       "⎢2  2  2  2  -6⎥\n",
       "⎢              ⎥\n",
       "⎢2  2  4  0  -6⎥\n",
       "⎢              ⎥\n",
       "⎢2  2  4  0  -6⎥\n",
       "⎢              ⎥\n",
       "⎢2  2  2  2  -6⎥\n",
       "⎢              ⎥\n",
       "⎢2  2  4  0  -6⎥\n",
       "⎢              ⎥\n",
       "⎢2  2  2  2  -6⎥\n",
       "⎢              ⎥\n",
       "⎢4  0  2  2  -6⎥\n",
       "⎢              ⎥\n",
       "⎢0  4  2  2  -6⎥\n",
       "⎢              ⎥\n",
       "⎢0  4  2  2  -6⎥\n",
       "⎢              ⎥\n",
       "⎢2  2  4  0  -6⎥\n",
       "⎢              ⎥\n",
       "⎢2  2  4  0  -6⎥\n",
       "⎢              ⎥\n",
       "⎢2  2  2  2  -6⎥\n",
       "⎢              ⎥\n",
       "⎢2  2  4  0  -6⎥\n",
       "⎢              ⎥\n",
       "⎢4  4  6  2  -6⎥\n",
       "⎢              ⎥\n",
       "⎢4  0  2  2  -6⎥\n",
       "⎢              ⎥\n",
       "⎢4  4  6  2  -6⎥\n",
       "⎢              ⎥\n",
       "⎢0  4  2  2  -6⎥\n",
       "⎢              ⎥\n",
       "⎣0  4  2  2  -6⎦"
      ]
     },
     "execution_count": 17,
     "metadata": {},
     "output_type": "execute_result"
    }
   ],
   "source": [
    "#and we can evalaute the values at a certain d, last column is the inverse measure L^dT^1 with T=L^2 at d=d_c\n",
    "ftheory.matrices(cs).criterion(4)"
   ]
  },
  {
   "cell_type": "markdown",
   "metadata": {},
   "source": [
    "# Composing and displaying diagrams\n",
    "Work in progress. Lots of different ways to render things - starting with the basics, the ones that make development clearer."
   ]
  },
  {
   "cell_type": "code",
   "execution_count": 45,
   "metadata": {},
   "outputs": [
    {
     "data": {
      "text/html": [
       "<svg xmlns=\"http://www.w3.org/2000/svg\" xmlns:xlink=\"http://www.w3.org/1999/xlink\" version=\"1.1\" x=\"0\" y=\"0\" width=\"500\" height=\"120\">\n",
       "      <g fill=\"none\" stroke=\"black\" stroke-width=\"1.6\" stroke-linecap=\"round\"> <circle cx=\"70\" cy=\"50\" r=\"3\" stroke=\"black\" stroke-width=\"1\" fill=\"black\" /> <circle cx=\"20\" cy=\"50\" r=\"3\" stroke=\"black\" stroke-width=\"1\" fill=\"black\" /> <circle cx=\"52\" cy=\"41\" r=\"2\" stroke=\"green\" stroke-width=\"1\" fill='green' /> <circle cx=\"52\" cy=\"59\" r=\"2\" stroke=\"green\" stroke-width=\"1\" fill='green' /> <circle cx=\"88\" cy=\"50\" r=\"2\" stroke=\"green\" stroke-width=\"1\"  /> <circle cx=\"38\" cy=\"41\" r=\"2\" stroke=\"green\" stroke-width=\"1\"  /> <circle cx=\"38\" cy=\"59\" r=\"2\" stroke=\"green\" stroke-width=\"1\"  /> <circle cx=\"2\" cy=\"50\" r=\"2\" stroke=\"green\" stroke-width=\"1\" fill='green' /> <line x1=\"52\" y1=\"41\" x2=\"70\" y2=\"50\" stroke=\"green\" stroke-width:2\"  stroke-dasharray='2,2' /><line x1=\"52\" y1=\"41\" x2=\"38\" y2=\"41\" stroke=\"green\" stroke-width:2\"  stroke-dasharray='2,2' /><line x1=\"38\" y1=\"41\" x2=\"20\" y2=\"50\" stroke=\"green\" stroke-width:2\"  stroke-dasharray='2,2' /><line x1=\"52\" y1=\"59\" x2=\"70\" y2=\"50\" stroke=\"green\" stroke-width:2\"  stroke-dasharray='2,2' /><line x1=\"52\" y1=\"59\" x2=\"38\" y2=\"59\" stroke=\"green\" stroke-width:2\"  stroke-dasharray='2,2' /><line x1=\"38\" y1=\"59\" x2=\"20\" y2=\"50\" stroke=\"green\" stroke-width:2\"  stroke-dasharray='2,2' /><line x1=\"88\" y1=\"50\" x2=\"70\" y2=\"50\" stroke=\"green\" stroke-width:2\"   /><line x1=\"2\" y1=\"50\" x2=\"20\" y2=\"50\" stroke=\"green\" stroke-width:2\"   />  </g> </svg>"
      ],
      "text/plain": [
       "<svg xmlns=\"http://www.w3.org/2000/svg\" xmlns:xlink=\"http://www.w3.org/1999/xlink\" version=\"1.1\" x=\"0\" y=\"0\" width=\"500\" height=\"120\">\n",
       "      <g fill=\"none\" stroke=\"black\" stroke-width=\"1.6\" stroke-linecap=\"round\"> <circle cx=\"70\" cy=\"50\" r=\"3\" stroke=\"black\" stroke-width=\"1\" fill=\"black\" /> <circle cx=\"20\" cy=\"50\" r=\"3\" stroke=\"black\" stroke-width=\"1\" fill=\"black\" /> <circle cx=\"52\" cy=\"41\" r=\"2\" stroke=\"green\" stroke-width=\"1\" fill='green' /> <circle cx=\"52\" cy=\"59\" r=\"2\" stroke=\"green\" stroke-width=\"1\" fill='green' /> <circle cx=\"88\" cy=\"50\" r=\"2\" stroke=\"green\" stroke-width=\"1\"  /> <circle cx=\"38\" cy=\"41\" r=\"2\" stroke=\"green\" stroke-width=\"1\"  /> <circle cx=\"38\" cy=\"59\" r=\"2\" stroke=\"green\" stroke-width=\"1\"  /> <circle cx=\"2\" cy=\"50\" r=\"2\" stroke=\"green\" stroke-width=\"1\" fill='green' /> <line x1=\"52\" y1=\"41\" x2=\"70\" y2=\"50\" stroke=\"green\" stroke-width:2\"  stroke-dasharray='2,2' /><line x1=\"52\" y1=\"41\" x2=\"38\" y2=\"41\" stroke=\"green\" stroke-width:2\"  stroke-dasharray='2,2' /><line x1=\"38\" y1=\"41\" x2=\"20\" y2=\"50\" stroke=\"green\" stroke-width:2\"  stroke-dasharray='2,2' /><line x1=\"52\" y1=\"59\" x2=\"70\" y2=\"50\" stroke=\"green\" stroke-width:2\"  stroke-dasharray='2,2' /><line x1=\"52\" y1=\"59\" x2=\"38\" y2=\"59\" stroke=\"green\" stroke-width:2\"  stroke-dasharray='2,2' /><line x1=\"38\" y1=\"59\" x2=\"20\" y2=\"50\" stroke=\"green\" stroke-width:2\"  stroke-dasharray='2,2' /><line x1=\"88\" y1=\"50\" x2=\"70\" y2=\"50\" stroke=\"green\" stroke-width:2\"   /><line x1=\"2\" y1=\"50\" x2=\"20\" y2=\"50\" stroke=\"green\" stroke-width:2\"   />  </g> </svg>"
      ]
     },
     "execution_count": 45,
     "metadata": {},
     "output_type": "execute_result"
    }
   ],
   "source": [
    "G(branching)*G(coagulation)"
   ]
  },
  {
   "cell_type": "code",
   "execution_count": 18,
   "metadata": {},
   "outputs": [
    {
     "data": {
      "text/html": [
       "<svg xmlns=\"http://www.w3.org/2000/svg\" xmlns:xlink=\"http://www.w3.org/1999/xlink\" version=\"1.1\" x=\"0\" y=\"0\" width=\"500\" height=\"120\">\n",
       "      <g fill=\"none\" stroke=\"black\" stroke-width=\"1.6\" stroke-linecap=\"round\"> <circle cx=\"120\" cy=\"50\" r=\"3\" stroke=\"black\" stroke-width=\"1\" fill=\"black\" /> <circle cx=\"70\" cy=\"50\" r=\"3\" stroke=\"black\" stroke-width=\"1\" fill=\"black\" /> <circle cx=\"20\" cy=\"50\" r=\"3\" stroke=\"black\" stroke-width=\"1\" fill=\"black\" /> <circle cx=\"102\" cy=\"41\" r=\"2\" stroke=\"green\" stroke-width=\"1\" fill='green' /> <circle cx=\"102\" cy=\"59\" r=\"2\" stroke=\"green\" stroke-width=\"1\" fill='green' /> <circle cx=\"138\" cy=\"50\" r=\"2\" stroke=\"green\" stroke-width=\"1\"  /> <circle cx=\"88\" cy=\"50\" r=\"2\" stroke=\"green\" stroke-width=\"1\"  /> <circle cx=\"52\" cy=\"50\" r=\"2\" stroke=\"orange\" stroke-width=\"1\" fill='orange' /> <circle cx=\"38\" cy=\"32\" r=\"2\" stroke=\"green\" stroke-width=\"1\"  /> <circle cx=\"38\" cy=\"50\" r=\"2\" stroke=\"orange\" stroke-width=\"1\"  /> <circle cx=\"2\" cy=\"50\" r=\"2\" stroke=\"green\" stroke-width=\"1\" fill='green' /> <circle cx=\"38\" cy=\"68\" r=\"2\" stroke=\"orange\" stroke-width=\"1\"  /> <line x1=\"102\" y1=\"41\" x2=\"120\" y2=\"50\" stroke=\"green\" stroke-width:2\"  stroke-dasharray='2,2' /><line x1=\"102\" y1=\"41\" x2=\"88\" y2=\"50\" stroke=\"green\" stroke-width:2\"  stroke-dasharray='2,2' /><line x1=\"88\" y1=\"50\" x2=\"70\" y2=\"50\" stroke=\"green\" stroke-width:2\"  stroke-dasharray='2,2' /><line x1=\"102\" y1=\"59\" x2=\"120\" y2=\"50\" stroke=\"green\" stroke-width:2\"  stroke-dasharray='2,2' /><line x1=\"102\" y1=\"59\" x2=\"38\" y2=\"32\" stroke=\"green\" stroke-width:2\"  stroke-dasharray='2,2' /><line x1=\"38\" y1=\"32\" x2=\"20\" y2=\"50\" stroke=\"green\" stroke-width:2\"  stroke-dasharray='2,2' /><line x1=\"52\" y1=\"50\" x2=\"70\" y2=\"50\" stroke=\"orange\" stroke-width:2\"  stroke-dasharray='2,2' /><line x1=\"52\" y1=\"50\" x2=\"38\" y2=\"50\" stroke=\"orange\" stroke-width:2\"  stroke-dasharray='2,2' /><line x1=\"38\" y1=\"50\" x2=\"20\" y2=\"50\" stroke=\"orange\" stroke-width:2\"  stroke-dasharray='2,2' /><line x1=\"138\" y1=\"50\" x2=\"120\" y2=\"50\" stroke=\"green\" stroke-width:2\"   /><line x1=\"2\" y1=\"50\" x2=\"20\" y2=\"50\" stroke=\"green\" stroke-width:2\"   /><line x1=\"38\" y1=\"68\" x2=\"20\" y2=\"50\" stroke=\"orange\" stroke-width:2\"   />  </g> </svg>"
      ],
      "text/plain": [
       "<svg xmlns=\"http://www.w3.org/2000/svg\" xmlns:xlink=\"http://www.w3.org/1999/xlink\" version=\"1.1\" x=\"0\" y=\"0\" width=\"500\" height=\"120\">\n",
       "      <g fill=\"none\" stroke=\"black\" stroke-width=\"1.6\" stroke-linecap=\"round\"> <circle cx=\"120\" cy=\"50\" r=\"3\" stroke=\"black\" stroke-width=\"1\" fill=\"black\" /> <circle cx=\"70\" cy=\"50\" r=\"3\" stroke=\"black\" stroke-width=\"1\" fill=\"black\" /> <circle cx=\"20\" cy=\"50\" r=\"3\" stroke=\"black\" stroke-width=\"1\" fill=\"black\" /> <circle cx=\"102\" cy=\"41\" r=\"2\" stroke=\"green\" stroke-width=\"1\" fill='green' /> <circle cx=\"102\" cy=\"59\" r=\"2\" stroke=\"green\" stroke-width=\"1\" fill='green' /> <circle cx=\"138\" cy=\"50\" r=\"2\" stroke=\"green\" stroke-width=\"1\"  /> <circle cx=\"88\" cy=\"50\" r=\"2\" stroke=\"green\" stroke-width=\"1\"  /> <circle cx=\"52\" cy=\"50\" r=\"2\" stroke=\"orange\" stroke-width=\"1\" fill='orange' /> <circle cx=\"38\" cy=\"32\" r=\"2\" stroke=\"green\" stroke-width=\"1\"  /> <circle cx=\"38\" cy=\"50\" r=\"2\" stroke=\"orange\" stroke-width=\"1\"  /> <circle cx=\"2\" cy=\"50\" r=\"2\" stroke=\"green\" stroke-width=\"1\" fill='green' /> <circle cx=\"38\" cy=\"68\" r=\"2\" stroke=\"orange\" stroke-width=\"1\"  /> <line x1=\"102\" y1=\"41\" x2=\"120\" y2=\"50\" stroke=\"green\" stroke-width:2\"  stroke-dasharray='2,2' /><line x1=\"102\" y1=\"41\" x2=\"88\" y2=\"50\" stroke=\"green\" stroke-width:2\"  stroke-dasharray='2,2' /><line x1=\"88\" y1=\"50\" x2=\"70\" y2=\"50\" stroke=\"green\" stroke-width:2\"  stroke-dasharray='2,2' /><line x1=\"102\" y1=\"59\" x2=\"120\" y2=\"50\" stroke=\"green\" stroke-width:2\"  stroke-dasharray='2,2' /><line x1=\"102\" y1=\"59\" x2=\"38\" y2=\"32\" stroke=\"green\" stroke-width:2\"  stroke-dasharray='2,2' /><line x1=\"38\" y1=\"32\" x2=\"20\" y2=\"50\" stroke=\"green\" stroke-width:2\"  stroke-dasharray='2,2' /><line x1=\"52\" y1=\"50\" x2=\"70\" y2=\"50\" stroke=\"orange\" stroke-width:2\"  stroke-dasharray='2,2' /><line x1=\"52\" y1=\"50\" x2=\"38\" y2=\"50\" stroke=\"orange\" stroke-width:2\"  stroke-dasharray='2,2' /><line x1=\"38\" y1=\"50\" x2=\"20\" y2=\"50\" stroke=\"orange\" stroke-width:2\"  stroke-dasharray='2,2' /><line x1=\"138\" y1=\"50\" x2=\"120\" y2=\"50\" stroke=\"green\" stroke-width:2\"   /><line x1=\"2\" y1=\"50\" x2=\"20\" y2=\"50\" stroke=\"green\" stroke-width:2\"   /><line x1=\"38\" y1=\"68\" x2=\"20\" y2=\"50\" stroke=\"orange\" stroke-width:2\"   />  </g> </svg>"
      ]
     },
     "execution_count": 18,
     "metadata": {},
     "output_type": "execute_result"
    }
   ],
   "source": [
    "G(branching)*G(transmutation)*G(j)"
   ]
  },
  {
   "cell_type": "code",
   "execution_count": 19,
   "metadata": {},
   "outputs": [
    {
     "data": {
      "text/html": [
       "<svg xmlns=\"http://www.w3.org/2000/svg\" xmlns:xlink=\"http://www.w3.org/1999/xlink\" version=\"1.1\" x=\"0\" y=\"0\" width=\"500\" height=\"210\">['<svg xmlns=\"http://www.w3.org/2000/svg\" xmlns:xlink=\"http://www.w3.org/1999/xlink\" version=\"1.1\" x=\"0\" y=\"0\" width=\"500\" height=\"120\">\\n      <g fill=\"none\" stroke=\"black\" stroke-width=\"1.6\" stroke-linecap=\"round\"> <circle cx=\"70\" cy=\"50\" r=\"3\" stroke=\"black\" stroke-width=\"1\" fill=\"black\" /> <circle cx=\"20\" cy=\"50\" r=\"3\" stroke=\"black\" stroke-width=\"1\" fill=\"black\" /> <circle cx=\"52\" cy=\"41\" r=\"2\" stroke=\"green\" stroke-width=\"1\" fill=\\'green\\' /> <circle cx=\"52\" cy=\"59\" r=\"2\" stroke=\"green\" stroke-width=\"1\" fill=\\'green\\' /> <circle cx=\"88\" cy=\"50\" r=\"2\" stroke=\"green\" stroke-width=\"1\"  /> <circle cx=\"38\" cy=\"50\" r=\"2\" stroke=\"green\" stroke-width=\"1\"  /> <circle cx=\"2\" cy=\"50\" r=\"2\" stroke=\"orange\" stroke-width=\"1\" fill=\\'orange\\' /> <line x1=\"52\" y1=\"41\" x2=\"70\" y2=\"50\" stroke=\"green\" stroke-width:2\"  stroke-dasharray=\\'2,2\\' /><line x1=\"52\" y1=\"41\" x2=\"38\" y2=\"50\" stroke=\"green\" stroke-width:2\"  stroke-dasharray=\\'2,2\\' /><line x1=\"38\" y1=\"50\" x2=\"20\" y2=\"50\" stroke=\"green\" stroke-width:2\"  stroke-dasharray=\\'2,2\\' /><line x1=\"52\" y1=\"59\" x2=\"70\" y2=\"50\" stroke=\"green\" stroke-width:2\"   /><line x1=\"88\" y1=\"50\" x2=\"70\" y2=\"50\" stroke=\"green\" stroke-width:2\"   /><line x1=\"2\" y1=\"50\" x2=\"20\" y2=\"50\" stroke=\"orange\" stroke-width:2\"   />  </g> </svg>', '<svg xmlns=\"http://www.w3.org/2000/svg\" xmlns:xlink=\"http://www.w3.org/1999/xlink\" version=\"1.1\" x=\"0\" y=\"50\" width=\"500\" height=\"120\">\\n      <g fill=\"none\" stroke=\"black\" stroke-width=\"1.6\" stroke-linecap=\"round\"> <circle cx=\"70\" cy=\"50\" r=\"3\" stroke=\"black\" stroke-width=\"1\" fill=\"black\" /> <circle cx=\"20\" cy=\"50\" r=\"3\" stroke=\"black\" stroke-width=\"1\" fill=\"black\" /> <circle cx=\"52\" cy=\"41\" r=\"2\" stroke=\"green\" stroke-width=\"1\" fill=\\'green\\' /> <circle cx=\"52\" cy=\"59\" r=\"2\" stroke=\"green\" stroke-width=\"1\" fill=\\'green\\' /> <circle cx=\"88\" cy=\"50\" r=\"2\" stroke=\"green\" stroke-width=\"1\"  /> <circle cx=\"38\" cy=\"41\" r=\"2\" stroke=\"green\" stroke-width=\"1\"  /> <circle cx=\"38\" cy=\"59\" r=\"2\" stroke=\"green\" stroke-width=\"1\"  /> <circle cx=\"2\" cy=\"50\" r=\"2\" stroke=\"green\" stroke-width=\"1\" fill=\\'green\\' /> <line x1=\"52\" y1=\"41\" x2=\"70\" y2=\"50\" stroke=\"green\" stroke-width:2\"  stroke-dasharray=\\'2,2\\' /><line x1=\"52\" y1=\"41\" x2=\"38\" y2=\"41\" stroke=\"green\" stroke-width:2\"  stroke-dasharray=\\'2,2\\' /><line x1=\"38\" y1=\"41\" x2=\"20\" y2=\"50\" stroke=\"green\" stroke-width:2\"  stroke-dasharray=\\'2,2\\' /><line x1=\"52\" y1=\"59\" x2=\"70\" y2=\"50\" stroke=\"green\" stroke-width:2\"  stroke-dasharray=\\'2,2\\' /><line x1=\"52\" y1=\"59\" x2=\"38\" y2=\"59\" stroke=\"green\" stroke-width:2\"  stroke-dasharray=\\'2,2\\' /><line x1=\"38\" y1=\"59\" x2=\"20\" y2=\"50\" stroke=\"green\" stroke-width:2\"  stroke-dasharray=\\'2,2\\' /><line x1=\"88\" y1=\"50\" x2=\"70\" y2=\"50\" stroke=\"green\" stroke-width:2\"   /><line x1=\"2\" y1=\"50\" x2=\"20\" y2=\"50\" stroke=\"green\" stroke-width:2\"   />  </g> </svg>', '<svg xmlns=\"http://www.w3.org/2000/svg\" xmlns:xlink=\"http://www.w3.org/1999/xlink\" version=\"1.1\" x=\"0\" y=\"100\" width=\"500\" height=\"120\">\\n      <g fill=\"none\" stroke=\"black\" stroke-width=\"1.6\" stroke-linecap=\"round\"> <circle cx=\"120\" cy=\"50\" r=\"3\" stroke=\"black\" stroke-width=\"1\" fill=\"black\" /> <circle cx=\"70\" cy=\"50\" r=\"3\" stroke=\"black\" stroke-width=\"1\" fill=\"black\" /> <circle cx=\"20\" cy=\"50\" r=\"3\" stroke=\"black\" stroke-width=\"1\" fill=\"black\" /> <circle cx=\"102\" cy=\"41\" r=\"2\" stroke=\"green\" stroke-width=\"1\" fill=\\'green\\' /> <circle cx=\"102\" cy=\"59\" r=\"2\" stroke=\"green\" stroke-width=\"1\" fill=\\'green\\' /> <circle cx=\"138\" cy=\"50\" r=\"2\" stroke=\"green\" stroke-width=\"1\"  /> <circle cx=\"88\" cy=\"50\" r=\"2\" stroke=\"green\" stroke-width=\"1\"  /> <circle cx=\"52\" cy=\"50\" r=\"2\" stroke=\"orange\" stroke-width=\"1\" fill=\\'orange\\' /> <circle cx=\"38\" cy=\"32\" r=\"2\" stroke=\"green\" stroke-width=\"1\"  /> <circle cx=\"38\" cy=\"50\" r=\"2\" stroke=\"orange\" stroke-width=\"1\"  /> <circle cx=\"2\" cy=\"50\" r=\"2\" stroke=\"green\" stroke-width=\"1\" fill=\\'green\\' /> <circle cx=\"38\" cy=\"68\" r=\"2\" stroke=\"orange\" stroke-width=\"1\"  /> <line x1=\"102\" y1=\"41\" x2=\"120\" y2=\"50\" stroke=\"green\" stroke-width:2\"  stroke-dasharray=\\'2,2\\' /><line x1=\"102\" y1=\"41\" x2=\"88\" y2=\"50\" stroke=\"green\" stroke-width:2\"  stroke-dasharray=\\'2,2\\' /><line x1=\"88\" y1=\"50\" x2=\"70\" y2=\"50\" stroke=\"green\" stroke-width:2\"  stroke-dasharray=\\'2,2\\' /><line x1=\"102\" y1=\"59\" x2=\"120\" y2=\"50\" stroke=\"green\" stroke-width:2\"  stroke-dasharray=\\'2,2\\' /><line x1=\"102\" y1=\"59\" x2=\"38\" y2=\"32\" stroke=\"green\" stroke-width:2\"  stroke-dasharray=\\'2,2\\' /><line x1=\"38\" y1=\"32\" x2=\"20\" y2=\"50\" stroke=\"green\" stroke-width:2\"  stroke-dasharray=\\'2,2\\' /><line x1=\"52\" y1=\"50\" x2=\"70\" y2=\"50\" stroke=\"orange\" stroke-width:2\"  stroke-dasharray=\\'2,2\\' /><line x1=\"52\" y1=\"50\" x2=\"38\" y2=\"50\" stroke=\"orange\" stroke-width:2\"  stroke-dasharray=\\'2,2\\' /><line x1=\"38\" y1=\"50\" x2=\"20\" y2=\"50\" stroke=\"orange\" stroke-width:2\"  stroke-dasharray=\\'2,2\\' /><line x1=\"138\" y1=\"50\" x2=\"120\" y2=\"50\" stroke=\"green\" stroke-width:2\"   /><line x1=\"2\" y1=\"50\" x2=\"20\" y2=\"50\" stroke=\"green\" stroke-width:2\"   /><line x1=\"38\" y1=\"68\" x2=\"20\" y2=\"50\" stroke=\"orange\" stroke-width:2\"   />  </g> </svg>']</svg>"
      ],
      "text/plain": [
       "<svg xmlns=\"http://www.w3.org/2000/svg\" xmlns:xlink=\"http://www.w3.org/1999/xlink\" version=\"1.1\" x=\"0\" y=\"0\" width=\"500\" height=\"210\">['<svg xmlns=\"http://www.w3.org/2000/svg\" xmlns:xlink=\"http://www.w3.org/1999/xlink\" version=\"1.1\" x=\"0\" y=\"0\" width=\"500\" height=\"120\">\\n      <g fill=\"none\" stroke=\"black\" stroke-width=\"1.6\" stroke-linecap=\"round\"> <circle cx=\"70\" cy=\"50\" r=\"3\" stroke=\"black\" stroke-width=\"1\" fill=\"black\" /> <circle cx=\"20\" cy=\"50\" r=\"3\" stroke=\"black\" stroke-width=\"1\" fill=\"black\" /> <circle cx=\"52\" cy=\"41\" r=\"2\" stroke=\"green\" stroke-width=\"1\" fill=\\'green\\' /> <circle cx=\"52\" cy=\"59\" r=\"2\" stroke=\"green\" stroke-width=\"1\" fill=\\'green\\' /> <circle cx=\"88\" cy=\"50\" r=\"2\" stroke=\"green\" stroke-width=\"1\"  /> <circle cx=\"38\" cy=\"50\" r=\"2\" stroke=\"green\" stroke-width=\"1\"  /> <circle cx=\"2\" cy=\"50\" r=\"2\" stroke=\"orange\" stroke-width=\"1\" fill=\\'orange\\' /> <line x1=\"52\" y1=\"41\" x2=\"70\" y2=\"50\" stroke=\"green\" stroke-width:2\"  stroke-dasharray=\\'2,2\\' /><line x1=\"52\" y1=\"41\" x2=\"38\" y2=\"50\" stroke=\"green\" stroke-width:2\"  stroke-dasharray=\\'2,2\\' /><line x1=\"38\" y1=\"50\" x2=\"20\" y2=\"50\" stroke=\"green\" stroke-width:2\"  stroke-dasharray=\\'2,2\\' /><line x1=\"52\" y1=\"59\" x2=\"70\" y2=\"50\" stroke=\"green\" stroke-width:2\"   /><line x1=\"88\" y1=\"50\" x2=\"70\" y2=\"50\" stroke=\"green\" stroke-width:2\"   /><line x1=\"2\" y1=\"50\" x2=\"20\" y2=\"50\" stroke=\"orange\" stroke-width:2\"   />  </g> </svg>', '<svg xmlns=\"http://www.w3.org/2000/svg\" xmlns:xlink=\"http://www.w3.org/1999/xlink\" version=\"1.1\" x=\"0\" y=\"50\" width=\"500\" height=\"120\">\\n      <g fill=\"none\" stroke=\"black\" stroke-width=\"1.6\" stroke-linecap=\"round\"> <circle cx=\"70\" cy=\"50\" r=\"3\" stroke=\"black\" stroke-width=\"1\" fill=\"black\" /> <circle cx=\"20\" cy=\"50\" r=\"3\" stroke=\"black\" stroke-width=\"1\" fill=\"black\" /> <circle cx=\"52\" cy=\"41\" r=\"2\" stroke=\"green\" stroke-width=\"1\" fill=\\'green\\' /> <circle cx=\"52\" cy=\"59\" r=\"2\" stroke=\"green\" stroke-width=\"1\" fill=\\'green\\' /> <circle cx=\"88\" cy=\"50\" r=\"2\" stroke=\"green\" stroke-width=\"1\"  /> <circle cx=\"38\" cy=\"41\" r=\"2\" stroke=\"green\" stroke-width=\"1\"  /> <circle cx=\"38\" cy=\"59\" r=\"2\" stroke=\"green\" stroke-width=\"1\"  /> <circle cx=\"2\" cy=\"50\" r=\"2\" stroke=\"green\" stroke-width=\"1\" fill=\\'green\\' /> <line x1=\"52\" y1=\"41\" x2=\"70\" y2=\"50\" stroke=\"green\" stroke-width:2\"  stroke-dasharray=\\'2,2\\' /><line x1=\"52\" y1=\"41\" x2=\"38\" y2=\"41\" stroke=\"green\" stroke-width:2\"  stroke-dasharray=\\'2,2\\' /><line x1=\"38\" y1=\"41\" x2=\"20\" y2=\"50\" stroke=\"green\" stroke-width:2\"  stroke-dasharray=\\'2,2\\' /><line x1=\"52\" y1=\"59\" x2=\"70\" y2=\"50\" stroke=\"green\" stroke-width:2\"  stroke-dasharray=\\'2,2\\' /><line x1=\"52\" y1=\"59\" x2=\"38\" y2=\"59\" stroke=\"green\" stroke-width:2\"  stroke-dasharray=\\'2,2\\' /><line x1=\"38\" y1=\"59\" x2=\"20\" y2=\"50\" stroke=\"green\" stroke-width:2\"  stroke-dasharray=\\'2,2\\' /><line x1=\"88\" y1=\"50\" x2=\"70\" y2=\"50\" stroke=\"green\" stroke-width:2\"   /><line x1=\"2\" y1=\"50\" x2=\"20\" y2=\"50\" stroke=\"green\" stroke-width:2\"   />  </g> </svg>', '<svg xmlns=\"http://www.w3.org/2000/svg\" xmlns:xlink=\"http://www.w3.org/1999/xlink\" version=\"1.1\" x=\"0\" y=\"100\" width=\"500\" height=\"120\">\\n      <g fill=\"none\" stroke=\"black\" stroke-width=\"1.6\" stroke-linecap=\"round\"> <circle cx=\"120\" cy=\"50\" r=\"3\" stroke=\"black\" stroke-width=\"1\" fill=\"black\" /> <circle cx=\"70\" cy=\"50\" r=\"3\" stroke=\"black\" stroke-width=\"1\" fill=\"black\" /> <circle cx=\"20\" cy=\"50\" r=\"3\" stroke=\"black\" stroke-width=\"1\" fill=\"black\" /> <circle cx=\"102\" cy=\"41\" r=\"2\" stroke=\"green\" stroke-width=\"1\" fill=\\'green\\' /> <circle cx=\"102\" cy=\"59\" r=\"2\" stroke=\"green\" stroke-width=\"1\" fill=\\'green\\' /> <circle cx=\"138\" cy=\"50\" r=\"2\" stroke=\"green\" stroke-width=\"1\"  /> <circle cx=\"88\" cy=\"50\" r=\"2\" stroke=\"green\" stroke-width=\"1\"  /> <circle cx=\"52\" cy=\"50\" r=\"2\" stroke=\"orange\" stroke-width=\"1\" fill=\\'orange\\' /> <circle cx=\"38\" cy=\"32\" r=\"2\" stroke=\"green\" stroke-width=\"1\"  /> <circle cx=\"38\" cy=\"50\" r=\"2\" stroke=\"orange\" stroke-width=\"1\"  /> <circle cx=\"2\" cy=\"50\" r=\"2\" stroke=\"green\" stroke-width=\"1\" fill=\\'green\\' /> <circle cx=\"38\" cy=\"68\" r=\"2\" stroke=\"orange\" stroke-width=\"1\"  /> <line x1=\"102\" y1=\"41\" x2=\"120\" y2=\"50\" stroke=\"green\" stroke-width:2\"  stroke-dasharray=\\'2,2\\' /><line x1=\"102\" y1=\"41\" x2=\"88\" y2=\"50\" stroke=\"green\" stroke-width:2\"  stroke-dasharray=\\'2,2\\' /><line x1=\"88\" y1=\"50\" x2=\"70\" y2=\"50\" stroke=\"green\" stroke-width:2\"  stroke-dasharray=\\'2,2\\' /><line x1=\"102\" y1=\"59\" x2=\"120\" y2=\"50\" stroke=\"green\" stroke-width:2\"  stroke-dasharray=\\'2,2\\' /><line x1=\"102\" y1=\"59\" x2=\"38\" y2=\"32\" stroke=\"green\" stroke-width:2\"  stroke-dasharray=\\'2,2\\' /><line x1=\"38\" y1=\"32\" x2=\"20\" y2=\"50\" stroke=\"green\" stroke-width:2\"  stroke-dasharray=\\'2,2\\' /><line x1=\"52\" y1=\"50\" x2=\"70\" y2=\"50\" stroke=\"orange\" stroke-width:2\"  stroke-dasharray=\\'2,2\\' /><line x1=\"52\" y1=\"50\" x2=\"38\" y2=\"50\" stroke=\"orange\" stroke-width:2\"  stroke-dasharray=\\'2,2\\' /><line x1=\"38\" y1=\"50\" x2=\"20\" y2=\"50\" stroke=\"orange\" stroke-width:2\"  stroke-dasharray=\\'2,2\\' /><line x1=\"138\" y1=\"50\" x2=\"120\" y2=\"50\" stroke=\"green\" stroke-width:2\"   /><line x1=\"2\" y1=\"50\" x2=\"20\" y2=\"50\" stroke=\"green\" stroke-width:2\"   /><line x1=\"38\" y1=\"68\" x2=\"20\" y2=\"50\" stroke=\"orange\" stroke-width:2\"   />  </g> </svg>']</svg>"
      ]
     },
     "execution_count": 19,
     "metadata": {},
     "output_type": "execute_result"
    }
   ],
   "source": [
    "diagram_set([G(branching)*G(transmutation),\n",
    "             G(branching)*G(coagulation),\n",
    "             G(branching)*G(transmutation)*G(j)])"
   ]
  },
  {
   "cell_type": "code",
   "execution_count": 20,
   "metadata": {},
   "outputs": [
    {
     "data": {
      "text/html": [
       "<svg xmlns=\"http://www.w3.org/2000/svg\" xmlns:xlink=\"http://www.w3.org/1999/xlink\" version=\"1.1\" x=\"0\" y=\"0\" width=\"240\" height=\"120\">\n",
       "      <g fill=\"none\" stroke=\"black\" stroke-width=\"1.6\" stroke-linecap=\"round\">\n",
       "         <line x1=\"0\" y1=\"0\" x2=\"40\" y2=\"0\" stroke=\"red\" stroke-dasharray=\"None\" stroke-width:2\" transform=\" translate(80,50) rotate(-30.0 0, 0 )\" />  <path d=\"M 0,0 C 2,-3.142 3,-5 5,-5 S 8,-3.142 10,0 S 13,5 15,5 S 18,3.142 20,0 C 22,-3.142 23,-5 25,-5 S 28,-3.142 30,0 S 33,5 35,5 S 38,3.142 40,0\" \n",
       "                       stroke=\"black\" stroke-dasharray=\"None\" stroke-width:2\" transform=\" translate(80,50) rotate(30.0 0, 0 )\" />  <line x1=\"0\" y1=\"0\" x2=\"40\" y2=\"0\" stroke=\"red\" stroke-dasharray=\"None\" stroke-width:2\" transform=\" translate(80,50) rotate(-180.0 0, 0 )\" /> \n",
       "      </g>\n",
       "      <circle cx=\"80\" cy=\"50\" r=\"2\" stroke=\"black\" stroke-width=\"1\" fill=\"black\" />\n",
       "    </svg>"
      ],
      "text/plain": [
       "<svg xmlns=\"http://www.w3.org/2000/svg\" xmlns:xlink=\"http://www.w3.org/1999/xlink\" version=\"1.1\" x=\"0\" y=\"0\" width=\"240\" height=\"120\">\n",
       "      <g fill=\"none\" stroke=\"black\" stroke-width=\"1.6\" stroke-linecap=\"round\">\n",
       "         <line x1=\"0\" y1=\"0\" x2=\"40\" y2=\"0\" stroke=\"red\" stroke-dasharray=\"None\" stroke-width:2\" transform=\" translate(80,50) rotate(-30.0 0, 0 )\" />  <path d=\"M 0,0 C 2,-3.142 3,-5 5,-5 S 8,-3.142 10,0 S 13,5 15,5 S 18,3.142 20,0 C 22,-3.142 23,-5 25,-5 S 28,-3.142 30,0 S 33,5 35,5 S 38,3.142 40,0\" \n",
       "                       stroke=\"black\" stroke-dasharray=\"None\" stroke-width:2\" transform=\" translate(80,50) rotate(30.0 0, 0 )\" />  <line x1=\"0\" y1=\"0\" x2=\"40\" y2=\"0\" stroke=\"red\" stroke-dasharray=\"None\" stroke-width:2\" transform=\" translate(80,50) rotate(-180.0 0, 0 )\" /> \n",
       "      </g>\n",
       "      <circle cx=\"80\" cy=\"50\" r=\"2\" stroke=\"black\" stroke-width=\"1\" fill=\"black\" />\n",
       "    </svg>"
      ]
     },
     "execution_count": 20,
     "metadata": {},
     "output_type": "execute_result"
    }
   ],
   "source": [
    " (G(branching)*G(transmutation)*G(j)).residual_interaction.diagram"
   ]
  },
  {
   "cell_type": "markdown",
   "metadata": {},
   "source": [
    "## Permutations"
   ]
  },
  {
   "cell_type": "code",
   "execution_count": 44,
   "metadata": {},
   "outputs": [
    {
     "data": {
      "text/latex": [
       "$$443$$"
      ],
      "text/plain": [
       "443"
      ]
     },
     "execution_count": 44,
     "metadata": {},
     "output_type": "execute_result"
    }
   ],
   "source": [
    "import itertools,functools\n",
    "\n",
    "def _combine(set_of_interactions):\n",
    "        def _merge(a,b): \n",
    "            if a is None:return b\n",
    "            if b is None:return a\n",
    "            return a * b\n",
    "        return functools.reduce(_merge, set_of_interactions, None)\n",
    "    \n",
    "def graph_permutations(primitives, loop_orders = [0], max_k=3):\n",
    "    if not isinstance(loop_orders, list):loop_orders = [loop_orders]\n",
    "    l = [] \n",
    "    \n",
    "    for i in range(2,max_k+1):\n",
    "        for tup in list(itertools.permutations(primitives,i)):\n",
    "            res = _combine(list(tup))\n",
    "            l.append(res)\n",
    "    #todo : define uniqueness and validity\n",
    "    return list(set(l))\n",
    "\n",
    "#simple sample system\n",
    "res = graph_permutations([G(branching), G(transmutation),G(coagulation),G(j)])\n",
    "#our vicious walker system\n",
    "res = graph_permutations([G(j) for j in interactions])\n",
    "\n",
    "len(res)"
   ]
  },
  {
   "cell_type": "code",
   "execution_count": 43,
   "metadata": {},
   "outputs": [
    {
     "data": {
      "text/html": [
       "<svg xmlns=\"http://www.w3.org/2000/svg\" xmlns:xlink=\"http://www.w3.org/1999/xlink\" version=\"1.1\" x=\"0\" y=\"0\" width=\"500\" height=\"610\">['<svg xmlns=\"http://www.w3.org/2000/svg\" xmlns:xlink=\"http://www.w3.org/1999/xlink\" version=\"1.1\" x=\"0\" y=\"0\" width=\"500\" height=\"120\">\\n      <g fill=\"none\" stroke=\"black\" stroke-width=\"1.6\" stroke-linecap=\"round\"> <circle cx=\"20\" cy=\"50\" r=\"3\" stroke=\"black\" stroke-width=\"1\" fill=\"black\" /> <circle cx=\"2\" cy=\"50\" r=\"2\" stroke=\"green\" stroke-width=\"1\" fill=\\'green\\' /> <circle cx=\"38\" cy=\"50\" r=\"2\" stroke=\"green\" stroke-width=\"1\"  /> <line x1=\"2\" y1=\"50\" x2=\"20\" y2=\"50\" stroke=\"green\" stroke-width:2\"   /><line x1=\"38\" y1=\"50\" x2=\"20\" y2=\"50\" stroke=\"green\" stroke-width:2\"   />  </g> </svg>', '<svg xmlns=\"http://www.w3.org/2000/svg\" xmlns:xlink=\"http://www.w3.org/1999/xlink\" version=\"1.1\" x=\"0\" y=\"50\" width=\"500\" height=\"120\">\\n      <g fill=\"none\" stroke=\"black\" stroke-width=\"1.6\" stroke-linecap=\"round\"> <circle cx=\"20\" cy=\"50\" r=\"3\" stroke=\"black\" stroke-width=\"1\" fill=\"black\" /> <circle cx=\"2\" cy=\"50\" r=\"2\" stroke=\"orange\" stroke-width=\"1\" fill=\\'orange\\' /> <circle cx=\"38\" cy=\"50\" r=\"2\" stroke=\"orange\" stroke-width=\"1\"  /> <line x1=\"2\" y1=\"50\" x2=\"20\" y2=\"50\" stroke=\"orange\" stroke-width:2\"   /><line x1=\"38\" y1=\"50\" x2=\"20\" y2=\"50\" stroke=\"orange\" stroke-width:2\"   />  </g> </svg>', '<svg xmlns=\"http://www.w3.org/2000/svg\" xmlns:xlink=\"http://www.w3.org/1999/xlink\" version=\"1.1\" x=\"0\" y=\"100\" width=\"500\" height=\"120\">\\n      <g fill=\"none\" stroke=\"black\" stroke-width=\"1.6\" stroke-linecap=\"round\"> <circle cx=\"20\" cy=\"50\" r=\"3\" stroke=\"black\" stroke-width=\"1\" fill=\"black\" /> <circle cx=\"38\" cy=\"50\" r=\"2\" stroke=\"green\" stroke-width=\"1\"  /> <circle cx=\"2\" cy=\"50\" r=\"2\" stroke=\"orange\" stroke-width=\"1\" fill=\\'orange\\' /> <line x1=\"38\" y1=\"50\" x2=\"20\" y2=\"50\" stroke=\"green\" stroke-width:2\"   /><line x1=\"2\" y1=\"50\" x2=\"20\" y2=\"50\" stroke=\"orange\" stroke-width:2\"   />  </g> </svg>', '<svg xmlns=\"http://www.w3.org/2000/svg\" xmlns:xlink=\"http://www.w3.org/1999/xlink\" version=\"1.1\" x=\"0\" y=\"150\" width=\"500\" height=\"120\">\\n      <g fill=\"none\" stroke=\"black\" stroke-width=\"1.6\" stroke-linecap=\"round\"> <circle cx=\"20\" cy=\"50\" r=\"3\" stroke=\"black\" stroke-width=\"1\" fill=\"black\" /> <circle cx=\"2\" cy=\"41\" r=\"2\" stroke=\"green\" stroke-width=\"1\" fill=\\'green\\' /> <circle cx=\"2\" cy=\"59\" r=\"2\" stroke=\"green\" stroke-width=\"1\" fill=\\'green\\' /> <circle cx=\"38\" cy=\"50\" r=\"2\" stroke=\"green\" stroke-width=\"1\"  /> <line x1=\"2\" y1=\"41\" x2=\"20\" y2=\"50\" stroke=\"green\" stroke-width:2\"   /><line x1=\"2\" y1=\"59\" x2=\"20\" y2=\"50\" stroke=\"green\" stroke-width:2\"   /><line x1=\"38\" y1=\"50\" x2=\"20\" y2=\"50\" stroke=\"green\" stroke-width:2\"   />  </g> </svg>', '<svg xmlns=\"http://www.w3.org/2000/svg\" xmlns:xlink=\"http://www.w3.org/1999/xlink\" version=\"1.1\" x=\"0\" y=\"200\" width=\"500\" height=\"120\">\\n      <g fill=\"none\" stroke=\"black\" stroke-width=\"1.6\" stroke-linecap=\"round\"> <circle cx=\"20\" cy=\"50\" r=\"3\" stroke=\"black\" stroke-width=\"1\" fill=\"black\" /> <circle cx=\"2\" cy=\"41\" r=\"2\" stroke=\"green\" stroke-width=\"1\" fill=\\'green\\' /> <circle cx=\"38\" cy=\"50\" r=\"2\" stroke=\"green\" stroke-width=\"1\"  /> <circle cx=\"2\" cy=\"59\" r=\"2\" stroke=\"orange\" stroke-width=\"1\" fill=\\'orange\\' /> <line x1=\"2\" y1=\"41\" x2=\"20\" y2=\"50\" stroke=\"green\" stroke-width:2\"   /><line x1=\"38\" y1=\"50\" x2=\"20\" y2=\"50\" stroke=\"green\" stroke-width:2\"   /><line x1=\"2\" y1=\"59\" x2=\"20\" y2=\"50\" stroke=\"orange\" stroke-width:2\"   />  </g> </svg>', '<svg xmlns=\"http://www.w3.org/2000/svg\" xmlns:xlink=\"http://www.w3.org/1999/xlink\" version=\"1.1\" x=\"0\" y=\"250\" width=\"500\" height=\"120\">\\n      <g fill=\"none\" stroke=\"black\" stroke-width=\"1.6\" stroke-linecap=\"round\"> <circle cx=\"20\" cy=\"50\" r=\"3\" stroke=\"black\" stroke-width=\"1\" fill=\"black\" /> <circle cx=\"2\" cy=\"41\" r=\"2\" stroke=\"green\" stroke-width=\"1\" fill=\\'green\\' /> <circle cx=\"38\" cy=\"41\" r=\"2\" stroke=\"green\" stroke-width=\"1\"  /> <circle cx=\"2\" cy=\"59\" r=\"2\" stroke=\"orange\" stroke-width=\"1\" fill=\\'orange\\' /> <circle cx=\"38\" cy=\"59\" r=\"2\" stroke=\"orange\" stroke-width=\"1\"  /> <line x1=\"2\" y1=\"41\" x2=\"20\" y2=\"50\" stroke=\"green\" stroke-width:2\"   /><line x1=\"38\" y1=\"41\" x2=\"20\" y2=\"50\" stroke=\"green\" stroke-width:2\"   /><line x1=\"2\" y1=\"59\" x2=\"20\" y2=\"50\" stroke=\"orange\" stroke-width:2\"   /><line x1=\"38\" y1=\"59\" x2=\"20\" y2=\"50\" stroke=\"orange\" stroke-width:2\"   />  </g> </svg>', '<svg xmlns=\"http://www.w3.org/2000/svg\" xmlns:xlink=\"http://www.w3.org/1999/xlink\" version=\"1.1\" x=\"0\" y=\"300\" width=\"500\" height=\"120\">\\n      <g fill=\"none\" stroke=\"black\" stroke-width=\"1.6\" stroke-linecap=\"round\"> <circle cx=\"20\" cy=\"50\" r=\"3\" stroke=\"black\" stroke-width=\"1\" fill=\"black\" /> <circle cx=\"38\" cy=\"41\" r=\"2\" stroke=\"green\" stroke-width=\"1\"  /> <circle cx=\"2\" cy=\"50\" r=\"2\" stroke=\"orange\" stroke-width=\"1\" fill=\\'orange\\' /> <circle cx=\"38\" cy=\"59\" r=\"2\" stroke=\"orange\" stroke-width=\"1\"  /> <line x1=\"38\" y1=\"41\" x2=\"20\" y2=\"50\" stroke=\"green\" stroke-width:2\"   /><line x1=\"2\" y1=\"50\" x2=\"20\" y2=\"50\" stroke=\"orange\" stroke-width:2\"   /><line x1=\"38\" y1=\"59\" x2=\"20\" y2=\"50\" stroke=\"orange\" stroke-width:2\"   />  </g> </svg>', '<svg xmlns=\"http://www.w3.org/2000/svg\" xmlns:xlink=\"http://www.w3.org/1999/xlink\" version=\"1.1\" x=\"0\" y=\"350\" width=\"500\" height=\"120\">\\n      <g fill=\"none\" stroke=\"black\" stroke-width=\"1.6\" stroke-linecap=\"round\"> <circle cx=\"20\" cy=\"50\" r=\"3\" stroke=\"black\" stroke-width=\"1\" fill=\"black\" /> <circle cx=\"2\" cy=\"32\" r=\"2\" stroke=\"green\" stroke-width=\"1\" fill=\\'green\\' /> <circle cx=\"2\" cy=\"50\" r=\"2\" stroke=\"orange\" stroke-width=\"1\" fill=\\'orange\\' /> <circle cx=\"2\" cy=\"68\" r=\"2\" stroke=\"orange\" stroke-width=\"1\" fill=\\'orange\\' /> <circle cx=\"38\" cy=\"50\" r=\"2\" stroke=\"orange\" stroke-width=\"1\"  /> <line x1=\"2\" y1=\"32\" x2=\"20\" y2=\"50\" stroke=\"green\" stroke-width:2\"   /><line x1=\"2\" y1=\"50\" x2=\"20\" y2=\"50\" stroke=\"orange\" stroke-width:2\"   /><line x1=\"2\" y1=\"68\" x2=\"20\" y2=\"50\" stroke=\"orange\" stroke-width:2\"   /><line x1=\"38\" y1=\"50\" x2=\"20\" y2=\"50\" stroke=\"orange\" stroke-width:2\"   />  </g> </svg>', '<svg xmlns=\"http://www.w3.org/2000/svg\" xmlns:xlink=\"http://www.w3.org/1999/xlink\" version=\"1.1\" x=\"0\" y=\"400\" width=\"500\" height=\"120\">\\n      <g fill=\"none\" stroke=\"black\" stroke-width=\"1.6\" stroke-linecap=\"round\"> <circle cx=\"20\" cy=\"50\" r=\"3\" stroke=\"black\" stroke-width=\"1\" fill=\"black\" /> <circle cx=\"38\" cy=\"41\" r=\"2\" stroke=\"green\" stroke-width=\"1\"  /> <circle cx=\"2\" cy=\"41\" r=\"2\" stroke=\"orange\" stroke-width=\"1\" fill=\\'orange\\' /> <circle cx=\"2\" cy=\"59\" r=\"2\" stroke=\"orange\" stroke-width=\"1\" fill=\\'orange\\' /> <circle cx=\"38\" cy=\"59\" r=\"2\" stroke=\"orange\" stroke-width=\"1\"  /> <line x1=\"38\" y1=\"41\" x2=\"20\" y2=\"50\" stroke=\"green\" stroke-width:2\"   /><line x1=\"2\" y1=\"41\" x2=\"20\" y2=\"50\" stroke=\"orange\" stroke-width:2\"   /><line x1=\"2\" y1=\"59\" x2=\"20\" y2=\"50\" stroke=\"orange\" stroke-width:2\"   /><line x1=\"38\" y1=\"59\" x2=\"20\" y2=\"50\" stroke=\"orange\" stroke-width:2\"   />  </g> </svg>', '<svg xmlns=\"http://www.w3.org/2000/svg\" xmlns:xlink=\"http://www.w3.org/1999/xlink\" version=\"1.1\" x=\"0\" y=\"450\" width=\"500\" height=\"120\">\\n      <g fill=\"none\" stroke=\"black\" stroke-width=\"1.6\" stroke-linecap=\"round\"> <circle cx=\"20\" cy=\"50\" r=\"3\" stroke=\"black\" stroke-width=\"1\" fill=\"black\" /> <circle cx=\"2\" cy=\"50\" r=\"2\" stroke=\"green\" stroke-width=\"1\" fill=\\'green\\' /> <circle cx=\"38\" cy=\"41\" r=\"2\" stroke=\"green\" stroke-width=\"1\"  /> <circle cx=\"38\" cy=\"59\" r=\"2\" stroke=\"orange\" stroke-width=\"1\"  /> <line x1=\"2\" y1=\"50\" x2=\"20\" y2=\"50\" stroke=\"green\" stroke-width:2\"   /><line x1=\"38\" y1=\"41\" x2=\"20\" y2=\"50\" stroke=\"green\" stroke-width:2\"   /><line x1=\"38\" y1=\"59\" x2=\"20\" y2=\"50\" stroke=\"orange\" stroke-width:2\"   />  </g> </svg>', '<svg xmlns=\"http://www.w3.org/2000/svg\" xmlns:xlink=\"http://www.w3.org/1999/xlink\" version=\"1.1\" x=\"0\" y=\"500\" width=\"500\" height=\"120\">\\n      <g fill=\"none\" stroke=\"black\" stroke-width=\"1.6\" stroke-linecap=\"round\"> <circle cx=\"20\" cy=\"50\" r=\"3\" stroke=\"black\" stroke-width=\"1\" fill=\"black\" /> <circle cx=\"2\" cy=\"41\" r=\"2\" stroke=\"green\" stroke-width=\"1\" fill=\\'green\\' /> <circle cx=\"38\" cy=\"41\" r=\"2\" stroke=\"green\" stroke-width=\"1\"  /> <circle cx=\"38\" cy=\"59\" r=\"2\" stroke=\"green\" stroke-width=\"1\"  /> <circle cx=\"2\" cy=\"59\" r=\"2\" stroke=\"orange\" stroke-width=\"1\" fill=\\'orange\\' /> <line x1=\"2\" y1=\"41\" x2=\"20\" y2=\"50\" stroke=\"green\" stroke-width:2\"   /><line x1=\"38\" y1=\"41\" x2=\"20\" y2=\"50\" stroke=\"green\" stroke-width:2\"   /><line x1=\"38\" y1=\"59\" x2=\"20\" y2=\"50\" stroke=\"green\" stroke-width:2\"   /><line x1=\"2\" y1=\"59\" x2=\"20\" y2=\"50\" stroke=\"orange\" stroke-width:2\"   />  </g> </svg>']</svg>"
      ],
      "text/plain": [
       "<svg xmlns=\"http://www.w3.org/2000/svg\" xmlns:xlink=\"http://www.w3.org/1999/xlink\" version=\"1.1\" x=\"0\" y=\"0\" width=\"500\" height=\"610\">['<svg xmlns=\"http://www.w3.org/2000/svg\" xmlns:xlink=\"http://www.w3.org/1999/xlink\" version=\"1.1\" x=\"0\" y=\"0\" width=\"500\" height=\"120\">\\n      <g fill=\"none\" stroke=\"black\" stroke-width=\"1.6\" stroke-linecap=\"round\"> <circle cx=\"20\" cy=\"50\" r=\"3\" stroke=\"black\" stroke-width=\"1\" fill=\"black\" /> <circle cx=\"2\" cy=\"50\" r=\"2\" stroke=\"green\" stroke-width=\"1\" fill=\\'green\\' /> <circle cx=\"38\" cy=\"50\" r=\"2\" stroke=\"green\" stroke-width=\"1\"  /> <line x1=\"2\" y1=\"50\" x2=\"20\" y2=\"50\" stroke=\"green\" stroke-width:2\"   /><line x1=\"38\" y1=\"50\" x2=\"20\" y2=\"50\" stroke=\"green\" stroke-width:2\"   />  </g> </svg>', '<svg xmlns=\"http://www.w3.org/2000/svg\" xmlns:xlink=\"http://www.w3.org/1999/xlink\" version=\"1.1\" x=\"0\" y=\"50\" width=\"500\" height=\"120\">\\n      <g fill=\"none\" stroke=\"black\" stroke-width=\"1.6\" stroke-linecap=\"round\"> <circle cx=\"20\" cy=\"50\" r=\"3\" stroke=\"black\" stroke-width=\"1\" fill=\"black\" /> <circle cx=\"2\" cy=\"50\" r=\"2\" stroke=\"orange\" stroke-width=\"1\" fill=\\'orange\\' /> <circle cx=\"38\" cy=\"50\" r=\"2\" stroke=\"orange\" stroke-width=\"1\"  /> <line x1=\"2\" y1=\"50\" x2=\"20\" y2=\"50\" stroke=\"orange\" stroke-width:2\"   /><line x1=\"38\" y1=\"50\" x2=\"20\" y2=\"50\" stroke=\"orange\" stroke-width:2\"   />  </g> </svg>', '<svg xmlns=\"http://www.w3.org/2000/svg\" xmlns:xlink=\"http://www.w3.org/1999/xlink\" version=\"1.1\" x=\"0\" y=\"100\" width=\"500\" height=\"120\">\\n      <g fill=\"none\" stroke=\"black\" stroke-width=\"1.6\" stroke-linecap=\"round\"> <circle cx=\"20\" cy=\"50\" r=\"3\" stroke=\"black\" stroke-width=\"1\" fill=\"black\" /> <circle cx=\"38\" cy=\"50\" r=\"2\" stroke=\"green\" stroke-width=\"1\"  /> <circle cx=\"2\" cy=\"50\" r=\"2\" stroke=\"orange\" stroke-width=\"1\" fill=\\'orange\\' /> <line x1=\"38\" y1=\"50\" x2=\"20\" y2=\"50\" stroke=\"green\" stroke-width:2\"   /><line x1=\"2\" y1=\"50\" x2=\"20\" y2=\"50\" stroke=\"orange\" stroke-width:2\"   />  </g> </svg>', '<svg xmlns=\"http://www.w3.org/2000/svg\" xmlns:xlink=\"http://www.w3.org/1999/xlink\" version=\"1.1\" x=\"0\" y=\"150\" width=\"500\" height=\"120\">\\n      <g fill=\"none\" stroke=\"black\" stroke-width=\"1.6\" stroke-linecap=\"round\"> <circle cx=\"20\" cy=\"50\" r=\"3\" stroke=\"black\" stroke-width=\"1\" fill=\"black\" /> <circle cx=\"2\" cy=\"41\" r=\"2\" stroke=\"green\" stroke-width=\"1\" fill=\\'green\\' /> <circle cx=\"2\" cy=\"59\" r=\"2\" stroke=\"green\" stroke-width=\"1\" fill=\\'green\\' /> <circle cx=\"38\" cy=\"50\" r=\"2\" stroke=\"green\" stroke-width=\"1\"  /> <line x1=\"2\" y1=\"41\" x2=\"20\" y2=\"50\" stroke=\"green\" stroke-width:2\"   /><line x1=\"2\" y1=\"59\" x2=\"20\" y2=\"50\" stroke=\"green\" stroke-width:2\"   /><line x1=\"38\" y1=\"50\" x2=\"20\" y2=\"50\" stroke=\"green\" stroke-width:2\"   />  </g> </svg>', '<svg xmlns=\"http://www.w3.org/2000/svg\" xmlns:xlink=\"http://www.w3.org/1999/xlink\" version=\"1.1\" x=\"0\" y=\"200\" width=\"500\" height=\"120\">\\n      <g fill=\"none\" stroke=\"black\" stroke-width=\"1.6\" stroke-linecap=\"round\"> <circle cx=\"20\" cy=\"50\" r=\"3\" stroke=\"black\" stroke-width=\"1\" fill=\"black\" /> <circle cx=\"2\" cy=\"41\" r=\"2\" stroke=\"green\" stroke-width=\"1\" fill=\\'green\\' /> <circle cx=\"38\" cy=\"50\" r=\"2\" stroke=\"green\" stroke-width=\"1\"  /> <circle cx=\"2\" cy=\"59\" r=\"2\" stroke=\"orange\" stroke-width=\"1\" fill=\\'orange\\' /> <line x1=\"2\" y1=\"41\" x2=\"20\" y2=\"50\" stroke=\"green\" stroke-width:2\"   /><line x1=\"38\" y1=\"50\" x2=\"20\" y2=\"50\" stroke=\"green\" stroke-width:2\"   /><line x1=\"2\" y1=\"59\" x2=\"20\" y2=\"50\" stroke=\"orange\" stroke-width:2\"   />  </g> </svg>', '<svg xmlns=\"http://www.w3.org/2000/svg\" xmlns:xlink=\"http://www.w3.org/1999/xlink\" version=\"1.1\" x=\"0\" y=\"250\" width=\"500\" height=\"120\">\\n      <g fill=\"none\" stroke=\"black\" stroke-width=\"1.6\" stroke-linecap=\"round\"> <circle cx=\"20\" cy=\"50\" r=\"3\" stroke=\"black\" stroke-width=\"1\" fill=\"black\" /> <circle cx=\"2\" cy=\"41\" r=\"2\" stroke=\"green\" stroke-width=\"1\" fill=\\'green\\' /> <circle cx=\"38\" cy=\"41\" r=\"2\" stroke=\"green\" stroke-width=\"1\"  /> <circle cx=\"2\" cy=\"59\" r=\"2\" stroke=\"orange\" stroke-width=\"1\" fill=\\'orange\\' /> <circle cx=\"38\" cy=\"59\" r=\"2\" stroke=\"orange\" stroke-width=\"1\"  /> <line x1=\"2\" y1=\"41\" x2=\"20\" y2=\"50\" stroke=\"green\" stroke-width:2\"   /><line x1=\"38\" y1=\"41\" x2=\"20\" y2=\"50\" stroke=\"green\" stroke-width:2\"   /><line x1=\"2\" y1=\"59\" x2=\"20\" y2=\"50\" stroke=\"orange\" stroke-width:2\"   /><line x1=\"38\" y1=\"59\" x2=\"20\" y2=\"50\" stroke=\"orange\" stroke-width:2\"   />  </g> </svg>', '<svg xmlns=\"http://www.w3.org/2000/svg\" xmlns:xlink=\"http://www.w3.org/1999/xlink\" version=\"1.1\" x=\"0\" y=\"300\" width=\"500\" height=\"120\">\\n      <g fill=\"none\" stroke=\"black\" stroke-width=\"1.6\" stroke-linecap=\"round\"> <circle cx=\"20\" cy=\"50\" r=\"3\" stroke=\"black\" stroke-width=\"1\" fill=\"black\" /> <circle cx=\"38\" cy=\"41\" r=\"2\" stroke=\"green\" stroke-width=\"1\"  /> <circle cx=\"2\" cy=\"50\" r=\"2\" stroke=\"orange\" stroke-width=\"1\" fill=\\'orange\\' /> <circle cx=\"38\" cy=\"59\" r=\"2\" stroke=\"orange\" stroke-width=\"1\"  /> <line x1=\"38\" y1=\"41\" x2=\"20\" y2=\"50\" stroke=\"green\" stroke-width:2\"   /><line x1=\"2\" y1=\"50\" x2=\"20\" y2=\"50\" stroke=\"orange\" stroke-width:2\"   /><line x1=\"38\" y1=\"59\" x2=\"20\" y2=\"50\" stroke=\"orange\" stroke-width:2\"   />  </g> </svg>', '<svg xmlns=\"http://www.w3.org/2000/svg\" xmlns:xlink=\"http://www.w3.org/1999/xlink\" version=\"1.1\" x=\"0\" y=\"350\" width=\"500\" height=\"120\">\\n      <g fill=\"none\" stroke=\"black\" stroke-width=\"1.6\" stroke-linecap=\"round\"> <circle cx=\"20\" cy=\"50\" r=\"3\" stroke=\"black\" stroke-width=\"1\" fill=\"black\" /> <circle cx=\"2\" cy=\"32\" r=\"2\" stroke=\"green\" stroke-width=\"1\" fill=\\'green\\' /> <circle cx=\"2\" cy=\"50\" r=\"2\" stroke=\"orange\" stroke-width=\"1\" fill=\\'orange\\' /> <circle cx=\"2\" cy=\"68\" r=\"2\" stroke=\"orange\" stroke-width=\"1\" fill=\\'orange\\' /> <circle cx=\"38\" cy=\"50\" r=\"2\" stroke=\"orange\" stroke-width=\"1\"  /> <line x1=\"2\" y1=\"32\" x2=\"20\" y2=\"50\" stroke=\"green\" stroke-width:2\"   /><line x1=\"2\" y1=\"50\" x2=\"20\" y2=\"50\" stroke=\"orange\" stroke-width:2\"   /><line x1=\"2\" y1=\"68\" x2=\"20\" y2=\"50\" stroke=\"orange\" stroke-width:2\"   /><line x1=\"38\" y1=\"50\" x2=\"20\" y2=\"50\" stroke=\"orange\" stroke-width:2\"   />  </g> </svg>', '<svg xmlns=\"http://www.w3.org/2000/svg\" xmlns:xlink=\"http://www.w3.org/1999/xlink\" version=\"1.1\" x=\"0\" y=\"400\" width=\"500\" height=\"120\">\\n      <g fill=\"none\" stroke=\"black\" stroke-width=\"1.6\" stroke-linecap=\"round\"> <circle cx=\"20\" cy=\"50\" r=\"3\" stroke=\"black\" stroke-width=\"1\" fill=\"black\" /> <circle cx=\"38\" cy=\"41\" r=\"2\" stroke=\"green\" stroke-width=\"1\"  /> <circle cx=\"2\" cy=\"41\" r=\"2\" stroke=\"orange\" stroke-width=\"1\" fill=\\'orange\\' /> <circle cx=\"2\" cy=\"59\" r=\"2\" stroke=\"orange\" stroke-width=\"1\" fill=\\'orange\\' /> <circle cx=\"38\" cy=\"59\" r=\"2\" stroke=\"orange\" stroke-width=\"1\"  /> <line x1=\"38\" y1=\"41\" x2=\"20\" y2=\"50\" stroke=\"green\" stroke-width:2\"   /><line x1=\"2\" y1=\"41\" x2=\"20\" y2=\"50\" stroke=\"orange\" stroke-width:2\"   /><line x1=\"2\" y1=\"59\" x2=\"20\" y2=\"50\" stroke=\"orange\" stroke-width:2\"   /><line x1=\"38\" y1=\"59\" x2=\"20\" y2=\"50\" stroke=\"orange\" stroke-width:2\"   />  </g> </svg>', '<svg xmlns=\"http://www.w3.org/2000/svg\" xmlns:xlink=\"http://www.w3.org/1999/xlink\" version=\"1.1\" x=\"0\" y=\"450\" width=\"500\" height=\"120\">\\n      <g fill=\"none\" stroke=\"black\" stroke-width=\"1.6\" stroke-linecap=\"round\"> <circle cx=\"20\" cy=\"50\" r=\"3\" stroke=\"black\" stroke-width=\"1\" fill=\"black\" /> <circle cx=\"2\" cy=\"50\" r=\"2\" stroke=\"green\" stroke-width=\"1\" fill=\\'green\\' /> <circle cx=\"38\" cy=\"41\" r=\"2\" stroke=\"green\" stroke-width=\"1\"  /> <circle cx=\"38\" cy=\"59\" r=\"2\" stroke=\"orange\" stroke-width=\"1\"  /> <line x1=\"2\" y1=\"50\" x2=\"20\" y2=\"50\" stroke=\"green\" stroke-width:2\"   /><line x1=\"38\" y1=\"41\" x2=\"20\" y2=\"50\" stroke=\"green\" stroke-width:2\"   /><line x1=\"38\" y1=\"59\" x2=\"20\" y2=\"50\" stroke=\"orange\" stroke-width:2\"   />  </g> </svg>', '<svg xmlns=\"http://www.w3.org/2000/svg\" xmlns:xlink=\"http://www.w3.org/1999/xlink\" version=\"1.1\" x=\"0\" y=\"500\" width=\"500\" height=\"120\">\\n      <g fill=\"none\" stroke=\"black\" stroke-width=\"1.6\" stroke-linecap=\"round\"> <circle cx=\"20\" cy=\"50\" r=\"3\" stroke=\"black\" stroke-width=\"1\" fill=\"black\" /> <circle cx=\"2\" cy=\"41\" r=\"2\" stroke=\"green\" stroke-width=\"1\" fill=\\'green\\' /> <circle cx=\"38\" cy=\"41\" r=\"2\" stroke=\"green\" stroke-width=\"1\"  /> <circle cx=\"38\" cy=\"59\" r=\"2\" stroke=\"green\" stroke-width=\"1\"  /> <circle cx=\"2\" cy=\"59\" r=\"2\" stroke=\"orange\" stroke-width=\"1\" fill=\\'orange\\' /> <line x1=\"2\" y1=\"41\" x2=\"20\" y2=\"50\" stroke=\"green\" stroke-width:2\"   /><line x1=\"38\" y1=\"41\" x2=\"20\" y2=\"50\" stroke=\"green\" stroke-width:2\"   /><line x1=\"38\" y1=\"59\" x2=\"20\" y2=\"50\" stroke=\"green\" stroke-width:2\"   /><line x1=\"2\" y1=\"59\" x2=\"20\" y2=\"50\" stroke=\"orange\" stroke-width:2\"   />  </g> </svg>']</svg>"
      ]
     },
     "execution_count": 43,
     "metadata": {},
     "output_type": "execute_result"
    }
   ],
   "source": [
    "diagram_set([G(j) for j in interactions])"
   ]
  },
  {
   "cell_type": "code",
   "execution_count": null,
   "metadata": {
    "collapsed": true
   },
   "outputs": [],
   "source": [
    "#IS.__display_interaction_dims__()"
   ]
  },
  {
   "cell_type": "markdown",
   "metadata": {
    "collapsed": true
   },
   "source": [
    "# Additional tree-level diagrams"
   ]
  },
  {
   "cell_type": "code",
   "execution_count": null,
   "metadata": {
    "collapsed": true
   },
   "outputs": [],
   "source": [
    "#do permutations of some order with an and-reduction plus validation. if the pairings greater than 1, set is loop and dont yield for this order\n",
    "compound_interaction(branching,coagulation)"
   ]
  },
  {
   "cell_type": "code",
   "execution_count": null,
   "metadata": {
    "collapsed": true
   },
   "outputs": [],
   "source": [
    "(j&transmutation&branching).diagram"
   ]
  },
  {
   "cell_type": "code",
   "execution_count": null,
   "metadata": {
    "collapsed": true
   },
   "outputs": [],
   "source": [
    "prims = [j, transmutation, coagulation, branching]\n",
    "L = compound_interaction.combinations(prims, loop_orders=[0])\n",
    "L[0]"
   ]
  },
  {
   "cell_type": "markdown",
   "metadata": {},
   "source": [
    "# All 1-loop diagrams"
   ]
  },
  {
   "cell_type": "code",
   "execution_count": null,
   "metadata": {
    "collapsed": true
   },
   "outputs": [],
   "source": [
    "compound_interaction(coagulation, branching)\n",
    "#once we figure out the integrals we can give them values and do z factors"
   ]
  },
  {
   "cell_type": "code",
   "execution_count": null,
   "metadata": {
    "collapsed": true
   },
   "outputs": [],
   "source": [
    "prims = [j, transmutation, coagulation, branching]\n",
    "L = compound_interaction.combinations(prims, loop_orders=[1])\n",
    "L[0]"
   ]
  },
  {
   "cell_type": "code",
   "execution_count": null,
   "metadata": {
    "collapsed": true
   },
   "outputs": [],
   "source": []
  },
  {
   "cell_type": "code",
   "execution_count": null,
   "metadata": {
    "collapsed": true
   },
   "outputs": [],
   "source": []
  }
 ],
 "metadata": {
  "kernelspec": {
   "display_name": "Python 3",
   "language": "python",
   "name": "python3"
  },
  "language_info": {
   "codemirror_mode": {
    "name": "ipython",
    "version": 3
   },
   "file_extension": ".py",
   "mimetype": "text/x-python",
   "name": "python",
   "nbconvert_exporter": "python",
   "pygments_lexer": "ipython3",
   "version": "3.6.3"
  }
 },
 "nbformat": 4,
 "nbformat_minor": 2
}
