{
 "cells": [
  {
   "cell_type": "code",
   "execution_count": 1,
   "metadata": {},
   "outputs": [],
   "source": [
    "import rg\n",
    "from rg.interaction import interaction as J\n",
    "from rg.interaction import interaction_system\n",
    "from rg.diagrams import diagram"
   ]
  },
  {
   "cell_type": "code",
   "execution_count": 2,
   "metadata": {},
   "outputs": [],
   "source": [
    "j = J([ [1,1],  [1,0]] )"
   ]
  },
  {
   "cell_type": "code",
   "execution_count": 3,
   "metadata": {},
   "outputs": [
    {
     "data": {
      "text/html": [
       "<svg xmlns=\"http://www.w3.org/2000/svg\" xmlns:xlink=\"http://www.w3.org/1999/xlink\" version=\"1.1\" x=\"0\" y=\"0\" width=\"240\" height=\"120\">\n",
       "      <g fill=\"none\" stroke=\"black\" stroke-width=\"1.6\" stroke-linecap=\"round\">\n",
       "         <line x1=\"0\" y1=\"0\" x2=\"40\" y2=\"0\" stroke=\"red\" stroke-dasharray=\"None\" stroke-width:2\" transform=\" translate(80,50) rotate(-30.0 0, 0 )\" />  <path d=\"M 0,0 C 2,-3.142 3,-5 5,-5 S 8,-3.142 10,0 S 13,5 15,5 S 18,3.142 20,0 C 22,-3.142 23,-5 25,-5 S 28,-3.142 30,0 S 33,5 35,5 S 38,3.142 40,0\" \n",
       "                       stroke=\"black\" stroke-dasharray=\"None\" stroke-width:2\" transform=\" translate(80,50) rotate(30.0 0, 0 )\" />  <line x1=\"0\" y1=\"0\" x2=\"40\" y2=\"0\" stroke=\"red\" stroke-dasharray=\"None\" stroke-width:2\" transform=\" translate(80,50) rotate(-210.0 0, 0 )\" /> \n",
       "      </g>\n",
       "      <circle cx=\"80\" cy=\"50\" r=\"2\" stroke=\"black\" stroke-width=\"1\" fill=\"black\" />\n",
       "    </svg>"
      ],
      "text/plain": [
       "<svg xmlns=\"http://www.w3.org/2000/svg\" xmlns:xlink=\"http://www.w3.org/1999/xlink\" version=\"1.1\" x=\"0\" y=\"0\" width=\"240\" height=\"120\">\n",
       "      <g fill=\"none\" stroke=\"black\" stroke-width=\"1.6\" stroke-linecap=\"round\">\n",
       "         <line x1=\"0\" y1=\"0\" x2=\"40\" y2=\"0\" stroke=\"red\" stroke-dasharray=\"None\" stroke-width:2\" transform=\" translate(80,50) rotate(-30.0 0, 0 )\" />  <path d=\"M 0,0 C 2,-3.142 3,-5 5,-5 S 8,-3.142 10,0 S 13,5 15,5 S 18,3.142 20,0 C 22,-3.142 23,-5 25,-5 S 28,-3.142 30,0 S 33,5 35,5 S 38,3.142 40,0\" \n",
       "                       stroke=\"black\" stroke-dasharray=\"None\" stroke-width:2\" transform=\" translate(80,50) rotate(30.0 0, 0 )\" />  <line x1=\"0\" y1=\"0\" x2=\"40\" y2=\"0\" stroke=\"red\" stroke-dasharray=\"None\" stroke-width:2\" transform=\" translate(80,50) rotate(-210.0 0, 0 )\" /> \n",
       "      </g>\n",
       "      <circle cx=\"80\" cy=\"50\" r=\"2\" stroke=\"black\" stroke-width=\"1\" fill=\"black\" />\n",
       "    </svg>"
      ]
     },
     "execution_count": 3,
     "metadata": {},
     "output_type": "execute_result"
    }
   ],
   "source": [
    "j.diagram"
   ]
  },
  {
   "cell_type": "code",
   "execution_count": 4,
   "metadata": {},
   "outputs": [
    {
     "data": {
      "text/latex": [
       "$$\\left [ \\phi_0 \\tilde{\\phi}_0, \\quad \\phi_1 \\tilde{\\phi}_1, \\quad \\phi_0 \\tilde{\\phi}_0^{2}, \\quad \\phi_0 \\tilde{\\phi}_1, \\quad \\phi_0 \\tilde{\\phi}_0 \\tilde{\\phi}_1\\right ]$$"
      ],
      "text/plain": [
       "⎡                                                             2               \n",
       "⎣\\phi₀⋅\\tilde{\\phi}₀, \\phi₁⋅\\tilde{\\phi}₁, \\phi₀⋅\\tilde{\\phi}₀ , \\phi₀⋅\\tilde{\n",
       "\n",
       "                                         ⎤\n",
       "\\phi}₁, \\phi₀⋅\\tilde{\\phi}₀⋅\\tilde{\\phi}₁⎦"
      ]
     },
     "execution_count": 4,
     "metadata": {},
     "output_type": "execute_result"
    }
   ],
   "source": [
    "interactions = [\n",
    " J([[1,1],[0,0]]),\n",
    " J([[0,0],[1,1]]),\n",
    " J([[1,2],[0,0]]),\n",
    " J([[1,0],[0,1]]),\n",
    " J([[1,2],[0,0]]),\n",
    " J([[1,1],[0,1]]),\n",
    " ]\n",
    "\n",
    "IS = interaction_system(interactions)\n",
    "IS.display()"
   ]
  },
  {
   "cell_type": "code",
   "execution_count": 5,
   "metadata": {},
   "outputs": [
    {
     "data": {
      "text/latex": [
       "$$\\left [ \\left [ \\phi_0 \\tilde{\\phi}_0, \\quad \\frac{1}{T}\\right ], \\quad \\left [ \\phi_1 \\tilde{\\phi}_1, \\quad \\frac{1}{T}\\right ], \\quad \\left [ \\phi_0 \\tilde{\\phi}_0^{2}, \\quad 1\\right ], \\quad \\left [ \\phi_0 \\tilde{\\phi}_1, \\quad \\frac{1}{T}\\right ], \\quad \\left [ \\phi_0 \\tilde{\\phi}_0 \\tilde{\\phi}_1, \\quad 1\\right ], \\quad \\left [ \\tilde{\\phi}_0, \\quad L^{- d}\\right ], \\quad \\left [ \\phi_0, \\quad \\frac{1}{T^{2}}\\right ], \\quad \\left [ \\tilde{\\phi}_0^{2}, \\quad L^{- d} T\\right ], \\quad \\left [ \\tilde{\\phi}_1, \\quad L^{- d}\\right ], \\quad \\left [ \\phi_0 \\tilde{\\phi}_1, \\quad \\frac{1}{T}\\right ], \\quad \\left [ \\tilde{\\phi}_0 \\tilde{\\phi}_1, \\quad L^{- d} T\\right ], \\quad \\left [ \\phi_0 \\tilde{\\phi}_0, \\quad \\frac{1}{T}\\right ]\\right ]$$"
      ],
      "text/plain": [
       "⎡⎡                     1⎤  ⎡                     1⎤  ⎡                   2   ⎤\n",
       "⎢⎢\\phi₀⋅\\tilde{\\phi}₀, ─⎥, ⎢\\phi₁⋅\\tilde{\\phi}₁, ─⎥, ⎣\\phi₀⋅\\tilde{\\phi}₀ , 1⎦\n",
       "⎢⎣                     T⎦  ⎣                     T⎦                           \n",
       "⎣                                                                             \n",
       "\n",
       "  ⎡                     1⎤                                          ⎡         \n",
       ", ⎢\\phi₀⋅\\tilde{\\phi}₁, ─⎥, [\\phi₀⋅\\tilde{\\phi}₀⋅\\tilde{\\phi}₁, 1], ⎣\\tilde{\\p\n",
       "  ⎣                     T⎦                                                    \n",
       "                                                                              \n",
       "\n",
       "       -d⎤  ⎡       1 ⎤  ⎡             2   -d  ⎤  ⎡                -d⎤  ⎡     \n",
       "hi}₀, L  ⎦, ⎢\\phi₀, ──⎥, ⎣\\tilde{\\phi}₀ , L  ⋅T⎦, ⎣\\tilde{\\phi}₁, L  ⎦, ⎢\\phi₀\n",
       "            ⎢        2⎥                                                 ⎣     \n",
       "            ⎣       T ⎦                                                       \n",
       "\n",
       "                1⎤  ⎡                              -d  ⎤  ⎡                   \n",
       "⋅\\tilde{\\phi}₁, ─⎥, ⎣\\tilde{\\phi}₀⋅\\tilde{\\phi}₁, L  ⋅T⎦, ⎢\\phi₀⋅\\tilde{\\phi}₀\n",
       "                T⎦                                        ⎣                   \n",
       "                                                                              \n",
       "\n",
       "  1⎤⎤\n",
       ", ─⎥⎥\n",
       "  T⎦⎥\n",
       "    ⎦"
      ]
     },
     "execution_count": 5,
     "metadata": {},
     "output_type": "execute_result"
    }
   ],
   "source": [
    "I = J([ [1,1],  [0,0]] )\n",
    "Lambda = rg.T**(-1) # L**(-1*dim)\n",
    "new_couplings = {I:Lambda,\n",
    "                 J([ [0,0],  [1,1]] ): Lambda,\n",
    "                 J([ [1,2],  [0,0]] ):1,\n",
    "                 J([ [1,1],  [0,1]] ):1,\n",
    "                }\n",
    "IS.reduce(new_couplings)\n",
    "IS.__display_couplings__()"
   ]
  },
  {
   "cell_type": "code",
   "execution_count": null,
   "metadata": {
    "collapsed": true
   },
   "outputs": [],
   "source": []
  },
  {
   "cell_type": "code",
   "execution_count": null,
   "metadata": {
    "collapsed": true
   },
   "outputs": [],
   "source": []
  }
 ],
 "metadata": {
  "kernelspec": {
   "display_name": "Python 3",
   "language": "python",
   "name": "python3"
  },
  "language_info": {
   "codemirror_mode": {
    "name": "ipython",
    "version": 3
   },
   "file_extension": ".py",
   "mimetype": "text/x-python",
   "name": "python",
   "nbconvert_exporter": "python",
   "pygments_lexer": "ipython3",
   "version": "3.6.3"
  }
 },
 "nbformat": 4,
 "nbformat_minor": 2
}
