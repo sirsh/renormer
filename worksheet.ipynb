{
 "cells": [
  {
   "cell_type": "code",
   "execution_count": 1,
   "metadata": {
    "collapsed": true
   },
   "outputs": [],
   "source": [
    "import rg\n",
    "from rg.diagrams import diagram, composition_diagram, diagram_set\n",
    "from rg.interaction import interaction as J \n",
    "from rg.interaction import interaction_identity\n",
    "from rg.interaction import interaction_system\n",
    "from rg.interaction import composite_interaction as G\n",
    "from rg.theory import ftheory\n",
    "from rg.graphs import composite_interaction_graph as fgraph"
   ]
  },
  {
   "cell_type": "markdown",
   "metadata": {},
   "source": [
    "# Example representations\n",
    "Here we show the matrix form for adding fields for arbitrary number of species (1 row per species). We display the latex symbols and also the diagrams\n",
    "\n",
    "The diagrams are of the residuals so loops/internal structure are not shown here (see the composite examples later where we look at internal structure). \n",
    "\n",
    "The & operator or * operator (todo) are both used as diagram products allowing diagrams to be merged"
   ]
  },
  {
   "cell_type": "code",
   "execution_count": 2,
   "metadata": {},
   "outputs": [
    {
     "data": {
      "text/latex": [
       "$\\phi_0 \\phi_1^{2} \\tilde{\\phi}_0$"
      ],
      "text/plain": [
       "$\\phi_0 \\phi_1^{2} \\tilde{\\phi}_0$"
      ]
     },
     "execution_count": 2,
     "metadata": {},
     "output_type": "execute_result"
    }
   ],
   "source": [
    "j = J([[1,1], \n",
    "       [2,0]])\n",
    "j"
   ]
  },
  {
   "cell_type": "code",
   "execution_count": 3,
   "metadata": {},
   "outputs": [
    {
     "data": {
      "text/html": [
       "<svg xmlns=\"http://www.w3.org/2000/svg\" xmlns:xlink=\"http://www.w3.org/1999/xlink\" version=\"1.1\" x=\"0\" y=\"0\" width=\"240\" height=\"120\">\n",
       "      <g fill=\"none\" stroke=\"black\" stroke-width=\"1.6\" stroke-linecap=\"round\">\n",
       "         <line x1=\"0\" y1=\"0\" x2=\"40\" y2=\"0\" stroke=\"red\" stroke-dasharray=\"None\" stroke-width:2\" transform=\" translate(80,50) rotate(-45.0 0, 0 )\" />  <path d=\"M 0,0 C 2,-3.142 3,-5 5,-5 S 8,-3.142 10,0 S 13,5 15,5 S 18,3.142 20,0 C 22,-3.142 23,-5 25,-5 S 28,-3.142 30,0 S 33,5 35,5 S 38,3.142 40,0\" \n",
       "                       stroke=\"black\" stroke-dasharray=\"None\" stroke-width:2\" transform=\" translate(80,50) rotate(0.0 0, 0 )\" />  <path d=\"M 0,0 C 2,-3.142 3,-5 5,-5 S 8,-3.142 10,0 S 13,5 15,5 S 18,3.142 20,0 C 22,-3.142 23,-5 25,-5 S 28,-3.142 30,0 S 33,5 35,5 S 38,3.142 40,0\" \n",
       "                       stroke=\"black\" stroke-dasharray=\"None\" stroke-width:2\" transform=\" translate(80,50) rotate(45.0 0, 0 )\" />  <line x1=\"0\" y1=\"0\" x2=\"40\" y2=\"0\" stroke=\"red\" stroke-dasharray=\"None\" stroke-width:2\" transform=\" translate(80,50) rotate(-180.0 0, 0 )\" /> \n",
       "      </g>\n",
       "      <circle cx=\"80\" cy=\"50\" r=\"2\" stroke=\"black\" stroke-width=\"1\" fill=\"black\" />\n",
       "    </svg>"
      ],
      "text/plain": [
       "<svg xmlns=\"http://www.w3.org/2000/svg\" xmlns:xlink=\"http://www.w3.org/1999/xlink\" version=\"1.1\" x=\"0\" y=\"0\" width=\"240\" height=\"120\">\n",
       "      <g fill=\"none\" stroke=\"black\" stroke-width=\"1.6\" stroke-linecap=\"round\">\n",
       "         <line x1=\"0\" y1=\"0\" x2=\"40\" y2=\"0\" stroke=\"red\" stroke-dasharray=\"None\" stroke-width:2\" transform=\" translate(80,50) rotate(-45.0 0, 0 )\" />  <path d=\"M 0,0 C 2,-3.142 3,-5 5,-5 S 8,-3.142 10,0 S 13,5 15,5 S 18,3.142 20,0 C 22,-3.142 23,-5 25,-5 S 28,-3.142 30,0 S 33,5 35,5 S 38,3.142 40,0\" \n",
       "                       stroke=\"black\" stroke-dasharray=\"None\" stroke-width:2\" transform=\" translate(80,50) rotate(0.0 0, 0 )\" />  <path d=\"M 0,0 C 2,-3.142 3,-5 5,-5 S 8,-3.142 10,0 S 13,5 15,5 S 18,3.142 20,0 C 22,-3.142 23,-5 25,-5 S 28,-3.142 30,0 S 33,5 35,5 S 38,3.142 40,0\" \n",
       "                       stroke=\"black\" stroke-dasharray=\"None\" stroke-width:2\" transform=\" translate(80,50) rotate(45.0 0, 0 )\" />  <line x1=\"0\" y1=\"0\" x2=\"40\" y2=\"0\" stroke=\"red\" stroke-dasharray=\"None\" stroke-width:2\" transform=\" translate(80,50) rotate(-180.0 0, 0 )\" /> \n",
       "      </g>\n",
       "      <circle cx=\"80\" cy=\"50\" r=\"2\" stroke=\"black\" stroke-width=\"1\" fill=\"black\" />\n",
       "    </svg>"
      ]
     },
     "execution_count": 3,
     "metadata": {},
     "output_type": "execute_result"
    }
   ],
   "source": [
    "j.diagram"
   ]
  },
  {
   "cell_type": "code",
   "execution_count": 4,
   "metadata": {},
   "outputs": [
    {
     "data": {
      "text/html": [
       "<svg xmlns=\"http://www.w3.org/2000/svg\" xmlns:xlink=\"http://www.w3.org/1999/xlink\" version=\"1.1\" x=\"0\" y=\"0\" width=\"240\" height=\"120\">\n",
       "      <g fill=\"none\" stroke=\"black\" stroke-width=\"1.6\" stroke-linecap=\"round\">\n",
       "         <line x1=\"0\" y1=\"0\" x2=\"40\" y2=\"0\" stroke=\"red\" stroke-dasharray=\"None\" stroke-width:2\" transform=\" translate(80,50) rotate(0.0 0, 0 )\" />  <path d=\"M 0,0 C 2,-3.142 3,-5 5,-5 S 8,-3.142 10,0 S 13,5 15,5 S 18,3.142 20,0 C 22,-3.142 23,-5 25,-5 S 28,-3.142 30,0 S 33,5 35,5 S 38,3.142 40,0\" \n",
       "                       stroke=\"black\" stroke-dasharray=\"None\" stroke-width:2\" transform=\" translate(80,50) rotate(-180.0 0, 0 )\" /> \n",
       "      </g>\n",
       "      <circle cx=\"80\" cy=\"50\" r=\"2\" stroke=\"black\" stroke-width=\"1\" fill=\"black\" />\n",
       "    </svg>"
      ],
      "text/plain": [
       "<svg xmlns=\"http://www.w3.org/2000/svg\" xmlns:xlink=\"http://www.w3.org/1999/xlink\" version=\"1.1\" x=\"0\" y=\"0\" width=\"240\" height=\"120\">\n",
       "      <g fill=\"none\" stroke=\"black\" stroke-width=\"1.6\" stroke-linecap=\"round\">\n",
       "         <line x1=\"0\" y1=\"0\" x2=\"40\" y2=\"0\" stroke=\"red\" stroke-dasharray=\"None\" stroke-width:2\" transform=\" translate(80,50) rotate(0.0 0, 0 )\" />  <path d=\"M 0,0 C 2,-3.142 3,-5 5,-5 S 8,-3.142 10,0 S 13,5 15,5 S 18,3.142 20,0 C 22,-3.142 23,-5 25,-5 S 28,-3.142 30,0 S 33,5 35,5 S 38,3.142 40,0\" \n",
       "                       stroke=\"black\" stroke-dasharray=\"None\" stroke-width:2\" transform=\" translate(80,50) rotate(-180.0 0, 0 )\" /> \n",
       "      </g>\n",
       "      <circle cx=\"80\" cy=\"50\" r=\"2\" stroke=\"black\" stroke-width=\"1\" fill=\"black\" />\n",
       "    </svg>"
      ]
     },
     "execution_count": 4,
     "metadata": {},
     "output_type": "execute_result"
    }
   ],
   "source": [
    "transmutation = J([[1,0],[0,1]])\n",
    "transmutation.diagram"
   ]
  },
  {
   "cell_type": "code",
   "execution_count": 5,
   "metadata": {},
   "outputs": [
    {
     "data": {
      "text/html": [
       "<svg xmlns=\"http://www.w3.org/2000/svg\" xmlns:xlink=\"http://www.w3.org/1999/xlink\" version=\"1.1\" x=\"0\" y=\"0\" width=\"240\" height=\"120\">\n",
       "      <g fill=\"none\" stroke=\"black\" stroke-width=\"1.6\" stroke-linecap=\"round\">\n",
       "         <line x1=\"0\" y1=\"0\" x2=\"40\" y2=\"0\" stroke=\"red\" stroke-dasharray=\"None\" stroke-width:2\" transform=\" translate(80,50) rotate(-30.0 0, 0 )\" />  <line x1=\"0\" y1=\"0\" x2=\"40\" y2=\"0\" stroke=\"red\" stroke-dasharray=\"None\" stroke-width:2\" transform=\" translate(80,50) rotate(30.0 0, 0 )\" />  <line x1=\"0\" y1=\"0\" x2=\"40\" y2=\"0\" stroke=\"red\" stroke-dasharray=\"None\" stroke-width:2\" transform=\" translate(80,50) rotate(-180.0 0, 0 )\" /> \n",
       "      </g>\n",
       "      <circle cx=\"80\" cy=\"50\" r=\"2\" stroke=\"black\" stroke-width=\"1\" fill=\"black\" />\n",
       "    </svg>"
      ],
      "text/plain": [
       "<svg xmlns=\"http://www.w3.org/2000/svg\" xmlns:xlink=\"http://www.w3.org/1999/xlink\" version=\"1.1\" x=\"0\" y=\"0\" width=\"240\" height=\"120\">\n",
       "      <g fill=\"none\" stroke=\"black\" stroke-width=\"1.6\" stroke-linecap=\"round\">\n",
       "         <line x1=\"0\" y1=\"0\" x2=\"40\" y2=\"0\" stroke=\"red\" stroke-dasharray=\"None\" stroke-width:2\" transform=\" translate(80,50) rotate(-30.0 0, 0 )\" />  <line x1=\"0\" y1=\"0\" x2=\"40\" y2=\"0\" stroke=\"red\" stroke-dasharray=\"None\" stroke-width:2\" transform=\" translate(80,50) rotate(30.0 0, 0 )\" />  <line x1=\"0\" y1=\"0\" x2=\"40\" y2=\"0\" stroke=\"red\" stroke-dasharray=\"None\" stroke-width:2\" transform=\" translate(80,50) rotate(-180.0 0, 0 )\" /> \n",
       "      </g>\n",
       "      <circle cx=\"80\" cy=\"50\" r=\"2\" stroke=\"black\" stroke-width=\"1\" fill=\"black\" />\n",
       "    </svg>"
      ]
     },
     "execution_count": 5,
     "metadata": {},
     "output_type": "execute_result"
    }
   ],
   "source": [
    "coagulation = J([[2,1],[0,0]])\n",
    "coagulation.diagram"
   ]
  },
  {
   "cell_type": "code",
   "execution_count": 6,
   "metadata": {},
   "outputs": [
    {
     "data": {
      "text/html": [
       "<svg xmlns=\"http://www.w3.org/2000/svg\" xmlns:xlink=\"http://www.w3.org/1999/xlink\" version=\"1.1\" x=\"0\" y=\"0\" width=\"240\" height=\"120\">\n",
       "      <g fill=\"none\" stroke=\"black\" stroke-width=\"1.6\" stroke-linecap=\"round\">\n",
       "         <line x1=\"0\" y1=\"0\" x2=\"40\" y2=\"0\" stroke=\"red\" stroke-dasharray=\"None\" stroke-width:2\" transform=\" translate(80,50) rotate(0.0 0, 0 )\" />  <line x1=\"0\" y1=\"0\" x2=\"40\" y2=\"0\" stroke=\"red\" stroke-dasharray=\"None\" stroke-width:2\" transform=\" translate(80,50) rotate(-210.0 0, 0 )\" />  <line x1=\"0\" y1=\"0\" x2=\"40\" y2=\"0\" stroke=\"red\" stroke-dasharray=\"None\" stroke-width:2\" transform=\" translate(80,50) rotate(-150.0 0, 0 )\" /> \n",
       "      </g>\n",
       "      <circle cx=\"80\" cy=\"50\" r=\"2\" stroke=\"black\" stroke-width=\"1\" fill=\"black\" />\n",
       "    </svg>"
      ],
      "text/plain": [
       "<svg xmlns=\"http://www.w3.org/2000/svg\" xmlns:xlink=\"http://www.w3.org/1999/xlink\" version=\"1.1\" x=\"0\" y=\"0\" width=\"240\" height=\"120\">\n",
       "      <g fill=\"none\" stroke=\"black\" stroke-width=\"1.6\" stroke-linecap=\"round\">\n",
       "         <line x1=\"0\" y1=\"0\" x2=\"40\" y2=\"0\" stroke=\"red\" stroke-dasharray=\"None\" stroke-width:2\" transform=\" translate(80,50) rotate(0.0 0, 0 )\" />  <line x1=\"0\" y1=\"0\" x2=\"40\" y2=\"0\" stroke=\"red\" stroke-dasharray=\"None\" stroke-width:2\" transform=\" translate(80,50) rotate(-210.0 0, 0 )\" />  <line x1=\"0\" y1=\"0\" x2=\"40\" y2=\"0\" stroke=\"red\" stroke-dasharray=\"None\" stroke-width:2\" transform=\" translate(80,50) rotate(-150.0 0, 0 )\" /> \n",
       "      </g>\n",
       "      <circle cx=\"80\" cy=\"50\" r=\"2\" stroke=\"black\" stroke-width=\"1\" fill=\"black\" />\n",
       "    </svg>"
      ]
     },
     "execution_count": 6,
     "metadata": {},
     "output_type": "execute_result"
    }
   ],
   "source": [
    "branching = J([[1,2],[0,0]])\n",
    "branching.diagram\n",
    "#branching"
   ]
  },
  {
   "cell_type": "code",
   "execution_count": 7,
   "metadata": {},
   "outputs": [],
   "source": [
    "#branching.tensor"
   ]
  },
  {
   "cell_type": "code",
   "execution_count": 8,
   "metadata": {},
   "outputs": [
    {
     "name": "stdout",
     "output_type": "stream",
     "text": [
      "symmetry factor: 2\n"
     ]
    },
    {
     "data": {
      "text/html": [
       "<svg xmlns=\"http://www.w3.org/2000/svg\" xmlns:xlink=\"http://www.w3.org/1999/xlink\" version=\"1.1\" x=\"0\" y=\"0\" width=\"240\" height=\"120\">\n",
       "      <g fill=\"none\" stroke=\"black\" stroke-width=\"1.6\" stroke-linecap=\"round\">\n",
       "         <line x1=\"0\" y1=\"0\" x2=\"40\" y2=\"0\" stroke=\"red\" stroke-dasharray=\"None\" stroke-width:2\" transform=\" translate(80,50) rotate(-30.0 0, 0 )\" />  <line x1=\"0\" y1=\"0\" x2=\"40\" y2=\"0\" stroke=\"red\" stroke-dasharray=\"None\" stroke-width:2\" transform=\" translate(80,50) rotate(30.0 0, 0 )\" />  <line x1=\"0\" y1=\"0\" x2=\"40\" y2=\"0\" stroke=\"red\" stroke-dasharray=\"None\" stroke-width:2\" transform=\" translate(80,50) rotate(-210.0 0, 0 )\" />  <line x1=\"0\" y1=\"0\" x2=\"40\" y2=\"0\" stroke=\"red\" stroke-dasharray=\"None\" stroke-width:2\" transform=\" translate(80,50) rotate(-150.0 0, 0 )\" /> \n",
       "      </g>\n",
       "      <circle cx=\"80\" cy=\"50\" r=\"2\" stroke=\"black\" stroke-width=\"1\" fill=\"black\" />\n",
       "    </svg>"
      ],
      "text/plain": [
       "<svg xmlns=\"http://www.w3.org/2000/svg\" xmlns:xlink=\"http://www.w3.org/1999/xlink\" version=\"1.1\" x=\"0\" y=\"0\" width=\"240\" height=\"120\">\n",
       "      <g fill=\"none\" stroke=\"black\" stroke-width=\"1.6\" stroke-linecap=\"round\">\n",
       "         <line x1=\"0\" y1=\"0\" x2=\"40\" y2=\"0\" stroke=\"red\" stroke-dasharray=\"None\" stroke-width:2\" transform=\" translate(80,50) rotate(-30.0 0, 0 )\" />  <line x1=\"0\" y1=\"0\" x2=\"40\" y2=\"0\" stroke=\"red\" stroke-dasharray=\"None\" stroke-width:2\" transform=\" translate(80,50) rotate(30.0 0, 0 )\" />  <line x1=\"0\" y1=\"0\" x2=\"40\" y2=\"0\" stroke=\"red\" stroke-dasharray=\"None\" stroke-width:2\" transform=\" translate(80,50) rotate(-210.0 0, 0 )\" />  <line x1=\"0\" y1=\"0\" x2=\"40\" y2=\"0\" stroke=\"red\" stroke-dasharray=\"None\" stroke-width:2\" transform=\" translate(80,50) rotate(-150.0 0, 0 )\" /> \n",
       "      </g>\n",
       "      <circle cx=\"80\" cy=\"50\" r=\"2\" stroke=\"black\" stroke-width=\"1\" fill=\"black\" />\n",
       "    </svg>"
      ]
     },
     "execution_count": 8,
     "metadata": {},
     "output_type": "execute_result"
    }
   ],
   "source": [
    "(branching&coagulation).diagram"
   ]
  },
  {
   "cell_type": "code",
   "execution_count": 9,
   "metadata": {},
   "outputs": [
    {
     "name": "stdout",
     "output_type": "stream",
     "text": [
      "symmetry factor: 2\n"
     ]
    },
    {
     "data": {
      "text/html": [
       "<svg xmlns=\"http://www.w3.org/2000/svg\" xmlns:xlink=\"http://www.w3.org/1999/xlink\" version=\"1.1\" x=\"0\" y=\"0\" width=\"240\" height=\"120\">\n",
       "      <g fill=\"none\" stroke=\"black\" stroke-width=\"1.6\" stroke-linecap=\"round\">\n",
       "         <line x1=\"0\" y1=\"0\" x2=\"40\" y2=\"0\" stroke=\"red\" stroke-dasharray=\"None\" stroke-width:2\" transform=\" translate(80,50) rotate(0.0 0, 0 )\" />  <line x1=\"0\" y1=\"0\" x2=\"40\" y2=\"0\" stroke=\"red\" stroke-dasharray=\"None\" stroke-width:2\" transform=\" translate(80,50) rotate(-180.0 0, 0 )\" /> \n",
       "      </g>\n",
       "      <circle cx=\"80\" cy=\"50\" r=\"2\" stroke=\"black\" stroke-width=\"1\" fill=\"black\" />\n",
       "    </svg>"
      ],
      "text/plain": [
       "<svg xmlns=\"http://www.w3.org/2000/svg\" xmlns:xlink=\"http://www.w3.org/1999/xlink\" version=\"1.1\" x=\"0\" y=\"0\" width=\"240\" height=\"120\">\n",
       "      <g fill=\"none\" stroke=\"black\" stroke-width=\"1.6\" stroke-linecap=\"round\">\n",
       "         <line x1=\"0\" y1=\"0\" x2=\"40\" y2=\"0\" stroke=\"red\" stroke-dasharray=\"None\" stroke-width:2\" transform=\" translate(80,50) rotate(0.0 0, 0 )\" />  <line x1=\"0\" y1=\"0\" x2=\"40\" y2=\"0\" stroke=\"red\" stroke-dasharray=\"None\" stroke-width:2\" transform=\" translate(80,50) rotate(-180.0 0, 0 )\" /> \n",
       "      </g>\n",
       "      <circle cx=\"80\" cy=\"50\" r=\"2\" stroke=\"black\" stroke-width=\"1\" fill=\"black\" />\n",
       "    </svg>"
      ]
     },
     "execution_count": 9,
     "metadata": {},
     "output_type": "execute_result"
    }
   ],
   "source": [
    "(coagulation&branching).diagram"
   ]
  },
  {
   "cell_type": "code",
   "execution_count": 10,
   "metadata": {},
   "outputs": [
    {
     "name": "stdout",
     "output_type": "stream",
     "text": [
      "symmetry factor: 2\n"
     ]
    },
    {
     "data": {
      "text/html": [
       "<svg xmlns=\"http://www.w3.org/2000/svg\" xmlns:xlink=\"http://www.w3.org/1999/xlink\" version=\"1.1\" x=\"0\" y=\"0\" width=\"240\" height=\"120\">\n",
       "      <g fill=\"none\" stroke=\"black\" stroke-width=\"1.6\" stroke-linecap=\"round\">\n",
       "         <line x1=\"0\" y1=\"0\" x2=\"40\" y2=\"0\" stroke=\"red\" stroke-dasharray=\"None\" stroke-width:2\" transform=\" translate(80,50) rotate(-45.0 0, 0 )\" />  <path d=\"M 0,0 C 2,-3.142 3,-5 5,-5 S 8,-3.142 10,0 S 13,5 15,5 S 18,3.142 20,0 C 22,-3.142 23,-5 25,-5 S 28,-3.142 30,0 S 33,5 35,5 S 38,3.142 40,0\" \n",
       "                       stroke=\"black\" stroke-dasharray=\"None\" stroke-width:2\" transform=\" translate(80,50) rotate(0.0 0, 0 )\" />  <path d=\"M 0,0 C 2,-3.142 3,-5 5,-5 S 8,-3.142 10,0 S 13,5 15,5 S 18,3.142 20,0 C 22,-3.142 23,-5 25,-5 S 28,-3.142 30,0 S 33,5 35,5 S 38,3.142 40,0\" \n",
       "                       stroke=\"black\" stroke-dasharray=\"None\" stroke-width:2\" transform=\" translate(80,50) rotate(45.0 0, 0 )\" />  <line x1=\"0\" y1=\"0\" x2=\"40\" y2=\"0\" stroke=\"red\" stroke-dasharray=\"None\" stroke-width:2\" transform=\" translate(80,50) rotate(-210.0 0, 0 )\" />  <line x1=\"0\" y1=\"0\" x2=\"40\" y2=\"0\" stroke=\"red\" stroke-dasharray=\"None\" stroke-width:2\" transform=\" translate(80,50) rotate(-150.0 0, 0 )\" /> \n",
       "      </g>\n",
       "      <circle cx=\"80\" cy=\"50\" r=\"2\" stroke=\"black\" stroke-width=\"1\" fill=\"black\" />\n",
       "    </svg>"
      ],
      "text/plain": [
       "<svg xmlns=\"http://www.w3.org/2000/svg\" xmlns:xlink=\"http://www.w3.org/1999/xlink\" version=\"1.1\" x=\"0\" y=\"0\" width=\"240\" height=\"120\">\n",
       "      <g fill=\"none\" stroke=\"black\" stroke-width=\"1.6\" stroke-linecap=\"round\">\n",
       "         <line x1=\"0\" y1=\"0\" x2=\"40\" y2=\"0\" stroke=\"red\" stroke-dasharray=\"None\" stroke-width:2\" transform=\" translate(80,50) rotate(-45.0 0, 0 )\" />  <path d=\"M 0,0 C 2,-3.142 3,-5 5,-5 S 8,-3.142 10,0 S 13,5 15,5 S 18,3.142 20,0 C 22,-3.142 23,-5 25,-5 S 28,-3.142 30,0 S 33,5 35,5 S 38,3.142 40,0\" \n",
       "                       stroke=\"black\" stroke-dasharray=\"None\" stroke-width:2\" transform=\" translate(80,50) rotate(0.0 0, 0 )\" />  <path d=\"M 0,0 C 2,-3.142 3,-5 5,-5 S 8,-3.142 10,0 S 13,5 15,5 S 18,3.142 20,0 C 22,-3.142 23,-5 25,-5 S 28,-3.142 30,0 S 33,5 35,5 S 38,3.142 40,0\" \n",
       "                       stroke=\"black\" stroke-dasharray=\"None\" stroke-width:2\" transform=\" translate(80,50) rotate(45.0 0, 0 )\" />  <line x1=\"0\" y1=\"0\" x2=\"40\" y2=\"0\" stroke=\"red\" stroke-dasharray=\"None\" stroke-width:2\" transform=\" translate(80,50) rotate(-210.0 0, 0 )\" />  <line x1=\"0\" y1=\"0\" x2=\"40\" y2=\"0\" stroke=\"red\" stroke-dasharray=\"None\" stroke-width:2\" transform=\" translate(80,50) rotate(-150.0 0, 0 )\" /> \n",
       "      </g>\n",
       "      <circle cx=\"80\" cy=\"50\" r=\"2\" stroke=\"black\" stroke-width=\"1\" fill=\"black\" />\n",
       "    </svg>"
      ]
     },
     "execution_count": 10,
     "metadata": {},
     "output_type": "execute_result"
    }
   ],
   "source": [
    "(branching&j).diagram"
   ]
  },
  {
   "cell_type": "markdown",
   "metadata": {},
   "source": [
    "# Dimensional Analysis\n",
    "For dimensional analysis one construct a system of terms, each term is an interaction J.\n",
    "\n",
    "One proposes known coupling values e.g. known dimensions of propagators \n",
    "\n",
    "the ftheory class permutes all non fixed couplings, proposing that permutations P(n,k) are dimensionless - each permutation creates a theory\n",
    "\n",
    "A theory fixes the dimension of fields and all couplings. The theories can then be compared and chcked via the ftheory class"
   ]
  },
  {
   "cell_type": "code",
   "execution_count": 11,
   "metadata": {},
   "outputs": [
    {
     "data": {
      "text/latex": [
       "$$\\left [ \\phi_0 \\tilde{\\phi}_0, \\quad \\phi_1 \\tilde{\\phi}_1, \\quad \\phi_0 \\tilde{\\phi}_1, \\quad \\phi_0 \\tilde{\\phi}_0^{2}, \\quad \\phi_0 \\tilde{\\phi}_0 \\tilde{\\phi}_1, \\quad \\phi_0 \\phi_1 \\tilde{\\phi}_0 \\tilde{\\phi}_1, \\quad \\phi_0 \\phi_1 \\tilde{\\phi}_1, \\quad \\phi_1 \\tilde{\\phi}_0 \\tilde{\\phi}_1^{2}, \\quad \\phi_0 \\phi_1 \\tilde{\\phi}_1^{2}, \\quad \\phi_0 \\phi_1 \\tilde{\\phi}_0, \\quad \\phi_0^{2} \\tilde{\\phi}_0 \\tilde{\\phi}_1\\right ]$$"
      ],
      "text/plain": [
       "⎡                                                                             \n",
       "⎣\\phi₀⋅\\tilde{\\phi}₀, \\phi₁⋅\\tilde{\\phi}₁, \\phi₀⋅\\tilde{\\phi}₁, \\phi₀⋅\\tilde{\\\n",
       "\n",
       "     2                                                                        \n",
       "phi}₀ , \\phi₀⋅\\tilde{\\phi}₀⋅\\tilde{\\phi}₁, \\phi₀⋅\\phi₁⋅\\tilde{\\phi}₀⋅\\tilde{\\p\n",
       "\n",
       "                                                                  2           \n",
       "hi}₁, \\phi₀⋅\\phi₁⋅\\tilde{\\phi}₁, \\phi₁⋅\\tilde{\\phi}₀⋅\\tilde{\\phi}₁ , \\phi₀⋅\\ph\n",
       "\n",
       "                2                                  2                          \n",
       "i₁⋅\\tilde{\\phi}₁ , \\phi₀⋅\\phi₁⋅\\tilde{\\phi}₀, \\phi₀ ⋅\\tilde{\\phi}₀⋅\\tilde{\\phi\n",
       "\n",
       "  ⎤\n",
       "}₁⎦"
      ]
     },
     "execution_count": 11,
     "metadata": {},
     "output_type": "execute_result"
    }
   ],
   "source": [
    "#blank -> tilde\n",
    "#BRW0\n",
    "interactions = [\n",
    " J([[1,1],[0,0]]),\n",
    " J([[0,0],[1,1]]),\n",
    " J([[1,0],[0,1]]), #tau \n",
    " J([[1,2],[0,0]]), #s\n",
    " J([[1,1],[0,1]]), #quasi-branch sigma\n",
    " J([[1,1],[1,1]]), #kappa\n",
    " J([[1,0],[1,1]]), #lambda\n",
    " ]\n",
    "\n",
    "#BWS1 - #add two more terms chi and eta\n",
    "interactions = interactions +  [\n",
    " J([[0,1],[1,2]]), #\n",
    " J([[1,0],[1,2]]), #   \n",
    "]\n",
    "\n",
    "#VRS - add two more terms annhilation\n",
    "interactions = interactions +  [\n",
    " J([[1,1],[1,0]]), #\n",
    " J([[2,1],[0,1]]), #   \n",
    "]\n",
    "\n",
    "#display\n",
    "[j.display() for j in interactions]"
   ]
  },
  {
   "cell_type": "code",
   "execution_count": 12,
   "metadata": {},
   "outputs": [
    {
     "data": {
      "text/latex": [
       "$$\\left[\\begin{matrix}\\phi_1 \\tilde{\\phi}_1 & \\frac{1}{T}\\\\\\phi_0 \\tilde{\\phi}_0 & \\frac{1}{T}\\\\\\phi_0 \\tilde{\\phi}_0^{2} & 1\\\\\\phi_0 \\tilde{\\phi}_0 \\tilde{\\phi}_1 & 1\\end{matrix}\\right]$$"
      ],
      "text/plain": [
       "⎡                                   1⎤\n",
       "⎢       \\phi₁⋅\\tilde{\\phi}₁         ─⎥\n",
       "⎢                                   T⎥\n",
       "⎢                                    ⎥\n",
       "⎢                                   1⎥\n",
       "⎢       \\phi₀⋅\\tilde{\\phi}₀         ─⎥\n",
       "⎢                                   T⎥\n",
       "⎢                                    ⎥\n",
       "⎢                         2          ⎥\n",
       "⎢      \\phi₀⋅\\tilde{\\phi}₀          1⎥\n",
       "⎢                                    ⎥\n",
       "⎣\\phi₀⋅\\tilde{\\phi}₀⋅\\tilde{\\phi}₁  1⎦"
      ]
     },
     "execution_count": 12,
     "metadata": {},
     "output_type": "execute_result"
    }
   ],
   "source": [
    "Lambda = rg.T**(-1) # L**(-1*dim)\n",
    "new_couplings = {J([ [0,0],  [1,1]] ): Lambda, #[field]*lambda is the inverse measure\n",
    "                 J([ [1,1],  [0,0]] ): Lambda, }\n",
    "\n",
    "#example theory\n",
    "FT = ftheory(new_couplings, \n",
    "             dimensionless=[J([ [1,2],  [0,0]] ), \n",
    "                            J([ [1,1],  [0,1]] )  ])\n",
    "FT.display()"
   ]
  },
  {
   "cell_type": "code",
   "execution_count": 13,
   "metadata": {},
   "outputs": [
    {
     "data": {
      "text/latex": [
       "$$\\left[\\begin{matrix}\\phi_0 \\tilde{\\phi}_0 & L^{- d}\\\\\\phi_1 \\tilde{\\phi}_1 & L^{- d}\\\\\\phi_0 \\tilde{\\phi}_1 & L^{- d}\\\\\\phi_0 \\tilde{\\phi}_0^{2} & \\frac{L^{- d}}{T}\\\\\\phi_0 \\tilde{\\phi}_0 \\tilde{\\phi}_1 & \\frac{L^{- d}}{T}\\\\\\phi_0 \\phi_1 \\tilde{\\phi}_0 \\tilde{\\phi}_1 & L^{- 2 d}\\\\\\phi_0 \\phi_1 \\tilde{\\phi}_1 & L^{- 2 d} T\\\\\\phi_1 \\tilde{\\phi}_0 \\tilde{\\phi}_1^{2} & \\frac{L^{- d}}{T^{2}}\\\\\\phi_0 \\phi_1 \\tilde{\\phi}_1^{2} & L^{- 2 d}\\\\\\phi_0 \\phi_1 \\tilde{\\phi}_0 & L^{- 2 d} T\\\\\\phi_0^{2} \\tilde{\\phi}_0 \\tilde{\\phi}_1 & L^{- 2 d}\\end{matrix}\\right]$$"
      ],
      "text/plain": [
       "⎡                                            -d  ⎤\n",
       "⎢          \\phi₀⋅\\tilde{\\phi}₀              L    ⎥\n",
       "⎢                                                ⎥\n",
       "⎢                                            -d  ⎥\n",
       "⎢          \\phi₁⋅\\tilde{\\phi}₁              L    ⎥\n",
       "⎢                                                ⎥\n",
       "⎢                                            -d  ⎥\n",
       "⎢          \\phi₀⋅\\tilde{\\phi}₁              L    ⎥\n",
       "⎢                                                ⎥\n",
       "⎢                                            -d  ⎥\n",
       "⎢                            2              L    ⎥\n",
       "⎢         \\phi₀⋅\\tilde{\\phi}₀               ───  ⎥\n",
       "⎢                                            T   ⎥\n",
       "⎢                                                ⎥\n",
       "⎢                                            -d  ⎥\n",
       "⎢                                           L    ⎥\n",
       "⎢   \\phi₀⋅\\tilde{\\phi}₀⋅\\tilde{\\phi}₁       ───  ⎥\n",
       "⎢                                            T   ⎥\n",
       "⎢                                                ⎥\n",
       "⎢                                           -2⋅d ⎥\n",
       "⎢\\phi₀⋅\\phi₁⋅\\tilde{\\phi}₀⋅\\tilde{\\phi}₁   L     ⎥\n",
       "⎢                                                ⎥\n",
       "⎢                                          -2⋅d  ⎥\n",
       "⎢       \\phi₀⋅\\phi₁⋅\\tilde{\\phi}₁         L    ⋅T⎥\n",
       "⎢                                                ⎥\n",
       "⎢                                            -d  ⎥\n",
       "⎢                                   2       L    ⎥\n",
       "⎢  \\phi₁⋅\\tilde{\\phi}₀⋅\\tilde{\\phi}₁        ───  ⎥\n",
       "⎢                                             2  ⎥\n",
       "⎢                                            T   ⎥\n",
       "⎢                                                ⎥\n",
       "⎢                               2           -2⋅d ⎥\n",
       "⎢      \\phi₀⋅\\phi₁⋅\\tilde{\\phi}₁           L     ⎥\n",
       "⎢                                                ⎥\n",
       "⎢                                          -2⋅d  ⎥\n",
       "⎢       \\phi₀⋅\\phi₁⋅\\tilde{\\phi}₀         L    ⋅T⎥\n",
       "⎢                                                ⎥\n",
       "⎢       2                                   -2⋅d ⎥\n",
       "⎣  \\phi₀ ⋅\\tilde{\\phi}₀⋅\\tilde{\\phi}₁      L     ⎦"
      ]
     },
     "execution_count": 13,
     "metadata": {},
     "output_type": "execute_result"
    }
   ],
   "source": [
    "FT.interpret_dimensions(interactions)"
   ]
  },
  {
   "cell_type": "code",
   "execution_count": 14,
   "metadata": {},
   "outputs": [
    {
     "data": {
      "text/latex": [
       "$$\\left[\\begin{matrix}\\phi_0 \\tilde{\\phi}_0 & \\frac{1}{L^{2}}\\\\\\phi_1 \\tilde{\\phi}_1 & \\frac{1}{L^{2}}\\\\\\phi_0 \\tilde{\\phi}_1 & \\frac{1}{L^{2}}\\\\\\phi_0 \\tilde{\\phi}_0^{2} & 1\\\\\\phi_0 \\tilde{\\phi}_0 \\tilde{\\phi}_1 & 1\\\\\\phi_0 \\phi_1 \\tilde{\\phi}_0 \\tilde{\\phi}_1 & L^{2}\\\\\\phi_0 \\phi_1 \\tilde{\\phi}_1 & 1\\\\\\phi_1 \\tilde{\\phi}_0 \\tilde{\\phi}_1^{2} & L^{2}\\\\\\phi_0 \\phi_1 \\tilde{\\phi}_1^{2} & L^{2}\\\\\\phi_0 \\phi_1 \\tilde{\\phi}_0 & 1\\\\\\phi_0^{2} \\tilde{\\phi}_0 \\tilde{\\phi}_1 & L^{2}\\end{matrix}\\right]$$"
      ],
      "text/plain": [
       "⎡                                         1 ⎤\n",
       "⎢          \\phi₀⋅\\tilde{\\phi}₀            ──⎥\n",
       "⎢                                          2⎥\n",
       "⎢                                         L ⎥\n",
       "⎢                                           ⎥\n",
       "⎢                                         1 ⎥\n",
       "⎢          \\phi₁⋅\\tilde{\\phi}₁            ──⎥\n",
       "⎢                                          2⎥\n",
       "⎢                                         L ⎥\n",
       "⎢                                           ⎥\n",
       "⎢                                         1 ⎥\n",
       "⎢          \\phi₀⋅\\tilde{\\phi}₁            ──⎥\n",
       "⎢                                          2⎥\n",
       "⎢                                         L ⎥\n",
       "⎢                                           ⎥\n",
       "⎢                            2              ⎥\n",
       "⎢         \\phi₀⋅\\tilde{\\phi}₀             1 ⎥\n",
       "⎢                                           ⎥\n",
       "⎢   \\phi₀⋅\\tilde{\\phi}₀⋅\\tilde{\\phi}₁     1 ⎥\n",
       "⎢                                           ⎥\n",
       "⎢                                          2⎥\n",
       "⎢\\phi₀⋅\\phi₁⋅\\tilde{\\phi}₀⋅\\tilde{\\phi}₁  L ⎥\n",
       "⎢                                           ⎥\n",
       "⎢       \\phi₀⋅\\phi₁⋅\\tilde{\\phi}₁         1 ⎥\n",
       "⎢                                           ⎥\n",
       "⎢                                   2      2⎥\n",
       "⎢  \\phi₁⋅\\tilde{\\phi}₀⋅\\tilde{\\phi}₁      L ⎥\n",
       "⎢                                           ⎥\n",
       "⎢                               2          2⎥\n",
       "⎢      \\phi₀⋅\\phi₁⋅\\tilde{\\phi}₁          L ⎥\n",
       "⎢                                           ⎥\n",
       "⎢       \\phi₀⋅\\phi₁⋅\\tilde{\\phi}₀         1 ⎥\n",
       "⎢                                           ⎥\n",
       "⎢       2                                  2⎥\n",
       "⎣  \\phi₀ ⋅\\tilde{\\phi}₀⋅\\tilde{\\phi}₁     L ⎦"
      ]
     },
     "execution_count": 14,
     "metadata": {},
     "output_type": "execute_result"
    }
   ],
   "source": [
    "FT.interpret_couplings(interactions, l_power_dim=4)"
   ]
  },
  {
   "cell_type": "code",
   "execution_count": 15,
   "metadata": {
    "collapsed": true
   },
   "outputs": [],
   "source": [
    "#we can create a bunch of theories by permuting dimensionless couplings given the input known field dimensions and all terms\n",
    "cs  = ftheory.theories(interactions, new_couplings)"
   ]
  },
  {
   "cell_type": "code",
   "execution_count": 16,
   "metadata": {},
   "outputs": [
    {
     "data": {
      "text/latex": [
       "$$\\left[\\begin{array}{cccccccccccccccccccccccc}\\phi_0 \\tilde{\\phi}_0 & \\frac{1}{T} & \\frac{1}{T} & \\frac{1}{T} & \\frac{1}{T} & \\frac{1}{T} & \\frac{1}{T} & \\frac{1}{T} & \\frac{1}{T} & \\frac{1}{T} & \\frac{1}{T} & \\frac{1}{T} & \\frac{1}{T} & \\frac{1}{T} & \\frac{1}{T} & \\frac{1}{T} & \\frac{1}{T} & \\frac{1}{T} & \\frac{1}{T} & \\frac{1}{T} & \\frac{1}{T} & \\frac{1}{T} & \\frac{1}{T} & \\frac{1}{T}\\\\\\phi_1 \\tilde{\\phi}_1 & \\frac{1}{T} & \\frac{1}{T} & \\frac{1}{T} & \\frac{1}{T} & \\frac{1}{T} & \\frac{1}{T} & \\frac{1}{T} & \\frac{1}{T} & \\frac{1}{T} & \\frac{1}{T} & \\frac{1}{T} & \\frac{1}{T} & \\frac{1}{T} & \\frac{1}{T} & \\frac{1}{T} & \\frac{1}{T} & \\frac{1}{T} & \\frac{1}{T} & \\frac{1}{T} & \\frac{1}{T} & \\frac{1}{T} & \\frac{1}{T} & \\frac{1}{T}\\\\\\phi_0 \\tilde{\\phi}_1 & 1 & 1 & 1 & 1 & 1 & \\frac{1}{T} & \\frac{1}{T^{2}} & L^{- d} & \\frac{L^{d}}{T^{3}} & L^{- d} & L^{- d} T & 1 & L^{- d} & L^{- d} & L^{- 2 d} T^{2} & L^{- d} & \\frac{1}{T} & L^{- d} & L^{- d} & \\frac{L^{2 d}}{T^{4}} & L^{- d} & L^{- d} & L^{- d}\\\\\\phi_0 \\tilde{\\phi}_0^{2} & 1 & \\frac{1}{T} & \\frac{L^{d}}{T^{2}} & - \\frac{1}{T} & \\frac{L^{d}}{T^{3}} & 1 & 1 & 1 & 1 & 1 & \\frac{L^{d}}{T^{2}} & \\frac{1}{T} & \\frac{L^{d}}{T} & \\frac{L^{d}}{T} & \\frac{L^{d}}{T^{2}} & \\frac{L^{d}}{T^{2}} & \\frac{L^{d}}{T^{2}} & \\frac{L^{d}}{T^{2}} & - \\frac{L^{d}}{T \\sqrt{L^{d}}} & L^{- d} T & - \\frac{L^{d}}{T \\sqrt{L^{d}}} & \\frac{L^{2 d}}{T^{3}} & \\frac{L^{2 d}}{T^{3}}\\\\\\phi_0 \\tilde{\\phi}_0 \\tilde{\\phi}_1 & T & 1 & \\frac{L^{d}}{T} & -1 & \\frac{L^{d}}{T^{2}} & 1 & \\frac{1}{T} & L^{- d} T & \\frac{L^{d}}{T^{2}} & L^{- d} T & 1 & 1 & 1 & 1 & L^{- d} T & \\frac{1}{T} & \\frac{L^{d}}{T^{2}} & \\frac{1}{T} & - \\frac{1}{\\sqrt{L^{d}}} & \\frac{L^{d}}{T^{2}} & - \\frac{1}{\\sqrt{L^{d}}} & \\frac{L^{d}}{T^{2}} & \\frac{L^{d}}{T^{2}}\\\\\\phi_0 \\phi_1 \\tilde{\\phi}_0 \\tilde{\\phi}_1 & \\frac{L^{d}}{T} & \\frac{L^{d}}{T} & \\frac{L^{d}}{T} & \\frac{L^{d}}{T} & \\frac{L^{d}}{T} & \\frac{L^{d}}{T} & \\frac{L^{d}}{T} & \\frac{L^{d}}{T} & \\frac{L^{d}}{T} & \\frac{L^{d}}{T} & \\frac{L^{d}}{T} & \\frac{L^{d}}{T} & \\frac{L^{d}}{T} & \\frac{L^{d}}{T} & \\frac{L^{d}}{T} & \\frac{L^{d}}{T} & \\frac{L^{d}}{T} & \\frac{L^{d}}{T} & \\frac{L^{d}}{T} & \\frac{L^{d}}{T} & \\frac{L^{d}}{T} & \\frac{L^{d}}{T} & \\frac{L^{d}}{T}\\\\\\phi_0 \\phi_1 \\tilde{\\phi}_1 & \\frac{L^{d}}{T^{2}} & \\frac{L^{d}}{T} & 1 & - \\frac{L^{d}}{T} & T & \\frac{L^{d}}{T^{2}} & \\frac{L^{d}}{T^{2}} & \\frac{L^{d}}{T^{2}} & \\frac{L^{d}}{T^{2}} & \\frac{L^{d}}{T^{2}} & 1 & \\frac{L^{d}}{T} & \\frac{1}{T} & \\frac{1}{T} & 1 & 1 & 1 & 1 & - \\frac{L^{d}}{T \\sqrt{L^{d}}} & \\frac{L^{2 d}}{T^{3}} & - \\frac{L^{d}}{T \\sqrt{L^{d}}} & L^{- d} T & L^{- d} T\\\\\\phi_1 \\tilde{\\phi}_0 \\tilde{\\phi}_1^{2} & T^{2} & 1 & \\frac{L^{2 d}}{T^{2}} & 1 & \\frac{L^{2 d}}{T^{4}} & T & 1 & L^{- d} T^{2} & \\frac{L^{d}}{T} & L^{- d} T^{2} & \\frac{L^{d}}{T} & 1 & L^{d} & L^{d} & 1 & \\frac{L^{d}}{T^{2}} & \\frac{L^{2 d}}{T^{3}} & \\frac{L^{d}}{T^{2}} & 1 & 1 & 1 & \\frac{L^{3 d}}{T^{4}} & \\frac{L^{3 d}}{T^{4}}\\\\\\phi_0 \\phi_1 \\tilde{\\phi}_1^{2} & L^{d} & L^{d} & L^{d} & L^{d} & L^{d} & \\frac{L^{d}}{T} & \\frac{L^{d}}{T^{2}} & 1 & \\frac{L^{2 d}}{T^{3}} & 1 & T & L^{d} & 1 & 1 & L^{- d} T^{2} & 1 & \\frac{L^{d}}{T} & 1 & 1 & \\frac{L^{3 d}}{T^{4}} & 1 & 1 & 1\\\\\\phi_0 \\phi_1 \\tilde{\\phi}_0 & \\frac{L^{d}}{T^{3}} & \\frac{L^{d}}{T^{2}} & \\frac{1}{T} & - \\frac{L^{d}}{T^{2}} & 1 & \\frac{L^{d}}{T^{2}} & \\frac{L^{d}}{T} & \\frac{L^{2 d}}{T^{3}} & 1 & \\frac{L^{2 d}}{T^{3}} & \\frac{L^{d}}{T^{2}} & \\frac{L^{d}}{T^{2}} & \\frac{L^{d}}{T^{2}} & \\frac{L^{d}}{T^{2}} & \\frac{L^{2 d}}{T^{3}} & \\frac{L^{d}}{T} & 1 & \\frac{L^{d}}{T} & - \\frac{L^{2 d}}{T^{2} \\sqrt{L^{d}}} & 1 & - \\frac{L^{2 d}}{T^{2} \\sqrt{L^{d}}} & 1 & 1\\\\\\phi_0^{2} \\tilde{\\phi}_0 \\tilde{\\phi}_1 & L^{d} & L^{d} & L^{d} & L^{d} & L^{d} & \\frac{L^{d}}{T} & \\frac{L^{d}}{T^{2}} & 1 & \\frac{L^{2 d}}{T^{3}} & 1 & T & L^{d} & 1 & 1 & L^{- d} T^{2} & 1 & \\frac{L^{d}}{T} & 1 & 1 & \\frac{L^{3 d}}{T^{4}} & 1 & 1 & 1\\end{array}\\right]$$"
      ],
      "text/plain": [
       "⎡                                         1   1    1     1     1    1   1     \n",
       "⎢          \\phi₀⋅\\tilde{\\phi}₀            ─   ─    ─     ─     ─    ─   ─     \n",
       "⎢                                         T   T    T     T     T    T   T     \n",
       "⎢                                                                             \n",
       "⎢                                         1   1    1     1     1    1   1     \n",
       "⎢          \\phi₁⋅\\tilde{\\phi}₁            ─   ─    ─     ─     ─    ─   ─     \n",
       "⎢                                         T   T    T     T     T    T   T     \n",
       "⎢                                                                             \n",
       "⎢                                                                             \n",
       "⎢                                                                   1   1     \n",
       "⎢          \\phi₀⋅\\tilde{\\phi}₁            1   1    1     1     1    ─   ──   L\n",
       "⎢                                                                   T    2    \n",
       "⎢                                                                       T     \n",
       "⎢                                                                             \n",
       "⎢                                                   d           d             \n",
       "⎢                            2                1    L    -1     L              \n",
       "⎢         \\phi₀⋅\\tilde{\\phi}₀             1   ─    ──   ───    ──   1   1     \n",
       "⎢                                             T     2    T      3             \n",
       "⎢                                                  T           T              \n",
       "⎢                                                                             \n",
       "⎢                                                                             \n",
       "⎢                                                   d           d             \n",
       "⎢                                                  L           L        1    -\n",
       "⎢   \\phi₀⋅\\tilde{\\phi}₀⋅\\tilde{\\phi}₁     T   1    ──    -1    ──   1   ─   L \n",
       "⎢                                                  T            2       T     \n",
       "⎢                                                              T              \n",
       "⎢                                                                             \n",
       "⎢                                                                             \n",
       "⎢                                          d   d    d     d     d    d   d    \n",
       "⎢                                         L   L    L     L     L    L   L     \n",
       "⎢\\phi₀⋅\\phi₁⋅\\tilde{\\phi}₀⋅\\tilde{\\phi}₁  ──  ──   ──    ──    ──   ──  ──    \n",
       "⎢                                         T   T    T     T     T    T   T     \n",
       "⎢                                                                             \n",
       "⎢                                          d   d          d          d   d    \n",
       "⎢                                         L   L         -L          L   L     \n",
       "⎢       \\phi₀⋅\\phi₁⋅\\tilde{\\phi}₁         ──  ──   1    ────   T    ──  ──    \n",
       "⎢                                          2  T          T           2   2    \n",
       "⎢                                         T                         T   T     \n",
       "⎢                                                                             \n",
       "⎢                                                                             \n",
       "⎢                                                  2⋅d         2⋅d            \n",
       "⎢                                   2      2      L           L              -\n",
       "⎢  \\phi₁⋅\\tilde{\\phi}₀⋅\\tilde{\\phi}₁      T   1   ────   1    ────  T   1   L \n",
       "⎢                                                   2           4             \n",
       "⎢                                                  T           T              \n",
       "⎢                                                                             \n",
       "⎢                                                                    d   d    \n",
       "⎢                               2          d   d    d     d     d   L   L     \n",
       "⎢      \\phi₀⋅\\phi₁⋅\\tilde{\\phi}₁          L   L    L     L     L    ──  ──    \n",
       "⎢                                                                   T    2    \n",
       "⎢                                                                       T     \n",
       "⎢                                                                             \n",
       "⎢                                          d   d          d          d   d    \n",
       "⎢                                         L   L    1    -L          L   L    L\n",
       "⎢       \\phi₀⋅\\phi₁⋅\\tilde{\\phi}₀         ──  ──   ─    ────   1    ──  ──   ─\n",
       "⎢                                          3   2   T      2          2  T     \n",
       "⎢                                         T   T          T          T         \n",
       "⎢                                                                             \n",
       "⎢                                                                             \n",
       "⎢                                                                    d   d    \n",
       "⎢       2                                  d   d    d     d     d   L   L     \n",
       "⎢  \\phi₀ ⋅\\tilde{\\phi}₀⋅\\tilde{\\phi}₁     L   L    L     L     L    ──  ──    \n",
       "⎢                                                                   T    2    \n",
       "⎣                                                                       T     \n",
       "\n",
       "1      1      1       1    1    1    1      1       1    1     1       1      \n",
       "─      ─      ─       ─    ─    ─    ─      ─       ─    ─     ─       ─      \n",
       "T      T      T       T    T    T    T      T       T    T     T       T      \n",
       "                                                                              \n",
       "1      1      1       1    1    1    1      1       1    1     1       1      \n",
       "─      ─      ─       ─    ─    ─    ─      ─       ─    ─     ─       ─      \n",
       "T      T      T       T    T    T    T      T       T    T     T       T      \n",
       "                                                                              \n",
       "        d                                                                     \n",
       "-d     L      -d     -d         -d   -d   -2⋅d  2   -d   1     -d      -d     \n",
       "       ──    L      L  ⋅T  1   L    L    L    ⋅T   L     ─    L       L       \n",
       "        3                                                T                    \n",
       "       T                                                                      \n",
       "                                                                              \n",
       "                      d         d    d       d      d     d    d        d     \n",
       "                     L     1   L    L       L      L     L    L       -L      \n",
       "1      1      1      ──    ─   ──   ──      ──     ──    ──   ──   ─────────  \n",
       "                      2    T   T    T        2      2     2    2        ____  \n",
       "                     T                      T      T     T    T        ╱  d   \n",
       "                                                                   T⋅╲╱  L    \n",
       "                                                                              \n",
       "        d                                                 d                   \n",
       "d      L     -d                            -d       1    L     1      -1      \n",
       " ⋅T    ──   L  ⋅T     1    1    1    1    L  ⋅T     ─    ──    ─    ───────   \n",
       "        2                                           T     2    T       ____   \n",
       "       T                                                 T            ╱  d    \n",
       "                                                                    ╲╱  L     \n",
       "                                                                              \n",
       " d      d      d      d     d   d    d       d      d     d    d        d     \n",
       "L      L      L      L     L   L    L       L      L     L    L        L      \n",
       "──     ──     ──     ──    ──  ──   ──      ──     ──    ──   ──       ──     \n",
       "T      T      T      T     T   T    T       T      T     T    T        T      \n",
       "                                                                              \n",
       " d      d      d            d                                           d     \n",
       "L      L      L            L    1    1                                -L      \n",
       "──     ──     ──      1    ──   ─    ─      1       1    1     1   ─────────  \n",
       " 2      2      2           T    T    T                                  ____  \n",
       "T      T      T                                                        ╱  d   \n",
       "                                                                   T⋅╲╱  L    \n",
       "                                                                              \n",
       "        d             d                             d    2⋅d   d              \n",
       "d  2   L     -d  2   L          d    d             L    L     L               \n",
       " ⋅T    ──   L  ⋅T    ──    1   L    L       1      ──   ────  ──       1      \n",
       "       T             T                              2     3    2              \n",
       "                                                   T     T    T               \n",
       "                                                                              \n",
       "       2⋅d                                                d                   \n",
       "      L                     d              -d  2         L                    \n",
       "1     ────    1       T    L    1    1    L  ⋅T     1    ──    1       1      \n",
       "        3                                                T                    \n",
       "       T                                                                      \n",
       "                                                                              \n",
       "2⋅d           2⋅d     d     d   d    d      2⋅d     d          d       2⋅d    \n",
       "             L       L     L   L    L      L       L          L      -L       \n",
       "───    1     ────    ──    ──  ──   ──     ────    ──    1    ──   ────────── \n",
       " 3             3      2     2   2    2       3     T          T          ____ \n",
       "T             T      T     T   T    T       T                       2   ╱  d  \n",
       "                                                                   T ⋅╲╱  L   \n",
       "                                                                              \n",
       "       2⋅d                                                d                   \n",
       "      L                     d              -d  2         L                    \n",
       "1     ────    1       T    L    1    1    L  ⋅T     1    ──    1       1      \n",
       "        3                                                T                    \n",
       "       T                                                                      \n",
       "\n",
       "   1        1         1      1  ⎤\n",
       "   ─        ─         ─      ─  ⎥\n",
       "   T        T         T      T  ⎥\n",
       "                                ⎥\n",
       "   1        1         1      1  ⎥\n",
       "   ─        ─         ─      ─  ⎥\n",
       "   T        T         T      T  ⎥\n",
       "                                ⎥\n",
       "  2⋅d                           ⎥\n",
       " L          -d        -d     -d ⎥\n",
       " ────      L         L      L   ⎥\n",
       "   4                            ⎥\n",
       "  T                             ⎥\n",
       "                                ⎥\n",
       "             d       2⋅d    2⋅d ⎥\n",
       "  -d       -L       L      L    ⎥\n",
       " L  ⋅T  ─────────   ────   ──── ⎥\n",
       "             ____     3      3  ⎥\n",
       "            ╱  d     T      T   ⎥\n",
       "        T⋅╲╱  L                 ⎥\n",
       "                                ⎥\n",
       "   d                  d      d  ⎥\n",
       "  L        -1        L      L   ⎥\n",
       "  ──     ───────     ──     ──  ⎥\n",
       "   2        ____      2      2  ⎥\n",
       "  T        ╱  d      T      T   ⎥\n",
       "         ╲╱  L                  ⎥\n",
       "                                ⎥\n",
       "   d         d        d      d  ⎥\n",
       "  L         L        L      L   ⎥\n",
       "  ──        ──       ──     ──  ⎥\n",
       "  T         T        T      T   ⎥\n",
       "                                ⎥\n",
       "  2⋅d        d                  ⎥\n",
       " L         -L        -d     -d  ⎥\n",
       " ────   ─────────   L  ⋅T  L  ⋅T⎥\n",
       "   3         ____               ⎥\n",
       "  T         ╱  d                ⎥\n",
       "        T⋅╲╱  L                 ⎥\n",
       "                                ⎥\n",
       "                     3⋅d    3⋅d ⎥\n",
       "                    L      L    ⎥\n",
       "   1        1       ────   ──── ⎥\n",
       "                      4      4  ⎥\n",
       "                     T      T   ⎥\n",
       "                                ⎥\n",
       "  3⋅d                           ⎥\n",
       " L                              ⎥\n",
       " ────       1         1      1  ⎥\n",
       "   4                            ⎥\n",
       "  T                             ⎥\n",
       "                                ⎥\n",
       "            2⋅d                 ⎥\n",
       "          -L                    ⎥\n",
       "   1    ──────────    1      1  ⎥\n",
       "              ____              ⎥\n",
       "         2   ╱  d               ⎥\n",
       "        T ⋅╲╱  L                ⎥\n",
       "                                ⎥\n",
       "  3⋅d                           ⎥\n",
       " L                              ⎥\n",
       " ────       1         1      1  ⎥\n",
       "   4                            ⎥\n",
       "  T                             ⎦"
      ]
     },
     "execution_count": 16,
     "metadata": {},
     "output_type": "execute_result"
    }
   ],
   "source": [
    "import pandas as pd\n",
    "dfs = []\n",
    "for k in cs:\n",
    "    M = k.interpret_couplings(interactions)\n",
    "    df = pd.DataFrame(M.tolist(), columns=[\"vertex\", \"coupling\"]).set_index(\"vertex\")\n",
    "    dfs.append(df)\n",
    "dfs = pd.concat(dfs,axis=1).reset_index()\n",
    "from sympy import Matrix\n",
    "Matrix(dfs.as_matrix())\n",
    "#dfs[0]"
   ]
  },
  {
   "cell_type": "code",
   "execution_count": 17,
   "metadata": {},
   "outputs": [
    {
     "data": {
      "text/latex": [
       "$$\\left[\\begin{array}{ccccccccccccccccccccccc}\\phi_0 \\tilde{\\phi}_1 & \\phi_0 \\tilde{\\phi}_1 & \\phi_0 \\tilde{\\phi}_1 & \\phi_0 \\tilde{\\phi}_1 & \\phi_0 \\tilde{\\phi}_1 & \\phi_0 \\tilde{\\phi}_0^{2} & \\phi_0 \\tilde{\\phi}_0^{2} & \\phi_0 \\tilde{\\phi}_0^{2} & \\phi_0 \\tilde{\\phi}_0^{2} & \\phi_0 \\tilde{\\phi}_0^{2} & \\phi_0 \\tilde{\\phi}_0 \\tilde{\\phi}_1 & \\phi_0 \\tilde{\\phi}_0 \\tilde{\\phi}_1 & \\phi_0 \\tilde{\\phi}_0 \\tilde{\\phi}_1 & \\phi_0 \\tilde{\\phi}_0 \\tilde{\\phi}_1 & \\phi_0 \\phi_1 \\tilde{\\phi}_1 & \\phi_0 \\phi_1 \\tilde{\\phi}_1 & \\phi_0 \\phi_1 \\tilde{\\phi}_1 & \\phi_0 \\phi_1 \\tilde{\\phi}_1 & \\phi_1 \\tilde{\\phi}_0 \\tilde{\\phi}_1^{2} & \\phi_1 \\tilde{\\phi}_0 \\tilde{\\phi}_1^{2} & \\phi_1 \\tilde{\\phi}_0 \\tilde{\\phi}_1^{2} & \\phi_0 \\phi_1 \\tilde{\\phi}_1^{2} & \\phi_0 \\phi_1 \\tilde{\\phi}_0\\\\\\phi_0 \\tilde{\\phi}_0^{2} & \\phi_0 \\tilde{\\phi}_0 \\tilde{\\phi}_1 & \\phi_0 \\phi_1 \\tilde{\\phi}_1 & \\phi_1 \\tilde{\\phi}_0 \\tilde{\\phi}_1^{2} & \\phi_0 \\phi_1 \\tilde{\\phi}_0 & \\phi_0 \\tilde{\\phi}_0 \\tilde{\\phi}_1 & \\phi_1 \\tilde{\\phi}_0 \\tilde{\\phi}_1^{2} & \\phi_0 \\phi_1 \\tilde{\\phi}_1^{2} & \\phi_0 \\phi_1 \\tilde{\\phi}_0 & \\phi_0^{2} \\tilde{\\phi}_0 \\tilde{\\phi}_1 & \\phi_0 \\phi_1 \\tilde{\\phi}_1 & \\phi_1 \\tilde{\\phi}_0 \\tilde{\\phi}_1^{2} & \\phi_0 \\phi_1 \\tilde{\\phi}_1^{2} & \\phi_0^{2} \\tilde{\\phi}_0 \\tilde{\\phi}_1 & \\phi_1 \\tilde{\\phi}_0 \\tilde{\\phi}_1^{2} & \\phi_0 \\phi_1 \\tilde{\\phi}_1^{2} & \\phi_0 \\phi_1 \\tilde{\\phi}_0 & \\phi_0^{2} \\tilde{\\phi}_0 \\tilde{\\phi}_1 & \\phi_0 \\phi_1 \\tilde{\\phi}_1^{2} & \\phi_0 \\phi_1 \\tilde{\\phi}_0 & \\phi_0^{2} \\tilde{\\phi}_0 \\tilde{\\phi}_1 & \\phi_0 \\phi_1 \\tilde{\\phi}_0 & \\phi_0^{2} \\tilde{\\phi}_0 \\tilde{\\phi}_1\\end{array}\\right]$$"
      ],
      "text/plain": [
       "⎡                                                                             \n",
       "⎢\\phi₀⋅\\tilde{\\phi}₁          \\phi₀⋅\\tilde{\\phi}₁            \\phi₀⋅\\tilde{\\phi\n",
       "⎢                                                                             \n",
       "⎢                   2                                                         \n",
       "⎣\\phi₀⋅\\tilde{\\phi}₀   \\phi₀⋅\\tilde{\\phi}₀⋅\\tilde{\\phi}₁  \\phi₀⋅\\phi₁⋅\\tilde{\\\n",
       "\n",
       "                                                                              \n",
       "}₁            \\phi₀⋅\\tilde{\\phi}₁             \\phi₀⋅\\tilde{\\phi}₁           \\p\n",
       "                                                                              \n",
       "                                        2                                     \n",
       "phi}₁  \\phi₁⋅\\tilde{\\phi}₀⋅\\tilde{\\phi}₁   \\phi₀⋅\\phi₁⋅\\tilde{\\phi}₀  \\phi₀⋅\\t\n",
       "\n",
       "                 2                                   2                        \n",
       "hi₀⋅\\tilde{\\phi}₀                 \\phi₀⋅\\tilde{\\phi}₀             \\phi₀⋅\\tilde\n",
       "                                                                              \n",
       "                                                            2                 \n",
       "ilde{\\phi}₀⋅\\tilde{\\phi}₁  \\phi₁⋅\\tilde{\\phi}₀⋅\\tilde{\\phi}₁   \\phi₀⋅\\phi₁⋅\\ti\n",
       "\n",
       "       2                          2                               2           \n",
       "{\\phi}₀        \\phi₀⋅\\tilde{\\phi}₀             \\phi₀⋅\\tilde{\\phi}₀          \\p\n",
       "                                                                              \n",
       "          2                                  2                                \n",
       "lde{\\phi}₁   \\phi₀⋅\\phi₁⋅\\tilde{\\phi}₀  \\phi₀ ⋅\\tilde{\\phi}₀⋅\\tilde{\\phi}₁    \n",
       "\n",
       "                                                                              \n",
       "hi₀⋅\\tilde{\\phi}₀⋅\\tilde{\\phi}₁  \\phi₀⋅\\tilde{\\phi}₀⋅\\tilde{\\phi}₁   \\phi₀⋅\\ti\n",
       "                                                                              \n",
       "                                                                  2           \n",
       "  \\phi₀⋅\\phi₁⋅\\tilde{\\phi}₁      \\phi₁⋅\\tilde{\\phi}₀⋅\\tilde{\\phi}₁      \\phi₀⋅\n",
       "\n",
       "                                                                              \n",
       "lde{\\phi}₀⋅\\tilde{\\phi}₁  \\phi₀⋅\\tilde{\\phi}₀⋅\\tilde{\\phi}₁       \\phi₀⋅\\phi₁⋅\n",
       "                                                                              \n",
       "                   2           2                                              \n",
       "\\phi₁⋅\\tilde{\\phi}₁       \\phi₀ ⋅\\tilde{\\phi}₀⋅\\tilde{\\phi}₁  \\phi₁⋅\\tilde{\\ph\n",
       "\n",
       "                                                                              \n",
       "\\tilde{\\phi}₁       \\phi₀⋅\\phi₁⋅\\tilde{\\phi}₁   \\phi₀⋅\\phi₁⋅\\tilde{\\phi}₁     \n",
       "                                                                              \n",
       "                 2                           2                                \n",
       "i}₀⋅\\tilde{\\phi}₁   \\phi₀⋅\\phi₁⋅\\tilde{\\phi}₁   \\phi₀⋅\\phi₁⋅\\tilde{\\phi}₀  \\ph\n",
       "\n",
       "                                                                  2           \n",
       " \\phi₀⋅\\phi₁⋅\\tilde{\\phi}₁       \\phi₁⋅\\tilde{\\phi}₀⋅\\tilde{\\phi}₁   \\phi₁⋅\\ti\n",
       "                                                                              \n",
       "  2                                                           2               \n",
       "i₀ ⋅\\tilde{\\phi}₀⋅\\tilde{\\phi}₁      \\phi₀⋅\\phi₁⋅\\tilde{\\phi}₁           \\phi₀\n",
       "\n",
       "                        2                                   2                 \n",
       "lde{\\phi}₀⋅\\tilde{\\phi}₁   \\phi₁⋅\\tilde{\\phi}₀⋅\\tilde{\\phi}₁   \\phi₀⋅\\phi₁⋅\\ti\n",
       "                                                                              \n",
       "                                2                                             \n",
       "⋅\\phi₁⋅\\tilde{\\phi}₀       \\phi₀ ⋅\\tilde{\\phi}₀⋅\\tilde{\\phi}₁  \\phi₀⋅\\phi₁⋅\\ti\n",
       "\n",
       "          2                                    ⎤\n",
       "lde{\\phi}₁       \\phi₀⋅\\phi₁⋅\\tilde{\\phi}₀     ⎥\n",
       "                                               ⎥\n",
       "                  2                            ⎥\n",
       "lde{\\phi}₀   \\phi₀ ⋅\\tilde{\\phi}₀⋅\\tilde{\\phi}₁⎦"
      ]
     },
     "execution_count": 17,
     "metadata": {},
     "output_type": "execute_result"
    }
   ],
   "source": [
    "ftheory.matrices(cs).dimensionless_terms().T"
   ]
  },
  {
   "cell_type": "code",
   "execution_count": 18,
   "metadata": {},
   "outputs": [
    {
     "data": {
      "text/latex": [
       "$$\\left[\\begin{matrix}- d + 2 & -2 & - d + 4 & -4\\\\- d & 0 & - d + 2 & -2\\\\-2 & - d + 2 & 0 & - d\\\\- d & 0 & - d + 2 & -2\\\\-4 & - d + 4 & -2 & - d + 2\\\\- d + 2 & -2 & - d + 2 & -2\\\\- d + 2 & -2 & - d & 0\\\\- d + 2 & -2 & - 2 d + 4 & d - 4\\\\- d + 2 & -2 & -2 & - d + 2\\\\- d + 2 & -2 & - 2 d + 4 & d - 4\\\\-2 & - d + 2 & - d + 2 & -2\\\\- d & 0 & - d + 2 & -2\\\\0 & - d & - d + 2 & -2\\\\0 & - d & - d + 2 & -2\\\\-2 & - d + 2 & - 2 d + 4 & d - 4\\\\-2 & - d + 2 & - d & 0\\\\-2 & - d + 2 & -2 & - d + 2\\\\-2 & - d + 2 & - d & 0\\\\- d & - d & - 2 d + 2 & -2\\\\- 2 d + 4 & d - 4 & -2 & - d + 2\\\\- d & - d & - 2 d + 2 & -2\\\\d - 4 & - 2 d + 4 & -2 & - d + 2\\\\d - 4 & - 2 d + 4 & -2 & - d + 2\\end{matrix}\\right]$$"
      ],
      "text/plain": [
       "⎡ -d + 2      -2      -d + 4     -4  ⎤\n",
       "⎢                                    ⎥\n",
       "⎢   -d        0       -d + 2     -2  ⎥\n",
       "⎢                                    ⎥\n",
       "⎢   -2      -d + 2      0        -d  ⎥\n",
       "⎢                                    ⎥\n",
       "⎢   -d        0       -d + 2     -2  ⎥\n",
       "⎢                                    ⎥\n",
       "⎢   -4      -d + 4      -2     -d + 2⎥\n",
       "⎢                                    ⎥\n",
       "⎢ -d + 2      -2      -d + 2     -2  ⎥\n",
       "⎢                                    ⎥\n",
       "⎢ -d + 2      -2        -d       0   ⎥\n",
       "⎢                                    ⎥\n",
       "⎢ -d + 2      -2     -2⋅d + 4  d - 4 ⎥\n",
       "⎢                                    ⎥\n",
       "⎢ -d + 2      -2        -2     -d + 2⎥\n",
       "⎢                                    ⎥\n",
       "⎢ -d + 2      -2     -2⋅d + 4  d - 4 ⎥\n",
       "⎢                                    ⎥\n",
       "⎢   -2      -d + 2    -d + 2     -2  ⎥\n",
       "⎢                                    ⎥\n",
       "⎢   -d        0       -d + 2     -2  ⎥\n",
       "⎢                                    ⎥\n",
       "⎢   0         -d      -d + 2     -2  ⎥\n",
       "⎢                                    ⎥\n",
       "⎢   0         -d      -d + 2     -2  ⎥\n",
       "⎢                                    ⎥\n",
       "⎢   -2      -d + 2   -2⋅d + 4  d - 4 ⎥\n",
       "⎢                                    ⎥\n",
       "⎢   -2      -d + 2      -d       0   ⎥\n",
       "⎢                                    ⎥\n",
       "⎢   -2      -d + 2      -2     -d + 2⎥\n",
       "⎢                                    ⎥\n",
       "⎢   -2      -d + 2      -d       0   ⎥\n",
       "⎢                                    ⎥\n",
       "⎢   -d        -d     -2⋅d + 2    -2  ⎥\n",
       "⎢                                    ⎥\n",
       "⎢-2⋅d + 4   d - 4       -2     -d + 2⎥\n",
       "⎢                                    ⎥\n",
       "⎢   -d        -d     -2⋅d + 2    -2  ⎥\n",
       "⎢                                    ⎥\n",
       "⎢ d - 4    -2⋅d + 4     -2     -d + 2⎥\n",
       "⎢                                    ⎥\n",
       "⎣ d - 4    -2⋅d + 4     -2     -d + 2⎦"
      ]
     },
     "execution_count": 18,
     "metadata": {},
     "output_type": "execute_result"
    }
   ],
   "source": [
    "#we can display a matrix for all theories for the values of the fields \\phi_0, \\tilde{\\phi}_0, \\phi_1, \\tilde{\\phi_1}\n",
    "ftheory.matrices(cs).general_form\n",
    "#below terms are in the form ud+v\n",
    "#propagators always compensate each other in d=0 - that means i think they are rate-like\n",
    "#you never have something that is just a positive v without some u? \n",
    "#you sometimes but rarely have any positive u\n",
    "#For u,v; 0,0 always goes with -1,0\n",
    "#you only have powers of 2 for u,v\n",
    "#d dependence for creation or annihilation fields mostly agree between species - \n",
    "#  - if i was think of this as some sort of polarity - i want the two species to maybe agree\n",
    "#  - that way propagation between species (transmutation) is as 'well behaved' as the bare propagators (so to speak)\n",
    "#  - specifically i mean if u > 0 or v > 0 for one species, must be the same for the other\n",
    "\n",
    "#todo - what do all the degenerate theories have in common (including/not including the non integer and negative dimensions)\n",
    "#i notice two of the theories are exactly the same below too e.g. 1 and 3 which is weird but this explains the negatives \n",
    "#  - maybe it is the same thing actually\n",
    "#from the measure, we know that we will have u,v = 1,2 (or negateive on the RHS).\n",
    "#  -  Therefore, we know that we need at least +u and v cancelling the 2 - this creates our baseline"
   ]
  },
  {
   "cell_type": "code",
   "execution_count": 19,
   "metadata": {},
   "outputs": [],
   "source": [
    "# from itertools import product\n",
    "\n",
    "# M = [0,1,2,3]\n",
    "# def multiradix_product(M):\n",
    "#     return product(*(range(x) for x in M))\n",
    "\n",
    "# list(multiradix_product(M))\n",
    "# #for a in multiradix_recursive(M):print(a)"
   ]
  },
  {
   "cell_type": "code",
   "execution_count": 20,
   "metadata": {},
   "outputs": [
    {
     "data": {
      "text/latex": [
       "$$\\left[\\begin{matrix}2 & 2 & 0 & 4 & -6\\\\4 & 0 & 2 & 2 & -6\\\\2 & 2 & 0 & 4 & -6\\\\4 & 0 & 2 & 2 & -6\\\\4 & 0 & 2 & 2 & -6\\\\2 & 2 & 2 & 2 & -6\\\\2 & 2 & 4 & 0 & -6\\\\2 & 2 & 4 & 0 & -6\\\\2 & 2 & 2 & 2 & -6\\\\2 & 2 & 4 & 0 & -6\\\\2 & 2 & 2 & 2 & -6\\\\4 & 0 & 2 & 2 & -6\\\\0 & 4 & 2 & 2 & -6\\\\0 & 4 & 2 & 2 & -6\\\\2 & 2 & 4 & 0 & -6\\\\2 & 2 & 4 & 0 & -6\\\\2 & 2 & 2 & 2 & -6\\\\2 & 2 & 4 & 0 & -6\\\\4 & 4 & 6 & 2 & -6\\\\4 & 0 & 2 & 2 & -6\\\\4 & 4 & 6 & 2 & -6\\\\0 & 4 & 2 & 2 & -6\\\\0 & 4 & 2 & 2 & -6\\end{matrix}\\right]$$"
      ],
      "text/plain": [
       "⎡2  2  0  4  -6⎤\n",
       "⎢              ⎥\n",
       "⎢4  0  2  2  -6⎥\n",
       "⎢              ⎥\n",
       "⎢2  2  0  4  -6⎥\n",
       "⎢              ⎥\n",
       "⎢4  0  2  2  -6⎥\n",
       "⎢              ⎥\n",
       "⎢4  0  2  2  -6⎥\n",
       "⎢              ⎥\n",
       "⎢2  2  2  2  -6⎥\n",
       "⎢              ⎥\n",
       "⎢2  2  4  0  -6⎥\n",
       "⎢              ⎥\n",
       "⎢2  2  4  0  -6⎥\n",
       "⎢              ⎥\n",
       "⎢2  2  2  2  -6⎥\n",
       "⎢              ⎥\n",
       "⎢2  2  4  0  -6⎥\n",
       "⎢              ⎥\n",
       "⎢2  2  2  2  -6⎥\n",
       "⎢              ⎥\n",
       "⎢4  0  2  2  -6⎥\n",
       "⎢              ⎥\n",
       "⎢0  4  2  2  -6⎥\n",
       "⎢              ⎥\n",
       "⎢0  4  2  2  -6⎥\n",
       "⎢              ⎥\n",
       "⎢2  2  4  0  -6⎥\n",
       "⎢              ⎥\n",
       "⎢2  2  4  0  -6⎥\n",
       "⎢              ⎥\n",
       "⎢2  2  2  2  -6⎥\n",
       "⎢              ⎥\n",
       "⎢2  2  4  0  -6⎥\n",
       "⎢              ⎥\n",
       "⎢4  4  6  2  -6⎥\n",
       "⎢              ⎥\n",
       "⎢4  0  2  2  -6⎥\n",
       "⎢              ⎥\n",
       "⎢4  4  6  2  -6⎥\n",
       "⎢              ⎥\n",
       "⎢0  4  2  2  -6⎥\n",
       "⎢              ⎥\n",
       "⎣0  4  2  2  -6⎦"
      ]
     },
     "execution_count": 20,
     "metadata": {},
     "output_type": "execute_result"
    }
   ],
   "source": [
    "#and we can evalaute the values at a certain d, last column is the inverse measure L^dT^1 with T=L^2 at d=d_c\n",
    "ftheory.matrices(cs).criterion(4)"
   ]
  },
  {
   "cell_type": "markdown",
   "metadata": {},
   "source": [
    "# Composing and displaying diagrams\n",
    "Work in progress. Lots of different ways to render things - starting with the basics, the ones that make development clearer."
   ]
  },
  {
   "cell_type": "code",
   "execution_count": 21,
   "metadata": {},
   "outputs": [
    {
     "data": {
      "text/html": [
       "<svg xmlns=\"http://www.w3.org/2000/svg\" xmlns:xlink=\"http://www.w3.org/1999/xlink\" version=\"1.1\" x=\"0\" y=\"0\" width=\"500\" height=\"120\">\n",
       "      <g fill=\"none\" stroke=\"black\" stroke-width=\"1.6\" stroke-linecap=\"round\"> <circle cx=\"70\" cy=\"50\" r=\"3\" stroke=\"black\" stroke-width=\"1\" fill=\"black\" /> <circle cx=\"20\" cy=\"50\" r=\"3\" stroke=\"black\" stroke-width=\"1\" fill=\"black\" /> <circle cx=\"52\" cy=\"41\" r=\"2\" stroke=\"green\" stroke-width=\"1\" fill='green' /> <circle cx=\"52\" cy=\"59\" r=\"2\" stroke=\"green\" stroke-width=\"1\" fill='green' /> <circle cx=\"88\" cy=\"50\" r=\"2\" stroke=\"green\" stroke-width=\"1\"  /> <circle cx=\"38\" cy=\"41\" r=\"2\" stroke=\"green\" stroke-width=\"1\"  /> <circle cx=\"38\" cy=\"59\" r=\"2\" stroke=\"green\" stroke-width=\"1\"  /> <circle cx=\"2\" cy=\"50\" r=\"2\" stroke=\"green\" stroke-width=\"1\" fill='green' /> <line x1=\"52\" y1=\"41\" x2=\"70\" y2=\"50\" stroke=\"green\" stroke-width:2\"  stroke-dasharray='2,2' /><line x1=\"52\" y1=\"41\" x2=\"38\" y2=\"41\" stroke=\"green\" stroke-width:2\"  stroke-dasharray='2,2' /><line x1=\"38\" y1=\"41\" x2=\"20\" y2=\"50\" stroke=\"green\" stroke-width:2\"  stroke-dasharray='2,2' /><line x1=\"52\" y1=\"59\" x2=\"70\" y2=\"50\" stroke=\"green\" stroke-width:2\"  stroke-dasharray='2,2' /><line x1=\"52\" y1=\"59\" x2=\"38\" y2=\"59\" stroke=\"green\" stroke-width:2\"  stroke-dasharray='2,2' /><line x1=\"38\" y1=\"59\" x2=\"20\" y2=\"50\" stroke=\"green\" stroke-width:2\"  stroke-dasharray='2,2' /><line x1=\"88\" y1=\"50\" x2=\"70\" y2=\"50\" stroke=\"green\" stroke-width:2\"   /><line x1=\"2\" y1=\"50\" x2=\"20\" y2=\"50\" stroke=\"green\" stroke-width:2\"   />  </g> </svg>"
      ],
      "text/plain": [
       "<svg xmlns=\"http://www.w3.org/2000/svg\" xmlns:xlink=\"http://www.w3.org/1999/xlink\" version=\"1.1\" x=\"0\" y=\"0\" width=\"500\" height=\"120\">\n",
       "      <g fill=\"none\" stroke=\"black\" stroke-width=\"1.6\" stroke-linecap=\"round\"> <circle cx=\"70\" cy=\"50\" r=\"3\" stroke=\"black\" stroke-width=\"1\" fill=\"black\" /> <circle cx=\"20\" cy=\"50\" r=\"3\" stroke=\"black\" stroke-width=\"1\" fill=\"black\" /> <circle cx=\"52\" cy=\"41\" r=\"2\" stroke=\"green\" stroke-width=\"1\" fill='green' /> <circle cx=\"52\" cy=\"59\" r=\"2\" stroke=\"green\" stroke-width=\"1\" fill='green' /> <circle cx=\"88\" cy=\"50\" r=\"2\" stroke=\"green\" stroke-width=\"1\"  /> <circle cx=\"38\" cy=\"41\" r=\"2\" stroke=\"green\" stroke-width=\"1\"  /> <circle cx=\"38\" cy=\"59\" r=\"2\" stroke=\"green\" stroke-width=\"1\"  /> <circle cx=\"2\" cy=\"50\" r=\"2\" stroke=\"green\" stroke-width=\"1\" fill='green' /> <line x1=\"52\" y1=\"41\" x2=\"70\" y2=\"50\" stroke=\"green\" stroke-width:2\"  stroke-dasharray='2,2' /><line x1=\"52\" y1=\"41\" x2=\"38\" y2=\"41\" stroke=\"green\" stroke-width:2\"  stroke-dasharray='2,2' /><line x1=\"38\" y1=\"41\" x2=\"20\" y2=\"50\" stroke=\"green\" stroke-width:2\"  stroke-dasharray='2,2' /><line x1=\"52\" y1=\"59\" x2=\"70\" y2=\"50\" stroke=\"green\" stroke-width:2\"  stroke-dasharray='2,2' /><line x1=\"52\" y1=\"59\" x2=\"38\" y2=\"59\" stroke=\"green\" stroke-width:2\"  stroke-dasharray='2,2' /><line x1=\"38\" y1=\"59\" x2=\"20\" y2=\"50\" stroke=\"green\" stroke-width:2\"  stroke-dasharray='2,2' /><line x1=\"88\" y1=\"50\" x2=\"70\" y2=\"50\" stroke=\"green\" stroke-width:2\"   /><line x1=\"2\" y1=\"50\" x2=\"20\" y2=\"50\" stroke=\"green\" stroke-width:2\"   />  </g> </svg>"
      ]
     },
     "execution_count": 21,
     "metadata": {},
     "output_type": "execute_result"
    }
   ],
   "source": [
    "G(branching)*G(coagulation)"
   ]
  },
  {
   "cell_type": "code",
   "execution_count": 22,
   "metadata": {},
   "outputs": [
    {
     "data": {
      "text/html": [
       "<svg xmlns=\"http://www.w3.org/2000/svg\" xmlns:xlink=\"http://www.w3.org/1999/xlink\" version=\"1.1\" x=\"0\" y=\"0\" width=\"500\" height=\"120\">\n",
       "      <g fill=\"none\" stroke=\"black\" stroke-width=\"1.6\" stroke-linecap=\"round\"> <circle cx=\"120\" cy=\"50\" r=\"3\" stroke=\"black\" stroke-width=\"1\" fill=\"black\" /> <circle cx=\"70\" cy=\"50\" r=\"3\" stroke=\"black\" stroke-width=\"1\" fill=\"black\" /> <circle cx=\"20\" cy=\"50\" r=\"3\" stroke=\"black\" stroke-width=\"1\" fill=\"black\" /> <circle cx=\"102\" cy=\"41\" r=\"2\" stroke=\"green\" stroke-width=\"1\" fill='green' /> <circle cx=\"102\" cy=\"59\" r=\"2\" stroke=\"green\" stroke-width=\"1\" fill='green' /> <circle cx=\"138\" cy=\"50\" r=\"2\" stroke=\"green\" stroke-width=\"1\"  /> <circle cx=\"88\" cy=\"50\" r=\"2\" stroke=\"green\" stroke-width=\"1\"  /> <circle cx=\"52\" cy=\"50\" r=\"2\" stroke=\"orange\" stroke-width=\"1\" fill='orange' /> <circle cx=\"38\" cy=\"32\" r=\"2\" stroke=\"green\" stroke-width=\"1\"  /> <circle cx=\"38\" cy=\"50\" r=\"2\" stroke=\"orange\" stroke-width=\"1\"  /> <circle cx=\"2\" cy=\"50\" r=\"2\" stroke=\"green\" stroke-width=\"1\" fill='green' /> <circle cx=\"38\" cy=\"68\" r=\"2\" stroke=\"orange\" stroke-width=\"1\"  /> <line x1=\"102\" y1=\"41\" x2=\"120\" y2=\"50\" stroke=\"green\" stroke-width:2\"  stroke-dasharray='2,2' /><line x1=\"102\" y1=\"41\" x2=\"88\" y2=\"50\" stroke=\"green\" stroke-width:2\"  stroke-dasharray='2,2' /><line x1=\"88\" y1=\"50\" x2=\"70\" y2=\"50\" stroke=\"green\" stroke-width:2\"  stroke-dasharray='2,2' /><line x1=\"102\" y1=\"59\" x2=\"120\" y2=\"50\" stroke=\"green\" stroke-width:2\"  stroke-dasharray='2,2' /><line x1=\"102\" y1=\"59\" x2=\"38\" y2=\"32\" stroke=\"green\" stroke-width:2\"  stroke-dasharray='2,2' /><line x1=\"38\" y1=\"32\" x2=\"20\" y2=\"50\" stroke=\"green\" stroke-width:2\"  stroke-dasharray='2,2' /><line x1=\"52\" y1=\"50\" x2=\"70\" y2=\"50\" stroke=\"orange\" stroke-width:2\"  stroke-dasharray='2,2' /><line x1=\"52\" y1=\"50\" x2=\"38\" y2=\"50\" stroke=\"orange\" stroke-width:2\"  stroke-dasharray='2,2' /><line x1=\"38\" y1=\"50\" x2=\"20\" y2=\"50\" stroke=\"orange\" stroke-width:2\"  stroke-dasharray='2,2' /><line x1=\"138\" y1=\"50\" x2=\"120\" y2=\"50\" stroke=\"green\" stroke-width:2\"   /><line x1=\"2\" y1=\"50\" x2=\"20\" y2=\"50\" stroke=\"green\" stroke-width:2\"   /><line x1=\"38\" y1=\"68\" x2=\"20\" y2=\"50\" stroke=\"orange\" stroke-width:2\"   />  </g> </svg>"
      ],
      "text/plain": [
       "<svg xmlns=\"http://www.w3.org/2000/svg\" xmlns:xlink=\"http://www.w3.org/1999/xlink\" version=\"1.1\" x=\"0\" y=\"0\" width=\"500\" height=\"120\">\n",
       "      <g fill=\"none\" stroke=\"black\" stroke-width=\"1.6\" stroke-linecap=\"round\"> <circle cx=\"120\" cy=\"50\" r=\"3\" stroke=\"black\" stroke-width=\"1\" fill=\"black\" /> <circle cx=\"70\" cy=\"50\" r=\"3\" stroke=\"black\" stroke-width=\"1\" fill=\"black\" /> <circle cx=\"20\" cy=\"50\" r=\"3\" stroke=\"black\" stroke-width=\"1\" fill=\"black\" /> <circle cx=\"102\" cy=\"41\" r=\"2\" stroke=\"green\" stroke-width=\"1\" fill='green' /> <circle cx=\"102\" cy=\"59\" r=\"2\" stroke=\"green\" stroke-width=\"1\" fill='green' /> <circle cx=\"138\" cy=\"50\" r=\"2\" stroke=\"green\" stroke-width=\"1\"  /> <circle cx=\"88\" cy=\"50\" r=\"2\" stroke=\"green\" stroke-width=\"1\"  /> <circle cx=\"52\" cy=\"50\" r=\"2\" stroke=\"orange\" stroke-width=\"1\" fill='orange' /> <circle cx=\"38\" cy=\"32\" r=\"2\" stroke=\"green\" stroke-width=\"1\"  /> <circle cx=\"38\" cy=\"50\" r=\"2\" stroke=\"orange\" stroke-width=\"1\"  /> <circle cx=\"2\" cy=\"50\" r=\"2\" stroke=\"green\" stroke-width=\"1\" fill='green' /> <circle cx=\"38\" cy=\"68\" r=\"2\" stroke=\"orange\" stroke-width=\"1\"  /> <line x1=\"102\" y1=\"41\" x2=\"120\" y2=\"50\" stroke=\"green\" stroke-width:2\"  stroke-dasharray='2,2' /><line x1=\"102\" y1=\"41\" x2=\"88\" y2=\"50\" stroke=\"green\" stroke-width:2\"  stroke-dasharray='2,2' /><line x1=\"88\" y1=\"50\" x2=\"70\" y2=\"50\" stroke=\"green\" stroke-width:2\"  stroke-dasharray='2,2' /><line x1=\"102\" y1=\"59\" x2=\"120\" y2=\"50\" stroke=\"green\" stroke-width:2\"  stroke-dasharray='2,2' /><line x1=\"102\" y1=\"59\" x2=\"38\" y2=\"32\" stroke=\"green\" stroke-width:2\"  stroke-dasharray='2,2' /><line x1=\"38\" y1=\"32\" x2=\"20\" y2=\"50\" stroke=\"green\" stroke-width:2\"  stroke-dasharray='2,2' /><line x1=\"52\" y1=\"50\" x2=\"70\" y2=\"50\" stroke=\"orange\" stroke-width:2\"  stroke-dasharray='2,2' /><line x1=\"52\" y1=\"50\" x2=\"38\" y2=\"50\" stroke=\"orange\" stroke-width:2\"  stroke-dasharray='2,2' /><line x1=\"38\" y1=\"50\" x2=\"20\" y2=\"50\" stroke=\"orange\" stroke-width:2\"  stroke-dasharray='2,2' /><line x1=\"138\" y1=\"50\" x2=\"120\" y2=\"50\" stroke=\"green\" stroke-width:2\"   /><line x1=\"2\" y1=\"50\" x2=\"20\" y2=\"50\" stroke=\"green\" stroke-width:2\"   /><line x1=\"38\" y1=\"68\" x2=\"20\" y2=\"50\" stroke=\"orange\" stroke-width:2\"   />  </g> </svg>"
      ]
     },
     "execution_count": 22,
     "metadata": {},
     "output_type": "execute_result"
    }
   ],
   "source": [
    "T = G(branching)*G(transmutation)*G(j)\n",
    "T"
   ]
  },
  {
   "cell_type": "code",
   "execution_count": 23,
   "metadata": {},
   "outputs": [
    {
     "data": {
      "text/plain": [
       "[{'edge': [0, 1], 'edge_species': 0},\n",
       " {'edge': [0, 2], 'edge_species': 0},\n",
       " {'edge': [2, 1], 'edge_species': 1}]"
      ]
     },
     "execution_count": 23,
     "metadata": {},
     "output_type": "execute_result"
    }
   ],
   "source": [
    "T.edges"
   ]
  },
  {
   "cell_type": "code",
   "execution_count": 52,
   "metadata": {},
   "outputs": [
    {
     "data": {
      "text/latex": [
       "$\\left[\\begin{smallmatrix}-1 & -1 & 0 & -1 & 0\\\\1 & 0 & 1 & 0 & 0\\\\0 & 1 & -1 & 0 & -1\\\\0 & 0 & 0 & 1 & 1\\end{smallmatrix}\\right]$"
      ],
      "text/plain": [
       "$\\left[\\begin{smallmatrix}-1 & -1 & 0 & -1 & 0\\\\1 & 0 & 1 & 0 & 0\\\\0 & 1 & -1 & 0 & -1\\\\0 & 0 & 0 & 1 & 1\\end{smallmatrix}\\right]$"
      ]
     },
     "execution_count": 52,
     "metadata": {},
     "output_type": "execute_result"
    }
   ],
   "source": [
    "#def vertex_residual_contribution(self):[t.sum() for t in self.tensor]\n",
    "T = G(branching)*G(transmutation)\n",
    "T =  G(branching)*G(transmutation)*G(j)\n",
    "FG = fgraph(T,True)#.betti_number()\n",
    "FG"
   ]
  },
  {
   "cell_type": "code",
   "execution_count": 53,
   "metadata": {},
   "outputs": [
    {
     "data": {
      "text/latex": [
       "$$\\left ( x_{1} x_{4} x_{5} + x_{2} x_{4} x_{5} + x_{3} x_{4} x_{5}, \\quad x_{1} x_{2} x_{4} x_{5} + x_{2} x_{3} x_{4} x_{5}\\right )$$"
      ],
      "text/plain": [
       "(x₁⋅x₄⋅x₅ + x₂⋅x₄⋅x₅ + x₃⋅x₄⋅x₅, x₁⋅x₂⋅x₄⋅x₅ + x₂⋅x₃⋅x₄⋅x₅)"
      ]
     },
     "execution_count": 53,
     "metadata": {},
     "output_type": "execute_result"
    }
   ],
   "source": [
    "FG.graph_polynomials()"
   ]
  },
  {
   "cell_type": "code",
   "execution_count": 26,
   "metadata": {},
   "outputs": [
    {
     "data": {
      "text/html": [
       "<svg xmlns=\"http://www.w3.org/2000/svg\" xmlns:xlink=\"http://www.w3.org/1999/xlink\" version=\"1.1\" x=\"0\" y=\"0\" width=\"500\" height=\"120\">\n",
       "      <g fill=\"none\" stroke=\"black\" stroke-width=\"1.6\" stroke-linecap=\"round\"> <circle cx=\"70\" cy=\"50\" r=\"3\" stroke=\"black\" stroke-width=\"1\" fill=\"black\" /> <circle cx=\"20\" cy=\"50\" r=\"3\" stroke=\"black\" stroke-width=\"1\" fill=\"black\" /> <circle cx=\"52\" cy=\"41\" r=\"2\" stroke=\"green\" stroke-width=\"1\" fill='green' /> <circle cx=\"52\" cy=\"59\" r=\"2\" stroke=\"green\" stroke-width=\"1\" fill='green' /> <circle cx=\"88\" cy=\"50\" r=\"2\" stroke=\"green\" stroke-width=\"1\"  /> <circle cx=\"38\" cy=\"50\" r=\"2\" stroke=\"green\" stroke-width=\"1\"  /> <circle cx=\"2\" cy=\"50\" r=\"2\" stroke=\"orange\" stroke-width=\"1\" fill='orange' /> <line x1=\"52\" y1=\"41\" x2=\"70\" y2=\"50\" stroke=\"green\" stroke-width:2\"  stroke-dasharray='2,2' /><line x1=\"52\" y1=\"41\" x2=\"38\" y2=\"50\" stroke=\"green\" stroke-width:2\"  stroke-dasharray='2,2' /><line x1=\"38\" y1=\"50\" x2=\"20\" y2=\"50\" stroke=\"green\" stroke-width:2\"  stroke-dasharray='2,2' /><line x1=\"52\" y1=\"59\" x2=\"70\" y2=\"50\" stroke=\"green\" stroke-width:2\"   /><line x1=\"88\" y1=\"50\" x2=\"70\" y2=\"50\" stroke=\"green\" stroke-width:2\"   /><line x1=\"2\" y1=\"50\" x2=\"20\" y2=\"50\" stroke=\"orange\" stroke-width:2\"   />  </g> </svg>"
      ],
      "text/plain": [
       "<svg xmlns=\"http://www.w3.org/2000/svg\" xmlns:xlink=\"http://www.w3.org/1999/xlink\" version=\"1.1\" x=\"0\" y=\"0\" width=\"500\" height=\"120\">\n",
       "      <g fill=\"none\" stroke=\"black\" stroke-width=\"1.6\" stroke-linecap=\"round\"> <circle cx=\"70\" cy=\"50\" r=\"3\" stroke=\"black\" stroke-width=\"1\" fill=\"black\" /> <circle cx=\"20\" cy=\"50\" r=\"3\" stroke=\"black\" stroke-width=\"1\" fill=\"black\" /> <circle cx=\"52\" cy=\"41\" r=\"2\" stroke=\"green\" stroke-width=\"1\" fill='green' /> <circle cx=\"52\" cy=\"59\" r=\"2\" stroke=\"green\" stroke-width=\"1\" fill='green' /> <circle cx=\"88\" cy=\"50\" r=\"2\" stroke=\"green\" stroke-width=\"1\"  /> <circle cx=\"38\" cy=\"50\" r=\"2\" stroke=\"green\" stroke-width=\"1\"  /> <circle cx=\"2\" cy=\"50\" r=\"2\" stroke=\"orange\" stroke-width=\"1\" fill='orange' /> <line x1=\"52\" y1=\"41\" x2=\"70\" y2=\"50\" stroke=\"green\" stroke-width:2\"  stroke-dasharray='2,2' /><line x1=\"52\" y1=\"41\" x2=\"38\" y2=\"50\" stroke=\"green\" stroke-width:2\"  stroke-dasharray='2,2' /><line x1=\"38\" y1=\"50\" x2=\"20\" y2=\"50\" stroke=\"green\" stroke-width:2\"  stroke-dasharray='2,2' /><line x1=\"52\" y1=\"59\" x2=\"70\" y2=\"50\" stroke=\"green\" stroke-width:2\"   /><line x1=\"88\" y1=\"50\" x2=\"70\" y2=\"50\" stroke=\"green\" stroke-width:2\"   /><line x1=\"2\" y1=\"50\" x2=\"20\" y2=\"50\" stroke=\"orange\" stroke-width:2\"   />  </g> </svg>"
      ]
     },
     "execution_count": 26,
     "metadata": {},
     "output_type": "execute_result"
    }
   ],
   "source": [
    "T0 = G(branching)*G(transmutation)\n",
    "T0"
   ]
  },
  {
   "cell_type": "code",
   "execution_count": 27,
   "metadata": {},
   "outputs": [
    {
     "data": {
      "text/html": [
       "<svg xmlns=\"http://www.w3.org/2000/svg\" xmlns:xlink=\"http://www.w3.org/1999/xlink\" version=\"1.1\" x=\"0\" y=\"0\" width=\"500\" height=\"210\">['<svg xmlns=\"http://www.w3.org/2000/svg\" xmlns:xlink=\"http://www.w3.org/1999/xlink\" version=\"1.1\" x=\"0\" y=\"0\" width=\"500\" height=\"120\">\\n      <g fill=\"none\" stroke=\"black\" stroke-width=\"1.6\" stroke-linecap=\"round\"> <circle cx=\"70\" cy=\"50\" r=\"3\" stroke=\"black\" stroke-width=\"1\" fill=\"black\" /> <circle cx=\"20\" cy=\"50\" r=\"3\" stroke=\"black\" stroke-width=\"1\" fill=\"black\" /> <circle cx=\"52\" cy=\"41\" r=\"2\" stroke=\"green\" stroke-width=\"1\" fill=\\'green\\' /> <circle cx=\"52\" cy=\"59\" r=\"2\" stroke=\"green\" stroke-width=\"1\" fill=\\'green\\' /> <circle cx=\"88\" cy=\"50\" r=\"2\" stroke=\"green\" stroke-width=\"1\"  /> <circle cx=\"38\" cy=\"50\" r=\"2\" stroke=\"green\" stroke-width=\"1\"  /> <circle cx=\"2\" cy=\"50\" r=\"2\" stroke=\"orange\" stroke-width=\"1\" fill=\\'orange\\' /> <line x1=\"52\" y1=\"41\" x2=\"70\" y2=\"50\" stroke=\"green\" stroke-width:2\"  stroke-dasharray=\\'2,2\\' /><line x1=\"52\" y1=\"41\" x2=\"38\" y2=\"50\" stroke=\"green\" stroke-width:2\"  stroke-dasharray=\\'2,2\\' /><line x1=\"38\" y1=\"50\" x2=\"20\" y2=\"50\" stroke=\"green\" stroke-width:2\"  stroke-dasharray=\\'2,2\\' /><line x1=\"52\" y1=\"59\" x2=\"70\" y2=\"50\" stroke=\"green\" stroke-width:2\"   /><line x1=\"88\" y1=\"50\" x2=\"70\" y2=\"50\" stroke=\"green\" stroke-width:2\"   /><line x1=\"2\" y1=\"50\" x2=\"20\" y2=\"50\" stroke=\"orange\" stroke-width:2\"   />  </g> </svg>', '<svg xmlns=\"http://www.w3.org/2000/svg\" xmlns:xlink=\"http://www.w3.org/1999/xlink\" version=\"1.1\" x=\"0\" y=\"50\" width=\"500\" height=\"120\">\\n      <g fill=\"none\" stroke=\"black\" stroke-width=\"1.6\" stroke-linecap=\"round\"> <circle cx=\"70\" cy=\"50\" r=\"3\" stroke=\"black\" stroke-width=\"1\" fill=\"black\" /> <circle cx=\"20\" cy=\"50\" r=\"3\" stroke=\"black\" stroke-width=\"1\" fill=\"black\" /> <circle cx=\"52\" cy=\"41\" r=\"2\" stroke=\"green\" stroke-width=\"1\" fill=\\'green\\' /> <circle cx=\"52\" cy=\"59\" r=\"2\" stroke=\"green\" stroke-width=\"1\" fill=\\'green\\' /> <circle cx=\"88\" cy=\"50\" r=\"2\" stroke=\"green\" stroke-width=\"1\"  /> <circle cx=\"38\" cy=\"41\" r=\"2\" stroke=\"green\" stroke-width=\"1\"  /> <circle cx=\"38\" cy=\"59\" r=\"2\" stroke=\"green\" stroke-width=\"1\"  /> <circle cx=\"2\" cy=\"50\" r=\"2\" stroke=\"green\" stroke-width=\"1\" fill=\\'green\\' /> <line x1=\"52\" y1=\"41\" x2=\"70\" y2=\"50\" stroke=\"green\" stroke-width:2\"  stroke-dasharray=\\'2,2\\' /><line x1=\"52\" y1=\"41\" x2=\"38\" y2=\"41\" stroke=\"green\" stroke-width:2\"  stroke-dasharray=\\'2,2\\' /><line x1=\"38\" y1=\"41\" x2=\"20\" y2=\"50\" stroke=\"green\" stroke-width:2\"  stroke-dasharray=\\'2,2\\' /><line x1=\"52\" y1=\"59\" x2=\"70\" y2=\"50\" stroke=\"green\" stroke-width:2\"  stroke-dasharray=\\'2,2\\' /><line x1=\"52\" y1=\"59\" x2=\"38\" y2=\"59\" stroke=\"green\" stroke-width:2\"  stroke-dasharray=\\'2,2\\' /><line x1=\"38\" y1=\"59\" x2=\"20\" y2=\"50\" stroke=\"green\" stroke-width:2\"  stroke-dasharray=\\'2,2\\' /><line x1=\"88\" y1=\"50\" x2=\"70\" y2=\"50\" stroke=\"green\" stroke-width:2\"   /><line x1=\"2\" y1=\"50\" x2=\"20\" y2=\"50\" stroke=\"green\" stroke-width:2\"   />  </g> </svg>', '<svg xmlns=\"http://www.w3.org/2000/svg\" xmlns:xlink=\"http://www.w3.org/1999/xlink\" version=\"1.1\" x=\"0\" y=\"100\" width=\"500\" height=\"120\">\\n      <g fill=\"none\" stroke=\"black\" stroke-width=\"1.6\" stroke-linecap=\"round\"> <circle cx=\"120\" cy=\"50\" r=\"3\" stroke=\"black\" stroke-width=\"1\" fill=\"black\" /> <circle cx=\"70\" cy=\"50\" r=\"3\" stroke=\"black\" stroke-width=\"1\" fill=\"black\" /> <circle cx=\"20\" cy=\"50\" r=\"3\" stroke=\"black\" stroke-width=\"1\" fill=\"black\" /> <circle cx=\"102\" cy=\"41\" r=\"2\" stroke=\"green\" stroke-width=\"1\" fill=\\'green\\' /> <circle cx=\"102\" cy=\"59\" r=\"2\" stroke=\"green\" stroke-width=\"1\" fill=\\'green\\' /> <circle cx=\"138\" cy=\"50\" r=\"2\" stroke=\"green\" stroke-width=\"1\"  /> <circle cx=\"88\" cy=\"50\" r=\"2\" stroke=\"green\" stroke-width=\"1\"  /> <circle cx=\"52\" cy=\"50\" r=\"2\" stroke=\"orange\" stroke-width=\"1\" fill=\\'orange\\' /> <circle cx=\"38\" cy=\"32\" r=\"2\" stroke=\"green\" stroke-width=\"1\"  /> <circle cx=\"38\" cy=\"50\" r=\"2\" stroke=\"orange\" stroke-width=\"1\"  /> <circle cx=\"2\" cy=\"50\" r=\"2\" stroke=\"green\" stroke-width=\"1\" fill=\\'green\\' /> <circle cx=\"38\" cy=\"68\" r=\"2\" stroke=\"orange\" stroke-width=\"1\"  /> <line x1=\"102\" y1=\"41\" x2=\"120\" y2=\"50\" stroke=\"green\" stroke-width:2\"  stroke-dasharray=\\'2,2\\' /><line x1=\"102\" y1=\"41\" x2=\"88\" y2=\"50\" stroke=\"green\" stroke-width:2\"  stroke-dasharray=\\'2,2\\' /><line x1=\"88\" y1=\"50\" x2=\"70\" y2=\"50\" stroke=\"green\" stroke-width:2\"  stroke-dasharray=\\'2,2\\' /><line x1=\"102\" y1=\"59\" x2=\"120\" y2=\"50\" stroke=\"green\" stroke-width:2\"  stroke-dasharray=\\'2,2\\' /><line x1=\"102\" y1=\"59\" x2=\"38\" y2=\"32\" stroke=\"green\" stroke-width:2\"  stroke-dasharray=\\'2,2\\' /><line x1=\"38\" y1=\"32\" x2=\"20\" y2=\"50\" stroke=\"green\" stroke-width:2\"  stroke-dasharray=\\'2,2\\' /><line x1=\"52\" y1=\"50\" x2=\"70\" y2=\"50\" stroke=\"orange\" stroke-width:2\"  stroke-dasharray=\\'2,2\\' /><line x1=\"52\" y1=\"50\" x2=\"38\" y2=\"50\" stroke=\"orange\" stroke-width:2\"  stroke-dasharray=\\'2,2\\' /><line x1=\"38\" y1=\"50\" x2=\"20\" y2=\"50\" stroke=\"orange\" stroke-width:2\"  stroke-dasharray=\\'2,2\\' /><line x1=\"138\" y1=\"50\" x2=\"120\" y2=\"50\" stroke=\"green\" stroke-width:2\"   /><line x1=\"2\" y1=\"50\" x2=\"20\" y2=\"50\" stroke=\"green\" stroke-width:2\"   /><line x1=\"38\" y1=\"68\" x2=\"20\" y2=\"50\" stroke=\"orange\" stroke-width:2\"   />  </g> </svg>']</svg>"
      ],
      "text/plain": [
       "<svg xmlns=\"http://www.w3.org/2000/svg\" xmlns:xlink=\"http://www.w3.org/1999/xlink\" version=\"1.1\" x=\"0\" y=\"0\" width=\"500\" height=\"210\">['<svg xmlns=\"http://www.w3.org/2000/svg\" xmlns:xlink=\"http://www.w3.org/1999/xlink\" version=\"1.1\" x=\"0\" y=\"0\" width=\"500\" height=\"120\">\\n      <g fill=\"none\" stroke=\"black\" stroke-width=\"1.6\" stroke-linecap=\"round\"> <circle cx=\"70\" cy=\"50\" r=\"3\" stroke=\"black\" stroke-width=\"1\" fill=\"black\" /> <circle cx=\"20\" cy=\"50\" r=\"3\" stroke=\"black\" stroke-width=\"1\" fill=\"black\" /> <circle cx=\"52\" cy=\"41\" r=\"2\" stroke=\"green\" stroke-width=\"1\" fill=\\'green\\' /> <circle cx=\"52\" cy=\"59\" r=\"2\" stroke=\"green\" stroke-width=\"1\" fill=\\'green\\' /> <circle cx=\"88\" cy=\"50\" r=\"2\" stroke=\"green\" stroke-width=\"1\"  /> <circle cx=\"38\" cy=\"50\" r=\"2\" stroke=\"green\" stroke-width=\"1\"  /> <circle cx=\"2\" cy=\"50\" r=\"2\" stroke=\"orange\" stroke-width=\"1\" fill=\\'orange\\' /> <line x1=\"52\" y1=\"41\" x2=\"70\" y2=\"50\" stroke=\"green\" stroke-width:2\"  stroke-dasharray=\\'2,2\\' /><line x1=\"52\" y1=\"41\" x2=\"38\" y2=\"50\" stroke=\"green\" stroke-width:2\"  stroke-dasharray=\\'2,2\\' /><line x1=\"38\" y1=\"50\" x2=\"20\" y2=\"50\" stroke=\"green\" stroke-width:2\"  stroke-dasharray=\\'2,2\\' /><line x1=\"52\" y1=\"59\" x2=\"70\" y2=\"50\" stroke=\"green\" stroke-width:2\"   /><line x1=\"88\" y1=\"50\" x2=\"70\" y2=\"50\" stroke=\"green\" stroke-width:2\"   /><line x1=\"2\" y1=\"50\" x2=\"20\" y2=\"50\" stroke=\"orange\" stroke-width:2\"   />  </g> </svg>', '<svg xmlns=\"http://www.w3.org/2000/svg\" xmlns:xlink=\"http://www.w3.org/1999/xlink\" version=\"1.1\" x=\"0\" y=\"50\" width=\"500\" height=\"120\">\\n      <g fill=\"none\" stroke=\"black\" stroke-width=\"1.6\" stroke-linecap=\"round\"> <circle cx=\"70\" cy=\"50\" r=\"3\" stroke=\"black\" stroke-width=\"1\" fill=\"black\" /> <circle cx=\"20\" cy=\"50\" r=\"3\" stroke=\"black\" stroke-width=\"1\" fill=\"black\" /> <circle cx=\"52\" cy=\"41\" r=\"2\" stroke=\"green\" stroke-width=\"1\" fill=\\'green\\' /> <circle cx=\"52\" cy=\"59\" r=\"2\" stroke=\"green\" stroke-width=\"1\" fill=\\'green\\' /> <circle cx=\"88\" cy=\"50\" r=\"2\" stroke=\"green\" stroke-width=\"1\"  /> <circle cx=\"38\" cy=\"41\" r=\"2\" stroke=\"green\" stroke-width=\"1\"  /> <circle cx=\"38\" cy=\"59\" r=\"2\" stroke=\"green\" stroke-width=\"1\"  /> <circle cx=\"2\" cy=\"50\" r=\"2\" stroke=\"green\" stroke-width=\"1\" fill=\\'green\\' /> <line x1=\"52\" y1=\"41\" x2=\"70\" y2=\"50\" stroke=\"green\" stroke-width:2\"  stroke-dasharray=\\'2,2\\' /><line x1=\"52\" y1=\"41\" x2=\"38\" y2=\"41\" stroke=\"green\" stroke-width:2\"  stroke-dasharray=\\'2,2\\' /><line x1=\"38\" y1=\"41\" x2=\"20\" y2=\"50\" stroke=\"green\" stroke-width:2\"  stroke-dasharray=\\'2,2\\' /><line x1=\"52\" y1=\"59\" x2=\"70\" y2=\"50\" stroke=\"green\" stroke-width:2\"  stroke-dasharray=\\'2,2\\' /><line x1=\"52\" y1=\"59\" x2=\"38\" y2=\"59\" stroke=\"green\" stroke-width:2\"  stroke-dasharray=\\'2,2\\' /><line x1=\"38\" y1=\"59\" x2=\"20\" y2=\"50\" stroke=\"green\" stroke-width:2\"  stroke-dasharray=\\'2,2\\' /><line x1=\"88\" y1=\"50\" x2=\"70\" y2=\"50\" stroke=\"green\" stroke-width:2\"   /><line x1=\"2\" y1=\"50\" x2=\"20\" y2=\"50\" stroke=\"green\" stroke-width:2\"   />  </g> </svg>', '<svg xmlns=\"http://www.w3.org/2000/svg\" xmlns:xlink=\"http://www.w3.org/1999/xlink\" version=\"1.1\" x=\"0\" y=\"100\" width=\"500\" height=\"120\">\\n      <g fill=\"none\" stroke=\"black\" stroke-width=\"1.6\" stroke-linecap=\"round\"> <circle cx=\"120\" cy=\"50\" r=\"3\" stroke=\"black\" stroke-width=\"1\" fill=\"black\" /> <circle cx=\"70\" cy=\"50\" r=\"3\" stroke=\"black\" stroke-width=\"1\" fill=\"black\" /> <circle cx=\"20\" cy=\"50\" r=\"3\" stroke=\"black\" stroke-width=\"1\" fill=\"black\" /> <circle cx=\"102\" cy=\"41\" r=\"2\" stroke=\"green\" stroke-width=\"1\" fill=\\'green\\' /> <circle cx=\"102\" cy=\"59\" r=\"2\" stroke=\"green\" stroke-width=\"1\" fill=\\'green\\' /> <circle cx=\"138\" cy=\"50\" r=\"2\" stroke=\"green\" stroke-width=\"1\"  /> <circle cx=\"88\" cy=\"50\" r=\"2\" stroke=\"green\" stroke-width=\"1\"  /> <circle cx=\"52\" cy=\"50\" r=\"2\" stroke=\"orange\" stroke-width=\"1\" fill=\\'orange\\' /> <circle cx=\"38\" cy=\"32\" r=\"2\" stroke=\"green\" stroke-width=\"1\"  /> <circle cx=\"38\" cy=\"50\" r=\"2\" stroke=\"orange\" stroke-width=\"1\"  /> <circle cx=\"2\" cy=\"50\" r=\"2\" stroke=\"green\" stroke-width=\"1\" fill=\\'green\\' /> <circle cx=\"38\" cy=\"68\" r=\"2\" stroke=\"orange\" stroke-width=\"1\"  /> <line x1=\"102\" y1=\"41\" x2=\"120\" y2=\"50\" stroke=\"green\" stroke-width:2\"  stroke-dasharray=\\'2,2\\' /><line x1=\"102\" y1=\"41\" x2=\"88\" y2=\"50\" stroke=\"green\" stroke-width:2\"  stroke-dasharray=\\'2,2\\' /><line x1=\"88\" y1=\"50\" x2=\"70\" y2=\"50\" stroke=\"green\" stroke-width:2\"  stroke-dasharray=\\'2,2\\' /><line x1=\"102\" y1=\"59\" x2=\"120\" y2=\"50\" stroke=\"green\" stroke-width:2\"  stroke-dasharray=\\'2,2\\' /><line x1=\"102\" y1=\"59\" x2=\"38\" y2=\"32\" stroke=\"green\" stroke-width:2\"  stroke-dasharray=\\'2,2\\' /><line x1=\"38\" y1=\"32\" x2=\"20\" y2=\"50\" stroke=\"green\" stroke-width:2\"  stroke-dasharray=\\'2,2\\' /><line x1=\"52\" y1=\"50\" x2=\"70\" y2=\"50\" stroke=\"orange\" stroke-width:2\"  stroke-dasharray=\\'2,2\\' /><line x1=\"52\" y1=\"50\" x2=\"38\" y2=\"50\" stroke=\"orange\" stroke-width:2\"  stroke-dasharray=\\'2,2\\' /><line x1=\"38\" y1=\"50\" x2=\"20\" y2=\"50\" stroke=\"orange\" stroke-width:2\"  stroke-dasharray=\\'2,2\\' /><line x1=\"138\" y1=\"50\" x2=\"120\" y2=\"50\" stroke=\"green\" stroke-width:2\"   /><line x1=\"2\" y1=\"50\" x2=\"20\" y2=\"50\" stroke=\"green\" stroke-width:2\"   /><line x1=\"38\" y1=\"68\" x2=\"20\" y2=\"50\" stroke=\"orange\" stroke-width:2\"   />  </g> </svg>']</svg>"
      ]
     },
     "execution_count": 27,
     "metadata": {},
     "output_type": "execute_result"
    }
   ],
   "source": [
    "collection = [G(branching)*G(transmutation),\n",
    "             G(branching)*G(coagulation),\n",
    "             G(branching)*G(transmutation)*G(j)]\n",
    "diagram_set(collection)"
   ]
  },
  {
   "cell_type": "code",
   "execution_count": 28,
   "metadata": {},
   "outputs": [
    {
     "data": {
      "text/html": [
       "<svg xmlns=\"http://www.w3.org/2000/svg\" xmlns:xlink=\"http://www.w3.org/1999/xlink\" version=\"1.1\" x=\"0\" y=\"0\" width=\"500\" height=\"160\">['<svg xmlns=\"http://www.w3.org/2000/svg\" xmlns:xlink=\"http://www.w3.org/1999/xlink\" version=\"1.1\" x=\"0\" y=\"0\" width=\"500\" height=\"120\">\\n      <g fill=\"none\" stroke=\"black\" stroke-width=\"1.6\" stroke-linecap=\"round\"> <circle cx=\"70\" cy=\"50\" r=\"3\" stroke=\"black\" stroke-width=\"1\" fill=\"black\" /> <circle cx=\"20\" cy=\"50\" r=\"3\" stroke=\"black\" stroke-width=\"1\" fill=\"black\" /> <circle cx=\"52\" cy=\"41\" r=\"2\" stroke=\"green\" stroke-width=\"1\" fill=\\'green\\' /> <circle cx=\"52\" cy=\"59\" r=\"2\" stroke=\"green\" stroke-width=\"1\" fill=\\'green\\' /> <circle cx=\"88\" cy=\"50\" r=\"2\" stroke=\"green\" stroke-width=\"1\"  /> <circle cx=\"38\" cy=\"41\" r=\"2\" stroke=\"green\" stroke-width=\"1\"  /> <circle cx=\"38\" cy=\"59\" r=\"2\" stroke=\"green\" stroke-width=\"1\"  /> <circle cx=\"2\" cy=\"50\" r=\"2\" stroke=\"green\" stroke-width=\"1\" fill=\\'green\\' /> <line x1=\"52\" y1=\"41\" x2=\"70\" y2=\"50\" stroke=\"green\" stroke-width:2\"  stroke-dasharray=\\'2,2\\' /><line x1=\"52\" y1=\"41\" x2=\"38\" y2=\"41\" stroke=\"green\" stroke-width:2\"  stroke-dasharray=\\'2,2\\' /><line x1=\"38\" y1=\"41\" x2=\"20\" y2=\"50\" stroke=\"green\" stroke-width:2\"  stroke-dasharray=\\'2,2\\' /><line x1=\"52\" y1=\"59\" x2=\"70\" y2=\"50\" stroke=\"green\" stroke-width:2\"  stroke-dasharray=\\'2,2\\' /><line x1=\"52\" y1=\"59\" x2=\"38\" y2=\"59\" stroke=\"green\" stroke-width:2\"  stroke-dasharray=\\'2,2\\' /><line x1=\"38\" y1=\"59\" x2=\"20\" y2=\"50\" stroke=\"green\" stroke-width:2\"  stroke-dasharray=\\'2,2\\' /><line x1=\"88\" y1=\"50\" x2=\"70\" y2=\"50\" stroke=\"green\" stroke-width:2\"   /><line x1=\"2\" y1=\"50\" x2=\"20\" y2=\"50\" stroke=\"green\" stroke-width:2\"   />  </g> </svg>', '<svg xmlns=\"http://www.w3.org/2000/svg\" xmlns:xlink=\"http://www.w3.org/1999/xlink\" version=\"1.1\" x=\"0\" y=\"50\" width=\"500\" height=\"120\">\\n      <g fill=\"none\" stroke=\"black\" stroke-width=\"1.6\" stroke-linecap=\"round\"> <circle cx=\"120\" cy=\"50\" r=\"3\" stroke=\"black\" stroke-width=\"1\" fill=\"black\" /> <circle cx=\"70\" cy=\"50\" r=\"3\" stroke=\"black\" stroke-width=\"1\" fill=\"black\" /> <circle cx=\"20\" cy=\"50\" r=\"3\" stroke=\"black\" stroke-width=\"1\" fill=\"black\" /> <circle cx=\"102\" cy=\"41\" r=\"2\" stroke=\"green\" stroke-width=\"1\" fill=\\'green\\' /> <circle cx=\"102\" cy=\"59\" r=\"2\" stroke=\"green\" stroke-width=\"1\" fill=\\'green\\' /> <circle cx=\"138\" cy=\"50\" r=\"2\" stroke=\"green\" stroke-width=\"1\"  /> <circle cx=\"88\" cy=\"50\" r=\"2\" stroke=\"green\" stroke-width=\"1\"  /> <circle cx=\"52\" cy=\"50\" r=\"2\" stroke=\"orange\" stroke-width=\"1\" fill=\\'orange\\' /> <circle cx=\"38\" cy=\"32\" r=\"2\" stroke=\"green\" stroke-width=\"1\"  /> <circle cx=\"38\" cy=\"50\" r=\"2\" stroke=\"orange\" stroke-width=\"1\"  /> <circle cx=\"2\" cy=\"50\" r=\"2\" stroke=\"green\" stroke-width=\"1\" fill=\\'green\\' /> <circle cx=\"38\" cy=\"68\" r=\"2\" stroke=\"orange\" stroke-width=\"1\"  /> <line x1=\"102\" y1=\"41\" x2=\"120\" y2=\"50\" stroke=\"green\" stroke-width:2\"  stroke-dasharray=\\'2,2\\' /><line x1=\"102\" y1=\"41\" x2=\"88\" y2=\"50\" stroke=\"green\" stroke-width:2\"  stroke-dasharray=\\'2,2\\' /><line x1=\"88\" y1=\"50\" x2=\"70\" y2=\"50\" stroke=\"green\" stroke-width:2\"  stroke-dasharray=\\'2,2\\' /><line x1=\"102\" y1=\"59\" x2=\"120\" y2=\"50\" stroke=\"green\" stroke-width:2\"  stroke-dasharray=\\'2,2\\' /><line x1=\"102\" y1=\"59\" x2=\"38\" y2=\"32\" stroke=\"green\" stroke-width:2\"  stroke-dasharray=\\'2,2\\' /><line x1=\"38\" y1=\"32\" x2=\"20\" y2=\"50\" stroke=\"green\" stroke-width:2\"  stroke-dasharray=\\'2,2\\' /><line x1=\"52\" y1=\"50\" x2=\"70\" y2=\"50\" stroke=\"orange\" stroke-width:2\"  stroke-dasharray=\\'2,2\\' /><line x1=\"52\" y1=\"50\" x2=\"38\" y2=\"50\" stroke=\"orange\" stroke-width:2\"  stroke-dasharray=\\'2,2\\' /><line x1=\"38\" y1=\"50\" x2=\"20\" y2=\"50\" stroke=\"orange\" stroke-width:2\"  stroke-dasharray=\\'2,2\\' /><line x1=\"138\" y1=\"50\" x2=\"120\" y2=\"50\" stroke=\"green\" stroke-width:2\"   /><line x1=\"2\" y1=\"50\" x2=\"20\" y2=\"50\" stroke=\"green\" stroke-width:2\"   /><line x1=\"38\" y1=\"68\" x2=\"20\" y2=\"50\" stroke=\"orange\" stroke-width:2\"   />  </g> </svg>']</svg>"
      ],
      "text/plain": [
       "<svg xmlns=\"http://www.w3.org/2000/svg\" xmlns:xlink=\"http://www.w3.org/1999/xlink\" version=\"1.1\" x=\"0\" y=\"0\" width=\"500\" height=\"160\">['<svg xmlns=\"http://www.w3.org/2000/svg\" xmlns:xlink=\"http://www.w3.org/1999/xlink\" version=\"1.1\" x=\"0\" y=\"0\" width=\"500\" height=\"120\">\\n      <g fill=\"none\" stroke=\"black\" stroke-width=\"1.6\" stroke-linecap=\"round\"> <circle cx=\"70\" cy=\"50\" r=\"3\" stroke=\"black\" stroke-width=\"1\" fill=\"black\" /> <circle cx=\"20\" cy=\"50\" r=\"3\" stroke=\"black\" stroke-width=\"1\" fill=\"black\" /> <circle cx=\"52\" cy=\"41\" r=\"2\" stroke=\"green\" stroke-width=\"1\" fill=\\'green\\' /> <circle cx=\"52\" cy=\"59\" r=\"2\" stroke=\"green\" stroke-width=\"1\" fill=\\'green\\' /> <circle cx=\"88\" cy=\"50\" r=\"2\" stroke=\"green\" stroke-width=\"1\"  /> <circle cx=\"38\" cy=\"41\" r=\"2\" stroke=\"green\" stroke-width=\"1\"  /> <circle cx=\"38\" cy=\"59\" r=\"2\" stroke=\"green\" stroke-width=\"1\"  /> <circle cx=\"2\" cy=\"50\" r=\"2\" stroke=\"green\" stroke-width=\"1\" fill=\\'green\\' /> <line x1=\"52\" y1=\"41\" x2=\"70\" y2=\"50\" stroke=\"green\" stroke-width:2\"  stroke-dasharray=\\'2,2\\' /><line x1=\"52\" y1=\"41\" x2=\"38\" y2=\"41\" stroke=\"green\" stroke-width:2\"  stroke-dasharray=\\'2,2\\' /><line x1=\"38\" y1=\"41\" x2=\"20\" y2=\"50\" stroke=\"green\" stroke-width:2\"  stroke-dasharray=\\'2,2\\' /><line x1=\"52\" y1=\"59\" x2=\"70\" y2=\"50\" stroke=\"green\" stroke-width:2\"  stroke-dasharray=\\'2,2\\' /><line x1=\"52\" y1=\"59\" x2=\"38\" y2=\"59\" stroke=\"green\" stroke-width:2\"  stroke-dasharray=\\'2,2\\' /><line x1=\"38\" y1=\"59\" x2=\"20\" y2=\"50\" stroke=\"green\" stroke-width:2\"  stroke-dasharray=\\'2,2\\' /><line x1=\"88\" y1=\"50\" x2=\"70\" y2=\"50\" stroke=\"green\" stroke-width:2\"   /><line x1=\"2\" y1=\"50\" x2=\"20\" y2=\"50\" stroke=\"green\" stroke-width:2\"   />  </g> </svg>', '<svg xmlns=\"http://www.w3.org/2000/svg\" xmlns:xlink=\"http://www.w3.org/1999/xlink\" version=\"1.1\" x=\"0\" y=\"50\" width=\"500\" height=\"120\">\\n      <g fill=\"none\" stroke=\"black\" stroke-width=\"1.6\" stroke-linecap=\"round\"> <circle cx=\"120\" cy=\"50\" r=\"3\" stroke=\"black\" stroke-width=\"1\" fill=\"black\" /> <circle cx=\"70\" cy=\"50\" r=\"3\" stroke=\"black\" stroke-width=\"1\" fill=\"black\" /> <circle cx=\"20\" cy=\"50\" r=\"3\" stroke=\"black\" stroke-width=\"1\" fill=\"black\" /> <circle cx=\"102\" cy=\"41\" r=\"2\" stroke=\"green\" stroke-width=\"1\" fill=\\'green\\' /> <circle cx=\"102\" cy=\"59\" r=\"2\" stroke=\"green\" stroke-width=\"1\" fill=\\'green\\' /> <circle cx=\"138\" cy=\"50\" r=\"2\" stroke=\"green\" stroke-width=\"1\"  /> <circle cx=\"88\" cy=\"50\" r=\"2\" stroke=\"green\" stroke-width=\"1\"  /> <circle cx=\"52\" cy=\"50\" r=\"2\" stroke=\"orange\" stroke-width=\"1\" fill=\\'orange\\' /> <circle cx=\"38\" cy=\"32\" r=\"2\" stroke=\"green\" stroke-width=\"1\"  /> <circle cx=\"38\" cy=\"50\" r=\"2\" stroke=\"orange\" stroke-width=\"1\"  /> <circle cx=\"2\" cy=\"50\" r=\"2\" stroke=\"green\" stroke-width=\"1\" fill=\\'green\\' /> <circle cx=\"38\" cy=\"68\" r=\"2\" stroke=\"orange\" stroke-width=\"1\"  /> <line x1=\"102\" y1=\"41\" x2=\"120\" y2=\"50\" stroke=\"green\" stroke-width:2\"  stroke-dasharray=\\'2,2\\' /><line x1=\"102\" y1=\"41\" x2=\"88\" y2=\"50\" stroke=\"green\" stroke-width:2\"  stroke-dasharray=\\'2,2\\' /><line x1=\"88\" y1=\"50\" x2=\"70\" y2=\"50\" stroke=\"green\" stroke-width:2\"  stroke-dasharray=\\'2,2\\' /><line x1=\"102\" y1=\"59\" x2=\"120\" y2=\"50\" stroke=\"green\" stroke-width:2\"  stroke-dasharray=\\'2,2\\' /><line x1=\"102\" y1=\"59\" x2=\"38\" y2=\"32\" stroke=\"green\" stroke-width:2\"  stroke-dasharray=\\'2,2\\' /><line x1=\"38\" y1=\"32\" x2=\"20\" y2=\"50\" stroke=\"green\" stroke-width:2\"  stroke-dasharray=\\'2,2\\' /><line x1=\"52\" y1=\"50\" x2=\"70\" y2=\"50\" stroke=\"orange\" stroke-width:2\"  stroke-dasharray=\\'2,2\\' /><line x1=\"52\" y1=\"50\" x2=\"38\" y2=\"50\" stroke=\"orange\" stroke-width:2\"  stroke-dasharray=\\'2,2\\' /><line x1=\"38\" y1=\"50\" x2=\"20\" y2=\"50\" stroke=\"orange\" stroke-width:2\"  stroke-dasharray=\\'2,2\\' /><line x1=\"138\" y1=\"50\" x2=\"120\" y2=\"50\" stroke=\"green\" stroke-width:2\"   /><line x1=\"2\" y1=\"50\" x2=\"20\" y2=\"50\" stroke=\"green\" stroke-width:2\"   /><line x1=\"38\" y1=\"68\" x2=\"20\" y2=\"50\" stroke=\"orange\" stroke-width:2\"   />  </g> </svg>']</svg>"
      ]
     },
     "execution_count": 28,
     "metadata": {},
     "output_type": "execute_result"
    }
   ],
   "source": [
    "collection = [G(branching)*G(transmutation),\n",
    "             G(branching)*G(coagulation),\n",
    "             G(branching)*G(transmutation)*G(j)]\n",
    "collection = [c for c in collection if fgraph(c).is_1PI]\n",
    "diagram_set(collection)"
   ]
  },
  {
   "cell_type": "code",
   "execution_count": 29,
   "metadata": {},
   "outputs": [
    {
     "data": {
      "text/html": [
       "<svg xmlns=\"http://www.w3.org/2000/svg\" xmlns:xlink=\"http://www.w3.org/1999/xlink\" version=\"1.1\" x=\"0\" y=\"0\" width=\"240\" height=\"120\">\n",
       "      <g fill=\"none\" stroke=\"black\" stroke-width=\"1.6\" stroke-linecap=\"round\">\n",
       "         <line x1=\"0\" y1=\"0\" x2=\"40\" y2=\"0\" stroke=\"red\" stroke-dasharray=\"None\" stroke-width:2\" transform=\" translate(80,50) rotate(-30.0 0, 0 )\" />  <path d=\"M 0,0 C 2,-3.142 3,-5 5,-5 S 8,-3.142 10,0 S 13,5 15,5 S 18,3.142 20,0 C 22,-3.142 23,-5 25,-5 S 28,-3.142 30,0 S 33,5 35,5 S 38,3.142 40,0\" \n",
       "                       stroke=\"black\" stroke-dasharray=\"None\" stroke-width:2\" transform=\" translate(80,50) rotate(30.0 0, 0 )\" />  <line x1=\"0\" y1=\"0\" x2=\"40\" y2=\"0\" stroke=\"red\" stroke-dasharray=\"None\" stroke-width:2\" transform=\" translate(80,50) rotate(-180.0 0, 0 )\" /> \n",
       "      </g>\n",
       "      <circle cx=\"80\" cy=\"50\" r=\"2\" stroke=\"black\" stroke-width=\"1\" fill=\"black\" />\n",
       "    </svg>"
      ],
      "text/plain": [
       "<svg xmlns=\"http://www.w3.org/2000/svg\" xmlns:xlink=\"http://www.w3.org/1999/xlink\" version=\"1.1\" x=\"0\" y=\"0\" width=\"240\" height=\"120\">\n",
       "      <g fill=\"none\" stroke=\"black\" stroke-width=\"1.6\" stroke-linecap=\"round\">\n",
       "         <line x1=\"0\" y1=\"0\" x2=\"40\" y2=\"0\" stroke=\"red\" stroke-dasharray=\"None\" stroke-width:2\" transform=\" translate(80,50) rotate(-30.0 0, 0 )\" />  <path d=\"M 0,0 C 2,-3.142 3,-5 5,-5 S 8,-3.142 10,0 S 13,5 15,5 S 18,3.142 20,0 C 22,-3.142 23,-5 25,-5 S 28,-3.142 30,0 S 33,5 35,5 S 38,3.142 40,0\" \n",
       "                       stroke=\"black\" stroke-dasharray=\"None\" stroke-width:2\" transform=\" translate(80,50) rotate(30.0 0, 0 )\" />  <line x1=\"0\" y1=\"0\" x2=\"40\" y2=\"0\" stroke=\"red\" stroke-dasharray=\"None\" stroke-width:2\" transform=\" translate(80,50) rotate(-180.0 0, 0 )\" /> \n",
       "      </g>\n",
       "      <circle cx=\"80\" cy=\"50\" r=\"2\" stroke=\"black\" stroke-width=\"1\" fill=\"black\" />\n",
       "    </svg>"
      ]
     },
     "execution_count": 29,
     "metadata": {},
     "output_type": "execute_result"
    }
   ],
   "source": [
    "collection[-1].residual_interaction.diagram"
   ]
  },
  {
   "cell_type": "markdown",
   "metadata": {},
   "source": [
    "## Permutations"
   ]
  },
  {
   "cell_type": "code",
   "execution_count": 30,
   "metadata": {},
   "outputs": [],
   "source": [
    "#interactions[2:]"
   ]
  },
  {
   "cell_type": "code",
   "execution_count": 31,
   "metadata": {},
   "outputs": [
    {
     "data": {
      "text/latex": [
       "$$276$$"
      ],
      "text/plain": [
       "276"
      ]
     },
     "execution_count": 31,
     "metadata": {},
     "output_type": "execute_result"
    }
   ],
   "source": [
    "import itertools,functools\n",
    "\n",
    "def _combine(set_of_interactions):\n",
    "        def _merge(a,b): \n",
    "            if a is None:return b\n",
    "            if b is None:return a\n",
    "            return a * b\n",
    "        return functools.reduce(_merge, set_of_interactions, None)\n",
    "    \n",
    "def graph_permutations(primitives, loop_orders = [0,1], max_k=3):\n",
    "    if not isinstance(loop_orders, list):loop_orders = [loop_orders]\n",
    "    l = [] \n",
    "    \n",
    "    for i in range(2,max_k+1):\n",
    "        for tup in list(itertools.permutations(primitives,i)):\n",
    "            res = _combine(list(tup))\n",
    "            if res.loops in loop_orders:\n",
    "                l.append(res)\n",
    "    #todo : define uniqueness and validity\n",
    "    return list(set(l))\n",
    "\n",
    "#simple sample system\n",
    "res = graph_permutations([G(branching), G(transmutation),G(coagulation),G(j)])\n",
    "#our vicious walker system\n",
    "res = graph_permutations([G(j) for j in interactions[2:]])\n",
    "\n",
    "len(res)"
   ]
  },
  {
   "cell_type": "code",
   "execution_count": 32,
   "metadata": {},
   "outputs": [
    {
     "data": {
      "text/html": [
       "<svg xmlns=\"http://www.w3.org/2000/svg\" xmlns:xlink=\"http://www.w3.org/1999/xlink\" version=\"1.1\" x=\"0\" y=\"0\" width=\"500\" height=\"510\">['<svg xmlns=\"http://www.w3.org/2000/svg\" xmlns:xlink=\"http://www.w3.org/1999/xlink\" version=\"1.1\" x=\"0\" y=\"0\" width=\"500\" height=\"120\">\\n      <g fill=\"none\" stroke=\"black\" stroke-width=\"1.6\" stroke-linecap=\"round\"> <circle cx=\"20\" cy=\"50\" r=\"3\" stroke=\"black\" stroke-width=\"1\" fill=\"black\" /> <circle cx=\"38\" cy=\"50\" r=\"2\" stroke=\"green\" stroke-width=\"1\"  /> <circle cx=\"2\" cy=\"50\" r=\"2\" stroke=\"orange\" stroke-width=\"1\" fill=\\'orange\\' /> <line x1=\"38\" y1=\"50\" x2=\"20\" y2=\"50\" stroke=\"green\" stroke-width:2\"   /><line x1=\"2\" y1=\"50\" x2=\"20\" y2=\"50\" stroke=\"orange\" stroke-width:2\"   />  </g> </svg>', '<svg xmlns=\"http://www.w3.org/2000/svg\" xmlns:xlink=\"http://www.w3.org/1999/xlink\" version=\"1.1\" x=\"0\" y=\"50\" width=\"500\" height=\"120\">\\n      <g fill=\"none\" stroke=\"black\" stroke-width=\"1.6\" stroke-linecap=\"round\"> <circle cx=\"20\" cy=\"50\" r=\"3\" stroke=\"black\" stroke-width=\"1\" fill=\"black\" /> <circle cx=\"2\" cy=\"41\" r=\"2\" stroke=\"green\" stroke-width=\"1\" fill=\\'green\\' /> <circle cx=\"2\" cy=\"59\" r=\"2\" stroke=\"green\" stroke-width=\"1\" fill=\\'green\\' /> <circle cx=\"38\" cy=\"50\" r=\"2\" stroke=\"green\" stroke-width=\"1\"  /> <line x1=\"2\" y1=\"41\" x2=\"20\" y2=\"50\" stroke=\"green\" stroke-width:2\"   /><line x1=\"2\" y1=\"59\" x2=\"20\" y2=\"50\" stroke=\"green\" stroke-width:2\"   /><line x1=\"38\" y1=\"50\" x2=\"20\" y2=\"50\" stroke=\"green\" stroke-width:2\"   />  </g> </svg>', '<svg xmlns=\"http://www.w3.org/2000/svg\" xmlns:xlink=\"http://www.w3.org/1999/xlink\" version=\"1.1\" x=\"0\" y=\"100\" width=\"500\" height=\"120\">\\n      <g fill=\"none\" stroke=\"black\" stroke-width=\"1.6\" stroke-linecap=\"round\"> <circle cx=\"20\" cy=\"50\" r=\"3\" stroke=\"black\" stroke-width=\"1\" fill=\"black\" /> <circle cx=\"2\" cy=\"41\" r=\"2\" stroke=\"green\" stroke-width=\"1\" fill=\\'green\\' /> <circle cx=\"38\" cy=\"50\" r=\"2\" stroke=\"green\" stroke-width=\"1\"  /> <circle cx=\"2\" cy=\"59\" r=\"2\" stroke=\"orange\" stroke-width=\"1\" fill=\\'orange\\' /> <line x1=\"2\" y1=\"41\" x2=\"20\" y2=\"50\" stroke=\"green\" stroke-width:2\"   /><line x1=\"38\" y1=\"50\" x2=\"20\" y2=\"50\" stroke=\"green\" stroke-width:2\"   /><line x1=\"2\" y1=\"59\" x2=\"20\" y2=\"50\" stroke=\"orange\" stroke-width:2\"   />  </g> </svg>', '<svg xmlns=\"http://www.w3.org/2000/svg\" xmlns:xlink=\"http://www.w3.org/1999/xlink\" version=\"1.1\" x=\"0\" y=\"150\" width=\"500\" height=\"120\">\\n      <g fill=\"none\" stroke=\"black\" stroke-width=\"1.6\" stroke-linecap=\"round\"> <circle cx=\"20\" cy=\"50\" r=\"3\" stroke=\"black\" stroke-width=\"1\" fill=\"black\" /> <circle cx=\"2\" cy=\"41\" r=\"2\" stroke=\"green\" stroke-width=\"1\" fill=\\'green\\' /> <circle cx=\"38\" cy=\"41\" r=\"2\" stroke=\"green\" stroke-width=\"1\"  /> <circle cx=\"2\" cy=\"59\" r=\"2\" stroke=\"orange\" stroke-width=\"1\" fill=\\'orange\\' /> <circle cx=\"38\" cy=\"59\" r=\"2\" stroke=\"orange\" stroke-width=\"1\"  /> <line x1=\"2\" y1=\"41\" x2=\"20\" y2=\"50\" stroke=\"green\" stroke-width:2\"   /><line x1=\"38\" y1=\"41\" x2=\"20\" y2=\"50\" stroke=\"green\" stroke-width:2\"   /><line x1=\"2\" y1=\"59\" x2=\"20\" y2=\"50\" stroke=\"orange\" stroke-width:2\"   /><line x1=\"38\" y1=\"59\" x2=\"20\" y2=\"50\" stroke=\"orange\" stroke-width:2\"   />  </g> </svg>', '<svg xmlns=\"http://www.w3.org/2000/svg\" xmlns:xlink=\"http://www.w3.org/1999/xlink\" version=\"1.1\" x=\"0\" y=\"200\" width=\"500\" height=\"120\">\\n      <g fill=\"none\" stroke=\"black\" stroke-width=\"1.6\" stroke-linecap=\"round\"> <circle cx=\"20\" cy=\"50\" r=\"3\" stroke=\"black\" stroke-width=\"1\" fill=\"black\" /> <circle cx=\"38\" cy=\"41\" r=\"2\" stroke=\"green\" stroke-width=\"1\"  /> <circle cx=\"2\" cy=\"50\" r=\"2\" stroke=\"orange\" stroke-width=\"1\" fill=\\'orange\\' /> <circle cx=\"38\" cy=\"59\" r=\"2\" stroke=\"orange\" stroke-width=\"1\"  /> <line x1=\"38\" y1=\"41\" x2=\"20\" y2=\"50\" stroke=\"green\" stroke-width:2\"   /><line x1=\"2\" y1=\"50\" x2=\"20\" y2=\"50\" stroke=\"orange\" stroke-width:2\"   /><line x1=\"38\" y1=\"59\" x2=\"20\" y2=\"50\" stroke=\"orange\" stroke-width:2\"   />  </g> </svg>', '<svg xmlns=\"http://www.w3.org/2000/svg\" xmlns:xlink=\"http://www.w3.org/1999/xlink\" version=\"1.1\" x=\"0\" y=\"250\" width=\"500\" height=\"120\">\\n      <g fill=\"none\" stroke=\"black\" stroke-width=\"1.6\" stroke-linecap=\"round\"> <circle cx=\"20\" cy=\"50\" r=\"3\" stroke=\"black\" stroke-width=\"1\" fill=\"black\" /> <circle cx=\"2\" cy=\"32\" r=\"2\" stroke=\"green\" stroke-width=\"1\" fill=\\'green\\' /> <circle cx=\"2\" cy=\"50\" r=\"2\" stroke=\"orange\" stroke-width=\"1\" fill=\\'orange\\' /> <circle cx=\"2\" cy=\"68\" r=\"2\" stroke=\"orange\" stroke-width=\"1\" fill=\\'orange\\' /> <circle cx=\"38\" cy=\"50\" r=\"2\" stroke=\"orange\" stroke-width=\"1\"  /> <line x1=\"2\" y1=\"32\" x2=\"20\" y2=\"50\" stroke=\"green\" stroke-width:2\"   /><line x1=\"2\" y1=\"50\" x2=\"20\" y2=\"50\" stroke=\"orange\" stroke-width:2\"   /><line x1=\"2\" y1=\"68\" x2=\"20\" y2=\"50\" stroke=\"orange\" stroke-width:2\"   /><line x1=\"38\" y1=\"50\" x2=\"20\" y2=\"50\" stroke=\"orange\" stroke-width:2\"   />  </g> </svg>', '<svg xmlns=\"http://www.w3.org/2000/svg\" xmlns:xlink=\"http://www.w3.org/1999/xlink\" version=\"1.1\" x=\"0\" y=\"300\" width=\"500\" height=\"120\">\\n      <g fill=\"none\" stroke=\"black\" stroke-width=\"1.6\" stroke-linecap=\"round\"> <circle cx=\"20\" cy=\"50\" r=\"3\" stroke=\"black\" stroke-width=\"1\" fill=\"black\" /> <circle cx=\"38\" cy=\"41\" r=\"2\" stroke=\"green\" stroke-width=\"1\"  /> <circle cx=\"2\" cy=\"41\" r=\"2\" stroke=\"orange\" stroke-width=\"1\" fill=\\'orange\\' /> <circle cx=\"2\" cy=\"59\" r=\"2\" stroke=\"orange\" stroke-width=\"1\" fill=\\'orange\\' /> <circle cx=\"38\" cy=\"59\" r=\"2\" stroke=\"orange\" stroke-width=\"1\"  /> <line x1=\"38\" y1=\"41\" x2=\"20\" y2=\"50\" stroke=\"green\" stroke-width:2\"   /><line x1=\"2\" y1=\"41\" x2=\"20\" y2=\"50\" stroke=\"orange\" stroke-width:2\"   /><line x1=\"2\" y1=\"59\" x2=\"20\" y2=\"50\" stroke=\"orange\" stroke-width:2\"   /><line x1=\"38\" y1=\"59\" x2=\"20\" y2=\"50\" stroke=\"orange\" stroke-width:2\"   />  </g> </svg>', '<svg xmlns=\"http://www.w3.org/2000/svg\" xmlns:xlink=\"http://www.w3.org/1999/xlink\" version=\"1.1\" x=\"0\" y=\"350\" width=\"500\" height=\"120\">\\n      <g fill=\"none\" stroke=\"black\" stroke-width=\"1.6\" stroke-linecap=\"round\"> <circle cx=\"20\" cy=\"50\" r=\"3\" stroke=\"black\" stroke-width=\"1\" fill=\"black\" /> <circle cx=\"2\" cy=\"50\" r=\"2\" stroke=\"green\" stroke-width=\"1\" fill=\\'green\\' /> <circle cx=\"38\" cy=\"41\" r=\"2\" stroke=\"green\" stroke-width=\"1\"  /> <circle cx=\"38\" cy=\"59\" r=\"2\" stroke=\"orange\" stroke-width=\"1\"  /> <line x1=\"2\" y1=\"50\" x2=\"20\" y2=\"50\" stroke=\"green\" stroke-width:2\"   /><line x1=\"38\" y1=\"41\" x2=\"20\" y2=\"50\" stroke=\"green\" stroke-width:2\"   /><line x1=\"38\" y1=\"59\" x2=\"20\" y2=\"50\" stroke=\"orange\" stroke-width:2\"   />  </g> </svg>', '<svg xmlns=\"http://www.w3.org/2000/svg\" xmlns:xlink=\"http://www.w3.org/1999/xlink\" version=\"1.1\" x=\"0\" y=\"400\" width=\"500\" height=\"120\">\\n      <g fill=\"none\" stroke=\"black\" stroke-width=\"1.6\" stroke-linecap=\"round\"> <circle cx=\"20\" cy=\"50\" r=\"3\" stroke=\"black\" stroke-width=\"1\" fill=\"black\" /> <circle cx=\"2\" cy=\"41\" r=\"2\" stroke=\"green\" stroke-width=\"1\" fill=\\'green\\' /> <circle cx=\"38\" cy=\"41\" r=\"2\" stroke=\"green\" stroke-width=\"1\"  /> <circle cx=\"38\" cy=\"59\" r=\"2\" stroke=\"green\" stroke-width=\"1\"  /> <circle cx=\"2\" cy=\"59\" r=\"2\" stroke=\"orange\" stroke-width=\"1\" fill=\\'orange\\' /> <line x1=\"2\" y1=\"41\" x2=\"20\" y2=\"50\" stroke=\"green\" stroke-width:2\"   /><line x1=\"38\" y1=\"41\" x2=\"20\" y2=\"50\" stroke=\"green\" stroke-width:2\"   /><line x1=\"38\" y1=\"59\" x2=\"20\" y2=\"50\" stroke=\"green\" stroke-width:2\"   /><line x1=\"2\" y1=\"59\" x2=\"20\" y2=\"50\" stroke=\"orange\" stroke-width:2\"   />  </g> </svg>']</svg>"
      ],
      "text/plain": [
       "<svg xmlns=\"http://www.w3.org/2000/svg\" xmlns:xlink=\"http://www.w3.org/1999/xlink\" version=\"1.1\" x=\"0\" y=\"0\" width=\"500\" height=\"510\">['<svg xmlns=\"http://www.w3.org/2000/svg\" xmlns:xlink=\"http://www.w3.org/1999/xlink\" version=\"1.1\" x=\"0\" y=\"0\" width=\"500\" height=\"120\">\\n      <g fill=\"none\" stroke=\"black\" stroke-width=\"1.6\" stroke-linecap=\"round\"> <circle cx=\"20\" cy=\"50\" r=\"3\" stroke=\"black\" stroke-width=\"1\" fill=\"black\" /> <circle cx=\"38\" cy=\"50\" r=\"2\" stroke=\"green\" stroke-width=\"1\"  /> <circle cx=\"2\" cy=\"50\" r=\"2\" stroke=\"orange\" stroke-width=\"1\" fill=\\'orange\\' /> <line x1=\"38\" y1=\"50\" x2=\"20\" y2=\"50\" stroke=\"green\" stroke-width:2\"   /><line x1=\"2\" y1=\"50\" x2=\"20\" y2=\"50\" stroke=\"orange\" stroke-width:2\"   />  </g> </svg>', '<svg xmlns=\"http://www.w3.org/2000/svg\" xmlns:xlink=\"http://www.w3.org/1999/xlink\" version=\"1.1\" x=\"0\" y=\"50\" width=\"500\" height=\"120\">\\n      <g fill=\"none\" stroke=\"black\" stroke-width=\"1.6\" stroke-linecap=\"round\"> <circle cx=\"20\" cy=\"50\" r=\"3\" stroke=\"black\" stroke-width=\"1\" fill=\"black\" /> <circle cx=\"2\" cy=\"41\" r=\"2\" stroke=\"green\" stroke-width=\"1\" fill=\\'green\\' /> <circle cx=\"2\" cy=\"59\" r=\"2\" stroke=\"green\" stroke-width=\"1\" fill=\\'green\\' /> <circle cx=\"38\" cy=\"50\" r=\"2\" stroke=\"green\" stroke-width=\"1\"  /> <line x1=\"2\" y1=\"41\" x2=\"20\" y2=\"50\" stroke=\"green\" stroke-width:2\"   /><line x1=\"2\" y1=\"59\" x2=\"20\" y2=\"50\" stroke=\"green\" stroke-width:2\"   /><line x1=\"38\" y1=\"50\" x2=\"20\" y2=\"50\" stroke=\"green\" stroke-width:2\"   />  </g> </svg>', '<svg xmlns=\"http://www.w3.org/2000/svg\" xmlns:xlink=\"http://www.w3.org/1999/xlink\" version=\"1.1\" x=\"0\" y=\"100\" width=\"500\" height=\"120\">\\n      <g fill=\"none\" stroke=\"black\" stroke-width=\"1.6\" stroke-linecap=\"round\"> <circle cx=\"20\" cy=\"50\" r=\"3\" stroke=\"black\" stroke-width=\"1\" fill=\"black\" /> <circle cx=\"2\" cy=\"41\" r=\"2\" stroke=\"green\" stroke-width=\"1\" fill=\\'green\\' /> <circle cx=\"38\" cy=\"50\" r=\"2\" stroke=\"green\" stroke-width=\"1\"  /> <circle cx=\"2\" cy=\"59\" r=\"2\" stroke=\"orange\" stroke-width=\"1\" fill=\\'orange\\' /> <line x1=\"2\" y1=\"41\" x2=\"20\" y2=\"50\" stroke=\"green\" stroke-width:2\"   /><line x1=\"38\" y1=\"50\" x2=\"20\" y2=\"50\" stroke=\"green\" stroke-width:2\"   /><line x1=\"2\" y1=\"59\" x2=\"20\" y2=\"50\" stroke=\"orange\" stroke-width:2\"   />  </g> </svg>', '<svg xmlns=\"http://www.w3.org/2000/svg\" xmlns:xlink=\"http://www.w3.org/1999/xlink\" version=\"1.1\" x=\"0\" y=\"150\" width=\"500\" height=\"120\">\\n      <g fill=\"none\" stroke=\"black\" stroke-width=\"1.6\" stroke-linecap=\"round\"> <circle cx=\"20\" cy=\"50\" r=\"3\" stroke=\"black\" stroke-width=\"1\" fill=\"black\" /> <circle cx=\"2\" cy=\"41\" r=\"2\" stroke=\"green\" stroke-width=\"1\" fill=\\'green\\' /> <circle cx=\"38\" cy=\"41\" r=\"2\" stroke=\"green\" stroke-width=\"1\"  /> <circle cx=\"2\" cy=\"59\" r=\"2\" stroke=\"orange\" stroke-width=\"1\" fill=\\'orange\\' /> <circle cx=\"38\" cy=\"59\" r=\"2\" stroke=\"orange\" stroke-width=\"1\"  /> <line x1=\"2\" y1=\"41\" x2=\"20\" y2=\"50\" stroke=\"green\" stroke-width:2\"   /><line x1=\"38\" y1=\"41\" x2=\"20\" y2=\"50\" stroke=\"green\" stroke-width:2\"   /><line x1=\"2\" y1=\"59\" x2=\"20\" y2=\"50\" stroke=\"orange\" stroke-width:2\"   /><line x1=\"38\" y1=\"59\" x2=\"20\" y2=\"50\" stroke=\"orange\" stroke-width:2\"   />  </g> </svg>', '<svg xmlns=\"http://www.w3.org/2000/svg\" xmlns:xlink=\"http://www.w3.org/1999/xlink\" version=\"1.1\" x=\"0\" y=\"200\" width=\"500\" height=\"120\">\\n      <g fill=\"none\" stroke=\"black\" stroke-width=\"1.6\" stroke-linecap=\"round\"> <circle cx=\"20\" cy=\"50\" r=\"3\" stroke=\"black\" stroke-width=\"1\" fill=\"black\" /> <circle cx=\"38\" cy=\"41\" r=\"2\" stroke=\"green\" stroke-width=\"1\"  /> <circle cx=\"2\" cy=\"50\" r=\"2\" stroke=\"orange\" stroke-width=\"1\" fill=\\'orange\\' /> <circle cx=\"38\" cy=\"59\" r=\"2\" stroke=\"orange\" stroke-width=\"1\"  /> <line x1=\"38\" y1=\"41\" x2=\"20\" y2=\"50\" stroke=\"green\" stroke-width:2\"   /><line x1=\"2\" y1=\"50\" x2=\"20\" y2=\"50\" stroke=\"orange\" stroke-width:2\"   /><line x1=\"38\" y1=\"59\" x2=\"20\" y2=\"50\" stroke=\"orange\" stroke-width:2\"   />  </g> </svg>', '<svg xmlns=\"http://www.w3.org/2000/svg\" xmlns:xlink=\"http://www.w3.org/1999/xlink\" version=\"1.1\" x=\"0\" y=\"250\" width=\"500\" height=\"120\">\\n      <g fill=\"none\" stroke=\"black\" stroke-width=\"1.6\" stroke-linecap=\"round\"> <circle cx=\"20\" cy=\"50\" r=\"3\" stroke=\"black\" stroke-width=\"1\" fill=\"black\" /> <circle cx=\"2\" cy=\"32\" r=\"2\" stroke=\"green\" stroke-width=\"1\" fill=\\'green\\' /> <circle cx=\"2\" cy=\"50\" r=\"2\" stroke=\"orange\" stroke-width=\"1\" fill=\\'orange\\' /> <circle cx=\"2\" cy=\"68\" r=\"2\" stroke=\"orange\" stroke-width=\"1\" fill=\\'orange\\' /> <circle cx=\"38\" cy=\"50\" r=\"2\" stroke=\"orange\" stroke-width=\"1\"  /> <line x1=\"2\" y1=\"32\" x2=\"20\" y2=\"50\" stroke=\"green\" stroke-width:2\"   /><line x1=\"2\" y1=\"50\" x2=\"20\" y2=\"50\" stroke=\"orange\" stroke-width:2\"   /><line x1=\"2\" y1=\"68\" x2=\"20\" y2=\"50\" stroke=\"orange\" stroke-width:2\"   /><line x1=\"38\" y1=\"50\" x2=\"20\" y2=\"50\" stroke=\"orange\" stroke-width:2\"   />  </g> </svg>', '<svg xmlns=\"http://www.w3.org/2000/svg\" xmlns:xlink=\"http://www.w3.org/1999/xlink\" version=\"1.1\" x=\"0\" y=\"300\" width=\"500\" height=\"120\">\\n      <g fill=\"none\" stroke=\"black\" stroke-width=\"1.6\" stroke-linecap=\"round\"> <circle cx=\"20\" cy=\"50\" r=\"3\" stroke=\"black\" stroke-width=\"1\" fill=\"black\" /> <circle cx=\"38\" cy=\"41\" r=\"2\" stroke=\"green\" stroke-width=\"1\"  /> <circle cx=\"2\" cy=\"41\" r=\"2\" stroke=\"orange\" stroke-width=\"1\" fill=\\'orange\\' /> <circle cx=\"2\" cy=\"59\" r=\"2\" stroke=\"orange\" stroke-width=\"1\" fill=\\'orange\\' /> <circle cx=\"38\" cy=\"59\" r=\"2\" stroke=\"orange\" stroke-width=\"1\"  /> <line x1=\"38\" y1=\"41\" x2=\"20\" y2=\"50\" stroke=\"green\" stroke-width:2\"   /><line x1=\"2\" y1=\"41\" x2=\"20\" y2=\"50\" stroke=\"orange\" stroke-width:2\"   /><line x1=\"2\" y1=\"59\" x2=\"20\" y2=\"50\" stroke=\"orange\" stroke-width:2\"   /><line x1=\"38\" y1=\"59\" x2=\"20\" y2=\"50\" stroke=\"orange\" stroke-width:2\"   />  </g> </svg>', '<svg xmlns=\"http://www.w3.org/2000/svg\" xmlns:xlink=\"http://www.w3.org/1999/xlink\" version=\"1.1\" x=\"0\" y=\"350\" width=\"500\" height=\"120\">\\n      <g fill=\"none\" stroke=\"black\" stroke-width=\"1.6\" stroke-linecap=\"round\"> <circle cx=\"20\" cy=\"50\" r=\"3\" stroke=\"black\" stroke-width=\"1\" fill=\"black\" /> <circle cx=\"2\" cy=\"50\" r=\"2\" stroke=\"green\" stroke-width=\"1\" fill=\\'green\\' /> <circle cx=\"38\" cy=\"41\" r=\"2\" stroke=\"green\" stroke-width=\"1\"  /> <circle cx=\"38\" cy=\"59\" r=\"2\" stroke=\"orange\" stroke-width=\"1\"  /> <line x1=\"2\" y1=\"50\" x2=\"20\" y2=\"50\" stroke=\"green\" stroke-width:2\"   /><line x1=\"38\" y1=\"41\" x2=\"20\" y2=\"50\" stroke=\"green\" stroke-width:2\"   /><line x1=\"38\" y1=\"59\" x2=\"20\" y2=\"50\" stroke=\"orange\" stroke-width:2\"   />  </g> </svg>', '<svg xmlns=\"http://www.w3.org/2000/svg\" xmlns:xlink=\"http://www.w3.org/1999/xlink\" version=\"1.1\" x=\"0\" y=\"400\" width=\"500\" height=\"120\">\\n      <g fill=\"none\" stroke=\"black\" stroke-width=\"1.6\" stroke-linecap=\"round\"> <circle cx=\"20\" cy=\"50\" r=\"3\" stroke=\"black\" stroke-width=\"1\" fill=\"black\" /> <circle cx=\"2\" cy=\"41\" r=\"2\" stroke=\"green\" stroke-width=\"1\" fill=\\'green\\' /> <circle cx=\"38\" cy=\"41\" r=\"2\" stroke=\"green\" stroke-width=\"1\"  /> <circle cx=\"38\" cy=\"59\" r=\"2\" stroke=\"green\" stroke-width=\"1\"  /> <circle cx=\"2\" cy=\"59\" r=\"2\" stroke=\"orange\" stroke-width=\"1\" fill=\\'orange\\' /> <line x1=\"2\" y1=\"41\" x2=\"20\" y2=\"50\" stroke=\"green\" stroke-width:2\"   /><line x1=\"38\" y1=\"41\" x2=\"20\" y2=\"50\" stroke=\"green\" stroke-width:2\"   /><line x1=\"38\" y1=\"59\" x2=\"20\" y2=\"50\" stroke=\"green\" stroke-width:2\"   /><line x1=\"2\" y1=\"59\" x2=\"20\" y2=\"50\" stroke=\"orange\" stroke-width:2\"   />  </g> </svg>']</svg>"
      ]
     },
     "execution_count": 32,
     "metadata": {},
     "output_type": "execute_result"
    }
   ],
   "source": [
    "diagram_set([G(j) for j in interactions[2:]])"
   ]
  },
  {
   "cell_type": "code",
   "execution_count": 33,
   "metadata": {},
   "outputs": [
    {
     "name": "stdout",
     "output_type": "stream",
     "text": [
      "basis init length 9\n"
     ]
    },
    {
     "data": {
      "text/latex": [
       "$$12$$"
      ],
      "text/plain": [
       "12"
      ]
     },
     "execution_count": 33,
     "metadata": {},
     "output_type": "execute_result"
    }
   ],
   "source": [
    "#iteratively find all tree-level new residuals\n",
    "#this is a bit messy at the moment, I am still deciding how to organise this stuff\n",
    "l = 0\n",
    "res_dict = {}\n",
    "basis = [G(j) for j in interactions[2:]]\n",
    "for b in basis:\n",
    "    res_dict[b.residual_interaction] = True\n",
    "print(\"basis init length\", len(basis))\n",
    "temp = graph_permutations(basis, loop_orders=[0], max_k=2)\n",
    "#this would be a recursive step\n",
    "for b in temp:\n",
    "    resid = b.residual_interaction\n",
    "    if resid.tensor.sum() <= 3:\n",
    "        res_dict[resid] = True\n",
    "basis = [G(j) for j in res_dict.keys()]\n",
    "len(basis)"
   ]
  },
  {
   "cell_type": "code",
   "execution_count": 34,
   "metadata": {},
   "outputs": [
    {
     "data": {
      "text/latex": [
       "$$12$$"
      ],
      "text/plain": [
       "12"
      ]
     },
     "execution_count": 34,
     "metadata": {},
     "output_type": "execute_result"
    }
   ],
   "source": [
    "temp = graph_permutations(basis, loop_orders=[0], max_k=2)\n",
    "#this would be a recursive step\n",
    "for b in temp:\n",
    "    resid = b.residual_interaction\n",
    "    if resid.tensor.sum() <= 3:\n",
    "        res_dict[resid] = True\n",
    "basis = [G(j) for j in res_dict.keys()]\n",
    "len(basis)"
   ]
  },
  {
   "cell_type": "code",
   "execution_count": 35,
   "metadata": {},
   "outputs": [
    {
     "data": {
      "text/html": [
       "<svg xmlns=\"http://www.w3.org/2000/svg\" xmlns:xlink=\"http://www.w3.org/1999/xlink\" version=\"1.1\" x=\"0\" y=\"0\" width=\"500\" height=\"660\">['<svg xmlns=\"http://www.w3.org/2000/svg\" xmlns:xlink=\"http://www.w3.org/1999/xlink\" version=\"1.1\" x=\"0\" y=\"0\" width=\"500\" height=\"120\">\\n      <g fill=\"none\" stroke=\"black\" stroke-width=\"1.6\" stroke-linecap=\"round\"> <circle cx=\"20\" cy=\"50\" r=\"3\" stroke=\"black\" stroke-width=\"1\" fill=\"black\" /> <circle cx=\"38\" cy=\"50\" r=\"2\" stroke=\"green\" stroke-width=\"1\"  /> <circle cx=\"2\" cy=\"50\" r=\"2\" stroke=\"orange\" stroke-width=\"1\" fill=\\'orange\\' /> <line x1=\"38\" y1=\"50\" x2=\"20\" y2=\"50\" stroke=\"green\" stroke-width:2\"   /><line x1=\"2\" y1=\"50\" x2=\"20\" y2=\"50\" stroke=\"orange\" stroke-width:2\"   />  </g> </svg>', '<svg xmlns=\"http://www.w3.org/2000/svg\" xmlns:xlink=\"http://www.w3.org/1999/xlink\" version=\"1.1\" x=\"0\" y=\"50\" width=\"500\" height=\"120\">\\n      <g fill=\"none\" stroke=\"black\" stroke-width=\"1.6\" stroke-linecap=\"round\"> <circle cx=\"20\" cy=\"50\" r=\"3\" stroke=\"black\" stroke-width=\"1\" fill=\"black\" /> <circle cx=\"2\" cy=\"41\" r=\"2\" stroke=\"green\" stroke-width=\"1\" fill=\\'green\\' /> <circle cx=\"2\" cy=\"59\" r=\"2\" stroke=\"green\" stroke-width=\"1\" fill=\\'green\\' /> <circle cx=\"38\" cy=\"50\" r=\"2\" stroke=\"green\" stroke-width=\"1\"  /> <line x1=\"2\" y1=\"41\" x2=\"20\" y2=\"50\" stroke=\"green\" stroke-width:2\"   /><line x1=\"2\" y1=\"59\" x2=\"20\" y2=\"50\" stroke=\"green\" stroke-width:2\"   /><line x1=\"38\" y1=\"50\" x2=\"20\" y2=\"50\" stroke=\"green\" stroke-width:2\"   />  </g> </svg>', '<svg xmlns=\"http://www.w3.org/2000/svg\" xmlns:xlink=\"http://www.w3.org/1999/xlink\" version=\"1.1\" x=\"0\" y=\"100\" width=\"500\" height=\"120\">\\n      <g fill=\"none\" stroke=\"black\" stroke-width=\"1.6\" stroke-linecap=\"round\"> <circle cx=\"20\" cy=\"50\" r=\"3\" stroke=\"black\" stroke-width=\"1\" fill=\"black\" /> <circle cx=\"2\" cy=\"41\" r=\"2\" stroke=\"green\" stroke-width=\"1\" fill=\\'green\\' /> <circle cx=\"38\" cy=\"50\" r=\"2\" stroke=\"green\" stroke-width=\"1\"  /> <circle cx=\"2\" cy=\"59\" r=\"2\" stroke=\"orange\" stroke-width=\"1\" fill=\\'orange\\' /> <line x1=\"2\" y1=\"41\" x2=\"20\" y2=\"50\" stroke=\"green\" stroke-width:2\"   /><line x1=\"38\" y1=\"50\" x2=\"20\" y2=\"50\" stroke=\"green\" stroke-width:2\"   /><line x1=\"2\" y1=\"59\" x2=\"20\" y2=\"50\" stroke=\"orange\" stroke-width:2\"   />  </g> </svg>', '<svg xmlns=\"http://www.w3.org/2000/svg\" xmlns:xlink=\"http://www.w3.org/1999/xlink\" version=\"1.1\" x=\"0\" y=\"150\" width=\"500\" height=\"120\">\\n      <g fill=\"none\" stroke=\"black\" stroke-width=\"1.6\" stroke-linecap=\"round\"> <circle cx=\"20\" cy=\"50\" r=\"3\" stroke=\"black\" stroke-width=\"1\" fill=\"black\" /> <circle cx=\"2\" cy=\"41\" r=\"2\" stroke=\"green\" stroke-width=\"1\" fill=\\'green\\' /> <circle cx=\"38\" cy=\"41\" r=\"2\" stroke=\"green\" stroke-width=\"1\"  /> <circle cx=\"2\" cy=\"59\" r=\"2\" stroke=\"orange\" stroke-width=\"1\" fill=\\'orange\\' /> <circle cx=\"38\" cy=\"59\" r=\"2\" stroke=\"orange\" stroke-width=\"1\"  /> <line x1=\"2\" y1=\"41\" x2=\"20\" y2=\"50\" stroke=\"green\" stroke-width:2\"   /><line x1=\"38\" y1=\"41\" x2=\"20\" y2=\"50\" stroke=\"green\" stroke-width:2\"   /><line x1=\"2\" y1=\"59\" x2=\"20\" y2=\"50\" stroke=\"orange\" stroke-width:2\"   /><line x1=\"38\" y1=\"59\" x2=\"20\" y2=\"50\" stroke=\"orange\" stroke-width:2\"   />  </g> </svg>', '<svg xmlns=\"http://www.w3.org/2000/svg\" xmlns:xlink=\"http://www.w3.org/1999/xlink\" version=\"1.1\" x=\"0\" y=\"200\" width=\"500\" height=\"120\">\\n      <g fill=\"none\" stroke=\"black\" stroke-width=\"1.6\" stroke-linecap=\"round\"> <circle cx=\"20\" cy=\"50\" r=\"3\" stroke=\"black\" stroke-width=\"1\" fill=\"black\" /> <circle cx=\"38\" cy=\"41\" r=\"2\" stroke=\"green\" stroke-width=\"1\"  /> <circle cx=\"2\" cy=\"50\" r=\"2\" stroke=\"orange\" stroke-width=\"1\" fill=\\'orange\\' /> <circle cx=\"38\" cy=\"59\" r=\"2\" stroke=\"orange\" stroke-width=\"1\"  /> <line x1=\"38\" y1=\"41\" x2=\"20\" y2=\"50\" stroke=\"green\" stroke-width:2\"   /><line x1=\"2\" y1=\"50\" x2=\"20\" y2=\"50\" stroke=\"orange\" stroke-width:2\"   /><line x1=\"38\" y1=\"59\" x2=\"20\" y2=\"50\" stroke=\"orange\" stroke-width:2\"   />  </g> </svg>', '<svg xmlns=\"http://www.w3.org/2000/svg\" xmlns:xlink=\"http://www.w3.org/1999/xlink\" version=\"1.1\" x=\"0\" y=\"250\" width=\"500\" height=\"120\">\\n      <g fill=\"none\" stroke=\"black\" stroke-width=\"1.6\" stroke-linecap=\"round\"> <circle cx=\"20\" cy=\"50\" r=\"3\" stroke=\"black\" stroke-width=\"1\" fill=\"black\" /> <circle cx=\"2\" cy=\"32\" r=\"2\" stroke=\"green\" stroke-width=\"1\" fill=\\'green\\' /> <circle cx=\"2\" cy=\"50\" r=\"2\" stroke=\"orange\" stroke-width=\"1\" fill=\\'orange\\' /> <circle cx=\"2\" cy=\"68\" r=\"2\" stroke=\"orange\" stroke-width=\"1\" fill=\\'orange\\' /> <circle cx=\"38\" cy=\"50\" r=\"2\" stroke=\"orange\" stroke-width=\"1\"  /> <line x1=\"2\" y1=\"32\" x2=\"20\" y2=\"50\" stroke=\"green\" stroke-width:2\"   /><line x1=\"2\" y1=\"50\" x2=\"20\" y2=\"50\" stroke=\"orange\" stroke-width:2\"   /><line x1=\"2\" y1=\"68\" x2=\"20\" y2=\"50\" stroke=\"orange\" stroke-width:2\"   /><line x1=\"38\" y1=\"50\" x2=\"20\" y2=\"50\" stroke=\"orange\" stroke-width:2\"   />  </g> </svg>', '<svg xmlns=\"http://www.w3.org/2000/svg\" xmlns:xlink=\"http://www.w3.org/1999/xlink\" version=\"1.1\" x=\"0\" y=\"300\" width=\"500\" height=\"120\">\\n      <g fill=\"none\" stroke=\"black\" stroke-width=\"1.6\" stroke-linecap=\"round\"> <circle cx=\"20\" cy=\"50\" r=\"3\" stroke=\"black\" stroke-width=\"1\" fill=\"black\" /> <circle cx=\"38\" cy=\"41\" r=\"2\" stroke=\"green\" stroke-width=\"1\"  /> <circle cx=\"2\" cy=\"41\" r=\"2\" stroke=\"orange\" stroke-width=\"1\" fill=\\'orange\\' /> <circle cx=\"2\" cy=\"59\" r=\"2\" stroke=\"orange\" stroke-width=\"1\" fill=\\'orange\\' /> <circle cx=\"38\" cy=\"59\" r=\"2\" stroke=\"orange\" stroke-width=\"1\"  /> <line x1=\"38\" y1=\"41\" x2=\"20\" y2=\"50\" stroke=\"green\" stroke-width:2\"   /><line x1=\"2\" y1=\"41\" x2=\"20\" y2=\"50\" stroke=\"orange\" stroke-width:2\"   /><line x1=\"2\" y1=\"59\" x2=\"20\" y2=\"50\" stroke=\"orange\" stroke-width:2\"   /><line x1=\"38\" y1=\"59\" x2=\"20\" y2=\"50\" stroke=\"orange\" stroke-width:2\"   />  </g> </svg>', '<svg xmlns=\"http://www.w3.org/2000/svg\" xmlns:xlink=\"http://www.w3.org/1999/xlink\" version=\"1.1\" x=\"0\" y=\"350\" width=\"500\" height=\"120\">\\n      <g fill=\"none\" stroke=\"black\" stroke-width=\"1.6\" stroke-linecap=\"round\"> <circle cx=\"20\" cy=\"50\" r=\"3\" stroke=\"black\" stroke-width=\"1\" fill=\"black\" /> <circle cx=\"2\" cy=\"50\" r=\"2\" stroke=\"green\" stroke-width=\"1\" fill=\\'green\\' /> <circle cx=\"38\" cy=\"41\" r=\"2\" stroke=\"green\" stroke-width=\"1\"  /> <circle cx=\"38\" cy=\"59\" r=\"2\" stroke=\"orange\" stroke-width=\"1\"  /> <line x1=\"2\" y1=\"50\" x2=\"20\" y2=\"50\" stroke=\"green\" stroke-width:2\"   /><line x1=\"38\" y1=\"41\" x2=\"20\" y2=\"50\" stroke=\"green\" stroke-width:2\"   /><line x1=\"38\" y1=\"59\" x2=\"20\" y2=\"50\" stroke=\"orange\" stroke-width:2\"   />  </g> </svg>', '<svg xmlns=\"http://www.w3.org/2000/svg\" xmlns:xlink=\"http://www.w3.org/1999/xlink\" version=\"1.1\" x=\"0\" y=\"400\" width=\"500\" height=\"120\">\\n      <g fill=\"none\" stroke=\"black\" stroke-width=\"1.6\" stroke-linecap=\"round\"> <circle cx=\"20\" cy=\"50\" r=\"3\" stroke=\"black\" stroke-width=\"1\" fill=\"black\" /> <circle cx=\"2\" cy=\"41\" r=\"2\" stroke=\"green\" stroke-width=\"1\" fill=\\'green\\' /> <circle cx=\"38\" cy=\"41\" r=\"2\" stroke=\"green\" stroke-width=\"1\"  /> <circle cx=\"38\" cy=\"59\" r=\"2\" stroke=\"green\" stroke-width=\"1\"  /> <circle cx=\"2\" cy=\"59\" r=\"2\" stroke=\"orange\" stroke-width=\"1\" fill=\\'orange\\' /> <line x1=\"2\" y1=\"41\" x2=\"20\" y2=\"50\" stroke=\"green\" stroke-width:2\"   /><line x1=\"38\" y1=\"41\" x2=\"20\" y2=\"50\" stroke=\"green\" stroke-width:2\"   /><line x1=\"38\" y1=\"59\" x2=\"20\" y2=\"50\" stroke=\"green\" stroke-width:2\"   /><line x1=\"2\" y1=\"59\" x2=\"20\" y2=\"50\" stroke=\"orange\" stroke-width:2\"   />  </g> </svg>', '<svg xmlns=\"http://www.w3.org/2000/svg\" xmlns:xlink=\"http://www.w3.org/1999/xlink\" version=\"1.1\" x=\"0\" y=\"450\" width=\"500\" height=\"120\">\\n      <g fill=\"none\" stroke=\"black\" stroke-width=\"1.6\" stroke-linecap=\"round\"> <circle cx=\"20\" cy=\"50\" r=\"3\" stroke=\"black\" stroke-width=\"1\" fill=\"black\" /> <circle cx=\"38\" cy=\"50\" r=\"2\" stroke=\"green\" stroke-width=\"1\"  /> <circle cx=\"2\" cy=\"41\" r=\"2\" stroke=\"orange\" stroke-width=\"1\" fill=\\'orange\\' /> <circle cx=\"2\" cy=\"59\" r=\"2\" stroke=\"orange\" stroke-width=\"1\" fill=\\'orange\\' /> <line x1=\"38\" y1=\"50\" x2=\"20\" y2=\"50\" stroke=\"green\" stroke-width:2\"   /><line x1=\"2\" y1=\"41\" x2=\"20\" y2=\"50\" stroke=\"orange\" stroke-width:2\"   /><line x1=\"2\" y1=\"59\" x2=\"20\" y2=\"50\" stroke=\"orange\" stroke-width:2\"   />  </g> </svg>', '<svg xmlns=\"http://www.w3.org/2000/svg\" xmlns:xlink=\"http://www.w3.org/1999/xlink\" version=\"1.1\" x=\"0\" y=\"500\" width=\"500\" height=\"120\">\\n      <g fill=\"none\" stroke=\"black\" stroke-width=\"1.6\" stroke-linecap=\"round\"> <circle cx=\"20\" cy=\"50\" r=\"3\" stroke=\"black\" stroke-width=\"1\" fill=\"black\" /> <circle cx=\"38\" cy=\"41\" r=\"2\" stroke=\"green\" stroke-width=\"1\"  /> <circle cx=\"38\" cy=\"59\" r=\"2\" stroke=\"green\" stroke-width=\"1\"  /> <circle cx=\"2\" cy=\"50\" r=\"2\" stroke=\"orange\" stroke-width=\"1\" fill=\\'orange\\' /> <line x1=\"38\" y1=\"41\" x2=\"20\" y2=\"50\" stroke=\"green\" stroke-width:2\"   /><line x1=\"38\" y1=\"59\" x2=\"20\" y2=\"50\" stroke=\"green\" stroke-width:2\"   /><line x1=\"2\" y1=\"50\" x2=\"20\" y2=\"50\" stroke=\"orange\" stroke-width:2\"   />  </g> </svg>', '<svg xmlns=\"http://www.w3.org/2000/svg\" xmlns:xlink=\"http://www.w3.org/1999/xlink\" version=\"1.1\" x=\"0\" y=\"550\" width=\"500\" height=\"120\">\\n      <g fill=\"none\" stroke=\"black\" stroke-width=\"1.6\" stroke-linecap=\"round\"> <circle cx=\"20\" cy=\"50\" r=\"3\" stroke=\"black\" stroke-width=\"1\" fill=\"black\" /> <circle cx=\"2\" cy=\"50\" r=\"2\" stroke=\"green\" stroke-width=\"1\" fill=\\'green\\' /> <circle cx=\"38\" cy=\"41\" r=\"2\" stroke=\"green\" stroke-width=\"1\"  /> <circle cx=\"38\" cy=\"59\" r=\"2\" stroke=\"green\" stroke-width=\"1\"  /> <line x1=\"2\" y1=\"50\" x2=\"20\" y2=\"50\" stroke=\"green\" stroke-width:2\"   /><line x1=\"38\" y1=\"41\" x2=\"20\" y2=\"50\" stroke=\"green\" stroke-width:2\"   /><line x1=\"38\" y1=\"59\" x2=\"20\" y2=\"50\" stroke=\"green\" stroke-width:2\"   />  </g> </svg>']</svg>"
      ],
      "text/plain": [
       "<svg xmlns=\"http://www.w3.org/2000/svg\" xmlns:xlink=\"http://www.w3.org/1999/xlink\" version=\"1.1\" x=\"0\" y=\"0\" width=\"500\" height=\"660\">['<svg xmlns=\"http://www.w3.org/2000/svg\" xmlns:xlink=\"http://www.w3.org/1999/xlink\" version=\"1.1\" x=\"0\" y=\"0\" width=\"500\" height=\"120\">\\n      <g fill=\"none\" stroke=\"black\" stroke-width=\"1.6\" stroke-linecap=\"round\"> <circle cx=\"20\" cy=\"50\" r=\"3\" stroke=\"black\" stroke-width=\"1\" fill=\"black\" /> <circle cx=\"38\" cy=\"50\" r=\"2\" stroke=\"green\" stroke-width=\"1\"  /> <circle cx=\"2\" cy=\"50\" r=\"2\" stroke=\"orange\" stroke-width=\"1\" fill=\\'orange\\' /> <line x1=\"38\" y1=\"50\" x2=\"20\" y2=\"50\" stroke=\"green\" stroke-width:2\"   /><line x1=\"2\" y1=\"50\" x2=\"20\" y2=\"50\" stroke=\"orange\" stroke-width:2\"   />  </g> </svg>', '<svg xmlns=\"http://www.w3.org/2000/svg\" xmlns:xlink=\"http://www.w3.org/1999/xlink\" version=\"1.1\" x=\"0\" y=\"50\" width=\"500\" height=\"120\">\\n      <g fill=\"none\" stroke=\"black\" stroke-width=\"1.6\" stroke-linecap=\"round\"> <circle cx=\"20\" cy=\"50\" r=\"3\" stroke=\"black\" stroke-width=\"1\" fill=\"black\" /> <circle cx=\"2\" cy=\"41\" r=\"2\" stroke=\"green\" stroke-width=\"1\" fill=\\'green\\' /> <circle cx=\"2\" cy=\"59\" r=\"2\" stroke=\"green\" stroke-width=\"1\" fill=\\'green\\' /> <circle cx=\"38\" cy=\"50\" r=\"2\" stroke=\"green\" stroke-width=\"1\"  /> <line x1=\"2\" y1=\"41\" x2=\"20\" y2=\"50\" stroke=\"green\" stroke-width:2\"   /><line x1=\"2\" y1=\"59\" x2=\"20\" y2=\"50\" stroke=\"green\" stroke-width:2\"   /><line x1=\"38\" y1=\"50\" x2=\"20\" y2=\"50\" stroke=\"green\" stroke-width:2\"   />  </g> </svg>', '<svg xmlns=\"http://www.w3.org/2000/svg\" xmlns:xlink=\"http://www.w3.org/1999/xlink\" version=\"1.1\" x=\"0\" y=\"100\" width=\"500\" height=\"120\">\\n      <g fill=\"none\" stroke=\"black\" stroke-width=\"1.6\" stroke-linecap=\"round\"> <circle cx=\"20\" cy=\"50\" r=\"3\" stroke=\"black\" stroke-width=\"1\" fill=\"black\" /> <circle cx=\"2\" cy=\"41\" r=\"2\" stroke=\"green\" stroke-width=\"1\" fill=\\'green\\' /> <circle cx=\"38\" cy=\"50\" r=\"2\" stroke=\"green\" stroke-width=\"1\"  /> <circle cx=\"2\" cy=\"59\" r=\"2\" stroke=\"orange\" stroke-width=\"1\" fill=\\'orange\\' /> <line x1=\"2\" y1=\"41\" x2=\"20\" y2=\"50\" stroke=\"green\" stroke-width:2\"   /><line x1=\"38\" y1=\"50\" x2=\"20\" y2=\"50\" stroke=\"green\" stroke-width:2\"   /><line x1=\"2\" y1=\"59\" x2=\"20\" y2=\"50\" stroke=\"orange\" stroke-width:2\"   />  </g> </svg>', '<svg xmlns=\"http://www.w3.org/2000/svg\" xmlns:xlink=\"http://www.w3.org/1999/xlink\" version=\"1.1\" x=\"0\" y=\"150\" width=\"500\" height=\"120\">\\n      <g fill=\"none\" stroke=\"black\" stroke-width=\"1.6\" stroke-linecap=\"round\"> <circle cx=\"20\" cy=\"50\" r=\"3\" stroke=\"black\" stroke-width=\"1\" fill=\"black\" /> <circle cx=\"2\" cy=\"41\" r=\"2\" stroke=\"green\" stroke-width=\"1\" fill=\\'green\\' /> <circle cx=\"38\" cy=\"41\" r=\"2\" stroke=\"green\" stroke-width=\"1\"  /> <circle cx=\"2\" cy=\"59\" r=\"2\" stroke=\"orange\" stroke-width=\"1\" fill=\\'orange\\' /> <circle cx=\"38\" cy=\"59\" r=\"2\" stroke=\"orange\" stroke-width=\"1\"  /> <line x1=\"2\" y1=\"41\" x2=\"20\" y2=\"50\" stroke=\"green\" stroke-width:2\"   /><line x1=\"38\" y1=\"41\" x2=\"20\" y2=\"50\" stroke=\"green\" stroke-width:2\"   /><line x1=\"2\" y1=\"59\" x2=\"20\" y2=\"50\" stroke=\"orange\" stroke-width:2\"   /><line x1=\"38\" y1=\"59\" x2=\"20\" y2=\"50\" stroke=\"orange\" stroke-width:2\"   />  </g> </svg>', '<svg xmlns=\"http://www.w3.org/2000/svg\" xmlns:xlink=\"http://www.w3.org/1999/xlink\" version=\"1.1\" x=\"0\" y=\"200\" width=\"500\" height=\"120\">\\n      <g fill=\"none\" stroke=\"black\" stroke-width=\"1.6\" stroke-linecap=\"round\"> <circle cx=\"20\" cy=\"50\" r=\"3\" stroke=\"black\" stroke-width=\"1\" fill=\"black\" /> <circle cx=\"38\" cy=\"41\" r=\"2\" stroke=\"green\" stroke-width=\"1\"  /> <circle cx=\"2\" cy=\"50\" r=\"2\" stroke=\"orange\" stroke-width=\"1\" fill=\\'orange\\' /> <circle cx=\"38\" cy=\"59\" r=\"2\" stroke=\"orange\" stroke-width=\"1\"  /> <line x1=\"38\" y1=\"41\" x2=\"20\" y2=\"50\" stroke=\"green\" stroke-width:2\"   /><line x1=\"2\" y1=\"50\" x2=\"20\" y2=\"50\" stroke=\"orange\" stroke-width:2\"   /><line x1=\"38\" y1=\"59\" x2=\"20\" y2=\"50\" stroke=\"orange\" stroke-width:2\"   />  </g> </svg>', '<svg xmlns=\"http://www.w3.org/2000/svg\" xmlns:xlink=\"http://www.w3.org/1999/xlink\" version=\"1.1\" x=\"0\" y=\"250\" width=\"500\" height=\"120\">\\n      <g fill=\"none\" stroke=\"black\" stroke-width=\"1.6\" stroke-linecap=\"round\"> <circle cx=\"20\" cy=\"50\" r=\"3\" stroke=\"black\" stroke-width=\"1\" fill=\"black\" /> <circle cx=\"2\" cy=\"32\" r=\"2\" stroke=\"green\" stroke-width=\"1\" fill=\\'green\\' /> <circle cx=\"2\" cy=\"50\" r=\"2\" stroke=\"orange\" stroke-width=\"1\" fill=\\'orange\\' /> <circle cx=\"2\" cy=\"68\" r=\"2\" stroke=\"orange\" stroke-width=\"1\" fill=\\'orange\\' /> <circle cx=\"38\" cy=\"50\" r=\"2\" stroke=\"orange\" stroke-width=\"1\"  /> <line x1=\"2\" y1=\"32\" x2=\"20\" y2=\"50\" stroke=\"green\" stroke-width:2\"   /><line x1=\"2\" y1=\"50\" x2=\"20\" y2=\"50\" stroke=\"orange\" stroke-width:2\"   /><line x1=\"2\" y1=\"68\" x2=\"20\" y2=\"50\" stroke=\"orange\" stroke-width:2\"   /><line x1=\"38\" y1=\"50\" x2=\"20\" y2=\"50\" stroke=\"orange\" stroke-width:2\"   />  </g> </svg>', '<svg xmlns=\"http://www.w3.org/2000/svg\" xmlns:xlink=\"http://www.w3.org/1999/xlink\" version=\"1.1\" x=\"0\" y=\"300\" width=\"500\" height=\"120\">\\n      <g fill=\"none\" stroke=\"black\" stroke-width=\"1.6\" stroke-linecap=\"round\"> <circle cx=\"20\" cy=\"50\" r=\"3\" stroke=\"black\" stroke-width=\"1\" fill=\"black\" /> <circle cx=\"38\" cy=\"41\" r=\"2\" stroke=\"green\" stroke-width=\"1\"  /> <circle cx=\"2\" cy=\"41\" r=\"2\" stroke=\"orange\" stroke-width=\"1\" fill=\\'orange\\' /> <circle cx=\"2\" cy=\"59\" r=\"2\" stroke=\"orange\" stroke-width=\"1\" fill=\\'orange\\' /> <circle cx=\"38\" cy=\"59\" r=\"2\" stroke=\"orange\" stroke-width=\"1\"  /> <line x1=\"38\" y1=\"41\" x2=\"20\" y2=\"50\" stroke=\"green\" stroke-width:2\"   /><line x1=\"2\" y1=\"41\" x2=\"20\" y2=\"50\" stroke=\"orange\" stroke-width:2\"   /><line x1=\"2\" y1=\"59\" x2=\"20\" y2=\"50\" stroke=\"orange\" stroke-width:2\"   /><line x1=\"38\" y1=\"59\" x2=\"20\" y2=\"50\" stroke=\"orange\" stroke-width:2\"   />  </g> </svg>', '<svg xmlns=\"http://www.w3.org/2000/svg\" xmlns:xlink=\"http://www.w3.org/1999/xlink\" version=\"1.1\" x=\"0\" y=\"350\" width=\"500\" height=\"120\">\\n      <g fill=\"none\" stroke=\"black\" stroke-width=\"1.6\" stroke-linecap=\"round\"> <circle cx=\"20\" cy=\"50\" r=\"3\" stroke=\"black\" stroke-width=\"1\" fill=\"black\" /> <circle cx=\"2\" cy=\"50\" r=\"2\" stroke=\"green\" stroke-width=\"1\" fill=\\'green\\' /> <circle cx=\"38\" cy=\"41\" r=\"2\" stroke=\"green\" stroke-width=\"1\"  /> <circle cx=\"38\" cy=\"59\" r=\"2\" stroke=\"orange\" stroke-width=\"1\"  /> <line x1=\"2\" y1=\"50\" x2=\"20\" y2=\"50\" stroke=\"green\" stroke-width:2\"   /><line x1=\"38\" y1=\"41\" x2=\"20\" y2=\"50\" stroke=\"green\" stroke-width:2\"   /><line x1=\"38\" y1=\"59\" x2=\"20\" y2=\"50\" stroke=\"orange\" stroke-width:2\"   />  </g> </svg>', '<svg xmlns=\"http://www.w3.org/2000/svg\" xmlns:xlink=\"http://www.w3.org/1999/xlink\" version=\"1.1\" x=\"0\" y=\"400\" width=\"500\" height=\"120\">\\n      <g fill=\"none\" stroke=\"black\" stroke-width=\"1.6\" stroke-linecap=\"round\"> <circle cx=\"20\" cy=\"50\" r=\"3\" stroke=\"black\" stroke-width=\"1\" fill=\"black\" /> <circle cx=\"2\" cy=\"41\" r=\"2\" stroke=\"green\" stroke-width=\"1\" fill=\\'green\\' /> <circle cx=\"38\" cy=\"41\" r=\"2\" stroke=\"green\" stroke-width=\"1\"  /> <circle cx=\"38\" cy=\"59\" r=\"2\" stroke=\"green\" stroke-width=\"1\"  /> <circle cx=\"2\" cy=\"59\" r=\"2\" stroke=\"orange\" stroke-width=\"1\" fill=\\'orange\\' /> <line x1=\"2\" y1=\"41\" x2=\"20\" y2=\"50\" stroke=\"green\" stroke-width:2\"   /><line x1=\"38\" y1=\"41\" x2=\"20\" y2=\"50\" stroke=\"green\" stroke-width:2\"   /><line x1=\"38\" y1=\"59\" x2=\"20\" y2=\"50\" stroke=\"green\" stroke-width:2\"   /><line x1=\"2\" y1=\"59\" x2=\"20\" y2=\"50\" stroke=\"orange\" stroke-width:2\"   />  </g> </svg>', '<svg xmlns=\"http://www.w3.org/2000/svg\" xmlns:xlink=\"http://www.w3.org/1999/xlink\" version=\"1.1\" x=\"0\" y=\"450\" width=\"500\" height=\"120\">\\n      <g fill=\"none\" stroke=\"black\" stroke-width=\"1.6\" stroke-linecap=\"round\"> <circle cx=\"20\" cy=\"50\" r=\"3\" stroke=\"black\" stroke-width=\"1\" fill=\"black\" /> <circle cx=\"38\" cy=\"50\" r=\"2\" stroke=\"green\" stroke-width=\"1\"  /> <circle cx=\"2\" cy=\"41\" r=\"2\" stroke=\"orange\" stroke-width=\"1\" fill=\\'orange\\' /> <circle cx=\"2\" cy=\"59\" r=\"2\" stroke=\"orange\" stroke-width=\"1\" fill=\\'orange\\' /> <line x1=\"38\" y1=\"50\" x2=\"20\" y2=\"50\" stroke=\"green\" stroke-width:2\"   /><line x1=\"2\" y1=\"41\" x2=\"20\" y2=\"50\" stroke=\"orange\" stroke-width:2\"   /><line x1=\"2\" y1=\"59\" x2=\"20\" y2=\"50\" stroke=\"orange\" stroke-width:2\"   />  </g> </svg>', '<svg xmlns=\"http://www.w3.org/2000/svg\" xmlns:xlink=\"http://www.w3.org/1999/xlink\" version=\"1.1\" x=\"0\" y=\"500\" width=\"500\" height=\"120\">\\n      <g fill=\"none\" stroke=\"black\" stroke-width=\"1.6\" stroke-linecap=\"round\"> <circle cx=\"20\" cy=\"50\" r=\"3\" stroke=\"black\" stroke-width=\"1\" fill=\"black\" /> <circle cx=\"38\" cy=\"41\" r=\"2\" stroke=\"green\" stroke-width=\"1\"  /> <circle cx=\"38\" cy=\"59\" r=\"2\" stroke=\"green\" stroke-width=\"1\"  /> <circle cx=\"2\" cy=\"50\" r=\"2\" stroke=\"orange\" stroke-width=\"1\" fill=\\'orange\\' /> <line x1=\"38\" y1=\"41\" x2=\"20\" y2=\"50\" stroke=\"green\" stroke-width:2\"   /><line x1=\"38\" y1=\"59\" x2=\"20\" y2=\"50\" stroke=\"green\" stroke-width:2\"   /><line x1=\"2\" y1=\"50\" x2=\"20\" y2=\"50\" stroke=\"orange\" stroke-width:2\"   />  </g> </svg>', '<svg xmlns=\"http://www.w3.org/2000/svg\" xmlns:xlink=\"http://www.w3.org/1999/xlink\" version=\"1.1\" x=\"0\" y=\"550\" width=\"500\" height=\"120\">\\n      <g fill=\"none\" stroke=\"black\" stroke-width=\"1.6\" stroke-linecap=\"round\"> <circle cx=\"20\" cy=\"50\" r=\"3\" stroke=\"black\" stroke-width=\"1\" fill=\"black\" /> <circle cx=\"2\" cy=\"50\" r=\"2\" stroke=\"green\" stroke-width=\"1\" fill=\\'green\\' /> <circle cx=\"38\" cy=\"41\" r=\"2\" stroke=\"green\" stroke-width=\"1\"  /> <circle cx=\"38\" cy=\"59\" r=\"2\" stroke=\"green\" stroke-width=\"1\"  /> <line x1=\"2\" y1=\"50\" x2=\"20\" y2=\"50\" stroke=\"green\" stroke-width:2\"   /><line x1=\"38\" y1=\"41\" x2=\"20\" y2=\"50\" stroke=\"green\" stroke-width:2\"   /><line x1=\"38\" y1=\"59\" x2=\"20\" y2=\"50\" stroke=\"green\" stroke-width:2\"   />  </g> </svg>']</svg>"
      ]
     },
     "execution_count": 35,
     "metadata": {},
     "output_type": "execute_result"
    }
   ],
   "source": [
    "diagram_set(basis)"
   ]
  },
  {
   "cell_type": "code",
   "execution_count": 36,
   "metadata": {},
   "outputs": [
    {
     "data": {
      "text/latex": [
       "$$445$$"
      ],
      "text/plain": [
       "445"
      ]
     },
     "execution_count": 36,
     "metadata": {},
     "output_type": "execute_result"
    }
   ],
   "source": [
    "generated_diags = graph_permutations(basis, loop_orders=[0,1], max_k=3)\n",
    "len(generated_diags)"
   ]
  },
  {
   "cell_type": "code",
   "execution_count": 37,
   "metadata": {},
   "outputs": [],
   "source": [
    "#diagram_set(generated_diags)"
   ]
  },
  {
   "cell_type": "code",
   "execution_count": 38,
   "metadata": {},
   "outputs": [
    {
     "name": "stdout",
     "output_type": "stream",
     "text": [
      "3\n"
     ]
    }
   ],
   "source": [
    "filtered = []\n",
    "for _r in generated_diags:\n",
    "    r = fgraph(_r)\n",
    "    if r.is_1PI and r.betti_number() < 2:\n",
    "        filtered.append(_r)\n",
    "len(res), len(filtered)\n",
    "\n",
    "#having_residual()\n",
    "filtered = [f for f in filtered if f.residual_interaction == interactions[0]]\n",
    "#hacing residual subset\n",
    "print(len(filtered))"
   ]
  },
  {
   "cell_type": "code",
   "execution_count": 39,
   "metadata": {},
   "outputs": [
    {
     "data": {
      "text/html": [
       "<svg xmlns=\"http://www.w3.org/2000/svg\" xmlns:xlink=\"http://www.w3.org/1999/xlink\" version=\"1.1\" x=\"0\" y=\"0\" width=\"500\" height=\"210\">['<svg xmlns=\"http://www.w3.org/2000/svg\" xmlns:xlink=\"http://www.w3.org/1999/xlink\" version=\"1.1\" x=\"0\" y=\"0\" width=\"500\" height=\"120\">\\n      <g fill=\"none\" stroke=\"black\" stroke-width=\"1.6\" stroke-linecap=\"round\"> <circle cx=\"70\" cy=\"50\" r=\"3\" stroke=\"black\" stroke-width=\"1\" fill=\"black\" /> <circle cx=\"20\" cy=\"50\" r=\"3\" stroke=\"black\" stroke-width=\"1\" fill=\"black\" /> <circle cx=\"52\" cy=\"41\" r=\"2\" stroke=\"green\" stroke-width=\"1\" fill=\\'green\\' /> <circle cx=\"52\" cy=\"59\" r=\"2\" stroke=\"orange\" stroke-width=\"1\" fill=\\'orange\\' /> <circle cx=\"88\" cy=\"50\" r=\"2\" stroke=\"green\" stroke-width=\"1\"  /> <circle cx=\"38\" cy=\"41\" r=\"2\" stroke=\"green\" stroke-width=\"1\"  /> <circle cx=\"38\" cy=\"59\" r=\"2\" stroke=\"orange\" stroke-width=\"1\"  /> <circle cx=\"2\" cy=\"50\" r=\"2\" stroke=\"green\" stroke-width=\"1\" fill=\\'green\\' /> <line x1=\"52\" y1=\"41\" x2=\"70\" y2=\"50\" stroke=\"green\" stroke-width:2\"  stroke-dasharray=\\'2,2\\' /><line x1=\"52\" y1=\"41\" x2=\"38\" y2=\"41\" stroke=\"green\" stroke-width:2\"  stroke-dasharray=\\'2,2\\' /><line x1=\"38\" y1=\"41\" x2=\"20\" y2=\"50\" stroke=\"green\" stroke-width:2\"  stroke-dasharray=\\'2,2\\' /><line x1=\"52\" y1=\"59\" x2=\"70\" y2=\"50\" stroke=\"orange\" stroke-width:2\"  stroke-dasharray=\\'2,2\\' /><line x1=\"52\" y1=\"59\" x2=\"38\" y2=\"59\" stroke=\"orange\" stroke-width:2\"  stroke-dasharray=\\'2,2\\' /><line x1=\"38\" y1=\"59\" x2=\"20\" y2=\"50\" stroke=\"orange\" stroke-width:2\"  stroke-dasharray=\\'2,2\\' /><line x1=\"88\" y1=\"50\" x2=\"70\" y2=\"50\" stroke=\"green\" stroke-width:2\"   /><line x1=\"2\" y1=\"50\" x2=\"20\" y2=\"50\" stroke=\"green\" stroke-width:2\"   />  </g> </svg>', '<svg xmlns=\"http://www.w3.org/2000/svg\" xmlns:xlink=\"http://www.w3.org/1999/xlink\" version=\"1.1\" x=\"0\" y=\"50\" width=\"500\" height=\"120\">\\n      <g fill=\"none\" stroke=\"black\" stroke-width=\"1.6\" stroke-linecap=\"round\"> <circle cx=\"120\" cy=\"50\" r=\"3\" stroke=\"black\" stroke-width=\"1\" fill=\"black\" /> <circle cx=\"70\" cy=\"50\" r=\"3\" stroke=\"black\" stroke-width=\"1\" fill=\"black\" /> <circle cx=\"20\" cy=\"50\" r=\"3\" stroke=\"black\" stroke-width=\"1\" fill=\"black\" /> <circle cx=\"102\" cy=\"41\" r=\"2\" stroke=\"green\" stroke-width=\"1\" fill=\\'green\\' /> <circle cx=\"102\" cy=\"59\" r=\"2\" stroke=\"green\" stroke-width=\"1\" fill=\\'green\\' /> <circle cx=\"138\" cy=\"50\" r=\"2\" stroke=\"green\" stroke-width=\"1\"  /> <circle cx=\"88\" cy=\"50\" r=\"2\" stroke=\"green\" stroke-width=\"1\"  /> <circle cx=\"52\" cy=\"50\" r=\"2\" stroke=\"orange\" stroke-width=\"1\" fill=\\'orange\\' /> <circle cx=\"38\" cy=\"41\" r=\"2\" stroke=\"green\" stroke-width=\"1\"  /> <circle cx=\"38\" cy=\"59\" r=\"2\" stroke=\"orange\" stroke-width=\"1\"  /> <circle cx=\"2\" cy=\"50\" r=\"2\" stroke=\"green\" stroke-width=\"1\" fill=\\'green\\' /> <line x1=\"102\" y1=\"41\" x2=\"120\" y2=\"50\" stroke=\"green\" stroke-width:2\"  stroke-dasharray=\\'2,2\\' /><line x1=\"102\" y1=\"41\" x2=\"88\" y2=\"50\" stroke=\"green\" stroke-width:2\"  stroke-dasharray=\\'2,2\\' /><line x1=\"88\" y1=\"50\" x2=\"70\" y2=\"50\" stroke=\"green\" stroke-width:2\"  stroke-dasharray=\\'2,2\\' /><line x1=\"102\" y1=\"59\" x2=\"120\" y2=\"50\" stroke=\"green\" stroke-width:2\"  stroke-dasharray=\\'2,2\\' /><line x1=\"102\" y1=\"59\" x2=\"38\" y2=\"41\" stroke=\"green\" stroke-width:2\"  stroke-dasharray=\\'2,2\\' /><line x1=\"38\" y1=\"41\" x2=\"20\" y2=\"50\" stroke=\"green\" stroke-width:2\"  stroke-dasharray=\\'2,2\\' /><line x1=\"52\" y1=\"50\" x2=\"70\" y2=\"50\" stroke=\"orange\" stroke-width:2\"  stroke-dasharray=\\'2,2\\' /><line x1=\"52\" y1=\"50\" x2=\"38\" y2=\"59\" stroke=\"orange\" stroke-width:2\"  stroke-dasharray=\\'2,2\\' /><line x1=\"38\" y1=\"59\" x2=\"20\" y2=\"50\" stroke=\"orange\" stroke-width:2\"  stroke-dasharray=\\'2,2\\' /><line x1=\"138\" y1=\"50\" x2=\"120\" y2=\"50\" stroke=\"green\" stroke-width:2\"   /><line x1=\"2\" y1=\"50\" x2=\"20\" y2=\"50\" stroke=\"green\" stroke-width:2\"   />  </g> </svg>', '<svg xmlns=\"http://www.w3.org/2000/svg\" xmlns:xlink=\"http://www.w3.org/1999/xlink\" version=\"1.1\" x=\"0\" y=\"100\" width=\"500\" height=\"120\">\\n      <g fill=\"none\" stroke=\"black\" stroke-width=\"1.6\" stroke-linecap=\"round\"> <circle cx=\"70\" cy=\"50\" r=\"3\" stroke=\"black\" stroke-width=\"1\" fill=\"black\" /> <circle cx=\"20\" cy=\"50\" r=\"3\" stroke=\"black\" stroke-width=\"1\" fill=\"black\" /> <circle cx=\"52\" cy=\"41\" r=\"2\" stroke=\"green\" stroke-width=\"1\" fill=\\'green\\' /> <circle cx=\"52\" cy=\"59\" r=\"2\" stroke=\"green\" stroke-width=\"1\" fill=\\'green\\' /> <circle cx=\"88\" cy=\"50\" r=\"2\" stroke=\"green\" stroke-width=\"1\"  /> <circle cx=\"38\" cy=\"41\" r=\"2\" stroke=\"green\" stroke-width=\"1\"  /> <circle cx=\"38\" cy=\"59\" r=\"2\" stroke=\"green\" stroke-width=\"1\"  /> <circle cx=\"2\" cy=\"50\" r=\"2\" stroke=\"green\" stroke-width=\"1\" fill=\\'green\\' /> <line x1=\"52\" y1=\"41\" x2=\"70\" y2=\"50\" stroke=\"green\" stroke-width:2\"  stroke-dasharray=\\'2,2\\' /><line x1=\"52\" y1=\"41\" x2=\"38\" y2=\"41\" stroke=\"green\" stroke-width:2\"  stroke-dasharray=\\'2,2\\' /><line x1=\"38\" y1=\"41\" x2=\"20\" y2=\"50\" stroke=\"green\" stroke-width:2\"  stroke-dasharray=\\'2,2\\' /><line x1=\"52\" y1=\"59\" x2=\"70\" y2=\"50\" stroke=\"green\" stroke-width:2\"  stroke-dasharray=\\'2,2\\' /><line x1=\"52\" y1=\"59\" x2=\"38\" y2=\"59\" stroke=\"green\" stroke-width:2\"  stroke-dasharray=\\'2,2\\' /><line x1=\"38\" y1=\"59\" x2=\"20\" y2=\"50\" stroke=\"green\" stroke-width:2\"  stroke-dasharray=\\'2,2\\' /><line x1=\"88\" y1=\"50\" x2=\"70\" y2=\"50\" stroke=\"green\" stroke-width:2\"   /><line x1=\"2\" y1=\"50\" x2=\"20\" y2=\"50\" stroke=\"green\" stroke-width:2\"   />  </g> </svg>']</svg>"
      ],
      "text/plain": [
       "<svg xmlns=\"http://www.w3.org/2000/svg\" xmlns:xlink=\"http://www.w3.org/1999/xlink\" version=\"1.1\" x=\"0\" y=\"0\" width=\"500\" height=\"210\">['<svg xmlns=\"http://www.w3.org/2000/svg\" xmlns:xlink=\"http://www.w3.org/1999/xlink\" version=\"1.1\" x=\"0\" y=\"0\" width=\"500\" height=\"120\">\\n      <g fill=\"none\" stroke=\"black\" stroke-width=\"1.6\" stroke-linecap=\"round\"> <circle cx=\"70\" cy=\"50\" r=\"3\" stroke=\"black\" stroke-width=\"1\" fill=\"black\" /> <circle cx=\"20\" cy=\"50\" r=\"3\" stroke=\"black\" stroke-width=\"1\" fill=\"black\" /> <circle cx=\"52\" cy=\"41\" r=\"2\" stroke=\"green\" stroke-width=\"1\" fill=\\'green\\' /> <circle cx=\"52\" cy=\"59\" r=\"2\" stroke=\"orange\" stroke-width=\"1\" fill=\\'orange\\' /> <circle cx=\"88\" cy=\"50\" r=\"2\" stroke=\"green\" stroke-width=\"1\"  /> <circle cx=\"38\" cy=\"41\" r=\"2\" stroke=\"green\" stroke-width=\"1\"  /> <circle cx=\"38\" cy=\"59\" r=\"2\" stroke=\"orange\" stroke-width=\"1\"  /> <circle cx=\"2\" cy=\"50\" r=\"2\" stroke=\"green\" stroke-width=\"1\" fill=\\'green\\' /> <line x1=\"52\" y1=\"41\" x2=\"70\" y2=\"50\" stroke=\"green\" stroke-width:2\"  stroke-dasharray=\\'2,2\\' /><line x1=\"52\" y1=\"41\" x2=\"38\" y2=\"41\" stroke=\"green\" stroke-width:2\"  stroke-dasharray=\\'2,2\\' /><line x1=\"38\" y1=\"41\" x2=\"20\" y2=\"50\" stroke=\"green\" stroke-width:2\"  stroke-dasharray=\\'2,2\\' /><line x1=\"52\" y1=\"59\" x2=\"70\" y2=\"50\" stroke=\"orange\" stroke-width:2\"  stroke-dasharray=\\'2,2\\' /><line x1=\"52\" y1=\"59\" x2=\"38\" y2=\"59\" stroke=\"orange\" stroke-width:2\"  stroke-dasharray=\\'2,2\\' /><line x1=\"38\" y1=\"59\" x2=\"20\" y2=\"50\" stroke=\"orange\" stroke-width:2\"  stroke-dasharray=\\'2,2\\' /><line x1=\"88\" y1=\"50\" x2=\"70\" y2=\"50\" stroke=\"green\" stroke-width:2\"   /><line x1=\"2\" y1=\"50\" x2=\"20\" y2=\"50\" stroke=\"green\" stroke-width:2\"   />  </g> </svg>', '<svg xmlns=\"http://www.w3.org/2000/svg\" xmlns:xlink=\"http://www.w3.org/1999/xlink\" version=\"1.1\" x=\"0\" y=\"50\" width=\"500\" height=\"120\">\\n      <g fill=\"none\" stroke=\"black\" stroke-width=\"1.6\" stroke-linecap=\"round\"> <circle cx=\"120\" cy=\"50\" r=\"3\" stroke=\"black\" stroke-width=\"1\" fill=\"black\" /> <circle cx=\"70\" cy=\"50\" r=\"3\" stroke=\"black\" stroke-width=\"1\" fill=\"black\" /> <circle cx=\"20\" cy=\"50\" r=\"3\" stroke=\"black\" stroke-width=\"1\" fill=\"black\" /> <circle cx=\"102\" cy=\"41\" r=\"2\" stroke=\"green\" stroke-width=\"1\" fill=\\'green\\' /> <circle cx=\"102\" cy=\"59\" r=\"2\" stroke=\"green\" stroke-width=\"1\" fill=\\'green\\' /> <circle cx=\"138\" cy=\"50\" r=\"2\" stroke=\"green\" stroke-width=\"1\"  /> <circle cx=\"88\" cy=\"50\" r=\"2\" stroke=\"green\" stroke-width=\"1\"  /> <circle cx=\"52\" cy=\"50\" r=\"2\" stroke=\"orange\" stroke-width=\"1\" fill=\\'orange\\' /> <circle cx=\"38\" cy=\"41\" r=\"2\" stroke=\"green\" stroke-width=\"1\"  /> <circle cx=\"38\" cy=\"59\" r=\"2\" stroke=\"orange\" stroke-width=\"1\"  /> <circle cx=\"2\" cy=\"50\" r=\"2\" stroke=\"green\" stroke-width=\"1\" fill=\\'green\\' /> <line x1=\"102\" y1=\"41\" x2=\"120\" y2=\"50\" stroke=\"green\" stroke-width:2\"  stroke-dasharray=\\'2,2\\' /><line x1=\"102\" y1=\"41\" x2=\"88\" y2=\"50\" stroke=\"green\" stroke-width:2\"  stroke-dasharray=\\'2,2\\' /><line x1=\"88\" y1=\"50\" x2=\"70\" y2=\"50\" stroke=\"green\" stroke-width:2\"  stroke-dasharray=\\'2,2\\' /><line x1=\"102\" y1=\"59\" x2=\"120\" y2=\"50\" stroke=\"green\" stroke-width:2\"  stroke-dasharray=\\'2,2\\' /><line x1=\"102\" y1=\"59\" x2=\"38\" y2=\"41\" stroke=\"green\" stroke-width:2\"  stroke-dasharray=\\'2,2\\' /><line x1=\"38\" y1=\"41\" x2=\"20\" y2=\"50\" stroke=\"green\" stroke-width:2\"  stroke-dasharray=\\'2,2\\' /><line x1=\"52\" y1=\"50\" x2=\"70\" y2=\"50\" stroke=\"orange\" stroke-width:2\"  stroke-dasharray=\\'2,2\\' /><line x1=\"52\" y1=\"50\" x2=\"38\" y2=\"59\" stroke=\"orange\" stroke-width:2\"  stroke-dasharray=\\'2,2\\' /><line x1=\"38\" y1=\"59\" x2=\"20\" y2=\"50\" stroke=\"orange\" stroke-width:2\"  stroke-dasharray=\\'2,2\\' /><line x1=\"138\" y1=\"50\" x2=\"120\" y2=\"50\" stroke=\"green\" stroke-width:2\"   /><line x1=\"2\" y1=\"50\" x2=\"20\" y2=\"50\" stroke=\"green\" stroke-width:2\"   />  </g> </svg>', '<svg xmlns=\"http://www.w3.org/2000/svg\" xmlns:xlink=\"http://www.w3.org/1999/xlink\" version=\"1.1\" x=\"0\" y=\"100\" width=\"500\" height=\"120\">\\n      <g fill=\"none\" stroke=\"black\" stroke-width=\"1.6\" stroke-linecap=\"round\"> <circle cx=\"70\" cy=\"50\" r=\"3\" stroke=\"black\" stroke-width=\"1\" fill=\"black\" /> <circle cx=\"20\" cy=\"50\" r=\"3\" stroke=\"black\" stroke-width=\"1\" fill=\"black\" /> <circle cx=\"52\" cy=\"41\" r=\"2\" stroke=\"green\" stroke-width=\"1\" fill=\\'green\\' /> <circle cx=\"52\" cy=\"59\" r=\"2\" stroke=\"green\" stroke-width=\"1\" fill=\\'green\\' /> <circle cx=\"88\" cy=\"50\" r=\"2\" stroke=\"green\" stroke-width=\"1\"  /> <circle cx=\"38\" cy=\"41\" r=\"2\" stroke=\"green\" stroke-width=\"1\"  /> <circle cx=\"38\" cy=\"59\" r=\"2\" stroke=\"green\" stroke-width=\"1\"  /> <circle cx=\"2\" cy=\"50\" r=\"2\" stroke=\"green\" stroke-width=\"1\" fill=\\'green\\' /> <line x1=\"52\" y1=\"41\" x2=\"70\" y2=\"50\" stroke=\"green\" stroke-width:2\"  stroke-dasharray=\\'2,2\\' /><line x1=\"52\" y1=\"41\" x2=\"38\" y2=\"41\" stroke=\"green\" stroke-width:2\"  stroke-dasharray=\\'2,2\\' /><line x1=\"38\" y1=\"41\" x2=\"20\" y2=\"50\" stroke=\"green\" stroke-width:2\"  stroke-dasharray=\\'2,2\\' /><line x1=\"52\" y1=\"59\" x2=\"70\" y2=\"50\" stroke=\"green\" stroke-width:2\"  stroke-dasharray=\\'2,2\\' /><line x1=\"52\" y1=\"59\" x2=\"38\" y2=\"59\" stroke=\"green\" stroke-width:2\"  stroke-dasharray=\\'2,2\\' /><line x1=\"38\" y1=\"59\" x2=\"20\" y2=\"50\" stroke=\"green\" stroke-width:2\"  stroke-dasharray=\\'2,2\\' /><line x1=\"88\" y1=\"50\" x2=\"70\" y2=\"50\" stroke=\"green\" stroke-width:2\"   /><line x1=\"2\" y1=\"50\" x2=\"20\" y2=\"50\" stroke=\"green\" stroke-width:2\"   />  </g> </svg>']</svg>"
      ]
     },
     "execution_count": 39,
     "metadata": {},
     "output_type": "execute_result"
    }
   ],
   "source": [
    "diagram_set(set(filtered))"
   ]
  },
  {
   "cell_type": "code",
   "execution_count": 40,
   "metadata": {},
   "outputs": [],
   "source": [
    "FG = filtered[0]"
   ]
  },
  {
   "cell_type": "code",
   "execution_count": 41,
   "metadata": {},
   "outputs": [
    {
     "data": {
      "text/plain": [
       "array([[[0, 1],\n",
       "        [0, 1]],\n",
       "\n",
       "       [[1, 0],\n",
       "        [1, 0]]])"
      ]
     },
     "execution_count": 41,
     "metadata": {},
     "output_type": "execute_result"
    }
   ],
   "source": [
    "#takes tese examples which are sufficient to show some intereting loops\n",
    "#define the propagators using the residual complement\n",
    "filtered[1].residual_complement"
   ]
  },
  {
   "cell_type": "code",
   "execution_count": 46,
   "metadata": {},
   "outputs": [
    {
     "data": {
      "text/latex": [
       "$$\\left [ \\frac{1}{D k^{2} - \\omega i + m_{0}}, \\quad \\frac{1}{- \\omega i + m_{1}}\\right ]$$"
      ],
      "text/plain": [
       "⎡         1                  1       ⎤\n",
       "⎢────────────────────, ──────────────⎥\n",
       "⎢   2                  -\\omega⋅i + m₁⎥\n",
       "⎣D⋅k  - \\omega⋅i + m₀                ⎦"
      ]
     },
     "execution_count": 46,
     "metadata": {},
     "output_type": "execute_result"
    }
   ],
   "source": [
    "from sympy import Symbol, symbols\n",
    "from IPython.display import display, Math, Latex\n",
    "from functools import reduce\n",
    "from operator import add,mul\n",
    "#THIS is all temporary just to get the ball rolling\n",
    "#In reality, initially user would say some things about each species so that the form of the props can be determined\n",
    "#Then, from the topology of the graph, we would find a basis in the momentum space that makes sense.\n",
    "#I first need to determine some rules for this procedure.\n",
    "class integral_repr(object):\n",
    "    def __init__(self, propagators):\n",
    "        \n",
    "        display(Math(r'I = \\int d^dk\\ ' +str(reduce(mul, propagators, 1))))\n",
    "    def __repr__(self):\n",
    "        return \"\"\n",
    "    \n",
    "propagators = []\n",
    "def propagator_from_species(s, p):\n",
    "    D, k, i, om, T = symbols(\"D k i \\omega, T\")\n",
    "    if s == -1:\n",
    "        return T* propagator_from_species(0,1) * propagator_from_species(1,1)\n",
    "    if s == 0: return (-1*i*om + D*k**2 + Symbol(\"m\"+str(s)))**-p\n",
    "    if s == 1: return (-1*i*om + Symbol(\"m\"+str(s)))**-p\n",
    "\n",
    "def internal_propagator_from_vertex_slice(s):\n",
    "    if np.array_equal(s, np.array([[1,1],[0,0]])): return propagator_from_species(0,1)\n",
    "    if np.array_equal(s, np.array([[0,0],[1,1]])): return propagator_from_species(1,1)\n",
    "    if np.array_equal(s, np.array([[1,0],[0,1]])): return propagator_from_species(-1,1)\n",
    "    \n",
    "for v in filtered[1].residual_complement[1:-1]: #internal momenta at vertices\n",
    "    propagators.append(internal_propagator_from_vertex_slice(v))\n",
    "    \n",
    "for i, s in enumerate(filtered[1].residual_complement[-1]):\n",
    "    propagators.append(propagator_from_species(i, s[0]))\n",
    "\n",
    "propagators"
   ]
  },
  {
   "cell_type": "code",
   "execution_count": 47,
   "metadata": {},
   "outputs": [
    {
     "data": {
      "text/latex": [
       "$$I = \\int d^dk\\ 1/((-\\omega*i + m1)*(D*k**2 - \\omega*i + m0))$$"
      ],
      "text/plain": [
       "<IPython.core.display.Math object>"
      ]
     },
     "metadata": {},
     "output_type": "display_data"
    },
    {
     "data": {
      "text/plain": []
     },
     "execution_count": 47,
     "metadata": {},
     "output_type": "execute_result"
    }
   ],
   "source": [
    "integral_repr(propagators)"
   ]
  },
  {
   "cell_type": "markdown",
   "metadata": {},
   "source": [
    "# Distinct Loops"
   ]
  },
  {
   "cell_type": "code",
   "execution_count": null,
   "metadata": {
    "collapsed": true
   },
   "outputs": [],
   "source": [
    "#suppose we can group by something else afterwards e.g. residual equivalence - which contribute to renormalisation of say, propagators\n",
    "#now we just need to determine the internal loop structure"
   ]
  },
  {
   "cell_type": "code",
   "execution_count": null,
   "metadata": {
    "collapsed": true
   },
   "outputs": [],
   "source": []
  }
 ],
 "metadata": {
  "kernelspec": {
   "display_name": "Python 3",
   "language": "python",
   "name": "python3"
  },
  "language_info": {
   "codemirror_mode": {
    "name": "ipython",
    "version": 3
   },
   "file_extension": ".py",
   "mimetype": "text/x-python",
   "name": "python",
   "nbconvert_exporter": "python",
   "pygments_lexer": "ipython3",
   "version": "3.6.3"
  }
 },
 "nbformat": 4,
 "nbformat_minor": 2
}
