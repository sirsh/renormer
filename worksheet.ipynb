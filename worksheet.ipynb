{
 "cells": [
  {
   "cell_type": "code",
   "execution_count": null,
   "metadata": {
    "collapsed": true
   },
   "outputs": [],
   "source": [
    "import rg\n",
    "from rg.diagrams import diagram, composition_diagram, diagram_set\n",
    "from rg.interaction import interaction as J \n",
    "from rg.interaction import interaction_identity\n",
    "from rg.interaction import interaction_system\n",
    "from rg.interaction import composite_interaction as G\n",
    "from rg.theory import ftheory\n",
    "from rg.graphs import composite_interaction_graph as fgraph"
   ]
  },
  {
   "cell_type": "markdown",
   "metadata": {},
   "source": [
    "# Example representations\n",
    "Here we show the matrix form for adding fields for arbitrary number of species (1 row per species). We display the latex symbols and also the diagrams\n",
    "\n",
    "The diagrams are of the residuals so loops/internal structure are not shown here (see the composite examples later where we look at internal structure). \n",
    "\n",
    "The & operator or * operator (todo) are both used as diagram products allowing diagrams to be merged"
   ]
  },
  {
   "cell_type": "code",
   "execution_count": null,
   "metadata": {},
   "outputs": [],
   "source": [
    "j = J([[1,1], \n",
    "       [2,0]])\n",
    "j"
   ]
  },
  {
   "cell_type": "code",
   "execution_count": null,
   "metadata": {},
   "outputs": [],
   "source": [
    "j.diagram"
   ]
  },
  {
   "cell_type": "code",
   "execution_count": null,
   "metadata": {},
   "outputs": [],
   "source": [
    "transmutation = J([[1,0],[0,1]])\n",
    "transmutation.diagram"
   ]
  },
  {
   "cell_type": "code",
   "execution_count": null,
   "metadata": {},
   "outputs": [],
   "source": [
    "coagulation = J([[2,1],[0,0]])\n",
    "coagulation.diagram"
   ]
  },
  {
   "cell_type": "code",
   "execution_count": null,
   "metadata": {},
   "outputs": [],
   "source": [
    "branching = J([[1,2],[0,0]])\n",
    "branching.diagram\n",
    "#branching"
   ]
  },
  {
   "cell_type": "code",
   "execution_count": null,
   "metadata": {
    "collapsed": true
   },
   "outputs": [],
   "source": [
    "#branching.tensor"
   ]
  },
  {
   "cell_type": "code",
   "execution_count": null,
   "metadata": {},
   "outputs": [],
   "source": [
    "(branching&coagulation).diagram"
   ]
  },
  {
   "cell_type": "code",
   "execution_count": null,
   "metadata": {},
   "outputs": [],
   "source": [
    "(coagulation&branching).diagram"
   ]
  },
  {
   "cell_type": "code",
   "execution_count": null,
   "metadata": {},
   "outputs": [],
   "source": [
    "(branching&j).diagram"
   ]
  },
  {
   "cell_type": "markdown",
   "metadata": {},
   "source": [
    "# Dimensional Analysis\n",
    "For dimensional analysis one construct a system of terms, each term is an interaction J.\n",
    "\n",
    "One proposes known coupling values e.g. known dimensions of propagators \n",
    "\n",
    "the ftheory class permutes all non fixed couplings, proposing that permutations P(n,k) are dimensionless - each permutation creates a theory\n",
    "\n",
    "A theory fixes the dimension of fields and all couplings. The theories can then be compared and chcked via the ftheory class"
   ]
  },
  {
   "cell_type": "code",
   "execution_count": null,
   "metadata": {},
   "outputs": [],
   "source": [
    "#blank -> tilde\n",
    "#BRW0\n",
    "interactions = [\n",
    " J([[1,1],[0,0]]),\n",
    " J([[0,0],[1,1]]),\n",
    " J([[1,0],[0,1]]), #tau \n",
    " J([[1,2],[0,0]]), #s\n",
    " J([[1,1],[0,1]]), #quasi-branch sigma\n",
    " J([[1,1],[1,1]]), #kappa\n",
    " J([[1,0],[1,1]]), #lambda\n",
    " ]\n",
    "\n",
    "#BWS1 - #add two more terms chi and eta\n",
    "interactions = interactions +  [\n",
    " J([[0,1],[1,2]]), #\n",
    " J([[1,0],[1,2]]), #   \n",
    "]\n",
    "\n",
    "#VRS - add two more terms annhilation\n",
    "interactions = interactions +  [\n",
    " J([[1,1],[1,0]]), #\n",
    " J([[2,1],[0,1]]), #   \n",
    "]\n",
    "\n",
    "#display\n",
    "[j.display() for j in interactions]"
   ]
  },
  {
   "cell_type": "code",
   "execution_count": null,
   "metadata": {},
   "outputs": [],
   "source": [
    "Lambda = rg.T**(-1) # L**(-1*dim)\n",
    "new_couplings = {J([ [0,0],  [1,1]] ): Lambda, #[field]*lambda is the inverse measure\n",
    "                 J([ [1,1],  [0,0]] ): Lambda, }\n",
    "\n",
    "#example theory\n",
    "FT = ftheory(new_couplings, \n",
    "             dimensionless=[J([ [1,2],  [0,0]] ), \n",
    "                            J([ [1,1],  [0,1]] )  ])\n",
    "FT.display()"
   ]
  },
  {
   "cell_type": "code",
   "execution_count": null,
   "metadata": {},
   "outputs": [],
   "source": [
    "FT.interpret_dimensions(interactions)"
   ]
  },
  {
   "cell_type": "code",
   "execution_count": null,
   "metadata": {},
   "outputs": [],
   "source": [
    "FT.interpret_couplings(interactions, l_power_dim=4)"
   ]
  },
  {
   "cell_type": "code",
   "execution_count": null,
   "metadata": {
    "collapsed": true
   },
   "outputs": [],
   "source": [
    "#we can create a bunch of theories by permuting dimensionless couplings given the input known field dimensions and all terms\n",
    "cs  = ftheory.theories(interactions, new_couplings)"
   ]
  },
  {
   "cell_type": "code",
   "execution_count": null,
   "metadata": {},
   "outputs": [],
   "source": [
    "import pandas as pd\n",
    "dfs = []\n",
    "for k in cs:\n",
    "    M = k.interpret_couplings(interactions)\n",
    "    df = pd.DataFrame(M.tolist(), columns=[\"vertex\", \"coupling\"]).set_index(\"vertex\")\n",
    "    dfs.append(df)\n",
    "dfs = pd.concat(dfs,axis=1).reset_index()\n",
    "from sympy import Matrix\n",
    "Matrix(dfs.as_matrix())\n",
    "#dfs[0]"
   ]
  },
  {
   "cell_type": "code",
   "execution_count": null,
   "metadata": {},
   "outputs": [],
   "source": [
    "ftheory.matrices(cs).dimensionless_terms().T"
   ]
  },
  {
   "cell_type": "code",
   "execution_count": null,
   "metadata": {},
   "outputs": [],
   "source": [
    "#we can display a matrix for all theories for the values of the fields \\phi_0, \\tilde{\\phi}_0, \\phi_1, \\tilde{\\phi_1}\n",
    "ftheory.matrices(cs).general_form\n",
    "#below terms are in the form ud+v\n",
    "#propagators always compensate each other in d=0 - that means i think they are rate-like\n",
    "#you never have something that is just a positive v without some u? \n",
    "#you sometimes but rarely have any positive u\n",
    "#For u,v; 0,0 always goes with -1,0\n",
    "#you only have powers of 2 for u,v\n",
    "#d dependence for creation or annihilation fields mostly agree between species - \n",
    "#  - if i was think of this as some sort of polarity - i want the two species to maybe agree\n",
    "#  - that way propagation between species (transmutation) is as 'well behaved' as the bare propagators (so to speak)\n",
    "#  - specifically i mean if u > 0 or v > 0 for one species, must be the same for the other\n",
    "\n",
    "#todo - what do all the degenerate theories have in common (including/not including the non integer and negative dimensions)\n",
    "#i notice two of the theories are exactly the same below too e.g. 1 and 3 which is weird but this explains the negatives \n",
    "#  - maybe it is the same thing actually\n",
    "#from the measure, we know that we will have u,v = 1,2 (or negateive on the RHS).\n",
    "#  -  Therefore, we know that we need at least +u and v cancelling the 2 - this creates our baseline"
   ]
  },
  {
   "cell_type": "code",
   "execution_count": null,
   "metadata": {
    "collapsed": true
   },
   "outputs": [],
   "source": [
    "# from itertools import product\n",
    "\n",
    "# M = [0,1,2,3]\n",
    "# def multiradix_product(M):\n",
    "#     return product(*(range(x) for x in M))\n",
    "\n",
    "# list(multiradix_product(M))\n",
    "# #for a in multiradix_recursive(M):print(a)"
   ]
  },
  {
   "cell_type": "code",
   "execution_count": null,
   "metadata": {},
   "outputs": [],
   "source": [
    "#and we can evalaute the values at a certain d, last column is the inverse measure L^dT^1 with T=L^2 at d=d_c\n",
    "ftheory.matrices(cs).criterion(4)"
   ]
  },
  {
   "cell_type": "markdown",
   "metadata": {},
   "source": [
    "# Composing and displaying diagrams\n",
    "Work in progress. Lots of different ways to render things - starting with the basics, the ones that make development clearer."
   ]
  },
  {
   "cell_type": "code",
   "execution_count": null,
   "metadata": {},
   "outputs": [],
   "source": [
    "G(branching)*G(coagulation)"
   ]
  },
  {
   "cell_type": "code",
   "execution_count": null,
   "metadata": {},
   "outputs": [],
   "source": [
    "T = G(branching)*G(transmutation)*G(j)\n",
    "#composition_diagram(G(branching)*G(coagulation),compact=True)\n",
    "T"
   ]
  },
  {
   "cell_type": "code",
   "execution_count": null,
   "metadata": {},
   "outputs": [],
   "source": [
    "composition_diagram(T,compact=True)\n",
    "#todo - draw on the residue stubs in dotted lines - use the same logic with angles around the vertex for the remaining dudes"
   ]
  },
  {
   "cell_type": "code",
   "execution_count": null,
   "metadata": {},
   "outputs": [],
   "source": [
    "#def vertex_residual_contribution(self):[t.sum() for t in self.tensor]\n",
    "T = G(branching)*G(transmutation)\n",
    "T =  G(branching)*G(transmutation)*G(j)\n",
    "FG = fgraph(T,True)#.betti_number()\n",
    "FG"
   ]
  },
  {
   "cell_type": "code",
   "execution_count": null,
   "metadata": {},
   "outputs": [],
   "source": [
    "FG.graph_polynomials()"
   ]
  },
  {
   "cell_type": "code",
   "execution_count": null,
   "metadata": {},
   "outputs": [],
   "source": [
    "T0 = G(branching)*G(transmutation)\n",
    "T0"
   ]
  },
  {
   "cell_type": "code",
   "execution_count": null,
   "metadata": {},
   "outputs": [],
   "source": [
    "collection = [G(branching)*G(transmutation),\n",
    "             G(branching)*G(coagulation),\n",
    "             G(branching)*G(transmutation)*G(j)]\n",
    "diagram_set(collection)"
   ]
  },
  {
   "cell_type": "code",
   "execution_count": null,
   "metadata": {},
   "outputs": [],
   "source": [
    "collection = [G(branching)*G(transmutation),\n",
    "             G(branching)*G(coagulation),\n",
    "             G(branching)*G(transmutation)*G(j)]\n",
    "collection = [c for c in collection if fgraph(c).is_1PI]\n",
    "diagram_set(collection)"
   ]
  },
  {
   "cell_type": "code",
   "execution_count": null,
   "metadata": {},
   "outputs": [],
   "source": [
    "collection[-1].residual_interaction.diagram"
   ]
  },
  {
   "cell_type": "markdown",
   "metadata": {},
   "source": [
    "## Permutations"
   ]
  },
  {
   "cell_type": "code",
   "execution_count": null,
   "metadata": {
    "collapsed": true
   },
   "outputs": [],
   "source": [
    "#interactions[2:]"
   ]
  },
  {
   "cell_type": "code",
   "execution_count": null,
   "metadata": {},
   "outputs": [],
   "source": [
    "import itertools,functools\n",
    "\n",
    "def _combine(set_of_interactions):\n",
    "        def _merge(a,b): \n",
    "            if a is None:return b\n",
    "            if b is None:return a\n",
    "            return a * b\n",
    "        return functools.reduce(_merge, set_of_interactions, None)\n",
    "    \n",
    "def graph_permutations(primitives, loop_orders = [0,1], max_k=3):\n",
    "    if not isinstance(loop_orders, list):loop_orders = [loop_orders]\n",
    "    l = [] \n",
    "    \n",
    "    for i in range(2,max_k+1):\n",
    "        for tup in list(itertools.permutations(primitives,i)):\n",
    "            res = _combine(list(tup))\n",
    "            if res.loops in loop_orders:\n",
    "                l.append(res)\n",
    "    #todo : define uniqueness and validity\n",
    "    return list(set(l))\n",
    "\n",
    "#simple sample system\n",
    "res = graph_permutations([G(branching), G(transmutation),G(coagulation),G(j)])\n",
    "#our vicious walker system\n",
    "res = graph_permutations([G(j) for j in interactions[2:]])\n",
    "\n",
    "len(res)"
   ]
  },
  {
   "cell_type": "code",
   "execution_count": null,
   "metadata": {
    "collapsed": true
   },
   "outputs": [],
   "source": [
    "def distinct_loops(fgset,insist_on_same_residual=False):\n",
    "    #I think only the same residual makes sense because otherwise the external momenta are different? but then its the same graph so maybe not\n",
    "    d = {}\n",
    "    for f in fgset:\n",
    "        if f.loops < 1:continue\n",
    "        inv_res = f.residual_complement\n",
    "        inv_res.flags.writeable = False\n",
    "        h = hash(str(inv_res))\n",
    "        if h not in d:d[h] = []\n",
    "        d[h].append(f)\n",
    "    return d"
   ]
  },
  {
   "cell_type": "code",
   "execution_count": null,
   "metadata": {},
   "outputs": [],
   "source": [
    "d = distinct_loops(res)\n",
    "len(d)"
   ]
  },
  {
   "cell_type": "code",
   "execution_count": null,
   "metadata": {
    "collapsed": true
   },
   "outputs": [],
   "source": [
    "def loop_integral(T, propagator_matrix):\n",
    "    pass\n",
    "    #number edges and create a detail matrix with the momenta and so on at each edge\n",
    "    #T.display_loop(extra_props={})"
   ]
  },
  {
   "cell_type": "code",
   "execution_count": null,
   "metadata": {},
   "outputs": [],
   "source": [
    "#bits and pieces: pressing matter: momenta specification for different residuals on some loop. \n",
    "#issue with a direction of a loop arc\n",
    "#need to pass scales down to render so we can shrink down diagrams in sets\n",
    "#need a smarted key rendering and also a type-specific way to do it i.e. create a composite from the loop data only with proper fidelity - or maybe that is not important\n",
    "#maybe sub class it to cut out the residual data or not display and change the hash - actually maybe a good idea to start outting the loop logic with propagators etc?\n",
    "#    im not sure if the external momenta for different residuals matters though - I feel like it should (maybe we only care about 3-leg though)\n",
    "#also high level (module level @ rg) functions to do all this permutation and filtering and grouping stuff\n",
    "diagram_set(list(d.values())[9],offset=120,compact=True)"
   ]
  },
  {
   "cell_type": "code",
   "execution_count": null,
   "metadata": {},
   "outputs": [],
   "source": [
    "diagram_set([G(j) for j in interactions[2:]])"
   ]
  },
  {
   "cell_type": "code",
   "execution_count": null,
   "metadata": {},
   "outputs": [],
   "source": [
    "#iteratively find all tree-level new residuals\n",
    "#this is a bit messy at the moment, I am still deciding how to organise this stuff\n",
    "l = 0\n",
    "res_dict = {}\n",
    "basis = [G(j) for j in interactions[2:]]\n",
    "for b in basis:\n",
    "    res_dict[b.residual_interaction] = True\n",
    "print(\"basis init length\", len(basis))\n",
    "temp = graph_permutations(basis, loop_orders=[0], max_k=2)\n",
    "#this would be a recursive step\n",
    "for b in temp:\n",
    "    resid = b.residual_interaction\n",
    "    if resid.tensor.sum() <= 4:\n",
    "        res_dict[resid] = True\n",
    "basis = [G(j) for j in res_dict.keys()]\n",
    "len(basis)"
   ]
  },
  {
   "cell_type": "code",
   "execution_count": null,
   "metadata": {},
   "outputs": [],
   "source": [
    "temp = graph_permutations(basis, loop_orders=[0], max_k=2)\n",
    "#this would be a recursive step\n",
    "for b in temp:\n",
    "    resid = b.residual_interaction\n",
    "    if resid.tensor.sum() <= 3:\n",
    "        res_dict[resid] = True\n",
    "basis = [G(j) for j in res_dict.keys()]\n",
    "len(basis)"
   ]
  },
  {
   "cell_type": "code",
   "execution_count": null,
   "metadata": {},
   "outputs": [],
   "source": [
    "diagram_set(basis)"
   ]
  },
  {
   "cell_type": "code",
   "execution_count": null,
   "metadata": {},
   "outputs": [],
   "source": [
    "generated_diags = graph_permutations(basis, loop_orders=[0,1], max_k=3)\n",
    "len(generated_diags)"
   ]
  },
  {
   "cell_type": "code",
   "execution_count": null,
   "metadata": {
    "collapsed": true
   },
   "outputs": [],
   "source": [
    "#diagram_set(generated_diags)"
   ]
  },
  {
   "cell_type": "code",
   "execution_count": null,
   "metadata": {},
   "outputs": [],
   "source": [
    "filtered = []\n",
    "for _r in generated_diags:\n",
    "    r = fgraph(_r)\n",
    "    if r.is_1PI and r.betti_number() < 2:\n",
    "        filtered.append(_r)\n",
    "len(res), len(filtered)\n",
    "\n",
    "#having_residual()\n",
    "filtered = [f for f in filtered if f.residual_interaction == interactions[0]]\n",
    "#hacing residual subset\n",
    "print(len(filtered))"
   ]
  },
  {
   "cell_type": "code",
   "execution_count": null,
   "metadata": {},
   "outputs": [],
   "source": [
    "diagram_set(set(filtered))# todo , group by residual, each residual on columns and the most popular one on the left"
   ]
  },
  {
   "cell_type": "code",
   "execution_count": null,
   "metadata": {
    "collapsed": true
   },
   "outputs": [],
   "source": [
    "FG = filtered[0]"
   ]
  },
  {
   "cell_type": "code",
   "execution_count": null,
   "metadata": {},
   "outputs": [],
   "source": [
    "#takes tese examples which are sufficient to show some intereting loops\n",
    "#define the propagators using the residual complement\n",
    "filtered[1].residual_complement"
   ]
  },
  {
   "cell_type": "markdown",
   "metadata": {},
   "source": [
    "# Distinct Loops"
   ]
  },
  {
   "cell_type": "code",
   "execution_count": null,
   "metadata": {
    "collapsed": true
   },
   "outputs": [],
   "source": [
    "#suppose we can group by something else afterwards e.g. residual equivalence - which contribute to renormalisation of say, propagators\n",
    "#now we just need to determine the internal loop structure\n",
    "#once we have distinct loops (worrying about the residuals later) we can construct the integrals\n",
    "#the integrals will be a combination of propagators, possible with some interaction numerators\n",
    "#1. ignoring the numerators for the moment, I can construct the reduced \"euclidean\" propagators \n",
    "#2. most of them can be mapped onto a Gamma function easily enough using the alpha-param\n",
    "#3. return to numerators and dimensional analysis and power counting stuff\n",
    "#4. then we are on to Rz"
   ]
  },
  {
   "cell_type": "code",
   "execution_count": 17,
   "metadata": {},
   "outputs": [
    {
     "data": {
      "image/png": "[encoded data removed]",
      "text/latex": [
       "$$P_{0}$$"
      ],
      "text/plain": [
       "P₀"
      ]
     },
     "execution_count": 17,
     "metadata": {},
     "output_type": "execute_result"
    }
   ],
   "source": [
    "import sympy\n",
    "from sympy import sympify\n",
    "from sympy import Symbol\n",
    "from sympy import Matrix\n",
    "from sympy import init_printing\n",
    "from sympy import latex\n",
    "sympy.init_printing()\n",
    "P0,D1,x, p=symbols(\"P_0 d_1 x p\")\n",
    "P0"
   ]
  },
  {
   "cell_type": "code",
   "execution_count": 24,
   "metadata": {},
   "outputs": [
    {
     "data": {
      "image/png": "[encoded data removed]",
      "text/latex": [
       "$$\\left(d_{1} x + 1\\right)^{- p}$$"
      ],
      "text/plain": [
       "          -p\n",
       "(d₁⋅x + 1)  "
      ]
     },
     "execution_count": 24,
     "metadata": {},
     "output_type": "execute_result"
    }
   ],
   "source": [
    "IG = (1+D1*x)**(-1*p) \n",
    "IG"
   ]
  },
  {
   "cell_type": "code",
   "execution_count": 26,
   "metadata": {},
   "outputs": [
    {
     "data": {
      "image/png": "[encoded data removed]",
      "text/latex": [
       "$$- \\frac{1}{d_{1}} \\left(\\begin{cases} 0 & \\text{for}\\: - p = -1 \\\\\\frac{1}{- p + 1} & \\text{otherwise} \\end{cases}\\right) + \\frac{1}{d_{1}} \\left(\\begin{cases} \\log{\\left (d_{1} + 1 \\right )} & \\text{for}\\: - p = -1 \\\\\\frac{\\left(d_{1} + 1\\right)^{- p + 1}}{- p + 1} & \\text{otherwise} \\end{cases}\\right)$$"
      ],
      "text/plain": [
       "                         ⎧ log(d₁ + 1)    for -p = -1\n",
       "                         ⎪                           \n",
       "  ⎧  0     for -p = -1   ⎪        -p + 1             \n",
       "  ⎪                      ⎨(d₁ + 1)                   \n",
       "  ⎨  1                   ⎪──────────────   otherwise \n",
       "  ⎪──────   otherwise    ⎪    -p + 1                 \n",
       "  ⎩-p + 1                ⎩                           \n",
       "- ──────────────────── + ────────────────────────────\n",
       "           d₁                         d₁             "
      ]
     },
     "execution_count": 26,
     "metadata": {},
     "output_type": "execute_result"
    }
   ],
   "source": [
    "sympy.integrate(IG,(x,0,1))"
   ]
  },
  {
   "cell_type": "code",
   "execution_count": null,
   "metadata": {
    "collapsed": true
   },
   "outputs": [],
   "source": [
    "#this is when we map to alpha-form after k form in the simple case where there are only two terms. if only one term, then we are done already. if more, need to think about how this works\n",
    "#if p is the power < 0,\n",
    "#general form is (R(1-p))^{-1} * [(R+1)^{1-p} - 1]"
   ]
  },
  {
   "cell_type": "code",
   "execution_count": 9,
   "metadata": {},
   "outputs": [],
   "source": [
    "#fintergral reduces a complex expression down to a _pterm_ that can be evaluated formulaically to Gamma functions - to this tonight because its easy\n",
    "#in the forms, there is analysis of causal momenta followed by isotropic k-momenta followed by mass propagation; for each there is a group action that updates the phase space\n",
    "class fintegral(object):   \n",
    "    #this is the main guy - the assumption is we have reduced an f_integral down to a primitive simple form that can be easily evaluated\n",
    "    class _pterm_(object):\n",
    "        #parse out each term so that we know its power etc.\n",
    "        #props may take limiting values e.g. epsilons\n",
    "        def __init__(self, s, props={}):\n",
    "            pass\n",
    "        \n",
    "        @property #keep track of what integrations still need to be done such as K radial, x1, x2 etc.\n",
    "        def intergration_measure_terms(self):pass\n",
    "            \n",
    "        def __with_isolated_momentum__(self, p):pass\n",
    "        \n",
    "        def __fg_form__(self):pass #test method when we have x measures - the delta function integration at least for one x is A^(-1) [g-f(x)]^(p+1) - not sure how that factors for multiple edges/dummys\n",
    "        \n",
    "        #normal form: collect K coefficients, and normalise the masses \n",
    "        #for x integrations, deal with the same case as an exception - create the fg_form\n",
    "        #study the more general form\n",
    "        \n",
    "    \n",
    "    ####################\n",
    "    def __init__(self, integrand, props = {}):\n",
    "        self._integrand = self.__in_k__(integrand)        \n",
    "    \n",
    "    def __in_k__(self):\n",
    "        #might move this to where we deal with propagators in terms of choice of momenta? omegas might need some treeatment too although looks easier\n",
    "        #complete the squares is a special case here but think more generally about translation invariance\n",
    "        #for each simple term, i should isolate mementum squared from mass\n",
    "        pass\n",
    "\n",
    "    \n",
    "    @property\n",
    "    def terms(self):  pass \n",
    "        #.as_ordered_factors()\n",
    "    @property\n",
    "    def uv_convergent_terms(self):  pass\n",
    "    @property\n",
    "    def is_simple(self):\n",
    "        \"\"\"Must have nothing in the numerator and be a power of single prop term\"\"\"\n",
    "        pass\n",
    "    @property\n",
    "    def is_simple_product(self):pass\n",
    "    @property\n",
    "    def as_gamma_functions(self):pass\n",
    "    \n",
    "    def in_parametric_form(self, type_=0):pass\n",
    "    \n",
    "    #i can do the K integration if I am simple, and then i may have to do an x integration(s)\n",
    "    \n",
    "    def __repr__(self):  return self._repr_latex_()  \n",
    "    def _repr_latex_(self): return latex(self._integrand,  mode='inline')\n",
    "    \n",
    "    "
   ]
  },
  {
   "cell_type": "markdown",
   "metadata": {},
   "source": [
    "# Propagators"
   ]
  },
  {
   "cell_type": "code",
   "execution_count": 37,
   "metadata": {
    "collapsed": true
   },
   "outputs": [],
   "source": [
    "from sympy import Symbol, symbols\n",
    "from IPython.display import display, Math, Latex\n",
    "import itertools\n",
    "from functools import reduce\n",
    "from operator import add,mul\n",
    "import numpy as np\n",
    "class cpropagator(object):\n",
    "    def __init__(self, pid=0, power=1,causal_type=1, D=0, show_subscript=True, use_compact_symbols=False ):\n",
    "        w,k,  = symbols(\"\\omega k\")\n",
    "        qual = str(pid) if show_subscript else \"\"\n",
    "        m = Symbol(\"m\"+qual)\n",
    "        D = Symbol(\"D\"+qual)\n",
    "        A = Symbol(\"A\"+qual)\n",
    "        self.Pinv = causal_type*I*w+D*k**2+m if use_compact_symbols==False else -I*w+A\n",
    "        self._pole = solve(self.Pinv, Symbol(\"\\omega\"))[0]\n",
    "        self.Pinv = self.Pinv**power\n",
    "        self._pole_order = power\n",
    "        self._causal_type = causal_type\n",
    "    def display(self):return self.Pinv**-1   \n",
    "    \n",
    "    #todo - define equality on Pid and causality so that we can make basis sets\n",
    "    @property\n",
    "    def value(self): return self.Pinv**-1\n",
    "    @property\n",
    "    def pole(self): return self._pole\n",
    "    @property\n",
    "    def pole_order(self): return self._pole_order\n",
    "    @property\n",
    "    def causal_type(self): return self._causal_type\n",
    "    def __repr__(self):  return self._repr_latex_()  \n",
    "    def _repr_latex_(self):   return latex(self.display(),  mode='inline')\n",
    "    \n",
    "    def __ab_ratio_alpha_representation__(self):\n",
    "        #if there is a k, get the coefficient of k and leave that instead of 1 - idea is that we can integrate that out and then do the alpa integration\n",
    "        #assert that there are two terms in self\n",
    "        #we can get the ordered ratio of B/(A-B) and rewrite with the alpha parameter\n",
    "        \n",
    "        #assume A or AB\n",
    "        #1. find k coefficients after doing the A-B\n",
    "        #2. find the propagator ratio, note p\n",
    "        #at this point Rx can be a complicated polynomial inside the K form and we may have to find some good tricks to dealwith it algebraically\n",
    "        #3. write down the integral result \n",
    "        pass\n",
    "    \n",
    "    def _pset__():\n",
    "        pass #some helper to make sets but compact into powers of propagators - that way we can ask for combinations of higher orders but limit types with k\n",
    "    \n",
    "    def __display__(pset):\n",
    "        return [p.display() for p in pset]\n",
    "    \n",
    "    def generate_propagator_basis(n,power=1,combination_order=1,filter_loop_degenerates=True,for_display=False):\n",
    "        \"\"\"alot going on here - we can choose n distinct or n of k types of propagators \n",
    "        - we can combine them into products of propagators which are compacted into powers leading to multiple poles\"\"\"\n",
    "        Ps = []\n",
    "        for i in range(n):\n",
    "            for p in range(0,power):\n",
    "                for causality in [-1,1]: Ps.append(cpropagator(i, power=p+1, causal_type=causality))\n",
    "         \n",
    "        L =  Ps#list(itertools.chain(*Ps))\n",
    "        if len(L) < combination_order:  combination_order = len(L)\n",
    "        if combination_order == 1:  return [cpropagator.__make_list__(L,for_display)] #make it a list of lists for consistency\n",
    "        else:\n",
    "            res = []\n",
    "            for i in range(2,combination_order+1):\n",
    "                combo = list(itertools.combinations(L,i))#[t for t in  ]\n",
    "                #i think this is where i check they are non degenerate i.e. cannot all have the same causal type if they are to be in a loop by momentum conservation\n",
    "                combo = [cpropagator.__make_list__(c,for_display) for c in combo  ]#if not cpropagator.__is_degenerate_loop__(c)\n",
    "                \n",
    "                res.append(combo)\n",
    "            return res\n",
    "    \n",
    "    def __make_list__(pset,display):\n",
    "        return list(pset) if not display else cpropagator.__display__(pset) \n",
    "        \n",
    "    def __is_degenerate_loop__(pset):\n",
    "        return len(np.unique([c.causal_type for c in pset])) == 1      \n",
    "    \n",
    "    def __eval_combinations__(combinations):\n",
    "        res_set = []\n",
    "        for order in combinations:\n",
    "            res = []\n",
    "            for pset in order:  \n",
    "                #we add the sum of residues knowing terms in the definition cancels with integration measure\n",
    "                res.append(reduce(operator.add, [r[\"integration\"] for r in cpropagator.residues(pset)], 0))\n",
    "            res_set.append(res)\n",
    "        return res_set\n",
    "       \n",
    "    def residues(pset,return_smallest=True):\n",
    "        W = Symbol(\"\\omega\")\n",
    "        def _diff_(s,o):return s\n",
    "        def sum_poles(st): return np.sum([p[\"order\"] for p in st])\n",
    "            \n",
    "        sets = {1:[], -1:[]}\n",
    "        residual_base = reduce(operator.mul, [p.value for p in pset], 1)\n",
    "        for p in pset:\n",
    "            d = {\"pole\":p.pole}\n",
    "            d[\"order\"] = p.pole_order\n",
    "            d[\"residual\"] = simplify(residual_base / p.value)\n",
    "            #generally we take the mth derivitive of g and evaluate there, where m is pole order\n",
    "            if p.pole_order > 1:d[\"residual\"]= diff(d[\"residual\"],W,n=p.pole_order)\n",
    "            d[\"causal_type\"] = p.causal_type\n",
    "            d[\"integration\"] = d[\"residual\"].subs(W,p.pole)\n",
    "            sets[d[\"causal_type\"]].append(d)\n",
    "        #this could become a more complex choice; maybe if the smaller set gives rise to imaginary derivs/residuals I dont want them?\n",
    "        #unless by some cheeky invariance argument i can ignore the causality here - but I doubt it.\n",
    "        #if they are the same size, take the one with the fewest poles - probably what i should have done anyway\n",
    "        #if len(sets[1]) == len(sets[-1]): return sets[1] if sum_poles(sets[1]) < sum_poles(sets[-1]) else sets[-1]\n",
    "        return sets[1] if len(sets[1]) < len(sets[-1]) else sets[-1]"
   ]
  },
  {
   "cell_type": "code",
   "execution_count": 38,
   "metadata": {},
   "outputs": [
    {
     "data": {
      "text/latex": [
       "$\\frac{1}{A_{0} - i \\omega}$"
      ],
      "text/plain": [
       "$\\frac{1}{A_{0} - i \\omega}$"
      ]
     },
     "execution_count": 38,
     "metadata": {},
     "output_type": "execute_result"
    }
   ],
   "source": [
    "cpropagator(show_subscript=True,power=1,use_compact_symbols=True)"
   ]
  },
  {
   "cell_type": "code",
   "execution_count": 39,
   "metadata": {
    "collapsed": true
   },
   "outputs": [],
   "source": [
    "#cpropagator.generate_propagator_basis(2, power=2, combination_order=5,for_display=True)"
   ]
  },
  {
   "cell_type": "code",
   "execution_count": 40,
   "metadata": {},
   "outputs": [
    {
     "data": {
      "image/png": "[encoded data removed]",
      "text/latex": [
       "$$\\left [ \\left [ \\left [ \\frac{1}{D_{0} k^{2} - i \\omega + m_{0}}, \\quad \\frac{1}{D_{0} k^{2} + i \\omega + m_{0}}\\right ], \\quad \\left [ \\frac{1}{D_{0} k^{2} - i \\omega + m_{0}}, \\quad \\frac{1}{\\left(D_{0} k^{2} - i \\omega + m_{0}\\right)^{2}}\\right ], \\quad \\left [ \\frac{1}{D_{0} k^{2} - i \\omega + m_{0}}, \\quad \\frac{1}{\\left(D_{0} k^{2} + i \\omega + m_{0}\\right)^{2}}\\right ], \\quad \\left [ \\frac{1}{D_{0} k^{2} - i \\omega + m_{0}}, \\quad \\frac{1}{D_{1} k^{2} - i \\omega + m_{1}}\\right ], \\quad \\left [ \\frac{1}{D_{0} k^{2} - i \\omega + m_{0}}, \\quad \\frac{1}{D_{1} k^{2} + i \\omega + m_{1}}\\right ], \\quad \\left [ \\frac{1}{D_{0} k^{2} - i \\omega + m_{0}}, \\quad \\frac{1}{\\left(D_{1} k^{2} - i \\omega + m_{1}\\right)^{2}}\\right ], \\quad \\left [ \\frac{1}{D_{0} k^{2} - i \\omega + m_{0}}, \\quad \\frac{1}{\\left(D_{1} k^{2} + i \\omega + m_{1}\\right)^{2}}\\right ], \\quad \\left [ \\frac{1}{D_{0} k^{2} + i \\omega + m_{0}}, \\quad \\frac{1}{\\left(D_{0} k^{2} - i \\omega + m_{0}\\right)^{2}}\\right ], \\quad \\left [ \\frac{1}{D_{0} k^{2} + i \\omega + m_{0}}, \\quad \\frac{1}{\\left(D_{0} k^{2} + i \\omega + m_{0}\\right)^{2}}\\right ], \\quad \\left [ \\frac{1}{D_{0} k^{2} + i \\omega + m_{0}}, \\quad \\frac{1}{D_{1} k^{2} - i \\omega + m_{1}}\\right ], \\quad \\left [ \\frac{1}{D_{0} k^{2} + i \\omega + m_{0}}, \\quad \\frac{1}{D_{1} k^{2} + i \\omega + m_{1}}\\right ], \\quad \\left [ \\frac{1}{D_{0} k^{2} + i \\omega + m_{0}}, \\quad \\frac{1}{\\left(D_{1} k^{2} - i \\omega + m_{1}\\right)^{2}}\\right ], \\quad \\left [ \\frac{1}{D_{0} k^{2} + i \\omega + m_{0}}, \\quad \\frac{1}{\\left(D_{1} k^{2} + i \\omega + m_{1}\\right)^{2}}\\right ], \\quad \\left [ \\frac{1}{\\left(D_{0} k^{2} - i \\omega + m_{0}\\right)^{2}}, \\quad \\frac{1}{\\left(D_{0} k^{2} + i \\omega + m_{0}\\right)^{2}}\\right ], \\quad \\left [ \\frac{1}{\\left(D_{0} k^{2} - i \\omega + m_{0}\\right)^{2}}, \\quad \\frac{1}{D_{1} k^{2} - i \\omega + m_{1}}\\right ], \\quad \\left [ \\frac{1}{\\left(D_{0} k^{2} - i \\omega + m_{0}\\right)^{2}}, \\quad \\frac{1}{D_{1} k^{2} + i \\omega + m_{1}}\\right ], \\quad \\left [ \\frac{1}{\\left(D_{0} k^{2} - i \\omega + m_{0}\\right)^{2}}, \\quad \\frac{1}{\\left(D_{1} k^{2} - i \\omega + m_{1}\\right)^{2}}\\right ], \\quad \\left [ \\frac{1}{\\left(D_{0} k^{2} - i \\omega + m_{0}\\right)^{2}}, \\quad \\frac{1}{\\left(D_{1} k^{2} + i \\omega + m_{1}\\right)^{2}}\\right ], \\quad \\left [ \\frac{1}{\\left(D_{0} k^{2} + i \\omega + m_{0}\\right)^{2}}, \\quad \\frac{1}{D_{1} k^{2} - i \\omega + m_{1}}\\right ], \\quad \\left [ \\frac{1}{\\left(D_{0} k^{2} + i \\omega + m_{0}\\right)^{2}}, \\quad \\frac{1}{D_{1} k^{2} + i \\omega + m_{1}}\\right ], \\quad \\left [ \\frac{1}{\\left(D_{0} k^{2} + i \\omega + m_{0}\\right)^{2}}, \\quad \\frac{1}{\\left(D_{1} k^{2} - i \\omega + m_{1}\\right)^{2}}\\right ], \\quad \\left [ \\frac{1}{\\left(D_{0} k^{2} + i \\omega + m_{0}\\right)^{2}}, \\quad \\frac{1}{\\left(D_{1} k^{2} + i \\omega + m_{1}\\right)^{2}}\\right ], \\quad \\left [ \\frac{1}{D_{1} k^{2} - i \\omega + m_{1}}, \\quad \\frac{1}{D_{1} k^{2} + i \\omega + m_{1}}\\right ], \\quad \\left [ \\frac{1}{D_{1} k^{2} - i \\omega + m_{1}}, \\quad \\frac{1}{\\left(D_{1} k^{2} - i \\omega + m_{1}\\right)^{2}}\\right ], \\quad \\left [ \\frac{1}{D_{1} k^{2} - i \\omega + m_{1}}, \\quad \\frac{1}{\\left(D_{1} k^{2} + i \\omega + m_{1}\\right)^{2}}\\right ], \\quad \\left [ \\frac{1}{D_{1} k^{2} + i \\omega + m_{1}}, \\quad \\frac{1}{\\left(D_{1} k^{2} - i \\omega + m_{1}\\right)^{2}}\\right ], \\quad \\left [ \\frac{1}{D_{1} k^{2} + i \\omega + m_{1}}, \\quad \\frac{1}{\\left(D_{1} k^{2} + i \\omega + m_{1}\\right)^{2}}\\right ], \\quad \\left [ \\frac{1}{\\left(D_{1} k^{2} - i \\omega + m_{1}\\right)^{2}}, \\quad \\frac{1}{\\left(D_{1} k^{2} + i \\omega + m_{1}\\right)^{2}}\\right ]\\right ], \\quad \\left [ \\left [ \\frac{1}{D_{0} k^{2} - i \\omega + m_{0}}, \\quad \\frac{1}{D_{0} k^{2} + i \\omega + m_{0}}, \\quad \\frac{1}{\\left(D_{0} k^{2} - i \\omega + m_{0}\\right)^{2}}\\right ], \\quad \\left [ \\frac{1}{D_{0} k^{2} - i \\omega + m_{0}}, \\quad \\frac{1}{D_{0} k^{2} + i \\omega + m_{0}}, \\quad \\frac{1}{\\left(D_{0} k^{2} + i \\omega + m_{0}\\right)^{2}}\\right ], \\quad \\left [ \\frac{1}{D_{0} k^{2} - i \\omega + m_{0}}, \\quad \\frac{1}{D_{0} k^{2} + i \\omega + m_{0}}, \\quad \\frac{1}{D_{1} k^{2} - i \\omega + m_{1}}\\right ], \\quad \\left [ \\frac{1}{D_{0} k^{2} - i \\omega + m_{0}}, \\quad \\frac{1}{D_{0} k^{2} + i \\omega + m_{0}}, \\quad \\frac{1}{D_{1} k^{2} + i \\omega + m_{1}}\\right ], \\quad \\left [ \\frac{1}{D_{0} k^{2} - i \\omega + m_{0}}, \\quad \\frac{1}{D_{0} k^{2} + i \\omega + m_{0}}, \\quad \\frac{1}{\\left(D_{1} k^{2} - i \\omega + m_{1}\\right)^{2}}\\right ], \\quad \\left [ \\frac{1}{D_{0} k^{2} - i \\omega + m_{0}}, \\quad \\frac{1}{D_{0} k^{2} + i \\omega + m_{0}}, \\quad \\frac{1}{\\left(D_{1} k^{2} + i \\omega + m_{1}\\right)^{2}}\\right ], \\quad \\left [ \\frac{1}{D_{0} k^{2} - i \\omega + m_{0}}, \\quad \\frac{1}{\\left(D_{0} k^{2} - i \\omega + m_{0}\\right)^{2}}, \\quad \\frac{1}{\\left(D_{0} k^{2} + i \\omega + m_{0}\\right)^{2}}\\right ], \\quad \\left [ \\frac{1}{D_{0} k^{2} - i \\omega + m_{0}}, \\quad \\frac{1}{\\left(D_{0} k^{2} - i \\omega + m_{0}\\right)^{2}}, \\quad \\frac{1}{D_{1} k^{2} - i \\omega + m_{1}}\\right ], \\quad \\left [ \\frac{1}{D_{0} k^{2} - i \\omega + m_{0}}, \\quad \\frac{1}{\\left(D_{0} k^{2} - i \\omega + m_{0}\\right)^{2}}, \\quad \\frac{1}{D_{1} k^{2} + i \\omega + m_{1}}\\right ], \\quad \\left [ \\frac{1}{D_{0} k^{2} - i \\omega + m_{0}}, \\quad \\frac{1}{\\left(D_{0} k^{2} - i \\omega + m_{0}\\right)^{2}}, \\quad \\frac{1}{\\left(D_{1} k^{2} - i \\omega + m_{1}\\right)^{2}}\\right ], \\quad \\left [ \\frac{1}{D_{0} k^{2} - i \\omega + m_{0}}, \\quad \\frac{1}{\\left(D_{0} k^{2} - i \\omega + m_{0}\\right)^{2}}, \\quad \\frac{1}{\\left(D_{1} k^{2} + i \\omega + m_{1}\\right)^{2}}\\right ], \\quad \\left [ \\frac{1}{D_{0} k^{2} - i \\omega + m_{0}}, \\quad \\frac{1}{\\left(D_{0} k^{2} + i \\omega + m_{0}\\right)^{2}}, \\quad \\frac{1}{D_{1} k^{2} - i \\omega + m_{1}}\\right ], \\quad \\left [ \\frac{1}{D_{0} k^{2} - i \\omega + m_{0}}, \\quad \\frac{1}{\\left(D_{0} k^{2} + i \\omega + m_{0}\\right)^{2}}, \\quad \\frac{1}{D_{1} k^{2} + i \\omega + m_{1}}\\right ], \\quad \\left [ \\frac{1}{D_{0} k^{2} - i \\omega + m_{0}}, \\quad \\frac{1}{\\left(D_{0} k^{2} + i \\omega + m_{0}\\right)^{2}}, \\quad \\frac{1}{\\left(D_{1} k^{2} - i \\omega + m_{1}\\right)^{2}}\\right ], \\quad \\left [ \\frac{1}{D_{0} k^{2} - i \\omega + m_{0}}, \\quad \\frac{1}{\\left(D_{0} k^{2} + i \\omega + m_{0}\\right)^{2}}, \\quad \\frac{1}{\\left(D_{1} k^{2} + i \\omega + m_{1}\\right)^{2}}\\right ], \\quad \\left [ \\frac{1}{D_{0} k^{2} - i \\omega + m_{0}}, \\quad \\frac{1}{D_{1} k^{2} - i \\omega + m_{1}}, \\quad \\frac{1}{D_{1} k^{2} + i \\omega + m_{1}}\\right ], \\quad \\left [ \\frac{1}{D_{0} k^{2} - i \\omega + m_{0}}, \\quad \\frac{1}{D_{1} k^{2} - i \\omega + m_{1}}, \\quad \\frac{1}{\\left(D_{1} k^{2} - i \\omega + m_{1}\\right)^{2}}\\right ], \\quad \\left [ \\frac{1}{D_{0} k^{2} - i \\omega + m_{0}}, \\quad \\frac{1}{D_{1} k^{2} - i \\omega + m_{1}}, \\quad \\frac{1}{\\left(D_{1} k^{2} + i \\omega + m_{1}\\right)^{2}}\\right ], \\quad \\left [ \\frac{1}{D_{0} k^{2} - i \\omega + m_{0}}, \\quad \\frac{1}{D_{1} k^{2} + i \\omega + m_{1}}, \\quad \\frac{1}{\\left(D_{1} k^{2} - i \\omega + m_{1}\\right)^{2}}\\right ], \\quad \\left [ \\frac{1}{D_{0} k^{2} - i \\omega + m_{0}}, \\quad \\frac{1}{D_{1} k^{2} + i \\omega + m_{1}}, \\quad \\frac{1}{\\left(D_{1} k^{2} + i \\omega + m_{1}\\right)^{2}}\\right ], \\quad \\left [ \\frac{1}{D_{0} k^{2} - i \\omega + m_{0}}, \\quad \\frac{1}{\\left(D_{1} k^{2} - i \\omega + m_{1}\\right)^{2}}, \\quad \\frac{1}{\\left(D_{1} k^{2} + i \\omega + m_{1}\\right)^{2}}\\right ], \\quad \\left [ \\frac{1}{D_{0} k^{2} + i \\omega + m_{0}}, \\quad \\frac{1}{\\left(D_{0} k^{2} - i \\omega + m_{0}\\right)^{2}}, \\quad \\frac{1}{\\left(D_{0} k^{2} + i \\omega + m_{0}\\right)^{2}}\\right ], \\quad \\left [ \\frac{1}{D_{0} k^{2} + i \\omega + m_{0}}, \\quad \\frac{1}{\\left(D_{0} k^{2} - i \\omega + m_{0}\\right)^{2}}, \\quad \\frac{1}{D_{1} k^{2} - i \\omega + m_{1}}\\right ], \\quad \\left [ \\frac{1}{D_{0} k^{2} + i \\omega + m_{0}}, \\quad \\frac{1}{\\left(D_{0} k^{2} - i \\omega + m_{0}\\right)^{2}}, \\quad \\frac{1}{D_{1} k^{2} + i \\omega + m_{1}}\\right ], \\quad \\left [ \\frac{1}{D_{0} k^{2} + i \\omega + m_{0}}, \\quad \\frac{1}{\\left(D_{0} k^{2} - i \\omega + m_{0}\\right)^{2}}, \\quad \\frac{1}{\\left(D_{1} k^{2} - i \\omega + m_{1}\\right)^{2}}\\right ], \\quad \\left [ \\frac{1}{D_{0} k^{2} + i \\omega + m_{0}}, \\quad \\frac{1}{\\left(D_{0} k^{2} - i \\omega + m_{0}\\right)^{2}}, \\quad \\frac{1}{\\left(D_{1} k^{2} + i \\omega + m_{1}\\right)^{2}}\\right ], \\quad \\left [ \\frac{1}{D_{0} k^{2} + i \\omega + m_{0}}, \\quad \\frac{1}{\\left(D_{0} k^{2} + i \\omega + m_{0}\\right)^{2}}, \\quad \\frac{1}{D_{1} k^{2} - i \\omega + m_{1}}\\right ], \\quad \\left [ \\frac{1}{D_{0} k^{2} + i \\omega + m_{0}}, \\quad \\frac{1}{\\left(D_{0} k^{2} + i \\omega + m_{0}\\right)^{2}}, \\quad \\frac{1}{D_{1} k^{2} + i \\omega + m_{1}}\\right ], \\quad \\left [ \\frac{1}{D_{0} k^{2} + i \\omega + m_{0}}, \\quad \\frac{1}{\\left(D_{0} k^{2} + i \\omega + m_{0}\\right)^{2}}, \\quad \\frac{1}{\\left(D_{1} k^{2} - i \\omega + m_{1}\\right)^{2}}\\right ], \\quad \\left [ \\frac{1}{D_{0} k^{2} + i \\omega + m_{0}}, \\quad \\frac{1}{\\left(D_{0} k^{2} + i \\omega + m_{0}\\right)^{2}}, \\quad \\frac{1}{\\left(D_{1} k^{2} + i \\omega + m_{1}\\right)^{2}}\\right ], \\quad \\left [ \\frac{1}{D_{0} k^{2} + i \\omega + m_{0}}, \\quad \\frac{1}{D_{1} k^{2} - i \\omega + m_{1}}, \\quad \\frac{1}{D_{1} k^{2} + i \\omega + m_{1}}\\right ], \\quad \\left [ \\frac{1}{D_{0} k^{2} + i \\omega + m_{0}}, \\quad \\frac{1}{D_{1} k^{2} - i \\omega + m_{1}}, \\quad \\frac{1}{\\left(D_{1} k^{2} - i \\omega + m_{1}\\right)^{2}}\\right ], \\quad \\left [ \\frac{1}{D_{0} k^{2} + i \\omega + m_{0}}, \\quad \\frac{1}{D_{1} k^{2} - i \\omega + m_{1}}, \\quad \\frac{1}{\\left(D_{1} k^{2} + i \\omega + m_{1}\\right)^{2}}\\right ], \\quad \\left [ \\frac{1}{D_{0} k^{2} + i \\omega + m_{0}}, \\quad \\frac{1}{D_{1} k^{2} + i \\omega + m_{1}}, \\quad \\frac{1}{\\left(D_{1} k^{2} - i \\omega + m_{1}\\right)^{2}}\\right ], \\quad \\left [ \\frac{1}{D_{0} k^{2} + i \\omega + m_{0}}, \\quad \\frac{1}{D_{1} k^{2} + i \\omega + m_{1}}, \\quad \\frac{1}{\\left(D_{1} k^{2} + i \\omega + m_{1}\\right)^{2}}\\right ], \\quad \\left [ \\frac{1}{D_{0} k^{2} + i \\omega + m_{0}}, \\quad \\frac{1}{\\left(D_{1} k^{2} - i \\omega + m_{1}\\right)^{2}}, \\quad \\frac{1}{\\left(D_{1} k^{2} + i \\omega + m_{1}\\right)^{2}}\\right ], \\quad \\left [ \\frac{1}{\\left(D_{0} k^{2} - i \\omega + m_{0}\\right)^{2}}, \\quad \\frac{1}{\\left(D_{0} k^{2} + i \\omega + m_{0}\\right)^{2}}, \\quad \\frac{1}{D_{1} k^{2} - i \\omega + m_{1}}\\right ], \\quad \\left [ \\frac{1}{\\left(D_{0} k^{2} - i \\omega + m_{0}\\right)^{2}}, \\quad \\frac{1}{\\left(D_{0} k^{2} + i \\omega + m_{0}\\right)^{2}}, \\quad \\frac{1}{D_{1} k^{2} + i \\omega + m_{1}}\\right ], \\quad \\left [ \\frac{1}{\\left(D_{0} k^{2} - i \\omega + m_{0}\\right)^{2}}, \\quad \\frac{1}{\\left(D_{0} k^{2} + i \\omega + m_{0}\\right)^{2}}, \\quad \\frac{1}{\\left(D_{1} k^{2} - i \\omega + m_{1}\\right)^{2}}\\right ], \\quad \\left [ \\frac{1}{\\left(D_{0} k^{2} - i \\omega + m_{0}\\right)^{2}}, \\quad \\frac{1}{\\left(D_{0} k^{2} + i \\omega + m_{0}\\right)^{2}}, \\quad \\frac{1}{\\left(D_{1} k^{2} + i \\omega + m_{1}\\right)^{2}}\\right ], \\quad \\left [ \\frac{1}{\\left(D_{0} k^{2} - i \\omega + m_{0}\\right)^{2}}, \\quad \\frac{1}{D_{1} k^{2} - i \\omega + m_{1}}, \\quad \\frac{1}{D_{1} k^{2} + i \\omega + m_{1}}\\right ], \\quad \\left [ \\frac{1}{\\left(D_{0} k^{2} - i \\omega + m_{0}\\right)^{2}}, \\quad \\frac{1}{D_{1} k^{2} - i \\omega + m_{1}}, \\quad \\frac{1}{\\left(D_{1} k^{2} - i \\omega + m_{1}\\right)^{2}}\\right ], \\quad \\left [ \\frac{1}{\\left(D_{0} k^{2} - i \\omega + m_{0}\\right)^{2}}, \\quad \\frac{1}{D_{1} k^{2} - i \\omega + m_{1}}, \\quad \\frac{1}{\\left(D_{1} k^{2} + i \\omega + m_{1}\\right)^{2}}\\right ], \\quad \\left [ \\frac{1}{\\left(D_{0} k^{2} - i \\omega + m_{0}\\right)^{2}}, \\quad \\frac{1}{D_{1} k^{2} + i \\omega + m_{1}}, \\quad \\frac{1}{\\left(D_{1} k^{2} - i \\omega + m_{1}\\right)^{2}}\\right ], \\quad \\left [ \\frac{1}{\\left(D_{0} k^{2} - i \\omega + m_{0}\\right)^{2}}, \\quad \\frac{1}{D_{1} k^{2} + i \\omega + m_{1}}, \\quad \\frac{1}{\\left(D_{1} k^{2} + i \\omega + m_{1}\\right)^{2}}\\right ], \\quad \\left [ \\frac{1}{\\left(D_{0} k^{2} - i \\omega + m_{0}\\right)^{2}}, \\quad \\frac{1}{\\left(D_{1} k^{2} - i \\omega + m_{1}\\right)^{2}}, \\quad \\frac{1}{\\left(D_{1} k^{2} + i \\omega + m_{1}\\right)^{2}}\\right ], \\quad \\left [ \\frac{1}{\\left(D_{0} k^{2} + i \\omega + m_{0}\\right)^{2}}, \\quad \\frac{1}{D_{1} k^{2} - i \\omega + m_{1}}, \\quad \\frac{1}{D_{1} k^{2} + i \\omega + m_{1}}\\right ], \\quad \\left [ \\frac{1}{\\left(D_{0} k^{2} + i \\omega + m_{0}\\right)^{2}}, \\quad \\frac{1}{D_{1} k^{2} - i \\omega + m_{1}}, \\quad \\frac{1}{\\left(D_{1} k^{2} - i \\omega + m_{1}\\right)^{2}}\\right ], \\quad \\left [ \\frac{1}{\\left(D_{0} k^{2} + i \\omega + m_{0}\\right)^{2}}, \\quad \\frac{1}{D_{1} k^{2} - i \\omega + m_{1}}, \\quad \\frac{1}{\\left(D_{1} k^{2} + i \\omega + m_{1}\\right)^{2}}\\right ], \\quad \\left [ \\frac{1}{\\left(D_{0} k^{2} + i \\omega + m_{0}\\right)^{2}}, \\quad \\frac{1}{D_{1} k^{2} + i \\omega + m_{1}}, \\quad \\frac{1}{\\left(D_{1} k^{2} - i \\omega + m_{1}\\right)^{2}}\\right ], \\quad \\left [ \\frac{1}{\\left(D_{0} k^{2} + i \\omega + m_{0}\\right)^{2}}, \\quad \\frac{1}{D_{1} k^{2} + i \\omega + m_{1}}, \\quad \\frac{1}{\\left(D_{1} k^{2} + i \\omega + m_{1}\\right)^{2}}\\right ], \\quad \\left [ \\frac{1}{\\left(D_{0} k^{2} + i \\omega + m_{0}\\right)^{2}}, \\quad \\frac{1}{\\left(D_{1} k^{2} - i \\omega + m_{1}\\right)^{2}}, \\quad \\frac{1}{\\left(D_{1} k^{2} + i \\omega + m_{1}\\right)^{2}}\\right ], \\quad \\left [ \\frac{1}{D_{1} k^{2} - i \\omega + m_{1}}, \\quad \\frac{1}{D_{1} k^{2} + i \\omega + m_{1}}, \\quad \\frac{1}{\\left(D_{1} k^{2} - i \\omega + m_{1}\\right)^{2}}\\right ], \\quad \\left [ \\frac{1}{D_{1} k^{2} - i \\omega + m_{1}}, \\quad \\frac{1}{D_{1} k^{2} + i \\omega + m_{1}}, \\quad \\frac{1}{\\left(D_{1} k^{2} + i \\omega + m_{1}\\right)^{2}}\\right ], \\quad \\left [ \\frac{1}{D_{1} k^{2} - i \\omega + m_{1}}, \\quad \\frac{1}{\\left(D_{1} k^{2} - i \\omega + m_{1}\\right)^{2}}, \\quad \\frac{1}{\\left(D_{1} k^{2} + i \\omega + m_{1}\\right)^{2}}\\right ], \\quad \\left [ \\frac{1}{D_{1} k^{2} + i \\omega + m_{1}}, \\quad \\frac{1}{\\left(D_{1} k^{2} - i \\omega + m_{1}\\right)^{2}}, \\quad \\frac{1}{\\left(D_{1} k^{2} + i \\omega + m_{1}\\right)^{2}}\\right ]\\right ]\\right ]$$"
      ],
      "text/plain": [
       "⎡⎡⎡          1                      1          ⎤  ⎡          1                \n",
       "⎢⎢⎢─────────────────────, ─────────────────────⎥, ⎢─────────────────────, ────\n",
       "⎢⎢⎢    2                      2                ⎥  ⎢    2                      \n",
       "⎢⎢⎣D₀⋅k  - ⅈ⋅\\omega + m₀  D₀⋅k  + ⅈ⋅\\omega + m₀⎦  ⎢D₀⋅k  - ⅈ⋅\\omega + m₀  ⎛   \n",
       "⎣⎣                                                ⎣                       ⎝D₀⋅\n",
       "\n",
       "       1            ⎤  ⎡          1                       1            ⎤  ⎡   \n",
       "────────────────────⎥, ⎢─────────────────────, ────────────────────────⎥, ⎢───\n",
       "                   2⎥  ⎢    2                                         2⎥  ⎢   \n",
       " 2                ⎞ ⎥  ⎢D₀⋅k  - ⅈ⋅\\omega + m₀  ⎛    2                ⎞ ⎥  ⎣D₀⋅\n",
       "k  - ⅈ⋅\\omega + m₀⎠ ⎦  ⎣                       ⎝D₀⋅k  + ⅈ⋅\\omega + m₀⎠ ⎦      \n",
       "\n",
       "       1                      1          ⎤  ⎡          1                      \n",
       "──────────────────, ─────────────────────⎥, ⎢─────────────────────, ──────────\n",
       " 2                      2                ⎥  ⎢    2                      2     \n",
       "k  - ⅈ⋅\\omega + m₀  D₁⋅k  - ⅈ⋅\\omega + m₁⎦  ⎣D₀⋅k  - ⅈ⋅\\omega + m₀  D₁⋅k  + ⅈ⋅\n",
       "                                                                              \n",
       "\n",
       "1          ⎤  ⎡          1                       1            ⎤  ⎡          1 \n",
       "───────────⎥, ⎢─────────────────────, ────────────────────────⎥, ⎢────────────\n",
       "           ⎥  ⎢    2                                         2⎥  ⎢    2       \n",
       "\\omega + m₁⎦  ⎢D₀⋅k  - ⅈ⋅\\omega + m₀  ⎛    2                ⎞ ⎥  ⎢D₀⋅k  - ⅈ⋅\\o\n",
       "              ⎣                       ⎝D₁⋅k  - ⅈ⋅\\omega + m₁⎠ ⎦  ⎣            \n",
       "\n",
       "                      1            ⎤  ⎡          1                       1    \n",
       "─────────, ────────────────────────⎥, ⎢─────────────────────, ────────────────\n",
       "                                  2⎥  ⎢    2                                  \n",
       "mega + m₀  ⎛    2                ⎞ ⎥  ⎢D₀⋅k  + ⅈ⋅\\omega + m₀  ⎛    2          \n",
       "           ⎝D₁⋅k  + ⅈ⋅\\omega + m₁⎠ ⎦  ⎣                       ⎝D₀⋅k  - ⅈ⋅\\omeg\n",
       "\n",
       "        ⎤  ⎡          1                       1            ⎤  ⎡          1    \n",
       "────────⎥, ⎢─────────────────────, ────────────────────────⎥, ⎢───────────────\n",
       "       2⎥  ⎢    2                                         2⎥  ⎢    2          \n",
       "      ⎞ ⎥  ⎢D₀⋅k  + ⅈ⋅\\omega + m₀  ⎛    2                ⎞ ⎥  ⎣D₀⋅k  + ⅈ⋅\\omeg\n",
       "a + m₀⎠ ⎦  ⎣                       ⎝D₀⋅k  + ⅈ⋅\\omega + m₀⎠ ⎦                  \n",
       "\n",
       "                  1          ⎤  ⎡          1                      1          ⎤\n",
       "──────, ─────────────────────⎥, ⎢─────────────────────, ─────────────────────⎥\n",
       "            2                ⎥  ⎢    2                      2                ⎥\n",
       "a + m₀  D₁⋅k  - ⅈ⋅\\omega + m₁⎦  ⎣D₀⋅k  + ⅈ⋅\\omega + m₀  D₁⋅k  + ⅈ⋅\\omega + m₁⎦\n",
       "                                                                              \n",
       "\n",
       "  ⎡          1                       1            ⎤  ⎡          1             \n",
       ", ⎢─────────────────────, ────────────────────────⎥, ⎢─────────────────────, ─\n",
       "  ⎢    2                                         2⎥  ⎢    2                   \n",
       "  ⎢D₀⋅k  + ⅈ⋅\\omega + m₀  ⎛    2                ⎞ ⎥  ⎢D₀⋅k  + ⅈ⋅\\omega + m₀  ⎛\n",
       "  ⎣                       ⎝D₁⋅k  - ⅈ⋅\\omega + m₁⎠ ⎦  ⎣                       ⎝\n",
       "\n",
       "          1            ⎤  ⎡           1                         1            ⎤\n",
       "───────────────────────⎥, ⎢────────────────────────, ────────────────────────⎥\n",
       "                      2⎥  ⎢                       2                         2⎥\n",
       "    2                ⎞ ⎥  ⎢⎛    2                ⎞   ⎛    2                ⎞ ⎥\n",
       "D₁⋅k  + ⅈ⋅\\omega + m₁⎠ ⎦  ⎣⎝D₀⋅k  - ⅈ⋅\\omega + m₀⎠   ⎝D₀⋅k  + ⅈ⋅\\omega + m₀⎠ ⎦\n",
       "\n",
       "  ⎡           1                        1          ⎤  ⎡           1            \n",
       ", ⎢────────────────────────, ─────────────────────⎥, ⎢────────────────────────\n",
       "  ⎢                       2      2                ⎥  ⎢                       2\n",
       "  ⎢⎛    2                ⎞   D₁⋅k  - ⅈ⋅\\omega + m₁⎥  ⎢⎛    2                ⎞ \n",
       "  ⎣⎝D₀⋅k  - ⅈ⋅\\omega + m₀⎠                        ⎦  ⎣⎝D₀⋅k  - ⅈ⋅\\omega + m₀⎠ \n",
       "\n",
       "            1          ⎤  ⎡           1                         1            ⎤\n",
       ", ─────────────────────⎥, ⎢────────────────────────, ────────────────────────⎥\n",
       "      2                ⎥  ⎢                       2                         2⎥\n",
       "  D₁⋅k  + ⅈ⋅\\omega + m₁⎥  ⎢⎛    2                ⎞   ⎛    2                ⎞ ⎥\n",
       "                       ⎦  ⎣⎝D₀⋅k  - ⅈ⋅\\omega + m₀⎠   ⎝D₁⋅k  - ⅈ⋅\\omega + m₁⎠ ⎦\n",
       "\n",
       "  ⎡           1                         1            ⎤  ⎡           1         \n",
       ", ⎢────────────────────────, ────────────────────────⎥, ⎢─────────────────────\n",
       "  ⎢                       2                         2⎥  ⎢                     \n",
       "  ⎢⎛    2                ⎞   ⎛    2                ⎞ ⎥  ⎢⎛    2               \n",
       "  ⎣⎝D₀⋅k  - ⅈ⋅\\omega + m₀⎠   ⎝D₁⋅k  + ⅈ⋅\\omega + m₁⎠ ⎦  ⎣⎝D₀⋅k  + ⅈ⋅\\omega + m\n",
       "\n",
       "               1          ⎤  ⎡           1                        1          ⎤\n",
       "───, ─────────────────────⎥, ⎢────────────────────────, ─────────────────────⎥\n",
       "  2      2                ⎥  ⎢                       2      2                ⎥\n",
       " ⎞   D₁⋅k  - ⅈ⋅\\omega + m₁⎥  ⎢⎛    2                ⎞   D₁⋅k  + ⅈ⋅\\omega + m₁⎥\n",
       "₀⎠                        ⎦  ⎣⎝D₀⋅k  + ⅈ⋅\\omega + m₀⎠                        ⎦\n",
       "\n",
       "  ⎡           1                         1            ⎤  ⎡           1         \n",
       ", ⎢────────────────────────, ────────────────────────⎥, ⎢─────────────────────\n",
       "  ⎢                       2                         2⎥  ⎢                     \n",
       "  ⎢⎛    2                ⎞   ⎛    2                ⎞ ⎥  ⎢⎛    2               \n",
       "  ⎣⎝D₀⋅k  + ⅈ⋅\\omega + m₀⎠   ⎝D₁⋅k  - ⅈ⋅\\omega + m₁⎠ ⎦  ⎣⎝D₀⋅k  + ⅈ⋅\\omega + m\n",
       "\n",
       "                1            ⎤  ⎡          1                      1          ⎤\n",
       "───, ────────────────────────⎥, ⎢─────────────────────, ─────────────────────⎥\n",
       "  2                         2⎥  ⎢    2                      2                ⎥\n",
       " ⎞   ⎛    2                ⎞ ⎥  ⎣D₁⋅k  - ⅈ⋅\\omega + m₁  D₁⋅k  + ⅈ⋅\\omega + m₁⎦\n",
       "₀⎠   ⎝D₁⋅k  + ⅈ⋅\\omega + m₁⎠ ⎦                                                \n",
       "\n",
       "  ⎡          1                       1            ⎤  ⎡          1             \n",
       ", ⎢─────────────────────, ────────────────────────⎥, ⎢─────────────────────, ─\n",
       "  ⎢    2                                         2⎥  ⎢    2                   \n",
       "  ⎢D₁⋅k  - ⅈ⋅\\omega + m₁  ⎛    2                ⎞ ⎥  ⎢D₁⋅k  - ⅈ⋅\\omega + m₁  ⎛\n",
       "  ⎣                       ⎝D₁⋅k  - ⅈ⋅\\omega + m₁⎠ ⎦  ⎣                       ⎝\n",
       "\n",
       "          1            ⎤  ⎡          1                       1            ⎤  ⎡\n",
       "───────────────────────⎥, ⎢─────────────────────, ────────────────────────⎥, ⎢\n",
       "                      2⎥  ⎢    2                                         2⎥  ⎢\n",
       "    2                ⎞ ⎥  ⎢D₁⋅k  + ⅈ⋅\\omega + m₁  ⎛    2                ⎞ ⎥  ⎢\n",
       "D₁⋅k  + ⅈ⋅\\omega + m₁⎠ ⎦  ⎣                       ⎝D₁⋅k  - ⅈ⋅\\omega + m₁⎠ ⎦  ⎣\n",
       "\n",
       "          1                       1            ⎤  ⎡           1               \n",
       "─────────────────────, ────────────────────────⎥, ⎢────────────────────────, ─\n",
       "    2                                         2⎥  ⎢                       2   \n",
       "D₁⋅k  + ⅈ⋅\\omega + m₁  ⎛    2                ⎞ ⎥  ⎢⎛    2                ⎞   ⎛\n",
       "                       ⎝D₁⋅k  + ⅈ⋅\\omega + m₁⎠ ⎦  ⎣⎝D₁⋅k  - ⅈ⋅\\omega + m₁⎠   ⎝\n",
       "\n",
       "          1            ⎤⎤  ⎡⎡          1                      1               \n",
       "───────────────────────⎥⎥, ⎢⎢─────────────────────, ─────────────────────, ───\n",
       "                      2⎥⎥  ⎢⎢    2                      2                     \n",
       "    2                ⎞ ⎥⎥  ⎢⎢D₀⋅k  - ⅈ⋅\\omega + m₀  D₀⋅k  + ⅈ⋅\\omega + m₀  ⎛  \n",
       "D₁⋅k  + ⅈ⋅\\omega + m₁⎠ ⎦⎦  ⎣⎣                                              ⎝D₀\n",
       "\n",
       "        1            ⎤  ⎡          1                      1                   \n",
       "─────────────────────⎥, ⎢─────────────────────, ─────────────────────, ───────\n",
       "                    2⎥  ⎢    2                      2                         \n",
       "  2                ⎞ ⎥  ⎢D₀⋅k  - ⅈ⋅\\omega + m₀  D₀⋅k  + ⅈ⋅\\omega + m₀  ⎛    2 \n",
       "⋅k  - ⅈ⋅\\omega + m₀⎠ ⎦  ⎣                                              ⎝D₀⋅k  \n",
       "\n",
       "    1            ⎤  ⎡          1                      1                      1\n",
       "─────────────────⎥, ⎢─────────────────────, ─────────────────────, ───────────\n",
       "                2⎥  ⎢    2                      2                      2      \n",
       "               ⎞ ⎥  ⎣D₀⋅k  - ⅈ⋅\\omega + m₀  D₀⋅k  + ⅈ⋅\\omega + m₀  D₁⋅k  - ⅈ⋅\\\n",
       "+ ⅈ⋅\\omega + m₀⎠ ⎦                                                            \n",
       "\n",
       "          ⎤  ⎡          1                      1                      1       \n",
       "──────────⎥, ⎢─────────────────────, ─────────────────────, ──────────────────\n",
       "          ⎥  ⎢    2                      2                      2             \n",
       "omega + m₁⎦  ⎣D₀⋅k  - ⅈ⋅\\omega + m₀  D₀⋅k  + ⅈ⋅\\omega + m₀  D₁⋅k  + ⅈ⋅\\omega +\n",
       "                                                                              \n",
       "\n",
       "   ⎤  ⎡          1                      1                       1            ⎤\n",
       "───⎥, ⎢─────────────────────, ─────────────────────, ────────────────────────⎥\n",
       "   ⎥  ⎢    2                      2                                         2⎥\n",
       " m₁⎦  ⎢D₀⋅k  - ⅈ⋅\\omega + m₀  D₀⋅k  + ⅈ⋅\\omega + m₀  ⎛    2                ⎞ ⎥\n",
       "      ⎣                                              ⎝D₁⋅k  - ⅈ⋅\\omega + m₁⎠ ⎦\n",
       "\n",
       "  ⎡          1                      1                       1            ⎤  ⎡ \n",
       ", ⎢─────────────────────, ─────────────────────, ────────────────────────⎥, ⎢─\n",
       "  ⎢    2                      2                                         2⎥  ⎢ \n",
       "  ⎢D₀⋅k  - ⅈ⋅\\omega + m₀  D₀⋅k  + ⅈ⋅\\omega + m₀  ⎛    2                ⎞ ⎥  ⎢D\n",
       "  ⎣                                              ⎝D₁⋅k  + ⅈ⋅\\omega + m₁⎠ ⎦  ⎣ \n",
       "\n",
       "         1                       1                         1            ⎤  ⎡  \n",
       "────────────────────, ────────────────────────, ────────────────────────⎥, ⎢──\n",
       "   2                                         2                         2⎥  ⎢  \n",
       "₀⋅k  - ⅈ⋅\\omega + m₀  ⎛    2                ⎞   ⎛    2                ⎞ ⎥  ⎢D₀\n",
       "                      ⎝D₀⋅k  - ⅈ⋅\\omega + m₀⎠   ⎝D₀⋅k  + ⅈ⋅\\omega + m₀⎠ ⎦  ⎣  \n",
       "\n",
       "        1                       1                        1          ⎤  ⎡      \n",
       "───────────────────, ────────────────────────, ─────────────────────⎥, ⎢──────\n",
       "  2                                         2      2                ⎥  ⎢    2 \n",
       "⋅k  - ⅈ⋅\\omega + m₀  ⎛    2                ⎞   D₁⋅k  - ⅈ⋅\\omega + m₁⎥  ⎢D₀⋅k  \n",
       "                     ⎝D₀⋅k  - ⅈ⋅\\omega + m₀⎠                        ⎦  ⎣      \n",
       "\n",
       "    1                       1                        1          ⎤  ⎡          \n",
       "───────────────, ────────────────────────, ─────────────────────⎥, ⎢──────────\n",
       "                                        2      2                ⎥  ⎢    2     \n",
       "- ⅈ⋅\\omega + m₀  ⎛    2                ⎞   D₁⋅k  + ⅈ⋅\\omega + m₁⎥  ⎢D₀⋅k  - ⅈ⋅\n",
       "                 ⎝D₀⋅k  - ⅈ⋅\\omega + m₀⎠                        ⎦  ⎣          \n",
       "\n",
       "1                       1                         1            ⎤  ⎡          1\n",
       "───────────, ────────────────────────, ────────────────────────⎥, ⎢───────────\n",
       "                                    2                         2⎥  ⎢    2      \n",
       "\\omega + m₀  ⎛    2                ⎞   ⎛    2                ⎞ ⎥  ⎢D₀⋅k  - ⅈ⋅\\\n",
       "             ⎝D₀⋅k  - ⅈ⋅\\omega + m₀⎠   ⎝D₁⋅k  - ⅈ⋅\\omega + m₁⎠ ⎦  ⎣           \n",
       "\n",
       "                       1                         1            ⎤  ⎡          1 \n",
       "──────────, ────────────────────────, ────────────────────────⎥, ⎢────────────\n",
       "                                   2                         2⎥  ⎢    2       \n",
       "omega + m₀  ⎛    2                ⎞   ⎛    2                ⎞ ⎥  ⎢D₀⋅k  - ⅈ⋅\\o\n",
       "            ⎝D₀⋅k  - ⅈ⋅\\omega + m₀⎠   ⎝D₁⋅k  + ⅈ⋅\\omega + m₁⎠ ⎦  ⎣            \n",
       "\n",
       "                      1                        1          ⎤  ⎡          1     \n",
       "─────────, ────────────────────────, ─────────────────────⎥, ⎢────────────────\n",
       "                                  2      2                ⎥  ⎢    2           \n",
       "mega + m₀  ⎛    2                ⎞   D₁⋅k  - ⅈ⋅\\omega + m₁⎥  ⎢D₀⋅k  - ⅈ⋅\\omega\n",
       "           ⎝D₀⋅k  + ⅈ⋅\\omega + m₀⎠                        ⎦  ⎣                \n",
       "\n",
       "                  1                        1          ⎤  ⎡          1         \n",
       "─────, ────────────────────────, ─────────────────────⎥, ⎢────────────────────\n",
       "                              2      2                ⎥  ⎢    2               \n",
       " + m₀  ⎛    2                ⎞   D₁⋅k  + ⅈ⋅\\omega + m₁⎥  ⎢D₀⋅k  - ⅈ⋅\\omega + m\n",
       "       ⎝D₀⋅k  + ⅈ⋅\\omega + m₀⎠                        ⎦  ⎣                    \n",
       "\n",
       "              1                         1            ⎤  ⎡          1          \n",
       "─, ────────────────────────, ────────────────────────⎥, ⎢─────────────────────\n",
       "                          2                         2⎥  ⎢    2                \n",
       "₀  ⎛    2                ⎞   ⎛    2                ⎞ ⎥  ⎢D₀⋅k  - ⅈ⋅\\omega + m₀\n",
       "   ⎝D₀⋅k  + ⅈ⋅\\omega + m₀⎠   ⎝D₁⋅k  - ⅈ⋅\\omega + m₁⎠ ⎦  ⎣                     \n",
       "\n",
       "             1                         1            ⎤  ⎡          1           \n",
       ", ────────────────────────, ────────────────────────⎥, ⎢─────────────────────,\n",
       "                         2                         2⎥  ⎢    2                 \n",
       "  ⎛    2                ⎞   ⎛    2                ⎞ ⎥  ⎣D₀⋅k  - ⅈ⋅\\omega + m₀ \n",
       "  ⎝D₀⋅k  + ⅈ⋅\\omega + m₀⎠   ⎝D₁⋅k  + ⅈ⋅\\omega + m₁⎠ ⎦                         \n",
       "\n",
       "           1                      1          ⎤  ⎡          1                  \n",
       " ─────────────────────, ─────────────────────⎥, ⎢─────────────────────, ──────\n",
       "     2                      2                ⎥  ⎢    2                      2 \n",
       " D₁⋅k  - ⅈ⋅\\omega + m₁  D₁⋅k  + ⅈ⋅\\omega + m₁⎦  ⎢D₀⋅k  - ⅈ⋅\\omega + m₀  D₁⋅k  \n",
       "                                                ⎣                             \n",
       "\n",
       "    1                       1            ⎤  ⎡          1                      \n",
       "───────────────, ────────────────────────⎥, ⎢─────────────────────, ──────────\n",
       "                                        2⎥  ⎢    2                      2     \n",
       "- ⅈ⋅\\omega + m₁  ⎛    2                ⎞ ⎥  ⎢D₀⋅k  - ⅈ⋅\\omega + m₀  D₁⋅k  - ⅈ⋅\n",
       "                 ⎝D₁⋅k  - ⅈ⋅\\omega + m₁⎠ ⎦  ⎣                                 \n",
       "\n",
       "1                       1            ⎤  ⎡          1                      1   \n",
       "───────────, ────────────────────────⎥, ⎢─────────────────────, ──────────────\n",
       "                                    2⎥  ⎢    2                      2         \n",
       "\\omega + m₁  ⎛    2                ⎞ ⎥  ⎢D₀⋅k  - ⅈ⋅\\omega + m₀  D₁⋅k  + ⅈ⋅\\ome\n",
       "             ⎝D₁⋅k  + ⅈ⋅\\omega + m₁⎠ ⎦  ⎣                                     \n",
       "\n",
       "                    1            ⎤  ⎡          1                      1       \n",
       "───────, ────────────────────────⎥, ⎢─────────────────────, ──────────────────\n",
       "                                2⎥  ⎢    2                      2             \n",
       "ga + m₁  ⎛    2                ⎞ ⎥  ⎢D₀⋅k  - ⅈ⋅\\omega + m₀  D₁⋅k  + ⅈ⋅\\omega +\n",
       "         ⎝D₁⋅k  - ⅈ⋅\\omega + m₁⎠ ⎦  ⎣                                         \n",
       "\n",
       "                1            ⎤  ⎡          1                       1          \n",
       "───, ────────────────────────⎥, ⎢─────────────────────, ──────────────────────\n",
       "                            2⎥  ⎢    2                                        \n",
       " m₁  ⎛    2                ⎞ ⎥  ⎢D₀⋅k  - ⅈ⋅\\omega + m₀  ⎛    2                \n",
       "     ⎝D₁⋅k  + ⅈ⋅\\omega + m₁⎠ ⎦  ⎣                       ⎝D₁⋅k  - ⅈ⋅\\omega + m₁\n",
       "\n",
       "               1            ⎤  ⎡          1                       1           \n",
       "──, ────────────────────────⎥, ⎢─────────────────────, ───────────────────────\n",
       " 2                         2⎥  ⎢    2                                         \n",
       "⎞   ⎛    2                ⎞ ⎥  ⎢D₀⋅k  + ⅈ⋅\\omega + m₀  ⎛    2                ⎞\n",
       "⎠   ⎝D₁⋅k  + ⅈ⋅\\omega + m₁⎠ ⎦  ⎣                       ⎝D₀⋅k  - ⅈ⋅\\omega + m₀⎠\n",
       "\n",
       "              1            ⎤  ⎡          1                       1            \n",
       "─, ────────────────────────⎥, ⎢─────────────────────, ────────────────────────\n",
       "2                         2⎥  ⎢    2                                         2\n",
       "   ⎛    2                ⎞ ⎥  ⎢D₀⋅k  + ⅈ⋅\\omega + m₀  ⎛    2                ⎞ \n",
       "   ⎝D₀⋅k  + ⅈ⋅\\omega + m₀⎠ ⎦  ⎣                       ⎝D₀⋅k  - ⅈ⋅\\omega + m₀⎠ \n",
       "\n",
       "            1          ⎤  ⎡          1                       1                \n",
       ", ─────────────────────⎥, ⎢─────────────────────, ────────────────────────, ──\n",
       "      2                ⎥  ⎢    2                                         2    \n",
       "  D₁⋅k  - ⅈ⋅\\omega + m₁⎥  ⎢D₀⋅k  + ⅈ⋅\\omega + m₀  ⎛    2                ⎞   D₁\n",
       "                       ⎦  ⎣                       ⎝D₀⋅k  - ⅈ⋅\\omega + m₀⎠     \n",
       "\n",
       "        1          ⎤  ⎡          1                       1                    \n",
       "───────────────────⎥, ⎢─────────────────────, ────────────────────────, ──────\n",
       "  2                ⎥  ⎢    2                                         2        \n",
       "⋅k  + ⅈ⋅\\omega + m₁⎥  ⎢D₀⋅k  + ⅈ⋅\\omega + m₀  ⎛    2                ⎞   ⎛    2\n",
       "                   ⎦  ⎣                       ⎝D₀⋅k  - ⅈ⋅\\omega + m₀⎠   ⎝D₁⋅k \n",
       "\n",
       "     1            ⎤  ⎡          1                       1                     \n",
       "──────────────────⎥, ⎢─────────────────────, ────────────────────────, ───────\n",
       "                 2⎥  ⎢    2                                         2         \n",
       "                ⎞ ⎥  ⎢D₀⋅k  + ⅈ⋅\\omega + m₀  ⎛    2                ⎞   ⎛    2 \n",
       " - ⅈ⋅\\omega + m₁⎠ ⎦  ⎣                       ⎝D₀⋅k  - ⅈ⋅\\omega + m₀⎠   ⎝D₁⋅k  \n",
       "\n",
       "    1            ⎤  ⎡          1                       1                      \n",
       "─────────────────⎥, ⎢─────────────────────, ────────────────────────, ────────\n",
       "                2⎥  ⎢    2                                         2      2   \n",
       "               ⎞ ⎥  ⎢D₀⋅k  + ⅈ⋅\\omega + m₀  ⎛    2                ⎞   D₁⋅k  - \n",
       "+ ⅈ⋅\\omega + m₁⎠ ⎦  ⎣                       ⎝D₀⋅k  + ⅈ⋅\\omega + m₀⎠           \n",
       "\n",
       "  1          ⎤  ⎡          1                       1                        1 \n",
       "─────────────⎥, ⎢─────────────────────, ────────────────────────, ────────────\n",
       "             ⎥  ⎢    2                                         2      2       \n",
       "ⅈ⋅\\omega + m₁⎥  ⎢D₀⋅k  + ⅈ⋅\\omega + m₀  ⎛    2                ⎞   D₁⋅k  + ⅈ⋅\\o\n",
       "             ⎦  ⎣                       ⎝D₀⋅k  + ⅈ⋅\\omega + m₀⎠               \n",
       "\n",
       "         ⎤  ⎡          1                       1                         1    \n",
       "─────────⎥, ⎢─────────────────────, ────────────────────────, ────────────────\n",
       "         ⎥  ⎢    2                                         2                  \n",
       "mega + m₁⎥  ⎢D₀⋅k  + ⅈ⋅\\omega + m₀  ⎛    2                ⎞   ⎛    2          \n",
       "         ⎦  ⎣                       ⎝D₀⋅k  + ⅈ⋅\\omega + m₀⎠   ⎝D₁⋅k  - ⅈ⋅\\omeg\n",
       "\n",
       "        ⎤  ⎡          1                       1                         1     \n",
       "────────⎥, ⎢─────────────────────, ────────────────────────, ─────────────────\n",
       "       2⎥  ⎢    2                                         2                   \n",
       "      ⎞ ⎥  ⎢D₀⋅k  + ⅈ⋅\\omega + m₀  ⎛    2                ⎞   ⎛    2           \n",
       "a + m₁⎠ ⎦  ⎣                       ⎝D₀⋅k  + ⅈ⋅\\omega + m₀⎠   ⎝D₁⋅k  + ⅈ⋅\\omega\n",
       "\n",
       "       ⎤  ⎡          1                      1                      1          \n",
       "───────⎥, ⎢─────────────────────, ─────────────────────, ─────────────────────\n",
       "      2⎥  ⎢    2                      2                      2                \n",
       "     ⎞ ⎥  ⎣D₀⋅k  + ⅈ⋅\\omega + m₀  D₁⋅k  - ⅈ⋅\\omega + m₁  D₁⋅k  + ⅈ⋅\\omega + m₁\n",
       " + m₁⎠ ⎦                                                                      \n",
       "\n",
       "⎤  ⎡          1                      1                       1            ⎤  ⎡\n",
       "⎥, ⎢─────────────────────, ─────────────────────, ────────────────────────⎥, ⎢\n",
       "⎥  ⎢    2                      2                                         2⎥  ⎢\n",
       "⎦  ⎢D₀⋅k  + ⅈ⋅\\omega + m₀  D₁⋅k  - ⅈ⋅\\omega + m₁  ⎛    2                ⎞ ⎥  ⎢\n",
       "   ⎣                                              ⎝D₁⋅k  - ⅈ⋅\\omega + m₁⎠ ⎦  ⎣\n",
       "\n",
       "          1                      1                       1            ⎤  ⎡    \n",
       "─────────────────────, ─────────────────────, ────────────────────────⎥, ⎢────\n",
       "    2                      2                                         2⎥  ⎢    \n",
       "D₀⋅k  + ⅈ⋅\\omega + m₀  D₁⋅k  - ⅈ⋅\\omega + m₁  ⎛    2                ⎞ ⎥  ⎢D₀⋅k\n",
       "                                              ⎝D₁⋅k  + ⅈ⋅\\omega + m₁⎠ ⎦  ⎣    \n",
       "\n",
       "      1                      1                       1            ⎤  ⎡        \n",
       "─────────────────, ─────────────────────, ────────────────────────⎥, ⎢────────\n",
       "2                      2                                         2⎥  ⎢    2   \n",
       "  + ⅈ⋅\\omega + m₀  D₁⋅k  + ⅈ⋅\\omega + m₁  ⎛    2                ⎞ ⎥  ⎢D₀⋅k  + \n",
       "                                          ⎝D₁⋅k  - ⅈ⋅\\omega + m₁⎠ ⎦  ⎣        \n",
       "\n",
       "  1                      1                       1            ⎤  ⎡          1 \n",
       "─────────────, ─────────────────────, ────────────────────────⎥, ⎢────────────\n",
       "                   2                                         2⎥  ⎢    2       \n",
       "ⅈ⋅\\omega + m₀  D₁⋅k  + ⅈ⋅\\omega + m₁  ⎛    2                ⎞ ⎥  ⎢D₀⋅k  + ⅈ⋅\\o\n",
       "                                      ⎝D₁⋅k  + ⅈ⋅\\omega + m₁⎠ ⎦  ⎣            \n",
       "\n",
       "                      1                         1            ⎤  ⎡           1 \n",
       "─────────, ────────────────────────, ────────────────────────⎥, ⎢─────────────\n",
       "                                  2                         2⎥  ⎢             \n",
       "mega + m₀  ⎛    2                ⎞   ⎛    2                ⎞ ⎥  ⎢⎛    2       \n",
       "           ⎝D₁⋅k  - ⅈ⋅\\omega + m₁⎠   ⎝D₁⋅k  + ⅈ⋅\\omega + m₁⎠ ⎦  ⎣⎝D₀⋅k  - ⅈ⋅\\o\n",
       "\n",
       "                        1                        1          ⎤  ⎡           1  \n",
       "───────────, ────────────────────────, ─────────────────────⎥, ⎢──────────────\n",
       "          2                         2      2                ⎥  ⎢              \n",
       "         ⎞   ⎛    2                ⎞   D₁⋅k  - ⅈ⋅\\omega + m₁⎥  ⎢⎛    2        \n",
       "mega + m₀⎠   ⎝D₀⋅k  + ⅈ⋅\\omega + m₀⎠                        ⎦  ⎣⎝D₀⋅k  - ⅈ⋅\\om\n",
       "\n",
       "                       1                        1          ⎤  ⎡           1   \n",
       "──────────, ────────────────────────, ─────────────────────⎥, ⎢───────────────\n",
       "         2                         2      2                ⎥  ⎢               \n",
       "        ⎞   ⎛    2                ⎞   D₁⋅k  + ⅈ⋅\\omega + m₁⎥  ⎢⎛    2         \n",
       "ega + m₀⎠   ⎝D₀⋅k  + ⅈ⋅\\omega + m₀⎠                        ⎦  ⎣⎝D₀⋅k  - ⅈ⋅\\ome\n",
       "\n",
       "                      1                         1            ⎤  ⎡           1 \n",
       "─────────, ────────────────────────, ────────────────────────⎥, ⎢─────────────\n",
       "        2                         2                         2⎥  ⎢             \n",
       "       ⎞   ⎛    2                ⎞   ⎛    2                ⎞ ⎥  ⎢⎛    2       \n",
       "ga + m₀⎠   ⎝D₀⋅k  + ⅈ⋅\\omega + m₀⎠   ⎝D₁⋅k  - ⅈ⋅\\omega + m₁⎠ ⎦  ⎣⎝D₀⋅k  - ⅈ⋅\\o\n",
       "\n",
       "                        1                         1            ⎤  ⎡           \n",
       "───────────, ────────────────────────, ────────────────────────⎥, ⎢───────────\n",
       "          2                         2                         2⎥  ⎢           \n",
       "         ⎞   ⎛    2                ⎞   ⎛    2                ⎞ ⎥  ⎢⎛    2     \n",
       "mega + m₀⎠   ⎝D₀⋅k  + ⅈ⋅\\omega + m₀⎠   ⎝D₁⋅k  + ⅈ⋅\\omega + m₁⎠ ⎦  ⎣⎝D₀⋅k  - ⅈ⋅\n",
       "\n",
       "1                        1                      1          ⎤  ⎡           1   \n",
       "─────────────, ─────────────────────, ─────────────────────⎥, ⎢───────────────\n",
       "            2      2                      2                ⎥  ⎢               \n",
       "           ⎞   D₁⋅k  - ⅈ⋅\\omega + m₁  D₁⋅k  + ⅈ⋅\\omega + m₁⎥  ⎢⎛    2         \n",
       "\\omega + m₀⎠                                               ⎦  ⎣⎝D₀⋅k  - ⅈ⋅\\ome\n",
       "\n",
       "                     1                       1            ⎤  ⎡           1    \n",
       "─────────, ─────────────────────, ────────────────────────⎥, ⎢────────────────\n",
       "        2      2                                         2⎥  ⎢                \n",
       "       ⎞   D₁⋅k  - ⅈ⋅\\omega + m₁  ⎛    2                ⎞ ⎥  ⎢⎛    2          \n",
       "ga + m₀⎠                          ⎝D₁⋅k  - ⅈ⋅\\omega + m₁⎠ ⎦  ⎣⎝D₀⋅k  - ⅈ⋅\\omeg\n",
       "\n",
       "                    1                       1            ⎤  ⎡           1     \n",
       "────────, ─────────────────────, ────────────────────────⎥, ⎢─────────────────\n",
       "       2      2                                         2⎥  ⎢                 \n",
       "      ⎞   D₁⋅k  - ⅈ⋅\\omega + m₁  ⎛    2                ⎞ ⎥  ⎢⎛    2           \n",
       "a + m₀⎠                          ⎝D₁⋅k  + ⅈ⋅\\omega + m₁⎠ ⎦  ⎣⎝D₀⋅k  - ⅈ⋅\\omega\n",
       "\n",
       "                   1                       1            ⎤  ⎡           1      \n",
       "───────, ─────────────────────, ────────────────────────⎥, ⎢──────────────────\n",
       "      2      2                                         2⎥  ⎢                  \n",
       "     ⎞   D₁⋅k  + ⅈ⋅\\omega + m₁  ⎛    2                ⎞ ⎥  ⎢⎛    2            \n",
       " + m₀⎠                          ⎝D₁⋅k  - ⅈ⋅\\omega + m₁⎠ ⎦  ⎣⎝D₀⋅k  - ⅈ⋅\\omega \n",
       "\n",
       "                  1                       1            ⎤  ⎡           1       \n",
       "──────, ─────────────────────, ────────────────────────⎥, ⎢───────────────────\n",
       "     2      2                                         2⎥  ⎢                   \n",
       "    ⎞   D₁⋅k  + ⅈ⋅\\omega + m₁  ⎛    2                ⎞ ⎥  ⎢⎛    2             \n",
       "+ m₀⎠                          ⎝D₁⋅k  + ⅈ⋅\\omega + m₁⎠ ⎦  ⎣⎝D₀⋅k  - ⅈ⋅\\omega +\n",
       "\n",
       "                  1                         1            ⎤  ⎡           1     \n",
       "─────, ────────────────────────, ────────────────────────⎥, ⎢─────────────────\n",
       "    2                         2                         2⎥  ⎢                 \n",
       "   ⎞   ⎛    2                ⎞   ⎛    2                ⎞ ⎥  ⎢⎛    2           \n",
       " m₀⎠   ⎝D₁⋅k  - ⅈ⋅\\omega + m₁⎠   ⎝D₁⋅k  + ⅈ⋅\\omega + m₁⎠ ⎦  ⎣⎝D₀⋅k  + ⅈ⋅\\omega\n",
       "\n",
       "                   1                      1          ⎤  ⎡           1         \n",
       "───────, ─────────────────────, ─────────────────────⎥, ⎢─────────────────────\n",
       "      2      2                      2                ⎥  ⎢                     \n",
       "     ⎞   D₁⋅k  - ⅈ⋅\\omega + m₁  D₁⋅k  + ⅈ⋅\\omega + m₁⎥  ⎢⎛    2               \n",
       " + m₀⎠                                               ⎦  ⎣⎝D₀⋅k  + ⅈ⋅\\omega + m\n",
       "\n",
       "               1                       1            ⎤  ⎡           1          \n",
       "───, ─────────────────────, ────────────────────────⎥, ⎢──────────────────────\n",
       "  2      2                                         2⎥  ⎢                      \n",
       " ⎞   D₁⋅k  - ⅈ⋅\\omega + m₁  ⎛    2                ⎞ ⎥  ⎢⎛    2                \n",
       "₀⎠                          ⎝D₁⋅k  - ⅈ⋅\\omega + m₁⎠ ⎦  ⎣⎝D₀⋅k  + ⅈ⋅\\omega + m₀\n",
       "\n",
       "              1                       1            ⎤  ⎡           1           \n",
       "──, ─────────────────────, ────────────────────────⎥, ⎢───────────────────────\n",
       " 2      2                                         2⎥  ⎢                       \n",
       "⎞   D₁⋅k  - ⅈ⋅\\omega + m₁  ⎛    2                ⎞ ⎥  ⎢⎛    2                ⎞\n",
       "⎠                          ⎝D₁⋅k  + ⅈ⋅\\omega + m₁⎠ ⎦  ⎣⎝D₀⋅k  + ⅈ⋅\\omega + m₀⎠\n",
       "\n",
       "             1                       1            ⎤  ⎡           1            \n",
       "─, ─────────────────────, ────────────────────────⎥, ⎢────────────────────────\n",
       "2      2                                         2⎥  ⎢                       2\n",
       "   D₁⋅k  + ⅈ⋅\\omega + m₁  ⎛    2                ⎞ ⎥  ⎢⎛    2                ⎞ \n",
       "                          ⎝D₁⋅k  - ⅈ⋅\\omega + m₁⎠ ⎦  ⎣⎝D₀⋅k  + ⅈ⋅\\omega + m₀⎠ \n",
       "\n",
       "            1                       1            ⎤  ⎡           1             \n",
       ", ─────────────────────, ────────────────────────⎥, ⎢────────────────────────,\n",
       "      2                                         2⎥  ⎢                       2 \n",
       "  D₁⋅k  + ⅈ⋅\\omega + m₁  ⎛    2                ⎞ ⎥  ⎢⎛    2                ⎞  \n",
       "                         ⎝D₁⋅k  + ⅈ⋅\\omega + m₁⎠ ⎦  ⎣⎝D₀⋅k  + ⅈ⋅\\omega + m₀⎠  \n",
       "\n",
       "            1                         1            ⎤  ⎡          1            \n",
       " ────────────────────────, ────────────────────────⎥, ⎢─────────────────────, \n",
       "                        2                         2⎥  ⎢    2                  \n",
       " ⎛    2                ⎞   ⎛    2                ⎞ ⎥  ⎢D₁⋅k  - ⅈ⋅\\omega + m₁  \n",
       " ⎝D₁⋅k  - ⅈ⋅\\omega + m₁⎠   ⎝D₁⋅k  + ⅈ⋅\\omega + m₁⎠ ⎦  ⎣                       \n",
       "\n",
       "          1                       1            ⎤  ⎡          1                \n",
       "─────────────────────, ────────────────────────⎥, ⎢─────────────────────, ────\n",
       "    2                                         2⎥  ⎢    2                      \n",
       "D₁⋅k  + ⅈ⋅\\omega + m₁  ⎛    2                ⎞ ⎥  ⎢D₁⋅k  - ⅈ⋅\\omega + m₁  D₁⋅k\n",
       "                       ⎝D₁⋅k  - ⅈ⋅\\omega + m₁⎠ ⎦  ⎣                           \n",
       "\n",
       "      1                       1            ⎤  ⎡          1                    \n",
       "─────────────────, ────────────────────────⎥, ⎢─────────────────────, ────────\n",
       "2                                         2⎥  ⎢    2                          \n",
       "  + ⅈ⋅\\omega + m₁  ⎛    2                ⎞ ⎥  ⎢D₁⋅k  - ⅈ⋅\\omega + m₁  ⎛    2  \n",
       "                   ⎝D₁⋅k  + ⅈ⋅\\omega + m₁⎠ ⎦  ⎣                       ⎝D₁⋅k  -\n",
       "\n",
       "   1                         1            ⎤  ⎡          1                     \n",
       "────────────────, ────────────────────────⎥, ⎢─────────────────────, ─────────\n",
       "               2                         2⎥  ⎢    2                           \n",
       "              ⎞   ⎛    2                ⎞ ⎥  ⎢D₁⋅k  + ⅈ⋅\\omega + m₁  ⎛    2   \n",
       " ⅈ⋅\\omega + m₁⎠   ⎝D₁⋅k  + ⅈ⋅\\omega + m₁⎠ ⎦  ⎣                       ⎝D₁⋅k  - \n",
       "\n",
       "  1                         1            ⎤⎤⎤\n",
       "───────────────, ────────────────────────⎥⎥⎥\n",
       "              2                         2⎥⎥⎥\n",
       "             ⎞   ⎛    2                ⎞ ⎥⎥⎥\n",
       "ⅈ⋅\\omega + m₁⎠   ⎝D₁⋅k  + ⅈ⋅\\omega + m₁⎠ ⎦⎦⎦"
      ]
     },
     "execution_count": 40,
     "metadata": {},
     "output_type": "execute_result"
    }
   ],
   "source": [
    "res=cpropagator.generate_propagator_basis(2, power=2, combination_order=3,for_display=False)\n",
    "cpropagator.generate_propagator_basis(2, power=2, combination_order=3,for_display=True)"
   ]
  },
  {
   "cell_type": "code",
   "execution_count": 43,
   "metadata": {},
   "outputs": [],
   "source": [
    "#is there some reason i can not have powers of 4 in the causal space (which become 3 in the other space)\n",
    "import operator\n",
    "int_res = cpropagator.__eval_combinations__(res)"
   ]
  },
  {
   "cell_type": "code",
   "execution_count": 108,
   "metadata": {},
   "outputs": [
    {
     "data": {
      "image/png": "[encoded data removed]",
      "text/latex": [
       "$$\\frac{1}{\\left(2 D_{0} k^{2} + 2 m_{0}\\right) \\left(D_{0} k^{2} + D_{1} k^{2} + m_{0} + m_{1}\\right)}$$"
      ],
      "text/plain": [
       "                    1                     \n",
       "──────────────────────────────────────────\n",
       "⎛      2       ⎞ ⎛    2       2          ⎞\n",
       "⎝2⋅D₀⋅k  + 2⋅m₀⎠⋅⎝D₀⋅k  + D₁⋅k  + m₀ + m₁⎠"
      ]
     },
     "execution_count": 108,
     "metadata": {},
     "output_type": "execute_result"
    }
   ],
   "source": [
    "A=int_res[1][2]\n",
    "A"
   ]
  },
  {
   "cell_type": "code",
   "execution_count": null,
   "metadata": {
    "collapsed": true
   },
   "outputs": [],
   "source": []
  },
  {
   "cell_type": "code",
   "execution_count": 109,
   "metadata": {},
   "outputs": [
    {
     "data": {
      "image/png": "[encoded data removed]",
      "text/latex": [
       "$$\\frac{1}{2 D_{0} k^{2} + 2 m_{0}}$$"
      ],
      "text/plain": [
       "      1       \n",
       "──────────────\n",
       "      2       \n",
       "2⋅D₀⋅k  + 2⋅m₀"
      ]
     },
     "execution_count": 109,
     "metadata": {},
     "output_type": "execute_result"
    }
   ],
   "source": [
    "A = A.as_ordered_factors()[0]\n",
    "A"
   ]
  },
  {
   "cell_type": "code",
   "execution_count": 97,
   "metadata": {},
   "outputs": [
    {
     "data": {
      "image/png": "[encoded data removed]",
      "text/latex": [
       "$$\\left ( k^{2}, \\quad \\frac{m_{0}}{D_{0}}\\right )$$"
      ],
      "text/plain": [
       "⎛ 2  m₀⎞\n",
       "⎜k , ──⎟\n",
       "⎝    D₀⎠"
      ]
     },
     "execution_count": 97,
     "metadata": {},
     "output_type": "execute_result"
    }
   ],
   "source": [
    "B = simplify(A/A.coeff(Symbol(\"k\")**2))#.as_powers_dict()\n",
    "#1 collect the common integer coefficient and store it somewhere - later we will devided everything by product of these\n",
    "#identify the mass term and the momentum term, divide mass by the momentum coefficient\n",
    "B.args"
   ]
  },
  {
   "cell_type": "code",
   "execution_count": 237,
   "metadata": {},
   "outputs": [],
   "source": [
    "class kpropagator(object):\n",
    "    #in this form it should be completely parametric - we should be able to create the Gamma representation on Gamma functions that can be evaluated\n",
    "    def __init__(self, A):\n",
    "        self.A = A\n",
    "        self.num = A.as_numer_denom()[0]\n",
    "        self.denom = A.as_numer_denom()[-1]\n",
    "        self.poly = Poly(self.denom, Symbol(\"k\"))\n",
    "        self.nu = abs(A.args[1])\n",
    "        self.p = int(Poly(self.num, Symbol(\"k\")).degree() / 2) # i dont know if this is right either on the sympy side or on the maths side\n",
    "        \n",
    "    def __validate__(self):\n",
    "        #assert some things here - things we assume\n",
    "        return True\n",
    "    \n",
    "    @property\n",
    "    def normed_mass(self):\n",
    "        c = PP.all_coeffs()\n",
    "        #divide the highest order which is 2 and the 0th order which is the constant - this take the coefficient of k2 and \"norms\" the mass which is everything not in k2\n",
    "        #we should not have any other powers of k unless we are doing something shifty\n",
    "        return c[-1]/c[0] \n",
    "\n",
    "    @property\n",
    "    def gamma_representation(self):\n",
    "        #return formula in gamma functions and unit sphere - i think this is just for fun because i can go all the way under assumption of standard form kprop\n",
    "        pass \n",
    "    \n",
    "    def _is_in_projective_space_(form):#conventional thing to say if we need to intragate out things called alpha_\n",
    "        #if it has alpha parameters\n",
    "        pass\n",
    "     \n",
    "    @property\n",
    "    def integrate(self):\n",
    "        gamma_rep = self.gamma_representation()\n",
    "        #in here we check if there are any alpha params and we get rid of them - if there is only one, we do it the easy way\n",
    "        if kpropagator._is_in_projective_space_(gamma_rep):pass\n",
    "        \n",
    "        return gamma_rep     \n",
    "    \n",
    "    def __repr__(self):  return self._repr_latex_()  \n",
    "    def _repr_latex_(self):   return latex(self.A,  mode='inline')\n",
    "    "
   ]
  },
  {
   "cell_type": "code",
   "execution_count": 247,
   "metadata": {},
   "outputs": [
    {
     "data": {
      "image/png": "[encoded data removed]",
      "text/latex": [
       "$$2$$"
      ],
      "text/plain": [
       "2"
      ]
     },
     "execution_count": 247,
     "metadata": {},
     "output_type": "execute_result"
    }
   ],
   "source": [
    "myp = int_res[0][18]\n",
    "#the general graph will structure the propagators - an option to extract numerical coefficients as a seperate term will be included\n",
    "kpropagator(myp).nu"
   ]
  },
  {
   "cell_type": "code",
   "execution_count": null,
   "metadata": {},
   "outputs": [],
   "source": [
    "sample = res[0][-1]\n",
    "[s.display() for s in sample]"
   ]
  },
  {
   "cell_type": "code",
   "execution_count": null,
   "metadata": {},
   "outputs": [],
   "source": [
    "residual_base = reduce(operator.mul, [p.value for p in sample], 1)\n",
    "res = residual_base /sample[1].value\n",
    "res\n",
    "diff(res,Symbol(\"\\omega\"))"
   ]
  },
  {
   "cell_type": "code",
   "execution_count": null,
   "metadata": {},
   "outputs": [],
   "source": [
    "def residues(pset,return_smallest=True):\n",
    "    def _diff_(s,o):return s\n",
    "    sets = {1:[], -1:[]}\n",
    "    residual_base = reduce(operator.mul, [p.value for p in pset], 1)\n",
    "    for p in pset:\n",
    "        d = {\"pole\":p.pole}\n",
    "        d[\"order\"] = p.pole_order\n",
    "        d[\"residual\"] = simplify(residual_base / p.value)\n",
    "        if p.pole_order > 1:d[\"residual\"]= diff(residual_base / p.pole,Symbol(\"\\omega\"))\n",
    "        d[\"causal_type\"] = p.causal_type\n",
    "        d[\"integration\"] = d[\"residual\"].subs(Symbol(\"\\omega\"),p.pole)\n",
    "        sets[d[\"causal_type\"]].append(d)\n",
    "    return sets[1] if len(sets[1]) < len(sets[-1]) else sets[-1]\n",
    "    \n",
    "residues(sample)#[0][\"residual\"]"
   ]
  },
  {
   "cell_type": "code",
   "execution_count": null,
   "metadata": {},
   "outputs": [],
   "source": [
    "causal_partition(sample)[0][\"integration\"]"
   ]
  },
  {
   "cell_type": "code",
   "execution_count": null,
   "metadata": {
    "collapsed": true
   },
   "outputs": [],
   "source": [
    "def do_integration(thing):\n",
    "    ps = pole_structure(thing)\n",
    "    #find the set whuch has the lowest power and smallest set cardinality\n",
    "    #evalaute the remaining propagator product for all poles in this chose set and take the sum of the residues\n",
    "    return ps\n",
    " \n",
    "#in this one I am going to check that we can choose the easiest or most condenses residue sum and then see what the form is in terms of the original propagators\n",
    "#of particular interest is when we have multiple inputs i.e. multiple poles to evalaute residues for - and how these simplify down"
   ]
  },
  {
   "cell_type": "code",
   "execution_count": null,
   "metadata": {
    "collapsed": true
   },
   "outputs": [],
   "source": [
    "#IS it possible to understand the choice of evaluation in terms of cuts on trees and then construct the equations for the residues that way?\n",
    "#is there a strategy when choosing linearly r planar indepent momenta on edges\n",
    "#we need to consider worst case sceario residue sums and what they look like. How bad does it get in practice or are there \"loop holes\"\n",
    "#if it were to result in tensor integrals a) what does that mean and b) we know we can deal with those anyway\n",
    "#surely there only ever has to be one \"loop\" edge that orientates are pole anyway? - the idea would be to express all others in terms of this k and some ps\n",
    "#os this true for both K and omega. I think so\n",
    "#COMPARE the terms in the residual SUMS with the GRAPH POLYMOMIAL - Maybe there a simple way to plug in omega??"
   ]
  },
  {
   "cell_type": "code",
   "execution_count": 4,
   "metadata": {
    "collapsed": true
   },
   "outputs": [],
   "source": [
    "from sympy import *"
   ]
  },
  {
   "cell_type": "code",
   "execution_count": 5,
   "metadata": {},
   "outputs": [],
   "source": [
    "p1, p2, p3, p4 = symbols(\"p1 p2 p3 p4\")\n",
    "q1, q2 , k = symbols(\"q1 q2 k\")\n",
    "c1 = Eq(p1+p2+p3+p4)\n",
    "c2 = Eq(q1+p1+k)\n",
    "c3 = Eq(q2+p2+k)\n",
    "c4 = Eq(q1+q2+p3+p4)"
   ]
  },
  {
   "cell_type": "code",
   "execution_count": 29,
   "metadata": {},
   "outputs": [
    {
     "data": {
      "image/png": "[encoded data removed]",
      "text/latex": [
       "$$\\left \\{ k : - q_{1} - q_{2}, \\quad p_{1} : q_{2}, \\quad p_{2} : q_{1}, \\quad p_{3} : - p_{4} - q_{1} - q_{2}\\right \\}$$"
      ],
      "text/plain": [
       "{k: -q₁ - q₂, p₁: q₂, p₂: q₁, p₃: -p₄ - q₁ - q₂}"
      ]
     },
     "execution_count": 29,
     "metadata": {},
     "output_type": "execute_result"
    }
   ],
   "source": [
    "solve([c1,c2,c3,c4])"
   ]
  },
  {
   "cell_type": "code",
   "execution_count": 32,
   "metadata": {},
   "outputs": [
    {
     "data": {
      "image/png": "[encoded data removed]",
      "text/latex": [
       "$$\\Gamma{\\left (3 \\right )}$$"
      ],
      "text/plain": [
       "\\Gamma(3)"
      ]
     },
     "execution_count": 32,
     "metadata": {},
     "output_type": "execute_result"
    }
   ],
   "source": [
    "#extend function to create my Gamma functions\n",
    "#http://docs.sympy.org/latest/modules/functions/index.html\n",
    "Function(\"\\Gamma\")(3)"
   ]
  },
  {
   "cell_type": "code",
   "execution_count": null,
   "metadata": {
    "collapsed": true
   },
   "outputs": [],
   "source": []
  }
 ],
 "metadata": {
  "kernelspec": {
   "display_name": "Python 3",
   "language": "python",
   "name": "python3"
  },
  "language_info": {
   "codemirror_mode": {
    "name": "ipython",
    "version": 3
   },
   "file_extension": ".py",
   "mimetype": "text/x-python",
   "name": "python",
   "nbconvert_exporter": "python",
   "pygments_lexer": "ipython3",
   "version": "3.6.3"
  }
 },
 "nbformat": 4,
 "nbformat_minor": 2
}
