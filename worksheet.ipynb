{
 "cells": [
  {
   "cell_type": "markdown",
   "metadata": {},
   "source": [
    "# Towards algorithmic renormalization of reaction-diffusion processes with pQFT\n",
    "\n",
    "Either you:\n",
    "\n",
    "1) are interested in algebraic methods in pQFT - which can expose interesting structure in the theory and/or lead to automation\n",
    "\n",
    "2) work with doi-peliti and could use some utilities - or basic framework for building new tools in python\n",
    "\n",
    "3) would like to learn something about doi-peliti/pQFT in the first place\n",
    "\n",
    "4) have a general curiosity about symbolic or graph programming in python/sympy/numpy"
   ]
  },
  {
   "cell_type": "code",
   "execution_count": null,
   "metadata": {
    "collapsed": true
   },
   "outputs": [],
   "source": [
    "import rg\n",
    "from rg.diagrams import diagram, composition_diagram, diagram_set\n",
    "from rg.interaction import interaction as J \n",
    "from rg.interaction import interaction_identity\n",
    "from rg.interaction import interaction_system\n",
    "from rg.interaction import composite_interaction as G\n",
    "from rg.theory import ftheory\n",
    "from rg.graphs import composite_interaction_graph as fgraph\n",
    "import numpy as np"
   ]
  },
  {
   "cell_type": "code",
   "execution_count": 132,
   "metadata": {},
   "outputs": [
    {
     "data": {
      "image/png": "[encoded data removed]",
      "text/latex": [
       "$$- \\beta \\phi \\left(\\tilde{\\phi} + \\eta\\right)^{2} - \\beta \\phi \\left(\\tilde{\\phi} + \\eta\\right) + \\chi \\phi^{2} \\left(\\tilde{\\phi} + \\eta\\right)^{2} + \\chi \\phi^{2} \\left(\\tilde{\\phi} + \\eta\\right) + \\epsilon \\phi \\left(\\tilde{\\phi} + \\eta\\right)$$"
      ],
      "text/plain": [
       "                        2                               2                   2 \n",
       "- β⋅φ⋅(\\tilde{\\phi} + η)  - β⋅φ⋅(\\tilde{\\phi} + η) + χ⋅φ ⋅(\\tilde{\\phi} + η)  \n",
       "\n",
       "     2                                            \n",
       "+ χ⋅φ ⋅(\\tilde{\\phi} + η) + ε⋅φ⋅(\\tilde{\\phi} + η)"
      ]
     },
     "execution_count": 132,
     "metadata": {},
     "output_type": "execute_result"
    }
   ],
   "source": [
    "from sympy import Symbol,symbols,simplify,init_printing\n",
    "from functools import reduce\n",
    "from operator import add\n",
    "from sympy import expand\n",
    "import numpy as np\n",
    "init_printing()\n",
    "\n",
    "\n",
    "#general helper to organise terms on the operator basis and produce the coefficient matrix\n",
    "from sympy import zeros\n",
    "from sympy import Poly\n",
    "\n",
    "def prolongation_matrix(expr, use_zs=False):\n",
    "    z,pz = symbols(\"\\\\tilde{\\phi} phi\") if not use_zs else symbols(\"z \\partial_z\")\n",
    "    P=Poly(expr,z,pz)\n",
    "    \n",
    "    arr = zeros(P.degree()+1,P.degree()+1)\n",
    "    for i in range(P.degree()+1):\n",
    "        for j in range(P.degree()+1):\n",
    "            term = z**i*pz**j\n",
    "            arr[i,j]=P.coeff_monomial(term)\n",
    "            \n",
    "    return arr\n",
    "\n",
    "def make_rd_process_diagrams(stoch_matrix, rate_symbols=None, perturbed=False, add_dop=False, display_diagrams=False, use_zs=False ):\n",
    "    '''\n",
    "    Using the Q formula for the inf. generator of the semigroup of the factorial moments, \n",
    "    for an example process where we know reaction rates kA->lA at certain rates\n",
    "    we can generator the diagrams with the so-called doi-shift applied\n",
    "    Diffusion or other particle transport can later be bolted onto this process.\n",
    "    Example usage:\n",
    "    contact_process = np.array([[1,2],[2,1],[1,0] ]) #example process\n",
    "    make_process_diagrams(contact_process,use_zs=True) #for z symbols\n",
    "    make_process_diagrams(contact_process) # for default rate symbols\n",
    "    make_process_diagrams(contact_process,symbols(\"beta,kappa,  epsilon\")) #for custom rate symbols\n",
    "    '''\n",
    "    z,pz = symbols(\"\\\\tilde{\\phi} phi\") if not use_zs else symbols(\"z \\partial_z\")\n",
    "    dop = z*reduce(add, symbols(\"\\partial_t Delta\"),0)*pz\n",
    "    def make_generator(v): return simplify(-(((z+1)**v[1])-((z+1)**v[0]))*pz**v[0])\n",
    "    reactions = len(stoch_matrix)\n",
    "    rates = [Symbol(\"lambda_\"+(str(i))) for i in range(reactions)] if rate_symbols is None else rate_symbols\n",
    "    gens = [rates[i]* make_generator(v) for i, v in enumerate(stoch_matrix)] \n",
    "    pre_action = expand(reduce(add,gens,0))\n",
    "    pre_action = pre_action if not perturbed else pre_action.subs(z, z+Symbol(\"eta\"))\n",
    "    return pre_action if not add_dop else dop + pre_action\n",
    "\n",
    "contact_process = np.array([[1,2],[2,1],[1,0] ])\n",
    "result = make_rd_process_diagrams(contact_process,  symbols(\"beta,chi,epsilon\"), perturbed=False)\n",
    "pert_result = make_rd_process_diagrams(contact_process,  symbols(\"beta,chi,epsilon\"), perturbed=True)\n",
    "pert_result"
   ]
  },
  {
   "cell_type": "code",
   "execution_count": 133,
   "metadata": {},
   "outputs": [
    {
     "data": {
      "image/png": "[encoded data removed]",
      "text/latex": [
       "$$\\left[\\begin{matrix}0 & 0 & 0\\\\0 & - \\beta + \\epsilon & \\chi\\\\0 & - \\beta & \\chi\\end{matrix}\\right]$$"
      ],
      "text/plain": [
       "⎡0    0     0⎤\n",
       "⎢            ⎥\n",
       "⎢0  -β + ε  χ⎥\n",
       "⎢            ⎥\n",
       "⎣0    -β    χ⎦"
      ]
     },
     "execution_count": 133,
     "metadata": {},
     "output_type": "execute_result"
    }
   ],
   "source": [
    "cr = prolongation_matrix(result)\n",
    "cr"
   ]
  },
  {
   "cell_type": "code",
   "execution_count": 134,
   "metadata": {},
   "outputs": [
    {
     "data": {
      "image/png": "[encoded data removed]",
      "text/latex": [
       "$$\\left[\\begin{matrix}0 & - \\beta \\eta^{2} - \\beta \\eta + \\epsilon \\eta & \\chi \\eta^{2} + \\chi \\eta\\\\0 & - 2 \\beta \\eta - \\beta + \\epsilon & 2 \\chi \\eta + \\chi\\\\0 & - \\beta & \\chi\\end{matrix}\\right]$$"
      ],
      "text/plain": [
       "⎡        2                 2      ⎤\n",
       "⎢0  - β⋅η  - β⋅η + ε⋅η  χ⋅η  + χ⋅η⎥\n",
       "⎢                                 ⎥\n",
       "⎢0    -2⋅β⋅η - β + ε    2⋅χ⋅η + χ ⎥\n",
       "⎢                                 ⎥\n",
       "⎣0          -β              χ     ⎦"
      ]
     },
     "execution_count": 134,
     "metadata": {},
     "output_type": "execute_result"
    }
   ],
   "source": [
    "cpr = prolongation_matrix(pert_result)\n",
    "cpr"
   ]
  },
  {
   "cell_type": "code",
   "execution_count": 135,
   "metadata": {},
   "outputs": [
    {
     "data": {
      "image/png": "[encoded data removed]",
      "text/latex": [
       "$$\\left[\\begin{matrix}0 & - \\beta \\eta^{2} - \\beta \\eta + \\epsilon \\eta & \\chi \\eta^{2} + \\chi \\eta\\\\0 & - 2 \\beta \\eta & 2 \\chi \\eta\\\\0 & 0 & 0\\end{matrix}\\right]$$"
      ],
      "text/plain": [
       "⎡        2                 2      ⎤\n",
       "⎢0  - β⋅η  - β⋅η + ε⋅η  χ⋅η  + χ⋅η⎥\n",
       "⎢                                 ⎥\n",
       "⎢0        -2⋅β⋅η          2⋅χ⋅η   ⎥\n",
       "⎢                                 ⎥\n",
       "⎣0          0               0     ⎦"
      ]
     },
     "execution_count": 135,
     "metadata": {},
     "output_type": "execute_result"
    }
   ],
   "source": [
    "cpr - cr"
   ]
  },
  {
   "cell_type": "code",
   "execution_count": 107,
   "metadata": {
    "collapsed": true
   },
   "outputs": [],
   "source": [
    "#we need to collect or subtract the previous terms to find what the new terms are - firstly there is a propagator modification and then we explain the rest\n",
    "#some terms will add weight to the existing basis, and some will create new terms entirely "
   ]
  },
  {
   "cell_type": "markdown",
   "metadata": {},
   "source": [
    "# Example representations\n",
    "Here we show the matrix form for adding fields for arbitrary number of species (1 row per species). We display the latex symbols and also the diagrams\n",
    "\n",
    "The diagrams are of the residuals so loops/internal structure are not shown here (see the composite examples later where we look at internal structure). \n",
    "\n",
    "The & operator or * operator (todo) are both used as diagram products allowing diagrams to be merged"
   ]
  },
  {
   "cell_type": "code",
   "execution_count": null,
   "metadata": {
    "collapsed": true
   },
   "outputs": [],
   "source": [
    "j = J([[1,1], \n",
    "       [2,0]])\n",
    "j"
   ]
  },
  {
   "cell_type": "code",
   "execution_count": null,
   "metadata": {
    "collapsed": true
   },
   "outputs": [],
   "source": [
    "j.diagram"
   ]
  },
  {
   "cell_type": "code",
   "execution_count": null,
   "metadata": {
    "collapsed": true
   },
   "outputs": [],
   "source": [
    "transmutation = J([[1,0],[0,1]])\n",
    "transmutation.diagram"
   ]
  },
  {
   "cell_type": "code",
   "execution_count": null,
   "metadata": {
    "collapsed": true
   },
   "outputs": [],
   "source": [
    "coagulation = J([[2,1],[0,0]])\n",
    "coagulation.diagram"
   ]
  },
  {
   "cell_type": "code",
   "execution_count": null,
   "metadata": {
    "collapsed": true
   },
   "outputs": [],
   "source": [
    "branching = J([[1,2],[0,0]])\n",
    "branching.diagram\n",
    "#branching"
   ]
  },
  {
   "cell_type": "code",
   "execution_count": null,
   "metadata": {
    "collapsed": true
   },
   "outputs": [],
   "source": [
    "#branching.tensor"
   ]
  },
  {
   "cell_type": "code",
   "execution_count": null,
   "metadata": {
    "collapsed": true
   },
   "outputs": [],
   "source": [
    "(branching&coagulation).diagram"
   ]
  },
  {
   "cell_type": "code",
   "execution_count": null,
   "metadata": {
    "collapsed": true
   },
   "outputs": [],
   "source": [
    "(coagulation&branching).diagram"
   ]
  },
  {
   "cell_type": "code",
   "execution_count": null,
   "metadata": {
    "collapsed": true
   },
   "outputs": [],
   "source": [
    "(coagulation&(branching&j)).diagram"
   ]
  },
  {
   "cell_type": "markdown",
   "metadata": {},
   "source": [
    "# Dimensional Analysis\n",
    "For dimensional analysis one construct a system of terms, each term is an interaction J.\n",
    "\n",
    "One proposes known coupling values e.g. known dimensions of propagators \n",
    "\n",
    "the ftheory class permutes all non fixed couplings, proposing that permutations P(n,k) are dimensionless - each permutation creates a theory\n",
    "\n",
    "A theory fixes the dimension of fields and all couplings. The theories can then be compared and chcked via the ftheory class"
   ]
  },
  {
   "cell_type": "code",
   "execution_count": null,
   "metadata": {
    "collapsed": true
   },
   "outputs": [],
   "source": [
    "#blank -> tilde\n",
    "#BRW0\n",
    "interactions = [\n",
    " J([[1,1],[0,0]]),\n",
    " J([[0,0],[1,1]]),\n",
    " J([[1,0],[0,1]]), #tau \n",
    " J([[1,2],[0,0]]), #s\n",
    " J([[1,1],[0,1]]), #quasi-branch sigma\n",
    " J([[1,1],[1,1]]), #kappa\n",
    " J([[1,0],[1,1]]), #lambda\n",
    " ]\n",
    "\n",
    "#BWS1 - #add two more terms chi and eta\n",
    "interactions = interactions +  [\n",
    " J([[0,1],[1,2]]), #\n",
    " J([[1,0],[1,2]]), #   \n",
    "]\n",
    "\n",
    "#VRS - add two more terms annhilation\n",
    "interactions = interactions +  [\n",
    " J([[1,1],[1,0]]), #\n",
    " J([[2,1],[0,1]]), #   \n",
    "]\n",
    "\n",
    "#display\n",
    "[j.display() for j in interactions]\n",
    "#L_I"
   ]
  },
  {
   "cell_type": "code",
   "execution_count": null,
   "metadata": {
    "collapsed": true
   },
   "outputs": [],
   "source": [
    "#interactions[8]"
   ]
  },
  {
   "cell_type": "code",
   "execution_count": null,
   "metadata": {
    "collapsed": true
   },
   "outputs": [],
   "source": [
    "Lambda = rg.T**(-1) # L**(-1*dim)\n",
    "new_couplings = {J([ [0,0],  [1,1]] ): Lambda, #[field]*lambda is the inverse measure\n",
    "                 J([ [1,1],  [0,0]] ): Lambda, }\n",
    "\n",
    "#example theory\n",
    "FT = ftheory(new_couplings, \n",
    "             dimensionless=[J([ [1,2],  [0,0]] ), \n",
    "                            J([ [1,1],  [0,1]] )  ])\n",
    "FT.display()"
   ]
  },
  {
   "cell_type": "code",
   "execution_count": null,
   "metadata": {
    "collapsed": true
   },
   "outputs": [],
   "source": [
    "FT.interpret_dimensions(interactions)"
   ]
  },
  {
   "cell_type": "code",
   "execution_count": null,
   "metadata": {
    "collapsed": true
   },
   "outputs": [],
   "source": [
    "FT.interpret_couplings(interactions, l_power_dim=4)"
   ]
  },
  {
   "cell_type": "code",
   "execution_count": null,
   "metadata": {
    "collapsed": true
   },
   "outputs": [],
   "source": [
    "#we can create a bunch of theories by permuting dimensionless couplings given the input known field dimensions and all terms\n",
    "cs  = ftheory.theories(interactions, new_couplings)"
   ]
  },
  {
   "cell_type": "code",
   "execution_count": null,
   "metadata": {
    "collapsed": true
   },
   "outputs": [],
   "source": [
    "import pandas as pd\n",
    "dfs = []\n",
    "for k in cs:\n",
    "    M = k.interpret_couplings(interactions)\n",
    "    df = pd.DataFrame(M.tolist(), columns=[\"vertex\", \"coupling\"]).set_index(\"vertex\")\n",
    "    dfs.append(df)\n",
    "dfs = pd.concat(dfs,axis=1).reset_index()\n",
    "from sympy import Matrix\n",
    "Matrix(dfs.as_matrix())\n",
    "#dfs[0]"
   ]
  },
  {
   "cell_type": "code",
   "execution_count": null,
   "metadata": {
    "collapsed": true
   },
   "outputs": [],
   "source": [
    "ftheory.matrices(cs).dimensionless_terms().T"
   ]
  },
  {
   "cell_type": "code",
   "execution_count": null,
   "metadata": {
    "collapsed": true
   },
   "outputs": [],
   "source": [
    "#we can display a matrix for all theories for the values of the fields \\phi_0, \\tilde{\\phi}_0, \\phi_1, \\tilde{\\phi_1}\n",
    "ftheory.matrices(cs).general_form\n",
    "#below terms are in the form ud+v\n",
    "#propagators always compensate each other in d=0 - that means i think they are rate-like\n",
    "#you never have something that is just a positive v without some u? \n",
    "#you sometimes but rarely have any positive u\n",
    "#For u,v; 0,0 always goes with -1,0\n",
    "#you only have powers of 2 for u,v\n",
    "#d dependence for creation or annihilation fields mostly agree between species - \n",
    "#  - if i was think of this as some sort of polarity - i want the two species to maybe agree\n",
    "#  - that way propagation between species (transmutation) is as 'well behaved' as the bare propagators (so to speak)\n",
    "#  - specifically i mean if u > 0 or v > 0 for one species, must be the same for the other\n",
    "\n",
    "#todo - what do all the degenerate theories have in common (including/not including the non integer and negative dimensions)\n",
    "#i notice two of the theories are exactly the same below too e.g. 1 and 3 which is weird but this explains the negatives \n",
    "#  - maybe it is the same thing actually\n",
    "#from the measure, we know that we will have u,v = 1,2 (or negateive on the RHS).\n",
    "#  -  Therefore, we know that we need at least +u and v cancelling the 2 - this creates our baseline"
   ]
  },
  {
   "cell_type": "code",
   "execution_count": null,
   "metadata": {
    "collapsed": true
   },
   "outputs": [],
   "source": [
    "#and we can evalaute the values at a certain d, last column is the inverse measure L^dT^1 with T=L^2 at d=d_c\n",
    "#ftheory.matrices(cs).criterion(4)"
   ]
  },
  {
   "cell_type": "code",
   "execution_count": null,
   "metadata": {
    "collapsed": true
   },
   "outputs": [],
   "source": [
    "#TODO: reduce to one theory and produce a dictionary object that diagrammatics can used to determine relevancies\n",
    "#A graph object should have finite and divergent parts in general"
   ]
  },
  {
   "cell_type": "markdown",
   "metadata": {},
   "source": [
    "# Composing and displaying diagrams using graph product type 0\n",
    "Work in progress. Lots of different ways to render things - starting with the basics, the ones that make development clearer."
   ]
  },
  {
   "cell_type": "code",
   "execution_count": null,
   "metadata": {
    "collapsed": true
   },
   "outputs": [],
   "source": [
    "G(branching)*G(coagulation)"
   ]
  },
  {
   "cell_type": "code",
   "execution_count": null,
   "metadata": {
    "collapsed": true
   },
   "outputs": [],
   "source": [
    "T = G(branching)*G(transmutation)*G(j)\n",
    "#composition_diagram(G(branching)*G(coagulation),compact=True)\n",
    "T"
   ]
  },
  {
   "cell_type": "code",
   "execution_count": null,
   "metadata": {
    "collapsed": true
   },
   "outputs": [],
   "source": [
    "composition_diagram(T,compact=True)\n",
    "T =  G(branching)*G(transmutation)*G(j)\n",
    "#composition_diagram(T,compact=True).coords[1]\n",
    "#todo - draw on the residue stubs in dotted lines - use the same logic with angles around the vertex for the remaining dudes"
   ]
  },
  {
   "cell_type": "code",
   "execution_count": null,
   "metadata": {
    "collapsed": true
   },
   "outputs": [],
   "source": [
    "composition_diagram(T,compact=True)"
   ]
  },
  {
   "cell_type": "markdown",
   "metadata": {},
   "source": [
    "# Graph theory bits behind the scenes"
   ]
  },
  {
   "cell_type": "code",
   "execution_count": null,
   "metadata": {
    "collapsed": true
   },
   "outputs": [],
   "source": [
    "#def vertex_residual_contribution(self):[t.sum() for t in self.tensor]\n",
    "T = G(branching)*G(transmutation)\n",
    "T =  G(branching)*G(transmutation)*G(j)\n",
    "FG = fgraph(T,True)#.betti_number()\n",
    "FG\n",
    "#actually something wrong here, sohould be an extra edge? connected to infinity - also check directions"
   ]
  },
  {
   "cell_type": "code",
   "execution_count": null,
   "metadata": {
    "collapsed": true
   },
   "outputs": [],
   "source": [
    "#todo - need to dd the cut momentum - also, after causal integratoin, this is not the actual propagator structure - there is a reduced edge\n",
    "FG.graph_polynomials()"
   ]
  },
  {
   "cell_type": "markdown",
   "metadata": {},
   "source": [
    "# Looking at collections"
   ]
  },
  {
   "cell_type": "code",
   "execution_count": null,
   "metadata": {
    "collapsed": true
   },
   "outputs": [],
   "source": [
    "collection = [G(branching)*G(transmutation),\n",
    "             G(branching)*G(coagulation),\n",
    "             G(branching)*G(transmutation)*G(j)]\n",
    "diagram_set(collection)"
   ]
  },
  {
   "cell_type": "markdown",
   "metadata": {},
   "source": [
    "## filters such as 1PI"
   ]
  },
  {
   "cell_type": "code",
   "execution_count": null,
   "metadata": {
    "collapsed": true
   },
   "outputs": [],
   "source": [
    "collection = [G(branching)*G(transmutation),\n",
    "             G(branching)*G(coagulation),\n",
    "             G(branching)*G(transmutation)*G(j)]\n",
    "collection = [c for c in collection if fgraph(c).is_1PI]\n",
    "diagram_set(collection)"
   ]
  },
  {
   "cell_type": "code",
   "execution_count": null,
   "metadata": {
    "collapsed": true
   },
   "outputs": [],
   "source": [
    "collection[-1].residual_interaction.diagram"
   ]
  },
  {
   "cell_type": "markdown",
   "metadata": {},
   "source": [
    "## Permutations"
   ]
  },
  {
   "cell_type": "code",
   "execution_count": null,
   "metadata": {
    "collapsed": true
   },
   "outputs": [],
   "source": [
    "#interactions[2:]"
   ]
  },
  {
   "cell_type": "code",
   "execution_count": null,
   "metadata": {
    "collapsed": true
   },
   "outputs": [],
   "source": [
    "#simple sample system\n",
    "from rg.graphs import graph_permutations,distinct_loops\n",
    "%matplotlib inline\n",
    "res_simple = graph_permutations([G(branching), G(transmutation),G(coagulation),G(j)])\n",
    "#our vicious walker system\n",
    "res = graph_permutations([G(j) for j in interactions[2:]])\n",
    "len(res)"
   ]
  },
  {
   "cell_type": "markdown",
   "metadata": {},
   "source": [
    "## example products over for 4 sample primitives"
   ]
  },
  {
   "cell_type": "code",
   "execution_count": null,
   "metadata": {
    "collapsed": true
   },
   "outputs": [],
   "source": [
    "diagram_set([G(branching), G(transmutation),G(coagulation),G(j)])"
   ]
  },
  {
   "cell_type": "code",
   "execution_count": null,
   "metadata": {
    "collapsed": true
   },
   "outputs": [],
   "source": [
    "diagram_set(res_simple)"
   ]
  },
  {
   "cell_type": "markdown",
   "metadata": {},
   "source": [
    "# By distinct loops for VRS using graph product 0"
   ]
  },
  {
   "cell_type": "code",
   "execution_count": null,
   "metadata": {
    "collapsed": true
   },
   "outputs": [],
   "source": [
    "d = distinct_loops(res)\n",
    "pd.DataFrame([len(d[_d]) for _d in d]).plot(kind='barh')"
   ]
  },
  {
   "cell_type": "code",
   "execution_count": null,
   "metadata": {
    "collapsed": true,
    "scrolled": false
   },
   "outputs": [],
   "source": [
    "KEY = 3\n",
    "diagram_set(list(d.values())[KEY],compact=True)"
   ]
  },
  {
   "cell_type": "markdown",
   "metadata": {},
   "source": [
    "# primitive basis VRS"
   ]
  },
  {
   "cell_type": "code",
   "execution_count": null,
   "metadata": {
    "collapsed": true
   },
   "outputs": [],
   "source": [
    "diagram_set([G(j) for j in interactions[2:]])"
   ]
  },
  {
   "cell_type": "markdown",
   "metadata": {},
   "source": [
    "## Update basis with new tree level\n",
    "I have not decided the algorithm yet - with the merge product, i iterate pairwise merges until I cannot add any new residuals at loop order=0.\n",
    "\n",
    "Here I hard code a restriction of max of 4 items in the residual"
   ]
  },
  {
   "cell_type": "code",
   "execution_count": null,
   "metadata": {
    "collapsed": true
   },
   "outputs": [],
   "source": [
    "#iteratively find all tree-level new residuals\n",
    "#this is a bit messy at the moment, I am still deciding how to organise this stuff\n",
    "\n",
    "def update_tree_level_basis(primtives,max_legs=4):\n",
    "    l = 0\n",
    "    res_dict = {}\n",
    "    basis = [G(j) for j in primtives]\n",
    "    for b in basis: res_dict[b.residual_interaction] = True\n",
    "    temp = graph_permutations(basis, loop_orders=[0], max_k=2)#2 means binary op\n",
    "    #this would be a recursive step - can we find new residuals, terminate when we cannot\n",
    "    for b in temp:\n",
    "        resid = b.residual_interaction\n",
    "        if resid.tensor.sum() <= max_legs:\n",
    "            res_dict[resid] = True\n",
    "    basis = [G(j) for j in res_dict.keys()]\n",
    "    return basis\n",
    "\n",
    "basis = update_tree_level_basis(interactions[2:])\n",
    "diagram_set(basis)"
   ]
  },
  {
   "cell_type": "markdown",
   "metadata": {},
   "source": [
    "## generate some 1PI 1-loops - here with merge product k=3 and no special equiv checks"
   ]
  },
  {
   "cell_type": "code",
   "execution_count": null,
   "metadata": {
    "collapsed": true
   },
   "outputs": [],
   "source": [
    "generated_diags = graph_permutations(basis, loop_orders=[1], max_k=3)\n",
    "filtered = []\n",
    "for _r in generated_diags:\n",
    "    r = fgraph(_r)\n",
    "    if r.is_1PI and r.betti_number() < 2:\n",
    "        filtered.append(_r)\n",
    "#len(res), len(filtered)"
   ]
  },
  {
   "cell_type": "markdown",
   "metadata": {},
   "source": [
    "## Example look at ones that contribute to A-propagator i.e. interaction[0]"
   ]
  },
  {
   "cell_type": "code",
   "execution_count": null,
   "metadata": {
    "collapsed": true
   },
   "outputs": [],
   "source": [
    "contrib = [f for f in filtered if f.residual_interaction == interactions[0]]\n",
    "diagram_set(set(contrib),compact=True)"
   ]
  },
  {
   "cell_type": "code",
   "execution_count": null,
   "metadata": {
    "collapsed": true
   },
   "outputs": [],
   "source": [
    "#define UV convergent terms\n",
    "#expand numerators and check what integrals are still a problem"
   ]
  },
  {
   "cell_type": "code",
   "execution_count": null,
   "metadata": {
    "collapsed": true
   },
   "outputs": [],
   "source": [
    "# temp = graph_permutations(basis, loop_orders=[0], max_k=2)\n",
    "# #this would be a recursive step\n",
    "# for b in temp:\n",
    "#     resid = b.residual_interaction\n",
    "#     if resid.tensor.sum() <= 3:\n",
    "#         res_dict[resid] = True\n",
    "# basis = [G(j) for j in res_dict.keys()]\n",
    "# len(basis)\n",
    "#check can i create different trees with same residual? doesnt sound like it should\n",
    "#assuming we do not prem truncate, we do generate all possible \"paths\" that are not loops."
   ]
  },
  {
   "cell_type": "code",
   "execution_count": null,
   "metadata": {
    "collapsed": true
   },
   "outputs": [],
   "source": []
  }
 ],
 "metadata": {
  "kernelspec": {
   "display_name": "Python 3",
   "language": "python",
   "name": "python3"
  },
  "language_info": {
   "codemirror_mode": {
    "name": "ipython",
    "version": 3
   },
   "file_extension": ".py",
   "mimetype": "text/x-python",
   "name": "python",
   "nbconvert_exporter": "python",
   "pygments_lexer": "ipython3",
   "version": "3.6.3"
  }
 },
 "nbformat": 4,
 "nbformat_minor": 2
}
