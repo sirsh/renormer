{
 "cells": [
  {
   "cell_type": "code",
   "execution_count": 29,
   "metadata": {},
   "outputs": [],
   "source": [
    "import rg\n",
    "from rg.diagrams import diagram\n",
    "from rg.interaction import interaction as J \n",
    "from rg.interaction import interaction_identity\n",
    "from rg.interaction import interaction_system\n",
    "from rg.interaction import composite_interaction as G\n",
    "from rg.theory import ftheory"
   ]
  },
  {
   "cell_type": "markdown",
   "metadata": {},
   "source": [
    "# Example representations\n",
    "Here we show the matrix form for adding fields for arbitrary number of species (1 row per species). We display the latex symbols and also the diagrams\n",
    "\n",
    "The diagrams are of the residuals so loops/internal structure are not shown here (see the composite examples later where we look at internal structure). \n",
    "\n",
    "The & operator or * operator (todo) are both used as diagram products allowing diagrams to be merged"
   ]
  },
  {
   "cell_type": "code",
   "execution_count": 2,
   "metadata": {},
   "outputs": [
    {
     "data": {
      "text/latex": [
       "$\\phi_0 \\phi_1^{2} \\tilde{\\phi}_0$"
      ],
      "text/plain": [
       "$\\phi_0 \\phi_1^{2} \\tilde{\\phi}_0$"
      ]
     },
     "execution_count": 2,
     "metadata": {},
     "output_type": "execute_result"
    }
   ],
   "source": [
    "j = J([[1,1], \n",
    "       [2,0]])\n",
    "j"
   ]
  },
  {
   "cell_type": "code",
   "execution_count": 3,
   "metadata": {},
   "outputs": [
    {
     "data": {
      "text/html": [
       "<svg xmlns=\"http://www.w3.org/2000/svg\" xmlns:xlink=\"http://www.w3.org/1999/xlink\" version=\"1.1\" x=\"0\" y=\"0\" width=\"240\" height=\"120\">\n",
       "      <g fill=\"none\" stroke=\"black\" stroke-width=\"1.6\" stroke-linecap=\"round\">\n",
       "         <line x1=\"0\" y1=\"0\" x2=\"40\" y2=\"0\" stroke=\"red\" stroke-dasharray=\"None\" stroke-width:2\" transform=\" translate(80,50) rotate(-45.0 0, 0 )\" />  <path d=\"M 0,0 C 2,-3.142 3,-5 5,-5 S 8,-3.142 10,0 S 13,5 15,5 S 18,3.142 20,0 C 22,-3.142 23,-5 25,-5 S 28,-3.142 30,0 S 33,5 35,5 S 38,3.142 40,0\" \n",
       "                       stroke=\"black\" stroke-dasharray=\"None\" stroke-width:2\" transform=\" translate(80,50) rotate(0.0 0, 0 )\" />  <path d=\"M 0,0 C 2,-3.142 3,-5 5,-5 S 8,-3.142 10,0 S 13,5 15,5 S 18,3.142 20,0 C 22,-3.142 23,-5 25,-5 S 28,-3.142 30,0 S 33,5 35,5 S 38,3.142 40,0\" \n",
       "                       stroke=\"black\" stroke-dasharray=\"None\" stroke-width:2\" transform=\" translate(80,50) rotate(45.0 0, 0 )\" />  <line x1=\"0\" y1=\"0\" x2=\"40\" y2=\"0\" stroke=\"red\" stroke-dasharray=\"None\" stroke-width:2\" transform=\" translate(80,50) rotate(-180.0 0, 0 )\" /> \n",
       "      </g>\n",
       "      <circle cx=\"80\" cy=\"50\" r=\"2\" stroke=\"black\" stroke-width=\"1\" fill=\"black\" />\n",
       "    </svg>"
      ],
      "text/plain": [
       "<svg xmlns=\"http://www.w3.org/2000/svg\" xmlns:xlink=\"http://www.w3.org/1999/xlink\" version=\"1.1\" x=\"0\" y=\"0\" width=\"240\" height=\"120\">\n",
       "      <g fill=\"none\" stroke=\"black\" stroke-width=\"1.6\" stroke-linecap=\"round\">\n",
       "         <line x1=\"0\" y1=\"0\" x2=\"40\" y2=\"0\" stroke=\"red\" stroke-dasharray=\"None\" stroke-width:2\" transform=\" translate(80,50) rotate(-45.0 0, 0 )\" />  <path d=\"M 0,0 C 2,-3.142 3,-5 5,-5 S 8,-3.142 10,0 S 13,5 15,5 S 18,3.142 20,0 C 22,-3.142 23,-5 25,-5 S 28,-3.142 30,0 S 33,5 35,5 S 38,3.142 40,0\" \n",
       "                       stroke=\"black\" stroke-dasharray=\"None\" stroke-width:2\" transform=\" translate(80,50) rotate(0.0 0, 0 )\" />  <path d=\"M 0,0 C 2,-3.142 3,-5 5,-5 S 8,-3.142 10,0 S 13,5 15,5 S 18,3.142 20,0 C 22,-3.142 23,-5 25,-5 S 28,-3.142 30,0 S 33,5 35,5 S 38,3.142 40,0\" \n",
       "                       stroke=\"black\" stroke-dasharray=\"None\" stroke-width:2\" transform=\" translate(80,50) rotate(45.0 0, 0 )\" />  <line x1=\"0\" y1=\"0\" x2=\"40\" y2=\"0\" stroke=\"red\" stroke-dasharray=\"None\" stroke-width:2\" transform=\" translate(80,50) rotate(-180.0 0, 0 )\" /> \n",
       "      </g>\n",
       "      <circle cx=\"80\" cy=\"50\" r=\"2\" stroke=\"black\" stroke-width=\"1\" fill=\"black\" />\n",
       "    </svg>"
      ]
     },
     "execution_count": 3,
     "metadata": {},
     "output_type": "execute_result"
    }
   ],
   "source": [
    "j.diagram"
   ]
  },
  {
   "cell_type": "code",
   "execution_count": 4,
   "metadata": {},
   "outputs": [
    {
     "data": {
      "text/html": [
       "<svg xmlns=\"http://www.w3.org/2000/svg\" xmlns:xlink=\"http://www.w3.org/1999/xlink\" version=\"1.1\" x=\"0\" y=\"0\" width=\"240\" height=\"120\">\n",
       "      <g fill=\"none\" stroke=\"black\" stroke-width=\"1.6\" stroke-linecap=\"round\">\n",
       "         <line x1=\"0\" y1=\"0\" x2=\"40\" y2=\"0\" stroke=\"red\" stroke-dasharray=\"None\" stroke-width:2\" transform=\" translate(80,50) rotate(0.0 0, 0 )\" />  <path d=\"M 0,0 C 2,-3.142 3,-5 5,-5 S 8,-3.142 10,0 S 13,5 15,5 S 18,3.142 20,0 C 22,-3.142 23,-5 25,-5 S 28,-3.142 30,0 S 33,5 35,5 S 38,3.142 40,0\" \n",
       "                       stroke=\"black\" stroke-dasharray=\"None\" stroke-width:2\" transform=\" translate(80,50) rotate(-180.0 0, 0 )\" /> \n",
       "      </g>\n",
       "      <circle cx=\"80\" cy=\"50\" r=\"2\" stroke=\"black\" stroke-width=\"1\" fill=\"black\" />\n",
       "    </svg>"
      ],
      "text/plain": [
       "<svg xmlns=\"http://www.w3.org/2000/svg\" xmlns:xlink=\"http://www.w3.org/1999/xlink\" version=\"1.1\" x=\"0\" y=\"0\" width=\"240\" height=\"120\">\n",
       "      <g fill=\"none\" stroke=\"black\" stroke-width=\"1.6\" stroke-linecap=\"round\">\n",
       "         <line x1=\"0\" y1=\"0\" x2=\"40\" y2=\"0\" stroke=\"red\" stroke-dasharray=\"None\" stroke-width:2\" transform=\" translate(80,50) rotate(0.0 0, 0 )\" />  <path d=\"M 0,0 C 2,-3.142 3,-5 5,-5 S 8,-3.142 10,0 S 13,5 15,5 S 18,3.142 20,0 C 22,-3.142 23,-5 25,-5 S 28,-3.142 30,0 S 33,5 35,5 S 38,3.142 40,0\" \n",
       "                       stroke=\"black\" stroke-dasharray=\"None\" stroke-width:2\" transform=\" translate(80,50) rotate(-180.0 0, 0 )\" /> \n",
       "      </g>\n",
       "      <circle cx=\"80\" cy=\"50\" r=\"2\" stroke=\"black\" stroke-width=\"1\" fill=\"black\" />\n",
       "    </svg>"
      ]
     },
     "execution_count": 4,
     "metadata": {},
     "output_type": "execute_result"
    }
   ],
   "source": [
    "transmutation = J([[1,0],[0,1]])\n",
    "transmutation.diagram"
   ]
  },
  {
   "cell_type": "code",
   "execution_count": 5,
   "metadata": {},
   "outputs": [
    {
     "data": {
      "text/html": [
       "<svg xmlns=\"http://www.w3.org/2000/svg\" xmlns:xlink=\"http://www.w3.org/1999/xlink\" version=\"1.1\" x=\"0\" y=\"0\" width=\"240\" height=\"120\">\n",
       "      <g fill=\"none\" stroke=\"black\" stroke-width=\"1.6\" stroke-linecap=\"round\">\n",
       "         <line x1=\"0\" y1=\"0\" x2=\"40\" y2=\"0\" stroke=\"red\" stroke-dasharray=\"None\" stroke-width:2\" transform=\" translate(80,50) rotate(-30.0 0, 0 )\" />  <line x1=\"0\" y1=\"0\" x2=\"40\" y2=\"0\" stroke=\"red\" stroke-dasharray=\"None\" stroke-width:2\" transform=\" translate(80,50) rotate(30.0 0, 0 )\" />  <line x1=\"0\" y1=\"0\" x2=\"40\" y2=\"0\" stroke=\"red\" stroke-dasharray=\"None\" stroke-width:2\" transform=\" translate(80,50) rotate(-180.0 0, 0 )\" /> \n",
       "      </g>\n",
       "      <circle cx=\"80\" cy=\"50\" r=\"2\" stroke=\"black\" stroke-width=\"1\" fill=\"black\" />\n",
       "    </svg>"
      ],
      "text/plain": [
       "<svg xmlns=\"http://www.w3.org/2000/svg\" xmlns:xlink=\"http://www.w3.org/1999/xlink\" version=\"1.1\" x=\"0\" y=\"0\" width=\"240\" height=\"120\">\n",
       "      <g fill=\"none\" stroke=\"black\" stroke-width=\"1.6\" stroke-linecap=\"round\">\n",
       "         <line x1=\"0\" y1=\"0\" x2=\"40\" y2=\"0\" stroke=\"red\" stroke-dasharray=\"None\" stroke-width:2\" transform=\" translate(80,50) rotate(-30.0 0, 0 )\" />  <line x1=\"0\" y1=\"0\" x2=\"40\" y2=\"0\" stroke=\"red\" stroke-dasharray=\"None\" stroke-width:2\" transform=\" translate(80,50) rotate(30.0 0, 0 )\" />  <line x1=\"0\" y1=\"0\" x2=\"40\" y2=\"0\" stroke=\"red\" stroke-dasharray=\"None\" stroke-width:2\" transform=\" translate(80,50) rotate(-180.0 0, 0 )\" /> \n",
       "      </g>\n",
       "      <circle cx=\"80\" cy=\"50\" r=\"2\" stroke=\"black\" stroke-width=\"1\" fill=\"black\" />\n",
       "    </svg>"
      ]
     },
     "execution_count": 5,
     "metadata": {},
     "output_type": "execute_result"
    }
   ],
   "source": [
    "coagulation = J([[2,1],[0,0]])\n",
    "coagulation.diagram"
   ]
  },
  {
   "cell_type": "code",
   "execution_count": 6,
   "metadata": {},
   "outputs": [
    {
     "data": {
      "text/html": [
       "<svg xmlns=\"http://www.w3.org/2000/svg\" xmlns:xlink=\"http://www.w3.org/1999/xlink\" version=\"1.1\" x=\"0\" y=\"0\" width=\"240\" height=\"120\">\n",
       "      <g fill=\"none\" stroke=\"black\" stroke-width=\"1.6\" stroke-linecap=\"round\">\n",
       "         <line x1=\"0\" y1=\"0\" x2=\"40\" y2=\"0\" stroke=\"red\" stroke-dasharray=\"None\" stroke-width:2\" transform=\" translate(80,50) rotate(0.0 0, 0 )\" />  <line x1=\"0\" y1=\"0\" x2=\"40\" y2=\"0\" stroke=\"red\" stroke-dasharray=\"None\" stroke-width:2\" transform=\" translate(80,50) rotate(-210.0 0, 0 )\" />  <line x1=\"0\" y1=\"0\" x2=\"40\" y2=\"0\" stroke=\"red\" stroke-dasharray=\"None\" stroke-width:2\" transform=\" translate(80,50) rotate(-150.0 0, 0 )\" /> \n",
       "      </g>\n",
       "      <circle cx=\"80\" cy=\"50\" r=\"2\" stroke=\"black\" stroke-width=\"1\" fill=\"black\" />\n",
       "    </svg>"
      ],
      "text/plain": [
       "<svg xmlns=\"http://www.w3.org/2000/svg\" xmlns:xlink=\"http://www.w3.org/1999/xlink\" version=\"1.1\" x=\"0\" y=\"0\" width=\"240\" height=\"120\">\n",
       "      <g fill=\"none\" stroke=\"black\" stroke-width=\"1.6\" stroke-linecap=\"round\">\n",
       "         <line x1=\"0\" y1=\"0\" x2=\"40\" y2=\"0\" stroke=\"red\" stroke-dasharray=\"None\" stroke-width:2\" transform=\" translate(80,50) rotate(0.0 0, 0 )\" />  <line x1=\"0\" y1=\"0\" x2=\"40\" y2=\"0\" stroke=\"red\" stroke-dasharray=\"None\" stroke-width:2\" transform=\" translate(80,50) rotate(-210.0 0, 0 )\" />  <line x1=\"0\" y1=\"0\" x2=\"40\" y2=\"0\" stroke=\"red\" stroke-dasharray=\"None\" stroke-width:2\" transform=\" translate(80,50) rotate(-150.0 0, 0 )\" /> \n",
       "      </g>\n",
       "      <circle cx=\"80\" cy=\"50\" r=\"2\" stroke=\"black\" stroke-width=\"1\" fill=\"black\" />\n",
       "    </svg>"
      ]
     },
     "execution_count": 6,
     "metadata": {},
     "output_type": "execute_result"
    }
   ],
   "source": [
    "branching = J([[1,2],[0,0]])\n",
    "branching.diagram\n",
    "#branching"
   ]
  },
  {
   "cell_type": "code",
   "execution_count": 7,
   "metadata": {},
   "outputs": [
    {
     "data": {
      "text/plain": [
       "array([[1, 2],\n",
       "       [0, 0]])"
      ]
     },
     "execution_count": 7,
     "metadata": {},
     "output_type": "execute_result"
    }
   ],
   "source": [
    "branching.tensor"
   ]
  },
  {
   "cell_type": "code",
   "execution_count": 8,
   "metadata": {},
   "outputs": [
    {
     "name": "stdout",
     "output_type": "stream",
     "text": [
      "symmetry factor: 2\n"
     ]
    },
    {
     "data": {
      "text/html": [
       "<svg xmlns=\"http://www.w3.org/2000/svg\" xmlns:xlink=\"http://www.w3.org/1999/xlink\" version=\"1.1\" x=\"0\" y=\"0\" width=\"240\" height=\"120\">\n",
       "      <g fill=\"none\" stroke=\"black\" stroke-width=\"1.6\" stroke-linecap=\"round\">\n",
       "         <line x1=\"0\" y1=\"0\" x2=\"40\" y2=\"0\" stroke=\"red\" stroke-dasharray=\"None\" stroke-width:2\" transform=\" translate(80,50) rotate(-30.0 0, 0 )\" />  <line x1=\"0\" y1=\"0\" x2=\"40\" y2=\"0\" stroke=\"red\" stroke-dasharray=\"None\" stroke-width:2\" transform=\" translate(80,50) rotate(30.0 0, 0 )\" />  <line x1=\"0\" y1=\"0\" x2=\"40\" y2=\"0\" stroke=\"red\" stroke-dasharray=\"None\" stroke-width:2\" transform=\" translate(80,50) rotate(-210.0 0, 0 )\" />  <line x1=\"0\" y1=\"0\" x2=\"40\" y2=\"0\" stroke=\"red\" stroke-dasharray=\"None\" stroke-width:2\" transform=\" translate(80,50) rotate(-150.0 0, 0 )\" /> \n",
       "      </g>\n",
       "      <circle cx=\"80\" cy=\"50\" r=\"2\" stroke=\"black\" stroke-width=\"1\" fill=\"black\" />\n",
       "    </svg>"
      ],
      "text/plain": [
       "<svg xmlns=\"http://www.w3.org/2000/svg\" xmlns:xlink=\"http://www.w3.org/1999/xlink\" version=\"1.1\" x=\"0\" y=\"0\" width=\"240\" height=\"120\">\n",
       "      <g fill=\"none\" stroke=\"black\" stroke-width=\"1.6\" stroke-linecap=\"round\">\n",
       "         <line x1=\"0\" y1=\"0\" x2=\"40\" y2=\"0\" stroke=\"red\" stroke-dasharray=\"None\" stroke-width:2\" transform=\" translate(80,50) rotate(-30.0 0, 0 )\" />  <line x1=\"0\" y1=\"0\" x2=\"40\" y2=\"0\" stroke=\"red\" stroke-dasharray=\"None\" stroke-width:2\" transform=\" translate(80,50) rotate(30.0 0, 0 )\" />  <line x1=\"0\" y1=\"0\" x2=\"40\" y2=\"0\" stroke=\"red\" stroke-dasharray=\"None\" stroke-width:2\" transform=\" translate(80,50) rotate(-210.0 0, 0 )\" />  <line x1=\"0\" y1=\"0\" x2=\"40\" y2=\"0\" stroke=\"red\" stroke-dasharray=\"None\" stroke-width:2\" transform=\" translate(80,50) rotate(-150.0 0, 0 )\" /> \n",
       "      </g>\n",
       "      <circle cx=\"80\" cy=\"50\" r=\"2\" stroke=\"black\" stroke-width=\"1\" fill=\"black\" />\n",
       "    </svg>"
      ]
     },
     "execution_count": 8,
     "metadata": {},
     "output_type": "execute_result"
    }
   ],
   "source": [
    "(branching&coagulation).diagram"
   ]
  },
  {
   "cell_type": "code",
   "execution_count": 9,
   "metadata": {},
   "outputs": [
    {
     "name": "stdout",
     "output_type": "stream",
     "text": [
      "symmetry factor: 2\n"
     ]
    },
    {
     "data": {
      "text/html": [
       "<svg xmlns=\"http://www.w3.org/2000/svg\" xmlns:xlink=\"http://www.w3.org/1999/xlink\" version=\"1.1\" x=\"0\" y=\"0\" width=\"240\" height=\"120\">\n",
       "      <g fill=\"none\" stroke=\"black\" stroke-width=\"1.6\" stroke-linecap=\"round\">\n",
       "         <line x1=\"0\" y1=\"0\" x2=\"40\" y2=\"0\" stroke=\"red\" stroke-dasharray=\"None\" stroke-width:2\" transform=\" translate(80,50) rotate(0.0 0, 0 )\" />  <line x1=\"0\" y1=\"0\" x2=\"40\" y2=\"0\" stroke=\"red\" stroke-dasharray=\"None\" stroke-width:2\" transform=\" translate(80,50) rotate(-180.0 0, 0 )\" /> \n",
       "      </g>\n",
       "      <circle cx=\"80\" cy=\"50\" r=\"2\" stroke=\"black\" stroke-width=\"1\" fill=\"black\" />\n",
       "    </svg>"
      ],
      "text/plain": [
       "<svg xmlns=\"http://www.w3.org/2000/svg\" xmlns:xlink=\"http://www.w3.org/1999/xlink\" version=\"1.1\" x=\"0\" y=\"0\" width=\"240\" height=\"120\">\n",
       "      <g fill=\"none\" stroke=\"black\" stroke-width=\"1.6\" stroke-linecap=\"round\">\n",
       "         <line x1=\"0\" y1=\"0\" x2=\"40\" y2=\"0\" stroke=\"red\" stroke-dasharray=\"None\" stroke-width:2\" transform=\" translate(80,50) rotate(0.0 0, 0 )\" />  <line x1=\"0\" y1=\"0\" x2=\"40\" y2=\"0\" stroke=\"red\" stroke-dasharray=\"None\" stroke-width:2\" transform=\" translate(80,50) rotate(-180.0 0, 0 )\" /> \n",
       "      </g>\n",
       "      <circle cx=\"80\" cy=\"50\" r=\"2\" stroke=\"black\" stroke-width=\"1\" fill=\"black\" />\n",
       "    </svg>"
      ]
     },
     "execution_count": 9,
     "metadata": {},
     "output_type": "execute_result"
    }
   ],
   "source": [
    "(coagulation&branching).diagram"
   ]
  },
  {
   "cell_type": "code",
   "execution_count": 10,
   "metadata": {},
   "outputs": [
    {
     "name": "stdout",
     "output_type": "stream",
     "text": [
      "symmetry factor: 2\n"
     ]
    },
    {
     "data": {
      "text/html": [
       "<svg xmlns=\"http://www.w3.org/2000/svg\" xmlns:xlink=\"http://www.w3.org/1999/xlink\" version=\"1.1\" x=\"0\" y=\"0\" width=\"240\" height=\"120\">\n",
       "      <g fill=\"none\" stroke=\"black\" stroke-width=\"1.6\" stroke-linecap=\"round\">\n",
       "         <line x1=\"0\" y1=\"0\" x2=\"40\" y2=\"0\" stroke=\"red\" stroke-dasharray=\"None\" stroke-width:2\" transform=\" translate(80,50) rotate(-45.0 0, 0 )\" />  <path d=\"M 0,0 C 2,-3.142 3,-5 5,-5 S 8,-3.142 10,0 S 13,5 15,5 S 18,3.142 20,0 C 22,-3.142 23,-5 25,-5 S 28,-3.142 30,0 S 33,5 35,5 S 38,3.142 40,0\" \n",
       "                       stroke=\"black\" stroke-dasharray=\"None\" stroke-width:2\" transform=\" translate(80,50) rotate(0.0 0, 0 )\" />  <path d=\"M 0,0 C 2,-3.142 3,-5 5,-5 S 8,-3.142 10,0 S 13,5 15,5 S 18,3.142 20,0 C 22,-3.142 23,-5 25,-5 S 28,-3.142 30,0 S 33,5 35,5 S 38,3.142 40,0\" \n",
       "                       stroke=\"black\" stroke-dasharray=\"None\" stroke-width:2\" transform=\" translate(80,50) rotate(45.0 0, 0 )\" />  <line x1=\"0\" y1=\"0\" x2=\"40\" y2=\"0\" stroke=\"red\" stroke-dasharray=\"None\" stroke-width:2\" transform=\" translate(80,50) rotate(-210.0 0, 0 )\" />  <line x1=\"0\" y1=\"0\" x2=\"40\" y2=\"0\" stroke=\"red\" stroke-dasharray=\"None\" stroke-width:2\" transform=\" translate(80,50) rotate(-150.0 0, 0 )\" /> \n",
       "      </g>\n",
       "      <circle cx=\"80\" cy=\"50\" r=\"2\" stroke=\"black\" stroke-width=\"1\" fill=\"black\" />\n",
       "    </svg>"
      ],
      "text/plain": [
       "<svg xmlns=\"http://www.w3.org/2000/svg\" xmlns:xlink=\"http://www.w3.org/1999/xlink\" version=\"1.1\" x=\"0\" y=\"0\" width=\"240\" height=\"120\">\n",
       "      <g fill=\"none\" stroke=\"black\" stroke-width=\"1.6\" stroke-linecap=\"round\">\n",
       "         <line x1=\"0\" y1=\"0\" x2=\"40\" y2=\"0\" stroke=\"red\" stroke-dasharray=\"None\" stroke-width:2\" transform=\" translate(80,50) rotate(-45.0 0, 0 )\" />  <path d=\"M 0,0 C 2,-3.142 3,-5 5,-5 S 8,-3.142 10,0 S 13,5 15,5 S 18,3.142 20,0 C 22,-3.142 23,-5 25,-5 S 28,-3.142 30,0 S 33,5 35,5 S 38,3.142 40,0\" \n",
       "                       stroke=\"black\" stroke-dasharray=\"None\" stroke-width:2\" transform=\" translate(80,50) rotate(0.0 0, 0 )\" />  <path d=\"M 0,0 C 2,-3.142 3,-5 5,-5 S 8,-3.142 10,0 S 13,5 15,5 S 18,3.142 20,0 C 22,-3.142 23,-5 25,-5 S 28,-3.142 30,0 S 33,5 35,5 S 38,3.142 40,0\" \n",
       "                       stroke=\"black\" stroke-dasharray=\"None\" stroke-width:2\" transform=\" translate(80,50) rotate(45.0 0, 0 )\" />  <line x1=\"0\" y1=\"0\" x2=\"40\" y2=\"0\" stroke=\"red\" stroke-dasharray=\"None\" stroke-width:2\" transform=\" translate(80,50) rotate(-210.0 0, 0 )\" />  <line x1=\"0\" y1=\"0\" x2=\"40\" y2=\"0\" stroke=\"red\" stroke-dasharray=\"None\" stroke-width:2\" transform=\" translate(80,50) rotate(-150.0 0, 0 )\" /> \n",
       "      </g>\n",
       "      <circle cx=\"80\" cy=\"50\" r=\"2\" stroke=\"black\" stroke-width=\"1\" fill=\"black\" />\n",
       "    </svg>"
      ]
     },
     "execution_count": 10,
     "metadata": {},
     "output_type": "execute_result"
    }
   ],
   "source": [
    "(branching&j).diagram"
   ]
  },
  {
   "cell_type": "markdown",
   "metadata": {},
   "source": [
    "# Dimensional Analysis\n",
    "For dimensional analysis one construct a system of terms, each term is an interaction J.\n",
    "\n",
    "One proposes known coupling values e.g. known dimensions of propagators \n",
    "\n",
    "the ftheory class permutes all non fixed couplings, proposing that permutations P(n,k) are dimensionless - each permutation creates a theory\n",
    "\n",
    "A theory fixes the dimension of fields and all couplings. The theories can then be compared and chcked via the ftheory class"
   ]
  },
  {
   "cell_type": "code",
   "execution_count": 11,
   "metadata": {},
   "outputs": [
    {
     "data": {
      "text/latex": [
       "$$\\left [ \\phi_0 \\tilde{\\phi}_0, \\quad \\phi_1 \\tilde{\\phi}_1, \\quad \\phi_0 \\tilde{\\phi}_1, \\quad \\phi_0 \\tilde{\\phi}_0^{2}, \\quad \\phi_0 \\tilde{\\phi}_0 \\tilde{\\phi}_1, \\quad \\phi_0 \\phi_1 \\tilde{\\phi}_0 \\tilde{\\phi}_1, \\quad \\phi_0 \\phi_1 \\tilde{\\phi}_1, \\quad \\phi_1 \\tilde{\\phi}_0 \\tilde{\\phi}_1^{2}, \\quad \\phi_0 \\phi_1 \\tilde{\\phi}_1^{2}, \\quad \\phi_0 \\phi_1 \\tilde{\\phi}_0, \\quad \\phi_0^{2} \\tilde{\\phi}_0 \\tilde{\\phi}_1\\right ]$$"
      ],
      "text/plain": [
       "⎡                                                                             \n",
       "⎣\\phi₀⋅\\tilde{\\phi}₀, \\phi₁⋅\\tilde{\\phi}₁, \\phi₀⋅\\tilde{\\phi}₁, \\phi₀⋅\\tilde{\\\n",
       "\n",
       "     2                                                                        \n",
       "phi}₀ , \\phi₀⋅\\tilde{\\phi}₀⋅\\tilde{\\phi}₁, \\phi₀⋅\\phi₁⋅\\tilde{\\phi}₀⋅\\tilde{\\p\n",
       "\n",
       "                                                                  2           \n",
       "hi}₁, \\phi₀⋅\\phi₁⋅\\tilde{\\phi}₁, \\phi₁⋅\\tilde{\\phi}₀⋅\\tilde{\\phi}₁ , \\phi₀⋅\\ph\n",
       "\n",
       "                2                                  2                          \n",
       "i₁⋅\\tilde{\\phi}₁ , \\phi₀⋅\\phi₁⋅\\tilde{\\phi}₀, \\phi₀ ⋅\\tilde{\\phi}₀⋅\\tilde{\\phi\n",
       "\n",
       "  ⎤\n",
       "}₁⎦"
      ]
     },
     "execution_count": 11,
     "metadata": {},
     "output_type": "execute_result"
    }
   ],
   "source": [
    "#blank -> tilde\n",
    "#BRW0\n",
    "interactions = [\n",
    " J([[1,1],[0,0]]),\n",
    " J([[0,0],[1,1]]),\n",
    " J([[1,0],[0,1]]), #tau \n",
    " J([[1,2],[0,0]]), #s\n",
    " J([[1,1],[0,1]]), #quasi-branch sigma\n",
    " J([[1,1],[1,1]]), #kappa\n",
    " J([[1,0],[1,1]]), #lambda\n",
    " ]\n",
    "\n",
    "#BWS1 - #add two more terms chi and eta\n",
    "interactions = interactions +  [\n",
    " J([[0,1],[1,2]]), #\n",
    " J([[1,0],[1,2]]), #   \n",
    "]\n",
    "\n",
    "#VRS - add two more terms annhilation\n",
    "interactions = interactions +  [\n",
    " J([[1,1],[1,0]]), #\n",
    " J([[2,1],[0,1]]), #   \n",
    "]\n",
    "\n",
    "#display\n",
    "[j.display() for j in interactions]"
   ]
  },
  {
   "cell_type": "code",
   "execution_count": 12,
   "metadata": {},
   "outputs": [
    {
     "data": {
      "text/latex": [
       "$$\\left[\\begin{matrix}\\phi_1 \\tilde{\\phi}_1 & \\frac{1}{T}\\\\\\phi_0 \\tilde{\\phi}_0 & \\frac{1}{T}\\\\\\phi_0 \\tilde{\\phi}_0^{2} & 1\\\\\\phi_0 \\tilde{\\phi}_0 \\tilde{\\phi}_1 & 1\\end{matrix}\\right]$$"
      ],
      "text/plain": [
       "⎡                                   1⎤\n",
       "⎢       \\phi₁⋅\\tilde{\\phi}₁         ─⎥\n",
       "⎢                                   T⎥\n",
       "⎢                                    ⎥\n",
       "⎢                                   1⎥\n",
       "⎢       \\phi₀⋅\\tilde{\\phi}₀         ─⎥\n",
       "⎢                                   T⎥\n",
       "⎢                                    ⎥\n",
       "⎢                         2          ⎥\n",
       "⎢      \\phi₀⋅\\tilde{\\phi}₀          1⎥\n",
       "⎢                                    ⎥\n",
       "⎣\\phi₀⋅\\tilde{\\phi}₀⋅\\tilde{\\phi}₁  1⎦"
      ]
     },
     "execution_count": 12,
     "metadata": {},
     "output_type": "execute_result"
    }
   ],
   "source": [
    "Lambda = rg.T**(-1) # L**(-1*dim)\n",
    "new_couplings = {J([ [0,0],  [1,1]] ): Lambda, #[field]*lambda is the inverse measure\n",
    "                 J([ [1,1],  [0,0]] ): Lambda, }\n",
    "\n",
    "#example theory\n",
    "FT = ftheory(new_couplings, \n",
    "             dimensionless=[J([ [1,2],  [0,0]] ), \n",
    "                            J([ [1,1],  [0,1]] )  ])\n",
    "FT.display()"
   ]
  },
  {
   "cell_type": "code",
   "execution_count": 13,
   "metadata": {},
   "outputs": [
    {
     "data": {
      "text/latex": [
       "$$\\left[\\begin{matrix}\\phi_0 \\tilde{\\phi}_0 & L^{- d}\\\\\\phi_1 \\tilde{\\phi}_1 & L^{- d}\\\\\\phi_0 \\tilde{\\phi}_1 & L^{- d}\\\\\\phi_0 \\tilde{\\phi}_0^{2} & \\frac{L^{- d}}{T}\\\\\\phi_0 \\tilde{\\phi}_0 \\tilde{\\phi}_1 & \\frac{L^{- d}}{T}\\\\\\phi_0 \\phi_1 \\tilde{\\phi}_0 \\tilde{\\phi}_1 & L^{- 2 d}\\\\\\phi_0 \\phi_1 \\tilde{\\phi}_1 & L^{- 2 d} T\\\\\\phi_1 \\tilde{\\phi}_0 \\tilde{\\phi}_1^{2} & \\frac{L^{- d}}{T^{2}}\\\\\\phi_0 \\phi_1 \\tilde{\\phi}_1^{2} & L^{- 2 d}\\\\\\phi_0 \\phi_1 \\tilde{\\phi}_0 & L^{- 2 d} T\\\\\\phi_0^{2} \\tilde{\\phi}_0 \\tilde{\\phi}_1 & L^{- 2 d}\\end{matrix}\\right]$$"
      ],
      "text/plain": [
       "⎡                                            -d  ⎤\n",
       "⎢          \\phi₀⋅\\tilde{\\phi}₀              L    ⎥\n",
       "⎢                                                ⎥\n",
       "⎢                                            -d  ⎥\n",
       "⎢          \\phi₁⋅\\tilde{\\phi}₁              L    ⎥\n",
       "⎢                                                ⎥\n",
       "⎢                                            -d  ⎥\n",
       "⎢          \\phi₀⋅\\tilde{\\phi}₁              L    ⎥\n",
       "⎢                                                ⎥\n",
       "⎢                                            -d  ⎥\n",
       "⎢                            2              L    ⎥\n",
       "⎢         \\phi₀⋅\\tilde{\\phi}₀               ───  ⎥\n",
       "⎢                                            T   ⎥\n",
       "⎢                                                ⎥\n",
       "⎢                                            -d  ⎥\n",
       "⎢                                           L    ⎥\n",
       "⎢   \\phi₀⋅\\tilde{\\phi}₀⋅\\tilde{\\phi}₁       ───  ⎥\n",
       "⎢                                            T   ⎥\n",
       "⎢                                                ⎥\n",
       "⎢                                           -2⋅d ⎥\n",
       "⎢\\phi₀⋅\\phi₁⋅\\tilde{\\phi}₀⋅\\tilde{\\phi}₁   L     ⎥\n",
       "⎢                                                ⎥\n",
       "⎢                                          -2⋅d  ⎥\n",
       "⎢       \\phi₀⋅\\phi₁⋅\\tilde{\\phi}₁         L    ⋅T⎥\n",
       "⎢                                                ⎥\n",
       "⎢                                            -d  ⎥\n",
       "⎢                                   2       L    ⎥\n",
       "⎢  \\phi₁⋅\\tilde{\\phi}₀⋅\\tilde{\\phi}₁        ───  ⎥\n",
       "⎢                                             2  ⎥\n",
       "⎢                                            T   ⎥\n",
       "⎢                                                ⎥\n",
       "⎢                               2           -2⋅d ⎥\n",
       "⎢      \\phi₀⋅\\phi₁⋅\\tilde{\\phi}₁           L     ⎥\n",
       "⎢                                                ⎥\n",
       "⎢                                          -2⋅d  ⎥\n",
       "⎢       \\phi₀⋅\\phi₁⋅\\tilde{\\phi}₀         L    ⋅T⎥\n",
       "⎢                                                ⎥\n",
       "⎢       2                                   -2⋅d ⎥\n",
       "⎣  \\phi₀ ⋅\\tilde{\\phi}₀⋅\\tilde{\\phi}₁      L     ⎦"
      ]
     },
     "execution_count": 13,
     "metadata": {},
     "output_type": "execute_result"
    }
   ],
   "source": [
    "FT.interpret_dimensions(interactions)"
   ]
  },
  {
   "cell_type": "code",
   "execution_count": 14,
   "metadata": {},
   "outputs": [
    {
     "data": {
      "text/latex": [
       "$$\\left[\\begin{matrix}\\phi_0 \\tilde{\\phi}_0 & \\frac{1}{L^{2}}\\\\\\phi_1 \\tilde{\\phi}_1 & \\frac{1}{L^{2}}\\\\\\phi_0 \\tilde{\\phi}_1 & \\frac{1}{L^{2}}\\\\\\phi_0 \\tilde{\\phi}_0^{2} & 1\\\\\\phi_0 \\tilde{\\phi}_0 \\tilde{\\phi}_1 & 1\\\\\\phi_0 \\phi_1 \\tilde{\\phi}_0 \\tilde{\\phi}_1 & L^{2}\\\\\\phi_0 \\phi_1 \\tilde{\\phi}_1 & 1\\\\\\phi_1 \\tilde{\\phi}_0 \\tilde{\\phi}_1^{2} & L^{2}\\\\\\phi_0 \\phi_1 \\tilde{\\phi}_1^{2} & L^{2}\\\\\\phi_0 \\phi_1 \\tilde{\\phi}_0 & 1\\\\\\phi_0^{2} \\tilde{\\phi}_0 \\tilde{\\phi}_1 & L^{2}\\end{matrix}\\right]$$"
      ],
      "text/plain": [
       "⎡                                         1 ⎤\n",
       "⎢          \\phi₀⋅\\tilde{\\phi}₀            ──⎥\n",
       "⎢                                          2⎥\n",
       "⎢                                         L ⎥\n",
       "⎢                                           ⎥\n",
       "⎢                                         1 ⎥\n",
       "⎢          \\phi₁⋅\\tilde{\\phi}₁            ──⎥\n",
       "⎢                                          2⎥\n",
       "⎢                                         L ⎥\n",
       "⎢                                           ⎥\n",
       "⎢                                         1 ⎥\n",
       "⎢          \\phi₀⋅\\tilde{\\phi}₁            ──⎥\n",
       "⎢                                          2⎥\n",
       "⎢                                         L ⎥\n",
       "⎢                                           ⎥\n",
       "⎢                            2              ⎥\n",
       "⎢         \\phi₀⋅\\tilde{\\phi}₀             1 ⎥\n",
       "⎢                                           ⎥\n",
       "⎢   \\phi₀⋅\\tilde{\\phi}₀⋅\\tilde{\\phi}₁     1 ⎥\n",
       "⎢                                           ⎥\n",
       "⎢                                          2⎥\n",
       "⎢\\phi₀⋅\\phi₁⋅\\tilde{\\phi}₀⋅\\tilde{\\phi}₁  L ⎥\n",
       "⎢                                           ⎥\n",
       "⎢       \\phi₀⋅\\phi₁⋅\\tilde{\\phi}₁         1 ⎥\n",
       "⎢                                           ⎥\n",
       "⎢                                   2      2⎥\n",
       "⎢  \\phi₁⋅\\tilde{\\phi}₀⋅\\tilde{\\phi}₁      L ⎥\n",
       "⎢                                           ⎥\n",
       "⎢                               2          2⎥\n",
       "⎢      \\phi₀⋅\\phi₁⋅\\tilde{\\phi}₁          L ⎥\n",
       "⎢                                           ⎥\n",
       "⎢       \\phi₀⋅\\phi₁⋅\\tilde{\\phi}₀         1 ⎥\n",
       "⎢                                           ⎥\n",
       "⎢       2                                  2⎥\n",
       "⎣  \\phi₀ ⋅\\tilde{\\phi}₀⋅\\tilde{\\phi}₁     L ⎦"
      ]
     },
     "execution_count": 14,
     "metadata": {},
     "output_type": "execute_result"
    }
   ],
   "source": [
    "FT.interpret_couplings(interactions, l_power_dim=4)"
   ]
  },
  {
   "cell_type": "code",
   "execution_count": 15,
   "metadata": {},
   "outputs": [],
   "source": [
    "#we can create a bunch of theories by permuting dimensionless couplings given the input known field dimensions and all terms\n",
    "cs  = ftheory.theories(interactions, new_couplings)"
   ]
  },
  {
   "cell_type": "code",
   "execution_count": 16,
   "metadata": {},
   "outputs": [
    {
     "data": {
      "text/latex": [
       "$$\\left[\\begin{matrix}- d + 2 & -2 & - d + 4 & -4\\\\- d & 0 & - d + 2 & -2\\\\-2 & - d + 2 & 0 & - d\\\\- d & 0 & - d + 2 & -2\\\\-4 & - d + 4 & -2 & - d + 2\\\\- d + 2 & -2 & - d + 2 & -2\\\\- d + 2 & -2 & - d & 0\\\\- d + 2 & -2 & - 2 d + 4 & d - 4\\\\- d + 2 & -2 & -2 & - d + 2\\\\- d + 2 & -2 & - 2 d + 4 & d - 4\\\\-2 & - d + 2 & - d + 2 & -2\\\\- d & 0 & - d + 2 & -2\\\\0 & - d & - d + 2 & -2\\\\0 & - d & - d + 2 & -2\\\\-2 & - d + 2 & - 2 d + 4 & d - 4\\\\-2 & - d + 2 & - d & 0\\\\-2 & - d + 2 & -2 & - d + 2\\\\-2 & - d + 2 & - d & 0\\\\- d & - d & - 2 d + 2 & -2\\\\- 2 d + 4 & d - 4 & -2 & - d + 2\\\\- d & - d & - 2 d + 2 & -2\\\\d - 4 & - 2 d + 4 & -2 & - d + 2\\\\d - 4 & - 2 d + 4 & -2 & - d + 2\\end{matrix}\\right]$$"
      ],
      "text/plain": [
       "⎡ -d + 2      -2      -d + 4     -4  ⎤\n",
       "⎢                                    ⎥\n",
       "⎢   -d        0       -d + 2     -2  ⎥\n",
       "⎢                                    ⎥\n",
       "⎢   -2      -d + 2      0        -d  ⎥\n",
       "⎢                                    ⎥\n",
       "⎢   -d        0       -d + 2     -2  ⎥\n",
       "⎢                                    ⎥\n",
       "⎢   -4      -d + 4      -2     -d + 2⎥\n",
       "⎢                                    ⎥\n",
       "⎢ -d + 2      -2      -d + 2     -2  ⎥\n",
       "⎢                                    ⎥\n",
       "⎢ -d + 2      -2        -d       0   ⎥\n",
       "⎢                                    ⎥\n",
       "⎢ -d + 2      -2     -2⋅d + 4  d - 4 ⎥\n",
       "⎢                                    ⎥\n",
       "⎢ -d + 2      -2        -2     -d + 2⎥\n",
       "⎢                                    ⎥\n",
       "⎢ -d + 2      -2     -2⋅d + 4  d - 4 ⎥\n",
       "⎢                                    ⎥\n",
       "⎢   -2      -d + 2    -d + 2     -2  ⎥\n",
       "⎢                                    ⎥\n",
       "⎢   -d        0       -d + 2     -2  ⎥\n",
       "⎢                                    ⎥\n",
       "⎢   0         -d      -d + 2     -2  ⎥\n",
       "⎢                                    ⎥\n",
       "⎢   0         -d      -d + 2     -2  ⎥\n",
       "⎢                                    ⎥\n",
       "⎢   -2      -d + 2   -2⋅d + 4  d - 4 ⎥\n",
       "⎢                                    ⎥\n",
       "⎢   -2      -d + 2      -d       0   ⎥\n",
       "⎢                                    ⎥\n",
       "⎢   -2      -d + 2      -2     -d + 2⎥\n",
       "⎢                                    ⎥\n",
       "⎢   -2      -d + 2      -d       0   ⎥\n",
       "⎢                                    ⎥\n",
       "⎢   -d        -d     -2⋅d + 2    -2  ⎥\n",
       "⎢                                    ⎥\n",
       "⎢-2⋅d + 4   d - 4       -2     -d + 2⎥\n",
       "⎢                                    ⎥\n",
       "⎢   -d        -d     -2⋅d + 2    -2  ⎥\n",
       "⎢                                    ⎥\n",
       "⎢ d - 4    -2⋅d + 4     -2     -d + 2⎥\n",
       "⎢                                    ⎥\n",
       "⎣ d - 4    -2⋅d + 4     -2     -d + 2⎦"
      ]
     },
     "execution_count": 16,
     "metadata": {},
     "output_type": "execute_result"
    }
   ],
   "source": [
    "#we can display a matrix for all theories for the values of the fields \\phi_0, \\tilde{\\phi}_0, \\phi_1, \\tilde{\\phi_1}\n",
    "ftheory.matrices(cs).general_form"
   ]
  },
  {
   "cell_type": "code",
   "execution_count": 17,
   "metadata": {},
   "outputs": [
    {
     "data": {
      "text/latex": [
       "$$\\left[\\begin{matrix}2 & 2 & 0 & 4 & -6\\\\4 & 0 & 2 & 2 & -6\\\\2 & 2 & 0 & 4 & -6\\\\4 & 0 & 2 & 2 & -6\\\\4 & 0 & 2 & 2 & -6\\\\2 & 2 & 2 & 2 & -6\\\\2 & 2 & 4 & 0 & -6\\\\2 & 2 & 4 & 0 & -6\\\\2 & 2 & 2 & 2 & -6\\\\2 & 2 & 4 & 0 & -6\\\\2 & 2 & 2 & 2 & -6\\\\4 & 0 & 2 & 2 & -6\\\\0 & 4 & 2 & 2 & -6\\\\0 & 4 & 2 & 2 & -6\\\\2 & 2 & 4 & 0 & -6\\\\2 & 2 & 4 & 0 & -6\\\\2 & 2 & 2 & 2 & -6\\\\2 & 2 & 4 & 0 & -6\\\\4 & 4 & 6 & 2 & -6\\\\4 & 0 & 2 & 2 & -6\\\\4 & 4 & 6 & 2 & -6\\\\0 & 4 & 2 & 2 & -6\\\\0 & 4 & 2 & 2 & -6\\end{matrix}\\right]$$"
      ],
      "text/plain": [
       "⎡2  2  0  4  -6⎤\n",
       "⎢              ⎥\n",
       "⎢4  0  2  2  -6⎥\n",
       "⎢              ⎥\n",
       "⎢2  2  0  4  -6⎥\n",
       "⎢              ⎥\n",
       "⎢4  0  2  2  -6⎥\n",
       "⎢              ⎥\n",
       "⎢4  0  2  2  -6⎥\n",
       "⎢              ⎥\n",
       "⎢2  2  2  2  -6⎥\n",
       "⎢              ⎥\n",
       "⎢2  2  4  0  -6⎥\n",
       "⎢              ⎥\n",
       "⎢2  2  4  0  -6⎥\n",
       "⎢              ⎥\n",
       "⎢2  2  2  2  -6⎥\n",
       "⎢              ⎥\n",
       "⎢2  2  4  0  -6⎥\n",
       "⎢              ⎥\n",
       "⎢2  2  2  2  -6⎥\n",
       "⎢              ⎥\n",
       "⎢4  0  2  2  -6⎥\n",
       "⎢              ⎥\n",
       "⎢0  4  2  2  -6⎥\n",
       "⎢              ⎥\n",
       "⎢0  4  2  2  -6⎥\n",
       "⎢              ⎥\n",
       "⎢2  2  4  0  -6⎥\n",
       "⎢              ⎥\n",
       "⎢2  2  4  0  -6⎥\n",
       "⎢              ⎥\n",
       "⎢2  2  2  2  -6⎥\n",
       "⎢              ⎥\n",
       "⎢2  2  4  0  -6⎥\n",
       "⎢              ⎥\n",
       "⎢4  4  6  2  -6⎥\n",
       "⎢              ⎥\n",
       "⎢4  0  2  2  -6⎥\n",
       "⎢              ⎥\n",
       "⎢4  4  6  2  -6⎥\n",
       "⎢              ⎥\n",
       "⎢0  4  2  2  -6⎥\n",
       "⎢              ⎥\n",
       "⎣0  4  2  2  -6⎦"
      ]
     },
     "execution_count": 17,
     "metadata": {},
     "output_type": "execute_result"
    }
   ],
   "source": [
    "#and we can evalaute the values at a certain d, last column is the inverse measure L^dT^1 with T=L^2 at d=d_c\n",
    "ftheory.matrices(cs).criterion(4)"
   ]
  },
  {
   "cell_type": "code",
   "execution_count": 20,
   "metadata": {},
   "outputs": [],
   "source": [
    "from scipy.special import factorial\n",
    "import pandas as pd\n",
    "import numpy as np\n",
    "#generate all diagrams and there sym factors at tree level and one loop\n",
    "#todo in future make this work for proper group-group operation - just need to fix a few places in constructor and co/product\n",
    "\n",
    "class composition_diagram():\n",
    "    def __init__(self, ci, compact=False):\n",
    "        self.v,self.e = ci.graph_dataframes()\n",
    "        self.default_offset = 30\n",
    "        self.default_edge_x_off = 10     \n",
    "        self.tensor = ci.tensor.copy()\n",
    "        self.edges =ci.edges\n",
    "        self.compact = compact \n",
    "        self.length = self.tensor.shape[0]\n",
    "        self.__make_svg__()\n",
    "    \n",
    "    def partitions(self,  l, spacing=10,baseline=50):\n",
    "        shift = ((l + 1) * spacing ) / 2\n",
    "        for i in range(l):  yield int(((i+1)*spacing+baseline)-shift)\n",
    "\n",
    "    def edges_to_stubs(self):  \n",
    "        for i,k in self.e.iterrows():\n",
    "            if k[\"internal\"]:    \n",
    "                edge = np.array([k[\"source\"],k[\"target\"]])#this can be confusing- there is directionality versus connectivity\n",
    "                d = dict(k)\n",
    "                d[\"id\"], d[\"in\"], d[\"vid\"] = i,True, edge.max()\n",
    "                yield d\n",
    "                d = dict(k)\n",
    "                d[\"id\"], d[\"in\"], d[\"vid\"] = i,False, edge.min()\n",
    "                yield d\n",
    "            else:\n",
    "                d = dict(k)\n",
    "                source, direction = k[\"source\"], False\n",
    "                if source < 0: source, direction = k[\"target\"], True\n",
    "                d[\"id\"], d[\"in\"], d[\"vid\"] = i,direction,source\n",
    "                yield d\n",
    "\n",
    "    def generate_coords(self,major_offset=50, minor_spacing=10,baseline=50):\n",
    "        v,e = self.v,self.e\n",
    "        centers = list(reversed([20+i*major_offset for i in range(len(v))]))#from left to right draw backwards\n",
    "        v[\"x\"], v[\"y\"]  = centers, baseline    \n",
    "        #add all the stubs\n",
    "        newVs = []\n",
    "        for i,k in v.iterrows():\n",
    "            internals = k[\"degree_in\"]\n",
    "            externals = k[\"degree_out\"]\n",
    "            #todo add species to these, do we know if they are internal or not, can we draw edges - well \n",
    "            for p in self.partitions(internals, spacing=minor_spacing, baseline=baseline):\n",
    "                newVs.append({ \"x\": centers[i]+minor_spacing, \"y\": p, \"in\": True, \"vid\":i})\n",
    "            for p in self.partitions(externals, spacing=minor_spacing, baseline=baseline):\n",
    "                newVs.append({ \"x\": centers[i]-minor_spacing, \"y\": p, \"in\": False, \"vid\":i})\n",
    "        stubs = pd.DataFrame(newVs)\n",
    "        stubs[\"rank\"]= stubs.reset_index().groupby([\"vid\", \"in\"]).rank(method=\"min\")[\"index\"].astype(int)\n",
    "        estubs = pd.DataFrame(self.edges_to_stubs())\n",
    "        estubs[\"rank\"]= estubs.reset_index().groupby([\"vid\", \"in\"]).rank(method=\"min\")[\"index\"].astype(int)\n",
    "        stubs = pd.merge(estubs,stubs, on=[\"in\", \"vid\", \"rank\"], how='inner') \n",
    "        return v, stubs, None\n",
    "\n",
    "    @property\n",
    "    def body(self):\n",
    "        return self._body\n",
    "        \n",
    "    def __repr__(self):\n",
    "        return  \"\"\"<svg xmlns=\"http://www.w3.org/2000/svg\" xmlns:xlink=\"http://www.w3.org/1999/xlink\" version=\"1.1\" x=\"0\" y=\"0\" width=\"1240\" height=\"120\">\n",
    "      <g fill=\"none\" stroke=\"black\" stroke-width=\"1.6\" stroke-linecap=\"round\"> {0}  </g> </svg>\"\"\".format(self.body)\n",
    "    \n",
    "    def _repr_html_(self): \n",
    "        return str(self)\n",
    "    \n",
    "    def symmetric_offsets(self, l, offset=70):\n",
    "        return [offset-20+20*i for i in range(l)]\n",
    "    \n",
    "    def draw_line(self, pts, colour, style=None):\n",
    "        self._body+= \"\"\"<line x1=\"{0}\" y1=\"{1}\" x2=\"{2}\" y2=\"{3}\" stroke=\"{4}\" stroke-width:2\" />\"\"\".format(*pts, colour)\n",
    "        \n",
    "    #todo - i should do the body in relative coords so that i can place lots of diagrams in the picture\n",
    "    def __make_svg__(self):\n",
    "        self._body = \"\"\n",
    "        colours = [\"green\", \"blue\", \"red\"]\n",
    "        vertices,stubs,links = self.generate_coords() \n",
    "        vertices_coords = []\n",
    "        #the original vertex cores are drawn on the horizontal\n",
    "        for i,k in vertices.iterrows():\n",
    "            vertices_coords.append([k[\"x\"], k[\"y\"]])\n",
    "            self._body +=\"\"\"<circle cx=\"{0}\" cy=\"{1}\" r=\"2\" stroke=\"black\" stroke-width=\"1\" fill=\"black\" /> \"\"\".\\\n",
    "            format(k[\"x\"], k[\"y\"])\n",
    "        #we draw stubs from the original vertex which are connection points\n",
    "        for i,k in stubs.iterrows():\n",
    "            colour = colours[k[\"species\"]]\n",
    "            self._body +=\"\"\"<circle cx=\"{0}\" cy=\"{1}\" r=\"2\" stroke=\"{3}\" stroke-width=\"1\" {2} /> \"\"\".\\\n",
    "            format(k[\"x\"], k[\"y\"], \"\" if k[\"in\"] else \"fill='{}'\".format(colour), colour)\n",
    "        #draw edges - the edge id is the grouping - internal edges should be paired up neatly\n",
    "        for i,grp in stubs.groupby(\"id\"):\n",
    "            l = len(grp)\n",
    "            head = dict(grp.iloc[0])\n",
    "            self.draw_line([head[\"x\"], head[\"y\"], *vertices_coords[head[\"vid\"]]],colours[head[\"species\"]], \"solid\",)\n",
    "            if l == 2: #internal edges\n",
    "                tail = dict(grp.iloc[-1])\n",
    "                self.draw_line([head[\"x\"], head[\"y\"], tail[\"x\"], tail[\"y\"]],colours[head[\"species\"]], \"dashed\",)\n",
    "                self.draw_line([tail[\"x\"], tail[\"y\"], *vertices_coords[tail[\"vid\"]]],colours[tail[\"species\"]], \"solid\",)\n",
    "               \n",
    "                "
   ]
  },
  {
   "cell_type": "code",
   "execution_count": 30,
   "metadata": {},
   "outputs": [
    {
     "data": {
      "text/html": [
       "<svg xmlns=\"http://www.w3.org/2000/svg\" xmlns:xlink=\"http://www.w3.org/1999/xlink\" version=\"1.1\" x=\"0\" y=\"0\" width=\"1240\" height=\"120\">\n",
       "      <g fill=\"none\" stroke=\"black\" stroke-width=\"1.6\" stroke-linecap=\"round\"> <circle cx=\"70\" cy=\"50\" r=\"2\" stroke=\"black\" stroke-width=\"1\" fill=\"black\" /> <circle cx=\"20\" cy=\"50\" r=\"2\" stroke=\"black\" stroke-width=\"1\" fill=\"black\" /> <circle cx=\"30\" cy=\"45\" r=\"2\" stroke=\"green\" stroke-width=\"1\"  /> <circle cx=\"60\" cy=\"45\" r=\"2\" stroke=\"green\" stroke-width=\"1\" fill='green' /> <circle cx=\"30\" cy=\"55\" r=\"2\" stroke=\"green\" stroke-width=\"1\"  /> <circle cx=\"60\" cy=\"55\" r=\"2\" stroke=\"green\" stroke-width=\"1\" fill='green' /> <circle cx=\"10\" cy=\"50\" r=\"2\" stroke=\"green\" stroke-width=\"1\" fill='green' /> <circle cx=\"80\" cy=\"50\" r=\"2\" stroke=\"green\" stroke-width=\"1\"  /> <line x1=\"30\" y1=\"45\" x2=\"20\" y2=\"50\" stroke=\"green\" stroke-width:2\" /><line x1=\"30\" y1=\"45\" x2=\"60\" y2=\"45\" stroke=\"green\" stroke-width:2\" /><line x1=\"60\" y1=\"45\" x2=\"70\" y2=\"50\" stroke=\"green\" stroke-width:2\" /><line x1=\"30\" y1=\"55\" x2=\"20\" y2=\"50\" stroke=\"green\" stroke-width:2\" /><line x1=\"30\" y1=\"55\" x2=\"60\" y2=\"55\" stroke=\"green\" stroke-width:2\" /><line x1=\"60\" y1=\"55\" x2=\"70\" y2=\"50\" stroke=\"green\" stroke-width:2\" /><line x1=\"10\" y1=\"50\" x2=\"20\" y2=\"50\" stroke=\"green\" stroke-width:2\" /><line x1=\"80\" y1=\"50\" x2=\"70\" y2=\"50\" stroke=\"green\" stroke-width:2\" />  </g> </svg>"
      ],
      "text/plain": [
       "<svg xmlns=\"http://www.w3.org/2000/svg\" xmlns:xlink=\"http://www.w3.org/1999/xlink\" version=\"1.1\" x=\"0\" y=\"0\" width=\"1240\" height=\"120\">\n",
       "      <g fill=\"none\" stroke=\"black\" stroke-width=\"1.6\" stroke-linecap=\"round\"> <circle cx=\"70\" cy=\"50\" r=\"2\" stroke=\"black\" stroke-width=\"1\" fill=\"black\" /> <circle cx=\"20\" cy=\"50\" r=\"2\" stroke=\"black\" stroke-width=\"1\" fill=\"black\" /> <circle cx=\"30\" cy=\"45\" r=\"2\" stroke=\"green\" stroke-width=\"1\"  /> <circle cx=\"60\" cy=\"45\" r=\"2\" stroke=\"green\" stroke-width=\"1\" fill='green' /> <circle cx=\"30\" cy=\"55\" r=\"2\" stroke=\"green\" stroke-width=\"1\"  /> <circle cx=\"60\" cy=\"55\" r=\"2\" stroke=\"green\" stroke-width=\"1\" fill='green' /> <circle cx=\"10\" cy=\"50\" r=\"2\" stroke=\"green\" stroke-width=\"1\" fill='green' /> <circle cx=\"80\" cy=\"50\" r=\"2\" stroke=\"green\" stroke-width=\"1\"  /> <line x1=\"30\" y1=\"45\" x2=\"20\" y2=\"50\" stroke=\"green\" stroke-width:2\" /><line x1=\"30\" y1=\"45\" x2=\"60\" y2=\"45\" stroke=\"green\" stroke-width:2\" /><line x1=\"60\" y1=\"45\" x2=\"70\" y2=\"50\" stroke=\"green\" stroke-width:2\" /><line x1=\"30\" y1=\"55\" x2=\"20\" y2=\"50\" stroke=\"green\" stroke-width:2\" /><line x1=\"30\" y1=\"55\" x2=\"60\" y2=\"55\" stroke=\"green\" stroke-width:2\" /><line x1=\"60\" y1=\"55\" x2=\"70\" y2=\"50\" stroke=\"green\" stroke-width:2\" /><line x1=\"10\" y1=\"50\" x2=\"20\" y2=\"50\" stroke=\"green\" stroke-width:2\" /><line x1=\"80\" y1=\"50\" x2=\"70\" y2=\"50\" stroke=\"green\" stroke-width:2\" />  </g> </svg>"
      ]
     },
     "execution_count": 30,
     "metadata": {},
     "output_type": "execute_result"
    }
   ],
   "source": [
    "#im going to use the dataframes to load all the information in the graph in tabular format and then I can transform it and generate graphic, assigning to to specific entities with UIDs\n",
    "#todo - better layout code and add some arcs between \n",
    "#should be able to reuse the diagram code except we draw dotted lines for edges and normal for everything else + A) add the plugs and B) arcs between them for edges \n",
    "#so we need an ordered set of vertices, with external and internals distinguished    (Internal, External) - angles computed on sum but styles come from others\n",
    "#then the edges can be straight connectors but there needs to be a state machine or a countdown or something - should mark backflows\n",
    "#the components should look like the amputated vertices\n",
    "#generate and display all compositions\n",
    "B = G(branching)\n",
    "C = G(coagulation)\n",
    "TR = G(transmutation)\n",
    "J1 = G(j)\n",
    "C=composition_diagram(B*C)\n",
    "C"
   ]
  },
  {
   "cell_type": "code",
   "execution_count": 45,
   "metadata": {},
   "outputs": [
    {
     "data": {
      "text/html": [
       "<svg xmlns=\"http://www.w3.org/2000/svg\" xmlns:xlink=\"http://www.w3.org/1999/xlink\" version=\"1.1\" x=\"0\" y=\"0\" width=\"240\" height=\"120\">\n",
       "      <g fill=\"none\" stroke=\"black\" stroke-width=\"1.6\" stroke-linecap=\"round\">\n",
       "         <line x1=\"0\" y1=\"0\" x2=\"40\" y2=\"0\" stroke=\"red\" stroke-dasharray=\"None\" stroke-width:2\" transform=\" translate(80,50) rotate(0.0 0, 0 )\" />  <line x1=\"0\" y1=\"0\" x2=\"40\" y2=\"0\" stroke=\"red\" stroke-dasharray=\"None\" stroke-width:2\" transform=\" translate(80,50) rotate(-210.0 0, 0 )\" />  <path d=\"M 0,0 C 2,-3.142 3,-5 5,-5 S 8,-3.142 10,0 S 13,5 15,5 S 18,3.142 20,0 C 22,-3.142 23,-5 25,-5 S 28,-3.142 30,0 S 33,5 35,5 S 38,3.142 40,0\" \n",
       "                       stroke=\"black\" stroke-dasharray=\"None\" stroke-width:2\" transform=\" translate(80,50) rotate(-150.0 0, 0 )\" /> \n",
       "      </g>\n",
       "      <circle cx=\"80\" cy=\"50\" r=\"2\" stroke=\"black\" stroke-width=\"1\" fill=\"black\" />\n",
       "    </svg>"
      ],
      "text/plain": [
       "<svg xmlns=\"http://www.w3.org/2000/svg\" xmlns:xlink=\"http://www.w3.org/1999/xlink\" version=\"1.1\" x=\"0\" y=\"0\" width=\"240\" height=\"120\">\n",
       "      <g fill=\"none\" stroke=\"black\" stroke-width=\"1.6\" stroke-linecap=\"round\">\n",
       "         <line x1=\"0\" y1=\"0\" x2=\"40\" y2=\"0\" stroke=\"red\" stroke-dasharray=\"None\" stroke-width:2\" transform=\" translate(80,50) rotate(0.0 0, 0 )\" />  <line x1=\"0\" y1=\"0\" x2=\"40\" y2=\"0\" stroke=\"red\" stroke-dasharray=\"None\" stroke-width:2\" transform=\" translate(80,50) rotate(-210.0 0, 0 )\" />  <path d=\"M 0,0 C 2,-3.142 3,-5 5,-5 S 8,-3.142 10,0 S 13,5 15,5 S 18,3.142 20,0 C 22,-3.142 23,-5 25,-5 S 28,-3.142 30,0 S 33,5 35,5 S 38,3.142 40,0\" \n",
       "                       stroke=\"black\" stroke-dasharray=\"None\" stroke-width:2\" transform=\" translate(80,50) rotate(-150.0 0, 0 )\" /> \n",
       "      </g>\n",
       "      <circle cx=\"80\" cy=\"50\" r=\"2\" stroke=\"black\" stroke-width=\"1\" fill=\"black\" />\n",
       "    </svg>"
      ]
     },
     "execution_count": 45,
     "metadata": {},
     "output_type": "execute_result"
    }
   ],
   "source": [
    "res = G(branching)*G(transmutation) \n",
    "res.residual_interaction.diagram"
   ]
  },
  {
   "cell_type": "code",
   "execution_count": 47,
   "metadata": {},
   "outputs": [
    {
     "data": {
      "text/html": [
       "<div>\n",
       "<style>\n",
       "    .dataframe thead tr:only-child th {\n",
       "        text-align: right;\n",
       "    }\n",
       "\n",
       "    .dataframe thead th {\n",
       "        text-align: left;\n",
       "    }\n",
       "\n",
       "    .dataframe tbody tr th {\n",
       "        vertical-align: top;\n",
       "    }\n",
       "</style>\n",
       "<table border=\"1\" class=\"dataframe\">\n",
       "  <thead>\n",
       "    <tr style=\"text-align: right;\">\n",
       "      <th></th>\n",
       "      <th>degree_in</th>\n",
       "      <th>degree_out</th>\n",
       "      <th>external_legs</th>\n",
       "      <th>internal_legs</th>\n",
       "      <th>species0_in</th>\n",
       "      <th>species0_out</th>\n",
       "      <th>species1_in</th>\n",
       "      <th>species1_out</th>\n",
       "      <th>type</th>\n",
       "    </tr>\n",
       "  </thead>\n",
       "  <tbody>\n",
       "    <tr>\n",
       "      <th>0</th>\n",
       "      <td>1</td>\n",
       "      <td>2</td>\n",
       "      <td>2</td>\n",
       "      <td>1</td>\n",
       "      <td>1</td>\n",
       "      <td>2</td>\n",
       "      <td>0</td>\n",
       "      <td>0</td>\n",
       "      <td>source</td>\n",
       "    </tr>\n",
       "    <tr>\n",
       "      <th>1</th>\n",
       "      <td>1</td>\n",
       "      <td>1</td>\n",
       "      <td>1</td>\n",
       "      <td>1</td>\n",
       "      <td>1</td>\n",
       "      <td>0</td>\n",
       "      <td>0</td>\n",
       "      <td>1</td>\n",
       "      <td>sink</td>\n",
       "    </tr>\n",
       "  </tbody>\n",
       "</table>\n",
       "</div>"
      ],
      "text/plain": [
       "   degree_in  degree_out  external_legs  internal_legs  species0_in  \\\n",
       "0          1           2              2              1            1   \n",
       "1          1           1              1              1            1   \n",
       "\n",
       "   species0_out  species1_in  species1_out    type  \n",
       "0             2            0             0  source  \n",
       "1             0            0             1    sink  "
      ]
     },
     "execution_count": 47,
     "metadata": {},
     "output_type": "execute_result"
    }
   ],
   "source": [
    "a,b = res.graph_dataframes()\n",
    "a"
   ]
  },
  {
   "cell_type": "code",
   "execution_count": 48,
   "metadata": {},
   "outputs": [
    {
     "data": {
      "text/html": [
       "<div>\n",
       "<style>\n",
       "    .dataframe thead tr:only-child th {\n",
       "        text-align: right;\n",
       "    }\n",
       "\n",
       "    .dataframe thead th {\n",
       "        text-align: left;\n",
       "    }\n",
       "\n",
       "    .dataframe tbody tr th {\n",
       "        vertical-align: top;\n",
       "    }\n",
       "</style>\n",
       "<table border=\"1\" class=\"dataframe\">\n",
       "  <thead>\n",
       "    <tr style=\"text-align: right;\">\n",
       "      <th></th>\n",
       "      <th>internal</th>\n",
       "      <th>is_backflow</th>\n",
       "      <th>source</th>\n",
       "      <th>species</th>\n",
       "      <th>target</th>\n",
       "    </tr>\n",
       "  </thead>\n",
       "  <tbody>\n",
       "    <tr>\n",
       "      <th>0</th>\n",
       "      <td>True</td>\n",
       "      <td>False</td>\n",
       "      <td>0</td>\n",
       "      <td>0</td>\n",
       "      <td>1</td>\n",
       "    </tr>\n",
       "    <tr>\n",
       "      <th>1</th>\n",
       "      <td>False</td>\n",
       "      <td>False</td>\n",
       "      <td>1</td>\n",
       "      <td>0</td>\n",
       "      <td>-1</td>\n",
       "    </tr>\n",
       "    <tr>\n",
       "      <th>2</th>\n",
       "      <td>False</td>\n",
       "      <td>False</td>\n",
       "      <td>-1</td>\n",
       "      <td>0</td>\n",
       "      <td>0</td>\n",
       "    </tr>\n",
       "    <tr>\n",
       "      <th>3</th>\n",
       "      <td>False</td>\n",
       "      <td>False</td>\n",
       "      <td>1</td>\n",
       "      <td>1</td>\n",
       "      <td>-1</td>\n",
       "    </tr>\n",
       "  </tbody>\n",
       "</table>\n",
       "</div>"
      ],
      "text/plain": [
       "   internal  is_backflow  source  species  target\n",
       "0      True        False       0        0       1\n",
       "1     False        False       1        0      -1\n",
       "2     False        False      -1        0       0\n",
       "3     False        False       1        1      -1"
      ]
     },
     "execution_count": 48,
     "metadata": {},
     "output_type": "execute_result"
    }
   ],
   "source": [
    "b"
   ]
  },
  {
   "cell_type": "code",
   "execution_count": null,
   "metadata": {
    "collapsed": true
   },
   "outputs": [],
   "source": [
    "a\n"
   ]
  },
  {
   "cell_type": "code",
   "execution_count": 31,
   "metadata": {},
   "outputs": [
    {
     "data": {
      "text/html": [
       "<svg xmlns=\"http://www.w3.org/2000/svg\" xmlns:xlink=\"http://www.w3.org/1999/xlink\" version=\"1.1\" x=\"0\" y=\"0\" width=\"1240\" height=\"120\">\n",
       "      <g fill=\"none\" stroke=\"black\" stroke-width=\"1.6\" stroke-linecap=\"round\"> <circle cx=\"70\" cy=\"50\" r=\"2\" stroke=\"black\" stroke-width=\"1\" fill=\"black\" /> <circle cx=\"20\" cy=\"50\" r=\"2\" stroke=\"black\" stroke-width=\"1\" fill=\"black\" /> <circle cx=\"30\" cy=\"50\" r=\"2\" stroke=\"green\" stroke-width=\"1\"  /> <circle cx=\"60\" cy=\"45\" r=\"2\" stroke=\"green\" stroke-width=\"1\" fill='green' /> <circle cx=\"10\" cy=\"50\" r=\"2\" stroke=\"green\" stroke-width=\"1\" fill='green' /> <circle cx=\"80\" cy=\"50\" r=\"2\" stroke=\"green\" stroke-width=\"1\"  /> <line x1=\"30\" y1=\"50\" x2=\"20\" y2=\"50\" stroke=\"green\" stroke-width:2\" /><line x1=\"30\" y1=\"50\" x2=\"60\" y2=\"45\" stroke=\"green\" stroke-width:2\" /><line x1=\"60\" y1=\"45\" x2=\"70\" y2=\"50\" stroke=\"green\" stroke-width:2\" /><line x1=\"10\" y1=\"50\" x2=\"20\" y2=\"50\" stroke=\"green\" stroke-width:2\" /><line x1=\"80\" y1=\"50\" x2=\"70\" y2=\"50\" stroke=\"green\" stroke-width:2\" />  </g> </svg>"
      ],
      "text/plain": [
       "<svg xmlns=\"http://www.w3.org/2000/svg\" xmlns:xlink=\"http://www.w3.org/1999/xlink\" version=\"1.1\" x=\"0\" y=\"0\" width=\"1240\" height=\"120\">\n",
       "      <g fill=\"none\" stroke=\"black\" stroke-width=\"1.6\" stroke-linecap=\"round\"> <circle cx=\"70\" cy=\"50\" r=\"2\" stroke=\"black\" stroke-width=\"1\" fill=\"black\" /> <circle cx=\"20\" cy=\"50\" r=\"2\" stroke=\"black\" stroke-width=\"1\" fill=\"black\" /> <circle cx=\"30\" cy=\"50\" r=\"2\" stroke=\"green\" stroke-width=\"1\"  /> <circle cx=\"60\" cy=\"45\" r=\"2\" stroke=\"green\" stroke-width=\"1\" fill='green' /> <circle cx=\"10\" cy=\"50\" r=\"2\" stroke=\"green\" stroke-width=\"1\" fill='green' /> <circle cx=\"80\" cy=\"50\" r=\"2\" stroke=\"green\" stroke-width=\"1\"  /> <line x1=\"30\" y1=\"50\" x2=\"20\" y2=\"50\" stroke=\"green\" stroke-width:2\" /><line x1=\"30\" y1=\"50\" x2=\"60\" y2=\"45\" stroke=\"green\" stroke-width:2\" /><line x1=\"60\" y1=\"45\" x2=\"70\" y2=\"50\" stroke=\"green\" stroke-width:2\" /><line x1=\"10\" y1=\"50\" x2=\"20\" y2=\"50\" stroke=\"green\" stroke-width:2\" /><line x1=\"80\" y1=\"50\" x2=\"70\" y2=\"50\" stroke=\"green\" stroke-width:2\" />  </g> </svg>"
      ]
     },
     "execution_count": 31,
     "metadata": {},
     "output_type": "execute_result"
    }
   ],
   "source": [
    "composition_diagram(G(branching)*G(transmutation))"
   ]
  },
  {
   "cell_type": "code",
   "execution_count": 40,
   "metadata": {},
   "outputs": [],
   "source": [
    "#(branching*transmutation).diagram"
   ]
  },
  {
   "cell_type": "code",
   "execution_count": null,
   "metadata": {
    "collapsed": true
   },
   "outputs": [],
   "source": [
    "#IS.__display_couplings__()"
   ]
  },
  {
   "cell_type": "code",
   "execution_count": null,
   "metadata": {
    "collapsed": true
   },
   "outputs": [],
   "source": [
    "#IS.__display_interaction_dims__()"
   ]
  },
  {
   "cell_type": "markdown",
   "metadata": {
    "collapsed": true
   },
   "source": [
    "# Additional tree-level diagrams"
   ]
  },
  {
   "cell_type": "code",
   "execution_count": null,
   "metadata": {
    "collapsed": true
   },
   "outputs": [],
   "source": [
    "#do permutations of some order with an and-reduction plus validation. if the pairings greater than 1, set is loop and dont yield for this order\n",
    "compound_interaction(branching,coagulation)"
   ]
  },
  {
   "cell_type": "code",
   "execution_count": null,
   "metadata": {
    "collapsed": true
   },
   "outputs": [],
   "source": [
    "(j&transmutation&branching).diagram"
   ]
  },
  {
   "cell_type": "code",
   "execution_count": null,
   "metadata": {
    "collapsed": true
   },
   "outputs": [],
   "source": [
    "prims = [j, transmutation, coagulation, branching]\n",
    "L = compound_interaction.combinations(prims, loop_orders=[0])\n",
    "L[0]"
   ]
  },
  {
   "cell_type": "markdown",
   "metadata": {},
   "source": [
    "# All 1-loop diagrams"
   ]
  },
  {
   "cell_type": "code",
   "execution_count": null,
   "metadata": {
    "collapsed": true
   },
   "outputs": [],
   "source": [
    "compound_interaction(coagulation, branching)\n",
    "#once we figure out the integrals we can give them values and do z factors"
   ]
  },
  {
   "cell_type": "code",
   "execution_count": null,
   "metadata": {
    "collapsed": true
   },
   "outputs": [],
   "source": [
    "prims = [j, transmutation, coagulation, branching]\n",
    "L = compound_interaction.combinations(prims, loop_orders=[1])\n",
    "L[0]"
   ]
  },
  {
   "cell_type": "code",
   "execution_count": null,
   "metadata": {
    "collapsed": true
   },
   "outputs": [],
   "source": []
  },
  {
   "cell_type": "code",
   "execution_count": null,
   "metadata": {
    "collapsed": true
   },
   "outputs": [],
   "source": []
  }
 ],
 "metadata": {
  "kernelspec": {
   "display_name": "Python 3",
   "language": "python",
   "name": "python3"
  },
  "language_info": {
   "codemirror_mode": {
    "name": "ipython",
    "version": 3
   },
   "file_extension": ".py",
   "mimetype": "text/x-python",
   "name": "python",
   "nbconvert_exporter": "python",
   "pygments_lexer": "ipython3",
   "version": "3.6.3"
  }
 },
 "nbformat": 4,
 "nbformat_minor": 2
}
