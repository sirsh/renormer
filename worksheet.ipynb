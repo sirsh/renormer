{
 "cells": [
  {
   "cell_type": "code",
   "execution_count": 1,
   "metadata": {
    "collapsed": true
   },
   "outputs": [],
   "source": [
    "import rg\n",
    "from rg.interaction import interaction as J\n",
    "from rg.interaction import interaction_system\n",
    "from rg.interaction import compound_interaction\n",
    "from rg.diagrams import diagram"
   ]
  },
  {
   "cell_type": "code",
   "execution_count": 2,
   "metadata": {},
   "outputs": [
    {
     "data": {
      "text/latex": [
       "$\\phi_0 \\phi_1 \\tilde{\\phi}_0$"
      ],
      "text/plain": [
       "$\\phi_0 \\phi_1 \\tilde{\\phi}_0$"
      ]
     },
     "execution_count": 2,
     "metadata": {},
     "output_type": "execute_result"
    }
   ],
   "source": [
    "j = J([ [1,1],  [1,0]] )\n",
    "j"
   ]
  },
  {
   "cell_type": "code",
   "execution_count": 3,
   "metadata": {},
   "outputs": [
    {
     "data": {
      "text/html": [
       "<svg xmlns=\"http://www.w3.org/2000/svg\" xmlns:xlink=\"http://www.w3.org/1999/xlink\" version=\"1.1\" x=\"0\" y=\"0\" width=\"240\" height=\"120\">\n",
       "      <g fill=\"none\" stroke=\"black\" stroke-width=\"1.6\" stroke-linecap=\"round\">\n",
       "         <line x1=\"0\" y1=\"0\" x2=\"40\" y2=\"0\" stroke=\"red\" stroke-dasharray=\"None\" stroke-width:2\" transform=\" translate(80,50) rotate(-30.0 0, 0 )\" />  <path d=\"M 0,0 C 2,-3.142 3,-5 5,-5 S 8,-3.142 10,0 S 13,5 15,5 S 18,3.142 20,0 C 22,-3.142 23,-5 25,-5 S 28,-3.142 30,0 S 33,5 35,5 S 38,3.142 40,0\" \n",
       "                       stroke=\"black\" stroke-dasharray=\"None\" stroke-width:2\" transform=\" translate(80,50) rotate(30.0 0, 0 )\" />  <line x1=\"0\" y1=\"0\" x2=\"40\" y2=\"0\" stroke=\"red\" stroke-dasharray=\"None\" stroke-width:2\" transform=\" translate(80,50) rotate(-180.0 0, 0 )\" /> \n",
       "      </g>\n",
       "      <circle cx=\"80\" cy=\"50\" r=\"2\" stroke=\"black\" stroke-width=\"1\" fill=\"black\" />\n",
       "    </svg>"
      ],
      "text/plain": [
       "<svg xmlns=\"http://www.w3.org/2000/svg\" xmlns:xlink=\"http://www.w3.org/1999/xlink\" version=\"1.1\" x=\"0\" y=\"0\" width=\"240\" height=\"120\">\n",
       "      <g fill=\"none\" stroke=\"black\" stroke-width=\"1.6\" stroke-linecap=\"round\">\n",
       "         <line x1=\"0\" y1=\"0\" x2=\"40\" y2=\"0\" stroke=\"red\" stroke-dasharray=\"None\" stroke-width:2\" transform=\" translate(80,50) rotate(-30.0 0, 0 )\" />  <path d=\"M 0,0 C 2,-3.142 3,-5 5,-5 S 8,-3.142 10,0 S 13,5 15,5 S 18,3.142 20,0 C 22,-3.142 23,-5 25,-5 S 28,-3.142 30,0 S 33,5 35,5 S 38,3.142 40,0\" \n",
       "                       stroke=\"black\" stroke-dasharray=\"None\" stroke-width:2\" transform=\" translate(80,50) rotate(30.0 0, 0 )\" />  <line x1=\"0\" y1=\"0\" x2=\"40\" y2=\"0\" stroke=\"red\" stroke-dasharray=\"None\" stroke-width:2\" transform=\" translate(80,50) rotate(-180.0 0, 0 )\" /> \n",
       "      </g>\n",
       "      <circle cx=\"80\" cy=\"50\" r=\"2\" stroke=\"black\" stroke-width=\"1\" fill=\"black\" />\n",
       "    </svg>"
      ]
     },
     "execution_count": 3,
     "metadata": {},
     "output_type": "execute_result"
    }
   ],
   "source": [
    "j.diagram"
   ]
  },
  {
   "cell_type": "code",
   "execution_count": 14,
   "metadata": {},
   "outputs": [
    {
     "data": {
      "text/html": [
       "<svg xmlns=\"http://www.w3.org/2000/svg\" xmlns:xlink=\"http://www.w3.org/1999/xlink\" version=\"1.1\" x=\"0\" y=\"0\" width=\"240\" height=\"120\">\n",
       "      <g fill=\"none\" stroke=\"black\" stroke-width=\"1.6\" stroke-linecap=\"round\">\n",
       "         <line x1=\"0\" y1=\"0\" x2=\"40\" y2=\"0\" stroke=\"red\" stroke-dasharray=\"None\" stroke-width:2\" transform=\" translate(80,50) rotate(-30.0 0, 0 )\" />  <line x1=\"0\" y1=\"0\" x2=\"40\" y2=\"0\" stroke=\"red\" stroke-dasharray=\"None\" stroke-width:2\" transform=\" translate(80,50) rotate(30.0 0, 0 )\" />  <line x1=\"0\" y1=\"0\" x2=\"40\" y2=\"0\" stroke=\"red\" stroke-dasharray=\"None\" stroke-width:2\" transform=\" translate(80,50) rotate(-180.0 0, 0 )\" /> \n",
       "      </g>\n",
       "      <circle cx=\"80\" cy=\"50\" r=\"2\" stroke=\"black\" stroke-width=\"1\" fill=\"black\" />\n",
       "    </svg>"
      ],
      "text/plain": [
       "<svg xmlns=\"http://www.w3.org/2000/svg\" xmlns:xlink=\"http://www.w3.org/1999/xlink\" version=\"1.1\" x=\"0\" y=\"0\" width=\"240\" height=\"120\">\n",
       "      <g fill=\"none\" stroke=\"black\" stroke-width=\"1.6\" stroke-linecap=\"round\">\n",
       "         <line x1=\"0\" y1=\"0\" x2=\"40\" y2=\"0\" stroke=\"red\" stroke-dasharray=\"None\" stroke-width:2\" transform=\" translate(80,50) rotate(-30.0 0, 0 )\" />  <line x1=\"0\" y1=\"0\" x2=\"40\" y2=\"0\" stroke=\"red\" stroke-dasharray=\"None\" stroke-width:2\" transform=\" translate(80,50) rotate(30.0 0, 0 )\" />  <line x1=\"0\" y1=\"0\" x2=\"40\" y2=\"0\" stroke=\"red\" stroke-dasharray=\"None\" stroke-width:2\" transform=\" translate(80,50) rotate(-180.0 0, 0 )\" /> \n",
       "      </g>\n",
       "      <circle cx=\"80\" cy=\"50\" r=\"2\" stroke=\"black\" stroke-width=\"1\" fill=\"black\" />\n",
       "    </svg>"
      ]
     },
     "execution_count": 14,
     "metadata": {},
     "output_type": "execute_result"
    }
   ],
   "source": [
    "coagulation = J([ [2,1],  [0,0]] )\n",
    "coagulation.diagram"
   ]
  },
  {
   "cell_type": "code",
   "execution_count": 15,
   "metadata": {},
   "outputs": [
    {
     "data": {
      "text/html": [
       "<svg xmlns=\"http://www.w3.org/2000/svg\" xmlns:xlink=\"http://www.w3.org/1999/xlink\" version=\"1.1\" x=\"0\" y=\"0\" width=\"240\" height=\"120\">\n",
       "      <g fill=\"none\" stroke=\"black\" stroke-width=\"1.6\" stroke-linecap=\"round\">\n",
       "         <line x1=\"0\" y1=\"0\" x2=\"40\" y2=\"0\" stroke=\"red\" stroke-dasharray=\"None\" stroke-width:2\" transform=\" translate(80,50) rotate(0.0 0, 0 )\" />  <line x1=\"0\" y1=\"0\" x2=\"40\" y2=\"0\" stroke=\"red\" stroke-dasharray=\"None\" stroke-width:2\" transform=\" translate(80,50) rotate(-210.0 0, 0 )\" />  <line x1=\"0\" y1=\"0\" x2=\"40\" y2=\"0\" stroke=\"red\" stroke-dasharray=\"None\" stroke-width:2\" transform=\" translate(80,50) rotate(-150.0 0, 0 )\" /> \n",
       "      </g>\n",
       "      <circle cx=\"80\" cy=\"50\" r=\"2\" stroke=\"black\" stroke-width=\"1\" fill=\"black\" />\n",
       "    </svg>"
      ],
      "text/plain": [
       "<svg xmlns=\"http://www.w3.org/2000/svg\" xmlns:xlink=\"http://www.w3.org/1999/xlink\" version=\"1.1\" x=\"0\" y=\"0\" width=\"240\" height=\"120\">\n",
       "      <g fill=\"none\" stroke=\"black\" stroke-width=\"1.6\" stroke-linecap=\"round\">\n",
       "         <line x1=\"0\" y1=\"0\" x2=\"40\" y2=\"0\" stroke=\"red\" stroke-dasharray=\"None\" stroke-width:2\" transform=\" translate(80,50) rotate(0.0 0, 0 )\" />  <line x1=\"0\" y1=\"0\" x2=\"40\" y2=\"0\" stroke=\"red\" stroke-dasharray=\"None\" stroke-width:2\" transform=\" translate(80,50) rotate(-210.0 0, 0 )\" />  <line x1=\"0\" y1=\"0\" x2=\"40\" y2=\"0\" stroke=\"red\" stroke-dasharray=\"None\" stroke-width:2\" transform=\" translate(80,50) rotate(-150.0 0, 0 )\" /> \n",
       "      </g>\n",
       "      <circle cx=\"80\" cy=\"50\" r=\"2\" stroke=\"black\" stroke-width=\"1\" fill=\"black\" />\n",
       "    </svg>"
      ]
     },
     "execution_count": 15,
     "metadata": {},
     "output_type": "execute_result"
    }
   ],
   "source": [
    "branching = J([ [1,2],  [0,0]] )\n",
    "branching.diagram"
   ]
  },
  {
   "cell_type": "code",
   "execution_count": 17,
   "metadata": {},
   "outputs": [
    {
     "name": "stdout",
     "output_type": "stream",
     "text": [
      "symmetry factor: 2\n"
     ]
    },
    {
     "data": {
      "text/html": [
       "<svg xmlns=\"http://www.w3.org/2000/svg\" xmlns:xlink=\"http://www.w3.org/1999/xlink\" version=\"1.1\" x=\"0\" y=\"0\" width=\"240\" height=\"120\">\n",
       "      <g fill=\"none\" stroke=\"black\" stroke-width=\"1.6\" stroke-linecap=\"round\">\n",
       "         <line x1=\"0\" y1=\"0\" x2=\"40\" y2=\"0\" stroke=\"red\" stroke-dasharray=\"None\" stroke-width:2\" transform=\" translate(80,50) rotate(0.0 0, 0 )\" />  <line x1=\"0\" y1=\"0\" x2=\"40\" y2=\"0\" stroke=\"red\" stroke-dasharray=\"None\" stroke-width:2\" transform=\" translate(80,50) rotate(-180.0 0, 0 )\" /> \n",
       "      </g>\n",
       "      <circle cx=\"80\" cy=\"50\" r=\"2\" stroke=\"black\" stroke-width=\"1\" fill=\"black\" />\n",
       "    </svg>"
      ],
      "text/plain": [
       "<svg xmlns=\"http://www.w3.org/2000/svg\" xmlns:xlink=\"http://www.w3.org/1999/xlink\" version=\"1.1\" x=\"0\" y=\"0\" width=\"240\" height=\"120\">\n",
       "      <g fill=\"none\" stroke=\"black\" stroke-width=\"1.6\" stroke-linecap=\"round\">\n",
       "         <line x1=\"0\" y1=\"0\" x2=\"40\" y2=\"0\" stroke=\"red\" stroke-dasharray=\"None\" stroke-width:2\" transform=\" translate(80,50) rotate(0.0 0, 0 )\" />  <line x1=\"0\" y1=\"0\" x2=\"40\" y2=\"0\" stroke=\"red\" stroke-dasharray=\"None\" stroke-width:2\" transform=\" translate(80,50) rotate(-180.0 0, 0 )\" /> \n",
       "      </g>\n",
       "      <circle cx=\"80\" cy=\"50\" r=\"2\" stroke=\"black\" stroke-width=\"1\" fill=\"black\" />\n",
       "    </svg>"
      ]
     },
     "execution_count": 17,
     "metadata": {},
     "output_type": "execute_result"
    }
   ],
   "source": [
    "(coagulation&branching).diagram"
   ]
  },
  {
   "cell_type": "code",
   "execution_count": 11,
   "metadata": {},
   "outputs": [
    {
     "name": "stdout",
     "output_type": "stream",
     "text": [
      "symmetry factor: 2\n"
     ]
    },
    {
     "data": {
      "text/html": [
       "<svg xmlns=\"http://www.w3.org/2000/svg\" xmlns:xlink=\"http://www.w3.org/1999/xlink\" version=\"1.1\" x=\"0\" y=\"0\" width=\"240\" height=\"120\">\n",
       "      <g fill=\"none\" stroke=\"black\" stroke-width=\"1.6\" stroke-linecap=\"round\">\n",
       "         <line x1=\"0\" y1=\"0\" x2=\"40\" y2=\"0\" stroke=\"red\" stroke-dasharray=\"None\" stroke-width:2\" transform=\" translate(80,50) rotate(0.0 0, 0 )\" />  <line x1=\"0\" y1=\"0\" x2=\"40\" y2=\"0\" stroke=\"red\" stroke-dasharray=\"None\" stroke-width:2\" transform=\" translate(80,50) rotate(-180.0 0, 0 )\" /> \n",
       "      </g>\n",
       "      <circle cx=\"80\" cy=\"50\" r=\"2\" stroke=\"black\" stroke-width=\"1\" fill=\"black\" />\n",
       "    </svg>"
      ],
      "text/plain": [
       "<svg xmlns=\"http://www.w3.org/2000/svg\" xmlns:xlink=\"http://www.w3.org/1999/xlink\" version=\"1.1\" x=\"0\" y=\"0\" width=\"240\" height=\"120\">\n",
       "      <g fill=\"none\" stroke=\"black\" stroke-width=\"1.6\" stroke-linecap=\"round\">\n",
       "         <line x1=\"0\" y1=\"0\" x2=\"40\" y2=\"0\" stroke=\"red\" stroke-dasharray=\"None\" stroke-width:2\" transform=\" translate(80,50) rotate(0.0 0, 0 )\" />  <line x1=\"0\" y1=\"0\" x2=\"40\" y2=\"0\" stroke=\"red\" stroke-dasharray=\"None\" stroke-width:2\" transform=\" translate(80,50) rotate(-180.0 0, 0 )\" /> \n",
       "      </g>\n",
       "      <circle cx=\"80\" cy=\"50\" r=\"2\" stroke=\"black\" stroke-width=\"1\" fill=\"black\" />\n",
       "    </svg>"
      ]
     },
     "execution_count": 11,
     "metadata": {},
     "output_type": "execute_result"
    }
   ],
   "source": [
    "(J([ [2,1],  [0,0]] ) & J([ [1,2],  [0,0]] )).diagram"
   ]
  },
  {
   "cell_type": "markdown",
   "metadata": {},
   "source": [
    "# Dimensional Analysis"
   ]
  },
  {
   "cell_type": "code",
   "execution_count": null,
   "metadata": {},
   "outputs": [],
   "source": [
    "interactions = [\n",
    " J([[1,1],[0,0]]),\n",
    " J([[0,0],[1,1]]),\n",
    " J([[1,2],[0,0]]),\n",
    " J([[1,0],[0,1]]),\n",
    " J([[1,2],[0,0]]),\n",
    " J([[1,1],[0,1]]),\n",
    " ]\n",
    "\n",
    "IS = interaction_system(interactions)\n",
    "IS.display()"
   ]
  },
  {
   "cell_type": "code",
   "execution_count": null,
   "metadata": {},
   "outputs": [],
   "source": [
    "I = J([ [1,1],  [0,0]] )\n",
    "Lambda = rg.T**(-1) # L**(-1*dim)\n",
    "new_couplings = {I:Lambda,\n",
    "                 J([ [0,0],  [1,1]] ): Lambda,\n",
    "                 J([ [1,2],  [0,0]] ):1,\n",
    "                 J([ [1,1],  [0,1]] ):1,\n",
    "                }\n",
    "IS.reduce(new_couplings)\n",
    "IS.__display_couplings__()"
   ]
  },
  {
   "cell_type": "markdown",
   "metadata": {
    "collapsed": true
   },
   "source": [
    "# All tree Level Diagrams"
   ]
  },
  {
   "cell_type": "code",
   "execution_count": null,
   "metadata": {
    "collapsed": true
   },
   "outputs": [],
   "source": []
  },
  {
   "cell_type": "markdown",
   "metadata": {},
   "source": [
    "# All 1-Loop Diagrams"
   ]
  },
  {
   "cell_type": "code",
   "execution_count": null,
   "metadata": {
    "collapsed": true
   },
   "outputs": [],
   "source": []
  }
 ],
 "metadata": {
  "kernelspec": {
   "display_name": "Python 3",
   "language": "python",
   "name": "python3"
  },
  "language_info": {
   "codemirror_mode": {
    "name": "ipython",
    "version": 3
   },
   "file_extension": ".py",
   "mimetype": "text/x-python",
   "name": "python",
   "nbconvert_exporter": "python",
   "pygments_lexer": "ipython3",
   "version": "3.6.3"
  }
 },
 "nbformat": 4,
 "nbformat_minor": 2
}
